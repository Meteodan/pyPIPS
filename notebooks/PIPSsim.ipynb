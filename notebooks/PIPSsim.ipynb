{
 "cells": [
  {
   "cell_type": "code",
   "execution_count": 1,
   "metadata": {},
   "outputs": [
    {
     "name": "stdout",
     "output_type": "stream",
     "text": [
      "\n",
      "## You are using the Python ARM Radar Toolkit (Py-ART), an open source\n",
      "## library for working with weather radar data. Py-ART is partly\n",
      "## supported by the U.S. Department of Energy as part of the Atmospheric\n",
      "## Radiation Measurement (ARM) Climate Research Facility, an Office of\n",
      "## Science user facility.\n",
      "##\n",
      "## If you use this software to prepare a publication, please cite:\n",
      "##\n",
      "##     JJ Helmus and SM Collis, JORS 2016, doi: 10.5334/jors.119\n",
      "\n"
     ]
    }
   ],
   "source": [
    "import numpy as N\n",
    "import matplotlib\n",
    "import matplotlib.pyplot as plt\n",
    "import matplotlib.cm as cm\n",
    "from datetime import datetime,timedelta\n",
    "import pytz as pytz\n",
    "import sys\n",
    "import os\n",
    "nb_dir = os.path.split(os.getcwd())[0]\n",
    "if nb_dir not in sys.path:\n",
    "    sys.path.append(nb_dir)\n",
    "import modules.thermolib as thermo\n",
    "import modules.DSDlib as dsd\n",
    "import modules.disdrometer_module as dis\n",
    "import pandas as pd\n",
    "import glob\n",
    "import numpy.random as random\n",
    "from scipy.stats import gamma\n",
    "from scipy.special import gamma as gammafunc\n",
    "%matplotlib inline"
   ]
  },
  {
   "cell_type": "code",
   "execution_count": 2,
   "metadata": {
    "collapsed": true
   },
   "outputs": [],
   "source": [
    "# Some global parameters\n",
    "rhoa = 1.0 # kg m^-3\n",
    "cr = 1000.*N.pi/6."
   ]
  },
  {
   "cell_type": "code",
   "execution_count": 31,
   "metadata": {
    "collapsed": true
   },
   "outputs": [],
   "source": [
    "# Function definitions\n",
    "def gammaDSD(D, cx,q ,Nt=None, N0=None, alpha=0):\n",
    "    \"\"\"Given cx, q, Nt or N0, and alpha, compute the gamma DSD for the sequence of diameters in D\"\"\"\n",
    "    if(N0 is None):\n",
    "        try:\n",
    "            N0,_ = dsd.cal_N0(rhoa, q/1000., Nt, cx, alpha)\n",
    "        except Exception:\n",
    "            return None\n",
    "    else:\n",
    "        try:\n",
    "            Nt = dsd.cal_Nt(rhoa, q/1000., N0, cx, alpha)\n",
    "        except Exception:\n",
    "            return None\n",
    "        \n",
    "    lamda = dsd.cal_lamda(rhoa, q/1000., Nt, cx, alpha)\n",
    "    \n",
    "    return N0*D**alpha*N.exp(-lamda*D), Nt, lamda, alpha\n",
    "\n",
    "def samplegammaDSD(Nt, lamda, alpha, bins=None):\n",
    "    \"\"\"Randomly samples a gamma DSD given Nt, lamda, and alpha.\"\"\"\n",
    "    scale = 1./lamda\n",
    "    shape = alpha+1.\n",
    "    s = gamma.rvs(shape, scale, int(Nt))\n",
    "    # If desired, bin up the resulting samples into the given diameter ranges\n",
    "    if(bins is None):\n",
    "        return s\n",
    "    else:\n",
    "        ND_sample,_ = N.histogram(s, bins)\n",
    "        return ND_sample/(bins[1:]-bins[:-1])\n",
    "\n",
    "def plotDSD(Dl, Dmid, Dr, ND, ax=None):\n",
    "    \"\"\"Plots a DSD on a semilog plot\"\"\"\n",
    "    if ax is None:\n",
    "        fig = plt.figure(figsize=(8,6))\n",
    "        ax = fig.add_subplot(111)\n",
    "    ax.bar(Dl, ND, Dr-Dl, 10.**2., align='edge', log=True, color='tan', edgecolor = 'k')\n",
    "    ax.set_yscale('log')\n",
    "    ax.set_ylim(10.**2., 10.**8.5)\n",
    "    ax.set_xlim(0., 9.)\n",
    "    ax.set_xlabel('D (mm)')\n",
    "    ax.set_ylabel(r'N(D) $(m^{-4})$')\n",
    "    \n",
    "    return ax"
   ]
  },
  {
   "cell_type": "code",
   "execution_count": 32,
   "metadata": {},
   "outputs": [
    {
     "name": "stdout",
     "output_type": "stream",
     "text": [
      "[ 0.        0.000125  0.00025   0.000375  0.0005    0.000625  0.00075\n",
      "  0.000875  0.001     0.001125  0.00125   0.0015    0.00175   0.002\n",
      "  0.00225   0.0025    0.003     0.0035    0.004     0.0045    0.005     0.006\n",
      "  0.007     0.008     0.009     0.01      0.012     0.014     0.016     0.018\n",
      "  0.02      0.023     0.026   ]\n",
      "40.2680988414\n",
      "[  6.95528742e+06   5.25733038e+06   3.97388650e+06   3.00376289e+06\n",
      "   2.27047036e+06   1.71619260e+06   1.29722770e+06   9.80542454e+05\n",
      "   7.41167880e+05   5.60230539e+05   3.68164629e+05   2.10349963e+05\n",
      "   1.20182938e+05   6.86662284e+04   3.92322821e+04   1.69431493e+04\n",
      "   5.53088834e+03   1.80549232e+03   5.89381365e+02   1.92396494e+02\n",
      "   3.58837884e+01   3.82384074e+00   4.07475315e-01   4.34212992e-02\n",
      "   4.62705138e-03   1.60955783e-04   1.82771975e-06   2.07545166e-08\n",
      "   2.35676153e-10   2.67620056e-12   9.92024574e-15   1.20040268e-17]\n",
      "[0 0 0 0 0 0 0 0 0 0 0 0 0 0 0 0 0 0 0 0 0 0 0 0 0 0 0 0 0 0 0 0]\n"
     ]
    }
   ],
   "source": [
    "D = dis.avg_diameter/1000.\n",
    "Dl = dis.min_diameter/1000.\n",
    "Dr = dis.max_diameter/1000.\n",
    "\n",
    "Dedges = N.append(Dl,Dr[-1])\n",
    "print Dedges\n",
    "\n",
    "qr = 1.0 # g kg^-1\n",
    "N0r = 8.0e6 # M-P value (m^-4)\n",
    "\n",
    "ND, Ntr, lamdar, alphar = gammaDSD(D, cr, qr, N0=N0r)\n",
    "\n",
    "ND_sample = samplegammaDSD(Ntr, lamdar, alphar, size=100, bins=Dedges)\n",
    "\n",
    "print ND\n",
    "print ND_sample"
   ]
  },
  {
   "cell_type": "code",
   "execution_count": 5,
   "metadata": {},
   "outputs": [
    {
     "data": {
      "image/png": "[encoded data removed]",
      "text/plain": [
       "<matplotlib.figure.Figure at 0x10e174ed0>"
      ]
     },
     "metadata": {},
     "output_type": "display_data"
    }
   ],
   "source": [
    "ax = plotDSD(Dl*1000., D*1000., Dr*1000., ND)"
   ]
  },
  {
   "cell_type": "code",
   "execution_count": 81,
   "metadata": {},
   "outputs": [
    {
     "data": {
      "text/plain": [
       "(0.0, 0.009)"
      ]
     },
     "execution_count": 81,
     "metadata": {},
     "output_type": "execute_result"
    },
    {
     "data": {
      "image/png": "[encoded data removed]",
      "text/plain": [
       "<matplotlib.figure.Figure at 0x126dd0590>"
      ]
     },
     "metadata": {},
     "output_type": "display_data"
    }
   ],
   "source": [
    "# Compute gamma distribution as a function of total number concentration and the PDF for the middle of each bin\n",
    "shape = alphar+1\n",
    "scale = 1./lamdar\n",
    "x = D\n",
    "s = Ntr*gamma.pdf(x, shape, scale=scale)\n",
    "\n",
    "# Now sample the gamma distribution\n",
    "s_sample = gamma.rvs(shape, scale=scale, size=int(Ntr))\n",
    "# Bin up the samples into the Parsivel bins\n",
    "s_binned,_ = N.histogram(s_sample, bins=Dedges)\n",
    "\n",
    "# For plotting need to divide by the bin widths, since above we get number of drops/unit volume in each bin\n",
    "# So this gives us number of drops/unit volume/diameter interval\n",
    "s_sample_plot = s_binned/(Dr-Dl)\n",
    "\n",
    "fig = plt.figure()\n",
    "ax = fig.add_subplot(111)\n",
    "ax.plot(x, s)\n",
    "ax.bar(Dl, s_sample_plot, Dr - Dl, 10**2., align='edge', log=True, color='tan', edgecolor='k')\n",
    "ax.set_yscale('log')\n",
    "ax.set_ylim(10.**2.0, 10.**8.5)\n",
    "ax.set_xlim(0.0,0.009)\n",
    "\n",
    "# s_hist,_ = N.histogram(s, bins=50, density=True)\n",
    "# print s_hist\n",
    "# print s_hist.sum()\n",
    "# count, bins, ignored = plt.hist(s, 50, normed=True)"
   ]
  },
  {
   "cell_type": "code",
   "execution_count": null,
   "metadata": {
    "collapsed": true
   },
   "outputs": [],
   "source": []
  },
  {
   "cell_type": "code",
   "execution_count": null,
   "metadata": {
    "collapsed": true
   },
   "outputs": [],
   "source": []
  }
 ],
 "metadata": {
  "anaconda-cloud": {},
  "kernelspec": {
   "display_name": "Python 2",
   "language": "python",
   "name": "python2"
  },
  "language_info": {
   "codemirror_mode": {
    "name": "ipython",
    "version": 2
   },
   "file_extension": ".py",
   "mimetype": "text/x-python",
   "name": "python",
   "nbconvert_exporter": "python",
   "pygments_lexer": "ipython2",
   "version": "2.7.13"
  }
 },
 "nbformat": 4,
 "nbformat_minor": 2
}
