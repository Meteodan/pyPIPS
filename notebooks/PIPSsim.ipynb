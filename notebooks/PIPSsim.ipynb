{
 "cells": [
  {
   "cell_type": "code",
   "execution_count": 28,
   "metadata": {},
   "outputs": [
    {
     "name": "stdout",
     "output_type": "stream",
     "text": [
      "The autoreload extension is already loaded. To reload it, use:\n",
      "  %reload_ext autoreload\n"
     ]
    }
   ],
   "source": [
    "%load_ext autoreload\n",
    "%autoreload 2\n",
    "import numpy as N\n",
    "import numpy.ma as ma\n",
    "import matplotlib\n",
    "import matplotlib.pyplot as plt\n",
    "import matplotlib.cm as cm\n",
    "import matplotlib.ticker as ticker\n",
    "from mpl_toolkits.axes_grid1 import ImageGrid,make_axes_locatable,host_subplot\n",
    "from datetime import datetime, timedelta\n",
    "import pytz as pytz\n",
    "import sys\n",
    "import os\n",
    "nb_dir = os.path.split(os.getcwd())[0]\n",
    "if nb_dir not in sys.path:\n",
    "    sys.path.append(nb_dir)\n",
    "import modules.thermolib as thermo\n",
    "import modules.DSDlib as dsd\n",
    "import modules.disdrometer_module as dis\n",
    "import modules.plotmodule as pm\n",
    "from modules.datahandler import getDataHandler\n",
    "import pandas as pd\n",
    "import glob\n",
    "import numpy.random as random\n",
    "from scipy.stats import gamma, uniform\n",
    "from scipy.special import gamma as gammafunc\n",
    "from metpy.plots import ctables\n",
    "%matplotlib inline"
   ]
  },
  {
   "cell_type": "code",
   "execution_count": 2,
   "metadata": {},
   "outputs": [],
   "source": [
    "# Some global parameters\n",
    "rhoa = 1.0 # kg m^-3\n",
    "cr = 1000.*N.pi/6.\n",
    "\n",
    "sampling_area = dis.sensor_area\n",
    "sampling_width = dis.sensor_width\n",
    "sampling_length = dis.sensor_length"
   ]
  },
  {
   "cell_type": "code",
   "execution_count": 3,
   "metadata": {},
   "outputs": [],
   "source": [
    "# Function definitions\n",
    "def gammaDSD(D, cx,q ,Nt=None, N0=None, alpha=0):\n",
    "    \"\"\"Given cx, q, Nt or N0, and alpha, compute the gamma DSD for the sequence of diameters in D\"\"\"\n",
    "    if(N0 is None):\n",
    "        try:\n",
    "            N0,_ = dsd.cal_N0(rhoa, q/1000., Nt, cx, alpha)\n",
    "        except Exception:\n",
    "            return None\n",
    "    else:\n",
    "        try:\n",
    "            Nt = dsd.cal_Nt(rhoa, q/1000., N0, cx, alpha)\n",
    "        except Exception:\n",
    "            return None\n",
    "        \n",
    "    lamda = dsd.cal_lamda(rhoa, q/1000., Nt, cx, alpha)\n",
    "    \n",
    "    return N0*D**alpha*N.exp(-lamda*D), Nt, lamda, alpha\n",
    "\n",
    "def samplegammaDSD(Nt, lamda, alpha, bins=None):\n",
    "    \"\"\"Randomly samples a gamma DSD given Nt, lamda, and alpha.\"\"\"\n",
    "    scale = 1./lamda\n",
    "    shape = alpha+1.\n",
    "    s = gamma.rvs(shape, scale=scale, size=int(Nt))\n",
    "    # If desired, bin up the resulting samples into the given diameter ranges\n",
    "    if(bins is None):\n",
    "        return s\n",
    "    else:\n",
    "        ND_sample,_ = N.histogram(s, bins)\n",
    "        return ND_sample/(bins[1:]-bins[:-1])\n",
    "\n",
    "def plotDSD(Dl, Dmid, Dr, ND, ax=None):\n",
    "    \"\"\"Plots a DSD on a semilog plot\"\"\"\n",
    "    if ax is None:\n",
    "        fig = plt.figure(figsize=(8,6))\n",
    "        ax = fig.add_subplot(111)\n",
    "    ax.bar(Dl, ND, Dr-Dl, 10.**2., align='edge', log=True, color='tan', edgecolor = 'k')\n",
    "    ax.set_yscale('log')\n",
    "    ax.set_ylim(10.**2., 10.**8.5)\n",
    "    ax.set_xlim(0., 9.)\n",
    "    ax.set_xlabel('D (mm)')\n",
    "    ax.set_ylabel(r'N(D) $(m^{-4})$')\n",
    "    \n",
    "    return ax\n",
    "\n",
    "def plotVD(Dl, Dmid, Vl, countsMatrix, Vt_fit, ax=None, strongwindflag=False):\n",
    "    \"\"\"Plot drop counts in each velocity/diameter bin for a given DSD\"\"\"\n",
    "    if ax is None:\n",
    "        fig = plt.figure(figsize=(8,6))\n",
    "        ax = fig.add_subplot(111)\n",
    "    countsplot = ma.masked_where(countsMatrix <= 0, countsMatrix)\n",
    "\n",
    "    C = ax.pcolor(Dl, Vl, countsplot, vmin=1, vmax=50, edgecolors='w')\n",
    "    ax.plot(Dmid, Vt_fit, c='r')\n",
    "    # ax1.scatter(X[0:10,20:31],Y[0:10,20:31],c='r',marker='x')\n",
    "    fig.colorbar(C)\n",
    "\n",
    "    if(strongwindflag):\n",
    "        ax.text(0.5, 0.5, 'Flagged for strong wind contamination!',\n",
    "                 horizontalalignment='center',\n",
    "                 verticalalignment='center', color='y',\n",
    "                 transform=ax.transAxes)\n",
    "#     if(plot_strongwindQC):\n",
    "#         ax1.scatter(X[strongwindmask], Y[strongwindmask], c='r', marker='x', alpha=1.0)\n",
    "#     if(plot_splashingQC):\n",
    "#         ax1.scatter(X[splashmask], Y[splashmask], c='w', marker='o', alpha=0.75)\n",
    "#         # ax1.pcolor(min_diameter,min_fall_bins,ma.masked_array(splashmask,mask=-splashmask),cmap=cm.Reds,alpha=0.1)\n",
    "#     if(plot_marginQC):\n",
    "#         ax1.scatter(X[marginmask], Y[marginmask], c='g', marker='x', alpha=0.1)\n",
    "#         # ax1.pcolor(min_diameter,min_fall_bins,ma.masked_array(marginmask,mask=-marginmask),cmap=cm.Reds,alpha=0.1)\n",
    "#     if(plot_rainfallspeedQC):\n",
    "#         ax1.scatter(X[fallspeedmask], Y[fallspeedmask], c='k', marker='x', alpha=0.5)\n",
    "#         # ax1.pcolor(min_diameter,min_fall_bins,ma.masked_array(fallspeedmask,mask=-fallspeedmask),cmap=cm.gray,alpha=0.1)\n",
    "#     if(plot_rainonlyQC):\n",
    "#         ax1.scatter(X[rainonlymask], Y[rainonlymask], c='g', marker='x', alpha=0.5)\n",
    "\n",
    "    ax.set_xlim(0.0, 9.0)\n",
    "    ax.xaxis.set_major_locator(ticker.MultipleLocator(1.0))\n",
    "    ax.set_xlabel('D (mm)')\n",
    "    ax.set_ylim(0.0, 15.0)\n",
    "    ax.yaxis.set_major_locator(ticker.MultipleLocator(1.0))\n",
    "    ax.set_ylabel(r'V$_T$ (m s$^{-1}$)')\n",
    "\n",
    "def create_random_gamma_DSD(Nt, lamda, alpha, Vt, sampling_length, sampling_width, Dl, Dmid, Dr, Dmin=0, Dmax=8.0, \n",
    "                            sampling_interval=10., margins=False, verbose=False):\n",
    "    \"\"\"Given Nt, lamda, alpha, create a spatial distribution in a volume\"\"\"\n",
    "    # First, determine the sampling volume. Use the sampling area A multiplied by the\n",
    "    # depth that the fasted falling particle would cover in the time given by sampling_interval\n",
    "    Dmax_index = N.searchsorted(Dr, Dmax/1000.)\n",
    "    if verbose:\n",
    "        print \"Dmax_index = \",Dmax_index\n",
    "    Vtmax = Vt[Dmax_index]\n",
    "    sampling_height = Vtmax*sampling_interval\n",
    "    sampling_area = sampling_length*sampling_width\n",
    "    sampling_volume = sampling_area*sampling_height # Maximum sampling volume\n",
    "    sampling_volumes_D = Vt[:Dmax_index+1]*sampling_interval*sampling_area # Sampling volumes as a function of diameter D \n",
    "    \n",
    "    if verbose:\n",
    "        print \"sampling height = \",sampling_height\n",
    "        print \"sampling volume = \",sampling_volume\n",
    "    \n",
    "    # Next, create a uniform distribution of n=Nt*sampling_volume drops within the volume given by sampling_volume\n",
    "    n = int(Nt*sampling_volume)\n",
    "    if verbose:\n",
    "        print \"number concentration = \",Nt\n",
    "        print \"number of particles in sampling volume = \",n\n",
    "    xpos = uniform.rvs(0., sampling_length, ((n, 1)))\n",
    "    ypos = uniform.rvs(0., sampling_width, ((n, 1)))\n",
    "    zpos = uniform.rvs(0., sampling_height, ((n, 1)))\n",
    "    \n",
    "    # Next, determine the sizes of the drops by drawing the diameters randomly from a gamma distribution\n",
    "    # given by n, lamda, and alpha\n",
    "    \n",
    "    diameters = samplegammaDSD(n, lamda, alpha)\n",
    "    \n",
    "    # Restrict diameters to be less than Dmax\n",
    "    diameter_mask = N.where(diameters <= Dmax/1000.)\n",
    "    diameters = diameters[diameter_mask]\n",
    "    xpos = xpos[diameter_mask]\n",
    "    ypos = ypos[diameter_mask]\n",
    "    zpos = zpos[diameter_mask]\n",
    "    \n",
    "    if verbose:\n",
    "        print \"number of particles less than Dmax = \",xpos.size\n",
    "    \n",
    "    # Now, figure out which drops in the volume won't fall through the sensor area in the given time, and remove them\n",
    "    \n",
    "    velocities = dis.assignfallspeed(diameters*1000.)\n",
    "    depths = velocities*sampling_interval\n",
    "    keepers = N.where(zpos.squeeze()-depths <= 0.)\n",
    "    \n",
    "    xpos = xpos[keepers]\n",
    "    ypos = ypos[keepers]\n",
    "    zpos = zpos[keepers]\n",
    "    positions = N.hstack((xpos,ypos,zpos))\n",
    "    diameters = diameters[keepers]\n",
    "    velocities = velocities[keepers]\n",
    "    \n",
    "    if verbose:\n",
    "        print \"number of particles that fall through sampling area = \",xpos.size\n",
    "    \n",
    "    # Bin up particles into the Parsivel diameter bins (later will add velocity too; right now all particles\n",
    "    # are assumed to fall strictly along theoretical/empirical fall speed curve)\n",
    "    Dedges = N.append(Dl,Dr[-1])\n",
    "    Dedges = Dedges[:Dmax_index+2]\n",
    "    pcount_binned,_ = N.histogram(diameters, Dedges)\n",
    "    # Compute ND of sample in original Parsivel diameter and velocity bins\n",
    "    ND = pcount_binned/(sampling_volumes_D*(Dr[:Dmax_index+1]-Dl[:Dmax_index+1])) # Gets particle count/unit volume/diameter interval\n",
    "    \n",
    "    return positions, diameters, velocities, ND  \n",
    "\n",
    "# From https://gist.github.com/syrte/592a062c562cd2a98a83\n",
    "def circles(x, y, s, c='b', vmin=None, vmax=None, **kwargs):\n",
    "    \"\"\"\n",
    "    Make a scatter of circles plot of x vs y, where x and y are sequence \n",
    "    like objects of the same lengths. The size of circles are in data scale.\n",
    "\n",
    "    Parameters\n",
    "    ----------\n",
    "    x,y : scalar or array_like, shape (n, )\n",
    "        Input data\n",
    "    s : scalar or array_like, shape (n, ) \n",
    "        Radius of circle in data unit.\n",
    "    c : color or sequence of color, optional, default : 'b'\n",
    "        `c` can be a single color format string, or a sequence of color\n",
    "        specifications of length `N`, or a sequence of `N` numbers to be\n",
    "        mapped to colors using the `cmap` and `norm` specified via kwargs.\n",
    "        Note that `c` should not be a single numeric RGB or RGBA sequence \n",
    "        because that is indistinguishable from an array of values\n",
    "        to be colormapped. (If you insist, use `color` instead.)  \n",
    "        `c` can be a 2-D array in which the rows are RGB or RGBA, however. \n",
    "    vmin, vmax : scalar, optional, default: None\n",
    "        `vmin` and `vmax` are used in conjunction with `norm` to normalize\n",
    "        luminance data.  If either are `None`, the min and max of the\n",
    "        color array is used.\n",
    "    kwargs : `~matplotlib.collections.Collection` properties\n",
    "        Eg. alpha, edgecolor(ec), facecolor(fc), linewidth(lw), linestyle(ls), \n",
    "        norm, cmap, transform, etc.\n",
    "\n",
    "    Returns\n",
    "    -------\n",
    "    paths : `~matplotlib.collections.PathCollection`\n",
    "\n",
    "    Examples\n",
    "    --------\n",
    "    a = np.arange(11)\n",
    "    circles(a, a, a*0.2, c=a, alpha=0.5, edgecolor='none')\n",
    "    plt.colorbar()\n",
    "\n",
    "    License\n",
    "    --------\n",
    "    This code is under [The BSD 3-Clause License]\n",
    "    (http://opensource.org/licenses/BSD-3-Clause)\n",
    "    \"\"\"\n",
    "    import numpy as np\n",
    "    import matplotlib.pyplot as plt\n",
    "    from matplotlib.patches import Circle\n",
    "    from matplotlib.collections import PatchCollection\n",
    "\n",
    "    if np.isscalar(c):\n",
    "        kwargs.setdefault('color', c)\n",
    "        c = None\n",
    "    if 'fc' in kwargs: kwargs.setdefault('facecolor', kwargs.pop('fc'))\n",
    "    if 'ec' in kwargs: kwargs.setdefault('edgecolor', kwargs.pop('ec'))\n",
    "    if 'ls' in kwargs: kwargs.setdefault('linestyle', kwargs.pop('ls'))\n",
    "    if 'lw' in kwargs: kwargs.setdefault('linewidth', kwargs.pop('lw'))\n",
    "\n",
    "    patches = [Circle((x_, y_), s_) for x_, y_, s_ in np.broadcast(x, y, s)]\n",
    "    collection = PatchCollection(patches, **kwargs)\n",
    "    if c is not None:\n",
    "        collection.set_array(np.asarray(c))\n",
    "        collection.set_clim(vmin, vmax)\n",
    "\n",
    "    ax = plt.gca()\n",
    "    ax.add_collection(collection)\n",
    "    ax.autoscale_view()\n",
    "    if c is not None:\n",
    "        plt.sci(collection)\n",
    "    return collection"
   ]
  },
  {
   "cell_type": "code",
   "execution_count": 4,
   "metadata": {},
   "outputs": [
    {
     "name": "stdout",
     "output_type": "stream",
     "text": [
      "[0.       0.000125 0.00025  0.000375 0.0005   0.000625 0.00075  0.000875\n",
      " 0.001    0.001125 0.00125  0.0015   0.00175  0.002    0.00225  0.0025\n",
      " 0.003    0.0035   0.004    0.0045   0.005    0.006    0.007    0.008\n",
      " 0.009    0.01     0.012    0.014    0.016    0.018    0.02     0.023\n",
      " 0.026   ]\n",
      "3572.9753669520087\n",
      "[6.95528742e+06 5.25733038e+06 3.97388650e+06 3.00376289e+06\n",
      " 2.27047036e+06 1.71619260e+06 1.29722770e+06 9.80542454e+05\n",
      " 7.41167880e+05 5.60230539e+05 3.68164629e+05 2.10349963e+05\n",
      " 1.20182938e+05 6.86662284e+04 3.92322821e+04 1.69431493e+04\n",
      " 5.53088834e+03 1.80549232e+03 5.89381365e+02 1.92396494e+02\n",
      " 3.58837884e+01 3.82384074e+00 4.07475315e-01 4.34212992e-02\n",
      " 4.62705138e-03 1.60955783e-04 1.82771975e-06 2.07545166e-08\n",
      " 2.35676153e-10 2.67620056e-12 9.92024574e-15 1.20040268e-17]\n",
      "[6904000. 5624000. 4008000. 2880000. 2064000. 1584000. 1256000.  968000.\n",
      "  968000.  600000.  380000.  188000.  128000.   92000.   20000.   18000.\n",
      "    8000.       0.       0.       0.       0.       0.       0.       0.\n",
      "       0.       0.       0.       0.       0.       0.       0.       0.]\n"
     ]
    }
   ],
   "source": [
    "D = dis.avg_diameter/1000.\n",
    "Dl = dis.min_diameter/1000.\n",
    "Dr = dis.max_diameter/1000.\n",
    "\n",
    "Dedges = N.append(Dl,Dr[-1])\n",
    "print Dedges\n",
    "\n",
    "qr = 1.0 # g kg^-1\n",
    "N0r = 8.0e6 # M-P value (m^-4)\n",
    "\n",
    "ND, Ntr, lamdar, alphar = gammaDSD(D, cr, qr, N0=N0r)\n",
    "print Ntr\n",
    "\n",
    "ND_sample = samplegammaDSD(Ntr, lamdar, alphar, bins=Dedges)\n",
    "\n",
    "print ND\n",
    "print ND_sample"
   ]
  },
  {
   "cell_type": "code",
   "execution_count": 5,
   "metadata": {},
   "outputs": [
    {
     "data": {
      "image/png": "[encoded data removed]",
      "text/plain": [
       "<Figure size 576x432 with 1 Axes>"
      ]
     },
     "metadata": {},
     "output_type": "display_data"
    }
   ],
   "source": [
    "ax = plotDSD(Dl*1000., D*1000., Dr*1000., ND)"
   ]
  },
  {
   "cell_type": "code",
   "execution_count": 6,
   "metadata": {},
   "outputs": [
    {
     "data": {
      "image/png": "[encoded data removed]",
      "text/plain": [
       "<Figure size 576x432 with 1 Axes>"
      ]
     },
     "metadata": {},
     "output_type": "display_data"
    }
   ],
   "source": [
    "Vtr = dis.assignfallspeed(dis.avg_diameter)\n",
    "positions, diameters, velocities, ND_sample = create_random_gamma_DSD(Ntr, lamdar, alphar, Vtr, sampling_length, sampling_width, Dl, D, Dr)\n",
    "\n",
    "positions = positions.T\n",
    "fig = plt.figure(figsize=(8,6))\n",
    "ax = fig.add_subplot(111)\n",
    "circles(positions[0], positions[1], diameters, c=positions[2], alpha=0.5)\n",
    "#ax.scatter(positions[0], positions[1], c=positions[2], alpha=0.5, s=diameters*1000.)\n",
    "ax.set_xlim(0.0, sampling_length)\n",
    "ax.set_ylim(0.0, sampling_width)\n",
    "ax.set_aspect('equal')"
   ]
  },
  {
   "cell_type": "code",
   "execution_count": 7,
   "metadata": {},
   "outputs": [
    {
     "name": "stdout",
     "output_type": "stream",
     "text": [
      "22\n"
     ]
    },
    {
     "data": {
      "text/plain": [
       "<BarContainer object of 23 artists>"
      ]
     },
     "execution_count": 7,
     "metadata": {},
     "output_type": "execute_result"
    },
    {
     "data": {
      "image/png": "[encoded data removed]",
      "text/plain": [
       "<Figure size 576x432 with 1 Axes>"
      ]
     },
     "metadata": {},
     "output_type": "display_data"
    }
   ],
   "source": [
    "# Plot ND along with sampled ND\n",
    "Dmax = 8.\n",
    "Dmax_index = N.searchsorted(Dr, Dmax/1000.)\n",
    "print Dmax_index\n",
    "ax = plotDSD(Dl*1000., D*1000., Dr*1000., ND)\n",
    "ax.bar(Dl[:Dmax_index+1]*1000., ND_sample, (Dr-Dl)[:Dmax_index+1]*1000., 10.**2., align='edge', log=True, color='b', edgecolor = 'k', alpha=0.5)\n"
   ]
  },
  {
   "cell_type": "code",
   "execution_count": 8,
   "metadata": {},
   "outputs": [
    {
     "data": {
      "text/plain": [
       "(0.0, 0.009)"
      ]
     },
     "execution_count": 8,
     "metadata": {},
     "output_type": "execute_result"
    },
    {
     "data": {
      "image/png": "[encoded data removed]",
      "text/plain": [
       "<Figure size 432x288 with 1 Axes>"
      ]
     },
     "metadata": {},
     "output_type": "display_data"
    }
   ],
   "source": [
    "# Compute gamma distribution as a function of total number concentration and the PDF for the middle of each bin\n",
    "shape = alphar+1\n",
    "scale = 1./lamdar\n",
    "x = D\n",
    "s = Ntr*gamma.pdf(x, shape, scale=scale)\n",
    "\n",
    "# Now sample the gamma distribution\n",
    "s_sample = gamma.rvs(shape, scale=scale, size=int(Ntr))\n",
    "# Bin up the samples into the Parsivel bins\n",
    "s_binned,_ = N.histogram(s_sample, bins=Dedges)\n",
    "\n",
    "# For plotting need to divide by the bin widths, since above we get number of drops/unit volume in each bin\n",
    "# So this gives us number of drops/unit volume/diameter interval\n",
    "s_sample_plot = s_binned/(Dr-Dl)\n",
    "\n",
    "fig = plt.figure()\n",
    "ax = fig.add_subplot(111)\n",
    "ax.plot(x, s)\n",
    "ax.bar(Dl, s_sample_plot, Dr - Dl, 10**2., align='edge', log=True, color='tan', edgecolor='k')\n",
    "ax.set_yscale('log')\n",
    "ax.set_ylim(10.**2.0, 10.**8.5)\n",
    "ax.set_xlim(0.0,0.009)\n",
    "\n",
    "# s_hist,_ = N.histogram(s, bins=50, density=True)\n",
    "# print s_hist\n",
    "# print s_hist.sum()\n",
    "# count, bins, ignored = plt.hist(s, 50, normed=True)"
   ]
  },
  {
   "cell_type": "code",
   "execution_count": 63,
   "metadata": {},
   "outputs": [],
   "source": [
    "# Let's try to read in a COMMAS model file and see if we can reproduce my Radar Conference 2015 poster plot first\n",
    "modelname = 'COMMAS'\n",
    "dirname = '/Volumes/scr_fast/Projects/VORTEX2/V2_disdrometer/simulations/COMMAS/060509/1km/'\n",
    "runname = 'jun05ZVDH3MCCN1imlt2_nz61'\n",
    "times = [10800.]\n",
    "multitime = True\n",
    "microphys = 'ZVD'\n",
    "jindex = 55\n",
    "slc = (Ellipsis, slice(None), jindex, slice(None))\n",
    "jend = 1\n",
    "\n",
    "dh = getDataHandler(modelname, dirname, times, microphys, multitime=multitime)\n",
    "dh.setRun(runname, 0)\n",
    "xc, yc, zc, zc1d, xe, ye, ze, ze1d, bgmap = dh.loadGrid()"
   ]
  },
  {
   "cell_type": "code",
   "execution_count": 64,
   "metadata": {},
   "outputs": [
    {
     "name": "stdout",
     "output_type": "stream",
     "text": [
      "Reading microphysics information for ZVDH scheme.\n",
      "Rain is gamma-diameter.\n",
      "Found ZR array! Computed shape parameter for rain.\n",
      "Did not find ZS array! Assuming 2-moment with constant shape parameter.\n",
      "Found ZG array! Computed shape parameter for grpl.\n",
      "Found ZH array! Computed shape parameter for hail.\n"
     ]
    }
   ],
   "source": [
    "dh.loadTimes()\n",
    "time = times[0]\n",
    "timestring = dh.setTime(time)\n",
    "dp_data, consts = dh.loadMicrophysics()\n",
    "dp_data_2D = {}\n",
    "for key, dat in dp_data.iteritems():\n",
    "    dp_data_2D[key] = N.asfortranarray(dat[slc].copy())\n",
    "dp_data_plot = {}\n",
    "for key, dat in dp_data_2D.iteritems():\n",
    "    dp_data_plot[key] = dat.swapaxes(0, 1).squeeze()\n"
   ]
  },
  {
   "cell_type": "code",
   "execution_count": 65,
   "metadata": {},
   "outputs": [
    {
     "name": "stdout",
     "output_type": "stream",
     "text": [
      "(100, 100, 60)\n",
      "(101, 101) (101, 101)\n",
      "[0.0, 100000.0] [0.0, 100000.0]\n",
      "20000.0 20000.0\n"
     ]
    },
    {
     "data": {
      "text/plain": [
       "<matplotlib.lines.Line2D at 0x12b3d0c50>"
      ]
     },
     "execution_count": 65,
     "metadata": {},
     "output_type": "execute_result"
    },
    {
     "data": {
      "image/png": "[encoded data removed]",
      "text/plain": [
       "<Figure size 432x288 with 2 Axes>"
      ]
     },
     "metadata": {},
     "output_type": "display_data"
    }
   ],
   "source": [
    "Zmod = dh.loadModelReflectivity()\n",
    "print Zmod.shape\n",
    "Zmodplot = Zmod[:, :, 0].T\n",
    "xcplot = xc[0, :, :]\n",
    "ycplot = yc[0, :, :]\n",
    "xeplot = xe[0, :, :]\n",
    "yeplot = ye[0, :, :]\n",
    "xcorplot, ycorplot = pm.computecorners(xeplot, yeplot)\n",
    "\n",
    "print xcorplot.shape, ycorplot.shape\n",
    "\n",
    "fig = None\n",
    "ax = None\n",
    "ptype = 2\n",
    "xlim = None\n",
    "ylim = None\n",
    "clevels = N.arange(0., 85., 5.)\n",
    "norm, cmap = ctables.registry.get_with_steps('NWSReflectivity', 0., 5.)\n",
    "clabel = 'Z (dBZ)'\n",
    "cformat = None\n",
    "ovrmap = False\n",
    "gis_info = None\n",
    "numovr = 0\n",
    "axesticks = [20000., 20000.]\n",
    "\n",
    "fig, ax = pm.plotsingle(fig, ax, ptype, xcplot, ycplot, xcorplot, ycorplot, xlim, ylim, Zmodplot, clevels, cmap, norm,\n",
    "                        clevels, clabel, cformat, ovrmap, gis_info, numovr, None, None, None, None, None,\n",
    "                        axesticks)\n",
    "\n",
    "ax.axhline(ycplot[jindex, 0])"
   ]
  },
  {
   "cell_type": "code",
   "execution_count": 66,
   "metadata": {},
   "outputs": [
    {
     "name": "stdout",
     "output_type": "stream",
     "text": [
      "(101,)\n"
     ]
    },
    {
     "name": "stderr",
     "output_type": "stream",
     "text": [
      "/Users/dawson29/anaconda2/lib/python2.7/site-packages/ipykernel/__main__.py:20: RuntimeWarning: divide by zero encountered in log10\n"
     ]
    },
    {
     "data": {
      "image/png": "[encoded data removed]",
      "text/plain": [
       "<Figure size 432x288 with 2 Axes>"
      ]
     },
     "metadata": {},
     "output_type": "display_data"
    }
   ],
   "source": [
    "cr = N.pi/6.\n",
    "xindexref = 40\n",
    "xcplot = (xc[0,jindex,:]-xc[0,jindex,xindexref])/1000.\n",
    "xeplot = (xe[0,jindex,:]-xc[0,jindex,xindexref])/1000.\n",
    "N0r,_ = dsd.cal_N0(dp_data_2D['rhoa'],dp_data_2D['qr']/1000.,dp_data_2D['ntr'],\n",
    "                                       cr,dp_data_2D['alphar'])\n",
    "lamdar = dsd.cal_lamda(dp_data_2D['rhoa'],dp_data_2D['qr']/1000.,dp_data_2D['ntr'],\n",
    "                                       cr,dp_data_2D['alphar'])\n",
    "N0r = N0r[:,0]\n",
    "lamdar = lamdar[:,0]\n",
    "tmpalphar2 = dp_data_2D['alphar'][:,0]\n",
    "Nc_bin = N.empty((N.size(N0r),N.size(D)))\n",
    "\n",
    "print xeplot.shape\n",
    "\n",
    "\n",
    "for index,dummy in N.ndenumerate(N0r):\n",
    "    Nc_bin[index,:] = 1.e-3*N0r[index]*(D)**tmpalphar2[index]*N.exp(-lamdar[index]*(D))\n",
    "Nc_bin = N.ma.masked_invalid(Nc_bin)\n",
    "logNc_bin = N.log10(Nc_bin)\n",
    "logNc_bin = N.ma.masked_where(logNc_bin <= -1.0,logNc_bin)\n",
    "fig = plt.figure()\n",
    "ax = fig.add_subplot(111)\n",
    "divider = make_axes_locatable(ax)\n",
    "C = ax.pcolor(xeplot,Dl*1000.,logNc_bin.swapaxes(0,1),vmin=-1.0,vmax=3.0)\n",
    "ax.xaxis.set_major_locator(ticker.MultipleLocator(base=1.0))\n",
    "ax.yaxis.set_major_locator(ticker.MultipleLocator(base=1.0))\n",
    "ax.set_xlim(-13.0,2.0)\n",
    "ax.set_ylim(0.0,9.0)\n",
    "ax.set_ylabel('D (mm)')\n",
    "cax = divider.append_axes(\"bottom\",size=\"5%\",pad=0.35)\n",
    "cb = fig.colorbar(C,cax=cax,orientation='horizontal')\n",
    "cb.set_label(r'log[N ($m^{-3} mm^{-1}$)]')\n",
    "\n",
    "plt.savefig('raw_modelDSD.png',dpi=300)"
   ]
  },
  {
   "cell_type": "code",
   "execution_count": 67,
   "metadata": {},
   "outputs": [
    {
     "name": "stderr",
     "output_type": "stream",
     "text": [
      "/Users/dawson29/anaconda2/lib/python2.7/site-packages/ipykernel/__main__.py:21: RuntimeWarning: divide by zero encountered in divide\n",
      "/Users/dawson29/anaconda2/lib/python2.7/site-packages/ipykernel/__main__.py:11: RuntimeWarning: divide by zero encountered in log10\n"
     ]
    },
    {
     "data": {
      "image/png": "[encoded data removed]",
      "text/plain": [
       "<Figure size 432x288 with 2 Axes>"
      ]
     },
     "metadata": {},
     "output_type": "display_data"
    }
   ],
   "source": [
    "Nc_bin2 = N.empty((N.size(N0r),N.size(D[:Dmax_index+1])))\n",
    "# Now plot the sampled distribution\n",
    "for index,_ in N.ndenumerate(N0r):\n",
    "    # print index,dp_data_2D['ntr'][index,0]\n",
    "    positions, diameters, velocities, ND_sample = create_random_gamma_DSD(dp_data_2D['ntr'][index,0], lamdar[index], \n",
    "                                                                          tmpalphar2[index], Vtr, sampling_length, \n",
    "                                                                          sampling_width, Dl, D, Dr, sampling_interval=60)\n",
    "    Nc_bin2[index,:] = 1.e-3*ND_sample\n",
    "\n",
    "Nc_bin2 = N.ma.masked_invalid(Nc_bin2)\n",
    "logNc_bin2 = N.log10(Nc_bin2)\n",
    "logNc_bin2 = N.ma.masked_where(logNc_bin2 <= -1.0,logNc_bin2)\n",
    "fig = plt.figure()\n",
    "ax = fig.add_subplot(111)\n",
    "divider = make_axes_locatable(ax)\n",
    "C = ax.pcolor(xeplot,Dl[:Dmax_index+1]*1000.,logNc_bin2.swapaxes(0,1),vmin=-1.0,vmax=3.0)\n",
    "ax.xaxis.set_major_locator(ticker.MultipleLocator(base=1.0))\n",
    "ax.yaxis.set_major_locator(ticker.MultipleLocator(base=1.0))\n",
    "ax.set_xlim(-13.0,2.0)\n",
    "ax.set_ylim(0.0,9.0)\n",
    "ax.set_ylabel('D (mm)')\n",
    "cax = divider.append_axes(\"bottom\",size=\"5%\",pad=0.35)\n",
    "cb = fig.colorbar(C,cax=cax,orientation='horizontal')\n",
    "cb.set_label(r'log[N ($m^{-3} mm^{-1}$)]')\n",
    "plt.savefig('sampled_modelDSD.png',dpi=300)"
   ]
  },
  {
   "cell_type": "code",
   "execution_count": 68,
   "metadata": {},
   "outputs": [
    {
     "data": {
      "image/png": "[encoded data removed]",
      "text/plain": [
       "<Figure size 576x432 with 1 Axes>"
      ]
     },
     "metadata": {},
     "output_type": "display_data"
    }
   ],
   "source": [
    "# Plot ND along with sampled ND\n",
    "\n",
    "ax = plotDSD(Dl*1000., D*1000., Dr*1000., 1000.*Nc_bin[35,:])\n",
    "ax.bar(Dl[:Dmax_index+1]*1000., 1000.*Nc_bin2[35,:], (Dr-Dl)[:Dmax_index+1]*1000., 10.**2., align='edge', log=True, color='b', edgecolor = 'k', alpha=0.5)\n",
    "plt.savefig('singleDSD_example.png',dpi=300)"
   ]
  },
  {
   "cell_type": "code",
   "execution_count": 69,
   "metadata": {},
   "outputs": [
    {
     "name": "stdout",
     "output_type": "stream",
     "text": [
      "Reading grid and map information from ARPS HDF file!\n"
     ]
    }
   ],
   "source": [
    "# Ok, now do the same for one of the ARPS simulations of the 31 March 2016 case:\n",
    "modelname = 'ARPS'\n",
    "dirname = '/Volumes/depot/dawson29/data/for_Guo/from_Guo/033116/'\n",
    "runname = '250mPUR04010000NSSL3MCCN2'\n",
    "times = [3600.]\n",
    "microphys = 'ZVD'\n",
    "jindex = 192\n",
    "slc = (Ellipsis, slice(None), jindex, slice(None))\n",
    "jend = 1\n",
    "\n",
    "dh = getDataHandler(modelname, dirname, times, microphys)\n",
    "dh.setRun(runname, 0)\n",
    "xc, yc, zc, zc1d, xe, ye, ze, ze1d, bgmap = dh.loadGrid()"
   ]
  },
  {
   "cell_type": "code",
   "execution_count": null,
   "metadata": {},
   "outputs": [],
   "source": [
    "dh.loadTimes()\n",
    "time = times[0]\n",
    "timestring = dh.setTime(time)\n",
    "dp_data, consts = dh.loadMicrophysics()\n",
    "dp_data_2D = {}\n",
    "for key, dat in dp_data.iteritems():\n",
    "    dp_data_2D[key] = N.asfortranarray(dat[slc].copy())"
   ]
  },
  {
   "cell_type": "code",
   "execution_count": null,
   "metadata": {},
   "outputs": [],
   "source": [
    "cr = N.pi/6.\n",
    "xindexref = 160\n",
    "xcplot = (xc[0,jindex,:]-xc[0,jindex,xindexref])/1000.\n",
    "xeplot = (xe[0,jindex,:]-xc[0,jindex,xindexref])/1000.\n",
    "N0r,_ = dsd.cal_N0(dp_data_2D['rhoa'],dp_data_2D['qr']/1000.,dp_data_2D['ntr'],\n",
    "                                       cr,dp_data_2D['alphar'])\n",
    "lamdar = dsd.cal_lamda(dp_data_2D['rhoa'],dp_data_2D['qr']/1000.,dp_data_2D['ntr'],\n",
    "                                       cr,dp_data_2D['alphar'])\n",
    "N0r = N0r[:,0]\n",
    "lamdar = lamdar[:,0]\n",
    "tmpalphar2 = dp_data_2D['alphar'][:,0]\n",
    "Nc_bin = N.empty((N.size(N0r),N.size(D)))\n",
    "\n",
    "# print N0r\n",
    "# print lamdar\n",
    "# print tmpalphar2\n",
    "\n",
    "print xeplot.shape\n",
    "\n",
    "\n",
    "for index,dummy in N.ndenumerate(N0r):\n",
    "    Nc_bin[index,:] = 1.e-3*N0r[index]*(D)**tmpalphar2[index]*N.exp(-lamdar[index]*(D))\n",
    "Nc_bin = N.ma.masked_invalid(Nc_bin)\n",
    "logNc_bin = N.log10(Nc_bin)\n",
    "logNc_bin = N.ma.masked_where(logNc_bin <= -1.0,logNc_bin)\n",
    "fig = plt.figure()\n",
    "ax = fig.add_subplot(111)\n",
    "divider = make_axes_locatable(ax)\n",
    "C = ax.pcolor(xeplot,Dl*1000.,logNc_bin.swapaxes(0,1),vmin=-1.0,vmax=3.0)\n",
    "ax.xaxis.set_major_locator(ticker.MultipleLocator(base=5.0))\n",
    "ax.yaxis.set_major_locator(ticker.MultipleLocator(base=1.0))\n",
    "ax.set_xlim(-30.0,30.0)\n",
    "ax.set_ylim(0.0,9.0)\n",
    "ax.set_ylabel('D (mm)')\n",
    "cax = divider.append_axes(\"bottom\",size=\"5%\",pad=0.35)\n",
    "cb = fig.colorbar(C,cax=cax,orientation='horizontal')\n",
    "cb.set_label(r'log[N ($m^{-3} mm^{-1}$)]')\n",
    "\n",
    "plt.savefig('raw_modelDSD.png',dpi=300)"
   ]
  },
  {
   "cell_type": "code",
   "execution_count": null,
   "metadata": {},
   "outputs": [],
   "source": [
    "Nc_bin2 = N.empty((N.size(N0r),N.size(D[:Dmax_index+1])))\n",
    "# Now plot the sampled distribution\n",
    "for index,_ in N.ndenumerate(N0r):\n",
    "    # print index,dp_data_2D['ntr'][index,0]\n",
    "    positions, diameters, velocities, ND_sample = create_random_gamma_DSD(dp_data_2D['ntr'][index,0], lamdar[index], \n",
    "                                                                          tmpalphar2[index], Vtr, sampling_length, \n",
    "                                                                          sampling_width, Dl, D, Dr, sampling_interval=60.)\n",
    "    Nc_bin2[index,:] = 1.e-3*ND_sample\n",
    "\n",
    "Nc_bin2 = N.ma.masked_invalid(Nc_bin2)\n",
    "logNc_bin2 = N.log10(Nc_bin2)\n",
    "logNc_bin2 = N.ma.masked_where(logNc_bin2 <= -1.0,logNc_bin2)\n",
    "fig = plt.figure()\n",
    "ax = fig.add_subplot(111)\n",
    "divider = make_axes_locatable(ax)\n",
    "C = ax.pcolor(xeplot,Dl[:Dmax_index+1]*1000.,logNc_bin2.swapaxes(0,1),vmin=-1.0,vmax=3.0)\n",
    "ax.xaxis.set_major_locator(ticker.MultipleLocator(base=1.0))\n",
    "ax.yaxis.set_major_locator(ticker.MultipleLocator(base=1.0))\n",
    "ax.set_xlim(-30.0,30.0)\n",
    "ax.set_ylim(0.0,9.0)\n",
    "ax.set_ylabel('D (mm)')\n",
    "cax = divider.append_axes(\"bottom\",size=\"5%\",pad=0.35)\n",
    "cb = fig.colorbar(C,cax=cax,orientation='horizontal')\n",
    "cb.set_label(r'log[N ($m^{-3} mm^{-1}$)]')\n",
    "plt.savefig('sampled_modelDSD.png',dpi=300)"
   ]
  },
  {
   "cell_type": "code",
   "execution_count": null,
   "metadata": {},
   "outputs": [],
   "source": []
  }
 ],
 "metadata": {
  "anaconda-cloud": {},
  "kernelspec": {
   "display_name": "Python [default]",
   "language": "python",
   "name": "python2"
  },
  "language_info": {
   "codemirror_mode": {
    "name": "ipython",
    "version": 2
   },
   "file_extension": ".py",
   "mimetype": "text/x-python",
   "name": "python",
   "nbconvert_exporter": "python",
   "pygments_lexer": "ipython2",
   "version": "2.7.14"
  }
 },
 "nbformat": 4,
 "nbformat_minor": 2
}
