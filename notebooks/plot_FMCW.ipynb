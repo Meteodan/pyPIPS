{
 "cells": [
  {
   "cell_type": "code",
   "execution_count": 2,
   "metadata": {
    "ExecuteTime": {
     "end_time": "2019-07-15T22:19:03.206351Z",
     "start_time": "2019-07-15T22:19:01.934861Z"
    }
   },
   "outputs": [
    {
     "name": "stdout",
     "output_type": "stream",
     "text": [
      "\n",
      "## You are using the Python ARM Radar Toolkit (Py-ART), an open source\n",
      "## library for working with weather radar data. Py-ART is partly\n",
      "## supported by the U.S. Department of Energy as part of the Atmospheric\n",
      "## Radiation Measurement (ARM) Climate Research Facility, an Office of\n",
      "## Science user facility.\n",
      "##\n",
      "## If you use this software to prepare a publication, please cite:\n",
      "##\n",
      "##     JJ Helmus and SM Collis, JORS 2016, doi: 10.5334/jors.119\n",
      "\n"
     ]
    },
    {
     "name": "stderr",
     "output_type": "stream",
     "text": [
      "/Users/dawson29/miniconda3/envs/pyPIPS/lib/python3.7/site-packages/pyart/graph/cm.py:104: FutureWarning: elementwise comparison failed; returning scalar instead, but in the future will perform elementwise comparison\n",
      "  if 'red' in spec:\n",
      "/Users/dawson29/miniconda3/envs/pyPIPS/lib/python3.7/site-packages/pyart/graph/cm_colorblind.py:32: FutureWarning: elementwise comparison failed; returning scalar instead, but in the future will perform elementwise comparison\n",
      "  if 'red' in spec:\n"
     ]
    }
   ],
   "source": [
    "from glob import glob\n",
    "import os\n",
    "import itertools\n",
    "import numpy as np\n",
    "import matplotlib\n",
    "import matplotlib.pyplot as plt\n",
    "import matplotlib.cm as cm\n",
    "from mpl_toolkits.axes_grid1 import ImageGrid, make_axes_locatable, host_subplot\n",
    "import matplotlib.ticker as ticker\n",
    "from matplotlib.collections import Collection, LineCollection\n",
    "from matplotlib.artist import allow_rasterization\n",
    "from matplotlib.font_manager import FontProperties\n",
    "from matplotlib.colors import LinearSegmentedColormap\n",
    "import matplotlib.dates as md\n",
    "from metpy.plots import ctables\n",
    "from pyPIPS import disdrometer_module as dis\n",
    "from pyPIPS import timemodule as tm\n",
    "from itertools import cycle\n",
    "import netCDF4 as netcdf\n",
    "from datetime import datetime, timedelta\n",
    "import pandas as pd\n",
    "import xarray as xr"
   ]
  },
  {
   "cell_type": "code",
   "execution_count": 34,
   "metadata": {
    "ExecuteTime": {
     "end_time": "2019-07-15T22:42:20.444970Z",
     "start_time": "2019-07-15T22:42:20.376473Z"
    },
    "code_folding": []
   },
   "outputs": [],
   "source": [
    "# global constants, etc.\n",
    "from scipy.constants import c\n",
    "\n",
    "# Function definitions\n",
    "\n",
    "# Based on Robin's code\n",
    "\n",
    "# Some small functions needed throughout\n",
    "# Source: \n",
    "# https://stackoverflow.com/questions/32237862/find-the-closest-date-to-a-given-date\n",
    "def nearest(items, pivot):\n",
    "    \"\"\" Finds closest object to 'pivot' in list 'items' \"\"\"\n",
    "    return min(items, key=lambda x: abs(x - pivot))\n",
    "\n",
    "# This function formatter will replace integers with target names\n",
    "formatter = plt.FuncFormatter(lambda val, loc: categories[val+1])\n",
    "\n",
    "# My favorite blue-to-red colormap    \n",
    "cdict1 = {'red':  ((0.0, 0.0, 0.0),\n",
    "                   (0.3, 0.0, 0.0),\n",
    "                   (0.5, 1.0, 1.0),\n",
    "                   (0.7, 0.9, 0.9),\n",
    "                   (1.0, 0.4, 0.4)),\n",
    "\n",
    "         'green': ((0.0, 0.0, 0.0),\n",
    "                   (0.3, 0.0, 0.0),\n",
    "                   (0.5, 1.0, 1.0),\n",
    "                   (0.7, 0.0, 0.0),\n",
    "                   (1.0, 0.0, 0.0)),\n",
    "\n",
    "         'blue':  ((0.0, 0.4, 0.4),\n",
    "                   (0.3, 0.9, 0.9),\n",
    "                   (0.5, 1.0, 1.0),\n",
    "                   (0.7, 0.0, 0.0),\n",
    "                   (1.0, 0.0, 0.0))\n",
    "        }\n",
    "blue_red1 = LinearSegmentedColormap('BlueRed1', cdict1)\n",
    "\n",
    "# Custom black-blue-red colormap for hydrometeor classification\n",
    "hydroclass3 = LinearSegmentedColormap.from_list('hydroclass3', \\\n",
    "                                                [(1, 0, 0), (0, 0, 1), (1, 1, 1)], N=3)\n",
    "\n",
    "# Colormap for reflectivity that goes to blue instead of black\n",
    "plasma_white = LinearSegmentedColormap.from_list('plasma_white', \\\n",
    "                                                 ['white','purple','red','yellow'], \\\n",
    "                                                 N=256)\n",
    "\n",
    "\n",
    "def read_fmcw_xarray(filename):\n",
    "    \"\"\"Reads an FMCW netCDF file into an xarray DataSet\"\"\"\n",
    "    \n",
    "    fmcw_dataset = xr.open_dataset(filename)\n",
    "    # Rename a couple of the variables to the same name as the dimensions\n",
    "    # and assign them as coordinates\n",
    "    fmcw_dataset = fmcw_dataset.rename({'secs': 'time', 'gate': 'height'})\n",
    "    fmcw_dataset = fmcw_dataset.set_coords(['time', 'height'])\n",
    "    \n",
    "    # Fix the 'units' attribute of the new time coordinate so that it can be\n",
    "    # decoded into datetime objects\n",
    "    fmcw_dataset['time'].attrs['units'] = fmcw_dataset['time'].attrs.pop('Units')\n",
    "    fmcw_dataset['time'].attrs['units'] = 'seconds since 1-1-1970'\n",
    "    fmcw_dataset = xr.decode_cf(fmcw_dataset)\n",
    "    \n",
    "    # Add new Wavelength and Nyquist velocity attributes\n",
    "    \n",
    "    fmcw_dataset.attrs['Wavelength'] = c/fmcw_dataset.Frequency\n",
    "    fmcw_dataset.attrs['Vmax'] = fmcw_dataset.PRF * fmcw_dataset.Wavelength / 4.\n",
    "\n",
    "    return fmcw_dataset\n",
    "\n",
    "\n",
    "def read_fmcw(filename):\n",
    "    \"\"\"\n",
    "    Reads basic (moment) variables from a UMass FMCW NetCDF file.\n",
    "    \n",
    "    Input: \n",
    "        fileName : string\n",
    "           Name of the UMass FMCW data NetCDF file\n",
    "    Output: \n",
    "        A dictionary with the following arrays keyed by the array name:\n",
    "        \n",
    "        height : array\n",
    "            Height (m AGL)\n",
    "        vbins : array\n",
    "            Spectral Velocity Bins (m/s)\n",
    "        UTCtime : array\n",
    "            Time in UTC (24-hr)\n",
    "        Ze : array\n",
    "            Logarithmic reflectivity factor (dBZ)\n",
    "        vel : array\n",
    "            Mean Radial Velocity (m/s)\n",
    "        wid : array\n",
    "            Spectrum Width (m/s)\n",
    "        snr : array\n",
    "            Signal-to-noise ratio (dB)\n",
    "        PRF : float\n",
    "            Pulse repetition frequency (Hz)\n",
    "        Frequency : float\n",
    "            Radar frequency (Hz)\n",
    "        Wavelength : float\n",
    "            Radar wavelength (m)\n",
    "        Vmax : float\n",
    "            Maximum unambiguous (Nyquist) velocity (m/s)\n",
    "    \"\"\"\n",
    "    data = netcdf.Dataset(filename, \"r\")\n",
    "    height = data.variables['height'][:]\n",
    "    vbins = data.variables['vbins'][:]\n",
    "    secs = data.variables['secs'][:]\n",
    "    Ze = data.variables['Ze'][:]/10.\n",
    "    ZeName = data.variables['Ze'].Name\n",
    "    vel = data.variables['vel'][:]\n",
    "    velName = data.variables['vel'].Name\n",
    "    wid = data.variables['wid'][:]\n",
    "    widName = data.variables['wid'].Name\n",
    "    snr = data.variables['snr'][:]/10.\n",
    "    snrName = data.variables['snr'].Name\n",
    "    PRF = data.PRF\n",
    "    Frequency = data.Frequency\n",
    "    \n",
    "    data.close()\n",
    "    # Convert frequency to wavelength\n",
    "    Wavelength = c/Frequency\n",
    "    # Nyquist velocity\n",
    "    Vmax = PRF * Wavelength / 4.    \n",
    "    # Convert secs (number of seconds since epoch) into UTC time\n",
    "    UTCtime = []\n",
    "    for s in secs:\n",
    "        UTCtime.append(datetime(1970, 1, 1, 0, 0, 0) + timedelta(0, int(s)))\n",
    "    UTCtime = np.array(UTCtime)\n",
    "    return {'height': height, 'vbins': vbins, 'UTCtime': UTCtime, 'Ze': (ZeName, Ze), \n",
    "            'vel': (velName, vel), 'wid': (widName, wid), 'snr': (snrName, snr), \n",
    "            'PRF': PRF, 'Frequency': Frequency, 'Wavelength': Wavelength, 'Vmax': Vmax}\n",
    "\n",
    "\n",
    "def get_fmcw_filepaths(basedir, starttimestring, endtimestring):\n",
    "    \"\"\"Gets a list of FMCW file paths given a base directory and a starttime and endtime\"\"\"\n",
    "    timeformat = '%Y%m%d%H%M'\n",
    "    \n",
    "    starttime = datetime.strptime(starttimestring, timeformat)\n",
    "    endtime = datetime.strptime(endtimestring, timeformat)\n",
    "    \n",
    "    delta = endtime - starttime\n",
    "    totalhours = int(delta.days * 24 + delta.seconds/3600)\n",
    "\n",
    "    delta_day_bounds = (endtime.date() - starttime.date()).days\n",
    "\n",
    "    datetimerange = [starttime + timedelta(hours=x) for x in range(0, totalhours + 1)]\n",
    "    daterange = [starttime.date() + timedelta(days=x) for x in range(0, delta_day_bounds + 1)]\n",
    "\n",
    "    subdir_template = \"{:02d}{:02d}\"\n",
    "    subdirs = [subdir_template.format(x.month, x.day) for x in daterange]\n",
    "\n",
    "\n",
    "    filename_format = 'S{:04d}{:02d}{:02d}T{:02d}' \n",
    "    filename_templates = [filename_format.format(x.year, x.month, x.day, x.hour) for x in datetimerange]\n",
    "    \n",
    "    ncfiles2d = []\n",
    "    for subdir in subdirs:\n",
    "        absdir = os.path.join(fmcw_data_dir, subdir)\n",
    "        ncfiles2d.append(glob(absdir + '/*nc'))\n",
    "\n",
    "    ncfiles = list(itertools.chain.from_iterable(ncfiles2d))\n",
    "\n",
    "    pathlist = [f for f in ncfiles if any(m in f for m in filename_templates)]\n",
    "\n",
    "    return pathlist\n",
    "\n",
    "\n",
    "# def combine_fmcw_xr_datasets(datasets):\n",
    "#     \"\"\"Combines dictionaries containing FMCW data read in from multiple files into a single dictionary\"\"\"\n",
    "    \n",
    "#     combined_dict = {}\n",
    "#     for data_dict in data_dictlist:\n",
    "#         for varname in data_dict:\n",
    "            \n",
    "\n",
    "\n",
    "def plot_fmcw_4panel(fileName):\n",
    "    \"\"\"Basic four-panel plot of file contents.\"\"\"\n",
    "    \n",
    "    data_dict = read_fmcw(fileName)\n",
    "    \n",
    "#     height, vbins, UTCtime, Ze, vel, wid, snr, PRF, Frequency, Wavelength, Vmax, \\\n",
    "#         ZeName, velName, widName, snrName = readfmcw_more(fileName)\n",
    "    \n",
    "    height = data_dict['height']\n",
    "    Vmax = data_dict['Vmax']\n",
    "    UTCtime = data_dict['UTCtime']\n",
    "    ZeName, Ze = data_dict['Ze']\n",
    "    velName, vel = data_dict['vel']\n",
    "    widName, wid = data_dict['wid']\n",
    "    snrName, snr = data_dict['snr']\n",
    "    \n",
    "    if fileName[-18:-14] == \"2017\": Vmax = 7.3  # 2017 data were collected with a \n",
    "    # solid state amplifier that had a larger Nyquist interval than the default \n",
    "    # +/-4.9 m/s.\n",
    "    \n",
    "    # 4-panel plot of output\n",
    "    fig, ax = plt.subplots(2, 2, sharex=True, sharey=True)\n",
    "    fig.set_size_inches(8.5,4.75)\n",
    "    fig.subplots_adjust(bottom=0.15) # Keeps xlabel from getting chopped off\n",
    "    fig.subplots_adjust(wspace=0.05) # Expand subplots slightly in the horizontal\n",
    "    \n",
    "    # Reflectivity (Ze)\n",
    "    m1 = ax[0, 0].pcolormesh(UTCtime, height/1000., Ze.T,cmap=plasma_white, \\\n",
    "                             vmin=-30., vmax=30.)\n",
    "    ax[0, 0].set_title(\"(a) \" + ZeName + \" (dBZ)\")\n",
    "    ax[0, 0].set_ylim(np.min(height/1000.), np.max(height/1000.))\n",
    "    ax[0, 0].xaxis.set_major_locator(md.MinuteLocator(byminute=range(0, 60, 10)))\n",
    "    ax[0, 0].xaxis.set_major_formatter(md.DateFormatter('%H:%M'))\n",
    "    #plt.xticks(rotation=30)\n",
    "    #ax[0, 0].set_xlabel(\"Time (UTC)\")\n",
    "    ax[0, 0].set_ylabel(\"Height (km AGL)\")\n",
    "    plt.colorbar(m1,ax=ax[0, 0])\n",
    "    \n",
    "    # Doppler (vertical) velocity (vel)\n",
    "    m2 = ax[0, 1].pcolormesh(UTCtime,height/1000., vel.T, cmap=cm.RdBu_r, \\\n",
    "                             vmin=-1.*np.ceil(Vmax), vmax=np.ceil(Vmax))\n",
    "    ax[0, 1].set_title(\"(b) \" + velName + r\" (m s$^{-1}$)\")\n",
    "    ax[0, 1].set_ylim(np.min(height/1000.),np.max(height/1000.))\n",
    "    ax[0, 1].xaxis.set_major_locator(md.MinuteLocator(byminute=range(0, 60, 10)))\n",
    "    ax[0, 1].xaxis.set_major_formatter(md.DateFormatter('%H:%M'))\n",
    "    #plt.xticks(rotation=30)\n",
    "    #ax[0, 1].set_xlabel(\"Time (UTC)\")\n",
    "    #ax[0, 1].set_ylabel(\"Height (km AGL)\")\n",
    "    plt.colorbar(m2,ax=ax[0, 1])\n",
    "    \n",
    "    # Spectrum width (wid)\n",
    "    m3 = ax[1, 0].pcolormesh(UTCtime, height/1000., wid.T, cmap=cm.BuPu, \\\n",
    "                             vmin=0., vmax=5.)\n",
    "    ax[1, 0].set_title(\"(c) \" + widName + r\" (m s$^{-1}$)\")\n",
    "    ax[1, 0].set_ylim(np.min(height/1000.),np.max(height/1000.))\n",
    "    ax[1, 0].xaxis.set_major_locator(md.MinuteLocator(byminute=range(0, 60, 10)))\n",
    "    ax[1, 0].xaxis.set_major_formatter(md.DateFormatter('%H:%M'))\n",
    "    #plt.xticks(rotation=30)\n",
    "    ax[1, 0].set_xlabel(\"Time (UTC)\")\n",
    "    ax[1, 0].set_ylabel(\"Height (km AGL)\")\n",
    "    plt.colorbar(m3,ax=ax[1, 0])\n",
    "    \n",
    "    # SNR (db)\n",
    "    m4 = ax[1, 1].pcolormesh(UTCtime, height/1000., snr.T, cmap=cm.viridis, \\\n",
    "                             vmin=-20., vmax=30.)\n",
    "    ax[1, 1].set_title(\"(d) \" + snrName + \" (dB)\")\n",
    "    ax[1, 1].set_ylim(np.min(height/1000.), np.max(height/1000.))\n",
    "    ax[1, 1].xaxis.set_major_locator(md.MinuteLocator(byminute=range(0, 60, 10)))\n",
    "    ax[1, 1].xaxis.set_major_formatter(md.DateFormatter('%H:%M'))\n",
    "    #plt.xticks(rotation=30)\n",
    "    ax[1, 1].set_xlabel(\"Time (UTC)\")\n",
    "    #ax[1, 1].set_ylabel(\"Height (km AGL)\")\n",
    "    plt.colorbar(m4,ax=ax[1, 1])\n",
    "    \n",
    "    plt.savefig(fileName[-19:-3] + \"_4panel.png\",dpi=300)\n",
    "    \n",
    "    # Need to have ImageMagick installed on your system for the following command to\n",
    "    # work. It deletes white space around the edges of the plot (thus saving disk space).\n",
    "    #os.system(\"convert -trim \" + fileName[-19:-3] + \"_4panel.png \" + \\\n",
    "    #          fileName[-19:-3] + \"_4panel.png\")\n",
    "    \n",
    "def plot_fmcw_4panel_xarray(dataset):\n",
    "    \"\"\"Basic four-panel plot of file contents.\"\"\"\n",
    "    \n",
    "#     height, vbins, UTCtime, Ze, vel, wid, snr, PRF, Frequency, Wavelength, Vmax, \\\n",
    "#         ZeName, velName, widName, snrName = readfmcw_more(fileName)\n",
    "    if dataset['time'].dt.year[0].item() == 2017: Vmax = 7.3  # 2017 data were collected with a \n",
    "    # solid state amplifier that had a larger Nyquist interval than the default \n",
    "    # +/-4.9 m/s.\n",
    "        \n",
    "    # 4-panel plot of output\n",
    "    fig, ax = plt.subplots(2, 2, sharex=True, sharey=True)\n",
    "    fig.set_size_inches(8.5,4.75)\n",
    "    fig.subplots_adjust(bottom=0.15) # Keeps xlabel from getting chopped off\n",
    "    fig.subplots_adjust(wspace=0.05) # Expand subplots slightly in the horizontal\n",
    "    \n",
    "    # Reflectivity (Ze)\n",
    "#     m1 = ax[0, 0].pcolormesh(UTCtime, height/1000., Ze.T,cmap=plasma_white, \\\n",
    "#                              vmin=-30., vmax=30.)\n",
    "\n",
    "    m1 = dataset['Ze'].plot(x='time', y='height', ax=ax[0, 0], cmap=plasma_white)\n",
    "    \n",
    "#     ax[0, 0].set_title(\"(a) \" + ZeName + \" (dBZ)\")\n",
    "#     ax[0, 0].set_ylim(np.min(height/1000.), np.max(height/1000.))\n",
    "#     ax[0, 0].xaxis.set_major_locator(md.MinuteLocator(byminute=range(0, 60, 10)))\n",
    "#     ax[0, 0].xaxis.set_major_formatter(md.DateFormatter('%H:%M'))\n",
    "#     #plt.xticks(rotation=30)\n",
    "#     #ax[0, 0].set_xlabel(\"Time (UTC)\")\n",
    "#     ax[0, 0].set_ylabel(\"Height (km AGL)\")\n",
    "#     plt.colorbar(m1,ax=ax[0, 0])\n",
    "    \n",
    "    # Doppler (vertical) velocity (vel)\n",
    "#     m2 = ax[0, 1].pcolormesh(UTCtime,height/1000., vel.T, cmap=cm.RdBu_r, \\\n",
    "#                              vmin=-1.*np.ceil(Vmax), vmax=np.ceil(Vmax))\n",
    "    \n",
    "#     ax[0, 1].set_title(\"(b) \" + velName + r\" (m s$^{-1}$)\")\n",
    "#     ax[0, 1].set_ylim(np.min(height/1000.),np.max(height/1000.))\n",
    "#     ax[0, 1].xaxis.set_major_locator(md.MinuteLocator(byminute=range(0, 60, 10)))\n",
    "#     ax[0, 1].xaxis.set_major_formatter(md.DateFormatter('%H:%M'))\n",
    "#     #plt.xticks(rotation=30)\n",
    "#     #ax[0, 1].set_xlabel(\"Time (UTC)\")\n",
    "#     #ax[0, 1].set_ylabel(\"Height (km AGL)\")\n",
    "#     plt.colorbar(m2,ax=ax[0, 1])\n",
    "    \n",
    "#     # Spectrum width (wid)\n",
    "#     m3 = ax[1, 0].pcolormesh(UTCtime, height/1000., wid.T, cmap=cm.BuPu, \\\n",
    "#                              vmin=0., vmax=5.)\n",
    "#     ax[1, 0].set_title(\"(c) \" + widName + r\" (m s$^{-1}$)\")\n",
    "#     ax[1, 0].set_ylim(np.min(height/1000.),np.max(height/1000.))\n",
    "#     ax[1, 0].xaxis.set_major_locator(md.MinuteLocator(byminute=range(0, 60, 10)))\n",
    "#     ax[1, 0].xaxis.set_major_formatter(md.DateFormatter('%H:%M'))\n",
    "#     #plt.xticks(rotation=30)\n",
    "#     ax[1, 0].set_xlabel(\"Time (UTC)\")\n",
    "#     ax[1, 0].set_ylabel(\"Height (km AGL)\")\n",
    "#     plt.colorbar(m3,ax=ax[1, 0])\n",
    "    \n",
    "#     # SNR (db)\n",
    "#     m4 = ax[1, 1].pcolormesh(UTCtime, height/1000., snr.T, cmap=cm.viridis, \\\n",
    "#                              vmin=-20., vmax=30.)\n",
    "#     ax[1, 1].set_title(\"(d) \" + snrName + \" (dB)\")\n",
    "#     ax[1, 1].set_ylim(np.min(height/1000.), np.max(height/1000.))\n",
    "#     ax[1, 1].xaxis.set_major_locator(md.MinuteLocator(byminute=range(0, 60, 10)))\n",
    "#     ax[1, 1].xaxis.set_major_formatter(md.DateFormatter('%H:%M'))\n",
    "#     #plt.xticks(rotation=30)\n",
    "#     ax[1, 1].set_xlabel(\"Time (UTC)\")\n",
    "#     #ax[1, 1].set_ylabel(\"Height (km AGL)\")\n",
    "#     plt.colorbar(m4,ax=ax[1, 1])\n",
    "    \n",
    "#     plt.savefig(fileName[-19:-3] + \"_4panel.png\",dpi=300)\n",
    "    \n",
    "    # Need to have ImageMagick installed on your system for the following command to\n",
    "    # work. It deletes white space around the edges of the plot (thus saving disk space).\n",
    "    #os.system(\"convert -trim \" + fileName[-19:-3] + \"_4panel.png \" + \\\n",
    "    #          fileName[-19:-3] + \"_4panel.png\")"
   ]
  },
  {
   "cell_type": "code",
   "execution_count": 11,
   "metadata": {
    "ExecuteTime": {
     "end_time": "2019-07-15T22:21:57.973662Z",
     "start_time": "2019-07-15T22:21:57.966285Z"
    }
   },
   "outputs": [
    {
     "name": "stdout",
     "output_type": "stream",
     "text": [
      "['/Users/dawson29/pyPIPS_work/VORTEXSE/2016/fmcw_data/0429/S20160429T220010.nc', '/Users/dawson29/pyPIPS_work/VORTEXSE/2016/fmcw_data/0429/S20160429T230008.nc', '/Users/dawson29/pyPIPS_work/VORTEXSE/2016/fmcw_data/0429/S20160429T210001.nc', '/Users/dawson29/pyPIPS_work/VORTEXSE/2016/fmcw_data/0430/S20160430T010009.nc', '/Users/dawson29/pyPIPS_work/VORTEXSE/2016/fmcw_data/0430/S20160430T030000.nc', '/Users/dawson29/pyPIPS_work/VORTEXSE/2016/fmcw_data/0430/S20160430T020010.nc', '/Users/dawson29/pyPIPS_work/VORTEXSE/2016/fmcw_data/0430/S20160430T000151.nc']\n"
     ]
    }
   ],
   "source": [
    "fmcw_data_dir = '/Users/dawson29/pyPIPS_work/VORTEXSE/2016/fmcw_data/'\n",
    "starttimestring = '201604292100'\n",
    "endtimestring = '201604300300'\n",
    "\n",
    "filepaths = get_fmcw_filepaths(fmcw_data_dir, starttimestring, endtimestring)\n",
    "print(filepaths)"
   ]
  },
  {
   "cell_type": "code",
   "execution_count": 13,
   "metadata": {
    "ExecuteTime": {
     "end_time": "2019-07-15T22:23:26.945540Z",
     "start_time": "2019-07-15T22:23:26.821204Z"
    }
   },
   "outputs": [
    {
     "name": "stdout",
     "output_type": "stream",
     "text": [
      "Reading /Users/dawson29/pyPIPS_work/VORTEXSE/2016/fmcw_data/0429/S20160429T220010.nc\n",
      "Reading /Users/dawson29/pyPIPS_work/VORTEXSE/2016/fmcw_data/0429/S20160429T230008.nc\n",
      "Reading /Users/dawson29/pyPIPS_work/VORTEXSE/2016/fmcw_data/0429/S20160429T210001.nc\n",
      "Reading /Users/dawson29/pyPIPS_work/VORTEXSE/2016/fmcw_data/0430/S20160430T010009.nc\n",
      "Reading /Users/dawson29/pyPIPS_work/VORTEXSE/2016/fmcw_data/0430/S20160430T030000.nc\n",
      "Reading /Users/dawson29/pyPIPS_work/VORTEXSE/2016/fmcw_data/0430/S20160430T020010.nc\n",
      "Reading /Users/dawson29/pyPIPS_work/VORTEXSE/2016/fmcw_data/0430/S20160430T000151.nc\n"
     ]
    }
   ],
   "source": [
    "datasets = []\n",
    "for file in filepaths:\n",
    "    print(\"Reading \" + file)\n",
    "    datasets.append(read_fmcw_xarray(file))"
   ]
  },
  {
   "cell_type": "code",
   "execution_count": 14,
   "metadata": {
    "ExecuteTime": {
     "end_time": "2019-07-15T22:30:16.891649Z",
     "start_time": "2019-07-15T22:23:49.284738Z"
    }
   },
   "outputs": [],
   "source": [
    "fmcw_merged_dataset = xr.combine_by_coords(datasets)"
   ]
  },
  {
   "cell_type": "code",
   "execution_count": 27,
   "metadata": {
    "ExecuteTime": {
     "end_time": "2019-07-15T22:39:55.957905Z",
     "start_time": "2019-07-15T22:39:55.951582Z"
    }
   },
   "outputs": [
    {
     "data": {
      "text/plain": [
       "2016"
      ]
     },
     "execution_count": 27,
     "metadata": {},
     "output_type": "execute_result"
    }
   ],
   "source": [
    "fmcw_merged_dataset['time'].dt.year[0].item()"
   ]
  },
  {
   "cell_type": "code",
   "execution_count": 35,
   "metadata": {
    "ExecuteTime": {
     "end_time": "2019-07-15T22:42:26.342094Z",
     "start_time": "2019-07-15T22:42:23.191153Z"
    }
   },
   "outputs": [
    {
     "data": {
      "image/png": "[encoded data removed]",
      "text/plain": [
       "<Figure size 612x342 with 5 Axes>"
      ]
     },
     "metadata": {
      "needs_background": "light"
     },
     "output_type": "display_data"
    }
   ],
   "source": [
    "# %matplotlib inline\n",
    "# plt.rcParams[\"figure.figsize\"] = (20,10)\n",
    "plot_fmcw_4panel_xarray(fmcw_merged_dataset)"
   ]
  },
  {
   "cell_type": "code",
   "execution_count": null,
   "metadata": {
    "ExecuteTime": {
     "end_time": "2019-07-15T22:15:56.627606Z",
     "start_time": "2019-07-15T22:15:56.616607Z"
    }
   },
   "outputs": [],
   "source": []
  },
  {
   "cell_type": "code",
   "execution_count": null,
   "metadata": {},
   "outputs": [],
   "source": []
  }
 ],
 "metadata": {
  "hide_input": false,
  "kernelspec": {
   "display_name": "Python [conda env:pyPIPS]",
   "language": "python",
   "name": "conda-env-pyPIPS-py"
  },
  "language_info": {
   "codemirror_mode": {
    "name": "ipython",
    "version": 3
   },
   "file_extension": ".py",
   "mimetype": "text/x-python",
   "name": "python",
   "nbconvert_exporter": "python",
   "pygments_lexer": "ipython3",
   "version": "3.7.3"
  },
  "toc": {
   "base_numbering": 1,
   "nav_menu": {},
   "number_sections": true,
   "sideBar": true,
   "skip_h1_title": false,
   "title_cell": "Table of Contents",
   "title_sidebar": "Contents",
   "toc_cell": false,
   "toc_position": {},
   "toc_section_display": true,
   "toc_window_display": false
  },
  "varInspector": {
   "cols": {
    "lenName": 16,
    "lenType": 16,
    "lenVar": 40
   },
   "kernels_config": {
    "python": {
     "delete_cmd_postfix": "",
     "delete_cmd_prefix": "del ",
     "library": "var_list.py",
     "varRefreshCmd": "print(var_dic_list())"
    },
    "r": {
     "delete_cmd_postfix": ") ",
     "delete_cmd_prefix": "rm(",
     "library": "var_list.r",
     "varRefreshCmd": "cat(var_dic_list()) "
    }
   },
   "types_to_exclude": [
    "module",
    "function",
    "builtin_function_or_method",
    "instance",
    "_Feature"
   ],
   "window_display": false
  }
 },
 "nbformat": 4,
 "nbformat_minor": 2
}
