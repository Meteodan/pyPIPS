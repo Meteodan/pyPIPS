{
 "cells": [
  {
   "cell_type": "code",
   "execution_count": null,
   "metadata": {
    "ExecuteTime": {
     "end_time": "2020-03-10T14:58:53.652449Z",
     "start_time": "2020-03-10T14:58:50.844216Z"
    }
   },
   "outputs": [],
   "source": [
    "%load_ext autoreload\n",
    "%autoreload 2\n",
    "import numpy as np\n",
    "import numpy.ma as ma\n",
    "import matplotlib\n",
    "import matplotlib.pyplot as plt\n",
    "import matplotlib.cm as cm\n",
    "import matplotlib.ticker as ticker\n",
    "import matplotlib.dates as dates\n",
    "from mpl_toolkits.axes_grid1 import ImageGrid,make_axes_locatable,host_subplot\n",
    "#from mpl_toolkits.basemap import Basemap\n",
    "from datetime import datetime, timedelta\n",
    "import sys\n",
    "import os\n",
    "import pyPIPS.utils as utils\n",
    "import pyPIPS.thermolib as thermo\n",
    "import pyPIPS.DSDlib as dsd\n",
    "#import pyPIPS.disdrometer_module as dis\n",
    "import pyPIPS.plotmodule as PIPSplot\n",
    "#import pyPIPS.simulator as sim\n",
    "import pyPIPS.pips_io as pipsio\n",
    "import pyPIPS.PIPS as pips\n",
    "import pyPIPS.parsivel_params as pp\n",
    "import pyPIPS.parsivel_qc as pqc\n",
    "import pyPIPS.radarmodule as radar\n",
    "#from pyCRMtools.modules import plotmodule as plotmod\n",
    "from pyCRMtools.modules import utils as CRMutils\n",
    "from pyCRMtools.pycaps import arps_read\n",
    "from pyCRMtools.pycaps import pycaps_fields\n",
    "from pyCRMtools.pycaps import calvars_radar as pycaps_radar\n",
    "import pandas as pd\n",
    "import xarray as xr\n",
    "import glob\n",
    "import numpy.random as random\n",
    "from scipy.stats import gamma, uniform\n",
    "from scipy.special import gamma as gammafunc\n",
    "from scipy import ndimage\n",
    "from metpy.plots import StationPlot\n",
    "from metpy.calc import wind_components\n",
    "from metpy.cbook import get_test_data\n",
    "from metpy.plots import StationPlot\n",
    "from metpy.plots.wx_symbols import current_weather, sky_cover\n",
    "from metpy.units import units\n",
    "%matplotlib inline"
   ]
  },
  {
   "cell_type": "code",
   "execution_count": null,
   "metadata": {
    "ExecuteTime": {
     "end_time": "2020-03-10T14:58:53.914071Z",
     "start_time": "2020-03-10T14:58:53.818727Z"
    }
   },
   "outputs": [],
   "source": [
    "from natsort import natsorted\n",
    "radar_name = 'KHTX'\n",
    "radar_dir = '/Users/dawson29/sshfs_mounts/depot/data/Projects/VORTEXSE/obsdata/2017/NEXRAD/PIPS2A_FMCW/0430/CFRadial/modified/'\n",
    "radar_paths = glob.glob(radar_dir + '/cfrad.*')\n",
    "radar_paths = natsorted(radar_paths)"
   ]
  },
  {
   "cell_type": "code",
   "execution_count": null,
   "metadata": {
    "ExecuteTime": {
     "end_time": "2020-03-10T14:58:58.714743Z",
     "start_time": "2020-03-10T14:58:58.387620Z"
    },
    "scrolled": true
   },
   "outputs": [],
   "source": [
    "sweeptime_start = radar._getsweeptime(radar_paths[0])\n",
    "sweeptime_stop = radar._getsweeptime(radar_paths[-1])\n",
    "print(sweeptime_start, sweeptime_stop)"
   ]
  },
  {
   "cell_type": "code",
   "execution_count": null,
   "metadata": {
    "ExecuteTime": {
     "end_time": "2020-03-10T14:59:52.366658Z",
     "start_time": "2020-03-10T14:59:46.669098Z"
    },
    "scrolled": true
   },
   "outputs": [],
   "source": [
    "starttime = '20170430234917'\n",
    "stoptime = '20170430234917'\n",
    "\n",
    "radar_dict = radar.read_sweeps(radar_paths, starttime, stoptime)\n",
    "print(radar_dict['radarsweeplist'])"
   ]
  },
  {
   "cell_type": "code",
   "execution_count": null,
   "metadata": {
    "ExecuteTime": {
     "end_time": "2020-03-10T15:00:03.671733Z",
     "start_time": "2020-03-10T15:00:03.395865Z"
    },
    "scrolled": true
   },
   "outputs": [],
   "source": [
    "print(radar_dict['radarsweeplist'][0].info())"
   ]
  },
  {
   "cell_type": "code",
   "execution_count": null,
   "metadata": {
    "ExecuteTime": {
     "end_time": "2020-03-10T15:14:43.115499Z",
     "start_time": "2020-03-10T15:14:35.582306Z"
    },
    "scrolled": false
   },
   "outputs": [],
   "source": [
    "import pyart\n",
    "import cartopy.crs as ccrs\n",
    "\n",
    "for radar_obj in radar_dict['radarsweeplist'][:1]:\n",
    "    \n",
    "    xrad, yrad, zrad = radar_obj.get_gate_x_y_z(0)\n",
    "    display = pyart.graph.RadarMapDisplay(radar_obj)\n",
    "    fig = plt.figure(figsize=(10, 8))\n",
    "\n",
    "    projection = ccrs.LambertConformal(central_latitude=radar_obj.latitude['data'][0],\n",
    "                                       central_longitude=radar_obj.longitude['data'][0])\n",
    "    \n",
    "#     projection = ccrs.LambertConformal(central_latitude=PIPS_lat,\n",
    "#                                        central_longitude=PIPS_lon)\n",
    "    # plot D0\n",
    "    ax = fig.add_subplot(111)\n",
    "    print(\"Time: \", radar_obj.metadata['start_datetime'])\n",
    "    print(\"Elevation: \", radar_obj.elevation['data'][-1])\n",
    "    display.plot_ppi_map('D0', 0, title='D0', cmap='viridis',\n",
    "                         vmin=0., vmax=4., colorbar_label='', ax=ax, resolution='10m', projection=projection,\n",
    "                         fig=fig)\n",
    "                         # min_lon=-88., max_lon=-86., min_lat=40., max_lat=41.)\n",
    "    # plot ZDR\n",
    "    \n",
    "#     display.plot('ZDR', 0, title='ZDR',\n",
    "#                  vmin=0, vmax=6, colorbar_label='', ax=ax)\n",
    "    display.plot_range_ring(radar_obj.range['data'][-1]/1000., ax=ax)\n",
    "    #display.set_limits(xlim=(-50, 50), ylim=(-50, 50), ax=ax)\n",
    "    #display.set_limits(xlim=(-75, -55), ylim=(75, 95), ax=ax)\n",
    "    #display.plot_point(PIPS_lon, PIPS_lat, 'r*', ms=20)\n",
    "    display.ax.set_extent([-60000, 60000, -60000, 60000], crs=projection)\n",
    "    #ax.plot(PIPS_rad_loc[0]/1000., PIPS_rad_loc[1]/1000., 'r*', ms=20)\n",
    "    #ax.plot(xrad[theta_index, range_index]/1000., yrad[theta_index, range_index]/1000., 'rx')\n",
    "    #ax.contourf(xrad / 1000., yrad / 1000., distance)\n",
    "    #ax.text(PIPS_rad_loc[0] / 1000. - 5., PIPS_rad_loc[1] / 1000., 'PIPS1A', fontsize=10, bbox=dict(facecolor='white', alpha=0.5))\n",
    "    plt.show()"
   ]
  },
  {
   "cell_type": "code",
   "execution_count": null,
   "metadata": {},
   "outputs": [],
   "source": []
  }
 ],
 "metadata": {
  "anaconda-cloud": {},
  "hide_input": false,
  "kernelspec": {
   "display_name": "Python [conda env:pyPIPS]",
   "language": "python",
   "name": "conda-env-pyPIPS-py"
  },
  "language_info": {
   "codemirror_mode": {
    "name": "ipython",
    "version": 3
   },
   "file_extension": ".py",
   "mimetype": "text/x-python",
   "name": "python",
   "nbconvert_exporter": "python",
   "pygments_lexer": "ipython3",
   "version": "3.7.6"
  },
  "toc": {
   "base_numbering": 1,
   "nav_menu": {},
   "number_sections": true,
   "sideBar": true,
   "skip_h1_title": false,
   "title_cell": "Table of Contents",
   "title_sidebar": "Contents",
   "toc_cell": false,
   "toc_position": {},
   "toc_section_display": true,
   "toc_window_display": false
  },
  "varInspector": {
   "cols": {
    "lenName": 16,
    "lenType": 16,
    "lenVar": 40
   },
   "kernels_config": {
    "python": {
     "delete_cmd_postfix": "",
     "delete_cmd_prefix": "del ",
     "library": "var_list.py",
     "varRefreshCmd": "print(var_dic_list())"
    },
    "r": {
     "delete_cmd_postfix": ") ",
     "delete_cmd_prefix": "rm(",
     "library": "var_list.r",
     "varRefreshCmd": "cat(var_dic_list()) "
    }
   },
   "types_to_exclude": [
    "module",
    "function",
    "builtin_function_or_method",
    "instance",
    "_Feature"
   ],
   "window_display": false
  }
 },
 "nbformat": 4,
 "nbformat_minor": 2
}
