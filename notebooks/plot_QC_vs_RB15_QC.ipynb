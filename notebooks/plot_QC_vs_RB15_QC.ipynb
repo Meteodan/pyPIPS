{
 "cells": [
  {
   "cell_type": "markdown",
   "metadata": {},
   "source": [
    "# A notebook to make some scatter plots from PIPS data"
   ]
  },
  {
   "cell_type": "code",
   "execution_count": null,
   "metadata": {
    "ExecuteTime": {
     "end_time": "2020-10-23T18:14:49.656552Z",
     "start_time": "2020-10-23T18:14:49.571465Z"
    }
   },
   "outputs": [],
   "source": [
    "%load_ext autoreload\n",
    "%autoreload 2\n",
    "import numpy as np\n",
    "import numpy.ma as ma\n",
    "import matplotlib\n",
    "import matplotlib.pyplot as plt\n",
    "import matplotlib.cm as cm\n",
    "import matplotlib.ticker as ticker\n",
    "import matplotlib.dates as dates\n",
    "import matplotlib.colors as colors\n",
    "from mpl_toolkits.axes_grid1 import ImageGrid,make_axes_locatable,host_subplot\n",
    "#from mpl_toolkits.basemap import Basemap\n",
    "from datetime import datetime, timedelta\n",
    "import sys\n",
    "import os\n",
    "import pyPIPS.utils as utils\n",
    "import pyPIPS.thermolib as thermo\n",
    "import pyPIPS.DSDlib as dsd\n",
    "#import pyPIPS.disdrometer_module as dis\n",
    "import pyPIPS.plotmodule as PIPSplot\n",
    "#import pyPIPS.simulator as sim\n",
    "import pyPIPS.pips_io as pipsio\n",
    "import pyPIPS.PIPS as pips\n",
    "import pyPIPS.parsivel_params as pp\n",
    "import pyPIPS.parsivel_qc as pqc\n",
    "import pyPIPS.polarimetric as dualpol\n",
    "#from pyCRMtools.modules import plotmodule as plotmod\n",
    "from pyCRMtools.modules import utils as CRMutils\n",
    "# from pyCRMtools.pycaps import arps_read\n",
    "# from pyCRMtools.pycaps import pycaps_fields\n",
    "# from pyCRMtools.pycaps import calvars_radar as radar\n",
    "import pandas as pd\n",
    "import xarray as xr\n",
    "import glob\n",
    "import numpy.random as random\n",
    "from scipy.stats import gamma, uniform\n",
    "from scipy.special import gamma as gammafunc\n",
    "from scipy import ndimage\n",
    "from metpy.plots import StationPlot\n",
    "from metpy.calc import wind_components\n",
    "from metpy.cbook import get_test_data\n",
    "from metpy.plots import StationPlot\n",
    "import matplotlib.colors as colors\n",
    "from metpy.plots.wx_symbols import current_weather, sky_cover\n",
    "from metpy.units import units\n",
    "import matplotlib.colors as colors\n",
    "import warnings\n",
    "warnings.simplefilter('ignore')\n",
    "%matplotlib inline"
   ]
  },
  {
   "cell_type": "code",
   "execution_count": null,
   "metadata": {
    "ExecuteTime": {
     "end_time": "2020-10-23T18:15:14.918776Z",
     "start_time": "2020-10-23T18:14:54.476653Z"
    },
    "code_folding": [],
    "scrolled": true
   },
   "outputs": [],
   "source": [
    "# from natsort import natsorted\n",
    "from pprint import pprint\n",
    "\n",
    "def remove_unneeded(ds):\n",
    "    dim_names_to_remove = ['fields_KHTX', 'fields_KGWX', 'fields']\n",
    "    ds = ds.drop_dims(dim_names_to_remove, errors='ignore')\n",
    "    return ds\n",
    "#\n",
    "\n",
    "# ND_tag = '_qc'\n",
    "# rename_dict = {\n",
    "#     'Dm43': 'Dm43_qc',\n",
    "#     'sigma': 'sigma_qc',\n",
    "#     'DSD_MM24': 'DSD_MM24_qc',\n",
    "#     'DSD_MM36': 'DSD_MM36_qc',\n",
    "#     'DSD_MM346': 'DSD_MM346_qc',\n",
    "#     'DSD_MM246': 'DSD_MM246_qc',\n",
    "#     'DSD_MM234': 'DSD_MM234_qc',\n",
    "#     'DSD_TMM246': 'DSD_TMM246_qc',\n",
    "# }\n",
    "\n",
    "# rename_dict = {\n",
    "#     ''\n",
    "# }\n",
    "\n",
    "PIPS_dir = '/Volumes/scr_fast/Projects/VORTEXSE/obsdata/full_PIPS_dataset_RB15/'\n",
    "parsivel_filenames = glob.glob(PIPS_dir + '/parsivel_combined*60s*nc')\n",
    "# for parsivel_filename in parsivel_filenames[:1]:\n",
    "#     parsivel_ds = xr.load_dataset(parsivel_filename)\n",
    "# # #     varlist = [k for k, v in parsivel_ds.items()]\n",
    "# # #     vars_to_rename = [var for var in varlist if any(x in var for x in ['_retr_SATP_RB15_qc'])]\n",
    "# # #     new_varnames = [var.replace('SATP_RB15', 'SATP_TMM_RB15') for var in vars_to_rename]\n",
    "# # #     rename_dict = {varname: newvarname for varname, newvarname in zip(vars_to_rename, new_varnames)}\n",
    "# # #     # Rename some variables (one-time-only)\n",
    "# # #     parsivel_ds = parsivel_ds.rename(rename_dict)\n",
    "#     for retr_name in ['SATP_TMM', 'C08', 'Z01', 'TMM_F']:\n",
    "#         varname_old = 'Dm_retr_{}{}'.format(retr_name, ND_tag)\n",
    "#         varname_new = 'Dm43_retr_{}{}'.format(retr_name, ND_tag)\n",
    "#         parsivel_ds = parsivel_ds.rename({varname_old: varname_new})\n",
    "# # # #     # Next, remove all CG_coeff attributes\n",
    "# # # #     attr_names = parsivel_ds.attrs.copy()\n",
    "# # # #     for attr_name in attr_names:\n",
    "# # # #         if 'CG_coeff' in attr_name:\n",
    "# # # #             del parsivel_ds.attrs[attr_name]\n",
    "# # # #     # Save back to file\n",
    "#     parsivel_ds.to_netcdf(parsivel_filename)\n",
    "    \n",
    "    \n",
    "#     print(parsivel_filename)\n",
    "#     print(parsivel_ds['RR_retr_Z01_RB15_qc'])\n",
    "    # print(\"Number of times in {} = {:d}\".format(os.path.basename(parsivel_filename), parsivel_ds.sizes['time']))\n",
    "parsivel_ds_read = xr.open_mfdataset(parsivel_filenames, combine='nested', concat_dim=\"time\", \n",
    "                                     data_vars='minimal', coords='minimal', compat='override', parallel=True)\n",
    "# parsivel_ds_read = xr.open_mfdataset(parsivel_filenames, combine='nested', concat_dim='time',\n",
    "#                                      preprocess=pipsio.remove_unneeded) #, combine='nested', concat_dim='time')\n",
    "# # parsivel_ds_read = xr.open_mfdataset(parsivel_filenames, combine='by_coords', concat_dim='time',\n",
    "# #                                      preprocess=pipsio.remove_unneeded)\n",
    "\n",
    "# print(parsivel_ds_read)"
   ]
  },
  {
   "cell_type": "code",
   "execution_count": null,
   "metadata": {
    "ExecuteTime": {
     "end_time": "2020-10-23T21:38:37.340820Z",
     "start_time": "2020-10-23T21:38:37.251675Z"
    }
   },
   "outputs": [],
   "source": [
    "plot_dir = os.path.join(PIPS_dir, 'plots/QC_vs_RB15_QC/')\n",
    "if not os.path.exists(plot_dir):\n",
    "    os.makedirs(plot_dir)\n",
    "figfmt = 'png'\n",
    "# retr_names = ['SATP_TMM', 'C08', 'Z01', 'TMM_F']\n",
    "# titles = ['SATP', 'C08', 'Z01', 'TMM (filtered)']\n",
    "\n",
    "def plot_radar_field_one2one(varname1, varname2, var1, var2, col_field, title, axparams_var, \n",
    "                             deployment_name='Unknown', min_val=None, max_val=None):\n",
    "    valid_indices = np.isfinite(var1) & np.isfinite(var2)\n",
    "    var1 = var1.where(valid_indices)\n",
    "    var2 = var2.where(valid_indices)\n",
    "    var1_plt = var1\n",
    "    var2_plt = var2\n",
    "    if min_val:\n",
    "        overlap = (var1_plt > min_val) & (var2_plt > min_val)\n",
    "        var1_plt = var1_plt.where(overlap)\n",
    "        var2_plt = var2_plt.where(overlap)\n",
    "    if max_val:\n",
    "        overlap = (var1_plt < max_val) & (var2_plt < max_val)\n",
    "        var1_plt = var1_plt.where(overlap)\n",
    "        var2_plt = var2_plt.where(overlap)\n",
    "    var_ds = xr.Dataset({'var1': var1_plt, 'var2': var2_plt, 'col_field': col_field})\n",
    "    fig, ax = PIPSplot.plot_one2one(var_ds, 'var1', 'var2', axparams_var)\n",
    "    ax.set_title(title)\n",
    "    plot_filename = '{}_{}_one2one_{}_at_{}.{}'.format(deployment_name, var1.name, varname1, \n",
    "                                                       varname2, figfmt)\n",
    "    plot_path = os.path.join(plot_dir, plot_filename)\n",
    "    plt.savefig(plot_path, dpi=300, bbox_inches='tight')   \n",
    "\n",
    "def plot_PIPS_retrieval_one2one(ds, varname, var_obs, titles, retr_names, ND_tag, col_field, filter_tag=''):\n",
    "    for title, retr_name in zip(titles, retr_names):\n",
    "        var_retr = parsivel_ds['{}_retr_{}{}'.format(varname, retr_name, ND_tag)]\n",
    "        axparams_var = axparams[varname]\n",
    "        overlap = (var_obs > 0.) & (var_retr > 0.)\n",
    "        var_obs_plt = var_obs.where(overlap)\n",
    "        var_retr_plt = var_retr.where(overlap)\n",
    "        var_ds = xr.Dataset({'var_obs': var_obs_plt, 'var_retr': var_retr_plt, 'col_field': col_field})\n",
    "        axparams_var = axparams[varname]\n",
    "        fig, ax = PIPSplot.plot_one2one(var_ds, 'var_obs', 'var_retr', axparams_var)\n",
    "        ax.set_title(title)\n",
    "        plot_filename = '{}_one2one_PIPS_{}{}{}.{}'.format(varname, retr_name, ND_tag, filter_tag, figfmt)\n",
    "        plot_path = os.path.join(plot_dir, plot_filename)\n",
    "        plt.savefig(plot_path, dpi=300, bbox_inches='tight')   \n",
    "\n",
    "axparams = {\n",
    "    'Dm43': {\n",
    "        'var_lims': [[0.5, 4.5], [0.5, 4.5]],\n",
    "        'col_field': 'col_field',\n",
    "        'col_field_lims': [0.1, 200.],\n",
    "        'norm': colors.LogNorm(vmin=0.1, vmax=200.),\n",
    "        'alpha': 0.75,\n",
    "        'markersize': 5,\n",
    "        'label_x': r'$D_m$ (obs; mm)',\n",
    "        'label_y': r'$D_m$ (retrieved; mm)',\n",
    "        'label_cb': r'$RR$ (mm h$^{-1}$)'\n",
    "    },\n",
    "    'Nt': {\n",
    "        'var_lims': [[0.0, 4.5], [0.0, 4.5]],\n",
    "        'plot_log': [True, True],\n",
    "        'col_field': 'col_field',\n",
    "        'col_field_lims': [0.1, 200.],\n",
    "        'norm': colors.LogNorm(vmin=0.1, vmax=200.),\n",
    "        'alpha': 0.75,\n",
    "        'markersize': 5,\n",
    "        'label_x': r'$N_T$ (obs; #/m$^3$)',\n",
    "        'label_y': r'$N_T$ (retrieved; #/m$^3$)',\n",
    "        'label_cb': r'$RR$ (mm h$^{-1}$)'\n",
    "    },\n",
    "    'RR': {\n",
    "        'var_lims': [[0.0, 250.], [0.0, 250.]],\n",
    "        'plot_log': [False, False],\n",
    "        'col_field': 'col_field',\n",
    "        'col_field_lims': [0.1, 200.],\n",
    "        'norm': colors.LogNorm(vmin=0.1, vmax=200.),\n",
    "        'alpha': 0.75,\n",
    "        'markersize': 5,\n",
    "        'label_x': r'$RR$ (obs; mm h$^{-1}$)',\n",
    "        'label_y': r'$RR$ (retrieved; mm h$^{-1}$)',\n",
    "        'label_cb': r'$RR$ (mm h$^{-1}$)'\n",
    "    },\n",
    "    'D0': {\n",
    "        'var_lims': [[0.5, 4.5], [0.5, 4.5]],\n",
    "        'col_field': 'col_field',\n",
    "        'col_field_lims': [0.1, 200.],\n",
    "        'norm': colors.LogNorm(vmin=0.1, vmax=200.),\n",
    "        'alpha': 0.75,\n",
    "        'markersize': 5,\n",
    "        'label_x': r'$D_0$ (obs; mm)',\n",
    "        'label_y': r'$D_0$ (retrieved; mm)',\n",
    "        'label_cb': r'$RR$ (mm h$^{-1}$)'\n",
    "    },\n",
    "    'ZH': {\n",
    "        'var_lims': [[0.0, 60.], [0.0, 60.]],\n",
    "        'col_field': 'col_field',\n",
    "        'col_field_lims': [0.1, 200.],\n",
    "        'norm': colors.LogNorm(vmin=0.1, vmax=200.),\n",
    "        'alpha': 0.75,\n",
    "        'markersize': 15,\n",
    "        'label_x': r'$Z_H$ ({}; dBZ)',\n",
    "        'label_y': r'$Z_H$ ({}; dBZ)',\n",
    "        'label_cb': r'$RR$ (mm h$^{-1}$)'\n",
    "    },\n",
    "    'ZDR': {\n",
    "        'var_lims': [[0.0, 3.], [0.0, 3.]],\n",
    "        'col_field': 'col_field',\n",
    "        'col_field_lims': [0.1, 200.],\n",
    "        'norm': colors.LogNorm(vmin=0.1, vmax=200.),\n",
    "        'alpha': 0.75,\n",
    "        'markersize': 15,\n",
    "        'label_x': r'$Z_{{DR}}$ ({}; dB)',\n",
    "        'label_y': r'$Z_{{DR}}$ ({}; dB)',\n",
    "        'label_cb': r'$RR$ (mm h$^{-1}$)'\n",
    "    },\n",
    "    'lambda': {\n",
    "        'var_lims': [[0.0, 20.], [0.0, 20.]],\n",
    "        'col_field': 'col_field',\n",
    "        'col_field_lims': [0.1, 200.],\n",
    "        'norm': colors.LogNorm(vmin=0.1, vmax=200.),\n",
    "        'alpha': 0.75,\n",
    "        'markersize': 15,\n",
    "        'label_x': r'$\\lambda$ ({}; mm$^{{-1}}$)',\n",
    "        'label_y': r'$\\lambda$ ({}; mm$^{{-1}}$)',\n",
    "        'label_cb': r'$RR$ (mm h$^{-1}$)'\n",
    "    },\n",
    "    'mu': {\n",
    "        'var_lims': [[-2.0, 30.], [-2.0, 30.]],\n",
    "        'col_field': 'col_field',\n",
    "        'col_field_lims': [0.1, 200.],\n",
    "        'norm': colors.LogNorm(vmin=0.1, vmax=200.),\n",
    "        'alpha': 0.75,\n",
    "        'markersize': 15,\n",
    "        'label_x': r'$\\mu$ ({})',\n",
    "        'label_y': r'$\\mu$ ({})',\n",
    "        'label_cb': r'$RR$ (mm h$^{-1}$)'\n",
    "    }\n",
    "}"
   ]
  },
  {
   "cell_type": "code",
   "execution_count": null,
   "metadata": {
    "ExecuteTime": {
     "end_time": "2020-10-23T21:38:37.861142Z",
     "start_time": "2020-10-23T21:38:37.796476Z"
    }
   },
   "outputs": [],
   "source": [
    "ND_tags = ['_qc', '_RB15_qc']\n",
    "dD = pp.parsivel_parameters['max_diameter_bins_mm'] - pp.parsivel_parameters['min_diameter_bins_mm']"
   ]
  },
  {
   "cell_type": "code",
   "execution_count": null,
   "metadata": {
    "ExecuteTime": {
     "end_time": "2020-10-23T21:38:40.146314Z",
     "start_time": "2020-10-23T21:38:38.740248Z"
    }
   },
   "outputs": [],
   "source": [
    "# parsivel_ds = parsivel_ds_read\n",
    "# Filter on RR > 0.1\n",
    "# parsivel_ds = parsivel_ds_read.where(parsivel_ds_read['rainrate_derived{}'.format(ND_tags[0])] > 0.1, drop=True)\n",
    "# Filter on RR > 5 and counts > 1000\n",
    "parsivel_ds = parsivel_ds_read.where((parsivel_ds_read['rainrate_derived{}'.format(ND_tags[0])] > 5.0) &\n",
    "                                     (parsivel_ds_read['pcount_derived{}'.format(ND_tags[0])] > 1000), drop=True)\n",
    "ZH_dict = {}\n",
    "ZDR_dict = {}\n",
    "for ND_tag in ND_tags:\n",
    "    dualpol_dict = dualpol.calpolrain(10.7, '/Users/dawson29/Projects/pyPIPS/tmatrix/S-Band/SCTT_RAIN_fw100.dat',\n",
    "                                      parsivel_ds['ND{}'.format(ND_tag)], dD)\n",
    "    ZH_dict[ND_tag] = dualpol_dict['REF']\n",
    "    ZDR_dict[ND_tag] = dualpol_dict['ZDR']"
   ]
  },
  {
   "cell_type": "code",
   "execution_count": null,
   "metadata": {
    "ExecuteTime": {
     "end_time": "2020-10-23T21:38:43.281342Z",
     "start_time": "2020-10-23T21:38:40.528823Z"
    }
   },
   "outputs": [],
   "source": [
    "# Plot Z one-to-one scatterplots\n",
    "axparams_var = axparams['ZH'].copy()\n",
    "axparams_var['col_field'] = None\n",
    "axparams_var['label_x'] = axparams_var['label_x'].format(ND_tags[0][1:])\n",
    "axparams_var['label_y'] = axparams_var['label_y'].format(ND_tags[1][1:])\n",
    "title = r'$Z_H$: {} vs. {}'.format(ND_tags[0][1:], ND_tags[1][1:])\n",
    "\n",
    "plot_radar_field_one2one(ND_tags[0], ND_tags[1], ZH_dict[ND_tags[0]], ZH_dict[ND_tags[1]], None, title, \n",
    "                         axparams_var, deployment_name=None, min_val=0.)"
   ]
  },
  {
   "cell_type": "code",
   "execution_count": null,
   "metadata": {
    "ExecuteTime": {
     "end_time": "2020-10-23T21:38:46.911322Z",
     "start_time": "2020-10-23T21:38:43.661718Z"
    }
   },
   "outputs": [],
   "source": [
    "# Plot ZDR one-to-one scatterplots\n",
    "axparams_var = axparams['ZDR'].copy()\n",
    "axparams_var['col_field'] = None\n",
    "axparams_var['label_x'] = axparams_var['label_x'].format(ND_tags[0][1:])\n",
    "axparams_var['label_y'] = axparams_var['label_y'].format(ND_tags[1][1:])\n",
    "title = r'$Z_{{DR}}$: {} vs. {}'.format(ND_tags[0][1:], ND_tags[1][1:])\n",
    "\n",
    "plot_radar_field_one2one(ND_tags[0], ND_tags[1], ZDR_dict[ND_tags[0]], ZDR_dict[ND_tags[1]], None, title, \n",
    "                         axparams_var, deployment_name=None, min_val=0., max_val=3.)"
   ]
  },
  {
   "cell_type": "code",
   "execution_count": null,
   "metadata": {
    "ExecuteTime": {
     "end_time": "2020-10-23T21:41:28.237389Z",
     "start_time": "2020-10-23T21:41:25.383380Z"
    }
   },
   "outputs": [],
   "source": [
    "# Plot lambda one-to-one scatterplots\n",
    "axparams_var = axparams['lambda'].copy()\n",
    "axparams_var['col_field'] = None\n",
    "axparams_var['label_x'] = axparams_var['label_x'].format(ND_tags[0][1:])\n",
    "axparams_var['label_y'] = axparams_var['label_y'].format(ND_tags[1][1:])\n",
    "var1 = parsivel_ds['DSD_TMM246{}'.format(ND_tags[0])].sel(parameter='lamda') / 1000.\n",
    "var2 = parsivel_ds['DSD_TMM246{}'.format(ND_tags[1])].sel(parameter='lamda') / 1000.\n",
    "title = r'$\\lambda$: {} vs. {}'.format(ND_tags[0][1:], ND_tags[1][1:])\n",
    "\n",
    "plot_radar_field_one2one(ND_tags[0], ND_tags[1], var1, var2, None, title, \n",
    "                         axparams_var, deployment_name=None, min_val=0., max_val=20.)"
   ]
  },
  {
   "cell_type": "code",
   "execution_count": null,
   "metadata": {
    "ExecuteTime": {
     "end_time": "2020-10-23T21:41:37.551826Z",
     "start_time": "2020-10-23T21:41:35.021176Z"
    }
   },
   "outputs": [],
   "source": [
    "# Plot mu one-to-one scatterplots\n",
    "axparams_var = axparams['mu'].copy()\n",
    "axparams_var['col_field'] = None\n",
    "axparams_var['label_x'] = axparams_var['label_x'].format(ND_tags[0][1:])\n",
    "axparams_var['label_y'] = axparams_var['label_y'].format(ND_tags[1][1:])\n",
    "var1 = parsivel_ds['DSD_TMM246{}'.format(ND_tags[0])].sel(parameter='alpha')\n",
    "var2 = parsivel_ds['DSD_TMM246{}'.format(ND_tags[1])].sel(parameter='alpha')\n",
    "title = r'$\\lambda$: {} vs. {}'.format(ND_tags[0][1:], ND_tags[1][1:])\n",
    "\n",
    "plot_radar_field_one2one(ND_tags[0], ND_tags[1], var1, var2, None, title, \n",
    "                         axparams_var, deployment_name=None, min_val=-2., max_val=30.)"
   ]
  },
  {
   "cell_type": "code",
   "execution_count": null,
   "metadata": {},
   "outputs": [],
   "source": [
    "# OLD CELLS BELOW"
   ]
  },
  {
   "cell_type": "code",
   "execution_count": null,
   "metadata": {
    "ExecuteTime": {
     "end_time": "2020-07-07T15:51:39.108598Z",
     "start_time": "2020-07-07T15:51:38.418916Z"
    }
   },
   "outputs": [],
   "source": [
    "# Filter on RR > 0.1 mm/h\n",
    "# parsivel_ds = parsivel_ds_read.where(parsivel_ds_read['rainrate_derived{}'.format(ND_tag)] > 0.1, drop=True)\n",
    "# filter_tag = ''\n",
    "# Filter on RR > 5 and counts > 1000\n",
    "parsivel_ds = parsivel_ds_read.where((parsivel_ds_read['rainrate_derived{}'.format(ND_tag)] > 5.0) &\n",
    "                                     (parsivel_ds_read['pcount_derived{}'.format(ND_tag)] > 1000), drop=True)\n",
    "filter_tag = 'RR5pcount1000'\n",
    "print(parsivel_ds)\n",
    "# Drop all times with DSD particle counts < 50\n",
    "# parsivel_ds = parsivel_ds_read.where(parsivel_ds_read['pcount_derived_qc'] >= 50, drop=True)\n",
    "# print(parsivel_ds)"
   ]
  },
  {
   "cell_type": "code",
   "execution_count": null,
   "metadata": {
    "ExecuteTime": {
     "end_time": "2020-07-07T15:51:44.126885Z",
     "start_time": "2020-07-07T15:51:43.233068Z"
    },
    "scrolled": true
   },
   "outputs": [],
   "source": [
    "# Filter on ZDR > 0.1 for now (Guifu's retrieval code uses their own empirical fits for ZDR < 0.1, so we need\n",
    "# to compute our own since we get weird artifacts using theirs)\n",
    "ND = parsivel_ds['ND{}'.format(ND_tag)]\n",
    "dD = pp.parsivel_parameters['max_diameter_bins_mm'] - pp.parsivel_parameters['min_diameter_bins_mm']\n",
    "dualpol_dict = dualpol.calpolrain(10.7, '/Users/dawson29/Projects/pyPIPS/tmatrix/S-Band/SCTT_RAIN_fw100.dat',\n",
    "                                  ND, dD)\n",
    "ZH = dualpol_dict['ZH']\n",
    "ZDR = dualpol_dict['ZDR']\n",
    "parsivel_ds = parsivel_ds.where(ZDR > 0.1)"
   ]
  },
  {
   "cell_type": "code",
   "execution_count": null,
   "metadata": {
    "ExecuteTime": {
     "end_time": "2020-07-07T15:51:49.975816Z",
     "start_time": "2020-07-07T15:51:47.041219Z"
    }
   },
   "outputs": [],
   "source": [
    "# Rename some variables to make things easier. NOTE: Done! \n",
    "\n",
    "# for retr_name in ['SATP', 'C08', 'Z01', 'TMM_F']:\n",
    "#     varname_old = 'Dm_retr_{}{}'.format(retr_name, ND_tag)\n",
    "#     varname_new = 'Dm43_retr_{}{}'.format(retr_name, ND_tag)\n",
    "#     parsivel_ds = parsivel_ds.rename({varname_old: varname_new})\n",
    "\n",
    "ND = parsivel_ds['ND{}'.format(ND_tag)]\n",
    "print(ND['min_diameter'])\n",
    "dD = pp.parsivel_parameters['max_diameter_bins_mm'] - pp.parsivel_parameters['min_diameter_bins_mm']\n",
    "dualpol_dict = dualpol.calpolrain(10.7, '/Users/dawson29/Projects/pyPIPS/tmatrix/S-Band/SCTT_RAIN_fw100.dat',\n",
    "                                  ND, dD)\n",
    "ZH = dualpol_dict['ZH']\n",
    "ZDR = dualpol_dict['ZDR']\n",
    "rho = parsivel_ds['rho']\n",
    "W_obs, _ = dsd.calc_lwc_qr_from_bins(ND, rho)\n",
    "W_obs = W_obs * 1000.\n",
    "Dm_obs = parsivel_ds['Dm43{}'.format(ND_tag)] * 1000.\n",
    "D0_obs = dsd.calc_D0_bin(ND.load()) * 1000.\n",
    "for retr_name in ['SATP_TMM', 'C08', 'Z01', 'TMM_F']:\n",
    "    ND_retr = parsivel_ds['ND_retr_{}{}'.format(retr_name, ND_tag)]\n",
    "    parsivel_ds['D0_retr_{}{}'.format(retr_name, ND_tag)] = dsd.calc_D0_bin(ND_retr.load()) * 1000.\n",
    "RR_obs = parsivel_ds['rainrate_derived{}'.format(ND_tag)]\n",
    "Nt_obs = dsd.calc_NT_from_bins(parsivel_ds['ND{}'.format(ND_tag)])\n",
    "    \n",
    "# parsivel_ds['W_obs'] = W_obs\n",
    "# W_retr_SATP = parsivel_ds['W_retr_SATP{}'.format(ND_tag)]\n",
    "# W_retr_TMM_F = parsivel_ds['W_retr_TMM_F{}'.format(ND_tag)]\n",
    "# W_retr_C08 = parsivel_ds['W_retr_C08{}'.format(ND_tag)]\n",
    "# W_retr_Z01 = parsivel_ds['W_retr_Z01{}'.format(ND_tag)]\n",
    "\n",
    "\n",
    "# Dm_retr_SATP = parsivel_ds['Dm_retr_SATP{}'.format(ND_tag)]\n",
    "# Dm_retr_TMM_F = parsivel_ds['Dm_retr_TMM_F{}'.format(ND_tag)]\n",
    "# Dm_retr_C08 = parsivel_ds['Dm_retr_C08{}'.format(ND_tag)]\n",
    "# Dm_retr_Z01 = parsivel_ds['Dm_retr_Z01{}'.format(ND_tag)]\n",
    "\n",
    "# Nt_retr_SATP = parsivel_ds['Nt_retr_SATP{}'.format(ND_tag)]\n",
    "# Nt_retr_C08 = parsivel_ds['Nt_retr_C08{}'.format(ND_tag)]\n",
    "# Nt_retr_Z01 = parsivel_ds['Nt_retr_Z01{}'.format(ND_tag)]\n",
    "# Nt_retr_TMM_F = parsivel_ds['Nt_retr_TMM_F{}'.format(ND_tag)]\n",
    "# RR_retr_SATP = parsivel_ds['RR_retr_SATP{}'.format(ND_tag)]\n",
    "# RR_retr_C08 = parsivel_ds['RR_retr_C08{}'.format(ND_tag)]\n",
    "# RR_retr_Z01 = parsivel_ds['RR_retr_Z01{}'.format(ND_tag)]\n",
    "# RR_retr_TMM_F = parsivel_ds['RR_retr_TMM_F{}'.format(ND_tag)]"
   ]
  },
  {
   "cell_type": "code",
   "execution_count": null,
   "metadata": {
    "ExecuteTime": {
     "end_time": "2020-07-07T15:52:22.304121Z",
     "start_time": "2020-07-07T15:51:56.697082Z"
    },
    "scrolled": true
   },
   "outputs": [],
   "source": [
    "# Dm\n",
    "varname = 'Dm43'\n",
    "var_obs = Dm_obs\n",
    "col_field = RR_obs\n",
    "\n",
    "plot_PIPS_retrieval_one2one(parsivel_ds, varname, var_obs, titles, retr_names, ND_tag, col_field, filter_tag)"
   ]
  },
  {
   "cell_type": "code",
   "execution_count": null,
   "metadata": {
    "ExecuteTime": {
     "end_time": "2020-07-07T15:52:55.009860Z",
     "start_time": "2020-07-07T15:52:25.650354Z"
    },
    "scrolled": true
   },
   "outputs": [],
   "source": [
    "# Nt\n",
    "varname = 'Nt'\n",
    "var_obs = Nt_obs\n",
    "col_field = RR_obs\n",
    "\n",
    "plot_PIPS_retrieval_one2one(parsivel_ds, varname, var_obs, titles, retr_names, ND_tag, col_field, filter_tag)"
   ]
  },
  {
   "cell_type": "code",
   "execution_count": null,
   "metadata": {
    "ExecuteTime": {
     "end_time": "2020-07-07T15:53:21.965776Z",
     "start_time": "2020-07-07T15:52:58.371907Z"
    },
    "scrolled": true
   },
   "outputs": [],
   "source": [
    "# RR\n",
    "varname = 'RR'\n",
    "var_obs = RR_obs\n",
    "col_field = RR_obs\n",
    "\n",
    "plot_PIPS_retrieval_one2one(parsivel_ds, varname, var_obs, titles, retr_names, ND_tag, col_field, filter_tag)"
   ]
  },
  {
   "cell_type": "code",
   "execution_count": null,
   "metadata": {
    "ExecuteTime": {
     "end_time": "2020-07-07T15:53:40.482496Z",
     "start_time": "2020-07-07T15:53:25.376765Z"
    },
    "scrolled": true
   },
   "outputs": [],
   "source": [
    "# D0\n",
    "varname = 'D0'\n",
    "var_obs = D0_obs\n",
    "col_field = RR_obs\n",
    "\n",
    "plot_PIPS_retrieval_one2one(parsivel_ds, varname, var_obs, titles, retr_names, ND_tag, col_field, filter_tag)"
   ]
  },
  {
   "cell_type": "code",
   "execution_count": null,
   "metadata": {
    "ExecuteTime": {
     "end_time": "2020-07-02T18:18:14.414408Z",
     "start_time": "2020-07-02T18:18:13.413136Z"
    }
   },
   "outputs": [],
   "source": [
    "# Plot D0 vs ZDR and compute polynomial fit\n",
    "\n",
    "overlap = (D0_obs > 0.) & (ZDR > 0.)\n",
    "D0_plt = D0_obs.where(overlap)\n",
    "ZDR_plt = ZDR.where(overlap)\n",
    "RR_plt = RR_obs.where(overlap)\n",
    "\n",
    "D0_ds = xr.Dataset({'D0': D0_plt, 'ZDR': ZDR_plt, 'RR_obs': RR_plt})\n",
    "\n",
    "D0_plt_vals = D0_plt.values\n",
    "ZDR_plt_vals = ZDR_plt.values\n",
    "\n",
    "goodindices = np.isfinite(D0_plt_vals) & np.isfinite(ZDR_plt_vals)\n",
    "D0_plt_vals = D0_plt_vals[goodindices]\n",
    "ZDR_plt_vals = ZDR_plt_vals[goodindices]"
   ]
  },
  {
   "cell_type": "code",
   "execution_count": null,
   "metadata": {
    "ExecuteTime": {
     "end_time": "2020-07-02T18:18:19.646827Z",
     "start_time": "2020-07-02T18:18:16.633561Z"
    },
    "scrolled": false
   },
   "outputs": [],
   "source": [
    "\n",
    "axparams = {\n",
    "    'var_lims': [[0., 4.], [0., 5.]],\n",
    "    'plot_log': [False, False],\n",
    "    'col_field': 'RR_obs',\n",
    "    'col_field_lims': [0.1, 200.],\n",
    "    'norm': colors.LogNorm(vmin=0.1, vmax=200.),\n",
    "    'alpha': 0.75,\n",
    "    'markersize': 5,\n",
    "    'label_x': r'$Z_{DR}$ (dB)',\n",
    "    'label_y': r'$D_0 (mm)$', \n",
    "    'label_cb': r'$RR$ (mm h$^{-1}$)'\n",
    "}\n",
    "fig, ax = PIPSplot.plot_scatter(D0_ds, 'ZDR', 'D0', axparams)\n",
    "poly_coeff, poly = dsd.calc_empirical_polyfit(ZDR_plt_vals, D0_plt_vals, order=3)\n",
    "print(poly_coeff)\n",
    "\n",
    "xx = np.linspace(0., 4.)\n",
    "yy = poly(xx)\n",
    "ax.plot(xx, yy, 'k')\n",
    "\n",
    "D0_cao = 0.0436 * (xx**3.) - 0.216 * (xx**2.) + 1.076 * xx + 0.659\n",
    "ax.plot(xx, D0_cao, 'b')"
   ]
  },
  {
   "cell_type": "code",
   "execution_count": null,
   "metadata": {
    "ExecuteTime": {
     "end_time": "2020-07-02T18:18:46.284298Z",
     "start_time": "2020-07-02T18:18:40.089817Z"
    }
   },
   "outputs": [],
   "source": [
    "# TODO: Update cells from here down\n",
    "\n",
    "# Plot log(R/Zh) one-to-one plot\n",
    "overlap = (RR_obs > 0.) & (RR_retr_SATP > 0.)\n",
    "RR_obs_plt = RR_obs.where(overlap)\n",
    "RR_retr_SATP_plt = RR_retr_SATP.where(overlap)\n",
    "\n",
    "ZH_plt = ZH.where(ZH > 0.)\n",
    "RRdZH_obs = RR_obs_plt/ZH_plt\n",
    "RRdZH_retr_SATP = RR_retr_SATP_plt/ZH_plt\n",
    "\n",
    "RRdZH_ds = xr.Dataset({'RRdZH_obs': RRdZH_obs, 'RRdZH_retr_SATP': RRdZH_retr_SATP, 'RR_obs': RR_obs_plt})\n",
    "\n",
    "axparams = {\n",
    "    'var_lims': [[-4., -1.5], [-4., -1.5]],\n",
    "    'plot_log': [True, True],\n",
    "    'col_field': 'RR_obs',\n",
    "    'col_field_lims': [0.1, 200.],\n",
    "    'norm': colors.LogNorm(vmin=0.1, vmax=200.),\n",
    "    'alpha': 0.75,\n",
    "    'markersize': 5,\n",
    "    'label_x': r'$\\log{R/Z_H}$ (obs)',\n",
    "    'label_y': r'$\\log{R/Z_H}$ (retrieved)',\n",
    "    'label_cb': r'$RR$ (mm h$^{-1}$)'\n",
    "}\n",
    "PIPSplot.plot_one2one(RRdZH_ds, 'RRdZH_obs', 'RRdZH_retr_SATP', axparams)"
   ]
  },
  {
   "cell_type": "code",
   "execution_count": null,
   "metadata": {
    "ExecuteTime": {
     "end_time": "2020-07-02T18:18:56.455588Z",
     "start_time": "2020-07-02T18:18:55.051338Z"
    }
   },
   "outputs": [],
   "source": [
    "# Plot R/Zh vs. ZDR and compute polynomial fit\n",
    "overlap = (RRdZH_obs > 0.) & (ZDR > 0.)\n",
    "RRdZH_obs_plt = RRdZH_obs.where(overlap)\n",
    "ZDR_plt = ZDR.where(overlap)\n",
    "RR_obs_plt = RR_obs.where(overlap)\n",
    "\n",
    "RRdZH_ZDR_ds = xr.Dataset({'RRdZH': RRdZH_obs_plt, 'ZDR': ZDR_plt, 'RR_obs': RR_obs_plt})\n",
    "\n",
    "RRdZH_vals = RRdZH_obs_plt.values\n",
    "log_RRdZH_vals = np.log10(RRdZH_vals)\n",
    "ZDR_vals = ZDR_plt.values\n",
    "\n",
    "goodindices = np.isfinite(log_RRdZH_vals) & np.isfinite(ZDR_vals)\n",
    "log_RRdZH_vals = log_RRdZH_vals[goodindices]\n",
    "ZDR_vals = ZDR_vals[goodindices]"
   ]
  },
  {
   "cell_type": "code",
   "execution_count": null,
   "metadata": {
    "ExecuteTime": {
     "end_time": "2020-07-02T18:18:58.919495Z",
     "start_time": "2020-07-02T18:18:58.833238Z"
    }
   },
   "outputs": [],
   "source": [
    "from scipy.optimize import curve_fit\n",
    "def func(x, a, b, c, d):\n",
    "    return a*x**3. + b*x**2. + c*x + d\n",
    "\n",
    "popt, pcov = curve_fit(func, ZDR_vals, log_RRdZH_vals)\n",
    "print(popt)\n",
    "\n",
    "# Gives almost the same results (reversed coefficient order...)"
   ]
  },
  {
   "cell_type": "code",
   "execution_count": null,
   "metadata": {
    "ExecuteTime": {
     "end_time": "2020-07-02T18:19:04.675145Z",
     "start_time": "2020-07-02T18:19:01.184265Z"
    }
   },
   "outputs": [],
   "source": [
    "\n",
    "axparams = {\n",
    "    'var_lims': [[0., 4.], [-4., -1.5]],\n",
    "    'plot_log': [False, True],\n",
    "    'col_field': 'RR_obs',\n",
    "    'col_field_lims': [0.1, 200.],\n",
    "    'norm': colors.LogNorm(vmin=0.1, vmax=200.),\n",
    "    'alpha': 0.75,\n",
    "    'markersize': 5,\n",
    "    'label_x': r'$Z_{DR}$ (dB)',\n",
    "    'label_y': r'$\\log{R/Z_H}$', \n",
    "    'label_cb': r'$RR$ (mm h$^{-1}$)'\n",
    "}\n",
    "fig, ax = PIPSplot.plot_scatter(RRdZH_ZDR_ds, 'ZDR', 'RRdZH', axparams)\n",
    "poly_coeff, poly = dsd.calc_empirical_polyfit(ZDR_vals, log_RRdZH_vals, order=3)\n",
    "print(poly_coeff)\n",
    "\n",
    "xx = np.linspace(0., 4.)\n",
    "yy = poly(xx)\n",
    "ax.plot(xx, 10.**yy, 'k')\n",
    "\n",
    "RdZH_cao = 10.**(-0.0363 * (xx**3.) + 0.316 * (xx**2.) - 1.178 * xx - 1.964)\n",
    "ax.plot(xx, RdZH_cao, 'b')"
   ]
  },
  {
   "cell_type": "code",
   "execution_count": null,
   "metadata": {
    "ExecuteTime": {
     "end_time": "2020-07-02T18:19:27.510040Z",
     "start_time": "2020-07-02T18:19:21.264755Z"
    }
   },
   "outputs": [],
   "source": [
    "# Plot W/ZH one-to-one\n",
    "overlap = (W_obs > 0.) & (W_retr_SATP > 0.)\n",
    "W_obs_plt = W_obs.where(overlap)\n",
    "W_retr_SATP_plt = W_retr_SATP.where(overlap)\n",
    "RR_obs_plt = RR_obs.where(overlap)\n",
    "\n",
    "WdZH_obs = W_obs_plt/ZH_plt\n",
    "WdZH_retr_SATP = W_retr_SATP_plt/ZH_plt\n",
    "WdZH_ds = xr.Dataset({'WdZH_obs': WdZH_obs, 'WdZH_retr': WdZH_retr_SATP, 'RR_obs': RR_obs_plt})\n",
    "\n",
    "axparams = {\n",
    "    'var_lims': [[-6., -2.], [-6, -2.]],\n",
    "    'plot_log': [True, True],\n",
    "    'col_field': 'RR_obs',\n",
    "    'col_field_lims': [0.1, 200.],\n",
    "    'norm': colors.LogNorm(vmin=0.1, vmax=200.),\n",
    "    'alpha': 0.75,\n",
    "    'markersize': 5,\n",
    "    'label_x': r'$\\log{W/Z_H}$ (obs)',\n",
    "    'label_y': r'$\\log{W/Z_H}$ (retrieved)',\n",
    "    'label_cb': r'$RR$ (mm h$^{-1}$)'\n",
    "}\n",
    "PIPSplot.plot_one2one(WdZH_ds, 'WdZH_obs', 'WdZH_retr', axparams)"
   ]
  },
  {
   "cell_type": "code",
   "execution_count": null,
   "metadata": {
    "ExecuteTime": {
     "end_time": "2020-07-02T18:19:34.234759Z",
     "start_time": "2020-07-02T18:19:33.071046Z"
    }
   },
   "outputs": [],
   "source": [
    "# Compute empirical fit for W/ZH vs ZDR and plot\n",
    "\n",
    "overlap = (W_obs > 0.)\n",
    "W_obs_plt = W_obs.where(overlap)\n",
    "WdZH_obs = W_obs_plt/ZH_plt\n",
    "overlap = (WdZH_obs > 0.) & (ZDR > 0.)\n",
    "WdZH_obs = WdZH_obs.where(overlap)\n",
    "ZDR_plt = ZDR.where(overlap)\n",
    "RR_obs_plt = RR_obs.where(overlap)\n",
    "\n",
    "WdZH_ZDR_ds = xr.Dataset({'WdZH': WdZH_obs, 'ZDR': ZDR_plt, 'RR_obs': RR_obs_plt})\n",
    "\n",
    "WdZH_vals = WdZH_obs.values\n",
    "log_WdZH_vals = np.log10(WdZH_vals)\n",
    "ZDR_vals = ZDR_plt.values\n",
    "\n",
    "goodindices = np.isfinite(log_WdZH_vals) & np.isfinite(ZDR_vals)\n",
    "log_WdZH_vals = log_WdZH_vals[goodindices]\n",
    "ZDR_vals = ZDR_vals[goodindices]"
   ]
  },
  {
   "cell_type": "code",
   "execution_count": null,
   "metadata": {
    "ExecuteTime": {
     "end_time": "2020-07-02T18:19:40.258767Z",
     "start_time": "2020-07-02T18:19:36.623974Z"
    }
   },
   "outputs": [],
   "source": [
    "\n",
    "axparams = {\n",
    "    'var_lims': [[0., 4.], [-6., -2.]],\n",
    "    'plot_log': [False, True],\n",
    "    'col_field': 'RR_obs',\n",
    "    'col_field_lims': [0.1, 200.],\n",
    "    'norm': colors.LogNorm(vmin=0.1, vmax=200.),\n",
    "    'alpha': 0.75,\n",
    "    'markersize': 5,\n",
    "    'label_x': r'$Z_{DR}$ (dB)',\n",
    "    'label_y': r'$\\log{W/Z_H}$', \n",
    "    'label_cb': r'$RR$ (mm h$^{-1}$)'\n",
    "}\n",
    "fig, ax = PIPSplot.plot_scatter(WdZH_ZDR_ds, 'ZDR', 'WdZH', axparams)\n",
    "poly_coeff, poly = dsd.calc_empirical_polyfit(ZDR_vals, log_WdZH_vals, order=3)\n",
    "print(poly_coeff)\n",
    "\n",
    "xx = np.linspace(0., 4.)\n",
    "yy = poly(xx)\n",
    "ax.plot(xx, 10.**yy, 'k')\n",
    "WdZH_cao = 10.**(-0.0493 * (xx**3.) + 0.430 * (xx**2.) - 1.542 * xx - 3.019)\n",
    "ax.plot(xx, WdZH_cao, 'b')"
   ]
  },
  {
   "cell_type": "code",
   "execution_count": null,
   "metadata": {
    "ExecuteTime": {
     "end_time": "2020-07-02T18:20:19.796132Z",
     "start_time": "2020-07-02T18:20:13.871059Z"
    }
   },
   "outputs": [],
   "source": [
    "# Plot Nt/ZH one-to-one\n",
    "overlap = (Nt_obs > 0.) & (Nt_retr_SATP > 0.)\n",
    "Nt_obs_plt = Nt_obs.where(overlap)\n",
    "Nt_retr_SATP_plt = Nt_retr_SATP.where(overlap)\n",
    "NtdZH_obs = Nt_obs_plt/ZH_plt\n",
    "NtdZH_retr_SATP = Nt_retr_SATP_plt/ZH_plt\n",
    "RR_obs_plt = RR_obs.where(overlap)\n",
    "\n",
    "NtdZH_ds = xr.Dataset({'NtdZH_obs': NtdZH_obs, 'NtdZH_retr': NtdZH_retr_SATP, 'RR_obs': RR_obs_plt})\n",
    "\n",
    "axparams = {\n",
    "    'var_lims': [[-3., 2.], [-3., 2.]],\n",
    "    'plot_log': [True, True],\n",
    "    'col_field': 'RR_obs',\n",
    "    'col_field_lims': [0.1, 200.],\n",
    "    'norm': colors.LogNorm(vmin=0.1, vmax=200.),\n",
    "    'alpha': 0.75,\n",
    "    'markersize': 5,\n",
    "    'label_x': r'$\\log{N_T/Z_H}$ (obs)',\n",
    "    'label_y': r'$\\log{N_T/Z_H}$ (retrieved)',\n",
    "    'label_cb': r'$RR$ (mm h$^{-1}$)'\n",
    "}\n",
    "PIPSplot.plot_one2one(NtdZH_ds, 'NtdZH_obs', 'NtdZH_retr', axparams)"
   ]
  },
  {
   "cell_type": "code",
   "execution_count": null,
   "metadata": {
    "ExecuteTime": {
     "end_time": "2020-07-02T18:20:29.918914Z",
     "start_time": "2020-07-02T18:20:26.789230Z"
    }
   },
   "outputs": [],
   "source": [
    "# Plot Z vs. ZDR\n",
    "dBZ = dualpol_dict['REF']\n",
    "dBZ_vals = dBZ.values\n",
    "ZDR_vals = ZDR.values\n",
    "\n",
    "goodindices = np.isfinite(dBZ_vals) & np.isfinite(ZDR_vals)\n",
    "dBZ_vals = dBZ_vals[goodindices]\n",
    "ZDR_vals = ZDR_vals[goodindices]\n",
    "\n",
    "ZH_ZDR_ds = xr.Dataset({'ZH': dBZ, 'ZDR': ZDR, 'RR_obs': RR_obs})\n",
    "\n",
    "axparams = {\n",
    "    'var_lims': [[0., 60.], [0., 6.]],\n",
    "    'plot_log': [False, False],\n",
    "    'col_field': 'RR_obs',\n",
    "    'col_field_lims': [0.1, 200.],\n",
    "    'norm': colors.LogNorm(vmin=0.1, vmax=200.),\n",
    "    'alpha': 0.75,\n",
    "    'markersize': 5,\n",
    "    'label_x': r'$Z_{H}$ (dBZ)',\n",
    "    'label_y': r'$Z_{DR}$ (dB)', \n",
    "    'label_cb': r'$RR$ (mm h$^{-1}$)'\n",
    "}\n",
    "fig, ax = PIPSplot.plot_scatter(ZH_ZDR_ds, 'ZH', 'ZDR', axparams)\n",
    "ax.set_aspect('auto')\n",
    "poly_coeff, poly = dsd.calc_empirical_polyfit(dBZ_vals, ZDR_vals, order=2)\n",
    "print(poly_coeff)\n",
    "\n",
    "# xx = np.linspace(0., 4.)\n",
    "# yy = poly(xx)\n",
    "# ax.plot(xx, 10.**yy, 'k')\n",
    "# WdZH_cao = 10.**(-0.0493 * (xx**3.) + 0.430 * (xx**2.) - 1.542 * xx - 3.019)\n",
    "# ax.plot(xx, WdZH_cao, 'b')"
   ]
  },
  {
   "cell_type": "code",
   "execution_count": null,
   "metadata": {},
   "outputs": [],
   "source": []
  }
 ],
 "metadata": {
  "anaconda-cloud": {},
  "hide_input": false,
  "kernelspec": {
   "display_name": "Python 3.7.3 64-bit ('pyPIPS': conda)",
   "language": "python",
   "name": "python37364bitpypipscondaea8788f6419a4a34be329df7b3b7ce88"
  },
  "language_info": {
   "codemirror_mode": {
    "name": "ipython",
    "version": 3
   },
   "file_extension": ".py",
   "mimetype": "text/x-python",
   "name": "python",
   "nbconvert_exporter": "python",
   "pygments_lexer": "ipython3",
   "version": "3.8.5"
  },
  "toc": {
   "base_numbering": 1,
   "nav_menu": {},
   "number_sections": true,
   "sideBar": true,
   "skip_h1_title": false,
   "title_cell": "Table of Contents",
   "title_sidebar": "Contents",
   "toc_cell": false,
   "toc_position": {},
   "toc_section_display": true,
   "toc_window_display": false
  },
  "varInspector": {
   "cols": {
    "lenName": 16,
    "lenType": 16,
    "lenVar": 40
   },
   "kernels_config": {
    "python": {
     "delete_cmd_postfix": "",
     "delete_cmd_prefix": "del ",
     "library": "var_list.py",
     "varRefreshCmd": "print(var_dic_list())"
    },
    "r": {
     "delete_cmd_postfix": ") ",
     "delete_cmd_prefix": "rm(",
     "library": "var_list.r",
     "varRefreshCmd": "cat(var_dic_list()) "
    }
   },
   "types_to_exclude": [
    "module",
    "function",
    "builtin_function_or_method",
    "instance",
    "_Feature"
   ],
   "window_display": false
  }
 },
 "nbformat": 4,
 "nbformat_minor": 2
}
