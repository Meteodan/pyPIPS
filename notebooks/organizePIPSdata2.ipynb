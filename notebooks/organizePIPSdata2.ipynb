{
 "cells": [
  {
   "cell_type": "code",
   "execution_count": null,
   "metadata": {
    "ExecuteTime": {
     "end_time": "2020-06-24T04:25:29.381939Z",
     "start_time": "2020-06-24T04:25:29.377727Z"
    }
   },
   "outputs": [],
   "source": [
    "import os\n",
    "import glob\n",
    "import numpy as N\n",
    "from datetime import date, datetime, timedelta\n",
    "import itertools\n",
    "import shutil"
   ]
  },
  {
   "cell_type": "code",
   "execution_count": null,
   "metadata": {
    "ExecuteTime": {
     "end_time": "2020-06-24T04:26:22.164010Z",
     "start_time": "2020-06-24T04:26:22.159703Z"
    }
   },
   "outputs": [],
   "source": [
    "basedir = '/Users/dawson29/temp_PIPS/converted/'\n",
    "converteddatadir = os.path.join(basedir, 'converted_042017_050117')\n",
    "output_dir = os.path.join(basedir, 'sorted')"
   ]
  },
  {
   "cell_type": "code",
   "execution_count": null,
   "metadata": {
    "ExecuteTime": {
     "end_time": "2020-06-24T04:26:23.023397Z",
     "start_time": "2020-06-24T04:26:23.004853Z"
    }
   },
   "outputs": [],
   "source": [
    "def sort_files(filelist, verbose=False):\n",
    "    \"\"\"Sorts a list of converted PIPS files by timestamp. Returns the sorted list and a list of the timestamps\"\"\"\n",
    "    # Read each file in turn and extract the timestamp of the first record, which will be used to sort the files by time\n",
    "    timestamps = []\n",
    "    for filename in filelist:\n",
    "        # print(filename)\n",
    "        with open(filename, 'r') as f:\n",
    "            for _ in range(4):\n",
    "                dummy = f.readline() # I tried using next(f) here but then I get a ValueError on the next line about mixing\n",
    "                                     # reads and interations. Why?\n",
    "                #print dummy\n",
    "            line = f.readline().strip().split(',')\n",
    "            # print(type(line))\n",
    "            ts = line[0].strip('\"')\n",
    "            # print(type(ts))\n",
    "#             if verbose:\n",
    "#                 print(ts)\n",
    "#                 print(len(ts))\n",
    "#                 print(ts[:4], ts[5:7], ts[8:10], ts[11:13], ts[14:16], ts[17:19])\n",
    "#                 print(ts[0])\n",
    "# #                 print(int(ts[0]))\n",
    "# #                 print(int(ts[5:7]))\n",
    "# #                 print(int(ts[8:10]))\n",
    "# #                 print(int(ts[11:13]))\n",
    "# #                 print(int(ts[14:16]))\n",
    "# #                 print(int(ts[17:19]))\n",
    "                \n",
    "            timestamp = datetime(int(ts[:4]), int(ts[5:7]), int(ts[8:10]), int(ts[11:13]), int(ts[14:16]),\n",
    "                                 int(ts[17:19]))\n",
    "            timestamps.append(timestamp)\n",
    "\n",
    "    # Now, sort the file list by the list of timestamps\n",
    "    # #temp = sorted(zip(filelistraw,filelistconverted), key=lambda pair: os.path.getmtime(pair[0]))\n",
    "    tuplist = [tup for tup in sorted(zip(timestamps,filelistconverted), key=lambda pair: pair[0])]\n",
    "    timestamps_sorted = [pair[0] for pair in tuplist]\n",
    "    filelistconverted_sorted = [pair[1] for pair in tuplist]\n",
    "    #filelistraw_sorted = [y for (y,x) in sorted(zip(filelistraw,filelistconverted), key=lambda pair: os.path.getctime(pair[0]))]\n",
    "    #filelistconverted_sorted = [x for (y,x) in sorted(zip(filelistraw,filelistconverted), key=lambda pair: os.path.getctime(pair[0]))]\n",
    "    #filelistraw_sorted = [x for x in sorted(filelistraw,key=lambda y: os.path.getctime(y))]\n",
    "\n",
    "    # Check that it's sorted (https://stackoverflow.com/questions/3755136/pythonic-way-to-check-if-a-list-is-sorted-or-not):\n",
    "    if verbose:\n",
    "        print(all(timestamps_sorted[i] <= timestamps_sorted[i+1] for i in range(len(timestamps_sorted)-1)))\n",
    "    \n",
    "    return timestamps_sorted, filelistconverted_sorted\n",
    "\n",
    "\n",
    "def organize_files(filelist, timestamps_list, output_dir):\n",
    "    \"\"\"Organizes files in subdirectories by date.\"\"\"\n",
    "    datelist = [d.date() for d in timestamps_list]\n",
    "    for key,group in itertools.groupby(zip(datelist, filelist), lambda x: x[0]):\n",
    "        keystring = key.strftime('%m%d%y')\n",
    "        keydir = os.path.join(output_dir, keystring)\n",
    "        # print keystring\n",
    "        if (not os.path.exists(keydir)):\n",
    "            os.makedirs(keydir)\n",
    "        for path in group:\n",
    "            print(path[1])\n",
    "            shutil.copy2(path[1],keydir)\n",
    "    "
   ]
  },
  {
   "cell_type": "code",
   "execution_count": null,
   "metadata": {
    "ExecuteTime": {
     "end_time": "2020-06-24T04:26:24.049198Z",
     "start_time": "2020-06-24T04:26:23.997236Z"
    },
    "scrolled": true
   },
   "outputs": [],
   "source": [
    "filelistconverted = glob.glob(os.path.join(converteddatadir, '*TenHz*.dat'))"
   ]
  },
  {
   "cell_type": "code",
   "execution_count": null,
   "metadata": {
    "ExecuteTime": {
     "end_time": "2020-06-24T04:26:25.840459Z",
     "start_time": "2020-06-24T04:26:24.882000Z"
    },
    "scrolled": true
   },
   "outputs": [],
   "source": [
    "timestamps_sorted, filelistconverted_sorted = sort_files(filelistconverted, verbose=True)"
   ]
  },
  {
   "cell_type": "code",
   "execution_count": null,
   "metadata": {
    "ExecuteTime": {
     "end_time": "2020-06-24T04:26:26.732692Z",
     "start_time": "2020-06-24T04:26:26.722165Z"
    },
    "scrolled": true
   },
   "outputs": [],
   "source": [
    "datelist = [d.date() for d in timestamps_sorted]\n",
    "print(datelist)\n",
    "print(filelistconverted_sorted)"
   ]
  },
  {
   "cell_type": "code",
   "execution_count": null,
   "metadata": {
    "ExecuteTime": {
     "end_time": "2020-06-24T04:26:32.536973Z",
     "start_time": "2020-06-24T04:26:28.057239Z"
    }
   },
   "outputs": [],
   "source": [
    "organize_files(filelistconverted_sorted, timestamps_sorted, output_dir)"
   ]
  },
  {
   "cell_type": "code",
   "execution_count": null,
   "metadata": {},
   "outputs": [],
   "source": []
  }
 ],
 "metadata": {
  "anaconda-cloud": {},
  "hide_input": false,
  "kernelspec": {
   "display_name": "Python 3",
   "language": "python",
   "name": "python3"
  },
  "language_info": {
   "codemirror_mode": {
    "name": "ipython",
    "version": 3
   },
   "file_extension": ".py",
   "mimetype": "text/x-python",
   "name": "python",
   "nbconvert_exporter": "python",
   "pygments_lexer": "ipython3",
   "version": "3.7.6"
  },
  "toc": {
   "base_numbering": 1,
   "nav_menu": {},
   "number_sections": true,
   "sideBar": true,
   "skip_h1_title": false,
   "title_cell": "Table of Contents",
   "title_sidebar": "Contents",
   "toc_cell": false,
   "toc_position": {},
   "toc_section_display": true,
   "toc_window_display": false
  },
  "varInspector": {
   "cols": {
    "lenName": 16,
    "lenType": 16,
    "lenVar": 40
   },
   "kernels_config": {
    "python": {
     "delete_cmd_postfix": "",
     "delete_cmd_prefix": "del ",
     "library": "var_list.py",
     "varRefreshCmd": "print(var_dic_list())"
    },
    "r": {
     "delete_cmd_postfix": ") ",
     "delete_cmd_prefix": "rm(",
     "library": "var_list.r",
     "varRefreshCmd": "cat(var_dic_list()) "
    }
   },
   "types_to_exclude": [
    "module",
    "function",
    "builtin_function_or_method",
    "instance",
    "_Feature"
   ],
   "window_display": false
  }
 },
 "nbformat": 4,
 "nbformat_minor": 2
}
