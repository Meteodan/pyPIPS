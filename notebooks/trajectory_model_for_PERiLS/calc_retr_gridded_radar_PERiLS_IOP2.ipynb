{
 "cells": [
  {
   "cell_type": "code",
   "execution_count": null,
   "metadata": {
    "ExecuteTime": {
     "end_time": "2021-09-21T16:37:03.413537Z",
     "start_time": "2021-09-21T16:36:59.793713Z"
    }
   },
   "outputs": [],
   "source": [
    "%load_ext autoreload\n",
    "%autoreload 2\n",
    "import numpy as np\n",
    "import numpy.ma as ma\n",
    "import matplotlib\n",
    "import matplotlib.pyplot as plt\n",
    "%matplotlib notebook\n",
    "import matplotlib.cm as cm\n",
    "import matplotlib.ticker as ticker\n",
    "import matplotlib.dates as dates\n",
    "from matplotlib import dates\n",
    "from mpl_toolkits.axes_grid1 import ImageGrid, make_axes_locatable, host_subplot\n",
    "#from mpl_toolkits.basemap import Basemap\n",
    "from datetime import datetime, timedelta\n",
    "import sys\n",
    "import os\n",
    "import pyPIPS.utils as utils\n",
    "import pyPIPS.thermolib as thermo\n",
    "import pyPIPS.DSDlib as dsd\n",
    "#import pyPIPS.disdrometer_module as dis\n",
    "import pyPIPS.plotmodule as PIPSplot\n",
    "#import pyPIPS.simulator as sim\n",
    "import pyPIPS.pips_io as pipsio\n",
    "import pyPIPS.PIPS as pips\n",
    "import pyPIPS.parsivel_params as pp\n",
    "import pyPIPS.parsivel_qc as pqc\n",
    "import pyPIPS.radarmodule as radar\n",
    "import pyPIPS.polarimetric as dualpol\n",
    "#from pyCRMtools.modules import plotmodule as plotmod\n",
    "from pyCRMtools.modules import utils as CRMutils\n",
    "import pandas as pd\n",
    "import xarray as xr\n",
    "import glob\n",
    "import numpy.random as random\n",
    "from scipy.stats import gamma, uniform\n",
    "from scipy.special import gamma as gammafunc\n",
    "from scipy import ndimage\n",
    "from scipy import interpolate\n",
    "from metpy.plots import StationPlot\n",
    "import metpy.calc as mpcalc\n",
    "from metpy.calc import wind_components\n",
    "from metpy.cbook import get_test_data\n",
    "from metpy.plots import StationPlot\n",
    "from metpy.plots.wx_symbols import current_weather, sky_cover\n",
    "from metpy.units import units\n",
    "from scipy.signal import medfilt2d\n",
    "import pyart\n",
    "import cartopy.crs as ccrs\n",
    "from IPython.display import HTML\n",
    "%matplotlib inline\n",
    "# %matplotlib notebook\n",
    "import warnings;\n",
    "warnings.filterwarnings('ignore')"
   ]
  },
  {
   "cell_type": "code",
   "execution_count": null,
   "metadata": {
    "ExecuteTime": {
     "end_time": "2021-09-21T16:37:04.338395Z",
     "start_time": "2021-09-21T16:37:04.225055Z"
    }
   },
   "outputs": [],
   "source": [
    "# Function definitions\n",
    "def roundPartial(value, resolution, decimals=4):\n",
    "    return np.around(np.round(value / resolution) * resolution, decimals=decimals)\n",
    "\n",
    "def mtokm(val,pos):\n",
    "    \"\"\"Convert m to km for formatting axes tick labels\"\"\"\n",
    "    val=val/1000.0\n",
    "    return '%i' % val"
   ]
  },
  {
   "cell_type": "code",
   "execution_count": null,
   "metadata": {
    "ExecuteTime": {
     "end_time": "2021-09-21T16:38:51.442049Z",
     "start_time": "2021-09-21T16:38:50.199110Z"
    },
    "scrolled": true
   },
   "outputs": [],
   "source": [
    "# Read in the gridded radar data\n",
    "radar_name = 'KGWX'\n",
    "radar_type= 'NEXRAD'\n",
    "\n",
    "# For 03/30/22 case (PERiLS-2022 IOP2)\n",
    "date = '0330'\n",
    "radar_start_datetimestamp = '20220330220424'\n",
    "radar_end_datetimestamp = '20220331035633'\n",
    "height = 500.\n",
    "\n",
    "# Create datetime objects for start and end times\n",
    "datetime_start = datetime.strptime(radar_start_datetimestamp, '%Y%m%d%H%M%S')\n",
    "datetime_end = datetime.strptime(radar_end_datetimestamp, '%Y%m%d%H%M%S')\n",
    "\n",
    "radar_basedir = \\\n",
    "    '/Users/dawson29/Projects/PERiLS/obsdata/2022/NEXRAD/GRID/IOP2/KGWX'\n",
    "#radar_basedir = os.path.join(radar_basedir, '{}/{}'.format(date, radar_name[1:]))\n",
    "gridded_radar_input_dir = os.path.join(radar_basedir, 'combined')\n",
    "gridded_radar_output_dir = os.path.join(radar_basedir, 'combined')\n",
    "if not os.path.exists(gridded_radar_output_dir):\n",
    "    os.makedirs(gridded_radar_output_dir)\n",
    "\n",
    "radar_start_timestamp = datetime_start.strftime('%Y%m%d%H%M')\n",
    "radar_end_timestamp = datetime_end.strftime('%Y%m%d%H%M')\n",
    "\n",
    "gridded_radar_interp_filename = '{}_{}_{}_z{:d}_gridded_interp.nc'.format(radar_name, radar_start_timestamp,\n",
    "                                                                          radar_end_timestamp, int(height))\n",
    "gridded_radar_interp_filepath = os.path.join(gridded_radar_output_dir, gridded_radar_interp_filename)\n",
    "\n",
    "gridded_radar_interp_ds = xr.load_dataset(gridded_radar_interp_filepath)\n",
    "print(gridded_radar_interp_ds)"
   ]
  },
  {
   "cell_type": "code",
   "execution_count": null,
   "metadata": {
    "ExecuteTime": {
     "end_time": "2021-09-21T16:38:55.399574Z",
     "start_time": "2021-09-21T16:38:55.295183Z"
    }
   },
   "outputs": [],
   "source": [
    "plot_dir = os.path.join(gridded_radar_output_dir, 'plots')\n",
    "if not os.path.exists(plot_dir):\n",
    "    os.makedirs(plot_dir)"
   ]
  },
  {
   "cell_type": "code",
   "execution_count": null,
   "metadata": {
    "ExecuteTime": {
     "end_time": "2021-09-21T16:38:56.515401Z",
     "start_time": "2021-09-21T16:38:56.414775Z"
    }
   },
   "outputs": [],
   "source": [
    "# Apply retrieval to get N0, alpha, and lamda\n",
    "# at 1-min intervals. Then compute N(D)\n",
    "# Then get times that different D reach surface. Store as new coordinate\n",
    "# Do \"groupby_bins\" operation on new coordinate to bin up trajectories within 1-min bins\n",
    "# Then either do the numpy histogram 2d thing or find another way \n"
   ]
  },
  {
   "cell_type": "code",
   "execution_count": null,
   "metadata": {},
   "outputs": [],
   "source": [
    "ref_varname = 'REF'\n",
    "zdr_varname = 'ZDR'\n",
    "rhv_varname = 'RHO'"
   ]
  },
  {
   "cell_type": "code",
   "execution_count": null,
   "metadata": {
    "ExecuteTime": {
     "end_time": "2021-09-21T16:39:02.915173Z",
     "start_time": "2021-09-21T16:39:02.807229Z"
    }
   },
   "outputs": [],
   "source": [
    "# Set retrieval lookup tables to use\n",
    "# retrieval_tags = ['Z01', 'Z01_4dB', 'C08', 'TMM246_F_qc', 'SATP_TMM246_qc', 'TMM246_F_RB15_qc', \n",
    "#                   'SATP_TMM246_RB15_qc']\n",
    "retrieval_tags = ['Z01_4dB']\n",
    "lookup_basedir = '/Users/dawson29/Projects/pyPIPS/data/lookups/'\n",
    "lookup_dirs = [os.path.join(lookup_basedir, tag) for tag in retrieval_tags]\n",
    "\n",
    "# Retrieve gamma DSD parameters from ZH and ZDR\n",
    "print(\"Getting ZH and ZDR fields\")\n",
    "# Get the ZH and ZDR fields from the xarray Dataset\n",
    "ZH_rad = gridded_radar_interp_ds[f'{ref_varname}_masked']\n",
    "ZDR_rad = gridded_radar_interp_ds[f'{zdr_varname}_masked']"
   ]
  },
  {
   "cell_type": "code",
   "execution_count": null,
   "metadata": {
    "ExecuteTime": {
     "end_time": "2021-09-21T17:20:43.173867Z",
     "start_time": "2021-09-21T16:39:09.904053Z"
    },
    "scrolled": true
   },
   "outputs": [],
   "source": [
    "retr_var_da_dict = {}\n",
    "\n",
    "for retrieval_tag, lookup_dir in zip(retrieval_tags, lookup_dirs):\n",
    "    # Read in first lookup table to get the interval between reflectivity and ZDR\n",
    "    lookup_path = os.path.join(lookup_dir, 'D0.csv')\n",
    "    retr_table = pd.read_csv(lookup_path, sep=',', header=0, index_col='dBZ')\n",
    "    # Massage the index and column labels to get rid of extraneous zeros\n",
    "    # Also convert column labels from strings to floats\n",
    "    retr_table.index = retr_table.index.to_series().apply(np.around, decimals=4)\n",
    "    retr_table.columns = [np.around(float(col), decimals=4) for col in retr_table.columns]\n",
    "\n",
    "    dBZ_lookup_min = retr_table.index[0]\n",
    "    dBZ_lookup_max = retr_table.index[-1]\n",
    "    ZDR_lookup_min = retr_table.columns[0]\n",
    "    ZDR_lookup_max = retr_table.columns[-1]\n",
    "    dBZ_intv = retr_table.index[1] - retr_table.index[0]\n",
    "    ZDR_intv = float(retr_table.columns[1]) - float(retr_table.columns[0])\n",
    "\n",
    "    print(dBZ_lookup_min, dBZ_lookup_max)\n",
    "    print(ZDR_lookup_min, ZDR_lookup_max)\n",
    "\n",
    "    # Replace masked entries in ZH_rad and ZDR_rad with the minimum value of the lookup table\n",
    "    ZH_mask = ZH_rad.isnull()\n",
    "    ZDR_mask = ZDR_rad.isnull()\n",
    "    full_mask = xr.where(ZH_mask | ZDR_mask, True, False)\n",
    "    ZH_rad_new = ZH_rad.fillna(dBZ_lookup_min)\n",
    "    ZDR_rad_new = ZDR_rad.fillna(ZDR_lookup_min)\n",
    "    # Now limit values to within lookup table limits\n",
    "    ZH_rad_new = ZH_rad_new.where(ZH_rad_new > dBZ_lookup_min, dBZ_lookup_min)\n",
    "    ZH_rad_new = ZH_rad_new.where(ZH_rad_new < dBZ_lookup_max, dBZ_lookup_max)\n",
    "    ZDR_rad_new = ZDR_rad_new.where(ZDR_rad_new > ZDR_lookup_min, ZDR_lookup_min)\n",
    "    ZDR_rad_new = ZDR_rad_new.where(ZDR_rad_new < ZDR_lookup_max, ZDR_lookup_max)\n",
    "    # Round ZH and ZDR fields to the nearest interval\n",
    "    ZH_round = roundPartial(ZH_rad_new, dBZ_intv)\n",
    "    ZDR_round = roundPartial(ZDR_rad_new, ZDR_intv)\n",
    "    # Get the shape of the arrays for later, so we can reshape the flattened arrays of retrieved\n",
    "    # values\n",
    "    ZH_shape = ZH_round.shape\n",
    "    print(ZH_shape)\n",
    "    ZH_flat = ZH_round.values.flatten()\n",
    "    ZDR_flat = ZDR_round.values.flatten()\n",
    "    print(ZH_flat.max())\n",
    "    print(ZDR_flat.max())\n",
    "    for retr_varname in radar.retrieval_metadata.keys():\n",
    "        print(\"Retrieving {} using lookup tables for {}\".format(retr_varname, retrieval_tag))\n",
    "        lookup_path = os.path.join(lookup_dir, '{}.csv'.format(retr_varname))\n",
    "        retr_table = pd.read_csv(lookup_path, sep=',', header=0, index_col='dBZ')\n",
    "        # Round the indices and columns of the DataFrame (i.e. the dBZ values) to some sane\n",
    "        # number of decimal places to facilitate using it as a lookup table. The floating point\n",
    "        # precision gets in the way sometimes here. For example 56.4 is dumped out as\n",
    "        # 56.4<some bunch of zeros>1\n",
    "        retr_table.index = retr_table.index.to_series().apply(np.around, decimals=4)\n",
    "        retr_table.columns = [np.around(float(col), decimals=4) for col in\n",
    "                              retr_table.columns]\n",
    "        # Gah, for some reason DataFrame.lookup sometimes barfs on perfectly good floating point\n",
    "        # values in columns, so convert them back to strings here. :rolleyes:\n",
    "        # EDIT 11/09/2020: Now this is happening for the rows as well. Not sure why... So change the row labels\n",
    "        # to strings as well.\n",
    "        retr_table.index = [str(row) for row in retr_table.index]\n",
    "        retr_table.columns = [str(col) for col in retr_table.columns]\n",
    "        # print(list(retr_table.index))\n",
    "        # print(list(retr_table.columns))\n",
    "        # Ok, now retrieve the desired retrieval variable\n",
    "        # for each ZH/ZDR pair in the flattened radar sweep\n",
    "    #     for ZH, ZDR in zip(ZH_flat, ZDR_flat):\n",
    "    #         print(ZH, ZDR)\n",
    "    #         retr_val = retr_table.lookup([ZH.astype('str')], [ZDR.astype('str')])\n",
    "        # Below is from https://stackoverflow.com/questions/65882258/\n",
    "        # pandas-lookup-to-be-deprecated-elegant-and-efficient-alternative?noredirect=1&lq=1\n",
    "        retr_vals = retr_table.to_numpy()[retr_table.index.get_indexer(ZH_flat.astype('str')), \n",
    "                                          retr_table.columns.get_indexer(ZDR_flat.astype('str'))]\n",
    "        # retr_vals = retr_table.lookup(ZH_flat.astype('str'), ZDR_flat.astype('str'))\n",
    "        # retr_vals = retr_table.lookup(ZH_flat, ZDR_flat)\n",
    "        # Reshape back to original shape\n",
    "        retr_vals_data = retr_vals.reshape(ZH_shape)\n",
    "        retr_vals_data = np.where(full_mask, np.nan, retr_vals_data)\n",
    "        # retr_vals_data = np.ma.masked_array(retr_vals_data, mask=full_mask)\n",
    "        retr_var_da = ZH_rad.copy()\n",
    "        new_retr_varname = '{}_{}'.format(retr_varname, retrieval_tag)\n",
    "        retr_var_da.name = new_retr_varname\n",
    "        retr_var_da[:] = retr_vals_data\n",
    "        retr_var_da_dict[new_retr_varname] = retr_var_da"
   ]
  },
  {
   "cell_type": "code",
   "execution_count": null,
   "metadata": {
    "ExecuteTime": {
     "end_time": "2021-09-21T17:22:34.693139Z",
     "start_time": "2021-09-21T17:22:34.174622Z"
    }
   },
   "outputs": [],
   "source": [
    "# Combine retrieved fields and Z and ZDR fields into a single Dataset\n",
    "gridded_radar_interp_retr_ds = gridded_radar_interp_ds.copy()\n",
    "for varname, var_da in retr_var_da_dict.items():\n",
    "    gridded_radar_interp_retr_ds[varname] = var_da\n",
    "    \n",
    "print(gridded_radar_interp_retr_ds)"
   ]
  },
  {
   "cell_type": "code",
   "execution_count": null,
   "metadata": {
    "ExecuteTime": {
     "end_time": "2021-09-21T17:23:06.389724Z",
     "start_time": "2021-09-21T17:22:36.613587Z"
    }
   },
   "outputs": [],
   "source": [
    "# Save interpolated grid with retrievals to file\n",
    "out_start_timestamp = datetime_start.strftime('%Y%m%d%H%M')\n",
    "out_end_timestamp = datetime_end.strftime('%Y%m%d%H%M')\n",
    "gridded_radar_interp_retr_filename = '{}_{}_{}_z{:d}_gridded_interp_retr.nc'.format(radar_name, \n",
    "                                                                                    out_start_timestamp,\n",
    "                                                                                    out_end_timestamp, \n",
    "                                                                                    int(height))\n",
    "gridded_radar_interp_retr_filepath = os.path.join(gridded_radar_output_dir, gridded_radar_interp_retr_filename)\n",
    "gridded_radar_interp_retr_ds.to_netcdf(gridded_radar_interp_retr_filepath)"
   ]
  },
  {
   "cell_type": "code",
   "execution_count": null,
   "metadata": {
    "ExecuteTime": {
     "end_time": "2021-09-21T13:39:44.721020Z",
     "start_time": "2021-09-21T13:39:17.984356Z"
    }
   },
   "outputs": [],
   "source": [
    "# Plot reflectivity for time-interpolated grid\n",
    "# Choose a subset of times to keep animation size down\n",
    "anim_start = '2022-03-30T23:30'\n",
    "anim_end = '2022-03-31T02:00'\n",
    "\n",
    "var_da = gridded_radar_interp_ds[f'{ref_varname}_masked'].sel(time=slice(anim_start, anim_end))\n",
    "xplt = var_da.coords['x']\n",
    "yplt = var_da.coords['y']\n",
    "clevels =np.arange(0., 61., 1.)\n",
    "norm = cm.colors.Normalize(vmin=0., vmax=60.)\n",
    "\n",
    "import matplotlib.animation as animation\n",
    "fig, ax = plt.subplots(figsize=(8, 8))\n",
    "\n",
    "ims = []\n",
    "for i, var in enumerate(var_da):\n",
    "    time = var.coords['time_seconds'].values.item()\n",
    "    ci = ax.contourf(xplt, yplt, var.squeeze(), levels=clevels, \n",
    "                     cmap='pyart_HomeyerRainbow', norm=norm)\n",
    "    # Plot PIPS location\n",
    "    #ax.plot([PIPS_x], [PIPS_y], 'k*')\n",
    "    if i == 0.:\n",
    "        fig.colorbar(ci, ax=ax)\n",
    "        ax.set_aspect('equal')\n",
    "    ims.append(ci.collections)\n",
    "    \n",
    "ani = animation.ArtistAnimation(fig, ims, interval=50, blit=True,\n",
    "                                repeat_delay=1000)\n",
    "plt.close()\n",
    "HTML(ani.to_jshtml())"
   ]
  },
  {
   "cell_type": "code",
   "execution_count": null,
   "metadata": {
    "ExecuteTime": {
     "end_time": "2021-09-17T01:52:47.759867Z",
     "start_time": "2021-09-17T01:51:03.263193Z"
    }
   },
   "outputs": [],
   "source": [
    "# Save above animation to disk\n",
    "ani_filename = 'interp_masked_ref_{}_{}_z{:d}.mp4'.format(anim_start, anim_end, int(height))\n",
    "ani_filepath = os.path.join(plot_dir, ani_filename)\n",
    "\n",
    "ani.save(ani_filepath)"
   ]
  },
  {
   "cell_type": "code",
   "execution_count": null,
   "metadata": {
    "ExecuteTime": {
     "end_time": "2021-09-17T01:56:11.839060Z",
     "start_time": "2021-09-17T01:53:30.303961Z"
    }
   },
   "outputs": [],
   "source": [
    "# Choose a subset of times to keep animation size down\n",
    "anim_start = '2022-03-30T23:30'\n",
    "anim_end = '2022-03-31T02:00'\n",
    "\n",
    "var_da = gridded_radar_interp_retr_ds['D0_Z01_4dB'].sel(time=slice(anim_start, anim_end))\n",
    "xplt = var_da.coords['x']\n",
    "yplt = var_da.coords['y']\n",
    "clevels =np.arange(0., 6., 0.1)\n",
    "norm = cm.colors.Normalize(vmin=0., vmax=6.)\n",
    "\n",
    "import matplotlib.animation as animation\n",
    "fig, ax = plt.subplots(figsize=(8, 8))\n",
    "\n",
    "ims = []\n",
    "for i, var in enumerate(var_da):\n",
    "    time = var.coords['time_seconds'].values.item()\n",
    "    ci = ax.contourf(xplt, yplt, var.squeeze(), levels=clevels, \n",
    "                     cmap='pyart_HomeyerRainbow', norm=norm)\n",
    "    # Plot PIPS location\n",
    "    #ax.plot([PIPS_x], [PIPS_y], 'k*')\n",
    "    if i == 0.:\n",
    "        fig.colorbar(ci, ax=ax)\n",
    "        ax.set_aspect('equal')\n",
    "    ims.append(ci.collections)\n",
    "    \n",
    "ani = animation.ArtistAnimation(fig, ims, interval=50, blit=True,\n",
    "                                repeat_delay=1000)\n",
    "\n",
    "plt.close()\n",
    "HTML(ani.to_jshtml())\n",
    "# plt.show()"
   ]
  },
  {
   "cell_type": "code",
   "execution_count": null,
   "metadata": {
    "ExecuteTime": {
     "end_time": "2021-09-17T01:56:13.306007Z",
     "start_time": "2021-09-17T01:53:35.165Z"
    }
   },
   "outputs": [],
   "source": [
    "# Save above animation to disk\n",
    "ani_filename = 'D0_{}_{}_z{:d}.mp4'.format(anim_start, anim_end, int(height))\n",
    "ani_filepath = os.path.join(plot_dir, ani_filename)\n",
    "\n",
    "ani.save(ani_filepath)"
   ]
  },
  {
   "cell_type": "code",
   "execution_count": null,
   "metadata": {},
   "outputs": [],
   "source": [
    "# Choose a subset of times to keep animation size down\n",
    "anim_start = '2022-03-30T23:30'\n",
    "anim_end = '2022-03-31T02:00'\n",
    "\n",
    "var_da = gridded_radar_interp_retr_ds[f'{zdr_varname}_masked'].sel(time=slice(anim_start, anim_end))\n",
    "xplt = var_da.coords['x']\n",
    "yplt = var_da.coords['y']\n",
    "clevels =np.arange(0., 6., 0.1)\n",
    "norm = cm.colors.Normalize(vmin=0., vmax=6.)\n",
    "\n",
    "import matplotlib.animation as animation\n",
    "fig, ax = plt.subplots(figsize=(8, 8))\n",
    "\n",
    "ims = []\n",
    "for i, var in enumerate(var_da):\n",
    "    time = var.coords['time_seconds'].values.item()\n",
    "    ci = ax.contourf(xplt, yplt, var.squeeze(), levels=clevels, \n",
    "                     cmap='pyart_HomeyerRainbow', norm=norm)\n",
    "    # Plot PIPS location\n",
    "    #ax.plot([PIPS_x], [PIPS_y], 'k*')\n",
    "    if i == 0.:\n",
    "        fig.colorbar(ci, ax=ax)\n",
    "        ax.set_aspect('equal')\n",
    "    ims.append(ci.collections)\n",
    "    \n",
    "ani = animation.ArtistAnimation(fig, ims, interval=50, blit=True,\n",
    "                                repeat_delay=1000)\n",
    "\n",
    "plt.close()\n",
    "HTML(ani.to_jshtml())\n",
    "# plt.show()"
   ]
  },
  {
   "cell_type": "code",
   "execution_count": null,
   "metadata": {},
   "outputs": [],
   "source": [
    "# Save above animation to disk\n",
    "ani_filename = 'ZDR_{}_{}_z{:d}.mp4'.format(anim_start, anim_end, int(height))\n",
    "ani_filepath = os.path.join(plot_dir, ani_filename)\n",
    "\n",
    "ani.save(ani_filepath)"
   ]
  },
  {
   "cell_type": "code",
   "execution_count": null,
   "metadata": {},
   "outputs": [],
   "source": []
  }
 ],
 "metadata": {
  "hide_input": false,
  "kernelspec": {
   "display_name": "Python [conda env:pyPIPS]",
   "language": "python",
   "name": "conda-env-pyPIPS-py"
  },
  "language_info": {
   "codemirror_mode": {
    "name": "ipython",
    "version": 3
   },
   "file_extension": ".py",
   "mimetype": "text/x-python",
   "name": "python",
   "nbconvert_exporter": "python",
   "pygments_lexer": "ipython3",
   "version": "3.10.11"
  },
  "toc": {
   "base_numbering": 1,
   "nav_menu": {},
   "number_sections": true,
   "sideBar": true,
   "skip_h1_title": false,
   "title_cell": "Table of Contents",
   "title_sidebar": "Contents",
   "toc_cell": false,
   "toc_position": {},
   "toc_section_display": true,
   "toc_window_display": false
  },
  "varInspector": {
   "cols": {
    "lenName": 16,
    "lenType": 16,
    "lenVar": 40
   },
   "kernels_config": {
    "python": {
     "delete_cmd_postfix": "",
     "delete_cmd_prefix": "del ",
     "library": "var_list.py",
     "varRefreshCmd": "print(var_dic_list())"
    },
    "r": {
     "delete_cmd_postfix": ") ",
     "delete_cmd_prefix": "rm(",
     "library": "var_list.r",
     "varRefreshCmd": "cat(var_dic_list()) "
    }
   },
   "types_to_exclude": [
    "module",
    "function",
    "builtin_function_or_method",
    "instance",
    "_Feature"
   ],
   "window_display": false
  }
 },
 "nbformat": 4,
 "nbformat_minor": 4
}
