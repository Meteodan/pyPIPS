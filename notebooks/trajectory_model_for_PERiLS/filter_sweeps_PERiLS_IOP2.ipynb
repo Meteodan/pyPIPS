{
 "cells": [
  {
   "cell_type": "code",
   "execution_count": null,
   "metadata": {
    "ExecuteTime": {
     "end_time": "2021-09-21T16:37:03.413537Z",
     "start_time": "2021-09-21T16:36:59.793713Z"
    }
   },
   "outputs": [],
   "source": [
    "%load_ext autoreload\n",
    "%autoreload 2\n",
    "import numpy as np\n",
    "import numpy.ma as ma\n",
    "import matplotlib\n",
    "import matplotlib.pyplot as plt\n",
    "%matplotlib notebook\n",
    "import matplotlib.cm as cm\n",
    "import matplotlib.ticker as ticker\n",
    "import matplotlib.dates as dates\n",
    "from matplotlib import dates\n",
    "from mpl_toolkits.axes_grid1 import ImageGrid, make_axes_locatable, host_subplot\n",
    "#from mpl_toolkits.basemap import Basemap\n",
    "from datetime import datetime, timedelta\n",
    "import sys\n",
    "import os\n",
    "import pyPIPS.utils as utils\n",
    "import pyPIPS.thermolib as thermo\n",
    "import pyPIPS.DSDlib as dsd\n",
    "#import pyPIPS.disdrometer_module as dis\n",
    "import pyPIPS.plotmodule as PIPSplot\n",
    "#import pyPIPS.simulator as sim\n",
    "import pyPIPS.pips_io as pipsio\n",
    "import pyPIPS.PIPS as pips\n",
    "import pyPIPS.parsivel_params as pp\n",
    "import pyPIPS.parsivel_qc as pqc\n",
    "import pyPIPS.radarmodule as radar\n",
    "import pyPIPS.polarimetric as dualpol\n",
    "#from pyCRMtools.modules import plotmodule as plotmod\n",
    "from pyCRMtools.modules import utils as CRMutils\n",
    "import pandas as pd\n",
    "import xarray as xr\n",
    "import glob\n",
    "import numpy.random as random\n",
    "from scipy.stats import gamma, uniform\n",
    "from scipy.special import gamma as gammafunc\n",
    "from scipy import ndimage\n",
    "from scipy import interpolate\n",
    "from metpy.plots import StationPlot\n",
    "import metpy.calc as mpcalc\n",
    "from metpy.calc import wind_components\n",
    "from metpy.cbook import get_test_data\n",
    "from metpy.plots import StationPlot\n",
    "from metpy.plots.wx_symbols import current_weather, sky_cover\n",
    "from metpy.units import units\n",
    "from scipy.signal import medfilt2d\n",
    "import pyart\n",
    "import cartopy.crs as ccrs\n",
    "from IPython.display import HTML\n",
    "%matplotlib inline\n",
    "# %matplotlib notebook\n",
    "import warnings;\n",
    "warnings.filterwarnings('ignore')"
   ]
  },
  {
   "cell_type": "code",
   "execution_count": null,
   "metadata": {
    "ExecuteTime": {
     "end_time": "2021-09-21T16:37:04.338395Z",
     "start_time": "2021-09-21T16:37:04.225055Z"
    }
   },
   "outputs": [],
   "source": [
    "# Function definitions\n",
    "def roundPartial(value, resolution, decimals=4):\n",
    "    return np.around(np.round(value / resolution) * resolution, decimals=decimals)\n",
    "\n",
    "def mtokm(val,pos):\n",
    "    \"\"\"Convert m to km for formatting axes tick labels\"\"\"\n",
    "    val=val/1000.0\n",
    "    return '%i' % val"
   ]
  },
  {
   "cell_type": "code",
   "execution_count": null,
   "metadata": {
    "ExecuteTime": {
     "end_time": "2021-09-21T16:38:51.442049Z",
     "start_time": "2021-09-21T16:38:50.199110Z"
    },
    "scrolled": true
   },
   "outputs": [],
   "source": [
    "# Read in the radar data\n",
    "radar_name = 'KGWX'\n",
    "radar_type= 'NEXRAD'\n",
    "elev_angle = 0.5\n",
    "elev_str = str(elev_angle).replace('.', 'p')\n",
    "\n",
    "# For 03/30/22 case (PERiLS-2022 IOP2)\n",
    "date = '0330'\n",
    "radar_start_datetimestamp = '20220330220424'\n",
    "radar_end_datetimestamp = '20220331035633'\n",
    "height = 500.\n",
    "\n",
    "# Create datetime objects for start and end times\n",
    "datetime_start = datetime.strptime(radar_start_datetimestamp, '%Y%m%d%H%M%S')\n",
    "datetime_end = datetime.strptime(radar_end_datetimestamp, '%Y%m%d%H%M%S')\n",
    "\n",
    "radar_basedir = \\\n",
    "    '/Users/dawson29/Projects/PERiLS/obsdata/2022/NEXRAD/IOP2/KGWX'\n",
    "#radar_basedir = os.path.join(radar_basedir, '{}/{}'.format(date, radar_name[1:]))\n",
    "radar_input_dir = os.path.join(radar_basedir, 'extracted_sweeps')\n",
    "radar_output_dir = os.path.join(radar_basedir, 'extracted_sweeps')\n",
    "if not os.path.exists(radar_output_dir):\n",
    "    os.makedirs(radar_output_dir)\n",
    "\n",
    "radar_start_timestamp = datetime_start.strftime('%Y%m%d%H%M')\n",
    "radar_end_timestamp = datetime_end.strftime('%Y%m%d%H%M')\n",
    "\n",
    "radar_paths = glob.glob(radar_input_dir + f'/{radar_name}*el{elev_str}.nc')\n",
    "\n",
    "radar_paths = sorted(radar_paths)\n",
    "radar_input_list = []\n",
    "\n",
    "for path in radar_paths:\n",
    "    filename = os.path.basename(path)\n",
    "    file_timestamp = filename[4:19]\n",
    "    # print(file_timestamp)\n",
    "    file_datetime = datetime.strptime(file_timestamp, '%Y%m%d_%H%M%S')\n",
    "    if file_datetime >= datetime_start and file_datetime <= datetime_end:\n",
    "        radar_input_list.append(path)\n",
    "\n",
    "# Read in the individual sweeps\n",
    "radarobj_list = []\n",
    "for radar_path in radar_input_list:\n",
    "    print(f\"Reading {os.path.basename(radar_path)}\")\n",
    "    radarobj = pyart.io.read(radar_path)\n",
    "    radarobj_list.append(radarobj)"
   ]
  },
  {
   "cell_type": "code",
   "execution_count": null,
   "metadata": {
    "scrolled": true
   },
   "outputs": [],
   "source": [
    "ZH_name = 'REF'\n",
    "ZDR_name = 'ZDR'\n",
    "RHV_name = 'RHO'\n",
    "\n",
    "med_filter_width = 5\n",
    "\n",
    "RHV_thresh = 0.95\n",
    "dBZ_thresh = 5.0\n",
    "\n",
    "for radar_path, radarobj in zip(radar_input_list, radarobj_list):\n",
    "    \n",
    "    # Make copies of polarimetric fields\n",
    "    for field_name in [ZH_name, ZDR_name, RHV_name]:\n",
    "        radarobj.add_field_like(field_name, field_name + '_filtered',\n",
    "                                radarobj.fields[field_name]['data'].copy(), replace_existing=True)\n",
    "\n",
    "    print(\"Applying median filter\")\n",
    "    footprint = [[1, 1, 1, 1, 1]]    \n",
    "    for field_name in [ZH_name, ZDR_name, RHV_name]:\n",
    "        radarobj.fields[field_name + '_filtered']['data'] = \\\n",
    "            ndimage.median_filter(radarobj.fields[field_name + '_filtered']['data'].copy(),\n",
    "                                  footprint=footprint)\n",
    "\n",
    "    print(\"Creating dBZ and RHV gate filter\")\n",
    "    # Create a gate filter to mask out areas with dBZ and RHV below thresholds\n",
    "    rhoHV_ref_filter = pyart.correct.moment_based_gate_filter(radarobj,\n",
    "                                                              rhv_field=RHV_name + '_filtered',\n",
    "                                                              refl_field=ZH_name + '_filtered',\n",
    "                                                              min_ncp=None,\n",
    "                                                              min_rhv=RHV_thresh,\n",
    "                                                              min_refl=dBZ_thresh,\n",
    "                                                              max_refl=None)\n",
    "\n",
    "    print(\"Applying gate filter\")\n",
    "    # Mask fields using the dBZ/RHV mask\n",
    "    for field_name in [ZH_name, ZDR_name, RHV_name]:\n",
    "        radarobj.fields[field_name + '_filtered']['data'] = \\\n",
    "            np.ma.masked_where(rhoHV_ref_filter.gate_excluded,\n",
    "                               radarobj.fields[field_name + '_filtered']['data'])\n",
    "    \n",
    "    orig_filename = os.path.basename(radar_path)\n",
    "    new_filename = orig_filename.replace('.nc', '_filt.nc')\n",
    "    new_filepath = os.path.join(radar_output_dir, new_filename)\n",
    "    print(f\"Saving {new_filename}...\")\n",
    "    pyart.io.write_cfradial(new_filepath, radarobj)"
   ]
  },
  {
   "cell_type": "code",
   "execution_count": null,
   "metadata": {},
   "outputs": [],
   "source": []
  }
 ],
 "metadata": {
  "hide_input": false,
  "kernelspec": {
   "display_name": "Python [conda env:pyPIPS]",
   "language": "python",
   "name": "conda-env-pyPIPS-py"
  },
  "language_info": {
   "codemirror_mode": {
    "name": "ipython",
    "version": 3
   },
   "file_extension": ".py",
   "mimetype": "text/x-python",
   "name": "python",
   "nbconvert_exporter": "python",
   "pygments_lexer": "ipython3",
   "version": "3.10.11"
  },
  "toc": {
   "base_numbering": 1,
   "nav_menu": {},
   "number_sections": true,
   "sideBar": true,
   "skip_h1_title": false,
   "title_cell": "Table of Contents",
   "title_sidebar": "Contents",
   "toc_cell": false,
   "toc_position": {},
   "toc_section_display": true,
   "toc_window_display": false
  },
  "varInspector": {
   "cols": {
    "lenName": 16,
    "lenType": 16,
    "lenVar": 40
   },
   "kernels_config": {
    "python": {
     "delete_cmd_postfix": "",
     "delete_cmd_prefix": "del ",
     "library": "var_list.py",
     "varRefreshCmd": "print(var_dic_list())"
    },
    "r": {
     "delete_cmd_postfix": ") ",
     "delete_cmd_prefix": "rm(",
     "library": "var_list.r",
     "varRefreshCmd": "cat(var_dic_list()) "
    }
   },
   "types_to_exclude": [
    "module",
    "function",
    "builtin_function_or_method",
    "instance",
    "_Feature"
   ],
   "window_display": false
  }
 },
 "nbformat": 4,
 "nbformat_minor": 4
}
