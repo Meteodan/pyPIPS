{
 "cells": [
  {
   "cell_type": "code",
   "execution_count": null,
   "metadata": {
    "ExecuteTime": {
     "end_time": "2021-01-02T22:55:48.420246Z",
     "start_time": "2021-01-02T22:55:45.665406Z"
    }
   },
   "outputs": [],
   "source": [
    "%load_ext autoreload\n",
    "%autoreload 2\n",
    "import numpy as np\n",
    "import numpy.ma as ma\n",
    "import matplotlib\n",
    "import matplotlib.pyplot as plt\n",
    "%matplotlib notebook\n",
    "import matplotlib.cm as cm\n",
    "import matplotlib.ticker as ticker\n",
    "import matplotlib.dates as dates\n",
    "import matplotlib.animation as animation\n",
    "from mpl_toolkits.axes_grid1 import ImageGrid, make_axes_locatable, host_subplot\n",
    "#from mpl_toolkits.basemap import Basemap\n",
    "from datetime import datetime, timedelta\n",
    "import sys\n",
    "import os\n",
    "import pyPIPS.utils as utils\n",
    "import pyPIPS.thermolib as thermo\n",
    "import pyPIPS.DSDlib as dsd\n",
    "#import pyPIPS.disdrometer_module as dis\n",
    "import pyPIPS.plotmodule as PIPSplot\n",
    "#import pyPIPS.simulator as sim\n",
    "import pyPIPS.pips_io as pipsio\n",
    "import pyPIPS.PIPS as pips\n",
    "import pyPIPS.parsivel_params as pp\n",
    "import pyPIPS.parsivel_qc as pqc\n",
    "import pyPIPS.radarmodule as radar\n",
    "import pyPIPS.polarimetric as dualpol\n",
    "#from pyCRMtools.modules import plotmodule as plotmod\n",
    "from pyCRMtools.modules import utils as CRMutils\n",
    "import pandas as pd\n",
    "import xarray as xr\n",
    "import glob\n",
    "import numpy.random as random\n",
    "from scipy.stats import gamma, uniform\n",
    "from scipy.special import gamma as gammafunc\n",
    "from scipy import ndimage\n",
    "from scipy import interpolate\n",
    "from metpy.plots import StationPlot\n",
    "import metpy.calc as mpcalc\n",
    "from metpy.calc import wind_components\n",
    "from metpy.cbook import get_test_data\n",
    "from metpy.plots import StationPlot\n",
    "from metpy.plots.wx_symbols import current_weather, sky_cover\n",
    "from metpy.units import units\n",
    "from scipy.signal import medfilt2d\n",
    "import pyart\n",
    "import cartopy.crs as ccrs\n",
    "from io import StringIO\n",
    "from IPython.display import HTML\n",
    "%matplotlib inline\n",
    "# %matplotlib notebook\n",
    "import warnings;\n",
    "warnings.filterwarnings('ignore')\n",
    "%load_ext autoreload\n",
    "%autoreload 2"
   ]
  },
  {
   "cell_type": "code",
   "execution_count": null,
   "metadata": {
    "ExecuteTime": {
     "end_time": "2021-01-02T22:55:49.001054Z",
     "start_time": "2021-01-02T22:55:48.893869Z"
    }
   },
   "outputs": [],
   "source": [
    "# Function definitions\n",
    "def readESC(sounding_path, interpnan=True, handle=False):\n",
    "    \"\"\"\n",
    "    Reads in a sounding in ESC format from a provided file path or handle (can be a StringIO object or an open\n",
    "    file handle)\n",
    "    \"\"\"\n",
    "    col_names = ['pressure','temperature','dewpoint','u_wind','v_wind','speed','direction','height',\n",
    "                 'Qp_code','Qt_code','Qrh_code','Qu_code','Qv_code']\n",
    "    # First read the file and extract the field widths from the 14th header line\n",
    "    if not handle:\n",
    "        f = open(sounding_path, 'r')\n",
    "    else:\n",
    "        f = sounding_path\n",
    "\n",
    "    # Read in the header and extract some metadata from it\n",
    "    dummy = f.readline()\n",
    "    dummy = f.readline()\n",
    "    header2 = f.readline().strip().split(':')\n",
    "    # Read next header line and extract station id and wmo number from it (if it exists)\n",
    "    staid_wmo_str = header2[1]\n",
    "    if ' / ' in staid_wmo_str:\n",
    "        staid_wmo = staid_wmo_str.strip().split(' / ')\n",
    "        staid = staid_wmo[0][1:4]\n",
    "        wmo = int(staid_wmo[1])\n",
    "    else:\n",
    "        if '. ' in staid_wmo_str:\n",
    "            staid = staid_wmo_str.replace('. ', '').strip()[:4]\n",
    "        else:\n",
    "            staid = staid_wmo_str.strip()[:4]\n",
    "            staid = staid.replace(\" \", \"\")\n",
    "        wmo = 99999\n",
    "    print(staid)\n",
    "    # Read the next header line and extract the location information from it\n",
    "    header3 = f.readline().strip().split(':')\n",
    "    location = header3[1].strip().split(',')\n",
    "    print(location)\n",
    "    lon = float(location[2])\n",
    "    lat = float(location[3])\n",
    "    elev = float(location[4])\n",
    "    # Read the next header line and extract the time information from it\n",
    "    header4 = f.readline().strip()[31:].lstrip()   \n",
    "    sounding_datetime = datetime.strptime(header4, '%Y, %m, %d, %H:%M:%S')\n",
    "    \n",
    "    # Now read and dump the rest of the header\n",
    "    for i in range(9):\n",
    "        f.readline()\n",
    "    \n",
    "    # Except for the last header line, which is used to determine the widths of the fields\n",
    "    line = f.readline().strip().split()\n",
    "    fw = [len(field)+1 for field in line]\n",
    "\n",
    "    # Now read the file into the dataframe, using the extracted field widths\n",
    "    df = pd.read_fwf(f, usecols=[1, 2, 3, 5, 6, 7, 8, 14, 15, 16, 17, 18, 19],\n",
    "                     names=col_names, na_values=['99999.0', '9999.0', '999.0'], widths=fw)\n",
    "    \n",
    "    # For some reason, need to convert all the columns to floating point here, as some get interpreted as strings\n",
    "    # when they shouldn't be...\n",
    "    # print(df['pressure'], df['temperature'])\n",
    "    for column in df.columns:\n",
    "        df[column] = df[column].astype(float)\n",
    "    \n",
    "    # Drop rows where height or pressure is NaN. TODO: Can't remember why I have to use reset_index(drop=True). \n",
    "    # Figure this out.\n",
    "    df = df.dropna(subset=('height', 'pressure')).reset_index(drop=True)\n",
    "    # Set the height as the index so we can use it as weights to interpolate other columns across NaN\n",
    "    df = df.set_index('height')\n",
    "    df['height'] = df.index\n",
    "    \n",
    "    if interpnan:\n",
    "        # First convert direction and speed to u, v components\n",
    "        df['u'], df['v'] = mpcalc.wind_components(df['speed'].values*units('m/s'),\n",
    "                                                      df['direction'].values*units.degrees)\n",
    "        # Now interpolate\n",
    "        df = df.interpolate(method='values')\n",
    "        # Finally recompute direction and speed from u, v components\n",
    "        df['speed'] = mpcalc.wind_speed(df['u'].values*units('m/s'), df['v'].values*units('m/s'))\n",
    "        df['direction'] = mpcalc.wind_direction(df['u'].values*units('m/s'), df['v'].values*units('m/s'))\n",
    "    else:\n",
    "        # Drop any rows with all NaN values for T, Td, winds\n",
    "        df = df.dropna(subset=('temperature', 'dewpoint', 'direction', 'speed',\n",
    "                               'u_wind', 'v_wind'), how='all').reset_index(drop=True)\n",
    "    \n",
    "    df = df[(df.Qp_code == 1.0) & (df.Qt_code == 1.0) & (df.Qrh_code == 1.0) & (df.Qu_code == 1.0) & \n",
    "            (df.Qv_code == 1.0)]\n",
    "\n",
    "    nlines = df.count()['pressure']\n",
    "    \n",
    "    if not handle:\n",
    "        f.close()\n",
    "    \n",
    "    snd_metadata = {\n",
    "        'sounding_datetime': sounding_datetime,\n",
    "        'lat': lat,\n",
    "        'lon': lon,\n",
    "        'selev': elev,\n",
    "        'staid': staid,\n",
    "        'wmo': wmo,\n",
    "        'nlevs': nlines,\n",
    "        'staid_long': staid_wmo_str\n",
    "    }\n",
    "    \n",
    "    return snd_metadata, df\n",
    "\n",
    "\n",
    "def readsharppy(path):\n",
    "    \"\"\"Reads in a sounding in sharppy format\"\"\"\n",
    "        ## read in the file\n",
    "    f = open(path, 'r')\n",
    "    lines = f.read()\n",
    "    data = np.array([l.strip() for l in lines.split('\\n')])\n",
    "    f.close()\n",
    "\n",
    "    ## necessary index points\n",
    "    title_idx = np.where( data == '%TITLE%')[0][0]\n",
    "    start_idx = np.where( data == '%RAW%' )[0][0] + 1\n",
    "    finish_idx = np.where( data == '%END%')[0][0]\n",
    "    \n",
    "    ## create the plot title\n",
    "    data_header = data[title_idx + 1].split()\n",
    "    location = data_header[0]\n",
    "    time = data_header[1][:11]\n",
    "\n",
    "    ## put it all together for StringIO\n",
    "    full_data = '\\n'.join(data[start_idx : finish_idx][:])\n",
    "    sound_data = StringIO( full_data )\n",
    "\n",
    "    ## read the data into arrays\n",
    "    p, h, T, Td, wdir, wspd = np.genfromtxt( sound_data, delimiter=',', comments=\"%\", unpack=True )\n",
    "    \n",
    "    col_names = ['pressure','height','temperature','dewpoint','speed','direction']\n",
    "    data_dict = {key:value for (key,value) in zip(col_names,[p,h,T,Td,wspd,wdir])}\n",
    "    \n",
    "    df = pd.DataFrame.from_dict(data_dict)\n",
    "    \n",
    "    return df\n",
    "\n",
    "\n",
    "def roundPartial(value, resolution, decimals=4):\n",
    "    return np.around(np.round(value / resolution) * resolution, decimals=decimals)\n",
    "\n",
    "\n",
    "def rain_Brandes(D):\n",
    "    \"\"\"Given a range of diameters D, compute rain fall speed curve, a quartic polynomial\n",
    "       fit after Brandes et al. (2002).\"\"\"\n",
    "    \n",
    "    D_mm=D*1000. # get it to (mm)\n",
    "    \n",
    "    Vtr = -0.1021 + 4.932*D_mm - 0.9551*D_mm**2. + 0.07934*D_mm**3. - 0.002362*D_mm**4.\n",
    "    \n",
    "    return Vtr\n",
    "\n",
    "\n",
    "def mtokm(val,pos):\n",
    "    \"\"\"Convert m to km for formatting axes tick labels\"\"\"\n",
    "    val=val/1000.0\n",
    "    return '%i' % val\n",
    "\n",
    "def plot_animation(xplt, yplt, field, clevels, cbarlabel=None, cbarintv=None, cmap='pyart_HomeyerRainbow', \n",
    "                   norm=None, PIPS_list=None, PIPS_xy_list=None, ax=None, ptype='pcolor', axestickintv=10000., \n",
    "                   axeslimits=None):\n",
    "    \n",
    "    if norm is None:\n",
    "        norm = cm.colors.Normalize(vmin=clevels[0], vmax=clevels[-1])\n",
    "    if ax is None:\n",
    "        fig, ax = plt.subplots(figsize=(8, 8))\n",
    "    else:\n",
    "        fig = ax.get_figure()\n",
    "    ims = []\n",
    "    for i, var in enumerate(var_da):\n",
    "        plotdata = []\n",
    "        time = np.datetime_as_string(var.coords['time'].values, unit='m')  # Ugly, but whatever\n",
    "        \n",
    "        title = ax.text(0.5,1.05,\"Time: {}\".format(time), \n",
    "                        size=plt.rcParams[\"axes.titlesize\"],\n",
    "                        ha=\"center\", transform=ax.transAxes)\n",
    "        plotdata.append(title)\n",
    "        \n",
    "        if ptype == 'pcolor':\n",
    "            ci = ax.pcolormesh(xplt, yplt, var.squeeze(), vmin=clevels[0], vmax=clevels[-1], cmap=cmap, \n",
    "                                     norm=norm)\n",
    "            plotdata.append(ci)\n",
    "        else:\n",
    "            ci = ax.contourf(xplt, yplt, var.squeeze(), levels=clevels, \n",
    "                             cmap=cmap, norm=norm)\n",
    "            plotdata.extend(ci.collections)\n",
    "            \n",
    "        if PIPS_list is not None and PIPS_xy_list is not None:\n",
    "            # Plot PIPS locations\n",
    "            for PIPS, PIPS_xy in zip(PIPS_list, PIPS_xy_list):\n",
    "                PIPS_x = PIPS_xy[0]\n",
    "                PIPS_y = PIPS_xy[1]\n",
    "                ax.plot([PIPS_x], [PIPS_y], 'k*')\n",
    "        if i == 0.:\n",
    "            if cbarintv is None:\n",
    "                cbarintv = clevels[1] - clevels[0]\n",
    "            cbarlevels = ticker.MultipleLocator(base=cbarintv)\n",
    "            divider = make_axes_locatable(ax)\n",
    "            cax = divider.append_axes(\"right\", size=\"5%\", pad=0.05)\n",
    "            fig.colorbar(ci, orientation='vertical', ticks=cbarlevels, cax=cax)\n",
    "            if cbarlabel is not None:\n",
    "                cax.set_ylabel(cbarlabel)\n",
    "            formatter = ticker.FuncFormatter(mtokm)\n",
    "            ax.xaxis.set_major_formatter(formatter)\n",
    "            ax.yaxis.set_major_formatter(formatter)\n",
    "            ax.xaxis.set_major_locator(ticker.MultipleLocator(base=axestickintv))\n",
    "            ax.yaxis.set_major_locator(ticker.MultipleLocator(base=axestickintv))\n",
    "            ax.set_xlabel('km')\n",
    "            ax.set_ylabel('km')\n",
    "            if axeslimits is None:\n",
    "                xmin = xplt[0]\n",
    "                xmax = xplt[-1]\n",
    "                ymin = yplt[0]\n",
    "                ymax = yplt[-1]\n",
    "            else:\n",
    "                xmin, xmax, ymin, ymax = axeslimits\n",
    "            ax.set_xlim(xmin, xmax)\n",
    "            ax.set_ylim(ymin, ymax)\n",
    "            ax.set_aspect('equal')\n",
    "            \n",
    "        ims.append(plotdata)\n",
    "    \n",
    "    ani = animation.ArtistAnimation(fig, ims, interval=50, blit=True,\n",
    "                                    repeat_delay=1000)\n",
    "    plt.close()\n",
    "    return ani\n",
    "\n",
    "def interp_pyart_grid_to_PIPS(grid_ds, PIPS_loc_list):\n",
    "    \"\"\"Interpolate pyart gridded radar to PIPS locations given an xarray dataset with pyart grid info and a list\n",
    "       of PIPS lats, lons, and altitudes. Returns lists of PIPS x, y, and z locations in radar grid coordinates\n",
    "       and a list of xarray Datasets for each grid variable interpolated to each PIPS location.\"\"\"\n",
    "\n",
    "    # TODO: instead of returning lists, maybe make the PIPS name a dimension of a new xarray Dataset\n",
    "    try:\n",
    "        ctrlat = float(grid_ds.origin_latitude)\n",
    "    except TypeError:\n",
    "        ctrlat = float(grid_ds.origin_latitude[0])\n",
    "    try:\n",
    "        ctrlon = float(grid_ds.origin_longitude)\n",
    "    except TypeError:\n",
    "        ctrlon = float(grid_ds.origin_longitude[0])\n",
    "    print(ctrlat, ctrlon)\n",
    "\n",
    "    radar_at_PIPS_list = []\n",
    "    PIPS_x_list = []\n",
    "    PIPS_y_list = []\n",
    "    PIPS_z_list = []\n",
    "\n",
    "    for PIPS_loc in PIPS_locs:\n",
    "        PIPS_lat = PIPS_loc[0]\n",
    "        PIPS_lon = PIPS_loc[1]\n",
    "        PIPS_alt = PIPS_loc[2]\n",
    "        try:\n",
    "            radar_alt = float(grid_ds.origin_altitude)\n",
    "        except TypeError:\n",
    "            radar_alt = float(grid_ds.origin_altitude[0])\n",
    "        \n",
    "        PIPS_z = PIPS_alt - radar_alt\n",
    "        PIPS_z_list.append(PIPS_z)\n",
    "        # Use this function to get the x and y coords of the PIPS. Note that this will only be correct \n",
    "        # if the radar\n",
    "        # grid was created using the default pyart aeqd projection.\n",
    "        PIPS_x, PIPS_y = pyart.core.geographic_to_cartesian_aeqd(PIPS_lon, PIPS_lat, ctrlon, ctrlat)\n",
    "        PIPS_x = PIPS_x.squeeze().item()\n",
    "        PIPS_y = PIPS_y.squeeze().item()\n",
    "        PIPS_x_list.append(PIPS_x)\n",
    "        PIPS_y_list.append(PIPS_y)\n",
    "        print('PIPS lat, lon, alt: ', PIPS_lat, PIPS_lon, PIPS_alt)\n",
    "        print('PIPS x, y, z: ', PIPS_x, PIPS_y, PIPS_z)\n",
    "        radar_at_PIPS_ds = grid_ds.interp(x=PIPS_x, y=PIPS_y)\n",
    "        radar_at_PIPS_list.append(radar_at_PIPS_ds)\n",
    "\n",
    "    return PIPS_x_list, PIPS_y_list, PIPS_z_list, radar_at_PIPS_list"
   ]
  },
  {
   "cell_type": "code",
   "execution_count": null,
   "metadata": {
    "ExecuteTime": {
     "end_time": "2021-01-02T22:55:49.600277Z",
     "start_time": "2021-01-02T22:55:49.480673Z"
    }
   },
   "outputs": [],
   "source": [
    "# Read in the file containing the original gridded radar at the top of the sorting layer\n",
    "\n",
    "# 03/25 case\n",
    "# radar_name = 'KGWX'\n",
    "# radar_type= 'NEXRAD'\n",
    "# date = '0325'\n",
    "# radar_start_datetimestamp = '20170325170500'\n",
    "# radar_end_datetimestamp = '20170325183559'\n",
    "# height = 2000.\n",
    "\n",
    "# For 03/30/22 case (PERiLS-2022 IOP2)\n",
    "radar_name = 'COW1'\n",
    "date = '0330'\n",
    "radar_start_datetimestamp = '202203302204'\n",
    "radar_end_datetimestamp = '202203310356'\n",
    "height = 500.\n",
    "\n",
    "# Create datetime objects for start and end times\n",
    "datetime_start = datetime.strptime(radar_start_datetimestamp, '%Y%m%d%H%M')\n",
    "datetime_end = datetime.strptime(radar_end_datetimestamp, '%Y%m%d%H%M')\n",
    "\n",
    "# radar_basedir = \\\n",
    "#     '/Users/dawson29/Projects/PERiLS/obsdata/2022/NEXRAD/GRID/IOP2/KGWX'\n",
    "\n",
    "radar_basedir = '/Users/dawson29/sshfs_mounts/depot/data/Projects/PERiLS/obsdata/2022/SIZE_SORTING/IOP2/COW1'\n",
    "gridded_radar_dir = radar_basedir # os.path.join(radar_basedir, 'combined')\n",
    "plot_dir = os.path.join(gridded_radar_dir, 'plots')\n",
    "if not os.path.exists(plot_dir):\n",
    "    os.makedirs(plot_dir)\n",
    "\n",
    "radar_start_timestamp = datetime_start.strftime('%Y%m%d%H%M')\n",
    "radar_end_timestamp = datetime_end.strftime('%Y%m%d%H%M')\n",
    "\n",
    "# Read in original gridded radar at top of sorting layer\n",
    "gridded_radar_interp_filename = '{}_{}_z{:d}_gridded_interp_retr_bias_corrected.nc'.format(radar_start_timestamp,\n",
    "                                                                          radar_end_timestamp, int(height))\n",
    "gridded_radar_interp_filepath = os.path.join(gridded_radar_dir, gridded_radar_interp_filename)\n",
    "gridded_radar_interp_ds = xr.open_dataset(gridded_radar_interp_filepath)"
   ]
  },
  {
   "cell_type": "code",
   "execution_count": null,
   "metadata": {
    "ExecuteTime": {
     "end_time": "2021-01-02T22:55:50.207636Z",
     "start_time": "2021-01-02T22:55:50.123510Z"
    }
   },
   "outputs": [],
   "source": [
    "# Read in the \"sorted\" gridded radar at bottom of sorting layer\n",
    "radar_sorted_start_datetimestamp = '20220330233000'\n",
    "radar_sorted_end_datetimestamp = '20220331011500'\n",
    "\n",
    "# Create datetime objects for start and end times\n",
    "datetime_start = datetime.strptime(radar_sorted_start_datetimestamp, '%Y%m%d%H%M%S')\n",
    "datetime_end = datetime.strptime(radar_sorted_end_datetimestamp, '%Y%m%d%H%M%S')\n",
    "\n",
    "radar_sorted_start_timestamp = datetime_start.strftime('%Y%m%d%H%M')\n",
    "radar_sorted_end_timestamp = datetime_end.strftime('%Y%m%d%H%M')\n",
    "\n",
    "gridded_radar_sorted_filename = '{}_{}_{}_d{:d}_gridded_sorted.nc'.format(radar_name, \n",
    "                                                                          radar_sorted_start_timestamp,\n",
    "                                                                          radar_sorted_end_timestamp, \n",
    "                                                                          int(height))\n",
    "gridded_radar_sorted_filepath = os.path.join(gridded_radar_dir, gridded_radar_sorted_filename)\n",
    "gridded_radar_sorted_ds = xr.open_dataset(gridded_radar_sorted_filepath)"
   ]
  },
  {
   "cell_type": "code",
   "execution_count": null,
   "metadata": {
    "ExecuteTime": {
     "end_time": "2021-01-02T22:55:53.346368Z",
     "start_time": "2021-01-02T22:55:53.282164Z"
    }
   },
   "outputs": [],
   "source": [
    "# Extract x and y coordinates from sorted grid file. These represent the *left* edges of the grid cells,\n",
    "# not the centers, and are therefore missing the final *right* edge. This is because of the way I constructed\n",
    "# the coordinates. I really should have used the grid centers. Anyway, add the final edge here and then\n",
    "# calculate the grid centers\n",
    "# TODO: go back and fix this in the calc_precip_trajectories... notebook\n",
    "\n",
    "xedges = gridded_radar_sorted_ds.coords['x'].values\n",
    "dx = xedges[1] - xedges[0]\n",
    "xedges = np.append(xedges, xedges[-1] + dx)\n",
    "\n",
    "yedges = gridded_radar_sorted_ds.coords['y'].values\n",
    "dy = yedges[1] - yedges[0]\n",
    "yedges = np.append(yedges, yedges[-1] + dy)\n",
    "\n",
    "xctr = 0.5 * (xedges[1:] + xedges[:-1])\n",
    "yctr = 0.5 * (yedges[1:] + yedges[:-1])"
   ]
  },
  {
   "cell_type": "code",
   "execution_count": null,
   "metadata": {
    "ExecuteTime": {
     "end_time": "2021-01-02T22:55:54.670301Z",
     "start_time": "2021-01-02T22:55:54.287683Z"
    }
   },
   "outputs": [],
   "source": [
    "# Read in PIPS data\n",
    "# deployment = 'IOP1A_D1_2017'\n",
    "# PIPS_list = ['PIPS1A', 'PIPS1B', 'PIPS2B']\n",
    "# PIPS_data_dir = '/Volumes/scr_fast/Projects/VORTEXSE/obsdata/full_PIPS_dataset_RB15'\n",
    "\n",
    "deployment = 'IOP2_033022'\n",
    "PIPS_list = ['PIPS1A', 'PIPS1B', 'PIPS2A', 'PIPS3B']\n",
    "PIPS_data_dir = '/Users/dawson29/Projects/PERiLS/obsdata/2022/PIPS_data/IOP2_033022/netcdf_60s'\n",
    "\n",
    "\n",
    "PIPS_ds_list = []\n",
    "PIPS_locs = []\n",
    "\n",
    "for PIPS in PIPS_list:\n",
    "    PIPS_filename = 'parsivel_combined_{}_{}_60s.nc'.format(deployment, PIPS)\n",
    "    PIPS_filepath = os.path.join(PIPS_data_dir, PIPS_filename)\n",
    "    PIPS_ds = xr.load_dataset(PIPS_filepath)\n",
    "    PIPS_ds_list.append(PIPS_ds)\n",
    "    PIPS_loc = eval(PIPS_ds.location)\n",
    "    PIPS_locs.append(PIPS_loc)"
   ]
  },
  {
   "cell_type": "code",
   "execution_count": null,
   "metadata": {
    "ExecuteTime": {
     "end_time": "2021-01-02T22:55:56.190957Z",
     "start_time": "2021-01-02T22:55:56.125420Z"
    }
   },
   "outputs": [],
   "source": [
    "# Find PIPS x, y location by interpolating to its lat/lon point\n",
    "PIPS_x_list, PIPS_y_list, PIPS_z_list, radar_at_PIPS_ds_list = interp_pyart_grid_to_PIPS(gridded_radar_interp_ds, \n",
    "                                                                                         PIPS_locs)\n",
    "    \n",
    "PIPS_z_mean = np.array(PIPS_z_list).mean()\n",
    "print(PIPS_z_list)\n",
    "print(PIPS_z_mean)\n",
    "PIPS_x_arr = np.array(PIPS_x_list)\n",
    "PIPS_y_arr = np.array(PIPS_y_list)\n",
    "\n",
    "print(PIPS_x_arr, PIPS_y_arr)\n",
    "\n",
    "PIPS_xy_list = [(PIPS_x, PIPS_y) for PIPS_x, PIPS_y in zip(PIPS_x_list, PIPS_y_list)]"
   ]
  },
  {
   "cell_type": "code",
   "execution_count": null,
   "metadata": {
    "ExecuteTime": {
     "end_time": "2021-01-02T22:55:58.536551Z",
     "start_time": "2021-01-02T22:55:58.431210Z"
    }
   },
   "outputs": [],
   "source": [
    "# Read in sounding file to get low-level wind field and then derive storm-relative wind\n",
    "# Storm motion taken from subjective reflectivity tag tracking using GRLevel2\n",
    "# EDIT: don't need storm motion because it is implicitly handled in time-dependent trajectory model\n",
    "# ustorm = 12.51\n",
    "# vstorm = 12.95\n",
    "\n",
    "# EDIT: setting ustorm, vstorm to 0 to force ground-relative flow\n",
    "ustorm = 0.\n",
    "vstorm = 0.\n",
    "\n",
    "# sounding_dir = '/Volumes/scr_fast/Projects/VORTEXSE/obsdata/2017/soundings'\n",
    "# sounding_filename = 'Courtland_1759.txt'\n",
    "# # sounding_dir = '/Users/dawson29/sshfs_mounts/depot/data/Projects/VORTEXSE/obsdata/2017/soundings/COMP5mb'\n",
    "# # sounding_filename = 'Hollywood_201704301954.cls'\n",
    "# sounding_path = os.path.join(sounding_dir, sounding_filename)\n",
    "# sounding_metadata, sounding_df = readESC(sounding_path)\n",
    "\n",
    "# For PERiLS IOP2 UIUC SONDE4\n",
    "sounding_dir = '/Users/dawson29/sshfs_mounts/depot/data/Projects/PERiLS/obsdata/2022/non-radar_QC_Illinois/20220330_IOP02/SONDE4/sounding/L2'\n",
    "sounding_filename = 'SPC_20220330_SONDE4_2328.txt'\n",
    "sounding_path = os.path.join(sounding_dir, sounding_filename)\n",
    "\n",
    "sounding_df = readsharppy(sounding_path)\n",
    "wind_dir = sounding_df['direction'].values*units.degrees\n",
    "# print(wind_dir)\n",
    "wind_speed_kts = sounding_df['speed'].values*units.knots \n",
    "wind_speed_ms = wind_speed_kts.to(units('m/s'))\n",
    "\n",
    "# print(wind_speed_ms)\n",
    "u, v = wind_components(wind_speed_ms, wind_dir)\n",
    "\n",
    "sounding_df['u'] = u\n",
    "sounding_df['v'] = v"
   ]
  },
  {
   "cell_type": "code",
   "execution_count": null,
   "metadata": {},
   "outputs": [],
   "source": [
    "print(sounding_df)"
   ]
  },
  {
   "cell_type": "code",
   "execution_count": null,
   "metadata": {
    "ExecuteTime": {
     "end_time": "2021-01-03T03:35:25.838743Z",
     "start_time": "2021-01-03T03:35:25.229541Z"
    }
   },
   "outputs": [],
   "source": [
    "from metpy.plots import SkewT, Hodograph\n",
    "\n",
    "# ustorm, vstorm = (4.121136597951332, 6.968096312979091) # From mean of pysteps u and v field (04/30)\n",
    "# ustorm, vstorm = (4.893569553782078, 2.6387864245583765) # 03/27\n",
    "# ustorm, vstorm = (3.164247877224066, 5.370989998643443) #03/25\n",
    "ustorm, vstorm = (0., 0.)  # Get this value for PERiLS IOP2 case!\n",
    "\n",
    "hodo_units='m/s'\n",
    "\n",
    "u = sounding_df['u']\n",
    "v = sounding_df['v']\n",
    "z = sounding_df['height'] # - sounding_metadata['selev']\n",
    "\n",
    "u1km = u.loc[z <= height]\n",
    "v1km = v.loc[z <= height]\n",
    "\n",
    "u1kmavg = u1km.mean()\n",
    "v1kmavg = v1km.mean()\n",
    "\n",
    "ug1km = u.loc[~(z <= height)]\n",
    "vg1km = v.loc[~(z <= height)]\n",
    "\n",
    "hodo = Hodograph(component_range=40)\n",
    "hodo.add_grid(increment=10)\n",
    "if(hodo_units == 'm/s'):\n",
    "    hodo.plot(u, v, color='b')\n",
    "    hodo.plot(u1km, v1km, color='r')\n",
    "    hodo.plot(u1kmavg, v1kmavg, color='k', marker='o')\n",
    "    hodo.plot(ustorm, vstorm, color='purple', marker='o')\n",
    "    hodo.plot([ustorm, u1kmavg], [vstorm, v1kmavg], color='purple', linewidth=0.5)\n",
    "    hodo.ax.set_xlim(-10., 20.)\n",
    "    hodo.ax.set_ylim(0., 30.)\n",
    "    hodo.ax.set_xlabel(r'm s$^{-1}$')\n",
    "    hodo.ax.set_ylabel(r'm s$^{-1}$')\n",
    "else:\n",
    "    hodo.plot(u,v)\n",
    "    hodo.ax.set_xlabel('kts')\n",
    "    hodo.ax.set_ylabel('kts')\n",
    "#hodo.ax.set_xlim(-10.,40.)\n",
    "\n",
    "plot_filename = '{}_hodo.png'.format(sounding_filename[:-4]) \n",
    "plot_filepath = os.path.join(plot_dir, plot_filename)\n",
    "plt.savefig(plot_filepath, dpi=300, bbox_inches='tight')"
   ]
  },
  {
   "cell_type": "code",
   "execution_count": null,
   "metadata": {
    "ExecuteTime": {
     "end_time": "2021-01-02T22:56:06.379111Z",
     "start_time": "2021-01-02T22:56:06.311591Z"
    }
   },
   "outputs": [],
   "source": [
    "# Set up start and end time objects and strings for animations\n",
    "# 04/30 case\n",
    "# anim_start = '2017-04-30T20:00'\n",
    "# anim_end = '2017-04-30T21:30'\n",
    "\n",
    "# 03/25 case\n",
    "# anim_start = '2017-03-25T17:00'\n",
    "# anim_end = '2017-03-25T18:45'\n",
    "\n",
    "# PERiLS IOP2\n",
    "anim_start = '2022-03-30T23:30'\n",
    "anim_end = '2022-03-31T01:15'\n",
    "\n",
    "anim_start_datetime = datetime.strptime(anim_start, '%Y-%m-%dT%H:%M')\n",
    "anim_end_datetime = datetime.strptime(anim_end, '%Y-%m-%dT%H:%M')\n",
    "\n",
    "anim_start_out = anim_start_datetime.strftime('%Y%m%d%H%M')\n",
    "anim_end_out = anim_end_datetime.strftime('%Y%m%d%H%M')\n",
    "\n",
    "ref_varname = 'REF'\n",
    "zdr_varname = 'ZDR'\n",
    "rhv_varname = 'RHO'"
   ]
  },
  {
   "cell_type": "code",
   "execution_count": null,
   "metadata": {
    "ExecuteTime": {
     "end_time": "2020-12-31T20:00:50.101139Z",
     "start_time": "2020-12-31T20:00:00.017278Z"
    }
   },
   "outputs": [],
   "source": [
    "# Plot reflectivity for time-interpolated grid\n",
    "var_da = gridded_radar_interp_ds[f'{ref_varname}'].sel(time=slice(anim_start, anim_end))\n",
    "# print(var_da.coords['time'].values)\n",
    "xplt = var_da.coords['x']\n",
    "yplt = var_da.coords['y']\n",
    "\n",
    "clevels = np.arange(0., 61., 1.)\n",
    "cbarintv = 10.\n",
    "norm = cm.colors.Normalize(vmin=0., vmax=60.)\n",
    "\n",
    "ani = plot_animation(xplt, yplt, var_da, clevels, cbarintv=cbarintv, cbarlabel='dBZ', \n",
    "                     cmap='pyart_HomeyerRainbow', norm=norm, PIPS_list=PIPS_list, PIPS_xy_list=PIPS_xy_list, \n",
    "                     ax=None, ptype='contourf', axestickintv=50000., axeslimits=None)\n",
    "\n",
    "HTML(ani.to_jshtml())"
   ]
  },
  {
   "cell_type": "code",
   "execution_count": null,
   "metadata": {
    "ExecuteTime": {
     "end_time": "2020-12-31T20:11:14.467735Z",
     "start_time": "2020-12-31T20:10:34.469180Z"
    }
   },
   "outputs": [],
   "source": [
    "# Save above animation to disk\n",
    "ani_filename = '{}_{}_{}_grid_z{:d}_big_dBZ.mp4'.format(radar_name, anim_start_out, anim_end_out, int(height))\n",
    "ani_filepath = os.path.join(plot_dir, ani_filename)\n",
    "\n",
    "ani.save(ani_filepath)"
   ]
  },
  {
   "cell_type": "code",
   "execution_count": null,
   "metadata": {
    "ExecuteTime": {
     "end_time": "2020-12-30T20:03:54.316697Z",
     "start_time": "2020-12-30T20:01:38.783987Z"
    }
   },
   "outputs": [],
   "source": [
    "# Plot ND animation for a given diameter bin\n",
    "D_to_plot = 4.  # Diameter of raindrop to plot. Will select the nearest central value of the Parsivel bin\n",
    "\n",
    "var_da = gridded_radar_sorted_ds['ND'].sel(diameter=D_to_plot, method='nearest')\n",
    "var_da = var_da.sel(time=slice(anim_start, anim_end))\n",
    "\n",
    "clevels = np.logspace(-1., 4., num=100)\n",
    "norm = cm.colors.LogNorm(vmin=1., vmax=10000.)\n",
    "\n",
    "# Put call to plot_animation here..."
   ]
  },
  {
   "cell_type": "code",
   "execution_count": null,
   "metadata": {
    "ExecuteTime": {
     "end_time": "2020-12-31T20:15:53.313453Z",
     "start_time": "2020-12-31T20:15:03.391483Z"
    }
   },
   "outputs": [],
   "source": [
    "# Plot reflectivity at bottom of sorting layer\n",
    "\n",
    "var_da = gridded_radar_sorted_ds[ref_varname]\n",
    "clevels =np.arange(0., 61., 1.)\n",
    "norm = cm.colors.Normalize(vmin=0., vmax=60.)\n",
    "cbarintv = 10.\n",
    "\n",
    "ani = plot_animation(xctr, yctr, var_da, clevels, cbarintv=cbarintv, cbarlabel='dBZ', \n",
    "                     cmap='pyart_HomeyerRainbow', norm=norm, PIPS_list=PIPS_list, PIPS_xy_list=PIPS_xy_list, \n",
    "                     ax=None, ptype='contourf', axestickintv=10000., axeslimits=None)\n",
    "\n",
    "HTML(ani.to_jshtml())"
   ]
  },
  {
   "cell_type": "code",
   "execution_count": null,
   "metadata": {
    "ExecuteTime": {
     "end_time": "2020-12-31T20:19:01.021266Z",
     "start_time": "2020-12-31T20:18:21.532342Z"
    }
   },
   "outputs": [],
   "source": [
    "# Save above animation to disk\n",
    "ani_filename = '{}_{}_{}_d{:d}_grid_bottom_dBZ.mp4'.format(radar_name, radar_sorted_start_timestamp, \n",
    "                                                     radar_sorted_end_timestamp, int(height))\n",
    "ani_filepath = os.path.join(plot_dir, ani_filename)\n",
    "\n",
    "ani.save(ani_filepath)"
   ]
  },
  {
   "cell_type": "code",
   "execution_count": null,
   "metadata": {
    "ExecuteTime": {
     "end_time": "2020-12-31T20:21:18.061775Z",
     "start_time": "2020-12-31T20:20:28.212085Z"
    }
   },
   "outputs": [],
   "source": [
    "# Plot reflectivity at top of sorting layer (zoomed in to same limits as the animation at the bottom of the\n",
    "# sorting layer)\n",
    "\n",
    "var_da = gridded_radar_interp_ds[f'{ref_varname}'].sel(time=slice(anim_start, anim_end))\n",
    "xplt = gridded_radar_interp_ds.coords[\"x\"]\n",
    "yplt = gridded_radar_interp_ds.coords[\"y\"]\n",
    "\n",
    "clevels =np.arange(0., 61., 1.)\n",
    "norm = cm.colors.Normalize(vmin=0., vmax=60.)\n",
    "cbarintv = 10.\n",
    "\n",
    "ani = plot_animation(xplt, yplt, var_da, clevels, cbarintv=cbarintv, cbarlabel='dBZ', \n",
    "                     cmap='pyart_HomeyerRainbow', norm=norm, PIPS_list=PIPS_list, PIPS_xy_list=PIPS_xy_list, \n",
    "                     ax=None, ptype='contourf', axestickintv=10000., axeslimits=[xedges[0], xedges[-1], \n",
    "                                                                                 yedges[0], yedges[-1]])\n",
    "\n",
    "HTML(ani.to_jshtml())"
   ]
  },
  {
   "cell_type": "code",
   "execution_count": null,
   "metadata": {
    "ExecuteTime": {
     "end_time": "2020-12-31T20:22:43.558172Z",
     "start_time": "2020-12-31T20:22:06.639758Z"
    }
   },
   "outputs": [],
   "source": [
    "# Save above animation to disk\n",
    "ani_filename = '{}_{}_{}_grid_z{:d}_dBZ.mp4'.format(radar_name, anim_start_out, anim_end_out, int(height))\n",
    "ani_filepath = os.path.join(plot_dir, ani_filename)\n",
    "\n",
    "ani.save(ani_filepath)"
   ]
  },
  {
   "cell_type": "code",
   "execution_count": null,
   "metadata": {
    "ExecuteTime": {
     "end_time": "2020-12-31T21:19:40.049724Z",
     "start_time": "2020-12-31T21:18:57.802450Z"
    }
   },
   "outputs": [],
   "source": [
    "# Plot ZDR at bottom of sorting layer\n",
    "\n",
    "var_da = gridded_radar_sorted_ds[zdr_varname]\n",
    "clevels =np.arange(0., 6., 0.1)\n",
    "norm = cm.colors.Normalize(vmin=0., vmax=6.)\n",
    "cbarintv = 1.\n",
    "\n",
    "ani = plot_animation(xctr, yctr, var_da, clevels, cbarintv=cbarintv, cbarlabel='ZDR (dB)', \n",
    "                     cmap='plasma', norm=norm, PIPS_list=PIPS_list, PIPS_xy_list=PIPS_xy_list, ax=None, \n",
    "                     ptype='contourf', axestickintv=10000., axeslimits=None)\n",
    "\n",
    "HTML(ani.to_jshtml())"
   ]
  },
  {
   "cell_type": "code",
   "execution_count": null,
   "metadata": {
    "ExecuteTime": {
     "end_time": "2020-12-31T21:24:01.143576Z",
     "start_time": "2020-12-31T21:23:24.866606Z"
    }
   },
   "outputs": [],
   "source": [
    "# Save above animation to disk\n",
    "ani_filename = '{}_{}_{}_d{:d}_grid_bottom_ZDR.mp4'.format(radar_name, anim_start_out, anim_end_out, int(height))\n",
    "ani_filepath = os.path.join(plot_dir, ani_filename)\n",
    "\n",
    "ani.save(ani_filepath)"
   ]
  },
  {
   "cell_type": "code",
   "execution_count": null,
   "metadata": {
    "ExecuteTime": {
     "end_time": "2020-12-31T21:26:42.347611Z",
     "start_time": "2020-12-31T21:25:53.216475Z"
    }
   },
   "outputs": [],
   "source": [
    "# Plot ZDR at top of sorting layer (zoomed in to same limits as the animation at the bottom of the\n",
    "# sorting layer)\n",
    "\n",
    "var_da = gridded_radar_interp_ds[f'{zdr_varname}'].sel(time=slice(anim_start, anim_end))\n",
    "xplt = gridded_radar_interp_ds.coords[\"x\"]\n",
    "yplt = gridded_radar_interp_ds.coords[\"y\"]\n",
    "\n",
    "clevels =np.arange(0., 6., 0.1)\n",
    "norm = cm.colors.Normalize(vmin=0., vmax=6.)\n",
    "cbarintv = 1.\n",
    "\n",
    "ani = plot_animation(xplt, yplt, var_da, clevels, cbarintv=cbarintv, cbarlabel='ZDR (dB)', \n",
    "                     cmap='plasma', norm=norm, PIPS_list=PIPS_list, PIPS_xy_list=PIPS_xy_list, ax=None, \n",
    "                     ptype='contourf', axestickintv=10000., axeslimits=[xedges[0], xedges[-1], \n",
    "                                                                        yedges[0], yedges[-1]])\n",
    "\n",
    "HTML(ani.to_jshtml())"
   ]
  },
  {
   "cell_type": "code",
   "execution_count": null,
   "metadata": {
    "ExecuteTime": {
     "end_time": "2020-12-31T21:27:59.505345Z",
     "start_time": "2020-12-31T21:27:23.946597Z"
    }
   },
   "outputs": [],
   "source": [
    "# Save above animation to disk\n",
    "ani_filename = '{}_{}_{}_grid_z{:d}_ZDR.mp4'.format(radar_name, anim_start_out, anim_end_out, int(height))\n",
    "ani_filepath = os.path.join(plot_dir, ani_filename)\n",
    "\n",
    "ani.save(ani_filepath)"
   ]
  },
  {
   "cell_type": "code",
   "execution_count": null,
   "metadata": {
    "ExecuteTime": {
     "end_time": "2020-12-31T21:29:20.091024Z",
     "start_time": "2020-12-31T21:29:20.007381Z"
    }
   },
   "outputs": [],
   "source": [
    "# Made this a bit easier to deal with and less error-prone. \n",
    "# Now elect by PIPS name instead of trying to remember the index\n",
    "PIPS_to_plot = 'PIPS3B' # Pick the particular PIPS you prefer to plot, and pick a peck of pickled peppers while\n",
    "# you're at it ;)\n",
    "PIPS_index = PIPS_list.index(PIPS_to_plot)\n",
    "print(\"Index of {} in the list is {:d}\".format(PIPS_to_plot, PIPS_index))\n",
    "\n",
    "PIPS_xy = PIPS_xy_list[PIPS_index]\n",
    "PIPS_x = PIPS_xy[0]\n",
    "PIPS_y = PIPS_xy[1]\n",
    "\n",
    "PIPS_ds = PIPS_ds_list[PIPS_index]\n",
    "# PIPS_ds\n",
    "# radar_at_PIPS_da contains the gridded radar at the top of the sorting layer interpolated to the PIPS \n",
    "# horizontal location\n",
    "radar_at_PIPS_da = radar_at_PIPS_ds_list[PIPS_index]\n",
    "\n",
    "# Compute polarimetric fields from PIPS DSDs\n",
    "dD = PIPS_ds['max_diameter'] - PIPS_ds['min_diameter']\n",
    "dualpol_dict_PIPS = dualpol.calpolrain_bulk_xr(5.445, \n",
    "                                               '/Users/dawson29/Projects/pyPIPS/tmatrix/C-Band/SCTT_RAIN_fw100.dat',\n",
    "                                               PIPS_ds['ND_roqc'], dD, diameter_bin_name='diameter_bin')"
   ]
  },
  {
   "cell_type": "code",
   "execution_count": null,
   "metadata": {},
   "outputs": [],
   "source": [
    "radar_at_PIPS_da"
   ]
  },
  {
   "cell_type": "code",
   "execution_count": null,
   "metadata": {
    "ExecuteTime": {
     "end_time": "2021-01-01T18:11:28.747292Z",
     "start_time": "2021-01-01T18:11:28.661097Z"
    }
   },
   "outputs": [],
   "source": [
    "# Interpolate Z and ZDR from sorted grid to PIPS location\n",
    "ZH_sorted_PIPS_da = gridded_radar_sorted_ds['REF'].interp(x=PIPS_x, y=PIPS_y).squeeze()\n",
    "ZDR_sorted_PIPS_da = gridded_radar_sorted_ds['ZDR'].interp(x=PIPS_x, y=PIPS_y).squeeze()\n",
    "ZH_PIPS = dualpol_dict_PIPS['REF']\n",
    "ZDR_PIPS = dualpol_dict_PIPS['ZDR']\n",
    "Dm_PIPS = PIPS_ds['Dm43'] * 1000.\n",
    "# ZH_radar_at_PIPS = PIPS_ds[f'{radar_name}_at_PIPS'].sel({f'fields_{radar_name}': 'REF_filtered'})\n",
    "# ZDR_radar_at_PIPS = PIPS_ds[f'{radar_name}_at_PIPS'].sel({f'fields_{radar_name}': 'ZDR_filtered'})\n",
    "ZH_gridded_radar_at_PIPS = radar_at_PIPS_da[f'{ref_varname}'].squeeze()\n",
    "ZDR_gridded_radar_at_PIPS = radar_at_PIPS_da[f'{zdr_varname}'].squeeze()"
   ]
  },
  {
   "cell_type": "code",
   "execution_count": null,
   "metadata": {},
   "outputs": [],
   "source": [
    "# Need to compute mass-weighted mean diameter for the sorted DSDs, since it's not already there (can go back\n",
    "# and change that if we like in the \"calc_precip_trajectories_from_gridded_radar\" notebook)\n",
    "\n",
    "# First get the ND \n",
    "ND_sorted = gridded_radar_sorted_ds['ND']\n",
    "Dm_sorted = dsd.calc_Dmpq_binned(4, 3, ND_sorted, diameter_dim_name='diameter') * 1000.\n",
    "\n",
    "# Now interpolate to PIPS location (do it for the original gridded and ungridded radar as well)\n",
    "# Note, for some reason I don't have the Dm_Z014dB in the PIPS_ds files yet. Gotta go back and fix that...\n",
    "# Should be more-or-less the same as the Dm_Z01, though.\n",
    "# Dm_radar_at_PIPS = PIPS_ds[f'{radar_name}_at_PIPS'].sel({f'fields_{radar_name}': 'Dm_Z01'})\n",
    "Dm_gridded_radar_at_PIPS = radar_at_PIPS_da['Dm_Z01_4dB'].squeeze()\n",
    "Dm_sorted_PIPS_da = Dm_sorted.interp(x=PIPS_x, y=PIPS_y).squeeze()\n"
   ]
  },
  {
   "cell_type": "code",
   "execution_count": null,
   "metadata": {},
   "outputs": [],
   "source": [
    "# Get the \"raw\" (before gridding) radar data valid at the lowest elevation angle and the gate immediately above\n",
    "# the PIPS\n",
    "# The \"raw\" \n",
    "raw_radar_at_PIPS = PIPS_ds['{}_at_PIPS'.format(radar_name)]\n",
    "# Get ZH and ZDR from this\n",
    "ZH_raw_at_PIPS = raw_radar_at_PIPS.sel({'fields_{}'.format(radar_name): 'REF'}) # Note, not using \"REF_filtered\"\n",
    "# because we want to mask it in the same way as the gridded data. \n",
    "ZDR_raw_at_PIPS = raw_radar_at_PIPS.sel({'fields_{}'.format(radar_name): 'ZDR'})\n",
    "# Note, for some reason I don't have the Dm_Z014dB in the PIPS_ds files yet. Gotta go back and fix that...\n",
    "# Should be more-or-less the same as the Dm_Z01, though.\n",
    "Dm_raw_at_PIPS = raw_radar_at_PIPS.sel({'fields_{}'.format(radar_name): 'Dm_Z01'})\n",
    "\n",
    "# Now, create a mask in the same way as we did for the gridded radar data in the \n",
    "# \"calc_retrieval_and_interp_gridded_radar\" notebook\n",
    "# that is, we will use a ZH threshold of 5 dBZ and a ZDR threshold of 0.1 dB\n",
    "ZH_thresh = 5.\n",
    "ZDR_thresh = 0.1\n",
    "\n",
    "print(\"Z and ZDR thresholds are {:f} and {:f}\".format(ZH_thresh, ZDR_thresh))\n",
    "\n",
    "ZH_mask = np.where(ZH_raw_at_PIPS < ZH_thresh, True, False)\n",
    "ZH_mask = np.where(np.isfinite(ZH_raw_at_PIPS), ZH_mask, False)\n",
    "ZDR_mask = np.where(ZDR_raw_at_PIPS < ZDR_thresh, True, False)\n",
    "ZDR_mask = np.where(np.isfinite(ZDR_raw_at_PIPS), ZDR_mask, False)\n",
    "# mask of all times where either ZH and ZDR are less than their thresholds\n",
    "full_mask = np.ma.mask_or(ZH_mask, ZDR_mask)\n",
    "\n",
    "# Apply the mask\n",
    "ZH_raw_at_PIPS = ZH_raw_at_PIPS.where(~full_mask)\n",
    "ZDR_raw_at_PIPS = ZDR_raw_at_PIPS.where(~full_mask)\n",
    "Dm_raw_at_PIPS = Dm_raw_at_PIPS.where(~full_mask)"
   ]
  },
  {
   "cell_type": "code",
   "execution_count": null,
   "metadata": {
    "ExecuteTime": {
     "end_time": "2021-01-01T18:21:44.653447Z",
     "start_time": "2021-01-01T18:21:44.583905Z"
    }
   },
   "outputs": [],
   "source": [
    "plot_start = '2022-03-30T23:30'\n",
    "plot_end = '2022-03-31T01:15'\n",
    "\n",
    "plot_start_datetime = datetime.strptime(plot_start, '%Y-%m-%dT%H:%M')\n",
    "plot_end_datetime = datetime.strptime(plot_end, '%Y-%m-%dT%H:%M')\n",
    "\n",
    "plot_start_out = plot_start_datetime.strftime('%Y%m%d%H%M')\n",
    "plot_end_out = plot_end_datetime.strftime('%Y%m%d%H%M')\n",
    "\n",
    "# NOTE 04/30/2022. Somewhere along the line something changed with the way xarray (which uses pandas under the\n",
    "# hood) handles axes limits in the \"xlim\" or \"ylim\" keyword arguments. In order to avoid a conversion error for\n",
    "# the time strings (stored here in \"anim_start\", \"anim_end\" which are strings), we need to call this function\n",
    "# to register the appropriate matplotlib converters. See\n",
    "# https://github.com/pydata/xarray/issues/6263\n",
    "pd.plotting.register_matplotlib_converters()"
   ]
  },
  {
   "cell_type": "code",
   "execution_count": null,
   "metadata": {
    "ExecuteTime": {
     "end_time": "2021-01-01T18:25:02.710115Z",
     "start_time": "2021-01-01T18:25:01.621697Z"
    }
   },
   "outputs": [],
   "source": [
    "# Plot reflectivity at PIPS location, comparing PIPS observation, gridded radar at the chosen height, \n",
    "# and sorting-model results at the surface\n",
    "\n",
    "fig, ax = plt.subplots(figsize=(10, 10))\n",
    "ZH_PIPS.plot.line(xlim=(plot_start, plot_end), color='k', label='PIPS observed surface DSD')\n",
    "ZH_gridded_radar_at_PIPS.plot.line(xlim=(plot_start, plot_end), color='r', label=f'Radar at {int(height)} m AGL')\n",
    "ZH_sorted_PIPS_da.plot.line(xlim=(plot_start, plot_end), color='b', label='Sorting-model surface DSD')\n",
    "# ZH_raw_at_PIPS.plot(xlim=(anim_start, anim_end), color='purple', label='\"raw\" radar at gate above PIPS', ax=ax)\n",
    "# ZH_radar_at_PIPS.plot(xlim=(anim_start, anim_end), color='purple', ls='--',\n",
    "#                       label='filtered radar at gate above PIPS', ax=ax)\n",
    "ax.legend()\n",
    "ax.set_title('Reflectivity at PIPS')\n",
    "ax.set_ylabel('dBZ')\n",
    "ax.set_ylim(0.0, 60.0)\n",
    "\n",
    "plot_filename = 'Z_at_PIPS_{}_{}.png'.format(plot_start_out, plot_end_out)\n",
    "plot_path = os.path.join(plot_dir, plot_filename)\n",
    "fig.savefig(plot_path, dpi=300, bbox_inches='tight')"
   ]
  },
  {
   "cell_type": "code",
   "execution_count": null,
   "metadata": {
    "ExecuteTime": {
     "end_time": "2021-01-01T18:28:01.820022Z",
     "start_time": "2021-01-01T18:28:00.712839Z"
    }
   },
   "outputs": [],
   "source": [
    "# Plot differential reflectivity at PIPS location, comparing PIPS observation, gridded radar at the chosen height, \n",
    "# and sorting-model results at the surface\n",
    "\n",
    "fig, ax = plt.subplots(figsize=(10, 10))\n",
    "ZDR_PIPS.plot.line(xlim=(plot_start, plot_end), color='k', label='PIPS observed surface DSD')\n",
    "ZDR_gridded_radar_at_PIPS.plot.line(xlim=(plot_start, plot_end), color='r', label=f'Radar at {int(height)} m AGL')\n",
    "ZDR_sorted_PIPS_da.plot.line(xlim=(plot_start, plot_end), color='b', label='Sorting-model surface DSD')\n",
    "# ZDR_raw_at_PIPS.plot(xlim=(anim_start, anim_end), color='purple', label='\"raw\" radar at gate above PIPS', ax=ax)\n",
    "# ZDR_radar_at_PIPS.plot(xlim=(anim_start, anim_end), color='purple', ls='--',\n",
    "#                        label='filtered radar at gate above PIPS', ax=ax)\n",
    "ax.legend()\n",
    "ax.set_title('Differential Reflectivity at PIPS')\n",
    "ax.set_ylabel('dB')\n",
    "ax.set_ylim(0.0, 4.0)\n",
    "\n",
    "plot_filename = 'ZDR_at_PIPS_{}_{}.png'.format(plot_start_out, plot_end_out)\n",
    "plot_path = os.path.join(plot_dir, plot_filename)\n",
    "fig.savefig(plot_path, dpi=300, bbox_inches='tight')"
   ]
  },
  {
   "cell_type": "code",
   "execution_count": null,
   "metadata": {
    "ExecuteTime": {
     "end_time": "2021-01-01T18:28:01.820022Z",
     "start_time": "2021-01-01T18:28:00.712839Z"
    }
   },
   "outputs": [],
   "source": [
    "# Plot mass-weighted mean diameter at PIPS location, comparing PIPS observation, gridded radar at the chosen height, \n",
    "# and sorting-model results at the surface\n",
    "\n",
    "fig, ax = plt.subplots(figsize=(10, 10))\n",
    "Dm_PIPS.plot.line(xlim=(plot_start, plot_end), color='k', label='PIPS observed surface DSD')\n",
    "Dm_gridded_radar_at_PIPS.plot.line(xlim=(plot_start, plot_end), color='r', label=f'Radar at {int(height)} m AGL')\n",
    "Dm_sorted_PIPS_da.plot.line(xlim=(plot_start, plot_end), color='b', label='Sorting-model surface DSD')\n",
    "# Dm_raw_at_PIPS.plot(xlim=(anim_start, anim_end), color='purple', label='\"raw\" radar at gate above PIPS', ax=ax)\n",
    "# Dm_radar_at_PIPS.plot(xlim=(anim_start, anim_end), color='purple', ls='--',\n",
    "#                       label='filtered radar at gate above PIPS', ax=ax)\n",
    "ax.legend()\n",
    "ax.set_title('Mass-weighted mean diameter at PIPS')\n",
    "ax.set_ylabel('mm')\n",
    "ax.set_ylim(0.0, 4.0)\n",
    "\n",
    "plot_filename = 'Dm_at_PIPS_{}_{}.png'.format(plot_start_out, plot_end_out)\n",
    "plot_path = os.path.join(plot_dir, plot_filename)\n",
    "fig.savefig(plot_path, dpi=300, bbox_inches='tight')"
   ]
  },
  {
   "cell_type": "code",
   "execution_count": null,
   "metadata": {},
   "outputs": [],
   "source": [
    "Dm_sorted_PIPS_da"
   ]
  },
  {
   "cell_type": "code",
   "execution_count": null,
   "metadata": {
    "ExecuteTime": {
     "end_time": "2021-01-02T23:04:34.995447Z",
     "start_time": "2021-01-02T23:04:34.004596Z"
    }
   },
   "outputs": [],
   "source": [
    "# Plot ZDR at bottom of sorting layer for a single time\n",
    "\n",
    "gridded_radar_sorted_ds_2 = gridded_radar_sorted_ds.swap_dims({'time': 'time_seconds'})\n",
    "\n",
    "var_da = gridded_radar_sorted_ds_2['ZDR'].sel(time_seconds=120.)\n",
    "clevels =np.arange(0., 4., 0.1)\n",
    "norm = cm.colors.Normalize(vmin=0., vmax=4.)\n",
    "cbarintv = 1.\n",
    "\n",
    "xplt = gridded_radar_sorted_ds_2.coords[\"x\"]\n",
    "yplt = gridded_radar_sorted_ds_2.coords[\"y\"]\n",
    "# print(xplt[0], xplt[-1], yplt[0], yplt[-1])\n",
    "\n",
    "clevels =np.arange(0., 4., 0.1)\n",
    "norm = cm.colors.Normalize(vmin=0., vmax=4.)\n",
    "\n",
    "fig, ax = plt.subplots(figsize=(10,10))\n",
    "ci = ax.contourf(xplt, yplt, var_da.squeeze(), levels=clevels, cmap='plasma', norm=norm)\n",
    "\n",
    "cbarintv = 1.\n",
    "cbarlevels = ticker.MultipleLocator(base=cbarintv)\n",
    "divider = make_axes_locatable(ax)\n",
    "cax = divider.append_axes(\"right\", size=\"5%\", pad=0.05)\n",
    "fig.colorbar(ci, orientation='vertical', ticks=cbarlevels, cax=cax)\n",
    "cax.set_ylabel('dB')\n",
    "\n",
    "# ax.set_xlim(-26000., -16000.)\n",
    "# ax.set_ylim(-40000., -30000.)\n",
    "formatter = ticker.FuncFormatter(mtokm)\n",
    "ax.xaxis.set_major_formatter(formatter)\n",
    "ax.yaxis.set_major_formatter(formatter)\n",
    "ax.set_xlabel('km')\n",
    "ax.set_ylabel('km')\n",
    "# ax.legend()\n",
    "ax.set_aspect('equal')\n",
    "\n",
    "plot_filename = 'ZDR_bottom_example.png'\n",
    "plot_filepath = os.path.join(plot_dir, plot_filename)\n",
    "fig.savefig(plot_filepath, dpi=300, bbox_inches='tight')"
   ]
  },
  {
   "cell_type": "code",
   "execution_count": null,
   "metadata": {
    "ExecuteTime": {
     "end_time": "2021-01-02T23:02:05.858578Z",
     "start_time": "2021-01-02T23:02:05.782896Z"
    }
   },
   "outputs": [],
   "source": [
    "print(gridded_radar_sorted_ds['time_seconds'])\n",
    "print(gridded_radar_sorted_ds['time'])"
   ]
  },
  {
   "cell_type": "code",
   "execution_count": null,
   "metadata": {},
   "outputs": [],
   "source": []
  }
 ],
 "metadata": {
  "hide_input": false,
  "kernelspec": {
   "display_name": "Python [conda env:pyPIPS]",
   "language": "python",
   "name": "conda-env-pyPIPS-py"
  },
  "language_info": {
   "codemirror_mode": {
    "name": "ipython",
    "version": 3
   },
   "file_extension": ".py",
   "mimetype": "text/x-python",
   "name": "python",
   "nbconvert_exporter": "python",
   "pygments_lexer": "ipython3",
   "version": "3.10.14"
  },
  "toc": {
   "base_numbering": 1,
   "nav_menu": {},
   "number_sections": true,
   "sideBar": true,
   "skip_h1_title": false,
   "title_cell": "Table of Contents",
   "title_sidebar": "Contents",
   "toc_cell": false,
   "toc_position": {},
   "toc_section_display": true,
   "toc_window_display": false
  },
  "varInspector": {
   "cols": {
    "lenName": 16,
    "lenType": 16,
    "lenVar": 40
   },
   "kernels_config": {
    "python": {
     "delete_cmd_postfix": "",
     "delete_cmd_prefix": "del ",
     "library": "var_list.py",
     "varRefreshCmd": "print(var_dic_list())"
    },
    "r": {
     "delete_cmd_postfix": ") ",
     "delete_cmd_prefix": "rm(",
     "library": "var_list.r",
     "varRefreshCmd": "cat(var_dic_list()) "
    }
   },
   "types_to_exclude": [
    "module",
    "function",
    "builtin_function_or_method",
    "instance",
    "_Feature"
   ],
   "window_display": false
  }
 },
 "nbformat": 4,
 "nbformat_minor": 4
}
