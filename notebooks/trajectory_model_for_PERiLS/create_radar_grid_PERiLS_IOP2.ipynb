{
 "cells": [
  {
   "cell_type": "code",
   "execution_count": null,
   "metadata": {
    "ExecuteTime": {
     "end_time": "2021-04-07T17:58:25.272015Z",
     "start_time": "2021-04-07T17:58:22.183598Z"
    }
   },
   "outputs": [],
   "source": [
    "from glob import glob\n",
    "import os\n",
    "import itertools\n",
    "import numpy as np\n",
    "import matplotlib\n",
    "import matplotlib.pyplot as plt\n",
    "import matplotlib.cm as cm\n",
    "from mpl_toolkits.axes_grid1 import ImageGrid, make_axes_locatable, host_subplot\n",
    "import matplotlib.ticker as ticker\n",
    "from matplotlib.collections import Collection, LineCollection\n",
    "from matplotlib.artist import allow_rasterization\n",
    "from matplotlib.font_manager import FontProperties\n",
    "from matplotlib.colors import LinearSegmentedColormap\n",
    "import matplotlib.dates as md\n",
    "import matplotlib.ticker as ticker\n",
    "from metpy.plots import ctables\n",
    "#from pyPIPS import disdrometer_module as dis\n",
    "from pyPIPS import pips_io as pipsio\n",
    "from pyPIPS import timemodule as tm\n",
    "from pyPIPS.utils import mtokm, getTimeWindow, interp_along_1D\n",
    "from pyPIPS import plotmodule as pm\n",
    "from pyPIPS import PIPS as pips\n",
    "# from pyPIPS import fmcw\n",
    "from itertools import cycle\n",
    "import netCDF4 as netcdf\n",
    "from datetime import datetime, timedelta\n",
    "import pandas as pd\n",
    "import xarray as xr\n",
    "#from skimage.restoration import unwrap_phase\n",
    "#import skimage.feature as SF\n",
    "import numpy.ma as ma\n",
    "from scipy import ndimage, interpolate\n",
    "import pyart\n",
    "import cartopy.crs as ccrs\n",
    "%load_ext autoreload\n",
    "%autoreload 2\n",
    "%matplotlib inline"
   ]
  },
  {
   "cell_type": "code",
   "execution_count": null,
   "metadata": {
    "ExecuteTime": {
     "end_time": "2021-04-07T18:01:50.890778Z",
     "start_time": "2021-04-07T18:01:50.766055Z"
    }
   },
   "outputs": [],
   "source": [
    "IOP_name = 'IOP2'\n",
    "radar_name = 'KGWX'\n",
    "radar_type= 'NEXRAD'\n",
    "date = '0330'\n",
    "\n",
    "gridded_output_dir = f'/Users/dawson29/Projects/PERiLS/obsdata/2022/NEXRAD/GRID3/{IOP_name}/{radar_name}'\n",
    "if not os.path.exists(gridded_output_dir):\n",
    "    os.makedirs(gridded_output_dir)\n",
    "plot_dir = f'/Users/dawson29/Projects/PERiLS/obsdata/2022/NEXRAD/GRID3/{IOP_name}/{radar_name}/plots/'\n",
    "if not os.path.exists(plot_dir):\n",
    "    os.makedirs(plot_dir)\n",
    "\n",
    "radar_starttimestamp = '20220330225909'\n",
    "radar_endtimestamp = '20220330225909'\n",
    "\n",
    "radar_startdatetime = datetime.strptime(radar_starttimestamp, '%Y%m%d%H%M%S')\n",
    "radar_enddatetime = datetime.strptime(radar_endtimestamp, '%Y%m%d%H%M%S')\n",
    "\n",
    "radar_start_timestamp = radar_startdatetime.strftime('%Y%m%d%H%M')\n",
    "radar_end_timestamp = radar_enddatetime.strftime('%Y%m%d%H%M')\n",
    "\n",
    "cfradial_dir = \\\n",
    "    f'/Users/dawson29/sshfs_mounts/depot/data/Projects/PERiLS/obsdata/2022/NEXRAD/{IOP_name}/{radar_name}'\n",
    "cfradial_files = sorted(glob(cfradial_dir + '/*V06.nc'))\n",
    "\n",
    "cfradial_files_to_read = []\n",
    "for cfradial_file in cfradial_files:\n",
    "    radar_file_timestamp = os.path.basename(cfradial_file)[4:19]\n",
    "    radar_file_datetime = datetime.strptime(radar_file_timestamp, '%Y%m%d_%H%M%S')\n",
    "    if radar_file_datetime >= radar_startdatetime and radar_file_datetime <= radar_enddatetime:\n",
    "        cfradial_files_to_read.append(cfradial_file)\n",
    "        print(os.path.basename(cfradial_file))"
   ]
  },
  {
   "cell_type": "code",
   "execution_count": null,
   "metadata": {},
   "outputs": [],
   "source": [
    "# Read the first file for testing\n",
    "radarobj = pyart.io.read(cfradial_files_to_read[0])"
   ]
  },
  {
   "cell_type": "code",
   "execution_count": null,
   "metadata": {},
   "outputs": [],
   "source": [
    "radarobj = radarobj.extract_sweeps([0, 1, 3, 4, 5, 7, 8, 9, 10, 12, 13, 14, 15, 16])"
   ]
  },
  {
   "cell_type": "code",
   "execution_count": null,
   "metadata": {},
   "outputs": [],
   "source": [
    "radarobj.fixed_angle['data']"
   ]
  },
  {
   "cell_type": "code",
   "execution_count": null,
   "metadata": {},
   "outputs": [],
   "source": [
    "# messing around with smoothing ZDR\n",
    "# Taken from an old PyART short course notebook here:\n",
    "# https://notebook.community/openradar/pyart_short_course/2%20Simple%20Py-ART%20Usage%20plotting%20PPI%20data%20on%20a%20map%20and%20add%20a%20new%20field\n",
    "\n",
    "smooth_zdr = radarobj.fields['ZDR']['data'].copy()\n",
    "# Now for each of the radials in the volume we want to do an 8-point smooth by convolving the data with a \n",
    "# Hanning window..\n",
    "# rather than write out the code here we are going to use Py-ART's smooth and trim function which also makes sure\n",
    "# the returned array has the same size as the original array.. \n",
    "# Check here: https://github.com/ARM-DOE/pyart/blob/master/pyart/correct/phase_proc.py#L242\n",
    "\n",
    "for i in range(smooth_zdr.shape[0]):\n",
    "    smooth_zdr[i,:] = pyart.correct.phase_proc.smooth_and_trim(smooth_zdr[i,:], 8)\n",
    "\n",
    "# Now that we have add this data as a new field, using the same metadata as the \n",
    "# differential_reflectivity field.\n",
    "\n",
    "radarobj.add_field_like('ZDR', 'ZDR_smooth',  smooth_zdr, replace_existing=True)"
   ]
  },
  {
   "cell_type": "code",
   "execution_count": null,
   "metadata": {},
   "outputs": [],
   "source": [
    "# messing around with smoothing ZDR. Try a 1-D 5-point median filter along rays\n",
    "\n",
    "footprint = [[1, 1, 1, 1, 1]]\n",
    "\n",
    "median_zdr = radarobj.fields['ZDR']['data'].copy()\n",
    "\n",
    "print(median_zdr.shape)\n",
    "\n",
    "median_zdr = ndimage.median_filter(median_zdr, footprint=footprint)\n",
    "radarobj.add_field_like('ZDR', 'ZDR_median',  median_zdr, replace_existing=True)\n",
    "\n",
    "# for i in range(smooth_zdr.shape[0]):\n",
    "#     smooth_zdr[i,:] = pyart.correct.phase_proc.smooth_and_trim(smooth_zdr[i,:], 8)\n",
    "\n",
    "# # Now that we have add this data as a new field, using the same metadata as the \n",
    "# # differential_reflectivity field.\n",
    "\n",
    "# radarobj.add_field_like('ZDR', 'ZDR_smooth',  smooth_zdr)"
   ]
  },
  {
   "cell_type": "code",
   "execution_count": null,
   "metadata": {
    "ExecuteTime": {
     "end_time": "2021-04-07T18:01:59.810011Z",
     "start_time": "2021-04-07T18:01:59.733888Z"
    }
   },
   "outputs": [],
   "source": [
    "# Set up grid limits and spacing\n",
    "\n",
    "xmin = -123000.\n",
    "xmax = 123000.\n",
    "dx = 500.\n",
    "nx = int((xmax - xmin) / dx) + 1\n",
    "\n",
    "ymin = -123000.\n",
    "ymax = 123000.\n",
    "dy = 500.\n",
    "ny = int((ymax - ymin) / dy) + 1\n",
    "\n",
    "zmin = 500.\n",
    "zmax = 4500.\n",
    "dz = 250.\n",
    "nz = int((zmax - zmin) / dz) + 1\n",
    "print(nz)"
   ]
  },
  {
   "cell_type": "code",
   "execution_count": null,
   "metadata": {
    "ExecuteTime": {
     "end_time": "2021-04-07T18:03:01.887636Z",
     "start_time": "2021-04-07T18:02:08.989500Z"
    }
   },
   "outputs": [],
   "source": [
    "# Test grid first radar file\n",
    "grid = pyart.map.grid_from_radars(\n",
    "    (radarobj,),\n",
    "    grid_shape=(nz, ny, nx),\n",
    "    grid_limits=((zmin, zmax), (ymin, ymax), (xmin, xmax)),\n",
    "    fields=['REF', 'ZDR', 'ZDR_smooth', 'ZDR_median', 'RHO'],\n",
    "    weighting_function='Barnes2',\n",
    "    map_roi=True)\n",
    "\n",
    "grid_xr = grid.to_xarray()\n",
    "print(grid_xr)"
   ]
  },
  {
   "cell_type": "code",
   "execution_count": null,
   "metadata": {
    "scrolled": false
   },
   "outputs": [],
   "source": [
    "grid_display = pyart.graph.GridMapDisplay(grid)\n",
    "# Setting projection, figure size, and panel sizes.\n",
    "projection = ccrs.PlateCarree()\n",
    "\n",
    "lat = 33.7\n",
    "lon = -88.4\n",
    "vmin = -10\n",
    "vmax = 65\n",
    "\n",
    "fig_grid, ax_grid = plt.subplots(figsize=(10, 10), subplot_kw={'projection': projection})\n",
    "grid_display.plot_grid('REF', 0, vmin=vmin, vmax=vmax,\n",
    "                       ax=ax_grid,\n",
    "                       projection=projection,\n",
    "                       cmap='pyart_NWSRef')\n",
    "grid_display.plot_crosshairs(lon=lon, lat=lat)\n",
    "\n",
    "# Get the bounds of the axes in the axes coordinate system\n",
    "bounds = ax_grid.get_extent()\n",
    "print(bounds)"
   ]
  },
  {
   "cell_type": "code",
   "execution_count": null,
   "metadata": {},
   "outputs": [],
   "source": [
    "lat = 33.7\n",
    "lon = -88.4\n",
    "vmin = -1\n",
    "vmax = 8\n",
    "\n",
    "fig_grid, ax_grid = plt.subplots(figsize=(10, 10), subplot_kw={'projection': projection})\n",
    "grid_display.plot_grid('ZDR', 0, vmin=vmin, vmax=vmax,\n",
    "                       ax=ax_grid,\n",
    "                       projection=projection,\n",
    "                       cmap='pyart_RefDiff')\n",
    "grid_display.plot_crosshairs(lon=lon, lat=lat)"
   ]
  },
  {
   "cell_type": "code",
   "execution_count": null,
   "metadata": {
    "scrolled": false
   },
   "outputs": [],
   "source": [
    "lat = 33.7\n",
    "lon = -88.4\n",
    "vmin = -1\n",
    "vmax = 8\n",
    "\n",
    "fig_grid, ax_grid = plt.subplots(figsize=(10, 10), subplot_kw={'projection': projection})\n",
    "grid_display.plot_grid('ZDR_median', 0, vmin=vmin, vmax=vmax,\n",
    "                       ax=ax_grid,\n",
    "                       projection=projection,\n",
    "                       cmap='pyart_RefDiff')\n",
    "grid_display.plot_crosshairs(lon=lon, lat=lat)"
   ]
  },
  {
   "cell_type": "code",
   "execution_count": null,
   "metadata": {},
   "outputs": [],
   "source": [
    "lat = 33.7\n",
    "lon = -88.4\n",
    "vmin = -1\n",
    "vmax = 8\n",
    "\n",
    "fig_grid, ax_grid = plt.subplots(figsize=(10, 10), subplot_kw={'projection': projection})\n",
    "grid_display.plot_grid('ZDR_smooth', 0, vmin=vmin, vmax=vmax,\n",
    "                       ax=ax_grid,\n",
    "                       projection=projection,\n",
    "                       cmap='pyart_RefDiff')\n",
    "grid_display.plot_crosshairs(lon=lon, lat=lat)"
   ]
  },
  {
   "cell_type": "code",
   "execution_count": null,
   "metadata": {},
   "outputs": [],
   "source": [
    "lat = 33.7\n",
    "lon = -88.4\n",
    "vmin = -1\n",
    "vmax = 8\n",
    "\n",
    "fig_grid, ax_grid = plt.subplots(figsize=(10, 10), subplot_kw={'projection': projection})\n",
    "grid_display.plot_grid('ROI', 5,\n",
    "                       ax=ax_grid,\n",
    "                       projection=projection,\n",
    "                       cmap='pyart_Bu10')\n",
    "grid_display.plot_crosshairs(lon=lon, lat=lat)"
   ]
  },
  {
   "cell_type": "code",
   "execution_count": null,
   "metadata": {},
   "outputs": [],
   "source": [
    "ppi_display = pyart.graph.RadarMapDisplay(radarobj)"
   ]
  },
  {
   "cell_type": "code",
   "execution_count": null,
   "metadata": {},
   "outputs": [],
   "source": [
    "projection = ccrs.PlateCarree()\n",
    "fig, ax = plt.subplots(figsize=[10, 10], subplot_kw={'projection': projection})\n",
    "ppi_display.plot_ppi_map(field='REF', sweep=0, vmin=-10, vmax = 65, cmap='pyart_NWSRef', ax=ax)\n",
    "ppi_display.plot_range_rings([100, 200, 300, 400], lw=1)\n",
    "ax.set_extent(bounds)\n",
    "bounds2 = ax.get_extent()\n",
    "print(bounds2) # should be the same as original bounds"
   ]
  },
  {
   "cell_type": "code",
   "execution_count": null,
   "metadata": {},
   "outputs": [],
   "source": [
    "projection = ccrs.PlateCarree()\n",
    "fig, ax = plt.subplots(figsize=[10, 10], subplot_kw={'projection': projection})\n",
    "ppi_display.plot_ppi_map(field='ZDR', sweep=0, vmin=-1, vmax = 8, cmap='pyart_RefDiff', ax=ax)\n",
    "ppi_display.plot_range_rings([100, 200, 300, 400], lw=1)\n",
    "ax.set_extent(bounds)\n",
    "bounds2 = ax.get_extent()\n",
    "print(bounds2) # should be the same as original bounds"
   ]
  },
  {
   "cell_type": "code",
   "execution_count": null,
   "metadata": {},
   "outputs": [],
   "source": [
    "projection = ccrs.PlateCarree()\n",
    "fig, ax = plt.subplots(figsize=[10, 10], subplot_kw={'projection': projection})\n",
    "ppi_display.plot_ppi_map(field='ZDR_smooth', sweep=0, vmin=-1, vmax = 8, cmap='pyart_RefDiff', ax=ax)\n",
    "ppi_display.plot_range_rings([100, 200, 300, 400], lw=1)\n",
    "ax.set_extent(bounds)\n",
    "bounds2 = ax.get_extent()\n",
    "print(bounds2) # should be the same as original bounds"
   ]
  },
  {
   "cell_type": "code",
   "execution_count": null,
   "metadata": {},
   "outputs": [],
   "source": [
    "projection = ccrs.PlateCarree()\n",
    "fig, ax = plt.subplots(figsize=[10, 10], subplot_kw={'projection': projection})\n",
    "ppi_display.plot_ppi_map(field='ZDR_median', sweep=0, vmin=-1, vmax = 8, cmap='pyart_RefDiff', ax=ax)\n",
    "ppi_display.plot_range_rings([100, 200, 300, 400], lw=1)\n",
    "ax.set_extent(bounds)\n",
    "bounds2 = ax.get_extent()\n",
    "print(bounds2) # should be the same as original bounds"
   ]
  },
  {
   "cell_type": "code",
   "execution_count": null,
   "metadata": {
    "ExecuteTime": {
     "end_time": "2021-02-15T22:02:40.566682Z",
     "start_time": "2021-02-15T21:35:53.956400Z"
    },
    "scrolled": true
   },
   "outputs": [],
   "source": [
    "# Create gridded radar objects and dump to disk\n",
    "for i, f in enumerate(cfradial_files_to_read):\n",
    "    print(\"On file {:d} of {:d} ({:.2f}%)\".format(i+1, len(cfradial_files), (i+1)/len(cfradial_files)*100.))\n",
    "    print(\"Reading {}\".format(os.path.basename(f)))\n",
    "    radar = pyart.io.read_nexrad_archive(f)\n",
    "    output_file = os.path.basename(f)[:-5]+\"_gridded.nc\"\n",
    "    output_path = os.path.join(gridded_output_dir, output_file)\n",
    "    \n",
    "    print(\"Mapping to grid!\")\n",
    "    grid = pyart.map.grid_from_radars(\n",
    "        (radar,),\n",
    "        grid_shape=(nz, ny, nx),\n",
    "        grid_limits=((zmin, zmax), (ymin, ymax), (xmin, xmax)),\n",
    "        fields=['differential_reflectivity', 'reflectivity', 'cross_correlation_ratio'],\n",
    "        weighting_function='Barnes2')\n",
    "    print(\"Writing {}\".format(output_file))\n",
    "    pyart.io.write_grid(output_path, grid, arm_time_variables=True, arm_alt_lat_lon_variables=True, \n",
    "                        write_point_x_y_z=True, write_point_lon_lat_alt=True)\n"
   ]
  },
  {
   "cell_type": "code",
   "execution_count": null,
   "metadata": {},
   "outputs": [],
   "source": []
  },
  {
   "cell_type": "code",
   "execution_count": null,
   "metadata": {},
   "outputs": [],
   "source": []
  },
  {
   "cell_type": "code",
   "execution_count": null,
   "metadata": {},
   "outputs": [],
   "source": [
    "\n"
   ]
  }
 ],
 "metadata": {
  "hide_input": false,
  "kernelspec": {
   "display_name": "Python [conda env:pyPIPS]",
   "language": "python",
   "name": "conda-env-pyPIPS-py"
  },
  "language_info": {
   "codemirror_mode": {
    "name": "ipython",
    "version": 3
   },
   "file_extension": ".py",
   "mimetype": "text/x-python",
   "name": "python",
   "nbconvert_exporter": "python",
   "pygments_lexer": "ipython3",
   "version": "3.10.11"
  },
  "toc": {
   "base_numbering": 1,
   "nav_menu": {},
   "number_sections": true,
   "sideBar": true,
   "skip_h1_title": false,
   "title_cell": "Table of Contents",
   "title_sidebar": "Contents",
   "toc_cell": false,
   "toc_position": {},
   "toc_section_display": true,
   "toc_window_display": false
  },
  "varInspector": {
   "cols": {
    "lenName": 16,
    "lenType": 16,
    "lenVar": 40
   },
   "kernels_config": {
    "python": {
     "delete_cmd_postfix": "",
     "delete_cmd_prefix": "del ",
     "library": "var_list.py",
     "varRefreshCmd": "print(var_dic_list())"
    },
    "r": {
     "delete_cmd_postfix": ") ",
     "delete_cmd_prefix": "rm(",
     "library": "var_list.r",
     "varRefreshCmd": "cat(var_dic_list()) "
    }
   },
   "types_to_exclude": [
    "module",
    "function",
    "builtin_function_or_method",
    "instance",
    "_Feature"
   ],
   "window_display": false
  }
 },
 "nbformat": 4,
 "nbformat_minor": 2
}
