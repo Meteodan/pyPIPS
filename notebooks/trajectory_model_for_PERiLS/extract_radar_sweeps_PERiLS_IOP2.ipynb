{
 "cells": [
  {
   "cell_type": "code",
   "execution_count": null,
   "metadata": {
    "ExecuteTime": {
     "end_time": "2021-09-21T01:37:16.885476Z",
     "start_time": "2021-09-21T01:37:13.010204Z"
    }
   },
   "outputs": [],
   "source": [
    "%load_ext autoreload\n",
    "%autoreload 2\n",
    "import numpy as np\n",
    "import numpy.ma as ma\n",
    "import matplotlib\n",
    "import matplotlib.pyplot as plt\n",
    "%matplotlib notebook\n",
    "import matplotlib.cm as cm\n",
    "import matplotlib.ticker as ticker\n",
    "import matplotlib.dates as dates\n",
    "from matplotlib import dates\n",
    "from mpl_toolkits.axes_grid1 import ImageGrid, make_axes_locatable, host_subplot\n",
    "#from mpl_toolkits.basemap import Basemap\n",
    "from datetime import datetime, timedelta\n",
    "import sys\n",
    "import os\n",
    "import pyPIPS.utils as utils\n",
    "import pyPIPS.thermolib as thermo\n",
    "import pyPIPS.DSDlib as dsd\n",
    "#import pyPIPS.disdrometer_module as dis\n",
    "import pyPIPS.plotmodule as PIPSplot\n",
    "#import pyPIPS.simulator as sim\n",
    "import pyPIPS.pips_io as pipsio\n",
    "import pyPIPS.PIPS as pips\n",
    "import pyPIPS.parsivel_params as pp\n",
    "import pyPIPS.parsivel_qc as pqc\n",
    "import pyPIPS.radarmodule as radar\n",
    "import pyPIPS.polarimetric as dualpol\n",
    "#from pyCRMtools.modules import plotmodule as plotmod\n",
    "from pyCRMtools.modules import utils as CRMutils\n",
    "import pandas as pd\n",
    "import xarray as xr\n",
    "import glob\n",
    "import numpy.random as random\n",
    "from scipy.stats import gamma, uniform\n",
    "from scipy.special import gamma as gammafunc\n",
    "from scipy import ndimage\n",
    "from scipy import interpolate\n",
    "from metpy.plots import StationPlot\n",
    "import metpy.calc as mpcalc\n",
    "from metpy.calc import wind_components\n",
    "from metpy.cbook import get_test_data\n",
    "from metpy.plots import StationPlot\n",
    "from metpy.plots.wx_symbols import current_weather, sky_cover\n",
    "from metpy.units import units\n",
    "from scipy.signal import medfilt2d\n",
    "import pyart\n",
    "import cartopy.crs as ccrs\n",
    "from IPython.display import HTML\n",
    "%matplotlib inline\n",
    "# %matplotlib notebook\n",
    "import warnings;\n",
    "warnings.filterwarnings('ignore')"
   ]
  },
  {
   "cell_type": "code",
   "execution_count": null,
   "metadata": {
    "ExecuteTime": {
     "end_time": "2021-09-21T01:37:22.433732Z",
     "start_time": "2021-09-21T01:37:18.832424Z"
    },
    "scrolled": true
   },
   "outputs": [],
   "source": [
    "# Read in the radar data\n",
    "radar_name = 'KGWX'\n",
    "radar_type= 'NEXRAD'\n",
    "elev_angle = 0.5\n",
    "elev_str = str(elev_angle).replace('.', 'p')\n",
    "elev_tol = 0.1\n",
    "\n",
    "# For 03/30/22 case (PERiLS-2022 IOP2)\n",
    "date = '0330'\n",
    "radar_start_datetimestamp = '20220330220424'\n",
    "radar_end_datetimestamp = '20220331035633'\n",
    "\n",
    "# Create datetime objects for start and end times\n",
    "datetime_start = datetime.strptime(radar_start_datetimestamp, '%Y%m%d%H%M%S')\n",
    "datetime_end = datetime.strptime(radar_end_datetimestamp, '%Y%m%d%H%M%S')\n",
    "\n",
    "radar_basedir = \\\n",
    "    '/Users/dawson29/Projects/PERiLS/obsdata/2022/NEXRAD/IOP2/KGWX'\n",
    "#radar_basedir = os.path.join(radar_basedir, '{}/{}'.format(date, radar_name[1:]))\n",
    "radar_input_dir = radar_basedir\n",
    "radar_output_dir = os.path.join(radar_basedir, 'extracted_sweeps')\n",
    "if not os.path.exists(radar_output_dir):\n",
    "    os.makedirs(radar_output_dir)\n",
    "\n",
    "radar_start_timestamp = datetime_start.strftime('%H%M%S')\n",
    "radar_end_timestamp = datetime_end.strftime('%H%M%S')\n",
    "radar_combined_filename = f'{radar_name}_{radar_start_timestamp}_{radar_end_timestamp}_{elev_str}deg.nc'\n",
    "\n",
    "radar_combined_filepath = os.path.join(radar_output_dir, radar_combined_filename)\n",
    "\n",
    "# Read in individual radar volumes, extract the low-level sweepsstack them into a combined Dataset and dump to \n",
    "# disk\n",
    "radar_paths = glob.glob(radar_input_dir + f'/{radar_name}*V06.nc')\n",
    "\n",
    "radar_paths = sorted(radar_paths)\n",
    "radar_input_list = []\n",
    "\n",
    "for path in radar_paths:\n",
    "    filename = os.path.basename(path)\n",
    "    file_timestamp = filename[4:19]\n",
    "    # print(file_timestamp)\n",
    "    file_datetime = datetime.strptime(file_timestamp, '%Y%m%d_%H%M%S')\n",
    "    if file_datetime >= datetime_start and file_datetime <= datetime_end:\n",
    "        radar_input_list.append(path)\n",
    "\n",
    "for radar_path in radar_input_list:\n",
    "    print(f\"Reading {os.path.basename(radar_path)}\")\n",
    "    radarobj = pyart.io.read(radar_path)\n",
    "    print(f\"Extracting any {elev_angle:.1f} deg sweeps...\")\n",
    "    elev_angles = radarobj.fixed_angle['data']\n",
    "    elev_diffs = np.abs(elev_angles - elev_angle)\n",
    "    req_sweeps = np.where(elev_diffs < elev_tol)[0]\n",
    "    print(f\"There are {len(req_sweeps)} sweeps within {elev_tol:.1f} deg of the target angle\")\n",
    "    print(\"Extracting to new radar objects and saving to files\")\n",
    "    for i, sweep_index in enumerate(req_sweeps):\n",
    "        radarsweep = radarobj.extract_sweeps([sweep_index])\n",
    "        sweep_time = pyart.graph.common.generate_radar_time_sweep(radarobj, i)\n",
    "        time_string = \"Time of sweep #{:d}: {}\".format(i, sweep_time.strftime('%Y-%m-%d %H:%M:%S'))\n",
    "        print(time_string)\n",
    "        filetime_string = sweep_time.strftime(\"%Y%m%d_%H%M%S\")\n",
    "        filename = f\"{radar_name}{filetime_string}_el{elev_str}.nc\"\n",
    "        filepath = os.path.join(radar_output_dir, filename)\n",
    "        print(f\"Saving {filename}...\")\n",
    "        pyart.io.write_cfradial(filepath, radarsweep)"
   ]
  },
  {
   "cell_type": "code",
   "execution_count": null,
   "metadata": {},
   "outputs": [],
   "source": []
  }
 ],
 "metadata": {
  "hide_input": false,
  "kernelspec": {
   "display_name": "Python [conda env:pyPIPS]",
   "language": "python",
   "name": "conda-env-pyPIPS-py"
  },
  "language_info": {
   "codemirror_mode": {
    "name": "ipython",
    "version": 3
   },
   "file_extension": ".py",
   "mimetype": "text/x-python",
   "name": "python",
   "nbconvert_exporter": "python",
   "pygments_lexer": "ipython3",
   "version": "3.10.11"
  },
  "toc": {
   "base_numbering": 1,
   "nav_menu": {},
   "number_sections": true,
   "sideBar": true,
   "skip_h1_title": false,
   "title_cell": "Table of Contents",
   "title_sidebar": "Contents",
   "toc_cell": false,
   "toc_position": {},
   "toc_section_display": true,
   "toc_window_display": false
  },
  "varInspector": {
   "cols": {
    "lenName": 16,
    "lenType": 16,
    "lenVar": 40
   },
   "kernels_config": {
    "python": {
     "delete_cmd_postfix": "",
     "delete_cmd_prefix": "del ",
     "library": "var_list.py",
     "varRefreshCmd": "print(var_dic_list())"
    },
    "r": {
     "delete_cmd_postfix": ") ",
     "delete_cmd_prefix": "rm(",
     "library": "var_list.r",
     "varRefreshCmd": "cat(var_dic_list()) "
    }
   },
   "types_to_exclude": [
    "module",
    "function",
    "builtin_function_or_method",
    "instance",
    "_Feature"
   ],
   "window_display": false
  }
 },
 "nbformat": 4,
 "nbformat_minor": 4
}
