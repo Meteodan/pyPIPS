{
 "cells": [
  {
   "cell_type": "code",
   "execution_count": null,
   "metadata": {
    "ExecuteTime": {
     "end_time": "2021-09-21T01:37:16.885476Z",
     "start_time": "2021-09-21T01:37:13.010204Z"
    }
   },
   "outputs": [],
   "source": [
    "%load_ext autoreload\n",
    "%autoreload 2\n",
    "import numpy as np\n",
    "import numpy.ma as ma\n",
    "import matplotlib\n",
    "import matplotlib.pyplot as plt\n",
    "%matplotlib notebook\n",
    "import matplotlib.cm as cm\n",
    "import matplotlib.ticker as ticker\n",
    "import matplotlib.dates as dates\n",
    "from matplotlib import dates\n",
    "from mpl_toolkits.axes_grid1 import ImageGrid, make_axes_locatable, host_subplot\n",
    "#from mpl_toolkits.basemap import Basemap\n",
    "from datetime import datetime, timedelta\n",
    "import sys\n",
    "import os\n",
    "import pyPIPS.utils as utils\n",
    "import pyPIPS.thermolib as thermo\n",
    "import pyPIPS.DSDlib as dsd\n",
    "#import pyPIPS.disdrometer_module as dis\n",
    "import pyPIPS.plotmodule as PIPSplot\n",
    "#import pyPIPS.simulator as sim\n",
    "import pyPIPS.pips_io as pipsio\n",
    "import pyPIPS.PIPS as pips\n",
    "import pyPIPS.parsivel_params as pp\n",
    "import pyPIPS.parsivel_qc as pqc\n",
    "import pyPIPS.radarmodule as radar\n",
    "import pyPIPS.polarimetric as dualpol\n",
    "#from pyCRMtools.modules import plotmodule as plotmod\n",
    "from pyCRMtools.modules import utils as CRMutils\n",
    "import pandas as pd\n",
    "import xarray as xr\n",
    "import glob\n",
    "import numpy.random as random\n",
    "from scipy.stats import gamma, uniform\n",
    "from scipy.special import gamma as gammafunc\n",
    "from scipy import ndimage\n",
    "from scipy import interpolate\n",
    "from metpy.plots import StationPlot\n",
    "import metpy.calc as mpcalc\n",
    "from metpy.calc import wind_components\n",
    "from metpy.cbook import get_test_data\n",
    "from metpy.plots import StationPlot\n",
    "from metpy.plots.wx_symbols import current_weather, sky_cover\n",
    "from metpy.units import units\n",
    "from scipy.signal import medfilt2d\n",
    "import pyart\n",
    "import cartopy.crs as ccrs\n",
    "from IPython.display import HTML\n",
    "%matplotlib inline\n",
    "# %matplotlib notebook\n",
    "import warnings;\n",
    "warnings.filterwarnings('ignore')"
   ]
  },
  {
   "cell_type": "code",
   "execution_count": null,
   "metadata": {
    "ExecuteTime": {
     "end_time": "2021-09-21T01:37:22.433732Z",
     "start_time": "2021-09-21T01:37:18.832424Z"
    }
   },
   "outputs": [],
   "source": [
    "# Read in the gridded radar data\n",
    "radar_name = 'COW1'\n",
    "\n",
    "# For 03/30/22 case (PERiLS-2022 IOP2)\n",
    "date = '0330'\n",
    "radar_start_datetimestamp = '20220330220355'\n",
    "radar_end_datetimestamp = '20220331021835'\n",
    "\n",
    "# Create datetime objects for start and end times\n",
    "datetime_start = datetime.strptime(radar_start_datetimestamp, '%Y%m%d%H%M%S')\n",
    "datetime_end = datetime.strptime(radar_end_datetimestamp, '%Y%m%d%H%M%S')\n",
    "\n",
    "# radar_basedir = \\\n",
    "#     '/Users/dawson29/Projects/PERiLS/obsdata/2022/NEXRAD/GRID/IOP2/KGWX'\n",
    "\n",
    "radar_basedir = '/Users/dawson29/sshfs_mounts/depot/data/Projects/PERiLS/obsdata/2022/COMMON_GRID/IOP2/COW1'\n",
    "#radar_basedir = os.path.join(radar_basedir, '{}/{}'.format(date, radar_name[1:]))\n",
    "gridded_radar_input_dir = radar_basedir\n",
    "gridded_radar_output_dir = os.path.join(radar_basedir, 'combined')\n",
    "if not os.path.exists(gridded_radar_output_dir):\n",
    "    os.makedirs(gridded_radar_output_dir)\n",
    "\n",
    "radar_start_timestamp = datetime_start.strftime('%H%M%S')\n",
    "radar_end_timestamp = datetime_end.strftime('%H%M%S')\n",
    "gridded_radar_combined_filename = '{}_{}_{}_gridded.nc'.format(radar_name, radar_start_timestamp,\n",
    "                                                               radar_end_timestamp)\n",
    "\n",
    "gridded_radar_combined_filepath = os.path.join(gridded_radar_output_dir, gridded_radar_combined_filename)\n",
    "\n",
    "# Read in individual gridded radar volumes, stack them into a combined Dataset and dump to disk\n",
    "gridded_radar_paths = glob.glob(gridded_radar_input_dir + f'/*.nc')\n",
    "# print(gridded_radar_paths)\n",
    "\n",
    "gridded_radar_paths = sorted(gridded_radar_paths)\n",
    "gridded_radar_input_list = []\n",
    "#print(gridded_radar_paths)\n",
    "for path in gridded_radar_paths:\n",
    "    filename = os.path.basename(path)\n",
    "    file_timestamp = filename[6:21]\n",
    "    # print(file_timestamp)\n",
    "    file_datetime = datetime.strptime(file_timestamp, '%Y%m%d_%H%M%S')\n",
    "    if file_datetime >= datetime_start and file_datetime <= datetime_end:\n",
    "        gridded_radar_input_list.append(path)\n",
    "#print(gridded_radar_input_list)        \n",
    "gridded_radar_list = []\n",
    "gridded_radar_xr_list = []\n",
    "for gridded_radar_path in gridded_radar_input_list:\n",
    "    print(\"Reading {}\".format(os.path.basename(gridded_radar_path)))\n",
    "    gridded_radar = pyart.io.read_grid(gridded_radar_path)\n",
    "    gridded_radar_xr = gridded_radar.to_xarray()\n",
    "    # For some reason the conversion to xarray does not preserve the latitude, longitude, or altitude of the \n",
    "    # grid origin,\n",
    "    # so add them back here as an attribute. Also, create a new coordinate \"alt\" that is the height of the \n",
    "    # grid origin above sea level\n",
    "    origin_latitude = gridded_radar.origin_latitude['data'].item()\n",
    "    origin_longitude = gridded_radar.origin_longitude['data'].item()\n",
    "    origin_altitude = gridded_radar.origin_altitude['data'].item()\n",
    "    gridded_radar_xr.attrs['origin_latitude'] = origin_latitude\n",
    "    gridded_radar_xr.attrs['origin_longitude'] = origin_longitude\n",
    "    gridded_radar_xr.attrs['origin_altitude'] = origin_altitude\n",
    "    \n",
    "    gridded_radar_xr = gridded_radar_xr.assign_coords(alt=gridded_radar_xr.coords['z'] + origin_altitude)\n",
    "    # print(gridded_radar_xr)\n",
    "\n",
    "    gridded_radar_xr_list.append(gridded_radar_xr)\n",
    "gridded_radar_xr = xr.concat(gridded_radar_xr_list, dim='time')\n",
    "# For some reason, the radar name gets saved incorrectly as an invalid attribute, so fix that here and then write out to disk\n",
    "gridded_radar_xr.attrs['radar_name'] = radar_name\n",
    "print(\"Writing {}\".format(gridded_radar_combined_filename))\n",
    "gridded_radar_xr.to_netcdf(gridded_radar_combined_filepath)\n",
    "\n",
    "print(gridded_radar_xr)"
   ]
  },
  {
   "cell_type": "code",
   "execution_count": null,
   "metadata": {},
   "outputs": [],
   "source": [
    "# For some reason, the radar name gets saved incorrectly as an invalid attribute, so fix that here and then write out to disk\n",
    "gridded_radar_xr.attrs['radar_name'] = radar_name\n",
    "print(\"Writing {}\".format(gridded_radar_combined_filename))\n",
    "gridded_radar_xr.to_netcdf(gridded_radar_combined_filepath)"
   ]
  },
  {
   "cell_type": "code",
   "execution_count": null,
   "metadata": {},
   "outputs": [],
   "source": [
    "gridded_radar_xr"
   ]
  }
 ],
 "metadata": {
  "hide_input": false,
  "kernelspec": {
   "display_name": "Python [conda env:pyPIPS]",
   "language": "python",
   "name": "conda-env-pyPIPS-py"
  },
  "language_info": {
   "codemirror_mode": {
    "name": "ipython",
    "version": 3
   },
   "file_extension": ".py",
   "mimetype": "text/x-python",
   "name": "python",
   "nbconvert_exporter": "python",
   "pygments_lexer": "ipython3",
   "version": "3.10.14"
  },
  "toc": {
   "base_numbering": 1,
   "nav_menu": {},
   "number_sections": true,
   "sideBar": true,
   "skip_h1_title": false,
   "title_cell": "Table of Contents",
   "title_sidebar": "Contents",
   "toc_cell": false,
   "toc_position": {},
   "toc_section_display": true,
   "toc_window_display": false
  },
  "varInspector": {
   "cols": {
    "lenName": 16,
    "lenType": 16,
    "lenVar": 40
   },
   "kernels_config": {
    "python": {
     "delete_cmd_postfix": "",
     "delete_cmd_prefix": "del ",
     "library": "var_list.py",
     "varRefreshCmd": "print(var_dic_list())"
    },
    "r": {
     "delete_cmd_postfix": ") ",
     "delete_cmd_prefix": "rm(",
     "library": "var_list.r",
     "varRefreshCmd": "cat(var_dic_list()) "
    }
   },
   "types_to_exclude": [
    "module",
    "function",
    "builtin_function_or_method",
    "instance",
    "_Feature"
   ],
   "window_display": false
  }
 },
 "nbformat": 4,
 "nbformat_minor": 4
}
