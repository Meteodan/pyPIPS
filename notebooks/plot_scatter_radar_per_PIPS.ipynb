{
 "cells": [
  {
   "cell_type": "markdown",
   "metadata": {},
   "source": [
    "# Creates scatter plots for PIPS data relative to radar"
   ]
  },
  {
   "cell_type": "code",
   "execution_count": null,
   "metadata": {
    "ExecuteTime": {
     "end_time": "2020-05-21T17:50:10.024899Z",
     "start_time": "2020-05-21T17:50:05.874478Z"
    }
   },
   "outputs": [],
   "source": [
    "%load_ext autoreload\n",
    "%autoreload 2\n",
    "import numpy as np\n",
    "import numpy.ma as ma\n",
    "import matplotlib\n",
    "import matplotlib.pyplot as plt\n",
    "import matplotlib.cm as cm\n",
    "import matplotlib.ticker as ticker\n",
    "import matplotlib.dates as dates\n",
    "import matplotlib.colors as colors\n",
    "from mpl_toolkits.axes_grid1 import ImageGrid,make_axes_locatable,host_subplot\n",
    "#from mpl_toolkits.basemap import Basemap\n",
    "from datetime import datetime, timedelta\n",
    "import sys\n",
    "import os\n",
    "import pyPIPS.utils as utils\n",
    "import pyPIPS.thermolib as thermo\n",
    "import pyPIPS.DSDlib as dsd\n",
    "#import pyPIPS.disdrometer_module as dis\n",
    "import pyPIPS.plotmodule as PIPSplot\n",
    "#import pyPIPS.simulator as sim\n",
    "import pyPIPS.pips_io as pipsio\n",
    "import pyPIPS.PIPS as pips\n",
    "import pyPIPS.parsivel_params as pp\n",
    "import pyPIPS.parsivel_qc as pqc\n",
    "import pyPIPS.polarimetric as dualpol\n",
    "#from pyCRMtools.modules import plotmodule as plotmod\n",
    "from pyCRMtools.modules import utils as CRMutils\n",
    "from pyCRMtools.pycaps import arps_read\n",
    "from pyCRMtools.pycaps import pycaps_fields\n",
    "from pyCRMtools.pycaps import calvars_radar as radar\n",
    "import pandas as pd\n",
    "import xarray as xr\n",
    "import glob\n",
    "import numpy.random as random\n",
    "from scipy.stats import gamma, uniform\n",
    "from scipy.special import gamma as gammafunc\n",
    "from scipy import ndimage\n",
    "from metpy.plots import StationPlot\n",
    "from metpy.calc import wind_components\n",
    "from metpy.cbook import get_test_data\n",
    "from metpy.plots import StationPlot\n",
    "import matplotlib.colors as colors\n",
    "from metpy.plots.wx_symbols import current_weather, sky_cover\n",
    "from metpy.units import units\n",
    "import matplotlib.colors as colors\n",
    "import warnings\n",
    "warnings.simplefilter('ignore')\n",
    "%matplotlib inline"
   ]
  },
  {
   "cell_type": "code",
   "execution_count": null,
   "metadata": {
    "ExecuteTime": {
     "end_time": "2020-05-21T17:50:28.331275Z",
     "start_time": "2020-05-21T17:50:13.782255Z"
    },
    "code_folding": [],
    "scrolled": false
   },
   "outputs": [],
   "source": [
    "from natsort import natsorted\n",
    "from pprint import pprint\n",
    "\n",
    "def remove_unneeded(ds):\n",
    "    dim_names_to_remove = ['fields_KHTX', 'fields_KGWX', 'fields']\n",
    "    ds = ds.drop_dims(dim_names_to_remove, errors='ignore')\n",
    "    return ds\n",
    "#\n",
    "\n",
    "PIPS_dir = '/Volumes/scr_fast/Projects/VORTEXSE/obsdata/full_PIPS_dataset/'\n",
    "# parsivel_filenames = glob.glob(PIPS_dir + '/parsivel_combined*60s*nc')\n",
    "# parsivel_ds_read = xr.open_mfdataset(parsivel_filenames, combine='nested', concat_dim='time',\n",
    "#                                      preprocess=pipsio.remove_unneeded) #, combine='nested', concat_dim='time')\n",
    "\n",
    "parsivel_filenames = glob.glob(PIPS_dir + '/parsivel_combined_IOP4B_D1_2016*nc')\n",
    "parsivel_ds_read_dict = {}\n",
    "\n",
    "for parsivel_filename in parsivel_filenames:\n",
    "    parsivel_ds_read = xr.open_dataset(parsivel_filename)\n",
    "    parsivel_ds_read_dict[parsivel_ds_read.probe_name] = parsivel_ds_read"
   ]
  },
  {
   "cell_type": "code",
   "execution_count": null,
   "metadata": {
    "scrolled": true
   },
   "outputs": [],
   "source": [
    "# Filter entire dataset on rainrate > 0.1\n",
    "parsivel_ds_dict = {}\n",
    "for PIPS_name, parsivel_ds_read in parsivel_ds_read_dict.items():    \n",
    "    parsivel_ds = parsivel_ds_read.where(parsivel_ds_read['rainrate_derived_qc'] > 0.1)\n",
    "    # Filter on ZDR > 0.1 for now (Guifu's retrieval code uses their own emperical fits for ZDR < 0.1, so we need\n",
    "    # to compute our own since we get weird artifacts using theirs)\n",
    "    ND = parsivel_ds['ND_qc']\n",
    "    dD = pp.parsivel_parameters['max_diameter_bins_mm'] - pp.parsivel_parameters['min_diameter_bins_mm']\n",
    "    dualpol_dict = dualpol.calpolrain(10.7, '/Users/dawson29/Projects/pyPIPS/tmatrix/S-Band/SCTT_RAIN_fw100.dat',\n",
    "                                  ND, dD)\n",
    "    ZH = dualpol_dict['ZH']\n",
    "    ZDR = dualpol_dict['ZDR']\n",
    "    parsivel_ds['dBZ'] = dualpol_dict['REF']\n",
    "    parsivel_ds['ZH'] = ZH\n",
    "    parsivel_ds['ZDR'] = ZDR\n",
    "    parsivel_ds = parsivel_ds.where(ZDR > 0.1)\n",
    "    parsivel_ds_dict[PIPS_name] = parsivel_ds\n",
    "    \n",
    "# Drop PIPS1A because it is too far north\n",
    "parsivel_list = [v for k, v in parsivel_ds_dict.items() if k not in 'PIPS1A']\n",
    "parsivel_ds = xr.concat(parsivel_list, dim='time')\n",
    "# Or... Just look at one PIPS\n",
    "parsivel_ds = parsivel_ds_dict['PIPS1B']"
   ]
  },
  {
   "cell_type": "code",
   "execution_count": null,
   "metadata": {},
   "outputs": [],
   "source": [
    "# Pick a PIPS for the cells below\n",
    "# PIPS_name = 'PIPS2A'\n",
    "# parsivel_ds = parsivel_ds_dict[PIPS_name]\n",
    "# print(parsivel_ds)\n",
    "# print(parsivel_ds['fields_KGWX'])\n",
    "print(parsivel_ds['KGWX_beam_height_at_PIPS'].max())\n",
    "print(parsivel_ds)\n",
    "parsivel_ds['reflectivity_derived_qc'].plot()\n"
   ]
  },
  {
   "cell_type": "code",
   "execution_count": null,
   "metadata": {
    "ExecuteTime": {
     "end_time": "2020-05-21T17:50:30.076660Z",
     "start_time": "2020-05-21T17:50:29.817003Z"
    }
   },
   "outputs": [],
   "source": [
    "ND = parsivel_ds['ND_qc']\n",
    "dD = pp.parsivel_parameters['max_diameter_bins_mm'] - pp.parsivel_parameters['min_diameter_bins_mm']\n",
    "dualpol_dict = dualpol.calpolrain(10.7, '/Users/dawson29/Projects/pyPIPS/tmatrix/S-Band/SCTT_RAIN_fw100.dat',\n",
    "                                  ND, dD)\n",
    "ZH = dualpol_dict['ZH']\n",
    "ZDR = dualpol_dict['ZDR']\n",
    "rho = parsivel_ds['rho']\n",
    "W_obs, _ = dsd.calc_lwc_qr_from_bins(ND, rho)\n",
    "W_obs = W_obs * 1000.\n",
    "W_retr_SATP = parsivel_ds['W_retr_SATP']\n",
    "W_retr_TMM_F = parsivel_ds['W_retr_TMM_F']\n",
    "W_retr_C08 = parsivel_ds['W_retr_C08']\n",
    "W_retr_Z01 = parsivel_ds['W_retr_Z01']\n",
    "Dm_obs = parsivel_ds['Dm43'] * 1000.\n",
    "D0_obs = dsd.calc_D0_bin(ND.load()) * 1000.\n",
    "Dm_retr_SATP = parsivel_ds['Dm_retr_SATP']\n",
    "Dm_retr_TMM_F = parsivel_ds['Dm_retr_TMM_F']\n",
    "Dm_retr_C08 = parsivel_ds['Dm_retr_C08']\n",
    "Dm_retr_Z01 = parsivel_ds['Dm_retr_Z01']\n",
    "RR_obs = parsivel_ds['rainrate_derived_qc']\n",
    "Nt_obs = dsd.calc_NT_from_bins(parsivel_ds['ND_qc'])\n",
    "Nt_retr_SATP = parsivel_ds['Nt_retr_SATP']\n",
    "Nt_retr_C08 = parsivel_ds['Nt_retr_C08']\n",
    "Nt_retr_Z01 = parsivel_ds['Nt_retr_Z01']\n",
    "Nt_retr_TMM_F = parsivel_ds['Nt_retr_TMM_F']\n",
    "RR_retr_SATP = parsivel_ds['RR_retr_SATP']\n",
    "RR_retr_C08 = parsivel_ds['RR_retr_C08']\n",
    "RR_retr_Z01 = parsivel_ds['RR_retr_Z01']\n",
    "RR_retr_TMM_F = parsivel_ds['RR_retr_TMM_F']\n",
    "\n",
    "# Radar retrieval parameters\n",
    "rad_retr_dict = {}\n",
    "for field in parsivel_ds['fields_KGWX'].values:\n",
    "    print(field)\n",
    "    rad_retr_dict[field] = parsivel_ds['KGWX_at_PIPS'].sel(fields_KGWX=field)\n",
    "#W_retr_SATP_rad = parsivel_ds['KGWX_at_PIPS'].sel(fields_KGWX=)"
   ]
  },
  {
   "cell_type": "code",
   "execution_count": null,
   "metadata": {},
   "outputs": [],
   "source": [
    "# Plot Z ono-to-one scatterplots\n",
    "dBZ_rad = rad_retr_dict['REF_filtered']\n",
    "dBZ_PIPS = parsivel_ds['dBZ']\n",
    "print(dBZ_PIPS)\n",
    "\n",
    "# The following is unnecessary\n",
    "# goodindices = np.isfinite(dBZ_rad) & np.isfinite(dBZ_PIPS)\n",
    "# print(goodindices)\n",
    "# dBZ_rad = dBZ_rad.loc[goodindices]\n",
    "# dBZ_PIPS = dBZ_PIPS.loc[goodindices]\n",
    "\n",
    "\n",
    "dBZ_ds = xr.Dataset({'dBZ_rad': dBZ_rad, 'dBZ_PIPS': dBZ_PIPS})\n",
    "axparams = {\n",
    "    'var_lims': [[0.0, 60.], [0.0, 60.]],\n",
    "    'alpha': 0.75,\n",
    "    'markersize': 5,\n",
    "    'label_x': r'$Z_H$ (PIPS; dBZ)',\n",
    "    'label_y': r'$Z_H$ (KGWX; dBZ)',\n",
    "}\n",
    "fig, ax = PIPSplot.plot_one2one(dBZ_ds, 'dBZ_PIPS', 'dBZ_rad', axparams)\n",
    "ax.set_title(title)"
   ]
  },
  {
   "cell_type": "code",
   "execution_count": null,
   "metadata": {},
   "outputs": [],
   "source": [
    "# Plot ZDR ono-to-one scatterplots\n",
    "ZDR_rad = rad_retr_dict['ZDR_filtered']\n",
    "ZDR_PIPS = parsivel_ds['ZDR']\n",
    "\n",
    "# The following is unnecessary\n",
    "# goodindices = np.isfinite(dBZ_rad) & np.isfinite(dBZ_PIPS)\n",
    "# print(goodindices)\n",
    "# dBZ_rad = dBZ_rad.loc[goodindices]\n",
    "# dBZ_PIPS = dBZ_PIPS.loc[goodindices]\n",
    "\n",
    "\n",
    "ZDR_ds = xr.Dataset({'ZDR_rad': ZDR_rad, 'ZDR_PIPS': ZDR_PIPS})\n",
    "axparams = {\n",
    "    'var_lims': [[0.0, 3.], [0.0, 3.]],\n",
    "    'alpha': 0.75,\n",
    "    'markersize': 5,\n",
    "    'label_x': r'$Z_{DR}$ (PIPS; dB)',\n",
    "    'label_y': r'$Z_{DR}$ (KGWX; dB)',\n",
    "}\n",
    "fig, ax = PIPSplot.plot_one2one(ZDR_ds, 'ZDR_PIPS', 'ZDR_rad', axparams)\n",
    "ax.set_title(title)"
   ]
  },
  {
   "cell_type": "code",
   "execution_count": null,
   "metadata": {
    "ExecuteTime": {
     "end_time": "2020-05-21T17:51:44.444813Z",
     "start_time": "2020-05-21T17:51:17.209532Z"
    },
    "scrolled": false
   },
   "outputs": [],
   "source": [
    "# Plot Dm one-to-one scatterplots\n",
    "Dm_retr_SATP = rad_retr_dict['Dm_SATP']\n",
    "Dm_retr_C08 = rad_retr_dict['Dm_C08']\n",
    "Dm_retr_Z01 = rad_retr_dict['Dm_Z01']\n",
    "Dm_retr_TMM_F = rad_retr_dict['Dm_TMM_F']\n",
    "for title, Dm_retr in zip(['VSE relation', 'C08 relation', 'Z01 relation', 'TMM (filtered) relation'], \n",
    "                          [Dm_retr_SATP, Dm_retr_C08, Dm_retr_Z01, Dm_retr_TMM_F]):\n",
    "    overlap = (Dm_obs > 0.) & (Dm_retr > 0.)\n",
    "    Dm_obs_plt = Dm_obs.where(overlap)\n",
    "    Dm_retr_plt = Dm_retr.where(overlap)\n",
    "    Dm_ds = xr.Dataset({'Dm_obs': Dm_obs_plt, 'Dm_retr': Dm_retr_plt, 'RR_obs': RR_obs})\n",
    "    axparams = {\n",
    "        'var_lims': [[0.0, 4.5], [0.0, 4.5]],\n",
    "        'col_field': 'RR_obs',\n",
    "        'col_field_lims': [0.1, 200.],\n",
    "        'norm': colors.LogNorm(vmin=0.1, vmax=200.),\n",
    "        'alpha': 0.75,\n",
    "        'markersize': 5,\n",
    "        'label_x': r'$D_m$ (obs; mm)',\n",
    "        'label_y': r'$D_m$ (retrieved; mm)',\n",
    "        'label_cb': r'$RR$ (mm h$^{-1}$)'\n",
    "    }\n",
    "    fig, ax = PIPSplot.plot_one2one(Dm_ds, 'Dm_obs', 'Dm_retr', axparams)\n",
    "    ax.set_title(title)"
   ]
  },
  {
   "cell_type": "code",
   "execution_count": null,
   "metadata": {
    "ExecuteTime": {
     "end_time": "2020-05-21T17:59:05.503322Z",
     "start_time": "2020-05-21T17:58:15.582856Z"
    },
    "scrolled": false
   },
   "outputs": [],
   "source": [
    "# Plot Nt one-to-one scatterplots\n",
    "var_obs = Nt_obs\n",
    "Nt_retr_SATP = rad_retr_dict['Nt_SATP']\n",
    "Nt_retr_C08 = rad_retr_dict['Nt_C08']\n",
    "Nt_retr_Z01 = rad_retr_dict['Nt_Z01']\n",
    "Nt_retr_TMM_F = rad_retr_dict['Nt_TMM_F']\n",
    "for title, var_retr in zip(['VSE relation', 'C08 relation', 'Z01 relation', 'TMM (filtered) relation'], \n",
    "                           [Nt_retr_SATP, Nt_retr_C08, Nt_retr_Z01, Nt_retr_TMM_F]):\n",
    "    overlap = (var_obs > 0.) & (var_retr > 0.)\n",
    "    var_obs_plt = var_obs.where(overlap)\n",
    "    var_retr_plt = var_retr.where(overlap)\n",
    "    var_ds = xr.Dataset({'var_obs': var_obs_plt, 'var_retr': var_retr_plt, 'RR_obs': RR_obs})\n",
    "    axparams = {\n",
    "        'var_lims': [[0.0, 4.5], [0.0, 4.5]],\n",
    "        'plot_log': [True, True],\n",
    "        'col_field': 'RR_obs',\n",
    "        'col_field_lims': [0.1, 200.],\n",
    "        'norm': colors.LogNorm(vmin=0.1, vmax=200.),\n",
    "        'alpha': 0.75,\n",
    "        'markersize': 5,\n",
    "        'label_x': r'$N_T$ (obs; #/m3)',\n",
    "        'label_y': r'$N_T$ (retrieved; #/m3)',\n",
    "        'label_cb': r'$RR$ (mm h$^{-1}$)'\n",
    "    }\n",
    "    fig, ax = PIPSplot.plot_one2one(var_ds, 'var_obs', 'var_retr', axparams)\n",
    "    ax.set_title(title)"
   ]
  },
  {
   "cell_type": "code",
   "execution_count": null,
   "metadata": {
    "ExecuteTime": {
     "end_time": "2020-05-21T17:58:13.471752Z",
     "start_time": "2020-05-21T17:57:49.188608Z"
    },
    "scrolled": false
   },
   "outputs": [],
   "source": [
    "# Plot RR one-to-one scatterplots\n",
    "var_obs = RR_obs\n",
    "RR_retr_SATP = rad_retr_dict['RR_SATP']\n",
    "RR_retr_C08 = rad_retr_dict['RR_C08']\n",
    "RR_retr_Z01 = rad_retr_dict['RR_Z01']\n",
    "RR_retr_TMM_F = rad_retr_dict['RR_TMM_F']\n",
    "for title, var_retr in zip(['VSE relation', 'C08 relation', 'Z01 relation', 'TMM (filtered) relation'], \n",
    "                           [RR_retr_SATP, RR_retr_C08, RR_retr_Z01, RR_retr_TMM_F]):\n",
    "    overlap = (var_obs > 0.) & (var_retr > 0.)\n",
    "    var_obs_plt = var_obs.where(overlap)\n",
    "    var_retr_plt = var_retr.where(overlap)\n",
    "    var_ds = xr.Dataset({'var_obs': var_obs_plt, 'var_retr': var_retr_plt, 'RR_obs': RR_obs})\n",
    "    axparams = {\n",
    "        'var_lims': [[0.0, 100.], [0.0, 100.]],\n",
    "        'plot_log': [False, False],\n",
    "        'col_field': 'RR_obs',\n",
    "        'col_field_lims': [0.1, 200.],\n",
    "        'norm': colors.LogNorm(vmin=0.1, vmax=200.),\n",
    "        'alpha': 0.75,\n",
    "        'markersize': 5,\n",
    "        'label_x': r'$RR$ (obs; mm h$^{-1}$)',\n",
    "        'label_y': r'$RR$ (retrieved; mm h$^{-1}$)',\n",
    "        'label_cb': r'$RR$ (mm h$^{-1}$)'\n",
    "    }\n",
    "    fig, ax = PIPSplot.plot_one2one(var_ds, 'var_obs', 'var_retr', axparams)\n",
    "    ax.set_title(title)"
   ]
  },
  {
   "cell_type": "code",
   "execution_count": null,
   "metadata": {
    "ExecuteTime": {
     "end_time": "2020-05-28T13:29:36.330052Z",
     "start_time": "2020-05-28T13:29:35.027317Z"
    }
   },
   "outputs": [],
   "source": [
    "# Plot D0 vs ZDR and compute polynomial fit\n",
    "ZDR = rad_retr_dict['ZDR_filtered']\n",
    "\n",
    "overlap = (D0_obs > 0.) & (ZDR > 0.)\n",
    "D0_plt = D0_obs.where(overlap)\n",
    "ZDR_plt = ZDR.where(overlap)\n",
    "RR_plt = RR_obs.where(overlap)\n",
    "\n",
    "D0_ds = xr.Dataset({'D0': D0_plt, 'ZDR': ZDR_plt, 'RR_obs': RR_plt})\n",
    "\n",
    "D0_plt_vals = D0_plt.values\n",
    "ZDR_plt_vals = ZDR_plt.values\n",
    "\n",
    "goodindices = np.isfinite(D0_plt_vals) & np.isfinite(ZDR_plt_vals)\n",
    "D0_plt_vals = D0_plt_vals[goodindices]\n",
    "ZDR_plt_vals = ZDR_plt_vals[goodindices]"
   ]
  },
  {
   "cell_type": "code",
   "execution_count": null,
   "metadata": {
    "ExecuteTime": {
     "end_time": "2020-05-28T13:29:46.124536Z",
     "start_time": "2020-05-28T13:29:43.043793Z"
    },
    "scrolled": true
   },
   "outputs": [],
   "source": [
    "\n",
    "axparams = {\n",
    "    'var_lims': [[0., 4.], [0., 5.]],\n",
    "    'plot_log': [False, False],\n",
    "    'col_field': 'RR_obs',\n",
    "    'col_field_lims': [0.1, 200.],\n",
    "    'norm': colors.LogNorm(vmin=0.1, vmax=200.),\n",
    "    'alpha': 0.75,\n",
    "    'markersize': 5,\n",
    "    'label_x': r'$Z_{DR}$ (dB)',\n",
    "    'label_y': r'$D_0 (mm)$', \n",
    "    'label_cb': r'$RR$ (mm h$^{-1}$)'\n",
    "}\n",
    "fig, ax = PIPSplot.plot_scatter(D0_ds, 'ZDR', 'D0', axparams)\n",
    "poly_coeff, poly = dsd.calc_empirical_polyfit(ZDR_plt_vals, D0_plt_vals, order=3)\n",
    "print(poly_coeff)\n",
    "\n",
    "xx = np.linspace(0., 4.)\n",
    "yy = poly(xx)\n",
    "ax.plot(xx, yy, 'k')\n",
    "\n",
    "D0_cao = 0.0436 * (xx**3.) - 0.216 * (xx**2.) + 1.076 * xx + 0.659\n",
    "ax.plot(xx, D0_cao, 'b')"
   ]
  },
  {
   "cell_type": "code",
   "execution_count": null,
   "metadata": {
    "ExecuteTime": {
     "end_time": "2020-05-28T13:33:34.542337Z",
     "start_time": "2020-05-28T13:33:26.830591Z"
    }
   },
   "outputs": [],
   "source": [
    "# Plot log(R/Zh) one-to-one plot\n",
    "overlap = (RR_obs > 0.) & (RR_retr_SATP > 0.)\n",
    "RR_obs_plt = RR_obs.where(overlap)\n",
    "RR_retr_SATP_plt = RR_retr_SATP.where(overlap)\n",
    "\n",
    "ZH_plt = ZH.where(ZH > 0.)\n",
    "RRdZH_obs = RR_obs_plt/ZH_plt\n",
    "RRdZH_retr_SATP = RR_retr_SATP_plt/ZH_plt\n",
    "\n",
    "RRdZH_ds = xr.Dataset({'RRdZH_obs': RRdZH_obs, 'RRdZH_retr_SATP': RRdZH_retr_SATP, 'RR_obs': RR_obs_plt})\n",
    "\n",
    "axparams = {\n",
    "    'var_lims': [[-4., -1.5], [-4., -1.5]],\n",
    "    'plot_log': [True, True],\n",
    "    'col_field': 'RR_obs',\n",
    "    'col_field_lims': [0.1, 200.],\n",
    "    'norm': colors.LogNorm(vmin=0.1, vmax=200.),\n",
    "    'alpha': 0.75,\n",
    "    'markersize': 5,\n",
    "    'label_x': r'$\\log{R/Z_H}$ (obs)',\n",
    "    'label_y': r'$\\log{R/Z_H}$ (retrieved)',\n",
    "    'label_cb': r'$RR$ (mm h$^{-1}$)'\n",
    "}\n",
    "PIPSplot.plot_one2one(RRdZH_ds, 'RRdZH_obs', 'RRdZH_retr_SATP', axparams)"
   ]
  },
  {
   "cell_type": "code",
   "execution_count": null,
   "metadata": {
    "ExecuteTime": {
     "end_time": "2020-04-08T16:37:15.071440Z",
     "start_time": "2020-04-08T16:37:14.963115Z"
    }
   },
   "outputs": [],
   "source": [
    "# Plot R/Zh vs. ZDR and compute polynomial fit\n",
    "overlap = (RRdZH_obs > 0.) & (ZDR > 0.)\n",
    "RRdZH_obs_plt = RRdZH_obs.where(overlap)\n",
    "ZDR_plt = ZDR.where(overlap)\n",
    "RR_obs_plt = RR_obs.where(overlap)\n",
    "\n",
    "RRdZH_ZDR_ds = xr.Dataset({'RRdZH': RRdZH_obs_plt, 'ZDR': ZDR_plt, 'RR_obs': RR_obs_plt})\n",
    "\n",
    "RRdZH_vals = RRdZH_obs_plt.values\n",
    "log_RRdZH_vals = np.log10(RRdZH_vals)\n",
    "ZDR_vals = ZDR_plt.values\n",
    "\n",
    "goodindices = np.isfinite(log_RRdZH_vals) & np.isfinite(ZDR_vals)\n",
    "log_RRdZH_vals = log_RRdZH_vals[goodindices]\n",
    "ZDR_vals = ZDR_vals[goodindices]"
   ]
  },
  {
   "cell_type": "code",
   "execution_count": null,
   "metadata": {
    "ExecuteTime": {
     "end_time": "2020-04-08T16:37:16.160794Z",
     "start_time": "2020-04-08T16:37:16.083111Z"
    }
   },
   "outputs": [],
   "source": [
    "from scipy.optimize import curve_fit\n",
    "def func(x, a, b, c, d):\n",
    "    return a*x**3. + b*x**2. + c*x + d\n",
    "\n",
    "popt, pcov = curve_fit(func, ZDR_vals, log_RRdZH_vals)\n",
    "print(popt)\n",
    "\n",
    "# Gives almost the same results (reversed coefficient order...)"
   ]
  },
  {
   "cell_type": "code",
   "execution_count": null,
   "metadata": {
    "ExecuteTime": {
     "end_time": "2020-04-08T16:37:18.813837Z",
     "start_time": "2020-04-08T16:37:17.754654Z"
    }
   },
   "outputs": [],
   "source": [
    "\n",
    "axparams = {\n",
    "    'var_lims': [[0., 4.], [-4., -1.5]],\n",
    "    'plot_log': [False, True],\n",
    "    'col_field': 'RR_obs',\n",
    "    'col_field_lims': [0.1, 200.],\n",
    "    'norm': colors.LogNorm(vmin=0.1, vmax=200.),\n",
    "    'alpha': 0.75,\n",
    "    'markersize': 5,\n",
    "    'label_x': r'$Z_{DR}$ (dB)',\n",
    "    'label_y': r'$\\log{R/Z_H}$', \n",
    "    'label_cb': r'$RR$ (mm h$^{-1}$)'\n",
    "}\n",
    "fig, ax = PIPSplot.plot_scatter(RRdZH_ZDR_ds, 'ZDR', 'RRdZH', axparams)\n",
    "poly_coeff, poly = dsd.calc_empirical_polyfit(ZDR_vals, log_RRdZH_vals, order=3)\n",
    "print(poly_coeff)\n",
    "\n",
    "xx = np.linspace(0., 4.)\n",
    "yy = poly(xx)\n",
    "ax.plot(xx, 10.**yy, 'k')\n",
    "\n",
    "RdZH_cao = 10.**(-0.0363 * (xx**3.) + 0.316 * (xx**2.) - 1.178 * xx - 1.964)\n",
    "ax.plot(xx, RdZH_cao, 'b')"
   ]
  },
  {
   "cell_type": "code",
   "execution_count": null,
   "metadata": {
    "ExecuteTime": {
     "end_time": "2020-04-08T16:39:36.186727Z",
     "start_time": "2020-04-08T16:39:34.676186Z"
    }
   },
   "outputs": [],
   "source": [
    "# Plot W/ZH one-to-one\n",
    "overlap = (W_obs > 0.) & (W_retr_SATP > 0.)\n",
    "W_obs_plt = W_obs.where(overlap)\n",
    "W_retr_SATP_plt = W_retr_SATP.where(overlap)\n",
    "RR_obs_plt = RR_obs.where(overlap)\n",
    "\n",
    "WdZH_obs = W_obs_plt/ZH_plt\n",
    "WdZH_retr_SATP = W_retr_SATP_plt/ZH_plt\n",
    "WdZH_ds = xr.Dataset({'WdZH_obs': WdZH_obs, 'WdZH_retr': WdZH_retr_SATP, 'RR_obs': RR_obs_plt})\n",
    "\n",
    "axparams = {\n",
    "    'var_lims': [[-6., -2.], [-6, -2.]],\n",
    "    'plot_log': [True, True],\n",
    "    'col_field': 'RR_obs',\n",
    "    'col_field_lims': [0.1, 200.],\n",
    "    'norm': colors.LogNorm(vmin=0.1, vmax=200.),\n",
    "    'alpha': 0.75,\n",
    "    'markersize': 5,\n",
    "    'label_x': r'$\\log{W/Z_H}$ (obs)',\n",
    "    'label_y': r'$\\log{W/Z_H}$ (retrieved)',\n",
    "    'label_cb': r'$RR$ (mm h$^{-1}$)'\n",
    "}\n",
    "PIPSplot.plot_one2one(WdZH_ds, 'WdZH_obs', 'WdZH_retr', axparams)"
   ]
  },
  {
   "cell_type": "code",
   "execution_count": null,
   "metadata": {
    "ExecuteTime": {
     "end_time": "2020-04-08T16:43:19.004775Z",
     "start_time": "2020-04-08T16:43:18.892080Z"
    }
   },
   "outputs": [],
   "source": [
    "# Compute empirical fit for W/ZH vs ZDR and plot\n",
    "\n",
    "overlap = (W_obs > 0.)\n",
    "W_obs_plt = W_obs.where(overlap)\n",
    "WdZH_obs = W_obs_plt/ZH_plt\n",
    "overlap = (WdZH_obs > 0.) & (ZDR > 0.)\n",
    "WdZH_obs = WdZH_obs.where(overlap)\n",
    "ZDR_plt = ZDR.where(overlap)\n",
    "RR_obs_plt = RR_obs.where(overlap)\n",
    "\n",
    "WdZH_ZDR_ds = xr.Dataset({'WdZH': WdZH_obs, 'ZDR': ZDR_plt, 'RR_obs': RR_obs_plt})\n",
    "\n",
    "WdZH_vals = WdZH_obs.values\n",
    "log_WdZH_vals = np.log10(WdZH_vals)\n",
    "ZDR_vals = ZDR_plt.values\n",
    "\n",
    "goodindices = np.isfinite(log_WdZH_vals) & np.isfinite(ZDR_vals)\n",
    "log_WdZH_vals = log_WdZH_vals[goodindices]\n",
    "ZDR_vals = ZDR_vals[goodindices]"
   ]
  },
  {
   "cell_type": "code",
   "execution_count": null,
   "metadata": {
    "ExecuteTime": {
     "end_time": "2020-04-08T16:44:43.667011Z",
     "start_time": "2020-04-08T16:44:42.449067Z"
    }
   },
   "outputs": [],
   "source": [
    "\n",
    "axparams = {\n",
    "    'var_lims': [[0., 4.], [-6., -2.]],\n",
    "    'plot_log': [False, True],\n",
    "    'col_field': 'RR_obs',\n",
    "    'col_field_lims': [0.1, 200.],\n",
    "    'norm': colors.LogNorm(vmin=0.1, vmax=200.),\n",
    "    'alpha': 0.75,\n",
    "    'markersize': 5,\n",
    "    'label_x': r'$Z_{DR}$ (dB)',\n",
    "    'label_y': r'$\\log{W/Z_H}$', \n",
    "    'label_cb': r'$RR$ (mm h$^{-1}$)'\n",
    "}\n",
    "fig, ax = PIPSplot.plot_scatter(WdZH_ZDR_ds, 'ZDR', 'WdZH', axparams)\n",
    "poly_coeff, poly = dsd.calc_empirical_polyfit(ZDR_vals, log_WdZH_vals, order=3)\n",
    "print(poly_coeff)\n",
    "\n",
    "xx = np.linspace(0., 4.)\n",
    "yy = poly(xx)\n",
    "ax.plot(xx, 10.**yy, 'k')\n",
    "WdZH_cao = 10.**(-0.0493 * (xx**3.) + 0.430 * (xx**2.) - 1.542 * xx - 3.019)\n",
    "ax.plot(xx, WdZH_cao, 'b')"
   ]
  },
  {
   "cell_type": "code",
   "execution_count": null,
   "metadata": {
    "ExecuteTime": {
     "end_time": "2020-04-08T15:12:01.882940Z",
     "start_time": "2020-04-08T15:12:00.036007Z"
    }
   },
   "outputs": [],
   "source": [
    "# Plot Nt/ZH one-to-one\n",
    "overlap = (Nt_obs > 0.) & (Nt_retr_SATP > 0.)\n",
    "Nt_obs_plt = Nt_obs.where(overlap)\n",
    "Nt_retr_SATP_plt = Nt_retr_SATP.where(overlap)\n",
    "NtdZH_obs = Nt_obs_plt/ZH_plt\n",
    "NtdZH_retr_SATP = Nt_retr_SATP_plt/ZH_plt\n",
    "RR_obs_plt = RR_obs.where(overlap)\n",
    "\n",
    "NtdZH_ds = xr.Dataset({'NtdZH_obs': NtdZH_obs, 'NtdZH_retr': NtdZH_retr_SATP, 'RR_obs': RR_obs_plt})\n",
    "\n",
    "axparams = {\n",
    "    'var_lims': [[-3., 2.], [-3., 2.]],\n",
    "    'plot_log': [True, True],\n",
    "    'col_field': 'RR_obs',\n",
    "    'col_field_lims': [0.1, 200.],\n",
    "    'norm': colors.LogNorm(vmin=0.1, vmax=200.),\n",
    "    'alpha': 0.75,\n",
    "    'markersize': 5,\n",
    "    'label_x': r'$\\log{N_T/Z_H}$ (obs)',\n",
    "    'label_y': r'$\\log{N_T/Z_H}$ (retrieved)',\n",
    "    'label_cb': r'$RR$ (mm h$^{-1}$)'\n",
    "}\n",
    "PIPSplot.plot_one2one(NtdZH_ds, 'NtdZH_obs', 'NtdZH_retr', axparams)"
   ]
  },
  {
   "cell_type": "code",
   "execution_count": null,
   "metadata": {
    "ExecuteTime": {
     "end_time": "2020-04-08T16:24:42.110619Z",
     "start_time": "2020-04-08T16:24:41.618737Z"
    }
   },
   "outputs": [],
   "source": [
    "# Plot Z vs. ZDR\n",
    "dBZ = dualpol_dict['REF']\n",
    "dBZ_vals = dBZ.values\n",
    "ZDR_vals = ZDR.values\n",
    "\n",
    "goodindices = np.isfinite(dBZ_vals) & np.isfinite(ZDR_vals)\n",
    "dBZ_vals = dBZ_vals[goodindices]\n",
    "ZDR_vals = ZDR_vals[goodindices]\n",
    "\n",
    "ZH_ZDR_ds = xr.Dataset({'ZH': dBZ, 'ZDR': ZDR, 'RR_obs': RR_obs})\n",
    "\n",
    "axparams = {\n",
    "    'var_lims': [[0., 60.], [0., 6.]],\n",
    "    'plot_log': [False, False],\n",
    "    'col_field': 'RR_obs',\n",
    "    'col_field_lims': [0.1, 200.],\n",
    "    'norm': colors.LogNorm(vmin=0.1, vmax=200.),\n",
    "    'alpha': 0.75,\n",
    "    'markersize': 5,\n",
    "    'label_x': r'$Z_{H}$ (dBZ)',\n",
    "    'label_y': r'$Z_{DR}$ (dB)', \n",
    "    'label_cb': r'$RR$ (mm h$^{-1}$)'\n",
    "}\n",
    "fig, ax = PIPSplot.plot_scatter(ZH_ZDR_ds, 'ZH', 'ZDR', axparams)\n",
    "ax.set_aspect('auto')\n",
    "poly_coeff, poly = dsd.calc_empirical_polyfit(dBZ_vals, ZDR_vals, order=2)\n",
    "print(poly_coeff)\n",
    "\n",
    "# xx = np.linspace(0., 4.)\n",
    "# yy = poly(xx)\n",
    "# ax.plot(xx, 10.**yy, 'k')\n",
    "# WdZH_cao = 10.**(-0.0493 * (xx**3.) + 0.430 * (xx**2.) - 1.542 * xx - 3.019)\n",
    "# ax.plot(xx, WdZH_cao, 'b')"
   ]
  },
  {
   "cell_type": "code",
   "execution_count": null,
   "metadata": {},
   "outputs": [],
   "source": []
  }
 ],
 "metadata": {
  "anaconda-cloud": {},
  "hide_input": false,
  "kernelspec": {
   "display_name": "Python 3.7.3 64-bit ('pyPIPS': conda)",
   "language": "python",
   "name": "python37364bitpypipscondaea8788f6419a4a34be329df7b3b7ce88"
  },
  "language_info": {
   "codemirror_mode": {
    "name": "ipython",
    "version": 3
   },
   "file_extension": ".py",
   "mimetype": "text/x-python",
   "name": "python",
   "nbconvert_exporter": "python",
   "pygments_lexer": "ipython3",
   "version": "3.7.6"
  },
  "toc": {
   "base_numbering": 1,
   "nav_menu": {},
   "number_sections": true,
   "sideBar": true,
   "skip_h1_title": false,
   "title_cell": "Table of Contents",
   "title_sidebar": "Contents",
   "toc_cell": false,
   "toc_position": {},
   "toc_section_display": true,
   "toc_window_display": false
  },
  "varInspector": {
   "cols": {
    "lenName": 16,
    "lenType": 16,
    "lenVar": 40
   },
   "kernels_config": {
    "python": {
     "delete_cmd_postfix": "",
     "delete_cmd_prefix": "del ",
     "library": "var_list.py",
     "varRefreshCmd": "print(var_dic_list())"
    },
    "r": {
     "delete_cmd_postfix": ") ",
     "delete_cmd_prefix": "rm(",
     "library": "var_list.r",
     "varRefreshCmd": "cat(var_dic_list()) "
    }
   },
   "types_to_exclude": [
    "module",
    "function",
    "builtin_function_or_method",
    "instance",
    "_Feature"
   ],
   "window_display": false
  }
 },
 "nbformat": 4,
 "nbformat_minor": 2
}
