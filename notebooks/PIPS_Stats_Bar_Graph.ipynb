{
 "cells": [
  {
   "cell_type": "code",
   "execution_count": 21,
   "metadata": {},
   "outputs": [
    {
     "name": "stdout",
     "output_type": "stream",
     "text": [
      "\n",
      "## You are using the Python ARM Radar Toolkit (Py-ART), an open source\n",
      "## library for working with weather radar data. Py-ART is partly\n",
      "## supported by the U.S. Department of Energy as part of the Atmospheric\n",
      "## Radiation Measurement (ARM) Climate Research Facility, an Office of\n",
      "## Science user facility.\n",
      "##\n",
      "## If you use this software to prepare a publication, please cite:\n",
      "##\n",
      "##     JJ Helmus and SM Collis, JORS 2016, doi: 10.5334/jors.119\n",
      "\n"
     ]
    }
   ],
   "source": [
    "%load_ext autoreload\n",
    "%autoreload 2\n",
    "import os\n",
    "#%set_env PROJ_LIB=/depot/dawson29/apps/condaenv/envs/cent7/5.1.0-py27/pyPIPS/share/proj\n",
    "# %set_env LD_LIBRARY_PATH=/apps/cent7/intel/compilers_and_libraries_2017.1.132/linux/compiler/lib/intel64\n",
    "# %set_env LIBRARY_PATH=/apps/cent7/intel/compilers_and_libraries_2017.1.132/linux/compiler/lib/intel64\n",
    "#import pyCRMtools.modules.dualpara as dualpol\n",
    "#import pyPIPS.dualpara as dualpol\n",
    "import numpy as np\n",
    "import numpy.ma as ma\n",
    "import matplotlib\n",
    "import matplotlib.pyplot as plt\n",
    "import matplotlib.cm as cm\n",
    "import matplotlib.ticker as ticker\n",
    "import matplotlib.dates as dates\n",
    "from mpl_toolkits.axes_grid1 import ImageGrid,make_axes_locatable,host_subplot\n",
    "from mpl_toolkits.basemap import Basemap\n",
    "from datetime import datetime, timedelta\n",
    "import pytz as pytz\n",
    "import sys\n",
    "import pyPIPS.utils as utils\n",
    "import pyPIPS.thermolib as thermo\n",
    "import pyPIPS.DSDlib as dsd\n",
    "import pyPIPS.plotmodule as PIPSplot\n",
    "import pyPIPS.simulator as sim\n",
    "import pyPIPS.radarmodule as pyPIPSradar\n",
    "import pyPIPS.PIPS as pips\n",
    "import pyPIPS.pips_io as pips_io\n",
    "import pyPIPS.parsivel_qc as pqc\n",
    "import pyPIPS.parsivel_params as pp\n",
    "from pyCRMtools.modules import plotmodule as plotmod\n",
    "from pyCRMtools.modules import utils as CRMutils\n",
    "from pyCRMtools.pycaps import arps_read\n",
    "from pyCRMtools.pycaps import pycaps_fields\n",
    "from pyCRMtools.pycaps import calvars_radar as radar\n",
    "import pandas as pd\n",
    "import xarray as xr\n",
    "import glob\n",
    "import numpy.random as random\n",
    "from scipy.stats import gamma, uniform\n",
    "from scipy.special import gamma as gammafunc\n",
    "from scipy import ndimage\n",
    "from metpy.plots import StationPlot\n",
    "from metpy.calc import wind_components as get_wind_components\n",
    "from metpy.cbook import get_test_data\n",
    "from metpy.plots import StationPlot\n",
    "from metpy.plots.wx_symbols import current_weather, sky_cover\n",
    "from metpy.units import units\n",
    "%matplotlib inline"
   ]
  },
  {
   "cell_type": "code",
   "execution_count": 22,
   "metadata": {},
   "outputs": [],
   "source": [
    "plotdir = '/depot/dawson29/data/Projects/VORTEXSE/simulations/ARPS/2017_IOP4C/EnKF/PIPS/plots/CCN1000_original/'\n",
    "meteogram_plotdir = os.path.join(plotdir, 'meteograms')"
   ]
  },
  {
   "cell_type": "code",
   "execution_count": 35,
   "metadata": {},
   "outputs": [
    {
     "data": {
      "image/png": "[encoded data removed]",
      "text/plain": [
       "<Figure size 432x288 with 1 Axes>"
      ]
     },
     "metadata": {
      "needs_background": "light"
     },
     "output_type": "display_data"
    }
   ],
   "source": [
    "#D0 Bar Graph Plot for Stats CCN 1000\n",
    "\n",
    "# libraries\n",
    "import numpy as np\n",
    "import matplotlib.pyplot as plt\n",
    " \n",
    "# set width of bar\n",
    "barWidth = 0.25\n",
    " \n",
    "# set height of bar\n",
    "bars1 = [-0.0658, 0.2537, 0.1425]\n",
    "bars2 = [0.4111, 0.3893, 0.1893]\n",
    "bars3 = [0.2009, 0.5859, 0.7752]\n",
    " \n",
    "# Set position of bar on X axis\n",
    "r1 = np.arange(len(bars1))\n",
    "r2 = [x + barWidth for x in r1]\n",
    "r3 = [x + barWidth for x in r2]\n",
    " \n",
    "# Make the plot\n",
    "plt.bar(r1, bars1, color='red', width=barWidth, edgecolor='white', label='Mean Ensemble Bias')\n",
    "plt.bar(r2, bars2, color='blue', width=barWidth, edgecolor='white', label='Mean Abs Ensemble Bias')\n",
    "plt.bar(r3, bars3, color='green', width=barWidth, edgecolor='white', label='Mean Ensemble Correlation')\n",
    " \n",
    "# Add xticks on the middle of the group bars\n",
    "plt.ylim(-0.50,1)\n",
    "plt.xlabel('CCN 1000', fontweight='bold')\n",
    "plt.ylabel('D0 (mm)')\n",
    "plt.xticks([r + barWidth for r in range(len(bars1))], ['PIPS1A', 'PIPS1B', 'PIPS2B'])\n",
    " \n",
    "# Create legend & Show graphic\n",
    "plt.legend()\n",
    "\n",
    "figname = 'CCN1000_D0_stats_bar_graph.png'\n",
    "figpath = os.path.join(meteogram_plotdir, figname)\n",
    "plt.savefig(figpath, dpi=300, bbox_inches='tight')\n",
    "plt.show()"
   ]
  },
  {
   "cell_type": "code",
   "execution_count": 34,
   "metadata": {},
   "outputs": [
    {
     "data": {
      "image/png": "[encoded data removed]",
      "text/plain": [
       "<Figure size 432x288 with 1 Axes>"
      ]
     },
     "metadata": {
      "needs_background": "light"
     },
     "output_type": "display_data"
    }
   ],
   "source": [
    "#D0 Bar Graph Plot for Stats CCN 100\n",
    "\n",
    "# libraries\n",
    "import numpy as np\n",
    "import matplotlib.pyplot as plt\n",
    " \n",
    "# set width of bar\n",
    "barWidth = 0.25\n",
    " \n",
    "# set height of bar\n",
    "bars1 = [-0.3655, -0.0906, -0.0849]\n",
    "bars2 = [0.4849, 0.3382, 0.2396]\n",
    "bars3 = [0.1176, 0.4607, 0.4593]\n",
    " \n",
    "# Set position of bar on X axis\n",
    "r1 = np.arange(len(bars1))\n",
    "r2 = [x + barWidth for x in r1]\n",
    "r3 = [x + barWidth for x in r2]\n",
    " \n",
    "# Make the plot\n",
    "plt.bar(r1, bars1, color='red', width=barWidth, edgecolor='white', label='Mean Ensemble Bias')\n",
    "plt.bar(r2, bars2, color='blue', width=barWidth, edgecolor='white', label='Mean Abs Ensemble Bias')\n",
    "plt.bar(r3, bars3, color='green', width=barWidth, edgecolor='white', label='Mean Ensemble Correlation')\n",
    " \n",
    "# Add xticks on the middle of the group bars\n",
    "plt.ylim(-0.50,1)\n",
    "plt.xlabel('CCN 100', fontweight='bold')\n",
    "plt.ylabel('D0 (mm)')\n",
    "plt.xticks([r + barWidth for r in range(len(bars1))], ['PIPS1A', 'PIPS1B', 'PIPS2B'])\n",
    " \n",
    "# Create legend & Show graphic\n",
    "plt.legend()\n",
    "\n",
    "figname = 'CCN100_D0_stats_bar_graph.png'\n",
    "figpath = os.path.join(meteogram_plotdir, figname)\n",
    "plt.savefig(figpath, dpi=300, bbox_inches='tight')\n",
    "plt.show()"
   ]
  },
  {
   "cell_type": "code",
   "execution_count": 44,
   "metadata": {},
   "outputs": [
    {
     "data": {
      "image/png": "[encoded data removed]",
      "text/plain": [
       "<Figure size 432x288 with 1 Axes>"
      ]
     },
     "metadata": {
      "needs_background": "light"
     },
     "output_type": "display_data"
    }
   ],
   "source": [
    "#Zdr Bar Graph Plot for Stats CCN 1000\n",
    "\n",
    "# libraries\n",
    "import numpy as np\n",
    "import matplotlib.pyplot as plt\n",
    " \n",
    "# set width of bar\n",
    "barWidth = 0.25\n",
    " \n",
    "# set height of bar\n",
    "bars1 = [-0.1920, -0.0539, 0.5705]\n",
    "bars2 = [0.5062, 0.3612, 0.6562]\n",
    "bars3 = [-0.0200, 0.3601, 0.5300]\n",
    " \n",
    "# Set position of bar on X axis\n",
    "r1 = np.arange(len(bars1))\n",
    "r2 = [x + barWidth for x in r1]\n",
    "r3 = [x + barWidth for x in r2]\n",
    " \n",
    "# Make the plot\n",
    "plt.bar(r1, bars1, color='red', width=barWidth, edgecolor='white', label='Mean Ensemble Bias')\n",
    "plt.bar(r2, bars2, color='blue', width=barWidth, edgecolor='white', label='Mean Abs Ensemble Bias')\n",
    "plt.bar(r3, bars3, color='green', width=barWidth, edgecolor='white', label='Mean Ensemble Correlation')\n",
    " \n",
    "# Add xticks on the middle of the group bars\n",
    "plt.ylim(-0.50,1)\n",
    "plt.xlabel('CCN 100', fontweight='bold')\n",
    "plt.ylabel('$Z_{DR}$ (dB)')\n",
    "plt.xticks([r + barWidth for r in range(len(bars1))], ['PIPS1A', 'PIPS1B', 'PIPS2B'])\n",
    " \n",
    "# Create legend & Show graphic\n",
    "plt.legend()\n",
    "\n",
    "figname = 'CCN100_Zdr_stats_bar_graph.png'\n",
    "figpath = os.path.join(meteogram_plotdir, figname)\n",
    "plt.savefig(figpath, dpi=300, bbox_inches='tight')\n",
    "plt.show()"
   ]
  },
  {
   "cell_type": "code",
   "execution_count": 53,
   "metadata": {},
   "outputs": [
    {
     "data": {
      "image/png": "[encoded data removed]",
      "text/plain": [
       "<Figure size 432x288 with 1 Axes>"
      ]
     },
     "metadata": {
      "needs_background": "light"
     },
     "output_type": "display_data"
    }
   ],
   "source": [
    "#Zdr Bar Graph Plot for Stats CCN 1000\n",
    "\n",
    "# libraries\n",
    "import numpy as np\n",
    "import matplotlib.pyplot as plt\n",
    " \n",
    "# set width of bar\n",
    "barWidth = 0.25\n",
    " \n",
    "# set height of bar\n",
    "bars1 = [0.2532, 0.5707, 0.2463]\n",
    "bars2 = [0.6115, 0.6562, 0.3316]\n",
    "bars3 = [-0.0565, 0.5300, 0.7718]\n",
    " \n",
    "# Set position of bar on X axis\n",
    "r1 = np.arange(len(bars1))\n",
    "r2 = [x + barWidth for x in r1]\n",
    "r3 = [x + barWidth for x in r2]\n",
    " \n",
    "# Make the plot\n",
    "plt.bar(r1, bars1, color='red', width=barWidth, edgecolor='white', label='Mean Ensemble Bias')\n",
    "plt.bar(r2, bars2, color='blue', width=barWidth, edgecolor='white', label='Mean Abs Ensemble Bias')\n",
    "plt.bar(r3, bars3, color='green', width=barWidth, edgecolor='white', label='Mean Ensemble Correlation')\n",
    " \n",
    "# Add xticks on the middle of the group bars\n",
    "plt.ylim(-0.50,1)\n",
    "plt.xlabel('CCN 1000', fontweight='bold')\n",
    "plt.ylabel('$Z_{DR}$ (dB)')\n",
    "plt.xticks([r + barWidth for r in range(len(bars1))], ['PIPS1A', 'PIPS1B', 'PIPS2B'])\n",
    " \n",
    "# Create legend & Show graphic\n",
    "plt.legend(loc='best')\n",
    "\n",
    "figname = 'CCN1000_Zdr_stats_bar_graph.png'\n",
    "figpath = os.path.join(meteogram_plotdir, figname)\n",
    "plt.savefig(figpath, dpi=300, bbox_inches='tight')\n",
    "plt.show()"
   ]
  },
  {
   "cell_type": "code",
   "execution_count": 82,
   "metadata": {},
   "outputs": [
    {
     "data": {
      "image/png": "[encoded data removed]",
      "text/plain": [
       "<Figure size 432x288 with 1 Axes>"
      ]
     },
     "metadata": {
      "needs_background": "light"
     },
     "output_type": "display_data"
    }
   ],
   "source": [
    "#dBZ Bar Graph Plot for Stats CCN 1000\n",
    "\n",
    "# libraries\n",
    "import numpy as np\n",
    "import matplotlib.pyplot as plt\n",
    " \n",
    "# set width of bar\n",
    "barWidth = 0.25\n",
    " \n",
    "# set height of bar\n",
    "bars1 = [0.5216, 0.000, 0.5972,0.00]\n",
    "bars2 = [0.6970, 0.0, 0.7462,0.00]\n",
    "bars3 = [0.2352, 0.00, 0.5888,0.00]\n",
    " \n",
    "# Set position of bar on X axis\n",
    "r1 = np.arange(len(bars1))\n",
    "r2 = [x + barWidth for x in r1]\n",
    "r3 = [x + barWidth for x in r2]\n",
    " \n",
    "# Make the plot\n",
    "plt.bar(r1, bars1, color='red', width=barWidth, edgecolor='white', label='PIPS1A')\n",
    "plt.bar(r2, bars2, color='blue', width=barWidth, edgecolor='white', label='PIPS1B')\n",
    "plt.bar(r3, bars3, color='green', width=barWidth, edgecolor='white', label='PIPS2B')\n",
    " \n",
    "# Add xticks on the middle of the group bars\n",
    "plt.ylim(0,1)\n",
    "plt.xlabel('dBZ Correlation')\n",
    "#plt.ylabel('$dBZ$')\n",
    "plt.xticks([r + barWidth for r in range(len(bars1))], ['CCN 100', 'CCN 500', 'CCN 1000', 'CCN 1500'])\n",
    " \n",
    "# Create legend & Show graphic\n",
    "plt.legend(loc='best')\n",
    "\n",
    "figname = 'dBZ_stats_CC_bar_graph.png'\n",
    "figpath = os.path.join(meteogram_plotdir, figname)\n",
    "plt.savefig(figpath, dpi=300, bbox_inches='tight')\n",
    "plt.show()"
   ]
  },
  {
   "cell_type": "code",
   "execution_count": null,
   "metadata": {},
   "outputs": [],
   "source": []
  },
  {
   "cell_type": "code",
   "execution_count": 83,
   "metadata": {},
   "outputs": [
    {
     "data": {
      "image/png": "[encoded data removed]",
      "text/plain": [
       "<Figure size 432x288 with 1 Axes>"
      ]
     },
     "metadata": {
      "needs_background": "light"
     },
     "output_type": "display_data"
    }
   ],
   "source": [
    "#Zdr Bar Graph Plot for CC CCN 1000\n",
    "\n",
    "# libraries\n",
    "import numpy as np\n",
    "import matplotlib.pyplot as plt\n",
    " \n",
    "# set width of bar\n",
    "barWidth = 0.25\n",
    " \n",
    "# set height of bar\n",
    "bars1 = [-0.02, 0.000, -0.0565,0.00]\n",
    "bars2 = [0.3601, 0.0, 0.5300,0.00]\n",
    "bars3 = [0.5300, 0.00, 0.7718,0.00]\n",
    " \n",
    "# Set position of bar on X axis\n",
    "r1 = np.arange(len(bars1))\n",
    "r2 = [x + barWidth for x in r1]\n",
    "r3 = [x + barWidth for x in r2]\n",
    " \n",
    "# Make the plot\n",
    "plt.bar(r1, bars1, color='red', width=barWidth, edgecolor='white', label='PIPS1A')\n",
    "plt.bar(r2, bars2, color='blue', width=barWidth, edgecolor='white', label='PIPS1B')\n",
    "plt.bar(r3, bars3, color='green', width=barWidth, edgecolor='white', label='PIPS2B')\n",
    " \n",
    "# Add xticks on the middle of the group bars\n",
    "plt.ylim(-0.25,1)\n",
    "plt.xlabel('$Z_{DR}$ Correlation')\n",
    "#plt.ylabel('$dBZ$')\n",
    "plt.xticks([r + barWidth for r in range(len(bars1))], ['CCN 100', 'CCN 500', 'CCN 1000', 'CCN 1500'])\n",
    " \n",
    "# Create legend & Show graphic\n",
    "plt.legend(loc='best')\n",
    "\n",
    "figname = 'Zdr_stats_CC_bar_graph.png'\n",
    "figpath = os.path.join(meteogram_plotdir, figname)\n",
    "plt.savefig(figpath, dpi=300, bbox_inches='tight')\n",
    "plt.show()"
   ]
  },
  {
   "cell_type": "code",
   "execution_count": 84,
   "metadata": {},
   "outputs": [
    {
     "data": {
      "image/png": "[encoded data removed]",
      "text/plain": [
       "<Figure size 432x288 with 1 Axes>"
      ]
     },
     "metadata": {
      "needs_background": "light"
     },
     "output_type": "display_data"
    }
   ],
   "source": [
    "#D0 Bar Graph Plot for CC CCN 1000\n",
    "\n",
    "# libraries\n",
    "import numpy as np\n",
    "import matplotlib.pyplot as plt\n",
    " \n",
    "# set width of bar\n",
    "barWidth = 0.25\n",
    " \n",
    "# set height of bar\n",
    "bars1 = [0.1176, 0.000, 0.2009,0.00]\n",
    "bars2 = [0.4607, 0.0, 0.5859,0.00]\n",
    "bars3 = [0.4593, 0.00, 0.7752,0.00]\n",
    " \n",
    "# Set position of bar on X axis\n",
    "r1 = np.arange(len(bars1))\n",
    "r2 = [x + barWidth for x in r1]\n",
    "r3 = [x + barWidth for x in r2]\n",
    " \n",
    "# Make the plot\n",
    "plt.bar(r1, bars1, color='red', width=barWidth, edgecolor='white', label='PIPS1A')\n",
    "plt.bar(r2, bars2, color='blue', width=barWidth, edgecolor='white', label='PIPS1B')\n",
    "plt.bar(r3, bars3, color='green', width=barWidth, edgecolor='white', label='PIPS2B')\n",
    " \n",
    "# Add xticks on the middle of the group bars\n",
    "plt.ylim(-0.25,1)\n",
    "plt.xlabel('D0 Correlation')\n",
    "#plt.ylabel('$dBZ$')\n",
    "plt.xticks([r + barWidth for r in range(len(bars1))], ['CCN 100', 'CCN 500', 'CCN 1000', 'CCN 1500'])\n",
    " \n",
    "# Create legend & Show graphic\n",
    "plt.legend(loc='best')\n",
    "\n",
    "figname = 'D0_stats_CC_bar_graph.png'\n",
    "figpath = os.path.join(meteogram_plotdir, figname)\n",
    "plt.savefig(figpath, dpi=300, bbox_inches='tight')\n",
    "plt.show()"
   ]
  },
  {
   "cell_type": "code",
   "execution_count": 86,
   "metadata": {},
   "outputs": [
    {
     "data": {
      "image/png": "[encoded data removed]",
      "text/plain": [
       "<Figure size 432x288 with 1 Axes>"
      ]
     },
     "metadata": {
      "needs_background": "light"
     },
     "output_type": "display_data"
    }
   ],
   "source": [
    "#D0 Bar Graph Plot for bias CCN 1000\n",
    "\n",
    "# libraries\n",
    "import numpy as np\n",
    "import matplotlib.pyplot as plt\n",
    " \n",
    "# set width of bar\n",
    "barWidth = 0.25\n",
    " \n",
    "# set height of bar\n",
    "bars1 = [-0.3655, 0.000, -0.0658,0.00]\n",
    "bars2 = [-0.0906, 0.0, 0.2537,0.00]\n",
    "bars3 = [-0.0849, 0.00, 0.1425,0.00]\n",
    " \n",
    "# Set position of bar on X axis\n",
    "r1 = np.arange(len(bars1))\n",
    "r2 = [x + barWidth for x in r1]\n",
    "r3 = [x + barWidth for x in r2]\n",
    " \n",
    "# Make the plot\n",
    "plt.bar(r1, bars1, color='red', width=barWidth, edgecolor='white', label='PIPS1A')\n",
    "plt.bar(r2, bars2, color='blue', width=barWidth, edgecolor='white', label='PIPS1B')\n",
    "plt.bar(r3, bars3, color='green', width=barWidth, edgecolor='white', label='PIPS2B')\n",
    " \n",
    "# Add xticks on the middle of the group bars\n",
    "plt.ylim(-0.5,0.5)\n",
    "plt.xlabel('D0 Bias')\n",
    "#plt.ylabel('$dBZ$')\n",
    "plt.xticks([r + barWidth for r in range(len(bars1))], ['CCN 100', 'CCN 500', 'CCN 1000', 'CCN 1500'])\n",
    " \n",
    "# Create legend & Show graphic\n",
    "plt.legend(loc='best')\n",
    "\n",
    "figname = 'D0_stats_bias_bar_graph.png'\n",
    "figpath = os.path.join(meteogram_plotdir, figname)\n",
    "plt.savefig(figpath, dpi=300, bbox_inches='tight')\n",
    "plt.show()"
   ]
  },
  {
   "cell_type": "code",
   "execution_count": null,
   "metadata": {},
   "outputs": [],
   "source": []
  },
  {
   "cell_type": "code",
   "execution_count": 89,
   "metadata": {},
   "outputs": [
    {
     "data": {
      "image/png": "[encoded data removed]",
      "text/plain": [
       "<Figure size 432x288 with 1 Axes>"
      ]
     },
     "metadata": {
      "needs_background": "light"
     },
     "output_type": "display_data"
    }
   ],
   "source": [
    "#D0 Bar Graph Plot for abs bias CCN 1000\n",
    "\n",
    "# libraries\n",
    "import numpy as np\n",
    "import matplotlib.pyplot as plt\n",
    " \n",
    "# set width of bar\n",
    "barWidth = 0.25\n",
    " \n",
    "# set height of bar\n",
    "bars1 = [0.4849, 0.000, 0.4111,0.00]\n",
    "bars2 = [0.3382, 0.0, 0.3893,0.00]\n",
    "bars3 = [0.2396, 0.00, 0.1893,0.00]\n",
    " \n",
    "# Set position of bar on X axis\n",
    "r1 = np.arange(len(bars1))\n",
    "r2 = [x + barWidth for x in r1]\n",
    "r3 = [x + barWidth for x in r2]\n",
    " \n",
    "# Make the plot\n",
    "plt.bar(r1, bars1, color='red', width=barWidth, edgecolor='white', label='PIPS1A')\n",
    "plt.bar(r2, bars2, color='blue', width=barWidth, edgecolor='white', label='PIPS1B')\n",
    "plt.bar(r3, bars3, color='green', width=barWidth, edgecolor='white', label='PIPS2B')\n",
    " \n",
    "# Add xticks on the middle of the group bars\n",
    "plt.ylim(0,1.0)\n",
    "plt.xlabel('D0 Absolute Bias')\n",
    "#plt.ylabel('$dBZ$')\n",
    "plt.xticks([r + barWidth for r in range(len(bars1))], ['CCN 100', 'CCN 500', 'CCN 1000', 'CCN 1500'])\n",
    " \n",
    "# Create legend & Show graphic\n",
    "plt.legend(loc='best')\n",
    "\n",
    "figname = 'D0_stats_abs_bias_bar_graph.png'\n",
    "figpath = os.path.join(meteogram_plotdir, figname)\n",
    "plt.savefig(figpath, dpi=300, bbox_inches='tight')\n",
    "plt.show()"
   ]
  },
  {
   "cell_type": "code",
   "execution_count": 97,
   "metadata": {},
   "outputs": [
    {
     "data": {
      "image/png": "[encoded data removed]",
      "text/plain": [
       "<Figure size 432x288 with 1 Axes>"
      ]
     },
     "metadata": {
      "needs_background": "light"
     },
     "output_type": "display_data"
    }
   ],
   "source": [
    "#Zdr Bar Graph Plot for bias CCN 1000\n",
    "\n",
    "# libraries\n",
    "import numpy as np\n",
    "import matplotlib.pyplot as plt\n",
    " \n",
    "# set width of bar\n",
    "barWidth = 0.25\n",
    " \n",
    "# set height of bar\n",
    "bars1 = [-0.1920, 0.000, 0.2532,0.00]\n",
    "bars2 = [-0.0539, 0.0, 0.5707,0.00]\n",
    "bars3 = [0.5705, 0.00, 0.2463,0.00]\n",
    " \n",
    "# Set position of bar on X axis\n",
    "r1 = np.arange(len(bars1))\n",
    "r2 = [x + barWidth for x in r1]\n",
    "r3 = [x + barWidth for x in r2]\n",
    " \n",
    "# Make the plot\n",
    "plt.bar(r1, bars1, color='red', width=barWidth, edgecolor='white', label='PIPS1A')\n",
    "plt.bar(r2, bars2, color='blue', width=barWidth, edgecolor='white', label='PIPS1B')\n",
    "plt.bar(r3, bars3, color='green', width=barWidth, edgecolor='white', label='PIPS2B')\n",
    " \n",
    "# Add xticks on the middle of the group bars\n",
    "plt.ylim(-0.5,1.0)\n",
    "plt.xlabel('$Z_{DR}$ Bias')\n",
    "#plt.ylabel('$dBZ$')\n",
    "plt.xticks([r + barWidth for r in range(len(bars1))], ['CCN 100', 'CCN 500', 'CCN 1000', 'CCN 1500'])\n",
    " \n",
    "# Create legend & Show graphic\n",
    "plt.legend(loc='best')\n",
    "\n",
    "figname = 'Zdr_stats_bias_bar_graph.png'\n",
    "figpath = os.path.join(meteogram_plotdir, figname)\n",
    "plt.savefig(figpath, dpi=300, bbox_inches='tight')\n",
    "plt.show()"
   ]
  },
  {
   "cell_type": "code",
   "execution_count": 98,
   "metadata": {},
   "outputs": [
    {
     "data": {
      "image/png": "[encoded data removed]",
      "text/plain": [
       "<Figure size 432x288 with 1 Axes>"
      ]
     },
     "metadata": {
      "needs_background": "light"
     },
     "output_type": "display_data"
    }
   ],
   "source": [
    "#Zdr Bar Graph Plot for abs bias CCN 1000\n",
    "\n",
    "# libraries\n",
    "import numpy as np\n",
    "import matplotlib.pyplot as plt\n",
    " \n",
    "# set width of bar\n",
    "barWidth = 0.25\n",
    " \n",
    "# set height of bar\n",
    "bars1 = [0.5062, 0.000, 0.6115,0.00]\n",
    "bars2 = [0.3612, 0.0, 0.6562,0.00]\n",
    "bars3 = [0.6562, 0.00, 0.3316,0.00]\n",
    " \n",
    "# Set position of bar on X axis\n",
    "r1 = np.arange(len(bars1))\n",
    "r2 = [x + barWidth for x in r1]\n",
    "r3 = [x + barWidth for x in r2]\n",
    " \n",
    "# Make the plot\n",
    "plt.bar(r1, bars1, color='red', width=barWidth, edgecolor='white', label='PIPS1A')\n",
    "plt.bar(r2, bars2, color='blue', width=barWidth, edgecolor='white', label='PIPS1B')\n",
    "plt.bar(r3, bars3, color='green', width=barWidth, edgecolor='white', label='PIPS2B')\n",
    " \n",
    "# Add xticks on the middle of the group bars\n",
    "plt.ylim(0.00,1.0)\n",
    "plt.xlabel('$Z_{DR}$ Absolute Bias')\n",
    "#plt.ylabel('$dBZ$')\n",
    "plt.xticks([r + barWidth for r in range(len(bars1))], ['CCN 100', 'CCN 500', 'CCN 1000', 'CCN 1500'])\n",
    " \n",
    "# Create legend & Show graphic\n",
    "plt.legend(loc='best')\n",
    "\n",
    "figname = 'Zdr_stats_abs_bias_bar_graph.png'\n",
    "figpath = os.path.join(meteogram_plotdir, figname)\n",
    "plt.savefig(figpath, dpi=300, bbox_inches='tight')\n",
    "plt.show()"
   ]
  },
  {
   "cell_type": "code",
   "execution_count": null,
   "metadata": {},
   "outputs": [],
   "source": []
  }
 ],
 "metadata": {
  "hide_input": false,
  "kernelspec": {
   "display_name": "Python [conda env:pyPIPS]",
   "language": "python",
   "name": "conda-env-pyPIPS-py"
  },
  "language_info": {
   "codemirror_mode": {
    "name": "ipython",
    "version": 3
   },
   "file_extension": ".py",
   "mimetype": "text/x-python",
   "name": "python",
   "nbconvert_exporter": "python",
   "pygments_lexer": "ipython3",
   "version": "3.7.6"
  },
  "toc": {
   "base_numbering": 1,
   "nav_menu": {},
   "number_sections": true,
   "sideBar": true,
   "skip_h1_title": false,
   "title_cell": "Table of Contents",
   "title_sidebar": "Contents",
   "toc_cell": false,
   "toc_position": {},
   "toc_section_display": true,
   "toc_window_display": false
  },
  "varInspector": {
   "cols": {
    "lenName": 16,
    "lenType": 16,
    "lenVar": 40
   },
   "kernels_config": {
    "python": {
     "delete_cmd_postfix": "",
     "delete_cmd_prefix": "del ",
     "library": "var_list.py",
     "varRefreshCmd": "print(var_dic_list())"
    },
    "r": {
     "delete_cmd_postfix": ") ",
     "delete_cmd_prefix": "rm(",
     "library": "var_list.r",
     "varRefreshCmd": "cat(var_dic_list()) "
    }
   },
   "types_to_exclude": [
    "module",
    "function",
    "builtin_function_or_method",
    "instance",
    "_Feature"
   ],
   "window_display": false
  }
 },
 "nbformat": 4,
 "nbformat_minor": 4
}
