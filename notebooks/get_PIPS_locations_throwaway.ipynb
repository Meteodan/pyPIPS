{
 "cells": [
  {
   "cell_type": "code",
   "execution_count": 2,
   "metadata": {},
   "outputs": [
    {
     "name": "stdout",
     "output_type": "stream",
     "text": [
      "\n",
      "## You are using the Python ARM Radar Toolkit (Py-ART), an open source\n",
      "## library for working with weather radar data. Py-ART is partly\n",
      "## supported by the U.S. Department of Energy as part of the Atmospheric\n",
      "## Radiation Measurement (ARM) Climate Research Facility, an Office of\n",
      "## Science user facility.\n",
      "##\n",
      "## If you use this software to prepare a publication, please cite:\n",
      "##\n",
      "##     JJ Helmus and SM Collis, JORS 2016, doi: 10.5334/jors.119\n",
      "\n"
     ]
    },
    {
     "name": "stderr",
     "output_type": "stream",
     "text": [
      "/Users/ddawson/miniconda3/envs/pyPIPS/lib/python3.6/site-packages/pyart/graph/cm.py:104: FutureWarning: elementwise comparison failed; returning scalar instead, but in the future will perform elementwise comparison\n",
      "  if 'red' in spec:\n",
      "/Users/ddawson/miniconda3/envs/pyPIPS/lib/python3.6/site-packages/pyart/graph/cm_colorblind.py:32: FutureWarning: elementwise comparison failed; returning scalar instead, but in the future will perform elementwise comparison\n",
      "  if 'red' in spec:\n"
     ]
    }
   ],
   "source": [
    "import numpy as N\n",
    "import matplotlib\n",
    "import matplotlib.pyplot as plt\n",
    "import matplotlib.cm as cm\n",
    "from datetime import datetime,timedelta\n",
    "from matplotlib.dates import *\n",
    "import pytz as pytz\n",
    "import sys\n",
    "import os\n",
    "nb_dir = os.path.split(os.getcwd())[0]\n",
    "if nb_dir not in sys.path:\n",
    "    sys.path.append(nb_dir)\n",
    "import pyPIPS.thermolib as thermo\n",
    "import pyPIPS.DSDlib as dsd\n",
    "import pyPIPS.disdrometer_module as dis\n",
    "import pyPIPS.radarmodule as radar\n",
    "#import obanmodule as oban\n",
    "import pandas as pd\n",
    "import glob\n",
    "import pyart as pyart\n",
    "from metpy.calc import get_wind_components\n",
    "from metpy.cbook import get_test_data\n",
    "from metpy.plots import StationPlot\n",
    "from metpy.plots.wx_symbols import current_weather, sky_cover\n",
    "from metpy.units import units\n",
    "%matplotlib inline\n",
    "%load_ext autoreload\n",
    "%autoreload 2"
   ]
  },
  {
   "cell_type": "code",
   "execution_count": 31,
   "metadata": {},
   "outputs": [
    {
     "name": "stdout",
     "output_type": "stream",
     "text": [
      "PIPS2A_merged_050117.txt\n",
      "34.6871 deg N, -86.0049 deg W, altitude = 201 m\n",
      "2017-05-01 00:01:07 2017-05-01 15:31:43\n"
     ]
    }
   ],
   "source": [
    "# Read in the disdrometer data file\n",
    "dis_dir = '/Users/dawson29/Dropbox/Projects/VORTEXSE/PIPS_data/2017/PIPS2A_FMCW'\n",
    "disfilenames = ['PIPS2A_merged_050117.txt']\n",
    "\n",
    "for disfilename in disfilenames:\n",
    "\n",
    "    #starttime = '201703251808' # '201703251800'\n",
    "    #stoptime = '201703251808' # '201703251800'\n",
    "    \n",
    "    disfilepath = os.path.join(dis_dir, disfilename)\n",
    "    GPS_lats, GPS_lons, GPS_stats, GPS_alts, dloc = dis.readPIPSloc(disfilepath)\n",
    "    (firstdate, firsttime, datetimefirst), (lastdate, lasttime, datetimelast) = \\\n",
    "        dis.readPIPStimerange(disfilepath)\n",
    "    print(disfilename)\n",
    "    print(\"{:.4f} deg N, {:.4f} deg W, altitude = {:.0f} m\".format(dloc[0], dloc[1], dloc[2]))\n",
    "    print(datetimefirst, datetimelast)\n",
    "    "
   ]
  },
  {
   "cell_type": "code",
   "execution_count": null,
   "metadata": {},
   "outputs": [],
   "source": []
  }
 ],
 "metadata": {
  "anaconda-cloud": {},
  "kernelspec": {
   "display_name": "Python 3",
   "language": "python",
   "name": "python3"
  },
  "language_info": {
   "codemirror_mode": {
    "name": "ipython",
    "version": 3
   },
   "file_extension": ".py",
   "mimetype": "text/x-python",
   "name": "python",
   "nbconvert_exporter": "python",
   "pygments_lexer": "ipython3",
   "version": "3.6.7"
  }
 },
 "nbformat": 4,
 "nbformat_minor": 2
}
