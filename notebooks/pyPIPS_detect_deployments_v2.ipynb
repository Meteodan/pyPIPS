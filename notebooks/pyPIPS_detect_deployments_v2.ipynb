{
 "cells": [
  {
   "cell_type": "markdown",
   "metadata": {},
   "source": [
    "# A testing ground for pyPIPS functionality\n",
    "Testing automatic detection of deployments using time jumps, compass direction changes, and gps speed/location changes"
   ]
  },
  {
   "cell_type": "code",
   "execution_count": 1,
   "metadata": {
    "ExecuteTime": {
     "end_time": "2020-06-24T14:40:32.290220Z",
     "start_time": "2020-06-24T14:40:28.958219Z"
    }
   },
   "outputs": [
    {
     "name": "stdout",
     "output_type": "stream",
     "text": [
      "\n",
      "## You are using the Python ARM Radar Toolkit (Py-ART), an open source\n",
      "## library for working with weather radar data. Py-ART is partly\n",
      "## supported by the U.S. Department of Energy as part of the Atmospheric\n",
      "## Radiation Measurement (ARM) Climate Research Facility, an Office of\n",
      "## Science user facility.\n",
      "##\n",
      "## If you use this software to prepare a publication, please cite:\n",
      "##\n",
      "##     JJ Helmus and SM Collis, JORS 2016, doi: 10.5334/jors.119\n",
      "\n"
     ]
    },
    {
     "name": "stderr",
     "output_type": "stream",
     "text": [
      "/Users/dandawson/Projects/pyCRMtools/pyCRMtools/pycaps/arps_grid.py:8: DeprecationWarning: Please use `map_coordinates` from the `scipy.ndimage` namespace, the `scipy.ndimage.interpolation` namespace is deprecated.\n",
      "  from scipy.ndimage.interpolation import map_coordinates\n"
     ]
    }
   ],
   "source": [
    "import numpy as np\n",
    "import numpy.ma as ma\n",
    "import matplotlib\n",
    "import matplotlib.pyplot as plt\n",
    "import matplotlib.cm as cm\n",
    "import matplotlib.ticker as ticker\n",
    "import matplotlib.dates as dates\n",
    "from mpl_toolkits.axes_grid1 import ImageGrid,make_axes_locatable,host_subplot\n",
    "#from mpl_toolkits.basemap import Basemap\n",
    "from datetime import datetime, timedelta\n",
    "import sys\n",
    "import os\n",
    "import pyPIPS.utils as utils\n",
    "import pyPIPS.thermolib as thermo\n",
    "import pyPIPS.DSDlib as dsd\n",
    "#import pyPIPS.disdrometer_module as dis\n",
    "import pyPIPS.plotmodule as PIPSplot\n",
    "#import pyPIPS.simulator as sim\n",
    "import pyPIPS.pips_io as pipsio\n",
    "import pyPIPS.PIPS as pips\n",
    "import pyPIPS.parsivel_params as pp\n",
    "import pyPIPS.parsivel_qc as pqc\n",
    "import pyPIPS.polarimetric as dualpol\n",
    "from pyCRMtools.modules import plotmodule as plotmod\n",
    "from pyCRMtools.modules import utils as CRMutils\n",
    "# from pyCRMtools.pycaps import arps_read\n",
    "# from pyCRMtools.pycaps import pycaps_fields\n",
    "# from pyCRMtools.pycaps import calvars_radar as radar\n",
    "import pandas as pd\n",
    "import xarray as xr\n",
    "import glob\n",
    "import numpy.random as random\n",
    "from scipy.stats import gamma, uniform\n",
    "from scipy.special import gamma as gammafunc\n",
    "from scipy import ndimage\n",
    "from metpy.plots import StationPlot\n",
    "from metpy.calc import wind_components\n",
    "from metpy.cbook import get_test_data\n",
    "from metpy.plots import StationPlot\n",
    "from metpy.plots.wx_symbols import current_weather, sky_cover\n",
    "from metpy.units import units\n",
    "import cartopy.crs as ccrs\n",
    "import cartopy.feature as feature\n",
    "from natsort import natsorted\n",
    "from pprint import pprint\n",
    "import warnings\n",
    "warnings.simplefilter('ignore')\n",
    "%load_ext autoreload\n",
    "%autoreload 2\n",
    "%matplotlib inline"
   ]
  },
  {
   "cell_type": "code",
   "execution_count": 2,
   "metadata": {},
   "outputs": [],
   "source": [
    "def split_dataset_by_time(ds, time_break_thresh):\n",
    "    time_diff = ds['time'].diff('time', label='lower').astype(np.float)*1.e-9\n",
    "\n",
    "    time_breaks = xr.concat([ds['time'].where(time_diff > time_break_thresh, drop=True), \n",
    "                             ds['time'][-1]], dim='time')\n",
    "    print(time_breaks)\n",
    "\n",
    "    int_indices = range(ds.sizes['time'])\n",
    "    int_ind_da = xr.DataArray(int_indices, coords=[('time', ds.coords['time'].values)])\n",
    "    break1_index = int_ind_da.sel(time=time_breaks[0]).item()\n",
    "\n",
    "    ds_dlist = []\n",
    "    t1 = ds['time'][0]\n",
    "    deploy_num = 1\n",
    "    for time in time_breaks:\n",
    "        t1_datetime = t1.values.astype('datetime64[us]').astype(datetime) # This is insane just to get a datetime\n",
    "        t1_stamp = t1_datetime.strftime('%Y-%m-%d: %H:%M:%S')\n",
    "        t2 = time\n",
    "        t2_datetime = t2.values.astype('datetime64[us]').astype(datetime)\n",
    "        t2_stamp = t2_datetime.strftime('%Y-%m-%d: %H:%M:%S')\n",
    "        print(\"Deployment #{}. Time range: {} -- {}\".format(deploy_num, t1_stamp, t2_stamp))\n",
    "        ds_dlist.append(ds.sel(time=slice(t1, t2)))\n",
    "        deploy_num += 1\n",
    "        if ~(time == time_breaks[-1]):\n",
    "            next_t1_index = int_ind_da.sel(time=time) + 1\n",
    "            t1 = ds['time'].isel(time=next_t1_index)\n",
    "    return ds_dlist"
   ]
  },
  {
   "cell_type": "code",
   "execution_count": null,
   "metadata": {
    "ExecuteTime": {
     "end_time": "2020-06-24T14:40:48.238022Z",
     "start_time": "2020-06-24T14:40:47.848609Z"
    },
    "code_folding": [],
    "scrolled": false
   },
   "outputs": [],
   "source": [
    "PIPS_dir = '/Users/dawson29/Dropbox/PIPS_data/2016/022416/netcdf'\n",
    "deployment_name = 'Test_022416'\n",
    "PIPS_name = 'PIPS1B'\n",
    "parsivel_interval = 10\n",
    "parsivel_filename = 'parsivel_combined_{}_{}_{:d}s.nc'.format(deployment_name, PIPS_name, parsivel_interval)\n",
    "parsivel_filepath = os.path.join(PIPS_dir, parsivel_filename)\n",
    "conv_filename = 'conventional_raw_{}_{}.nc'.format(deployment_name, PIPS_name)\n",
    "conv_filepath = os.path.join(PIPS_dir, conv_filename)\n",
    "parsivel_ds = xr.load_dataset(parsivel_filepath)\n",
    "conv_ds = xr.load_dataset(conv_filepath)"
   ]
  },
  {
   "cell_type": "code",
   "execution_count": null,
   "metadata": {},
   "outputs": [],
   "source": [
    "# Look for big time breaks in the dataset and split the dataset where these breaks occur. Then dump the new\n",
    "# split datasets back out to disk\n",
    "time_break_thresh = 900.\n",
    "\n",
    "conv_ds_dlist = split_dataset_by_time(conv_ds, time_break_thresh)\n",
    "conv_ds_dlist[0]['windspd'].plot()\n",
    "parsivel_ds_dlist = split_dataset_by_time(parsivel_ds, time_break_thresh)\n",
    "parsivel_ds_dlist[0]['windspd'].plot()"
   ]
  },
  {
   "cell_type": "code",
   "execution_count": null,
   "metadata": {},
   "outputs": [],
   "source": [
    "for deploy_num, conv_ds, parsivel_ds in zip(range(1, len(conv_ds_dlist)+1), conv_ds_dlist, parsivel_ds_dlist):\n",
    "    conv_output_filename = 'conventional_raw_{}_{}_D{:d}.nc'.format(deployment_name, PIPS_name, deploy_num)\n",
    "    parsivel_output_filename = 'parsivel_combined_{}_{}_D{:d}_{:d}s.nc'.format(deployment_name, PIPS_name, deploy_num, \n",
    "                                                                               parsivel_interval)\n",
    "    print(\"Writing out \", conv_output_filename)\n",
    "    conv_output_filepath = os.path.join(PIPS_dir, conv_output_filename)\n",
    "    conv_ds.to_netcdf(conv_output_filepath)\n",
    "    print(\"Writing out \", parsivel_output_filename)\n",
    "    parsivel_output_filepath = os.path.join(PIPS_dir, parsivel_output_filename)\n",
    "    parsivel_ds.to_netcdf(parsivel_output_filepath)"
   ]
  },
  {
   "cell_type": "code",
   "execution_count": null,
   "metadata": {},
   "outputs": [],
   "source": [
    "conv_ds_dlist[1]['windspd'].plot()\n",
    "parsivel_ds_dlist[1]['windspd'].plot()"
   ]
  },
  {
   "cell_type": "code",
   "execution_count": null,
   "metadata": {
    "ExecuteTime": {
     "end_time": "2020-06-24T14:40:52.914189Z",
     "start_time": "2020-06-24T14:40:52.601354Z"
    }
   },
   "outputs": [],
   "source": [
    "wind_spd_parsivel = parsivel_ds['windspd']\n",
    "wind_spd_parsivel.plot()"
   ]
  },
  {
   "cell_type": "code",
   "execution_count": null,
   "metadata": {
    "ExecuteTime": {
     "end_time": "2020-06-24T14:40:58.877424Z",
     "start_time": "2020-06-24T14:40:58.530385Z"
    }
   },
   "outputs": [],
   "source": [
    "wind_spd_conv = conv_ds['windspd']\n",
    "wind_spd_conv.plot()"
   ]
  },
  {
   "cell_type": "code",
   "execution_count": null,
   "metadata": {
    "ExecuteTime": {
     "end_time": "2020-06-24T14:42:58.923563Z",
     "start_time": "2020-06-24T14:42:58.632758Z"
    }
   },
   "outputs": [],
   "source": [
    "compass_dir_parsivel = parsivel_ds['compass_dir']\n",
    "compass_dir_parsivel.plot()"
   ]
  },
  {
   "cell_type": "code",
   "execution_count": null,
   "metadata": {
    "ExecuteTime": {
     "end_time": "2020-06-24T14:43:46.867982Z",
     "start_time": "2020-06-24T14:43:46.512597Z"
    }
   },
   "outputs": [],
   "source": [
    "compass_dir_conv = conv_ds['compass_dir']\n",
    "compass_dir_conv.plot()"
   ]
  },
  {
   "cell_type": "code",
   "execution_count": null,
   "metadata": {
    "ExecuteTime": {
     "end_time": "2020-06-24T14:44:39.701029Z",
     "start_time": "2020-06-24T14:44:39.327787Z"
    }
   },
   "outputs": [],
   "source": [
    "wind_dir_conv = conv_ds['winddirabs']\n",
    "wind_dir_conv.plot()"
   ]
  },
  {
   "cell_type": "code",
   "execution_count": null,
   "metadata": {
    "ExecuteTime": {
     "end_time": "2020-06-24T14:45:05.033385Z",
     "start_time": "2020-06-24T14:45:04.718858Z"
    }
   },
   "outputs": [],
   "source": [
    "wind_dir_parsivel = parsivel_ds['winddirabs']\n",
    "wind_dir_parsivel.plot()"
   ]
  },
  {
   "cell_type": "code",
   "execution_count": null,
   "metadata": {
    "ExecuteTime": {
     "end_time": "2020-06-24T17:47:50.563473Z",
     "start_time": "2020-06-24T17:47:50.276178Z"
    }
   },
   "outputs": [],
   "source": [
    "parsivel_angle = pips.calc_parsivel_wind_angle(wind_dir_parsivel, compass_dir_parsivel, parsivel_ds.parsivel_angle)\n",
    "parsivel_angle.plot()"
   ]
  },
  {
   "cell_type": "code",
   "execution_count": null,
   "metadata": {},
   "outputs": [],
   "source": [
    "GPS_spd = conv_ds['GPS_spd']\n",
    "GPS_rolling = GPS_spd.rolling(time=300)\n",
    "GPS_rolling_mean = GPS_rolling.mean()\n",
    "GPS_rolling_mean.plot()"
   ]
  },
  {
   "cell_type": "code",
   "execution_count": null,
   "metadata": {},
   "outputs": [],
   "source": [
    "conv_ds"
   ]
  },
  {
   "cell_type": "code",
   "execution_count": null,
   "metadata": {},
   "outputs": [],
   "source": [
    "# Set up map\n",
    "width_x = 500. # m\n",
    "width_y = 500. # m\n",
    "\n",
    "location = eval(str(conv_ds.location))\n",
    "ctrlat = location[0]\n",
    "ctrlon = location[1]\n",
    "\n",
    "trulon = ctrlon\n",
    "trulat1 = 35.\n",
    "trulat2 = 45.\n",
    "projection = ccrs.LambertConformal(ctrlon, ctrlat, false_easting=width_x/2., false_northing=width_y/2.,\n",
    "                                   standard_parallels=[trulat1, trulat2])\n",
    "\n",
    "fig, ax = plt.subplots(figsize=(10, 10), subplot_kw={'projection': projection})\n",
    "\n",
    "# ax.stock_img()\n",
    "# Add coastlines and states\n",
    "ax.coastlines()\n",
    "land = feature.LAND\n",
    "ax.add_feature(land) # , edgecolor='face', facecolor=feature.COLORS['land'])\n",
    "states = feature.STATES\n",
    "# states = feature.NaturalEarthFeature(category=\"cultural\", scale=\"50m\",\n",
    "#                                      facecolor=\"none\",\n",
    "#                                      name=\"admin_1_states_provinces_shp\")\n",
    "ax.add_feature(states, linewidth=1., edgecolor='k', alpha=0.5)\n",
    "rivers = feature.RIVERS\n",
    "ax.add_feature(rivers, linewidth=0.75, edgecolor='b', alpha=0.5)\n",
    "ax.add_feature(feature.NaturalEarthFeature('cultural', 'roads', '10m'), facecolor='none', edgecolor='b')\n",
    "# # Add counties if desired. TODO: add back more features here after testing\n",
    "\n",
    "# # if runname == pc.runname_list[0] and time == time_list[0]:\n",
    "\n",
    "# print(\"Reading counties from shapefile\")\n",
    "county_shapefile_location = '/Users/dawson29/Projects/pyCRMtools/data/shapefiles/county/countyp020'\n",
    "counties = plotmod.read_shapefile(county_shapefile_location)\n",
    "ax.add_feature(counties, linewidth=0.5, edgecolor='grey', alpha=0.5)\n",
    "\n",
    "# Add urban areas\n",
    "# urban_shapefile_location = '/Users/dawson29/Projects/pyCRMtools/data/shapefiles/urban2/tl_2008_us_cbsa'\n",
    "# urban = plotmod.read_shapefile(urban_shapefile_location)\n",
    "# ax.add_feature(urban, linewidth=0.5, facecolor='purple', edgecolor='none', alpha=0.25)\n",
    "\n",
    "# Add more stuff from GADM database (EDIT: doesn't seem to add anything beyond counties)\n",
    "# gadm_shapefile_location = '/Users/dawson29/Projects/pyCRMtools/data/shapefiles/gadm/gadm36_USA_2'\n",
    "# gadm_shapes = plotmod.read_shapefile(gadm_shapefile_location)\n",
    "# ax.add_feature(gadm_shapes, linewidth=0.5, edgecolor='purple', alpha=0.8)\n",
    "\n",
    "ax.set_xlim(0., width_x)\n",
    "ax.set_ylim(0., width_y)\n",
    "ax.scatter([ctrlon], [ctrlat], color='black', marker='o', facecolor='none', transform=ccrs.PlateCarree())\n",
    "\n",
    "lons = conv_ds['GPS_lon']\n",
    "lats = conv_ds['GPS_lat']\n",
    "ax.scatter(lons, lats, color='black', marker='o', facecolor='none', alpha=0.75, transform=ccrs.PlateCarree())"
   ]
  },
  {
   "cell_type": "code",
   "execution_count": null,
   "metadata": {},
   "outputs": [],
   "source": []
  },
  {
   "cell_type": "code",
   "execution_count": null,
   "metadata": {},
   "outputs": [],
   "source": []
  },
  {
   "cell_type": "code",
   "execution_count": null,
   "metadata": {},
   "outputs": [],
   "source": []
  },
  {
   "cell_type": "code",
   "execution_count": null,
   "metadata": {
    "ExecuteTime": {
     "end_time": "2020-06-23T20:58:13.817825Z",
     "start_time": "2020-06-23T20:58:13.717395Z"
    }
   },
   "outputs": [],
   "source": [
    "print(wind_dir_conv.coords['time'])\n",
    "print(len(wind_dir_conv.time))\n",
    "print(len(np.unique(wind_dir_conv.time.data)))\n",
    "unique_times = np.unique(wind_dir_conv['time'])\n",
    "print(unique_times)\n",
    "duplicated = wind_dir_conv.indexes['time'].duplicated()\n",
    "print(duplicated)\n",
    "dup_indices = np.where(duplicated)[0]\n",
    "print(dup_indices)\n",
    "#duplicated = xr.DataArray(parsivel_ds_read.indexes['time'].duplicated())\n",
    "duplicated_times = wind_dir_conv['time'].isel(time=dup_indices)\n",
    "print(duplicated_times)\n",
    "duplicated_times_only = wind_dir_conv.isel(time=dup_indices)\n",
    "print(duplicated_times_only)"
   ]
  },
  {
   "cell_type": "code",
   "execution_count": null,
   "metadata": {
    "ExecuteTime": {
     "end_time": "2020-06-23T21:09:54.931677Z",
     "start_time": "2020-06-23T21:09:54.842408Z"
    }
   },
   "outputs": [],
   "source": [
    "time_diff = wind_spd_conv['time'].diff('time').astype(np.float)*1.e-9\n",
    "print(time_diff)\n",
    "out_of_order_times = time_diff.where(time_diff < 0, drop=True)['time']\n",
    "print(out_of_order_times)"
   ]
  },
  {
   "cell_type": "code",
   "execution_count": null,
   "metadata": {
    "ExecuteTime": {
     "end_time": "2020-06-23T21:21:19.136212Z",
     "start_time": "2020-06-23T21:21:19.037622Z"
    }
   },
   "outputs": [],
   "source": [
    "int_indices = range(wind_spd_conv.sizes['time'])\n",
    "print(wind_spd_conv.coords['time'].values)\n",
    "int_ind_da = xr.DataArray(int_indices, coords=[('time', wind_spd_conv.coords['time'].values)])\n",
    "print(int_ind_da)"
   ]
  },
  {
   "cell_type": "code",
   "execution_count": null,
   "metadata": {
    "ExecuteTime": {
     "end_time": "2020-06-23T21:22:48.263764Z",
     "start_time": "2020-06-23T21:22:48.181759Z"
    }
   },
   "outputs": [],
   "source": [
    "print(int_ind_da.sel(time='2017-04-30T20:40:18.000000000'))"
   ]
  },
  {
   "cell_type": "code",
   "execution_count": null,
   "metadata": {
    "ExecuteTime": {
     "end_time": "2020-06-23T21:26:00.767618Z",
     "start_time": "2020-06-23T21:26:00.682095Z"
    }
   },
   "outputs": [],
   "source": [
    "print(wind_spd_conv.isel(time=74415))\n",
    "print(wind_spd_conv.isel(time=74416))\n",
    "print(wind_spd_conv.isel(time=74417))\n",
    "print(wind_spd_conv.isel(time=74418))"
   ]
  },
  {
   "cell_type": "code",
   "execution_count": null,
   "metadata": {
    "ExecuteTime": {
     "end_time": "2020-06-23T21:29:09.768836Z",
     "start_time": "2020-06-23T21:29:09.677148Z"
    }
   },
   "outputs": [],
   "source": [
    "time_diff = parsivel_ds['time'].diff('time').astype(np.float)*1.e-9\n",
    "print(time_diff)\n",
    "out_of_order_times = time_diff.where(time_diff < 0, drop=True)['time']\n",
    "print(out_of_order_times)"
   ]
  },
  {
   "cell_type": "code",
   "execution_count": null,
   "metadata": {
    "ExecuteTime": {
     "end_time": "2020-06-23T21:54:20.671583Z",
     "start_time": "2020-06-23T21:54:20.258003Z"
    }
   },
   "outputs": [],
   "source": [
    "PIPS_dir2 = '/Volumes/scr_fast/Projects/VORTEXSE/obsdata/full_PIPS_dataset_new_test/'\n",
    "parsivel_filepath2 = os.path.join(PIPS_dir, 'parsivel_combined_FMCW_2017_043017_PIPS2A_60s.nc')\n",
    "conv_filepath2 = os.path.join(PIPS_dir, 'conventional_raw_FMCW_2017_043017_PIPS2A.nc')\n",
    "parsivel_ds2 = xr.load_dataset(parsivel_filepath2)\n",
    "conv_ds2 = xr.load_dataset(conv_filepath2)"
   ]
  },
  {
   "cell_type": "code",
   "execution_count": null,
   "metadata": {
    "ExecuteTime": {
     "end_time": "2020-06-23T21:54:34.264035Z",
     "start_time": "2020-06-23T21:54:34.180687Z"
    }
   },
   "outputs": [],
   "source": [
    "time_diff = parsivel_ds2['time'].diff('time').astype(np.float)*1.e-9\n",
    "print(time_diff)\n",
    "out_of_order_times = time_diff.where(time_diff < 0, drop=True)['time']\n",
    "print(out_of_order_times)"
   ]
  },
  {
   "cell_type": "code",
   "execution_count": null,
   "metadata": {},
   "outputs": [],
   "source": []
  }
 ],
 "metadata": {
  "anaconda-cloud": {},
  "hide_input": false,
  "kernelspec": {
   "display_name": "Python [conda env:pyPIPS]",
   "language": "python",
   "name": "conda-env-pyPIPS-py"
  },
  "language_info": {
   "codemirror_mode": {
    "name": "ipython",
    "version": 3
   },
   "file_extension": ".py",
   "mimetype": "text/x-python",
   "name": "python",
   "nbconvert_exporter": "python",
   "pygments_lexer": "ipython3",
   "version": "3.10.6"
  },
  "toc": {
   "base_numbering": 1,
   "nav_menu": {},
   "number_sections": true,
   "sideBar": true,
   "skip_h1_title": false,
   "title_cell": "Table of Contents",
   "title_sidebar": "Contents",
   "toc_cell": false,
   "toc_position": {},
   "toc_section_display": true,
   "toc_window_display": false
  },
  "varInspector": {
   "cols": {
    "lenName": 16,
    "lenType": 16,
    "lenVar": 40
   },
   "kernels_config": {
    "python": {
     "delete_cmd_postfix": "",
     "delete_cmd_prefix": "del ",
     "library": "var_list.py",
     "varRefreshCmd": "print(var_dic_list())"
    },
    "r": {
     "delete_cmd_postfix": ") ",
     "delete_cmd_prefix": "rm(",
     "library": "var_list.r",
     "varRefreshCmd": "cat(var_dic_list()) "
    }
   },
   "types_to_exclude": [
    "module",
    "function",
    "builtin_function_or_method",
    "instance",
    "_Feature"
   ],
   "window_display": false
  }
 },
 "nbformat": 4,
 "nbformat_minor": 2
}
