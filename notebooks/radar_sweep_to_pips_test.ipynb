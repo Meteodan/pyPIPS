{
 "cells": [
  {
   "cell_type": "code",
   "execution_count": 6,
   "metadata": {
    "ExecuteTime": {
     "end_time": "2020-01-22T15:48:42.252470Z",
     "start_time": "2020-01-22T15:48:42.163061Z"
    }
   },
   "outputs": [
    {
     "name": "stdout",
     "output_type": "stream",
     "text": [
      "The autoreload extension is already loaded. To reload it, use:\n",
      "  %reload_ext autoreload\n"
     ]
    }
   ],
   "source": [
    "%load_ext autoreload\n",
    "%autoreload 2\n",
    "import numpy as np\n",
    "import numpy.ma as ma\n",
    "import matplotlib\n",
    "import matplotlib.pyplot as plt\n",
    "import matplotlib.cm as cm\n",
    "import matplotlib.ticker as ticker\n",
    "import matplotlib.dates as dates\n",
    "from mpl_toolkits.axes_grid1 import ImageGrid,make_axes_locatable,host_subplot\n",
    "from mpl_toolkits.basemap import Basemap\n",
    "from datetime import datetime, timedelta\n",
    "import sys\n",
    "import os\n",
    "import pyPIPS.utils as utils\n",
    "import pyPIPS.thermolib as thermo\n",
    "import pyPIPS.DSDlib as dsd\n",
    "#import pyPIPS.disdrometer_module as dis\n",
    "import pyPIPS.plotmodule as PIPSplot\n",
    "import pyPIPS.simulator as sim\n",
    "import pyPIPS.pips_io as pipsio\n",
    "import pyPIPS.PIPS as pips\n",
    "import pyPIPS.parsivel_params as pp\n",
    "import pyPIPS.parsivel_qc as pqc\n",
    "import pyPIPS.radarmodule as radar\n",
    "from pyCRMtools.modules import plotmodule as plotmod\n",
    "from pyCRMtools.modules import utils as CRMutils\n",
    "from pyCRMtools.pycaps import arps_read\n",
    "from pyCRMtools.pycaps import pycaps_fields\n",
    "from pyCRMtools.pycaps import calvars_radar as pycaps_radar\n",
    "import pandas as pd\n",
    "import xarray as xr\n",
    "import glob\n",
    "import numpy.random as random\n",
    "from scipy.stats import gamma, uniform\n",
    "from scipy.special import gamma as gammafunc\n",
    "from scipy import ndimage\n",
    "from metpy.plots import StationPlot\n",
    "from metpy.calc import wind_components\n",
    "from metpy.cbook import get_test_data\n",
    "from metpy.plots import StationPlot\n",
    "from metpy.plots.wx_symbols import current_weather, sky_cover\n",
    "from metpy.units import units\n",
    "%matplotlib inline"
   ]
  },
  {
   "cell_type": "code",
   "execution_count": 7,
   "metadata": {
    "ExecuteTime": {
     "end_time": "2020-01-22T15:48:44.564733Z",
     "start_time": "2020-01-22T15:48:44.506377Z"
    },
    "scrolled": true
   },
   "outputs": [],
   "source": [
    "# Define dictionaries, keyed by case date (i.e. '060509', '060709', '060909', '033116'), to store parameters related\n",
    "# to NEXRAD radar data, disdrometer data, and model output, respectively\n",
    "\n",
    "# Case we are looking at right now. Should only have to change this up here and then execute all the cells below\n",
    "# to generate the appropriate analysis\n",
    "casedate = '033116'\n",
    "\n",
    "# Import the file containing the dictionaries needed to gather the radar, disdrometer, and model data.\n",
    "sys.path.append('/Users/dawson29/Dropbox/Projects/VORTEXSE/vortexse_enkf_dsd_study/configs/2016_IOP3')\n",
    "\n",
    "from PIPSsim_1km_dicts import *"
   ]
  },
  {
   "cell_type": "code",
   "execution_count": 8,
   "metadata": {
    "ExecuteTime": {
     "end_time": "2020-01-22T15:48:46.425515Z",
     "start_time": "2020-01-22T15:48:45.954451Z"
    }
   },
   "outputs": [
    {
     "name": "stdout",
     "output_type": "stream",
     "text": [
      "Reading file: /Users/ddawson/Dropbox/Projects/VORTEXSE/obs_data/PIPS/2016/IOP3/PIPS_1A_IOP_3_D1.txt\n",
      "GPS time: Thu Mar 31 22:12:03 2016, Logger time: Thu Mar 31 22:12:00 2016\n",
      "GPS Offset: 0:00:03\n"
     ]
    }
   ],
   "source": [
    "# Read in the PIPS data for the first probe for testing\n",
    "dis_dict = init_dis_dict[casedate]\n",
    "dirname = dis_dict['dis_dir']\n",
    "filename = dis_dict['disfilenames'][0]\n",
    "filepath = os.path.join(dirname, filename)\n",
    "print(\"Reading file: {}\".format(filepath))\n",
    "conv_df, parsivel_df, vd_matrix_da = pipsio.read_PIPS(filepath)"
   ]
  },
  {
   "cell_type": "code",
   "execution_count": 10,
   "metadata": {
    "ExecuteTime": {
     "end_time": "2020-01-22T15:52:42.777252Z",
     "start_time": "2020-01-22T15:51:44.962109Z"
    },
    "scrolled": true
   },
   "outputs": [
    {
     "name": "stderr",
     "output_type": "stream",
     "text": [
      "/Users/dawson29/miniconda3/envs/pyPIPS/lib/python3.7/site-packages/PyNIO/Nio.py:371: DeprecationWarning: The NPY_CHAR type_num is deprecated. Please port your code to use NPY_STRING instead.\n",
      "  ret  = self._obj.get_value()\n"
     ]
    },
    {
     "name": "stdout",
     "output_type": "stream",
     "text": [
      "Opening file:  /Users/ddawson/Dropbox/Projects/VORTEXSE/obs_data/NEXRAD/IOP3_2016/KGWX/CFRadial/cfrad.20160331_232540.010_to_20160331_232942.705_KGWX_Surveillance_SUR.nc\n",
      "Requested elevation angle  0.5\n",
      "Actual elevation angle at start of sweep:  0.83496094\n",
      "Time of sweep =  2016-03-31 23:25:40 \n",
      "Number of gates:  1832\n",
      "Radar lat,lon,alt [33.89691544] [-88.32919312] [179.]\n",
      "Gatewidth  250.0\n",
      "Radar beam width (degrees): 0.89\n",
      "Number of azimuths in sweep  720\n",
      "Opening file:  /Users/ddawson/Dropbox/Projects/VORTEXSE/obs_data/NEXRAD/IOP3_2016/KGWX/CFRadial/cfrad.20160331_224349.896_to_20160331_224806.980_KGWX_Surveillance_SUR.nc\n"
     ]
    },
    {
     "name": "stderr",
     "output_type": "stream",
     "text": [
      "/Users/dawson29/miniconda3/envs/pyPIPS/lib/python3.7/site-packages/PyNIO/Nio.py:371: DeprecationWarning: The NPY_CHAR type_num is deprecated. Please port your code to use NPY_STRING instead.\n",
      "  ret  = self._obj.get_value()\n"
     ]
    },
    {
     "name": "stdout",
     "output_type": "stream",
     "text": [
      "Requested elevation angle  0.5\n",
      "Actual elevation angle at start of sweep:  0.87890625\n",
      "Time of sweep =  2016-03-31 22:43:49 \n",
      "Number of gates:  1832\n",
      "Radar lat,lon,alt [33.89691544] [-88.32919312] [179.]\n",
      "Gatewidth  250.0\n",
      "Radar beam width (degrees): 0.89\n",
      "Number of azimuths in sweep  720\n",
      "Opening file:  /Users/ddawson/Dropbox/Projects/VORTEXSE/obs_data/NEXRAD/IOP3_2016/KGWX/CFRadial/cfrad.20160331_233553.663_to_20160331_234010.581_KGWX_Surveillance_SUR.nc\n"
     ]
    },
    {
     "name": "stderr",
     "output_type": "stream",
     "text": [
      "/Users/dawson29/miniconda3/envs/pyPIPS/lib/python3.7/site-packages/PyNIO/Nio.py:371: DeprecationWarning: The NPY_CHAR type_num is deprecated. Please port your code to use NPY_STRING instead.\n",
      "  ret  = self._obj.get_value()\n"
     ]
    },
    {
     "name": "stdout",
     "output_type": "stream",
     "text": [
      "Requested elevation angle  0.5\n",
      "Actual elevation angle at start of sweep:  0.87890625\n",
      "Time of sweep =  2016-03-31 23:35:53 \n",
      "Number of gates:  1832\n",
      "Radar lat,lon,alt [33.89691544] [-88.32919312] [179.]\n",
      "Gatewidth  250.0\n",
      "Radar beam width (degrees): 0.89\n",
      "Number of azimuths in sweep  720\n"
     ]
    },
    {
     "name": "stderr",
     "output_type": "stream",
     "text": [
      "/Users/dawson29/miniconda3/envs/pyPIPS/lib/python3.7/site-packages/PyNIO/Nio.py:371: DeprecationWarning: The NPY_CHAR type_num is deprecated. Please port your code to use NPY_STRING instead.\n",
      "  ret  = self._obj.get_value()\n",
      "/Users/dawson29/miniconda3/envs/pyPIPS/lib/python3.7/site-packages/PyNIO/Nio.py:371: DeprecationWarning: The NPY_CHAR type_num is deprecated. Please port your code to use NPY_STRING instead.\n",
      "  ret  = self._obj.get_value()\n"
     ]
    },
    {
     "name": "stdout",
     "output_type": "stream",
     "text": [
      "Opening file:  /Users/ddawson/Dropbox/Projects/VORTEXSE/obs_data/NEXRAD/IOP3_2016/KGWX/CFRadial/cfrad.20160331_223849.284_to_20160331_224244.646_KGWX_Surveillance_SUR.nc\n",
      "Requested elevation angle  0.5\n",
      "Actual elevation angle at start of sweep:  0.83496094\n",
      "Time of sweep =  2016-03-31 22:38:49 \n",
      "Number of gates:  1832\n",
      "Radar lat,lon,alt [33.89691544] [-88.32919312] [179.]\n",
      "Gatewidth  250.0\n",
      "Radar beam width (degrees): 0.89\n",
      "Number of azimuths in sweep  720\n"
     ]
    },
    {
     "name": "stderr",
     "output_type": "stream",
     "text": [
      "/Users/dawson29/miniconda3/envs/pyPIPS/lib/python3.7/site-packages/PyNIO/Nio.py:371: DeprecationWarning: The NPY_CHAR type_num is deprecated. Please port your code to use NPY_STRING instead.\n",
      "  ret  = self._obj.get_value()\n",
      "/Users/dawson29/miniconda3/envs/pyPIPS/lib/python3.7/site-packages/PyNIO/Nio.py:371: DeprecationWarning: The NPY_CHAR type_num is deprecated. Please port your code to use NPY_STRING instead.\n",
      "  ret  = self._obj.get_value()\n",
      "/Users/dawson29/miniconda3/envs/pyPIPS/lib/python3.7/site-packages/PyNIO/Nio.py:371: DeprecationWarning: The NPY_CHAR type_num is deprecated. Please port your code to use NPY_STRING instead.\n",
      "  ret  = self._obj.get_value()\n"
     ]
    },
    {
     "name": "stdout",
     "output_type": "stream",
     "text": [
      "Opening file:  /Users/ddawson/Dropbox/Projects/VORTEXSE/obs_data/NEXRAD/IOP3_2016/KGWX/CFRadial/cfrad.20160331_222848.491_to_20160331_223242.346_KGWX_Surveillance_SUR.nc\n",
      "Requested elevation angle  0.5\n",
      "Actual elevation angle at start of sweep:  0.87890625\n",
      "Time of sweep =  2016-03-31 22:28:48 \n",
      "Number of gates:  1832\n",
      "Radar lat,lon,alt [33.89691544] [-88.32919312] [179.]\n",
      "Gatewidth  250.0\n",
      "Radar beam width (degrees): 0.89\n",
      "Number of azimuths in sweep  720\n"
     ]
    },
    {
     "name": "stderr",
     "output_type": "stream",
     "text": [
      "/Users/dawson29/miniconda3/envs/pyPIPS/lib/python3.7/site-packages/PyNIO/Nio.py:371: DeprecationWarning: The NPY_CHAR type_num is deprecated. Please port your code to use NPY_STRING instead.\n",
      "  ret  = self._obj.get_value()\n",
      "/Users/dawson29/miniconda3/envs/pyPIPS/lib/python3.7/site-packages/PyNIO/Nio.py:371: DeprecationWarning: The NPY_CHAR type_num is deprecated. Please port your code to use NPY_STRING instead.\n",
      "  ret  = self._obj.get_value()\n"
     ]
    },
    {
     "name": "stdout",
     "output_type": "stream",
     "text": [
      "Opening file:  /Users/ddawson/Dropbox/Projects/VORTEXSE/obs_data/NEXRAD/IOP3_2016/KGWX/CFRadial/cfrad.20160331_225928.203_to_20160331_230336.351_KGWX_Surveillance_SUR.nc\n",
      "Requested elevation angle  0.5\n",
      "Actual elevation angle at start of sweep:  0.87890625\n",
      "Time of sweep =  2016-03-31 22:59:28 \n",
      "Number of gates:  1832\n",
      "Radar lat,lon,alt [33.89691544] [-88.32919312] [179.]\n",
      "Gatewidth  250.0\n",
      "Radar beam width (degrees): 0.89\n",
      "Number of azimuths in sweep  720\n"
     ]
    },
    {
     "name": "stderr",
     "output_type": "stream",
     "text": [
      "/Users/dawson29/miniconda3/envs/pyPIPS/lib/python3.7/site-packages/PyNIO/Nio.py:371: DeprecationWarning: The NPY_CHAR type_num is deprecated. Please port your code to use NPY_STRING instead.\n",
      "  ret  = self._obj.get_value()\n",
      "/Users/dawson29/miniconda3/envs/pyPIPS/lib/python3.7/site-packages/PyNIO/Nio.py:371: DeprecationWarning: The NPY_CHAR type_num is deprecated. Please port your code to use NPY_STRING instead.\n",
      "  ret  = self._obj.get_value()\n"
     ]
    },
    {
     "name": "stdout",
     "output_type": "stream",
     "text": [
      "Opening file:  /Users/ddawson/Dropbox/Projects/VORTEXSE/obs_data/NEXRAD/IOP3_2016/KGWX/CFRadial/cfrad.20160331_230443.929_to_20160331_230904.369_KGWX_Surveillance_SUR.nc\n",
      "Requested elevation angle  0.5\n",
      "Actual elevation angle at start of sweep:  0.8129883\n",
      "Time of sweep =  2016-03-31 23:04:43 \n",
      "Number of gates:  1832\n",
      "Radar lat,lon,alt [33.89691544] [-88.32919312] [179.]\n",
      "Gatewidth  250.0\n",
      "Radar beam width (degrees): 0.89\n",
      "Number of azimuths in sweep  720\n"
     ]
    },
    {
     "name": "stderr",
     "output_type": "stream",
     "text": [
      "/Users/dawson29/miniconda3/envs/pyPIPS/lib/python3.7/site-packages/PyNIO/Nio.py:371: DeprecationWarning: The NPY_CHAR type_num is deprecated. Please port your code to use NPY_STRING instead.\n",
      "  ret  = self._obj.get_value()\n",
      "/Users/dawson29/miniconda3/envs/pyPIPS/lib/python3.7/site-packages/PyNIO/Nio.py:371: DeprecationWarning: The NPY_CHAR type_num is deprecated. Please port your code to use NPY_STRING instead.\n",
      "  ret  = self._obj.get_value()\n",
      "/Users/dawson29/miniconda3/envs/pyPIPS/lib/python3.7/site-packages/PyNIO/Nio.py:371: DeprecationWarning: The NPY_CHAR type_num is deprecated. Please port your code to use NPY_STRING instead.\n",
      "  ret  = self._obj.get_value()\n"
     ]
    },
    {
     "name": "stdout",
     "output_type": "stream",
     "text": [
      "Opening file:  /Users/ddawson/Dropbox/Projects/VORTEXSE/obs_data/NEXRAD/IOP3_2016/KGWX/CFRadial/cfrad.20160331_225416.507_to_20160331_225824.478_KGWX_Surveillance_SUR.nc\n",
      "Requested elevation angle  0.5\n",
      "Actual elevation angle at start of sweep:  0.87890625\n",
      "Time of sweep =  2016-03-31 22:54:16 \n",
      "Number of gates:  1832\n",
      "Radar lat,lon,alt [33.89691544] [-88.32919312] [179.]\n",
      "Gatewidth  250.0\n",
      "Radar beam width (degrees): 0.89\n",
      "Number of azimuths in sweep  720\n",
      "Opening file:  /Users/ddawson/Dropbox/Projects/VORTEXSE/obs_data/NEXRAD/IOP3_2016/KGWX/CFRadial/cfrad.20160331_231009.612_to_20160331_231422.770_KGWX_Surveillance_SUR.nc\n"
     ]
    },
    {
     "name": "stderr",
     "output_type": "stream",
     "text": [
      "/Users/dawson29/miniconda3/envs/pyPIPS/lib/python3.7/site-packages/PyNIO/Nio.py:371: DeprecationWarning: The NPY_CHAR type_num is deprecated. Please port your code to use NPY_STRING instead.\n",
      "  ret  = self._obj.get_value()\n"
     ]
    },
    {
     "name": "stdout",
     "output_type": "stream",
     "text": [
      "Requested elevation angle  0.5\n",
      "Actual elevation angle at start of sweep:  0.83496094\n",
      "Time of sweep =  2016-03-31 23:10:09 \n",
      "Number of gates:  1832\n",
      "Radar lat,lon,alt [33.89691544] [-88.32919312] [179.]\n",
      "Gatewidth  250.0\n",
      "Radar beam width (degrees): 0.89\n",
      "Number of azimuths in sweep  720\n",
      "Opening file:  /Users/ddawson/Dropbox/Projects/VORTEXSE/obs_data/NEXRAD/IOP3_2016/KGWX/CFRadial/cfrad.20160331_232035.774_to_20160331_232438.497_KGWX_Surveillance_SUR.nc\n"
     ]
    },
    {
     "name": "stderr",
     "output_type": "stream",
     "text": [
      "/Users/dawson29/miniconda3/envs/pyPIPS/lib/python3.7/site-packages/PyNIO/Nio.py:371: DeprecationWarning: The NPY_CHAR type_num is deprecated. Please port your code to use NPY_STRING instead.\n",
      "  ret  = self._obj.get_value()\n"
     ]
    },
    {
     "name": "stdout",
     "output_type": "stream",
     "text": [
      "Requested elevation angle  0.5\n",
      "Actual elevation angle at start of sweep:  0.87890625\n",
      "Time of sweep =  2016-03-31 23:20:35 \n",
      "Number of gates:  1832\n",
      "Radar lat,lon,alt [33.89691544] [-88.32919312] [179.]\n",
      "Gatewidth  250.0\n",
      "Radar beam width (degrees): 0.89\n",
      "Number of azimuths in sweep  720\n",
      "Opening file:  /Users/ddawson/Dropbox/Projects/VORTEXSE/obs_data/NEXRAD/IOP3_2016/KGWX/CFRadial/cfrad.20160331_233044.114_to_20160331_233446.376_KGWX_Surveillance_SUR.nc\n"
     ]
    },
    {
     "name": "stderr",
     "output_type": "stream",
     "text": [
      "/Users/dawson29/miniconda3/envs/pyPIPS/lib/python3.7/site-packages/PyNIO/Nio.py:371: DeprecationWarning: The NPY_CHAR type_num is deprecated. Please port your code to use NPY_STRING instead.\n",
      "  ret  = self._obj.get_value()\n"
     ]
    },
    {
     "name": "stdout",
     "output_type": "stream",
     "text": [
      "Requested elevation angle  0.5\n",
      "Actual elevation angle at start of sweep:  0.87890625\n",
      "Time of sweep =  2016-03-31 23:30:44 \n",
      "Number of gates:  1832\n",
      "Radar lat,lon,alt [33.89691544] [-88.32919312] [179.]\n",
      "Gatewidth  250.0\n",
      "Radar beam width (degrees): 0.89\n",
      "Number of azimuths in sweep  720\n",
      "Opening file:  /Users/ddawson/Dropbox/Projects/VORTEXSE/obs_data/NEXRAD/IOP3_2016/KGWX/CFRadial/cfrad.20160331_221946.379_to_20160331_222307.878_KGWX_Surveillance_SUR.nc\n"
     ]
    },
    {
     "name": "stderr",
     "output_type": "stream",
     "text": [
      "/Users/dawson29/miniconda3/envs/pyPIPS/lib/python3.7/site-packages/PyNIO/Nio.py:371: DeprecationWarning: The NPY_CHAR type_num is deprecated. Please port your code to use NPY_STRING instead.\n",
      "  ret  = self._obj.get_value()\n"
     ]
    },
    {
     "name": "stdout",
     "output_type": "stream",
     "text": [
      "Requested elevation angle  0.5\n",
      "Actual elevation angle at start of sweep:  0.87890625\n",
      "Time of sweep =  2016-03-31 22:19:46 \n",
      "Number of gates:  1832\n",
      "Radar lat,lon,alt [33.89691544] [-88.32919312] [179.]\n",
      "Gatewidth  250.0\n",
      "Radar beam width (degrees): 0.89\n",
      "Number of azimuths in sweep  720\n",
      "Opening file:  /Users/ddawson/Dropbox/Projects/VORTEXSE/obs_data/NEXRAD/IOP3_2016/KGWX/CFRadial/cfrad.20160331_221324.459_to_20160331_221637.372_KGWX_Surveillance_SUR.nc\n"
     ]
    },
    {
     "name": "stderr",
     "output_type": "stream",
     "text": [
      "/Users/dawson29/miniconda3/envs/pyPIPS/lib/python3.7/site-packages/PyNIO/Nio.py:371: DeprecationWarning: The NPY_CHAR type_num is deprecated. Please port your code to use NPY_STRING instead.\n",
      "  ret  = self._obj.get_value()\n"
     ]
    },
    {
     "name": "stdout",
     "output_type": "stream",
     "text": [
      "Requested elevation angle  0.5\n",
      "Actual elevation angle at start of sweep:  0.87890625\n",
      "Time of sweep =  2016-03-31 22:13:24 \n",
      "Number of gates:  1832\n",
      "Radar lat,lon,alt [33.89691544] [-88.32919312] [179.]\n",
      "Gatewidth  250.0\n",
      "Radar beam width (degrees): 0.89\n",
      "Number of azimuths in sweep  720\n"
     ]
    },
    {
     "name": "stderr",
     "output_type": "stream",
     "text": [
      "/Users/dawson29/miniconda3/envs/pyPIPS/lib/python3.7/site-packages/PyNIO/Nio.py:371: DeprecationWarning: The NPY_CHAR type_num is deprecated. Please port your code to use NPY_STRING instead.\n",
      "  ret  = self._obj.get_value()\n"
     ]
    },
    {
     "name": "stdout",
     "output_type": "stream",
     "text": [
      "Opening file:  /Users/ddawson/Dropbox/Projects/VORTEXSE/obs_data/NEXRAD/IOP3_2016/KGWX/CFRadial/cfrad.20160331_220034.035_to_20160331_220342.729_KGWX_Surveillance_SUR.nc\n",
      "Requested elevation angle  0.5\n",
      "Actual elevation angle at start of sweep:  0.87890625\n",
      "Time of sweep =  2016-03-31 22:00:34 \n",
      "Number of gates:  1832\n",
      "Radar lat,lon,alt [33.89691544] [-88.32919312] [179.]\n",
      "Gatewidth  250.0\n",
      "Radar beam width (degrees): 0.89\n",
      "Number of azimuths in sweep  720\n"
     ]
    },
    {
     "name": "stderr",
     "output_type": "stream",
     "text": [
      "/Users/dawson29/miniconda3/envs/pyPIPS/lib/python3.7/site-packages/PyNIO/Nio.py:371: DeprecationWarning: The NPY_CHAR type_num is deprecated. Please port your code to use NPY_STRING instead.\n",
      "  ret  = self._obj.get_value()\n",
      "/Users/dawson29/miniconda3/envs/pyPIPS/lib/python3.7/site-packages/PyNIO/Nio.py:371: DeprecationWarning: The NPY_CHAR type_num is deprecated. Please port your code to use NPY_STRING instead.\n",
      "  ret  = self._obj.get_value()\n",
      "/Users/dawson29/miniconda3/envs/pyPIPS/lib/python3.7/site-packages/PyNIO/Nio.py:371: DeprecationWarning: The NPY_CHAR type_num is deprecated. Please port your code to use NPY_STRING instead.\n",
      "  ret  = self._obj.get_value()\n",
      "/Users/dawson29/miniconda3/envs/pyPIPS/lib/python3.7/site-packages/PyNIO/Nio.py:371: DeprecationWarning: The NPY_CHAR type_num is deprecated. Please port your code to use NPY_STRING instead.\n",
      "  ret  = self._obj.get_value()\n"
     ]
    },
    {
     "name": "stdout",
     "output_type": "stream",
     "text": [
      "Opening file:  /Users/ddawson/Dropbox/Projects/VORTEXSE/obs_data/NEXRAD/IOP3_2016/KGWX/CFRadial/cfrad.20160331_231525.783_to_20160331_231933.619_KGWX_Surveillance_SUR.nc\n",
      "Requested elevation angle  0.5\n",
      "Actual elevation angle at start of sweep:  0.87890625\n",
      "Time of sweep =  2016-03-31 23:15:25 \n",
      "Number of gates:  1832\n",
      "Radar lat,lon,alt [33.89691544] [-88.32919312] [179.]\n",
      "Gatewidth  250.0\n",
      "Radar beam width (degrees): 0.89\n",
      "Number of azimuths in sweep  720\n",
      "Opening file:  /Users/ddawson/Dropbox/Projects/VORTEXSE/obs_data/NEXRAD/IOP3_2016/KGWX/CFRadial/cfrad.20160331_223343.424_to_20160331_223746.038_KGWX_Surveillance_SUR.nc\n"
     ]
    },
    {
     "name": "stderr",
     "output_type": "stream",
     "text": [
      "/Users/dawson29/miniconda3/envs/pyPIPS/lib/python3.7/site-packages/PyNIO/Nio.py:371: DeprecationWarning: The NPY_CHAR type_num is deprecated. Please port your code to use NPY_STRING instead.\n",
      "  ret  = self._obj.get_value()\n"
     ]
    },
    {
     "name": "stdout",
     "output_type": "stream",
     "text": [
      "Requested elevation angle  0.5\n",
      "Actual elevation angle at start of sweep:  0.87890625\n",
      "Time of sweep =  2016-03-31 22:33:43 \n",
      "Number of gates:  1832\n",
      "Radar lat,lon,alt [33.89691544] [-88.32919312] [179.]\n",
      "Gatewidth  250.0\n",
      "Radar beam width (degrees): 0.89\n",
      "Number of azimuths in sweep  720\n"
     ]
    },
    {
     "name": "stderr",
     "output_type": "stream",
     "text": [
      "/Users/dawson29/miniconda3/envs/pyPIPS/lib/python3.7/site-packages/PyNIO/Nio.py:371: DeprecationWarning: The NPY_CHAR type_num is deprecated. Please port your code to use NPY_STRING instead.\n",
      "  ret  = self._obj.get_value()\n",
      "/Users/dawson29/miniconda3/envs/pyPIPS/lib/python3.7/site-packages/PyNIO/Nio.py:371: DeprecationWarning: The NPY_CHAR type_num is deprecated. Please port your code to use NPY_STRING instead.\n",
      "  ret  = self._obj.get_value()\n"
     ]
    },
    {
     "name": "stdout",
     "output_type": "stream",
     "text": [
      "Opening file:  /Users/ddawson/Dropbox/Projects/VORTEXSE/obs_data/NEXRAD/IOP3_2016/KGWX/CFRadial/cfrad.20160331_224910.491_to_20160331_225313.332_KGWX_Surveillance_SUR.nc\n",
      "Requested elevation angle  0.5\n",
      "Actual elevation angle at start of sweep:  0.87890625\n",
      "Time of sweep =  2016-03-31 22:49:10 \n",
      "Number of gates:  1832\n",
      "Radar lat,lon,alt [33.89691544] [-88.32919312] [179.]\n",
      "Gatewidth  250.0\n",
      "Radar beam width (degrees): 0.89\n",
      "Number of azimuths in sweep  720\n"
     ]
    },
    {
     "name": "stderr",
     "output_type": "stream",
     "text": [
      "/Users/dawson29/miniconda3/envs/pyPIPS/lib/python3.7/site-packages/PyNIO/Nio.py:371: DeprecationWarning: The NPY_CHAR type_num is deprecated. Please port your code to use NPY_STRING instead.\n",
      "  ret  = self._obj.get_value()\n",
      "/Users/dawson29/miniconda3/envs/pyPIPS/lib/python3.7/site-packages/PyNIO/Nio.py:371: DeprecationWarning: The NPY_CHAR type_num is deprecated. Please port your code to use NPY_STRING instead.\n",
      "  ret  = self._obj.get_value()\n"
     ]
    },
    {
     "name": "stdout",
     "output_type": "stream",
     "text": [
      "Opening file:  /Users/ddawson/Dropbox/Projects/VORTEXSE/obs_data/NEXRAD/IOP3_2016/KGWX/CFRadial/cfrad.20160331_220855.137_to_20160331_221221.493_KGWX_Surveillance_SUR.nc\n",
      "Requested elevation angle  0.5\n",
      "Actual elevation angle at start of sweep:  0.87890625\n",
      "Time of sweep =  2016-03-31 22:08:55 \n",
      "Number of gates:  1832\n",
      "Radar lat,lon,alt [33.89691544] [-88.32919312] [179.]\n",
      "Gatewidth  250.0\n",
      "Radar beam width (degrees): 0.89\n",
      "Number of azimuths in sweep  720\n"
     ]
    },
    {
     "name": "stderr",
     "output_type": "stream",
     "text": [
      "/Users/dawson29/miniconda3/envs/pyPIPS/lib/python3.7/site-packages/PyNIO/Nio.py:371: DeprecationWarning: The NPY_CHAR type_num is deprecated. Please port your code to use NPY_STRING instead.\n",
      "  ret  = self._obj.get_value()\n",
      "/Users/dawson29/miniconda3/envs/pyPIPS/lib/python3.7/site-packages/PyNIO/Nio.py:371: DeprecationWarning: The NPY_CHAR type_num is deprecated. Please port your code to use NPY_STRING instead.\n",
      "  ret  = self._obj.get_value()\n"
     ]
    },
    {
     "name": "stdout",
     "output_type": "stream",
     "text": [
      "Opening file:  /Users/ddawson/Dropbox/Projects/VORTEXSE/obs_data/NEXRAD/IOP3_2016/KGWX/CFRadial/cfrad.20160331_220444.462_to_20160331_220752.822_KGWX_Surveillance_SUR.nc\n",
      "Requested elevation angle  0.5\n",
      "Actual elevation angle at start of sweep:  0.87890625\n",
      "Time of sweep =  2016-03-31 22:04:44 \n",
      "Number of gates:  1832\n",
      "Radar lat,lon,alt [33.89691544] [-88.32919312] [179.]\n",
      "Gatewidth  250.0\n",
      "Radar beam width (degrees): 0.89\n",
      "Number of azimuths in sweep  720\n"
     ]
    },
    {
     "name": "stderr",
     "output_type": "stream",
     "text": [
      "/Users/dawson29/miniconda3/envs/pyPIPS/lib/python3.7/site-packages/PyNIO/Nio.py:371: DeprecationWarning: The NPY_CHAR type_num is deprecated. Please port your code to use NPY_STRING instead.\n",
      "  ret  = self._obj.get_value()\n",
      "/Users/dawson29/miniconda3/envs/pyPIPS/lib/python3.7/site-packages/PyNIO/Nio.py:371: DeprecationWarning: The NPY_CHAR type_num is deprecated. Please port your code to use NPY_STRING instead.\n",
      "  ret  = self._obj.get_value()\n",
      "/Users/dawson29/miniconda3/envs/pyPIPS/lib/python3.7/site-packages/PyNIO/Nio.py:371: DeprecationWarning: The NPY_CHAR type_num is deprecated. Please port your code to use NPY_STRING instead.\n",
      "  ret  = self._obj.get_value()\n"
     ]
    },
    {
     "name": "stdout",
     "output_type": "stream",
     "text": [
      "Opening file:  /Users/ddawson/Dropbox/Projects/VORTEXSE/obs_data/NEXRAD/IOP3_2016/KGWX/CFRadial/cfrad.20160331_222409.899_to_20160331_222745.586_KGWX_Surveillance_SUR.nc\n",
      "Requested elevation angle  0.5\n",
      "Actual elevation angle at start of sweep:  0.87890625\n",
      "Time of sweep =  2016-03-31 22:24:09 \n",
      "Number of gates:  1832\n",
      "Radar lat,lon,alt [33.89691544] [-88.32919312] [179.]\n",
      "Gatewidth  250.0\n",
      "Radar beam width (degrees): 0.89\n",
      "Number of azimuths in sweep  720\n"
     ]
    },
    {
     "name": "stderr",
     "output_type": "stream",
     "text": [
      "/Users/dawson29/miniconda3/envs/pyPIPS/lib/python3.7/site-packages/PyNIO/Nio.py:371: DeprecationWarning: The NPY_CHAR type_num is deprecated. Please port your code to use NPY_STRING instead.\n",
      "  ret  = self._obj.get_value()\n"
     ]
    }
   ],
   "source": [
    "# Read sweep files\n",
    "radar_name = init_radar_dict[casedate]['radname']\n",
    "radar_dir = init_radar_dict[casedate]['radardir']\n",
    "starttime = init_radar_dict[casedate]['radstarttimestamp']\n",
    "stoptime = init_radar_dict[casedate]['radstoptimestamp']\n",
    "field_names = init_radar_dict[casedate]['fieldnames']\n",
    "el_req = init_radar_dict[casedate]['el_req']\n",
    "\n",
    "radar_dict = radar.read_sweeps(radar_name, radar_dir, starttime, stoptime, field_names=field_names, \n",
    "                               el_req=el_req, compute_kdp=False)"
   ]
  },
  {
   "cell_type": "code",
   "execution_count": 63,
   "metadata": {
    "ExecuteTime": {
     "end_time": "2020-01-22T19:22:49.462578Z",
     "start_time": "2020-01-22T19:22:49.245908Z"
    }
   },
   "outputs": [
    {
     "name": "stdout",
     "output_type": "stream",
     "text": [
      "altitude:\n",
      "\tdata: <ndarray of type: float64 and shape: (1,)>\n",
      "\tlong_name: altitude\n",
      "\tunits: meters\n",
      "\t_FillValue: -9999.0\n",
      "\tpositive: up\n",
      "altitude_agl:\n",
      "\tdata: <ndarray of type: float64 and shape: (1,)>\n",
      "\tlong_name: altitude_above_ground_level\n",
      "\tunits: meters\n",
      "\t_FillValue: -9999.0\n",
      "\tpositive: up\n",
      "antenna_transition:\n",
      "\tdata: <ndarray of type: int8 and shape: (720,)>\n",
      "\tlong_name: antenna_is_in_transition_between_sweeps\n",
      "\tunits: \n",
      "\t_FillValue: -128\n",
      "\tcomment: 1 if antenna is in transition, 0 otherwise\n",
      "azimuth:\n",
      "\tdata: <ndarray of type: float32 and shape: (720,)>\n",
      "\tlong_name: ray_azimuth_angle\n",
      "\tunits: degrees\n",
      "\t_FillValue: -9999.0\n",
      "elevation:\n",
      "\tdata: <ndarray of type: float32 and shape: (720,)>\n",
      "\tlong_name: ray_elevation_angle\n",
      "\tunits: degrees\n",
      "\t_FillValue: -9999.0\n",
      "\tpositive: up\n",
      "fields:\n",
      "\tREF:\n",
      "\t\tdata: <ndarray of type: float32 and shape: (720, 1832)>\n",
      "\t\tlong_name: radar_reflectivity\n",
      "\t\tstandard_name: equivalent_reflectivity_factor\n",
      "\t\tunits: dBZ\n",
      "\t\tsampling_ratio: 1.0\n",
      "\t\t_FillValue: -128\n",
      "\t\tgrid_mapping: grid_mapping\n",
      "\t\tcoordinates: time range\n",
      "\tVEL:\n",
      "\t\tdata: <ndarray of type: float32 and shape: (720, 1832)>\n",
      "\t\tlong_name: radial_velocity\n",
      "\t\tstandard_name: radial_velocity_of_scatterers_away_from_instrument\n",
      "\t\tunits: m/s\n",
      "\t\tsampling_ratio: 1.0\n",
      "\t\t_FillValue: -128\n",
      "\t\tgrid_mapping: grid_mapping\n",
      "\t\tcoordinates: time range\n",
      "\tSW:\n",
      "\t\tdata: <ndarray of type: float32 and shape: (720, 1832)>\n",
      "\t\tlong_name: spectrum_width\n",
      "\t\tstandard_name: doppler_spectrum_width\n",
      "\t\tunits: m/s\n",
      "\t\tsampling_ratio: 1.0\n",
      "\t\t_FillValue: -128\n",
      "\t\tgrid_mapping: grid_mapping\n",
      "\t\tcoordinates: time range\n",
      "\tZDR:\n",
      "\t\tdata: <ndarray of type: float32 and shape: (720, 1832)>\n",
      "\t\tlong_name: differential_reflectivity\n",
      "\t\tstandard_name: log_differential_reflectivity_hv\n",
      "\t\tunits: dB\n",
      "\t\tsampling_ratio: 1.0\n",
      "\t\t_FillValue: -128\n",
      "\t\tgrid_mapping: grid_mapping\n",
      "\t\tcoordinates: time range\n",
      "\tPHI:\n",
      "\t\tdata: <ndarray of type: float32 and shape: (720, 1832)>\n",
      "\t\tlong_name: differential_phase\n",
      "\t\tstandard_name: differential_phase_hv\n",
      "\t\tunits: deg\n",
      "\t\tsampling_ratio: 1.0\n",
      "\t\t_FillValue: -32768\n",
      "\t\tgrid_mapping: grid_mapping\n",
      "\t\tcoordinates: time range\n",
      "\tRHO:\n",
      "\t\tdata: <ndarray of type: float32 and shape: (720, 1832)>\n",
      "\t\tlong_name: cross_correlation\n",
      "\t\tstandard_name: cross_correlation_ratio_hv\n",
      "\t\tunits: \n",
      "\t\tsampling_ratio: 1.0\n",
      "\t\t_FillValue: -128\n",
      "\t\tgrid_mapping: grid_mapping\n",
      "\t\tcoordinates: time range\n",
      "\tREF_s3:\n",
      "\t\tdata: <ndarray of type: float32 and shape: (720, 1832)>\n",
      "\t\tlong_name: radar_reflectivity\n",
      "\t\tstandard_name: equivalent_reflectivity_factor\n",
      "\t\tunits: dBZ\n",
      "\t\tsampling_ratio: 1.0\n",
      "\t\t_FillValue: -128\n",
      "\t\tgrid_mapping: grid_mapping\n",
      "\t\tcoordinates: time range\n",
      "\tREF_s5:\n",
      "\t\tdata: <ndarray of type: float32 and shape: (720, 1832)>\n",
      "\t\tlong_name: radar_reflectivity\n",
      "\t\tstandard_name: equivalent_reflectivity_factor\n",
      "\t\tunits: dBZ\n",
      "\t\tsampling_ratio: 1.0\n",
      "\t\t_FillValue: -128\n",
      "\t\tgrid_mapping: grid_mapping\n",
      "\t\tcoordinates: time range\n",
      "fixed_angle:\n",
      "\tdata: <ndarray of type: float32 and shape: (1,)>\n",
      "\tlong_name: ray_target_fixed_angle\n",
      "\tunits: degrees\n",
      "\t_FillValue: -9999.0\n",
      "instrument_parameters:\n",
      "\tfrequency:\n",
      "\t\tdata: <ndarray of type: float32 and shape: (1,)>\n",
      "\t\tlong_name: transmission_frequency\n",
      "\t\tunits: s-1\n",
      "\t\t_FillValue: -9999.0\n",
      "\t\tmeta_group: instrument_parameters\n",
      "\tfollow_mode:\n",
      "\t\tdata: <ndarray of type: |S1 and shape: (1, 32)>\n",
      "\t\tlong_name: follow_mode_for_scan_strategy\n",
      "\t\toptions: none, sun, vehicle, aircraft, target, manual\n",
      "\t\tmeta_group: instrument_parameters\n",
      "\tpulse_width:\n",
      "\t\tdata: <ndarray of type: float32 and shape: (720,)>\n",
      "\t\tlong_name: transmitter_pulse_width\n",
      "\t\tunits: seconds\n",
      "\t\t_FillValue: -9999.0\n",
      "\t\tmeta_group: instrument_parameters\n",
      "\tprt_mode:\n",
      "\t\tdata: <ndarray of type: |S1 and shape: (1, 32)>\n",
      "\t\tlong_name: transmit_pulse_mode\n",
      "\t\toptions: fixed, staggered, dual\n",
      "\t\tmeta_group: radar_parameters\n",
      "\tprt:\n",
      "\t\tdata: <ndarray of type: float32 and shape: (720,)>\n",
      "\t\tlong_name: pulse_repetition_time\n",
      "\t\tunits: seconds\n",
      "\t\t_FillValue: -9999.0\n",
      "\t\tmeta_group: instrument_parameters\n",
      "\tprt_ratio:\n",
      "\t\tdata: <ndarray of type: float32 and shape: (720,)>\n",
      "\t\tlong_name: pulse_repetition_frequency_ratio\n",
      "\t\tunits: seconds\n",
      "\t\t_FillValue: -9999.0\n",
      "\t\tmeta_group: instrument_parameters\n",
      "\tpolarization_mode:\n",
      "\t\tdata: <ndarray of type: |S1 and shape: (1, 32)>\n",
      "\t\tlong_name: polarization_mode_for_sweep\n",
      "\t\toptions: horizontal, vertical, hv_alt, hv_sim, circular\n",
      "\t\tmeta_group: radar_parameters\n",
      "\tnyquist_velocity:\n",
      "\t\tdata: <ndarray of type: float32 and shape: (720,)>\n",
      "\t\tlong_name: unambiguous_doppler_velocity\n",
      "\t\tunits: meters per second\n",
      "\t\t_FillValue: -9999.0\n",
      "\t\tmeta_group: instrument_parameters\n",
      "\tunambiguous_range:\n",
      "\t\tdata: <ndarray of type: float32 and shape: (720,)>\n",
      "\t\tlong_name: unambiguous_range\n",
      "\t\tunits: meters\n",
      "\t\t_FillValue: -9999.0\n",
      "\t\tmeta_group: instrument_parameters\n",
      "\tn_samples:\n",
      "\t\tdata: <ndarray of type: int32 and shape: (720,)>\n",
      "\t\tlong_name: number_of_samples_used_to_compute_moments\n",
      "\t\tunits: \n",
      "\t\t_FillValue: -9999\n",
      "\t\tmeta_group: instrument_parameters\n",
      "\tradar_antenna_gain_h:\n",
      "\t\tdata: <ndarray of type: float32 and shape: (1,)>\n",
      "\t\tlong_name: nominal_radar_antenna_gain_h_channel\n",
      "\t\tunits: db\n",
      "\t\t_FillValue: -9999.0\n",
      "\t\tmeta_group: radar_parameters\n",
      "\tradar_antenna_gain_v:\n",
      "\t\tdata: <ndarray of type: float32 and shape: (1,)>\n",
      "\t\tlong_name: nominal_radar_antenna_gain_v_channel\n",
      "\t\tunits: db\n",
      "\t\t_FillValue: -9999.0\n",
      "\t\tmeta_group: radar_parameters\n",
      "\tradar_beam_width_h:\n",
      "\t\tdata: <ndarray of type: float32 and shape: (1,)>\n",
      "\t\tlong_name: half_power_radar_beam_width_h_channel\n",
      "\t\tunits: degrees\n",
      "\t\t_FillValue: -9999.0\n",
      "\t\tmeta_group: radar_parameters\n",
      "\tradar_beam_width_v:\n",
      "\t\tdata: <ndarray of type: float32 and shape: (1,)>\n",
      "\t\tlong_name: half_power_radar_beam_width_v_channel\n",
      "\t\tunits: degrees\n",
      "\t\t_FillValue: -9999.0\n",
      "\t\tmeta_group: radar_parameters\n",
      "\tradar_rx_bandwidth:\n",
      "\t\tdata: <ndarray of type: float32 and shape: (1,)>\n",
      "\t\tlong_name: radar_receiver_bandwidth\n",
      "\t\tunits: s-1\n",
      "\t\t_FillValue: -9999.0\n",
      "\t\tmeta_group: radar_parameters\n",
      "\tmeasured_transmit_power_v:\n",
      "\t\tdata: <ndarray of type: float32 and shape: (720,)>\n",
      "\t\tlong_name: measured_radar_transmit_power_v_channel\n",
      "\t\tunits: dBm\n",
      "\t\t_FillValue: -9999.0\n",
      "\t\tmeta_group: radar_parameters\n",
      "\tmeasured_transmit_power_h:\n",
      "\t\tdata: <ndarray of type: float32 and shape: (720,)>\n",
      "\t\tlong_name: measured_radar_transmit_power_h_channel\n",
      "\t\tunits: dBm\n",
      "\t\t_FillValue: -9999.0\n",
      "\t\tmeta_group: radar_parameters\n",
      "latitude:\n",
      "\tdata: <ndarray of type: float64 and shape: (1,)>\n",
      "\tlong_name: latitude\n",
      "\tunits: degrees_north\n",
      "\t_FillValue: -9999.0\n",
      "longitude:\n",
      "\tdata: <ndarray of type: float64 and shape: (1,)>\n",
      "\tlong_name: longitude\n",
      "\tunits: degrees_east\n",
      "\t_FillValue: -9999.0\n",
      "nsweeps: 1\n",
      "ngates: 1832\n",
      "nrays: 720\n",
      "radar_calibration:\n",
      "\tr_calib_time:\n",
      "\t\tdata: <ndarray of type: |S1 and shape: (1, 32)>\n",
      "\t\tlong_name: radar_calibration_time_utc\n",
      "\t\tmeta_group: radar_calibration\n",
      "\tr_calib_pulse_width:\n",
      "\t\tdata: <ndarray of type: float32 and shape: (1,)>\n",
      "\t\tlong_name: radar_calibration_pulse_width\n",
      "\t\tunits: seconds\n",
      "\t\tmeta_group: radar_calibration\n",
      "\t\t_FillValue: -9999.0\n",
      "\tr_calib_xmit_power_h:\n",
      "\t\tdata: <ndarray of type: float32 and shape: (1,)>\n",
      "\t\tlong_name: calibrated_radar_xmit_power_h_channel\n",
      "\t\tunits: dBm\n",
      "\t\tmeta_group: radar_calibration\n",
      "\t\t_FillValue: -9999.0\n",
      "\tr_calib_xmit_power_v:\n",
      "\t\tdata: <ndarray of type: float32 and shape: (1,)>\n",
      "\t\tlong_name: calibrated_radar_xmit_power_v_channel\n",
      "\t\tunits: dBm\n",
      "\t\tmeta_group: radar_calibration\n",
      "\t\t_FillValue: -9999.0\n",
      "\tr_calib_two_way_waveguide_loss_h:\n",
      "\t\tdata: <ndarray of type: float32 and shape: (1,)>\n",
      "\t\tlong_name: radar_calibration_two_way_waveguide_loss_h_channel\n",
      "\t\tunits: db\n",
      "\t\tmeta_group: radar_calibration\n",
      "\t\t_FillValue: -9999.0\n",
      "\tr_calib_two_way_waveguide_loss_v:\n",
      "\t\tdata: <ndarray of type: float32 and shape: (1,)>\n",
      "\t\tlong_name: radar_calibration_two_way_waveguide_loss_v_channel\n",
      "\t\tunits: db\n",
      "\t\tmeta_group: radar_calibration\n",
      "\t\t_FillValue: -9999.0\n",
      "\tr_calib_two_way_radome_loss_h:\n",
      "\t\tdata: <ndarray of type: float32 and shape: (1,)>\n",
      "\t\tlong_name: radar_calibration_two_way_radome_loss_h_channel\n",
      "\t\tunits: db\n",
      "\t\tmeta_group: radar_calibration\n",
      "\t\t_FillValue: -9999.0\n",
      "\tr_calib_two_way_radome_loss_v:\n",
      "\t\tdata: <ndarray of type: float32 and shape: (1,)>\n",
      "\t\tlong_name: radar_calibration_two_way_radome_loss_v_channel\n",
      "\t\tunits: db\n",
      "\t\tmeta_group: radar_calibration\n",
      "\t\t_FillValue: -9999.0\n",
      "\tr_calib_receiver_mismatch_loss:\n",
      "\t\tdata: <ndarray of type: float32 and shape: (1,)>\n",
      "\t\tlong_name: radar_calibration_receiver_mismatch_loss\n",
      "\t\tunits: db\n",
      "\t\tmeta_group: radar_calibration\n",
      "\t\t_FillValue: -9999.0\n",
      "\tr_calib_radar_constant_h:\n",
      "\t\tdata: <ndarray of type: float32 and shape: (1,)>\n",
      "\t\tlong_name: calibrated_radar_constant_h_channel\n",
      "\t\tunits: db\n",
      "\t\tmeta_group: radar_calibration\n",
      "\t\t_FillValue: -9999.0\n",
      "\tr_calib_radar_constant_v:\n",
      "\t\tdata: <ndarray of type: float32 and shape: (1,)>\n",
      "\t\tlong_name: calibrated_radar_constant_v_channel\n",
      "\t\tunits: db\n",
      "\t\tmeta_group: radar_calibration\n",
      "\t\t_FillValue: -9999.0\n",
      "\tr_calib_antenna_gain_h:\n",
      "\t\tdata: <ndarray of type: float32 and shape: (1,)>\n",
      "\t\tlong_name: calibrated_radar_antenna_gain_h_channel\n",
      "\t\tunits: db\n",
      "\t\tmeta_group: radar_calibration\n",
      "\t\t_FillValue: -9999.0\n",
      "\tr_calib_antenna_gain_v:\n",
      "\t\tdata: <ndarray of type: float32 and shape: (1,)>\n",
      "\t\tlong_name: calibrated_radar_antenna_gain_v_channel\n",
      "\t\tunits: db\n",
      "\t\tmeta_group: radar_calibration\n",
      "\t\t_FillValue: -9999.0\n",
      "\tr_calib_noise_hc:\n",
      "\t\tdata: <ndarray of type: float32 and shape: (1,)>\n",
      "\t\tlong_name: calibrated_radar_receiver_noise_h_co_polar_channel\n",
      "\t\tunits: dBm\n",
      "\t\tmeta_group: radar_calibration\n",
      "\t\t_FillValue: -9999.0\n",
      "\tr_calib_noise_vc:\n",
      "\t\tdata: <ndarray of type: float32 and shape: (1,)>\n",
      "\t\tlong_name: calibrated_radar_receiver_noise_v_co_polar_channel\n",
      "\t\tunits: dBm\n",
      "\t\tmeta_group: radar_calibration\n",
      "\t\t_FillValue: -9999.0\n",
      "\tr_calib_noise_hx:\n",
      "\t\tdata: <ndarray of type: float32 and shape: (1,)>\n",
      "\t\tlong_name: calibrated_radar_receiver_noise_h_cross_polar_channel\n",
      "\t\tunits: dBm\n",
      "\t\tmeta_group: radar_calibration\n",
      "\t\t_FillValue: -9999.0\n",
      "\tr_calib_noise_vx:\n",
      "\t\tdata: <ndarray of type: float32 and shape: (1,)>\n",
      "\t\tlong_name: calibrated_radar_receiver_noise_v_cross_polar_channel\n",
      "\t\tunits: dBm\n",
      "\t\tmeta_group: radar_calibration\n",
      "\t\t_FillValue: -9999.0\n",
      "\tr_calib_receiver_gain_hc:\n",
      "\t\tdata: <ndarray of type: float32 and shape: (1,)>\n",
      "\t\tlong_name: calibrated_radar_receiver_gain_h_co_polar_channel\n",
      "\t\tunits: db\n",
      "\t\tmeta_group: radar_calibration\n",
      "\t\t_FillValue: -9999.0\n",
      "\tr_calib_receiver_gain_vc:\n",
      "\t\tdata: <ndarray of type: float32 and shape: (1,)>\n",
      "\t\tlong_name: calibrated_radar_receiver_gain_v_co_polar_channel\n",
      "\t\tunits: db\n",
      "\t\tmeta_group: radar_calibration\n",
      "\t\t_FillValue: -9999.0\n",
      "\tr_calib_receiver_gain_hx:\n",
      "\t\tdata: <ndarray of type: float32 and shape: (1,)>\n",
      "\t\tlong_name: calibrated_radar_receiver_gain_h_cross_polar_channel\n",
      "\t\tunits: db\n",
      "\t\tmeta_group: radar_calibration\n",
      "\t\t_FillValue: -9999.0\n",
      "\tr_calib_receiver_gain_vx:\n",
      "\t\tdata: <ndarray of type: float32 and shape: (1,)>\n",
      "\t\tlong_name: calibrated_radar_receiver_gain_v_cross_polar_channel\n",
      "\t\tunits: db\n",
      "\t\tmeta_group: radar_calibration\n",
      "\t\t_FillValue: -9999.0\n",
      "\tr_calib_base_dbz_1km_hc:\n",
      "\t\tdata: <ndarray of type: float32 and shape: (1,)>\n",
      "\t\tlong_name: radar_reflectivity_at_1km_at_zero_snr_h_co_polar_channel\n",
      "\t\tunits: dBZ\n",
      "\t\tmeta_group: radar_calibration\n",
      "\t\t_FillValue: -9999.0\n",
      "\tr_calib_base_dbz_1km_vc:\n",
      "\t\tdata: <ndarray of type: float32 and shape: (1,)>\n",
      "\t\tlong_name: radar_reflectivity_at_1km_at_zero_snr_v_co_polar_channel\n",
      "\t\tunits: dBZ\n",
      "\t\tmeta_group: radar_calibration\n",
      "\t\t_FillValue: -9999.0\n",
      "\tr_calib_base_dbz_1km_hx:\n",
      "\t\tdata: <ndarray of type: float32 and shape: (1,)>\n",
      "\t\tlong_name: radar_reflectivity_at_1km_at_zero_snr_h_cross_polar_channel\n",
      "\t\tunits: dBZ\n",
      "\t\tmeta_group: radar_calibration\n",
      "\t\t_FillValue: -9999.0\n",
      "\tr_calib_base_dbz_1km_vx:\n",
      "\t\tdata: <ndarray of type: float32 and shape: (1,)>\n",
      "\t\tlong_name: radar_reflectivity_at_1km_at_zero_snr_v_cross_polar_channel\n",
      "\t\tunits: dBZ\n",
      "\t\tmeta_group: radar_calibration\n",
      "\t\t_FillValue: -9999.0\n",
      "\tr_calib_sun_power_hc:\n",
      "\t\tdata: <ndarray of type: float32 and shape: (1,)>\n",
      "\t\tlong_name: calibrated_radar_sun_power_h_co_polar_channel\n",
      "\t\tunits: dBm\n",
      "\t\tmeta_group: radar_calibration\n",
      "\t\t_FillValue: -9999.0\n",
      "\tr_calib_sun_power_vc:\n",
      "\t\tdata: <ndarray of type: float32 and shape: (1,)>\n",
      "\t\tlong_name: calibrated_radar_sun_power_v_co_polar_channel\n",
      "\t\tunits: dBm\n",
      "\t\tmeta_group: radar_calibration\n",
      "\t\t_FillValue: -9999.0\n",
      "\tr_calib_sun_power_hx:\n",
      "\t\tdata: <ndarray of type: float32 and shape: (1,)>\n",
      "\t\tlong_name: calibrated_radar_sun_power_h_cross_polar_channel\n",
      "\t\tunits: dBm\n",
      "\t\tmeta_group: radar_calibration\n",
      "\t\t_FillValue: -9999.0\n",
      "\tr_calib_sun_power_vx:\n",
      "\t\tdata: <ndarray of type: float32 and shape: (1,)>\n",
      "\t\tlong_name: calibrated_radar_sun_power_v_cross_polar_channel\n",
      "\t\tunits: dBm\n",
      "\t\tmeta_group: radar_calibration\n",
      "\t\t_FillValue: -9999.0\n",
      "\tr_calib_noise_source_power_h:\n",
      "\t\tdata: <ndarray of type: float32 and shape: (1,)>\n",
      "\t\tlong_name: radar_calibration_noise_source_power_h_channel\n",
      "\t\tunits: dBm\n",
      "\t\tmeta_group: radar_calibration\n",
      "\t\t_FillValue: -9999.0\n",
      "\tr_calib_noise_source_power_v:\n",
      "\t\tdata: <ndarray of type: float32 and shape: (1,)>\n",
      "\t\tlong_name: radar_calibration_noise_source_power_v_channel\n",
      "\t\tunits: dBm\n",
      "\t\tmeta_group: radar_calibration\n",
      "\t\t_FillValue: -9999.0\n",
      "\tr_calib_power_measure_loss_h:\n",
      "\t\tdata: <ndarray of type: float32 and shape: (1,)>\n",
      "\t\tlong_name: radar_calibration_power_measurement_loss_h_channel\n",
      "\t\tunits: db\n",
      "\t\tmeta_group: radar_calibration\n",
      "\t\t_FillValue: -9999.0\n",
      "\tr_calib_power_measure_loss_v:\n",
      "\t\tdata: <ndarray of type: float32 and shape: (1,)>\n",
      "\t\tlong_name: radar_calibration_power_measurement_loss_v_channel\n",
      "\t\tunits: db\n",
      "\t\tmeta_group: radar_calibration\n",
      "\t\t_FillValue: -9999.0\n",
      "\tr_calib_coupler_forward_loss_h:\n",
      "\t\tdata: <ndarray of type: float32 and shape: (1,)>\n",
      "\t\tlong_name: radar_calibration_coupler_forward_loss_h_channel\n",
      "\t\tunits: db\n",
      "\t\tmeta_group: radar_calibration\n",
      "\t\t_FillValue: -9999.0\n",
      "\tr_calib_coupler_forward_loss_v:\n",
      "\t\tdata: <ndarray of type: float32 and shape: (1,)>\n",
      "\t\tlong_name: radar_calibration_coupler_forward_loss_v_channel\n",
      "\t\tunits: db\n",
      "\t\tmeta_group: radar_calibration\n",
      "\t\t_FillValue: -9999.0\n",
      "\tr_calib_dbz_correction:\n",
      "\t\tdata: <ndarray of type: float32 and shape: (1,)>\n",
      "\t\tlong_name: calibrated_radar_dbz_correction\n",
      "\t\tunits: db\n",
      "\t\tmeta_group: radar_calibration\n",
      "\t\t_FillValue: -9999.0\n",
      "\tr_calib_zdr_correction:\n",
      "\t\tdata: <ndarray of type: float32 and shape: (1,)>\n",
      "\t\tlong_name: calibrated_radar_zdr_correction\n",
      "\t\tunits: db\n",
      "\t\tmeta_group: radar_calibration\n",
      "\t\t_FillValue: -9999.0\n",
      "\tr_calib_ldr_correction_h:\n",
      "\t\tdata: <ndarray of type: float32 and shape: (1,)>\n",
      "\t\tlong_name: calibrated_radar_ldr_correction_h_channel\n",
      "\t\tunits: db\n",
      "\t\tmeta_group: radar_calibration\n",
      "\t\t_FillValue: -9999.0\n",
      "\tr_calib_ldr_correction_v:\n",
      "\t\tdata: <ndarray of type: float32 and shape: (1,)>\n",
      "\t\tlong_name: calibrated_radar_ldr_correction_v_channel\n",
      "\t\tunits: db\n",
      "\t\tmeta_group: radar_calibration\n",
      "\t\t_FillValue: -9999.0\n",
      "\tr_calib_system_phidp:\n",
      "\t\tdata: <ndarray of type: float32 and shape: (1,)>\n",
      "\t\tlong_name: calibrated_radar_system_phidp\n",
      "\t\tunits: degrees\n",
      "\t\tmeta_group: radar_calibration\n",
      "\t\t_FillValue: -9999.0\n",
      "\tr_calib_test_power_h:\n",
      "\t\tdata: <ndarray of type: float32 and shape: (1,)>\n",
      "\t\tlong_name: radar_calibration_test_power_h_channel\n",
      "\t\tunits: dBm\n",
      "\t\tmeta_group: radar_calibration\n",
      "\t\t_FillValue: -9999.0\n",
      "\tr_calib_test_power_v:\n",
      "\t\tdata: <ndarray of type: float32 and shape: (1,)>\n",
      "\t\tlong_name: radar_calibration_test_power_v_channel\n",
      "\t\tunits: dBm\n",
      "\t\tmeta_group: radar_calibration\n",
      "\t\t_FillValue: -9999.0\n",
      "\tr_calib_receiver_slope_hc:\n",
      "\t\tdata: <ndarray of type: float32 and shape: (1,)>\n",
      "\t\tlong_name: calibrated_radar_receiver_slope_h_co_polar_channel\n",
      "\t\tunits: \n",
      "\t\tmeta_group: radar_calibration\n",
      "\t\t_FillValue: -9999.0\n",
      "\tr_calib_receiver_slope_vc:\n",
      "\t\tdata: <ndarray of type: float32 and shape: (1,)>\n",
      "\t\tlong_name: calibrated_radar_receiver_slope_v_co_polar_channel\n",
      "\t\tunits: \n",
      "\t\tmeta_group: radar_calibration\n",
      "\t\t_FillValue: -9999.0\n",
      "\tr_calib_receiver_slope_hx:\n",
      "\t\tdata: <ndarray of type: float32 and shape: (1,)>\n",
      "\t\tlong_name: calibrated_radar_receiver_slope_h_cross_polar_channel\n",
      "\t\tunits: \n",
      "\t\tmeta_group: radar_calibration\n",
      "\t\t_FillValue: -9999.0\n",
      "\tr_calib_receiver_slope_vx:\n",
      "\t\tdata: <ndarray of type: float32 and shape: (1,)>\n",
      "\t\tlong_name: calibrated_radar_receiver_slope_v_cross_polar_channel\n",
      "\t\tunits: \n",
      "\t\tmeta_group: radar_calibration\n",
      "\t\t_FillValue: -9999.0\n",
      "\tr_calib_index:\n",
      "\t\tdata: <ndarray of type: int32 and shape: (720,)>\n",
      "\t\tlong_name: calibration_data_array_index_per_ray\n",
      "\t\tunits: \n",
      "\t\t_FillValue: -9999\n",
      "\t\tmeta_group: radar_calibration\n",
      "\t\tcomment: This is the index for the calibration which applies to this ray\n",
      "range:\n",
      "\tdata: <ndarray of type: float32 and shape: (1832,)>\n",
      "\tlong_name: Range from instrument to center of gate\n",
      "\tunits: meters\n",
      "\tspacing_is_constant: true\n",
      "\tmeters_to_center_of_first_gate: 2125.0\n",
      "\tmeters_between_gates: 250.0\n",
      "scan_rate:\n",
      "\tdata: <ndarray of type: float32 and shape: (720,)>\n",
      "\tlong_name: antenna_angle_scan_rate\n",
      "\tunits: degrees per second\n",
      "\t_FillValue: -9999.0\n",
      "\tmeta_group: instrument_parameters\n",
      "scan_type: ppi\n",
      "sweep_end_ray_index:\n",
      "\tdata: <ndarray of type: int32 and shape: (1,)>\n",
      "\tlong_name: index_of_last_ray_in_sweep\n",
      "\tunits: \n",
      "\t_FillValue: -9999\n",
      "sweep_mode:\n",
      "\tdata: <ndarray of type: |S1 and shape: (1, 32)>\n",
      "\tlong_name: scan_mode_for_sweep\n",
      "\toptions: sector, coplane, rhi, vertical_pointing, idle, azimuth_surveillance, elevation_surveillance, sunscan, pointing, calibration, manual_ppi, manual_rhi, sunscan_rhi\n",
      "sweep_number:\n",
      "\tdata: <ndarray of type: int32 and shape: (1,)>\n",
      "\tlong_name: sweep_index_number_0_based\n",
      "\tunits: \n",
      "\t_FillValue: -9999\n",
      "sweep_start_ray_index:\n",
      "\tdata: <ndarray of type: int32 and shape: (1,)>\n",
      "\tlong_name: index_of_first_ray_in_sweep\n",
      "\tunits: \n",
      "\t_FillValue: -9999\n",
      "target_scan_rate:\n",
      "\tdata: <ndarray of type: float32 and shape: (1,)>\n",
      "\tlong_name: target_scan_rate_for_sweep\n",
      "\tunits: degrees per second\n",
      "\t_FillValue: -9999.0\n",
      "time:\n",
      "\tdata: <ndarray of type: float64 and shape: (720,)>\n",
      "\tstandard_name: time\n",
      "\tlong_name: time in seconds since volume start\n",
      "\tcalendar: gregorian\n",
      "\tunits: seconds since 2016-03-31T22:00:34Z\n",
      "\tcomment: times are relative to the volume start_time\n",
      "metadata:\n",
      "\tConventions: CF-1.6\n",
      "\tSub_conventions: CF-Radial instrument_parameters radar_parameters radar_calibration\n",
      "\tversion: CF-Radial-1.3\n",
      "\ttitle: \n",
      "\tinstitution: \n",
      "\treferences: \n",
      "\tsource: ARCHIVE 2 data\n",
      "\thistory: \n",
      "\tcomment: \n",
      "\tauthor: \n",
      "\toriginal_format: NEXRAD\n",
      "\tdriver: RadxConvert(NCAR)\n",
      "\tcreated: 2016/08/04 15:01:51.330\n",
      "\tstart_datetime: 2016-03-31T22:00:34Z\n",
      "\ttime_coverage_start: 2016-03-31T22:00:34Z\n",
      "\tend_datetime: 2016-03-31T22:03:42Z\n",
      "\ttime_coverage_end: 2016-03-31T22:03:42Z\n",
      "\tinstrument_name: KGWX\n",
      "\tsite_name: \n",
      "\tscan_name: Surveillance\n",
      "\tscan_id: 212\n",
      "\tplatform_is_mobile: false\n",
      "\tn_gates_vary: false\n",
      "\tray_times_increase: true\n",
      "\tvolume_number: 892\n",
      "\tplatform_type: fixed\n",
      "\tinstrument_type: radar\n",
      "\tprimary_axis: axis_z\n",
      "None\n"
     ]
    }
   ],
   "source": [
    "print(radar_obj.info())"
   ]
  },
  {
   "cell_type": "code",
   "execution_count": 37,
   "metadata": {
    "ExecuteTime": {
     "end_time": "2020-01-22T18:39:09.946306Z",
     "start_time": "2020-01-22T18:39:09.885725Z"
    }
   },
   "outputs": [
    {
     "name": "stdout",
     "output_type": "stream",
     "text": [
      "{'033116': {'dis_dir': '/Users/ddawson/Dropbox/Projects/VORTEXSE/obs_data/PIPS/2016/IOP3', 'dis_types': ['PIPS', 'PIPS', 'PIPS', 'PIPS'], 'dis_names': ['PIPS1A', 'PIPS1B', 'PIPS2A', 'PIPS2B'], 'disfilenames': ['PIPS_1A_IOP_3_D1.txt', 'PIPS_1B_IOP_3_D1.txt', 'PIPS_2A_IOP_3_D1.txt', 'PIPS_2B_IOP_3_D1.txt'], 'convfilenames': ['PIPS_1A_IOP_3_D1.txt', 'PIPS_1B_IOP_3_D1.txt', 'PIPS_2A_IOP_3_D1.txt', 'PIPS_2B_IOP_3_D1.txt'], 'starttimes': ['20160331220000', '20160331220000', '20160331220000', '20160331220000'], 'stoptimes': ['20160331234000', '20160331234000', '20160331234000', '20160331234000'], 'interval': 60.0}}\n",
      "35.046499999999995 -87.67749219783126 254.11713832319492\n"
     ]
    }
   ],
   "source": [
    "GPS_stats = conv_df['GPS_status']\n",
    "GPS_lats = conv_df['GPS_lat']\n",
    "GPS_lons = conv_df['GPS_lon']\n",
    "GPS_alts = conv_df['GPS_alt']\n",
    "PIPS_lat, PIPS_lon, PIPS_alt = pipsio.get_PIPS_loc(GPS_stats, GPS_lats, GPS_lons, GPS_alts)"
   ]
  },
  {
   "cell_type": "code",
   "execution_count": 99,
   "metadata": {
    "ExecuteTime": {
     "end_time": "2020-01-22T20:14:19.852157Z",
     "start_time": "2020-01-22T20:14:19.780064Z"
    }
   },
   "outputs": [
    {
     "name": "stdout",
     "output_type": "stream",
     "text": [
      "[59330.32776278] [128017.96632299]\n"
     ]
    }
   ],
   "source": [
    "PIPS_geo_loc = (PIPS_lat, PIPS_lon)\n",
    "PIPS_rad_loc = radar.get_PIPS_loc_relative_to_radar(PIPS_geo_loc, radar_obj)"
   ]
  },
  {
   "cell_type": "code",
   "execution_count": 40,
   "metadata": {
    "ExecuteTime": {
     "end_time": "2020-01-22T18:42:01.862222Z",
     "start_time": "2020-01-22T18:42:01.803962Z"
    }
   },
   "outputs": [
    {
     "name": "stdout",
     "output_type": "stream",
     "text": [
      "(59330.32776277612, 128017.96632299136)\n"
     ]
    }
   ],
   "source": [
    "print(PIPS_rad_loc)"
   ]
  },
  {
   "cell_type": "code",
   "execution_count": 182,
   "metadata": {
    "ExecuteTime": {
     "end_time": "2020-01-22T22:36:33.267663Z",
     "start_time": "2020-01-22T22:36:28.251072Z"
    }
   },
   "outputs": [
    {
     "name": "stdout",
     "output_type": "stream",
     "text": [
      "59330.32776277612 128017.96632299136\n",
      "theta_index, range_index 271 556\n",
      "Distance to closest gate:  407.69177\n",
      "59330.32776277612 128017.96632299136\n",
      "theta_index, range_index 1 556\n",
      "Distance to closest gate:  455.01758\n"
     ]
    },
    {
     "name": "stderr",
     "output_type": "stream",
     "text": [
      "/Users/dawson29/Projects/pyPIPS/pyPIPS/radarmodule.py:1697: RuntimeWarning: Mean of empty slice\n",
      "  range_index - 1:range_index + 2])\n"
     ]
    },
    {
     "name": "stdout",
     "output_type": "stream",
     "text": [
      "59330.32776277612 128017.96632299136\n",
      "theta_index, range_index 465 556\n",
      "Distance to closest gate:  367.12115\n",
      "59330.32776277612 128017.96632299136\n",
      "theta_index, range_index 59 556\n",
      "Distance to closest gate:  367.05295\n",
      "59330.32776277612 128017.96632299136\n",
      "theta_index, range_index 469 556\n",
      "Distance to closest gate:  326.5696\n",
      "59330.32776277612 128017.96632299136\n",
      "theta_index, range_index 25 556\n",
      "Distance to closest gate:  353.54166\n",
      "59330.32776277612 128017.96632299136\n",
      "theta_index, range_index 237 556\n",
      "Distance to closest gate:  340.09073\n",
      "59330.32776277612 128017.96632299136\n",
      "theta_index, range_index 449 556\n",
      "Distance to closest gate:  299.5317\n",
      "59330.32776277612 128017.96632299136\n",
      "theta_index, range_index 475 556\n",
      "Distance to closest gate:  286.0096\n",
      "59330.32776277612 128017.96632299136\n",
      "theta_index, range_index 681 556\n",
      "Distance to closest gate:  346.84814\n",
      "59330.32776277612 128017.96632299136\n",
      "theta_index, range_index 649 556\n",
      "Distance to closest gate:  414.393\n",
      "59330.32776277612 128017.96632299136\n",
      "theta_index, range_index 13 556\n",
      "Distance to closest gate:  387.40582\n",
      "59330.32776277612 128017.96632299136\n",
      "theta_index, range_index 95 556\n",
      "Distance to closest gate:  265.736\n",
      "59330.32776277612 128017.96632299136\n",
      "theta_index, range_index 195 556\n",
      "Distance to closest gate:  360.37054\n",
      "59330.32776277612 128017.96632299136\n",
      "theta_index, range_index 241 556\n",
      "Distance to closest gate:  421.21268\n",
      "59330.32776277612 128017.96632299136\n",
      "theta_index, range_index 341 556\n",
      "Distance to closest gate:  434.73383\n",
      "59330.32776277612 128017.96632299136\n",
      "theta_index, range_index 403 556\n",
      "Distance to closest gate:  407.69177\n",
      "59330.32776277612 128017.96632299136\n",
      "theta_index, range_index 489 556\n",
      "Distance to closest gate:  387.40582\n",
      "59330.32776277612 128017.96632299136\n",
      "theta_index, range_index 597 556\n",
      "Distance to closest gate:  299.5317\n",
      "59330.32776277612 128017.96632299136\n",
      "theta_index, range_index 703 556\n",
      "Distance to closest gate:  313.04852\n"
     ]
    }
   ],
   "source": [
    "radar_fields_at_PIPS_da = radar.interp_sweeps_to_PIPS(radar_name, radar_dict['radarsweeplist'], ['PIPS1A'], [PIPS_rad_loc],\n",
    "                                                      average_gates=True)"
   ]
  },
  {
   "cell_type": "code",
   "execution_count": 172,
   "metadata": {
    "ExecuteTime": {
     "end_time": "2020-01-22T22:28:14.789233Z",
     "start_time": "2020-01-22T22:28:13.333961Z"
    }
   },
   "outputs": [
    {
     "name": "stdout",
     "output_type": "stream",
     "text": [
      "465 556\n"
     ]
    },
    {
     "data": {
      "image/png": "[encoded data removed]",
      "text/plain": [
       "<Figure size 432x360 with 2 Axes>"
      ]
     },
     "metadata": {
      "needs_background": "light"
     },
     "output_type": "display_data"
    }
   ],
   "source": [
    "import pyart\n",
    "radar_obj = radar_dict['radarsweeplist'][2]\n",
    "xrad, yrad, zrad = radar_obj.get_gate_x_y_z(0)\n",
    "distance = np.sqrt((PIPS_rad_loc[0] - xrad)**2. + (PIPS_rad_loc[1] - yrad)**2.)\n",
    "theta_index, range_index = np.unravel_index(distance.argmin(), distance.shape)\n",
    "\n",
    "print(theta_index, range_index)\n",
    "\n",
    "display = pyart.graph.RadarDisplay(radar_obj)\n",
    "fig = plt.figure(figsize=(6, 5))\n",
    "\n",
    "# plot super resolution reflectivity\n",
    "ax = fig.add_subplot(111)\n",
    "display.plot('ZDR', 0, title='NEXRAD Differential Reflectivity',\n",
    "             vmin=0, vmax=5, colorbar_label='', ax=ax)\n",
    "display.plot_range_ring(radar_obj.range['data'][-1]/1000., ax=ax)\n",
    "display.set_limits(xlim=(-250, 250), ylim=(-250, 250))\n",
    "display.set_limits(xlim=(50, 70), ylim=(120, 140), ax=ax)\n",
    "ax.plot(PIPS_rad_loc[0]/1000., PIPS_rad_loc[1]/1000., 'r*')\n",
    "ax.plot(xrad[theta_index, range_index]/1000., yrad[theta_index, range_index]/1000., 'rx')\n",
    "#ax.contourf(xrad / 1000., yrad / 1000., distance)\n",
    "#ax.text(PIPS_rad_loc[0] / 1000. - 5., PIPS_rad_loc[1] / 1000., 'PIPS1A', fontsize=10, bbox=dict(facecolor='white', alpha=0.5))\n",
    "plt.show()"
   ]
  },
  {
   "cell_type": "code",
   "execution_count": 179,
   "metadata": {
    "ExecuteTime": {
     "end_time": "2020-01-22T22:32:12.423984Z",
     "start_time": "2020-01-22T22:32:12.356148Z"
    }
   },
   "outputs": [
    {
     "name": "stdout",
     "output_type": "stream",
     "text": [
      "<xarray.DataArray (time: 20, PIPS: 1, fields: 6)>\n",
      "array([[[17.5     , 22.5     ,  0.847222, 49.716255,  1.013519,  1.      ]],\n",
      "\n",
      "       [[11.4     ,       nan,  0.7125  , 42.523438,  0.967667,       nan]],\n",
      "\n",
      "       [[23.61111 , 22.5     ,  1.833333, 47.639866,  0.963889,  2.5     ]],\n",
      "\n",
      "       [[15.8125  , 23.5     ,  1.320312, 37.110962,  0.9775  ,  1.75    ]],\n",
      "\n",
      "       [[37.22222 , 25.875   ,  1.541667, 38.74653 ,  0.962407,  1.9375  ]],\n",
      "\n",
      "       [[45.944443, 28.055555,  3.111111, 50.108074,  0.961667,  2.388889]],\n",
      "\n",
      "       [[53.11111 ,  6.777778,  2.527778, 62.01812 ,  0.958333,  3.388889]],\n",
      "\n",
      "       [[39.77778 , 12.888889,  1.659722, 58.217773,  0.986111,  4.777778]],\n",
      "\n",
      "       [[46.27778 , 16.61111 ,  1.666667, 71.02886 ,  0.967963,  3.5     ]],\n",
      "\n",
      "       [[50.38889 , 12.222222,  2.208333, 77.258026,  0.975741,  3.5     ]],\n",
      "\n",
      "       [[40.77778 ,  7.222222,  2.569444, 80.82303 ,  0.945741,  3.611111]],\n",
      "\n",
      "       [[18.583334, 12.666667,  2.1875  , 66.40592 ,  1.      ,  3.666667]],\n",
      "\n",
      "       [[15.1875  , 17.166666,  1.320312, 53.109985,  1.014583,  2.75    ]],\n",
      "\n",
      "       [[19.666666, 13.666667,  1.604167, 45.72005 ,  1.005   ,  2.      ]],\n",
      "\n",
      "       [[      nan,       nan,       nan,       nan,       nan,       nan]],\n",
      "\n",
      "       [[      nan,       nan,       nan,       nan,       nan,       nan]],\n",
      "\n",
      "       [[      nan,       nan,       nan,       nan,       nan,       nan]],\n",
      "\n",
      "       [[16.25    , 14.75    ,  0.854167, 38.668133,  0.972222,  1.166667]],\n",
      "\n",
      "       [[      nan,       nan,       nan,       nan,       nan,       nan]],\n",
      "\n",
      "       [[      nan,       nan,       nan,       nan,       nan,       nan]]],\n",
      "      dtype=float32)\n",
      "Coordinates:\n",
      "  * time     (time) datetime64[ns] 2016-03-31T22:00:34 ... 2016-03-31T23:35:53\n",
      "  * PIPS     (PIPS) <U6 'PIPS1A'\n",
      "  * fields   (fields) <U3 'REF' 'VEL' 'ZDR' 'PHI' 'RHO' 'SW'\n",
      "    PIPS x   (PIPS) float64 5.933e+04\n",
      "    PIPS y   (PIPS) float64 1.28e+05\n",
      "Attributes:\n",
      "    Radar Name:  KGWX\n"
     ]
    }
   ],
   "source": [
    "print(radar_fields_at_PIPS_da)"
   ]
  },
  {
   "cell_type": "code",
   "execution_count": 168,
   "metadata": {
    "ExecuteTime": {
     "end_time": "2020-01-22T21:55:13.883207Z",
     "start_time": "2020-01-22T21:55:13.591555Z"
    }
   },
   "outputs": [
    {
     "name": "stdout",
     "output_type": "stream",
     "text": [
      "<xarray.DataArray (time: 20)>\n",
      "array([17.5     , 11.4     , 23.61111 , 15.8125  , 37.22222 , 45.944443,\n",
      "       53.11111 , 39.77778 , 46.27778 , 50.38889 , 40.77778 , 18.583334,\n",
      "       15.1875  , 19.666666,       nan,       nan,       nan, 16.25    ,\n",
      "             nan,       nan], dtype=float32)\n",
      "Coordinates:\n",
      "  * time     (time) datetime64[ns] 2016-03-31T22:00:34 ... 2016-03-31T23:35:53\n",
      "    PIPS     <U6 'PIPS1A'\n",
      "    fields   <U3 'REF'\n"
     ]
    },
    {
     "data": {
      "text/plain": [
       "[<matplotlib.lines.Line2D at 0x7ff54230d940>]"
      ]
     },
     "execution_count": 168,
     "metadata": {},
     "output_type": "execute_result"
    },
    {
     "data": {
      "image/png": "[encoded data removed]",
      "text/plain": [
       "<Figure size 432x288 with 1 Axes>"
      ]
     },
     "metadata": {
      "needs_background": "light"
     },
     "output_type": "display_data"
    }
   ],
   "source": [
    "print(radar_fields_at_PIPS_da.sel(PIPS='PIPS1A', fields='REF'))\n",
    "radar_fields_at_PIPS_da.sel(PIPS='PIPS1A', fields='REF').plot()"
   ]
  },
  {
   "cell_type": "code",
   "execution_count": 183,
   "metadata": {
    "ExecuteTime": {
     "end_time": "2020-01-22T22:36:41.576213Z",
     "start_time": "2020-01-22T22:36:41.498119Z"
    }
   },
   "outputs": [],
   "source": [
    "# Test dumping to netCDF file\n",
    "ncfile_dir = './'\n",
    "ncfile_name = '{}_{}_{}_fields_at_PIPS.nc'.format(radar_name, starttime, stoptime)\n",
    "ncfile_path = os.path.join(ncfile_dir, ncfile_name)\n",
    "radar.dump_radar_fields_at_PIPS_nc(ncfile_path, radar_fields_at_PIPS_da)"
   ]
  },
  {
   "cell_type": "code",
   "execution_count": 189,
   "metadata": {
    "ExecuteTime": {
     "end_time": "2020-01-22T22:39:15.617457Z",
     "start_time": "2020-01-22T22:39:15.537597Z"
    }
   },
   "outputs": [
    {
     "name": "stdout",
     "output_type": "stream",
     "text": [
      "<xarray.Dataset>\n",
      "Dimensions:               (PIPS: 1, fields: 6, time: 20)\n",
      "Coordinates:\n",
      "  * time                  (time) datetime64[ns] 2016-03-31T22:00:34 ... 2016-03-31T23:35:53\n",
      "  * PIPS                  (PIPS) object 'PIPS1A'\n",
      "  * fields                (fields) object 'REF' 'VEL' 'ZDR' 'PHI' 'RHO' 'SW'\n",
      "    PIPS_x                (PIPS) float64 ...\n",
      "    PIPS_y                (PIPS) float64 ...\n",
      "Data variables:\n",
      "    radar_fields_at_PIPS  (time, PIPS, fields) float32 ...\n"
     ]
    }
   ],
   "source": [
    "# Now test loading it back in\n",
    "radar_fields_at_PIPS_ds = xr.open_dataset(ncfile_path)\n",
    "print(radar_fields_at_PIPS_ds)"
   ]
  },
  {
   "cell_type": "code",
   "execution_count": 188,
   "metadata": {
    "ExecuteTime": {
     "end_time": "2020-01-22T22:38:36.572894Z",
     "start_time": "2020-01-22T22:38:36.506173Z"
    }
   },
   "outputs": [
    {
     "name": "stdout",
     "output_type": "stream",
     "text": [
      "<xarray.DataArray 'radar_fields_at_PIPS' (time: 20, PIPS: 1, fields: 6)>\n",
      "array([[[17.5     , 22.5     ,  0.847222, 49.716255,  1.013519,  1.      ]],\n",
      "\n",
      "       [[11.4     ,       nan,  0.7125  , 42.523438,  0.967667,       nan]],\n",
      "\n",
      "       [[23.61111 , 22.5     ,  1.833333, 47.639866,  0.963889,  2.5     ]],\n",
      "\n",
      "       [[15.8125  , 23.5     ,  1.320312, 37.110962,  0.9775  ,  1.75    ]],\n",
      "\n",
      "       [[37.22222 , 25.875   ,  1.541667, 38.74653 ,  0.962407,  1.9375  ]],\n",
      "\n",
      "       [[45.944443, 28.055555,  3.111111, 50.108074,  0.961667,  2.388889]],\n",
      "\n",
      "       [[53.11111 ,  6.777778,  2.527778, 62.01812 ,  0.958333,  3.388889]],\n",
      "\n",
      "       [[39.77778 , 12.888889,  1.659722, 58.217773,  0.986111,  4.777778]],\n",
      "\n",
      "       [[46.27778 , 16.61111 ,  1.666667, 71.02886 ,  0.967963,  3.5     ]],\n",
      "\n",
      "       [[50.38889 , 12.222222,  2.208333, 77.258026,  0.975741,  3.5     ]],\n",
      "\n",
      "       [[40.77778 ,  7.222222,  2.569444, 80.82303 ,  0.945741,  3.611111]],\n",
      "\n",
      "       [[18.583334, 12.666667,  2.1875  , 66.40592 ,  1.      ,  3.666667]],\n",
      "\n",
      "       [[15.1875  , 17.166666,  1.320312, 53.109985,  1.014583,  2.75    ]],\n",
      "\n",
      "       [[19.666666, 13.666667,  1.604167, 45.72005 ,  1.005   ,  2.      ]],\n",
      "\n",
      "       [[      nan,       nan,       nan,       nan,       nan,       nan]],\n",
      "\n",
      "       [[      nan,       nan,       nan,       nan,       nan,       nan]],\n",
      "\n",
      "       [[      nan,       nan,       nan,       nan,       nan,       nan]],\n",
      "\n",
      "       [[16.25    , 14.75    ,  0.854167, 38.668133,  0.972222,  1.166667]],\n",
      "\n",
      "       [[      nan,       nan,       nan,       nan,       nan,       nan]],\n",
      "\n",
      "       [[      nan,       nan,       nan,       nan,       nan,       nan]]],\n",
      "      dtype=float32)\n",
      "Coordinates:\n",
      "  * time     (time) datetime64[ns] 2016-03-31T22:00:34 ... 2016-03-31T23:35:53\n",
      "  * PIPS     (PIPS) object 'PIPS1A'\n",
      "  * fields   (fields) object 'REF' 'VEL' 'ZDR' 'PHI' 'RHO' 'SW'\n",
      "    PIPS_x   (PIPS) float64 ...\n",
      "    PIPS_y   (PIPS) float64 ...\n",
      "Attributes:\n",
      "    Radar Name:  KGWX\n"
     ]
    }
   ],
   "source": [
    "radar_fields_at_PIPS_da_2 = radar_fields_at_PIPS_ds['radar_fields_at_PIPS']\n",
    "print(radar_fields_at_PIPS_da_2)"
   ]
  },
  {
   "cell_type": "code",
   "execution_count": 186,
   "metadata": {
    "ExecuteTime": {
     "end_time": "2020-01-22T22:37:45.950636Z",
     "start_time": "2020-01-22T22:37:45.889409Z"
    }
   },
   "outputs": [
    {
     "name": "stdout",
     "output_type": "stream",
     "text": [
      "<xarray.DataArray (time: 20, PIPS: 1, fields: 6)>\n",
      "array([[[17.5     , 22.5     ,  0.847222, 49.716255,  1.013519,  1.      ]],\n",
      "\n",
      "       [[11.4     ,       nan,  0.7125  , 42.523438,  0.967667,       nan]],\n",
      "\n",
      "       [[23.61111 , 22.5     ,  1.833333, 47.639866,  0.963889,  2.5     ]],\n",
      "\n",
      "       [[15.8125  , 23.5     ,  1.320312, 37.110962,  0.9775  ,  1.75    ]],\n",
      "\n",
      "       [[37.22222 , 25.875   ,  1.541667, 38.74653 ,  0.962407,  1.9375  ]],\n",
      "\n",
      "       [[45.944443, 28.055555,  3.111111, 50.108074,  0.961667,  2.388889]],\n",
      "\n",
      "       [[53.11111 ,  6.777778,  2.527778, 62.01812 ,  0.958333,  3.388889]],\n",
      "\n",
      "       [[39.77778 , 12.888889,  1.659722, 58.217773,  0.986111,  4.777778]],\n",
      "\n",
      "       [[46.27778 , 16.61111 ,  1.666667, 71.02886 ,  0.967963,  3.5     ]],\n",
      "\n",
      "       [[50.38889 , 12.222222,  2.208333, 77.258026,  0.975741,  3.5     ]],\n",
      "\n",
      "       [[40.77778 ,  7.222222,  2.569444, 80.82303 ,  0.945741,  3.611111]],\n",
      "\n",
      "       [[18.583334, 12.666667,  2.1875  , 66.40592 ,  1.      ,  3.666667]],\n",
      "\n",
      "       [[15.1875  , 17.166666,  1.320312, 53.109985,  1.014583,  2.75    ]],\n",
      "\n",
      "       [[19.666666, 13.666667,  1.604167, 45.72005 ,  1.005   ,  2.      ]],\n",
      "\n",
      "       [[      nan,       nan,       nan,       nan,       nan,       nan]],\n",
      "\n",
      "       [[      nan,       nan,       nan,       nan,       nan,       nan]],\n",
      "\n",
      "       [[      nan,       nan,       nan,       nan,       nan,       nan]],\n",
      "\n",
      "       [[16.25    , 14.75    ,  0.854167, 38.668133,  0.972222,  1.166667]],\n",
      "\n",
      "       [[      nan,       nan,       nan,       nan,       nan,       nan]],\n",
      "\n",
      "       [[      nan,       nan,       nan,       nan,       nan,       nan]]],\n",
      "      dtype=float32)\n",
      "Coordinates:\n",
      "  * time     (time) datetime64[ns] 2016-03-31T22:00:34 ... 2016-03-31T23:35:53\n",
      "  * PIPS     (PIPS) <U6 'PIPS1A'\n",
      "  * fields   (fields) <U3 'REF' 'VEL' 'ZDR' 'PHI' 'RHO' 'SW'\n",
      "    PIPS_x   (PIPS) float64 5.933e+04\n",
      "    PIPS_y   (PIPS) float64 1.28e+05\n",
      "Attributes:\n",
      "    Radar Name:  KGWX\n"
     ]
    }
   ],
   "source": [
    "print(radar_fields_at_PIPS_da)"
   ]
  },
  {
   "cell_type": "code",
   "execution_count": 194,
   "metadata": {
    "ExecuteTime": {
     "end_time": "2020-01-22T22:41:52.436856Z",
     "start_time": "2020-01-22T22:41:52.376611Z"
    }
   },
   "outputs": [
    {
     "name": "stdout",
     "output_type": "stream",
     "text": [
      "<xarray.DataArray 'PIPS_x' (PIPS: 1)>\n",
      "array([59330.327763])\n",
      "Coordinates:\n",
      "  * PIPS     (PIPS) object 'PIPS1A'\n",
      "    PIPS_x   (PIPS) float64 5.933e+04\n",
      "    PIPS_y   (PIPS) float64 1.28e+05\n"
     ]
    }
   ],
   "source": [
    "print(radar_fields_at_PIPS_da_2['PIPS_x'])"
   ]
  },
  {
   "cell_type": "code",
   "execution_count": 196,
   "metadata": {
    "ExecuteTime": {
     "end_time": "2020-01-22T23:02:36.225320Z",
     "start_time": "2020-01-22T23:02:36.128620Z"
    }
   },
   "outputs": [
    {
     "name": "stdout",
     "output_type": "stream",
     "text": [
      "<xarray.DataArray 'fields' (fields: 6)>\n",
      "array(['REF', 'VEL', 'ZDR', 'PHI', 'RHO', 'SW'], dtype='<U3')\n",
      "Coordinates:\n",
      "  * fields   (fields) <U3 'REF' 'VEL' 'ZDR' 'PHI' 'RHO' 'SW'\n"
     ]
    }
   ],
   "source": [
    "print(radar_fields_at_PIPS_da.fields)"
   ]
  },
  {
   "cell_type": "code",
   "execution_count": 197,
   "metadata": {
    "ExecuteTime": {
     "end_time": "2020-01-22T23:02:52.561647Z",
     "start_time": "2020-01-22T23:02:52.505740Z"
    }
   },
   "outputs": [
    {
     "data": {
      "text/plain": [
       "True"
      ]
     },
     "execution_count": 197,
     "metadata": {},
     "output_type": "execute_result"
    }
   ],
   "source": [
    "'RHO' in radar_fields_at_PIPS_da.fields"
   ]
  },
  {
   "cell_type": "code",
   "execution_count": 198,
   "metadata": {
    "ExecuteTime": {
     "end_time": "2020-01-22T23:04:17.017422Z",
     "start_time": "2020-01-22T23:04:16.960679Z"
    }
   },
   "outputs": [
    {
     "data": {
      "text/plain": [
       "20"
      ]
     },
     "execution_count": 198,
     "metadata": {},
     "output_type": "execute_result"
    }
   ],
   "source": [
    "radar_fields_at_PIPS_da.sel(PIPS='PIPS1A', fields='RHO').size"
   ]
  },
  {
   "cell_type": "code",
   "execution_count": 202,
   "metadata": {
    "ExecuteTime": {
     "end_time": "2020-01-22T23:37:12.977704Z",
     "start_time": "2020-01-22T23:37:12.916730Z"
    }
   },
   "outputs": [
    {
     "data": {
      "text/plain": [
       "array([datetime.datetime(2016, 3, 31, 22, 0, 34),\n",
       "       datetime.datetime(2016, 3, 31, 22, 4, 44),\n",
       "       datetime.datetime(2016, 3, 31, 22, 8, 55),\n",
       "       datetime.datetime(2016, 3, 31, 22, 13, 24),\n",
       "       datetime.datetime(2016, 3, 31, 22, 19, 46),\n",
       "       datetime.datetime(2016, 3, 31, 22, 24, 9),\n",
       "       datetime.datetime(2016, 3, 31, 22, 28, 48),\n",
       "       datetime.datetime(2016, 3, 31, 22, 33, 43),\n",
       "       datetime.datetime(2016, 3, 31, 22, 38, 49),\n",
       "       datetime.datetime(2016, 3, 31, 22, 43, 49),\n",
       "       datetime.datetime(2016, 3, 31, 22, 49, 10),\n",
       "       datetime.datetime(2016, 3, 31, 22, 54, 16),\n",
       "       datetime.datetime(2016, 3, 31, 22, 59, 28),\n",
       "       datetime.datetime(2016, 3, 31, 23, 4, 43),\n",
       "       datetime.datetime(2016, 3, 31, 23, 10, 9),\n",
       "       datetime.datetime(2016, 3, 31, 23, 15, 25),\n",
       "       datetime.datetime(2016, 3, 31, 23, 20, 35),\n",
       "       datetime.datetime(2016, 3, 31, 23, 25, 40),\n",
       "       datetime.datetime(2016, 3, 31, 23, 30, 44),\n",
       "       datetime.datetime(2016, 3, 31, 23, 35, 53)], dtype=object)"
      ]
     },
     "execution_count": 202,
     "metadata": {},
     "output_type": "execute_result"
    }
   ],
   "source": [
    "pd.to_datetime(radar_fields_at_PIPS_da['time'].values).to_pydatetime()"
   ]
  },
  {
   "cell_type": "code",
   "execution_count": null,
   "metadata": {},
   "outputs": [],
   "source": []
  }
 ],
 "metadata": {
  "anaconda-cloud": {},
  "hide_input": false,
  "kernelspec": {
   "display_name": "Python [conda env:pyPIPS]",
   "language": "python",
   "name": "conda-env-pyPIPS-py"
  },
  "language_info": {
   "codemirror_mode": {
    "name": "ipython",
    "version": 3
   },
   "file_extension": ".py",
   "mimetype": "text/x-python",
   "name": "python",
   "nbconvert_exporter": "python",
   "pygments_lexer": "ipython3",
   "version": "3.7.12"
  },
  "toc": {
   "base_numbering": 1,
   "nav_menu": {},
   "number_sections": true,
   "sideBar": true,
   "skip_h1_title": false,
   "title_cell": "Table of Contents",
   "title_sidebar": "Contents",
   "toc_cell": false,
   "toc_position": {},
   "toc_section_display": true,
   "toc_window_display": false
  },
  "varInspector": {
   "cols": {
    "lenName": 16,
    "lenType": 16,
    "lenVar": 40
   },
   "kernels_config": {
    "python": {
     "delete_cmd_postfix": "",
     "delete_cmd_prefix": "del ",
     "library": "var_list.py",
     "varRefreshCmd": "print(var_dic_list())"
    },
    "r": {
     "delete_cmd_postfix": ") ",
     "delete_cmd_prefix": "rm(",
     "library": "var_list.r",
     "varRefreshCmd": "cat(var_dic_list()) "
    }
   },
   "types_to_exclude": [
    "module",
    "function",
    "builtin_function_or_method",
    "instance",
    "_Feature"
   ],
   "window_display": false
  }
 },
 "nbformat": 4,
 "nbformat_minor": 2
}
