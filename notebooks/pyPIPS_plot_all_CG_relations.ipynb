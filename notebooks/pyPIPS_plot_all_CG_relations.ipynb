{
 "cells": [
  {
   "cell_type": "markdown",
   "metadata": {},
   "source": [
    "# A testing ground for pyPIPS functionality"
   ]
  },
  {
   "cell_type": "code",
   "execution_count": null,
   "metadata": {
    "ExecuteTime": {
     "end_time": "2020-05-18T19:04:43.145815Z",
     "start_time": "2020-05-18T19:04:40.010599Z"
    }
   },
   "outputs": [],
   "source": [
    "%load_ext autoreload\n",
    "%autoreload 2\n",
    "import numpy as np\n",
    "import numpy.ma as ma\n",
    "import matplotlib\n",
    "import matplotlib.pyplot as plt\n",
    "import matplotlib.cm as cm\n",
    "import matplotlib.ticker as ticker\n",
    "import matplotlib.dates as dates\n",
    "from mpl_toolkits.axes_grid1 import ImageGrid,make_axes_locatable,host_subplot\n",
    "# from mpl_toolkits.basemap import Basemap\n",
    "from datetime import datetime, timedelta\n",
    "import sys\n",
    "import os\n",
    "import pyPIPS.utils as utils\n",
    "import pyPIPS.thermolib as thermo\n",
    "import pyPIPS.DSDlib as dsd\n",
    "#import pyPIPS.disdrometer_module as dis\n",
    "import pyPIPS.plotmodule as PIPSplot\n",
    "# import pyPIPS.simulator as sim\n",
    "import pyPIPS.pips_io as pipsio\n",
    "import pyPIPS.PIPS as pips\n",
    "import pyPIPS.parsivel_params as pp\n",
    "import pyPIPS.parsivel_qc as pqc\n",
    "# from pyCRMtools.modules import plotmodule as plotmod\n",
    "from pyCRMtools.modules import utils as CRMutils\n",
    "# from pyCRMtools.pycaps import arps_read\n",
    "# from pyCRMtools.pycaps import pycaps_fields\n",
    "# from pyCRMtools.pycaps import calvars_radar as radar\n",
    "import pandas as pd\n",
    "import xarray as xr\n",
    "import glob\n",
    "import numpy.random as random\n",
    "from scipy.stats import gamma, uniform\n",
    "from scipy.special import gamma as gammafunc\n",
    "from scipy import ndimage\n",
    "from metpy.plots import StationPlot\n",
    "from metpy.calc import wind_components\n",
    "from metpy.cbook import get_test_data\n",
    "from metpy.plots import StationPlot\n",
    "from metpy.plots.wx_symbols import current_weather, sky_cover\n",
    "from metpy.units import units\n",
    "%matplotlib inline"
   ]
  },
  {
   "cell_type": "code",
   "execution_count": null,
   "metadata": {
    "ExecuteTime": {
     "end_time": "2020-05-18T19:04:43.912089Z",
     "start_time": "2020-05-18T19:04:43.800197Z"
    }
   },
   "outputs": [],
   "source": [
    "# Read in one of the PIPS datasets which has the CG coefficients as attributes\n",
    "PIPS_dir = '/Volumes/scr_fast/Projects/VORTEXSE/obsdata/full_PIPS_dataset_RB15/'\n",
    "#PIPS_dir = '/Users/dawson29/sshfs_mounts/depot/data/Projects/VORTEXSE/obsdata/full_PIPS_dataset_RB15/'\n",
    "PIPS_filename = 'ND_avg_full_dataset_qc_60s.nc'\n",
    "PIPS_path = os.path.join(PIPS_dir, PIPS_filename)\n",
    "PIPS_ds_read = xr.load_dataset(PIPS_path)\n",
    "\n",
    "# Or read in full dataset for sigma-Dm plot\n",
    "# PIPS_filenames = glob.glob(PIPS_dir + '/parsivel_combined*60s*nc')\n",
    "# PIPS_ds_read = xr.open_mfdataset(PIPS_filenames, combine='nested', concat_dim=\"time\", \n",
    "#                                  data_vars='minimal', coords='minimal', compat='override', parallel=True)\n",
    "# Filter on RR > 0.1 mm/h\n",
    "# PIPS_ds = PIPS_ds_read.where(PIPS_ds_read['rainrate_derived_qc'] > 0.1, drop=True)\n",
    "PIPS_ds = PIPS_ds_read"
   ]
  },
  {
   "cell_type": "code",
   "execution_count": null,
   "metadata": {},
   "outputs": [],
   "source": [
    "print(PIPS_ds)\n",
    "PIPS_ds = PIPS_ds.set_coords(['diameter', 'min_diameter', 'max_diameter'])\n",
    "print(PIPS_ds)\n",
    "ND = PIPS_ds['SATP_ND_full_dataset_qc']\n",
    "print(ND)\n",
    "# ND = ND.assign_coords(diameter=ND.diameter_bin)\n",
    "# print(ND)"
   ]
  },
  {
   "cell_type": "code",
   "execution_count": null,
   "metadata": {},
   "outputs": [],
   "source": [
    "PIPS_ds = PIPS_ds_read.where(PIPS_ds_read['rainrate_derived_qc'] > 0.1, drop=True)"
   ]
  },
  {
   "cell_type": "code",
   "execution_count": null,
   "metadata": {},
   "outputs": [],
   "source": [
    "DSD_MM_fit = PIPS_ds['DSD_MM234_qc']\n",
    "print(DSD_MM_fit)\n",
    "# Drop points where mu > 30 or lambda > 20000\n",
    "DSD_MM_fit = DSD_MM_fit.where(DSD_MM_fit.sel(parameter='lamda') < 20000.)\n",
    "DSD_MM_fit = DSD_MM_fit.where(DSD_MM_fit.sel(parameter='alpha') < 30.)\n",
    "DSD_MM_fit = DSD_MM_fit.dropna(dim='time', how='any')\n",
    "print(DSD_MM_fit)\n",
    "lamda = DSD_MM_fit.sel(parameter='lamda')\n",
    "mu = DSD_MM_fit.sel(parameter='alpha')\n",
    "\n",
    "\n",
    "\n",
    "fig, ax = plt.subplots(figsize=(10, 10))\n",
    "ax.scatter(lamda, mu)\n",
    "print(len(lamda))"
   ]
  },
  {
   "cell_type": "code",
   "execution_count": null,
   "metadata": {},
   "outputs": [],
   "source": [
    "# This is a handy way to deal with the problem of duplicate times that you still want to keep by\n",
    "# resetting the time index and making the corresponding time coordinate contain the integer position\n",
    "# of each time. Then, below, the .sel operation to extract a given time will work even if it is a duplicate\n",
    "lamda_reset = lamda.reset_index(\"time\")\n",
    "lamda_reset.coords[\"tindex\"] = lamda_reset.get_index(\"time\")\n",
    "lamda_good_vals = np.isfinite(lamda_reset)\n",
    "print(lamda_good_vals)\n",
    "#print(lamda_good_vals.get_index(\"time\"))\n",
    "bad_times = lamda_good_vals.where(~lamda_good_vals, drop=True)\n",
    "print(bad_times)\n",
    "bad_times = bad_times[\"tindex\"]\n",
    "print(bad_times)\n",
    "\n",
    "lamda_good_vals2 = lamda_reset.where(lamda_reset > 0.)\n",
    "lamda_bad_vals2 = lamda_reset.where(lamda_reset <= 0., drop=True)\n",
    "bad_times2 = lamda_bad_vals2[\"tindex\"]\n",
    "print(bad_times2)\n",
    "lamda_bad = lamda_reset.sel(time=bad_times).values\n",
    "print(lamda_bad)\n",
    "# print(lamda_good_vals.where(~lamda_good_vals, drop=True))\n",
    "mu_reset = mu.reset_index('time')\n",
    "mu_bad = mu_reset.sel(time=bad_times).values\n",
    "print(mu_bad)\n",
    "\n",
    "\n",
    "# MM_poly_coeff, MM_poly = dsd.calc_CG_polynomial(lamda, mu)"
   ]
  },
  {
   "cell_type": "code",
   "execution_count": null,
   "metadata": {
    "ExecuteTime": {
     "end_time": "2020-05-18T19:04:45.337305Z",
     "start_time": "2020-05-18T19:04:45.240757Z"
    }
   },
   "outputs": [],
   "source": [
    "# List of CG fits to plot\n",
    "CG_list_lit = ['Z01', 'C08']\n",
    "CG_label_lit = CG_list_lit.copy()\n",
    "CG_col_lit = ['black', 'r']\n",
    "CG_ls_lit = ['-', '-']\n",
    "CG_lw_lit = [4, 4]\n",
    "CG_list_qc = ['MM_qc', 'TMM_qc', 'MM_F_qc', 'TMM_F_qc', 'SATP_MM_qc', 'SATP_TMM_qc']\n",
    "CG_label_qc = ['MM', 'TMM', 'MM-F', 'TMM-F', 'SATP-MM', 'SATP-TMM']\n",
    "CG_col_qc = ['indigo', 'indigo', 'darkviolet', 'darkviolet', 'mediumorchid', 'mediumorchid']\n",
    "CG_ls_qc = ['--', '-', ':', '-', '--', '-']\n",
    "CG_lw_qc = [1.5, 3, 1.5, 3, 1.5, 3]\n",
    "CG_list_RB15_qc = ['MM_RB15_qc', 'TMM_RB15_qc', 'MM_F_RB15_qc', 'TMM_F_RB15_qc', 'SATP_MM_RB15_qc', \n",
    "                   'SATP_TMM_RB15_qc']\n",
    "CG_label_RB15_qc = ['MM-RB15', 'TMM-RB15', 'MM-F-RB15', 'TMM-F-RB15', 'SATP-MM-RB15', 'SATP-TMM-RB15']\n",
    "CG_col_RB15_qc = ['darkblue', 'darkblue', 'mediumblue', 'mediumblue', 'blue', 'blue']\n",
    "CG_ls_RB15_qc = ['--', '-', ':', '-.', '--', '-']\n",
    "CG_lw_RB15_qc = [1.5, 1.5, 1.5, 1.5, 1.5, 3]"
   ]
  },
  {
   "cell_type": "code",
   "execution_count": null,
   "metadata": {
    "ExecuteTime": {
     "end_time": "2020-05-18T19:04:49.562599Z",
     "start_time": "2020-05-18T19:04:49.471961Z"
    }
   },
   "outputs": [],
   "source": [
    "# Grab CG coefficients from file\n",
    "CG_coeff_lit = [PIPS_ds.attrs['CG_coeff_{}'.format(CG_name)] for CG_name in CG_list_lit]\n",
    "CG_coeff_qc = [PIPS_ds.attrs['CG_coeff_{}'.format(CG_name)] for CG_name in CG_list_qc]\n",
    "CG_coeff_RB15_qc = [PIPS_ds.attrs['CG_coeff_{}'.format(CG_name)] for CG_name in CG_list_RB15_qc]"
   ]
  },
  {
   "cell_type": "code",
   "execution_count": null,
   "metadata": {
    "ExecuteTime": {
     "end_time": "2020-05-18T19:13:03.192385Z",
     "start_time": "2020-05-18T19:13:03.090641Z"
    }
   },
   "outputs": [],
   "source": [
    "# Plot CG coefficients, one group at a time\n",
    "\n",
    "plot_dir = '/Volumes/scr_fast/Projects/VORTEXSE/obsdata/full_PIPS_dataset_RB15/plots'\n",
    "\n",
    "fig, ax = plt.subplots(figsize=(7,7))\n",
    "\n",
    "# Relations from literature\n",
    "for CG_name, CG_label, CG_coeff, CG_col, CG_ls, CG_lw in zip(CG_list_lit, CG_label_lit, CG_coeff_lit, \n",
    "                                                             CG_col_lit, CG_ls_lit, CG_lw_lit):\n",
    "    CG_poly = np.polynomial.polynomial.Polynomial(CG_coeff)\n",
    "    xx = np.linspace(0.0, 30.0)\n",
    "    yy = CG_poly(xx)\n",
    "    ax.plot(xx, yy, label=CG_label, c=CG_col, ls=CG_ls, lw=CG_lw)\n",
    "    ax.set_xlim(0.0, 20.0)\n",
    "    ax.set_ylim(-5.0, 32.0)\n",
    "    ax.set_xlabel(r'$\\lambda$ (mm$^{-1}$)')\n",
    "    ax.set_ylabel(r'$\\mu$')\n",
    "    # plt.legend(loc='upper left', numpoints=1, ncol=3, fontsize=12.)\n",
    "\n",
    "# Relations from QC'ed dataset (but without RB15 correction)\n",
    "for CG_name, CG_label, CG_coeff, CG_col, CG_ls, CG_lw in zip(CG_list_qc, CG_label_qc, CG_coeff_qc, \n",
    "                                                             CG_col_qc, CG_ls_qc, CG_lw_qc):\n",
    "    CG_poly = np.polynomial.polynomial.Polynomial(CG_coeff)\n",
    "    xx = np.linspace(0.0, 30.0)\n",
    "    yy = CG_poly(xx)\n",
    "    ax.plot(xx, yy, label=CG_label, c=CG_col, ls=CG_ls, lw=CG_lw)\n",
    "    ax.set_xlim(0.0, 20.0)\n",
    "    ax.set_ylim(-5.0, 20.0)\n",
    "    ax.set_xlabel(r'$\\lambda$ (mm$^{-1}$)')\n",
    "    ax.set_ylabel(r'$\\mu$')\n",
    "    \n",
    "# Relations from QC'ed dataset (with RB15 correction)\n",
    "for CG_name, CG_label, CG_coeff, CG_col, CG_ls, CG_lw in zip(CG_list_RB15_qc, CG_label_RB15_qc, CG_coeff_RB15_qc, \n",
    "                                                             CG_col_RB15_qc, CG_ls_RB15_qc, CG_lw_RB15_qc):\n",
    "    CG_poly = np.polynomial.polynomial.Polynomial(CG_coeff)\n",
    "    xx = np.linspace(0.0, 30.0)\n",
    "    yy = CG_poly(xx)\n",
    "    ax.plot(xx, yy, label=CG_label, c=CG_col, ls=CG_ls, lw=CG_lw)\n",
    "    ax.set_xlim(0.0, 20.0)\n",
    "    ax.set_ylim(-5.0, 20.0)\n",
    "    ax.set_xlabel(r'$\\lambda$ (mm$^{-1}$)')\n",
    "    ax.set_ylabel(r'$\\mu$')\n",
    "    \n",
    "plt.legend(bbox_to_anchor=(0.04, 1.0), loc='upper left')\n",
    "plt.tight_layout()\n",
    "\n",
    "figname = 'all_CG_relations.eps'\n",
    "figpath = os.path.join(plot_dir, figname)\n",
    "plt.savefig(figpath, dpi=300, bbox_inches='tight')\n"
   ]
  },
  {
   "cell_type": "code",
   "execution_count": null,
   "metadata": {
    "ExecuteTime": {
     "end_time": "2020-05-18T19:13:07.759896Z",
     "start_time": "2020-05-18T19:13:05.779585Z"
    }
   },
   "outputs": [],
   "source": [
    "# Now plot sigma vs. Dm for observations and relations\n",
    "# Set up range of lambda\n",
    "lamda_CG = np.linspace(0., 30., num=1000)\n",
    "\n",
    "# Plot Uncorrected dataset\n",
    "\n",
    "# Filter dataset for R > 5 and counts > 1000\n",
    "PIPS_ds_filt = PIPS_ds.where((PIPS_ds['rainrate_derived_qc'] > 5.0) & (PIPS_ds['pcount_derived_qc'] > 1000), \n",
    "                             drop=True)\n",
    "Dm43_obs = PIPS_ds['Dm43_qc'] * 1000.\n",
    "sigma_obs = PIPS_ds['sigma_qc'] * 1000.\n",
    "Dm43_obs_filt = PIPS_ds_filt['Dm43_qc'] * 1000.\n",
    "sigma_obs_filt = PIPS_ds_filt['sigma_qc'] * 1000.\n",
    "\n",
    "fig, ax = plt.subplots(figsize=(7, 7))\n",
    "ax.scatter(Dm43_obs, sigma_obs, color='green', s=10, alpha=0.5)\n",
    "ax.scatter(Dm43_obs_filt, sigma_obs_filt, color='darkgoldenrod', s=20, alpha=0.75)\n",
    "# Loop through CG relations and plot associated Dm-sigma points\n",
    "# First C08 and Z01\n",
    "for CG_name, CG_label, CG_coeff, CG_col, CG_ls, CG_lw in zip(CG_list_lit, CG_label_lit, CG_coeff_lit, \n",
    "                                                             CG_col_lit, CG_ls_lit, CG_lw_lit):\n",
    "    mu_CG = dsd.calc_mu_lamda(lamda_CG, CG_coeff)\n",
    "    Dm43_CG = (4. + mu_CG) / lamda_CG\n",
    "    sigma_CG = np.sqrt((4. + mu_CG) / lamda_CG**2.)\n",
    "    ax.plot(Dm43_CG, sigma_CG, label=CG_label, c=CG_col, ls=CG_ls, lw=CG_lw, alpha=0.75)\n",
    "# Uncorrected relations\n",
    "for CG_name, CG_label, CG_coeff, CG_col, CG_ls, CG_lw in zip(CG_list_qc, CG_label_qc, CG_coeff_qc, \n",
    "                                                             CG_col_qc, CG_ls_qc, CG_lw_qc):\n",
    "    mu_CG = dsd.calc_mu_lamda(lamda_CG, CG_coeff)\n",
    "    Dm43_CG = (4. + mu_CG) / lamda_CG\n",
    "    sigma_CG = np.sqrt((4. + mu_CG) / lamda_CG**2.)\n",
    "    ax.plot(Dm43_CG, sigma_CG, label=CG_label, c=CG_col, ls=CG_ls, lw=CG_lw, alpha=0.75)\n",
    "    \n",
    "ax.set_xlim(0.0, 5.0)\n",
    "ax.set_ylim(0.0, 2.5)\n",
    "ax.set_xlabel(r'$D_m$ (mm)')\n",
    "ax.set_ylabel(r'$\\sigma_m$ (mm)')\n",
    "\n",
    "plt.legend(bbox_to_anchor=(0.04, 1.0), loc='upper left')\n",
    "plt.tight_layout()\n",
    "plt.savefig(plot_dir + '/all_sigma_Dm_qc.png', dpi=200, bbox_inches='tight')"
   ]
  },
  {
   "cell_type": "code",
   "execution_count": null,
   "metadata": {
    "ExecuteTime": {
     "end_time": "2020-05-18T19:13:07.759896Z",
     "start_time": "2020-05-18T19:13:05.779585Z"
    }
   },
   "outputs": [],
   "source": [
    "# Now plot sigma vs. Dm for observations and relations\n",
    "# Set up range of lambda\n",
    "lamda_CG = np.linspace(0., 30., num=1000)\n",
    "\n",
    "# Plot Uncorrected dataset\n",
    "PIPS_ds_RB15 = PIPS_ds_read.where(PIPS_ds_read['rainrate_derived_RB15_qc'] > 0.1, drop=True)\n",
    "# Filter dataset for R > 5 and counts > 1000\n",
    "PIPS_ds_RB15_filt = PIPS_ds_RB15.where((PIPS_ds_RB15['rainrate_derived_RB15_qc'] > 5.0) & \n",
    "                                       (PIPS_ds_RB15['pcount_derived_RB15_qc'] > 1000), drop=True)\n",
    "\n",
    "Dm43_obs = PIPS_ds_RB15['Dm43_RB15_qc'] * 1000.\n",
    "sigma_obs = PIPS_ds_RB15['sigma_RB15_qc'] * 1000.\n",
    "\n",
    "Dm43_obs_filt = PIPS_ds_RB15_filt['Dm43_RB15_qc'] * 1000.\n",
    "sigma_obs_filt = PIPS_ds_RB15_filt['sigma_RB15_qc'] * 1000.\n",
    "\n",
    "fig, ax = plt.subplots(figsize=(7, 7))\n",
    "ax.scatter(Dm43_obs, sigma_obs, color='green', s=10, alpha=0.5)\n",
    "ax.scatter(Dm43_obs_filt, sigma_obs_filt, color='darkgoldenrod', s=20, alpha=0.75)\n",
    "# Loop through CG relations and plot associated Dm-sigma points\n",
    "# First C08 and Z01\n",
    "for CG_name, CG_label, CG_coeff, CG_col, CG_ls, CG_lw in zip(CG_list_lit, CG_label_lit, CG_coeff_lit, \n",
    "                                                             CG_col_lit, CG_ls_lit, CG_lw_lit):\n",
    "    mu_CG = dsd.calc_mu_lamda(lamda_CG, CG_coeff)\n",
    "    Dm43_CG = (4. + mu_CG) / lamda_CG\n",
    "    sigma_CG = np.sqrt((4. + mu_CG) / lamda_CG**2.)\n",
    "    ax.plot(Dm43_CG, sigma_CG, label=CG_label, c=CG_col, ls=CG_ls, lw=CG_lw, alpha=0.75)\n",
    "# RB15 relations\n",
    "for CG_name, CG_label, CG_coeff, CG_col, CG_ls, CG_lw in zip(CG_list_RB15_qc, CG_label_RB15_qc, CG_coeff_RB15_qc, \n",
    "                                                             CG_col_RB15_qc, CG_ls_RB15_qc, CG_lw_RB15_qc):\n",
    "    mu_CG = dsd.calc_mu_lamda(lamda_CG, CG_coeff)\n",
    "    Dm43_CG = (4. + mu_CG) / lamda_CG\n",
    "    sigma_CG = np.sqrt((4. + mu_CG) / lamda_CG**2.)\n",
    "    ax.plot(Dm43_CG, sigma_CG, label=CG_label, c=CG_col, ls=CG_ls, lw=CG_lw, alpha=0.75)\n",
    "    \n",
    "ax.set_xlim(0.0, 5.0)\n",
    "ax.set_ylim(0.0, 2.5)\n",
    "ax.set_xlabel(r'$D_m$ (mm)')\n",
    "ax.set_ylabel(r'$\\sigma_m$ (mm)')\n",
    "\n",
    "plt.legend(bbox_to_anchor=(0.04, 1.0), loc='upper left')\n",
    "plt.tight_layout()\n",
    "plt.savefig(plot_dir + '/all_sigma_Dm_RB15_qc.png', dpi=200, bbox_inches='tight')"
   ]
  },
  {
   "cell_type": "code",
   "execution_count": null,
   "metadata": {
    "ExecuteTime": {
     "end_time": "2020-05-18T19:14:24.449166Z",
     "start_time": "2020-05-18T19:13:26.519991Z"
    }
   },
   "outputs": [],
   "source": [
    "D0_bins = ND_combined.coords['D0_bins']\n",
    "RR_bins = ND_combined.coords['RR_bins']\n",
    "#print(D0_bins[0])\n",
    "#print(RR_bins[0])\n",
    "for group, ND_group in list(ND_groups)[:-1]:\n",
    "    num_DSDs = ND_group.sizes['D0_RR']\n",
    "    # print(group, num_DSDs)\n",
    "    if num_DSDs > 10 and group[1] > 0 and group[1] < 82:\n",
    "        #print(ND_group['diameter'])\n",
    "        fig, ax = plt.subplots(figsize=(10,10))\n",
    "        ND_group_avg = ND_group.mean('D0_RR')\n",
    "        print(D0_bins[group[0]], RR_bins[group[1]])\n",
    "        for ND in ND_group:\n",
    "            #print(ND)\n",
    "            ax.plot(ND_group['diameter'], ND, color='0.7', alpha=0.5)\n",
    "            ax.plot(ND_group['diameter'], ND_group_avg, 'k')\n",
    "#             ax.plot(avg_diameter,\n",
    "#                     Nc_bin_avg[r,\n",
    "#                                d],\n",
    "#                     'k',\n",
    "#                     label='(R,D0) = (%2.2f' % midpoint_R + ',%2.2f' % midpoint_D0 + ')')\n",
    "            ax.set_yscale('log')\n",
    "            ax.set_ylim(10.**-1.0, 10.**5.0)\n",
    "            ax.set_ylabel('Number Concentration, # m^-3 mm^-1')\n",
    "            ax.set_xlim(0.0, 8.0)\n",
    "            ax.set_xlabel('Diameter, mm')\n",
    "            ax.tick_params(direction='in', length=6, top='on', right='on')\n",
    "#             ax.legend(\n",
    "#                 bbox_to_anchor=(\n",
    "#                     1.,\n",
    "#                     1.),\n",
    "#                 loc='upper right',\n",
    "#                 ncol=1,\n",
    "#                 fancybox=True,\n",
    "#                 shadow=False)"
   ]
  },
  {
   "cell_type": "code",
   "execution_count": null,
   "metadata": {
    "ExecuteTime": {
     "end_time": "2020-05-18T19:23:28.100943Z",
     "start_time": "2020-05-18T19:22:46.918339Z"
    }
   },
   "outputs": [],
   "source": [
    "\n",
    "hist, xedges, yedges = np.histogram2d(ND_combined['RR'], ND_combined['D0'], bins=(RR_bins, D0_bins))\n",
    "hist = np.ma.masked_where(hist <= 0.0, hist)\n",
    "# add 2D color grid of bin sum\n"
   ]
  },
  {
   "cell_type": "code",
   "execution_count": null,
   "metadata": {
    "ExecuteTime": {
     "end_time": "2020-05-18T19:30:44.674884Z",
     "start_time": "2020-05-18T19:30:40.667039Z"
    }
   },
   "outputs": [],
   "source": [
    "fig, ax = plt.subplots(figsize=(10, 10))\n",
    "ax.set_xscale('log')\n",
    "C = ax.pcolormesh(RR_bins, D0_bins, hist.T, vmin=0.0, vmax=20.0)\n",
    "ax.set_xlabel(r'$R$ (mm h$^{-1}$)')\n",
    "ax.set_ylabel(r'$D_0$ (mm)')\n",
    "ax.set_xlim(0.1, 250.)\n",
    "divider = make_axes_locatable(ax)\n",
    "cax = divider.append_axes(\"right\", size=\"5%\", pad=0.05)\n",
    "cb = plt.colorbar(C, orientation='vertical', cax=cax, format = '%d')\n",
    "image_dir = os.path.join(PIPS_dir, 'plots')\n",
    "image_name = 'SATP_histogram.eps'\n",
    "image_path = os.path.join(image_dir, image_name)\n",
    "plt.savefig(image_path, dpi=200, bbox_inches='tight')"
   ]
  },
  {
   "cell_type": "code",
   "execution_count": null,
   "metadata": {
    "ExecuteTime": {
     "end_time": "2020-02-16T22:53:28.220013Z",
     "start_time": "2020-02-16T22:53:28.129491Z"
    }
   },
   "outputs": [],
   "source": [
    "import natsort\n",
    "natsort.natsorted(PIPS_filenames)"
   ]
  },
  {
   "cell_type": "code",
   "execution_count": null,
   "metadata": {
    "ExecuteTime": {
     "end_time": "2020-02-16T23:20:19.614406Z",
     "start_time": "2020-02-16T23:20:19.544237Z"
    }
   },
   "outputs": [],
   "source": []
  },
  {
   "cell_type": "code",
   "execution_count": null,
   "metadata": {},
   "outputs": [],
   "source": []
  }
 ],
 "metadata": {
  "anaconda-cloud": {},
  "hide_input": false,
  "kernelspec": {
   "display_name": "Python 3.7.3 64-bit ('pyPIPS': conda)",
   "language": "python",
   "name": "python37364bitpypipscondaea8788f6419a4a34be329df7b3b7ce88"
  },
  "language_info": {
   "codemirror_mode": {
    "name": "ipython",
    "version": 3
   },
   "file_extension": ".py",
   "mimetype": "text/x-python",
   "name": "python",
   "nbconvert_exporter": "python",
   "pygments_lexer": "ipython3",
   "version": "3.7.10"
  },
  "toc": {
   "base_numbering": 1,
   "nav_menu": {},
   "number_sections": true,
   "sideBar": true,
   "skip_h1_title": false,
   "title_cell": "Table of Contents",
   "title_sidebar": "Contents",
   "toc_cell": false,
   "toc_position": {},
   "toc_section_display": true,
   "toc_window_display": false
  },
  "varInspector": {
   "cols": {
    "lenName": 16,
    "lenType": 16,
    "lenVar": 40
   },
   "kernels_config": {
    "python": {
     "delete_cmd_postfix": "",
     "delete_cmd_prefix": "del ",
     "library": "var_list.py",
     "varRefreshCmd": "print(var_dic_list())"
    },
    "r": {
     "delete_cmd_postfix": ") ",
     "delete_cmd_prefix": "rm(",
     "library": "var_list.r",
     "varRefreshCmd": "cat(var_dic_list()) "
    }
   },
   "types_to_exclude": [
    "module",
    "function",
    "builtin_function_or_method",
    "instance",
    "_Feature"
   ],
   "window_display": false
  }
 },
 "nbformat": 4,
 "nbformat_minor": 2
}
