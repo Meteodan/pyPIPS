{
 "cells": [
  {
   "cell_type": "code",
   "execution_count": 10,
   "metadata": {
    "ExecuteTime": {
     "end_time": "2019-09-03T21:18:48.553425Z",
     "start_time": "2019-09-03T21:18:48.478698Z"
    }
   },
   "outputs": [],
   "source": [
    "#This notebook is for testing the download of PIPS data using the web API.\n",
    "#It uses urllib3 and BeautifulSoup4\n",
    "%matplotlib notebook\n",
    "import os\n",
    "from glob import glob\n",
    "import pandas as pd\n",
    "import xarray as xr\n",
    "import numpy as np\n",
    "from datetime import datetime"
   ]
  },
  {
   "cell_type": "code",
   "execution_count": 14,
   "metadata": {},
   "outputs": [],
   "source": [
    "# From https://stackoverflow.com/questions/6618515/sorting-list-based-on-values-from-another-list\n",
    "def sortby(X, Y):\n",
    "    \"\"\"Sorts list X by values in list Y\"\"\"\n",
    "    return [x for _, x in sorted(zip(Y, X), key=lambda pair: pair[0])]"
   ]
  },
  {
   "cell_type": "code",
   "execution_count": 18,
   "metadata": {
    "ExecuteTime": {
     "end_time": "2019-09-03T21:18:49.917577Z",
     "start_time": "2019-09-03T21:18:49.821037Z"
    }
   },
   "outputs": [],
   "source": [
    "netcdf_dir = '/Users/dawson29/sshfs_mounts/depot/data/Projects/TriPIPS/netcdf_web/'\n",
    "onesec_files = glob(netcdf_dir + 'onesec_*')\n",
    "# print(*[os.path.basename(f) for f in onesec_files], sep='\\n')\n",
    "timestampfmt = '%Y%m%d%H%M%S'\n",
    "timestamplist = [datetime.strptime(os.path.basename(f)[7:21], timestampfmt) for f in onesec_files]\n",
    "indices = sorted(range(len(timestamplist)), key=lambda k: timestamplist[k])\n",
    "timestamplist_sorted = [timestamplist[i] for i in indices]\n",
    "onesec_files_sorted = [onesec_files[i] for i in indices]"
   ]
  },
  {
   "cell_type": "code",
   "execution_count": null,
   "metadata": {
    "ExecuteTime": {
     "end_time": "2019-09-03T21:19:03.611093Z",
     "start_time": "2019-09-03T21:18:51.892190Z"
    },
    "scrolled": true
   },
   "outputs": [],
   "source": [
    "for file in onesec_files_sorted[1:]:\n",
    "    "
   ]
  },
  {
   "cell_type": "code",
   "execution_count": null,
   "metadata": {
    "ExecuteTime": {
     "end_time": "2019-09-03T22:58:45.319865Z",
     "start_time": "2019-09-03T21:19:34.398406Z"
    }
   },
   "outputs": [],
   "source": [
    "#%%time\n",
    "#for i in range(numiter):\n",
    "while True:\n",
    "    ax.clear()\n",
    "    ax_vd.clear()\n",
    "    ax_t_td.clear()\n",
    "    ax_windspd.clear()\n",
    "    ax_winddir.clear()\n",
    "    ax_pressure.clear()\n",
    "    onesec_new_df = scrape_tripips_onesec_data(url_onesec, numrecords=numrecords_append_onesec)\n",
    "    onesec_new_df['Dewpoint'] = thermo.calTdfromRH(onesec_new_df['Pressure'] * 100., onesec_new_df['SlowTemp'] + 273.15, \n",
    "                                     onesec_new_df['RH'] / 100.) - 273.15\n",
    "    # Append new data onto onesec_df\n",
    "    onesec_df = onesec_df.append(onesec_new_df)\n",
    "    # Drop duplicate timestamps\n",
    "    onesec_df = onesec_df[~onesec_df.index.duplicated(keep='first')]\n",
    "    # Drop records older than desired interval\n",
    "    last_timestamp_onesec = onesec_df.index[-1]\n",
    "    oldest_timestamp_onesec = last_timestamp_onesec-keep_data_for_ts\n",
    "    onesec_df = onesec_df.loc[oldest_timestamp_onesec:]\n",
    "    # Dump onesec dataframe to netCDF file (via xarray)\n",
    "    netcdf_filename = 'onesec_{}_{}.nc'.format(oldest_timestamp_onesec.strftime('%Y%m%d%H%M%S'), \n",
    "                                               last_timestamp_onesec.strftime('%Y%m%d%H%M%S' ))\n",
    "    netcdf_path = os.path.join(netcdf_output_dir, netcdf_filename)\n",
    "    onesec_df.to_xarray().to_netcdf(netcdf_path)\n",
    "    plottimes_onesec = [onesec_df.index.to_pydatetime()]\n",
    "    # Temperature and Dewpoint\n",
    "    fields_to_plot_onesec = [onesec_df['SlowTemp'].values, onesec_df['Dewpoint'].values]\n",
    "    field_parameters_onesec = [pm.temp_params, pm.dewpoint_params]\n",
    "    ax_t_td = pm.plotmeteogram(ax_t_td, plottimes_onesec, fields_to_plot_onesec, field_parameters_onesec)\n",
    "    temp_dewp_ax_params['axeslimits'][0] = (plottimes_onesec[0][0], plottimes_onesec[0][-1]) \n",
    "    ax_t_td, = pm.set_meteogram_axes([ax_t_td], [temp_dewp_ax_params])\n",
    "    # Wind speed and direction\n",
    "    ax_windspd = pm.plotmeteogram(ax_windspd, plottimes_onesec, [onesec_df['WS_ms'].values], [pm.windspeed_params])\n",
    "    ax_winddir = pm.plotmeteogram(ax_winddir, plottimes_onesec, [onesec_df['WindDir'].values], [pm.winddir_params])\n",
    "    windspd_ax_params['axeslimits'][0] = (plottimes_onesec[0][0], plottimes_onesec[0][-1])\n",
    "    winddir_ax_params['axeslimits'][0] = (plottimes_onesec[0][0], plottimes_onesec[0][-1])\n",
    "    ax_windspd, ax_winddir = pm.set_meteogram_axes([ax_windspd, ax_winddir], [windspd_ax_params, winddir_ax_params])\n",
    "    # Pressure\n",
    "    pmin = np.nanmin(onesec_df['Pressure'].values)\n",
    "    pmax = np.nanmax(onesec_df['Pressure'].values)\n",
    "    pressure_ax_params['axeslimits'] = [None, [pmin - 2.5, pmax + 2.5]]\n",
    "    fields_to_plot_press = [onesec_df['Pressure'].values]\n",
    "    field_parameters_press = [pm.pressure_params]\n",
    "    ax_pressure = pm.plotmeteogram(ax_pressure, plottimes_onesec, fields_to_plot_press, field_parameters_press)\n",
    "    ax_pressure, = pm.set_meteogram_axes([ax_pressure], [pressure_ax_params])\n",
    "    \n",
    "\n",
    "    # DSD plots\n",
    "    telegram_new_df, spectrum_new_da = scrape_tripips_tensec_data(url_tensec, numrecords=numrecords_append_tensec)\n",
    "    ND_new_da = calc_ND_da(spectrum_new_da)\n",
    "    # Append new data onto the data array\n",
    "    ND_da = xr.concat([ND_da, ND_new_da], dim='time')\n",
    "    # Drop duplicate timestamps\n",
    "    ND_da = ND_da.groupby('time').first()\n",
    "    # onesec_df = onesec_df[~onesec_df.index.duplicated(keep='first')]\n",
    "    # Drop records older than desired interval\n",
    "    last_timestamp = ND_da['time'].to_index()[-1]\n",
    "    spectrum = spectrum_new_da.loc[last_timestamp]\n",
    "    # print(last_timestamp)\n",
    "    oldest_timestamp = last_timestamp-keep_data_for_ts\n",
    "    ND_da = ND_da.loc[oldest_timestamp:]\n",
    "    # Dump ND_da to netcdf file\n",
    "    \n",
    "    netcdf_filename = 'ND_{}_{}.nc'.format(oldest_timestamp.strftime('%Y%m%d%H%M%S'), \n",
    "                                       last_timestamp.strftime('%Y%m%d%H%M%S' ))\n",
    "    netcdf_path = os.path.join(netcdf_output_dir, netcdf_filename)\n",
    "    ND_da.to_dataset(name='ND').to_netcdf(netcdf_path)\n",
    "                                \n",
    "    plottimes = [ND_da['time'].to_index().to_pydatetime()]\n",
    "    ND_arr = ND_da.values.T\n",
    "    logND_arr = np.ma.log10(ND_arr)\n",
    "    fields_to_plot = [logND_arr]\n",
    "    field_parameters = [log_ND_params]\n",
    "    ax = pm.plotmeteogram(ax, plottimes, fields_to_plot, field_parameters, \n",
    "                          yvals=[min_diameter] * len(fields_to_plot))\n",
    "    ax, = pm.set_meteogram_axes([ax], [log_ND_ax_params])\n",
    "    ax_vd.set_title('Fall speed vs. diameter for time {0}'.format(last_timestamp.strftime(tm.timefmt2)))\n",
    "    countsplot = np.ma.masked_where(spectrum.values <= 0, spectrum)\n",
    "    C = ax_vd.pcolor(min_diameter, min_fall_bins, countsplot, vmin=1, vmax=50, edgecolors='w')\n",
    "    divider = make_axes_locatable(ax_vd)\n",
    "    cax = divider.append_axes(\"right\", size=\"5%\")\n",
    "    cb = fig_vd.colorbar(C, cax=cax, orientation='vertical')\n",
    "    ax_vd.set_xlim(0.0, 10.0)\n",
    "    ax_vd.xaxis.set_major_locator(ticker.MultipleLocator(2.0))\n",
    "    ax_vd.set_xlabel('diameter (mm)')\n",
    "    ax_vd.set_ylim(0.0, 10.0)\n",
    "    ax_vd.yaxis.set_major_locator(ticker.MultipleLocator(1.0))\n",
    "    ax_vd.set_ylabel('fall speed (m/s)')\n",
    "    \n",
    "    display.display(fig)\n",
    "    display.display(fig_vd)\n",
    "    display.display(fig_t_td)\n",
    "    display.display(fig_wind)\n",
    "    display.display(fig_pressure)\n",
    "    display.clear_output(wait=True)\n",
    "    # fig.canvas.draw()\n",
    "    fig.savefig(os.path.join(image_output_dir, 'logND_current.png'), dpi=300)\n",
    "    fig_vd.savefig(os.path.join(image_output_dir, 'VD_current.png'), dpi=300)\n",
    "    fig_t_td.savefig(os.path.join(image_output_dir, 'T_Td_current.png'), dpi=300)\n",
    "    fig_wind.savefig(os.path.join(image_output_dir, 'wind_current.png'), dpi=300)\n",
    "    fig_pressure.savefig(os.path.join(image_output_dir, 'pressure.png'), dpi=300)\n",
    "    \n",
    "    # plt.pause(0.01)\n",
    "    # Sleep for the desired interval. This may not be perfectly accurate\n",
    "    time.sleep(plot_update_interval)"
   ]
  },
  {
   "cell_type": "code",
   "execution_count": null,
   "metadata": {},
   "outputs": [],
   "source": []
  }
 ],
 "metadata": {
  "anaconda-cloud": {},
  "hide_input": false,
  "kernelspec": {
   "display_name": "Python 3",
   "language": "python",
   "name": "python3"
  },
  "language_info": {
   "codemirror_mode": {
    "name": "ipython",
    "version": 3
   },
   "file_extension": ".py",
   "mimetype": "text/x-python",
   "name": "python",
   "nbconvert_exporter": "python",
   "pygments_lexer": "ipython3",
   "version": "3.7.3"
  },
  "toc": {
   "base_numbering": 1,
   "nav_menu": {},
   "number_sections": true,
   "sideBar": true,
   "skip_h1_title": false,
   "title_cell": "Table of Contents",
   "title_sidebar": "Contents",
   "toc_cell": false,
   "toc_position": {},
   "toc_section_display": true,
   "toc_window_display": false
  },
  "varInspector": {
   "cols": {
    "lenName": 16,
    "lenType": 16,
    "lenVar": 40
   },
   "kernels_config": {
    "python": {
     "delete_cmd_postfix": "",
     "delete_cmd_prefix": "del ",
     "library": "var_list.py",
     "varRefreshCmd": "print(var_dic_list())"
    },
    "r": {
     "delete_cmd_postfix": ") ",
     "delete_cmd_prefix": "rm(",
     "library": "var_list.r",
     "varRefreshCmd": "cat(var_dic_list()) "
    }
   },
   "types_to_exclude": [
    "module",
    "function",
    "builtin_function_or_method",
    "instance",
    "_Feature"
   ],
   "window_display": false
  }
 },
 "nbformat": 4,
 "nbformat_minor": 2
}
