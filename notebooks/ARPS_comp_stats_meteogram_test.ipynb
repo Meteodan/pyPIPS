{
 "cells": [
  {
   "cell_type": "code",
   "execution_count": 1,
   "metadata": {},
   "outputs": [
    {
     "name": "stdout",
     "output_type": "stream",
     "text": [
      "\n",
      "## You are using the Python ARM Radar Toolkit (Py-ART), an open source\n",
      "## library for working with weather radar data. Py-ART is partly\n",
      "## supported by the U.S. Department of Energy as part of the Atmospheric\n",
      "## Radiation Measurement (ARM) Climate Research Facility, an Office of\n",
      "## Science user facility.\n",
      "##\n",
      "## If you use this software to prepare a publication, please cite:\n",
      "##\n",
      "##     JJ Helmus and SM Collis, JORS 2016, doi: 10.5334/jors.119\n",
      "\n"
     ]
    }
   ],
   "source": [
    "# This script plots meteograms from the Portable Integrated Precipitation Stations (PIPS)\n",
    "import os\n",
    "import argparse\n",
    "from datetime import datetime\n",
    "import numpy as np\n",
    "import pandas as pd\n",
    "import matplotlib.ticker as ticker\n",
    "import matplotlib.dates as dates\n",
    "import pyPIPS.parsivel_params as pp\n",
    "import pyPIPS.radarmodule as radar\n",
    "import pyPIPS.plotmodule as pm\n",
    "import pyPIPS.pips_io as pipsio\n",
    "import pyPIPS.utils as utils\n",
    "import pyPIPS.PIPS as pips\n",
    "import pyPIPS.parsivel_qc as pqc\n",
    "import pyPIPS.DSDlib as dsd\n",
    "import pyPIPS.polarimetric as dp\n",
    "import pyPIPS.timemodule as tm"
   ]
  },
  {
   "cell_type": "code",
   "execution_count": 2,
   "metadata": {},
   "outputs": [],
   "source": [
    "min_diameter = pp.parsivel_parameters['min_diameter_bins_mm']\n",
    "max_diameter = pp.parsivel_parameters['max_diameter_bins_mm']\n",
    "bin_width = max_diameter - min_diameter\n",
    "avg_diameter = pp.parsivel_parameters['avg_diameter_bins_mm']\n",
    "min_fall_bins = pp.parsivel_parameters['min_fallspeed_bins_mps']\n",
    "max_fall_bins = pp.parsivel_parameters['max_fallspeed_bins_mps']\n",
    "avg_fall_bins = pp.parsivel_parameters['avg_fallspeed_bins_mps']"
   ]
  },
  {
   "cell_type": "code",
   "execution_count": 7,
   "metadata": {},
   "outputs": [],
   "source": [
    "# Extract needed lists and variables from PIPS_IO_dict configuration dictionary\n",
    "dataset_name = 'IOP4C_2017'\n",
    "deployment_names = ['IOP4C_D1_2017'] * 3\n",
    "PIPS_dir = '/depot/dawson29/data/Projects/VORTEXSE/obsdata/2017/PIPS/IOP4C'\n",
    "plot_dir = '/depot/dawson29/data/Projects/VORTEXSE/simulations/ARPS/2017_IOP4C/EnKF/PIPS/plots/CCN1000_original'\n",
    "PIPS_types = ['PIPS'] * 3,\n",
    "PIPS_names = ['PIPS1A', 'PIPS1B', 'PIPS2B']\n",
    "PIPS_filenames = ['PIPS1A_2017_IOP4C_D1.txt', 'PIPS1B_2017_IOP4C_D1.txt','PIPS2B_2017_IOP4C_D1.txt']\n",
    "PIPS_filenames_nc = ['parsivel_combined_IOP4C_D1_2017_PIPS1A_60s.nc','parsivel_combined_IOP4C_D1_2017_PIPS1B_60s.nc','parsivel_combined_IOP4C_D1_2017_PIPS2B_60s.nc']\n",
    "start_times = [None] * 3\n",
    "end_times = [None] * 3\n",
    "geo_locs = 'geo_locs'\n",
    "requested_interval = 60.\n"
   ]
  },
  {
   "cell_type": "code",
   "execution_count": 8,
   "metadata": {},
   "outputs": [],
   "source": [
    "# Create the directory for the meteogram plots if it doesn't exist\n",
    "meteogram_image_dir = os.path.join(plot_dir, 'meteograms')\n",
    "if not os.path.exists(meteogram_image_dir):\n",
    "    os.makedirs(meteogram_image_dir)"
   ]
  },
  {
   "cell_type": "code",
   "execution_count": 9,
   "metadata": {},
   "outputs": [
    {
     "name": "stdout",
     "output_type": "stream",
     "text": [
      "GPS time: Sun Apr 30 17:48:02 2017, Logger time: Sun Apr 30 17:48:02 2017\n",
      "GPS Offset: 0:00:00\n",
      "Lat/Lon/alt of PIPS1A: g\n",
      "Requested DSD interval: 60.0. Actual DSD interval: 60.0\n"
     ]
    }
   ],
   "source": [
    "# Read in the PIPS data for the deployment\n",
    "conv_df_list = []\n",
    "parsivel_df_list = []\n",
    "vd_matrix_da_list = []\n",
    "\n",
    "for index, PIPS_filename, PIPS_name, start_time, end_time, geo_loc, ptype in zip(range(\n",
    "        0, len(PIPS_filenames)), PIPS_filenames, PIPS_names, start_times, end_times, geo_locs,\n",
    "        PIPS_types):\n",
    "\n",
    "    tripips = (ptype == 'TriPIPS')\n",
    "    PIPS_data_file_path = os.path.join(PIPS_dir, PIPS_filename)\n",
    "    conv_df, parsivel_df, vd_matrix_da = pipsio.read_PIPS(PIPS_data_file_path,\n",
    "                                                          start_timestamp=start_time,\n",
    "                                                          end_timestamp=end_time, tripips=tripips)\n",
    "    # We need the disdrometer locations. If they aren't supplied in the input control file, find\n",
    "    # them from the GPS data\n",
    "    if not geo_loc:\n",
    "        geo_locs[index] = pipsio.get_PIPS_loc(conv_df['GPS_status'], conv_df['GPS_lat'],\n",
    "                                              conv_df['GPS_lon'], conv_df['GPS_alt'])\n",
    "\n",
    "    print(\"Lat/Lon/alt of {}: {}\".format(PIPS_name, str(geo_locs[index])))\n",
    "\n",
    "    # Resample the parsivel data to a longer interval if desired\n",
    "    if requested_interval > 10.:\n",
    "        DSD_interval = pips.check_requested_resampling_interval(requested_interval, 10.)\n",
    "        vd_matrix_da = pips.resample_vd_matrix(DSD_interval, vd_matrix_da)\n",
    "        parsivel_df = pips.resample_parsivel(DSD_interval, parsivel_df)\n",
    "    else:\n",
    "        DSD_interval = 10.\n",
    "\n",
    "    conv_df_list.append(conv_df)\n",
    "    parsivel_df_list.append(parsivel_df)\n",
    "    vd_matrix_da_list.append(vd_matrix_da)"
   ]
  },
  {
   "cell_type": "code",
   "execution_count": null,
   "metadata": {
    "collapsed": true
   },
   "outputs": [],
   "source": []
  }
 ],
 "metadata": {
  "kernelspec": {
   "display_name": "Python (My pyPIPS Kernel)",
   "language": "python",
   "name": "pypips"
  },
  "language_info": {
   "codemirror_mode": {
    "name": "ipython",
    "version": 3
   },
   "file_extension": ".py",
   "mimetype": "text/x-python",
   "name": "python",
   "nbconvert_exporter": "python",
   "pygments_lexer": "ipython3",
   "version": "3.7.6"
  }
 },
 "nbformat": 4,
 "nbformat_minor": 4
}
