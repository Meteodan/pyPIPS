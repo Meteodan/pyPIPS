{
 "cells": [
  {
   "cell_type": "code",
   "execution_count": 1,
   "metadata": {
    "ExecuteTime": {
     "end_time": "2019-09-11T02:10:59.400733Z",
     "start_time": "2019-09-11T02:10:56.926766Z"
    }
   },
   "outputs": [
    {
     "name": "stdout",
     "output_type": "stream",
     "text": [
      "\n",
      "## You are using the Python ARM Radar Toolkit (Py-ART), an open source\n",
      "## library for working with weather radar data. Py-ART is partly\n",
      "## supported by the U.S. Department of Energy as part of the Atmospheric\n",
      "## Radiation Measurement (ARM) Climate Research Facility, an Office of\n",
      "## Science user facility.\n",
      "##\n",
      "## If you use this software to prepare a publication, please cite:\n",
      "##\n",
      "##     JJ Helmus and SM Collis, JORS 2016, doi: 10.5334/jors.119\n",
      "\n"
     ]
    },
    {
     "name": "stderr",
     "output_type": "stream",
     "text": [
      "/Users/dawson29/miniconda3/envs/pyPIPS/lib/python3.7/site-packages/pyart/graph/cm.py:104: FutureWarning: elementwise comparison failed; returning scalar instead, but in the future will perform elementwise comparison\n",
      "  if 'red' in spec:\n",
      "/Users/dawson29/miniconda3/envs/pyPIPS/lib/python3.7/site-packages/pyart/graph/cm_colorblind.py:32: FutureWarning: elementwise comparison failed; returning scalar instead, but in the future will perform elementwise comparison\n",
      "  if 'red' in spec:\n"
     ]
    }
   ],
   "source": [
    "%load_ext autoreload\n",
    "%autoreload 2\n",
    "import ipyvolume as ipv\n",
    "import numpy as np\n",
    "import numpy.ma as ma\n",
    "import matplotlib\n",
    "import matplotlib.pyplot as plt\n",
    "import matplotlib.cm as cm\n",
    "import matplotlib.ticker as ticker\n",
    "from mpl_toolkits.axes_grid1 import ImageGrid,make_axes_locatable,host_subplot\n",
    "from datetime import datetime, timedelta\n",
    "import pytz as pytz\n",
    "import sys\n",
    "import os\n",
    "import pyPIPS.thermolib as thermo\n",
    "import pyPIPS.DSDlib as dsd\n",
    "import pyPIPS.disdrometer_module as dis\n",
    "import pyPIPS.plotmodule as pm\n",
    "import pyPIPS.simulator as sim\n",
    "import pyPIPS.parsivel_params as pp\n",
    "import pyPIPS.PIPS as pips\n",
    "import pandas as pd\n",
    "import xarray as xr\n",
    "import glob\n",
    "import numpy.random as random\n",
    "from scipy.stats import gamma, uniform\n",
    "from scipy.special import gamma as gammafunc\n",
    "from metpy.plots import ctables\n",
    "# Weird that you have to do this twice...\n",
    "# %matplotlib notebook\n",
    "# %matplotlib notebook "
   ]
  },
  {
   "cell_type": "code",
   "execution_count": 2,
   "metadata": {
    "ExecuteTime": {
     "end_time": "2019-09-11T02:11:01.367651Z",
     "start_time": "2019-09-11T02:11:01.294845Z"
    }
   },
   "outputs": [],
   "source": [
    "# Some global parameters\n",
    "rhoacst = 1.0 # kg m^-3\n",
    "cr = 1000.*np.pi/6.\n",
    "\n",
    "sampling_area_mm2 = pp.parsivel_parameters['sensor_area_mm2']\n",
    "sampling_width_mm = pp.parsivel_parameters['sensor_width_mm']\n",
    "sampling_length_mm = pp.parsivel_parameters['sensor_length_mm']\n",
    "\n",
    "sampling_width = sampling_width_mm / 1000.\n",
    "sampling_length = sampling_length_mm / 1000."
   ]
  },
  {
   "cell_type": "code",
   "execution_count": 133,
   "metadata": {
    "ExecuteTime": {
     "end_time": "2019-09-11T03:00:34.336014Z",
     "start_time": "2019-09-11T03:00:34.261492Z"
    }
   },
   "outputs": [],
   "source": [
    "# Function definitions\n",
    "def plotDSD(Dl, Dmid, Dr, ND, ax=None):\n",
    "    \"\"\"Plots a DSD on a semilog plot\"\"\"\n",
    "    if ax is None:\n",
    "        fig = plt.figure(figsize=(8,6))\n",
    "        ax = fig.add_subplot(111)\n",
    "    ax.bar(Dl, ND, Dr-Dl, 10.**2., align='edge', log=True, color='tan', edgecolor = 'k', label='exact')\n",
    "    ax.set_yscale('log')\n",
    "    ax.set_ylim(10.**2., 10.**6.)\n",
    "    ax.set_xlim(0., 9.)\n",
    "    ax.set_xlabel('D (mm)')\n",
    "    ax.set_ylabel(r'N(D) $(m^{-4})$')\n",
    "    \n",
    "    return ax\n",
    "\n",
    "def plotVD(Dl, Dmid, Vl, countsMatrix, Vt_fit, ax=None, strongwindflag=False):\n",
    "    \"\"\"Plot drop counts in each velocity/diameter bin for a given DSD\"\"\"\n",
    "    if ax is None:\n",
    "        fig = plt.figure(figsize=(8,6))\n",
    "        ax = fig.add_subplot(111)\n",
    "    countsplot = ma.masked_where(countsMatrix <= 0, countsMatrix)\n",
    "\n",
    "    C = ax.pcolor(Dl, Vl, countsplot, vmin=1, vmax=50, edgecolors='w')\n",
    "    ax.plot(Dmid, Vt_fit, c='r')\n",
    "    # ax1.scatter(X[0:10,20:31],Y[0:10,20:31],c='r',marker='x')\n",
    "    fig.colorbar(C)\n",
    "\n",
    "    if(strongwindflag):\n",
    "        ax.text(0.5, 0.5, 'Flagged for strong wind contamination!',\n",
    "                 horizontalalignment='center',\n",
    "                 verticalalignment='center', color='y',\n",
    "                 transform=ax.transAxes)\n",
    "#     if(plot_strongwindQC):\n",
    "#         ax1.scatter(X[strongwindmask], Y[strongwindmask], c='r', marker='x', alpha=1.0)\n",
    "#     if(plot_splashingQC):\n",
    "#         ax1.scatter(X[splashmask], Y[splashmask], c='w', marker='o', alpha=0.75)\n",
    "#         # ax1.pcolor(min_diameter,min_fall_bins,ma.masked_array(splashmask,mask=-splashmask),cmap=cm.Reds,alpha=0.1)\n",
    "#     if(plot_marginQC):\n",
    "#         ax1.scatter(X[marginmask], Y[marginmask], c='g', marker='x', alpha=0.1)\n",
    "#         # ax1.pcolor(min_diameter,min_fall_bins,ma.masked_array(marginmask,mask=-marginmask),cmap=cm.Reds,alpha=0.1)\n",
    "#     if(plot_rainfallspeedQC):\n",
    "#         ax1.scatter(X[fallspeedmask], Y[fallspeedmask], c='k', marker='x', alpha=0.5)\n",
    "#         # ax1.pcolor(min_diameter,min_fall_bins,ma.masked_array(fallspeedmask,mask=-fallspeedmask),cmap=cm.gray,alpha=0.1)\n",
    "#     if(plot_rainonlyQC):\n",
    "#         ax1.scatter(X[rainonlymask], Y[rainonlymask], c='g', marker='x', alpha=0.5)\n",
    "\n",
    "    ax.set_xlim(0.0, 9.0)\n",
    "    ax.xaxis.set_major_locator(ticker.MultipleLocator(1.0))\n",
    "    ax.set_xlabel('D (mm)')\n",
    "    ax.set_ylim(0.0, 15.0)\n",
    "    ax.yaxis.set_major_locator(ticker.MultipleLocator(1.0))\n",
    "    ax.set_ylabel(r'V$_T$ (m s$^{-1}$)')"
   ]
  },
  {
   "cell_type": "code",
   "execution_count": 134,
   "metadata": {
    "ExecuteTime": {
     "end_time": "2019-09-11T03:00:37.633276Z",
     "start_time": "2019-09-11T03:00:37.564630Z"
    }
   },
   "outputs": [
    {
     "name": "stdout",
     "output_type": "stream",
     "text": [
      "[0.       0.000125 0.00025  0.000375 0.0005   0.000625 0.00075  0.000875\n",
      " 0.001    0.001125 0.00125  0.0015   0.00175  0.002    0.00225  0.0025\n",
      " 0.003    0.0035   0.004    0.0045   0.005    0.006    0.007    0.008\n",
      " 0.009    0.01     0.012    0.014    0.016    0.018    0.02     0.023\n",
      " 0.026   ]\n",
      "225.6758334191025\n"
     ]
    }
   ],
   "source": [
    "D = pp.parsivel_parameters['avg_diameter_bins_mm'] / 1000.\n",
    "Dl = pp.parsivel_parameters['min_diameter_bins_mm'] / 1000.\n",
    "Dr = pp.parsivel_parameters['max_diameter_bins_mm'] / 1000.\n",
    "\n",
    "Dedges = np.append(Dl, Dr[-1])\n",
    "print(Dedges)\n",
    "\n",
    "alphar = 2.0\n",
    "qr = 1.0 # g kg^-1\n",
    "N0r = 8.0e11 # M-P value (m^-4)\n",
    "\n",
    "ND, Ntr, lamdar, alphar = dsd.calc_gamma_DSD(rhoacst, D, cr, qr, N0=N0r, alpha=alphar)\n",
    "print(Ntr)\n",
    "\n",
    "# ND_sample = sim.samplegammaDSD(Ntr, lamdar, alphar, bins=Dedges)\n",
    "\n",
    "# print(ND)\n",
    "# print(ND_sample)"
   ]
  },
  {
   "cell_type": "code",
   "execution_count": 169,
   "metadata": {
    "ExecuteTime": {
     "end_time": "2019-09-11T03:28:45.664749Z",
     "start_time": "2019-09-11T03:28:44.412008Z"
    },
    "scrolled": false
   },
   "outputs": [
    {
     "name": "stdout",
     "output_type": "stream",
     "text": [
      "Dmax_index =  31\n",
      "sampling height =  103.9388043622587\n",
      "sampling volume =  0.5612695435561968\n",
      "number concentration =  225.6758334191025\n",
      "number of particles in sampling volume =  126\n",
      "minimum, maximum diameter in sample =  8.505864171192363e-05 0.006478935377553553\n",
      "maximum allowed diameter =  0.026\n",
      "number of particles less than Dmax =  126\n",
      "number of particles above the lowest two bins =  122\n",
      "number of particles within allowable diameter range =  122\n",
      "minimum, maximum particle diameter in truncated sample =  0.00030289799276349825 0.006478935377553553\n",
      "number of particles that fall through sampling area =  66\n",
      "number of these that are margin fallers =  3\n",
      "Removing margin fallers!\n",
      "(33,)\n"
     ]
    },
    {
     "data": {
      "image/png": "[encoded data removed]",
      "text/plain": [
       "<Figure size 576x432 with 2 Axes>"
      ]
     },
     "metadata": {
      "needs_background": "light"
     },
     "output_type": "display_data"
    }
   ],
   "source": [
    "intv=10\n",
    "remove_margins = True\n",
    "Vtr = pips.calc_empirical_fallspeed(D*1000., correct_rho=True, rho=rhoacst)\n",
    "sample_dict = sim.create_random_gamma_DSD(Ntr, lamdar, alphar, Vtr, \n",
    "                                          sampling_length, sampling_width, Dl, D, Dr, sampling_interval=intv,\n",
    "                                          verbose=True, remove_margins=remove_margins, rhocorrect=True, \n",
    "                                          rho=rhoacst)\n",
    "positions = sample_dict['positions']\n",
    "diameters = sample_dict['diameters']\n",
    "velocities = sample_dict['velocities']\n",
    "ND_sample = sample_dict['ND']\n",
    "margin_mask = sample_dict['margin_mask']\n",
    "\n",
    "positions = positions.T\n",
    "fig = plt.figure(figsize=(8,6))\n",
    "ax = fig.add_subplot(111)\n",
    "c = pm.circles(positions[0]*100, positions[1]*100, diameters/2.*100, c=positions[2], alpha=0.5)\n",
    "divider = make_axes_locatable(ax)\n",
    "cax = divider.append_axes(\"top\", size=\"5%\", pad=0.15)\n",
    "cbar = plt.colorbar(c, cax=cax, orientation='horizontal')\n",
    "cbar.ax.set_xlabel('height (m)')\n",
    "cbar.ax.xaxis.set_label_position('top')\n",
    "cbar.ax.xaxis.set_ticks_position('top')\n",
    "if not remove_margins:\n",
    "    pm.circles(positions[0][margin_mask], positions[1][margin_mask], diameters[margin_mask], c='r', alpha=1.0)\n",
    "#ax.scatter(positions[0], positions[1], c=positions[2], alpha=0.5, s=diameters*1000.)\n",
    "ax.set_xlabel('(cm)')\n",
    "ax.set_ylabel('(cm)')\n",
    "ax.set_xlim(0.0, sampling_length*100)\n",
    "ax.set_ylim(0.0, sampling_width*100)\n",
    "ax.set_aspect('equal')\n",
    "plt.savefig('parsivel_beam_drops_{:d}_intv.png'.format(intv), dpi=300, bbox_inches='tight')"
   ]
  },
  {
   "cell_type": "code",
   "execution_count": 170,
   "metadata": {
    "ExecuteTime": {
     "end_time": "2019-09-11T03:28:48.130428Z",
     "start_time": "2019-09-11T03:28:45.988004Z"
    }
   },
   "outputs": [
    {
     "data": {
      "image/png": "[encoded data removed]",
      "text/plain": [
       "<Figure size 576x432 with 1 Axes>"
      ]
     },
     "metadata": {
      "needs_background": "light"
     },
     "output_type": "display_data"
    }
   ],
   "source": [
    "# Plot ND along with sampled ND\n",
    "ax = plotDSD(Dl*1000., D*1000., Dr*1000., ND)\n",
    "ax.bar(Dl*1000., ND_sample, (Dr-Dl)*1000., 10.**2., align='edge', log=True, color='b', edgecolor = 'k', alpha=0.5, label='sampled')\n",
    "ax.text(0.3, 0.9, 'Sampling interval = {:d} s'.format(intv), transform=ax.transAxes, fontsize=15)\n",
    "ax.text(0.75, 0.8, '# of particles = {:d}'.format(len(diameters)), transform=ax.transAxes)\n",
    "ax.text(0.75, 0.75, r'q = {:0.1f}'.format(qr) + r' g kg$^{-1}$', transform=ax.transAxes)\n",
    "ax.text(0.75, 0.7, r'N$_{T}$'+ ' = {:0.1f}'.format(Ntr) + r' m$^{-3}$', transform=ax.transAxes)\n",
    "ax.text(0.75, 0.65, r'$\\alpha$ = {:0.1f}'.format(alphar), transform=ax.transAxes)\n",
    "ax.legend()\n",
    "plt.savefig('gamma_DSD_demo_{:d}_intv.png'.format(intv), dpi=300, bbox_inches='tight')"
   ]
  },
  {
   "cell_type": "code",
   "execution_count": 62,
   "metadata": {
    "ExecuteTime": {
     "end_time": "2019-09-11T02:39:49.210451Z",
     "start_time": "2019-09-11T02:39:49.085694Z"
    }
   },
   "outputs": [
    {
     "name": "stdout",
     "output_type": "stream",
     "text": [
      "[0.12788997 0.07696056 0.13597595 ... 0.11151285 0.12778736 0.10705402] [0.01417649 0.01671344 0.01480965 ... 0.02970537 0.00698098 0.02072963] [0.17941634 1.62858378 0.15381068 ... 0.70658901 1.22131533 0.1295116 ]\n"
     ]
    },
    {
     "name": "stderr",
     "output_type": "stream",
     "text": [
      "/Users/dawson29/miniconda3/envs/pyPIPS/lib/python3.7/site-packages/ipywidgets/widgets/widget.py:411: DeprecationWarning: Passing unrecoginized arguments to super(PerspectiveCamera).__init__(width=400, height=500).\n",
      "object.__init__() takes exactly one argument (the instance to initialize)\n",
      "This is deprecated in traitlets 4.2.This error will be raised in a future release of traitlets.\n",
      "  super(Widget, self).__init__(**kwargs)\n",
      "/Users/dawson29/miniconda3/envs/pyPIPS/lib/python3.7/site-packages/ipywidgets/widgets/widget.py:411: DeprecationWarning: Passing unrecoginized arguments to super(PerspectiveCamera).__init__(width=400, height=500).\n",
      "object.__init__() takes exactly one argument (the instance to initialize)\n",
      "This is deprecated in traitlets 4.2.This error will be raised in a future release of traitlets.\n",
      "  super(Widget, self).__init__(**kwargs)\n",
      "/Users/dawson29/miniconda3/envs/pyPIPS/lib/python3.7/site-packages/ipywidgets/widgets/widget.py:411: DeprecationWarning: Passing unrecoginized arguments to super(Scatter).__init__(selection=None).\n",
      "object.__init__() takes exactly one argument (the instance to initialize)\n",
      "This is deprecated in traitlets 4.2.This error will be raised in a future release of traitlets.\n",
      "  super(Widget, self).__init__(**kwargs)\n"
     ]
    },
    {
     "data": {
      "application/vnd.jupyter.widget-view+json": {
       "model_id": "d8dce7ea0ae246b4a501a72fbb0cccd4",
       "version_major": 2,
       "version_minor": 0
      },
      "text/plain": [
       "VBox(children=(Figure(camera=PerspectiveCamera(fov=46.0, position=(0.0, 0.0, 2.0), quaternion=(0.0, 0.0, 0.0, …"
      ]
     },
     "metadata": {},
     "output_type": "display_data"
    }
   ],
   "source": [
    "scale=5\n",
    "zscale=0.02\n",
    "ipv.figure()\n",
    "#ipv.scatter(positions[0], positions[1], positions[2], marker='sphere', color='blue')\n",
    "ipv.quickscatter(positions[0]*scale, positions[1]*scale, positions[2]*zscale, \n",
    "                 size=diameters*scale*200., marker=\"sphere\", color='blue')\n",
    "print(positions[0], positions[1], positions[2]/100.)\n",
    "\n",
    "\n",
    "\n",
    "ipv.zlim(0., 1.0)\n",
    "ipv.xlim(0., sampling_length*scale)\n",
    "ipv.ylim(0., sampling_width*scale)\n",
    "ipv.squarelim()\n",
    "#ipv.xyzlim(-2, 2)\n",
    "ipv.show()"
   ]
  },
  {
   "cell_type": "code",
   "execution_count": null,
   "metadata": {},
   "outputs": [],
   "source": []
  }
 ],
 "metadata": {
  "anaconda-cloud": {},
  "hide_input": false,
  "kernelspec": {
   "display_name": "Python [conda env:pyPIPS]",
   "language": "python",
   "name": "conda-env-pyPIPS-py"
  },
  "language_info": {
   "codemirror_mode": {
    "name": "ipython",
    "version": 3
   },
   "file_extension": ".py",
   "mimetype": "text/x-python",
   "name": "python",
   "nbconvert_exporter": "python",
   "pygments_lexer": "ipython3",
   "version": "3.7.3"
  },
  "toc": {
   "base_numbering": 1,
   "nav_menu": {},
   "number_sections": true,
   "sideBar": true,
   "skip_h1_title": false,
   "title_cell": "Table of Contents",
   "title_sidebar": "Contents",
   "toc_cell": false,
   "toc_position": {},
   "toc_section_display": true,
   "toc_window_display": false
  },
  "varInspector": {
   "cols": {
    "lenName": 16,
    "lenType": 16,
    "lenVar": 40
   },
   "kernels_config": {
    "python": {
     "delete_cmd_postfix": "",
     "delete_cmd_prefix": "del ",
     "library": "var_list.py",
     "varRefreshCmd": "print(var_dic_list())"
    },
    "r": {
     "delete_cmd_postfix": ") ",
     "delete_cmd_prefix": "rm(",
     "library": "var_list.r",
     "varRefreshCmd": "cat(var_dic_list()) "
    }
   },
   "types_to_exclude": [
    "module",
    "function",
    "builtin_function_or_method",
    "instance",
    "_Feature"
   ],
   "window_display": false
  }
 },
 "nbformat": 4,
 "nbformat_minor": 2
}
