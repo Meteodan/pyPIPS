{
 "cells": [
  {
   "cell_type": "code",
   "execution_count": 1,
   "metadata": {
    "ExecuteTime": {
     "end_time": "2019-09-09T17:19:00.178178Z",
     "start_time": "2019-09-09T17:18:57.457794Z"
    }
   },
   "outputs": [
    {
     "name": "stdout",
     "output_type": "stream",
     "text": [
      "\n",
      "## You are using the Python ARM Radar Toolkit (Py-ART), an open source\n",
      "## library for working with weather radar data. Py-ART is partly\n",
      "## supported by the U.S. Department of Energy as part of the Atmospheric\n",
      "## Radiation Measurement (ARM) Climate Research Facility, an Office of\n",
      "## Science user facility.\n",
      "##\n",
      "## If you use this software to prepare a publication, please cite:\n",
      "##\n",
      "##     JJ Helmus and SM Collis, JORS 2016, doi: 10.5334/jors.119\n",
      "\n"
     ]
    },
    {
     "name": "stderr",
     "output_type": "stream",
     "text": [
      "/Users/dawson29/miniconda3/envs/pyPIPS/lib/python3.7/site-packages/pyart/graph/cm.py:104: FutureWarning: elementwise comparison failed; returning scalar instead, but in the future will perform elementwise comparison\n",
      "  if 'red' in spec:\n",
      "/Users/dawson29/miniconda3/envs/pyPIPS/lib/python3.7/site-packages/pyart/graph/cm_colorblind.py:32: FutureWarning: elementwise comparison failed; returning scalar instead, but in the future will perform elementwise comparison\n",
      "  if 'red' in spec:\n"
     ]
    }
   ],
   "source": [
    "%load_ext autoreload\n",
    "%autoreload 2\n",
    "import ipyvolume as ipv\n",
    "import numpy as np\n",
    "import numpy.ma as ma\n",
    "import matplotlib\n",
    "import matplotlib.pyplot as plt\n",
    "import matplotlib.cm as cm\n",
    "import matplotlib.ticker as ticker\n",
    "from mpl_toolkits.axes_grid1 import ImageGrid,make_axes_locatable,host_subplot\n",
    "from datetime import datetime, timedelta\n",
    "import pytz as pytz\n",
    "import sys\n",
    "import os\n",
    "import pyPIPS.thermolib as thermo\n",
    "import pyPIPS.DSDlib as dsd\n",
    "import pyPIPS.disdrometer_module as dis\n",
    "import pyPIPS.plotmodule as pm\n",
    "import pyPIPS.simulator as sim\n",
    "import pyPIPS.parsivel_params as pp\n",
    "import pyPIPS.PIPS as pips\n",
    "import pandas as pd\n",
    "import xarray as xr\n",
    "import glob\n",
    "import numpy.random as random\n",
    "from scipy.stats import gamma, uniform\n",
    "from scipy.special import gamma as gammafunc\n",
    "from metpy.plots import ctables\n",
    "# Weird that you have to do this twice...\n",
    "# %matplotlib notebook\n",
    "# %matplotlib notebook "
   ]
  },
  {
   "cell_type": "code",
   "execution_count": 2,
   "metadata": {
    "ExecuteTime": {
     "end_time": "2019-09-09T17:19:01.528920Z",
     "start_time": "2019-09-09T17:19:01.457892Z"
    }
   },
   "outputs": [],
   "source": [
    "# Some global parameters\n",
    "rhoacst = 1.0 # kg m^-3\n",
    "cr = 1000.*np.pi/6.\n",
    "\n",
    "sampling_area_mm2 = pp.parsivel_parameters['sensor_area_mm2']\n",
    "sampling_width_mm = pp.parsivel_parameters['sensor_width_mm']\n",
    "sampling_length_mm = pp.parsivel_parameters['sensor_length_mm']\n",
    "\n",
    "sampling_width = sampling_width_mm / 1000.\n",
    "sampling_length = sampling_length_mm / 1000."
   ]
  },
  {
   "cell_type": "code",
   "execution_count": 3,
   "metadata": {
    "ExecuteTime": {
     "end_time": "2019-09-09T17:19:03.019038Z",
     "start_time": "2019-09-09T17:19:02.938542Z"
    }
   },
   "outputs": [],
   "source": [
    "# Function definitions\n",
    "def plotDSD(Dl, Dmid, Dr, ND, ax=None):\n",
    "    \"\"\"Plots a DSD on a semilog plot\"\"\"\n",
    "    if ax is None:\n",
    "        fig = plt.figure(figsize=(8,6))\n",
    "        ax = fig.add_subplot(111)\n",
    "    ax.bar(Dl, ND, Dr-Dl, 10.**2., align='edge', log=True, color='tan', edgecolor = 'k')\n",
    "    ax.set_yscale('log')\n",
    "    ax.set_ylim(10.**2., 10.**8.5)\n",
    "    ax.set_xlim(0., 9.)\n",
    "    ax.set_xlabel('D (mm)')\n",
    "    ax.set_ylabel(r'N(D) $(m^{-4})$')\n",
    "    \n",
    "    return ax\n",
    "\n",
    "def plotVD(Dl, Dmid, Vl, countsMatrix, Vt_fit, ax=None, strongwindflag=False):\n",
    "    \"\"\"Plot drop counts in each velocity/diameter bin for a given DSD\"\"\"\n",
    "    if ax is None:\n",
    "        fig = plt.figure(figsize=(8,6))\n",
    "        ax = fig.add_subplot(111)\n",
    "    countsplot = ma.masked_where(countsMatrix <= 0, countsMatrix)\n",
    "\n",
    "    C = ax.pcolor(Dl, Vl, countsplot, vmin=1, vmax=50, edgecolors='w')\n",
    "    ax.plot(Dmid, Vt_fit, c='r')\n",
    "    # ax1.scatter(X[0:10,20:31],Y[0:10,20:31],c='r',marker='x')\n",
    "    fig.colorbar(C)\n",
    "\n",
    "    if(strongwindflag):\n",
    "        ax.text(0.5, 0.5, 'Flagged for strong wind contamination!',\n",
    "                 horizontalalignment='center',\n",
    "                 verticalalignment='center', color='y',\n",
    "                 transform=ax.transAxes)\n",
    "#     if(plot_strongwindQC):\n",
    "#         ax1.scatter(X[strongwindmask], Y[strongwindmask], c='r', marker='x', alpha=1.0)\n",
    "#     if(plot_splashingQC):\n",
    "#         ax1.scatter(X[splashmask], Y[splashmask], c='w', marker='o', alpha=0.75)\n",
    "#         # ax1.pcolor(min_diameter,min_fall_bins,ma.masked_array(splashmask,mask=-splashmask),cmap=cm.Reds,alpha=0.1)\n",
    "#     if(plot_marginQC):\n",
    "#         ax1.scatter(X[marginmask], Y[marginmask], c='g', marker='x', alpha=0.1)\n",
    "#         # ax1.pcolor(min_diameter,min_fall_bins,ma.masked_array(marginmask,mask=-marginmask),cmap=cm.Reds,alpha=0.1)\n",
    "#     if(plot_rainfallspeedQC):\n",
    "#         ax1.scatter(X[fallspeedmask], Y[fallspeedmask], c='k', marker='x', alpha=0.5)\n",
    "#         # ax1.pcolor(min_diameter,min_fall_bins,ma.masked_array(fallspeedmask,mask=-fallspeedmask),cmap=cm.gray,alpha=0.1)\n",
    "#     if(plot_rainonlyQC):\n",
    "#         ax1.scatter(X[rainonlymask], Y[rainonlymask], c='g', marker='x', alpha=0.5)\n",
    "\n",
    "    ax.set_xlim(0.0, 9.0)\n",
    "    ax.xaxis.set_major_locator(ticker.MultipleLocator(1.0))\n",
    "    ax.set_xlabel('D (mm)')\n",
    "    ax.set_ylim(0.0, 15.0)\n",
    "    ax.yaxis.set_major_locator(ticker.MultipleLocator(1.0))\n",
    "    ax.set_ylabel(r'V$_T$ (m s$^{-1}$)')"
   ]
  },
  {
   "cell_type": "code",
   "execution_count": 14,
   "metadata": {
    "ExecuteTime": {
     "end_time": "2019-09-09T18:22:27.789724Z",
     "start_time": "2019-09-09T18:22:27.712232Z"
    }
   },
   "outputs": [
    {
     "name": "stdout",
     "output_type": "stream",
     "text": [
      "[0.       0.000125 0.00025  0.000375 0.0005   0.000625 0.00075  0.000875\n",
      " 0.001    0.001125 0.00125  0.0015   0.00175  0.002    0.00225  0.0025\n",
      " 0.003    0.0035   0.004    0.0045   0.005    0.006    0.007    0.008\n",
      " 0.009    0.01     0.012    0.014    0.016    0.018    0.02     0.023\n",
      " 0.026   ]\n",
      "0.7136496464611085\n",
      "[3.07040908e-02 2.66766439e-01 7.15354199e-01 1.35353547e+00\n",
      " 2.15998642e+00 3.11489788e+00 4.19988682e+00 5.39791250e+00\n",
      " 6.69319697e+00 8.07114974e+00 1.02638956e+01 1.33597533e+01\n",
      " 1.65759769e+01 1.98417210e+01 2.30979575e+01 2.78605097e+01\n",
      " 3.37955993e+01 3.90774059e+01 4.35924031e+01 4.72922450e+01\n",
      " 5.13195372e+01 5.40659187e+01 5.42948855e+01 5.26033941e+01\n",
      " 4.95635776e+01 4.35321471e+01 3.45931782e+01 2.62038630e+01\n",
      " 1.91495991e+01 1.36096854e+01 8.61125814e+00 4.79888585e+00]\n",
      "[0. 0. 0. 0. 0. 0. 0. 0. 0. 0. 0. 0. 0. 0. 0. 0. 0. 0. 0. 0. 0. 0. 0. 0.\n",
      " 0. 0. 0. 0. 0. 0. 0. 0.]\n"
     ]
    }
   ],
   "source": [
    "D = pp.parsivel_parameters['avg_diameter_bins_mm'] / 1000.\n",
    "Dl = pp.parsivel_parameters['min_diameter_bins_mm'] / 1000.\n",
    "Dr = pp.parsivel_parameters['max_diameter_bins_mm'] / 1000.\n",
    "\n",
    "Dedges = np.append(Dl, Dr[-1])\n",
    "print(Dedges)\n",
    "\n",
    "alphar = 2\n",
    "qr = 1.0 # g kg^-1\n",
    "N0r = 8.0e6 # M-P value (m^-4)\n",
    "\n",
    "ND, Ntr, lamdar, alphar = dsd.calc_gamma_DSD(rhoacst, D, cr, qr, N0=N0r, alpha=alphar)\n",
    "print(Ntr)\n",
    "\n",
    "ND_sample = sim.samplegammaDSD(Ntr, lamdar, alphar, bins=Dedges)\n",
    "\n",
    "print(ND)\n",
    "print(ND_sample)"
   ]
  },
  {
   "cell_type": "code",
   "execution_count": 15,
   "metadata": {
    "ExecuteTime": {
     "end_time": "2019-09-09T18:22:31.612383Z",
     "start_time": "2019-09-09T18:22:31.518700Z"
    },
    "scrolled": false
   },
   "outputs": [
    {
     "name": "stdout",
     "output_type": "stream",
     "text": [
      "Dmax_index =  31\n",
      "sampling height =  103.9388043622587\n",
      "sampling volume =  0.5612695435561968\n",
      "number concentration =  0.7136496464611085\n",
      "number of particles in sampling volume =  0\n"
     ]
    },
    {
     "ename": "ValueError",
     "evalue": "zero-size array to reduction operation minimum which has no identity",
     "output_type": "error",
     "traceback": [
      "\u001b[0;31m---------------------------------------------------------------------------\u001b[0m",
      "\u001b[0;31mValueError\u001b[0m                                Traceback (most recent call last)",
      "\u001b[0;32m<ipython-input-15-171b5c930f39>\u001b[0m in \u001b[0;36m<module>\u001b[0;34m\u001b[0m\n\u001b[1;32m      4\u001b[0m                                           \u001b[0msampling_length\u001b[0m\u001b[0;34m,\u001b[0m \u001b[0msampling_width\u001b[0m\u001b[0;34m,\u001b[0m \u001b[0mDl\u001b[0m\u001b[0;34m,\u001b[0m \u001b[0mD\u001b[0m\u001b[0;34m,\u001b[0m \u001b[0mDr\u001b[0m\u001b[0;34m,\u001b[0m\u001b[0;34m\u001b[0m\u001b[0;34m\u001b[0m\u001b[0m\n\u001b[1;32m      5\u001b[0m                                           \u001b[0mverbose\u001b[0m\u001b[0;34m=\u001b[0m\u001b[0;32mTrue\u001b[0m\u001b[0;34m,\u001b[0m \u001b[0mremove_margins\u001b[0m\u001b[0;34m=\u001b[0m\u001b[0mremove_margins\u001b[0m\u001b[0;34m,\u001b[0m \u001b[0mrhocorrect\u001b[0m\u001b[0;34m=\u001b[0m\u001b[0;32mTrue\u001b[0m\u001b[0;34m,\u001b[0m\u001b[0;34m\u001b[0m\u001b[0;34m\u001b[0m\u001b[0m\n\u001b[0;32m----> 6\u001b[0;31m                                           rho=rhoacst)\n\u001b[0m\u001b[1;32m      7\u001b[0m \u001b[0mpositions\u001b[0m \u001b[0;34m=\u001b[0m \u001b[0msample_dict\u001b[0m\u001b[0;34m[\u001b[0m\u001b[0;34m'positions'\u001b[0m\u001b[0;34m]\u001b[0m\u001b[0;34m\u001b[0m\u001b[0;34m\u001b[0m\u001b[0m\n\u001b[1;32m      8\u001b[0m \u001b[0mdiameters\u001b[0m \u001b[0;34m=\u001b[0m \u001b[0msample_dict\u001b[0m\u001b[0;34m[\u001b[0m\u001b[0;34m'diameters'\u001b[0m\u001b[0;34m]\u001b[0m\u001b[0;34m\u001b[0m\u001b[0;34m\u001b[0m\u001b[0m\n",
      "\u001b[0;32m~/Projects/pyPIPS/pyPIPS/simulator.py\u001b[0m in \u001b[0;36mcreate_random_gamma_DSD\u001b[0;34m(Nt, lamda, alpha, Vt, sampling_length, sampling_width, Dl, Dmid, Dr, Dmin, Dmax, sampling_interval, remove_margins, verbose, rhocorrect, rho, mask_lowest, perturb_vel)\u001b[0m\n\u001b[1;32m     97\u001b[0m     \u001b[0mdiameters\u001b[0m \u001b[0;34m=\u001b[0m \u001b[0msamplegammaDSD\u001b[0m\u001b[0;34m(\u001b[0m\u001b[0mn\u001b[0m\u001b[0;34m,\u001b[0m \u001b[0mlamda\u001b[0m\u001b[0;34m,\u001b[0m \u001b[0malpha\u001b[0m\u001b[0;34m)\u001b[0m\u001b[0;34m\u001b[0m\u001b[0;34m\u001b[0m\u001b[0m\n\u001b[1;32m     98\u001b[0m     \u001b[0;32mif\u001b[0m \u001b[0mverbose\u001b[0m\u001b[0;34m:\u001b[0m\u001b[0;34m\u001b[0m\u001b[0;34m\u001b[0m\u001b[0m\n\u001b[0;32m---> 99\u001b[0;31m         \u001b[0mprint\u001b[0m\u001b[0;34m(\u001b[0m\u001b[0;34m\"minimum, maximum diameter in sample = \"\u001b[0m\u001b[0;34m,\u001b[0m \u001b[0mdiameters\u001b[0m\u001b[0;34m.\u001b[0m\u001b[0mmin\u001b[0m\u001b[0;34m(\u001b[0m\u001b[0;34m)\u001b[0m\u001b[0;34m,\u001b[0m \u001b[0mdiameters\u001b[0m\u001b[0;34m.\u001b[0m\u001b[0mmax\u001b[0m\u001b[0;34m(\u001b[0m\u001b[0;34m)\u001b[0m\u001b[0;34m)\u001b[0m\u001b[0;34m\u001b[0m\u001b[0;34m\u001b[0m\u001b[0m\n\u001b[0m\u001b[1;32m    100\u001b[0m         \u001b[0mprint\u001b[0m\u001b[0;34m(\u001b[0m\u001b[0;34m\"maximum allowed diameter = \"\u001b[0m\u001b[0;34m,\u001b[0m \u001b[0mDmax\u001b[0m \u001b[0;34m/\u001b[0m \u001b[0;36m1000.\u001b[0m\u001b[0;34m)\u001b[0m\u001b[0;34m\u001b[0m\u001b[0;34m\u001b[0m\u001b[0m\n\u001b[1;32m    101\u001b[0m     \u001b[0;31m# Restrict diameters to be less than Dmax\u001b[0m\u001b[0;34m\u001b[0m\u001b[0;34m\u001b[0m\u001b[0;34m\u001b[0m\u001b[0m\n",
      "\u001b[0;32m~/miniconda3/envs/pyPIPS/lib/python3.7/site-packages/numpy/core/_methods.py\u001b[0m in \u001b[0;36m_amin\u001b[0;34m(a, axis, out, keepdims, initial)\u001b[0m\n\u001b[1;32m     30\u001b[0m def _amin(a, axis=None, out=None, keepdims=False,\n\u001b[1;32m     31\u001b[0m           initial=_NoValue):\n\u001b[0;32m---> 32\u001b[0;31m     \u001b[0;32mreturn\u001b[0m \u001b[0mumr_minimum\u001b[0m\u001b[0;34m(\u001b[0m\u001b[0ma\u001b[0m\u001b[0;34m,\u001b[0m \u001b[0maxis\u001b[0m\u001b[0;34m,\u001b[0m \u001b[0;32mNone\u001b[0m\u001b[0;34m,\u001b[0m \u001b[0mout\u001b[0m\u001b[0;34m,\u001b[0m \u001b[0mkeepdims\u001b[0m\u001b[0;34m,\u001b[0m \u001b[0minitial\u001b[0m\u001b[0;34m)\u001b[0m\u001b[0;34m\u001b[0m\u001b[0;34m\u001b[0m\u001b[0m\n\u001b[0m\u001b[1;32m     33\u001b[0m \u001b[0;34m\u001b[0m\u001b[0m\n\u001b[1;32m     34\u001b[0m def _sum(a, axis=None, dtype=None, out=None, keepdims=False,\n",
      "\u001b[0;31mValueError\u001b[0m: zero-size array to reduction operation minimum which has no identity"
     ]
    }
   ],
   "source": [
    "remove_margins = True\n",
    "Vtr = pips.calc_empirical_fallspeed(D*1000., correct_rho=True, rho=rhoacst)\n",
    "sample_dict = sim.create_random_gamma_DSD(Ntr, lamdar, alphar, Vtr, \n",
    "                                          sampling_length, sampling_width, Dl, D, Dr, \n",
    "                                          verbose=True, remove_margins=remove_margins, rhocorrect=True, \n",
    "                                          rho=rhoacst)\n",
    "positions = sample_dict['positions']\n",
    "diameters = sample_dict['diameters']\n",
    "velocities = sample_dict['velocities']\n",
    "ND_sample = sample_dict['ND']\n",
    "margin_mask = sample_dict['margin_mask']\n",
    "\n",
    "positions = positions.T\n",
    "fig = plt.figure(figsize=(8,6))\n",
    "ax = fig.add_subplot(111)\n",
    "pm.circles(positions[0], positions[1], diameters/2., c=positions[2], alpha=0.5)\n",
    "if not remove_margins:\n",
    "    pm.circles(positions[0][margin_mask], positions[1][margin_mask], diameters[margin_mask], c='r', alpha=1.0)\n",
    "#ax.scatter(positions[0], positions[1], c=positions[2], alpha=0.5, s=diameters*1000.)\n",
    "ax.set_xlim(0.0, sampling_length)\n",
    "ax.set_ylim(0.0, sampling_width)\n",
    "ax.set_aspect('equal')"
   ]
  },
  {
   "cell_type": "code",
   "execution_count": 8,
   "metadata": {
    "ExecuteTime": {
     "end_time": "2019-09-09T18:14:06.152267Z",
     "start_time": "2019-09-09T18:14:05.796055Z"
    }
   },
   "outputs": [
    {
     "name": "stderr",
     "output_type": "stream",
     "text": [
      "/Users/dawson29/miniconda3/envs/pyPIPS/lib/python3.7/site-packages/ipywidgets/widgets/widget.py:411: DeprecationWarning: Passing unrecoginized arguments to super(PerspectiveCamera).__init__(width=400, height=500).\n",
      "object.__init__() takes exactly one argument (the instance to initialize)\n",
      "This is deprecated in traitlets 4.2.This error will be raised in a future release of traitlets.\n",
      "  super(Widget, self).__init__(**kwargs)\n",
      "/Users/dawson29/miniconda3/envs/pyPIPS/lib/python3.7/site-packages/ipywidgets/widgets/widget.py:411: DeprecationWarning: Passing unrecoginized arguments to super(Scatter).__init__(selection=None).\n",
      "object.__init__() takes exactly one argument (the instance to initialize)\n",
      "This is deprecated in traitlets 4.2.This error will be raised in a future release of traitlets.\n",
      "  super(Widget, self).__init__(**kwargs)\n"
     ]
    },
    {
     "data": {
      "application/vnd.jupyter.widget-view+json": {
       "model_id": "68f4020e60f2451fb7dfa240ecd3cf6a",
       "version_major": 2,
       "version_minor": 0
      },
      "text/plain": [
       "VBox(children=(Figure(camera=PerspectiveCamera(fov=46.0, position=(0.0, 0.0, 2.0), quaternion=(0.0, 0.0, 0.0, …"
      ]
     },
     "metadata": {},
     "output_type": "display_data"
    }
   ],
   "source": [
    "ipv.figure()\n",
    "ipv.scatter(positions[0], positions[1], positions[2], marker='sphere', color='blue')\n",
    "ipv.xyzlim(-2, 2)\n",
    "ipv.show()"
   ]
  },
  {
   "cell_type": "code",
   "execution_count": 11,
   "metadata": {
    "ExecuteTime": {
     "end_time": "2019-09-09T18:18:09.686886Z",
     "start_time": "2019-09-09T18:18:08.317043Z"
    }
   },
   "outputs": [
    {
     "data": {
      "text/plain": [
       "<BarContainer object of 32 artists>"
      ]
     },
     "execution_count": 11,
     "metadata": {},
     "output_type": "execute_result"
    },
    {
     "data": {
      "image/png": "[encoded data removed]",
      "text/plain": [
       "<Figure size 576x432 with 1 Axes>"
      ]
     },
     "metadata": {
      "needs_background": "light"
     },
     "output_type": "display_data"
    }
   ],
   "source": [
    "# Plot ND along with sampled ND\n",
    "ax = plotDSD(Dl*1000., D*1000., Dr*1000., ND)\n",
    "ax.bar(Dl*1000., ND_sample, (Dr-Dl)*1000., 10.**2., align='edge', log=True, color='b', edgecolor = 'k', alpha=0.5)\n"
   ]
  },
  {
   "cell_type": "code",
   "execution_count": null,
   "metadata": {},
   "outputs": [],
   "source": []
  }
 ],
 "metadata": {
  "anaconda-cloud": {},
  "hide_input": false,
  "kernelspec": {
   "display_name": "Python [conda env:pyPIPS]",
   "language": "python",
   "name": "conda-env-pyPIPS-py"
  },
  "language_info": {
   "codemirror_mode": {
    "name": "ipython",
    "version": 3
   },
   "file_extension": ".py",
   "mimetype": "text/x-python",
   "name": "python",
   "nbconvert_exporter": "python",
   "pygments_lexer": "ipython3",
   "version": "3.7.3"
  },
  "toc": {
   "base_numbering": 1,
   "nav_menu": {},
   "number_sections": true,
   "sideBar": true,
   "skip_h1_title": false,
   "title_cell": "Table of Contents",
   "title_sidebar": "Contents",
   "toc_cell": false,
   "toc_position": {},
   "toc_section_display": true,
   "toc_window_display": false
  },
  "varInspector": {
   "cols": {
    "lenName": 16,
    "lenType": 16,
    "lenVar": 40
   },
   "kernels_config": {
    "python": {
     "delete_cmd_postfix": "",
     "delete_cmd_prefix": "del ",
     "library": "var_list.py",
     "varRefreshCmd": "print(var_dic_list())"
    },
    "r": {
     "delete_cmd_postfix": ") ",
     "delete_cmd_prefix": "rm(",
     "library": "var_list.r",
     "varRefreshCmd": "cat(var_dic_list()) "
    }
   },
   "types_to_exclude": [
    "module",
    "function",
    "builtin_function_or_method",
    "instance",
    "_Feature"
   ],
   "window_display": false
  }
 },
 "nbformat": 4,
 "nbformat_minor": 2
}
