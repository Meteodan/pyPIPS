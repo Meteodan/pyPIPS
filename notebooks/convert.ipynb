{
 "cells": [
  {
   "cell_type": "code",
   "execution_count": 1,
   "metadata": {},
   "outputs": [],
   "source": [
    "# Converts PIPS data from the raw TOB32 to TOA5 format\n",
    "# uses external system call to camp2ascii"
   ]
  },
  {
   "cell_type": "code",
   "execution_count": 12,
   "metadata": {},
   "outputs": [],
   "source": [
    "import os\n",
    "import sys\n",
    "import subprocess\n",
    "import glob\n",
    "import re"
   ]
  },
  {
   "cell_type": "code",
   "execution_count": 13,
   "metadata": {},
   "outputs": [],
   "source": [
    "def atoi(text):\n",
    "    return int(text) if text.isdigit() else text\n",
    "\n",
    "def natural_keys(text):\n",
    "    '''\n",
    "    alist.sort(key=natural_keys) sorts in human order\n",
    "    http://nedbatchelder.com/blog/200712/human_sorting.html\n",
    "    (See Toothy's implementation in the comments)\n",
    "    '''\n",
    "    return [atoi(c) for c in re.split(r'(\\d+)', text)]"
   ]
  },
  {
   "cell_type": "code",
   "execution_count": 14,
   "metadata": {},
   "outputs": [
    {
     "name": "stdout",
     "output_type": "stream",
     "text": [
      "['/Users/dawson29/Dropbox/PIPS_data/SPOTTR2019/052819/raw/PIPS1B/Met_Location_OneHz951.dat', '/Users/dawson29/Dropbox/PIPS_data/SPOTTR2019/052819/raw/PIPS1B/Met_Location_OneHz952.dat', '/Users/dawson29/Dropbox/PIPS_data/SPOTTR2019/052819/raw/PIPS1B/Met_Location_OneHz953.dat', '/Users/dawson29/Dropbox/PIPS_data/SPOTTR2019/052819/raw/PIPS1B/Met_Location_OneHz954.dat', '/Users/dawson29/Dropbox/PIPS_data/SPOTTR2019/052819/raw/PIPS1B/Met_Location_OneHz955.dat', '/Users/dawson29/Dropbox/PIPS_data/SPOTTR2019/052819/raw/PIPS1B/Met_Location_OneHz956.dat', '/Users/dawson29/Dropbox/PIPS_data/SPOTTR2019/052819/raw/PIPS1B/Parsivel_TenHz1086.dat', '/Users/dawson29/Dropbox/PIPS_data/SPOTTR2019/052819/raw/PIPS1B/Parsivel_TenHz1087.dat', '/Users/dawson29/Dropbox/PIPS_data/SPOTTR2019/052819/raw/PIPS1B/Parsivel_TenHz1088.dat', '/Users/dawson29/Dropbox/PIPS_data/SPOTTR2019/052819/raw/PIPS1B/Parsivel_TenHz1089.dat', '/Users/dawson29/Dropbox/PIPS_data/SPOTTR2019/052819/raw/PIPS1B/Parsivel_TenHz1090.dat', '/Users/dawson29/Dropbox/PIPS_data/SPOTTR2019/052819/raw/PIPS1B/Parsivel_TenHz1091.dat']\n"
     ]
    }
   ],
   "source": [
    "# basedir = '/Users/dawson29/Dropbox/PIPS_data/SPOTTR2019/051919_test/raw/PIPS1B/'\n",
    "# inputsubdir = 'incoming_121418_011219'\n",
    "# outputsubdir = 'converted_121418_011219'\n",
    "basedir = '/Users/dawson29/Dropbox/PIPS_data/SPOTTR2019/052819/'\n",
    "inputsubdir = 'raw/PIPS1B/'\n",
    "outputsubdir = 'converted_test/PIPS1B/'\n",
    "inputdir = os.path.join(basedir, inputsubdir)\n",
    "outputdir = os.path.join(basedir, outputsubdir)\n",
    "if not os.path.exists(outputdir):\n",
    "    os.makedirs(outputdir)\n",
    "filelist = glob.glob(inputdir+'/*.dat')\n",
    "filelist.sort(key=natural_keys)\n",
    "print(filelist)"
   ]
  },
  {
   "cell_type": "code",
   "execution_count": 15,
   "metadata": {
    "scrolled": true
   },
   "outputs": [
    {
     "name": "stdout",
     "output_type": "stream",
     "text": [
      "Processing TOA5_Met_Location_OneHz951.dat\n",
      "Processing TOA5_Met_Location_OneHz952.dat\n",
      "Processing TOA5_Met_Location_OneHz953.dat\n",
      "Processing TOA5_Met_Location_OneHz954.dat\n",
      "Processing TOA5_Met_Location_OneHz955.dat\n",
      "Processing TOA5_Met_Location_OneHz956.dat\n",
      "Processing TOA5_Parsivel_TenHz1086.dat\n",
      "Processing TOA5_Parsivel_TenHz1087.dat\n",
      "Processing TOA5_Parsivel_TenHz1088.dat\n",
      "Processing TOA5_Parsivel_TenHz1089.dat\n",
      "Processing TOA5_Parsivel_TenHz1090.dat\n",
      "Processing TOA5_Parsivel_TenHz1091.dat\n"
     ]
    }
   ],
   "source": [
    "# Convert each file one-by-one\n",
    "for rawfile in filelist:\n",
    "    outfile = 'TOA5_' + os.path.basename(rawfile)\n",
    "    outpath = os.path.join(outputdir, outfile)\n",
    "    if not os.path.exists(outpath):\n",
    "        print(\"Processing {}\".format(outfile))\n",
    "        try:\n",
    "            output = subprocess.run(['camp2ascii', rawfile], stdout=subprocess.PIPE, universal_newlines=True, errors='ignore')\n",
    "            with open(outpath, 'w') as f:\n",
    "                f.write(output.stdout)\n",
    "        except:\n",
    "            print(\"Cannot read file! Skipping!\")\n",
    "    else:\n",
    "        print(\"Skipping {}\".format(outfile))"
   ]
  },
  {
   "cell_type": "code",
   "execution_count": 16,
   "metadata": {},
   "outputs": [],
   "source": [
    "# Fix converted one-sec files that have bad data at the end\n",
    "\n",
    "filelist = glob.glob(outputdir+'/*Met_Location*.dat')\n",
    "\n",
    "for converted_file in filelist:\n",
    "    badfile = False\n",
    "    newlines = []\n",
    "    with open(converted_file, 'r') as f:\n",
    "        lines = f.readlines()\n",
    "        for line in lines:\n",
    "            tokens = line.strip().split(',')\n",
    "            if \"1944\" in tokens[0]:\n",
    "                if not badfile:\n",
    "                    print(\"Found bad file {}! Fixing!\".format(converted_file))\n",
    "                badfile = True\n",
    "                break\n",
    "            else:\n",
    "                newlines.append(line)\n",
    "    if badfile:\n",
    "        new_file = converted_file + '_fixed'\n",
    "        with open(new_file, 'w') as f:\n",
    "            f.writelines(newlines)\n",
    "    \n",
    "                "
   ]
  },
  {
   "cell_type": "code",
   "execution_count": null,
   "metadata": {},
   "outputs": [],
   "source": []
  }
 ],
 "metadata": {
  "kernelspec": {
   "display_name": "Python 3",
   "language": "python",
   "name": "python3"
  },
  "language_info": {
   "codemirror_mode": {
    "name": "ipython",
    "version": 3
   },
   "file_extension": ".py",
   "mimetype": "text/x-python",
   "name": "python",
   "nbconvert_exporter": "python",
   "pygments_lexer": "ipython3",
   "version": "3.6.7"
  }
 },
 "nbformat": 4,
 "nbformat_minor": 2
}
