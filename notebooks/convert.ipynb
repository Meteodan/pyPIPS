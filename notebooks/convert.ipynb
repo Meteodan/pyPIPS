{
 "cells": [
  {
   "cell_type": "code",
   "execution_count": null,
   "metadata": {},
   "outputs": [],
   "source": [
    "# Converts PIPS data from the raw TOB32 to TOA5 format\n",
    "# uses external system call to camp2ascii"
   ]
  },
  {
   "cell_type": "code",
   "execution_count": null,
   "metadata": {},
   "outputs": [],
   "source": [
    "import os\n",
    "import sys\n",
    "import subprocess\n",
    "import glob\n",
    "import re"
   ]
  },
  {
   "cell_type": "code",
   "execution_count": null,
   "metadata": {},
   "outputs": [],
   "source": [
    "def atoi(text):\n",
    "    return int(text) if text.isdigit() else text\n",
    "\n",
    "def natural_keys(text):\n",
    "    '''\n",
    "    alist.sort(key=natural_keys) sorts in human order\n",
    "    http://nedbatchelder.com/blog/200712/human_sorting.html\n",
    "    (See Toothy's implementation in the comments)\n",
    "    '''\n",
    "    return [atoi(c) for c in re.split(r'(\\d+)', text)]"
   ]
  },
  {
   "cell_type": "code",
   "execution_count": null,
   "metadata": {},
   "outputs": [],
   "source": [
    "basedir = '/Users/dawson29/Dropbox/Projects/TriPIPS'\n",
    "inputsubdir = 'incoming_092819/'\n",
    "outputsubdir = 'converted_092819/'\n",
    "inputdir = os.path.join(basedir, inputsubdir)\n",
    "outputdir = os.path.join(basedir, outputsubdir)\n",
    "if not os.path.exists(outputdir):\n",
    "    os.makedirs(outputdir)\n",
    "filelist = glob.glob(inputdir+'/*.dat')\n",
    "filelist.sort(key=natural_keys)\n",
    "print(filelist)"
   ]
  },
  {
   "cell_type": "code",
   "execution_count": null,
   "metadata": {
    "scrolled": true
   },
   "outputs": [],
   "source": [
    "# Convert each file one-by-one\n",
    "for rawfile in filelist:\n",
    "    outfile = 'TOA5_' + os.path.basename(rawfile)\n",
    "    outpath = os.path.join(outputdir, outfile)\n",
    "    if not os.path.exists(outpath):\n",
    "        print(\"Processing {}\".format(outfile))\n",
    "        try:\n",
    "            output = subprocess.run(['camp2ascii', rawfile], stdout=subprocess.PIPE, universal_newlines=True, errors='ignore')\n",
    "            with open(outpath, 'w') as f:\n",
    "                f.write(output.stdout)\n",
    "        except:\n",
    "            print(\"Cannot read file! Skipping!\")\n",
    "    else:\n",
    "        print(\"Skipping {}\".format(outfile))"
   ]
  },
  {
   "cell_type": "code",
   "execution_count": null,
   "metadata": {},
   "outputs": [],
   "source": [
    "# Fix converted one-sec files that have bad data at the end\n",
    "\n",
    "filelist = glob.glob(outputdir+'/*Met_Location*.dat')\n",
    "\n",
    "for converted_file in filelist:\n",
    "    badfile = False\n",
    "    newlines = []\n",
    "    with open(converted_file, 'r') as f:\n",
    "        lines = f.readlines()\n",
    "        for line in lines:\n",
    "            tokens = line.strip().split(',')\n",
    "            if \"1944\" in tokens[0]:\n",
    "                if not badfile:\n",
    "                    print(\"Found bad file {}! Fixing!\".format(converted_file))\n",
    "                badfile = True\n",
    "                break\n",
    "            else:\n",
    "                newlines.append(line)\n",
    "    if badfile:\n",
    "        new_file = converted_file + '_fixed'\n",
    "        with open(new_file, 'w') as f:\n",
    "            f.writelines(newlines)\n",
    "    \n",
    "                "
   ]
  },
  {
   "cell_type": "code",
   "execution_count": null,
   "metadata": {},
   "outputs": [],
   "source": []
  }
 ],
 "metadata": {
  "kernelspec": {
   "display_name": "Python 3",
   "language": "python",
   "name": "python3"
  },
  "language_info": {
   "codemirror_mode": {
    "name": "ipython",
    "version": 3
   },
   "file_extension": ".py",
   "mimetype": "text/x-python",
   "name": "python",
   "nbconvert_exporter": "python",
   "pygments_lexer": "ipython3",
   "version": "3.7.3"
  }
 },
 "nbformat": 4,
 "nbformat_minor": 2
}
