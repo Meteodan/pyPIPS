{
 "cells": [
  {
   "cell_type": "code",
   "execution_count": null,
   "metadata": {
    "collapsed": true,
    "deletable": true,
    "editable": true
   },
   "outputs": [],
   "source": [
    "import numpy as N\n",
    "import matplotlib\n",
    "import matplotlib.pyplot as plt\n",
    "import matplotlib.cm as cm\n",
    "from datetime import datetime,timedelta\n",
    "import pytz as pytz\n",
    "import sys\n",
    "import os\n",
    "import pandas as pd\n",
    "import xarray as xr\n",
    "%load_ext autoreload\n",
    "%matplotlib inline\n",
    "%autoreload 2"
   ]
  },
  {
   "cell_type": "code",
   "execution_count": null,
   "metadata": {
    "collapsed": false,
    "deletable": true,
    "editable": true
   },
   "outputs": [],
   "source": [
    "a1 = N.random.randn(10)\n",
    "a2 = N.random.randn(10)\n",
    "a3 = N.random.randn(10)\n",
    "b1 = N.random.randn(10)\n",
    "b2 = N.random.randn(10)\n",
    "b3 = N.random.randn(10)\n",
    "c1 = N.random.randn(10)\n",
    "c2 = N.random.randn(10)\n",
    "c3 = N.random.randn(10)\n",
    "print a1\n",
    "print b1\n",
    "print b2\n",
    "\n",
    "index1 = pd.date_range('20130101',periods=10,name='Time')\n",
    "index2 = pd.date_range('20121231',periods=10,name='Time')\n",
    "index3 = pd.date_range('20130102',periods=10,name='Time')\n",
    "print index1\n",
    "print index2\n",
    "print index3"
   ]
  },
  {
   "cell_type": "code",
   "execution_count": null,
   "metadata": {
    "collapsed": false,
    "deletable": true,
    "editable": true
   },
   "outputs": [],
   "source": [
    "data_dict = {'a':a1,'b':b1,'c':c1}\n",
    "df1 = pd.DataFrame(data_dict,index=index1)\n",
    "data_dict = {'a':a2,'b':b2,'c':c2}\n",
    "df2 = pd.DataFrame(data_dict,index=index2)\n",
    "data_dict = {'a':a3,'b':b3,'c':c3}\n",
    "df3 = pd.DataFrame(data_dict,index=index3)\n",
    "print df1\n",
    "print df2\n",
    "print df3"
   ]
  },
  {
   "cell_type": "code",
   "execution_count": null,
   "metadata": {
    "collapsed": false,
    "deletable": true,
    "editable": true
   },
   "outputs": [],
   "source": [
    "# Create a pandas panel\n",
    "\n",
    "df_dict = {'df1':df1,'df2':df2,'df3':df3}\n",
    "p1 = pd.Panel(df_dict)\n",
    "print p1\n",
    "print p1['df1']\n",
    "print p1['df2']\n",
    "print p1['df3']\n",
    "\n",
    "# Now create an xarray DataArray from the panel\n",
    "da = xr.DataArray(p1)\n",
    "print da"
   ]
  },
  {
   "cell_type": "code",
   "execution_count": null,
   "metadata": {
    "collapsed": false,
    "deletable": true,
    "editable": true
   },
   "outputs": [],
   "source": [
    "# Create DataArrays from the individual DataFrames\n",
    "da1 = xr.DataArray(df1)\n",
    "da2 = xr.DataArray(df2)\n",
    "da3 = xr.DataArray(df3)\n",
    "print da1\n",
    "print da2\n",
    "print da3"
   ]
  },
  {
   "cell_type": "code",
   "execution_count": null,
   "metadata": {
    "collapsed": false,
    "deletable": true,
    "editable": true
   },
   "outputs": [],
   "source": [
    "#da1a,da2a,da3a = xr.align(da1,da2,da3,join='inner',exclude='dim_1')\n",
    "da_list = [da1,da2,da3]\n",
    "da_dict = {'da1':da1,'da2':da2,'da3':da3}\n",
    "#print da_dict.values()\n",
    "da1a,da2a,da3a = xr.align(*da_dict.values(),join='inner',exclude='dim_1')"
   ]
  },
  {
   "cell_type": "code",
   "execution_count": null,
   "metadata": {
    "collapsed": false,
    "deletable": true,
    "editable": true
   },
   "outputs": [],
   "source": [
    "print da1a\n",
    "print da2a\n",
    "print da3a"
   ]
  },
  {
   "cell_type": "code",
   "execution_count": null,
   "metadata": {
    "collapsed": true,
    "deletable": true,
    "editable": true
   },
   "outputs": [],
   "source": [
    "da_combined = xr.concat([da1a,da2a,da3a],'Instrument')"
   ]
  },
  {
   "cell_type": "code",
   "execution_count": null,
   "metadata": {
    "collapsed": false,
    "deletable": true,
    "editable": true
   },
   "outputs": [],
   "source": [
    "print da_combined"
   ]
  },
  {
   "cell_type": "code",
   "execution_count": null,
   "metadata": {
    "collapsed": false,
    "deletable": true,
    "editable": true
   },
   "outputs": [],
   "source": [
    "# Create DataSets from the individual DataFrames\n",
    "ds1 = xr.Dataset(df1)\n",
    "ds2 = xr.Dataset(df2)\n",
    "ds3 = xr.Dataset(df3)\n",
    "print ds1\n",
    "print ds2\n",
    "print ds3"
   ]
  },
  {
   "cell_type": "code",
   "execution_count": null,
   "metadata": {
    "collapsed": true,
    "deletable": true,
    "editable": true
   },
   "outputs": [],
   "source": [
    "ds_list = [ds1,ds2,ds3]\n",
    "ds1a,ds2a,ds3a = xr.align(*ds_list,join='inner')"
   ]
  },
  {
   "cell_type": "code",
   "execution_count": null,
   "metadata": {
    "collapsed": false,
    "deletable": true,
    "editable": true
   },
   "outputs": [],
   "source": [
    "print ds1a\n",
    "print ds2a\n",
    "print ds3a"
   ]
  },
  {
   "cell_type": "code",
   "execution_count": null,
   "metadata": {
    "collapsed": false,
    "deletable": true,
    "editable": true
   },
   "outputs": [],
   "source": [
    "ds_combined = xr.concat([ds1a,ds2a,ds3a],pd.Index(['I1','I2','I3'],name='Instrument'))\n",
    "#ds_combined['d']=('Instrument',N.array(['I1','I2','I3']))\n",
    "#ds_combined = ds_combined.set_index(Instrument='d')\n",
    "#ds_combined.set_index(Instrument='d',inplace=True)\n",
    "#ds_combined['a'].plot()\n",
    "ds_combined['a'].plot()"
   ]
  },
  {
   "cell_type": "code",
   "execution_count": null,
   "metadata": {
    "collapsed": false,
    "deletable": true,
    "editable": true
   },
   "outputs": [],
   "source": [
    "print ds_combined"
   ]
  },
  {
   "cell_type": "code",
   "execution_count": null,
   "metadata": {
    "collapsed": true,
    "deletable": true,
    "editable": true
   },
   "outputs": [],
   "source": []
  }
 ],
 "metadata": {
  "anaconda-cloud": {},
  "kernelspec": {
   "display_name": "Python [default]",
   "language": "python",
   "name": "python2"
  },
  "language_info": {
   "codemirror_mode": {
    "name": "ipython",
    "version": 2
   },
   "file_extension": ".py",
   "mimetype": "text/x-python",
   "name": "python",
   "nbconvert_exporter": "python",
   "pygments_lexer": "ipython2",
   "version": "2.7.12"
  }
 },
 "nbformat": 4,
 "nbformat_minor": 2
}
