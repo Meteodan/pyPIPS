{
 "cells": [
  {
   "cell_type": "code",
   "execution_count": 1,
   "metadata": {
    "collapsed": true
   },
   "outputs": [],
   "source": [
    "import numpy as N\n",
    "import matplotlib\n",
    "import matplotlib.pyplot as plt\n",
    "import matplotlib.cm as cm\n",
    "from datetime import datetime,timedelta\n",
    "import pytz as pytz\n",
    "import sys\n",
    "import os\n",
    "import pandas as pd\n",
    "import xarray as xr\n",
    "%load_ext autoreload\n",
    "%matplotlib inline\n",
    "%autoreload 2"
   ]
  },
  {
   "cell_type": "code",
   "execution_count": 107,
   "metadata": {
    "collapsed": false
   },
   "outputs": [
    {
     "name": "stdout",
     "output_type": "stream",
     "text": [
      "[ 0.00460529  1.55252814 -0.19807317  0.58112953 -0.20119843 -0.18992899\n",
      "  0.84185796  1.24555209  0.28525311  2.12956098]\n",
      "[-0.28199902  1.03581596 -0.4793157   0.72781166  1.30054994  0.08685354\n",
      " -2.10813374  0.99955457  1.4676966   1.92535427]\n",
      "[ 1.00985107 -0.40706021 -0.39838776  0.36354446 -0.68696833 -0.83960882\n",
      " -1.26478442 -0.81959649 -0.17084533  0.44311105]\n",
      "DatetimeIndex(['2013-01-01', '2013-01-02', '2013-01-03', '2013-01-04',\n",
      "               '2013-01-05', '2013-01-06', '2013-01-07', '2013-01-08',\n",
      "               '2013-01-09', '2013-01-10'],\n",
      "              dtype='datetime64[ns]', name=u'Time', freq='D')\n",
      "DatetimeIndex(['2012-12-31', '2013-01-01', '2013-01-02', '2013-01-03',\n",
      "               '2013-01-04', '2013-01-05', '2013-01-06', '2013-01-07',\n",
      "               '2013-01-08', '2013-01-09'],\n",
      "              dtype='datetime64[ns]', name=u'Time', freq='D')\n",
      "DatetimeIndex(['2013-01-02', '2013-01-03', '2013-01-04', '2013-01-05',\n",
      "               '2013-01-06', '2013-01-07', '2013-01-08', '2013-01-09',\n",
      "               '2013-01-10', '2013-01-11'],\n",
      "              dtype='datetime64[ns]', name=u'Time', freq='D')\n"
     ]
    }
   ],
   "source": [
    "a1 = N.random.randn(10)\n",
    "a2 = N.random.randn(10)\n",
    "a3 = N.random.randn(10)\n",
    "b1 = N.random.randn(10)\n",
    "b2 = N.random.randn(10)\n",
    "b3 = N.random.randn(10)\n",
    "c1 = N.random.randn(10)\n",
    "c2 = N.random.randn(10)\n",
    "c3 = N.random.randn(10)\n",
    "print a1\n",
    "print b1\n",
    "print b2\n",
    "\n",
    "index1 = pd.date_range('20130101',periods=10,name='Time')\n",
    "index2 = pd.date_range('20121231',periods=10,name='Time')\n",
    "index3 = pd.date_range('20130102',periods=10,name='Time')\n",
    "print index1\n",
    "print index2\n",
    "print index3"
   ]
  },
  {
   "cell_type": "code",
   "execution_count": 108,
   "metadata": {
    "collapsed": false
   },
   "outputs": [
    {
     "name": "stdout",
     "output_type": "stream",
     "text": [
      "                   a         b         c\n",
      "Time                                    \n",
      "2013-01-01  0.004605 -0.281999 -1.059917\n",
      "2013-01-02  1.552528  1.035816 -0.688269\n",
      "2013-01-03 -0.198073 -0.479316  1.677547\n",
      "2013-01-04  0.581130  0.727812 -1.183861\n",
      "2013-01-05 -0.201198  1.300550 -0.640231\n",
      "2013-01-06 -0.189929  0.086854 -0.982888\n",
      "2013-01-07  0.841858 -2.108134 -0.119623\n",
      "2013-01-08  1.245552  0.999555  0.489958\n",
      "2013-01-09  0.285253  1.467697  0.057385\n",
      "2013-01-10  2.129561  1.925354  1.343416\n",
      "                   a         b         c\n",
      "Time                                    \n",
      "2012-12-31  0.957370  1.009851 -0.383523\n",
      "2013-01-01  0.056646 -0.407060 -0.824649\n",
      "2013-01-02 -1.031571 -0.398388  2.292338\n",
      "2013-01-03 -0.071622  0.363544  0.015812\n",
      "2013-01-04 -1.576766 -0.686968  0.560281\n",
      "2013-01-05 -0.448497 -0.839609  0.544813\n",
      "2013-01-06 -0.434480 -1.264784  0.196622\n",
      "2013-01-07 -0.518235 -0.819596 -0.662228\n",
      "2013-01-08 -1.229168 -0.170845  0.327092\n",
      "2013-01-09  0.843616  0.443111 -0.907398\n",
      "                   a         b         c\n",
      "Time                                    \n",
      "2013-01-02 -1.752584  0.976148  0.023793\n",
      "2013-01-03  0.288197 -0.420205 -0.554041\n",
      "2013-01-04  0.422573  0.992982 -0.192672\n",
      "2013-01-05 -1.041559 -0.358023 -1.199820\n",
      "2013-01-06  0.565848  0.318536 -0.668753\n",
      "2013-01-07  0.797984 -1.901092 -0.760395\n",
      "2013-01-08 -0.157550  0.304257 -0.479948\n",
      "2013-01-09  1.781872 -1.183108 -0.430441\n",
      "2013-01-10  2.560946 -0.256938 -1.256154\n",
      "2013-01-11  0.024331 -0.126516 -0.831135\n"
     ]
    }
   ],
   "source": [
    "data_dict = {'a':a1,'b':b1,'c':c1}\n",
    "df1 = pd.DataFrame(data_dict,index=index1)\n",
    "data_dict = {'a':a2,'b':b2,'c':c2}\n",
    "df2 = pd.DataFrame(data_dict,index=index2)\n",
    "data_dict = {'a':a3,'b':b3,'c':c3}\n",
    "df3 = pd.DataFrame(data_dict,index=index3)\n",
    "print df1\n",
    "print df2\n",
    "print df3"
   ]
  },
  {
   "cell_type": "code",
   "execution_count": 79,
   "metadata": {
    "collapsed": false
   },
   "outputs": [
    {
     "name": "stdout",
     "output_type": "stream",
     "text": [
      "<class 'pandas.core.panel.Panel'>\n",
      "Dimensions: 3 (items) x 12 (major_axis) x 3 (minor_axis)\n",
      "Items axis: df1 to df3\n",
      "Major_axis axis: 2012-12-31 00:00:00 to 2013-01-11 00:00:00\n",
      "Minor_axis axis: a to c\n",
      "                   a         b         c\n",
      "Time                                    \n",
      "2012-12-31       NaN       NaN       NaN\n",
      "2013-01-01 -2.208989 -0.537848 -2.324018\n",
      "2013-01-02  0.336035 -0.614486 -0.308375\n",
      "2013-01-03 -0.050132  0.574578 -0.583282\n",
      "2013-01-04 -1.676523  1.194101 -1.307664\n",
      "2013-01-05 -0.068823  1.041099 -1.532102\n",
      "2013-01-06  0.207831  0.735979 -0.327619\n",
      "2013-01-07 -0.976234 -0.681954  0.199761\n",
      "2013-01-08  0.163656  0.195036 -0.360829\n",
      "2013-01-09  0.012094  0.064944 -0.978215\n",
      "2013-01-10 -0.398442 -1.865480 -2.150744\n",
      "2013-01-11       NaN       NaN       NaN\n",
      "                   a         b         c\n",
      "Time                                    \n",
      "2012-12-31  0.929142 -0.682827  0.333430\n",
      "2013-01-01 -0.027020  0.020615 -0.136291\n",
      "2013-01-02 -0.876342 -0.162444 -0.355927\n",
      "2013-01-03  2.105353  1.541374 -0.574799\n",
      "2013-01-04 -0.462359 -0.242869  1.335052\n",
      "2013-01-05 -1.693184  1.770873  0.463834\n",
      "2013-01-06  0.508695 -0.750008 -0.848202\n",
      "2013-01-07  0.944692  0.208777 -0.718028\n",
      "2013-01-08  1.061049 -0.410111 -0.897986\n",
      "2013-01-09  0.237153  0.587051 -0.267825\n",
      "2013-01-10       NaN       NaN       NaN\n",
      "2013-01-11       NaN       NaN       NaN\n",
      "                   a         b         c\n",
      "Time                                    \n",
      "2012-12-31       NaN       NaN       NaN\n",
      "2013-01-01       NaN       NaN       NaN\n",
      "2013-01-02  0.652045 -0.970601 -0.235171\n",
      "2013-01-03 -0.385881  0.917010  1.574422\n",
      "2013-01-04  1.535023  0.515959  0.178621\n",
      "2013-01-05 -1.591913 -0.929277 -0.396609\n",
      "2013-01-06  1.363276  1.426513 -0.586066\n",
      "2013-01-07  0.491186  1.799031 -0.315692\n",
      "2013-01-08  0.000756 -0.386994  0.490395\n",
      "2013-01-09  0.018351  1.246051 -1.264639\n",
      "2013-01-10  0.095172 -0.253107  0.374223\n",
      "2013-01-11  0.029777  0.493744 -1.654785\n",
      "<xarray.DataArray (dim_0: 3, Time: 12, dim_2: 3)>\n",
      "array([[[           nan,            nan,            nan],\n",
      "        [ -2.208989e+00,  -5.378485e-01,  -2.324018e+00],\n",
      "        [  3.360350e-01,  -6.144865e-01,  -3.083749e-01],\n",
      "        [ -5.013162e-02,   5.745776e-01,  -5.832816e-01],\n",
      "        [ -1.676523e+00,   1.194101e+00,  -1.307664e+00],\n",
      "        [ -6.882307e-02,   1.041099e+00,  -1.532102e+00],\n",
      "        [  2.078310e-01,   7.359794e-01,  -3.276190e-01],\n",
      "        [ -9.762342e-01,  -6.819543e-01,   1.997609e-01],\n",
      "        [  1.636563e-01,   1.950361e-01,  -3.608290e-01],\n",
      "        [  1.209406e-02,   6.494406e-02,  -9.782149e-01],\n",
      "        [ -3.984423e-01,  -1.865480e+00,  -2.150744e+00],\n",
      "        [           nan,            nan,            nan]],\n",
      "\n",
      "       [[  9.291418e-01,  -6.828266e-01,   3.334299e-01],\n",
      "        [ -2.701981e-02,   2.061475e-02,  -1.362911e-01],\n",
      "        [ -8.763425e-01,  -1.624442e-01,  -3.559267e-01],\n",
      "        [  2.105353e+00,   1.541374e+00,  -5.747986e-01],\n",
      "        [ -4.623593e-01,  -2.428694e-01,   1.335052e+00],\n",
      "        [ -1.693184e+00,   1.770873e+00,   4.638340e-01],\n",
      "        [  5.086954e-01,  -7.500079e-01,  -8.482016e-01],\n",
      "        [  9.446920e-01,   2.087771e-01,  -7.180281e-01],\n",
      "        [  1.061049e+00,  -4.101107e-01,  -8.979860e-01],\n",
      "        [  2.371527e-01,   5.870512e-01,  -2.678250e-01],\n",
      "        [           nan,            nan,            nan],\n",
      "        [           nan,            nan,            nan]],\n",
      "\n",
      "       [[           nan,            nan,            nan],\n",
      "        [           nan,            nan,            nan],\n",
      "        [  6.520445e-01,  -9.706010e-01,  -2.351712e-01],\n",
      "        [ -3.858813e-01,   9.170097e-01,   1.574422e+00],\n",
      "        [  1.535023e+00,   5.159594e-01,   1.786213e-01],\n",
      "        [ -1.591913e+00,  -9.292771e-01,  -3.966090e-01],\n",
      "        [  1.363276e+00,   1.426513e+00,  -5.860658e-01],\n",
      "        [  4.911864e-01,   1.799031e+00,  -3.156917e-01],\n",
      "        [  7.561164e-04,  -3.869944e-01,   4.903951e-01],\n",
      "        [  1.835117e-02,   1.246051e+00,  -1.264639e+00],\n",
      "        [  9.517250e-02,  -2.531070e-01,   3.742231e-01],\n",
      "        [  2.977716e-02,   4.937437e-01,  -1.654785e+00]]])\n",
      "Coordinates:\n",
      "  * dim_0    (dim_0) object 'df1' 'df2' 'df3'\n",
      "  * Time     (Time) datetime64[ns] 2012-12-31 2013-01-01 2013-01-02 ...\n",
      "  * dim_2    (dim_2) object 'a' 'b' 'c'\n"
     ]
    }
   ],
   "source": [
    "# Create a pandas panel\n",
    "\n",
    "df_dict = {'df1':df1,'df2':df2,'df3':df3}\n",
    "p1 = pd.Panel(df_dict)\n",
    "print p1\n",
    "print p1['df1']\n",
    "print p1['df2']\n",
    "print p1['df3']\n",
    "\n",
    "# Now create an xarray DataArray from the panel\n",
    "da = xr.DataArray(p1)\n",
    "print da"
   ]
  },
  {
   "cell_type": "code",
   "execution_count": 80,
   "metadata": {
    "collapsed": false
   },
   "outputs": [
    {
     "name": "stdout",
     "output_type": "stream",
     "text": [
      "<xarray.DataArray (Time: 10, dim_1: 3)>\n",
      "array([[-2.208989, -0.537848, -2.324018],\n",
      "       [ 0.336035, -0.614486, -0.308375],\n",
      "       [-0.050132,  0.574578, -0.583282],\n",
      "       [-1.676523,  1.194101, -1.307664],\n",
      "       [-0.068823,  1.041099, -1.532102],\n",
      "       [ 0.207831,  0.735979, -0.327619],\n",
      "       [-0.976234, -0.681954,  0.199761],\n",
      "       [ 0.163656,  0.195036, -0.360829],\n",
      "       [ 0.012094,  0.064944, -0.978215],\n",
      "       [-0.398442, -1.86548 , -2.150744]])\n",
      "Coordinates:\n",
      "  * Time     (Time) datetime64[ns] 2013-01-01 2013-01-02 2013-01-03 ...\n",
      "  * dim_1    (dim_1) object 'a' 'b' 'c'\n",
      "<xarray.DataArray (Time: 10, dim_1: 3)>\n",
      "array([[ 0.929142, -0.682827,  0.33343 ],\n",
      "       [-0.02702 ,  0.020615, -0.136291],\n",
      "       [-0.876342, -0.162444, -0.355927],\n",
      "       [ 2.105353,  1.541374, -0.574799],\n",
      "       [-0.462359, -0.242869,  1.335052],\n",
      "       [-1.693184,  1.770873,  0.463834],\n",
      "       [ 0.508695, -0.750008, -0.848202],\n",
      "       [ 0.944692,  0.208777, -0.718028],\n",
      "       [ 1.061049, -0.410111, -0.897986],\n",
      "       [ 0.237153,  0.587051, -0.267825]])\n",
      "Coordinates:\n",
      "  * Time     (Time) datetime64[ns] 2012-12-31 2013-01-01 2013-01-02 ...\n",
      "  * dim_1    (dim_1) object 'a' 'b' 'c'\n",
      "<xarray.DataArray (Time: 10, dim_1: 3)>\n",
      "array([[  6.520445e-01,  -9.706010e-01,  -2.351712e-01],\n",
      "       [ -3.858813e-01,   9.170097e-01,   1.574422e+00],\n",
      "       [  1.535023e+00,   5.159594e-01,   1.786213e-01],\n",
      "       [ -1.591913e+00,  -9.292771e-01,  -3.966090e-01],\n",
      "       [  1.363276e+00,   1.426513e+00,  -5.860658e-01],\n",
      "       [  4.911864e-01,   1.799031e+00,  -3.156917e-01],\n",
      "       [  7.561164e-04,  -3.869944e-01,   4.903951e-01],\n",
      "       [  1.835117e-02,   1.246051e+00,  -1.264639e+00],\n",
      "       [  9.517250e-02,  -2.531070e-01,   3.742231e-01],\n",
      "       [  2.977716e-02,   4.937437e-01,  -1.654785e+00]])\n",
      "Coordinates:\n",
      "  * Time     (Time) datetime64[ns] 2013-01-02 2013-01-03 2013-01-04 ...\n",
      "  * dim_1    (dim_1) object 'a' 'b' 'c'\n"
     ]
    }
   ],
   "source": [
    "# Create DataArrays from the individual DataFrames\n",
    "da1 = xr.DataArray(df1)\n",
    "da2 = xr.DataArray(df2)\n",
    "da3 = xr.DataArray(df3)\n",
    "print da1\n",
    "print da2\n",
    "print da3"
   ]
  },
  {
   "cell_type": "code",
   "execution_count": 81,
   "metadata": {
    "collapsed": false
   },
   "outputs": [],
   "source": [
    "#da1a,da2a,da3a = xr.align(da1,da2,da3,join='inner',exclude='dim_1')\n",
    "da_list = [da1,da2,da3]\n",
    "da_dict = {'da1':da1,'da2':da2,'da3':da3}\n",
    "#print da_dict.values()\n",
    "da1a,da2a,da3a = xr.align(*da_dict.values(),join='inner',exclude='dim_1')"
   ]
  },
  {
   "cell_type": "code",
   "execution_count": 82,
   "metadata": {
    "collapsed": false
   },
   "outputs": [
    {
     "name": "stdout",
     "output_type": "stream",
     "text": [
      "<xarray.DataArray (Time: 8, dim_1: 3)>\n",
      "array([[ 0.336035, -0.614486, -0.308375],\n",
      "       [-0.050132,  0.574578, -0.583282],\n",
      "       [-1.676523,  1.194101, -1.307664],\n",
      "       [-0.068823,  1.041099, -1.532102],\n",
      "       [ 0.207831,  0.735979, -0.327619],\n",
      "       [-0.976234, -0.681954,  0.199761],\n",
      "       [ 0.163656,  0.195036, -0.360829],\n",
      "       [ 0.012094,  0.064944, -0.978215]])\n",
      "Coordinates:\n",
      "  * Time     (Time) datetime64[ns] 2013-01-02 2013-01-03 2013-01-04 ...\n",
      "  * dim_1    (dim_1) object 'a' 'b' 'c'\n",
      "<xarray.DataArray (Time: 8, dim_1: 3)>\n",
      "array([[-0.876342, -0.162444, -0.355927],\n",
      "       [ 2.105353,  1.541374, -0.574799],\n",
      "       [-0.462359, -0.242869,  1.335052],\n",
      "       [-1.693184,  1.770873,  0.463834],\n",
      "       [ 0.508695, -0.750008, -0.848202],\n",
      "       [ 0.944692,  0.208777, -0.718028],\n",
      "       [ 1.061049, -0.410111, -0.897986],\n",
      "       [ 0.237153,  0.587051, -0.267825]])\n",
      "Coordinates:\n",
      "  * Time     (Time) datetime64[ns] 2013-01-02 2013-01-03 2013-01-04 ...\n",
      "  * dim_1    (dim_1) object 'a' 'b' 'c'\n",
      "<xarray.DataArray (Time: 8, dim_1: 3)>\n",
      "array([[  6.520445e-01,  -9.706010e-01,  -2.351712e-01],\n",
      "       [ -3.858813e-01,   9.170097e-01,   1.574422e+00],\n",
      "       [  1.535023e+00,   5.159594e-01,   1.786213e-01],\n",
      "       [ -1.591913e+00,  -9.292771e-01,  -3.966090e-01],\n",
      "       [  1.363276e+00,   1.426513e+00,  -5.860658e-01],\n",
      "       [  4.911864e-01,   1.799031e+00,  -3.156917e-01],\n",
      "       [  7.561164e-04,  -3.869944e-01,   4.903951e-01],\n",
      "       [  1.835117e-02,   1.246051e+00,  -1.264639e+00]])\n",
      "Coordinates:\n",
      "  * Time     (Time) datetime64[ns] 2013-01-02 2013-01-03 2013-01-04 ...\n",
      "  * dim_1    (dim_1) object 'a' 'b' 'c'\n"
     ]
    }
   ],
   "source": [
    "print da1a\n",
    "print da2a\n",
    "print da3a"
   ]
  },
  {
   "cell_type": "code",
   "execution_count": 83,
   "metadata": {
    "collapsed": true
   },
   "outputs": [],
   "source": [
    "da_combined = xr.concat([da1a,da2a,da3a],'Instrument')"
   ]
  },
  {
   "cell_type": "code",
   "execution_count": 84,
   "metadata": {
    "collapsed": false
   },
   "outputs": [
    {
     "name": "stdout",
     "output_type": "stream",
     "text": [
      "<xarray.DataArray (Instrument: 3, Time: 8, dim_1: 3)>\n",
      "array([[[  3.360350e-01,  -6.144865e-01,  -3.083749e-01],\n",
      "        [ -5.013162e-02,   5.745776e-01,  -5.832816e-01],\n",
      "        [ -1.676523e+00,   1.194101e+00,  -1.307664e+00],\n",
      "        [ -6.882307e-02,   1.041099e+00,  -1.532102e+00],\n",
      "        [  2.078310e-01,   7.359794e-01,  -3.276190e-01],\n",
      "        [ -9.762342e-01,  -6.819543e-01,   1.997609e-01],\n",
      "        [  1.636563e-01,   1.950361e-01,  -3.608290e-01],\n",
      "        [  1.209406e-02,   6.494406e-02,  -9.782149e-01]],\n",
      "\n",
      "       [[ -8.763425e-01,  -1.624442e-01,  -3.559267e-01],\n",
      "        [  2.105353e+00,   1.541374e+00,  -5.747986e-01],\n",
      "        [ -4.623593e-01,  -2.428694e-01,   1.335052e+00],\n",
      "        [ -1.693184e+00,   1.770873e+00,   4.638340e-01],\n",
      "        [  5.086954e-01,  -7.500079e-01,  -8.482016e-01],\n",
      "        [  9.446920e-01,   2.087771e-01,  -7.180281e-01],\n",
      "        [  1.061049e+00,  -4.101107e-01,  -8.979860e-01],\n",
      "        [  2.371527e-01,   5.870512e-01,  -2.678250e-01]],\n",
      "\n",
      "       [[  6.520445e-01,  -9.706010e-01,  -2.351712e-01],\n",
      "        [ -3.858813e-01,   9.170097e-01,   1.574422e+00],\n",
      "        [  1.535023e+00,   5.159594e-01,   1.786213e-01],\n",
      "        [ -1.591913e+00,  -9.292771e-01,  -3.966090e-01],\n",
      "        [  1.363276e+00,   1.426513e+00,  -5.860658e-01],\n",
      "        [  4.911864e-01,   1.799031e+00,  -3.156917e-01],\n",
      "        [  7.561164e-04,  -3.869944e-01,   4.903951e-01],\n",
      "        [  1.835117e-02,   1.246051e+00,  -1.264639e+00]]])\n",
      "Coordinates:\n",
      "  * Time     (Time) datetime64[ns] 2013-01-02 2013-01-03 2013-01-04 ...\n",
      "  * dim_1    (dim_1) object 'a' 'b' 'c'\n",
      "Dimensions without coordinates: Instrument\n"
     ]
    }
   ],
   "source": [
    "print da_combined"
   ]
  },
  {
   "cell_type": "code",
   "execution_count": 85,
   "metadata": {
    "collapsed": false
   },
   "outputs": [
    {
     "name": "stdout",
     "output_type": "stream",
     "text": [
      "<xarray.Dataset>\n",
      "Dimensions:  (Time: 10)\n",
      "Coordinates:\n",
      "  * Time     (Time) datetime64[ns] 2013-01-01 2013-01-02 2013-01-03 ...\n",
      "Data variables:\n",
      "    a        (Time) float64 -2.209 0.336 -0.05013 -1.677 -0.06882 0.2078 ...\n",
      "    b        (Time) float64 -0.5378 -0.6145 0.5746 1.194 1.041 0.736 -0.682 ...\n",
      "    c        (Time) float64 -2.324 -0.3084 -0.5833 -1.308 -1.532 -0.3276 ...\n",
      "<xarray.Dataset>\n",
      "Dimensions:  (Time: 10)\n",
      "Coordinates:\n",
      "  * Time     (Time) datetime64[ns] 2012-12-31 2013-01-01 2013-01-02 ...\n",
      "Data variables:\n",
      "    a        (Time) float64 0.9291 -0.02702 -0.8763 2.105 -0.4624 -1.693 ...\n",
      "    b        (Time) float64 -0.6828 0.02061 -0.1624 1.541 -0.2429 1.771 ...\n",
      "    c        (Time) float64 0.3334 -0.1363 -0.3559 -0.5748 1.335 0.4638 ...\n",
      "<xarray.Dataset>\n",
      "Dimensions:  (Time: 10)\n",
      "Coordinates:\n",
      "  * Time     (Time) datetime64[ns] 2013-01-02 2013-01-03 2013-01-04 ...\n",
      "Data variables:\n",
      "    a        (Time) float64 0.652 -0.3859 1.535 -1.592 1.363 0.4912 ...\n",
      "    b        (Time) float64 -0.9706 0.917 0.516 -0.9293 1.427 1.799 -0.387 ...\n",
      "    c        (Time) float64 -0.2352 1.574 0.1786 -0.3966 -0.5861 -0.3157 ...\n"
     ]
    }
   ],
   "source": [
    "# Create DataSets from the individual DataFrames\n",
    "ds1 = xr.Dataset(df1)\n",
    "ds2 = xr.Dataset(df2)\n",
    "ds3 = xr.Dataset(df3)\n",
    "print ds1\n",
    "print ds2\n",
    "print ds3"
   ]
  },
  {
   "cell_type": "code",
   "execution_count": 86,
   "metadata": {
    "collapsed": true
   },
   "outputs": [],
   "source": [
    "ds_list = [ds1,ds2,ds3]\n",
    "ds1a,ds2a,ds3a = xr.align(*ds_list,join='inner')"
   ]
  },
  {
   "cell_type": "code",
   "execution_count": 87,
   "metadata": {
    "collapsed": false
   },
   "outputs": [
    {
     "name": "stdout",
     "output_type": "stream",
     "text": [
      "<xarray.Dataset>\n",
      "Dimensions:  (Time: 8)\n",
      "Coordinates:\n",
      "  * Time     (Time) datetime64[ns] 2013-01-02 2013-01-03 2013-01-04 ...\n",
      "Data variables:\n",
      "    a        (Time) float64 0.336 -0.05013 -1.677 -0.06882 0.2078 -0.9762 ...\n",
      "    b        (Time) float64 -0.6145 0.5746 1.194 1.041 0.736 -0.682 0.195 ...\n",
      "    c        (Time) float64 -0.3084 -0.5833 -1.308 -1.532 -0.3276 0.1998 ...\n",
      "<xarray.Dataset>\n",
      "Dimensions:  (Time: 8)\n",
      "Coordinates:\n",
      "  * Time     (Time) datetime64[ns] 2013-01-02 2013-01-03 2013-01-04 ...\n",
      "Data variables:\n",
      "    a        (Time) float64 -0.8763 2.105 -0.4624 -1.693 0.5087 0.9447 1.061 ...\n",
      "    b        (Time) float64 -0.1624 1.541 -0.2429 1.771 -0.75 0.2088 -0.4101 ...\n",
      "    c        (Time) float64 -0.3559 -0.5748 1.335 0.4638 -0.8482 -0.718 ...\n",
      "<xarray.Dataset>\n",
      "Dimensions:  (Time: 8)\n",
      "Coordinates:\n",
      "  * Time     (Time) datetime64[ns] 2013-01-02 2013-01-03 2013-01-04 ...\n",
      "Data variables:\n",
      "    a        (Time) float64 0.652 -0.3859 1.535 -1.592 1.363 0.4912 ...\n",
      "    b        (Time) float64 -0.9706 0.917 0.516 -0.9293 1.427 1.799 -0.387 1.246\n",
      "    c        (Time) float64 -0.2352 1.574 0.1786 -0.3966 -0.5861 -0.3157 ...\n"
     ]
    }
   ],
   "source": [
    "print ds1a\n",
    "print ds2a\n",
    "print ds3a"
   ]
  },
  {
   "cell_type": "code",
   "execution_count": 119,
   "metadata": {
    "collapsed": false
   },
   "outputs": [
    {
     "ename": "TypeError",
     "evalue": "unsupported operand type(s) for -: 'str' and 'str'",
     "output_type": "error",
     "traceback": [
      "\u001b[0;31m---------------------------------------------------------------------------\u001b[0m",
      "\u001b[0;31mTypeError\u001b[0m                                 Traceback (most recent call last)",
      "\u001b[0;32m<ipython-input-119-f1b596e21335>\u001b[0m in \u001b[0;36m<module>\u001b[0;34m()\u001b[0m\n\u001b[1;32m      4\u001b[0m \u001b[0;31m#ds_combined.set_index(Instrument='d',inplace=True)\u001b[0m\u001b[0;34m\u001b[0m\u001b[0;34m\u001b[0m\u001b[0m\n\u001b[1;32m      5\u001b[0m \u001b[0;31m#ds_combined['a'].plot()\u001b[0m\u001b[0;34m\u001b[0m\u001b[0;34m\u001b[0m\u001b[0m\n\u001b[0;32m----> 6\u001b[0;31m \u001b[0mds_combined\u001b[0m\u001b[0;34m[\u001b[0m\u001b[0;34m'a'\u001b[0m\u001b[0;34m]\u001b[0m\u001b[0;34m.\u001b[0m\u001b[0mplot\u001b[0m\u001b[0;34m(\u001b[0m\u001b[0;34m)\u001b[0m\u001b[0;34m\u001b[0m\u001b[0m\n\u001b[0m",
      "\u001b[0;32m/Users/dawson29/anaconda2/lib/python2.7/site-packages/xarray/plot/plot.pyc\u001b[0m in \u001b[0;36m__call__\u001b[0;34m(self, **kwargs)\u001b[0m\n\u001b[1;32m    277\u001b[0m \u001b[0;34m\u001b[0m\u001b[0m\n\u001b[1;32m    278\u001b[0m     \u001b[0;32mdef\u001b[0m \u001b[0m__call__\u001b[0m\u001b[0;34m(\u001b[0m\u001b[0mself\u001b[0m\u001b[0;34m,\u001b[0m \u001b[0;34m**\u001b[0m\u001b[0mkwargs\u001b[0m\u001b[0;34m)\u001b[0m\u001b[0;34m:\u001b[0m\u001b[0;34m\u001b[0m\u001b[0m\n\u001b[0;32m--> 279\u001b[0;31m         \u001b[0;32mreturn\u001b[0m \u001b[0mplot\u001b[0m\u001b[0;34m(\u001b[0m\u001b[0mself\u001b[0m\u001b[0;34m.\u001b[0m\u001b[0m_da\u001b[0m\u001b[0;34m,\u001b[0m \u001b[0;34m**\u001b[0m\u001b[0mkwargs\u001b[0m\u001b[0;34m)\u001b[0m\u001b[0;34m\u001b[0m\u001b[0m\n\u001b[0m\u001b[1;32m    280\u001b[0m \u001b[0;34m\u001b[0m\u001b[0m\n\u001b[1;32m    281\u001b[0m     \u001b[0;34m@\u001b[0m\u001b[0mfunctools\u001b[0m\u001b[0;34m.\u001b[0m\u001b[0mwraps\u001b[0m\u001b[0;34m(\u001b[0m\u001b[0mhist\u001b[0m\u001b[0;34m)\u001b[0m\u001b[0;34m\u001b[0m\u001b[0m\n",
      "\u001b[0;32m/Users/dawson29/anaconda2/lib/python2.7/site-packages/xarray/plot/plot.pyc\u001b[0m in \u001b[0;36mplot\u001b[0;34m(darray, row, col, col_wrap, ax, rtol, subplot_kws, **kwargs)\u001b[0m\n\u001b[1;32m    133\u001b[0m     \u001b[0mkwargs\u001b[0m\u001b[0;34m[\u001b[0m\u001b[0;34m'ax'\u001b[0m\u001b[0;34m]\u001b[0m \u001b[0;34m=\u001b[0m \u001b[0max\u001b[0m\u001b[0;34m\u001b[0m\u001b[0m\n\u001b[1;32m    134\u001b[0m \u001b[0;34m\u001b[0m\u001b[0m\n\u001b[0;32m--> 135\u001b[0;31m     \u001b[0;32mreturn\u001b[0m \u001b[0mplotfunc\u001b[0m\u001b[0;34m(\u001b[0m\u001b[0mdarray\u001b[0m\u001b[0;34m,\u001b[0m \u001b[0;34m**\u001b[0m\u001b[0mkwargs\u001b[0m\u001b[0;34m)\u001b[0m\u001b[0;34m\u001b[0m\u001b[0m\n\u001b[0m\u001b[1;32m    136\u001b[0m \u001b[0;34m\u001b[0m\u001b[0m\n\u001b[1;32m    137\u001b[0m \u001b[0;34m\u001b[0m\u001b[0m\n",
      "\u001b[0;32m/Users/dawson29/anaconda2/lib/python2.7/site-packages/xarray/plot/plot.pyc\u001b[0m in \u001b[0;36mnewplotfunc\u001b[0;34m(darray, x, y, figsize, size, aspect, ax, row, col, col_wrap, xincrease, yincrease, add_colorbar, add_labels, vmin, vmax, cmap, center, robust, extend, levels, infer_intervals, colors, subplot_kws, cbar_ax, cbar_kwargs, **kwargs)\u001b[0m\n\u001b[1;32m    484\u001b[0m                              \u001b[0mvmin\u001b[0m\u001b[0;34m=\u001b[0m\u001b[0mcmap_params\u001b[0m\u001b[0;34m[\u001b[0m\u001b[0;34m'vmin'\u001b[0m\u001b[0;34m]\u001b[0m\u001b[0;34m,\u001b[0m\u001b[0;34m\u001b[0m\u001b[0m\n\u001b[1;32m    485\u001b[0m                              \u001b[0mvmax\u001b[0m\u001b[0;34m=\u001b[0m\u001b[0mcmap_params\u001b[0m\u001b[0;34m[\u001b[0m\u001b[0;34m'vmax'\u001b[0m\u001b[0;34m]\u001b[0m\u001b[0;34m,\u001b[0m\u001b[0;34m\u001b[0m\u001b[0m\n\u001b[0;32m--> 486\u001b[0;31m                              **kwargs)\n\u001b[0m\u001b[1;32m    487\u001b[0m \u001b[0;34m\u001b[0m\u001b[0m\n\u001b[1;32m    488\u001b[0m         \u001b[0;31m# Label the plot with metadata\u001b[0m\u001b[0;34m\u001b[0m\u001b[0;34m\u001b[0m\u001b[0m\n",
      "\u001b[0;32m/Users/dawson29/anaconda2/lib/python2.7/site-packages/xarray/plot/plot.pyc\u001b[0m in \u001b[0;36mpcolormesh\u001b[0;34m(x, y, z, ax, infer_intervals, **kwargs)\u001b[0m\n\u001b[1;32m    643\u001b[0m         \u001b[0;32mif\u001b[0m \u001b[0mlen\u001b[0m\u001b[0;34m(\u001b[0m\u001b[0mx\u001b[0m\u001b[0;34m.\u001b[0m\u001b[0mshape\u001b[0m\u001b[0;34m)\u001b[0m \u001b[0;34m==\u001b[0m \u001b[0;36m1\u001b[0m\u001b[0;34m:\u001b[0m\u001b[0;34m\u001b[0m\u001b[0m\n\u001b[1;32m    644\u001b[0m             \u001b[0mx\u001b[0m \u001b[0;34m=\u001b[0m \u001b[0m_infer_interval_breaks\u001b[0m\u001b[0;34m(\u001b[0m\u001b[0mx\u001b[0m\u001b[0;34m)\u001b[0m\u001b[0;34m\u001b[0m\u001b[0m\n\u001b[0;32m--> 645\u001b[0;31m             \u001b[0my\u001b[0m \u001b[0;34m=\u001b[0m \u001b[0m_infer_interval_breaks\u001b[0m\u001b[0;34m(\u001b[0m\u001b[0my\u001b[0m\u001b[0;34m)\u001b[0m\u001b[0;34m\u001b[0m\u001b[0m\n\u001b[0m\u001b[1;32m    646\u001b[0m         \u001b[0;32melse\u001b[0m\u001b[0;34m:\u001b[0m\u001b[0;34m\u001b[0m\u001b[0m\n\u001b[1;32m    647\u001b[0m             \u001b[0;31m# we have to infer the intervals on both axes\u001b[0m\u001b[0;34m\u001b[0m\u001b[0;34m\u001b[0m\u001b[0m\n",
      "\u001b[0;32m/Users/dawson29/anaconda2/lib/python2.7/site-packages/xarray/plot/plot.pyc\u001b[0m in \u001b[0;36m_infer_interval_breaks\u001b[0;34m(coord, axis)\u001b[0m\n\u001b[1;32m    613\u001b[0m     \"\"\"\n\u001b[1;32m    614\u001b[0m     \u001b[0mcoord\u001b[0m \u001b[0;34m=\u001b[0m \u001b[0mnp\u001b[0m\u001b[0;34m.\u001b[0m\u001b[0masarray\u001b[0m\u001b[0;34m(\u001b[0m\u001b[0mcoord\u001b[0m\u001b[0;34m)\u001b[0m\u001b[0;34m\u001b[0m\u001b[0m\n\u001b[0;32m--> 615\u001b[0;31m     \u001b[0mdeltas\u001b[0m \u001b[0;34m=\u001b[0m \u001b[0;36m0.5\u001b[0m \u001b[0;34m*\u001b[0m \u001b[0mnp\u001b[0m\u001b[0;34m.\u001b[0m\u001b[0mdiff\u001b[0m\u001b[0;34m(\u001b[0m\u001b[0mcoord\u001b[0m\u001b[0;34m,\u001b[0m \u001b[0maxis\u001b[0m\u001b[0;34m=\u001b[0m\u001b[0maxis\u001b[0m\u001b[0;34m)\u001b[0m\u001b[0;34m\u001b[0m\u001b[0m\n\u001b[0m\u001b[1;32m    616\u001b[0m     \u001b[0mfirst\u001b[0m \u001b[0;34m=\u001b[0m \u001b[0mnp\u001b[0m\u001b[0;34m.\u001b[0m\u001b[0mtake\u001b[0m\u001b[0;34m(\u001b[0m\u001b[0mcoord\u001b[0m\u001b[0;34m,\u001b[0m \u001b[0;34m[\u001b[0m\u001b[0;36m0\u001b[0m\u001b[0;34m]\u001b[0m\u001b[0;34m,\u001b[0m \u001b[0maxis\u001b[0m\u001b[0;34m=\u001b[0m\u001b[0maxis\u001b[0m\u001b[0;34m)\u001b[0m \u001b[0;34m-\u001b[0m \u001b[0mnp\u001b[0m\u001b[0;34m.\u001b[0m\u001b[0mtake\u001b[0m\u001b[0;34m(\u001b[0m\u001b[0mdeltas\u001b[0m\u001b[0;34m,\u001b[0m \u001b[0;34m[\u001b[0m\u001b[0;36m0\u001b[0m\u001b[0;34m]\u001b[0m\u001b[0;34m,\u001b[0m \u001b[0maxis\u001b[0m\u001b[0;34m=\u001b[0m\u001b[0maxis\u001b[0m\u001b[0;34m)\u001b[0m\u001b[0;34m\u001b[0m\u001b[0m\n\u001b[1;32m    617\u001b[0m     \u001b[0mlast\u001b[0m \u001b[0;34m=\u001b[0m \u001b[0mnp\u001b[0m\u001b[0;34m.\u001b[0m\u001b[0mtake\u001b[0m\u001b[0;34m(\u001b[0m\u001b[0mcoord\u001b[0m\u001b[0;34m,\u001b[0m \u001b[0;34m[\u001b[0m\u001b[0;34m-\u001b[0m\u001b[0;36m1\u001b[0m\u001b[0;34m]\u001b[0m\u001b[0;34m,\u001b[0m \u001b[0maxis\u001b[0m\u001b[0;34m=\u001b[0m\u001b[0maxis\u001b[0m\u001b[0;34m)\u001b[0m \u001b[0;34m+\u001b[0m \u001b[0mnp\u001b[0m\u001b[0;34m.\u001b[0m\u001b[0mtake\u001b[0m\u001b[0;34m(\u001b[0m\u001b[0mdeltas\u001b[0m\u001b[0;34m,\u001b[0m \u001b[0;34m[\u001b[0m\u001b[0;34m-\u001b[0m\u001b[0;36m1\u001b[0m\u001b[0;34m]\u001b[0m\u001b[0;34m,\u001b[0m \u001b[0maxis\u001b[0m\u001b[0;34m=\u001b[0m\u001b[0maxis\u001b[0m\u001b[0;34m)\u001b[0m\u001b[0;34m\u001b[0m\u001b[0m\n",
      "\u001b[0;32m/Users/dawson29/anaconda2/lib/python2.7/site-packages/numpy/lib/function_base.pyc\u001b[0m in \u001b[0;36mdiff\u001b[0;34m(a, n, axis)\u001b[0m\n\u001b[1;32m   1576\u001b[0m         \u001b[0;32mreturn\u001b[0m \u001b[0mdiff\u001b[0m\u001b[0;34m(\u001b[0m\u001b[0ma\u001b[0m\u001b[0;34m[\u001b[0m\u001b[0mslice1\u001b[0m\u001b[0;34m]\u001b[0m\u001b[0;34m-\u001b[0m\u001b[0ma\u001b[0m\u001b[0;34m[\u001b[0m\u001b[0mslice2\u001b[0m\u001b[0;34m]\u001b[0m\u001b[0;34m,\u001b[0m \u001b[0mn\u001b[0m\u001b[0;34m-\u001b[0m\u001b[0;36m1\u001b[0m\u001b[0;34m,\u001b[0m \u001b[0maxis\u001b[0m\u001b[0;34m=\u001b[0m\u001b[0maxis\u001b[0m\u001b[0;34m)\u001b[0m\u001b[0;34m\u001b[0m\u001b[0m\n\u001b[1;32m   1577\u001b[0m     \u001b[0;32melse\u001b[0m\u001b[0;34m:\u001b[0m\u001b[0;34m\u001b[0m\u001b[0m\n\u001b[0;32m-> 1578\u001b[0;31m         \u001b[0;32mreturn\u001b[0m \u001b[0ma\u001b[0m\u001b[0;34m[\u001b[0m\u001b[0mslice1\u001b[0m\u001b[0;34m]\u001b[0m\u001b[0;34m-\u001b[0m\u001b[0ma\u001b[0m\u001b[0;34m[\u001b[0m\u001b[0mslice2\u001b[0m\u001b[0;34m]\u001b[0m\u001b[0;34m\u001b[0m\u001b[0m\n\u001b[0m\u001b[1;32m   1579\u001b[0m \u001b[0;34m\u001b[0m\u001b[0m\n\u001b[1;32m   1580\u001b[0m \u001b[0;34m\u001b[0m\u001b[0m\n",
      "\u001b[0;31mTypeError\u001b[0m: unsupported operand type(s) for -: 'str' and 'str'"
     ]
    },
    {
     "data": {
      "image/png": "[encoded data removed]",
      "text/plain": [
       "<matplotlib.figure.Figure at 0x115748b10>"
      ]
     },
     "metadata": {},
     "output_type": "display_data"
    }
   ],
   "source": [
    "ds_combined = xr.concat([ds1a,ds2a,ds3a],pd.Index(['I1','I2','I3'],name='Instrument'))\n",
    "#ds_combined['d']=('Instrument',N.array(['I1','I2','I3']))\n",
    "#ds_combined = ds_combined.set_index(Instrument='d')\n",
    "#ds_combined.set_index(Instrument='d',inplace=True)\n",
    "#ds_combined['a'].plot()\n",
    "ds_combined['a'].plot()"
   ]
  },
  {
   "cell_type": "code",
   "execution_count": 105,
   "metadata": {
    "collapsed": false
   },
   "outputs": [
    {
     "name": "stdout",
     "output_type": "stream",
     "text": [
      "<xarray.Dataset>\n",
      "Dimensions:     (Instrument: 3, Time: 8)\n",
      "Coordinates:\n",
      "  * Time        (Time) datetime64[ns] 2013-01-02 2013-01-03 2013-01-04 ...\n",
      "  * Instrument  (Instrument) int64 1 2 3\n",
      "Data variables:\n",
      "    a           (Instrument, Time) float64 0.336 -0.05013 -1.677 -0.06882 ...\n",
      "    b           (Instrument, Time) float64 -0.6145 0.5746 1.194 1.041 0.736 ...\n",
      "    c           (Instrument, Time) float64 -0.3084 -0.5833 -1.308 -1.532 ...\n",
      "    d           (Instrument) |S2 'I1' 'I2' 'I3'\n"
     ]
    }
   ],
   "source": [
    "print ds_combined"
   ]
  },
  {
   "cell_type": "code",
   "execution_count": null,
   "metadata": {
    "collapsed": true
   },
   "outputs": [],
   "source": []
  }
 ],
 "metadata": {
  "kernelspec": {
   "display_name": "Python [default]",
   "language": "python",
   "name": "python2"
  },
  "language_info": {
   "codemirror_mode": {
    "name": "ipython",
    "version": 2
   },
   "file_extension": ".py",
   "mimetype": "text/x-python",
   "name": "python",
   "nbconvert_exporter": "python",
   "pygments_lexer": "ipython2",
   "version": "2.7.12"
  }
 },
 "nbformat": 4,
 "nbformat_minor": 2
}
