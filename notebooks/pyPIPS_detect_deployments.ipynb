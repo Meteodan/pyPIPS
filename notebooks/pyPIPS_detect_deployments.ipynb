{
 "cells": [
  {
   "cell_type": "markdown",
   "metadata": {},
   "source": [
    "# A testing ground for pyPIPS functionality\n",
    "Testing automatic detection of deployments using time jumps, compass direction changes, and gps speed/location changes"
   ]
  },
  {
   "cell_type": "code",
   "execution_count": null,
   "metadata": {
    "ExecuteTime": {
     "end_time": "2020-06-24T14:40:32.290220Z",
     "start_time": "2020-06-24T14:40:28.958219Z"
    }
   },
   "outputs": [],
   "source": [
    "import numpy as np\n",
    "import numpy.ma as ma\n",
    "import matplotlib\n",
    "import matplotlib.pyplot as plt\n",
    "import matplotlib.cm as cm\n",
    "import matplotlib.ticker as ticker\n",
    "import matplotlib.dates as dates\n",
    "from mpl_toolkits.axes_grid1 import ImageGrid,make_axes_locatable,host_subplot\n",
    "#from mpl_toolkits.basemap import Basemap\n",
    "from datetime import datetime, timedelta\n",
    "import sys\n",
    "import os\n",
    "import pyPIPS.utils as utils\n",
    "import pyPIPS.thermolib as thermo\n",
    "import pyPIPS.DSDlib as dsd\n",
    "#import pyPIPS.disdrometer_module as dis\n",
    "import pyPIPS.plotmodule as PIPSplot\n",
    "#import pyPIPS.simulator as sim\n",
    "import pyPIPS.pips_io as pipsio\n",
    "import pyPIPS.PIPS as pips\n",
    "import pyPIPS.parsivel_params as pp\n",
    "import pyPIPS.parsivel_qc as pqc\n",
    "import pyPIPS.polarimetric as dualpol\n",
    "import pyPIPS.timemodule as ptm\n",
    "from pyCRMtools.modules import plotmodule as plotmod\n",
    "from pyCRMtools.modules import utils as CRMutils\n",
    "# from pyCRMtools.pycaps import arps_read\n",
    "# from pyCRMtools.pycaps import pycaps_fields\n",
    "# from pyCRMtools.pycaps import calvars_radar as radar\n",
    "import pandas as pd\n",
    "import xarray as xr\n",
    "import glob\n",
    "import numpy.random as random\n",
    "from scipy.stats import gamma, uniform\n",
    "from scipy.special import gamma as gammafunc\n",
    "from scipy import ndimage\n",
    "from metpy.plots import StationPlot\n",
    "from metpy.calc import wind_components\n",
    "from metpy.cbook import get_test_data\n",
    "from metpy.plots import StationPlot\n",
    "from metpy.plots.wx_symbols import current_weather, sky_cover\n",
    "from metpy.units import units\n",
    "import cartopy.crs as ccrs\n",
    "import cartopy.feature as feature\n",
    "from natsort import natsorted\n",
    "from pprint import pprint\n",
    "import warnings\n",
    "warnings.simplefilter('ignore')\n",
    "%load_ext autoreload\n",
    "%autoreload 2\n",
    "%matplotlib inline"
   ]
  },
  {
   "cell_type": "code",
   "execution_count": null,
   "metadata": {},
   "outputs": [],
   "source": [
    "def split_dataset_by_time(ds, time_break_thresh):\n",
    "    time_diff = ds['time'].diff('time', label='lower').astype(np.float)*1.e-9\n",
    "    \n",
    "    time_breaks = xr.concat([ds['time'].where(time_diff > time_break_thresh, drop=True), \n",
    "                             ds['time'][-1]], dim='time')\n",
    "    # print(time_breaks)\n",
    "\n",
    "    int_indices = range(ds.sizes['time'])\n",
    "    int_ind_da = xr.DataArray(int_indices, coords=[('time', ds.coords['time'].values)])\n",
    "    break1_index = int_ind_da.sel(time=time_breaks[0]).item()\n",
    "\n",
    "    ds_dlist = []\n",
    "    time_range_list = []\n",
    "    t1 = ds['time'][0]\n",
    "    deploy_num = 1\n",
    "    for time in time_breaks:\n",
    "        t1_datetime = t1.values.astype('datetime64[us]').astype(datetime) # This is insane just to get a datetime\n",
    "        t1_stamp = t1_datetime.strftime('%Y-%m-%d: %H:%M:%S')\n",
    "        t2 = time\n",
    "        t2_datetime = t2.values.astype('datetime64[us]').astype(datetime)\n",
    "        t2_stamp = t2_datetime.strftime('%Y-%m-%d: %H:%M:%S')\n",
    "        print(\"Deployment #{}. Time range: {} -- {}\".format(deploy_num, t1_stamp, t2_stamp))\n",
    "        ds_dlist.append(ds.sel(time=slice(t1, t2)))\n",
    "        time_range_list.append((t1_datetime, t2_datetime))\n",
    "        deploy_num += 1\n",
    "        if ~(time == time_breaks[-1]):\n",
    "            next_t1_index = int_ind_da.sel(time=time) + 1\n",
    "            t1 = ds['time'].isel(time=next_t1_index)\n",
    "    return ds_dlist, time_range_list"
   ]
  },
  {
   "cell_type": "code",
   "execution_count": null,
   "metadata": {
    "ExecuteTime": {
     "end_time": "2020-06-24T14:40:48.238022Z",
     "start_time": "2020-06-24T14:40:47.848609Z"
    },
    "code_folding": [],
    "scrolled": false
   },
   "outputs": [],
   "source": [
    "date = '051919' # '030622' # '061416'\n",
    "# PIPS_dir = '/Users/dawson29/Dropbox/PIPS_data/2016/{}/netcdf'.format(date)\n",
    "# PIPS_dir = '/Users/dawson29/Dropbox/Projects/PERiLS/PIPS_data/{}_IN_test/netcdf'.format(date)\n",
    "# PIPS_dir = '/Users/dawson29/Dropbox/PIPS_data/2019/SPOTTR2019/{}_test/netcdf'.format(date)\n",
    "PIPS_dir = '/Users/dawson29/Dropbox/PIPS_data/unprocessed/netcdf'\n",
    "# deployment_name = 'Test_{}'.format(date)\n",
    "deployment_name = 'temp'\n",
    "PIPS_names = ['PIPS1A', 'PIPS1B', 'PIPS2A', 'PIPS2B']\n",
    "# PIPS_names = ['PIPS1A', 'PIPS2A', 'PIPS2B']\n",
    "parsivel_interval = 10\n",
    "parsivel_filenames = ['parsivel_combined_{}_{}_{:d}s.nc'.format(deployment_name, PIPS_name, parsivel_interval)\n",
    "                      for PIPS_name in PIPS_names]\n",
    "parsivel_filepaths = [os.path.join(PIPS_dir, parsivel_filename) for parsivel_filename in parsivel_filenames]\n",
    "conv_filenames = ['conventional_raw_{}_{}.nc'.format(deployment_name, PIPS_name) for PIPS_name in PIPS_names]\n",
    "conv_filepaths = [os.path.join(PIPS_dir, conv_filename) for conv_filename in conv_filenames]\n",
    "parsivel_ds_dict = {}\n",
    "conv_ds_dict = {}\n",
    "for PIPS_name, parsivel_filepath, conv_filepath in zip(PIPS_names, parsivel_filepaths, conv_filepaths):\n",
    "    parsivel_ds_dict[PIPS_name] = xr.load_dataset(parsivel_filepath)\n",
    "    conv_ds_dict[PIPS_name] = xr.load_dataset(conv_filepath)"
   ]
  },
  {
   "cell_type": "code",
   "execution_count": null,
   "metadata": {},
   "outputs": [],
   "source": [
    "ds = parsivel_ds_dict['PIPS1B']\n",
    "time_diff = ds['time'].diff('time', label='lower').astype(np.float)*1.e-9\n",
    "time_diff.plot()"
   ]
  },
  {
   "cell_type": "code",
   "execution_count": null,
   "metadata": {},
   "outputs": [],
   "source": [
    "# find duplicate times\n",
    "conv_ds = conv_ds_dict['PIPS2B']\n",
    "print(conv_ds.coords['time'])\n",
    "print(len(conv_ds.time))\n",
    "print(len(np.unique(conv_ds.time.data)))\n",
    "unique_times = np.unique(conv_ds['time'])\n",
    "# print(unique_times)\n",
    "duplicated = conv_ds.indexes['time'].duplicated(keep=False)\n",
    "# print(duplicated)\n",
    "dup_indices = np.where(duplicated)[0]\n",
    "print(dup_indices)\n",
    "#duplicated = xr.DataArray(parsivel_ds_read.indexes['time'].duplicated())\n",
    "duplicated_times = conv_ds['time'].isel(time=dup_indices)\n",
    "print(duplicated_times)\n",
    "duplicated_times_only = conv_ds.isel(time=dup_indices)\n",
    "print(duplicated_times_only)"
   ]
  },
  {
   "cell_type": "code",
   "execution_count": null,
   "metadata": {
    "scrolled": false
   },
   "outputs": [],
   "source": [
    "# Look for big time breaks in the dataset and split the dataset where these breaks occur. Then dump the new\n",
    "# split datasets back out to disk\n",
    "time_break_thresh = 900.\n",
    "\n",
    "conv_ds_dlist_PIPS_dict = {}\n",
    "parsivel_ds_dlist_PIPS_dict = {}\n",
    "conv_time_range_dict = {}\n",
    "parsivel_time_range_dict = {}\n",
    "\n",
    "for PIPS_name in PIPS_names:\n",
    "    print(\"Detecting deployments for {} (1-s data), using a threshold of {:d} s\".format(PIPS_name, \n",
    "                                                                                        int(time_break_thresh)))\n",
    "    ds_dlist, time_range_list = split_dataset_by_time(conv_ds_dict[PIPS_name], time_break_thresh)\n",
    "    conv_ds_dlist_PIPS_dict[PIPS_name] = ds_dlist\n",
    "    conv_time_range_dict[PIPS_name] = time_range_list\n",
    "    print(\"Detecting deployments for {} (10-s data), using a threshold of {:d} s\".format(PIPS_name, \n",
    "                                                                                         int(time_break_thresh)))\n",
    "    ds_dlist, time_range_list = split_dataset_by_time(parsivel_ds_dict[PIPS_name], time_break_thresh)\n",
    "    parsivel_ds_dlist_PIPS_dict[PIPS_name] = ds_dlist\n",
    "    parsivel_time_range_dict[PIPS_name] = time_range_list\n",
    "    "
   ]
  },
  {
   "cell_type": "code",
   "execution_count": null,
   "metadata": {
    "scrolled": false
   },
   "outputs": [],
   "source": [
    "for PIPS_name in PIPS_names:\n",
    "    conv_ds_dlist = conv_ds_dlist_PIPS_dict[PIPS_name]\n",
    "    parsivel_ds_dlist = parsivel_ds_dlist_PIPS_dict[PIPS_name]\n",
    "    for conv_ds, parsivel_ds in zip(conv_ds_dlist, parsivel_ds_dlist):\n",
    "        fig, ax = plt.subplots(figsize=(10, 5))\n",
    "        \n",
    "        conv_ds['windspd'].plot(ax=ax)\n",
    "        parsivel_ds['windspd'].plot(ax=ax)\n",
    "        ax.set_title(PIPS_name)"
   ]
  },
  {
   "cell_type": "code",
   "execution_count": null,
   "metadata": {
    "ExecuteTime": {
     "end_time": "2020-06-24T14:40:52.914189Z",
     "start_time": "2020-06-24T14:40:52.601354Z"
    }
   },
   "outputs": [],
   "source": [
    "# Dump out new files to disk, labeled by deployment\n",
    "for PIPS_name in PIPS_names:\n",
    "    conv_ds_dlist = conv_ds_dlist_PIPS_dict[PIPS_name]\n",
    "    parsivel_ds_dlist = parsivel_ds_dlist_PIPS_dict[PIPS_name]\n",
    "    conv_time_range_list = conv_time_range_dict[PIPS_name]\n",
    "    parsivel_time_range_list = parsivel_time_range_dict[PIPS_name]\n",
    "    for dnum, conv_ds, conv_time_range in zip(range(1, len(conv_ds_dlist) + 1), conv_ds_dlist, conv_time_range_list):\n",
    "        timestamp_start = conv_time_range[0].strftime(ptm.timefmt3)\n",
    "        timestamp_end = conv_time_range[1].strftime(ptm.timefmt3)\n",
    "        new_conv_filename = 'conventional_raw_{}_{}_D{:d}_{}_{}.nc'.format(deployment_name, PIPS_name, dnum,\n",
    "                                                                           timestamp_start, timestamp_end)\n",
    "        new_conv_filepath = os.path.join(PIPS_dir, new_conv_filename)\n",
    "        print(\"Saving {} to disk\".format(new_conv_filename))\n",
    "        conv_ds.to_netcdf(new_conv_filepath)\n",
    "        \n",
    "    for dnum, parsivel_ds, parsivel_time_range in zip(range(1, len(parsivel_ds_dlist) + 1), parsivel_ds_dlist, \n",
    "                                                      parsivel_time_range_list):\n",
    "        timestamp_start = parsivel_time_range[0].strftime(ptm.timefmt3)\n",
    "        timestamp_end = parsivel_time_range[1].strftime(ptm.timefmt3)\n",
    "        new_parsivel_filename = 'parsivel_combined_{}_{}_D{:d}_{}_{}_{:d}s.nc'.format(deployment_name, PIPS_name, \n",
    "                                                                                      dnum, timestamp_start,\n",
    "                                                                                      timestamp_end, \n",
    "                                                                                      parsivel_interval)\n",
    "        new_parsivel_filepath = os.path.join(PIPS_dir, new_parsivel_filename)\n",
    "        print(\"Saving {} to disk\".format(new_parsivel_filename))\n",
    "        parsivel_ds.to_netcdf(new_parsivel_filepath)\n",
    "    "
   ]
  },
  {
   "cell_type": "code",
   "execution_count": null,
   "metadata": {
    "ExecuteTime": {
     "end_time": "2020-06-24T14:40:58.877424Z",
     "start_time": "2020-06-24T14:40:58.530385Z"
    }
   },
   "outputs": [],
   "source": [
    "wind_spd_conv = conv_ds['windspd']\n",
    "wind_spd_conv.plot()"
   ]
  },
  {
   "cell_type": "code",
   "execution_count": null,
   "metadata": {
    "ExecuteTime": {
     "end_time": "2020-06-24T14:42:58.923563Z",
     "start_time": "2020-06-24T14:42:58.632758Z"
    }
   },
   "outputs": [],
   "source": [
    "compass_dir_parsivel = parsivel_ds['compass_dir']\n",
    "compass_dir_parsivel.plot()"
   ]
  },
  {
   "cell_type": "code",
   "execution_count": null,
   "metadata": {
    "ExecuteTime": {
     "end_time": "2020-06-24T14:43:46.867982Z",
     "start_time": "2020-06-24T14:43:46.512597Z"
    }
   },
   "outputs": [],
   "source": [
    "compass_dir_conv = conv_ds['compass_dir']\n",
    "compass_dir_conv.plot()"
   ]
  },
  {
   "cell_type": "code",
   "execution_count": null,
   "metadata": {
    "ExecuteTime": {
     "end_time": "2020-06-24T14:44:39.701029Z",
     "start_time": "2020-06-24T14:44:39.327787Z"
    }
   },
   "outputs": [],
   "source": [
    "wind_dir_conv = conv_ds['winddirabs']\n",
    "wind_dir_conv.plot()"
   ]
  },
  {
   "cell_type": "code",
   "execution_count": null,
   "metadata": {
    "ExecuteTime": {
     "end_time": "2020-06-24T14:45:05.033385Z",
     "start_time": "2020-06-24T14:45:04.718858Z"
    }
   },
   "outputs": [],
   "source": [
    "wind_dir_parsivel = parsivel_ds['winddirabs']\n",
    "wind_dir_parsivel.plot()"
   ]
  },
  {
   "cell_type": "code",
   "execution_count": null,
   "metadata": {
    "ExecuteTime": {
     "end_time": "2020-06-24T17:47:50.563473Z",
     "start_time": "2020-06-24T17:47:50.276178Z"
    }
   },
   "outputs": [],
   "source": [
    "parsivel_angle = pips.calc_parsivel_wind_angle(wind_dir_parsivel, compass_dir_parsivel, parsivel_ds.parsivel_angle)\n",
    "parsivel_angle.plot()"
   ]
  },
  {
   "cell_type": "code",
   "execution_count": null,
   "metadata": {},
   "outputs": [],
   "source": [
    "GPS_spd = conv_ds['GPS_spd']\n",
    "GPS_rolling = GPS_spd.rolling(time=300)\n",
    "GPS_rolling_mean = GPS_rolling.mean()\n",
    "GPS_rolling_mean.plot()"
   ]
  },
  {
   "cell_type": "code",
   "execution_count": null,
   "metadata": {
    "scrolled": true
   },
   "outputs": [],
   "source": [
    "conv_ds = conv_ds_dict['PIPS1A']"
   ]
  },
  {
   "cell_type": "code",
   "execution_count": null,
   "metadata": {},
   "outputs": [],
   "source": [
    "battery_volt = conv_ds['voltage']\n",
    "battery_volt.plot()"
   ]
  },
  {
   "cell_type": "code",
   "execution_count": null,
   "metadata": {},
   "outputs": [],
   "source": [
    "# Try to use OpenStreetMap for images. Taken from \n",
    "# https://makersportal.com/blog/2020/4/24/geographic-visualizations-in-python-with-cartopy\n",
    "import cartopy.io.img_tiles as cimgt\n",
    "import io\n",
    "from urllib.request import urlopen, Request\n",
    "from PIL import Image"
   ]
  },
  {
   "cell_type": "code",
   "execution_count": null,
   "metadata": {},
   "outputs": [],
   "source": [
    "def image_spoof(self, tile): # this function pretends not to be a Python script\n",
    "    url = self._image_url(tile) # get the url of the street map API\n",
    "    req = Request(url) # start request\n",
    "    req.add_header('User-agent','Anaconda 3') # add user agent to request\n",
    "    fh = urlopen(req) \n",
    "    im_data = io.BytesIO(fh.read()) # get image\n",
    "    fh.close() # close url\n",
    "    img = Image.open(im_data) # open image with PIL\n",
    "    img = img.convert(self.desired_tile_form) # set image format\n",
    "    return img, self.tileextent(tile), 'lower' # reformat for cartopy"
   ]
  },
  {
   "cell_type": "code",
   "execution_count": null,
   "metadata": {},
   "outputs": [],
   "source": [
    "# cimgt.OSM.get_image = image_spoof # reformat web request for street map spoofing\n",
    "# osm_img = cimgt.OSM() # spoofed, downloaded street map\n",
    "cimgt.QuadtreeTiles.get_image = image_spoof # reformat web request for street map spoofing\n",
    "osm_img = cimgt.QuadtreeTiles() # spoofed, downloaded street map"
   ]
  },
  {
   "cell_type": "code",
   "execution_count": null,
   "metadata": {},
   "outputs": [],
   "source": [
    "fig = plt.figure(figsize=(12,9)) # open matplotlib figure\n",
    "ax1 = plt.axes(projection=osm_img.crs) # project using coordinate reference system (CRS) of street map\n",
    "location = eval(str(conv_ds.location))\n",
    "ctrlat = location[0]\n",
    "ctrlon = location[1]\n",
    "center_pt = [ctrlat, ctrlon]\n",
    "zoom = 0.0005 # for zooming out of center point\n",
    "extent = [center_pt[1]-(zoom*2.0),center_pt[1]+(zoom*2.0),center_pt[0]-zoom,center_pt[0]+zoom] # adjust to zoom\n",
    "ax1.set_extent(extent) # set extents\n",
    "scale = np.ceil(-np.sqrt(2)*np.log(np.divide(zoom,350.0))) # empirical solve for scale based on zoom\n",
    "scale = (scale<20) and scale or 19 # scale cannot be larger than 19\n",
    "print(scale)\n",
    "ax1.add_image(osm_img, int(scale)) # add OSM with zoom specification\n",
    "# NOTE: zoom specifications should be selected based on extent:\n",
    "# -- 2     = coarse image, select for worldwide or continental scales\n",
    "# -- 4-6   = medium coarseness, select for countries and larger states\n",
    "# -- 6-10  = medium fineness, select for smaller states, regions, and cities\n",
    "# -- 10-12 = fine image, select for city boundaries and zip codes\n",
    "# -- 14+   = extremely fine image, select for roads, blocks, buildings\n",
    "lons = conv_ds['GPS_lon']\n",
    "lons = lons.where(conv_ds['GPS_status'] == 'A', drop=True)\n",
    "lats = conv_ds['GPS_lat']\n",
    "lats = lats.where(conv_ds['GPS_status'] == 'A', drop=True)\n",
    "times = conv_ds['time']\n",
    "times = times.where(conv_ds['GPS_status'] == 'A', drop=True)\n",
    "sc = ax1.scatter(lons, lats, c=times, marker='o', facecolor='none', alpha=1, transform=ccrs.PlateCarree())\n",
    "fig.colorbar(sc, ax=ax1)\n",
    "plt.show() # show the plot"
   ]
  },
  {
   "cell_type": "code",
   "execution_count": null,
   "metadata": {},
   "outputs": [],
   "source": []
  },
  {
   "cell_type": "code",
   "execution_count": null,
   "metadata": {},
   "outputs": [],
   "source": [
    "# Old cells below. Check if there is anything important there and then get rid of them"
   ]
  },
  {
   "cell_type": "code",
   "execution_count": null,
   "metadata": {},
   "outputs": [],
   "source": [
    "# Set up map\n",
    "width_x = 500. # m\n",
    "width_y = 500. # m\n",
    "\n",
    "location = eval(str(conv_ds.location))\n",
    "ctrlat = location[0]\n",
    "ctrlon = location[1]\n",
    "\n",
    "trulon = ctrlon\n",
    "trulat1 = 35.\n",
    "trulat2 = 45.\n",
    "projection = ccrs.LambertConformal(ctrlon, ctrlat, false_easting=width_x/2., false_northing=width_y/2.,\n",
    "                                   standard_parallels=[trulat1, trulat2])\n",
    "\n",
    "fig, ax = plt.subplots(figsize=(10, 10), subplot_kw={'projection': projection})\n",
    "\n",
    "# ax.stock_img()\n",
    "# Add coastlines and states\n",
    "ax.coastlines()\n",
    "land = feature.LAND\n",
    "ax.add_feature(land) # , edgecolor='face', facecolor=feature.COLORS['land'])\n",
    "states = feature.STATES\n",
    "# states = feature.NaturalEarthFeature(category=\"cultural\", scale=\"50m\",\n",
    "#                                      facecolor=\"none\",\n",
    "#                                      name=\"admin_1_states_provinces_shp\")\n",
    "ax.add_feature(states, linewidth=1., edgecolor='k', alpha=0.5)\n",
    "rivers = feature.RIVERS\n",
    "ax.add_feature(rivers, linewidth=0.75, edgecolor='b', alpha=0.5)\n",
    "ax.add_feature(feature.NaturalEarthFeature('cultural', 'roads', '10m'), facecolor='none', edgecolor='b')\n",
    "# # Add counties if desired. TODO: add back more features here after testing\n",
    "\n",
    "# # if runname == pc.runname_list[0] and time == time_list[0]:\n",
    "\n",
    "# print(\"Reading counties from shapefile\")\n",
    "county_shapefile_location = '/Users/dawson29/Projects/pyCRMtools/data/shapefiles/county/countyp020'\n",
    "counties = plotmod.read_shapefile(county_shapefile_location)\n",
    "ax.add_feature(counties, linewidth=0.5, edgecolor='grey', alpha=0.5)\n",
    "\n",
    "# Add urban areas\n",
    "# urban_shapefile_location = '/Users/dawson29/Projects/pyCRMtools/data/shapefiles/urban2/tl_2008_us_cbsa'\n",
    "# urban = plotmod.read_shapefile(urban_shapefile_location)\n",
    "# ax.add_feature(urban, linewidth=0.5, facecolor='purple', edgecolor='none', alpha=0.25)\n",
    "\n",
    "# Add more stuff from GADM database (EDIT: doesn't seem to add anything beyond counties)\n",
    "# gadm_shapefile_location = '/Users/dawson29/Projects/pyCRMtools/data/shapefiles/gadm/gadm36_USA_2'\n",
    "# gadm_shapes = plotmod.read_shapefile(gadm_shapefile_location)\n",
    "# ax.add_feature(gadm_shapes, linewidth=0.5, edgecolor='purple', alpha=0.8)\n",
    "\n",
    "ax.set_xlim(0., width_x)\n",
    "ax.set_ylim(0., width_y)\n",
    "# ax.scatter([ctrlon], [ctrlat], color='black', marker='o', facecolor='none', transform=ccrs.PlateCarree())\n",
    "\n",
    "lons = conv_ds['GPS_lon']\n",
    "lats = conv_ds['GPS_lat']\n",
    "ax.scatter(lons, lats, color='black', marker='o', facecolor='none', alpha=0.75, transform=ccrs.PlateCarree())"
   ]
  },
  {
   "cell_type": "code",
   "execution_count": null,
   "metadata": {
    "ExecuteTime": {
     "end_time": "2020-06-23T20:58:13.817825Z",
     "start_time": "2020-06-23T20:58:13.717395Z"
    }
   },
   "outputs": [],
   "source": [
    "print(wind_dir_conv.coords['time'])\n",
    "print(len(wind_dir_conv.time))\n",
    "print(len(np.unique(wind_dir_conv.time.data)))\n",
    "unique_times = np.unique(wind_dir_conv['time'])\n",
    "print(unique_times)\n",
    "duplicated = wind_dir_conv.indexes['time'].duplicated()\n",
    "print(duplicated)\n",
    "dup_indices = np.where(duplicated)[0]\n",
    "print(dup_indices)\n",
    "#duplicated = xr.DataArray(parsivel_ds_read.indexes['time'].duplicated())\n",
    "duplicated_times = wind_dir_conv['time'].isel(time=dup_indices)\n",
    "print(duplicated_times)\n",
    "duplicated_times_only = wind_dir_conv.isel(time=dup_indices)\n",
    "print(duplicated_times_only)"
   ]
  },
  {
   "cell_type": "code",
   "execution_count": null,
   "metadata": {
    "ExecuteTime": {
     "end_time": "2020-06-23T21:09:54.931677Z",
     "start_time": "2020-06-23T21:09:54.842408Z"
    }
   },
   "outputs": [],
   "source": [
    "time_diff = wind_spd_conv['time'].diff('time').astype(np.float)*1.e-9\n",
    "print(time_diff)\n",
    "out_of_order_times = time_diff.where(time_diff < 0, drop=True)['time']\n",
    "print(out_of_order_times)"
   ]
  },
  {
   "cell_type": "code",
   "execution_count": null,
   "metadata": {
    "ExecuteTime": {
     "end_time": "2020-06-23T21:21:19.136212Z",
     "start_time": "2020-06-23T21:21:19.037622Z"
    }
   },
   "outputs": [],
   "source": [
    "int_indices = range(wind_spd_conv.sizes['time'])\n",
    "print(wind_spd_conv.coords['time'].values)\n",
    "int_ind_da = xr.DataArray(int_indices, coords=[('time', wind_spd_conv.coords['time'].values)])\n",
    "print(int_ind_da)"
   ]
  },
  {
   "cell_type": "code",
   "execution_count": null,
   "metadata": {
    "ExecuteTime": {
     "end_time": "2020-06-23T21:22:48.263764Z",
     "start_time": "2020-06-23T21:22:48.181759Z"
    }
   },
   "outputs": [],
   "source": [
    "print(int_ind_da.sel(time='2017-04-30T20:40:18.000000000'))"
   ]
  },
  {
   "cell_type": "code",
   "execution_count": null,
   "metadata": {
    "ExecuteTime": {
     "end_time": "2020-06-23T21:26:00.767618Z",
     "start_time": "2020-06-23T21:26:00.682095Z"
    }
   },
   "outputs": [],
   "source": [
    "print(wind_spd_conv.isel(time=74415))\n",
    "print(wind_spd_conv.isel(time=74416))\n",
    "print(wind_spd_conv.isel(time=74417))\n",
    "print(wind_spd_conv.isel(time=74418))"
   ]
  },
  {
   "cell_type": "code",
   "execution_count": null,
   "metadata": {
    "ExecuteTime": {
     "end_time": "2020-06-23T21:29:09.768836Z",
     "start_time": "2020-06-23T21:29:09.677148Z"
    }
   },
   "outputs": [],
   "source": [
    "time_diff = parsivel_ds['time'].diff('time').astype(np.float)*1.e-9\n",
    "print(time_diff)\n",
    "out_of_order_times = time_diff.where(time_diff < 0, drop=True)['time']\n",
    "print(out_of_order_times)"
   ]
  },
  {
   "cell_type": "code",
   "execution_count": null,
   "metadata": {
    "ExecuteTime": {
     "end_time": "2020-06-23T21:54:20.671583Z",
     "start_time": "2020-06-23T21:54:20.258003Z"
    }
   },
   "outputs": [],
   "source": [
    "PIPS_dir2 = '/Volumes/scr_fast/Projects/VORTEXSE/obsdata/full_PIPS_dataset_new_test/'\n",
    "parsivel_filepath2 = os.path.join(PIPS_dir, 'parsivel_combined_FMCW_2017_043017_PIPS2A_60s.nc')\n",
    "conv_filepath2 = os.path.join(PIPS_dir, 'conventional_raw_FMCW_2017_043017_PIPS2A.nc')\n",
    "parsivel_ds2 = xr.load_dataset(parsivel_filepath2)\n",
    "conv_ds2 = xr.load_dataset(conv_filepath2)"
   ]
  },
  {
   "cell_type": "code",
   "execution_count": null,
   "metadata": {
    "ExecuteTime": {
     "end_time": "2020-06-23T21:54:34.264035Z",
     "start_time": "2020-06-23T21:54:34.180687Z"
    }
   },
   "outputs": [],
   "source": [
    "time_diff = parsivel_ds2['time'].diff('time').astype(np.float)*1.e-9\n",
    "print(time_diff)\n",
    "out_of_order_times = time_diff.where(time_diff < 0, drop=True)['time']\n",
    "print(out_of_order_times)"
   ]
  },
  {
   "cell_type": "code",
   "execution_count": null,
   "metadata": {},
   "outputs": [],
   "source": []
  }
 ],
 "metadata": {
  "anaconda-cloud": {},
  "hide_input": false,
  "kernelspec": {
   "display_name": "Python [conda env:pyPIPS]",
   "language": "python",
   "name": "conda-env-pyPIPS-py"
  },
  "language_info": {
   "codemirror_mode": {
    "name": "ipython",
    "version": 3
   },
   "file_extension": ".py",
   "mimetype": "text/x-python",
   "name": "python",
   "nbconvert_exporter": "python",
   "pygments_lexer": "ipython3",
   "version": "3.9.13"
  },
  "toc": {
   "base_numbering": 1,
   "nav_menu": {},
   "number_sections": true,
   "sideBar": true,
   "skip_h1_title": false,
   "title_cell": "Table of Contents",
   "title_sidebar": "Contents",
   "toc_cell": false,
   "toc_position": {},
   "toc_section_display": true,
   "toc_window_display": false
  },
  "varInspector": {
   "cols": {
    "lenName": 16,
    "lenType": 16,
    "lenVar": 40
   },
   "kernels_config": {
    "python": {
     "delete_cmd_postfix": "",
     "delete_cmd_prefix": "del ",
     "library": "var_list.py",
     "varRefreshCmd": "print(var_dic_list())"
    },
    "r": {
     "delete_cmd_postfix": ") ",
     "delete_cmd_prefix": "rm(",
     "library": "var_list.r",
     "varRefreshCmd": "cat(var_dic_list()) "
    }
   },
   "types_to_exclude": [
    "module",
    "function",
    "builtin_function_or_method",
    "instance",
    "_Feature"
   ],
   "window_display": false
  }
 },
 "nbformat": 4,
 "nbformat_minor": 2
}
