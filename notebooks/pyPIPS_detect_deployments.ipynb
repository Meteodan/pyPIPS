{
 "cells": [
  {
   "cell_type": "markdown",
   "metadata": {},
   "source": [
    "# A testing ground for pyPIPS functionality\n",
    "Testing automatic detection of deployments using time jumps, compass direction changes, and gps speed/location changes"
   ]
  },
  {
   "cell_type": "code",
   "execution_count": 1,
   "metadata": {
    "ExecuteTime": {
     "end_time": "2020-06-24T14:40:32.290220Z",
     "start_time": "2020-06-24T14:40:28.958219Z"
    }
   },
   "outputs": [
    {
     "name": "stdout",
     "output_type": "stream",
     "text": [
      "\n",
      "## You are using the Python ARM Radar Toolkit (Py-ART), an open source\n",
      "## library for working with weather radar data. Py-ART is partly\n",
      "## supported by the U.S. Department of Energy as part of the Atmospheric\n",
      "## Radiation Measurement (ARM) Climate Research Facility, an Office of\n",
      "## Science user facility.\n",
      "##\n",
      "## If you use this software to prepare a publication, please cite:\n",
      "##\n",
      "##     JJ Helmus and SM Collis, JORS 2016, doi: 10.5334/jors.119\n",
      "\n"
     ]
    }
   ],
   "source": [
    "import numpy as np\n",
    "import numpy.ma as ma\n",
    "import matplotlib\n",
    "import matplotlib.pyplot as plt\n",
    "import matplotlib.cm as cm\n",
    "import matplotlib.ticker as ticker\n",
    "import matplotlib.dates as dates\n",
    "from mpl_toolkits.axes_grid1 import ImageGrid,make_axes_locatable,host_subplot\n",
    "#from mpl_toolkits.basemap import Basemap\n",
    "from datetime import datetime, timedelta\n",
    "import sys\n",
    "import os\n",
    "import pyPIPS.utils as utils\n",
    "import pyPIPS.thermolib as thermo\n",
    "import pyPIPS.DSDlib as dsd\n",
    "#import pyPIPS.disdrometer_module as dis\n",
    "import pyPIPS.plotmodule as PIPSplot\n",
    "#import pyPIPS.simulator as sim\n",
    "import pyPIPS.pips_io as pipsio\n",
    "import pyPIPS.PIPS as pips\n",
    "import pyPIPS.parsivel_params as pp\n",
    "import pyPIPS.parsivel_qc as pqc\n",
    "import pyPIPS.polarimetric as dualpol\n",
    "from pyCRMtools.modules import plotmodule as plotmod\n",
    "from pyCRMtools.modules import utils as CRMutils\n",
    "# from pyCRMtools.pycaps import arps_read\n",
    "# from pyCRMtools.pycaps import pycaps_fields\n",
    "# from pyCRMtools.pycaps import calvars_radar as radar\n",
    "import pandas as pd\n",
    "import xarray as xr\n",
    "import glob\n",
    "import numpy.random as random\n",
    "from scipy.stats import gamma, uniform\n",
    "from scipy.special import gamma as gammafunc\n",
    "from scipy import ndimage\n",
    "from metpy.plots import StationPlot\n",
    "from metpy.calc import wind_components\n",
    "from metpy.cbook import get_test_data\n",
    "from metpy.plots import StationPlot\n",
    "from metpy.plots.wx_symbols import current_weather, sky_cover\n",
    "from metpy.units import units\n",
    "import cartopy.crs as ccrs\n",
    "import cartopy.feature as feature\n",
    "from natsort import natsorted\n",
    "from pprint import pprint\n",
    "import warnings\n",
    "warnings.simplefilter('ignore')\n",
    "%load_ext autoreload\n",
    "%autoreload 2\n",
    "%matplotlib inline"
   ]
  },
  {
   "cell_type": "code",
   "execution_count": 106,
   "metadata": {},
   "outputs": [],
   "source": [
    "def split_dataset_by_time(ds, time_break_thresh):\n",
    "    time_diff = ds['time'].diff('time', label='lower').astype(np.float)*1.e-9\n",
    "\n",
    "    time_breaks = xr.concat([ds['time'].where(time_diff > time_break_thresh, drop=True), \n",
    "                             ds['time'][-1]], dim='time')\n",
    "    print(time_breaks)\n",
    "\n",
    "    int_indices = range(ds.sizes['time'])\n",
    "    int_ind_da = xr.DataArray(int_indices, coords=[('time', ds.coords['time'].values)])\n",
    "    break1_index = int_ind_da.sel(time=time_breaks[0]).item()\n",
    "\n",
    "    ds_dlist = []\n",
    "    t1 = ds['time'][0]\n",
    "    deploy_num = 1\n",
    "    for time in time_breaks:\n",
    "        t1_datetime = t1.values.astype('datetime64[us]').astype(datetime) # This is insane just to get a datetime\n",
    "        t1_stamp = t1_datetime.strftime('%Y-%m-%d: %H:%M:%S')\n",
    "        t2 = time\n",
    "        t2_datetime = t2.values.astype('datetime64[us]').astype(datetime)\n",
    "        t2_stamp = t2_datetime.strftime('%Y-%m-%d: %H:%M:%S')\n",
    "        print(\"Deployment #{}. Time range: {} -- {}\".format(deploy_num, t1_stamp, t2_stamp))\n",
    "        ds_dlist.append(ds.sel(time=slice(t1, t2)))\n",
    "        deploy_num += 1\n",
    "        if ~(time == time_breaks[-1]):\n",
    "            next_t1_index = int_ind_da.sel(time=time) + 1\n",
    "            t1 = ds['time'].isel(time=next_t1_index)\n",
    "    return ds_dlist"
   ]
  },
  {
   "cell_type": "code",
   "execution_count": 107,
   "metadata": {
    "ExecuteTime": {
     "end_time": "2020-06-24T14:40:48.238022Z",
     "start_time": "2020-06-24T14:40:47.848609Z"
    },
    "code_folding": [],
    "scrolled": false
   },
   "outputs": [],
   "source": [
    "PIPS_dir = '/Users/dawson29/Dropbox/PIPS_data/2016/022416/netcdf'\n",
    "deployment_name = 'Test_022416'\n",
    "PIPS_name = 'PIPS1A'\n",
    "parsivel_interval = 10\n",
    "parsivel_filename = 'parsivel_combined_{}_{}_{:d}s.nc'.format(deployment_name, PIPS_name, parsivel_interval)\n",
    "parsivel_filepath = os.path.join(PIPS_dir, parsivel_filename)\n",
    "conv_filename = 'conventional_raw_{}_{}.nc'.format(deployment_name, PIPS_name)\n",
    "conv_filepath = os.path.join(PIPS_dir, conv_filename)\n",
    "parsivel_ds = xr.load_dataset(parsivel_filepath)\n",
    "conv_ds = xr.load_dataset(conv_filepath)"
   ]
  },
  {
   "cell_type": "code",
   "execution_count": 108,
   "metadata": {},
   "outputs": [
    {
     "name": "stdout",
     "output_type": "stream",
     "text": [
      "<xarray.DataArray 'time' (time: 2)>\n",
      "array(['2016-02-24T02:36:19.000000000', '2016-02-24T23:46:15.000000000'],\n",
      "      dtype='datetime64[ns]')\n",
      "Coordinates:\n",
      "  * time     (time) datetime64[ns] 2016-02-24T02:36:19 2016-02-24T23:46:15\n",
      "Deployment #1. Time range: 2016-02-24: 02:34:22 -- 2016-02-24: 02:36:19\n",
      "Deployment #2. Time range: 2016-02-24: 04:10:08 -- 2016-02-24: 23:46:15\n",
      "<xarray.DataArray 'time' (time: 2)>\n",
      "array(['2016-02-24T02:36:10.000000000', '2016-02-24T23:46:10.000000000'],\n",
      "      dtype='datetime64[ns]')\n",
      "Coordinates:\n",
      "  * time           (time) datetime64[ns] 2016-02-24T02:36:10 2016-02-24T23:46:10\n",
      "    flagged_times  (time) int64 0 0\n",
      "Deployment #1. Time range: 2016-02-24: 02:35:20 -- 2016-02-24: 02:36:10\n",
      "Deployment #2. Time range: 2016-02-24: 04:11:20 -- 2016-02-24: 23:46:10\n"
     ]
    },
    {
     "data": {
      "text/plain": [
       "[<matplotlib.lines.Line2D at 0x7fe14bba9b90>]"
      ]
     },
     "execution_count": 108,
     "metadata": {},
     "output_type": "execute_result"
    },
    {
     "data": {
      "image/png": "[encoded data removed]",
      "text/plain": [
       "<Figure size 432x288 with 1 Axes>"
      ]
     },
     "metadata": {
      "needs_background": "light"
     },
     "output_type": "display_data"
    }
   ],
   "source": [
    "# Look for big time breaks in the dataset and split the dataset where these breaks occur. Then dump the new\n",
    "# split datasets back out to disk\n",
    "time_break_thresh = 900.\n",
    "\n",
    "conv_ds_dlist = split_dataset_by_time(conv_ds, time_break_thresh)\n",
    "conv_ds_dlist[0]['windspd'].plot()\n",
    "parsivel_ds_dlist = split_dataset_by_time(parsivel_ds, time_break_thresh)\n",
    "parsivel_ds_dlist[0]['windspd'].plot()"
   ]
  },
  {
   "cell_type": "code",
   "execution_count": 3,
   "metadata": {
    "ExecuteTime": {
     "end_time": "2020-06-24T14:40:52.914189Z",
     "start_time": "2020-06-24T14:40:52.601354Z"
    }
   },
   "outputs": [
    {
     "data": {
      "text/plain": [
       "[<matplotlib.lines.Line2D at 0x7fe199a77bd0>]"
      ]
     },
     "execution_count": 3,
     "metadata": {},
     "output_type": "execute_result"
    },
    {
     "data": {
      "image/png": "[encoded data removed]",
      "text/plain": [
       "<Figure size 432x288 with 1 Axes>"
      ]
     },
     "metadata": {
      "needs_background": "light"
     },
     "output_type": "display_data"
    }
   ],
   "source": [
    "wind_spd_parsivel = parsivel_ds['windspd']\n",
    "wind_spd_parsivel.plot()"
   ]
  },
  {
   "cell_type": "code",
   "execution_count": 4,
   "metadata": {
    "ExecuteTime": {
     "end_time": "2020-06-24T14:40:58.877424Z",
     "start_time": "2020-06-24T14:40:58.530385Z"
    }
   },
   "outputs": [
    {
     "data": {
      "text/plain": [
       "[<matplotlib.lines.Line2D at 0x7fe169b3b510>]"
      ]
     },
     "execution_count": 4,
     "metadata": {},
     "output_type": "execute_result"
    },
    {
     "data": {
      "image/png": "[encoded data removed]",
      "text/plain": [
       "<Figure size 432x288 with 1 Axes>"
      ]
     },
     "metadata": {
      "needs_background": "light"
     },
     "output_type": "display_data"
    }
   ],
   "source": [
    "wind_spd_conv = conv_ds['windspd']\n",
    "wind_spd_conv.plot()"
   ]
  },
  {
   "cell_type": "code",
   "execution_count": 5,
   "metadata": {
    "ExecuteTime": {
     "end_time": "2020-06-24T14:42:58.923563Z",
     "start_time": "2020-06-24T14:42:58.632758Z"
    }
   },
   "outputs": [
    {
     "data": {
      "text/plain": [
       "[<matplotlib.lines.Line2D at 0x7fe169ad0650>]"
      ]
     },
     "execution_count": 5,
     "metadata": {},
     "output_type": "execute_result"
    },
    {
     "data": {
      "image/png": "[encoded data removed]",
      "text/plain": [
       "<Figure size 432x288 with 1 Axes>"
      ]
     },
     "metadata": {
      "needs_background": "light"
     },
     "output_type": "display_data"
    }
   ],
   "source": [
    "compass_dir_parsivel = parsivel_ds['compass_dir']\n",
    "compass_dir_parsivel.plot()"
   ]
  },
  {
   "cell_type": "code",
   "execution_count": 6,
   "metadata": {
    "ExecuteTime": {
     "end_time": "2020-06-24T14:43:46.867982Z",
     "start_time": "2020-06-24T14:43:46.512597Z"
    }
   },
   "outputs": [
    {
     "data": {
      "text/plain": [
       "[<matplotlib.lines.Line2D at 0x7fe169fdff90>]"
      ]
     },
     "execution_count": 6,
     "metadata": {},
     "output_type": "execute_result"
    },
    {
     "data": {
      "image/png": "[encoded data removed]",
      "text/plain": [
       "<Figure size 432x288 with 1 Axes>"
      ]
     },
     "metadata": {
      "needs_background": "light"
     },
     "output_type": "display_data"
    }
   ],
   "source": [
    "compass_dir_conv = conv_ds['compass_dir']\n",
    "compass_dir_conv.plot()"
   ]
  },
  {
   "cell_type": "code",
   "execution_count": 7,
   "metadata": {
    "ExecuteTime": {
     "end_time": "2020-06-24T14:44:39.701029Z",
     "start_time": "2020-06-24T14:44:39.327787Z"
    }
   },
   "outputs": [
    {
     "data": {
      "text/plain": [
       "[<matplotlib.lines.Line2D at 0x7fe1381c0590>]"
      ]
     },
     "execution_count": 7,
     "metadata": {},
     "output_type": "execute_result"
    },
    {
     "data": {
      "image/png": "[encoded data removed]",
      "text/plain": [
       "<Figure size 432x288 with 1 Axes>"
      ]
     },
     "metadata": {
      "needs_background": "light"
     },
     "output_type": "display_data"
    }
   ],
   "source": [
    "wind_dir_conv = conv_ds['winddirabs']\n",
    "wind_dir_conv.plot()"
   ]
  },
  {
   "cell_type": "code",
   "execution_count": 8,
   "metadata": {
    "ExecuteTime": {
     "end_time": "2020-06-24T14:45:05.033385Z",
     "start_time": "2020-06-24T14:45:04.718858Z"
    }
   },
   "outputs": [
    {
     "data": {
      "text/plain": [
       "[<matplotlib.lines.Line2D at 0x7fe16a03f590>]"
      ]
     },
     "execution_count": 8,
     "metadata": {},
     "output_type": "execute_result"
    },
    {
     "data": {
      "image/png": "[encoded data removed]",
      "text/plain": [
       "<Figure size 432x288 with 1 Axes>"
      ]
     },
     "metadata": {
      "needs_background": "light"
     },
     "output_type": "display_data"
    }
   ],
   "source": [
    "wind_dir_parsivel = parsivel_ds['winddirabs']\n",
    "wind_dir_parsivel.plot()"
   ]
  },
  {
   "cell_type": "code",
   "execution_count": 9,
   "metadata": {
    "ExecuteTime": {
     "end_time": "2020-06-24T17:47:50.563473Z",
     "start_time": "2020-06-24T17:47:50.276178Z"
    }
   },
   "outputs": [
    {
     "data": {
      "text/plain": [
       "[<matplotlib.lines.Line2D at 0x7fe16a014c90>]"
      ]
     },
     "execution_count": 9,
     "metadata": {},
     "output_type": "execute_result"
    },
    {
     "data": {
      "image/png": "[encoded data removed]",
      "text/plain": [
       "<Figure size 432x288 with 1 Axes>"
      ]
     },
     "metadata": {
      "needs_background": "light"
     },
     "output_type": "display_data"
    }
   ],
   "source": [
    "parsivel_angle = pips.calc_parsivel_wind_angle(wind_dir_parsivel, compass_dir_parsivel, parsivel_ds.parsivel_angle)\n",
    "parsivel_angle.plot()"
   ]
  },
  {
   "cell_type": "code",
   "execution_count": 10,
   "metadata": {},
   "outputs": [
    {
     "data": {
      "text/plain": [
       "[<matplotlib.lines.Line2D at 0x7fe178964fd0>]"
      ]
     },
     "execution_count": 10,
     "metadata": {},
     "output_type": "execute_result"
    },
    {
     "data": {
      "image/png": "[encoded data removed]",
      "text/plain": [
       "<Figure size 432x288 with 1 Axes>"
      ]
     },
     "metadata": {
      "needs_background": "light"
     },
     "output_type": "display_data"
    }
   ],
   "source": [
    "GPS_spd = conv_ds['GPS_spd']\n",
    "GPS_rolling = GPS_spd.rolling(time=300)\n",
    "GPS_rolling_mean = GPS_rolling.mean()\n",
    "GPS_rolling_mean.plot()"
   ]
  },
  {
   "cell_type": "code",
   "execution_count": 36,
   "metadata": {},
   "outputs": [
    {
     "data": {
      "text/html": [
       "<div><svg style=\"position: absolute; width: 0; height: 0; overflow: hidden\">\n",
       "<defs>\n",
       "<symbol id=\"icon-database\" viewBox=\"0 0 32 32\">\n",
       "<path d=\"M16 0c-8.837 0-16 2.239-16 5v4c0 2.761 7.163 5 16 5s16-2.239 16-5v-4c0-2.761-7.163-5-16-5z\"></path>\n",
       "<path d=\"M16 17c-8.837 0-16-2.239-16-5v6c0 2.761 7.163 5 16 5s16-2.239 16-5v-6c0 2.761-7.163 5-16 5z\"></path>\n",
       "<path d=\"M16 26c-8.837 0-16-2.239-16-5v6c0 2.761 7.163 5 16 5s16-2.239 16-5v-6c0 2.761-7.163 5-16 5z\"></path>\n",
       "</symbol>\n",
       "<symbol id=\"icon-file-text2\" viewBox=\"0 0 32 32\">\n",
       "<path d=\"M28.681 7.159c-0.694-0.947-1.662-2.053-2.724-3.116s-2.169-2.030-3.116-2.724c-1.612-1.182-2.393-1.319-2.841-1.319h-15.5c-1.378 0-2.5 1.121-2.5 2.5v27c0 1.378 1.122 2.5 2.5 2.5h23c1.378 0 2.5-1.122 2.5-2.5v-19.5c0-0.448-0.137-1.23-1.319-2.841zM24.543 5.457c0.959 0.959 1.712 1.825 2.268 2.543h-4.811v-4.811c0.718 0.556 1.584 1.309 2.543 2.268zM28 29.5c0 0.271-0.229 0.5-0.5 0.5h-23c-0.271 0-0.5-0.229-0.5-0.5v-27c0-0.271 0.229-0.5 0.5-0.5 0 0 15.499-0 15.5 0v7c0 0.552 0.448 1 1 1h7v19.5z\"></path>\n",
       "<path d=\"M23 26h-14c-0.552 0-1-0.448-1-1s0.448-1 1-1h14c0.552 0 1 0.448 1 1s-0.448 1-1 1z\"></path>\n",
       "<path d=\"M23 22h-14c-0.552 0-1-0.448-1-1s0.448-1 1-1h14c0.552 0 1 0.448 1 1s-0.448 1-1 1z\"></path>\n",
       "<path d=\"M23 18h-14c-0.552 0-1-0.448-1-1s0.448-1 1-1h14c0.552 0 1 0.448 1 1s-0.448 1-1 1z\"></path>\n",
       "</symbol>\n",
       "</defs>\n",
       "</svg>\n",
       "<style>/* CSS stylesheet for displaying xarray objects in jupyterlab.\n",
       " *\n",
       " */\n",
       "\n",
       ":root {\n",
       "  --xr-font-color0: var(--jp-content-font-color0, rgba(0, 0, 0, 1));\n",
       "  --xr-font-color2: var(--jp-content-font-color2, rgba(0, 0, 0, 0.54));\n",
       "  --xr-font-color3: var(--jp-content-font-color3, rgba(0, 0, 0, 0.38));\n",
       "  --xr-border-color: var(--jp-border-color2, #e0e0e0);\n",
       "  --xr-disabled-color: var(--jp-layout-color3, #bdbdbd);\n",
       "  --xr-background-color: var(--jp-layout-color0, white);\n",
       "  --xr-background-color-row-even: var(--jp-layout-color1, white);\n",
       "  --xr-background-color-row-odd: var(--jp-layout-color2, #eeeeee);\n",
       "}\n",
       "\n",
       "html[theme=dark],\n",
       "body.vscode-dark {\n",
       "  --xr-font-color0: rgba(255, 255, 255, 1);\n",
       "  --xr-font-color2: rgba(255, 255, 255, 0.54);\n",
       "  --xr-font-color3: rgba(255, 255, 255, 0.38);\n",
       "  --xr-border-color: #1F1F1F;\n",
       "  --xr-disabled-color: #515151;\n",
       "  --xr-background-color: #111111;\n",
       "  --xr-background-color-row-even: #111111;\n",
       "  --xr-background-color-row-odd: #313131;\n",
       "}\n",
       "\n",
       ".xr-wrap {\n",
       "  display: block;\n",
       "  min-width: 300px;\n",
       "  max-width: 700px;\n",
       "}\n",
       "\n",
       ".xr-text-repr-fallback {\n",
       "  /* fallback to plain text repr when CSS is not injected (untrusted notebook) */\n",
       "  display: none;\n",
       "}\n",
       "\n",
       ".xr-header {\n",
       "  padding-top: 6px;\n",
       "  padding-bottom: 6px;\n",
       "  margin-bottom: 4px;\n",
       "  border-bottom: solid 1px var(--xr-border-color);\n",
       "}\n",
       "\n",
       ".xr-header > div,\n",
       ".xr-header > ul {\n",
       "  display: inline;\n",
       "  margin-top: 0;\n",
       "  margin-bottom: 0;\n",
       "}\n",
       "\n",
       ".xr-obj-type,\n",
       ".xr-array-name {\n",
       "  margin-left: 2px;\n",
       "  margin-right: 10px;\n",
       "}\n",
       "\n",
       ".xr-obj-type {\n",
       "  color: var(--xr-font-color2);\n",
       "}\n",
       "\n",
       ".xr-sections {\n",
       "  padding-left: 0 !important;\n",
       "  display: grid;\n",
       "  grid-template-columns: 150px auto auto 1fr 20px 20px;\n",
       "}\n",
       "\n",
       ".xr-section-item {\n",
       "  display: contents;\n",
       "}\n",
       "\n",
       ".xr-section-item input {\n",
       "  display: none;\n",
       "}\n",
       "\n",
       ".xr-section-item input + label {\n",
       "  color: var(--xr-disabled-color);\n",
       "}\n",
       "\n",
       ".xr-section-item input:enabled + label {\n",
       "  cursor: pointer;\n",
       "  color: var(--xr-font-color2);\n",
       "}\n",
       "\n",
       ".xr-section-item input:enabled + label:hover {\n",
       "  color: var(--xr-font-color0);\n",
       "}\n",
       "\n",
       ".xr-section-summary {\n",
       "  grid-column: 1;\n",
       "  color: var(--xr-font-color2);\n",
       "  font-weight: 500;\n",
       "}\n",
       "\n",
       ".xr-section-summary > span {\n",
       "  display: inline-block;\n",
       "  padding-left: 0.5em;\n",
       "}\n",
       "\n",
       ".xr-section-summary-in:disabled + label {\n",
       "  color: var(--xr-font-color2);\n",
       "}\n",
       "\n",
       ".xr-section-summary-in + label:before {\n",
       "  display: inline-block;\n",
       "  content: '►';\n",
       "  font-size: 11px;\n",
       "  width: 15px;\n",
       "  text-align: center;\n",
       "}\n",
       "\n",
       ".xr-section-summary-in:disabled + label:before {\n",
       "  color: var(--xr-disabled-color);\n",
       "}\n",
       "\n",
       ".xr-section-summary-in:checked + label:before {\n",
       "  content: '▼';\n",
       "}\n",
       "\n",
       ".xr-section-summary-in:checked + label > span {\n",
       "  display: none;\n",
       "}\n",
       "\n",
       ".xr-section-summary,\n",
       ".xr-section-inline-details {\n",
       "  padding-top: 4px;\n",
       "  padding-bottom: 4px;\n",
       "}\n",
       "\n",
       ".xr-section-inline-details {\n",
       "  grid-column: 2 / -1;\n",
       "}\n",
       "\n",
       ".xr-section-details {\n",
       "  display: none;\n",
       "  grid-column: 1 / -1;\n",
       "  margin-bottom: 5px;\n",
       "}\n",
       "\n",
       ".xr-section-summary-in:checked ~ .xr-section-details {\n",
       "  display: contents;\n",
       "}\n",
       "\n",
       ".xr-array-wrap {\n",
       "  grid-column: 1 / -1;\n",
       "  display: grid;\n",
       "  grid-template-columns: 20px auto;\n",
       "}\n",
       "\n",
       ".xr-array-wrap > label {\n",
       "  grid-column: 1;\n",
       "  vertical-align: top;\n",
       "}\n",
       "\n",
       ".xr-preview {\n",
       "  color: var(--xr-font-color3);\n",
       "}\n",
       "\n",
       ".xr-array-preview,\n",
       ".xr-array-data {\n",
       "  padding: 0 5px !important;\n",
       "  grid-column: 2;\n",
       "}\n",
       "\n",
       ".xr-array-data,\n",
       ".xr-array-in:checked ~ .xr-array-preview {\n",
       "  display: none;\n",
       "}\n",
       "\n",
       ".xr-array-in:checked ~ .xr-array-data,\n",
       ".xr-array-preview {\n",
       "  display: inline-block;\n",
       "}\n",
       "\n",
       ".xr-dim-list {\n",
       "  display: inline-block !important;\n",
       "  list-style: none;\n",
       "  padding: 0 !important;\n",
       "  margin: 0;\n",
       "}\n",
       "\n",
       ".xr-dim-list li {\n",
       "  display: inline-block;\n",
       "  padding: 0;\n",
       "  margin: 0;\n",
       "}\n",
       "\n",
       ".xr-dim-list:before {\n",
       "  content: '(';\n",
       "}\n",
       "\n",
       ".xr-dim-list:after {\n",
       "  content: ')';\n",
       "}\n",
       "\n",
       ".xr-dim-list li:not(:last-child):after {\n",
       "  content: ',';\n",
       "  padding-right: 5px;\n",
       "}\n",
       "\n",
       ".xr-has-index {\n",
       "  font-weight: bold;\n",
       "}\n",
       "\n",
       ".xr-var-list,\n",
       ".xr-var-item {\n",
       "  display: contents;\n",
       "}\n",
       "\n",
       ".xr-var-item > div,\n",
       ".xr-var-item label,\n",
       ".xr-var-item > .xr-var-name span {\n",
       "  background-color: var(--xr-background-color-row-even);\n",
       "  margin-bottom: 0;\n",
       "}\n",
       "\n",
       ".xr-var-item > .xr-var-name:hover span {\n",
       "  padding-right: 5px;\n",
       "}\n",
       "\n",
       ".xr-var-list > li:nth-child(odd) > div,\n",
       ".xr-var-list > li:nth-child(odd) > label,\n",
       ".xr-var-list > li:nth-child(odd) > .xr-var-name span {\n",
       "  background-color: var(--xr-background-color-row-odd);\n",
       "}\n",
       "\n",
       ".xr-var-name {\n",
       "  grid-column: 1;\n",
       "}\n",
       "\n",
       ".xr-var-dims {\n",
       "  grid-column: 2;\n",
       "}\n",
       "\n",
       ".xr-var-dtype {\n",
       "  grid-column: 3;\n",
       "  text-align: right;\n",
       "  color: var(--xr-font-color2);\n",
       "}\n",
       "\n",
       ".xr-var-preview {\n",
       "  grid-column: 4;\n",
       "}\n",
       "\n",
       ".xr-var-name,\n",
       ".xr-var-dims,\n",
       ".xr-var-dtype,\n",
       ".xr-preview,\n",
       ".xr-attrs dt {\n",
       "  white-space: nowrap;\n",
       "  overflow: hidden;\n",
       "  text-overflow: ellipsis;\n",
       "  padding-right: 10px;\n",
       "}\n",
       "\n",
       ".xr-var-name:hover,\n",
       ".xr-var-dims:hover,\n",
       ".xr-var-dtype:hover,\n",
       ".xr-attrs dt:hover {\n",
       "  overflow: visible;\n",
       "  width: auto;\n",
       "  z-index: 1;\n",
       "}\n",
       "\n",
       ".xr-var-attrs,\n",
       ".xr-var-data {\n",
       "  display: none;\n",
       "  background-color: var(--xr-background-color) !important;\n",
       "  padding-bottom: 5px !important;\n",
       "}\n",
       "\n",
       ".xr-var-attrs-in:checked ~ .xr-var-attrs,\n",
       ".xr-var-data-in:checked ~ .xr-var-data {\n",
       "  display: block;\n",
       "}\n",
       "\n",
       ".xr-var-data > table {\n",
       "  float: right;\n",
       "}\n",
       "\n",
       ".xr-var-name span,\n",
       ".xr-var-data,\n",
       ".xr-attrs {\n",
       "  padding-left: 25px !important;\n",
       "}\n",
       "\n",
       ".xr-attrs,\n",
       ".xr-var-attrs,\n",
       ".xr-var-data {\n",
       "  grid-column: 1 / -1;\n",
       "}\n",
       "\n",
       "dl.xr-attrs {\n",
       "  padding: 0;\n",
       "  margin: 0;\n",
       "  display: grid;\n",
       "  grid-template-columns: 125px auto;\n",
       "}\n",
       "\n",
       ".xr-attrs dt,\n",
       ".xr-attrs dd {\n",
       "  padding: 0;\n",
       "  margin: 0;\n",
       "  float: left;\n",
       "  padding-right: 10px;\n",
       "  width: auto;\n",
       "}\n",
       "\n",
       ".xr-attrs dt {\n",
       "  font-weight: normal;\n",
       "  grid-column: 1;\n",
       "}\n",
       "\n",
       ".xr-attrs dt:hover span {\n",
       "  display: inline-block;\n",
       "  background: var(--xr-background-color);\n",
       "  padding-right: 10px;\n",
       "}\n",
       "\n",
       ".xr-attrs dd {\n",
       "  grid-column: 2;\n",
       "  white-space: pre-wrap;\n",
       "  word-break: break-all;\n",
       "}\n",
       "\n",
       ".xr-icon-database,\n",
       ".xr-icon-file-text2 {\n",
       "  display: inline-block;\n",
       "  vertical-align: middle;\n",
       "  width: 1em;\n",
       "  height: 1.5em !important;\n",
       "  stroke-width: 0;\n",
       "  stroke: currentColor;\n",
       "  fill: currentColor;\n",
       "}\n",
       "</style><pre class='xr-text-repr-fallback'>&lt;xarray.Dataset&gt;\n",
       "Dimensions:      (time: 70686)\n",
       "Coordinates:\n",
       "  * time         (time) datetime64[ns] 2016-02-24T02:34:22 ... 2016-02-24T23:...\n",
       "Data variables: (12/24)\n",
       "    voltage      (time) float64 0.0 0.0 0.0 0.0 0.0 ... 12.04 12.04 12.04 12.04\n",
       "    winddirrel   (time) float64 nan nan nan nan nan ... 271.0 243.0 252.0 271.0\n",
       "    windspd      (time) float64 nan nan nan nan nan ... 1.07 1.33 1.27 1.97 2.03\n",
       "    winddiag     (time) float64 nan nan nan nan nan nan ... 0.0 0.0 0.0 0.0 0.0\n",
       "    fasttemp     (time) float64 4.419 4.418 4.417 4.417 ... 0.349 0.352 0.354\n",
       "    slowtemp     (time) float64 -80.0 -80.0 -80.0 -80.0 ... 0.236 0.16 0.259\n",
       "    ...           ...\n",
       "    winddirabs   (time) float64 nan nan nan nan nan ... 182.1 154.1 163.1 182.0\n",
       "    dewpoint     (time) float64 nan nan nan nan ... -0.2838 -0.3737 -0.2609\n",
       "    RH_derived   (time) float64 -0.003 -0.003 -0.003 ... 95.52 94.87 95.64\n",
       "    pt           (time) float64 nan nan nan nan nan ... 275.6 275.6 275.6 275.6\n",
       "    qv           (time) float64 nan nan nan nan ... 0.003866 0.00384 0.003872\n",
       "    rho          (time) float64 nan nan nan nan nan ... 1.237 1.237 1.237 1.237\n",
       "Attributes:\n",
       "    probe_name:       PIPS1A\n",
       "    parsivel_angle:   -45.0\n",
       "    deployment_name:  Test_022416\n",
       "    location:         (40.44216684377569, -86.96749999999999, 211.71466179262...\n",
       "    starting_time:    20160224023520\n",
       "    ending_time:      20160224234610</pre><div class='xr-wrap' hidden><div class='xr-header'><div class='xr-obj-type'>xarray.Dataset</div></div><ul class='xr-sections'><li class='xr-section-item'><input id='section-f909bf11-533e-448d-9aaf-c9c49cfb219e' class='xr-section-summary-in' type='checkbox' disabled ><label for='section-f909bf11-533e-448d-9aaf-c9c49cfb219e' class='xr-section-summary'  title='Expand/collapse section'>Dimensions:</label><div class='xr-section-inline-details'><ul class='xr-dim-list'><li><span class='xr-has-index'>time</span>: 70686</li></ul></div><div class='xr-section-details'></div></li><li class='xr-section-item'><input id='section-59b9d7ab-c196-4903-b0e6-11afb0540f88' class='xr-section-summary-in' type='checkbox'  checked><label for='section-59b9d7ab-c196-4903-b0e6-11afb0540f88' class='xr-section-summary' >Coordinates: <span>(1)</span></label><div class='xr-section-inline-details'></div><div class='xr-section-details'><ul class='xr-var-list'><li class='xr-var-item'><div class='xr-var-name'><span class='xr-has-index'>time</span></div><div class='xr-var-dims'>(time)</div><div class='xr-var-dtype'>datetime64[ns]</div><div class='xr-var-preview xr-preview'>2016-02-24T02:34:22 ... 2016-02-...</div><input id='attrs-8fc9e172-e01b-4ba0-b9d7-5dfb883f921e' class='xr-var-attrs-in' type='checkbox' disabled><label for='attrs-8fc9e172-e01b-4ba0-b9d7-5dfb883f921e' title='Show/Hide attributes'><svg class='icon xr-icon-file-text2'><use xlink:href='#icon-file-text2'></use></svg></label><input id='data-323c7a48-1621-4ec6-91d3-3830457ea22c' class='xr-var-data-in' type='checkbox'><label for='data-323c7a48-1621-4ec6-91d3-3830457ea22c' title='Show/Hide data repr'><svg class='icon xr-icon-database'><use xlink:href='#icon-database'></use></svg></label><div class='xr-var-attrs'><dl class='xr-attrs'></dl></div><div class='xr-var-data'><pre>array([&#x27;2016-02-24T02:34:22.000000000&#x27;, &#x27;2016-02-24T02:34:23.000000000&#x27;,\n",
       "       &#x27;2016-02-24T02:34:24.000000000&#x27;, ..., &#x27;2016-02-24T23:46:13.000000000&#x27;,\n",
       "       &#x27;2016-02-24T23:46:14.000000000&#x27;, &#x27;2016-02-24T23:46:15.000000000&#x27;],\n",
       "      dtype=&#x27;datetime64[ns]&#x27;)</pre></div></li></ul></div></li><li class='xr-section-item'><input id='section-5d4dbf35-3f68-4168-8a3c-8a39b91c4894' class='xr-section-summary-in' type='checkbox'  ><label for='section-5d4dbf35-3f68-4168-8a3c-8a39b91c4894' class='xr-section-summary' >Data variables: <span>(24)</span></label><div class='xr-section-inline-details'></div><div class='xr-section-details'><ul class='xr-var-list'><li class='xr-var-item'><div class='xr-var-name'><span>voltage</span></div><div class='xr-var-dims'>(time)</div><div class='xr-var-dtype'>float64</div><div class='xr-var-preview xr-preview'>0.0 0.0 0.0 ... 12.04 12.04 12.04</div><input id='attrs-cb8baed9-54b4-4dc5-baab-1de1fdb547aa' class='xr-var-attrs-in' type='checkbox' ><label for='attrs-cb8baed9-54b4-4dc5-baab-1de1fdb547aa' title='Show/Hide attributes'><svg class='icon xr-icon-file-text2'><use xlink:href='#icon-file-text2'></use></svg></label><input id='data-a104c47f-f364-4979-b854-afdb69677566' class='xr-var-data-in' type='checkbox'><label for='data-a104c47f-f364-4979-b854-afdb69677566' title='Show/Hide data repr'><svg class='icon xr-icon-database'><use xlink:href='#icon-database'></use></svg></label><div class='xr-var-attrs'><dl class='xr-attrs'><dt><span>units :</span></dt><dd>volts</dd></dl></div><div class='xr-var-data'><pre>array([ 0.  ,  0.  ,  0.  , ..., 12.04, 12.04, 12.04])</pre></div></li><li class='xr-var-item'><div class='xr-var-name'><span>winddirrel</span></div><div class='xr-var-dims'>(time)</div><div class='xr-var-dtype'>float64</div><div class='xr-var-preview xr-preview'>nan nan nan ... 243.0 252.0 271.0</div><input id='attrs-2deb7205-330e-4209-9502-a7198430a605' class='xr-var-attrs-in' type='checkbox' ><label for='attrs-2deb7205-330e-4209-9502-a7198430a605' title='Show/Hide attributes'><svg class='icon xr-icon-file-text2'><use xlink:href='#icon-file-text2'></use></svg></label><input id='data-e781700f-f7e8-4137-b0ec-4571095bd1b0' class='xr-var-data-in' type='checkbox'><label for='data-e781700f-f7e8-4137-b0ec-4571095bd1b0' title='Show/Hide data repr'><svg class='icon xr-icon-database'><use xlink:href='#icon-database'></use></svg></label><div class='xr-var-attrs'><dl class='xr-attrs'><dt><span>units :</span></dt><dd>degrees</dd></dl></div><div class='xr-var-data'><pre>array([ nan,  nan,  nan, ..., 243., 252., 271.])</pre></div></li><li class='xr-var-item'><div class='xr-var-name'><span>windspd</span></div><div class='xr-var-dims'>(time)</div><div class='xr-var-dtype'>float64</div><div class='xr-var-preview xr-preview'>nan nan nan nan ... 1.27 1.97 2.03</div><input id='attrs-24346b82-f3ee-4c4a-8a57-031c0fada0ef' class='xr-var-attrs-in' type='checkbox' ><label for='attrs-24346b82-f3ee-4c4a-8a57-031c0fada0ef' title='Show/Hide attributes'><svg class='icon xr-icon-file-text2'><use xlink:href='#icon-file-text2'></use></svg></label><input id='data-9e8fd20d-388e-4740-8e4b-2cb8699774cc' class='xr-var-data-in' type='checkbox'><label for='data-9e8fd20d-388e-4740-8e4b-2cb8699774cc' title='Show/Hide data repr'><svg class='icon xr-icon-database'><use xlink:href='#icon-database'></use></svg></label><div class='xr-var-attrs'><dl class='xr-attrs'><dt><span>units :</span></dt><dd>meters per second</dd></dl></div><div class='xr-var-data'><pre>array([ nan,  nan,  nan, ..., 1.27, 1.97, 2.03])</pre></div></li><li class='xr-var-item'><div class='xr-var-name'><span>winddiag</span></div><div class='xr-var-dims'>(time)</div><div class='xr-var-dtype'>float64</div><div class='xr-var-preview xr-preview'>nan nan nan nan ... 0.0 0.0 0.0 0.0</div><input id='attrs-a509ac90-97b8-4bfd-9f80-7cfb6e0b5b2a' class='xr-var-attrs-in' type='checkbox' disabled><label for='attrs-a509ac90-97b8-4bfd-9f80-7cfb6e0b5b2a' title='Show/Hide attributes'><svg class='icon xr-icon-file-text2'><use xlink:href='#icon-file-text2'></use></svg></label><input id='data-163afb6c-fa25-4be9-9c4a-87c443b0617c' class='xr-var-data-in' type='checkbox'><label for='data-163afb6c-fa25-4be9-9c4a-87c443b0617c' title='Show/Hide data repr'><svg class='icon xr-icon-database'><use xlink:href='#icon-database'></use></svg></label><div class='xr-var-attrs'><dl class='xr-attrs'></dl></div><div class='xr-var-data'><pre>array([nan, nan, nan, ...,  0.,  0.,  0.])</pre></div></li><li class='xr-var-item'><div class='xr-var-name'><span>fasttemp</span></div><div class='xr-var-dims'>(time)</div><div class='xr-var-dtype'>float64</div><div class='xr-var-preview xr-preview'>4.419 4.418 4.417 ... 0.352 0.354</div><input id='attrs-5a3f9d57-09dc-4184-be45-2300f6999d01' class='xr-var-attrs-in' type='checkbox' ><label for='attrs-5a3f9d57-09dc-4184-be45-2300f6999d01' title='Show/Hide attributes'><svg class='icon xr-icon-file-text2'><use xlink:href='#icon-file-text2'></use></svg></label><input id='data-10e88bd6-79dc-443a-9b0e-f0fda6b6f858' class='xr-var-data-in' type='checkbox'><label for='data-10e88bd6-79dc-443a-9b0e-f0fda6b6f858' title='Show/Hide data repr'><svg class='icon xr-icon-database'><use xlink:href='#icon-database'></use></svg></label><div class='xr-var-attrs'><dl class='xr-attrs'><dt><span>units :</span></dt><dd>degrees Celsius</dd></dl></div><div class='xr-var-data'><pre>array([4.419, 4.418, 4.417, ..., 0.349, 0.352, 0.354])</pre></div></li><li class='xr-var-item'><div class='xr-var-name'><span>slowtemp</span></div><div class='xr-var-dims'>(time)</div><div class='xr-var-dtype'>float64</div><div class='xr-var-preview xr-preview'>-80.0 -80.0 -80.0 ... 0.16 0.259</div><input id='attrs-02194fc4-592d-4b84-b7a3-2081d52a6632' class='xr-var-attrs-in' type='checkbox' ><label for='attrs-02194fc4-592d-4b84-b7a3-2081d52a6632' title='Show/Hide attributes'><svg class='icon xr-icon-file-text2'><use xlink:href='#icon-file-text2'></use></svg></label><input id='data-aec15719-a735-42db-81fc-7902bd3c322e' class='xr-var-data-in' type='checkbox'><label for='data-aec15719-a735-42db-81fc-7902bd3c322e' title='Show/Hide data repr'><svg class='icon xr-icon-database'><use xlink:href='#icon-database'></use></svg></label><div class='xr-var-attrs'><dl class='xr-attrs'><dt><span>units :</span></dt><dd>degrees Celsius</dd></dl></div><div class='xr-var-data'><pre>array([-80.   , -80.   , -80.   , ...,   0.236,   0.16 ,   0.259])</pre></div></li><li class='xr-var-item'><div class='xr-var-name'><span>RH</span></div><div class='xr-var-dims'>(time)</div><div class='xr-var-dtype'>float64</div><div class='xr-var-preview xr-preview'>-0.003 -0.003 -0.003 ... 96.2 96.3</div><input id='attrs-59212075-5c80-4c5e-9149-8853ba0f0892' class='xr-var-attrs-in' type='checkbox' ><label for='attrs-59212075-5c80-4c5e-9149-8853ba0f0892' title='Show/Hide attributes'><svg class='icon xr-icon-file-text2'><use xlink:href='#icon-file-text2'></use></svg></label><input id='data-ccd6bdf2-0c98-458b-a777-fb2fb3fa6a53' class='xr-var-data-in' type='checkbox'><label for='data-ccd6bdf2-0c98-458b-a777-fb2fb3fa6a53' title='Show/Hide data repr'><svg class='icon xr-icon-database'><use xlink:href='#icon-database'></use></svg></label><div class='xr-var-attrs'><dl class='xr-attrs'><dt><span>units :</span></dt><dd>percent</dd></dl></div><div class='xr-var-data'><pre>array([-3.00e-03, -3.00e-03, -3.00e-03, ...,  9.63e+01,  9.62e+01,\n",
       "        9.63e+01])</pre></div></li><li class='xr-var-item'><div class='xr-var-name'><span>pressure</span></div><div class='xr-var-dims'>(time)</div><div class='xr-var-dtype'>float64</div><div class='xr-var-preview xr-preview'>nan nan nan ... 973.2 973.2 973.2</div><input id='attrs-1321fbf5-f102-4d2a-80dc-fb0b9f36d49c' class='xr-var-attrs-in' type='checkbox' ><label for='attrs-1321fbf5-f102-4d2a-80dc-fb0b9f36d49c' title='Show/Hide attributes'><svg class='icon xr-icon-file-text2'><use xlink:href='#icon-file-text2'></use></svg></label><input id='data-fcfcf259-5012-482f-bc2c-6992ab277e1d' class='xr-var-data-in' type='checkbox'><label for='data-fcfcf259-5012-482f-bc2c-6992ab277e1d' title='Show/Hide data repr'><svg class='icon xr-icon-database'><use xlink:href='#icon-database'></use></svg></label><div class='xr-var-attrs'><dl class='xr-attrs'><dt><span>units :</span></dt><dd>hectoPascals</dd></dl></div><div class='xr-var-data'><pre>array([   nan,    nan,    nan, ..., 973.21, 973.21, 973.22])</pre></div></li><li class='xr-var-item'><div class='xr-var-name'><span>compass_dir</span></div><div class='xr-var-dims'>(time)</div><div class='xr-var-dtype'>float64</div><div class='xr-var-preview xr-preview'>nan nan nan ... 271.1 271.1 271.0</div><input id='attrs-46351495-2aa2-4562-8636-dae885eec6b1' class='xr-var-attrs-in' type='checkbox' ><label for='attrs-46351495-2aa2-4562-8636-dae885eec6b1' title='Show/Hide attributes'><svg class='icon xr-icon-file-text2'><use xlink:href='#icon-file-text2'></use></svg></label><input id='data-47e74e1a-b5d6-47ef-8b52-a32f8784ffca' class='xr-var-data-in' type='checkbox'><label for='data-47e74e1a-b5d6-47ef-8b52-a32f8784ffca' title='Show/Hide data repr'><svg class='icon xr-icon-database'><use xlink:href='#icon-database'></use></svg></label><div class='xr-var-attrs'><dl class='xr-attrs'><dt><span>units :</span></dt><dd>degrees</dd></dl></div><div class='xr-var-data'><pre>array([  nan,   nan,   nan, ..., 271.1, 271.1, 271. ])</pre></div></li><li class='xr-var-item'><div class='xr-var-name'><span>GPS_time</span></div><div class='xr-var-dims'>(time)</div><div class='xr-var-dtype'>object</div><div class='xr-var-preview xr-preview'>&#x27;&#x27; &#x27;&#x27; &#x27;&#x27; ... &#x27;234615&#x27; &#x27;234616&#x27;</div><input id='attrs-3bfe5835-683a-4e0d-ad26-2b42f2805537' class='xr-var-attrs-in' type='checkbox' ><label for='attrs-3bfe5835-683a-4e0d-ad26-2b42f2805537' title='Show/Hide attributes'><svg class='icon xr-icon-file-text2'><use xlink:href='#icon-file-text2'></use></svg></label><input id='data-b654fbb9-7447-4019-8800-008f85bbbf45' class='xr-var-data-in' type='checkbox'><label for='data-b654fbb9-7447-4019-8800-008f85bbbf45' title='Show/Hide data repr'><svg class='icon xr-icon-database'><use xlink:href='#icon-database'></use></svg></label><div class='xr-var-attrs'><dl class='xr-attrs'><dt><span>units :</span></dt><dd>HHMMSS</dd></dl></div><div class='xr-var-data'><pre>array([&#x27;&#x27;, &#x27;&#x27;, &#x27;&#x27;, ..., &#x27;234614&#x27;, &#x27;234615&#x27;, &#x27;234616&#x27;], dtype=object)</pre></div></li><li class='xr-var-item'><div class='xr-var-name'><span>GPS_status</span></div><div class='xr-var-dims'>(time)</div><div class='xr-var-dtype'>object</div><div class='xr-var-preview xr-preview'>&#x27;&#x27; &#x27;&#x27; &#x27;&#x27; &#x27;&#x27; &#x27;&#x27; ... &#x27;A&#x27; &#x27;A&#x27; &#x27;A&#x27; &#x27;A&#x27;</div><input id='attrs-fc89b664-03a3-458e-9627-22d5f380e269' class='xr-var-attrs-in' type='checkbox' disabled><label for='attrs-fc89b664-03a3-458e-9627-22d5f380e269' title='Show/Hide attributes'><svg class='icon xr-icon-file-text2'><use xlink:href='#icon-file-text2'></use></svg></label><input id='data-f5206831-0c0a-4df7-9dd3-c948e0b495dc' class='xr-var-data-in' type='checkbox'><label for='data-f5206831-0c0a-4df7-9dd3-c948e0b495dc' title='Show/Hide data repr'><svg class='icon xr-icon-database'><use xlink:href='#icon-database'></use></svg></label><div class='xr-var-attrs'><dl class='xr-attrs'></dl></div><div class='xr-var-data'><pre>array([&#x27;&#x27;, &#x27;&#x27;, &#x27;&#x27;, ..., &#x27;A&#x27;, &#x27;A&#x27;, &#x27;A&#x27;], dtype=object)</pre></div></li><li class='xr-var-item'><div class='xr-var-name'><span>GPS_lat</span></div><div class='xr-var-dims'>(time)</div><div class='xr-var-dtype'>float64</div><div class='xr-var-preview xr-preview'>nan nan nan ... 40.44 40.44 40.44</div><input id='attrs-bb1c332c-decf-40c4-85fb-278733712c7b' class='xr-var-attrs-in' type='checkbox' ><label for='attrs-bb1c332c-decf-40c4-85fb-278733712c7b' title='Show/Hide attributes'><svg class='icon xr-icon-file-text2'><use xlink:href='#icon-file-text2'></use></svg></label><input id='data-4fd66025-3bce-4b28-8393-75ff24dd2f93' class='xr-var-data-in' type='checkbox'><label for='data-4fd66025-3bce-4b28-8393-75ff24dd2f93' title='Show/Hide data repr'><svg class='icon xr-icon-database'><use xlink:href='#icon-database'></use></svg></label><div class='xr-var-attrs'><dl class='xr-attrs'><dt><span>units :</span></dt><dd>degrees N</dd></dl></div><div class='xr-var-data'><pre>array([        nan,         nan,         nan, ..., 40.44216667,\n",
       "       40.44216667, 40.44216667])</pre></div></li><li class='xr-var-item'><div class='xr-var-name'><span>GPS_lon</span></div><div class='xr-var-dims'>(time)</div><div class='xr-var-dtype'>float64</div><div class='xr-var-preview xr-preview'>nan nan nan ... -86.97 -86.97</div><input id='attrs-eab8c03d-36ad-466c-a61e-388dc0403e47' class='xr-var-attrs-in' type='checkbox' ><label for='attrs-eab8c03d-36ad-466c-a61e-388dc0403e47' title='Show/Hide attributes'><svg class='icon xr-icon-file-text2'><use xlink:href='#icon-file-text2'></use></svg></label><input id='data-3f813b97-1636-48f6-9738-b76aeee4cd41' class='xr-var-data-in' type='checkbox'><label for='data-3f813b97-1636-48f6-9738-b76aeee4cd41' title='Show/Hide data repr'><svg class='icon xr-icon-database'><use xlink:href='#icon-database'></use></svg></label><div class='xr-var-attrs'><dl class='xr-attrs'><dt><span>units :</span></dt><dd>degrees E</dd><dt><span>description :</span></dt><dd>west is negative</dd></dl></div><div class='xr-var-data'><pre>array([     nan,      nan,      nan, ..., -86.9675, -86.9675, -86.9675])</pre></div></li><li class='xr-var-item'><div class='xr-var-name'><span>GPS_spd</span></div><div class='xr-var-dims'>(time)</div><div class='xr-var-dtype'>float64</div><div class='xr-var-preview xr-preview'>nan nan nan nan ... 0.0 0.2 0.0 0.0</div><input id='attrs-7c6f975c-6990-4c10-b50f-5d9c3ac1d38d' class='xr-var-attrs-in' type='checkbox' ><label for='attrs-7c6f975c-6990-4c10-b50f-5d9c3ac1d38d' title='Show/Hide attributes'><svg class='icon xr-icon-file-text2'><use xlink:href='#icon-file-text2'></use></svg></label><input id='data-fee6e107-c9c2-48c2-b1e2-92fafcd5ee8e' class='xr-var-data-in' type='checkbox'><label for='data-fee6e107-c9c2-48c2-b1e2-92fafcd5ee8e' title='Show/Hide data repr'><svg class='icon xr-icon-database'><use xlink:href='#icon-database'></use></svg></label><div class='xr-var-attrs'><dl class='xr-attrs'><dt><span>units :</span></dt><dd>meters per second</dd></dl></div><div class='xr-var-data'><pre>array([nan, nan, nan, ..., 0.2, 0. , 0. ])</pre></div></li><li class='xr-var-item'><div class='xr-var-name'><span>GPS_dir</span></div><div class='xr-var-dims'>(time)</div><div class='xr-var-dtype'>float64</div><div class='xr-var-preview xr-preview'>nan nan nan ... 206.5 206.5 206.5</div><input id='attrs-b91644e3-af9b-407f-acc3-246d822074e8' class='xr-var-attrs-in' type='checkbox' ><label for='attrs-b91644e3-af9b-407f-acc3-246d822074e8' title='Show/Hide attributes'><svg class='icon xr-icon-file-text2'><use xlink:href='#icon-file-text2'></use></svg></label><input id='data-b87f9cc2-cb60-49ae-bf54-ad4e76c9cb3f' class='xr-var-data-in' type='checkbox'><label for='data-b87f9cc2-cb60-49ae-bf54-ad4e76c9cb3f' title='Show/Hide data repr'><svg class='icon xr-icon-database'><use xlink:href='#icon-database'></use></svg></label><div class='xr-var-attrs'><dl class='xr-attrs'><dt><span>units :</span></dt><dd>degrees</dd></dl></div><div class='xr-var-data'><pre>array([  nan,   nan,   nan, ..., 206.5, 206.5, 206.5])</pre></div></li><li class='xr-var-item'><div class='xr-var-name'><span>GPS_date</span></div><div class='xr-var-dims'>(time)</div><div class='xr-var-dtype'>object</div><div class='xr-var-preview xr-preview'>&#x27;&#x27; &#x27;&#x27; &#x27;&#x27; ... &#x27;240216&#x27; &#x27;240216&#x27;</div><input id='attrs-c57f7261-f4ee-4b06-aa00-3aa117d203b4' class='xr-var-attrs-in' type='checkbox' ><label for='attrs-c57f7261-f4ee-4b06-aa00-3aa117d203b4' title='Show/Hide attributes'><svg class='icon xr-icon-file-text2'><use xlink:href='#icon-file-text2'></use></svg></label><input id='data-60d739d5-ddbf-4a4a-a8b1-77844e27c48c' class='xr-var-data-in' type='checkbox'><label for='data-60d739d5-ddbf-4a4a-a8b1-77844e27c48c' title='Show/Hide data repr'><svg class='icon xr-icon-database'><use xlink:href='#icon-database'></use></svg></label><div class='xr-var-attrs'><dl class='xr-attrs'><dt><span>units :</span></dt><dd>DDMMYY</dd></dl></div><div class='xr-var-data'><pre>array([&#x27;&#x27;, &#x27;&#x27;, &#x27;&#x27;, ..., &#x27;240216&#x27;, &#x27;240216&#x27;, &#x27;240216&#x27;], dtype=object)</pre></div></li><li class='xr-var-item'><div class='xr-var-name'><span>GPS_magvar</span></div><div class='xr-var-dims'>(time)</div><div class='xr-var-dtype'>float64</div><div class='xr-var-preview xr-preview'>nan nan nan nan ... 4.0 4.0 4.0 4.0</div><input id='attrs-d5686a89-9403-4527-a3a7-b45c136b3505' class='xr-var-attrs-in' type='checkbox' disabled><label for='attrs-d5686a89-9403-4527-a3a7-b45c136b3505' title='Show/Hide attributes'><svg class='icon xr-icon-file-text2'><use xlink:href='#icon-file-text2'></use></svg></label><input id='data-0c1fdf04-270a-4606-8a59-f4df448563fd' class='xr-var-data-in' type='checkbox'><label for='data-0c1fdf04-270a-4606-8a59-f4df448563fd' title='Show/Hide data repr'><svg class='icon xr-icon-database'><use xlink:href='#icon-database'></use></svg></label><div class='xr-var-attrs'><dl class='xr-attrs'></dl></div><div class='xr-var-data'><pre>array([nan, nan, nan, ...,  4.,  4.,  4.])</pre></div></li><li class='xr-var-item'><div class='xr-var-name'><span>GPS_alt</span></div><div class='xr-var-dims'>(time)</div><div class='xr-var-dtype'>float64</div><div class='xr-var-preview xr-preview'>nan nan nan ... 215.4 215.4 215.3</div><input id='attrs-11e50337-08cc-4338-a8e0-7a136569a6c1' class='xr-var-attrs-in' type='checkbox' ><label for='attrs-11e50337-08cc-4338-a8e0-7a136569a6c1' title='Show/Hide attributes'><svg class='icon xr-icon-file-text2'><use xlink:href='#icon-file-text2'></use></svg></label><input id='data-1af5478c-3b9b-456a-adef-f4a33aa9b3c2' class='xr-var-data-in' type='checkbox'><label for='data-1af5478c-3b9b-456a-adef-f4a33aa9b3c2' title='Show/Hide data repr'><svg class='icon xr-icon-database'><use xlink:href='#icon-database'></use></svg></label><div class='xr-var-attrs'><dl class='xr-attrs'><dt><span>units :</span></dt><dd>meters</dd></dl></div><div class='xr-var-data'><pre>array([  nan,   nan,   nan, ..., 215.4, 215.4, 215.3])</pre></div></li><li class='xr-var-item'><div class='xr-var-name'><span>winddirabs</span></div><div class='xr-var-dims'>(time)</div><div class='xr-var-dtype'>float64</div><div class='xr-var-preview xr-preview'>nan nan nan ... 154.1 163.1 182.0</div><input id='attrs-82dec353-03db-458b-b773-e572f1b296cf' class='xr-var-attrs-in' type='checkbox' ><label for='attrs-82dec353-03db-458b-b773-e572f1b296cf' title='Show/Hide attributes'><svg class='icon xr-icon-file-text2'><use xlink:href='#icon-file-text2'></use></svg></label><input id='data-6028ea3f-a9bb-4eb4-ab56-b0afedc8fc90' class='xr-var-data-in' type='checkbox'><label for='data-6028ea3f-a9bb-4eb4-ab56-b0afedc8fc90' title='Show/Hide data repr'><svg class='icon xr-icon-database'><use xlink:href='#icon-database'></use></svg></label><div class='xr-var-attrs'><dl class='xr-attrs'><dt><span>units :</span></dt><dd>degrees</dd></dl></div><div class='xr-var-data'><pre>array([  nan,   nan,   nan, ..., 154.1, 163.1, 182. ])</pre></div></li><li class='xr-var-item'><div class='xr-var-name'><span>dewpoint</span></div><div class='xr-var-dims'>(time)</div><div class='xr-var-dtype'>float64</div><div class='xr-var-preview xr-preview'>nan nan nan ... -0.3737 -0.2609</div><input id='attrs-e53dcff9-562e-4118-a781-bdbfe922ee15' class='xr-var-attrs-in' type='checkbox' ><label for='attrs-e53dcff9-562e-4118-a781-bdbfe922ee15' title='Show/Hide attributes'><svg class='icon xr-icon-file-text2'><use xlink:href='#icon-file-text2'></use></svg></label><input id='data-ff1771c2-34e1-4fc0-bbc0-1a81b4abd206' class='xr-var-data-in' type='checkbox'><label for='data-ff1771c2-34e1-4fc0-bbc0-1a81b4abd206' title='Show/Hide data repr'><svg class='icon xr-icon-database'><use xlink:href='#icon-database'></use></svg></label><div class='xr-var-attrs'><dl class='xr-attrs'><dt><span>units :</span></dt><dd>degrees Celsius</dd></dl></div><div class='xr-var-data'><pre>array([    nan,     nan,     nan, ..., -0.2838, -0.3737, -0.2609])</pre></div></li><li class='xr-var-item'><div class='xr-var-name'><span>RH_derived</span></div><div class='xr-var-dims'>(time)</div><div class='xr-var-dtype'>float64</div><div class='xr-var-preview xr-preview'>-0.003 -0.003 ... 94.87 95.64</div><input id='attrs-f846c2a2-ca4d-4044-8134-2fd6703d68f5' class='xr-var-attrs-in' type='checkbox' ><label for='attrs-f846c2a2-ca4d-4044-8134-2fd6703d68f5' title='Show/Hide attributes'><svg class='icon xr-icon-file-text2'><use xlink:href='#icon-file-text2'></use></svg></label><input id='data-dbc7da46-5f65-4a16-a1e7-5b9a458862a1' class='xr-var-data-in' type='checkbox'><label for='data-dbc7da46-5f65-4a16-a1e7-5b9a458862a1' title='Show/Hide data repr'><svg class='icon xr-icon-database'><use xlink:href='#icon-database'></use></svg></label><div class='xr-var-attrs'><dl class='xr-attrs'><dt><span>units :</span></dt><dd>percent</dd></dl></div><div class='xr-var-data'><pre>array([-3.00000e-03, -3.00000e-03, -3.00000e-03, ...,  9.55160e+01,\n",
       "        9.48726e+01,  9.56405e+01])</pre></div></li><li class='xr-var-item'><div class='xr-var-name'><span>pt</span></div><div class='xr-var-dims'>(time)</div><div class='xr-var-dtype'>float64</div><div class='xr-var-preview xr-preview'>nan nan nan ... 275.6 275.6 275.6</div><input id='attrs-245f8d98-3529-4e18-b617-ec093fd511ba' class='xr-var-attrs-in' type='checkbox' disabled><label for='attrs-245f8d98-3529-4e18-b617-ec093fd511ba' title='Show/Hide attributes'><svg class='icon xr-icon-file-text2'><use xlink:href='#icon-file-text2'></use></svg></label><input id='data-92b5fd77-16f3-451b-a107-8a9ba4c42a01' class='xr-var-data-in' type='checkbox'><label for='data-92b5fd77-16f3-451b-a107-8a9ba4c42a01' title='Show/Hide data repr'><svg class='icon xr-icon-database'><use xlink:href='#icon-database'></use></svg></label><div class='xr-var-attrs'><dl class='xr-attrs'></dl></div><div class='xr-var-data'><pre>array([         nan,          nan,          nan, ..., 275.62690622,\n",
       "       275.62992956, 275.63113681])</pre></div></li><li class='xr-var-item'><div class='xr-var-name'><span>qv</span></div><div class='xr-var-dims'>(time)</div><div class='xr-var-dtype'>float64</div><div class='xr-var-preview xr-preview'>nan nan nan ... 0.00384 0.003872</div><input id='attrs-b9dfc7b3-4ccf-47fa-9105-fbe97593a34a' class='xr-var-attrs-in' type='checkbox' disabled><label for='attrs-b9dfc7b3-4ccf-47fa-9105-fbe97593a34a' title='Show/Hide attributes'><svg class='icon xr-icon-file-text2'><use xlink:href='#icon-file-text2'></use></svg></label><input id='data-87816382-8698-4e83-bfb9-333a527cd9f8' class='xr-var-data-in' type='checkbox'><label for='data-87816382-8698-4e83-bfb9-333a527cd9f8' title='Show/Hide data repr'><svg class='icon xr-icon-database'><use xlink:href='#icon-database'></use></svg></label><div class='xr-var-attrs'><dl class='xr-attrs'></dl></div><div class='xr-var-data'><pre>array([       nan,        nan,        nan, ..., 0.00386552, 0.00384016,\n",
       "       0.00387196])</pre></div></li><li class='xr-var-item'><div class='xr-var-name'><span>rho</span></div><div class='xr-var-dims'>(time)</div><div class='xr-var-dtype'>float64</div><div class='xr-var-preview xr-preview'>nan nan nan ... 1.237 1.237 1.237</div><input id='attrs-afac4693-21b5-4ea5-9b8f-4f09be3ecffc' class='xr-var-attrs-in' type='checkbox' disabled><label for='attrs-afac4693-21b5-4ea5-9b8f-4f09be3ecffc' title='Show/Hide attributes'><svg class='icon xr-icon-file-text2'><use xlink:href='#icon-file-text2'></use></svg></label><input id='data-d04dce24-697f-4f24-96b9-35fb9d3bba7e' class='xr-var-data-in' type='checkbox'><label for='data-d04dce24-697f-4f24-96b9-35fb9d3bba7e' title='Show/Hide data repr'><svg class='icon xr-icon-database'><use xlink:href='#icon-database'></use></svg></label><div class='xr-var-attrs'><dl class='xr-attrs'></dl></div><div class='xr-var-data'><pre>array([       nan,        nan,        nan, ..., 1.23694203, 1.23694749,\n",
       "       1.23692729])</pre></div></li></ul></div></li><li class='xr-section-item'><input id='section-7db5a047-1ad1-4df1-8e7f-e7c0a937bd16' class='xr-section-summary-in' type='checkbox'  checked><label for='section-7db5a047-1ad1-4df1-8e7f-e7c0a937bd16' class='xr-section-summary' >Attributes: <span>(6)</span></label><div class='xr-section-inline-details'></div><div class='xr-section-details'><dl class='xr-attrs'><dt><span>probe_name :</span></dt><dd>PIPS1A</dd><dt><span>parsivel_angle :</span></dt><dd>-45.0</dd><dt><span>deployment_name :</span></dt><dd>Test_022416</dd><dt><span>location :</span></dt><dd>(40.44216684377569, -86.96749999999999, 211.71466179262663)</dd><dt><span>starting_time :</span></dt><dd>20160224023520</dd><dt><span>ending_time :</span></dt><dd>20160224234610</dd></dl></div></li></ul></div></div>"
      ],
      "text/plain": [
       "<xarray.Dataset>\n",
       "Dimensions:      (time: 70686)\n",
       "Coordinates:\n",
       "  * time         (time) datetime64[ns] 2016-02-24T02:34:22 ... 2016-02-24T23:...\n",
       "Data variables: (12/24)\n",
       "    voltage      (time) float64 0.0 0.0 0.0 0.0 0.0 ... 12.04 12.04 12.04 12.04\n",
       "    winddirrel   (time) float64 nan nan nan nan nan ... 271.0 243.0 252.0 271.0\n",
       "    windspd      (time) float64 nan nan nan nan nan ... 1.07 1.33 1.27 1.97 2.03\n",
       "    winddiag     (time) float64 nan nan nan nan nan nan ... 0.0 0.0 0.0 0.0 0.0\n",
       "    fasttemp     (time) float64 4.419 4.418 4.417 4.417 ... 0.349 0.352 0.354\n",
       "    slowtemp     (time) float64 -80.0 -80.0 -80.0 -80.0 ... 0.236 0.16 0.259\n",
       "    ...           ...\n",
       "    winddirabs   (time) float64 nan nan nan nan nan ... 182.1 154.1 163.1 182.0\n",
       "    dewpoint     (time) float64 nan nan nan nan ... -0.2838 -0.3737 -0.2609\n",
       "    RH_derived   (time) float64 -0.003 -0.003 -0.003 ... 95.52 94.87 95.64\n",
       "    pt           (time) float64 nan nan nan nan nan ... 275.6 275.6 275.6 275.6\n",
       "    qv           (time) float64 nan nan nan nan ... 0.003866 0.00384 0.003872\n",
       "    rho          (time) float64 nan nan nan nan nan ... 1.237 1.237 1.237 1.237\n",
       "Attributes:\n",
       "    probe_name:       PIPS1A\n",
       "    parsivel_angle:   -45.0\n",
       "    deployment_name:  Test_022416\n",
       "    location:         (40.44216684377569, -86.96749999999999, 211.71466179262...\n",
       "    starting_time:    20160224023520\n",
       "    ending_time:      20160224234610"
      ]
     },
     "execution_count": 36,
     "metadata": {},
     "output_type": "execute_result"
    }
   ],
   "source": [
    "conv_ds"
   ]
  },
  {
   "cell_type": "code",
   "execution_count": 39,
   "metadata": {},
   "outputs": [
    {
     "data": {
      "text/plain": [
       "<matplotlib.collections.PathCollection at 0x7fe12a52b210>"
      ]
     },
     "execution_count": 39,
     "metadata": {},
     "output_type": "execute_result"
    },
    {
     "data": {
      "image/png": "[encoded data removed]",
      "text/plain": [
       "<Figure size 720x720 with 1 Axes>"
      ]
     },
     "metadata": {
      "needs_background": "light"
     },
     "output_type": "display_data"
    }
   ],
   "source": [
    "# Set up map\n",
    "width_x = 500. # m\n",
    "width_y = 500. # m\n",
    "\n",
    "location = eval(str(conv_ds.location))\n",
    "ctrlat = location[0]\n",
    "ctrlon = location[1]\n",
    "\n",
    "trulon = ctrlon\n",
    "trulat1 = 35.\n",
    "trulat2 = 45.\n",
    "projection = ccrs.LambertConformal(ctrlon, ctrlat, false_easting=width_x/2., false_northing=width_y/2.,\n",
    "                                   standard_parallels=[trulat1, trulat2])\n",
    "\n",
    "fig, ax = plt.subplots(figsize=(10, 10), subplot_kw={'projection': projection})\n",
    "\n",
    "# ax.stock_img()\n",
    "# Add coastlines and states\n",
    "ax.coastlines()\n",
    "land = feature.LAND\n",
    "ax.add_feature(land) # , edgecolor='face', facecolor=feature.COLORS['land'])\n",
    "states = feature.STATES\n",
    "# states = feature.NaturalEarthFeature(category=\"cultural\", scale=\"50m\",\n",
    "#                                      facecolor=\"none\",\n",
    "#                                      name=\"admin_1_states_provinces_shp\")\n",
    "ax.add_feature(states, linewidth=1., edgecolor='k', alpha=0.5)\n",
    "rivers = feature.RIVERS\n",
    "ax.add_feature(rivers, linewidth=0.75, edgecolor='b', alpha=0.5)\n",
    "ax.add_feature(feature.NaturalEarthFeature('cultural', 'roads', '10m'), facecolor='none', edgecolor='b')\n",
    "# # Add counties if desired. TODO: add back more features here after testing\n",
    "\n",
    "# # if runname == pc.runname_list[0] and time == time_list[0]:\n",
    "\n",
    "# print(\"Reading counties from shapefile\")\n",
    "county_shapefile_location = '/Users/dawson29/Projects/pyCRMtools/data/shapefiles/county/countyp020'\n",
    "counties = plotmod.read_shapefile(county_shapefile_location)\n",
    "ax.add_feature(counties, linewidth=0.5, edgecolor='grey', alpha=0.5)\n",
    "\n",
    "# Add urban areas\n",
    "# urban_shapefile_location = '/Users/dawson29/Projects/pyCRMtools/data/shapefiles/urban2/tl_2008_us_cbsa'\n",
    "# urban = plotmod.read_shapefile(urban_shapefile_location)\n",
    "# ax.add_feature(urban, linewidth=0.5, facecolor='purple', edgecolor='none', alpha=0.25)\n",
    "\n",
    "# Add more stuff from GADM database (EDIT: doesn't seem to add anything beyond counties)\n",
    "# gadm_shapefile_location = '/Users/dawson29/Projects/pyCRMtools/data/shapefiles/gadm/gadm36_USA_2'\n",
    "# gadm_shapes = plotmod.read_shapefile(gadm_shapefile_location)\n",
    "# ax.add_feature(gadm_shapes, linewidth=0.5, edgecolor='purple', alpha=0.8)\n",
    "\n",
    "ax.set_xlim(0., width_x)\n",
    "ax.set_ylim(0., width_y)\n",
    "ax.scatter([ctrlon], [ctrlat], color='black', marker='o', facecolor='none', transform=ccrs.PlateCarree())\n",
    "\n",
    "lons = conv_ds['GPS_lon']\n",
    "lats = conv_ds['GPS_lat']\n",
    "ax.scatter(lons, lats, color='black', marker='o', facecolor='none', alpha=0.75, transform=ccrs.PlateCarree())"
   ]
  },
  {
   "cell_type": "code",
   "execution_count": 83,
   "metadata": {},
   "outputs": [
    {
     "data": {
      "text/plain": [
       "[<matplotlib.lines.Line2D at 0x7fe15d2a4bd0>]"
      ]
     },
     "execution_count": 83,
     "metadata": {},
     "output_type": "execute_result"
    },
    {
     "data": {
      "image/png": "[encoded data removed]",
      "text/plain": [
       "<Figure size 432x288 with 1 Axes>"
      ]
     },
     "metadata": {
      "needs_background": "light"
     },
     "output_type": "display_data"
    }
   ],
   "source": []
  },
  {
   "cell_type": "code",
   "execution_count": 98,
   "metadata": {},
   "outputs": [
    {
     "name": "stdout",
     "output_type": "stream",
     "text": [
      "<xarray.DataArray 'time' (time: 2)>\n",
      "array(['2016-02-24T02:36:19.000000000', '2016-02-24T23:46:15.000000000'],\n",
      "      dtype='datetime64[ns]')\n",
      "Coordinates:\n",
      "  * time     (time) datetime64[ns] 2016-02-24T02:36:19 2016-02-24T23:46:15\n",
      "Deployment #1. Time range: 2016-02-24: 02:34:22 -- 2016-02-24: 02:36:19\n",
      "Deployment #2. Time range: 2016-02-24: 04:10:08 -- 2016-02-24: 23:46:15\n"
     ]
    }
   ],
   "source": []
  },
  {
   "cell_type": "code",
   "execution_count": 100,
   "metadata": {},
   "outputs": [
    {
     "data": {
      "text/html": [
       "<div><svg style=\"position: absolute; width: 0; height: 0; overflow: hidden\">\n",
       "<defs>\n",
       "<symbol id=\"icon-database\" viewBox=\"0 0 32 32\">\n",
       "<path d=\"M16 0c-8.837 0-16 2.239-16 5v4c0 2.761 7.163 5 16 5s16-2.239 16-5v-4c0-2.761-7.163-5-16-5z\"></path>\n",
       "<path d=\"M16 17c-8.837 0-16-2.239-16-5v6c0 2.761 7.163 5 16 5s16-2.239 16-5v-6c0 2.761-7.163 5-16 5z\"></path>\n",
       "<path d=\"M16 26c-8.837 0-16-2.239-16-5v6c0 2.761 7.163 5 16 5s16-2.239 16-5v-6c0 2.761-7.163 5-16 5z\"></path>\n",
       "</symbol>\n",
       "<symbol id=\"icon-file-text2\" viewBox=\"0 0 32 32\">\n",
       "<path d=\"M28.681 7.159c-0.694-0.947-1.662-2.053-2.724-3.116s-2.169-2.030-3.116-2.724c-1.612-1.182-2.393-1.319-2.841-1.319h-15.5c-1.378 0-2.5 1.121-2.5 2.5v27c0 1.378 1.122 2.5 2.5 2.5h23c1.378 0 2.5-1.122 2.5-2.5v-19.5c0-0.448-0.137-1.23-1.319-2.841zM24.543 5.457c0.959 0.959 1.712 1.825 2.268 2.543h-4.811v-4.811c0.718 0.556 1.584 1.309 2.543 2.268zM28 29.5c0 0.271-0.229 0.5-0.5 0.5h-23c-0.271 0-0.5-0.229-0.5-0.5v-27c0-0.271 0.229-0.5 0.5-0.5 0 0 15.499-0 15.5 0v7c0 0.552 0.448 1 1 1h7v19.5z\"></path>\n",
       "<path d=\"M23 26h-14c-0.552 0-1-0.448-1-1s0.448-1 1-1h14c0.552 0 1 0.448 1 1s-0.448 1-1 1z\"></path>\n",
       "<path d=\"M23 22h-14c-0.552 0-1-0.448-1-1s0.448-1 1-1h14c0.552 0 1 0.448 1 1s-0.448 1-1 1z\"></path>\n",
       "<path d=\"M23 18h-14c-0.552 0-1-0.448-1-1s0.448-1 1-1h14c0.552 0 1 0.448 1 1s-0.448 1-1 1z\"></path>\n",
       "</symbol>\n",
       "</defs>\n",
       "</svg>\n",
       "<style>/* CSS stylesheet for displaying xarray objects in jupyterlab.\n",
       " *\n",
       " */\n",
       "\n",
       ":root {\n",
       "  --xr-font-color0: var(--jp-content-font-color0, rgba(0, 0, 0, 1));\n",
       "  --xr-font-color2: var(--jp-content-font-color2, rgba(0, 0, 0, 0.54));\n",
       "  --xr-font-color3: var(--jp-content-font-color3, rgba(0, 0, 0, 0.38));\n",
       "  --xr-border-color: var(--jp-border-color2, #e0e0e0);\n",
       "  --xr-disabled-color: var(--jp-layout-color3, #bdbdbd);\n",
       "  --xr-background-color: var(--jp-layout-color0, white);\n",
       "  --xr-background-color-row-even: var(--jp-layout-color1, white);\n",
       "  --xr-background-color-row-odd: var(--jp-layout-color2, #eeeeee);\n",
       "}\n",
       "\n",
       "html[theme=dark],\n",
       "body.vscode-dark {\n",
       "  --xr-font-color0: rgba(255, 255, 255, 1);\n",
       "  --xr-font-color2: rgba(255, 255, 255, 0.54);\n",
       "  --xr-font-color3: rgba(255, 255, 255, 0.38);\n",
       "  --xr-border-color: #1F1F1F;\n",
       "  --xr-disabled-color: #515151;\n",
       "  --xr-background-color: #111111;\n",
       "  --xr-background-color-row-even: #111111;\n",
       "  --xr-background-color-row-odd: #313131;\n",
       "}\n",
       "\n",
       ".xr-wrap {\n",
       "  display: block;\n",
       "  min-width: 300px;\n",
       "  max-width: 700px;\n",
       "}\n",
       "\n",
       ".xr-text-repr-fallback {\n",
       "  /* fallback to plain text repr when CSS is not injected (untrusted notebook) */\n",
       "  display: none;\n",
       "}\n",
       "\n",
       ".xr-header {\n",
       "  padding-top: 6px;\n",
       "  padding-bottom: 6px;\n",
       "  margin-bottom: 4px;\n",
       "  border-bottom: solid 1px var(--xr-border-color);\n",
       "}\n",
       "\n",
       ".xr-header > div,\n",
       ".xr-header > ul {\n",
       "  display: inline;\n",
       "  margin-top: 0;\n",
       "  margin-bottom: 0;\n",
       "}\n",
       "\n",
       ".xr-obj-type,\n",
       ".xr-array-name {\n",
       "  margin-left: 2px;\n",
       "  margin-right: 10px;\n",
       "}\n",
       "\n",
       ".xr-obj-type {\n",
       "  color: var(--xr-font-color2);\n",
       "}\n",
       "\n",
       ".xr-sections {\n",
       "  padding-left: 0 !important;\n",
       "  display: grid;\n",
       "  grid-template-columns: 150px auto auto 1fr 20px 20px;\n",
       "}\n",
       "\n",
       ".xr-section-item {\n",
       "  display: contents;\n",
       "}\n",
       "\n",
       ".xr-section-item input {\n",
       "  display: none;\n",
       "}\n",
       "\n",
       ".xr-section-item input + label {\n",
       "  color: var(--xr-disabled-color);\n",
       "}\n",
       "\n",
       ".xr-section-item input:enabled + label {\n",
       "  cursor: pointer;\n",
       "  color: var(--xr-font-color2);\n",
       "}\n",
       "\n",
       ".xr-section-item input:enabled + label:hover {\n",
       "  color: var(--xr-font-color0);\n",
       "}\n",
       "\n",
       ".xr-section-summary {\n",
       "  grid-column: 1;\n",
       "  color: var(--xr-font-color2);\n",
       "  font-weight: 500;\n",
       "}\n",
       "\n",
       ".xr-section-summary > span {\n",
       "  display: inline-block;\n",
       "  padding-left: 0.5em;\n",
       "}\n",
       "\n",
       ".xr-section-summary-in:disabled + label {\n",
       "  color: var(--xr-font-color2);\n",
       "}\n",
       "\n",
       ".xr-section-summary-in + label:before {\n",
       "  display: inline-block;\n",
       "  content: '►';\n",
       "  font-size: 11px;\n",
       "  width: 15px;\n",
       "  text-align: center;\n",
       "}\n",
       "\n",
       ".xr-section-summary-in:disabled + label:before {\n",
       "  color: var(--xr-disabled-color);\n",
       "}\n",
       "\n",
       ".xr-section-summary-in:checked + label:before {\n",
       "  content: '▼';\n",
       "}\n",
       "\n",
       ".xr-section-summary-in:checked + label > span {\n",
       "  display: none;\n",
       "}\n",
       "\n",
       ".xr-section-summary,\n",
       ".xr-section-inline-details {\n",
       "  padding-top: 4px;\n",
       "  padding-bottom: 4px;\n",
       "}\n",
       "\n",
       ".xr-section-inline-details {\n",
       "  grid-column: 2 / -1;\n",
       "}\n",
       "\n",
       ".xr-section-details {\n",
       "  display: none;\n",
       "  grid-column: 1 / -1;\n",
       "  margin-bottom: 5px;\n",
       "}\n",
       "\n",
       ".xr-section-summary-in:checked ~ .xr-section-details {\n",
       "  display: contents;\n",
       "}\n",
       "\n",
       ".xr-array-wrap {\n",
       "  grid-column: 1 / -1;\n",
       "  display: grid;\n",
       "  grid-template-columns: 20px auto;\n",
       "}\n",
       "\n",
       ".xr-array-wrap > label {\n",
       "  grid-column: 1;\n",
       "  vertical-align: top;\n",
       "}\n",
       "\n",
       ".xr-preview {\n",
       "  color: var(--xr-font-color3);\n",
       "}\n",
       "\n",
       ".xr-array-preview,\n",
       ".xr-array-data {\n",
       "  padding: 0 5px !important;\n",
       "  grid-column: 2;\n",
       "}\n",
       "\n",
       ".xr-array-data,\n",
       ".xr-array-in:checked ~ .xr-array-preview {\n",
       "  display: none;\n",
       "}\n",
       "\n",
       ".xr-array-in:checked ~ .xr-array-data,\n",
       ".xr-array-preview {\n",
       "  display: inline-block;\n",
       "}\n",
       "\n",
       ".xr-dim-list {\n",
       "  display: inline-block !important;\n",
       "  list-style: none;\n",
       "  padding: 0 !important;\n",
       "  margin: 0;\n",
       "}\n",
       "\n",
       ".xr-dim-list li {\n",
       "  display: inline-block;\n",
       "  padding: 0;\n",
       "  margin: 0;\n",
       "}\n",
       "\n",
       ".xr-dim-list:before {\n",
       "  content: '(';\n",
       "}\n",
       "\n",
       ".xr-dim-list:after {\n",
       "  content: ')';\n",
       "}\n",
       "\n",
       ".xr-dim-list li:not(:last-child):after {\n",
       "  content: ',';\n",
       "  padding-right: 5px;\n",
       "}\n",
       "\n",
       ".xr-has-index {\n",
       "  font-weight: bold;\n",
       "}\n",
       "\n",
       ".xr-var-list,\n",
       ".xr-var-item {\n",
       "  display: contents;\n",
       "}\n",
       "\n",
       ".xr-var-item > div,\n",
       ".xr-var-item label,\n",
       ".xr-var-item > .xr-var-name span {\n",
       "  background-color: var(--xr-background-color-row-even);\n",
       "  margin-bottom: 0;\n",
       "}\n",
       "\n",
       ".xr-var-item > .xr-var-name:hover span {\n",
       "  padding-right: 5px;\n",
       "}\n",
       "\n",
       ".xr-var-list > li:nth-child(odd) > div,\n",
       ".xr-var-list > li:nth-child(odd) > label,\n",
       ".xr-var-list > li:nth-child(odd) > .xr-var-name span {\n",
       "  background-color: var(--xr-background-color-row-odd);\n",
       "}\n",
       "\n",
       ".xr-var-name {\n",
       "  grid-column: 1;\n",
       "}\n",
       "\n",
       ".xr-var-dims {\n",
       "  grid-column: 2;\n",
       "}\n",
       "\n",
       ".xr-var-dtype {\n",
       "  grid-column: 3;\n",
       "  text-align: right;\n",
       "  color: var(--xr-font-color2);\n",
       "}\n",
       "\n",
       ".xr-var-preview {\n",
       "  grid-column: 4;\n",
       "}\n",
       "\n",
       ".xr-var-name,\n",
       ".xr-var-dims,\n",
       ".xr-var-dtype,\n",
       ".xr-preview,\n",
       ".xr-attrs dt {\n",
       "  white-space: nowrap;\n",
       "  overflow: hidden;\n",
       "  text-overflow: ellipsis;\n",
       "  padding-right: 10px;\n",
       "}\n",
       "\n",
       ".xr-var-name:hover,\n",
       ".xr-var-dims:hover,\n",
       ".xr-var-dtype:hover,\n",
       ".xr-attrs dt:hover {\n",
       "  overflow: visible;\n",
       "  width: auto;\n",
       "  z-index: 1;\n",
       "}\n",
       "\n",
       ".xr-var-attrs,\n",
       ".xr-var-data {\n",
       "  display: none;\n",
       "  background-color: var(--xr-background-color) !important;\n",
       "  padding-bottom: 5px !important;\n",
       "}\n",
       "\n",
       ".xr-var-attrs-in:checked ~ .xr-var-attrs,\n",
       ".xr-var-data-in:checked ~ .xr-var-data {\n",
       "  display: block;\n",
       "}\n",
       "\n",
       ".xr-var-data > table {\n",
       "  float: right;\n",
       "}\n",
       "\n",
       ".xr-var-name span,\n",
       ".xr-var-data,\n",
       ".xr-attrs {\n",
       "  padding-left: 25px !important;\n",
       "}\n",
       "\n",
       ".xr-attrs,\n",
       ".xr-var-attrs,\n",
       ".xr-var-data {\n",
       "  grid-column: 1 / -1;\n",
       "}\n",
       "\n",
       "dl.xr-attrs {\n",
       "  padding: 0;\n",
       "  margin: 0;\n",
       "  display: grid;\n",
       "  grid-template-columns: 125px auto;\n",
       "}\n",
       "\n",
       ".xr-attrs dt,\n",
       ".xr-attrs dd {\n",
       "  padding: 0;\n",
       "  margin: 0;\n",
       "  float: left;\n",
       "  padding-right: 10px;\n",
       "  width: auto;\n",
       "}\n",
       "\n",
       ".xr-attrs dt {\n",
       "  font-weight: normal;\n",
       "  grid-column: 1;\n",
       "}\n",
       "\n",
       ".xr-attrs dt:hover span {\n",
       "  display: inline-block;\n",
       "  background: var(--xr-background-color);\n",
       "  padding-right: 10px;\n",
       "}\n",
       "\n",
       ".xr-attrs dd {\n",
       "  grid-column: 2;\n",
       "  white-space: pre-wrap;\n",
       "  word-break: break-all;\n",
       "}\n",
       "\n",
       ".xr-icon-database,\n",
       ".xr-icon-file-text2 {\n",
       "  display: inline-block;\n",
       "  vertical-align: middle;\n",
       "  width: 1em;\n",
       "  height: 1.5em !important;\n",
       "  stroke-width: 0;\n",
       "  stroke: currentColor;\n",
       "  fill: currentColor;\n",
       "}\n",
       "</style><pre class='xr-text-repr-fallback'>&lt;xarray.Dataset&gt;\n",
       "Dimensions:      (time: 70568)\n",
       "Coordinates:\n",
       "  * time         (time) datetime64[ns] 2016-02-24T04:10:08 ... 2016-02-24T23:...\n",
       "Data variables: (12/24)\n",
       "    voltage      (time) float64 0.0 0.0 0.0 0.0 0.0 ... 12.04 12.04 12.04 12.04\n",
       "    winddirrel   (time) float64 nan nan nan nan nan ... 271.0 243.0 252.0 271.0\n",
       "    windspd      (time) float64 nan nan nan nan nan ... 1.07 1.33 1.27 1.97 2.03\n",
       "    winddiag     (time) float64 nan nan nan nan nan nan ... 0.0 0.0 0.0 0.0 0.0\n",
       "    fasttemp     (time) float64 3.429 3.429 3.43 3.431 ... 0.349 0.352 0.354\n",
       "    slowtemp     (time) float64 -80.0 -80.0 -80.0 -80.0 ... 0.236 0.16 0.259\n",
       "    ...           ...\n",
       "    winddirabs   (time) float64 nan nan nan nan nan ... 182.1 154.1 163.1 182.0\n",
       "    dewpoint     (time) float64 nan nan nan nan ... -0.2838 -0.3737 -0.2609\n",
       "    RH_derived   (time) float64 -0.003 -0.003 -0.003 ... 95.52 94.87 95.64\n",
       "    pt           (time) float64 nan nan nan nan nan ... 275.6 275.6 275.6 275.6\n",
       "    qv           (time) float64 nan nan nan nan ... 0.003866 0.00384 0.003872\n",
       "    rho          (time) float64 nan nan nan nan nan ... 1.237 1.237 1.237 1.237\n",
       "Attributes:\n",
       "    probe_name:       PIPS1A\n",
       "    parsivel_angle:   -45.0\n",
       "    deployment_name:  Test_022416\n",
       "    location:         (40.44216684377569, -86.96749999999999, 211.71466179262...\n",
       "    starting_time:    20160224023520\n",
       "    ending_time:      20160224234610</pre><div class='xr-wrap' hidden><div class='xr-header'><div class='xr-obj-type'>xarray.Dataset</div></div><ul class='xr-sections'><li class='xr-section-item'><input id='section-5641d712-fd05-42a1-810e-c15c492e8f05' class='xr-section-summary-in' type='checkbox' disabled ><label for='section-5641d712-fd05-42a1-810e-c15c492e8f05' class='xr-section-summary'  title='Expand/collapse section'>Dimensions:</label><div class='xr-section-inline-details'><ul class='xr-dim-list'><li><span class='xr-has-index'>time</span>: 70568</li></ul></div><div class='xr-section-details'></div></li><li class='xr-section-item'><input id='section-c3282e2d-d4bd-402b-ab12-c77a8e41dafa' class='xr-section-summary-in' type='checkbox'  checked><label for='section-c3282e2d-d4bd-402b-ab12-c77a8e41dafa' class='xr-section-summary' >Coordinates: <span>(1)</span></label><div class='xr-section-inline-details'></div><div class='xr-section-details'><ul class='xr-var-list'><li class='xr-var-item'><div class='xr-var-name'><span class='xr-has-index'>time</span></div><div class='xr-var-dims'>(time)</div><div class='xr-var-dtype'>datetime64[ns]</div><div class='xr-var-preview xr-preview'>2016-02-24T04:10:08 ... 2016-02-...</div><input id='attrs-979cf65f-4b13-41de-8022-25fc948ef0f9' class='xr-var-attrs-in' type='checkbox' disabled><label for='attrs-979cf65f-4b13-41de-8022-25fc948ef0f9' title='Show/Hide attributes'><svg class='icon xr-icon-file-text2'><use xlink:href='#icon-file-text2'></use></svg></label><input id='data-12dedc56-d8d3-4182-9c07-61fae2b0c8c7' class='xr-var-data-in' type='checkbox'><label for='data-12dedc56-d8d3-4182-9c07-61fae2b0c8c7' title='Show/Hide data repr'><svg class='icon xr-icon-database'><use xlink:href='#icon-database'></use></svg></label><div class='xr-var-attrs'><dl class='xr-attrs'></dl></div><div class='xr-var-data'><pre>array([&#x27;2016-02-24T04:10:08.000000000&#x27;, &#x27;2016-02-24T04:10:09.000000000&#x27;,\n",
       "       &#x27;2016-02-24T04:10:10.000000000&#x27;, ..., &#x27;2016-02-24T23:46:13.000000000&#x27;,\n",
       "       &#x27;2016-02-24T23:46:14.000000000&#x27;, &#x27;2016-02-24T23:46:15.000000000&#x27;],\n",
       "      dtype=&#x27;datetime64[ns]&#x27;)</pre></div></li></ul></div></li><li class='xr-section-item'><input id='section-f03a24d4-296d-48b5-a2ec-efe4f6d8559b' class='xr-section-summary-in' type='checkbox'  ><label for='section-f03a24d4-296d-48b5-a2ec-efe4f6d8559b' class='xr-section-summary' >Data variables: <span>(24)</span></label><div class='xr-section-inline-details'></div><div class='xr-section-details'><ul class='xr-var-list'><li class='xr-var-item'><div class='xr-var-name'><span>voltage</span></div><div class='xr-var-dims'>(time)</div><div class='xr-var-dtype'>float64</div><div class='xr-var-preview xr-preview'>0.0 0.0 0.0 ... 12.04 12.04 12.04</div><input id='attrs-b42a42c1-e3be-400e-8f66-8193aa86eb69' class='xr-var-attrs-in' type='checkbox' ><label for='attrs-b42a42c1-e3be-400e-8f66-8193aa86eb69' title='Show/Hide attributes'><svg class='icon xr-icon-file-text2'><use xlink:href='#icon-file-text2'></use></svg></label><input id='data-93c887a3-796e-453b-a65d-b00b42c8f11f' class='xr-var-data-in' type='checkbox'><label for='data-93c887a3-796e-453b-a65d-b00b42c8f11f' title='Show/Hide data repr'><svg class='icon xr-icon-database'><use xlink:href='#icon-database'></use></svg></label><div class='xr-var-attrs'><dl class='xr-attrs'><dt><span>units :</span></dt><dd>volts</dd></dl></div><div class='xr-var-data'><pre>array([ 0.  ,  0.  ,  0.  , ..., 12.04, 12.04, 12.04])</pre></div></li><li class='xr-var-item'><div class='xr-var-name'><span>winddirrel</span></div><div class='xr-var-dims'>(time)</div><div class='xr-var-dtype'>float64</div><div class='xr-var-preview xr-preview'>nan nan nan ... 243.0 252.0 271.0</div><input id='attrs-8ae88e5c-bcb9-4165-b235-f23304ccb841' class='xr-var-attrs-in' type='checkbox' ><label for='attrs-8ae88e5c-bcb9-4165-b235-f23304ccb841' title='Show/Hide attributes'><svg class='icon xr-icon-file-text2'><use xlink:href='#icon-file-text2'></use></svg></label><input id='data-b9d36e2c-324d-428f-8d17-064944813f1a' class='xr-var-data-in' type='checkbox'><label for='data-b9d36e2c-324d-428f-8d17-064944813f1a' title='Show/Hide data repr'><svg class='icon xr-icon-database'><use xlink:href='#icon-database'></use></svg></label><div class='xr-var-attrs'><dl class='xr-attrs'><dt><span>units :</span></dt><dd>degrees</dd></dl></div><div class='xr-var-data'><pre>array([ nan,  nan,  nan, ..., 243., 252., 271.])</pre></div></li><li class='xr-var-item'><div class='xr-var-name'><span>windspd</span></div><div class='xr-var-dims'>(time)</div><div class='xr-var-dtype'>float64</div><div class='xr-var-preview xr-preview'>nan nan nan nan ... 1.27 1.97 2.03</div><input id='attrs-a53216d2-084a-45b7-9e42-0fdfcbf33465' class='xr-var-attrs-in' type='checkbox' ><label for='attrs-a53216d2-084a-45b7-9e42-0fdfcbf33465' title='Show/Hide attributes'><svg class='icon xr-icon-file-text2'><use xlink:href='#icon-file-text2'></use></svg></label><input id='data-21e472d2-178d-4cb2-8c0d-f088c1e5b8d2' class='xr-var-data-in' type='checkbox'><label for='data-21e472d2-178d-4cb2-8c0d-f088c1e5b8d2' title='Show/Hide data repr'><svg class='icon xr-icon-database'><use xlink:href='#icon-database'></use></svg></label><div class='xr-var-attrs'><dl class='xr-attrs'><dt><span>units :</span></dt><dd>meters per second</dd></dl></div><div class='xr-var-data'><pre>array([ nan,  nan,  nan, ..., 1.27, 1.97, 2.03])</pre></div></li><li class='xr-var-item'><div class='xr-var-name'><span>winddiag</span></div><div class='xr-var-dims'>(time)</div><div class='xr-var-dtype'>float64</div><div class='xr-var-preview xr-preview'>nan nan nan nan ... 0.0 0.0 0.0 0.0</div><input id='attrs-dc94d7ec-5e28-4d46-8861-f454d6874405' class='xr-var-attrs-in' type='checkbox' disabled><label for='attrs-dc94d7ec-5e28-4d46-8861-f454d6874405' title='Show/Hide attributes'><svg class='icon xr-icon-file-text2'><use xlink:href='#icon-file-text2'></use></svg></label><input id='data-cfc887c1-dd4f-4de9-9a87-3ed579c636a5' class='xr-var-data-in' type='checkbox'><label for='data-cfc887c1-dd4f-4de9-9a87-3ed579c636a5' title='Show/Hide data repr'><svg class='icon xr-icon-database'><use xlink:href='#icon-database'></use></svg></label><div class='xr-var-attrs'><dl class='xr-attrs'></dl></div><div class='xr-var-data'><pre>array([nan, nan, nan, ...,  0.,  0.,  0.])</pre></div></li><li class='xr-var-item'><div class='xr-var-name'><span>fasttemp</span></div><div class='xr-var-dims'>(time)</div><div class='xr-var-dtype'>float64</div><div class='xr-var-preview xr-preview'>3.429 3.429 3.43 ... 0.352 0.354</div><input id='attrs-84882527-3e16-4496-8881-7259beff034b' class='xr-var-attrs-in' type='checkbox' ><label for='attrs-84882527-3e16-4496-8881-7259beff034b' title='Show/Hide attributes'><svg class='icon xr-icon-file-text2'><use xlink:href='#icon-file-text2'></use></svg></label><input id='data-8e56c20e-a394-40cb-b69e-87fefc2dd964' class='xr-var-data-in' type='checkbox'><label for='data-8e56c20e-a394-40cb-b69e-87fefc2dd964' title='Show/Hide data repr'><svg class='icon xr-icon-database'><use xlink:href='#icon-database'></use></svg></label><div class='xr-var-attrs'><dl class='xr-attrs'><dt><span>units :</span></dt><dd>degrees Celsius</dd></dl></div><div class='xr-var-data'><pre>array([3.429, 3.429, 3.43 , ..., 0.349, 0.352, 0.354])</pre></div></li><li class='xr-var-item'><div class='xr-var-name'><span>slowtemp</span></div><div class='xr-var-dims'>(time)</div><div class='xr-var-dtype'>float64</div><div class='xr-var-preview xr-preview'>-80.0 -80.0 -80.0 ... 0.16 0.259</div><input id='attrs-5e70fa5b-9b2e-4a5c-97a9-d799d399a496' class='xr-var-attrs-in' type='checkbox' ><label for='attrs-5e70fa5b-9b2e-4a5c-97a9-d799d399a496' title='Show/Hide attributes'><svg class='icon xr-icon-file-text2'><use xlink:href='#icon-file-text2'></use></svg></label><input id='data-c6f5c7e2-1c46-4bff-876c-4301f09b1cbd' class='xr-var-data-in' type='checkbox'><label for='data-c6f5c7e2-1c46-4bff-876c-4301f09b1cbd' title='Show/Hide data repr'><svg class='icon xr-icon-database'><use xlink:href='#icon-database'></use></svg></label><div class='xr-var-attrs'><dl class='xr-attrs'><dt><span>units :</span></dt><dd>degrees Celsius</dd></dl></div><div class='xr-var-data'><pre>array([-80.   , -80.   , -80.   , ...,   0.236,   0.16 ,   0.259])</pre></div></li><li class='xr-var-item'><div class='xr-var-name'><span>RH</span></div><div class='xr-var-dims'>(time)</div><div class='xr-var-dtype'>float64</div><div class='xr-var-preview xr-preview'>-0.003 -0.003 -0.003 ... 96.2 96.3</div><input id='attrs-f10a00ce-3482-4d87-a20b-9efc089b53bf' class='xr-var-attrs-in' type='checkbox' ><label for='attrs-f10a00ce-3482-4d87-a20b-9efc089b53bf' title='Show/Hide attributes'><svg class='icon xr-icon-file-text2'><use xlink:href='#icon-file-text2'></use></svg></label><input id='data-c17800b0-dbf8-436b-b786-6cb838123858' class='xr-var-data-in' type='checkbox'><label for='data-c17800b0-dbf8-436b-b786-6cb838123858' title='Show/Hide data repr'><svg class='icon xr-icon-database'><use xlink:href='#icon-database'></use></svg></label><div class='xr-var-attrs'><dl class='xr-attrs'><dt><span>units :</span></dt><dd>percent</dd></dl></div><div class='xr-var-data'><pre>array([-3.00e-03, -3.00e-03, -3.00e-03, ...,  9.63e+01,  9.62e+01,\n",
       "        9.63e+01])</pre></div></li><li class='xr-var-item'><div class='xr-var-name'><span>pressure</span></div><div class='xr-var-dims'>(time)</div><div class='xr-var-dtype'>float64</div><div class='xr-var-preview xr-preview'>nan nan nan ... 973.2 973.2 973.2</div><input id='attrs-5ca52503-ef7d-4a22-8875-45703f2ee8a9' class='xr-var-attrs-in' type='checkbox' ><label for='attrs-5ca52503-ef7d-4a22-8875-45703f2ee8a9' title='Show/Hide attributes'><svg class='icon xr-icon-file-text2'><use xlink:href='#icon-file-text2'></use></svg></label><input id='data-81eaa6e3-4b49-4cb0-826a-fca23d4cddb7' class='xr-var-data-in' type='checkbox'><label for='data-81eaa6e3-4b49-4cb0-826a-fca23d4cddb7' title='Show/Hide data repr'><svg class='icon xr-icon-database'><use xlink:href='#icon-database'></use></svg></label><div class='xr-var-attrs'><dl class='xr-attrs'><dt><span>units :</span></dt><dd>hectoPascals</dd></dl></div><div class='xr-var-data'><pre>array([   nan,    nan,    nan, ..., 973.21, 973.21, 973.22])</pre></div></li><li class='xr-var-item'><div class='xr-var-name'><span>compass_dir</span></div><div class='xr-var-dims'>(time)</div><div class='xr-var-dtype'>float64</div><div class='xr-var-preview xr-preview'>nan nan nan ... 271.1 271.1 271.0</div><input id='attrs-9be8dabc-74db-4106-8f03-45186442a251' class='xr-var-attrs-in' type='checkbox' ><label for='attrs-9be8dabc-74db-4106-8f03-45186442a251' title='Show/Hide attributes'><svg class='icon xr-icon-file-text2'><use xlink:href='#icon-file-text2'></use></svg></label><input id='data-6af39659-c690-42b1-bdb9-cfaa806fb48a' class='xr-var-data-in' type='checkbox'><label for='data-6af39659-c690-42b1-bdb9-cfaa806fb48a' title='Show/Hide data repr'><svg class='icon xr-icon-database'><use xlink:href='#icon-database'></use></svg></label><div class='xr-var-attrs'><dl class='xr-attrs'><dt><span>units :</span></dt><dd>degrees</dd></dl></div><div class='xr-var-data'><pre>array([  nan,   nan,   nan, ..., 271.1, 271.1, 271. ])</pre></div></li><li class='xr-var-item'><div class='xr-var-name'><span>GPS_time</span></div><div class='xr-var-dims'>(time)</div><div class='xr-var-dtype'>object</div><div class='xr-var-preview xr-preview'>&#x27;&#x27; &#x27;&#x27; &#x27;&#x27; ... &#x27;234615&#x27; &#x27;234616&#x27;</div><input id='attrs-5a4a6589-222c-4eb8-98a1-f36e6334fda7' class='xr-var-attrs-in' type='checkbox' ><label for='attrs-5a4a6589-222c-4eb8-98a1-f36e6334fda7' title='Show/Hide attributes'><svg class='icon xr-icon-file-text2'><use xlink:href='#icon-file-text2'></use></svg></label><input id='data-a58b49b7-cb7d-400e-a854-8f694065a417' class='xr-var-data-in' type='checkbox'><label for='data-a58b49b7-cb7d-400e-a854-8f694065a417' title='Show/Hide data repr'><svg class='icon xr-icon-database'><use xlink:href='#icon-database'></use></svg></label><div class='xr-var-attrs'><dl class='xr-attrs'><dt><span>units :</span></dt><dd>HHMMSS</dd></dl></div><div class='xr-var-data'><pre>array([&#x27;&#x27;, &#x27;&#x27;, &#x27;&#x27;, ..., &#x27;234614&#x27;, &#x27;234615&#x27;, &#x27;234616&#x27;], dtype=object)</pre></div></li><li class='xr-var-item'><div class='xr-var-name'><span>GPS_status</span></div><div class='xr-var-dims'>(time)</div><div class='xr-var-dtype'>object</div><div class='xr-var-preview xr-preview'>&#x27;&#x27; &#x27;&#x27; &#x27;&#x27; &#x27;&#x27; &#x27;&#x27; ... &#x27;A&#x27; &#x27;A&#x27; &#x27;A&#x27; &#x27;A&#x27;</div><input id='attrs-beafdd3f-21fe-4801-9ea2-033e0524aa83' class='xr-var-attrs-in' type='checkbox' disabled><label for='attrs-beafdd3f-21fe-4801-9ea2-033e0524aa83' title='Show/Hide attributes'><svg class='icon xr-icon-file-text2'><use xlink:href='#icon-file-text2'></use></svg></label><input id='data-8a6b55ed-2fba-454c-97ba-b9a4ceb58978' class='xr-var-data-in' type='checkbox'><label for='data-8a6b55ed-2fba-454c-97ba-b9a4ceb58978' title='Show/Hide data repr'><svg class='icon xr-icon-database'><use xlink:href='#icon-database'></use></svg></label><div class='xr-var-attrs'><dl class='xr-attrs'></dl></div><div class='xr-var-data'><pre>array([&#x27;&#x27;, &#x27;&#x27;, &#x27;&#x27;, ..., &#x27;A&#x27;, &#x27;A&#x27;, &#x27;A&#x27;], dtype=object)</pre></div></li><li class='xr-var-item'><div class='xr-var-name'><span>GPS_lat</span></div><div class='xr-var-dims'>(time)</div><div class='xr-var-dtype'>float64</div><div class='xr-var-preview xr-preview'>nan nan nan ... 40.44 40.44 40.44</div><input id='attrs-63b2feac-cf49-4b89-bc63-c36ea07a8c58' class='xr-var-attrs-in' type='checkbox' ><label for='attrs-63b2feac-cf49-4b89-bc63-c36ea07a8c58' title='Show/Hide attributes'><svg class='icon xr-icon-file-text2'><use xlink:href='#icon-file-text2'></use></svg></label><input id='data-f36bf53c-0ff3-493c-909f-e9404a3cb33a' class='xr-var-data-in' type='checkbox'><label for='data-f36bf53c-0ff3-493c-909f-e9404a3cb33a' title='Show/Hide data repr'><svg class='icon xr-icon-database'><use xlink:href='#icon-database'></use></svg></label><div class='xr-var-attrs'><dl class='xr-attrs'><dt><span>units :</span></dt><dd>degrees N</dd></dl></div><div class='xr-var-data'><pre>array([        nan,         nan,         nan, ..., 40.44216667,\n",
       "       40.44216667, 40.44216667])</pre></div></li><li class='xr-var-item'><div class='xr-var-name'><span>GPS_lon</span></div><div class='xr-var-dims'>(time)</div><div class='xr-var-dtype'>float64</div><div class='xr-var-preview xr-preview'>nan nan nan ... -86.97 -86.97</div><input id='attrs-85beda7a-41b2-4b54-9642-2b175eabbfd8' class='xr-var-attrs-in' type='checkbox' ><label for='attrs-85beda7a-41b2-4b54-9642-2b175eabbfd8' title='Show/Hide attributes'><svg class='icon xr-icon-file-text2'><use xlink:href='#icon-file-text2'></use></svg></label><input id='data-fef95f4f-2fea-4d90-ac88-62d35a5c100c' class='xr-var-data-in' type='checkbox'><label for='data-fef95f4f-2fea-4d90-ac88-62d35a5c100c' title='Show/Hide data repr'><svg class='icon xr-icon-database'><use xlink:href='#icon-database'></use></svg></label><div class='xr-var-attrs'><dl class='xr-attrs'><dt><span>units :</span></dt><dd>degrees E</dd><dt><span>description :</span></dt><dd>west is negative</dd></dl></div><div class='xr-var-data'><pre>array([     nan,      nan,      nan, ..., -86.9675, -86.9675, -86.9675])</pre></div></li><li class='xr-var-item'><div class='xr-var-name'><span>GPS_spd</span></div><div class='xr-var-dims'>(time)</div><div class='xr-var-dtype'>float64</div><div class='xr-var-preview xr-preview'>nan nan nan nan ... 0.0 0.2 0.0 0.0</div><input id='attrs-6d0a3671-d572-4104-b95b-901c31ec5368' class='xr-var-attrs-in' type='checkbox' ><label for='attrs-6d0a3671-d572-4104-b95b-901c31ec5368' title='Show/Hide attributes'><svg class='icon xr-icon-file-text2'><use xlink:href='#icon-file-text2'></use></svg></label><input id='data-61b78a98-8472-4f36-938b-7a93cd4ffe1f' class='xr-var-data-in' type='checkbox'><label for='data-61b78a98-8472-4f36-938b-7a93cd4ffe1f' title='Show/Hide data repr'><svg class='icon xr-icon-database'><use xlink:href='#icon-database'></use></svg></label><div class='xr-var-attrs'><dl class='xr-attrs'><dt><span>units :</span></dt><dd>meters per second</dd></dl></div><div class='xr-var-data'><pre>array([nan, nan, nan, ..., 0.2, 0. , 0. ])</pre></div></li><li class='xr-var-item'><div class='xr-var-name'><span>GPS_dir</span></div><div class='xr-var-dims'>(time)</div><div class='xr-var-dtype'>float64</div><div class='xr-var-preview xr-preview'>nan nan nan ... 206.5 206.5 206.5</div><input id='attrs-d750213b-dd30-4c2d-90ce-3bfe984a6dc1' class='xr-var-attrs-in' type='checkbox' ><label for='attrs-d750213b-dd30-4c2d-90ce-3bfe984a6dc1' title='Show/Hide attributes'><svg class='icon xr-icon-file-text2'><use xlink:href='#icon-file-text2'></use></svg></label><input id='data-118d289e-fb57-4be2-963f-d5a2c3593118' class='xr-var-data-in' type='checkbox'><label for='data-118d289e-fb57-4be2-963f-d5a2c3593118' title='Show/Hide data repr'><svg class='icon xr-icon-database'><use xlink:href='#icon-database'></use></svg></label><div class='xr-var-attrs'><dl class='xr-attrs'><dt><span>units :</span></dt><dd>degrees</dd></dl></div><div class='xr-var-data'><pre>array([  nan,   nan,   nan, ..., 206.5, 206.5, 206.5])</pre></div></li><li class='xr-var-item'><div class='xr-var-name'><span>GPS_date</span></div><div class='xr-var-dims'>(time)</div><div class='xr-var-dtype'>object</div><div class='xr-var-preview xr-preview'>&#x27;&#x27; &#x27;&#x27; &#x27;&#x27; ... &#x27;240216&#x27; &#x27;240216&#x27;</div><input id='attrs-3d134f65-7f4a-466c-a2d5-a05ee347a4b2' class='xr-var-attrs-in' type='checkbox' ><label for='attrs-3d134f65-7f4a-466c-a2d5-a05ee347a4b2' title='Show/Hide attributes'><svg class='icon xr-icon-file-text2'><use xlink:href='#icon-file-text2'></use></svg></label><input id='data-a8ca2951-a105-4b62-b336-1b296be6894f' class='xr-var-data-in' type='checkbox'><label for='data-a8ca2951-a105-4b62-b336-1b296be6894f' title='Show/Hide data repr'><svg class='icon xr-icon-database'><use xlink:href='#icon-database'></use></svg></label><div class='xr-var-attrs'><dl class='xr-attrs'><dt><span>units :</span></dt><dd>DDMMYY</dd></dl></div><div class='xr-var-data'><pre>array([&#x27;&#x27;, &#x27;&#x27;, &#x27;&#x27;, ..., &#x27;240216&#x27;, &#x27;240216&#x27;, &#x27;240216&#x27;], dtype=object)</pre></div></li><li class='xr-var-item'><div class='xr-var-name'><span>GPS_magvar</span></div><div class='xr-var-dims'>(time)</div><div class='xr-var-dtype'>float64</div><div class='xr-var-preview xr-preview'>nan nan nan nan ... 4.0 4.0 4.0 4.0</div><input id='attrs-5804be41-dd4e-4794-a9c3-07dcd9ec261a' class='xr-var-attrs-in' type='checkbox' disabled><label for='attrs-5804be41-dd4e-4794-a9c3-07dcd9ec261a' title='Show/Hide attributes'><svg class='icon xr-icon-file-text2'><use xlink:href='#icon-file-text2'></use></svg></label><input id='data-9494813f-0287-4b31-b054-6944010b5a94' class='xr-var-data-in' type='checkbox'><label for='data-9494813f-0287-4b31-b054-6944010b5a94' title='Show/Hide data repr'><svg class='icon xr-icon-database'><use xlink:href='#icon-database'></use></svg></label><div class='xr-var-attrs'><dl class='xr-attrs'></dl></div><div class='xr-var-data'><pre>array([nan, nan, nan, ...,  4.,  4.,  4.])</pre></div></li><li class='xr-var-item'><div class='xr-var-name'><span>GPS_alt</span></div><div class='xr-var-dims'>(time)</div><div class='xr-var-dtype'>float64</div><div class='xr-var-preview xr-preview'>nan nan nan ... 215.4 215.4 215.3</div><input id='attrs-f042d560-3f6e-4cfc-abc6-ac0d4d3cc3d2' class='xr-var-attrs-in' type='checkbox' ><label for='attrs-f042d560-3f6e-4cfc-abc6-ac0d4d3cc3d2' title='Show/Hide attributes'><svg class='icon xr-icon-file-text2'><use xlink:href='#icon-file-text2'></use></svg></label><input id='data-623265f5-02bb-4365-abb2-7c0084561fe9' class='xr-var-data-in' type='checkbox'><label for='data-623265f5-02bb-4365-abb2-7c0084561fe9' title='Show/Hide data repr'><svg class='icon xr-icon-database'><use xlink:href='#icon-database'></use></svg></label><div class='xr-var-attrs'><dl class='xr-attrs'><dt><span>units :</span></dt><dd>meters</dd></dl></div><div class='xr-var-data'><pre>array([  nan,   nan,   nan, ..., 215.4, 215.4, 215.3])</pre></div></li><li class='xr-var-item'><div class='xr-var-name'><span>winddirabs</span></div><div class='xr-var-dims'>(time)</div><div class='xr-var-dtype'>float64</div><div class='xr-var-preview xr-preview'>nan nan nan ... 154.1 163.1 182.0</div><input id='attrs-88249acf-f4c4-4fb3-9d18-ae164c04929f' class='xr-var-attrs-in' type='checkbox' ><label for='attrs-88249acf-f4c4-4fb3-9d18-ae164c04929f' title='Show/Hide attributes'><svg class='icon xr-icon-file-text2'><use xlink:href='#icon-file-text2'></use></svg></label><input id='data-17cf872d-5d94-4a6c-bcd1-31d9769e32c7' class='xr-var-data-in' type='checkbox'><label for='data-17cf872d-5d94-4a6c-bcd1-31d9769e32c7' title='Show/Hide data repr'><svg class='icon xr-icon-database'><use xlink:href='#icon-database'></use></svg></label><div class='xr-var-attrs'><dl class='xr-attrs'><dt><span>units :</span></dt><dd>degrees</dd></dl></div><div class='xr-var-data'><pre>array([  nan,   nan,   nan, ..., 154.1, 163.1, 182. ])</pre></div></li><li class='xr-var-item'><div class='xr-var-name'><span>dewpoint</span></div><div class='xr-var-dims'>(time)</div><div class='xr-var-dtype'>float64</div><div class='xr-var-preview xr-preview'>nan nan nan ... -0.3737 -0.2609</div><input id='attrs-64050713-5c19-4dbe-b0a5-d3e32ff60ece' class='xr-var-attrs-in' type='checkbox' ><label for='attrs-64050713-5c19-4dbe-b0a5-d3e32ff60ece' title='Show/Hide attributes'><svg class='icon xr-icon-file-text2'><use xlink:href='#icon-file-text2'></use></svg></label><input id='data-19dc42f1-c8cb-491a-946d-ffc806b95a75' class='xr-var-data-in' type='checkbox'><label for='data-19dc42f1-c8cb-491a-946d-ffc806b95a75' title='Show/Hide data repr'><svg class='icon xr-icon-database'><use xlink:href='#icon-database'></use></svg></label><div class='xr-var-attrs'><dl class='xr-attrs'><dt><span>units :</span></dt><dd>degrees Celsius</dd></dl></div><div class='xr-var-data'><pre>array([    nan,     nan,     nan, ..., -0.2838, -0.3737, -0.2609])</pre></div></li><li class='xr-var-item'><div class='xr-var-name'><span>RH_derived</span></div><div class='xr-var-dims'>(time)</div><div class='xr-var-dtype'>float64</div><div class='xr-var-preview xr-preview'>-0.003 -0.003 ... 94.87 95.64</div><input id='attrs-705d0cff-8229-45cd-b202-e144efa1fa85' class='xr-var-attrs-in' type='checkbox' ><label for='attrs-705d0cff-8229-45cd-b202-e144efa1fa85' title='Show/Hide attributes'><svg class='icon xr-icon-file-text2'><use xlink:href='#icon-file-text2'></use></svg></label><input id='data-2853d9e1-ffdc-4c2b-96f4-21532489cf9d' class='xr-var-data-in' type='checkbox'><label for='data-2853d9e1-ffdc-4c2b-96f4-21532489cf9d' title='Show/Hide data repr'><svg class='icon xr-icon-database'><use xlink:href='#icon-database'></use></svg></label><div class='xr-var-attrs'><dl class='xr-attrs'><dt><span>units :</span></dt><dd>percent</dd></dl></div><div class='xr-var-data'><pre>array([-3.00000e-03, -3.00000e-03, -3.00000e-03, ...,  9.55160e+01,\n",
       "        9.48726e+01,  9.56405e+01])</pre></div></li><li class='xr-var-item'><div class='xr-var-name'><span>pt</span></div><div class='xr-var-dims'>(time)</div><div class='xr-var-dtype'>float64</div><div class='xr-var-preview xr-preview'>nan nan nan ... 275.6 275.6 275.6</div><input id='attrs-7e95297f-57fd-4028-b805-5044f68ab4df' class='xr-var-attrs-in' type='checkbox' disabled><label for='attrs-7e95297f-57fd-4028-b805-5044f68ab4df' title='Show/Hide attributes'><svg class='icon xr-icon-file-text2'><use xlink:href='#icon-file-text2'></use></svg></label><input id='data-8e4cb067-b7b1-4b66-b291-9a4b74e04e3c' class='xr-var-data-in' type='checkbox'><label for='data-8e4cb067-b7b1-4b66-b291-9a4b74e04e3c' title='Show/Hide data repr'><svg class='icon xr-icon-database'><use xlink:href='#icon-database'></use></svg></label><div class='xr-var-attrs'><dl class='xr-attrs'></dl></div><div class='xr-var-data'><pre>array([         nan,          nan,          nan, ..., 275.62690622,\n",
       "       275.62992956, 275.63113681])</pre></div></li><li class='xr-var-item'><div class='xr-var-name'><span>qv</span></div><div class='xr-var-dims'>(time)</div><div class='xr-var-dtype'>float64</div><div class='xr-var-preview xr-preview'>nan nan nan ... 0.00384 0.003872</div><input id='attrs-0bd19f03-a208-49ed-b0f0-bc1929f953ce' class='xr-var-attrs-in' type='checkbox' disabled><label for='attrs-0bd19f03-a208-49ed-b0f0-bc1929f953ce' title='Show/Hide attributes'><svg class='icon xr-icon-file-text2'><use xlink:href='#icon-file-text2'></use></svg></label><input id='data-bb421358-c356-4e54-be97-ee9cf37578b2' class='xr-var-data-in' type='checkbox'><label for='data-bb421358-c356-4e54-be97-ee9cf37578b2' title='Show/Hide data repr'><svg class='icon xr-icon-database'><use xlink:href='#icon-database'></use></svg></label><div class='xr-var-attrs'><dl class='xr-attrs'></dl></div><div class='xr-var-data'><pre>array([       nan,        nan,        nan, ..., 0.00386552, 0.00384016,\n",
       "       0.00387196])</pre></div></li><li class='xr-var-item'><div class='xr-var-name'><span>rho</span></div><div class='xr-var-dims'>(time)</div><div class='xr-var-dtype'>float64</div><div class='xr-var-preview xr-preview'>nan nan nan ... 1.237 1.237 1.237</div><input id='attrs-7abab21c-a6f8-4749-9535-e5a8ef9949ce' class='xr-var-attrs-in' type='checkbox' disabled><label for='attrs-7abab21c-a6f8-4749-9535-e5a8ef9949ce' title='Show/Hide attributes'><svg class='icon xr-icon-file-text2'><use xlink:href='#icon-file-text2'></use></svg></label><input id='data-ae87a9f3-4cdc-43d2-8b1a-4454c1eec238' class='xr-var-data-in' type='checkbox'><label for='data-ae87a9f3-4cdc-43d2-8b1a-4454c1eec238' title='Show/Hide data repr'><svg class='icon xr-icon-database'><use xlink:href='#icon-database'></use></svg></label><div class='xr-var-attrs'><dl class='xr-attrs'></dl></div><div class='xr-var-data'><pre>array([       nan,        nan,        nan, ..., 1.23694203, 1.23694749,\n",
       "       1.23692729])</pre></div></li></ul></div></li><li class='xr-section-item'><input id='section-a53f3274-d878-4202-979e-df04e453360f' class='xr-section-summary-in' type='checkbox'  checked><label for='section-a53f3274-d878-4202-979e-df04e453360f' class='xr-section-summary' >Attributes: <span>(6)</span></label><div class='xr-section-inline-details'></div><div class='xr-section-details'><dl class='xr-attrs'><dt><span>probe_name :</span></dt><dd>PIPS1A</dd><dt><span>parsivel_angle :</span></dt><dd>-45.0</dd><dt><span>deployment_name :</span></dt><dd>Test_022416</dd><dt><span>location :</span></dt><dd>(40.44216684377569, -86.96749999999999, 211.71466179262663)</dd><dt><span>starting_time :</span></dt><dd>20160224023520</dd><dt><span>ending_time :</span></dt><dd>20160224234610</dd></dl></div></li></ul></div></div>"
      ],
      "text/plain": [
       "<xarray.Dataset>\n",
       "Dimensions:      (time: 70568)\n",
       "Coordinates:\n",
       "  * time         (time) datetime64[ns] 2016-02-24T04:10:08 ... 2016-02-24T23:...\n",
       "Data variables: (12/24)\n",
       "    voltage      (time) float64 0.0 0.0 0.0 0.0 0.0 ... 12.04 12.04 12.04 12.04\n",
       "    winddirrel   (time) float64 nan nan nan nan nan ... 271.0 243.0 252.0 271.0\n",
       "    windspd      (time) float64 nan nan nan nan nan ... 1.07 1.33 1.27 1.97 2.03\n",
       "    winddiag     (time) float64 nan nan nan nan nan nan ... 0.0 0.0 0.0 0.0 0.0\n",
       "    fasttemp     (time) float64 3.429 3.429 3.43 3.431 ... 0.349 0.352 0.354\n",
       "    slowtemp     (time) float64 -80.0 -80.0 -80.0 -80.0 ... 0.236 0.16 0.259\n",
       "    ...           ...\n",
       "    winddirabs   (time) float64 nan nan nan nan nan ... 182.1 154.1 163.1 182.0\n",
       "    dewpoint     (time) float64 nan nan nan nan ... -0.2838 -0.3737 -0.2609\n",
       "    RH_derived   (time) float64 -0.003 -0.003 -0.003 ... 95.52 94.87 95.64\n",
       "    pt           (time) float64 nan nan nan nan nan ... 275.6 275.6 275.6 275.6\n",
       "    qv           (time) float64 nan nan nan nan ... 0.003866 0.00384 0.003872\n",
       "    rho          (time) float64 nan nan nan nan nan ... 1.237 1.237 1.237 1.237\n",
       "Attributes:\n",
       "    probe_name:       PIPS1A\n",
       "    parsivel_angle:   -45.0\n",
       "    deployment_name:  Test_022416\n",
       "    location:         (40.44216684377569, -86.96749999999999, 211.71466179262...\n",
       "    starting_time:    20160224023520\n",
       "    ending_time:      20160224234610"
      ]
     },
     "execution_count": 100,
     "metadata": {},
     "output_type": "execute_result"
    }
   ],
   "source": []
  },
  {
   "cell_type": "code",
   "execution_count": 76,
   "metadata": {
    "ExecuteTime": {
     "end_time": "2020-06-23T20:58:13.817825Z",
     "start_time": "2020-06-23T20:58:13.717395Z"
    }
   },
   "outputs": [
    {
     "name": "stdout",
     "output_type": "stream",
     "text": [
      "<xarray.DataArray 'time' (time: 70686)>\n",
      "array(['2016-02-24T02:34:22.000000000', '2016-02-24T02:34:23.000000000',\n",
      "       '2016-02-24T02:34:24.000000000', ..., '2016-02-24T23:46:13.000000000',\n",
      "       '2016-02-24T23:46:14.000000000', '2016-02-24T23:46:15.000000000'],\n",
      "      dtype='datetime64[ns]')\n",
      "Coordinates:\n",
      "  * time     (time) datetime64[ns] 2016-02-24T02:34:22 ... 2016-02-24T23:46:15\n",
      "70686\n",
      "70686\n",
      "['2016-02-24T02:34:22.000000000' '2016-02-24T02:34:23.000000000'\n",
      " '2016-02-24T02:34:24.000000000' ... '2016-02-24T23:46:13.000000000'\n",
      " '2016-02-24T23:46:14.000000000' '2016-02-24T23:46:15.000000000']\n",
      "[False False False ... False False False]\n",
      "[]\n",
      "<xarray.DataArray 'time' (time: 0)>\n",
      "array([], dtype='datetime64[ns]')\n",
      "Coordinates:\n",
      "  * time     (time) datetime64[ns] \n",
      "<xarray.DataArray 'winddirabs' (time: 0)>\n",
      "array([], dtype=float64)\n",
      "Coordinates:\n",
      "  * time     (time) datetime64[ns] \n",
      "Attributes:\n",
      "    units:    degrees\n"
     ]
    }
   ],
   "source": [
    "print(wind_dir_conv.coords['time'])\n",
    "print(len(wind_dir_conv.time))\n",
    "print(len(np.unique(wind_dir_conv.time.data)))\n",
    "unique_times = np.unique(wind_dir_conv['time'])\n",
    "print(unique_times)\n",
    "duplicated = wind_dir_conv.indexes['time'].duplicated()\n",
    "print(duplicated)\n",
    "dup_indices = np.where(duplicated)[0]\n",
    "print(dup_indices)\n",
    "#duplicated = xr.DataArray(parsivel_ds_read.indexes['time'].duplicated())\n",
    "duplicated_times = wind_dir_conv['time'].isel(time=dup_indices)\n",
    "print(duplicated_times)\n",
    "duplicated_times_only = wind_dir_conv.isel(time=dup_indices)\n",
    "print(duplicated_times_only)"
   ]
  },
  {
   "cell_type": "code",
   "execution_count": null,
   "metadata": {
    "ExecuteTime": {
     "end_time": "2020-06-23T21:09:54.931677Z",
     "start_time": "2020-06-23T21:09:54.842408Z"
    }
   },
   "outputs": [],
   "source": [
    "time_diff = wind_spd_conv['time'].diff('time').astype(np.float)*1.e-9\n",
    "print(time_diff)\n",
    "out_of_order_times = time_diff.where(time_diff < 0, drop=True)['time']\n",
    "print(out_of_order_times)"
   ]
  },
  {
   "cell_type": "code",
   "execution_count": null,
   "metadata": {
    "ExecuteTime": {
     "end_time": "2020-06-23T21:21:19.136212Z",
     "start_time": "2020-06-23T21:21:19.037622Z"
    }
   },
   "outputs": [],
   "source": [
    "int_indices = range(wind_spd_conv.sizes['time'])\n",
    "print(wind_spd_conv.coords['time'].values)\n",
    "int_ind_da = xr.DataArray(int_indices, coords=[('time', wind_spd_conv.coords['time'].values)])\n",
    "print(int_ind_da)"
   ]
  },
  {
   "cell_type": "code",
   "execution_count": null,
   "metadata": {
    "ExecuteTime": {
     "end_time": "2020-06-23T21:22:48.263764Z",
     "start_time": "2020-06-23T21:22:48.181759Z"
    }
   },
   "outputs": [],
   "source": [
    "print(int_ind_da.sel(time='2017-04-30T20:40:18.000000000'))"
   ]
  },
  {
   "cell_type": "code",
   "execution_count": null,
   "metadata": {
    "ExecuteTime": {
     "end_time": "2020-06-23T21:26:00.767618Z",
     "start_time": "2020-06-23T21:26:00.682095Z"
    }
   },
   "outputs": [],
   "source": [
    "print(wind_spd_conv.isel(time=74415))\n",
    "print(wind_spd_conv.isel(time=74416))\n",
    "print(wind_spd_conv.isel(time=74417))\n",
    "print(wind_spd_conv.isel(time=74418))"
   ]
  },
  {
   "cell_type": "code",
   "execution_count": null,
   "metadata": {
    "ExecuteTime": {
     "end_time": "2020-06-23T21:29:09.768836Z",
     "start_time": "2020-06-23T21:29:09.677148Z"
    }
   },
   "outputs": [],
   "source": [
    "time_diff = parsivel_ds['time'].diff('time').astype(np.float)*1.e-9\n",
    "print(time_diff)\n",
    "out_of_order_times = time_diff.where(time_diff < 0, drop=True)['time']\n",
    "print(out_of_order_times)"
   ]
  },
  {
   "cell_type": "code",
   "execution_count": null,
   "metadata": {
    "ExecuteTime": {
     "end_time": "2020-06-23T21:54:20.671583Z",
     "start_time": "2020-06-23T21:54:20.258003Z"
    }
   },
   "outputs": [],
   "source": [
    "PIPS_dir2 = '/Volumes/scr_fast/Projects/VORTEXSE/obsdata/full_PIPS_dataset_new_test/'\n",
    "parsivel_filepath2 = os.path.join(PIPS_dir, 'parsivel_combined_FMCW_2017_043017_PIPS2A_60s.nc')\n",
    "conv_filepath2 = os.path.join(PIPS_dir, 'conventional_raw_FMCW_2017_043017_PIPS2A.nc')\n",
    "parsivel_ds2 = xr.load_dataset(parsivel_filepath2)\n",
    "conv_ds2 = xr.load_dataset(conv_filepath2)"
   ]
  },
  {
   "cell_type": "code",
   "execution_count": null,
   "metadata": {
    "ExecuteTime": {
     "end_time": "2020-06-23T21:54:34.264035Z",
     "start_time": "2020-06-23T21:54:34.180687Z"
    }
   },
   "outputs": [],
   "source": [
    "time_diff = parsivel_ds2['time'].diff('time').astype(np.float)*1.e-9\n",
    "print(time_diff)\n",
    "out_of_order_times = time_diff.where(time_diff < 0, drop=True)['time']\n",
    "print(out_of_order_times)"
   ]
  },
  {
   "cell_type": "code",
   "execution_count": null,
   "metadata": {},
   "outputs": [],
   "source": []
  }
 ],
 "metadata": {
  "anaconda-cloud": {},
  "hide_input": false,
  "kernelspec": {
   "display_name": "Python 3.7.3 64-bit ('pyPIPS': conda)",
   "language": "python",
   "name": "python37364bitpypipscondaea8788f6419a4a34be329df7b3b7ce88"
  },
  "language_info": {
   "codemirror_mode": {
    "name": "ipython",
    "version": 3
   },
   "file_extension": ".py",
   "mimetype": "text/x-python",
   "name": "python",
   "nbconvert_exporter": "python",
   "pygments_lexer": "ipython3",
   "version": "3.7.10"
  },
  "toc": {
   "base_numbering": 1,
   "nav_menu": {},
   "number_sections": true,
   "sideBar": true,
   "skip_h1_title": false,
   "title_cell": "Table of Contents",
   "title_sidebar": "Contents",
   "toc_cell": false,
   "toc_position": {},
   "toc_section_display": true,
   "toc_window_display": false
  },
  "varInspector": {
   "cols": {
    "lenName": 16,
    "lenType": 16,
    "lenVar": 40
   },
   "kernels_config": {
    "python": {
     "delete_cmd_postfix": "",
     "delete_cmd_prefix": "del ",
     "library": "var_list.py",
     "varRefreshCmd": "print(var_dic_list())"
    },
    "r": {
     "delete_cmd_postfix": ") ",
     "delete_cmd_prefix": "rm(",
     "library": "var_list.r",
     "varRefreshCmd": "cat(var_dic_list()) "
    }
   },
   "types_to_exclude": [
    "module",
    "function",
    "builtin_function_or_method",
    "instance",
    "_Feature"
   ],
   "window_display": false
  }
 },
 "nbformat": 4,
 "nbformat_minor": 2
}
