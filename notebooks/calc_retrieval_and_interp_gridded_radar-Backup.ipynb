{
 "cells": [
  {
   "cell_type": "code",
   "execution_count": null,
   "metadata": {
    "ExecuteTime": {
     "end_time": "2021-04-20T16:04:05.954818Z",
     "start_time": "2021-04-20T16:04:01.901826Z"
    }
   },
   "outputs": [],
   "source": [
    "%load_ext autoreload\n",
    "%autoreload 2\n",
    "import numpy as np\n",
    "import numpy.ma as ma\n",
    "import matplotlib\n",
    "import matplotlib.pyplot as plt\n",
    "%matplotlib notebook\n",
    "import matplotlib.cm as cm\n",
    "import matplotlib.ticker as ticker\n",
    "import matplotlib.dates as dates\n",
    "from mpl_toolkits.axes_grid1 import ImageGrid, make_axes_locatable, host_subplot\n",
    "#from mpl_toolkits.basemap import Basemap\n",
    "from datetime import datetime, timedelta\n",
    "import sys\n",
    "import os\n",
    "import pyPIPS.utils as utils\n",
    "import pyPIPS.thermolib as thermo\n",
    "import pyPIPS.DSDlib as dsd\n",
    "#import pyPIPS.disdrometer_module as dis\n",
    "import pyPIPS.plotmodule as PIPSplot\n",
    "#import pyPIPS.simulator as sim\n",
    "import pyPIPS.pips_io as pipsio\n",
    "import pyPIPS.PIPS as pips\n",
    "import pyPIPS.parsivel_params as pp\n",
    "import pyPIPS.parsivel_qc as pqc\n",
    "import pyPIPS.radarmodule as radar\n",
    "import pyPIPS.polarimetric as dualpol\n",
    "#from pyCRMtools.modules import plotmodule as plotmod\n",
    "from pyCRMtools.modules import utils as CRMutils\n",
    "import pandas as pd\n",
    "import xarray as xr\n",
    "import glob\n",
    "import numpy.random as random\n",
    "from scipy.stats import gamma, uniform\n",
    "from scipy.special import gamma as gammafunc\n",
    "from scipy import ndimage\n",
    "from scipy import interpolate\n",
    "from metpy.plots import StationPlot\n",
    "import metpy.calc as mpcalc\n",
    "from metpy.calc import wind_components\n",
    "from metpy.cbook import get_test_data\n",
    "from metpy.plots import StationPlot\n",
    "from metpy.plots.wx_symbols import current_weather, sky_cover\n",
    "from metpy.units import units\n",
    "from scipy.signal import medfilt2d\n",
    "import pyart\n",
    "import cartopy.crs as ccrs\n",
    "from IPython.display import HTML\n",
    "%matplotlib inline\n",
    "# %matplotlib notebook\n",
    "import warnings;\n",
    "warnings.filterwarnings('ignore')"
   ]
  },
  {
   "cell_type": "code",
   "execution_count": null,
   "metadata": {
    "ExecuteTime": {
     "end_time": "2021-04-20T16:04:06.301024Z",
     "start_time": "2021-04-20T16:04:06.202463Z"
    },
    "code_folding": [
     6
    ]
   },
   "outputs": [],
   "source": [
    "# Function definitions\n",
    "\n",
    "def roundPartial(value, resolution, decimals=4):\n",
    "    return np.around(np.round(value / resolution) * resolution, decimals=decimals)\n",
    "\n",
    "def mtokm(val,pos):\n",
    "    \"\"\"Convert m to km for formatting axes tick labels\"\"\"\n",
    "    val=val/1000.0\n",
    "    return '%i' % val\n",
    "\n",
    "def interpolate_all(gridded_radar, tinterp_intv, base_field_name='reflectivity_masked'):\n",
    "    # Get list of intervals in seconds between subsequent radar times\n",
    "    tdiffs = gridded_radar['time_seconds'].diff(dim='time')\n",
    "    \n",
    "    # This list will hold all the time-interpolated grids (xarray Datasets). \n",
    "    # Can later be concatenated into a new xarray Dataset containing all times\n",
    "    gridded_radar_interp_list = []\n",
    "    \n",
    "    # Grab first time from full dataset and restore singular time dimension\n",
    "    first_time_ds = gridded_radar.isel(time=0)\n",
    "    first_time_ds = first_time_ds.expand_dims(dim='time')\n",
    "\n",
    "    gridded_radar_interp_list.append(first_time_ds)\n",
    "    \n",
    "#     tbgn = first_time_ds.coords['time_seconds'].values.item()  # Need to get scalar value, not 0-d\n",
    "#                                                                # numpy array\n",
    "    \n",
    "    # Loop through the gridded_radar times, perform advection correction/interpolation between successive times\n",
    "    # and add each to the list, making sure the time coordinate is consistent\n",
    "    # new_time = tbgn\n",
    "    for i, tdiff in enumerate(tdiffs.values):\n",
    "        gridded_radar_interp_sublist = advection_correction_ds(gridded_radar.isel(time=slice(i, i+2)), \n",
    "                                                               tdiff, tinterp_intv, \n",
    "                                                               base_field_name=base_field_name)\n",
    "        for t, gridded_radar_interp in enumerate(gridded_radar_interp_sublist):\n",
    "#             new_time = new_time + tinterp_intv\n",
    "#             new_ds = first_time_ds.copy()\n",
    "#             new_ds[:] = gridded_radar_interp\n",
    "#             new_ds.coords['time'] = new_ds['time'] + np.timedelta64(int(new_time), 's')\n",
    "#             new_ds.coords['time_seconds'] = new_time\n",
    "            gridded_radar_interp_list.append(gridded_radar_interp)\n",
    "    \n",
    "    return gridded_radar_interp_list\n",
    "\n",
    "\n",
    "def advection_correction_ds(radar_ds, tintv_obs, tintv, base_field_name='reflectivity_masked', method=\"LK\"):\n",
    "    # Evaluate advection\n",
    "    oflow_method = motion.get_method(method)\n",
    "    fd_kwargs = {\"buffer_mask\": 10}  # avoid edge effects\n",
    "\n",
    "    base_field = radar_ds[base_field_name]\n",
    "    oflow_field = oflow_method(base_field, fd_kwargs=fd_kwargs)\n",
    "    \n",
    "    # Perform temporal interpolation on all variables in Dataset using the flow field derived from the \"base\"\n",
    "    # field (by default, reflectivity)\n",
    "    \n",
    "    tbgn = base_field[0].coords['time_seconds'].values.item()   # Need to get scalar value, not 0-d\n",
    "                                                                # numpy array\n",
    "    print(tbgn)\n",
    "    print(tintv)\n",
    "    radar_ds_list = []\n",
    "    x, y = np.meshgrid(\n",
    "        np.arange(base_field[0].shape[1], dtype=float), np.arange(base_field[0].shape[0], dtype=float),\n",
    "    )\n",
    "    \n",
    "    new_time = tbgn\n",
    "    for i in np.arange(tintv, tintv_obs + tintv, tintv):\n",
    "\n",
    "        new_time = new_time + tintv\n",
    "        \n",
    "        pos1 = (y - i / tintv_obs * oflow_field[1], x - i / tintv_obs * oflow_field[0])\n",
    "        pos2 = (y + (tintv_obs - i) / tintv_obs * oflow_field[1], \n",
    "                x + (tintv_obs - i) / tintv_obs * oflow_field[0])\n",
    "        \n",
    "        field_interp_list = []\n",
    "        for field_name, field_da in radar_ds.items():\n",
    "            fieldt1 = map_coordinates(field_da[0], pos1, order=1)\n",
    "            fieldt2 = map_coordinates(field_da[1], pos2, order=1)\n",
    "       \n",
    "            field_interp = field_da.isel(time=[0]).copy()\n",
    "            field_interp[:] = ((tintv_obs - i) * fieldt1 + i * fieldt2) / tintv_obs\n",
    "            try:\n",
    "                field_interp.coords['time'] = field_interp['time'] + np.timedelta64(int(new_time - tbgn), 's')\n",
    "            except TypeError:\n",
    "                field_interp.coords['time'] = field_interp['time'] + timedelta(seconds=int(new_time - tbgn))\n",
    "            field_interp.coords['time_seconds'] = new_time\n",
    "            field_interp_list.append(field_interp)\n",
    "        \n",
    "        radar_ds_interp = xr.merge(field_interp_list)\n",
    "        radar_ds_list.append(radar_ds_interp)\n",
    "        \n",
    "    return radar_ds_list\n",
    "\n",
    "\n",
    "def advection_correction(arr, tintv_obs, tintv):\n",
    "    \"\"\"\n",
    "    R = np.array([qpe_previous, qpe_current])\n",
    "    T = time between two observations (5 min)\n",
    "    t = interpolation timestep (1 min)\n",
    "    \"\"\"\n",
    "\n",
    "    # Evaluate advection\n",
    "    oflow_method = motion.get_method(\"LK\")\n",
    "    fd_kwargs = {\"buffer_mask\": 10}  # avoid edge effects\n",
    "    V = oflow_method(arr, fd_kwargs=fd_kwargs)\n",
    "\n",
    "    # Perform temporal interpolation\n",
    "    # arr_d = np.zeros((arr[0].shape))\n",
    "    arr_list = []\n",
    "    x, y = np.meshgrid(\n",
    "        np.arange(arr[0].shape[1], dtype=float), np.arange(arr[0].shape[0], dtype=float),\n",
    "    )\n",
    "    for i in np.arange(tintv, tintv_obs + tintv, tintv):\n",
    "\n",
    "        pos1 = (y - i / tintv_obs * V[1], x - i / tintv_obs * V[0])\n",
    "        R1 = map_coordinates(arr[0], pos1, order=1)\n",
    "        \n",
    "        pos2 = (y + (tintv_obs - i) / tintv_obs * V[1], x + (tintv_obs - i) / tintv_obs * V[0])\n",
    "        R2 = map_coordinates(arr[1], pos2, order=1)\n",
    "\n",
    "        arr_interp = ((tintv_obs - i) * R1 + i * R2) / tintv_obs\n",
    "        arr_list.append(arr_interp)\n",
    "\n",
    "    return arr_list"
   ]
  },
  {
   "cell_type": "code",
   "execution_count": null,
   "metadata": {
    "ExecuteTime": {
     "end_time": "2021-04-20T16:04:06.679833Z",
     "start_time": "2021-04-20T16:04:06.542767Z"
    }
   },
   "outputs": [],
   "source": [
    "# Read in the gridded radar data\n",
    "\n",
    "# For 04/30 case\n",
    "# radar_name = 'KHTX'\n",
    "# radar_type= 'NEXRAD'\n",
    "# date = '0430'\n",
    "# radar_start_datetimestamp = '20170430190000'\n",
    "# radar_end_datetimestamp = '20170430235959'\n",
    "\n",
    "# For 03/27 case\n",
    "# radar_name = 'KGWX'\n",
    "# radar_type= 'NEXRAD'\n",
    "# date = '0327'\n",
    "# radar_start_datetimestamp = '20170327190000'\n",
    "# radar_end_datetimestamp = '20170327220000'\n",
    "\n",
    "# For 03/27 case (deployment 2)\n",
    "radar_name = 'KGWX'\n",
    "radar_type= 'NEXRAD'\n",
    "date = '0328'\n",
    "radar_start_datetimestamp = '20170328000000'\n",
    "radar_end_datetimestamp = '20170328040000'\n",
    "\n",
    "# Create datetime objects for start and end times\n",
    "datetime_start = datetime.strptime(radar_start_datetimestamp, '%Y%m%d%H%M%S')\n",
    "datetime_end = datetime.strptime(radar_end_datetimestamp, '%Y%m%d%H%M%S')\n",
    "\n",
    "radar_basedir = \\\n",
    "    '/Users/dawson29/sshfs_mounts/depot/data/Projects/VORTEXSE/obsdata/2017/NEXRAD/IOP_1B'\n",
    "# FIXME: need to standardize naming of radar data directories\n",
    "# radar_basedir = os.path.join(radar_basedir, '{}/{}'.format(date, radar_name[1:]))\n",
    "# DTD: I did this because I couldn't write back to the \"gridded_new\" directory. So I just made it so that\n",
    "# I could make a new output directory but still able to read from the \"gridded_new\" one. You can just set\n",
    "# \"gridded_radar_output_dir\" to the same as \"gridded_radar_dir\" and it should be fine\n",
    "gridded_radar_dir = os.path.join(radar_basedir, 'gridded_new')\n",
    "gridded_radar_output_dir = os.path.join(radar_basedir, 'gridded_dtd_040721')\n",
    "if not os.path.exists(gridded_radar_output_dir):\n",
    "    os.makedirs(gridded_radar_output_dir)\n",
    "\n",
    "radar_start_timestamp = datetime_start.strftime('%H%M%S')\n",
    "radar_end_timestamp = datetime_end.strftime('%H%M%S')\n",
    "gridded_radar_combined_filename = '{}_{}_{}_gridded.nc'.format(radar_name, radar_start_timestamp,\n",
    "                                                               radar_end_timestamp)\n",
    "\n",
    "gridded_radar_combined_filepath = os.path.join(gridded_radar_dir, gridded_radar_combined_filename)\n",
    "gridded_radar_combined_output_filepath = os.path.join(gridded_radar_output_dir, gridded_radar_combined_filename)\n",
    "if os.path.exists(gridded_radar_combined_output_filepath):\n",
    "    # Read in file since we already dumped it out in a previous run of the notebook\n",
    "    gridded_radar_xr = xr.open_dataset(gridded_radar_combined_output_filepath)\n",
    "else:\n",
    "    # Read in individual gridded radar volumes, stack them into a combined Dataset and dump to disk\n",
    "    # FIXME: the following doesn't work if the deployment straddles 0000 UTC!\n",
    "    gridded_radar_paths = glob.glob(gridded_radar_dir + '/{}2017{}_*V06_gridded.nc'.format(radar_name, date))\n",
    "    gridded_radar_paths = sorted(gridded_radar_paths)\n",
    "    gridded_radar_input_list = []\n",
    "    for path in gridded_radar_paths:\n",
    "        filename = os.path.basename(path)\n",
    "        file_timestamp = filename[4:19]\n",
    "        file_datetime = datetime.strptime(file_timestamp, '%Y%m%d_%H%M%S')\n",
    "        if file_datetime >= datetime_start and file_datetime <= datetime_end:\n",
    "            gridded_radar_input_list.append(path)\n",
    "    gridded_radar_list = []\n",
    "    gridded_radar_xr_list = []\n",
    "    for gridded_radar_path in gridded_radar_input_list:\n",
    "        print(\"Reading {}\".format(os.path.basename(gridded_radar_path)))\n",
    "        gridded_radar = pyart.io.read_grid(gridded_radar_path)\n",
    "        gridded_radar_xr = gridded_radar.to_xarray()\n",
    "        gridded_radar_xr_list.append(gridded_radar_xr)\n",
    "    gridded_radar_xr = xr.concat(gridded_radar_xr_list, dim='time')\n",
    "    print(\"Writing {}\".format(gridded_radar_combined_filename))\n",
    "    gridded_radar_xr.to_netcdf(gridded_radar_combined_output_filepath)\n",
    "\n",
    "print(gridded_radar_xr)"
   ]
  },
  {
   "cell_type": "code",
   "execution_count": null,
   "metadata": {
    "ExecuteTime": {
     "end_time": "2021-04-20T16:04:20.320937Z",
     "start_time": "2021-04-20T16:04:20.245231Z"
    }
   },
   "outputs": [],
   "source": [
    "plot_dir = '/Users/dawson29/Dropbox/Presentations/AMS2021/plots'\n",
    "if not os.path.exists(plot_dir):\n",
    "    os.makedirs(plot_dir)"
   ]
  },
  {
   "cell_type": "code",
   "execution_count": null,
   "metadata": {
    "ExecuteTime": {
     "end_time": "2021-04-20T16:04:24.565308Z",
     "start_time": "2021-04-20T16:04:24.477878Z"
    }
   },
   "outputs": [],
   "source": [
    "# Check to see if masked versions of reflectivity and differential reflectivity exist in the file. \n",
    "# If not, create them here.\n",
    "ZH_thresh = 5.\n",
    "ZDR_thresh = 0.1\n",
    "\n",
    "print(\"Z and ZDR thresholds are {:f} and {:f}\".format(ZH_thresh, ZDR_thresh))\n",
    "\n",
    "if 'reflectivity_masked' not in gridded_radar_xr:\n",
    "    print(\"Masking Z and ZDR on thresholds of {:f} and {:f}\".format(ZH_thresh, ZDR_thresh))\n",
    "    ZH_mask = np.where(gridded_radar_xr['reflectivity'] < ZH_thresh, True, False)\n",
    "    ZH_mask = np.where(np.isfinite(gridded_radar_xr['reflectivity']), ZH_mask, False)\n",
    "    ZDR_mask = np.where(gridded_radar_xr['differential_reflectivity'] < ZDR_thresh, True, False)\n",
    "    ZDR_mask = np.where(np.isfinite(gridded_radar_xr['differential_reflectivity']), ZDR_mask, False)\n",
    "    full_mask = np.ma.mask_or(ZH_mask, ZDR_mask)\n",
    "\n",
    "    gridded_radar_xr['reflectivity_masked'] = gridded_radar_xr['reflectivity'].where(~full_mask)\n",
    "    gridded_radar_xr['differential_reflectivity_masked'] = \\\n",
    "        gridded_radar_xr['differential_reflectivity'].where(~full_mask)\n",
    "    print(\"Writing {}\".format(gridded_radar_combined_filename))\n",
    "    gridded_radar_xr.to_netcdf(gridded_radar_combined_output_filepath)\n",
    "print(gridded_radar_xr)"
   ]
  },
  {
   "cell_type": "code",
   "execution_count": null,
   "metadata": {
    "ExecuteTime": {
     "end_time": "2021-04-20T16:04:33.872643Z",
     "start_time": "2021-04-20T16:04:33.125426Z"
    }
   },
   "outputs": [],
   "source": [
    "# Read in PIPS data (just to get lat/lon for now)\n",
    "deployment = 'IOP1B_D2_2017'\n",
    "PIPS_list = ['PIPS1A', 'PIPS1B', 'PIPS2B']\n",
    "PIPS_data_dir = '/Volumes/scr_fast/Projects/VORTEXSE/obsdata/full_PIPS_dataset_RB15/'\n",
    "\n",
    "PIPS_locs = []\n",
    "\n",
    "for PIPS in PIPS_list:\n",
    "    PIPS_filename = 'parsivel_combined_{}_{}_60s.nc'.format(deployment, PIPS)\n",
    "    PIPS_filepath = os.path.join(PIPS_data_dir, PIPS_filename)\n",
    "    PIPS_ds = xr.load_dataset(PIPS_filepath)\n",
    "    PIPS_loc = eval(PIPS_ds.location)\n",
    "    PIPS_locs.append(PIPS_loc)"
   ]
  },
  {
   "cell_type": "code",
   "execution_count": null,
   "metadata": {
    "ExecuteTime": {
     "end_time": "2021-04-20T16:04:53.934821Z",
     "start_time": "2021-04-20T16:04:53.813514Z"
    },
    "scrolled": true
   },
   "outputs": [],
   "source": [
    "datetime_substart = datetime_start\n",
    "datetime_subend = datetime_end\n",
    "timestamp_substart = datetime_substart.strftime('%Y-%m-%dT%H:%M')\n",
    "timestamp_subend = datetime_subend.strftime('%Y-%m-%dT%H:%M')\n",
    "\n",
    "gridded_radar_xr_subset = gridded_radar_xr.sel(time=slice(timestamp_substart, timestamp_subend))\n",
    "print(gridded_radar_xr_subset['time'])\n",
    "\n",
    "# Round times to nearest minute\n",
    "rounded_times = gridded_radar_xr_subset['time'].dt.round('60S')\n",
    "print(rounded_times)\n",
    "gridded_radar_xr_subset['time'] = rounded_times\n",
    "\n",
    "time_seconds = (gridded_radar_xr_subset['time'] - gridded_radar_xr_subset['time'][0]) / np.timedelta64(1, 's')\n",
    "print(time_seconds)\n",
    "gridded_radar_xr_subset.coords['time_seconds'] = ('time', time_seconds)\n",
    "print(gridded_radar_xr_subset)\n",
    "# total_seconds = (gridded_radar_xr_subset['time'] - gridded_radar_xr_subset['time'][0]).total_seconds()"
   ]
  },
  {
   "cell_type": "code",
   "execution_count": null,
   "metadata": {
    "ExecuteTime": {
     "end_time": "2021-04-20T16:04:57.552054Z",
     "start_time": "2021-04-20T16:04:57.468884Z"
    }
   },
   "outputs": [],
   "source": [
    "# Extract one level from the gridded radar Dataset\n",
    "height = 1000.\n",
    "gridded_radar_xr_subset_onelevel = gridded_radar_xr_subset.sel(z=height).squeeze()\n",
    "gridded_radar_xr_subset_onelevel = gridded_radar_xr_subset_onelevel.transpose(\"time\", \"y\", \"x\")"
   ]
  },
  {
   "cell_type": "code",
   "execution_count": null,
   "metadata": {
    "ExecuteTime": {
     "end_time": "2021-04-20T16:05:00.637492Z",
     "start_time": "2021-04-20T16:04:58.472746Z"
    }
   },
   "outputs": [],
   "source": [
    "# Use pysteps for advection correction and temporal interpolation\n",
    "from pysteps import io, motion, rcparams\n",
    "from scipy.ndimage import map_coordinates\n",
    "\n",
    "oflow_method = motion.get_method(\"LK\")\n",
    "fd_kwargs = {\"buffer_mask\": 10} # avoid edge effects\n",
    "\n",
    "# Plot example of optical flow field\n",
    "dBZ = gridded_radar_xr_subset_onelevel['reflectivity_masked']\n",
    "# print(dBZ[0])\n",
    "velocity_field = oflow_method(dBZ[11:13], fd_kwargs=fd_kwargs)\n",
    "\n",
    "qintv = 10\n",
    "xplt = gridded_radar_xr_subset_onelevel['x']\n",
    "yplt = gridded_radar_xr_subset_onelevel['y']\n",
    "uplt = velocity_field[0]\n",
    "vplt = velocity_field[1]\n",
    "print(velocity_field.shape)\n",
    "fig, ax = plt.subplots(figsize=(8, 8))\n",
    "clevels = np.arange(0., 61., 1.)\n",
    "dBZ = ax.contourf(xplt, yplt, dBZ[11], clevels=clevels, cmap='pyart_HomeyerRainbow')\n",
    "ax.quiver(xplt[::qintv], yplt[::qintv], uplt[::qintv,::qintv], vplt[::qintv,::qintv])\n",
    "cbarintv = 5.\n",
    "cbarlevels = ticker.MultipleLocator(base=cbarintv)\n",
    "divider = make_axes_locatable(ax)\n",
    "cax = divider.append_axes(\"right\", size=\"5%\", pad=0.05)\n",
    "fig.colorbar(dBZ, orientation='vertical', ticks=cbarlevels, cax=cax)\n",
    "cax.set_ylabel('dBZ')\n",
    "formatter = ticker.FuncFormatter(mtokm)\n",
    "ax.xaxis.set_major_formatter(formatter)\n",
    "ax.yaxis.set_major_formatter(formatter)\n",
    "# ax.xaxis.set_major_locator(ticker.MultipleLocator(base=axestickintv))\n",
    "# ax.yaxis.set_major_locator(ticker.MultipleLocator(base=axestickintv))\n",
    "ax.set_xlabel('km')\n",
    "ax.set_ylabel('km')\n",
    "ax.set_aspect('equal')\n",
    "\n",
    "plot_filename='pysteps_adv_correction_example.png'\n",
    "plot_filepath = os.path.join(plot_dir, plot_filename)\n",
    "fig.savefig(plot_filepath, dpi=300, bbox_inches='tight')\n",
    "\n",
    "print(uplt.mean(), vplt.mean())"
   ]
  },
  {
   "cell_type": "code",
   "execution_count": null,
   "metadata": {
    "ExecuteTime": {
     "end_time": "2021-04-20T16:05:29.784067Z",
     "start_time": "2021-04-20T16:05:08.183580Z"
    },
    "scrolled": true
   },
   "outputs": [],
   "source": [
    "# Perform advection correction and interpolate gridded radar sequence to 1-min intervals\n",
    "# Just do Z and ZDR\n",
    "\n",
    "gridded_Z_ZDR = gridded_radar_xr_subset_onelevel[['reflectivity_masked', 'differential_reflectivity_masked']]\n",
    "tinterp_intv = 60.\n",
    "\n",
    "print(gridded_Z_ZDR)\n",
    "\n",
    "# print(gridded_Z_ZDR.isel(time=[0]))\n",
    "\n",
    "# for varname, var in gridded_Z_ZDR.items():\n",
    "#     print(varname)\n",
    "#     print(var[1])\n",
    "\n",
    "gridded_Z_ZDR_interp_list = interpolate_all(gridded_Z_ZDR, tinterp_intv, \n",
    "                                            base_field_name='reflectivity_masked')\n"
   ]
  },
  {
   "cell_type": "code",
   "execution_count": null,
   "metadata": {
    "ExecuteTime": {
     "end_time": "2021-04-20T16:05:34.016323Z",
     "start_time": "2021-04-20T16:05:33.537463Z"
    }
   },
   "outputs": [],
   "source": [
    "gridded_Z_ZDR_interp_ds = xr.concat(gridded_Z_ZDR_interp_list, 'time')\n",
    "print(gridded_Z_ZDR_interp_ds)"
   ]
  },
  {
   "cell_type": "code",
   "execution_count": null,
   "metadata": {
    "ExecuteTime": {
     "end_time": "2021-04-20T16:05:38.105982Z",
     "start_time": "2021-04-20T16:05:38.021051Z"
    }
   },
   "outputs": [],
   "source": [
    "# Apply retrieval to get N0, alpha, and lamda\n",
    "# at 1-min intervals."
   ]
  },
  {
   "cell_type": "code",
   "execution_count": null,
   "metadata": {
    "ExecuteTime": {
     "end_time": "2021-04-20T16:05:56.968325Z",
     "start_time": "2021-04-20T16:05:56.094037Z"
    }
   },
   "outputs": [],
   "source": [
    "# Set retrieval lookup table to use\n",
    "retrieval_tag = 'Z01'\n",
    "lookup_dir = os.path.join('/Users/dawson29/Projects/pyPIPS/data/lookups/', retrieval_tag)\n",
    "\n",
    "# Retrieve gamma DSD parameters from ZH and ZDR\n",
    "print(\"Getting ZH and ZDR fields\")\n",
    "# Get the ZH and ZDR fields from the xarray Dataset\n",
    "ZH_rad = gridded_Z_ZDR_interp_ds['reflectivity_masked']\n",
    "ZDR_rad = gridded_Z_ZDR_interp_ds['differential_reflectivity_masked']\n",
    "\n",
    "# Read in first lookup table to get the interval between reflectivity and ZDR\n",
    "lookup_path = os.path.join(lookup_dir, 'D0.csv')\n",
    "retr_table = pd.read_csv(lookup_path, sep=',', header=0, index_col='dBZ')\n",
    "# Massage the index and column labels to get rid of extraneous zeros\n",
    "# Also convert column labels from strings to floats\n",
    "retr_table.index = retr_table.index.to_series().apply(np.around, decimals=4)\n",
    "retr_table.columns = [np.around(np.float(col), decimals=4) for col in retr_table.columns]\n",
    "\n",
    "dBZ_lookup_min = retr_table.index[0]\n",
    "dBZ_lookup_max = retr_table.index[-1]\n",
    "ZDR_lookup_min = retr_table.columns[0]\n",
    "ZDR_lookup_max = retr_table.columns[-1]\n",
    "dBZ_intv = retr_table.index[1] - retr_table.index[0]\n",
    "ZDR_intv = float(retr_table.columns[1]) - float(retr_table.columns[0])\n",
    "\n",
    "# Replace masked entries in ZH_rad and ZDR_rad with the minimum value of the lookup table\n",
    "ZH_mask = ZH_rad.isnull()\n",
    "ZDR_mask = ZDR_rad.isnull()\n",
    "full_mask = xr.where(ZH_mask | ZDR_mask, True, False)\n",
    "ZH_rad = ZH_rad.fillna(dBZ_lookup_min)\n",
    "ZDR_rad = ZDR_rad.fillna(ZDR_lookup_min)\n",
    "# Now limit values to within lookup table limits\n",
    "ZH_rad = ZH_rad.where(ZH_rad > dBZ_lookup_min, dBZ_lookup_min)\n",
    "ZH_rad = ZH_rad.where(ZH_rad < dBZ_lookup_max, dBZ_lookup_max)\n",
    "ZDR_rad = ZDR_rad.where(ZDR_rad > ZDR_lookup_min, ZDR_lookup_min)\n",
    "ZDR_rad = ZDR_rad.where(ZDR_rad < ZDR_lookup_max, ZDR_lookup_max)\n",
    "# Round ZH and ZDR fields to the nearest interval\n",
    "ZH_round = roundPartial(ZH_rad, dBZ_intv)\n",
    "ZDR_round = roundPartial(ZDR_rad, ZDR_intv)\n",
    "# Get the shape of the arrays for later, so we can reshape the flattened arrays of retrieved\n",
    "# values\n",
    "ZH_shape = ZH_round.shape\n",
    "print(ZH_shape)\n",
    "ZH_flat = ZH_round.values.flatten()\n",
    "ZDR_flat = ZDR_round.values.flatten()\n",
    "print(ZH_flat.max())\n",
    "print(ZDR_flat.max())"
   ]
  },
  {
   "cell_type": "code",
   "execution_count": null,
   "metadata": {
    "ExecuteTime": {
     "end_time": "2021-04-20T16:08:25.331784Z",
     "start_time": "2021-04-20T16:06:07.330680Z"
    },
    "scrolled": true
   },
   "outputs": [],
   "source": [
    "retr_var_da_dict = {}\n",
    "for retr_varname in radar.retrieval_metadata.keys():\n",
    "    print(\"Retrieving {} using lookup tables\".format(retr_varname))\n",
    "    lookup_path = os.path.join(lookup_dir, '{}.csv'.format(retr_varname))\n",
    "    retr_table = pd.read_csv(lookup_path, sep=',', header=0, index_col='dBZ')\n",
    "    # Round the indices and columns of the DataFrame (i.e. the dBZ values) to some sane\n",
    "    # number of decimal places to facilitate using it as a lookup table. The floating point\n",
    "    # precision gets in the way sometimes here. For example 56.4 is dumped out as\n",
    "    # 56.4<some bunch of zeros>1\n",
    "    retr_table.index = retr_table.index.to_series().apply(np.around, decimals=4)\n",
    "    retr_table.columns = [np.around(np.float(col), decimals=4) for col in\n",
    "                          retr_table.columns]\n",
    "    # Gah, for some reason DataFrame.lookup sometimes barfs on perfectly good floating point\n",
    "    # values in columns, so convert them back to strings here. :rolleyes:\n",
    "    # EDIT 11/09/2020: Now this is happening for the rows as well. Not sure why... So change the row labels\n",
    "    # to strings as well.\n",
    "    retr_table.index = [str(row) for row in retr_table.index]\n",
    "    retr_table.columns = [str(col) for col in retr_table.columns]\n",
    "    # print(list(retr_table.index))\n",
    "    # print(list(retr_table.columns))\n",
    "    # Ok, now retrieve the desired retrieval variable\n",
    "    # for each ZH/ZDR pair in the flattened radar sweep\n",
    "#     for ZH, ZDR in zip(ZH_flat, ZDR_flat):\n",
    "#         print(ZH, ZDR)\n",
    "#         retr_val = retr_table.lookup([ZH.astype('str')], [ZDR.astype('str')])\n",
    "    retr_vals = retr_table.lookup(ZH_flat.astype('str'), ZDR_flat.astype('str'))\n",
    "    # retr_vals = retr_table.lookup(ZH_flat, ZDR_flat)\n",
    "    # Reshape back to original shape\n",
    "    retr_vals_data = retr_vals.reshape(ZH_shape)\n",
    "    retr_vals_data = np.where(full_mask, np.nan, retr_vals_data)\n",
    "    # retr_vals_data = np.ma.masked_array(retr_vals_data, mask=full_mask)\n",
    "    retr_var_da = ZH_rad.copy()\n",
    "    retr_var_da.name = retr_varname\n",
    "    retr_var_da[:] = retr_vals_data\n",
    "    retr_var_da_dict[retr_varname] = retr_var_da"
   ]
  },
  {
   "cell_type": "code",
   "execution_count": null,
   "metadata": {
    "ExecuteTime": {
     "end_time": "2021-04-20T16:08:56.894348Z",
     "start_time": "2021-04-20T16:08:56.767490Z"
    }
   },
   "outputs": [],
   "source": [
    "# Combine retrieved fields and Z and ZDR fields into a single Dataset\n",
    "gridded_radar_interp_ds = gridded_Z_ZDR_interp_ds.copy()\n",
    "for varname, var_da in retr_var_da_dict.items():\n",
    "    gridded_radar_interp_ds[varname] = var_da\n",
    "    \n",
    "print(gridded_radar_interp_ds)"
   ]
  },
  {
   "cell_type": "code",
   "execution_count": null,
   "metadata": {
    "ExecuteTime": {
     "end_time": "2021-04-20T16:09:11.265793Z",
     "start_time": "2021-04-20T16:09:00.621633Z"
    }
   },
   "outputs": [],
   "source": [
    "# Save interpolated grid to file\n",
    "out_start_timestamp = datetime_substart.strftime('%Y%m%d%H%M')\n",
    "out_end_timestamp = datetime_subend.strftime('%Y%m%d%H%M')\n",
    "gridded_radar_interp_filename = '{}_{}_{}_z{:d}_gridded_interp.nc'.format(radar_name, out_start_timestamp,\n",
    "                                                                          out_end_timestamp, int(height))\n",
    "gridded_radar_interp_filepath = os.path.join(gridded_radar_output_dir, gridded_radar_interp_filename)\n",
    "gridded_radar_interp_ds.to_netcdf(gridded_radar_interp_filepath)"
   ]
  },
  {
   "cell_type": "code",
   "execution_count": null,
   "metadata": {
    "ExecuteTime": {
     "end_time": "2021-04-20T16:09:21.725722Z",
     "start_time": "2021-04-20T16:09:17.653617Z"
    }
   },
   "outputs": [],
   "source": [
    "# Find PIPS x, y location by interpolating to its lat/lon point\n",
    "gridded_radar_interp_latlon_ds = gridded_radar_interp_ds.swap_dims({'x': 'lon', 'y': 'lat'})\n",
    "\n",
    "radar_at_PIPS_list = []\n",
    "PIPS_xy_list = []\n",
    "\n",
    "for PIPS_loc in PIPS_locs:\n",
    "    PIPS_lat = PIPS_loc[0]\n",
    "    PIPS_lon = PIPS_loc[1]\n",
    "    radar_at_PIPS_da = gridded_radar_interp_latlon_ds.interp(lat=PIPS_lat, lon=PIPS_lon)\n",
    "    print(PIPS_lat, PIPS_lon)\n",
    "    PIPS_x = radar_at_PIPS_da['x'].values.item()\n",
    "    PIPS_y = radar_at_PIPS_da['y'].values.item()\n",
    "    PIPS_xy = (PIPS_x, PIPS_y)\n",
    "    PIPS_xy_list.append(PIPS_xy)\n",
    "    print(PIPS_x, PIPS_y)\n",
    "    radar_at_PIPS_list.append(radar_at_PIPS_da)\n"
   ]
  },
  {
   "cell_type": "code",
   "execution_count": null,
   "metadata": {
    "ExecuteTime": {
     "end_time": "2021-04-20T16:09:28.848322Z",
     "start_time": "2021-04-20T16:09:28.476400Z"
    }
   },
   "outputs": [],
   "source": [
    "# Just some plotting stuff below here\n",
    "\n",
    "radar_at_PIPS_list[2]['reflectivity_masked'].plot()"
   ]
  },
  {
   "cell_type": "code",
   "execution_count": null,
   "metadata": {
    "ExecuteTime": {
     "end_time": "2021-04-20T16:10:07.319271Z",
     "start_time": "2021-04-20T16:09:31.443714Z"
    }
   },
   "outputs": [],
   "source": [
    "# Plot reflectivity for time-interpolated grid\n",
    "# Choose a subset of times to keep animation size down\n",
    "anim_start = '2017-03-28T02:00'\n",
    "anim_end = '2017-03-28T03:00'\n",
    "\n",
    "var_da = gridded_radar_interp_ds['reflectivity_masked'].sel(time=slice(anim_start, anim_end))\n",
    "\n",
    "clevels =np.arange(0., 66., 1.)\n",
    "norm = cm.colors.Normalize(vmin=0., vmax=65.)\n",
    "\n",
    "import matplotlib.animation as animation\n",
    "fig, ax = plt.subplots(figsize=(8, 8))\n",
    "\n",
    "ims = []\n",
    "for i, var in enumerate(var_da):\n",
    "    time = var.coords['time_seconds'].values.item()\n",
    "    ci = ax.contourf(xplt, yplt, var.squeeze(), levels=clevels, \n",
    "                     cmap='pyart_HomeyerRainbow', norm=norm)\n",
    "    # Plot PIPS location\n",
    "    for PIPS, PIPS_xy in zip(PIPS_list, PIPS_xy_list):\n",
    "        PIPS_x = PIPS_xy[0]\n",
    "        PIPS_y = PIPS_xy[1]\n",
    "        ax.plot([PIPS_x], [PIPS_y], 'k*')\n",
    "    if i == 0.:\n",
    "        fig.colorbar(ci, ax=ax)\n",
    "        ax.set_aspect('equal')\n",
    "    ims.append(ci.collections)\n",
    "    \n",
    "ani = animation.ArtistAnimation(fig, ims, interval=50, blit=True,\n",
    "                                repeat_delay=1000)\n",
    "plt.close()\n",
    "HTML(ani.to_jshtml())"
   ]
  },
  {
   "cell_type": "code",
   "execution_count": null,
   "metadata": {
    "ExecuteTime": {
     "end_time": "2020-12-16T20:03:45.542364Z",
     "start_time": "2020-12-16T20:03:25.988717Z"
    }
   },
   "outputs": [],
   "source": [
    "print(retr_var_da_dict.keys())\n",
    "\n",
    "D0_da = retr_var_da_dict['D0']\n",
    "\n",
    "clevels =np.arange(0., 6., 0.1)\n",
    "norm = cm.colors.Normalize(vmin=0., vmax=6.)\n",
    "\n",
    "import matplotlib.animation as animation\n",
    "fig, ax = plt.subplots(figsize=(8, 8))\n",
    "\n",
    "ims = []\n",
    "for i, var in enumerate(D0_da):\n",
    "    time = var.coords['time_seconds'].values.item()\n",
    "    ci = ax.contourf(xplt, yplt, var.squeeze(), \n",
    "                     levels=clevels, \n",
    "                     cmap='pyart_HomeyerRainbow', norm=norm)\n",
    "    if i == 0.:\n",
    "        fig.colorbar(ci, ax=ax)\n",
    "        ax.set_aspect('equal')\n",
    "    ims.append(ci.collections)\n",
    "    \n",
    "ani = animation.ArtistAnimation(fig, ims, interval=50, blit=True,\n",
    "                                repeat_delay=1000)\n",
    "\n",
    "plt.close()\n",
    "HTML(ani.to_jshtml())\n",
    "# plt.show()"
   ]
  },
  {
   "cell_type": "code",
   "execution_count": null,
   "metadata": {
    "ExecuteTime": {
     "end_time": "2020-12-16T20:04:44.070644Z",
     "start_time": "2020-12-16T20:04:29.212683Z"
    }
   },
   "outputs": [],
   "source": [
    "from IPython.display import HTML\n",
    "\n",
    "var_da = retr_var_da_dict['mu']\n",
    "\n",
    "clevels =np.arange(0., 30., 1.)\n",
    "norm = cm.colors.Normalize(vmin=0., vmax=30.)\n",
    "\n",
    "import matplotlib.animation as animation\n",
    "fig, ax = plt.subplots(figsize=(10, 10))\n",
    "\n",
    "ims = []\n",
    "for i, var in enumerate(var_da):\n",
    "    time = var.coords['time_seconds'].values.item()\n",
    "    ci = ax.contourf(xplt, yplt, var.squeeze(), \n",
    "                     levels=clevels, \n",
    "                     cmap='pyart_HomeyerRainbow', norm=norm)\n",
    "    if i == 0.:\n",
    "        fig.colorbar(ci, ax=ax)\n",
    "        ax.set_aspect('equal')\n",
    "    ims.append(ci.collections)\n",
    "    \n",
    "ani = animation.ArtistAnimation(fig, ims, interval=50, blit=True,\n",
    "                                repeat_delay=1000)\n",
    "\n",
    "plt.close()\n",
    "HTML(ani.to_jshtml())\n",
    "# plt.show()"
   ]
  },
  {
   "cell_type": "code",
   "execution_count": null,
   "metadata": {},
   "outputs": [],
   "source": []
  }
 ],
 "metadata": {
  "hide_input": false,
  "kernelspec": {
   "display_name": "Python 3.7.3 64-bit ('pyPIPS': conda)",
   "language": "python",
   "name": "python37364bitpypipscondaea8788f6419a4a34be329df7b3b7ce88"
  },
  "language_info": {
   "codemirror_mode": {
    "name": "ipython",
    "version": 3
   },
   "file_extension": ".py",
   "mimetype": "text/x-python",
   "name": "python",
   "nbconvert_exporter": "python",
   "pygments_lexer": "ipython3",
   "version": "3.7.10"
  },
  "toc": {
   "base_numbering": 1,
   "nav_menu": {},
   "number_sections": true,
   "sideBar": true,
   "skip_h1_title": false,
   "title_cell": "Table of Contents",
   "title_sidebar": "Contents",
   "toc_cell": false,
   "toc_position": {},
   "toc_section_display": true,
   "toc_window_display": false
  },
  "varInspector": {
   "cols": {
    "lenName": 16,
    "lenType": 16,
    "lenVar": 40
   },
   "kernels_config": {
    "python": {
     "delete_cmd_postfix": "",
     "delete_cmd_prefix": "del ",
     "library": "var_list.py",
     "varRefreshCmd": "print(var_dic_list())"
    },
    "r": {
     "delete_cmd_postfix": ") ",
     "delete_cmd_prefix": "rm(",
     "library": "var_list.r",
     "varRefreshCmd": "cat(var_dic_list()) "
    }
   },
   "types_to_exclude": [
    "module",
    "function",
    "builtin_function_or_method",
    "instance",
    "_Feature"
   ],
   "window_display": false
  }
 },
 "nbformat": 4,
 "nbformat_minor": 4
}
