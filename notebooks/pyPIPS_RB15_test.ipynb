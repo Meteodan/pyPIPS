{
 "cells": [
  {
   "cell_type": "markdown",
   "metadata": {},
   "source": [
    "# A testing ground for pyPIPS functionality"
   ]
  },
  {
   "cell_type": "code",
   "execution_count": null,
   "metadata": {
    "ExecuteTime": {
     "end_time": "2020-06-26T21:54:02.775369Z",
     "start_time": "2020-06-26T21:53:59.682962Z"
    }
   },
   "outputs": [],
   "source": [
    "%load_ext autoreload\n",
    "%autoreload 2\n",
    "import numpy as np\n",
    "import numpy.ma as ma\n",
    "import matplotlib\n",
    "import matplotlib.pyplot as plt\n",
    "import matplotlib.cm as cm\n",
    "import matplotlib.ticker as ticker\n",
    "import matplotlib.dates as dates\n",
    "from mpl_toolkits.axes_grid1 import ImageGrid,make_axes_locatable,host_subplot\n",
    "#from mpl_toolkits.basemap import Basemap\n",
    "from datetime import datetime, timedelta\n",
    "import sys\n",
    "import os\n",
    "import pyPIPS.utils as utils\n",
    "import pyPIPS.thermolib as thermo\n",
    "import pyPIPS.DSDlib as dsd\n",
    "#import pyPIPS.disdrometer_module as dis\n",
    "import pyPIPS.plotmodule as PIPSplot\n",
    "#import pyPIPS.simulator as sim\n",
    "import pyPIPS.pips_io as pipsio\n",
    "import pyPIPS.PIPS as pips\n",
    "import pyPIPS.parsivel_params as pp\n",
    "import pyPIPS.parsivel_qc as pqc\n",
    "import pyPIPS.polarimetric as dualpol\n",
    "#from pyCRMtools.modules import plotmodule as plotmod\n",
    "from pyCRMtools.modules import utils as CRMutils\n",
    "from pyCRMtools.pycaps import arps_read\n",
    "from pyCRMtools.pycaps import pycaps_fields\n",
    "from pyCRMtools.pycaps import calvars_radar as radar\n",
    "import pandas as pd\n",
    "import xarray as xr\n",
    "import glob\n",
    "import numpy.random as random\n",
    "from scipy.stats import gamma, uniform\n",
    "from scipy.special import gamma as gammafunc\n",
    "from scipy import ndimage\n",
    "from metpy.plots import StationPlot\n",
    "from metpy.calc import wind_components\n",
    "from metpy.cbook import get_test_data\n",
    "from metpy.plots import StationPlot\n",
    "from metpy.plots.wx_symbols import current_weather, sky_cover\n",
    "from metpy.units import units\n",
    "import warnings\n",
    "warnings.simplefilter('ignore')\n",
    "%matplotlib inline"
   ]
  },
  {
   "cell_type": "code",
   "execution_count": null,
   "metadata": {
    "ExecuteTime": {
     "end_time": "2020-06-27T00:44:30.057014Z",
     "start_time": "2020-06-27T00:44:29.947165Z"
    }
   },
   "outputs": [],
   "source": [
    "min_diameter = pp.parsivel_parameters['min_diameter_bins_mm']\n",
    "max_diameter = pp.parsivel_parameters['max_diameter_bins_mm']\n",
    "bin_width = max_diameter - min_diameter\n",
    "avg_diameter = pp.parsivel_parameters['avg_diameter_bins_mm']\n",
    "min_fall_bins = pp.parsivel_parameters['min_fallspeed_bins_mps']\n",
    "max_fall_bins = pp.parsivel_parameters['max_fallspeed_bins_mps']\n",
    "avg_fall_bins = pp.parsivel_parameters['avg_fallspeed_bins_mps']\n",
    "fall_bins_edges = np.append(min_fall_bins, max_fall_bins[-1])\n",
    "\n",
    "\n",
    "def remove_unneeded(ds):\n",
    "    dim_names_to_remove = ['fields_KHTX', 'fields_KGWX', 'fields']\n",
    "    ds = ds.drop_dims(dim_names_to_remove, errors='ignore')\n",
    "    return ds\n",
    "\n",
    "\n",
    "def reindex_velocity_bins(VD_matrix, interval):\n",
    "    # Set up new regularly spaced bin edges\n",
    "    min_fallspeed = VD_matrix.coords['min_fallspeeds'][0]\n",
    "    max_fallspeed = VD_matrix.coords['max_fallspeeds'][-1]\n",
    "    new_vt_bin_edges = np.arange(min_fallspeed, max_fallspeed+interval, interval)\n",
    "    new_min_vt_bins = np.delete(new_vt_bin_edges, -1)\n",
    "    new_max_vt_bins = np.delete(new_vt_bin_edges, 0)\n",
    "    new_center_vt_bins = 0.5 * (new_min_vt_bins + new_max_vt_bins)\n",
    "    # Scale velocity counts by velocity bin width\n",
    "    weights = VD_matrix['max_fallspeeds'] - VD_matrix['min_fallspeeds']\n",
    "    VD_matrix_scaled = VD_matrix / weights\n",
    "    # Set the minimum velocity for each bin as the new index. Needed so that the reindexing will properly\n",
    "    # center the scaled counts in each sub-bin.\n",
    "    VD_matrix_scaled = VD_matrix_scaled.set_index(fallspeed_bin='min_fallspeeds')\n",
    "    # Now re-bin the scaled velocity counts into the new regularly spaced bins\n",
    "    VD_matrix_scaled_rebinned = VD_matrix_scaled.reindex({'fallspeed_bin': new_min_vt_bins}, method='pad')\n",
    "    # Recover original counts. NOTE: in general there may now be fractional counts in the new bins, but the\n",
    "    # total number of drops is preserved by this procedure.\n",
    "    VD_matrix_rebinned = VD_matrix_scaled_rebinned * interval\n",
    "    # Set index back to fallspeed bin centers and add min_fallspeed coordinate back\n",
    "    VD_matrix_rebinned.coords['fallspeed'] = ('fallspeed_bin', new_center_vt_bins)\n",
    "    VD_matrix_rebinned = VD_matrix_rebinned.set_index(fallspeed_bin='fallspeed')\n",
    "    VD_matrix_rebinned.coords['fallspeed'] = ('fallspeed_bin', new_center_vt_bins)\n",
    "    VD_matrix_rebinned.coords['min_fallspeeds'] = ('fallspeed_bin', new_min_vt_bins)\n",
    "    VD_matrix_rebinned.coords['max_fallspeeds'] = ('fallspeed_bin', new_max_vt_bins)\n",
    "    # VD_matrix_rebinned.coords['diameter_bin'] = ('diameter_bin', VD_matrix_rebinned['diameter'])\n",
    "    return VD_matrix_rebinned\n",
    "\n",
    "\n",
    "def calc_mean_velocity(vd_matrix_rebinned):\n",
    "    # Need to iterate across diameter dimension, which is annoying.\n",
    "    mean_vels = []\n",
    "    for vel_da in vd_matrix_rebinned.transpose():\n",
    "        weights = vel_da.fillna(0)\n",
    "        velocities = vel_da.coords['fallspeed']\n",
    "        vel_weighted = velocities.weighted(weights)\n",
    "        mean_vel_d = vel_weighted.mean('fallspeed_bin')\n",
    "        mean_vels.append(mean_vel_d)\n",
    "    mean_vel = xr.concat(mean_vels, dim='diameter_bin')\n",
    "    return mean_vel\n",
    "\n",
    "# TODO: Fix this for multiple times!\n",
    "def shift_mean_velocity(vd_matrix_rebinned, vt_rain):\n",
    "    # We have to iterate over both time and diameter dimensions, because the shift needed is a function of both\n",
    "    vel_interval = vd_matrix_rebinned['fallspeed_bin'][1] - vd_matrix_rebinned['fallspeed_bin'][0].values\n",
    "    # print(vel_interval)\n",
    "    mean_vel = calc_mean_velocity(vd_matrix_rebinned)\n",
    "    time_flag = 'time' in vd_matrix_rebinned.dims\n",
    "    if time_flag:\n",
    "        vt_rain = vt_rain.stack(stack_dim=['time', 'diameter_bin'])\n",
    "        mean_vel = mean_vel.stack(stack_dim=['time', 'diameter_bin'])\n",
    "        vd_matrix_rebinned = vd_matrix_rebinned.stack(stack_dim=['time', 'diameter_bin'])\n",
    "        groupby_dims = 'stack_dim'\n",
    "    else:\n",
    "        groupby_dims = 'diameter_bin'\n",
    "    vt_d_groups = vt_rain.groupby(groupby_dims, squeeze=False)\n",
    "    mean_vel_d_groups = mean_vel.groupby(groupby_dims, squeeze=False)\n",
    "    vel_da_groups = vd_matrix_rebinned.groupby(groupby_dims, squeeze=False)\n",
    "    if time_flag:\n",
    "        vd_matrix_rebinned = vd_matrix_rebinned.unstack('stack_dim')\n",
    "    vel_da_list = []\n",
    "    for vt_l, mean_vel_l, vel_da_l in zip(list(vt_d_groups), list(mean_vel_d_groups), list(vel_da_groups)):\n",
    "        vt_d = vt_l[1]\n",
    "        mean_vel_d = mean_vel_l[1]\n",
    "        vel_da = vel_da_l[1]\n",
    "        vt_diff = vt_d - mean_vel_d\n",
    "        #print(vt_diff)\n",
    "        if np.isfinite(vt_diff.values):\n",
    "            vt_shift = int(vt_diff / vel_interval)\n",
    "        else:\n",
    "            vt_shift = 0\n",
    "        # print(vt_shift)\n",
    "        vel_da = vel_da.shift(fallspeed_bin=vt_shift)\n",
    "        # print(vel_da)\n",
    "        if time_flag:\n",
    "            vel_da = vel_da.unstack('stack_dim')\n",
    "            # print(vel_da)\n",
    "            vd_matrix_rebinned.loc[dict(time=vel_da['time'].values, \n",
    "                                        diameter_bin=vel_da['diameter_bin'].values)] = vel_da\n",
    "        else:\n",
    "            vd_matrix_rebinned.loc[dict(diameter_bin=vel_da['diameter_bin'])] = vel_da\n",
    "    return vd_matrix_rebinned\n",
    "\n",
    "\n",
    "def rebin_to_parsivel(vd_matrix_rebinned):\n",
    "    # Regroup into original fallspeed bins and get the dimension and coordinate names back in order. \n",
    "    # This is rather clunky, but it works\n",
    "    vd_matrix_groups = vd_matrix_rebinned.groupby_bins('fallspeed_bin', fall_bins_edges)\n",
    "    vd_matrix = vd_matrix_groups.sum()\n",
    "    vd_matrix = vd_matrix.swap_dims({'fallspeed_bin_bins': 'fallspeed_bin'})\n",
    "    vd_matrix = vd_matrix.rename({'fallspeed_bin_bins': 'fallspeed_bin'})\n",
    "    vd_matrix = vd_matrix.reindex({'fallspeed_bin': avg_fall_bins})\n",
    "    vd_matrix.coords['min_fallspeeds'] = ('fallspeed_bin', min_fall_bins)\n",
    "    vd_matrix.coords['max_fallspeeds'] = ('fallspeed_bin', max_fall_bins)\n",
    "    vd_matrix.coords['fallspeed'] = ('fallspeed_bin', avg_fall_bins)\n",
    "    # Get the dimensions back into their original order\n",
    "    vd_matrix = vd_matrix.transpose('time', 'fallspeed_bin', 'diameter_bin')\n",
    "    return vd_matrix"
   ]
  },
  {
   "cell_type": "code",
   "execution_count": null,
   "metadata": {
    "ExecuteTime": {
     "end_time": "2020-06-26T21:54:04.526861Z",
     "start_time": "2020-06-26T21:54:04.355955Z"
    },
    "code_folding": [],
    "scrolled": false
   },
   "outputs": [],
   "source": [
    "from natsort import natsorted\n",
    "from pprint import pprint\n",
    "\n",
    "\n",
    "PIPS_dir = '/Volumes/scr_fast/Projects/VORTEXSE/obsdata/full_PIPS_dataset/'\n",
    "parsivel_filename = os.path.join(PIPS_dir, 'parsivel_combined_IOP4B_D1_2016_PIPS1B_60s.nc')\n",
    "#\n",
    "parsivel_ds = xr.load_dataset(parsivel_filename) \n",
    "# parsivel_filenames = glob.glob(PIPS_dir + '/parsivel_combined*60s*nc')\n",
    "# parsivel_ds_read = xr.open_mfdataset(parsivel_filenames, combine='nested', concat_dim=\"time\", \n",
    "#                                      data_vars='minimal', coords='minimal', compat='override', parallel=True)\n",
    "#parsivel_filenames = glob.glob(PIPS_dir + '/parsivel_combined*IOP4B_D1_2016*60s*nc')\n",
    "#parsivel_filenames = natsorted(parsivel_filenames)\n",
    "# total_DSDs = 0\n",
    "# for parsivel_filename in parsivel_filenames:\n",
    "#     parsivel_ds = xr.open_dataset(parsivel_filename)\n",
    "#     vd_matrix_qc = parsivel_ds['VD_matrix_qc']\n",
    "#     pcount2 = vd_matrix_qc.sum(dim=['fallspeed_bin', 'diameter_bin'])\n",
    "#     pcount = parsivel_ds['pcount']\n",
    "#     fig, ax = plt.subplots()\n",
    "#     pcount.plot(ax=ax)\n",
    "#     pcount2.plot(ax=ax)\n",
    "# #     ND = parsivel_ds['ND_qc']\n",
    "# #     ND = ND.where(ND > 0.)\n",
    "# #     ND = ND.dropna(dim='time', how='all')\n",
    "# #     num_DSDs = ND.sizes['time']\n",
    "# #     total_DSDs = total_DSDs + num_DSDs\n",
    "# #     print(\"Number of non-zero DSDs: {:d}\".format(num_DSDs))\n",
    "#     parsivel_ds.close()\n",
    "    \n",
    "# print(\"Total number of non-zero DSDs: {:d}\".format(total_DSDs))\n",
    "\n",
    "# parsivel_filename = os.path.join(PIPS_dir, 'ND_combined_full_dataset_60s.nc')\n",
    "# parsivel_ds = xr.open_dataset(parsivel_filename)\n",
    "\n",
    "#parsivel_ds = xr.open_dataset(parsivel_filenames[0])\n",
    "#print(len(parsivel_filenames))\n",
    "#pprint([os.path.basename(f) for f in parsivel_filenames])\n",
    "#parsivel_ds = xr.open_mfdataset(parsivel_filenames, combine='nested', concat_dim='time', preprocess=pipsio.remove_unneeded) #, combine='nested', concat_dim='time')\n",
    "# ND = parsivel_ds['ND_qc']\n",
    "# ND = ND.where(ND > 0.)\n",
    "# ND = ND.dropna(dim='time', how='all')\n",
    "# total_DSDs = ND.sizes['time']\n",
    "# print(\"Total number of non-zero DSDs: {:d}\".format(total_DSDs))\n",
    "#pprint(parsivel_filenames[34:])\n",
    "#parsivel_filename = 'parsivel_combined_FMCW_2017_043017_PIPS2A_60s.nc'\n",
    "#PIPS_dir = '/Users/dawson29/sshfs_mounts/depot/data/Projects/TriPIPS/2019'\n",
    "#parsivel_filename = 'parsivel_combined_TriPIPS_092719_TriPIPS_10s.nc'\n",
    "#parsivel_filepath = os.path.join(PIPS_dir, parsivel_filename)\n",
    "#parsivel_ds = xr.open_dataset(parsivel_filepath)"
   ]
  },
  {
   "cell_type": "code",
   "execution_count": null,
   "metadata": {
    "ExecuteTime": {
     "end_time": "2020-06-26T21:54:05.856215Z",
     "start_time": "2020-06-26T21:54:05.724724Z"
    },
    "scrolled": true
   },
   "outputs": [],
   "source": [
    "# Make some index coordinates out of existing dimensions. This is a limitation of xarray right now that you\n",
    "# can't index using coordinates that aren't index coordinates.\n",
    "parsivel_ds.coords['fallspeed_bin'] = ('fallspeed_bin', parsivel_ds.coords['fallspeed'])\n",
    "parsivel_ds.coords['diameter_bin'] = ('diameter_bin', parsivel_ds.coords['diameter'])\n",
    "# Apply QC for margin fallers at least\n",
    "# parsivel_ds['VD_matrix_marginQC'] = pqc.marginQC(parsivel_ds['VD_matrix'])\n",
    "print(parsivel_ds)"
   ]
  },
  {
   "cell_type": "code",
   "execution_count": null,
   "metadata": {
    "ExecuteTime": {
     "end_time": "2020-06-26T22:18:14.915454Z",
     "start_time": "2020-06-26T22:18:14.455201Z"
    },
    "scrolled": true
   },
   "outputs": [],
   "source": [
    "min_diameter = pp.parsivel_parameters['min_diameter_bins_mm']\n",
    "max_diameter = pp.parsivel_parameters['max_diameter_bins_mm']\n",
    "bin_width = max_diameter - min_diameter\n",
    "avg_diameter = pp.parsivel_parameters['avg_diameter_bins_mm']\n",
    "min_fall_bins = pp.parsivel_parameters['min_fallspeed_bins_mps']\n",
    "max_fall_bins = pp.parsivel_parameters['max_fallspeed_bins_mps']\n",
    "avg_fall_bins = pp.parsivel_parameters['avg_fallspeed_bins_mps']\n",
    "fall_bins_edges = np.append(min_fall_bins, max_fall_bins[-1])\n",
    "print(min_fall_bins)\n",
    "print(max_fall_bins)\n",
    "print(fall_bins_edges)\n",
    "print(max_fall_bins - min_fall_bins)\n",
    "vd_matrix_da = parsivel_ds['VD_matrix']\n",
    "\n",
    "axdict = {\n",
    "    'min_diameter': min_diameter,\n",
    "    'avg_diameter': avg_diameter,\n",
    "    'min_fall_bins': min_fall_bins,\n",
    "    'xlim': [0.0, 10.0],\n",
    "    'ylim': [0.0, 15.0],\n",
    "    'PIPS_name': parsivel_ds.probe_name\n",
    "}\n",
    "\n",
    "vd_matrix_da_full = vd_matrix_da.sum(dim='time')\n",
    "vd_matrix_da_full = vd_matrix_da_full.where(vd_matrix_da_full > 0.)\n",
    "time_to_plot = '2016-04-29T22:00:00'\n",
    "# print(\"Plotting full-deployment v-d matrix for {} and {}\".format(parsivel_ds.deployment_name,\n",
    "#                                                                  parsivel_ds.probe_name))\n",
    "axdict['cblim'] = (1, 200)\n",
    "PSDdict = {\n",
    "    'vd_matrix_da': vd_matrix_da.sel(time=time_to_plot, method='nearest'),\n",
    "    'DSD_interval': len(vd_matrix_da['time']) * parsivel_ds.DSD_interval\n",
    "    # FIXME\n",
    "    # 'flaggedtime': parsivel_df['flaggedtimes'].values[t]\n",
    "}\n",
    "fig, ax = PIPSplot.plot_vel_D(axdict, PSDdict, parsivel_ds['rho'].sel(time=time_to_plot, method='nearest'))\n",
    "# image_name =  \\\n",
    "#     '{}_{}_vel_D_{}_full.png'.format(PIPS_name, deployment_name, tag)\n",
    "# image_path = os.path.join(vel_D_image_dir, image_name)\n",
    "# fig.savefig(image_path, dpi=200, bbox_inches='tight')\n"
   ]
  },
  {
   "cell_type": "code",
   "execution_count": null,
   "metadata": {
    "ExecuteTime": {
     "end_time": "2020-06-26T22:18:17.922819Z",
     "start_time": "2020-06-26T22:18:17.813015Z"
    },
    "scrolled": true
   },
   "outputs": [],
   "source": [
    "interval = 0.1\n",
    "# print(vd_matrix_da_full)\n",
    "vd_matrix_da_rebinned = reindex_velocity_bins(vd_matrix_da, interval)\n",
    "print(vd_matrix_da_rebinned)"
   ]
  },
  {
   "cell_type": "code",
   "execution_count": null,
   "metadata": {
    "ExecuteTime": {
     "end_time": "2020-06-26T22:19:32.404068Z",
     "start_time": "2020-06-26T22:19:31.906306Z"
    }
   },
   "outputs": [],
   "source": [
    "axdict = {\n",
    "    'min_diameter': min_diameter,\n",
    "    'avg_diameter': avg_diameter,\n",
    "    'min_fall_bins': vd_matrix_da_rebinned.coords['min_fallspeeds'],\n",
    "    'xlim': [0.0, 10.0],\n",
    "    'ylim': [0.0, 15.0],\n",
    "    'PIPS_name': parsivel_ds.probe_name\n",
    "}\n",
    "\n",
    "# vd_matrix_da_full_rebinned = vd_matrix_da_full_rebinned.where(vd_matrix_da_full_rebinne# d > 0.)\n",
    "print(\"Plotting full-deployment v-d matrix for {} and {}\".format(parsivel_ds.deployment_name,\n",
    "                                                                 parsivel_ds.probe_name))\n",
    "axdict['cblim'] = (1, 50)\n",
    "PSDdict = {\n",
    "    'vd_matrix_da': vd_matrix_da_rebinned.sel(time=time_to_plot, method='nearest'),\n",
    "    'DSD_interval': len(vd_matrix_da['time']) * parsivel_ds.DSD_interval\n",
    "    # FIXME\n",
    "    # 'flaggedtime': parsivel_df['flaggedtimes'].values[t]\n",
    "}\n",
    "fig, ax = PIPSplot.plot_vel_D(axdict, PSDdict, parsivel_ds['rho'].sel(time=time_to_plot, method='nearest'))\n",
    "#ax.plot(avg_diameter, mean_vel)"
   ]
  },
  {
   "cell_type": "code",
   "execution_count": null,
   "metadata": {
    "ExecuteTime": {
     "end_time": "2020-06-26T22:20:39.121188Z",
     "start_time": "2020-06-26T22:20:38.818336Z"
    }
   },
   "outputs": [],
   "source": [
    "# Check that counts are the same\n",
    "counts_per_diam_orig = vd_matrix_da.sel(time=time_to_plot, method='nearest').sum('fallspeed_bin')\n",
    "counts_per_diam_rebinned = vd_matrix_da_rebinned.sel(time=time_to_plot, method='nearest').sum('fallspeed_bin')\n",
    "counts_per_diam_orig.plot()\n",
    "counts_per_diam_rebinned.plot()"
   ]
  },
  {
   "cell_type": "code",
   "execution_count": null,
   "metadata": {
    "ExecuteTime": {
     "end_time": "2020-06-26T22:21:39.299350Z",
     "start_time": "2020-06-26T22:21:39.217569Z"
    }
   },
   "outputs": [],
   "source": [
    "# Calculate rain terminal velocity as a function of time and diameter\n",
    "vt_rain = pips.calc_empirical_fallspeed(vd_matrix_da_rebinned.coords['diameter'], correct_rho=True,\n",
    "                                        rho=parsivel_ds['rho'])\n",
    "vt_rain_da = xr.DataArray(vt_rain, \n",
    "                          coords={\n",
    "                              'time': ('time', vd_matrix_da_rebinned.coords['time']),\n",
    "                              'diameter_bin': ('diameter_bin', vd_matrix_da_rebinned.coords['diameter'])\n",
    "                                 },\n",
    "                          dims=['time', 'diameter_bin'])"
   ]
  },
  {
   "cell_type": "code",
   "execution_count": null,
   "metadata": {
    "ExecuteTime": {
     "end_time": "2020-06-26T22:21:48.280420Z",
     "start_time": "2020-06-26T22:21:48.183186Z"
    },
    "scrolled": true
   },
   "outputs": [],
   "source": [
    "print(vd_matrix_da_rebinned)\n",
    "print(vt_rain_da)\n",
    "print(vd_matrix_da_rebinned.dims)"
   ]
  },
  {
   "cell_type": "code",
   "execution_count": null,
   "metadata": {
    "ExecuteTime": {
     "end_time": "2020-06-26T22:22:03.748419Z",
     "start_time": "2020-06-26T22:22:03.367321Z"
    }
   },
   "outputs": [],
   "source": [
    "mean_vel = calc_mean_velocity(vd_matrix_da_rebinned)"
   ]
  },
  {
   "cell_type": "code",
   "execution_count": null,
   "metadata": {
    "ExecuteTime": {
     "end_time": "2020-06-26T22:22:05.798544Z",
     "start_time": "2020-06-26T22:22:05.391921Z"
    }
   },
   "outputs": [],
   "source": [
    "mean_vel.plot()\n",
    "mean_vel"
   ]
  },
  {
   "cell_type": "code",
   "execution_count": null,
   "metadata": {
    "ExecuteTime": {
     "end_time": "2020-06-27T00:16:42.291820Z",
     "start_time": "2020-06-27T00:15:51.156623Z"
    },
    "scrolled": false
   },
   "outputs": [],
   "source": [
    "vd_matrix_da_rebinned_shifted = shift_mean_velocity(vd_matrix_da_rebinned, vt_rain_da)"
   ]
  },
  {
   "cell_type": "code",
   "execution_count": null,
   "metadata": {
    "ExecuteTime": {
     "end_time": "2020-06-27T00:17:00.738174Z",
     "start_time": "2020-06-27T00:17:00.642681Z"
    }
   },
   "outputs": [],
   "source": [
    "print(vd_matrix_da_rebinned_shifted)"
   ]
  },
  {
   "cell_type": "code",
   "execution_count": null,
   "metadata": {
    "ExecuteTime": {
     "end_time": "2020-06-27T00:18:39.702853Z",
     "start_time": "2020-06-27T00:18:39.224716Z"
    }
   },
   "outputs": [],
   "source": [
    "axdict = {\n",
    "    'min_diameter': min_diameter,\n",
    "    'avg_diameter': avg_diameter,\n",
    "    'min_fall_bins': vd_matrix_da_rebinned_shifted.coords['min_fallspeeds'],\n",
    "    'xlim': [0.0, 10.0],\n",
    "    'ylim': [0.0, 15.0],\n",
    "    'PIPS_name': parsivel_ds.probe_name\n",
    "}\n",
    "\n",
    "# vd_matrix_da_full_rebinned = vd_matrix_da_full_rebinned.where(vd_matrix_da_full_rebinne# d > 0.)\n",
    "print(\"Plotting full-deployment v-d matrix for {} and {}\".format(parsivel_ds.deployment_name,\n",
    "                                                                 parsivel_ds.probe_name))\n",
    "axdict['cblim'] = (1, 50)\n",
    "PSDdict = {\n",
    "    'vd_matrix_da': vd_matrix_da_rebinned_shifted.sel(time=time_to_plot, method='nearest'),\n",
    "    'DSD_interval': len(vd_matrix_da['time']) * parsivel_ds.DSD_interval\n",
    "    # FIXME\n",
    "    # 'flaggedtime': parsivel_df['flaggedtimes'].values[t]\n",
    "}\n",
    "fig, ax = PIPSplot.plot_vel_D(axdict, PSDdict, parsivel_ds['rho'].sel(time=time_to_plot, method='nearest'))\n",
    "#ax.plot(avg_diameter, mean_vel)"
   ]
  },
  {
   "cell_type": "code",
   "execution_count": null,
   "metadata": {
    "ExecuteTime": {
     "end_time": "2020-06-27T00:44:46.892098Z",
     "start_time": "2020-06-27T00:44:46.772871Z"
    }
   },
   "outputs": [],
   "source": [
    "vd_matrix_da_shifted = rebin_to_parsivel(vd_matrix_da_rebinned_shifted)\n",
    "print(vd_matrix_da_shifted)"
   ]
  },
  {
   "cell_type": "code",
   "execution_count": null,
   "metadata": {
    "ExecuteTime": {
     "end_time": "2020-06-27T00:44:52.749824Z",
     "start_time": "2020-06-27T00:44:52.306124Z"
    }
   },
   "outputs": [],
   "source": [
    "axdict = {\n",
    "    'min_diameter': min_diameter,\n",
    "    'avg_diameter': avg_diameter,\n",
    "    'min_fall_bins': vd_matrix_da_shifted.coords['min_fallspeeds'],\n",
    "    'xlim': [0.0, 10.0],\n",
    "    'ylim': [0.0, 15.0],\n",
    "    'PIPS_name': parsivel_ds.probe_name\n",
    "}\n",
    "\n",
    "vd_matrix_da_shifted = vd_matrix_da_shifted.where(vd_matrix_da_shifted > 0.)\n",
    "print(\"Plotting full-deployment v-d matrix for {} and {}\".format(parsivel_ds.deployment_name,\n",
    "                                                                 parsivel_ds.probe_name))\n",
    "axdict['cblim'] = (1, 200)\n",
    "PSDdict = {\n",
    "    'vd_matrix_da': vd_matrix_da_shifted.sel(time=time_to_plot, method='nearest'),\n",
    "    'DSD_interval': len(vd_matrix_da['time']) * parsivel_ds.DSD_interval\n",
    "    # FIXME\n",
    "    # 'flaggedtime': parsivel_df['flaggedtimes'].values[t]\n",
    "}\n",
    "fig, ax = PIPSplot.plot_vel_D(axdict, PSDdict, parsivel_ds['rho'].sel(time=time_to_plot, method='nearest'))"
   ]
  },
  {
   "cell_type": "code",
   "execution_count": null,
   "metadata": {
    "ExecuteTime": {
     "end_time": "2020-06-27T00:44:57.276007Z",
     "start_time": "2020-06-27T00:44:55.868547Z"
    }
   },
   "outputs": [],
   "source": [
    "# Apply some QC love\n",
    "print(vd_matrix_da_shifted)\n",
    "vd_matrix_qc_shifted_da = pqc.strongwindQC(vd_matrix_da_shifted)\n",
    "vd_matrix_qc_shifted_da = pqc.splashingQC(vd_matrix_qc_shifted_da)\n",
    "vd_matrix_qc_shifted_da = pqc.marginQC(vd_matrix_qc_shifted_da)\n",
    "fallspeedmask = pqc.get_fallspeed_mask(avg_diameter, avg_fall_bins)\n",
    "vd_matrix_qc_shifted_da = pqc.rainfallspeedQC(vd_matrix_qc_shifted_da, fallspeedmask)\n",
    "vd_matrix_qc_shifted_da = pqc.rainonlyQC(vd_matrix_qc_shifted_da)"
   ]
  },
  {
   "cell_type": "code",
   "execution_count": null,
   "metadata": {
    "ExecuteTime": {
     "end_time": "2020-06-27T00:45:44.808654Z",
     "start_time": "2020-06-27T00:45:44.367165Z"
    }
   },
   "outputs": [],
   "source": [
    "axdict = {\n",
    "    'min_diameter': min_diameter,\n",
    "    'avg_diameter': avg_diameter,\n",
    "    'min_fall_bins': vd_matrix_qc_shifted_da.coords['min_fallspeeds'],\n",
    "    'xlim': [0.0, 10.0],\n",
    "    'ylim': [0.0, 15.0],\n",
    "    'PIPS_name': parsivel_ds.probe_name\n",
    "}\n",
    "\n",
    "vd_matrix_qc_shifted_da = vd_matrix_qc_shifted_da.where(vd_matrix_qc_shifted_da > 0.)\n",
    "print(\"Plotting full-deployment v-d matrix for {} and {}\".format(parsivel_ds.deployment_name,\n",
    "                                                                 parsivel_ds.probe_name))\n",
    "axdict['cblim'] = (1, 200)\n",
    "PSDdict = {\n",
    "    'vd_matrix_da': vd_matrix_qc_shifted_da.sel(time=time_to_plot, method='nearest'),\n",
    "    'DSD_interval': len(vd_matrix_qc_shifted_da['time']) * parsivel_ds.DSD_interval\n",
    "    # FIXME\n",
    "    # 'flaggedtime': parsivel_df['flaggedtimes'].values[t]\n",
    "}\n",
    "fig, ax = PIPSplot.plot_vel_D(axdict, PSDdict, parsivel_ds['rho'].sel(time=time_to_plot, method='nearest'))"
   ]
  },
  {
   "cell_type": "code",
   "execution_count": null,
   "metadata": {
    "ExecuteTime": {
     "end_time": "2020-06-30T15:34:37.080729Z",
     "start_time": "2020-06-30T15:34:36.991251Z"
    }
   },
   "outputs": [],
   "source": [
    "# Compute ND from the shifted VD matrix\n",
    "fallspeed_spectrum = pips.calc_fallspeed_spectrum(avg_diameter, avg_fall_bins, correct_rho=True,\n",
    "                                                  rho=parsivel_ds['rho'])\n",
    "\n",
    "vd_matrix_shifted = vd_matrix_da_shifted.where(vd_matrix_da_shifted > 0.)\n",
    "vd_matrix_shifted_qc = vd_matrix_qc_shifted_da.where(vd_matrix_qc_shifted_da > 0.)\n",
    "ND_RB15_vshift = pips.calc_ND(vd_matrix_shifted_qc, fallspeed_spectrum, parsivel_ds.DSD_interval)"
   ]
  },
  {
   "cell_type": "code",
   "execution_count": null,
   "metadata": {
    "ExecuteTime": {
     "end_time": "2020-06-30T20:58:21.757572Z",
     "start_time": "2020-06-30T20:58:21.679438Z"
    }
   },
   "outputs": [],
   "source": [
    " # According to RB15, should use internal parsivel rainrate to categorize\n",
    "rainrate = parsivel_ds['precipintensity']\n",
    "RR_ind = (rainrate < pp.RB15_RR_max[-1]) & (rainrate >= pp.RB15_RR_min[0])\n",
    "\n",
    "\n",
    "\n",
    "ND_RB15 = ND_RB15_vshift.copy()"
   ]
  },
  {
   "cell_type": "code",
   "execution_count": null,
   "metadata": {
    "ExecuteTime": {
     "end_time": "2020-06-30T20:58:24.642694Z",
     "start_time": "2020-06-30T20:58:24.563008Z"
    }
   },
   "outputs": [],
   "source": [
    "RR_edges = np.append(pp.RB15_RR_min, pp.RB15_RR_max[-1])\n",
    "# RR_edges = pp.RB15_RR_min\n",
    "print(RR_edges)\n",
    "parsivel_ds_RR_groups = parsivel_ds.groupby_bins('precipintensity', RR_edges, right=False, labels=pp.RB15_RR_min)\n",
    "print(parsivel_ds_RR_groups)\n",
    "# Why aren't the labels sorted???"
   ]
  },
  {
   "cell_type": "code",
   "execution_count": null,
   "metadata": {
    "ExecuteTime": {
     "end_time": "2020-06-30T21:01:11.517602Z",
     "start_time": "2020-06-30T21:01:11.223141Z"
    }
   },
   "outputs": [],
   "source": [
    "group_indices = parsivel_ds_RR_groups.groups\n",
    "for idx, group in enumerate(parsivel_ds_RR_groups):\n",
    "#     group_idx = group_indices[group[0]]\n",
    "#     ND_temp = ND_RB15_vshift[group_idx]\n",
    "#     RB15_correction_factor = pp.RB15_correction_factors[idx]\n",
    "#     ND_temp2 = RB15_correction_factor * ND_temp\n",
    "#     ND_temp2 = ND_temp2.transpose()\n",
    "#     ND_RB15[group_idx] = ND_temp2\n",
    "    group_idx = group_indices[group[0]]\n",
    "    ND_temp = ND_RB15_vshift[group_idx]\n",
    "    RB15_correction_factor = pp.RB15_correction_factors.sel(rainrate=group[0])\n",
    "    ND_temp2 = RB15_correction_factor * ND_temp\n",
    "    ND_temp2 = ND_temp2.transpose()    \n",
    "    ND_RB15[group_idx] = ND_temp2\n",
    "    \n",
    "    print(group_indices[group[0]])\n",
    "    print(idx, group[0])\n",
    "    print(RB15_correction_factor)\n",
    "    print(ND_temp)\n",
    "    print(ND_temp2)"
   ]
  },
  {
   "cell_type": "code",
   "execution_count": null,
   "metadata": {
    "ExecuteTime": {
     "end_time": "2020-06-30T19:10:20.790705Z",
     "start_time": "2020-06-30T19:10:20.713274Z"
    }
   },
   "outputs": [],
   "source": []
  },
  {
   "cell_type": "code",
   "execution_count": null,
   "metadata": {},
   "outputs": [],
   "source": []
  }
 ],
 "metadata": {
  "anaconda-cloud": {},
  "hide_input": false,
  "kernelspec": {
   "display_name": "Python 3.7.3 64-bit ('pyPIPS': conda)",
   "language": "python",
   "name": "python37364bitpypipscondaea8788f6419a4a34be329df7b3b7ce88"
  },
  "language_info": {
   "codemirror_mode": {
    "name": "ipython",
    "version": 3
   },
   "file_extension": ".py",
   "mimetype": "text/x-python",
   "name": "python",
   "nbconvert_exporter": "python",
   "pygments_lexer": "ipython3",
   "version": "3.7.6"
  },
  "toc": {
   "base_numbering": 1,
   "nav_menu": {},
   "number_sections": true,
   "sideBar": true,
   "skip_h1_title": false,
   "title_cell": "Table of Contents",
   "title_sidebar": "Contents",
   "toc_cell": false,
   "toc_position": {},
   "toc_section_display": true,
   "toc_window_display": false
  },
  "varInspector": {
   "cols": {
    "lenName": 16,
    "lenType": 16,
    "lenVar": 40
   },
   "kernels_config": {
    "python": {
     "delete_cmd_postfix": "",
     "delete_cmd_prefix": "del ",
     "library": "var_list.py",
     "varRefreshCmd": "print(var_dic_list())"
    },
    "r": {
     "delete_cmd_postfix": ") ",
     "delete_cmd_prefix": "rm(",
     "library": "var_list.r",
     "varRefreshCmd": "cat(var_dic_list()) "
    }
   },
   "types_to_exclude": [
    "module",
    "function",
    "builtin_function_or_method",
    "instance",
    "_Feature"
   ],
   "window_display": false
  }
 },
 "nbformat": 4,
 "nbformat_minor": 2
}
