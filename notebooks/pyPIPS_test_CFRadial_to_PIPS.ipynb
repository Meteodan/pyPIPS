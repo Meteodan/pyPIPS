{
 "cells": [
  {
   "cell_type": "code",
   "execution_count": null,
   "metadata": {
    "ExecuteTime": {
     "end_time": "2020-01-22T15:48:42.252470Z",
     "start_time": "2020-01-22T15:48:42.163061Z"
    }
   },
   "outputs": [],
   "source": [
    "%load_ext autoreload\n",
    "%autoreload 2\n",
    "import numpy as np\n",
    "import numpy.ma as ma\n",
    "import matplotlib\n",
    "import matplotlib.pyplot as plt\n",
    "import matplotlib.cm as cm\n",
    "import matplotlib.ticker as ticker\n",
    "import matplotlib.dates as dates\n",
    "from mpl_toolkits.axes_grid1 import ImageGrid,make_axes_locatable,host_subplot\n",
    "from datetime import datetime, timedelta\n",
    "import sys\n",
    "import os\n",
    "import pyPIPS.utils as utils\n",
    "import pyPIPS.thermolib as thermo\n",
    "import pyPIPS.DSDlib as dsd\n",
    "#import pyPIPS.disdrometer_module as dis\n",
    "import pyPIPS.plotmodule as PIPSplot\n",
    "import pyPIPS.pips_io as pipsio\n",
    "import pyPIPS.PIPS as pips\n",
    "import pyPIPS.parsivel_params as pp\n",
    "import pyPIPS.parsivel_qc as pqc\n",
    "import pyPIPS.radarmodule as radar\n",
    "from pyCRMtools.modules import plotmodule as plotmod\n",
    "from pyCRMtools.modules import utils as CRMutils\n",
    "from pyCRMtools.pycaps import arps_read\n",
    "from pyCRMtools.pycaps import pycaps_fields\n",
    "from pyCRMtools.pycaps import calvars_radar as pycaps_radar\n",
    "import pandas as pd\n",
    "import xarray as xr\n",
    "import glob\n",
    "import numpy.random as random\n",
    "from scipy.stats import gamma, uniform\n",
    "from scipy.special import gamma as gammafunc\n",
    "from scipy import ndimage\n",
    "from metpy.plots import StationPlot\n",
    "from metpy.calc import wind_components\n",
    "from metpy.cbook import get_test_data\n",
    "from metpy.plots import StationPlot\n",
    "from metpy.plots.wx_symbols import current_weather, sky_cover\n",
    "from metpy.units import units\n",
    "import pyart\n",
    "%matplotlib inline"
   ]
  },
  {
   "cell_type": "code",
   "execution_count": null,
   "metadata": {
    "ExecuteTime": {
     "end_time": "2020-01-22T15:48:44.564733Z",
     "start_time": "2020-01-22T15:48:44.506377Z"
    },
    "scrolled": true
   },
   "outputs": [],
   "source": [
    "# Define dictionaries, keyed by case date (i.e. '060509', '060709', '060909', '033116'), to store parameters related\n",
    "# to NEXRAD radar data, disdrometer data, and model output, respectively\n",
    "\n",
    "# Case we are looking at right now. Should only have to change this up here and then execute all the cells below\n",
    "# to generate the appropriate analysis\n",
    "casedate = '033116'\n",
    "\n",
    "# Import the file containing the dictionaries needed to gather the radar and disdrometer data.\n",
    "sys.path.append('/Users/dawson29/Projects/pyPIPS/configs/')\n",
    "\n",
    "from PERiLS_IOP2_2022_officeMac import *"
   ]
  },
  {
   "cell_type": "code",
   "execution_count": null,
   "metadata": {},
   "outputs": [],
   "source": [
    "radar_dir = radar_config_dict['radar_dir']\n",
    "radfile_name = 'KGWX20220331_021011_V06.nc'\n",
    "radpath = os.path.join(radar_dir, radfile_name)\n",
    "\n",
    "radar_obj = pyart.io.read_cfradial(radpath)"
   ]
  },
  {
   "cell_type": "code",
   "execution_count": null,
   "metadata": {},
   "outputs": [],
   "source": [
    "radar_dir2 = '/Users/dawson29/sshfs_mounts/depot/data/Projects/PERiLS/obsdata/2022/NEXRAD/Radx'\n",
    "radfile_name2 = 'cfrad.20220331_021011.524_to_20220331_021703.249_KGWX_SUR.nc'\n",
    "radpath2 = os.path.join(radar_dir2, radfile_name2)\n",
    "\n",
    "radar_obj2 = pyart.io.read_cfradial(radpath2)"
   ]
  },
  {
   "cell_type": "code",
   "execution_count": null,
   "metadata": {},
   "outputs": [],
   "source": [
    "print(radar_obj.info())"
   ]
  },
  {
   "cell_type": "code",
   "execution_count": null,
   "metadata": {},
   "outputs": [],
   "source": [
    "print(radar_obj2.info())"
   ]
  },
  {
   "cell_type": "code",
   "execution_count": null,
   "metadata": {},
   "outputs": [],
   "source": [
    "target_elevs = radar_obj.fixed_angle['data']\n",
    "times = radar_obj.time['data']\n",
    "target_elevs2 = radar_obj2.fixed_angle['data']\n",
    "times2 = radar_obj2.time['data']\n",
    "print(target_elevs)\n",
    "print(target_elevs2)"
   ]
  },
  {
   "cell_type": "code",
   "execution_count": null,
   "metadata": {},
   "outputs": [],
   "source": [
    "el_req = 0.5\n",
    "firstsweepindex = (np.abs(target_elevs - el_req)).argmin()\n",
    "el_actual = target_elevs[firstsweepindex]\n",
    "print(firstsweepindex, el_actual)\n",
    "sweep_indices = [i for i, x in enumerate(target_elevs) if x == el_actual]\n",
    "print(sweep_indices)\n",
    "print(radar_obj.sweep_start_ray_index['data'][sweep_indices])\n"
   ]
  },
  {
   "cell_type": "code",
   "execution_count": null,
   "metadata": {},
   "outputs": [],
   "source": [
    "print(radar_obj.instrument_parameters)\n",
    "print(radar_obj2.instrument_parameters)"
   ]
  },
  {
   "cell_type": "code",
   "execution_count": null,
   "metadata": {},
   "outputs": [],
   "source": [
    "radar_sweep_start_indices = radar_obj.sweep_start_ray_index['data']\n",
    "radar2_sweep_start_indices = radar_obj2.sweep_start_ray_index['data']\n",
    "\n",
    "print(radar_obj.sweep_start_ray_index)\n",
    "sweep_numbers = radar_obj.sweep_number['data']\n",
    "print(sweep_numbers)\n",
    "sweep_times = []\n",
    "sweep_times_sec = []\n",
    "for i, sweep_num in enumerate(sweep_numbers):\n",
    "    sweep_time_sec = int(radar_obj.time['data'][radar_sweep_start_indices[i]])\n",
    "    sweep_times_sec.append(sweep_time_sec)\n",
    "    sweep_time = pyart.graph.common.generate_radar_time_sweep(radar_obj, i)\n",
    "    sweep_times.append(sweep_time)\n",
    "print(sweep_times)\n",
    "print(sweep_times_sec)\n",
    "\n",
    "print(radar_obj2.sweep_start_ray_index)\n",
    "sweep_numbers2 = radar_obj2.sweep_number['data']\n",
    "print(sweep_numbers2)\n",
    "sweep_times2 = []\n",
    "sweep_times_sec2 = []\n",
    "for i, sweep_num in enumerate(sweep_numbers2):\n",
    "    sweep_time_sec2 = int(radar_obj2.time['data'][radar2_sweep_start_indices[i]])\n",
    "    sweep_times_sec2.append(sweep_time_sec2)\n",
    "    sweep_time = pyart.graph.common.generate_radar_time_sweep(radar_obj2, i)\n",
    "    sweep_times2.append(sweep_time)\n",
    "print(sweep_times2)\n",
    "print(sweep_times_sec2)"
   ]
  },
  {
   "cell_type": "code",
   "execution_count": null,
   "metadata": {},
   "outputs": [],
   "source": [
    "fig, ax = plt.subplots(figsize=(10, 10))\n",
    "ax.plot(sweep_times_sec, [490000.] * len(sweep_times_sec), 'b*')\n",
    "ax.plot(sweep_times_sec2, [500000.] * len(sweep_times_sec2), 'ro')\n",
    "ax.plot(times, radar_obj.instrument_parameters['unambiguous_range']['data'])\n",
    "ax.plot(times2, radar_obj2.instrument_parameters['unambiguous_range']['data'])"
   ]
  },
  {
   "cell_type": "code",
   "execution_count": null,
   "metadata": {},
   "outputs": [],
   "source": [
    "fig, ax = plt.subplots(figsize=(10, 10))\n",
    "ax.plot(sweep_times_sec, [40.] * len(sweep_times_sec), 'b*')\n",
    "ax.plot(sweep_times_sec2, [41.] * len(sweep_times_sec2), 'ro')\n",
    "ax.plot(times, radar_obj.instrument_parameters['nyquist_velocity']['data'])\n",
    "ax.plot(times2, radar_obj2.instrument_parameters['nyquist_velocity']['data'])"
   ]
  },
  {
   "cell_type": "code",
   "execution_count": null,
   "metadata": {},
   "outputs": [],
   "source": [
    "fig, ax = plt.subplots(figsize=(10, 10))\n",
    "ax.plot(sweep_times_sec, [21.] * len(sweep_times_sec), 'b*')\n",
    "ax.plot(sweep_times_sec2, [21.5] * len(sweep_times_sec2), 'ro')\n",
    "elevs = radar_obj.elevation['data']\n",
    "elevs2 = radar_obj2.elevation['data']\n",
    "ax.plot(times, elevs, label='pyART')\n",
    "ax.plot(times2, elevs2, label='RadxConvert')\n",
    "ax.legend(loc='best')"
   ]
  },
  {
   "cell_type": "code",
   "execution_count": null,
   "metadata": {},
   "outputs": [],
   "source": [
    "sweep_numbers = radar_obj.sweep_number['data']\n",
    "sweep_list = []\n",
    "for i, sweep_num in enumerate(sweep_numbers):\n",
    "    sweep = radar_obj.extract_sweeps([i])\n",
    "    sweep_list.append(sweep)\n",
    "    \n",
    "sweep_numbers2 = radar_obj2.sweep_number['data']\n",
    "sweep_list2 = []\n",
    "for i, sweep_num in enumerate(sweep_numbers2):\n",
    "    sweep = radar_obj2.extract_sweeps([i])\n",
    "    sweep_list2.append(sweep)"
   ]
  },
  {
   "cell_type": "code",
   "execution_count": null,
   "metadata": {
    "scrolled": true
   },
   "outputs": [],
   "source": [
    "field = 'reflectivity'\n",
    "levels = np.linspace(0., 60., num=13)\n",
    "for i, sweep_num in enumerate(sweep_numbers):\n",
    "    fig, ax = plt.subplots(figsize=(10, 10))\n",
    "    data = sweep_list[i].fields[field]['data']\n",
    "    azimuth = sweep_list[i].azimuth['data']\n",
    "    grange = sweep_list[i].range['data']\n",
    "    ax.set_title('Time: {}, elev: {:.2f}'.format(sweep_times[i].strftime('%Y-%m-%d %H:%M:%S'), target_elevs[i]))\n",
    "    ax.contourf(azimuth, grange, data.T, levels=levels)"
   ]
  },
  {
   "cell_type": "code",
   "execution_count": null,
   "metadata": {
    "scrolled": false
   },
   "outputs": [],
   "source": [
    "field = 'REF'\n",
    "levels = np.linspace(0., 60., num=13)\n",
    "for i, sweep_num in enumerate(sweep_numbers2):\n",
    "    fig, ax = plt.subplots(figsize=(10, 10))\n",
    "    data = sweep_list2[i].fields[field]['data']\n",
    "    azimuth = sweep_list2[i].azimuth['data']\n",
    "    grange = sweep_list2[i].range['data']\n",
    "    ax.set_title('Time: {}, elev: {:.2f}'.format(sweep_times2[i].strftime('%Y-%m-%d %H:%M:%S'), target_elevs2[i]))\n",
    "    ax.contourf(azimuth, grange, data.T, levels=levels)"
   ]
  },
  {
   "cell_type": "code",
   "execution_count": null,
   "metadata": {
    "ExecuteTime": {
     "end_time": "2020-01-22T15:48:46.425515Z",
     "start_time": "2020-01-22T15:48:45.954451Z"
    }
   },
   "outputs": [],
   "source": [
    "# Read in the PIPS data for the first probe for testing\n",
    "dis_dict = init_dis_dict[casedate]\n",
    "dirname = dis_dict['dis_dir']\n",
    "filename = dis_dict['disfilenames'][0]\n",
    "filepath = os.path.join(dirname, filename)\n",
    "print(\"Reading file: {}\".format(filepath))\n",
    "conv_df, parsivel_df, vd_matrix_da = pipsio.read_PIPS(filepath)"
   ]
  },
  {
   "cell_type": "code",
   "execution_count": null,
   "metadata": {
    "ExecuteTime": {
     "end_time": "2020-01-22T15:52:42.777252Z",
     "start_time": "2020-01-22T15:51:44.962109Z"
    },
    "scrolled": true
   },
   "outputs": [],
   "source": [
    "# Read sweep files\n",
    "radar_name = init_radar_dict[casedate]['radname']\n",
    "radar_dir = init_radar_dict[casedate]['radardir']\n",
    "starttime = init_radar_dict[casedate]['radstarttimestamp']\n",
    "stoptime = init_radar_dict[casedate]['radstoptimestamp']\n",
    "field_names = init_radar_dict[casedate]['fieldnames']\n",
    "el_req = init_radar_dict[casedate]['el_req']\n",
    "\n",
    "radar_dict = radar.read_sweeps(radar_name, radar_dir, starttime, stoptime, field_names=field_names, \n",
    "                               el_req=el_req, compute_kdp=False)"
   ]
  },
  {
   "cell_type": "code",
   "execution_count": null,
   "metadata": {
    "ExecuteTime": {
     "end_time": "2020-01-22T19:22:49.462578Z",
     "start_time": "2020-01-22T19:22:49.245908Z"
    }
   },
   "outputs": [],
   "source": [
    "print(radar_obj.info())"
   ]
  },
  {
   "cell_type": "code",
   "execution_count": null,
   "metadata": {
    "ExecuteTime": {
     "end_time": "2020-01-22T18:39:09.946306Z",
     "start_time": "2020-01-22T18:39:09.885725Z"
    }
   },
   "outputs": [],
   "source": [
    "GPS_stats = conv_df['GPS_status']\n",
    "GPS_lats = conv_df['GPS_lat']\n",
    "GPS_lons = conv_df['GPS_lon']\n",
    "GPS_alts = conv_df['GPS_alt']\n",
    "PIPS_lat, PIPS_lon, PIPS_alt = pipsio.get_PIPS_loc(GPS_stats, GPS_lats, GPS_lons, GPS_alts)"
   ]
  },
  {
   "cell_type": "code",
   "execution_count": null,
   "metadata": {
    "ExecuteTime": {
     "end_time": "2020-01-22T20:14:19.852157Z",
     "start_time": "2020-01-22T20:14:19.780064Z"
    }
   },
   "outputs": [],
   "source": [
    "PIPS_geo_loc = (PIPS_lat, PIPS_lon)\n",
    "PIPS_rad_loc = radar.get_PIPS_loc_relative_to_radar(PIPS_geo_loc, radar_obj)"
   ]
  },
  {
   "cell_type": "code",
   "execution_count": null,
   "metadata": {
    "ExecuteTime": {
     "end_time": "2020-01-22T18:42:01.862222Z",
     "start_time": "2020-01-22T18:42:01.803962Z"
    }
   },
   "outputs": [],
   "source": [
    "print(PIPS_rad_loc)"
   ]
  },
  {
   "cell_type": "code",
   "execution_count": null,
   "metadata": {
    "ExecuteTime": {
     "end_time": "2020-01-22T22:36:33.267663Z",
     "start_time": "2020-01-22T22:36:28.251072Z"
    }
   },
   "outputs": [],
   "source": [
    "radar_fields_at_PIPS_da = radar.interp_sweeps_to_PIPS(radar_name, radar_dict['radarsweeplist'], ['PIPS1A'], [PIPS_rad_loc],\n",
    "                                                      average_gates=True)"
   ]
  },
  {
   "cell_type": "code",
   "execution_count": null,
   "metadata": {
    "ExecuteTime": {
     "end_time": "2020-01-22T22:28:14.789233Z",
     "start_time": "2020-01-22T22:28:13.333961Z"
    }
   },
   "outputs": [],
   "source": [
    "import pyart\n",
    "radar_obj = radar_dict['radarsweeplist'][2]\n",
    "xrad, yrad, zrad = radar_obj.get_gate_x_y_z(0)\n",
    "distance = np.sqrt((PIPS_rad_loc[0] - xrad)**2. + (PIPS_rad_loc[1] - yrad)**2.)\n",
    "theta_index, range_index = np.unravel_index(distance.argmin(), distance.shape)\n",
    "\n",
    "print(theta_index, range_index)\n",
    "\n",
    "display = pyart.graph.RadarDisplay(radar_obj)\n",
    "fig = plt.figure(figsize=(6, 5))\n",
    "\n",
    "# plot super resolution reflectivity\n",
    "ax = fig.add_subplot(111)\n",
    "display.plot('ZDR', 0, title='NEXRAD Differential Reflectivity',\n",
    "             vmin=0, vmax=5, colorbar_label='', ax=ax)\n",
    "display.plot_range_ring(radar_obj.range['data'][-1]/1000., ax=ax)\n",
    "display.set_limits(xlim=(-250, 250), ylim=(-250, 250))\n",
    "display.set_limits(xlim=(50, 70), ylim=(120, 140), ax=ax)\n",
    "ax.plot(PIPS_rad_loc[0]/1000., PIPS_rad_loc[1]/1000., 'r*')\n",
    "ax.plot(xrad[theta_index, range_index]/1000., yrad[theta_index, range_index]/1000., 'rx')\n",
    "#ax.contourf(xrad / 1000., yrad / 1000., distance)\n",
    "#ax.text(PIPS_rad_loc[0] / 1000. - 5., PIPS_rad_loc[1] / 1000., 'PIPS1A', fontsize=10, bbox=dict(facecolor='white', alpha=0.5))\n",
    "plt.show()"
   ]
  },
  {
   "cell_type": "code",
   "execution_count": null,
   "metadata": {
    "ExecuteTime": {
     "end_time": "2020-01-22T22:32:12.423984Z",
     "start_time": "2020-01-22T22:32:12.356148Z"
    }
   },
   "outputs": [],
   "source": [
    "print(radar_fields_at_PIPS_da)"
   ]
  },
  {
   "cell_type": "code",
   "execution_count": null,
   "metadata": {
    "ExecuteTime": {
     "end_time": "2020-01-22T21:55:13.883207Z",
     "start_time": "2020-01-22T21:55:13.591555Z"
    }
   },
   "outputs": [],
   "source": [
    "print(radar_fields_at_PIPS_da.sel(PIPS='PIPS1A', fields='REF'))\n",
    "radar_fields_at_PIPS_da.sel(PIPS='PIPS1A', fields='REF').plot()"
   ]
  },
  {
   "cell_type": "code",
   "execution_count": null,
   "metadata": {
    "ExecuteTime": {
     "end_time": "2020-01-22T22:36:41.576213Z",
     "start_time": "2020-01-22T22:36:41.498119Z"
    }
   },
   "outputs": [],
   "source": [
    "# Test dumping to netCDF file\n",
    "ncfile_dir = './'\n",
    "ncfile_name = '{}_{}_{}_fields_at_PIPS.nc'.format(radar_name, starttime, stoptime)\n",
    "ncfile_path = os.path.join(ncfile_dir, ncfile_name)\n",
    "radar.dump_radar_fields_at_PIPS_nc(ncfile_path, radar_fields_at_PIPS_da)"
   ]
  },
  {
   "cell_type": "code",
   "execution_count": null,
   "metadata": {
    "ExecuteTime": {
     "end_time": "2020-01-22T22:39:15.617457Z",
     "start_time": "2020-01-22T22:39:15.537597Z"
    }
   },
   "outputs": [],
   "source": [
    "# Now test loading it back in\n",
    "radar_fields_at_PIPS_ds = xr.open_dataset(ncfile_path)\n",
    "print(radar_fields_at_PIPS_ds)"
   ]
  },
  {
   "cell_type": "code",
   "execution_count": null,
   "metadata": {
    "ExecuteTime": {
     "end_time": "2020-01-22T22:38:36.572894Z",
     "start_time": "2020-01-22T22:38:36.506173Z"
    }
   },
   "outputs": [],
   "source": [
    "radar_fields_at_PIPS_da_2 = radar_fields_at_PIPS_ds['radar_fields_at_PIPS']\n",
    "print(radar_fields_at_PIPS_da_2)"
   ]
  },
  {
   "cell_type": "code",
   "execution_count": null,
   "metadata": {
    "ExecuteTime": {
     "end_time": "2020-01-22T22:37:45.950636Z",
     "start_time": "2020-01-22T22:37:45.889409Z"
    }
   },
   "outputs": [],
   "source": [
    "print(radar_fields_at_PIPS_da)"
   ]
  },
  {
   "cell_type": "code",
   "execution_count": null,
   "metadata": {
    "ExecuteTime": {
     "end_time": "2020-01-22T22:41:52.436856Z",
     "start_time": "2020-01-22T22:41:52.376611Z"
    }
   },
   "outputs": [],
   "source": [
    "print(radar_fields_at_PIPS_da_2['PIPS_x'])"
   ]
  },
  {
   "cell_type": "code",
   "execution_count": null,
   "metadata": {
    "ExecuteTime": {
     "end_time": "2020-01-22T23:02:36.225320Z",
     "start_time": "2020-01-22T23:02:36.128620Z"
    }
   },
   "outputs": [],
   "source": [
    "print(radar_fields_at_PIPS_da.fields)"
   ]
  },
  {
   "cell_type": "code",
   "execution_count": null,
   "metadata": {
    "ExecuteTime": {
     "end_time": "2020-01-22T23:02:52.561647Z",
     "start_time": "2020-01-22T23:02:52.505740Z"
    }
   },
   "outputs": [],
   "source": [
    "'RHO' in radar_fields_at_PIPS_da.fields"
   ]
  },
  {
   "cell_type": "code",
   "execution_count": null,
   "metadata": {
    "ExecuteTime": {
     "end_time": "2020-01-22T23:04:17.017422Z",
     "start_time": "2020-01-22T23:04:16.960679Z"
    }
   },
   "outputs": [],
   "source": [
    "radar_fields_at_PIPS_da.sel(PIPS='PIPS1A', fields='RHO').size"
   ]
  },
  {
   "cell_type": "code",
   "execution_count": null,
   "metadata": {
    "ExecuteTime": {
     "end_time": "2020-01-22T23:37:12.977704Z",
     "start_time": "2020-01-22T23:37:12.916730Z"
    }
   },
   "outputs": [],
   "source": [
    "pd.to_datetime(radar_fields_at_PIPS_da['time'].values).to_pydatetime()"
   ]
  },
  {
   "cell_type": "code",
   "execution_count": null,
   "metadata": {},
   "outputs": [],
   "source": []
  }
 ],
 "metadata": {
  "anaconda-cloud": {},
  "hide_input": false,
  "kernelspec": {
   "display_name": "Python (My pyPIPS_dev Kernel)",
   "language": "python",
   "name": "pypips_dev"
  },
  "language_info": {
   "codemirror_mode": {
    "name": "ipython",
    "version": 3
   },
   "file_extension": ".py",
   "mimetype": "text/x-python",
   "name": "python",
   "nbconvert_exporter": "python",
   "pygments_lexer": "ipython3",
   "version": "3.7.6"
  },
  "toc": {
   "base_numbering": 1,
   "nav_menu": {},
   "number_sections": true,
   "sideBar": true,
   "skip_h1_title": false,
   "title_cell": "Table of Contents",
   "title_sidebar": "Contents",
   "toc_cell": false,
   "toc_position": {},
   "toc_section_display": true,
   "toc_window_display": false
  },
  "varInspector": {
   "cols": {
    "lenName": 16,
    "lenType": 16,
    "lenVar": 40
   },
   "kernels_config": {
    "python": {
     "delete_cmd_postfix": "",
     "delete_cmd_prefix": "del ",
     "library": "var_list.py",
     "varRefreshCmd": "print(var_dic_list())"
    },
    "r": {
     "delete_cmd_postfix": ") ",
     "delete_cmd_prefix": "rm(",
     "library": "var_list.r",
     "varRefreshCmd": "cat(var_dic_list()) "
    }
   },
   "types_to_exclude": [
    "module",
    "function",
    "builtin_function_or_method",
    "instance",
    "_Feature"
   ],
   "window_display": false
  }
 },
 "nbformat": 4,
 "nbformat_minor": 2
}
