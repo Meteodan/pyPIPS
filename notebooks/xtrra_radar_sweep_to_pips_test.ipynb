{
 "cells": [
  {
   "cell_type": "code",
   "execution_count": null,
   "metadata": {
    "ExecuteTime": {
     "end_time": "2020-03-13T15:29:42.146136Z",
     "start_time": "2020-03-13T15:29:40.178544Z"
    }
   },
   "outputs": [],
   "source": [
    "%load_ext autoreload\n",
    "%autoreload 2\n",
    "import numpy as np\n",
    "import numpy.ma as ma\n",
    "import matplotlib\n",
    "import matplotlib.pyplot as plt\n",
    "import matplotlib.cm as cm\n",
    "import matplotlib.ticker as ticker\n",
    "import matplotlib.dates as dates\n",
    "from mpl_toolkits.axes_grid1 import ImageGrid,make_axes_locatable,host_subplot\n",
    "#from mpl_toolkits.basemap import Basemap\n",
    "from datetime import datetime, timedelta\n",
    "import sys\n",
    "import os\n",
    "import pyPIPS.utils as utils\n",
    "import pyPIPS.thermolib as thermo\n",
    "import pyPIPS.DSDlib as dsd\n",
    "#import pyPIPS.disdrometer_module as dis\n",
    "import pyPIPS.plotmodule as PIPSplot\n",
    "import pyPIPS.pips_io as pipsio\n",
    "import pyPIPS.PIPS as pips\n",
    "import pyPIPS.parsivel_params as pp\n",
    "import pyPIPS.parsivel_qc as pqc\n",
    "import pyPIPS.radarmodule as radar\n",
    "# from pyCRMtools.modules import plotmodule as plotmod\n",
    "from pyCRMtools.modules import utils as CRMutils\n",
    "from pyCRMtools.pycaps import arps_read\n",
    "from pyCRMtools.pycaps import pycaps_fields\n",
    "from pyCRMtools.pycaps import calvars_radar as pycaps_radar\n",
    "import pandas as pd\n",
    "import xarray as xr\n",
    "import glob\n",
    "import numpy.random as random\n",
    "from scipy.stats import gamma, uniform\n",
    "from scipy.special import gamma as gammafunc\n",
    "from scipy import ndimage\n",
    "from metpy.plots import StationPlot\n",
    "from metpy.calc import wind_components\n",
    "from metpy.cbook import get_test_data\n",
    "from metpy.plots import StationPlot\n",
    "from metpy.plots.wx_symbols import current_weather, sky_cover\n",
    "from metpy.units import units\n",
    "%matplotlib inline"
   ]
  },
  {
   "cell_type": "code",
   "execution_count": null,
   "metadata": {
    "ExecuteTime": {
     "end_time": "2020-03-13T15:29:43.408124Z",
     "start_time": "2020-03-13T15:29:42.840762Z"
    },
    "scrolled": true
   },
   "outputs": [],
   "source": [
    "PIPS_dir = '/Users/dawson29/sshfs_mounts/depot/data/Projects/TriPIPS/2019'\n",
    "parsivel_combined_filename = 'parsivel_combined_TriPIPS_092719_TriPIPS_10s.nc'\n",
    "parsivel_combined_path = os.path.join(PIPS_dir, parsivel_combined_filename)\n",
    "parsivel_combined_ds = xr.open_dataset(parsivel_combined_path)"
   ]
  },
  {
   "cell_type": "code",
   "execution_count": null,
   "metadata": {
    "ExecuteTime": {
     "end_time": "2020-03-13T15:29:44.080252Z",
     "start_time": "2020-03-13T15:29:43.977034Z"
    }
   },
   "outputs": [],
   "source": [
    "print(parsivel_combined_ds)"
   ]
  },
  {
   "cell_type": "code",
   "execution_count": null,
   "metadata": {
    "ExecuteTime": {
     "end_time": "2020-03-13T15:30:12.614521Z",
     "start_time": "2020-03-13T15:30:12.525881Z"
    }
   },
   "outputs": [],
   "source": [
    "radar_at_PIPS_da = parsivel_combined_ds['xtrra_at_PIPS']\n",
    "print(radar_at_PIPS_da)\n",
    "#print(radar_at_PIPS_da.coords['fields'].values)\n",
    "fields = radar_at_PIPS_da.coords['fields_xtrra'].values\n",
    "field_name = next((fname for fname in fields if fname in radar.REF_aliases))\n",
    "print(field_name)"
   ]
  },
  {
   "cell_type": "code",
   "execution_count": null,
   "metadata": {
    "ExecuteTime": {
     "end_time": "2020-03-13T15:30:23.258845Z",
     "start_time": "2020-03-13T15:30:23.009769Z"
    }
   },
   "outputs": [],
   "source": [
    "from natsort import natsorted\n",
    "radar_name = 'XTRRA'\n",
    "radar_dir = '/Users/dawson29/sshfs_mounts/depot/data/Projects/XTRRA/2019/09/27/CFRadial'\n",
    "radar_paths = glob.glob(radar_dir + '/xtrra_20190927-[1-2][9,0]*.nc')\n",
    "radar_paths = natsorted(radar_paths)\n",
    "print(radar_paths)"
   ]
  },
  {
   "cell_type": "code",
   "execution_count": null,
   "metadata": {
    "ExecuteTime": {
     "end_time": "2020-03-13T15:32:56.600785Z",
     "start_time": "2020-03-13T15:30:25.323673Z"
    },
    "scrolled": true
   },
   "outputs": [],
   "source": [
    "sweeptime_start = radar._getsweeptime(radar_paths[0])\n",
    "sweeptime_stop = radar._getsweeptime(radar_paths[-1])\n",
    "print(sweeptime_start, sweeptime_stop)\n",
    "\n",
    "radar_paths2 = []\n",
    "sweeptimes2 = []\n",
    "el_req = 2.4\n",
    "for radar_path in radar_paths:\n",
    "    elevation = radar._getelev(radar_path)\n",
    "    sweeptime = radar._getsweeptime(radar_path)\n",
    "    if np.abs(elevation - el_req) < 0.1:\n",
    "        print(elevation)\n",
    "        print(os.path.basename(radar_path))\n",
    "        radar_paths2.append(radar_path)\n",
    "        sweeptimes2.append(sweeptime)\n",
    "        "
   ]
  },
  {
   "cell_type": "code",
   "execution_count": null,
   "metadata": {
    "ExecuteTime": {
     "end_time": "2020-03-13T15:33:51.384588Z",
     "start_time": "2020-03-13T15:32:56.712377Z"
    },
    "scrolled": true
   },
   "outputs": [],
   "source": [
    "starttime = '20190927190015'\n",
    "stoptime = '20190927205801'\n",
    "\n",
    "radar_dict = radar.read_sweeps(radar_paths2, starttime, stoptime)\n",
    "print(radar_dict['radarsweeplist'])"
   ]
  },
  {
   "cell_type": "code",
   "execution_count": null,
   "metadata": {
    "ExecuteTime": {
     "end_time": "2020-03-13T15:33:51.598127Z",
     "start_time": "2020-03-13T15:33:51.506018Z"
    }
   },
   "outputs": [],
   "source": [
    "# GPS_stats = conv_df['GPS_status']\n",
    "# GPS_lats = conv_df['GPS_lat']\n",
    "# GPS_lons = conv_df['GPS_lon']\n",
    "# GPS_alts = conv_df['GPS_alt']\n",
    "# PIPS_lat, PIPS_lon, PIPS_alt = pipsio.get_PIPS_loc(GPS_stats, GPS_lats, GPS_lons, GPS_alts)\n",
    "PIPS_loc_str = parsivel_combined_ds.location\n",
    "PIPS_lat, PIPS_lon, PIPS_alt = list(map(np.float, PIPS_loc_str.strip('()').split(',')))\n",
    "PIPS_rad_loc = radar.get_PIPS_loc_relative_to_radar((PIPS_lat, PIPS_lon), radar_dict['radarsweeplist'][0])\n",
    "print(PIPS_rad_loc)"
   ]
  },
  {
   "cell_type": "code",
   "execution_count": null,
   "metadata": {
    "ExecuteTime": {
     "end_time": "2020-03-13T15:34:19.459221Z",
     "start_time": "2020-03-13T15:33:51.715982Z"
    },
    "scrolled": false
   },
   "outputs": [],
   "source": [
    "import pyart\n",
    "\n",
    "for radar_obj, sweeptime in zip(radar_dict['radarsweeplist'], sweeptimes2):\n",
    "    xrad, yrad, zrad = radar_obj.get_gate_x_y_z(0)\n",
    "    distance = np.sqrt((PIPS_rad_loc[0] - xrad)**2. + (PIPS_rad_loc[1] - yrad)**2.)\n",
    "    theta_index, range_index = np.unravel_index(distance.argmin(), distance.shape)\n",
    "\n",
    "    print(theta_index, range_index)\n",
    "\n",
    "    display = pyart.graph.RadarDisplay(radar_obj)\n",
    "    fig = plt.figure(figsize=(10, 8))\n",
    "\n",
    "    # plot reflectivity\n",
    "    ax = fig.add_subplot(111)\n",
    "    print(\"Time: \", sweeptime)\n",
    "    print(\"Elevation: \", radar_obj.elevation['data'][-1])\n",
    "    display.plot('corrected_reflectivity', 0, title='Reflectivity',\n",
    "                 vmin=0, vmax=60, colorbar_label='', ax=ax)\n",
    "    # plot ZDR\n",
    "    \n",
    "#     display.plot('differential_reflectivity', 0, title='ZDR',\n",
    "#                  vmin=0, vmax=6, colorbar_label='', ax=ax)\n",
    "    display.plot_range_ring(radar_obj.range['data'][-1]/1000., ax=ax)\n",
    "    #display.set_limits(xlim=(-250, 250), ylim=(-250, 250))\n",
    "    display.set_limits(xlim=(-20, 0), ylim=(-5, 15), ax=ax)\n",
    "    ax.plot(PIPS_rad_loc[0]/1000., PIPS_rad_loc[1]/1000., 'k*')\n",
    "    #ax.plot(xrad[theta_index, range_index]/1000., yrad[theta_index, range_index]/1000., 'rx')\n",
    "    #ax.contourf(xrad / 1000., yrad / 1000., distance)\n",
    "    #ax.text(PIPS_rad_loc[0] / 1000. - 5., PIPS_rad_loc[1] / 1000., 'PIPS1A', fontsize=10, bbox=dict(facecolor='white', alpha=0.5))\n",
    "    plt.show()"
   ]
  },
  {
   "cell_type": "code",
   "execution_count": null,
   "metadata": {
    "ExecuteTime": {
     "end_time": "2020-02-26T20:05:39.627277Z",
     "start_time": "2020-02-26T20:05:39.518783Z"
    },
    "scrolled": false
   },
   "outputs": [],
   "source": [
    "radar_obj = radar_dict['radarsweeplist'][0]\n",
    "print(radar_obj.info())"
   ]
  },
  {
   "cell_type": "code",
   "execution_count": null,
   "metadata": {
    "ExecuteTime": {
     "end_time": "2020-02-28T15:38:19.419739Z",
     "start_time": "2020-02-28T15:38:19.352796Z"
    }
   },
   "outputs": [],
   "source": [
    "print(radar_obj.fields['reflectivity'])"
   ]
  },
  {
   "cell_type": "code",
   "execution_count": null,
   "metadata": {},
   "outputs": [],
   "source": []
  }
 ],
 "metadata": {
  "anaconda-cloud": {},
  "hide_input": false,
  "kernelspec": {
   "display_name": "Python [conda env:pyPIPS]",
   "language": "python",
   "name": "conda-env-pyPIPS-py"
  },
  "language_info": {
   "codemirror_mode": {
    "name": "ipython",
    "version": 3
   },
   "file_extension": ".py",
   "mimetype": "text/x-python",
   "name": "python",
   "nbconvert_exporter": "python",
   "pygments_lexer": "ipython3",
   "version": "3.7.6"
  },
  "toc": {
   "base_numbering": 1,
   "nav_menu": {},
   "number_sections": true,
   "sideBar": true,
   "skip_h1_title": false,
   "title_cell": "Table of Contents",
   "title_sidebar": "Contents",
   "toc_cell": false,
   "toc_position": {},
   "toc_section_display": true,
   "toc_window_display": false
  },
  "varInspector": {
   "cols": {
    "lenName": 16,
    "lenType": 16,
    "lenVar": 40
   },
   "kernels_config": {
    "python": {
     "delete_cmd_postfix": "",
     "delete_cmd_prefix": "del ",
     "library": "var_list.py",
     "varRefreshCmd": "print(var_dic_list())"
    },
    "r": {
     "delete_cmd_postfix": ") ",
     "delete_cmd_prefix": "rm(",
     "library": "var_list.r",
     "varRefreshCmd": "cat(var_dic_list()) "
    }
   },
   "types_to_exclude": [
    "module",
    "function",
    "builtin_function_or_method",
    "instance",
    "_Feature"
   ],
   "window_display": false
  }
 },
 "nbformat": 4,
 "nbformat_minor": 2
}
