{
 "cells": [
  {
   "cell_type": "code",
   "execution_count": 1,
   "metadata": {
    "ExecuteTime": {
     "end_time": "2020-01-27T17:13:35.475125Z",
     "start_time": "2020-01-27T17:13:32.418507Z"
    }
   },
   "outputs": [
    {
     "name": "stdout",
     "output_type": "stream",
     "text": [
      "\n",
      "## You are using the Python ARM Radar Toolkit (Py-ART), an open source\n",
      "## library for working with weather radar data. Py-ART is partly\n",
      "## supported by the U.S. Department of Energy as part of the Atmospheric\n",
      "## Radiation Measurement (ARM) Climate Research Facility, an Office of\n",
      "## Science user facility.\n",
      "##\n",
      "## If you use this software to prepare a publication, please cite:\n",
      "##\n",
      "##     JJ Helmus and SM Collis, JORS 2016, doi: 10.5334/jors.119\n",
      "\n"
     ]
    },
    {
     "name": "stderr",
     "output_type": "stream",
     "text": [
      "/Users/dawson29/miniconda3/envs/pyPIPS/lib/python3.7/site-packages/pyart/graph/cm.py:104: FutureWarning: elementwise comparison failed; returning scalar instead, but in the future will perform elementwise comparison\n",
      "  if 'red' in spec:\n",
      "/Users/dawson29/miniconda3/envs/pyPIPS/lib/python3.7/site-packages/pyart/graph/cm_colorblind.py:32: FutureWarning: elementwise comparison failed; returning scalar instead, but in the future will perform elementwise comparison\n",
      "  if 'red' in spec:\n"
     ]
    }
   ],
   "source": [
    "%load_ext autoreload\n",
    "%autoreload 2\n",
    "import numpy as np\n",
    "import numpy.ma as ma\n",
    "import matplotlib\n",
    "import matplotlib.pyplot as plt\n",
    "import matplotlib.cm as cm\n",
    "import matplotlib.ticker as ticker\n",
    "import matplotlib.dates as dates\n",
    "from mpl_toolkits.axes_grid1 import ImageGrid,make_axes_locatable,host_subplot\n",
    "from mpl_toolkits.basemap import Basemap\n",
    "from datetime import datetime, timedelta\n",
    "import sys\n",
    "import os\n",
    "import pyPIPS.utils as utils\n",
    "import pyPIPS.thermolib as thermo\n",
    "import pyPIPS.DSDlib as dsd\n",
    "#import pyPIPS.disdrometer_module as dis\n",
    "import pyPIPS.plotmodule as PIPSplot\n",
    "import pyPIPS.simulator as sim\n",
    "import pyPIPS.pips_io as pipsio\n",
    "import pyPIPS.PIPS as pips\n",
    "import pyPIPS.parsivel_params as pp\n",
    "import pyPIPS.parsivel_qc as pqc\n",
    "from pyCRMtools.modules import plotmodule as plotmod\n",
    "from pyCRMtools.modules import utils as CRMutils\n",
    "from pyCRMtools.pycaps import arps_read\n",
    "from pyCRMtools.pycaps import pycaps_fields\n",
    "from pyCRMtools.pycaps import calvars_radar as radar\n",
    "import pandas as pd\n",
    "import xarray as xr\n",
    "import glob\n",
    "import numpy.random as random\n",
    "from scipy.stats import gamma, uniform\n",
    "from scipy.special import gamma as gammafunc\n",
    "from scipy import ndimage\n",
    "from metpy.plots import StationPlot\n",
    "from metpy.calc import wind_components\n",
    "from metpy.cbook import get_test_data\n",
    "from metpy.plots import StationPlot\n",
    "from metpy.plots.wx_symbols import current_weather, sky_cover\n",
    "from metpy.units import units\n",
    "%matplotlib inline"
   ]
  },
  {
   "cell_type": "code",
   "execution_count": 2,
   "metadata": {
    "ExecuteTime": {
     "end_time": "2020-01-27T17:13:38.800496Z",
     "start_time": "2020-01-27T17:13:38.739387Z"
    },
    "scrolled": true
   },
   "outputs": [],
   "source": [
    "# Define dictionaries, keyed by case date (i.e. '060509', '060709', '060909', '033116'), to store parameters related\n",
    "# to NEXRAD radar data, disdrometer data, and model output, respectively\n",
    "\n",
    "# Case we are looking at right now. Should only have to change this up here and then execute all the cells below\n",
    "# to generate the appropriate analysis\n",
    "casedate = '033116'\n",
    "\n",
    "# Import the file containing the dictionaries needed to gather the radar, disdrometer, and model data.\n",
    "sys.path.append('/Users/dawson29/Dropbox/Projects/VORTEXSE/vortexse_enkf_dsd_study/configs/2016_IOP3')\n",
    "\n",
    "from PIPSsim_1km_dicts import *"
   ]
  },
  {
   "cell_type": "code",
   "execution_count": 3,
   "metadata": {
    "ExecuteTime": {
     "end_time": "2020-01-27T17:13:40.543382Z",
     "start_time": "2020-01-27T17:13:40.080662Z"
    }
   },
   "outputs": [
    {
     "name": "stdout",
     "output_type": "stream",
     "text": [
      "Reading file: /Users/ddawson/Dropbox/Projects/VORTEXSE/obs_data/PIPS/2016/IOP3/PIPS_1A_IOP_3_D1.txt\n",
      "GPS time: Thu Mar 31 22:12:03 2016, Logger time: Thu Mar 31 22:12:00 2016\n",
      "GPS Offset: 0:00:03\n"
     ]
    }
   ],
   "source": [
    "# Read in the PIPS data for the first probe for testing\n",
    "dis_dict = init_dis_dict[casedate]\n",
    "dirname = dis_dict['dis_dir']\n",
    "filename = dis_dict['disfilenames'][0]\n",
    "filepath = os.path.join(dirname, filename)\n",
    "print(\"Reading file: {}\".format(filepath))\n",
    "conv_df, parsivel_df, vd_matrix_da = pipsio.read_PIPS(filepath)"
   ]
  },
  {
   "cell_type": "code",
   "execution_count": 4,
   "metadata": {
    "ExecuteTime": {
     "end_time": "2020-01-27T17:13:45.107904Z",
     "start_time": "2020-01-27T17:13:45.041672Z"
    }
   },
   "outputs": [
    {
     "name": "stdout",
     "output_type": "stream",
     "text": [
      "<xarray.DataArray (time: 380, fallspeed_bin: 32, diameter_bin: 32)>\n",
      "array([[[0, 0, 0, ..., 0, 0, 0],\n",
      "        [0, 0, 0, ..., 0, 0, 0],\n",
      "        [0, 0, 0, ..., 0, 0, 0],\n",
      "        ...,\n",
      "        [0, 0, 0, ..., 0, 0, 0],\n",
      "        [0, 0, 0, ..., 0, 0, 0],\n",
      "        [0, 0, 0, ..., 0, 0, 0]],\n",
      "\n",
      "       [[0, 0, 0, ..., 0, 0, 0],\n",
      "        [0, 0, 0, ..., 0, 0, 0],\n",
      "        [0, 0, 0, ..., 0, 0, 0],\n",
      "        ...,\n",
      "        [0, 0, 0, ..., 0, 0, 0],\n",
      "        [0, 0, 0, ..., 0, 0, 0],\n",
      "        [0, 0, 0, ..., 0, 0, 0]],\n",
      "\n",
      "       [[0, 0, 0, ..., 0, 0, 0],\n",
      "        [0, 0, 0, ..., 0, 0, 0],\n",
      "        [0, 0, 0, ..., 0, 0, 0],\n",
      "        ...,\n",
      "        [0, 0, 0, ..., 0, 0, 0],\n",
      "        [0, 0, 0, ..., 0, 0, 0],\n",
      "        [0, 0, 0, ..., 0, 0, 0]],\n",
      "\n",
      "       ...,\n",
      "\n",
      "       [[0, 0, 0, ..., 0, 0, 0],\n",
      "        [0, 0, 0, ..., 0, 0, 0],\n",
      "        [0, 0, 0, ..., 0, 0, 0],\n",
      "        ...,\n",
      "        [0, 0, 0, ..., 0, 0, 0],\n",
      "        [0, 0, 0, ..., 0, 0, 0],\n",
      "        [0, 0, 0, ..., 0, 0, 0]],\n",
      "\n",
      "       [[0, 0, 0, ..., 0, 0, 0],\n",
      "        [0, 0, 0, ..., 0, 0, 0],\n",
      "        [0, 0, 0, ..., 0, 0, 0],\n",
      "        ...,\n",
      "        [0, 0, 0, ..., 0, 0, 0],\n",
      "        [0, 0, 0, ..., 0, 0, 0],\n",
      "        [0, 0, 0, ..., 0, 0, 0]],\n",
      "\n",
      "       [[0, 0, 0, ..., 0, 0, 0],\n",
      "        [0, 0, 0, ..., 0, 0, 0],\n",
      "        [0, 0, 0, ..., 0, 0, 0],\n",
      "        ...,\n",
      "        [0, 0, 0, ..., 0, 0, 0],\n",
      "        [0, 0, 0, ..., 0, 0, 0],\n",
      "        [0, 0, 0, ..., 0, 0, 0]]])\n",
      "Coordinates:\n",
      "  * time            (time) datetime64[ns] 2016-03-31T22:11:53 ... 2016-03-31T23:15:03\n",
      "    fallspeed       (fallspeed_bin) float64 0.05 0.15 0.25 ... 15.2 17.6 20.8\n",
      "    diameter        (diameter_bin) float64 0.0625 0.1875 0.3125 ... 21.5 24.5\n",
      "    min_diameter    (diameter_bin) float64 0.0 0.125 0.25 ... 18.0 20.0 23.0\n",
      "    max_diameter    (diameter_bin) float64 0.125 0.25 0.375 ... 20.0 23.0 26.0\n",
      "    min_fallspeeds  (fallspeed_bin) float64 0.0 0.1 0.2 0.3 ... 14.4 16.0 19.2\n",
      "    max_fallspeeds  (fallspeed_bin) float64 0.1 0.2 0.3 0.4 ... 16.0 19.2 22.4\n",
      "Dimensions without coordinates: fallspeed_bin, diameter_bin\n"
     ]
    }
   ],
   "source": [
    "print(vd_matrix_da)\n",
    "#print(spectrum_da.loc['2016-03-31T22:30'])\n",
    "diameter_bins = pp.parsivel_parameters['avg_diameter_bins_mm']\n",
    "# print(diameter_bins)\n",
    "fallspeed_bins = pp.parsivel_parameters['avg_fallspeed_bins_mps']\n",
    "# print(fallspeed_bins)\n",
    "\n",
    "empirical_fallspeed = pips.calc_empirical_fallspeed(diameter_bins)\n",
    "# print(empirical_fallspeed)\n",
    "\n",
    "fallspeed_spectrum1 = pips.calc_fallspeed_spectrum(diameter_bins, fallspeed_bins, use_measured_fallspeed=False)\n",
    "#print(fallspeed_spectrum1)\n",
    "fallspeed_spectrum2 = pips.calc_fallspeed_spectrum(diameter_bins, fallspeed_bins, use_measured_fallspeed=True)\n",
    "#print(fallspeed_spectrum2)"
   ]
  },
  {
   "cell_type": "code",
   "execution_count": 5,
   "metadata": {
    "ExecuteTime": {
     "end_time": "2020-01-27T17:13:49.944009Z",
     "start_time": "2020-01-27T17:13:49.826346Z"
    }
   },
   "outputs": [
    {
     "name": "stdout",
     "output_type": "stream",
     "text": [
      "Index(['parsivel_dBZ', 'pcount', 'precipaccum', 'precipintensity', 'pvoltage',\n",
      "       'sample_interval', 'sensor_temp', 'signal_amplitude'],\n",
      "      dtype='object')\n",
      "Index(['precipintensity', 'precipaccum', 'parsivel_dBZ', 'pcount',\n",
      "       'signal_amplitude', 'pvoltage', 'sensor_temp', 'sample_interval'],\n",
      "      dtype='object')\n"
     ]
    }
   ],
   "source": [
    "conv_df = pips.calc_thermo(conv_df)\n",
    "\n",
    "DSD_interval = 10.\n",
    "PSD_datetimes = pips.get_PSD_datetimes(vd_matrix_da)\n",
    "PSD_datetimes_dict = pips.get_PSD_time_bins(PSD_datetimes)\n",
    "PSDstarttimes = PSD_datetimes_dict['PSD_datetimes_edges']\n",
    "PSDmidtimes = PSD_datetimes_dict['PSD_datetimes']\n",
    "\n",
    "sec_offset = PSD_datetimes[0].second\n",
    "conv_resampled_df = pips.resample_conv('PIPS', DSD_interval, sec_offset, conv_df)\n",
    "conv_resampled_df_index = conv_resampled_df.index.intersection(parsivel_df.index)\n",
    "conv_resampled_df = conv_resampled_df.loc[conv_resampled_df_index]\n",
    "\n",
    "print(parsivel_df.columns)\n",
    "#print(conv_resampled_df)\n",
    "\n",
    "#parsivel_resampled_df = pips.resample_parsivel(60., parsivel_df)\n",
    "resample_interval = 60.\n",
    "intervalstr = '{:d}S'.format(int(resample_interval))\n",
    "parsivel_resampler = parsivel_df.resample(intervalstr, label='right', closed='right',\n",
    "                                          base=sec_offset)\n",
    "\n",
    "parsivel_resampled_df = parsivel_resampler.agg({'precipintensity': np.mean, 'precipaccum': np.sum,\n",
    "                                   'parsivel_dBZ': np.mean, 'pcount': np.sum,\n",
    "                                   'signal_amplitude': np.mean, 'pvoltage': np.mean, 'sensor_temp': np.mean,\n",
    "                                   'sample_interval': np.mean})\n",
    "\n",
    "print(parsivel_resampled_df.columns)\n",
    "\n",
    "\n",
    "# for time in vd_matrix_da['time'].to_index():\n",
    "#     print(parsivel_df['pcount'].loc[time])\n",
    "#     # print(conv_resampled_df['rho'].loc[time])\n",
    "#     # print(vd_matrix_da.loc[time])"
   ]
  },
  {
   "cell_type": "code",
   "execution_count": 6,
   "metadata": {
    "ExecuteTime": {
     "end_time": "2020-01-27T17:13:52.839290Z",
     "start_time": "2020-01-27T17:13:52.434607Z"
    }
   },
   "outputs": [
    {
     "data": {
      "text/plain": [
       "<matplotlib.collections.QuadMesh at 0x7faa82c09eb8>"
      ]
     },
     "execution_count": 6,
     "metadata": {},
     "output_type": "execute_result"
    },
    {
     "data": {
      "image/png": "[encoded data removed]",
      "text/plain": [
       "<Figure size 432x288 with 2 Axes>"
      ]
     },
     "metadata": {
      "needs_background": "light"
     },
     "output_type": "display_data"
    }
   ],
   "source": [
    "vd = vd_matrix_da.loc['2016-03-31T22:30:03']\n",
    "vd['diameter'] = ('diameter_bin', diameter_bins)\n",
    "vd['fallspeed'] = ('fallspeed_bin', fallspeed_bins)\n",
    "vd.where(vd > 0.0).plot(x='diameter', y='fallspeed', xlim=[0., 15], ylim=[0., 15.])"
   ]
  },
  {
   "cell_type": "code",
   "execution_count": 7,
   "metadata": {
    "ExecuteTime": {
     "end_time": "2020-01-27T17:13:59.322927Z",
     "start_time": "2020-01-27T17:13:58.521071Z"
    }
   },
   "outputs": [
    {
     "name": "stdout",
     "output_type": "stream",
     "text": [
      "Severe Wind contamination, masking entire PSD!\n",
      "Severe Wind contamination, masking entire PSD!\n",
      "Severe Wind contamination, masking entire PSD!\n",
      "Severe Wind contamination, masking entire PSD!\n",
      "380\n"
     ]
    },
    {
     "data": {
      "text/plain": [
       "[<matplotlib.lines.Line2D at 0x7faa82bce128>]"
      ]
     },
     "execution_count": 7,
     "metadata": {},
     "output_type": "execute_result"
    },
    {
     "data": {
      "image/png": "[encoded data removed]",
      "text/plain": [
       "<Figure size 432x288 with 2 Axes>"
      ]
     },
     "metadata": {
      "needs_background": "light"
     },
     "output_type": "display_data"
    }
   ],
   "source": [
    "# Do some QC\n",
    "vd_matrix_QC = pqc.strongwindQC(vd_matrix_da)\n",
    "vd_matrix_QC = pqc.rainonlyQC(vd_matrix_QC)\n",
    "vdQC = vd_matrix_QC.loc['2016-03-31T22:30:03']\n",
    "vdQC['diameter'] = ('diameter_bin', diameter_bins)\n",
    "vdQC['fallspeed'] = ('fallspeed_bin', fallspeed_bins)\n",
    "vdQC.where(vdQC > 0.0).plot(x='diameter', y='fallspeed', xlim=[0., 15], ylim=[0., 15.])\n",
    "plt.plot(diameter_bins, empirical_fallspeed, color='r')"
   ]
  },
  {
   "cell_type": "code",
   "execution_count": 8,
   "metadata": {
    "ExecuteTime": {
     "end_time": "2020-01-27T17:14:02.262199Z",
     "start_time": "2020-01-27T17:14:01.762090Z"
    }
   },
   "outputs": [
    {
     "name": "stderr",
     "output_type": "stream",
     "text": [
      "/Users/dawson29/miniconda3/envs/pyPIPS/lib/python3.7/site-packages/xarray/core/computation.py:601: RuntimeWarning: divide by zero encountered in log10\n",
      "  result_data = func(*input_data)\n"
     ]
    },
    {
     "name": "stdout",
     "output_type": "stream",
     "text": [
      "<xarray.DataArray (time: 380, diameter_bin: 32)>\n",
      "array([[0., 0., 0., ..., 0., 0., 0.],\n",
      "       [0., 0., 0., ..., 0., 0., 0.],\n",
      "       [0., 0., 0., ..., 0., 0., 0.],\n",
      "       ...,\n",
      "       [0., 0., 0., ..., 0., 0., 0.],\n",
      "       [0., 0., 0., ..., 0., 0., 0.],\n",
      "       [0., 0., 0., ..., 0., 0., 0.]])\n",
      "Coordinates:\n",
      "  * time           (time) datetime64[ns] 2016-03-31T22:11:53 ... 2016-03-31T23:15:03\n",
      "    diameter       (diameter_bin) float64 0.0625 0.1875 0.3125 ... 21.5 24.5\n",
      "    min_diameter   (diameter_bin) float64 0.0 0.125 0.25 ... 18.0 20.0 23.0\n",
      "    max_diameter   (diameter_bin) float64 0.125 0.25 0.375 ... 20.0 23.0 26.0\n",
      "    flagged times  (time) int64 0 0 0 0 0 0 0 0 0 0 0 ... 0 0 0 0 0 0 0 0 0 0 0\n",
      "Dimensions without coordinates: diameter_bin\n"
     ]
    },
    {
     "data": {
      "image/png": "[encoded data removed]",
      "text/plain": [
       "<Figure size 1080x216 with 2 Axes>"
      ]
     },
     "metadata": {
      "needs_background": "light"
     },
     "output_type": "display_data"
    }
   ],
   "source": [
    "# Calculate ND\n",
    "ND1 = pips.calc_ND(vd_matrix_QC.where(vd_matrix_QC > 0.0), fallspeed_spectrum1, 10.)\n",
    "ND2 = pips.calc_ND(vd_matrix_QC.where(vd_matrix_QC > 0.0), fallspeed_spectrum2, 10.)\n",
    "np.log10(ND1).T.plot(y='diameter', ylim=[0.0, 9.0], vmin=-1.0, vmax=3.0, aspect=5, size=3)\n",
    "print(ND1)"
   ]
  },
  {
   "cell_type": "code",
   "execution_count": null,
   "metadata": {},
   "outputs": [],
   "source": []
  },
  {
   "cell_type": "code",
   "execution_count": 9,
   "metadata": {
    "ExecuteTime": {
     "end_time": "2020-01-27T17:14:06.531740Z",
     "start_time": "2020-01-27T17:14:05.552995Z"
    }
   },
   "outputs": [
    {
     "name": "stderr",
     "output_type": "stream",
     "text": [
      "No handles with labels found to put in legend.\n"
     ]
    }
   ],
   "source": [
    "timelimits = [PSDstarttimes[0], PSDstarttimes[-1]]\n",
    "diamlimits = [0.0, 9.0]\n",
    "diamytick = 1.0\n",
    "DSDtype = 'observed'\n",
    "locator = dates.MinuteLocator(byminute=[0, 15, 30, 45])\n",
    "minorlocator = dates.MinuteLocator(byminute=range(0, 60, 5))\n",
    "dateformat = '%H:%M'\n",
    "formatter = dates.DateFormatter(dateformat)\n",
    "\n",
    "axparams = {'majorxlocator': locator, 'majorxformatter': formatter,\n",
    "            'minorxlocator': minorlocator,\n",
    "            'axeslimits': [timelimits, diamlimits],\n",
    "            'majorylocator': ticker.MultipleLocator(base=diamytick),\n",
    "            'axeslabels': [None, 'D (mm)']}\n",
    "\n",
    "disvars = {\n",
    "    'min_diameter': ND2['min_diameter'], \n",
    "    'PSDstarttimes': PSDstarttimes,\n",
    "    'PSDmidtimes': PSDmidtimes, \n",
    "    'logND': np.log10(ND2).T\n",
    "}\n",
    "dis_plot_name = 'PIPS1A'\n",
    "PIPSplot.plotDSDmeteograms(dis_plot_name, './', axparams, disvars)"
   ]
  },
  {
   "cell_type": "code",
   "execution_count": 10,
   "metadata": {
    "ExecuteTime": {
     "end_time": "2020-01-27T17:14:09.434952Z",
     "start_time": "2020-01-27T17:14:09.024292Z"
    }
   },
   "outputs": [
    {
     "data": {
      "text/plain": [
       "<matplotlib.collections.QuadMesh at 0x7faa82d2d668>"
      ]
     },
     "execution_count": 10,
     "metadata": {},
     "output_type": "execute_result"
    },
    {
     "data": {
      "image/png": "[encoded data removed]",
      "text/plain": [
       "<Figure size 1080x216 with 2 Axes>"
      ]
     },
     "metadata": {
      "needs_background": "light"
     },
     "output_type": "display_data"
    }
   ],
   "source": [
    "np.log10(ND2).T.plot(y='diameter', ylim=[0.0, 9.0], vmin=-1.0, vmax=3.0, aspect=5, size=3)"
   ]
  },
  {
   "cell_type": "code",
   "execution_count": 11,
   "metadata": {
    "ExecuteTime": {
     "end_time": "2020-01-27T17:14:10.468112Z",
     "start_time": "2020-01-27T17:14:10.375725Z"
    }
   },
   "outputs": [
    {
     "name": "stdout",
     "output_type": "stream",
     "text": [
      "Requested DSD interval: 60.0. Actual DSD interval: 60.0\n",
      "<xarray.DataArray 'time' (time: 10)>\n",
      "array(['2016-03-31T22:11:53.000000000', '2016-03-31T22:12:03.000000000',\n",
      "       '2016-03-31T22:12:13.000000000', '2016-03-31T22:12:23.000000000',\n",
      "       '2016-03-31T22:12:33.000000000', '2016-03-31T22:12:43.000000000',\n",
      "       '2016-03-31T22:12:53.000000000', '2016-03-31T22:13:03.000000000',\n",
      "       '2016-03-31T22:13:13.000000000', '2016-03-31T22:13:23.000000000'],\n",
      "      dtype='datetime64[ns]')\n",
      "Coordinates:\n",
      "  * time           (time) datetime64[ns] 2016-03-31T22:11:53 ... 2016-03-31T22:13:23\n",
      "    flagged times  (time) int64 0 0 0 0 0 0 0 0 0 0\n",
      "<xarray.DataArray 'time' (time: 10)>\n",
      "array(['2016-03-31T22:11:53.000000000', '2016-03-31T22:12:53.000000000',\n",
      "       '2016-03-31T22:13:53.000000000', '2016-03-31T22:14:53.000000000',\n",
      "       '2016-03-31T22:15:53.000000000', '2016-03-31T22:16:53.000000000',\n",
      "       '2016-03-31T22:17:53.000000000', '2016-03-31T22:18:53.000000000',\n",
      "       '2016-03-31T22:19:53.000000000', '2016-03-31T22:20:53.000000000'],\n",
      "      dtype='datetime64[ns]')\n",
      "Coordinates:\n",
      "  * time     (time) datetime64[ns] 2016-03-31T22:11:53 ... 2016-03-31T22:20:53\n"
     ]
    }
   ],
   "source": [
    "# Now resample the vd matrix across time to go from 10-s to 60-s intervals\n",
    "resample_interval = pips.check_requested_resampling_interval(60., 10.)\n",
    "vd_matrix_rs = pips.resample_vd_matrix(resample_interval, vd_matrix_QC)\n",
    "print(vd_matrix_QC['time'][:10])\n",
    "print(vd_matrix_rs['time'][:10])"
   ]
  },
  {
   "cell_type": "code",
   "execution_count": 12,
   "metadata": {
    "ExecuteTime": {
     "end_time": "2020-01-27T17:14:13.371719Z",
     "start_time": "2020-01-27T17:14:12.984703Z"
    }
   },
   "outputs": [
    {
     "data": {
      "text/plain": [
       "<matplotlib.collections.QuadMesh at 0x7faa72084e10>"
      ]
     },
     "execution_count": 12,
     "metadata": {},
     "output_type": "execute_result"
    },
    {
     "data": {
      "image/png": "[encoded data removed]",
      "text/plain": [
       "<Figure size 1080x216 with 2 Axes>"
      ]
     },
     "metadata": {
      "needs_background": "light"
     },
     "output_type": "display_data"
    }
   ],
   "source": [
    "ND_resampled = pips.calc_ND(vd_matrix_rs.where(vd_matrix_rs > 0.0), fallspeed_spectrum2, 60.)\n",
    "np.log10(ND_resampled).T.plot(y='diameter', ylim=[0.0, 9.0], vmin=-1.0, vmax=3.0, aspect=5, size=3)\n",
    "\n"
   ]
  },
  {
   "cell_type": "code",
   "execution_count": 13,
   "metadata": {
    "ExecuteTime": {
     "end_time": "2020-01-27T17:14:15.362895Z",
     "start_time": "2020-01-27T17:14:15.296409Z"
    },
    "scrolled": true
   },
   "outputs": [],
   "source": [
    "# Add additional thermodynamic variables to conv_df\n",
    "conv_df = pips.calc_thermo(conv_df)\n"
   ]
  },
  {
   "cell_type": "code",
   "execution_count": 14,
   "metadata": {
    "ExecuteTime": {
     "end_time": "2020-01-27T17:14:16.396489Z",
     "start_time": "2020-01-27T17:14:16.057457Z"
    },
    "scrolled": true
   },
   "outputs": [
    {
     "name": "stdout",
     "output_type": "stream",
     "text": [
      "Index(['GPS_alt', 'GPS_date', 'GPS_dir', 'GPS_lat', 'GPS_lon', 'GPS_magvar',\n",
      "       'GPS_spd', 'GPS_status', 'GPS_time', 'RH', 'RH_derived', 'compass_dir',\n",
      "       'dewpoint', 'fasttemp', 'pressure', 'slowtemp', 'voltage', 'winddiag',\n",
      "       'winddirabs', 'winddirrel', 'windspd', 'pt', 'qv', 'rho'],\n",
      "      dtype='object')\n"
     ]
    },
    {
     "data": {
      "text/plain": [
       "<matplotlib.axes._subplots.AxesSubplot at 0x7faa82fbd208>"
      ]
     },
     "execution_count": 14,
     "metadata": {},
     "output_type": "execute_result"
    },
    {
     "data": {
      "image/png": "[encoded data removed]",
      "text/plain": [
       "<Figure size 432x288 with 1 Axes>"
      ]
     },
     "metadata": {
      "needs_background": "light"
     },
     "output_type": "display_data"
    }
   ],
   "source": [
    "print(conv_df.columns)\n",
    "conv_df['fasttemp'].plot()\n",
    "conv_df['dewpoint'].plot()"
   ]
  },
  {
   "cell_type": "code",
   "execution_count": 15,
   "metadata": {
    "ExecuteTime": {
     "end_time": "2020-01-27T17:14:19.941325Z",
     "start_time": "2020-01-27T17:14:19.857410Z"
    }
   },
   "outputs": [],
   "source": [
    "# Resample conventional data to 60-s\n",
    "datetime_range_onesec = conv_df.index.to_pydatetime()\n",
    "sec_offset = pips.get_offset_seconds(datetime_range_onesec)\n",
    "conv_rs_df = pips.resample_conv('PIPS', 60., sec_offset, conv_df)"
   ]
  },
  {
   "cell_type": "code",
   "execution_count": 16,
   "metadata": {
    "ExecuteTime": {
     "end_time": "2020-01-27T17:14:21.162283Z",
     "start_time": "2020-01-27T17:14:20.872503Z"
    }
   },
   "outputs": [
    {
     "data": {
      "text/plain": [
       "<matplotlib.axes._subplots.AxesSubplot at 0x7faa8300dcc0>"
      ]
     },
     "execution_count": 16,
     "metadata": {},
     "output_type": "execute_result"
    },
    {
     "data": {
      "image/png": "[encoded data removed]",
      "text/plain": [
       "<Figure size 432x288 with 1 Axes>"
      ]
     },
     "metadata": {
      "needs_background": "light"
     },
     "output_type": "display_data"
    }
   ],
   "source": [
    "conv_rs_df['fasttemp'].plot()\n",
    "conv_rs_df['dewpoint'].plot()"
   ]
  },
  {
   "cell_type": "code",
   "execution_count": 17,
   "metadata": {
    "ExecuteTime": {
     "end_time": "2020-01-27T17:14:24.071559Z",
     "start_time": "2020-01-27T17:14:23.792429Z"
    }
   },
   "outputs": [
    {
     "data": {
      "text/plain": [
       "[<matplotlib.lines.Line2D at 0x7faa90f42630>]"
      ]
     },
     "execution_count": 17,
     "metadata": {},
     "output_type": "execute_result"
    },
    {
     "data": {
      "image/png": "[encoded data removed]",
      "text/plain": [
       "<Figure size 432x288 with 1 Axes>"
      ]
     },
     "metadata": {
      "needs_background": "light"
     },
     "output_type": "display_data"
    }
   ],
   "source": [
    "# Test calculation of moments\n",
    "M0, M0_binned = dsd.calc_moment_bin(ND1, moment=0)\n",
    "M0.plot()"
   ]
  },
  {
   "cell_type": "code",
   "execution_count": 18,
   "metadata": {
    "ExecuteTime": {
     "end_time": "2020-01-27T17:14:25.267001Z",
     "start_time": "2020-01-27T17:14:24.999377Z"
    }
   },
   "outputs": [
    {
     "data": {
      "text/plain": [
       "[<matplotlib.lines.Line2D at 0x7faa606a4390>]"
      ]
     },
     "execution_count": 18,
     "metadata": {},
     "output_type": "execute_result"
    },
    {
     "data": {
      "image/png": "[encoded data removed]",
      "text/plain": [
       "<Figure size 432x288 with 1 Axes>"
      ]
     },
     "metadata": {
      "needs_background": "light"
     },
     "output_type": "display_data"
    }
   ],
   "source": [
    "M3, M3_binned = dsd.calc_moment_bin(ND1, moment=3)\n",
    "M3.plot()"
   ]
  },
  {
   "cell_type": "code",
   "execution_count": 19,
   "metadata": {
    "ExecuteTime": {
     "end_time": "2020-01-27T17:14:28.002024Z",
     "start_time": "2020-01-27T17:14:27.704229Z"
    },
    "scrolled": false
   },
   "outputs": [
    {
     "data": {
      "text/plain": [
       "[<matplotlib.lines.Line2D at 0x7faa72209da0>]"
      ]
     },
     "execution_count": 19,
     "metadata": {},
     "output_type": "execute_result"
    },
    {
     "data": {
      "image/png": "[encoded data removed]",
      "text/plain": [
       "<Figure size 432x288 with 1 Axes>"
      ]
     },
     "metadata": {
      "needs_background": "light"
     },
     "output_type": "display_data"
    }
   ],
   "source": [
    "# Testing calculation of D0\n",
    "\n",
    "D0 = dsd.calc_D0_bin(ND1) * 1000.\n",
    "D0.plot()"
   ]
  },
  {
   "cell_type": "code",
   "execution_count": null,
   "metadata": {
    "ExecuteTime": {
     "end_time": "2020-01-24T19:05:38.661885Z",
     "start_time": "2020-01-24T19:05:38.488205Z"
    }
   },
   "outputs": [],
   "source": [
    "Dm = ND1['diameter'] / 1000.\n",
    "M3, M3_binned = dsd.calc_moment_bin(ND1, moment=3)\n",
    "\n",
    "M3_binned = M3_binned.where(M3_binned != 0.)\n",
    "print(M3_binned.loc[dict(time='2016-03-31T22:30:00')])\n",
    "M3_arr = M3_binned.loc[dict(time='2016-03-31T22:30:00')].values\n",
    "print(M3_arr)\n",
    "print()\n",
    "M3_med = M3_binned.quantile(0.5, dim='diameter_bin', interpolation='linear')\n",
    "print(M3_med.loc[dict(time='2016-03-31T22:30:00')])\n",
    "# D0 is the cube root of this median volume\n",
    "D0 = M3_med**(1./3.) * 1000.\n",
    "print(D0.loc[dict(time='2016-03-31T22:30:00')])\n",
    "D0.plot()"
   ]
  },
  {
   "cell_type": "code",
   "execution_count": 20,
   "metadata": {
    "ExecuteTime": {
     "end_time": "2020-01-27T17:14:51.892100Z",
     "start_time": "2020-01-27T17:14:51.816798Z"
    },
    "scrolled": false
   },
   "outputs": [],
   "source": [
    "# Test interpolating from one index to another\n",
    "\n",
    "da = xr.DataArray(np.sin(0.3 * np.arange(12).reshape(4, 3)),\n",
    "                  [('time', np.arange(4)),\n",
    "                   ('space', [0.1, 0.2, 0.3])])\n",
    "\n",
    "other = xr.DataArray(np.sin(0.4 * np.arange(9).reshape(3, 3)),\n",
    "                     [('time', [0.9, 1.9, 2.9]),\n",
    "                      ('space', [0.1, 0.2, 0.3])])"
   ]
  },
  {
   "cell_type": "code",
   "execution_count": 21,
   "metadata": {
    "ExecuteTime": {
     "end_time": "2020-01-27T17:14:52.860673Z",
     "start_time": "2020-01-27T17:14:52.790654Z"
    },
    "scrolled": false
   },
   "outputs": [
    {
     "name": "stdout",
     "output_type": "stream",
     "text": [
      "<xarray.DataArray (time: 4, space: 3)>\n",
      "array([[ 0.        ,  0.29552021,  0.56464247],\n",
      "       [ 0.78332691,  0.93203909,  0.99749499],\n",
      "       [ 0.97384763,  0.86320937,  0.67546318],\n",
      "       [ 0.42737988,  0.14112001, -0.15774569]])\n",
      "Coordinates:\n",
      "  * time     (time) int64 0 1 2 3\n",
      "  * space    (space) float64 0.1 0.2 0.3\n",
      "<xarray.DataArray (time: 3, space: 3)>\n",
      "array([[ 0.        ,  0.38941834,  0.71735609],\n",
      "       [ 0.93203909,  0.9995736 ,  0.90929743],\n",
      "       [ 0.67546318,  0.33498815, -0.05837414]])\n",
      "Coordinates:\n",
      "  * time     (time) float64 0.9 1.9 2.9\n",
      "  * space    (space) float64 0.1 0.2 0.3\n"
     ]
    }
   ],
   "source": [
    "print(da)\n",
    "print(other)"
   ]
  },
  {
   "cell_type": "code",
   "execution_count": 22,
   "metadata": {
    "ExecuteTime": {
     "end_time": "2020-01-27T17:14:53.943689Z",
     "start_time": "2020-01-27T17:14:53.805000Z"
    },
    "scrolled": false
   },
   "outputs": [
    {
     "data": {
      "text/html": [
       "<pre>&lt;xarray.DataArray (time: 3, space: 3)&gt;\n",
       "array([[ 0.70499422,  0.8683872 ,  0.95420974],\n",
       "       [ 0.95479556,  0.87009234,  0.70766636],\n",
       "       [ 0.48202666,  0.21332894, -0.07442481]])\n",
       "Coordinates:\n",
       "  * time     (time) float64 0.9 1.9 2.9\n",
       "  * space    (space) float64 0.1 0.2 0.3</pre>"
      ],
      "text/plain": [
       "<xarray.DataArray (time: 3, space: 3)>\n",
       "array([[ 0.70499422,  0.8683872 ,  0.95420974],\n",
       "       [ 0.95479556,  0.87009234,  0.70766636],\n",
       "       [ 0.48202666,  0.21332894, -0.07442481]])\n",
       "Coordinates:\n",
       "  * time     (time) float64 0.9 1.9 2.9\n",
       "  * space    (space) float64 0.1 0.2 0.3"
      ]
     },
     "execution_count": 22,
     "metadata": {},
     "output_type": "execute_result"
    }
   ],
   "source": [
    "interpolated = da.interp_like(other)\n",
    "interpolated\n"
   ]
  },
  {
   "cell_type": "code",
   "execution_count": 23,
   "metadata": {
    "ExecuteTime": {
     "end_time": "2020-01-27T17:14:56.223397Z",
     "start_time": "2020-01-27T17:14:56.152473Z"
    },
    "scrolled": false
   },
   "outputs": [
    {
     "name": "stdout",
     "output_type": "stream",
     "text": [
      "0.7049943\n"
     ]
    }
   ],
   "source": [
    "x0 = 0\n",
    "y0 = 0\n",
    "x1 = 1\n",
    "y1 = 0.783327\n",
    "\n",
    "x = 0.9\n",
    "\n",
    "y = y0 + (x - x0) * (y1 - y0) / (x1 - x0)\n",
    "print(y)\n"
   ]
  },
  {
   "cell_type": "code",
   "execution_count": 24,
   "metadata": {
    "ExecuteTime": {
     "end_time": "2020-01-27T17:15:04.443934Z",
     "start_time": "2020-01-27T17:14:58.208565Z"
    },
    "scrolled": true
   },
   "outputs": [
    {
     "name": "stdout",
     "output_type": "stream",
     "text": [
      "<xarray.DataArray 'diameter' (time: 65)>\n",
      "array([0.0245   , 0.0245   , 0.0003125, 0.0245   , 0.0245   , 0.0245   ,\n",
      "       0.0245   , 0.0245   , 0.0245   , 0.0245   , 0.0245   , 0.0245   ,\n",
      "       0.0245   , 0.0245   , 0.0245   , 0.0245   , 0.001625 , 0.0055   ,\n",
      "       0.00475  , 0.00425  , 0.0055   , 0.0055   , 0.0075   , 0.0065   ,\n",
      "       0.00425  , 0.0055   , 0.00425  , 0.0065   , 0.0065   , 0.0055   ,\n",
      "       0.00475  , 0.0055   , 0.0065   , 0.0065   , 0.0065   , 0.0245   ,\n",
      "       0.0245   , 0.0065   , 0.0055   , 0.00325  , 0.00425  , 0.00475  ,\n",
      "       0.00425  , 0.00325  , 0.00275  , 0.001875 , 0.001375 , 0.0011875,\n",
      "       0.001875 , 0.001625 , 0.001375 , 0.001375 , 0.0011875, 0.0011875,\n",
      "       0.0009375, 0.001625 , 0.0006875, 0.0005625, 0.0006875, 0.0245   ,\n",
      "       0.0005625, 0.0245   , 0.0245   , 0.0245   , 0.0245   ])\n",
      "Coordinates:\n",
      "    diameter      (time) float64 24.5 24.5 0.3125 24.5 ... 24.5 24.5 24.5 24.5\n",
      "    min_diameter  (time) float64 23.0 23.0 0.25 23.0 ... 23.0 23.0 23.0 23.0\n",
      "    max_diameter  (time) float64 26.0 26.0 0.375 26.0 ... 26.0 26.0 26.0 26.0\n",
      "Dimensions without coordinates: time\n"
     ]
    },
    {
     "name": "stderr",
     "output_type": "stream",
     "text": [
      "/Users/dawson29/Projects/pyPIPS/pyPIPS/DSDlib.py:985: NumbaWarning: \u001b[1m\n",
      "Compilation is falling back to object mode WITH looplifting enabled because Function \"fit_DSD_TMM\" failed type inference due to: \u001b[1mUntyped global name 'fit_DSD_MM246':\u001b[0m \u001b[1m\u001b[1mcannot determine Numba type of <class 'function'>\u001b[0m\n",
      "\u001b[1m\n",
      "File \"../pyPIPS/DSDlib.py\", line 1013:\u001b[0m\n",
      "\u001b[1mdef fit_DSD_TMM(M2, M4, M6, D_min, D_max):\n",
      "    <source elided>\n",
      "    # Get initial estimate of lamda and mu from the untruncated fit:\n",
      "\u001b[1m    _, lamda_init, mu_init = fit_DSD_MM246(M2, M4, M6)\n",
      "\u001b[0m    \u001b[1m^\u001b[0m\u001b[0m\n",
      "\u001b[0m\u001b[0m\n",
      "  @jit\n",
      "/Users/dawson29/Projects/pyPIPS/pyPIPS/DSDlib.py:985: NumbaWarning: \u001b[1m\n",
      "Compilation is falling back to object mode WITHOUT looplifting enabled because Function \"fit_DSD_TMM\" failed type inference due to: \u001b[1mUntyped global name 'fit_DSD_MM246':\u001b[0m \u001b[1m\u001b[1mcannot determine Numba type of <class 'function'>\u001b[0m\n",
      "\u001b[1m\n",
      "File \"../pyPIPS/DSDlib.py\", line 1013:\u001b[0m\n",
      "\u001b[1mdef fit_DSD_TMM(M2, M4, M6, D_min, D_max):\n",
      "    <source elided>\n",
      "    # Get initial estimate of lamda and mu from the untruncated fit:\n",
      "\u001b[1m    _, lamda_init, mu_init = fit_DSD_MM246(M2, M4, M6)\n",
      "\u001b[0m    \u001b[1m^\u001b[0m\u001b[0m\n",
      "\u001b[0m\u001b[0m\n",
      "  @jit\n",
      "/Users/dawson29/miniconda3/envs/pyPIPS/lib/python3.7/site-packages/numba/object_mode_passes.py:178: NumbaWarning: \u001b[1mFunction \"fit_DSD_TMM\" was compiled in object mode without forceobj=True, but has lifted loops.\n",
      "\u001b[1m\n",
      "File \"../pyPIPS/DSDlib.py\", line 1009:\u001b[0m\n",
      "\u001b[1mdef fit_DSD_TMM(M2, M4, M6, D_min, D_max):\n",
      "    <source elided>\n",
      "    \"\"\"\n",
      "\u001b[1m    G = (M4**2.) / (M2 * M6)  # moment ratio based on untruncated moments\n",
      "\u001b[0m    \u001b[1m^\u001b[0m\u001b[0m\n",
      "\u001b[0m\n",
      "  state.func_ir.loc))\n",
      "/Users/dawson29/miniconda3/envs/pyPIPS/lib/python3.7/site-packages/numba/object_mode_passes.py:188: NumbaDeprecationWarning: \u001b[1m\n",
      "Fall-back from the nopython compilation path to the object mode compilation path has been detected, this is deprecated behaviour.\n",
      "\n",
      "For more information visit http://numba.pydata.org/numba-doc/latest/reference/deprecation.html#deprecation-of-object-mode-fall-back-behaviour-when-using-jit\n",
      "\u001b[1m\n",
      "File \"../pyPIPS/DSDlib.py\", line 1009:\u001b[0m\n",
      "\u001b[1mdef fit_DSD_TMM(M2, M4, M6, D_min, D_max):\n",
      "    <source elided>\n",
      "    \"\"\"\n",
      "\u001b[1m    G = (M4**2.) / (M2 * M6)  # moment ratio based on untruncated moments\n",
      "\u001b[0m    \u001b[1m^\u001b[0m\u001b[0m\n",
      "\u001b[0m\n",
      "  state.func_ir.loc))\n",
      "/Users/dawson29/Projects/pyPIPS/pyPIPS/DSDlib.py:976: RuntimeWarning: invalid value encountered in true_divide\n",
      "  N0, lamda, alpha = fit_DSD_TMM(M2_arr, M4_arr, M6_arr, D_min_arr, D_max_arr)\n",
      "/Users/dawson29/Projects/pyPIPS/pyPIPS/DSDlib.py:874: RuntimeWarning: invalid value encountered in true_divide\n",
      "  G = (M4**2.) / (M2 * M6)\n",
      "/Users/dawson29/Projects/pyPIPS/pyPIPS/DSDlib.py:887: RuntimeWarning: overflow encountered in power\n",
      "  N0 = (M4 * lamda**(mu + 5.)) / (gamma_(mu + 5.))\n",
      "/Users/dawson29/Projects/pyPIPS/pyPIPS/DSDlib.py:887: RuntimeWarning: invalid value encountered in true_divide\n",
      "  N0 = (M4 * lamda**(mu + 5.)) / (gamma_(mu + 5.))\n",
      "/Users/dawson29/Projects/pyPIPS/pyPIPS/DSDlib.py:985: NumbaWarning: \u001b[1m\n",
      "Compilation is falling back to object mode WITHOUT looplifting enabled because Function \"fit_DSD_TMM\" failed type inference due to: \u001b[1mUntyped global name 'gammap':\u001b[0m \u001b[1m\u001b[1mcannot determine Numba type of <class 'numpy.ufunc'>\u001b[0m\n",
      "\u001b[1m\n",
      "File \"../pyPIPS/DSDlib.py\", line 1033:\u001b[0m\n",
      "\u001b[1mdef fit_DSD_TMM(M2, M4, M6, D_min, D_max):\n",
      "    <source elided>\n",
      "            # truncated moment ratio below. Equation A8 from Thurai\n",
      "\u001b[1m            gm3 = gammap(3. + mu, LDmx) * np.exp(gammln(3. + mu))\n",
      "\u001b[0m            \u001b[1m^\u001b[0m\u001b[0m\n",
      "\u001b[0m\u001b[0m\n",
      "  @jit\n",
      "/Users/dawson29/miniconda3/envs/pyPIPS/lib/python3.7/site-packages/numba/object_mode_passes.py:178: NumbaWarning: \u001b[1mFunction \"fit_DSD_TMM\" was compiled in object mode without forceobj=True.\n",
      "\u001b[1m\n",
      "File \"../pyPIPS/DSDlib.py\", line 1027:\u001b[0m\n",
      "\u001b[1mdef fit_DSD_TMM(M2, M4, M6, D_min, D_max):\n",
      "    <source elided>\n",
      "\n",
      "\u001b[1m    for t in range(numtimes):\n",
      "\u001b[0m    \u001b[1m^\u001b[0m\u001b[0m\n",
      "\u001b[0m\n",
      "  state.func_ir.loc))\n",
      "/Users/dawson29/miniconda3/envs/pyPIPS/lib/python3.7/site-packages/numba/object_mode_passes.py:188: NumbaDeprecationWarning: \u001b[1m\n",
      "Fall-back from the nopython compilation path to the object mode compilation path has been detected, this is deprecated behaviour.\n",
      "\n",
      "For more information visit http://numba.pydata.org/numba-doc/latest/reference/deprecation.html#deprecation-of-object-mode-fall-back-behaviour-when-using-jit\n",
      "\u001b[1m\n",
      "File \"../pyPIPS/DSDlib.py\", line 1027:\u001b[0m\n",
      "\u001b[1mdef fit_DSD_TMM(M2, M4, M6, D_min, D_max):\n",
      "    <source elided>\n",
      "\n",
      "\u001b[1m    for t in range(numtimes):\n",
      "\u001b[0m    \u001b[1m^\u001b[0m\u001b[0m\n",
      "\u001b[0m\n",
      "  state.func_ir.loc))\n"
     ]
    },
    {
     "name": "stdout",
     "output_type": "stream",
     "text": [
      "Working on time 0\n",
      "Working on time 1\n",
      "Working on time 2\n",
      "Working on time 3\n",
      "Working on time 4\n",
      "Working on time 5\n",
      "Working on time 6\n",
      "Working on time 7\n",
      "Working on time 8\n",
      "Working on time 9\n",
      "Working on time 10\n",
      "Working on time 11\n",
      "Working on time 12\n",
      "Working on time 13\n",
      "Working on time 14\n",
      "Working on time 15\n",
      "Working on time 16\n",
      "Working on time 17\n",
      "Working on time 18\n",
      "Working on time 19\n",
      "Working on time 20\n",
      "Working on time 21\n",
      "Working on time 22\n",
      "Working on time 23\n",
      "Working on time 24\n",
      "Working on time 25\n"
     ]
    },
    {
     "name": "stderr",
     "output_type": "stream",
     "text": [
      "/Users/dawson29/Projects/pyPIPS/pyPIPS/DSDlib.py:976: RuntimeWarning: overflow encountered in exp\n",
      "  N0, lamda, alpha = fit_DSD_TMM(M2_arr, M4_arr, M6_arr, D_min_arr, D_max_arr)\n",
      "/Users/dawson29/Projects/pyPIPS/pyPIPS/DSDlib.py:976: RuntimeWarning: invalid value encountered in double_scalars\n",
      "  N0, lamda, alpha = fit_DSD_TMM(M2_arr, M4_arr, M6_arr, D_min_arr, D_max_arr)\n"
     ]
    },
    {
     "name": "stdout",
     "output_type": "stream",
     "text": [
      "Working on time 26\n",
      "Working on time 27\n",
      "Working on time 28\n",
      "Working on time 29\n",
      "Working on time 30\n",
      "Working on time 31\n",
      "Working on time 32\n",
      "Working on time 33\n",
      "Working on time 34\n",
      "Working on time 35\n",
      "Working on time 36\n",
      "Working on time 37\n",
      "Working on time 38\n",
      "Working on time 39\n",
      "Working on time 40\n",
      "Working on time 41\n",
      "Working on time 42\n",
      "Working on time 43\n",
      "Working on time 44\n",
      "Working on time 45\n",
      "Working on time 46\n",
      "Working on time 47\n",
      "Working on time 48\n",
      "Working on time 49\n",
      "Working on time 50\n",
      "Working on time 51\n",
      "Working on time 52\n",
      "Working on time 53\n",
      "Working on time 54\n",
      "Working on time 55\n",
      "Working on time 56\n",
      "Working on time 57\n",
      "Working on time 58\n",
      "Working on time 59\n",
      "Working on time 60\n",
      "Working on time 61\n",
      "Working on time 62\n",
      "Working on time 63\n",
      "Working on time 64\n"
     ]
    }
   ],
   "source": [
    "M2, _ = dsd.calc_moment_bin(ND_resampled, moment=2)\n",
    "M3, _ = dsd.calc_moment_bin(ND_resampled, moment=3)\n",
    "M4, _ = dsd.calc_moment_bin(ND_resampled, moment=4)\n",
    "M6, _ = dsd.calc_moment_bin(ND_resampled, moment=6)\n",
    "\n",
    "DSD_MM24 = dsd.fit_DSD_MM24(M2, M4)\n",
    "DSD_MM36 = dsd.fit_DSD_MM36(M3, M6)\n",
    "DSD_MM346 = dsd.fit_DSD_MM346(M3, M4, M6)\n",
    "DSD_MM246 = dsd.fit_DSD_MM246(M2, M4, M6)\n",
    "DSD_MM234 = dsd.fit_DSD_MM234(M2, M3, M4)\n",
    "\n",
    "D_min, D_max = dsd.get_max_min_diameters(ND_resampled)\n",
    "print(D_max)\n",
    "\n",
    "DSD_TMM246 = dsd.fit_DSD_TMM_xr(M2, M4, M6, D_min, D_max)"
   ]
  },
  {
   "cell_type": "code",
   "execution_count": 25,
   "metadata": {
    "ExecuteTime": {
     "end_time": "2020-01-27T17:15:30.686721Z",
     "start_time": "2020-01-27T17:15:30.528610Z"
    },
    "scrolled": true
   },
   "outputs": [
    {
     "name": "stdout",
     "output_type": "stream",
     "text": [
      "<xarray.DataArray 'diameter' (diameter_bin: 32)>\n",
      "array([6.2500e-05, 1.8750e-04, 3.1250e-04, 4.3750e-04, 5.6250e-04,\n",
      "       6.8750e-04, 8.1250e-04, 9.3750e-04, 1.0625e-03, 1.1875e-03,\n",
      "       1.3750e-03, 1.6250e-03, 1.8750e-03, 2.1250e-03, 2.3750e-03,\n",
      "       2.7500e-03, 3.2500e-03, 3.7500e-03, 4.2500e-03, 4.7500e-03,\n",
      "       5.5000e-03, 6.5000e-03, 7.5000e-03, 8.5000e-03, 9.5000e-03,\n",
      "       1.1000e-02, 1.3000e-02, 1.5000e-02, 1.7000e-02, 1.9000e-02,\n",
      "       2.1500e-02, 2.4500e-02])\n",
      "Coordinates:\n",
      "    diameter      (diameter_bin) float64 0.0625 0.1875 0.3125 ... 19.0 21.5 24.5\n",
      "    min_diameter  (diameter_bin) float64 0.0 0.125 0.25 0.375 ... 18.0 20.0 23.0\n",
      "    max_diameter  (diameter_bin) float64 0.125 0.25 0.375 0.5 ... 20.0 23.0 26.0\n",
      "Dimensions without coordinates: diameter_bin\n",
      "<xarray.DataArray (time: 65)>\n",
      "array([              nan,               nan,   187595.32782807,\n",
      "                     nan,               nan,               nan,\n",
      "                     nan,               nan,               nan,\n",
      "                     nan,               nan,               nan,\n",
      "                     nan,               nan,               nan,\n",
      "                     nan,  3458633.74003694, 10486992.04545646,\n",
      "       11019641.03002309, 16261793.65828317,  9482119.18112595,\n",
      "       11551471.44641684, 10278742.28764259, 10100700.21860984,\n",
      "       16140011.87863824,  6660956.49263041,  5739102.63897765,\n",
      "        4766253.40911817,  6477332.30917157, 10501799.25438114,\n",
      "       12202484.47321709, 10535947.40186448, 10417331.89653752,\n",
      "       10469000.47838589,  8934697.77536818,               nan,\n",
      "                     nan,  8381564.3405097 , 13964070.8775103 ,\n",
      "       23315385.17713216, 12067773.59666437,  7195337.07218172,\n",
      "        8367146.04153613, 10860945.76969435,  7490096.36949058,\n",
      "        6455901.77983201,  6722668.47764197,  6129833.79162974,\n",
      "        3394141.12950378,  2155935.83441084,  2182465.8764187 ,\n",
      "        1317547.04629443,   966080.3173781 ,   174790.98280302,\n",
      "         822421.60524807,   328139.91506547,   368852.01292834,\n",
      "         281337.76662884,   191862.16526795,               nan,\n",
      "          44278.37810928,               nan,               nan,\n",
      "                     nan,               nan])\n",
      "Coordinates:\n",
      "  * time     (time) datetime64[ns] 2016-03-31T22:11:53 ... 2016-03-31T23:15:53\n",
      "<xarray.DataArray (time: 65)>\n",
      "array([0., 0., 0., 0., 0., 0., 0., 0., 0., 0., 0., 0., 0., 0., 0., 0., 0.,\n",
      "       0., 0., 0., 0., 0., 0., 0., 0., 0., 0., 0., 0., 0., 0., 0., 0., 0.,\n",
      "       0., 0., 0., 0., 0., 0., 0., 0., 0., 0., 0., 0., 0., 0., 0., 0., 0.,\n",
      "       0., 0., 0., 0., 0., 0., 0., 0., 0., 0., 0., 0., 0., 0.])\n",
      "Coordinates:\n",
      "  * time     (time) datetime64[ns] 2016-03-31T22:11:53 ... 2016-03-31T23:15:53\n",
      "<xarray.DataArray (time: 65)>\n",
      "array([           nan,            nan, 11085.12516844,            nan,\n",
      "                  nan,            nan,            nan,            nan,\n",
      "                  nan,            nan,            nan,            nan,\n",
      "                  nan,            nan,            nan,            nan,\n",
      "        3699.66206289,  2222.39303407,  1829.52784682,  2161.80990958,\n",
      "        1637.21944973,  1590.78493038,  1507.28731958,  1856.97795426,\n",
      "        2571.6629119 ,  1957.188897  ,  1935.95976258,  1544.79638872,\n",
      "        1541.3201721 ,  1664.42750773,  1733.53979396,  1573.6248386 ,\n",
      "        1643.16747201,  1393.43378833,  1424.86121491,            nan,\n",
      "                  nan,  1457.76730798,  1691.43285041,  2499.82675606,\n",
      "        2251.27020344,  1887.85062556,  2103.88346805,  2672.95174944,\n",
      "        2724.9855872 ,  3175.04192148,  4194.91858951,  4635.57418576,\n",
      "        4002.63226868,  3706.63130252,  3660.73690533,  4236.50516467,\n",
      "        4432.44847924,  3822.13157322,  5052.76966116,  3655.57057723,\n",
      "        6164.48798257,  7037.51937614,  5985.86968838,            nan,\n",
      "        6158.40287136,            nan,            nan,            nan,\n",
      "                  nan])\n",
      "Coordinates:\n",
      "  * time     (time) datetime64[ns] 2016-03-31T22:11:53 ... 2016-03-31T23:15:53\n",
      "<xarray.DataArray 'diameter' (diameter_bin: 32)>\n",
      "array([6.2500e-05, 1.8750e-04, 3.1250e-04, 4.3750e-04, 5.6250e-04,\n",
      "       6.8750e-04, 8.1250e-04, 9.3750e-04, 1.0625e-03, 1.1875e-03,\n",
      "       1.3750e-03, 1.6250e-03, 1.8750e-03, 2.1250e-03, 2.3750e-03,\n",
      "       2.7500e-03, 3.2500e-03, 3.7500e-03, 4.2500e-03, 4.7500e-03,\n",
      "       5.5000e-03, 6.5000e-03, 7.5000e-03, 8.5000e-03, 9.5000e-03,\n",
      "       1.1000e-02, 1.3000e-02, 1.5000e-02, 1.7000e-02, 1.9000e-02,\n",
      "       2.1500e-02, 2.4500e-02])\n",
      "Coordinates:\n",
      "    diameter      (diameter_bin) float64 0.0625 0.1875 0.3125 ... 19.0 21.5 24.5\n",
      "    min_diameter  (diameter_bin) float64 0.0 0.125 0.25 0.375 ... 18.0 20.0 23.0\n",
      "    max_diameter  (diameter_bin) float64 0.125 0.25 0.375 0.5 ... 20.0 23.0 26.0\n",
      "Dimensions without coordinates: diameter_bin\n",
      "<xarray.DataArray (time: 65)>\n",
      "array([              nan,               nan,   890370.0756657 ,\n",
      "                     nan,               nan,               nan,\n",
      "                     nan,               nan,               nan,\n",
      "                     nan,               nan,               nan,\n",
      "                     nan,               nan,               nan,\n",
      "                     nan, 10493562.26005504,  7376532.79031251,\n",
      "       10098760.08499704, 22368188.33783454, 10606098.88485332,\n",
      "       13491776.67641117,  8324016.72009907,  9343931.55161435,\n",
      "       16989121.50435274,  5357692.77553574,  7658716.98569302,\n",
      "        4860961.70537323,  7028210.32503794, 12239383.78083406,\n",
      "       17429546.1441626 , 15324704.18028035, 12536029.59100655,\n",
      "       12366076.70270002,  7809740.4410717 ,               nan,\n",
      "                     nan,  9369885.3522369 , 21239661.89048005,\n",
      "       44016836.19332916, 11863758.26329578,  7104160.74833611,\n",
      "       11001339.7496023 , 23666283.67692111, 14344288.77793115,\n",
      "       16854861.43777097, 21213717.09252755, 20039975.52673364,\n",
      "        4866569.87486645,  4172077.56835413,  5810498.79237586,\n",
      "        3262295.35159422,  2860584.52942699,   518833.15808998,\n",
      "        2999963.84178055,   444311.33180191,  1508803.51612579,\n",
      "        1206630.02309715,   797092.83982687,               nan,\n",
      "         210155.24919491,               nan,               nan,\n",
      "                     nan,               nan])\n",
      "Coordinates:\n",
      "  * time     (time) datetime64[ns] 2016-03-31T22:11:53 ... 2016-03-31T23:15:53\n",
      "<xarray.DataArray (time: 65)>\n",
      "array([0., 0., 0., 0., 0., 0., 0., 0., 0., 0., 0., 0., 0., 0., 0., 0., 0.,\n",
      "       0., 0., 0., 0., 0., 0., 0., 0., 0., 0., 0., 0., 0., 0., 0., 0., 0.,\n",
      "       0., 0., 0., 0., 0., 0., 0., 0., 0., 0., 0., 0., 0., 0., 0., 0., 0.,\n",
      "       0., 0., 0., 0., 0., 0., 0., 0., 0., 0., 0., 0., 0., 0.])\n",
      "Coordinates:\n",
      "  * time     (time) datetime64[ns] 2016-03-31T22:11:53 ... 2016-03-31T23:15:53\n",
      "<xarray.DataArray (time: 65)>\n",
      "array([           nan,            nan, 15783.75727571,            nan,\n",
      "                  nan,            nan,            nan,            nan,\n",
      "                  nan,            nan,            nan,            nan,\n",
      "                  nan,            nan,            nan,            nan,\n",
      "        4758.04798355,  2040.32611516,  1798.94845041,  2324.09014649,\n",
      "        1685.6222507 ,  1654.86358935,  1437.48827537,  1822.7001218 ,\n",
      "        2586.19619369,  1871.31469654,  2071.31900117,  1554.98102525,\n",
      "        1575.31913138,  1725.74663335,  1884.84180471,  1716.73334668,\n",
      "        1715.32861664,  1450.2558414 ,  1386.06428795,            nan,\n",
      "                  nan,  1500.57315909,  1862.81010361,  2883.97324532,\n",
      "        2239.33396204,  1882.61879569,  2238.74553664,  3187.83801684,\n",
      "        3152.08430182,  3945.54295249,  5440.31125692,  6061.93775446,\n",
      "        4325.61358168,  4304.21472876,  4574.66335622,  5208.99995978,\n",
      "        5665.67580099,  4893.55031587,  6773.2880881 ,  3913.30670217,\n",
      "        8482.66044422,  9789.04727128,  8266.63429272,            nan,\n",
      "        8768.75404206,            nan,            nan,            nan,\n",
      "                  nan])\n",
      "Coordinates:\n",
      "  * time     (time) datetime64[ns] 2016-03-31T22:11:53 ... 2016-03-31T23:15:53\n",
      "<xarray.DataArray 'diameter' (diameter_bin: 32)>\n",
      "array([6.2500e-05, 1.8750e-04, 3.1250e-04, 4.3750e-04, 5.6250e-04,\n",
      "       6.8750e-04, 8.1250e-04, 9.3750e-04, 1.0625e-03, 1.1875e-03,\n",
      "       1.3750e-03, 1.6250e-03, 1.8750e-03, 2.1250e-03, 2.3750e-03,\n",
      "       2.7500e-03, 3.2500e-03, 3.7500e-03, 4.2500e-03, 4.7500e-03,\n",
      "       5.5000e-03, 6.5000e-03, 7.5000e-03, 8.5000e-03, 9.5000e-03,\n",
      "       1.1000e-02, 1.3000e-02, 1.5000e-02, 1.7000e-02, 1.9000e-02,\n",
      "       2.1500e-02, 2.4500e-02])\n",
      "Coordinates:\n",
      "    diameter      (diameter_bin) float64 0.0625 0.1875 0.3125 ... 19.0 21.5 24.5\n",
      "    min_diameter  (diameter_bin) float64 0.0 0.125 0.25 0.375 ... 18.0 20.0 23.0\n",
      "    max_diameter  (diameter_bin) float64 0.125 0.25 0.375 0.5 ... 20.0 23.0 26.0\n",
      "Dimensions without coordinates: diameter_bin\n",
      "<xarray.DataArray (time: 65)>\n",
      "array([             nan,              nan,  0.00000000e+000,\n",
      "                    nan,              nan,              nan,\n",
      "                    nan,              nan,              nan,\n",
      "                    nan,              nan,              nan,\n",
      "                    nan,              nan,              nan,\n",
      "                    nan,  4.96479695e+037,  1.89906889e+006,\n",
      "        4.82777298e+005,  1.35049678e+010,  4.37433257e+006,\n",
      "        7.25323120e+006,  4.03072995e+005,  5.60982055e+006,\n",
      "        1.32640735e+010,  2.79004741e+004,  2.46212187e+008,\n",
      "        1.57581443e+006,  2.49997068e+006,  5.08078071e+007,\n",
      "        1.17293933e+009,  3.12478842e+009,  1.35832936e+008,\n",
      "        3.49415650e+007,  2.47672100e+005,              nan,\n",
      "                    nan,  4.05903089e+006,  3.00475897e+010,\n",
      "        3.81831726e+016,  2.68325439e+007,  5.36348505e+006,\n",
      "        2.17547316e+009,  3.21135499e+019,  1.60765832e+017,\n",
      "        1.26109156e+027,  6.90794972e+045,  5.60031987e+049,\n",
      "        1.21169201e+013,  4.50011589e+015,  2.17190908e+025,\n",
      "        4.54958280e+021,  9.71733106e+037,  4.56583027e+032,\n",
      "        6.46039973e+075,  6.44225670e+008,  1.96269369e+146,\n",
      "                    inf,  5.29744923e+160,              nan,\n",
      "       -0.00000000e+000,              nan,              nan,\n",
      "                    nan,              nan])\n",
      "Coordinates:\n",
      "  * time     (time) datetime64[ns] 2016-03-31T22:11:53 ... 2016-03-31T23:15:53\n",
      "<xarray.DataArray (time: 65)>\n",
      "array([            nan,             nan, -4.92413495e+15,             nan,\n",
      "                   nan,             nan,             nan,             nan,\n",
      "                   nan,             nan,             nan,             nan,\n",
      "                   nan,             nan,             nan,             nan,\n",
      "        8.90235532e+00, -2.22872571e-01, -4.18122105e-01,  8.83943126e-01,\n",
      "       -1.05160953e-01, -6.35179742e-02, -4.44377197e-01, -7.86021468e-02,\n",
      "        8.62807811e-01, -7.23954717e-01,  5.00888384e-01, -1.51603865e-01,\n",
      "       -1.30460430e-01,  2.14137292e-01,  6.17751406e-01,  7.80883975e-01,\n",
      "        3.49620787e-01,  1.67724676e-01, -4.95635669e-01,             nan,\n",
      "                   nan, -1.00142689e-01,  1.04332908e+00,  2.74992218e+00,\n",
      "        1.04211963e-01, -3.91924388e-02,  7.33480822e-01,  3.69537213e+00,\n",
      "        3.05091529e+00,  5.89685671e+00,  1.09869349e+01,  1.19578219e+01,\n",
      "        1.83991276e+00,  2.64578323e+00,  5.42127831e+00,  4.35025152e+00,\n",
      "        8.94360385e+00,  7.79692381e+00,  1.92939751e+01,  9.32793648e-01,\n",
      "        3.80284731e+01,  6.02450569e+01,  4.21625219e+01,             nan,\n",
      "                  -inf,             nan,             nan,             nan,\n",
      "                   nan])\n",
      "Coordinates:\n",
      "  * time     (time) datetime64[ns] 2016-03-31T22:11:53 ... 2016-03-31T23:15:53\n",
      "<xarray.DataArray (time: 65)>\n",
      "array([            nan,             nan, -1.57572318e+19,             nan,\n",
      "                   nan,             nan,             nan,             nan,\n",
      "                   nan,             nan,             nan,             nan,\n",
      "                   nan,             nan,             nan,             nan,\n",
      "        1.32349525e+04,  2.07782500e+03,  1.60609651e+03,  2.71799473e+03,\n",
      "        1.58698653e+03,  1.56130825e+03,  1.31163091e+03,  1.81439538e+03,\n",
      "        3.21749975e+03,  1.54279249e+03,  2.21842095e+03,  1.47645665e+03,\n",
      "        1.48264779e+03,  1.76831982e+03,  2.04539800e+03,  1.93135166e+03,\n",
      "        1.81056752e+03,  1.46156771e+03,  1.21852747e+03,             nan,\n",
      "                   nan,  1.41517535e+03,  2.20491746e+03,  4.49572414e+03,\n",
      "        2.31967732e+03,  1.86626782e+03,  2.55316176e+03,  5.53863402e+03,\n",
      "        5.13815110e+03,  8.60054119e+03,  1.75327726e+04,  2.06744469e+04,\n",
      "        6.14295050e+03,  6.55426431e+03,  9.41286481e+03,  9.58115787e+03,\n",
      "        1.59092012e+04,  1.24522954e+04,  3.32394965e+04,  4.64795168e+03,\n",
      "        7.38959898e+04,  1.29497723e+05,  7.88988170e+04,             nan,\n",
      "                  -inf,             nan,             nan,             nan,\n",
      "                   nan])\n",
      "Coordinates:\n",
      "  * time     (time) datetime64[ns] 2016-03-31T22:11:53 ... 2016-03-31T23:15:53\n",
      "<xarray.DataArray 'diameter' (diameter_bin: 32)>\n",
      "array([6.2500e-05, 1.8750e-04, 3.1250e-04, 4.3750e-04, 5.6250e-04,\n",
      "       6.8750e-04, 8.1250e-04, 9.3750e-04, 1.0625e-03, 1.1875e-03,\n",
      "       1.3750e-03, 1.6250e-03, 1.8750e-03, 2.1250e-03, 2.3750e-03,\n",
      "       2.7500e-03, 3.2500e-03, 3.7500e-03, 4.2500e-03, 4.7500e-03,\n",
      "       5.5000e-03, 6.5000e-03, 7.5000e-03, 8.5000e-03, 9.5000e-03,\n",
      "       1.1000e-02, 1.3000e-02, 1.5000e-02, 1.7000e-02, 1.9000e-02,\n",
      "       2.1500e-02, 2.4500e-02])\n",
      "Coordinates:\n",
      "    diameter      (diameter_bin) float64 0.0625 0.1875 0.3125 ... 19.0 21.5 24.5\n",
      "    min_diameter  (diameter_bin) float64 0.0 0.125 0.25 0.375 ... 18.0 20.0 23.0\n",
      "    max_diameter  (diameter_bin) float64 0.125 0.25 0.375 0.5 ... 20.0 23.0 26.0\n",
      "Dimensions without coordinates: diameter_bin\n",
      "<xarray.DataArray (time: 65)>\n",
      "array([            nan,             nan,             nan,             nan,\n",
      "                   nan,             nan,             nan,             nan,\n",
      "                   nan,             nan,             nan,             nan,\n",
      "                   nan,             nan,             nan,             nan,\n",
      "       5.22955048e+043, 1.12097293e+004, 3.95928573e+006, 6.83706612e+010,\n",
      "       3.05254377e+008, 1.30556237e+009, 2.86546810e+005, 1.81946479e+006,\n",
      "       1.06003822e+007, 3.23011321e+005, 1.78105437e+010, 1.18738639e+007,\n",
      "       8.69527785e+007, 4.83190285e+008, 4.36846902e+011, 4.56295498e+011,\n",
      "       9.41159678e+008, 7.67714287e+008, 1.42670668e+006,             nan,\n",
      "                   nan, 2.47046830e+008, 2.67033103e+012, 7.54061498e+016,\n",
      "       6.00278318e+006, 5.72164362e+006, 8.14259743e+009, 1.91578442e+021,\n",
      "       4.77637275e+016, 1.77396235e+030, 5.80884821e+048, 1.45678480e+055,\n",
      "       2.07982433e+010, 2.10048870e+017, 3.06939300e+032, 1.44530816e+028,\n",
      "       3.18878781e+040, 5.63562003e+040, 6.14309281e+080, 1.07756892e+009,\n",
      "       4.20723147e+152,             inf, 2.71755040e+171,             nan,\n",
      "       0.00000000e+000,             nan,             nan,             nan,\n",
      "                   nan])\n",
      "Coordinates:\n",
      "  * time     (time) datetime64[ns] 2016-03-31T22:11:53 ... 2016-03-31T23:15:53\n",
      "<xarray.DataArray (time: 65)>\n",
      "array([            nan,             nan,  1.20095990e+16,             nan,\n",
      "                   nan,             nan,             nan,             nan,\n",
      "                   nan,             nan,             nan,             nan,\n",
      "                   nan,             nan,             nan,             nan,\n",
      "        1.06326152e+01, -8.88516359e-01, -1.37046132e-01,  1.09795778e+00,\n",
      "        4.73140353e-01,  6.47260541e-01, -4.91050431e-01, -2.28918755e-01,\n",
      "       -5.38540925e-02, -4.00972982e-01,  1.07351026e+00,  1.25201419e-01,\n",
      "        3.56700893e-01,  5.20738590e-01,  1.42243720e+00,  1.46771992e+00,\n",
      "        6.13801776e-01,  5.98785552e-01, -2.53962893e-01,             nan,\n",
      "                   nan,  4.68525149e-01,  1.65629259e+00,  2.83857079e+00,\n",
      "       -9.09879051e-02, -3.05711334e-02,  9.08108069e-01,  4.22454576e+00,\n",
      "        2.89450302e+00,  6.81706549e+00,  1.18147314e+01,  1.34724785e+01,\n",
      "        1.06137403e+00,  3.12209690e+00,  7.47426623e+00,  6.18179596e+00,\n",
      "        9.65038785e+00,  1.01112877e+01,  2.06737425e+01,  9.96264710e-01,\n",
      "        3.97442923e+01,  5.97530056e+01,  4.50756045e+01,             nan,\n",
      "       -1.80143985e+16,             nan,             nan,             nan,\n",
      "                   nan])\n",
      "Coordinates:\n",
      "  * time     (time) datetime64[ns] 2016-03-31T22:11:53 ... 2016-03-31T23:15:53\n",
      "<xarray.DataArray (time: 65)>\n",
      "array([           nan,            nan, 3.84307168e+19,            nan,\n",
      "                  nan,            nan,            nan,            nan,\n",
      "                  nan,            nan,            nan,            nan,\n",
      "                  nan,            nan,            nan,            nan,\n",
      "       1.50841901e+04, 1.64440151e+03, 1.75636728e+03, 2.85238890e+03,\n",
      "       1.86287495e+03, 1.89061348e+03, 1.29104075e+03, 1.73290079e+03,\n",
      "       2.53126208e+03, 1.72798541e+03, 2.54064732e+03, 1.60118756e+03,\n",
      "       1.70152147e+03, 1.91688408e+03, 2.45059360e+03, 2.24520850e+03,\n",
      "       1.93688054e+03, 1.63642188e+03, 1.31923201e+03,            nan,\n",
      "                  nan, 1.65673143e+03, 2.50582191e+03, 4.55989915e+03,\n",
      "       2.19150906e+03, 1.87101591e+03, 2.65993729e+03, 5.94787359e+03,\n",
      "       5.01474284e+03, 9.44505333e+03, 1.85357736e+04, 2.27022889e+04,\n",
      "       5.23872714e+03, 7.06549844e+03, 1.15851633e+04, 1.18247817e+04,\n",
      "       1.68142496e+04, 1.50079374e+04, 3.52524943e+04, 4.71535499e+03,\n",
      "       7.69495617e+04, 1.28498062e+05, 8.39328251e+04,            nan,\n",
      "       3.20255974e+19,            nan,            nan,            nan,\n",
      "                  nan])\n",
      "Coordinates:\n",
      "  * time     (time) datetime64[ns] 2016-03-31T22:11:53 ... 2016-03-31T23:15:53\n",
      "<xarray.DataArray 'diameter' (diameter_bin: 32)>\n",
      "array([6.2500e-05, 1.8750e-04, 3.1250e-04, 4.3750e-04, 5.6250e-04,\n",
      "       6.8750e-04, 8.1250e-04, 9.3750e-04, 1.0625e-03, 1.1875e-03,\n",
      "       1.3750e-03, 1.6250e-03, 1.8750e-03, 2.1250e-03, 2.3750e-03,\n",
      "       2.7500e-03, 3.2500e-03, 3.7500e-03, 4.2500e-03, 4.7500e-03,\n",
      "       5.5000e-03, 6.5000e-03, 7.5000e-03, 8.5000e-03, 9.5000e-03,\n",
      "       1.1000e-02, 1.3000e-02, 1.5000e-02, 1.7000e-02, 1.9000e-02,\n",
      "       2.1500e-02, 2.4500e-02])\n",
      "Coordinates:\n",
      "    diameter      (diameter_bin) float64 0.0625 0.1875 0.3125 ... 19.0 21.5 24.5\n",
      "    min_diameter  (diameter_bin) float64 0.0 0.125 0.25 0.375 ... 18.0 20.0 23.0\n",
      "    max_diameter  (diameter_bin) float64 0.125 0.25 0.375 0.5 ... 20.0 23.0 26.0\n",
      "Dimensions without coordinates: diameter_bin\n",
      "<xarray.DataArray (time: 65)>\n",
      "array([            nan,             nan,             nan,             nan,\n",
      "                   nan,             nan,             nan,             nan,\n",
      "                   nan,             nan,             nan,             nan,\n",
      "                   nan,             nan,             nan,             nan,\n",
      "       3.52940108e+046, 9.21088784e+002, 1.63469514e+007, 1.68085567e+011,\n",
      "       5.81698579e+009, 5.35035935e+010, 2.32819514e+005, 9.67920393e+005,\n",
      "       5.25546547e+005, 1.92447495e+006, 2.66221625e+011, 4.33412491e+007,\n",
      "       9.68050395e+008, 1.91999860e+009, 2.13829536e+013, 1.02852954e+013,\n",
      "       2.97686022e+009, 5.48605892e+009, 4.63909018e+006,             nan,\n",
      "                   nan, 4.22313900e+009, 3.88054015e+013, 1.04134611e+017,\n",
      "       2.66477868e+006, 5.94190094e+006, 1.70012028e+010, 1.40338026e+022,\n",
      "       2.77083719e+016, 5.39040000e+031, 9.67181750e+049, 3.27442958e+057,\n",
      "       1.44357597e+009, 1.50033878e+018, 2.61155921e+036, 7.00122471e+031,\n",
      "       3.79113596e+041, 7.91844321e+044, 5.87056789e+082, 1.41888500e+009,\n",
      "       9.53254716e+154,             inf, 3.25003524e+175,             nan,\n",
      "       0.00000000e+000,             nan,             nan,             nan,\n",
      "                   nan])\n",
      "Coordinates:\n",
      "  * time     (time) datetime64[ns] 2016-03-31T22:11:53 ... 2016-03-31T23:15:53\n",
      "<xarray.DataArray (time: 65)>\n",
      "array([            nan,             nan,  5.40431955e+15,             nan,\n",
      "                   nan,             nan,             nan,             nan,\n",
      "                   nan,             nan,             nan,             nan,\n",
      "                   nan,             nan,             nan,             nan,\n",
      "        1.14600260e+01, -1.24414291e+00,  6.82242230e-02,  1.22357693e+00,\n",
      "        9.03865994e-01,  1.19133290e+00, -5.22125566e-01, -3.20151257e-01,\n",
      "       -4.67446845e-01, -1.44128598e-01,  1.45728514e+00,  3.16698294e-01,\n",
      "        7.12409954e-01,  7.21720409e-01,  1.98201351e+00,  1.92191255e+00,\n",
      "        7.81705650e-01,  8.92685430e-01, -7.65721115e-02,             nan,\n",
      "                   nan,  8.90549668e-01,  2.04193122e+00,  2.88234343e+00,\n",
      "       -2.04992660e-01, -2.51370159e-02,  1.01145260e+00,  4.49096959e+00,\n",
      "        2.82153649e+00,  7.26120515e+00,  1.21659836e+01,  1.41397662e+01,\n",
      "        7.18418930e-01,  3.37496146e+00,  8.62912677e+00,  7.24704047e+00,\n",
      "        9.95800487e+00,  1.13199034e+01,  2.12280935e+01,  1.03208690e+00,\n",
      "        4.03860656e+01,  5.95837921e+01,  4.61901440e+01,             nan,\n",
      "       -1.35107989e+16,             nan,             nan,             nan,\n",
      "                   nan])\n",
      "Coordinates:\n",
      "  * time     (time) datetime64[ns] 2016-03-31T22:11:53 ... 2016-03-31T23:15:53\n",
      "<xarray.DataArray (time: 65)>\n",
      "array([            nan,             nan,  1.72938226e+19,             nan,\n",
      "                   nan,             nan,             nan,             nan,\n",
      "                   nan,             nan,             nan,             nan,\n",
      "                   nan,             nan,             nan,             nan,\n",
      "        1.58585549e+04,  1.51601683e+03,  1.82417183e+03,  2.90700653e+03,\n",
      "        1.99812346e+03,  2.05901382e+03,  1.28295037e+03,  1.70263279e+03,\n",
      "        2.33733048e+03,  1.81585080e+03,  2.68981469e+03,  1.65612315e+03,\n",
      "        1.80560092e+03,  1.98130986e+03,  2.64968757e+03,  2.39229725e+03,\n",
      "        1.99042661e+03,  1.71580217e+03,  1.36424304e+03,             nan,\n",
      "                   nan,  1.77467656e+03,  2.64150116e+03,  4.58392211e+03,\n",
      "        2.14491662e+03,  1.87289050e+03,  2.70309517e+03,  6.11125392e+03,\n",
      "        4.97099792e+03,  9.78618379e+03,  1.89121069e+04,  2.35013045e+04,\n",
      "        4.96326146e+03,  7.27340105e+03,  1.26178486e+04,  1.29049610e+04,\n",
      "        1.71560186e+04,  1.61709923e+04,  3.59994000e+04,  4.74151128e+03,\n",
      "        7.80411946e+04,  1.28164823e+05,  8.57826396e+04,             nan,\n",
      "       -2.40191980e+19,             nan,             nan,             nan,\n",
      "                   nan])\n",
      "Coordinates:\n",
      "  * time     (time) datetime64[ns] 2016-03-31T22:11:53 ... 2016-03-31T23:15:53\n",
      "<xarray.DataArray 'diameter' (diameter_bin: 32)>\n",
      "array([6.2500e-05, 1.8750e-04, 3.1250e-04, 4.3750e-04, 5.6250e-04,\n",
      "       6.8750e-04, 8.1250e-04, 9.3750e-04, 1.0625e-03, 1.1875e-03,\n",
      "       1.3750e-03, 1.6250e-03, 1.8750e-03, 2.1250e-03, 2.3750e-03,\n",
      "       2.7500e-03, 3.2500e-03, 3.7500e-03, 4.2500e-03, 4.7500e-03,\n",
      "       5.5000e-03, 6.5000e-03, 7.5000e-03, 8.5000e-03, 9.5000e-03,\n",
      "       1.1000e-02, 1.3000e-02, 1.5000e-02, 1.7000e-02, 1.9000e-02,\n",
      "       2.1500e-02, 2.4500e-02])\n",
      "Coordinates:\n",
      "    diameter      (diameter_bin) float64 0.0625 0.1875 0.3125 ... 19.0 21.5 24.5\n",
      "    min_diameter  (diameter_bin) float64 0.0 0.125 0.25 0.375 ... 18.0 20.0 23.0\n",
      "    max_diameter  (diameter_bin) float64 0.125 0.25 0.375 0.5 ... 20.0 23.0 26.0\n",
      "Dimensions without coordinates: diameter_bin\n",
      "<xarray.DataArray (time: 65)>\n",
      "array([            nan,             nan,             nan,             nan,\n",
      "                   nan,             nan,             nan,             nan,\n",
      "                   nan,             nan,             nan,             nan,\n",
      "                   nan,             nan,             nan,             nan,\n",
      "       4.50452769e+036, 7.69129777e+002, 3.62560863e+002, 8.59257455e+008,\n",
      "       5.36505796e+005, 1.30180573e+006, 1.57816536e+004, 3.43359027e+005,\n",
      "       6.14676861e+005, 7.43575053e+003, 3.28153378e+006, 2.34301546e+005,\n",
      "       2.51990714e+006, 1.65427890e+006, 2.30457897e+008, 2.12723112e+009,\n",
      "       1.27628885e+008, 2.60837564e+006, 1.14569918e+003,             nan,\n",
      "                   nan, 2.43943374e+006, 1.28822792e+011, 3.28251418e+014,\n",
      "       1.43838469e+004, 2.09533641e+003, 2.77974399e+007, 2.96092333e+020,\n",
      "       2.96885781e+012, 2.21125302e+019, 2.37763852e+039, 2.37146777e+042,\n",
      "       9.70886301e+003, 1.51649294e+005, 1.08289437e+010, 8.44607397e+014,\n",
      "       2.35347468e+020, 1.15436082e+009, 1.78111778e+047, 3.57860951e-002,\n",
      "       4.73871143e+081, 1.70700619e+108, 4.87392166e+084,             nan,\n",
      "                   nan,             nan,             nan,             nan,\n",
      "                   nan])\n",
      "Coordinates:\n",
      "  * time     (time) datetime64[ns] 2016-03-31T22:11:53 ... 2016-03-31T23:15:53\n",
      "<xarray.DataArray (time: 65)>\n",
      "array([            nan,             nan,  1.20095990e+16,             nan,\n",
      "                   nan,             nan,             nan,             nan,\n",
      "                   nan,             nan,             nan,             nan,\n",
      "                   nan,             nan,             nan,             nan,\n",
      "        8.62261516e+00, -1.22851636e+00, -1.34704613e+00,  5.27957784e-01,\n",
      "       -3.76859647e-01, -2.82739459e-01, -8.81050431e-01, -4.48918755e-01,\n",
      "       -4.13854093e-01, -8.90972982e-01, -5.64897435e-02, -4.04798581e-01,\n",
      "       -1.23299107e-01, -2.39261410e-01,  4.12437205e-01,  7.37719919e-01,\n",
      "        3.43801776e-01, -1.81214448e-01, -1.21396289e+00,             nan,\n",
      "                   nan, -1.61474851e-01,  1.24629259e+00,  2.13857079e+00,\n",
      "       -8.60987905e-01, -1.06057113e+00,  1.68108069e-01,  3.98454576e+00,\n",
      "        1.66450302e+00,  3.67706549e+00,  9.18473141e+00,  9.93247853e+00,\n",
      "       -6.78625973e-01, -2.67903096e-01,  1.14426623e+00,  2.51179596e+00,\n",
      "        4.08038785e+00,  1.20128775e+00,  1.14837425e+01, -1.90373529e+00,\n",
      "        2.06942923e+01,  2.75730056e+01,  2.16956045e+01,             nan,\n",
      "       -1.80143985e+16,             nan,             nan,             nan,\n",
      "                   nan])\n",
      "Coordinates:\n",
      "  * time     (time) datetime64[ns] 2016-03-31T22:11:53 ... 2016-03-31T23:15:53\n",
      "<xarray.DataArray (time: 65)>\n",
      "array([           nan,            nan,            nan,            nan,\n",
      "                  nan,            nan,            nan,            nan,\n",
      "                  nan,            nan,            nan,            nan,\n",
      "                  nan,            nan,            nan,            nan,\n",
      "       12749.6004425 ,  1392.78700717,   971.64420212,  2454.43515326,\n",
      "        1398.67147722,  1395.54300396,  1097.21364144,  1602.76765721,\n",
      "        2231.7843859 ,  1409.27707194,  1808.12315906,  1332.16261645,\n",
      "        1461.3664042 ,  1497.88090134,  1872.48411   ,  1872.75397418,\n",
      "        1796.57638931,  1276.48173041,   842.96190234,            nan,\n",
      "                  nan,  1354.98718884,  2286.46429901,  4003.03811891,\n",
      "        1603.7306283 ,  1197.26024218,  2149.42368644,  5750.80736038,\n",
      "        3925.60311898,  6184.12690651, 15060.47097686, 17519.00256206,\n",
      "        2814.21795284,  2657.48596361,  3635.36091716,  6657.55387108,\n",
      "        8670.88392679,  3330.20984938, 20430.20770541,   665.88315268,\n",
      "       40051.204303  , 57897.48799574, 39987.93109978,            nan,\n",
      "                  nan,            nan,            nan,            nan,\n",
      "                  nan])\n",
      "Coordinates:\n",
      "  * time     (time) datetime64[ns] 2016-03-31T22:11:53 ... 2016-03-31T23:15:53\n"
     ]
    },
    {
     "name": "stderr",
     "output_type": "stream",
     "text": [
      "/Users/dawson29/miniconda3/envs/pyPIPS/lib/python3.7/site-packages/xarray/core/computation.py:601: RuntimeWarning: overflow encountered in exp\n",
      "  result_data = func(*input_data)\n"
     ]
    }
   ],
   "source": [
    "ND_MM24 = dsd.calc_binned_DSD_from_params(*DSD_MM24, ND_resampled['diameter'])\n",
    "ND_MM36 = dsd.calc_binned_DSD_from_params(*DSD_MM36, ND_resampled['diameter'])\n",
    "ND_MM234 = dsd.calc_binned_DSD_from_params(*DSD_MM234, ND_resampled['diameter'])\n",
    "ND_MM246 = dsd.calc_binned_DSD_from_params(*DSD_MM246, ND_resampled['diameter'])\n",
    "ND_MM346 = dsd.calc_binned_DSD_from_params(*DSD_MM346, ND_resampled['diameter'])\n",
    "ND_TMM246 = dsd.calc_binned_DSD_from_params(*DSD_TMM246, ND_resampled['diameter'])"
   ]
  },
  {
   "cell_type": "code",
   "execution_count": 26,
   "metadata": {
    "ExecuteTime": {
     "end_time": "2020-01-27T17:15:43.040011Z",
     "start_time": "2020-01-27T17:15:42.904286Z"
    },
    "code_folding": []
   },
   "outputs": [
    {
     "name": "stdout",
     "output_type": "stream",
     "text": [
      "<xarray.DataArray ()>\n",
      "array(536505.79616624)\n",
      "Coordinates:\n",
      "    time     datetime64[ns] 2016-03-31T22:31:53\n"
     ]
    }
   ],
   "source": [
    "# Test plotting of individual DSD\n",
    "time_to_plot = '2016-03-31T22:31:53'\n",
    "\n",
    "axdict = {\n",
    "    'xbin_left': ND_resampled['min_diameter'],\n",
    "    'xbin_mid': ND_resampled['diameter'], \n",
    "    'xbin_right': ND_resampled['max_diameter'],\n",
    "    'xlim': (0.0, 9.0), \n",
    "    'ylim': (10.**2., 10.**8.5), \n",
    "    'interval': int(resample_interval),\n",
    "    'dis_name': 'PIPS_1A'\n",
    "}\n",
    "\n",
    "#print(ND_resampled['time'])\n",
    "\n",
    "PSDdict = {\n",
    "    'ND': ND_resampled.loc[time_to_plot]\n",
    "}\n",
    "\n",
    "PSDfitdict = {\n",
    "    #'Exponential_24': (ND_MM24.loc[time_to_plot], 'Exp fit (MM24)'),\n",
    "    #'Exponential_36': (ND_MM36.loc[time_to_plot], 'Exp fit (MM36)'),\n",
    "    #'Gamma_234': (ND_MM234.loc[time_to_plot], 'Gamma fit (MM234)'),\n",
    "    'Gamma_246': (ND_MM246.loc[time_to_plot], 'Gamma fit (MM246)'),\n",
    "    #'Gamma_346': (ND_MM346.loc[time_to_plot], 'Gamma fit (MM346)')\n",
    "    'TruncGamma_246': (ND_TMM246.loc[time_to_plot], 'Truncated Gamma fit (TMM246)'),\n",
    "}\n",
    "\n",
    "time_to_plot_datetime = pd.to_datetime(time_to_plot).to_pydatetime()\n",
    "\n",
    "print(DSD_TMM246[0].loc[time_to_plot])"
   ]
  },
  {
   "cell_type": "code",
   "execution_count": 27,
   "metadata": {
    "ExecuteTime": {
     "end_time": "2020-01-27T17:15:53.386587Z",
     "start_time": "2020-01-27T17:15:52.344355Z"
    }
   },
   "outputs": [
    {
     "data": {
      "text/plain": [
       "Text(0, 0.5, 'N(D) $(m^{-4})$')"
      ]
     },
     "execution_count": 27,
     "metadata": {},
     "output_type": "execute_result"
    },
    {
     "data": {
      "image/png": "[encoded data removed]",
      "text/plain": [
       "<Figure size 576x432 with 1 Axes>"
      ]
     },
     "metadata": {
      "needs_background": "light"
     },
     "output_type": "display_data"
    }
   ],
   "source": [
    "import pyPIPS.timemodule as tm\n",
    "xbin_left = axdict.get('xbin_left', np.empty((0)))\n",
    "xbin_right = axdict.get('xbin_right', np.empty((0)))\n",
    "xbin_mid = axdict.get('xbin_mid', np.empty((0)))\n",
    "ND = PSDdict.get('ND', np.empty((0)))\n",
    "# ND_onedrop = PSDdict.get('ND_onedrop', N.empty((0)))\n",
    "interval = axdict.get('interval', 10)\n",
    "dis_name = axdict.get('dis_name', None)\n",
    "\n",
    "fig1 = plt.figure(figsize=(8, 6))\n",
    "ax1 = fig1.add_subplot(111)\n",
    "plt.title('{0:d}-s DSD fits for time {1} EST'.format(interval, time_to_plot_datetime.strftime(tm.timefmt2)))\n",
    "ax1.bar(xbin_left, ND * 1000.0, xbin_right - xbin_left, 10.**2., align='edge', log=True, color='tan', \n",
    "        edgecolor='k')\n",
    "\n",
    "for fitname, ND_tuple in PSDfitdict.items():\n",
    "    if ((fitname == 'Dis Retr') | (fitname == 'Rad Retr')):\n",
    "        ND_fit = ND_tuple[0] * 1000.\n",
    "    else:\n",
    "        ND_fit = ND_tuple[0]\n",
    "#         print ND_fit\n",
    "    label = ND_tuple[1]\n",
    "    if(ND_fit.size):\n",
    "        ax1.plot(xbin_mid, ND_fit, lw=2, label=label)\n",
    "\n",
    "plt.legend(loc='upper left', numpoints=1, ncol=1, fontsize=8)\n",
    "        \n",
    "ax1.set_yscale('log')\n",
    "ax1.set_ylim(10.**2.0, 10.**8.5)\n",
    "ax1.set_xlim(0.0, 9.0)\n",
    "ax1.set_xlabel('D (mm)')\n",
    "ax1.set_ylabel(r'N(D) $(m^{-4})$')\n"
   ]
  },
  {
   "cell_type": "code",
   "execution_count": 28,
   "metadata": {
    "ExecuteTime": {
     "end_time": "2020-01-27T17:15:58.646519Z",
     "start_time": "2020-01-27T17:15:58.568937Z"
    },
    "scrolled": false
   },
   "outputs": [
    {
     "name": "stdout",
     "output_type": "stream",
     "text": [
      "<xarray.Dataset>\n",
      "Dimensions:    (parameter: 2, time: 65)\n",
      "Coordinates:\n",
      "  * time       (time) datetime64[ns] 2016-03-31T22:11:53 ... 2016-03-31T23:15:53\n",
      "  * parameter  (parameter) object 'N0' 'lamda'\n",
      "Data variables:\n",
      "    DSD_MM24   (parameter, time) float64 nan nan 1.876e+05 nan ... nan nan nan\n",
      "    DSD_MM36   (parameter, time) float64 nan nan 8.904e+05 nan ... nan nan nan\n"
     ]
    }
   ],
   "source": [
    "# Test merging of fit DataArrays to a Dataset\n",
    "\n",
    "#print(DSD_MM24[0])\n",
    "\n",
    "DSD_MM24[0].name = 'N0'\n",
    "DSD_MM24[1].name = 'lamda'\n",
    "# DSD_MM24[2].name = 'alpha'\n",
    "\n",
    "DSD_MM24_da = xr.concat(DSD_MM24[:2], pd.Index(['N0', 'lamda'], name='parameter'))\n",
    "DSD_MM24_da.name = 'DSD_MM24'\n",
    "#print(DSD_MM24_da)\n",
    "\n",
    "# DSD_MM24_ds = xr.merge(DSD_MM24[:2])\n",
    "\n",
    "DSD_MM36[0].name = 'N0'\n",
    "DSD_MM36[1].name = 'lamda'\n",
    "DSD_MM36_da = xr.concat(DSD_MM36[:2], pd.Index(['N0', 'lamda'], name='parameter'))\n",
    "DSD_MM36_da.name = 'DSD_MM36'\n",
    "#print(DSD_MM36_da)\n",
    "\n",
    "# DSD_MM36_ds = xr.merge(DSD_MM36[:2])\n",
    "\n",
    "# fits_ds = xr.concat([DSD_MM24_da, DSD_MM36_da], dim='fit')\n",
    "\n",
    "names = ['DSD_MM24', 'DSD_MM36']\n",
    "data_arrays = [DSD_MM24_da, DSD_MM36_da]\n",
    "\n",
    "fits_ds = xr.Dataset({name: da for name, da in zip(names, data_arrays)})\n",
    "print(fits_ds)\n",
    "\n",
    "# fits_ds = xr.merge([DSD_MM24, DSD_MM36, DSD_MM234, DSD_MM246, DSD_MM346, DSD_TMM246])\n",
    "# print(fits_ds)\n"
   ]
  },
  {
   "cell_type": "code",
   "execution_count": 47,
   "metadata": {
    "ExecuteTime": {
     "end_time": "2020-01-27T17:42:21.695621Z",
     "start_time": "2020-01-27T17:42:21.182589Z"
    }
   },
   "outputs": [
    {
     "name": "stdout",
     "output_type": "stream",
     "text": [
      "GPS time: Thu Mar 31 22:12:03 2016, Logger time: Thu Mar 31 22:12:00 2016\n",
      "GPS Offset: 0:00:03\n",
      "                     GPS_alt GPS_date  GPS_dir    GPS_lat    GPS_lon  \\\n",
      "time                                                                   \n",
      "2016-03-31 22:11:53      NaN   310316      NaN  34.725167 -86.646333   \n",
      "2016-03-31 22:11:54      NaN   310316      NaN  34.725167 -86.646333   \n",
      "2016-03-31 22:11:55      NaN   310316      NaN  34.725167 -86.646333   \n",
      "2016-03-31 22:11:56      NaN   310316      NaN  34.725167 -86.646333   \n",
      "2016-03-31 22:11:57      NaN   310316      NaN  34.725167 -86.646333   \n",
      "2016-03-31 22:11:58      NaN   310316      NaN  34.725167 -86.646333   \n",
      "2016-03-31 22:11:59      NaN   310316      NaN  34.725167 -86.646333   \n",
      "2016-03-31 22:12:00      NaN   310316      NaN  34.725167 -86.646333   \n",
      "2016-03-31 22:12:01      NaN   310316      NaN  34.725167 -86.646333   \n",
      "2016-03-31 22:12:02      NaN   310316      NaN  34.725167 -86.646333   \n",
      "2016-03-31 22:12:03    250.5   310316      0.0  35.046500 -87.677500   \n",
      "2016-03-31 22:12:04    250.9   310316      0.0  35.046500 -87.677500   \n",
      "2016-03-31 22:12:05    251.0   310316    339.5  35.046500 -87.677500   \n",
      "2016-03-31 22:12:06    251.7   310316    339.5  35.046500 -87.677500   \n",
      "2016-03-31 22:12:07    252.3   310316    339.5  35.046500 -87.677500   \n",
      "2016-03-31 22:12:08    253.1   310316    339.5  35.046500 -87.677500   \n",
      "2016-03-31 22:12:09    253.2   310316    339.5  35.046500 -87.677500   \n",
      "2016-03-31 22:12:10    253.3   310316    339.5  35.046500 -87.677500   \n",
      "2016-03-31 22:12:11    253.4   310316    339.5  35.046500 -87.677500   \n",
      "2016-03-31 22:12:12    253.3   310316    339.5  35.046500 -87.677500   \n",
      "2016-03-31 22:12:13    253.7   310316    339.5  35.046500 -87.677500   \n",
      "2016-03-31 22:12:14    253.4   310316    339.5  35.046500 -87.677500   \n",
      "2016-03-31 22:12:15    253.1   310316    339.5  35.046500 -87.677500   \n",
      "2016-03-31 22:12:16    252.9   310316    339.5  35.046500 -87.677500   \n",
      "2016-03-31 22:12:17    252.9   310316    339.5  35.046500 -87.677500   \n",
      "2016-03-31 22:12:18    252.7   310316    339.5  35.046500 -87.677500   \n",
      "2016-03-31 22:12:19    252.7   310316    339.5  35.046500 -87.677500   \n",
      "2016-03-31 22:12:20    252.6   310316    339.5  35.046500 -87.677500   \n",
      "2016-03-31 22:12:21    252.3   310316    339.5  35.046500 -87.677500   \n",
      "2016-03-31 22:12:22    252.0   310316    339.5  35.046500 -87.677500   \n",
      "...                      ...      ...      ...        ...        ...   \n",
      "2016-03-31 23:14:34    254.0   310316    218.3  35.046500 -87.677500   \n",
      "2016-03-31 23:14:35    254.1   310316    218.3  35.046500 -87.677500   \n",
      "2016-03-31 23:14:36    254.1   310316    218.3  35.046500 -87.677500   \n",
      "2016-03-31 23:14:37    254.1   310316    218.3  35.046500 -87.677500   \n",
      "2016-03-31 23:14:38    254.1   310316    218.3  35.046500 -87.677500   \n",
      "2016-03-31 23:14:39    254.2   310316    218.3  35.046500 -87.677500   \n",
      "2016-03-31 23:14:40    254.2   310316    218.3  35.046500 -87.677500   \n",
      "2016-03-31 23:14:41    254.2   310316    218.3  35.046500 -87.677500   \n",
      "2016-03-31 23:14:42    254.2   310316    218.3  35.046500 -87.677500   \n",
      "2016-03-31 23:14:43    254.2   310316    218.3  35.046500 -87.677500   \n",
      "2016-03-31 23:14:44    254.2   310316    218.3  35.046500 -87.677500   \n",
      "2016-03-31 23:14:45    254.2   310316    218.3  35.046500 -87.677500   \n",
      "2016-03-31 23:14:46    254.2   310316    218.3  35.046500 -87.677500   \n",
      "2016-03-31 23:14:47    254.1   310316    218.3  35.046500 -87.677500   \n",
      "2016-03-31 23:14:48    254.0   310316    218.3  35.046500 -87.677500   \n",
      "2016-03-31 23:14:49    253.9   310316    218.3  35.046500 -87.677500   \n",
      "2016-03-31 23:14:50    253.9   310316    218.3  35.046500 -87.677500   \n",
      "2016-03-31 23:14:51    253.8   310316    218.3  35.046500 -87.677500   \n",
      "2016-03-31 23:14:52    253.8   310316    218.3  35.046500 -87.677500   \n",
      "2016-03-31 23:14:53    253.8   310316    218.3  35.046500 -87.677500   \n",
      "2016-03-31 23:14:54    253.8   310316    218.3  35.046500 -87.677500   \n",
      "2016-03-31 23:14:55    253.8   310316    218.3  35.046500 -87.677500   \n",
      "2016-03-31 23:14:56    253.8   310316    218.3  35.046500 -87.677500   \n",
      "2016-03-31 23:14:57    253.7   310316    218.3  35.046500 -87.677500   \n",
      "2016-03-31 23:14:58    253.7   310316    218.3  35.046500 -87.677500   \n",
      "2016-03-31 23:14:59    253.6   310316    218.3  35.046500 -87.677500   \n",
      "2016-03-31 23:15:00    253.6   310316    218.3  35.046500 -87.677500   \n",
      "2016-03-31 23:15:01    253.5   310316    218.3  35.046500 -87.677500   \n",
      "2016-03-31 23:15:02    253.4   310316    218.3  35.046500 -87.677500   \n",
      "2016-03-31 23:15:03    253.4   310316    218.3  35.046500 -87.677500   \n",
      "\n",
      "                     GPS_magvar  GPS_spd GPS_status GPS_time     RH  ...  \\\n",
      "time                                                                 ...   \n",
      "2016-03-31 22:11:53         3.3      NaN          V   221153  75.00  ...   \n",
      "2016-03-31 22:11:54         3.3      NaN          V   221154  75.17  ...   \n",
      "2016-03-31 22:11:55         3.3      NaN          V   221155  74.96  ...   \n",
      "2016-03-31 22:11:56         3.3      NaN          V   221156  75.13  ...   \n",
      "2016-03-31 22:11:57         3.3      NaN          V   221157  75.07  ...   \n",
      "2016-03-31 22:11:58         3.3      NaN          V   221158  74.94  ...   \n",
      "2016-03-31 22:11:59         3.3      NaN          V   221159  75.01  ...   \n",
      "2016-03-31 22:12:00         3.3      NaN          V   221200  75.12  ...   \n",
      "2016-03-31 22:12:01         3.3      NaN          V   221201  75.08  ...   \n",
      "2016-03-31 22:12:02         3.3      NaN          V   221202  75.16  ...   \n",
      "2016-03-31 22:12:03         2.6      0.1          A   221203  75.18  ...   \n",
      "2016-03-31 22:12:04         2.6      0.1          A   221204  75.34  ...   \n",
      "2016-03-31 22:12:05         2.6      0.2          A   221205  75.28  ...   \n",
      "2016-03-31 22:12:06         2.6      0.2          A   221206  75.39  ...   \n",
      "2016-03-31 22:12:07         2.6      0.1          A   221207  75.38  ...   \n",
      "2016-03-31 22:12:08         2.6      0.0          A   221208  75.46  ...   \n",
      "2016-03-31 22:12:09         2.6      0.0          A   221209  75.46  ...   \n",
      "2016-03-31 22:12:10         2.6      0.2          A   221210  75.58  ...   \n",
      "2016-03-31 22:12:11         2.6      0.2          A   221211  75.57  ...   \n",
      "2016-03-31 22:12:12         2.6      0.1          A   221212  75.72  ...   \n",
      "2016-03-31 22:12:13         2.6      0.0          A   221213  75.83  ...   \n",
      "2016-03-31 22:12:14         2.6      0.1          A   221214  75.66  ...   \n",
      "2016-03-31 22:12:15         2.6      0.1          A   221215  75.80  ...   \n",
      "2016-03-31 22:12:16         2.6      0.0          A   221216  75.77  ...   \n",
      "2016-03-31 22:12:17         2.6      0.2          A   221217  75.90  ...   \n",
      "2016-03-31 22:12:18         2.6      0.0          A   221218  75.84  ...   \n",
      "2016-03-31 22:12:19         2.6      0.0          A   221219  75.91  ...   \n",
      "2016-03-31 22:12:20         2.6      0.2          A   221220  75.84  ...   \n",
      "2016-03-31 22:12:21         2.6      0.1          A   221221  75.94  ...   \n",
      "2016-03-31 22:12:22         2.6      0.0          A   221222  75.87  ...   \n",
      "...                         ...      ...        ...      ...    ...  ...   \n",
      "2016-03-31 23:14:34         2.6      0.1          A   231434  95.90  ...   \n",
      "2016-03-31 23:14:35         2.6      0.0          A   231435  96.00  ...   \n",
      "2016-03-31 23:14:36         2.6      0.0          A   231436  95.90  ...   \n",
      "2016-03-31 23:14:37         2.6      0.0          A   231437  96.00  ...   \n",
      "2016-03-31 23:14:38         2.6      0.0          A   231438  96.00  ...   \n",
      "2016-03-31 23:14:39         2.6      0.0          A   231439  95.90  ...   \n",
      "2016-03-31 23:14:40         2.6      0.1          A   231440  96.10  ...   \n",
      "2016-03-31 23:14:41         2.6      0.0          A   231441  95.90  ...   \n",
      "2016-03-31 23:14:42         2.6      0.0          A   231442  95.90  ...   \n",
      "2016-03-31 23:14:43         2.6      0.0          A   231443  95.90  ...   \n",
      "2016-03-31 23:14:44         2.6      0.0          A   231444  96.00  ...   \n",
      "2016-03-31 23:14:45         2.6      0.0          A   231445  95.90  ...   \n",
      "2016-03-31 23:14:46         2.6      0.0          A   231446  95.90  ...   \n",
      "2016-03-31 23:14:47         2.6      0.0          A   231447  95.90  ...   \n",
      "2016-03-31 23:14:48         2.6      0.0          A   231448  95.90  ...   \n",
      "2016-03-31 23:14:49         2.6      0.0          A   231449  96.00  ...   \n",
      "2016-03-31 23:14:50         2.6      0.0          A   231450  95.90  ...   \n",
      "2016-03-31 23:14:51         2.6      0.1          A   231451  96.00  ...   \n",
      "2016-03-31 23:14:52         2.6      0.0          A   231452  96.00  ...   \n",
      "2016-03-31 23:14:53         2.6      0.0          A   231453  96.10  ...   \n",
      "2016-03-31 23:14:54         2.6      0.0          A   231454  96.00  ...   \n",
      "2016-03-31 23:14:55         2.6      0.0          A   231455  96.10  ...   \n",
      "2016-03-31 23:14:56         2.6      0.2          A   231456  96.00  ...   \n",
      "2016-03-31 23:14:57         2.6      0.0          A   231457  96.10  ...   \n",
      "2016-03-31 23:14:58         2.6      0.1          A   231458  96.00  ...   \n",
      "2016-03-31 23:14:59         2.6      0.0          A   231459  96.10  ...   \n",
      "2016-03-31 23:15:00         2.6      0.0          A   231500  96.10  ...   \n",
      "2016-03-31 23:15:01         2.6      0.0          A   231501  96.10  ...   \n",
      "2016-03-31 23:15:02         2.6      0.0          A   231502  96.20  ...   \n",
      "2016-03-31 23:15:03         2.6      0.0          A   231503  96.10  ...   \n",
      "\n",
      "                     compass_dir  dewpoint  fasttemp  pressure  slowtemp  \\\n",
      "time                                                                       \n",
      "2016-03-31 22:11:53         47.5   17.0173     21.10    974.01     21.64   \n",
      "2016-03-31 22:11:54         47.4   17.0627     21.11    974.00     21.65   \n",
      "2016-03-31 22:11:55         47.4   16.9510     21.12    974.00     21.58   \n",
      "2016-03-31 22:11:56         47.4   17.1219     21.12    974.01     21.72   \n",
      "2016-03-31 22:11:57         47.5   16.9741     21.11    974.01     21.58   \n",
      "2016-03-31 22:11:58         47.7   17.0915     21.10    974.02     21.73   \n",
      "2016-03-31 22:11:59         40.6   16.9325     21.10    974.01     21.55   \n",
      "2016-03-31 22:12:00         65.1   17.0425     21.10    974.00     21.64   \n",
      "2016-03-31 22:12:01         57.2   16.9376     21.10    974.02     21.54   \n",
      "2016-03-31 22:12:02         52.8   17.0509     21.10    974.00     21.64   \n",
      "2016-03-31 22:12:03         52.8   16.9586     21.10    974.01     21.54   \n",
      "2016-03-31 22:12:04         52.8   17.0501     21.09    974.02     21.60   \n",
      "2016-03-31 22:12:05         52.8   16.9409     21.08    974.02     21.50   \n",
      "2016-03-31 22:12:06         52.8   17.0606     21.05    974.02     21.60   \n",
      "2016-03-31 22:12:07         52.8   16.9522     21.04    974.03     21.49   \n",
      "2016-03-31 22:12:08         52.7   17.0656     21.04    974.02     21.59   \n",
      "2016-03-31 22:12:09         52.8   16.9690     21.04    974.01     21.49   \n",
      "2016-03-31 22:12:10         52.8   17.1003     21.03    974.03     21.60   \n",
      "2016-03-31 22:12:11         52.8   17.0016     21.02    974.04     21.50   \n",
      "2016-03-31 22:12:12         52.8   17.0812     21.02    974.03     21.55   \n",
      "2016-03-31 22:12:13         52.7   17.2395     21.02    974.02     21.69   \n",
      "2016-03-31 22:12:14         52.9   17.0107     21.02    974.02     21.49   \n",
      "2016-03-31 22:12:15         52.8   17.1269     21.01    974.02     21.58   \n",
      "2016-03-31 22:12:16         52.7   17.0047     20.99    974.02     21.46   \n",
      "2016-03-31 22:12:17         52.9   17.1284     20.98    974.02     21.56   \n",
      "2016-03-31 22:12:18         52.9   17.0096     20.97    974.02     21.45   \n",
      "2016-03-31 22:12:19         53.1   17.1208     20.96    974.03     21.55   \n",
      "2016-03-31 22:12:20         52.9   17.0096     20.94    974.03     21.45   \n",
      "2016-03-31 22:12:21         53.0   17.1174     20.94    974.03     21.54   \n",
      "2016-03-31 22:12:22         52.9   17.0158     20.95    974.03     21.45   \n",
      "...                          ...       ...       ...       ...       ...   \n",
      "2016-03-31 23:14:34         52.5   16.3309     17.18    975.95     16.99   \n",
      "2016-03-31 23:14:35         52.5   16.4368     17.18    975.94     17.08   \n",
      "2016-03-31 23:14:36         52.5   16.3309     17.18    975.96     16.99   \n",
      "2016-03-31 23:14:37         52.5   16.4069     17.18    975.94     17.05   \n",
      "2016-03-31 23:14:38         52.5   16.3572     17.18    975.95     17.00   \n",
      "2016-03-31 23:14:39         52.5   16.3806     17.18    975.95     17.04   \n",
      "2016-03-31 23:14:40         52.5   16.5427     17.17    975.94     17.17   \n",
      "2016-03-31 23:14:41         52.5   16.3309     17.17    975.93     16.99   \n",
      "2016-03-31 23:14:42         52.5   16.4204     17.16    975.93     17.08   \n",
      "2016-03-31 23:14:43         52.5   16.3408     17.16    975.94     17.00   \n",
      "2016-03-31 23:14:44         52.5   16.4467     17.16    975.93     17.09   \n",
      "2016-03-31 23:14:45         52.5   16.3309     17.15    975.95     16.99   \n",
      "2016-03-31 23:14:46         52.6   16.3408     17.15    975.95     17.00   \n",
      "2016-03-31 23:14:47         52.7   16.4204     17.14    975.93     17.08   \n",
      "2016-03-31 23:14:48         52.8   16.3408     17.13    975.94     17.00   \n",
      "2016-03-31 23:14:49         52.6   16.4368     17.13    975.92     17.08   \n",
      "2016-03-31 23:14:50         52.3   16.3309     17.12    975.94     16.99   \n",
      "2016-03-31 23:14:51         52.3   16.4467     17.12    975.93     17.09   \n",
      "2016-03-31 23:14:52         52.3   16.3472     17.12    975.93     16.99   \n",
      "2016-03-31 23:14:53         52.4   16.4730     17.12    975.92     17.10   \n",
      "2016-03-31 23:14:54         52.4   16.3572     17.12    975.92     17.00   \n",
      "2016-03-31 23:14:55         52.4   16.4631     17.12    975.92     17.09   \n",
      "2016-03-31 23:14:56         52.4   16.3472     17.12    975.92     16.99   \n",
      "2016-03-31 23:14:57         52.4   16.4034     17.12    975.91     17.03   \n",
      "2016-03-31 23:14:58         52.4   16.3572     17.12    975.92     17.00   \n",
      "2016-03-31 23:14:59         52.4   16.4133     17.12    975.89     17.04   \n",
      "2016-03-31 23:15:00         52.4   16.3636     17.12    975.89     16.99   \n",
      "2016-03-31 23:15:01         52.4   16.4034     17.12    975.88     17.03   \n",
      "2016-03-31 23:15:02         52.4   16.3799     17.12    975.88     16.99   \n",
      "2016-03-31 23:15:03         52.4   16.4133     17.12    975.88     17.04   \n",
      "\n",
      "                     voltage  winddiag  winddirabs  winddirrel  windspd  \n",
      "time                                                                     \n",
      "2016-03-31 22:11:53    12.98       0.0       114.5        67.0     0.34  \n",
      "2016-03-31 22:11:54    12.98       0.0       177.4       130.0     0.97  \n",
      "2016-03-31 22:11:55    12.96       0.0       105.4        58.0     0.38  \n",
      "2016-03-31 22:11:56    12.96       0.0        68.4        21.0     0.65  \n",
      "2016-03-31 22:11:57    12.96       0.0       188.5       141.0     0.81  \n",
      "2016-03-31 22:11:58    12.96       0.0       191.7       144.0     0.86  \n",
      "2016-03-31 22:11:59    12.96       0.0       145.6       105.0     0.72  \n",
      "2016-03-31 22:12:00    12.96       0.0       171.1       106.0     0.65  \n",
      "2016-03-31 22:12:01    12.96       0.0       158.2       101.0     0.19  \n",
      "2016-03-31 22:12:02    12.96       0.0       191.8       139.0     0.71  \n",
      "2016-03-31 22:12:03    12.95       0.0       115.8        63.0     0.14  \n",
      "2016-03-31 22:12:04    12.95       0.0       134.8        82.0     0.64  \n",
      "2016-03-31 22:12:05    12.95       0.0       111.8        59.0     0.78  \n",
      "2016-03-31 22:12:06    12.95       0.0       176.8       124.0     0.64  \n",
      "2016-03-31 22:12:07    12.95       0.0       163.8       111.0     0.61  \n",
      "2016-03-31 22:12:08    12.95       0.0       151.7        99.0     0.59  \n",
      "2016-03-31 22:12:09    12.95       0.0       185.8       133.0     0.56  \n",
      "2016-03-31 22:12:10    12.95       0.0       178.8       126.0     0.47  \n",
      "2016-03-31 22:12:11    12.94       0.0       186.8       134.0     0.67  \n",
      "2016-03-31 22:12:12    12.94       0.0       180.8       128.0     0.74  \n",
      "2016-03-31 22:12:13    12.94       0.0       179.7       127.0     0.58  \n",
      "2016-03-31 22:12:14    12.94       0.0       155.9       103.0     0.62  \n",
      "2016-03-31 22:12:15    12.94       0.0       157.8       105.0     0.43  \n",
      "2016-03-31 22:12:16    12.94       0.0       167.7       115.0     0.52  \n",
      "2016-03-31 22:12:17    12.94       0.0       176.9       124.0     1.48  \n",
      "2016-03-31 22:12:18    12.94       0.0       189.9       137.0     1.71  \n",
      "2016-03-31 22:12:19    12.94       0.0       180.1       127.0     1.44  \n",
      "2016-03-31 22:12:20    12.94       0.0       152.9       100.0     1.53  \n",
      "2016-03-31 22:12:21    12.94       0.0       143.0        90.0     1.06  \n",
      "2016-03-31 22:12:22    12.94       0.0       159.9       107.0     0.93  \n",
      "...                      ...       ...         ...         ...      ...  \n",
      "2016-03-31 23:14:34    12.78       0.0       324.5       272.0     1.79  \n",
      "2016-03-31 23:14:35    12.79       0.0       318.5       266.0     1.82  \n",
      "2016-03-31 23:14:36    12.79       0.0       320.5       268.0     1.62  \n",
      "2016-03-31 23:14:37    12.79       0.0       316.5       264.0     1.62  \n",
      "2016-03-31 23:14:38    12.79       0.0       318.5       266.0     1.61  \n",
      "2016-03-31 23:14:39    12.79       0.0       315.5       263.0     1.58  \n",
      "2016-03-31 23:14:40    12.79       0.0       326.5       274.0     1.47  \n",
      "2016-03-31 23:14:41    12.79       0.0       323.5       271.0     1.42  \n",
      "2016-03-31 23:14:42    12.79       0.0       329.5       277.0     1.24  \n",
      "2016-03-31 23:14:43    12.79       0.0       332.5       280.0     1.32  \n",
      "2016-03-31 23:14:44    12.79       0.0       338.5       286.0     1.31  \n",
      "2016-03-31 23:14:45    12.79       0.0       343.5       291.0     1.40  \n",
      "2016-03-31 23:14:46    12.79       0.0       340.6       288.0     1.40  \n",
      "2016-03-31 23:14:47    12.79       0.0       342.7       290.0     1.29  \n",
      "2016-03-31 23:14:48    12.79       0.0       334.8       282.0     1.28  \n",
      "2016-03-31 23:14:49    12.79       0.0       334.6       282.0     1.25  \n",
      "2016-03-31 23:14:50    12.79       0.0       341.3       289.0     0.98  \n",
      "2016-03-31 23:14:51    12.79       0.0       335.3       283.0     1.18  \n",
      "2016-03-31 23:14:52    12.79       0.0       339.3       287.0     1.31  \n",
      "2016-03-31 23:14:53    12.79       0.0       338.4       286.0     1.39  \n",
      "2016-03-31 23:14:54    12.79       0.0       338.4       286.0     1.42  \n",
      "2016-03-31 23:14:55    12.79       0.0       333.4       281.0     1.37  \n",
      "2016-03-31 23:14:56    12.79       0.0       329.4       277.0     1.38  \n",
      "2016-03-31 23:14:57    12.79       0.0       321.4       269.0     1.66  \n",
      "2016-03-31 23:14:58    12.79       0.0       318.4       266.0     1.32  \n",
      "2016-03-31 23:14:59    12.77       0.0       317.4       265.0     1.41  \n",
      "2016-03-31 23:15:00    12.77       0.0       316.4       264.0     1.45  \n",
      "2016-03-31 23:15:01    12.77       0.0       324.4       272.0     1.45  \n",
      "2016-03-31 23:15:02    12.77       0.0       326.4       274.0     1.37  \n",
      "2016-03-31 23:15:03    12.77       0.0       325.4       273.0     1.27  \n",
      "\n",
      "[3791 rows x 21 columns]\n"
     ]
    }
   ],
   "source": [
    "conv_df, parsivel_df, _ = pipsio.read_PIPS(filepath)\n",
    "parsivel_ds = parsivel_df.to_xarray()"
   ]
  },
  {
   "cell_type": "code",
   "execution_count": 48,
   "metadata": {
    "ExecuteTime": {
     "end_time": "2020-01-27T17:42:36.488537Z",
     "start_time": "2020-01-27T17:42:36.343388Z"
    },
    "scrolled": false
   },
   "outputs": [
    {
     "name": "stdout",
     "output_type": "stream",
     "text": [
      "                     GPS_alt GPS_date  GPS_dir    GPS_lat    GPS_lon  \\\n",
      "time                                                                   \n",
      "2016-03-31 22:11:53      NaN   310316      NaN  34.725167 -86.646333   \n",
      "2016-03-31 22:11:54      NaN   310316      NaN  34.725167 -86.646333   \n",
      "2016-03-31 22:11:55      NaN   310316      NaN  34.725167 -86.646333   \n",
      "2016-03-31 22:11:56      NaN   310316      NaN  34.725167 -86.646333   \n",
      "2016-03-31 22:11:57      NaN   310316      NaN  34.725167 -86.646333   \n",
      "2016-03-31 22:11:58      NaN   310316      NaN  34.725167 -86.646333   \n",
      "2016-03-31 22:11:59      NaN   310316      NaN  34.725167 -86.646333   \n",
      "2016-03-31 22:12:00      NaN   310316      NaN  34.725167 -86.646333   \n",
      "2016-03-31 22:12:01      NaN   310316      NaN  34.725167 -86.646333   \n",
      "2016-03-31 22:12:02      NaN   310316      NaN  34.725167 -86.646333   \n",
      "2016-03-31 22:12:03    250.5   310316      0.0  35.046500 -87.677500   \n",
      "2016-03-31 22:12:04    250.9   310316      0.0  35.046500 -87.677500   \n",
      "2016-03-31 22:12:05    251.0   310316    339.5  35.046500 -87.677500   \n",
      "2016-03-31 22:12:06    251.7   310316    339.5  35.046500 -87.677500   \n",
      "2016-03-31 22:12:07    252.3   310316    339.5  35.046500 -87.677500   \n",
      "2016-03-31 22:12:08    253.1   310316    339.5  35.046500 -87.677500   \n",
      "2016-03-31 22:12:09    253.2   310316    339.5  35.046500 -87.677500   \n",
      "2016-03-31 22:12:10    253.3   310316    339.5  35.046500 -87.677500   \n",
      "2016-03-31 22:12:11    253.4   310316    339.5  35.046500 -87.677500   \n",
      "2016-03-31 22:12:12    253.3   310316    339.5  35.046500 -87.677500   \n",
      "2016-03-31 22:12:13    253.7   310316    339.5  35.046500 -87.677500   \n",
      "2016-03-31 22:12:14    253.4   310316    339.5  35.046500 -87.677500   \n",
      "2016-03-31 22:12:15    253.1   310316    339.5  35.046500 -87.677500   \n",
      "2016-03-31 22:12:16    252.9   310316    339.5  35.046500 -87.677500   \n",
      "2016-03-31 22:12:17    252.9   310316    339.5  35.046500 -87.677500   \n",
      "2016-03-31 22:12:18    252.7   310316    339.5  35.046500 -87.677500   \n",
      "2016-03-31 22:12:19    252.7   310316    339.5  35.046500 -87.677500   \n",
      "2016-03-31 22:12:20    252.6   310316    339.5  35.046500 -87.677500   \n",
      "2016-03-31 22:12:21    252.3   310316    339.5  35.046500 -87.677500   \n",
      "2016-03-31 22:12:22    252.0   310316    339.5  35.046500 -87.677500   \n",
      "...                      ...      ...      ...        ...        ...   \n",
      "2016-03-31 23:14:34    254.0   310316    218.3  35.046500 -87.677500   \n",
      "2016-03-31 23:14:35    254.1   310316    218.3  35.046500 -87.677500   \n",
      "2016-03-31 23:14:36    254.1   310316    218.3  35.046500 -87.677500   \n",
      "2016-03-31 23:14:37    254.1   310316    218.3  35.046500 -87.677500   \n",
      "2016-03-31 23:14:38    254.1   310316    218.3  35.046500 -87.677500   \n",
      "2016-03-31 23:14:39    254.2   310316    218.3  35.046500 -87.677500   \n",
      "2016-03-31 23:14:40    254.2   310316    218.3  35.046500 -87.677500   \n",
      "2016-03-31 23:14:41    254.2   310316    218.3  35.046500 -87.677500   \n",
      "2016-03-31 23:14:42    254.2   310316    218.3  35.046500 -87.677500   \n",
      "2016-03-31 23:14:43    254.2   310316    218.3  35.046500 -87.677500   \n",
      "2016-03-31 23:14:44    254.2   310316    218.3  35.046500 -87.677500   \n",
      "2016-03-31 23:14:45    254.2   310316    218.3  35.046500 -87.677500   \n",
      "2016-03-31 23:14:46    254.2   310316    218.3  35.046500 -87.677500   \n",
      "2016-03-31 23:14:47    254.1   310316    218.3  35.046500 -87.677500   \n",
      "2016-03-31 23:14:48    254.0   310316    218.3  35.046500 -87.677500   \n",
      "2016-03-31 23:14:49    253.9   310316    218.3  35.046500 -87.677500   \n",
      "2016-03-31 23:14:50    253.9   310316    218.3  35.046500 -87.677500   \n",
      "2016-03-31 23:14:51    253.8   310316    218.3  35.046500 -87.677500   \n",
      "2016-03-31 23:14:52    253.8   310316    218.3  35.046500 -87.677500   \n",
      "2016-03-31 23:14:53    253.8   310316    218.3  35.046500 -87.677500   \n",
      "2016-03-31 23:14:54    253.8   310316    218.3  35.046500 -87.677500   \n",
      "2016-03-31 23:14:55    253.8   310316    218.3  35.046500 -87.677500   \n",
      "2016-03-31 23:14:56    253.8   310316    218.3  35.046500 -87.677500   \n",
      "2016-03-31 23:14:57    253.7   310316    218.3  35.046500 -87.677500   \n",
      "2016-03-31 23:14:58    253.7   310316    218.3  35.046500 -87.677500   \n",
      "2016-03-31 23:14:59    253.6   310316    218.3  35.046500 -87.677500   \n",
      "2016-03-31 23:15:00    253.6   310316    218.3  35.046500 -87.677500   \n",
      "2016-03-31 23:15:01    253.5   310316    218.3  35.046500 -87.677500   \n",
      "2016-03-31 23:15:02    253.4   310316    218.3  35.046500 -87.677500   \n",
      "2016-03-31 23:15:03    253.4   310316    218.3  35.046500 -87.677500   \n",
      "\n",
      "                     GPS_magvar  GPS_spd GPS_status GPS_time     RH  ...  \\\n",
      "time                                                                 ...   \n",
      "2016-03-31 22:11:53         3.3      NaN          V   221153  75.00  ...   \n",
      "2016-03-31 22:11:54         3.3      NaN          V   221154  75.17  ...   \n",
      "2016-03-31 22:11:55         3.3      NaN          V   221155  74.96  ...   \n",
      "2016-03-31 22:11:56         3.3      NaN          V   221156  75.13  ...   \n",
      "2016-03-31 22:11:57         3.3      NaN          V   221157  75.07  ...   \n",
      "2016-03-31 22:11:58         3.3      NaN          V   221158  74.94  ...   \n",
      "2016-03-31 22:11:59         3.3      NaN          V   221159  75.01  ...   \n",
      "2016-03-31 22:12:00         3.3      NaN          V   221200  75.12  ...   \n",
      "2016-03-31 22:12:01         3.3      NaN          V   221201  75.08  ...   \n",
      "2016-03-31 22:12:02         3.3      NaN          V   221202  75.16  ...   \n",
      "2016-03-31 22:12:03         2.6      0.1          A   221203  75.18  ...   \n",
      "2016-03-31 22:12:04         2.6      0.1          A   221204  75.34  ...   \n",
      "2016-03-31 22:12:05         2.6      0.2          A   221205  75.28  ...   \n",
      "2016-03-31 22:12:06         2.6      0.2          A   221206  75.39  ...   \n",
      "2016-03-31 22:12:07         2.6      0.1          A   221207  75.38  ...   \n",
      "2016-03-31 22:12:08         2.6      0.0          A   221208  75.46  ...   \n",
      "2016-03-31 22:12:09         2.6      0.0          A   221209  75.46  ...   \n",
      "2016-03-31 22:12:10         2.6      0.2          A   221210  75.58  ...   \n",
      "2016-03-31 22:12:11         2.6      0.2          A   221211  75.57  ...   \n",
      "2016-03-31 22:12:12         2.6      0.1          A   221212  75.72  ...   \n",
      "2016-03-31 22:12:13         2.6      0.0          A   221213  75.83  ...   \n",
      "2016-03-31 22:12:14         2.6      0.1          A   221214  75.66  ...   \n",
      "2016-03-31 22:12:15         2.6      0.1          A   221215  75.80  ...   \n",
      "2016-03-31 22:12:16         2.6      0.0          A   221216  75.77  ...   \n",
      "2016-03-31 22:12:17         2.6      0.2          A   221217  75.90  ...   \n",
      "2016-03-31 22:12:18         2.6      0.0          A   221218  75.84  ...   \n",
      "2016-03-31 22:12:19         2.6      0.0          A   221219  75.91  ...   \n",
      "2016-03-31 22:12:20         2.6      0.2          A   221220  75.84  ...   \n",
      "2016-03-31 22:12:21         2.6      0.1          A   221221  75.94  ...   \n",
      "2016-03-31 22:12:22         2.6      0.0          A   221222  75.87  ...   \n",
      "...                         ...      ...        ...      ...    ...  ...   \n",
      "2016-03-31 23:14:34         2.6      0.1          A   231434  95.90  ...   \n",
      "2016-03-31 23:14:35         2.6      0.0          A   231435  96.00  ...   \n",
      "2016-03-31 23:14:36         2.6      0.0          A   231436  95.90  ...   \n",
      "2016-03-31 23:14:37         2.6      0.0          A   231437  96.00  ...   \n",
      "2016-03-31 23:14:38         2.6      0.0          A   231438  96.00  ...   \n",
      "2016-03-31 23:14:39         2.6      0.0          A   231439  95.90  ...   \n",
      "2016-03-31 23:14:40         2.6      0.1          A   231440  96.10  ...   \n",
      "2016-03-31 23:14:41         2.6      0.0          A   231441  95.90  ...   \n",
      "2016-03-31 23:14:42         2.6      0.0          A   231442  95.90  ...   \n",
      "2016-03-31 23:14:43         2.6      0.0          A   231443  95.90  ...   \n",
      "2016-03-31 23:14:44         2.6      0.0          A   231444  96.00  ...   \n",
      "2016-03-31 23:14:45         2.6      0.0          A   231445  95.90  ...   \n",
      "2016-03-31 23:14:46         2.6      0.0          A   231446  95.90  ...   \n",
      "2016-03-31 23:14:47         2.6      0.0          A   231447  95.90  ...   \n",
      "2016-03-31 23:14:48         2.6      0.0          A   231448  95.90  ...   \n",
      "2016-03-31 23:14:49         2.6      0.0          A   231449  96.00  ...   \n",
      "2016-03-31 23:14:50         2.6      0.0          A   231450  95.90  ...   \n",
      "2016-03-31 23:14:51         2.6      0.1          A   231451  96.00  ...   \n",
      "2016-03-31 23:14:52         2.6      0.0          A   231452  96.00  ...   \n",
      "2016-03-31 23:14:53         2.6      0.0          A   231453  96.10  ...   \n",
      "2016-03-31 23:14:54         2.6      0.0          A   231454  96.00  ...   \n",
      "2016-03-31 23:14:55         2.6      0.0          A   231455  96.10  ...   \n",
      "2016-03-31 23:14:56         2.6      0.2          A   231456  96.00  ...   \n",
      "2016-03-31 23:14:57         2.6      0.0          A   231457  96.10  ...   \n",
      "2016-03-31 23:14:58         2.6      0.1          A   231458  96.00  ...   \n",
      "2016-03-31 23:14:59         2.6      0.0          A   231459  96.10  ...   \n",
      "2016-03-31 23:15:00         2.6      0.0          A   231500  96.10  ...   \n",
      "2016-03-31 23:15:01         2.6      0.0          A   231501  96.10  ...   \n",
      "2016-03-31 23:15:02         2.6      0.0          A   231502  96.20  ...   \n",
      "2016-03-31 23:15:03         2.6      0.0          A   231503  96.10  ...   \n",
      "\n",
      "                     compass_dir  dewpoint  fasttemp  pressure  slowtemp  \\\n",
      "time                                                                       \n",
      "2016-03-31 22:11:53         47.5   17.0173     21.10    974.01     21.64   \n",
      "2016-03-31 22:11:54         47.4   17.0627     21.11    974.00     21.65   \n",
      "2016-03-31 22:11:55         47.4   16.9510     21.12    974.00     21.58   \n",
      "2016-03-31 22:11:56         47.4   17.1219     21.12    974.01     21.72   \n",
      "2016-03-31 22:11:57         47.5   16.9741     21.11    974.01     21.58   \n",
      "2016-03-31 22:11:58         47.7   17.0915     21.10    974.02     21.73   \n",
      "2016-03-31 22:11:59         40.6   16.9325     21.10    974.01     21.55   \n",
      "2016-03-31 22:12:00         65.1   17.0425     21.10    974.00     21.64   \n",
      "2016-03-31 22:12:01         57.2   16.9376     21.10    974.02     21.54   \n",
      "2016-03-31 22:12:02         52.8   17.0509     21.10    974.00     21.64   \n",
      "2016-03-31 22:12:03         52.8   16.9586     21.10    974.01     21.54   \n",
      "2016-03-31 22:12:04         52.8   17.0501     21.09    974.02     21.60   \n",
      "2016-03-31 22:12:05         52.8   16.9409     21.08    974.02     21.50   \n",
      "2016-03-31 22:12:06         52.8   17.0606     21.05    974.02     21.60   \n",
      "2016-03-31 22:12:07         52.8   16.9522     21.04    974.03     21.49   \n",
      "2016-03-31 22:12:08         52.7   17.0656     21.04    974.02     21.59   \n",
      "2016-03-31 22:12:09         52.8   16.9690     21.04    974.01     21.49   \n",
      "2016-03-31 22:12:10         52.8   17.1003     21.03    974.03     21.60   \n",
      "2016-03-31 22:12:11         52.8   17.0016     21.02    974.04     21.50   \n",
      "2016-03-31 22:12:12         52.8   17.0812     21.02    974.03     21.55   \n",
      "2016-03-31 22:12:13         52.7   17.2395     21.02    974.02     21.69   \n",
      "2016-03-31 22:12:14         52.9   17.0107     21.02    974.02     21.49   \n",
      "2016-03-31 22:12:15         52.8   17.1269     21.01    974.02     21.58   \n",
      "2016-03-31 22:12:16         52.7   17.0047     20.99    974.02     21.46   \n",
      "2016-03-31 22:12:17         52.9   17.1284     20.98    974.02     21.56   \n",
      "2016-03-31 22:12:18         52.9   17.0096     20.97    974.02     21.45   \n",
      "2016-03-31 22:12:19         53.1   17.1208     20.96    974.03     21.55   \n",
      "2016-03-31 22:12:20         52.9   17.0096     20.94    974.03     21.45   \n",
      "2016-03-31 22:12:21         53.0   17.1174     20.94    974.03     21.54   \n",
      "2016-03-31 22:12:22         52.9   17.0158     20.95    974.03     21.45   \n",
      "...                          ...       ...       ...       ...       ...   \n",
      "2016-03-31 23:14:34         52.5   16.3309     17.18    975.95     16.99   \n",
      "2016-03-31 23:14:35         52.5   16.4368     17.18    975.94     17.08   \n",
      "2016-03-31 23:14:36         52.5   16.3309     17.18    975.96     16.99   \n",
      "2016-03-31 23:14:37         52.5   16.4069     17.18    975.94     17.05   \n",
      "2016-03-31 23:14:38         52.5   16.3572     17.18    975.95     17.00   \n",
      "2016-03-31 23:14:39         52.5   16.3806     17.18    975.95     17.04   \n",
      "2016-03-31 23:14:40         52.5   16.5427     17.17    975.94     17.17   \n",
      "2016-03-31 23:14:41         52.5   16.3309     17.17    975.93     16.99   \n",
      "2016-03-31 23:14:42         52.5   16.4204     17.16    975.93     17.08   \n",
      "2016-03-31 23:14:43         52.5   16.3408     17.16    975.94     17.00   \n",
      "2016-03-31 23:14:44         52.5   16.4467     17.16    975.93     17.09   \n",
      "2016-03-31 23:14:45         52.5   16.3309     17.15    975.95     16.99   \n",
      "2016-03-31 23:14:46         52.6   16.3408     17.15    975.95     17.00   \n",
      "2016-03-31 23:14:47         52.7   16.4204     17.14    975.93     17.08   \n",
      "2016-03-31 23:14:48         52.8   16.3408     17.13    975.94     17.00   \n",
      "2016-03-31 23:14:49         52.6   16.4368     17.13    975.92     17.08   \n",
      "2016-03-31 23:14:50         52.3   16.3309     17.12    975.94     16.99   \n",
      "2016-03-31 23:14:51         52.3   16.4467     17.12    975.93     17.09   \n",
      "2016-03-31 23:14:52         52.3   16.3472     17.12    975.93     16.99   \n",
      "2016-03-31 23:14:53         52.4   16.4730     17.12    975.92     17.10   \n",
      "2016-03-31 23:14:54         52.4   16.3572     17.12    975.92     17.00   \n",
      "2016-03-31 23:14:55         52.4   16.4631     17.12    975.92     17.09   \n",
      "2016-03-31 23:14:56         52.4   16.3472     17.12    975.92     16.99   \n",
      "2016-03-31 23:14:57         52.4   16.4034     17.12    975.91     17.03   \n",
      "2016-03-31 23:14:58         52.4   16.3572     17.12    975.92     17.00   \n",
      "2016-03-31 23:14:59         52.4   16.4133     17.12    975.89     17.04   \n",
      "2016-03-31 23:15:00         52.4   16.3636     17.12    975.89     16.99   \n",
      "2016-03-31 23:15:01         52.4   16.4034     17.12    975.88     17.03   \n",
      "2016-03-31 23:15:02         52.4   16.3799     17.12    975.88     16.99   \n",
      "2016-03-31 23:15:03         52.4   16.4133     17.12    975.88     17.04   \n",
      "\n",
      "                     voltage  winddiag  winddirabs  winddirrel  windspd  \n",
      "time                                                                     \n",
      "2016-03-31 22:11:53    12.98       0.0       114.5        67.0     0.34  \n",
      "2016-03-31 22:11:54    12.98       0.0       177.4       130.0     0.97  \n",
      "2016-03-31 22:11:55    12.96       0.0       105.4        58.0     0.38  \n",
      "2016-03-31 22:11:56    12.96       0.0        68.4        21.0     0.65  \n",
      "2016-03-31 22:11:57    12.96       0.0       188.5       141.0     0.81  \n",
      "2016-03-31 22:11:58    12.96       0.0       191.7       144.0     0.86  \n",
      "2016-03-31 22:11:59    12.96       0.0       145.6       105.0     0.72  \n",
      "2016-03-31 22:12:00    12.96       0.0       171.1       106.0     0.65  \n",
      "2016-03-31 22:12:01    12.96       0.0       158.2       101.0     0.19  \n",
      "2016-03-31 22:12:02    12.96       0.0       191.8       139.0     0.71  \n",
      "2016-03-31 22:12:03    12.95       0.0       115.8        63.0     0.14  \n",
      "2016-03-31 22:12:04    12.95       0.0       134.8        82.0     0.64  \n",
      "2016-03-31 22:12:05    12.95       0.0       111.8        59.0     0.78  \n",
      "2016-03-31 22:12:06    12.95       0.0       176.8       124.0     0.64  \n",
      "2016-03-31 22:12:07    12.95       0.0       163.8       111.0     0.61  \n",
      "2016-03-31 22:12:08    12.95       0.0       151.7        99.0     0.59  \n",
      "2016-03-31 22:12:09    12.95       0.0       185.8       133.0     0.56  \n",
      "2016-03-31 22:12:10    12.95       0.0       178.8       126.0     0.47  \n",
      "2016-03-31 22:12:11    12.94       0.0       186.8       134.0     0.67  \n",
      "2016-03-31 22:12:12    12.94       0.0       180.8       128.0     0.74  \n",
      "2016-03-31 22:12:13    12.94       0.0       179.7       127.0     0.58  \n",
      "2016-03-31 22:12:14    12.94       0.0       155.9       103.0     0.62  \n",
      "2016-03-31 22:12:15    12.94       0.0       157.8       105.0     0.43  \n",
      "2016-03-31 22:12:16    12.94       0.0       167.7       115.0     0.52  \n",
      "2016-03-31 22:12:17    12.94       0.0       176.9       124.0     1.48  \n",
      "2016-03-31 22:12:18    12.94       0.0       189.9       137.0     1.71  \n",
      "2016-03-31 22:12:19    12.94       0.0       180.1       127.0     1.44  \n",
      "2016-03-31 22:12:20    12.94       0.0       152.9       100.0     1.53  \n",
      "2016-03-31 22:12:21    12.94       0.0       143.0        90.0     1.06  \n",
      "2016-03-31 22:12:22    12.94       0.0       159.9       107.0     0.93  \n",
      "...                      ...       ...         ...         ...      ...  \n",
      "2016-03-31 23:14:34    12.78       0.0       324.5       272.0     1.79  \n",
      "2016-03-31 23:14:35    12.79       0.0       318.5       266.0     1.82  \n",
      "2016-03-31 23:14:36    12.79       0.0       320.5       268.0     1.62  \n",
      "2016-03-31 23:14:37    12.79       0.0       316.5       264.0     1.62  \n",
      "2016-03-31 23:14:38    12.79       0.0       318.5       266.0     1.61  \n",
      "2016-03-31 23:14:39    12.79       0.0       315.5       263.0     1.58  \n",
      "2016-03-31 23:14:40    12.79       0.0       326.5       274.0     1.47  \n",
      "2016-03-31 23:14:41    12.79       0.0       323.5       271.0     1.42  \n",
      "2016-03-31 23:14:42    12.79       0.0       329.5       277.0     1.24  \n",
      "2016-03-31 23:14:43    12.79       0.0       332.5       280.0     1.32  \n",
      "2016-03-31 23:14:44    12.79       0.0       338.5       286.0     1.31  \n",
      "2016-03-31 23:14:45    12.79       0.0       343.5       291.0     1.40  \n",
      "2016-03-31 23:14:46    12.79       0.0       340.6       288.0     1.40  \n",
      "2016-03-31 23:14:47    12.79       0.0       342.7       290.0     1.29  \n",
      "2016-03-31 23:14:48    12.79       0.0       334.8       282.0     1.28  \n",
      "2016-03-31 23:14:49    12.79       0.0       334.6       282.0     1.25  \n",
      "2016-03-31 23:14:50    12.79       0.0       341.3       289.0     0.98  \n",
      "2016-03-31 23:14:51    12.79       0.0       335.3       283.0     1.18  \n",
      "2016-03-31 23:14:52    12.79       0.0       339.3       287.0     1.31  \n",
      "2016-03-31 23:14:53    12.79       0.0       338.4       286.0     1.39  \n",
      "2016-03-31 23:14:54    12.79       0.0       338.4       286.0     1.42  \n",
      "2016-03-31 23:14:55    12.79       0.0       333.4       281.0     1.37  \n",
      "2016-03-31 23:14:56    12.79       0.0       329.4       277.0     1.38  \n",
      "2016-03-31 23:14:57    12.79       0.0       321.4       269.0     1.66  \n",
      "2016-03-31 23:14:58    12.79       0.0       318.4       266.0     1.32  \n",
      "2016-03-31 23:14:59    12.77       0.0       317.4       265.0     1.41  \n",
      "2016-03-31 23:15:00    12.77       0.0       316.4       264.0     1.45  \n",
      "2016-03-31 23:15:01    12.77       0.0       324.4       272.0     1.45  \n",
      "2016-03-31 23:15:02    12.77       0.0       326.4       274.0     1.37  \n",
      "2016-03-31 23:15:03    12.77       0.0       325.4       273.0     1.27  \n",
      "\n",
      "[3791 rows x 21 columns]\n"
     ]
    },
    {
     "data": {
      "text/html": [
       "<pre>&lt;xarray.Dataset&gt;\n",
       "Dimensions:      (time: 3791)\n",
       "Coordinates:\n",
       "  * time         (time) datetime64[ns] 2016-03-31T22:11:53 ... 2016-03-31T23:15:03\n",
       "Data variables:\n",
       "    GPS_alt      (time) float64 nan nan nan nan nan ... 253.6 253.5 253.4 253.4\n",
       "    GPS_date     (time) object &#x27;310316&#x27; &#x27;310316&#x27; &#x27;310316&#x27; ... &#x27;310316&#x27; &#x27;310316&#x27;\n",
       "    GPS_dir      (time) float64 nan nan nan nan nan ... 218.3 218.3 218.3 218.3\n",
       "    GPS_lat      (time) float64 34.73 34.73 34.73 34.73 ... 35.05 35.05 35.05\n",
       "    GPS_lon      (time) float64 -86.65 -86.65 -86.65 ... -87.68 -87.68 -87.68\n",
       "    GPS_magvar   (time) float64 3.3 3.3 3.3 3.3 3.3 3.3 ... 2.6 2.6 2.6 2.6 2.6\n",
       "    GPS_spd      (time) float64 nan nan nan nan nan nan ... 0.0 0.0 0.0 0.0 0.0\n",
       "    GPS_status   (time) object &#x27;V&#x27; &#x27;V&#x27; &#x27;V&#x27; &#x27;V&#x27; &#x27;V&#x27; &#x27;V&#x27; ... &#x27;A&#x27; &#x27;A&#x27; &#x27;A&#x27; &#x27;A&#x27; &#x27;A&#x27;\n",
       "    GPS_time     (time) object &#x27;221153&#x27; &#x27;221154&#x27; &#x27;221155&#x27; ... &#x27;231502&#x27; &#x27;231503&#x27;\n",
       "    RH           (time) float64 75.0 75.17 74.96 75.13 ... 96.1 96.1 96.2 96.1\n",
       "    RH_derived   (time) float64 77.52 77.7 77.1 77.94 ... 95.55 95.41 95.61\n",
       "    compass_dir  (time) float64 47.5 47.4 47.4 47.4 47.5 ... 52.4 52.4 52.4 52.4\n",
       "    dewpoint     (time) float64 17.02 17.06 16.95 17.12 ... 16.4 16.38 16.41\n",
       "    fasttemp     (time) float64 21.1 21.11 21.12 21.12 ... 17.12 17.12 17.12\n",
       "    pressure     (time) float64 974.0 974.0 974.0 974.0 ... 975.9 975.9 975.9\n",
       "    slowtemp     (time) float64 21.64 21.65 21.58 21.72 ... 17.03 16.99 17.04\n",
       "    voltage      (time) float64 12.98 12.98 12.96 12.96 ... 12.77 12.77 12.77\n",
       "    winddiag     (time) float64 0.0 0.0 0.0 0.0 0.0 0.0 ... 0.0 0.0 0.0 0.0 0.0\n",
       "    winddirabs   (time) float64 114.5 177.4 105.4 68.4 ... 324.4 326.4 325.4\n",
       "    winddirrel   (time) float64 67.0 130.0 58.0 21.0 ... 264.0 272.0 274.0 273.0\n",
       "    windspd      (time) float64 0.34 0.97 0.38 0.65 0.81 ... 1.45 1.45 1.37 1.27</pre>"
      ],
      "text/plain": [
       "<xarray.Dataset>\n",
       "Dimensions:      (time: 3791)\n",
       "Coordinates:\n",
       "  * time         (time) datetime64[ns] 2016-03-31T22:11:53 ... 2016-03-31T23:15:03\n",
       "Data variables:\n",
       "    GPS_alt      (time) float64 nan nan nan nan nan ... 253.6 253.5 253.4 253.4\n",
       "    GPS_date     (time) object '310316' '310316' '310316' ... '310316' '310316'\n",
       "    GPS_dir      (time) float64 nan nan nan nan nan ... 218.3 218.3 218.3 218.3\n",
       "    GPS_lat      (time) float64 34.73 34.73 34.73 34.73 ... 35.05 35.05 35.05\n",
       "    GPS_lon      (time) float64 -86.65 -86.65 -86.65 ... -87.68 -87.68 -87.68\n",
       "    GPS_magvar   (time) float64 3.3 3.3 3.3 3.3 3.3 3.3 ... 2.6 2.6 2.6 2.6 2.6\n",
       "    GPS_spd      (time) float64 nan nan nan nan nan nan ... 0.0 0.0 0.0 0.0 0.0\n",
       "    GPS_status   (time) object 'V' 'V' 'V' 'V' 'V' 'V' ... 'A' 'A' 'A' 'A' 'A'\n",
       "    GPS_time     (time) object '221153' '221154' '221155' ... '231502' '231503'\n",
       "    RH           (time) float64 75.0 75.17 74.96 75.13 ... 96.1 96.1 96.2 96.1\n",
       "    RH_derived   (time) float64 77.52 77.7 77.1 77.94 ... 95.55 95.41 95.61\n",
       "    compass_dir  (time) float64 47.5 47.4 47.4 47.4 47.5 ... 52.4 52.4 52.4 52.4\n",
       "    dewpoint     (time) float64 17.02 17.06 16.95 17.12 ... 16.4 16.38 16.41\n",
       "    fasttemp     (time) float64 21.1 21.11 21.12 21.12 ... 17.12 17.12 17.12\n",
       "    pressure     (time) float64 974.0 974.0 974.0 974.0 ... 975.9 975.9 975.9\n",
       "    slowtemp     (time) float64 21.64 21.65 21.58 21.72 ... 17.03 16.99 17.04\n",
       "    voltage      (time) float64 12.98 12.98 12.96 12.96 ... 12.77 12.77 12.77\n",
       "    winddiag     (time) float64 0.0 0.0 0.0 0.0 0.0 0.0 ... 0.0 0.0 0.0 0.0 0.0\n",
       "    winddirabs   (time) float64 114.5 177.4 105.4 68.4 ... 324.4 326.4 325.4\n",
       "    winddirrel   (time) float64 67.0 130.0 58.0 21.0 ... 264.0 272.0 274.0 273.0\n",
       "    windspd      (time) float64 0.34 0.97 0.38 0.65 0.81 ... 1.45 1.45 1.37 1.27"
      ]
     },
     "execution_count": 48,
     "metadata": {},
     "output_type": "execute_result"
    }
   ],
   "source": [
    "# Test converting conventional data DataFrame to xarray\n",
    "\n",
    "print(conv_df)\n",
    "conv_ds = conv_df.to_xarray()\n",
    "conv_ds\n"
   ]
  },
  {
   "cell_type": "code",
   "execution_count": 53,
   "metadata": {
    "ExecuteTime": {
     "end_time": "2020-01-27T17:46:53.501518Z",
     "start_time": "2020-01-27T17:46:53.397647Z"
    }
   },
   "outputs": [
    {
     "name": "stdout",
     "output_type": "stream",
     "text": [
      "<xarray.Dataset>\n",
      "Dimensions:      (time: 3791)\n",
      "Coordinates:\n",
      "  * time         (time) datetime64[ns] 2016-03-31T22:11:53 ... 2016-03-31T23:15:03\n",
      "Data variables:\n",
      "    GPS_alt      (time) float64 nan nan nan nan nan ... 253.6 253.5 253.4 253.4\n",
      "    GPS_date     (time) object '310316' '310316' '310316' ... '310316' '310316'\n",
      "    GPS_dir      (time) float64 nan nan nan nan nan ... 218.3 218.3 218.3 218.3\n",
      "    GPS_lat      (time) float64 34.73 34.73 34.73 34.73 ... 35.05 35.05 35.05\n",
      "    GPS_lon      (time) float64 -86.65 -86.65 -86.65 ... -87.68 -87.68 -87.68\n",
      "    GPS_magvar   (time) float64 3.3 3.3 3.3 3.3 3.3 3.3 ... 2.6 2.6 2.6 2.6 2.6\n",
      "    GPS_spd      (time) float64 nan nan nan nan nan nan ... 0.0 0.0 0.0 0.0 0.0\n",
      "    GPS_status   (time) object 'V' 'V' 'V' 'V' 'V' 'V' ... 'A' 'A' 'A' 'A' 'A'\n",
      "    GPS_time     (time) object '221153' '221154' '221155' ... '231502' '231503'\n",
      "    RH           (time) float64 75.0 75.17 74.96 75.13 ... 96.1 96.1 96.2 96.1\n",
      "    RH_derived   (time) float64 77.52 77.7 77.1 77.94 ... 95.55 95.41 95.61\n",
      "    compass_dir  (time) float64 47.5 47.4 47.4 47.4 47.5 ... 52.4 52.4 52.4 52.4\n",
      "    dewpoint     (time) float64 17.02 17.06 16.95 17.12 ... 16.4 16.38 16.41\n",
      "    fasttemp     (time) float64 21.1 21.11 21.12 21.12 ... 17.12 17.12 17.12\n",
      "    pressure     (time) float64 974.0 974.0 974.0 974.0 ... 975.9 975.9 975.9\n",
      "    slowtemp     (time) float64 21.64 21.65 21.58 21.72 ... 17.03 16.99 17.04\n",
      "    voltage      (time) float64 12.98 12.98 12.96 12.96 ... 12.77 12.77 12.77\n",
      "    winddiag     (time) float64 0.0 0.0 0.0 0.0 0.0 0.0 ... 0.0 0.0 0.0 0.0 0.0\n",
      "    winddirabs   (time) float64 114.5 177.4 105.4 68.4 ... 324.4 326.4 325.4\n",
      "    winddirrel   (time) float64 67.0 130.0 58.0 21.0 ... 264.0 272.0 274.0 273.0\n",
      "    windspd      (time) float64 0.34 0.97 0.38 0.65 0.81 ... 1.45 1.45 1.37 1.27\n",
      "<xarray.DataArray 'GPS_spd' (time: 3791)>\n",
      "array([nan, nan, nan, ...,  0.,  0.,  0.])\n",
      "Coordinates:\n",
      "  * time     (time) datetime64[ns] 2016-03-31T22:11:53 ... 2016-03-31T23:15:03\n",
      "Attributes:\n",
      "    units:    meters per second\n"
     ]
    }
   ],
   "source": [
    "conv_ds = pipsio.conv_df_to_ds(conv_df)\n",
    "print(conv_ds)\n",
    "print(conv_ds['GPS_spd'])"
   ]
  },
  {
   "cell_type": "code",
   "execution_count": 57,
   "metadata": {
    "ExecuteTime": {
     "end_time": "2020-01-27T19:50:32.653321Z",
     "start_time": "2020-01-27T19:50:32.537173Z"
    }
   },
   "outputs": [
    {
     "ename": "PermissionError",
     "evalue": "[Errno 13] Permission denied: b'/Users/dawson29/Projects/pyPIPS/notebooks/conv_test.nc'",
     "output_type": "error",
     "traceback": [
      "\u001b[0;31m---------------------------------------------------------------------------\u001b[0m",
      "\u001b[0;31mKeyError\u001b[0m                                  Traceback (most recent call last)",
      "\u001b[0;32m~/miniconda3/envs/pyPIPS/lib/python3.7/site-packages/xarray/backends/file_manager.py\u001b[0m in \u001b[0;36m_acquire_with_cache_info\u001b[0;34m(self, needs_lock)\u001b[0m\n\u001b[1;32m    197\u001b[0m             \u001b[0;32mtry\u001b[0m\u001b[0;34m:\u001b[0m\u001b[0;34m\u001b[0m\u001b[0;34m\u001b[0m\u001b[0m\n\u001b[0;32m--> 198\u001b[0;31m                 \u001b[0mfile\u001b[0m \u001b[0;34m=\u001b[0m \u001b[0mself\u001b[0m\u001b[0;34m.\u001b[0m\u001b[0m_cache\u001b[0m\u001b[0;34m[\u001b[0m\u001b[0mself\u001b[0m\u001b[0;34m.\u001b[0m\u001b[0m_key\u001b[0m\u001b[0;34m]\u001b[0m\u001b[0;34m\u001b[0m\u001b[0;34m\u001b[0m\u001b[0m\n\u001b[0m\u001b[1;32m    199\u001b[0m             \u001b[0;32mexcept\u001b[0m \u001b[0mKeyError\u001b[0m\u001b[0;34m:\u001b[0m\u001b[0;34m\u001b[0m\u001b[0;34m\u001b[0m\u001b[0m\n",
      "\u001b[0;32m~/miniconda3/envs/pyPIPS/lib/python3.7/site-packages/xarray/backends/lru_cache.py\u001b[0m in \u001b[0;36m__getitem__\u001b[0;34m(self, key)\u001b[0m\n\u001b[1;32m     52\u001b[0m         \u001b[0;32mwith\u001b[0m \u001b[0mself\u001b[0m\u001b[0;34m.\u001b[0m\u001b[0m_lock\u001b[0m\u001b[0;34m:\u001b[0m\u001b[0;34m\u001b[0m\u001b[0;34m\u001b[0m\u001b[0m\n\u001b[0;32m---> 53\u001b[0;31m             \u001b[0mvalue\u001b[0m \u001b[0;34m=\u001b[0m \u001b[0mself\u001b[0m\u001b[0;34m.\u001b[0m\u001b[0m_cache\u001b[0m\u001b[0;34m[\u001b[0m\u001b[0mkey\u001b[0m\u001b[0;34m]\u001b[0m\u001b[0;34m\u001b[0m\u001b[0;34m\u001b[0m\u001b[0m\n\u001b[0m\u001b[1;32m     54\u001b[0m             \u001b[0mself\u001b[0m\u001b[0;34m.\u001b[0m\u001b[0m_cache\u001b[0m\u001b[0;34m.\u001b[0m\u001b[0mmove_to_end\u001b[0m\u001b[0;34m(\u001b[0m\u001b[0mkey\u001b[0m\u001b[0;34m)\u001b[0m\u001b[0;34m\u001b[0m\u001b[0;34m\u001b[0m\u001b[0m\n",
      "\u001b[0;31mKeyError\u001b[0m: [<class 'netCDF4._netCDF4.Dataset'>, ('/Users/dawson29/Projects/pyPIPS/notebooks/conv_test.nc',), 'a', (('clobber', True), ('diskless', False), ('format', 'NETCDF4'), ('persist', False))]",
      "\nDuring handling of the above exception, another exception occurred:\n",
      "\u001b[0;31mPermissionError\u001b[0m                           Traceback (most recent call last)",
      "\u001b[0;32m<ipython-input-57-a5bc0ec7f127>\u001b[0m in \u001b[0;36m<module>\u001b[0;34m\u001b[0m\n\u001b[1;32m      1\u001b[0m \u001b[0mconv_nc_path\u001b[0m \u001b[0;34m=\u001b[0m \u001b[0;34m'./conv_test.nc'\u001b[0m\u001b[0;34m\u001b[0m\u001b[0;34m\u001b[0m\u001b[0m\n\u001b[0;32m----> 2\u001b[0;31m \u001b[0mpipsio\u001b[0m\u001b[0;34m.\u001b[0m\u001b[0mdump_conv_netcdf\u001b[0m\u001b[0;34m(\u001b[0m\u001b[0mconv_nc_path\u001b[0m\u001b[0;34m,\u001b[0m \u001b[0mconv_ds\u001b[0m\u001b[0;34m)\u001b[0m\u001b[0;34m\u001b[0m\u001b[0;34m\u001b[0m\u001b[0m\n\u001b[0m\u001b[1;32m      3\u001b[0m \u001b[0mconv_ds_from_netcdf\u001b[0m\u001b[0;34m.\u001b[0m\u001b[0mclose\u001b[0m\u001b[0;34m(\u001b[0m\u001b[0;34m)\u001b[0m\u001b[0;34m\u001b[0m\u001b[0;34m\u001b[0m\u001b[0m\n\u001b[1;32m      4\u001b[0m \u001b[0mconv_ds_from_netcdf\u001b[0m \u001b[0;34m=\u001b[0m \u001b[0mxr\u001b[0m\u001b[0;34m.\u001b[0m\u001b[0mopen_dataset\u001b[0m\u001b[0;34m(\u001b[0m\u001b[0mconv_nc_path\u001b[0m\u001b[0;34m)\u001b[0m\u001b[0;34m\u001b[0m\u001b[0;34m\u001b[0m\u001b[0m\n\u001b[1;32m      5\u001b[0m \u001b[0mprint\u001b[0m\u001b[0;34m(\u001b[0m\u001b[0mconv_ds_from_netcdf\u001b[0m\u001b[0;34m)\u001b[0m\u001b[0;34m\u001b[0m\u001b[0;34m\u001b[0m\u001b[0m\n",
      "\u001b[0;32m~/Projects/pyPIPS/pyPIPS/pips_io.py\u001b[0m in \u001b[0;36mdump_conv_netcdf\u001b[0;34m(conv_path, conv_ds)\u001b[0m\n\u001b[1;32m    451\u001b[0m \u001b[0;34m\u001b[0m\u001b[0m\n\u001b[1;32m    452\u001b[0m \u001b[0;32mdef\u001b[0m \u001b[0mdump_conv_netcdf\u001b[0m\u001b[0;34m(\u001b[0m\u001b[0mconv_path\u001b[0m\u001b[0;34m,\u001b[0m \u001b[0mconv_ds\u001b[0m\u001b[0;34m)\u001b[0m\u001b[0;34m:\u001b[0m\u001b[0;34m\u001b[0m\u001b[0;34m\u001b[0m\u001b[0m\n\u001b[0;32m--> 453\u001b[0;31m     \u001b[0mconv_ds\u001b[0m\u001b[0;34m.\u001b[0m\u001b[0mto_netcdf\u001b[0m\u001b[0;34m(\u001b[0m\u001b[0mconv_path\u001b[0m\u001b[0;34m,\u001b[0m \u001b[0mmode\u001b[0m\u001b[0;34m=\u001b[0m\u001b[0;34m'w'\u001b[0m\u001b[0;34m)\u001b[0m\u001b[0;34m\u001b[0m\u001b[0;34m\u001b[0m\u001b[0m\n\u001b[0m",
      "\u001b[0;32m~/miniconda3/envs/pyPIPS/lib/python3.7/site-packages/xarray/core/dataset.py\u001b[0m in \u001b[0;36mto_netcdf\u001b[0;34m(self, path, mode, format, group, engine, encoding, unlimited_dims, compute, invalid_netcdf)\u001b[0m\n\u001b[1;32m   1545\u001b[0m             \u001b[0munlimited_dims\u001b[0m\u001b[0;34m=\u001b[0m\u001b[0munlimited_dims\u001b[0m\u001b[0;34m,\u001b[0m\u001b[0;34m\u001b[0m\u001b[0;34m\u001b[0m\u001b[0m\n\u001b[1;32m   1546\u001b[0m             \u001b[0mcompute\u001b[0m\u001b[0;34m=\u001b[0m\u001b[0mcompute\u001b[0m\u001b[0;34m,\u001b[0m\u001b[0;34m\u001b[0m\u001b[0;34m\u001b[0m\u001b[0m\n\u001b[0;32m-> 1547\u001b[0;31m             \u001b[0minvalid_netcdf\u001b[0m\u001b[0;34m=\u001b[0m\u001b[0minvalid_netcdf\u001b[0m\u001b[0;34m,\u001b[0m\u001b[0;34m\u001b[0m\u001b[0;34m\u001b[0m\u001b[0m\n\u001b[0m\u001b[1;32m   1548\u001b[0m         )\n\u001b[1;32m   1549\u001b[0m \u001b[0;34m\u001b[0m\u001b[0m\n",
      "\u001b[0;32m~/miniconda3/envs/pyPIPS/lib/python3.7/site-packages/xarray/backends/api.py\u001b[0m in \u001b[0;36mto_netcdf\u001b[0;34m(dataset, path_or_file, mode, format, group, engine, encoding, unlimited_dims, compute, multifile, invalid_netcdf)\u001b[0m\n\u001b[1;32m   1053\u001b[0m                 \u001b[0;34m\"unrecognized option 'invalid_netcdf' for engine %s\"\u001b[0m \u001b[0;34m%\u001b[0m \u001b[0mengine\u001b[0m\u001b[0;34m\u001b[0m\u001b[0;34m\u001b[0m\u001b[0m\n\u001b[1;32m   1054\u001b[0m             )\n\u001b[0;32m-> 1055\u001b[0;31m     \u001b[0mstore\u001b[0m \u001b[0;34m=\u001b[0m \u001b[0mstore_open\u001b[0m\u001b[0;34m(\u001b[0m\u001b[0mtarget\u001b[0m\u001b[0;34m,\u001b[0m \u001b[0mmode\u001b[0m\u001b[0;34m,\u001b[0m \u001b[0mformat\u001b[0m\u001b[0;34m,\u001b[0m \u001b[0mgroup\u001b[0m\u001b[0;34m,\u001b[0m \u001b[0;34m**\u001b[0m\u001b[0mkwargs\u001b[0m\u001b[0;34m)\u001b[0m\u001b[0;34m\u001b[0m\u001b[0;34m\u001b[0m\u001b[0m\n\u001b[0m\u001b[1;32m   1056\u001b[0m \u001b[0;34m\u001b[0m\u001b[0m\n\u001b[1;32m   1057\u001b[0m     \u001b[0;32mif\u001b[0m \u001b[0munlimited_dims\u001b[0m \u001b[0;32mis\u001b[0m \u001b[0;32mNone\u001b[0m\u001b[0;34m:\u001b[0m\u001b[0;34m\u001b[0m\u001b[0;34m\u001b[0m\u001b[0m\n",
      "\u001b[0;32m~/miniconda3/envs/pyPIPS/lib/python3.7/site-packages/xarray/backends/netCDF4_.py\u001b[0m in \u001b[0;36mopen\u001b[0;34m(cls, filename, mode, format, group, clobber, diskless, persist, lock, lock_maker, autoclose)\u001b[0m\n\u001b[1;32m    355\u001b[0m             \u001b[0mnetCDF4\u001b[0m\u001b[0;34m.\u001b[0m\u001b[0mDataset\u001b[0m\u001b[0;34m,\u001b[0m \u001b[0mfilename\u001b[0m\u001b[0;34m,\u001b[0m \u001b[0mmode\u001b[0m\u001b[0;34m=\u001b[0m\u001b[0mmode\u001b[0m\u001b[0;34m,\u001b[0m \u001b[0mkwargs\u001b[0m\u001b[0;34m=\u001b[0m\u001b[0mkwargs\u001b[0m\u001b[0;34m\u001b[0m\u001b[0;34m\u001b[0m\u001b[0m\n\u001b[1;32m    356\u001b[0m         )\n\u001b[0;32m--> 357\u001b[0;31m         \u001b[0;32mreturn\u001b[0m \u001b[0mcls\u001b[0m\u001b[0;34m(\u001b[0m\u001b[0mmanager\u001b[0m\u001b[0;34m,\u001b[0m \u001b[0mgroup\u001b[0m\u001b[0;34m=\u001b[0m\u001b[0mgroup\u001b[0m\u001b[0;34m,\u001b[0m \u001b[0mmode\u001b[0m\u001b[0;34m=\u001b[0m\u001b[0mmode\u001b[0m\u001b[0;34m,\u001b[0m \u001b[0mlock\u001b[0m\u001b[0;34m=\u001b[0m\u001b[0mlock\u001b[0m\u001b[0;34m,\u001b[0m \u001b[0mautoclose\u001b[0m\u001b[0;34m=\u001b[0m\u001b[0mautoclose\u001b[0m\u001b[0;34m)\u001b[0m\u001b[0;34m\u001b[0m\u001b[0;34m\u001b[0m\u001b[0m\n\u001b[0m\u001b[1;32m    358\u001b[0m \u001b[0;34m\u001b[0m\u001b[0m\n\u001b[1;32m    359\u001b[0m     \u001b[0;32mdef\u001b[0m \u001b[0m_acquire\u001b[0m\u001b[0;34m(\u001b[0m\u001b[0mself\u001b[0m\u001b[0;34m,\u001b[0m \u001b[0mneeds_lock\u001b[0m\u001b[0;34m=\u001b[0m\u001b[0;32mTrue\u001b[0m\u001b[0;34m)\u001b[0m\u001b[0;34m:\u001b[0m\u001b[0;34m\u001b[0m\u001b[0;34m\u001b[0m\u001b[0m\n",
      "\u001b[0;32m~/miniconda3/envs/pyPIPS/lib/python3.7/site-packages/xarray/backends/netCDF4_.py\u001b[0m in \u001b[0;36m__init__\u001b[0;34m(self, manager, group, mode, lock, autoclose)\u001b[0m\n\u001b[1;32m    311\u001b[0m         \u001b[0mself\u001b[0m\u001b[0;34m.\u001b[0m\u001b[0m_group\u001b[0m \u001b[0;34m=\u001b[0m \u001b[0mgroup\u001b[0m\u001b[0;34m\u001b[0m\u001b[0;34m\u001b[0m\u001b[0m\n\u001b[1;32m    312\u001b[0m         \u001b[0mself\u001b[0m\u001b[0;34m.\u001b[0m\u001b[0m_mode\u001b[0m \u001b[0;34m=\u001b[0m \u001b[0mmode\u001b[0m\u001b[0;34m\u001b[0m\u001b[0;34m\u001b[0m\u001b[0m\n\u001b[0;32m--> 313\u001b[0;31m         \u001b[0mself\u001b[0m\u001b[0;34m.\u001b[0m\u001b[0mformat\u001b[0m \u001b[0;34m=\u001b[0m \u001b[0mself\u001b[0m\u001b[0;34m.\u001b[0m\u001b[0mds\u001b[0m\u001b[0;34m.\u001b[0m\u001b[0mdata_model\u001b[0m\u001b[0;34m\u001b[0m\u001b[0;34m\u001b[0m\u001b[0m\n\u001b[0m\u001b[1;32m    314\u001b[0m         \u001b[0mself\u001b[0m\u001b[0;34m.\u001b[0m\u001b[0m_filename\u001b[0m \u001b[0;34m=\u001b[0m \u001b[0mself\u001b[0m\u001b[0;34m.\u001b[0m\u001b[0mds\u001b[0m\u001b[0;34m.\u001b[0m\u001b[0mfilepath\u001b[0m\u001b[0;34m(\u001b[0m\u001b[0;34m)\u001b[0m\u001b[0;34m\u001b[0m\u001b[0;34m\u001b[0m\u001b[0m\n\u001b[1;32m    315\u001b[0m         \u001b[0mself\u001b[0m\u001b[0;34m.\u001b[0m\u001b[0mis_remote\u001b[0m \u001b[0;34m=\u001b[0m \u001b[0mis_remote_uri\u001b[0m\u001b[0;34m(\u001b[0m\u001b[0mself\u001b[0m\u001b[0;34m.\u001b[0m\u001b[0m_filename\u001b[0m\u001b[0;34m)\u001b[0m\u001b[0;34m\u001b[0m\u001b[0;34m\u001b[0m\u001b[0m\n",
      "\u001b[0;32m~/miniconda3/envs/pyPIPS/lib/python3.7/site-packages/xarray/backends/netCDF4_.py\u001b[0m in \u001b[0;36mds\u001b[0;34m(self)\u001b[0m\n\u001b[1;32m    364\u001b[0m     \u001b[0;34m@\u001b[0m\u001b[0mproperty\u001b[0m\u001b[0;34m\u001b[0m\u001b[0;34m\u001b[0m\u001b[0m\n\u001b[1;32m    365\u001b[0m     \u001b[0;32mdef\u001b[0m \u001b[0mds\u001b[0m\u001b[0;34m(\u001b[0m\u001b[0mself\u001b[0m\u001b[0;34m)\u001b[0m\u001b[0;34m:\u001b[0m\u001b[0;34m\u001b[0m\u001b[0;34m\u001b[0m\u001b[0m\n\u001b[0;32m--> 366\u001b[0;31m         \u001b[0;32mreturn\u001b[0m \u001b[0mself\u001b[0m\u001b[0;34m.\u001b[0m\u001b[0m_acquire\u001b[0m\u001b[0;34m(\u001b[0m\u001b[0;34m)\u001b[0m\u001b[0;34m\u001b[0m\u001b[0;34m\u001b[0m\u001b[0m\n\u001b[0m\u001b[1;32m    367\u001b[0m \u001b[0;34m\u001b[0m\u001b[0m\n\u001b[1;32m    368\u001b[0m     \u001b[0;32mdef\u001b[0m \u001b[0mopen_store_variable\u001b[0m\u001b[0;34m(\u001b[0m\u001b[0mself\u001b[0m\u001b[0;34m,\u001b[0m \u001b[0mname\u001b[0m\u001b[0;34m,\u001b[0m \u001b[0mvar\u001b[0m\u001b[0;34m)\u001b[0m\u001b[0;34m:\u001b[0m\u001b[0;34m\u001b[0m\u001b[0;34m\u001b[0m\u001b[0m\n",
      "\u001b[0;32m~/miniconda3/envs/pyPIPS/lib/python3.7/site-packages/xarray/backends/netCDF4_.py\u001b[0m in \u001b[0;36m_acquire\u001b[0;34m(self, needs_lock)\u001b[0m\n\u001b[1;32m    358\u001b[0m \u001b[0;34m\u001b[0m\u001b[0m\n\u001b[1;32m    359\u001b[0m     \u001b[0;32mdef\u001b[0m \u001b[0m_acquire\u001b[0m\u001b[0;34m(\u001b[0m\u001b[0mself\u001b[0m\u001b[0;34m,\u001b[0m \u001b[0mneeds_lock\u001b[0m\u001b[0;34m=\u001b[0m\u001b[0;32mTrue\u001b[0m\u001b[0;34m)\u001b[0m\u001b[0;34m:\u001b[0m\u001b[0;34m\u001b[0m\u001b[0;34m\u001b[0m\u001b[0m\n\u001b[0;32m--> 360\u001b[0;31m         \u001b[0;32mwith\u001b[0m \u001b[0mself\u001b[0m\u001b[0;34m.\u001b[0m\u001b[0m_manager\u001b[0m\u001b[0;34m.\u001b[0m\u001b[0macquire_context\u001b[0m\u001b[0;34m(\u001b[0m\u001b[0mneeds_lock\u001b[0m\u001b[0;34m)\u001b[0m \u001b[0;32mas\u001b[0m \u001b[0mroot\u001b[0m\u001b[0;34m:\u001b[0m\u001b[0;34m\u001b[0m\u001b[0;34m\u001b[0m\u001b[0m\n\u001b[0m\u001b[1;32m    361\u001b[0m             \u001b[0mds\u001b[0m \u001b[0;34m=\u001b[0m \u001b[0m_nc4_require_group\u001b[0m\u001b[0;34m(\u001b[0m\u001b[0mroot\u001b[0m\u001b[0;34m,\u001b[0m \u001b[0mself\u001b[0m\u001b[0;34m.\u001b[0m\u001b[0m_group\u001b[0m\u001b[0;34m,\u001b[0m \u001b[0mself\u001b[0m\u001b[0;34m.\u001b[0m\u001b[0m_mode\u001b[0m\u001b[0;34m)\u001b[0m\u001b[0;34m\u001b[0m\u001b[0;34m\u001b[0m\u001b[0m\n\u001b[1;32m    362\u001b[0m         \u001b[0;32mreturn\u001b[0m \u001b[0mds\u001b[0m\u001b[0;34m\u001b[0m\u001b[0;34m\u001b[0m\u001b[0m\n",
      "\u001b[0;32m~/miniconda3/envs/pyPIPS/lib/python3.7/contextlib.py\u001b[0m in \u001b[0;36m__enter__\u001b[0;34m(self)\u001b[0m\n\u001b[1;32m    110\u001b[0m         \u001b[0;32mdel\u001b[0m \u001b[0mself\u001b[0m\u001b[0;34m.\u001b[0m\u001b[0margs\u001b[0m\u001b[0;34m,\u001b[0m \u001b[0mself\u001b[0m\u001b[0;34m.\u001b[0m\u001b[0mkwds\u001b[0m\u001b[0;34m,\u001b[0m \u001b[0mself\u001b[0m\u001b[0;34m.\u001b[0m\u001b[0mfunc\u001b[0m\u001b[0;34m\u001b[0m\u001b[0;34m\u001b[0m\u001b[0m\n\u001b[1;32m    111\u001b[0m         \u001b[0;32mtry\u001b[0m\u001b[0;34m:\u001b[0m\u001b[0;34m\u001b[0m\u001b[0;34m\u001b[0m\u001b[0m\n\u001b[0;32m--> 112\u001b[0;31m             \u001b[0;32mreturn\u001b[0m \u001b[0mnext\u001b[0m\u001b[0;34m(\u001b[0m\u001b[0mself\u001b[0m\u001b[0;34m.\u001b[0m\u001b[0mgen\u001b[0m\u001b[0;34m)\u001b[0m\u001b[0;34m\u001b[0m\u001b[0;34m\u001b[0m\u001b[0m\n\u001b[0m\u001b[1;32m    113\u001b[0m         \u001b[0;32mexcept\u001b[0m \u001b[0mStopIteration\u001b[0m\u001b[0;34m:\u001b[0m\u001b[0;34m\u001b[0m\u001b[0;34m\u001b[0m\u001b[0m\n\u001b[1;32m    114\u001b[0m             \u001b[0;32mraise\u001b[0m \u001b[0mRuntimeError\u001b[0m\u001b[0;34m(\u001b[0m\u001b[0;34m\"generator didn't yield\"\u001b[0m\u001b[0;34m)\u001b[0m \u001b[0;32mfrom\u001b[0m \u001b[0;32mNone\u001b[0m\u001b[0;34m\u001b[0m\u001b[0;34m\u001b[0m\u001b[0m\n",
      "\u001b[0;32m~/miniconda3/envs/pyPIPS/lib/python3.7/site-packages/xarray/backends/file_manager.py\u001b[0m in \u001b[0;36macquire_context\u001b[0;34m(self, needs_lock)\u001b[0m\n\u001b[1;32m    184\u001b[0m     \u001b[0;32mdef\u001b[0m \u001b[0macquire_context\u001b[0m\u001b[0;34m(\u001b[0m\u001b[0mself\u001b[0m\u001b[0;34m,\u001b[0m \u001b[0mneeds_lock\u001b[0m\u001b[0;34m=\u001b[0m\u001b[0;32mTrue\u001b[0m\u001b[0;34m)\u001b[0m\u001b[0;34m:\u001b[0m\u001b[0;34m\u001b[0m\u001b[0;34m\u001b[0m\u001b[0m\n\u001b[1;32m    185\u001b[0m         \u001b[0;34m\"\"\"Context manager for acquiring a file.\"\"\"\u001b[0m\u001b[0;34m\u001b[0m\u001b[0;34m\u001b[0m\u001b[0m\n\u001b[0;32m--> 186\u001b[0;31m         \u001b[0mfile\u001b[0m\u001b[0;34m,\u001b[0m \u001b[0mcached\u001b[0m \u001b[0;34m=\u001b[0m \u001b[0mself\u001b[0m\u001b[0;34m.\u001b[0m\u001b[0m_acquire_with_cache_info\u001b[0m\u001b[0;34m(\u001b[0m\u001b[0mneeds_lock\u001b[0m\u001b[0;34m)\u001b[0m\u001b[0;34m\u001b[0m\u001b[0;34m\u001b[0m\u001b[0m\n\u001b[0m\u001b[1;32m    187\u001b[0m         \u001b[0;32mtry\u001b[0m\u001b[0;34m:\u001b[0m\u001b[0;34m\u001b[0m\u001b[0;34m\u001b[0m\u001b[0m\n\u001b[1;32m    188\u001b[0m             \u001b[0;32myield\u001b[0m \u001b[0mfile\u001b[0m\u001b[0;34m\u001b[0m\u001b[0;34m\u001b[0m\u001b[0m\n",
      "\u001b[0;32m~/miniconda3/envs/pyPIPS/lib/python3.7/site-packages/xarray/backends/file_manager.py\u001b[0m in \u001b[0;36m_acquire_with_cache_info\u001b[0;34m(self, needs_lock)\u001b[0m\n\u001b[1;32m    202\u001b[0m                     \u001b[0mkwargs\u001b[0m \u001b[0;34m=\u001b[0m \u001b[0mkwargs\u001b[0m\u001b[0;34m.\u001b[0m\u001b[0mcopy\u001b[0m\u001b[0;34m(\u001b[0m\u001b[0;34m)\u001b[0m\u001b[0;34m\u001b[0m\u001b[0;34m\u001b[0m\u001b[0m\n\u001b[1;32m    203\u001b[0m                     \u001b[0mkwargs\u001b[0m\u001b[0;34m[\u001b[0m\u001b[0;34m\"mode\"\u001b[0m\u001b[0;34m]\u001b[0m \u001b[0;34m=\u001b[0m \u001b[0mself\u001b[0m\u001b[0;34m.\u001b[0m\u001b[0m_mode\u001b[0m\u001b[0;34m\u001b[0m\u001b[0;34m\u001b[0m\u001b[0m\n\u001b[0;32m--> 204\u001b[0;31m                 \u001b[0mfile\u001b[0m \u001b[0;34m=\u001b[0m \u001b[0mself\u001b[0m\u001b[0;34m.\u001b[0m\u001b[0m_opener\u001b[0m\u001b[0;34m(\u001b[0m\u001b[0;34m*\u001b[0m\u001b[0mself\u001b[0m\u001b[0;34m.\u001b[0m\u001b[0m_args\u001b[0m\u001b[0;34m,\u001b[0m \u001b[0;34m**\u001b[0m\u001b[0mkwargs\u001b[0m\u001b[0;34m)\u001b[0m\u001b[0;34m\u001b[0m\u001b[0;34m\u001b[0m\u001b[0m\n\u001b[0m\u001b[1;32m    205\u001b[0m                 \u001b[0;32mif\u001b[0m \u001b[0mself\u001b[0m\u001b[0;34m.\u001b[0m\u001b[0m_mode\u001b[0m \u001b[0;34m==\u001b[0m \u001b[0;34m\"w\"\u001b[0m\u001b[0;34m:\u001b[0m\u001b[0;34m\u001b[0m\u001b[0;34m\u001b[0m\u001b[0m\n\u001b[1;32m    206\u001b[0m                     \u001b[0;31m# ensure file doesn't get overriden when opened again\u001b[0m\u001b[0;34m\u001b[0m\u001b[0;34m\u001b[0m\u001b[0;34m\u001b[0m\u001b[0m\n",
      "\u001b[0;32mnetCDF4/_netCDF4.pyx\u001b[0m in \u001b[0;36mnetCDF4._netCDF4.Dataset.__init__\u001b[0;34m()\u001b[0m\n",
      "\u001b[0;32mnetCDF4/_netCDF4.pyx\u001b[0m in \u001b[0;36mnetCDF4._netCDF4._ensure_nc_success\u001b[0;34m()\u001b[0m\n",
      "\u001b[0;31mPermissionError\u001b[0m: [Errno 13] Permission denied: b'/Users/dawson29/Projects/pyPIPS/notebooks/conv_test.nc'"
     ]
    }
   ],
   "source": [
    "conv_nc_path = './conv_test.nc'\n",
    "pipsio.dump_conv_netcdf(conv_nc_path, conv_ds)\n",
    "conv_ds_from_netcdf.close()\n",
    "conv_ds_from_netcdf = xr.open_dataset(conv_nc_path)\n",
    "print(conv_ds_from_netcdf)\n",
    "print(conv_ds_from_netcdf['time'])"
   ]
  },
  {
   "cell_type": "code",
   "execution_count": 58,
   "metadata": {
    "ExecuteTime": {
     "end_time": "2020-01-27T19:50:57.379320Z",
     "start_time": "2020-01-27T19:50:57.312800Z"
    }
   },
   "outputs": [
    {
     "name": "stdout",
     "output_type": "stream",
     "text": [
      "<xarray.DataArray 'GPS_time' (time: 3791)>\n",
      "array(['221153', '221154', '221155', ..., '231501', '231502', '231503'],\n",
      "      dtype=object)\n",
      "Coordinates:\n",
      "  * time     (time) datetime64[ns] 2016-03-31T22:11:53 ... 2016-03-31T23:15:03\n"
     ]
    }
   ],
   "source": [
    "print(conv_ds_from_netcdf['GPS_time'])"
   ]
  },
  {
   "cell_type": "code",
   "execution_count": 104,
   "metadata": {
    "ExecuteTime": {
     "end_time": "2020-01-27T21:23:23.016554Z",
     "start_time": "2020-01-27T21:23:22.496551Z"
    },
    "scrolled": false
   },
   "outputs": [
    {
     "name": "stdout",
     "output_type": "stream",
     "text": [
      "GPS time: Thu Mar 31 22:12:03 2016, Logger time: Thu Mar 31 22:12:00 2016\n",
      "GPS Offset: 0:00:03\n"
     ]
    }
   ],
   "source": [
    "_, parsivel_df, vd_matrix_da = pipsio.read_PIPS(filepath)\n",
    "parsivel_ds = pipsio.parsivel_df_to_ds(parsivel_df)"
   ]
  },
  {
   "cell_type": "code",
   "execution_count": 107,
   "metadata": {
    "ExecuteTime": {
     "end_time": "2020-01-27T21:29:19.662216Z",
     "start_time": "2020-01-27T21:29:19.558641Z"
    },
    "scrolled": false
   },
   "outputs": [
    {
     "data": {
      "text/html": [
       "<pre>&lt;xarray.Dataset&gt;\n",
       "Dimensions:                   (diameter_bin: 32, fallspeed_bin: 32, time: 380)\n",
       "Coordinates:\n",
       "  * time                      (time) datetime64[ns] 2016-03-31T22:11:53 ... 2016-03-31T23:15:03\n",
       "    fallspeed                 (fallspeed_bin) float64 0.05 0.15 ... 17.6 20.8\n",
       "    diameter                  (diameter_bin) float64 0.0625 0.1875 ... 21.5 24.5\n",
       "    min_diameter              (diameter_bin) float64 0.0 0.125 ... 20.0 23.0\n",
       "    max_diameter              (diameter_bin) float64 0.125 0.25 ... 23.0 26.0\n",
       "    min_fallspeeds            (fallspeed_bin) float64 0.0 0.1 0.2 ... 16.0 19.2\n",
       "    max_fallspeeds            (fallspeed_bin) float64 0.1 0.2 0.3 ... 19.2 22.4\n",
       "Dimensions without coordinates: diameter_bin, fallspeed_bin\n",
       "Data variables:\n",
       "    parsivel_dBZ              (time) float64 -9.999 -9.999 ... -9.999 -9.999\n",
       "    pcount                    (time) int64 0 0 0 0 0 0 0 0 0 ... 0 0 0 0 0 0 0 0\n",
       "    precipaccum               (time) float64 0.0 0.0 0.0 ... 36.83 36.83 36.83\n",
       "    precipintensity           (time) float64 0.0 0.0 0.0 0.0 ... 0.0 0.0 0.0 0.0\n",
       "    pvoltage                  (time) float64 12.0 12.0 12.0 ... 11.8 11.8 11.8\n",
       "    sample_interval           (time) float64 10.0 10.0 10.0 ... 10.0 10.0 10.0\n",
       "    sensor_temp               (time) float64 -55.0 -55.0 -55.0 ... -55.0 -55.0\n",
       "    signal_amplitude          (time) float64 2.152e+04 2.151e+04 ... 1.619e+04\n",
       "    velocity-diameter matrix  (time, fallspeed_bin, diameter_bin) int64 0 ... 0\n",
       "Attributes:\n",
       "    nominal sample interval:  10 seconds</pre>"
      ],
      "text/plain": [
       "<xarray.Dataset>\n",
       "Dimensions:                   (diameter_bin: 32, fallspeed_bin: 32, time: 380)\n",
       "Coordinates:\n",
       "  * time                      (time) datetime64[ns] 2016-03-31T22:11:53 ... 2016-03-31T23:15:03\n",
       "    fallspeed                 (fallspeed_bin) float64 0.05 0.15 ... 17.6 20.8\n",
       "    diameter                  (diameter_bin) float64 0.0625 0.1875 ... 21.5 24.5\n",
       "    min_diameter              (diameter_bin) float64 0.0 0.125 ... 20.0 23.0\n",
       "    max_diameter              (diameter_bin) float64 0.125 0.25 ... 23.0 26.0\n",
       "    min_fallspeeds            (fallspeed_bin) float64 0.0 0.1 0.2 ... 16.0 19.2\n",
       "    max_fallspeeds            (fallspeed_bin) float64 0.1 0.2 0.3 ... 19.2 22.4\n",
       "Dimensions without coordinates: diameter_bin, fallspeed_bin\n",
       "Data variables:\n",
       "    parsivel_dBZ              (time) float64 -9.999 -9.999 ... -9.999 -9.999\n",
       "    pcount                    (time) int64 0 0 0 0 0 0 0 0 0 ... 0 0 0 0 0 0 0 0\n",
       "    precipaccum               (time) float64 0.0 0.0 0.0 ... 36.83 36.83 36.83\n",
       "    precipintensity           (time) float64 0.0 0.0 0.0 0.0 ... 0.0 0.0 0.0 0.0\n",
       "    pvoltage                  (time) float64 12.0 12.0 12.0 ... 11.8 11.8 11.8\n",
       "    sample_interval           (time) float64 10.0 10.0 10.0 ... 10.0 10.0 10.0\n",
       "    sensor_temp               (time) float64 -55.0 -55.0 -55.0 ... -55.0 -55.0\n",
       "    signal_amplitude          (time) float64 2.152e+04 2.151e+04 ... 1.619e+04\n",
       "    velocity-diameter matrix  (time, fallspeed_bin, diameter_bin) int64 0 ... 0\n",
       "Attributes:\n",
       "    nominal sample interval:  10 seconds"
      ]
     },
     "execution_count": 107,
     "metadata": {},
     "output_type": "execute_result"
    }
   ],
   "source": [
    "parsivel_ds = pipsio.combine_parsivel_data(parsivel_ds, vd_matrix_da)\n",
    "parsivel_ds"
   ]
  },
  {
   "cell_type": "code",
   "execution_count": null,
   "metadata": {},
   "outputs": [],
   "source": []
  }
 ],
 "metadata": {
  "anaconda-cloud": {},
  "hide_input": false,
  "kernelspec": {
   "display_name": "Python [conda env:pyPIPS]",
   "language": "python",
   "name": "conda-env-pyPIPS-py"
  },
  "language_info": {
   "codemirror_mode": {
    "name": "ipython",
    "version": 3
   },
   "file_extension": ".py",
   "mimetype": "text/x-python",
   "name": "python",
   "nbconvert_exporter": "python",
   "pygments_lexer": "ipython3",
   "version": "3.7.3"
  },
  "toc": {
   "base_numbering": 1,
   "nav_menu": {},
   "number_sections": true,
   "sideBar": true,
   "skip_h1_title": false,
   "title_cell": "Table of Contents",
   "title_sidebar": "Contents",
   "toc_cell": false,
   "toc_position": {},
   "toc_section_display": true,
   "toc_window_display": false
  },
  "varInspector": {
   "cols": {
    "lenName": 16,
    "lenType": 16,
    "lenVar": 40
   },
   "kernels_config": {
    "python": {
     "delete_cmd_postfix": "",
     "delete_cmd_prefix": "del ",
     "library": "var_list.py",
     "varRefreshCmd": "print(var_dic_list())"
    },
    "r": {
     "delete_cmd_postfix": ") ",
     "delete_cmd_prefix": "rm(",
     "library": "var_list.r",
     "varRefreshCmd": "cat(var_dic_list()) "
    }
   },
   "types_to_exclude": [
    "module",
    "function",
    "builtin_function_or_method",
    "instance",
    "_Feature"
   ],
   "window_display": false
  }
 },
 "nbformat": 4,
 "nbformat_minor": 2
}
