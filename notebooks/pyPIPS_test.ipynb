{
 "cells": [
  {
   "cell_type": "code",
   "execution_count": 1,
   "metadata": {
    "ExecuteTime": {
     "end_time": "2020-01-24T15:31:39.733371Z",
     "start_time": "2020-01-24T15:31:37.056285Z"
    }
   },
   "outputs": [
    {
     "name": "stdout",
     "output_type": "stream",
     "text": [
      "\n",
      "## You are using the Python ARM Radar Toolkit (Py-ART), an open source\n",
      "## library for working with weather radar data. Py-ART is partly\n",
      "## supported by the U.S. Department of Energy as part of the Atmospheric\n",
      "## Radiation Measurement (ARM) Climate Research Facility, an Office of\n",
      "## Science user facility.\n",
      "##\n",
      "## If you use this software to prepare a publication, please cite:\n",
      "##\n",
      "##     JJ Helmus and SM Collis, JORS 2016, doi: 10.5334/jors.119\n",
      "\n"
     ]
    },
    {
     "name": "stderr",
     "output_type": "stream",
     "text": [
      "/Users/dawson29/miniconda3/envs/pyPIPS/lib/python3.7/site-packages/pyart/graph/cm.py:104: FutureWarning: elementwise comparison failed; returning scalar instead, but in the future will perform elementwise comparison\n",
      "  if 'red' in spec:\n",
      "/Users/dawson29/miniconda3/envs/pyPIPS/lib/python3.7/site-packages/pyart/graph/cm_colorblind.py:32: FutureWarning: elementwise comparison failed; returning scalar instead, but in the future will perform elementwise comparison\n",
      "  if 'red' in spec:\n"
     ]
    }
   ],
   "source": [
    "%load_ext autoreload\n",
    "%autoreload 2\n",
    "import numpy as np\n",
    "import numpy.ma as ma\n",
    "import matplotlib\n",
    "import matplotlib.pyplot as plt\n",
    "import matplotlib.cm as cm\n",
    "import matplotlib.ticker as ticker\n",
    "import matplotlib.dates as dates\n",
    "from mpl_toolkits.axes_grid1 import ImageGrid,make_axes_locatable,host_subplot\n",
    "from mpl_toolkits.basemap import Basemap\n",
    "from datetime import datetime, timedelta\n",
    "import sys\n",
    "import os\n",
    "import pyPIPS.utils as utils\n",
    "import pyPIPS.thermolib as thermo\n",
    "import pyPIPS.DSDlib as dsd\n",
    "#import pyPIPS.disdrometer_module as dis\n",
    "import pyPIPS.plotmodule as PIPSplot\n",
    "import pyPIPS.simulator as sim\n",
    "import pyPIPS.pips_io as pipsio\n",
    "import pyPIPS.PIPS as pips\n",
    "import pyPIPS.parsivel_params as pp\n",
    "import pyPIPS.parsivel_qc as pqc\n",
    "from pyCRMtools.modules import plotmodule as plotmod\n",
    "from pyCRMtools.modules import utils as CRMutils\n",
    "from pyCRMtools.pycaps import arps_read\n",
    "from pyCRMtools.pycaps import pycaps_fields\n",
    "from pyCRMtools.pycaps import calvars_radar as radar\n",
    "import pandas as pd\n",
    "import xarray as xr\n",
    "import glob\n",
    "import numpy.random as random\n",
    "from scipy.stats import gamma, uniform\n",
    "from scipy.special import gamma as gammafunc\n",
    "from scipy import ndimage\n",
    "from metpy.plots import StationPlot\n",
    "from metpy.calc import wind_components\n",
    "from metpy.cbook import get_test_data\n",
    "from metpy.plots import StationPlot\n",
    "from metpy.plots.wx_symbols import current_weather, sky_cover\n",
    "from metpy.units import units\n",
    "%matplotlib inline"
   ]
  },
  {
   "cell_type": "code",
   "execution_count": 2,
   "metadata": {
    "ExecuteTime": {
     "end_time": "2020-01-24T15:31:39.918646Z",
     "start_time": "2020-01-24T15:31:39.858965Z"
    },
    "scrolled": true
   },
   "outputs": [],
   "source": [
    "# Define dictionaries, keyed by case date (i.e. '060509', '060709', '060909', '033116'), to store parameters related\n",
    "# to NEXRAD radar data, disdrometer data, and model output, respectively\n",
    "\n",
    "# Case we are looking at right now. Should only have to change this up here and then execute all the cells below\n",
    "# to generate the appropriate analysis\n",
    "casedate = '033116'\n",
    "\n",
    "# Import the file containing the dictionaries needed to gather the radar, disdrometer, and model data.\n",
    "sys.path.append('/Users/dawson29/Dropbox/Projects/VORTEXSE/vortexse_enkf_dsd_study/configs/2016_IOP3')\n",
    "\n",
    "from PIPSsim_1km_dicts import *"
   ]
  },
  {
   "cell_type": "code",
   "execution_count": 3,
   "metadata": {
    "ExecuteTime": {
     "end_time": "2020-01-24T15:31:41.879944Z",
     "start_time": "2020-01-24T15:31:41.404907Z"
    }
   },
   "outputs": [
    {
     "name": "stdout",
     "output_type": "stream",
     "text": [
      "Reading file: /Users/ddawson/Dropbox/Projects/VORTEXSE/obs_data/PIPS/2016/IOP3/PIPS_1A_IOP_3_D1.txt\n",
      "GPS time: Thu Mar 31 22:12:03 2016, Logger time: Thu Mar 31 22:12:00 2016\n",
      "GPS Offset: 0:00:03\n"
     ]
    }
   ],
   "source": [
    "# Read in the PIPS data for the first probe for testing\n",
    "dis_dict = init_dis_dict[casedate]\n",
    "dirname = dis_dict['dis_dir']\n",
    "filename = dis_dict['disfilenames'][0]\n",
    "filepath = os.path.join(dirname, filename)\n",
    "print(\"Reading file: {}\".format(filepath))\n",
    "conv_df, parsivel_df, vd_matrix_da = pipsio.read_PIPS(filepath)"
   ]
  },
  {
   "cell_type": "code",
   "execution_count": 4,
   "metadata": {
    "ExecuteTime": {
     "end_time": "2020-01-24T15:31:44.966853Z",
     "start_time": "2020-01-24T15:31:44.900265Z"
    }
   },
   "outputs": [
    {
     "name": "stdout",
     "output_type": "stream",
     "text": [
      "<xarray.DataArray (time_10s: 380, fallspeed_bin: 32, diameter_bin: 32)>\n",
      "array([[[0, 0, 0, ..., 0, 0, 0],\n",
      "        [0, 0, 0, ..., 0, 0, 0],\n",
      "        [0, 0, 0, ..., 0, 0, 0],\n",
      "        ...,\n",
      "        [0, 0, 0, ..., 0, 0, 0],\n",
      "        [0, 0, 0, ..., 0, 0, 0],\n",
      "        [0, 0, 0, ..., 0, 0, 0]],\n",
      "\n",
      "       [[0, 0, 0, ..., 0, 0, 0],\n",
      "        [0, 0, 0, ..., 0, 0, 0],\n",
      "        [0, 0, 0, ..., 0, 0, 0],\n",
      "        ...,\n",
      "        [0, 0, 0, ..., 0, 0, 0],\n",
      "        [0, 0, 0, ..., 0, 0, 0],\n",
      "        [0, 0, 0, ..., 0, 0, 0]],\n",
      "\n",
      "       [[0, 0, 0, ..., 0, 0, 0],\n",
      "        [0, 0, 0, ..., 0, 0, 0],\n",
      "        [0, 0, 0, ..., 0, 0, 0],\n",
      "        ...,\n",
      "        [0, 0, 0, ..., 0, 0, 0],\n",
      "        [0, 0, 0, ..., 0, 0, 0],\n",
      "        [0, 0, 0, ..., 0, 0, 0]],\n",
      "\n",
      "       ...,\n",
      "\n",
      "       [[0, 0, 0, ..., 0, 0, 0],\n",
      "        [0, 0, 0, ..., 0, 0, 0],\n",
      "        [0, 0, 0, ..., 0, 0, 0],\n",
      "        ...,\n",
      "        [0, 0, 0, ..., 0, 0, 0],\n",
      "        [0, 0, 0, ..., 0, 0, 0],\n",
      "        [0, 0, 0, ..., 0, 0, 0]],\n",
      "\n",
      "       [[0, 0, 0, ..., 0, 0, 0],\n",
      "        [0, 0, 0, ..., 0, 0, 0],\n",
      "        [0, 0, 0, ..., 0, 0, 0],\n",
      "        ...,\n",
      "        [0, 0, 0, ..., 0, 0, 0],\n",
      "        [0, 0, 0, ..., 0, 0, 0],\n",
      "        [0, 0, 0, ..., 0, 0, 0]],\n",
      "\n",
      "       [[0, 0, 0, ..., 0, 0, 0],\n",
      "        [0, 0, 0, ..., 0, 0, 0],\n",
      "        [0, 0, 0, ..., 0, 0, 0],\n",
      "        ...,\n",
      "        [0, 0, 0, ..., 0, 0, 0],\n",
      "        [0, 0, 0, ..., 0, 0, 0],\n",
      "        [0, 0, 0, ..., 0, 0, 0]]])\n",
      "Coordinates:\n",
      "  * time_10s        (time_10s) datetime64[ns] 2016-03-31T22:11:53 ... 2016-03-31T23:15:03\n",
      "    fallspeed       (fallspeed_bin) float64 0.05 0.15 0.25 ... 15.2 17.6 20.8\n",
      "    diameter        (diameter_bin) float64 0.0625 0.1875 0.3125 ... 21.5 24.5\n",
      "    min_diameter    (diameter_bin) float64 0.0 0.125 0.25 ... 18.0 20.0 23.0\n",
      "    max_diameter    (diameter_bin) float64 0.125 0.25 0.375 ... 20.0 23.0 26.0\n",
      "    min_fallspeeds  (fallspeed_bin) float64 0.0 0.1 0.2 0.3 ... 14.4 16.0 19.2\n",
      "    max_fallspeeds  (fallspeed_bin) float64 0.1 0.2 0.3 0.4 ... 16.0 19.2 22.4\n",
      "Dimensions without coordinates: fallspeed_bin, diameter_bin\n"
     ]
    }
   ],
   "source": [
    "print(vd_matrix_da)\n",
    "#print(spectrum_da.loc['2016-03-31T22:30'])\n",
    "diameter_bins = pp.parsivel_parameters['avg_diameter_bins_mm']\n",
    "# print(diameter_bins)\n",
    "fallspeed_bins = pp.parsivel_parameters['avg_fallspeed_bins_mps']\n",
    "# print(fallspeed_bins)\n",
    "\n",
    "empirical_fallspeed = pips.calc_empirical_fallspeed(diameter_bins)\n",
    "# print(empirical_fallspeed)\n",
    "\n",
    "fallspeed_spectrum1 = pips.calc_fallspeed_spectrum(diameter_bins, fallspeed_bins, use_measured_fallspeed=False)\n",
    "#print(fallspeed_spectrum1)\n",
    "fallspeed_spectrum2 = pips.calc_fallspeed_spectrum(diameter_bins, fallspeed_bins, use_measured_fallspeed=True)\n",
    "#print(fallspeed_spectrum2)"
   ]
  },
  {
   "cell_type": "code",
   "execution_count": 33,
   "metadata": {
    "ExecuteTime": {
     "end_time": "2020-01-24T19:04:46.907113Z",
     "start_time": "2020-01-24T19:04:46.768945Z"
    }
   },
   "outputs": [
    {
     "name": "stdout",
     "output_type": "stream",
     "text": [
      "Index(['parsivel_dBZ', 'pcount', 'precipaccum', 'precipintensity', 'pvoltage',\n",
      "       'sample_interval', 'sensor_temp', 'signal_amplitude'],\n",
      "      dtype='object')\n",
      "Index(['precipintensity', 'precipaccum', 'parsivel_dBZ', 'pcount',\n",
      "       'signal_amplitude', 'pvoltage', 'sensor_temp', 'sample_interval'],\n",
      "      dtype='object')\n"
     ]
    }
   ],
   "source": [
    "conv_df = pips.calc_thermo(conv_df)\n",
    "\n",
    "DSD_interval = 10.\n",
    "PSD_datetimes = pips.get_PSD_datetimes(vd_matrix_da)\n",
    "PSD_datetimes_dict = pips.get_PSD_time_bins(PSD_datetimes)\n",
    "PSDstarttimes = PSD_datetimes_dict['PSD_datetimes_edges']\n",
    "PSDmidtimes = PSD_datetimes_dict['PSD_datetimes']\n",
    "\n",
    "sec_offset = PSD_datetimes[0].second\n",
    "conv_resampled_df = pips.resample_conv('PIPS', DSD_interval, sec_offset, conv_df)\n",
    "conv_resampled_df_index = conv_resampled_df.index.intersection(parsivel_df.index)\n",
    "conv_resampled_df = conv_resampled_df.loc[conv_resampled_df_index]\n",
    "\n",
    "print(parsivel_df.columns)\n",
    "#print(conv_resampled_df)\n",
    "\n",
    "#parsivel_resampled_df = pips.resample_parsivel(60., parsivel_df)\n",
    "resample_interval = 60.\n",
    "intervalstr = '{:d}S'.format(int(resample_interval))\n",
    "parsivel_resampler = parsivel_df.resample(intervalstr, label='right', closed='right',\n",
    "                                          base=sec_offset)\n",
    "\n",
    "parsivel_resampled_df = parsivel_resampler.agg({'precipintensity': np.mean, 'precipaccum': np.sum,\n",
    "                                   'parsivel_dBZ': np.mean, 'pcount': np.sum,\n",
    "                                   'signal_amplitude': np.mean, 'pvoltage': np.mean, 'sensor_temp': np.mean,\n",
    "                                   'sample_interval': np.mean})\n",
    "\n",
    "print(parsivel_resampled_df.columns)\n",
    "\n",
    "\n",
    "# for time in vd_matrix_da['time_10s'].to_index():\n",
    "#     print(parsivel_df['pcount'].loc[time])\n",
    "#     # print(conv_resampled_df['rho'].loc[time])\n",
    "#     # print(vd_matrix_da.loc[time])"
   ]
  },
  {
   "cell_type": "code",
   "execution_count": 34,
   "metadata": {
    "ExecuteTime": {
     "end_time": "2020-01-24T19:04:47.932677Z",
     "start_time": "2020-01-24T19:04:47.511894Z"
    }
   },
   "outputs": [
    {
     "data": {
      "text/plain": [
       "<matplotlib.collections.QuadMesh at 0x7fd178e34240>"
      ]
     },
     "execution_count": 34,
     "metadata": {},
     "output_type": "execute_result"
    },
    {
     "data": {
      "image/png": "[encoded data removed]",
      "text/plain": [
       "<Figure size 432x288 with 2 Axes>"
      ]
     },
     "metadata": {
      "needs_background": "light"
     },
     "output_type": "display_data"
    }
   ],
   "source": [
    "vd = vd_matrix_da.loc['2016-03-31T22:30:03']\n",
    "vd['diameter'] = ('diameter_bin', diameter_bins)\n",
    "vd['fallspeed'] = ('fallspeed_bin', fallspeed_bins)\n",
    "vd.where(vd > 0.0).plot(x='diameter', y='fallspeed', xlim=[0., 15], ylim=[0., 15.])"
   ]
  },
  {
   "cell_type": "code",
   "execution_count": 35,
   "metadata": {
    "ExecuteTime": {
     "end_time": "2020-01-24T19:04:49.914869Z",
     "start_time": "2020-01-24T19:04:49.119733Z"
    }
   },
   "outputs": [
    {
     "name": "stdout",
     "output_type": "stream",
     "text": [
      "Severe Wind contamination, masking entire PSD!\n",
      "Severe Wind contamination, masking entire PSD!\n",
      "Severe Wind contamination, masking entire PSD!\n",
      "Severe Wind contamination, masking entire PSD!\n",
      "380\n"
     ]
    },
    {
     "data": {
      "text/plain": [
       "[<matplotlib.lines.Line2D at 0x7fd1a27c56d8>]"
      ]
     },
     "execution_count": 35,
     "metadata": {},
     "output_type": "execute_result"
    },
    {
     "data": {
      "image/png": "[encoded data removed]",
      "text/plain": [
       "<Figure size 432x288 with 2 Axes>"
      ]
     },
     "metadata": {
      "needs_background": "light"
     },
     "output_type": "display_data"
    }
   ],
   "source": [
    "# Do some QC\n",
    "vd_matrix_QC = pqc.strongwindQC(vd_matrix_da)\n",
    "vd_matrix_QC = pqc.rainonlyQC(vd_matrix_QC)\n",
    "vdQC = vd_matrix_QC.loc['2016-03-31T22:30:03']\n",
    "vdQC['diameter'] = ('diameter_bin', diameter_bins)\n",
    "vdQC['fallspeed'] = ('fallspeed_bin', fallspeed_bins)\n",
    "vdQC.where(vdQC > 0.0).plot(x='diameter', y='fallspeed', xlim=[0., 15], ylim=[0., 15.])\n",
    "plt.plot(diameter_bins, empirical_fallspeed, color='r')"
   ]
  },
  {
   "cell_type": "code",
   "execution_count": 36,
   "metadata": {
    "ExecuteTime": {
     "end_time": "2020-01-24T19:04:54.372228Z",
     "start_time": "2020-01-24T19:04:53.920833Z"
    }
   },
   "outputs": [
    {
     "name": "stderr",
     "output_type": "stream",
     "text": [
      "/Users/dawson29/miniconda3/envs/pyPIPS/lib/python3.7/site-packages/xarray/core/computation.py:601: RuntimeWarning: divide by zero encountered in log10\n",
      "  result_data = func(*input_data)\n"
     ]
    },
    {
     "name": "stdout",
     "output_type": "stream",
     "text": [
      "<xarray.DataArray (time_10s: 380, diameter_bin: 32)>\n",
      "array([[0., 0., 0., ..., 0., 0., 0.],\n",
      "       [0., 0., 0., ..., 0., 0., 0.],\n",
      "       [0., 0., 0., ..., 0., 0., 0.],\n",
      "       ...,\n",
      "       [0., 0., 0., ..., 0., 0., 0.],\n",
      "       [0., 0., 0., ..., 0., 0., 0.],\n",
      "       [0., 0., 0., ..., 0., 0., 0.]])\n",
      "Coordinates:\n",
      "  * time_10s       (time_10s) datetime64[ns] 2016-03-31T22:11:53 ... 2016-03-31T23:15:03\n",
      "    diameter       (diameter_bin) float64 0.0625 0.1875 0.3125 ... 21.5 24.5\n",
      "    min_diameter   (diameter_bin) float64 0.0 0.125 0.25 ... 18.0 20.0 23.0\n",
      "    max_diameter   (diameter_bin) float64 0.125 0.25 0.375 ... 20.0 23.0 26.0\n",
      "    flagged times  (time_10s) int64 0 0 0 0 0 0 0 0 0 0 ... 0 0 0 0 0 0 0 0 0 0\n",
      "Dimensions without coordinates: diameter_bin\n"
     ]
    },
    {
     "data": {
      "image/png": "[encoded data removed]",
      "text/plain": [
       "<Figure size 1080x216 with 2 Axes>"
      ]
     },
     "metadata": {
      "needs_background": "light"
     },
     "output_type": "display_data"
    }
   ],
   "source": [
    "# Calculate ND\n",
    "ND1 = pips.calc_ND(vd_matrix_QC.where(vd_matrix_QC > 0.0), fallspeed_spectrum1, 10.)\n",
    "ND2 = pips.calc_ND(vd_matrix_QC.where(vd_matrix_QC > 0.0), fallspeed_spectrum2, 10.)\n",
    "np.log10(ND1).T.plot(y='diameter', ylim=[0.0, 9.0], vmin=-1.0, vmax=3.0, aspect=5, size=3)\n",
    "print(ND1)"
   ]
  },
  {
   "cell_type": "code",
   "execution_count": 22,
   "metadata": {},
   "outputs": [],
   "source": []
  },
  {
   "cell_type": "code",
   "execution_count": 37,
   "metadata": {
    "ExecuteTime": {
     "end_time": "2020-01-24T19:05:06.236272Z",
     "start_time": "2020-01-24T19:05:05.241575Z"
    }
   },
   "outputs": [
    {
     "name": "stderr",
     "output_type": "stream",
     "text": [
      "No handles with labels found to put in legend.\n"
     ]
    }
   ],
   "source": [
    "timelimits = [PSDstarttimes[0], PSDstarttimes[-1]]\n",
    "diamlimits = [0.0, 9.0]\n",
    "diamytick = 1.0\n",
    "DSDtype = 'observed'\n",
    "locator = dates.MinuteLocator(byminute=[0, 15, 30, 45])\n",
    "minorlocator = dates.MinuteLocator(byminute=range(0, 60, 5))\n",
    "dateformat = '%H:%M'\n",
    "formatter = dates.DateFormatter(dateformat)\n",
    "\n",
    "axparams = {'majorxlocator': locator, 'majorxformatter': formatter,\n",
    "            'minorxlocator': minorlocator,\n",
    "            'axeslimits': [timelimits, diamlimits],\n",
    "            'majorylocator': ticker.MultipleLocator(base=diamytick),\n",
    "            'axeslabels': [None, 'D (mm)']}\n",
    "\n",
    "disvars = {\n",
    "    'min_diameter': ND2['min_diameter'], \n",
    "    'PSDstarttimes': PSDstarttimes,\n",
    "    'PSDmidtimes': PSDmidtimes, \n",
    "    'logND': np.log10(ND2).T\n",
    "}\n",
    "dis_plot_name = 'PIPS1A'\n",
    "PIPSplot.plotDSDmeteograms(dis_plot_name, './', axparams, disvars)"
   ]
  },
  {
   "cell_type": "code",
   "execution_count": 38,
   "metadata": {
    "ExecuteTime": {
     "end_time": "2020-01-24T19:05:10.099610Z",
     "start_time": "2020-01-24T19:05:09.696938Z"
    }
   },
   "outputs": [
    {
     "data": {
      "text/plain": [
       "<matplotlib.collections.QuadMesh at 0x7fd15019d2e8>"
      ]
     },
     "execution_count": 38,
     "metadata": {},
     "output_type": "execute_result"
    },
    {
     "data": {
      "image/png": "[encoded data removed]",
      "text/plain": [
       "<Figure size 1080x216 with 2 Axes>"
      ]
     },
     "metadata": {
      "needs_background": "light"
     },
     "output_type": "display_data"
    }
   ],
   "source": [
    "np.log10(ND2).T.plot(y='diameter', ylim=[0.0, 9.0], vmin=-1.0, vmax=3.0, aspect=5, size=3)"
   ]
  },
  {
   "cell_type": "code",
   "execution_count": 39,
   "metadata": {
    "ExecuteTime": {
     "end_time": "2020-01-24T19:05:10.621556Z",
     "start_time": "2020-01-24T19:05:10.531188Z"
    }
   },
   "outputs": [
    {
     "name": "stdout",
     "output_type": "stream",
     "text": [
      "Requested DSD interval: 60.0. Actual DSD interval: 60.0\n",
      "<xarray.DataArray 'time_10s' (time_10s: 10)>\n",
      "array(['2016-03-31T22:11:53.000000000', '2016-03-31T22:12:03.000000000',\n",
      "       '2016-03-31T22:12:13.000000000', '2016-03-31T22:12:23.000000000',\n",
      "       '2016-03-31T22:12:33.000000000', '2016-03-31T22:12:43.000000000',\n",
      "       '2016-03-31T22:12:53.000000000', '2016-03-31T22:13:03.000000000',\n",
      "       '2016-03-31T22:13:13.000000000', '2016-03-31T22:13:23.000000000'],\n",
      "      dtype='datetime64[ns]')\n",
      "Coordinates:\n",
      "  * time_10s       (time_10s) datetime64[ns] 2016-03-31T22:11:53 ... 2016-03-31T22:13:23\n",
      "    flagged times  (time_10s) int64 0 0 0 0 0 0 0 0 0 0\n",
      "<xarray.DataArray 'time_10s' (time_10s: 10)>\n",
      "array(['2016-03-31T22:11:53.000000000', '2016-03-31T22:12:53.000000000',\n",
      "       '2016-03-31T22:13:53.000000000', '2016-03-31T22:14:53.000000000',\n",
      "       '2016-03-31T22:15:53.000000000', '2016-03-31T22:16:53.000000000',\n",
      "       '2016-03-31T22:17:53.000000000', '2016-03-31T22:18:53.000000000',\n",
      "       '2016-03-31T22:19:53.000000000', '2016-03-31T22:20:53.000000000'],\n",
      "      dtype='datetime64[ns]')\n",
      "Coordinates:\n",
      "  * time_10s  (time_10s) datetime64[ns] 2016-03-31T22:11:53 ... 2016-03-31T22:20:53\n"
     ]
    }
   ],
   "source": [
    "# Now resample the vd matrix across time to go from 10-s to 60-s intervals\n",
    "resample_interval = pips.check_requested_resampling_interval(60., 10.)\n",
    "vd_matrix_rs = pips.resample_vd_matrix(resample_interval, vd_matrix_QC)\n",
    "print(vd_matrix_QC['time_10s'][:10])\n",
    "print(vd_matrix_rs['time_10s'][:10])"
   ]
  },
  {
   "cell_type": "code",
   "execution_count": 55,
   "metadata": {
    "ExecuteTime": {
     "end_time": "2020-01-24T19:08:12.681667Z",
     "start_time": "2020-01-24T19:08:12.295278Z"
    }
   },
   "outputs": [
    {
     "name": "stderr",
     "output_type": "stream",
     "text": [
      "/Users/dawson29/miniconda3/envs/pyPIPS/lib/python3.7/site-packages/xarray/core/computation.py:601: RuntimeWarning: divide by zero encountered in log10\n",
      "  result_data = func(*input_data)\n"
     ]
    },
    {
     "data": {
      "text/plain": [
       "<matplotlib.collections.QuadMesh at 0x7fd17957b828>"
      ]
     },
     "execution_count": 55,
     "metadata": {},
     "output_type": "execute_result"
    },
    {
     "data": {
      "image/png": "[encoded data removed]",
      "text/plain": [
       "<Figure size 1080x216 with 2 Axes>"
      ]
     },
     "metadata": {
      "needs_background": "light"
     },
     "output_type": "display_data"
    }
   ],
   "source": [
    "ND_resampled = pips.calc_ND(vd_matrix_rs.where(vd_matrix_rs > 0.0), fallspeed_spectrum2, 60.)\n",
    "np.log10(ND_resampled).T.plot(y='diameter', ylim=[0.0, 9.0], vmin=-1.0, vmax=3.0, aspect=5, size=3)\n",
    "\n"
   ]
  },
  {
   "cell_type": "code",
   "execution_count": 41,
   "metadata": {
    "ExecuteTime": {
     "end_time": "2020-01-24T19:05:16.680124Z",
     "start_time": "2020-01-24T19:05:16.616157Z"
    },
    "scrolled": true
   },
   "outputs": [],
   "source": [
    "# Add additional thermodynamic variables to conv_df\n",
    "conv_df = pips.calc_thermo(conv_df)\n"
   ]
  },
  {
   "cell_type": "code",
   "execution_count": 42,
   "metadata": {
    "ExecuteTime": {
     "end_time": "2020-01-24T19:05:18.317429Z",
     "start_time": "2020-01-24T19:05:17.944737Z"
    },
    "scrolled": true
   },
   "outputs": [
    {
     "name": "stdout",
     "output_type": "stream",
     "text": [
      "Index(['GPS_alt', 'GPS_date', 'GPS_dir', 'GPS_lat', 'GPS_lon', 'GPS_magvar',\n",
      "       'GPS_spd', 'GPS_status', 'GPS_time', 'RH', 'RH_derived', 'compass_dir',\n",
      "       'dewpoint', 'fasttemp', 'pressure', 'slowtemp', 'voltage', 'winddiag',\n",
      "       'winddirabs', 'winddirrel', 'windspd', 'pt', 'qv', 'rho'],\n",
      "      dtype='object')\n"
     ]
    },
    {
     "data": {
      "text/plain": [
       "<matplotlib.axes._subplots.AxesSubplot at 0x7fd170ee4ac8>"
      ]
     },
     "execution_count": 42,
     "metadata": {},
     "output_type": "execute_result"
    },
    {
     "data": {
      "image/png": "[encoded data removed]",
      "text/plain": [
       "<Figure size 432x288 with 1 Axes>"
      ]
     },
     "metadata": {
      "needs_background": "light"
     },
     "output_type": "display_data"
    }
   ],
   "source": [
    "print(conv_df.columns)\n",
    "conv_df['fasttemp'].plot()\n",
    "conv_df['dewpoint'].plot()"
   ]
  },
  {
   "cell_type": "code",
   "execution_count": 43,
   "metadata": {
    "ExecuteTime": {
     "end_time": "2020-01-24T19:05:21.510058Z",
     "start_time": "2020-01-24T19:05:21.424761Z"
    }
   },
   "outputs": [],
   "source": [
    "# Resample conventional data to 60-s\n",
    "datetime_range_onesec = conv_df.index.to_pydatetime()\n",
    "sec_offset = pips.get_offset_seconds(datetime_range_onesec)\n",
    "conv_rs_df = pips.resample_conv('PIPS', 60., sec_offset, conv_df)"
   ]
  },
  {
   "cell_type": "code",
   "execution_count": 44,
   "metadata": {
    "ExecuteTime": {
     "end_time": "2020-01-24T19:05:22.482815Z",
     "start_time": "2020-01-24T19:05:22.191928Z"
    }
   },
   "outputs": [
    {
     "data": {
      "text/plain": [
       "<matplotlib.axes._subplots.AxesSubplot at 0x7fd1793f16d8>"
      ]
     },
     "execution_count": 44,
     "metadata": {},
     "output_type": "execute_result"
    },
    {
     "data": {
      "image/png": "[encoded data removed]",
      "text/plain": [
       "<Figure size 432x288 with 1 Axes>"
      ]
     },
     "metadata": {
      "needs_background": "light"
     },
     "output_type": "display_data"
    }
   ],
   "source": [
    "conv_rs_df['fasttemp'].plot()\n",
    "conv_rs_df['dewpoint'].plot()"
   ]
  },
  {
   "cell_type": "code",
   "execution_count": 45,
   "metadata": {
    "ExecuteTime": {
     "end_time": "2020-01-24T19:05:26.303149Z",
     "start_time": "2020-01-24T19:05:26.024352Z"
    }
   },
   "outputs": [
    {
     "data": {
      "text/plain": [
       "[<matplotlib.lines.Line2D at 0x7fd17106dba8>]"
      ]
     },
     "execution_count": 45,
     "metadata": {},
     "output_type": "execute_result"
    },
    {
     "data": {
      "image/png": "[encoded data removed]",
      "text/plain": [
       "<Figure size 432x288 with 1 Axes>"
      ]
     },
     "metadata": {
      "needs_background": "light"
     },
     "output_type": "display_data"
    }
   ],
   "source": [
    "# Test calculation of moments\n",
    "M0, M0_binned = dsd.calc_moment_bin(ND1, moment=0)\n",
    "M0.plot()"
   ]
  },
  {
   "cell_type": "code",
   "execution_count": 46,
   "metadata": {
    "ExecuteTime": {
     "end_time": "2020-01-24T19:05:28.886200Z",
     "start_time": "2020-01-24T19:05:28.608246Z"
    }
   },
   "outputs": [
    {
     "data": {
      "text/plain": [
       "[<matplotlib.lines.Line2D at 0x7fd19108f400>]"
      ]
     },
     "execution_count": 46,
     "metadata": {},
     "output_type": "execute_result"
    },
    {
     "data": {
      "image/png": "[encoded data removed]",
      "text/plain": [
       "<Figure size 432x288 with 1 Axes>"
      ]
     },
     "metadata": {
      "needs_background": "light"
     },
     "output_type": "display_data"
    }
   ],
   "source": [
    "M3, M3_binned = dsd.calc_moment_bin(ND1, moment=3)\n",
    "M3.plot()"
   ]
  },
  {
   "cell_type": "code",
   "execution_count": 47,
   "metadata": {
    "ExecuteTime": {
     "end_time": "2020-01-24T19:05:35.308904Z",
     "start_time": "2020-01-24T19:05:35.024688Z"
    },
    "scrolled": false
   },
   "outputs": [
    {
     "data": {
      "text/plain": [
       "[<matplotlib.lines.Line2D at 0x7fd148100208>]"
      ]
     },
     "execution_count": 47,
     "metadata": {},
     "output_type": "execute_result"
    },
    {
     "data": {
      "image/png": "[encoded data removed]",
      "text/plain": [
       "<Figure size 432x288 with 1 Axes>"
      ]
     },
     "metadata": {
      "needs_background": "light"
     },
     "output_type": "display_data"
    }
   ],
   "source": [
    "# Testing calculation of D0\n",
    "\n",
    "D0 = dsd.calc_D0_bin(ND1) * 1000.\n",
    "D0.plot()"
   ]
  },
  {
   "cell_type": "code",
   "execution_count": 48,
   "metadata": {
    "ExecuteTime": {
     "end_time": "2020-01-24T19:05:38.661885Z",
     "start_time": "2020-01-24T19:05:38.488205Z"
    }
   },
   "outputs": [
    {
     "ename": "KeyError",
     "evalue": "'2016-03-31T22:30:00'",
     "output_type": "error",
     "traceback": [
      "\u001b[0;31m---------------------------------------------------------------------------\u001b[0m",
      "\u001b[0;31mTypeError\u001b[0m                                 Traceback (most recent call last)",
      "\u001b[0;32mpandas/_libs/index.pyx\u001b[0m in \u001b[0;36mpandas._libs.index.DatetimeEngine.get_loc\u001b[0;34m()\u001b[0m\n",
      "\u001b[0;32mpandas/_libs/hashtable_class_helper.pxi\u001b[0m in \u001b[0;36mpandas._libs.hashtable.Int64HashTable.get_item\u001b[0;34m()\u001b[0m\n",
      "\u001b[0;31mTypeError\u001b[0m: an integer is required",
      "\nDuring handling of the above exception, another exception occurred:\n",
      "\u001b[0;31mKeyError\u001b[0m                                  Traceback (most recent call last)",
      "\u001b[0;32m~/miniconda3/envs/pyPIPS/lib/python3.7/site-packages/pandas/core/indexes/base.py\u001b[0m in \u001b[0;36mget_loc\u001b[0;34m(self, key, method, tolerance)\u001b[0m\n\u001b[1;32m   2656\u001b[0m             \u001b[0;32mtry\u001b[0m\u001b[0;34m:\u001b[0m\u001b[0;34m\u001b[0m\u001b[0;34m\u001b[0m\u001b[0m\n\u001b[0;32m-> 2657\u001b[0;31m                 \u001b[0;32mreturn\u001b[0m \u001b[0mself\u001b[0m\u001b[0;34m.\u001b[0m\u001b[0m_engine\u001b[0m\u001b[0;34m.\u001b[0m\u001b[0mget_loc\u001b[0m\u001b[0;34m(\u001b[0m\u001b[0mkey\u001b[0m\u001b[0;34m)\u001b[0m\u001b[0;34m\u001b[0m\u001b[0;34m\u001b[0m\u001b[0m\n\u001b[0m\u001b[1;32m   2658\u001b[0m             \u001b[0;32mexcept\u001b[0m \u001b[0mKeyError\u001b[0m\u001b[0;34m:\u001b[0m\u001b[0;34m\u001b[0m\u001b[0;34m\u001b[0m\u001b[0m\n",
      "\u001b[0;32mpandas/_libs/index.pyx\u001b[0m in \u001b[0;36mpandas._libs.index.DatetimeEngine.get_loc\u001b[0;34m()\u001b[0m\n",
      "\u001b[0;32mpandas/_libs/index.pyx\u001b[0m in \u001b[0;36mpandas._libs.index.DatetimeEngine.get_loc\u001b[0;34m()\u001b[0m\n",
      "\u001b[0;32mpandas/_libs/index.pyx\u001b[0m in \u001b[0;36mpandas._libs.index.DatetimeEngine._date_check_type\u001b[0;34m()\u001b[0m\n",
      "\u001b[0;31mKeyError\u001b[0m: '2016-03-31T22:30:00'",
      "\nDuring handling of the above exception, another exception occurred:\n",
      "\u001b[0;31mTypeError\u001b[0m                                 Traceback (most recent call last)",
      "\u001b[0;32mpandas/_libs/index.pyx\u001b[0m in \u001b[0;36mpandas._libs.index.DatetimeEngine.get_loc\u001b[0;34m()\u001b[0m\n",
      "\u001b[0;32mpandas/_libs/hashtable_class_helper.pxi\u001b[0m in \u001b[0;36mpandas._libs.hashtable.Int64HashTable.get_item\u001b[0;34m()\u001b[0m\n",
      "\u001b[0;31mTypeError\u001b[0m: an integer is required",
      "\nDuring handling of the above exception, another exception occurred:\n",
      "\u001b[0;31mKeyError\u001b[0m                                  Traceback (most recent call last)",
      "\u001b[0;32m~/miniconda3/envs/pyPIPS/lib/python3.7/site-packages/pandas/core/indexes/datetimes.py\u001b[0m in \u001b[0;36mget_loc\u001b[0;34m(self, key, method, tolerance)\u001b[0m\n\u001b[1;32m   1008\u001b[0m         \u001b[0;32mtry\u001b[0m\u001b[0;34m:\u001b[0m\u001b[0;34m\u001b[0m\u001b[0;34m\u001b[0m\u001b[0m\n\u001b[0;32m-> 1009\u001b[0;31m             \u001b[0;32mreturn\u001b[0m \u001b[0mIndex\u001b[0m\u001b[0;34m.\u001b[0m\u001b[0mget_loc\u001b[0m\u001b[0;34m(\u001b[0m\u001b[0mself\u001b[0m\u001b[0;34m,\u001b[0m \u001b[0mkey\u001b[0m\u001b[0;34m,\u001b[0m \u001b[0mmethod\u001b[0m\u001b[0;34m,\u001b[0m \u001b[0mtolerance\u001b[0m\u001b[0;34m)\u001b[0m\u001b[0;34m\u001b[0m\u001b[0;34m\u001b[0m\u001b[0m\n\u001b[0m\u001b[1;32m   1010\u001b[0m         \u001b[0;32mexcept\u001b[0m \u001b[0;34m(\u001b[0m\u001b[0mKeyError\u001b[0m\u001b[0;34m,\u001b[0m \u001b[0mValueError\u001b[0m\u001b[0;34m,\u001b[0m \u001b[0mTypeError\u001b[0m\u001b[0;34m)\u001b[0m\u001b[0;34m:\u001b[0m\u001b[0;34m\u001b[0m\u001b[0;34m\u001b[0m\u001b[0m\n",
      "\u001b[0;32m~/miniconda3/envs/pyPIPS/lib/python3.7/site-packages/pandas/core/indexes/base.py\u001b[0m in \u001b[0;36mget_loc\u001b[0;34m(self, key, method, tolerance)\u001b[0m\n\u001b[1;32m   2658\u001b[0m             \u001b[0;32mexcept\u001b[0m \u001b[0mKeyError\u001b[0m\u001b[0;34m:\u001b[0m\u001b[0;34m\u001b[0m\u001b[0;34m\u001b[0m\u001b[0m\n\u001b[0;32m-> 2659\u001b[0;31m                 \u001b[0;32mreturn\u001b[0m \u001b[0mself\u001b[0m\u001b[0;34m.\u001b[0m\u001b[0m_engine\u001b[0m\u001b[0;34m.\u001b[0m\u001b[0mget_loc\u001b[0m\u001b[0;34m(\u001b[0m\u001b[0mself\u001b[0m\u001b[0;34m.\u001b[0m\u001b[0m_maybe_cast_indexer\u001b[0m\u001b[0;34m(\u001b[0m\u001b[0mkey\u001b[0m\u001b[0;34m)\u001b[0m\u001b[0;34m)\u001b[0m\u001b[0;34m\u001b[0m\u001b[0;34m\u001b[0m\u001b[0m\n\u001b[0m\u001b[1;32m   2660\u001b[0m         \u001b[0mindexer\u001b[0m \u001b[0;34m=\u001b[0m \u001b[0mself\u001b[0m\u001b[0;34m.\u001b[0m\u001b[0mget_indexer\u001b[0m\u001b[0;34m(\u001b[0m\u001b[0;34m[\u001b[0m\u001b[0mkey\u001b[0m\u001b[0;34m]\u001b[0m\u001b[0;34m,\u001b[0m \u001b[0mmethod\u001b[0m\u001b[0;34m=\u001b[0m\u001b[0mmethod\u001b[0m\u001b[0;34m,\u001b[0m \u001b[0mtolerance\u001b[0m\u001b[0;34m=\u001b[0m\u001b[0mtolerance\u001b[0m\u001b[0;34m)\u001b[0m\u001b[0;34m\u001b[0m\u001b[0;34m\u001b[0m\u001b[0m\n",
      "\u001b[0;32mpandas/_libs/index.pyx\u001b[0m in \u001b[0;36mpandas._libs.index.DatetimeEngine.get_loc\u001b[0;34m()\u001b[0m\n",
      "\u001b[0;32mpandas/_libs/index.pyx\u001b[0m in \u001b[0;36mpandas._libs.index.DatetimeEngine.get_loc\u001b[0;34m()\u001b[0m\n",
      "\u001b[0;32mpandas/_libs/index.pyx\u001b[0m in \u001b[0;36mpandas._libs.index.DatetimeEngine._date_check_type\u001b[0;34m()\u001b[0m\n",
      "\u001b[0;31mKeyError\u001b[0m: '2016-03-31T22:30:00'",
      "\nDuring handling of the above exception, another exception occurred:\n",
      "\u001b[0;31mKeyError\u001b[0m                                  Traceback (most recent call last)",
      "\u001b[0;32mpandas/_libs/index.pyx\u001b[0m in \u001b[0;36mpandas._libs.index.DatetimeEngine.get_loc\u001b[0;34m()\u001b[0m\n",
      "\u001b[0;32mpandas/_libs/hashtable_class_helper.pxi\u001b[0m in \u001b[0;36mpandas._libs.hashtable.Int64HashTable.get_item\u001b[0;34m()\u001b[0m\n",
      "\u001b[0;32mpandas/_libs/hashtable_class_helper.pxi\u001b[0m in \u001b[0;36mpandas._libs.hashtable.Int64HashTable.get_item\u001b[0;34m()\u001b[0m\n",
      "\u001b[0;31mKeyError\u001b[0m: 1459463400000000000",
      "\nDuring handling of the above exception, another exception occurred:\n",
      "\u001b[0;31mKeyError\u001b[0m                                  Traceback (most recent call last)",
      "\u001b[0;32m~/miniconda3/envs/pyPIPS/lib/python3.7/site-packages/pandas/core/indexes/base.py\u001b[0m in \u001b[0;36mget_loc\u001b[0;34m(self, key, method, tolerance)\u001b[0m\n\u001b[1;32m   2656\u001b[0m             \u001b[0;32mtry\u001b[0m\u001b[0;34m:\u001b[0m\u001b[0;34m\u001b[0m\u001b[0;34m\u001b[0m\u001b[0m\n\u001b[0;32m-> 2657\u001b[0;31m                 \u001b[0;32mreturn\u001b[0m \u001b[0mself\u001b[0m\u001b[0;34m.\u001b[0m\u001b[0m_engine\u001b[0m\u001b[0;34m.\u001b[0m\u001b[0mget_loc\u001b[0m\u001b[0;34m(\u001b[0m\u001b[0mkey\u001b[0m\u001b[0;34m)\u001b[0m\u001b[0;34m\u001b[0m\u001b[0;34m\u001b[0m\u001b[0m\n\u001b[0m\u001b[1;32m   2658\u001b[0m             \u001b[0;32mexcept\u001b[0m \u001b[0mKeyError\u001b[0m\u001b[0;34m:\u001b[0m\u001b[0;34m\u001b[0m\u001b[0;34m\u001b[0m\u001b[0m\n",
      "\u001b[0;32mpandas/_libs/index.pyx\u001b[0m in \u001b[0;36mpandas._libs.index.DatetimeEngine.get_loc\u001b[0;34m()\u001b[0m\n",
      "\u001b[0;32mpandas/_libs/index.pyx\u001b[0m in \u001b[0;36mpandas._libs.index.DatetimeEngine.get_loc\u001b[0;34m()\u001b[0m\n",
      "\u001b[0;31mKeyError\u001b[0m: Timestamp('2016-03-31 22:30:00')",
      "\nDuring handling of the above exception, another exception occurred:\n",
      "\u001b[0;31mKeyError\u001b[0m                                  Traceback (most recent call last)",
      "\u001b[0;32mpandas/_libs/index.pyx\u001b[0m in \u001b[0;36mpandas._libs.index.DatetimeEngine.get_loc\u001b[0;34m()\u001b[0m\n",
      "\u001b[0;32mpandas/_libs/hashtable_class_helper.pxi\u001b[0m in \u001b[0;36mpandas._libs.hashtable.Int64HashTable.get_item\u001b[0;34m()\u001b[0m\n",
      "\u001b[0;32mpandas/_libs/hashtable_class_helper.pxi\u001b[0m in \u001b[0;36mpandas._libs.hashtable.Int64HashTable.get_item\u001b[0;34m()\u001b[0m\n",
      "\u001b[0;31mKeyError\u001b[0m: 1459463400000000000",
      "\nDuring handling of the above exception, another exception occurred:\n",
      "\u001b[0;31mKeyError\u001b[0m                                  Traceback (most recent call last)",
      "\u001b[0;32m~/miniconda3/envs/pyPIPS/lib/python3.7/site-packages/pandas/core/indexes/datetimes.py\u001b[0m in \u001b[0;36mget_loc\u001b[0;34m(self, key, method, tolerance)\u001b[0m\n\u001b[1;32m   1021\u001b[0m                     \u001b[0mstamp\u001b[0m \u001b[0;34m=\u001b[0m \u001b[0mstamp\u001b[0m\u001b[0;34m.\u001b[0m\u001b[0mtz_localize\u001b[0m\u001b[0;34m(\u001b[0m\u001b[0mself\u001b[0m\u001b[0;34m.\u001b[0m\u001b[0mtz\u001b[0m\u001b[0;34m)\u001b[0m\u001b[0;34m\u001b[0m\u001b[0;34m\u001b[0m\u001b[0m\n\u001b[0;32m-> 1022\u001b[0;31m                 \u001b[0;32mreturn\u001b[0m \u001b[0mIndex\u001b[0m\u001b[0;34m.\u001b[0m\u001b[0mget_loc\u001b[0m\u001b[0;34m(\u001b[0m\u001b[0mself\u001b[0m\u001b[0;34m,\u001b[0m \u001b[0mstamp\u001b[0m\u001b[0;34m,\u001b[0m \u001b[0mmethod\u001b[0m\u001b[0;34m,\u001b[0m \u001b[0mtolerance\u001b[0m\u001b[0;34m)\u001b[0m\u001b[0;34m\u001b[0m\u001b[0;34m\u001b[0m\u001b[0m\n\u001b[0m\u001b[1;32m   1023\u001b[0m             \u001b[0;32mexcept\u001b[0m \u001b[0mKeyError\u001b[0m\u001b[0;34m:\u001b[0m\u001b[0;34m\u001b[0m\u001b[0;34m\u001b[0m\u001b[0m\n",
      "\u001b[0;32m~/miniconda3/envs/pyPIPS/lib/python3.7/site-packages/pandas/core/indexes/base.py\u001b[0m in \u001b[0;36mget_loc\u001b[0;34m(self, key, method, tolerance)\u001b[0m\n\u001b[1;32m   2658\u001b[0m             \u001b[0;32mexcept\u001b[0m \u001b[0mKeyError\u001b[0m\u001b[0;34m:\u001b[0m\u001b[0;34m\u001b[0m\u001b[0;34m\u001b[0m\u001b[0m\n\u001b[0;32m-> 2659\u001b[0;31m                 \u001b[0;32mreturn\u001b[0m \u001b[0mself\u001b[0m\u001b[0;34m.\u001b[0m\u001b[0m_engine\u001b[0m\u001b[0;34m.\u001b[0m\u001b[0mget_loc\u001b[0m\u001b[0;34m(\u001b[0m\u001b[0mself\u001b[0m\u001b[0;34m.\u001b[0m\u001b[0m_maybe_cast_indexer\u001b[0m\u001b[0;34m(\u001b[0m\u001b[0mkey\u001b[0m\u001b[0;34m)\u001b[0m\u001b[0;34m)\u001b[0m\u001b[0;34m\u001b[0m\u001b[0;34m\u001b[0m\u001b[0m\n\u001b[0m\u001b[1;32m   2660\u001b[0m         \u001b[0mindexer\u001b[0m \u001b[0;34m=\u001b[0m \u001b[0mself\u001b[0m\u001b[0;34m.\u001b[0m\u001b[0mget_indexer\u001b[0m\u001b[0;34m(\u001b[0m\u001b[0;34m[\u001b[0m\u001b[0mkey\u001b[0m\u001b[0;34m]\u001b[0m\u001b[0;34m,\u001b[0m \u001b[0mmethod\u001b[0m\u001b[0;34m=\u001b[0m\u001b[0mmethod\u001b[0m\u001b[0;34m,\u001b[0m \u001b[0mtolerance\u001b[0m\u001b[0;34m=\u001b[0m\u001b[0mtolerance\u001b[0m\u001b[0;34m)\u001b[0m\u001b[0;34m\u001b[0m\u001b[0;34m\u001b[0m\u001b[0m\n",
      "\u001b[0;32mpandas/_libs/index.pyx\u001b[0m in \u001b[0;36mpandas._libs.index.DatetimeEngine.get_loc\u001b[0;34m()\u001b[0m\n",
      "\u001b[0;32mpandas/_libs/index.pyx\u001b[0m in \u001b[0;36mpandas._libs.index.DatetimeEngine.get_loc\u001b[0;34m()\u001b[0m\n",
      "\u001b[0;31mKeyError\u001b[0m: Timestamp('2016-03-31 22:30:00')",
      "\nDuring handling of the above exception, another exception occurred:\n",
      "\u001b[0;31mKeyError\u001b[0m                                  Traceback (most recent call last)",
      "\u001b[0;32m<ipython-input-48-4d9fcc33c0e6>\u001b[0m in \u001b[0;36m<module>\u001b[0;34m\u001b[0m\n\u001b[1;32m      3\u001b[0m \u001b[0;34m\u001b[0m\u001b[0m\n\u001b[1;32m      4\u001b[0m \u001b[0mM3_binned\u001b[0m \u001b[0;34m=\u001b[0m \u001b[0mM3_binned\u001b[0m\u001b[0;34m.\u001b[0m\u001b[0mwhere\u001b[0m\u001b[0;34m(\u001b[0m\u001b[0mM3_binned\u001b[0m \u001b[0;34m!=\u001b[0m \u001b[0;36m0.\u001b[0m\u001b[0;34m)\u001b[0m\u001b[0;34m\u001b[0m\u001b[0;34m\u001b[0m\u001b[0m\n\u001b[0;32m----> 5\u001b[0;31m \u001b[0mprint\u001b[0m\u001b[0;34m(\u001b[0m\u001b[0mM3_binned\u001b[0m\u001b[0;34m.\u001b[0m\u001b[0mloc\u001b[0m\u001b[0;34m[\u001b[0m\u001b[0mdict\u001b[0m\u001b[0;34m(\u001b[0m\u001b[0mtime_10s\u001b[0m\u001b[0;34m=\u001b[0m\u001b[0;34m'2016-03-31T22:30:00'\u001b[0m\u001b[0;34m)\u001b[0m\u001b[0;34m]\u001b[0m\u001b[0;34m)\u001b[0m\u001b[0;34m\u001b[0m\u001b[0;34m\u001b[0m\u001b[0m\n\u001b[0m\u001b[1;32m      6\u001b[0m \u001b[0mM3_arr\u001b[0m \u001b[0;34m=\u001b[0m \u001b[0mM3_binned\u001b[0m\u001b[0;34m.\u001b[0m\u001b[0mloc\u001b[0m\u001b[0;34m[\u001b[0m\u001b[0mdict\u001b[0m\u001b[0;34m(\u001b[0m\u001b[0mtime_10s\u001b[0m\u001b[0;34m=\u001b[0m\u001b[0;34m'2016-03-31T22:30:00'\u001b[0m\u001b[0;34m)\u001b[0m\u001b[0;34m]\u001b[0m\u001b[0;34m.\u001b[0m\u001b[0mvalues\u001b[0m\u001b[0;34m\u001b[0m\u001b[0;34m\u001b[0m\u001b[0m\n\u001b[1;32m      7\u001b[0m \u001b[0mprint\u001b[0m\u001b[0;34m(\u001b[0m\u001b[0mM3_arr\u001b[0m\u001b[0;34m)\u001b[0m\u001b[0;34m\u001b[0m\u001b[0;34m\u001b[0m\u001b[0m\n",
      "\u001b[0;32m~/miniconda3/envs/pyPIPS/lib/python3.7/site-packages/xarray/core/dataarray.py\u001b[0m in \u001b[0;36m__getitem__\u001b[0;34m(self, key)\u001b[0m\n\u001b[1;32m    194\u001b[0m             \u001b[0mlabels\u001b[0m \u001b[0;34m=\u001b[0m \u001b[0mindexing\u001b[0m\u001b[0;34m.\u001b[0m\u001b[0mexpanded_indexer\u001b[0m\u001b[0;34m(\u001b[0m\u001b[0mkey\u001b[0m\u001b[0;34m,\u001b[0m \u001b[0mself\u001b[0m\u001b[0;34m.\u001b[0m\u001b[0mdata_array\u001b[0m\u001b[0;34m.\u001b[0m\u001b[0mndim\u001b[0m\u001b[0;34m)\u001b[0m\u001b[0;34m\u001b[0m\u001b[0;34m\u001b[0m\u001b[0m\n\u001b[1;32m    195\u001b[0m             \u001b[0mkey\u001b[0m \u001b[0;34m=\u001b[0m \u001b[0mdict\u001b[0m\u001b[0;34m(\u001b[0m\u001b[0mzip\u001b[0m\u001b[0;34m(\u001b[0m\u001b[0mself\u001b[0m\u001b[0;34m.\u001b[0m\u001b[0mdata_array\u001b[0m\u001b[0;34m.\u001b[0m\u001b[0mdims\u001b[0m\u001b[0;34m,\u001b[0m \u001b[0mlabels\u001b[0m\u001b[0;34m)\u001b[0m\u001b[0;34m)\u001b[0m\u001b[0;34m\u001b[0m\u001b[0;34m\u001b[0m\u001b[0m\n\u001b[0;32m--> 196\u001b[0;31m         \u001b[0;32mreturn\u001b[0m \u001b[0mself\u001b[0m\u001b[0;34m.\u001b[0m\u001b[0mdata_array\u001b[0m\u001b[0;34m.\u001b[0m\u001b[0msel\u001b[0m\u001b[0;34m(\u001b[0m\u001b[0;34m**\u001b[0m\u001b[0mkey\u001b[0m\u001b[0;34m)\u001b[0m\u001b[0;34m\u001b[0m\u001b[0;34m\u001b[0m\u001b[0m\n\u001b[0m\u001b[1;32m    197\u001b[0m \u001b[0;34m\u001b[0m\u001b[0m\n\u001b[1;32m    198\u001b[0m     \u001b[0;32mdef\u001b[0m \u001b[0m__setitem__\u001b[0m\u001b[0;34m(\u001b[0m\u001b[0mself\u001b[0m\u001b[0;34m,\u001b[0m \u001b[0mkey\u001b[0m\u001b[0;34m,\u001b[0m \u001b[0mvalue\u001b[0m\u001b[0;34m)\u001b[0m \u001b[0;34m->\u001b[0m \u001b[0;32mNone\u001b[0m\u001b[0;34m:\u001b[0m\u001b[0;34m\u001b[0m\u001b[0;34m\u001b[0m\u001b[0m\n",
      "\u001b[0;32m~/miniconda3/envs/pyPIPS/lib/python3.7/site-packages/xarray/core/dataarray.py\u001b[0m in \u001b[0;36msel\u001b[0;34m(self, indexers, method, tolerance, drop, **indexers_kwargs)\u001b[0m\n\u001b[1;32m   1049\u001b[0m             \u001b[0mmethod\u001b[0m\u001b[0;34m=\u001b[0m\u001b[0mmethod\u001b[0m\u001b[0;34m,\u001b[0m\u001b[0;34m\u001b[0m\u001b[0;34m\u001b[0m\u001b[0m\n\u001b[1;32m   1050\u001b[0m             \u001b[0mtolerance\u001b[0m\u001b[0;34m=\u001b[0m\u001b[0mtolerance\u001b[0m\u001b[0;34m,\u001b[0m\u001b[0;34m\u001b[0m\u001b[0;34m\u001b[0m\u001b[0m\n\u001b[0;32m-> 1051\u001b[0;31m             \u001b[0;34m**\u001b[0m\u001b[0mindexers_kwargs\u001b[0m\u001b[0;34m,\u001b[0m\u001b[0;34m\u001b[0m\u001b[0;34m\u001b[0m\u001b[0m\n\u001b[0m\u001b[1;32m   1052\u001b[0m         )\n\u001b[1;32m   1053\u001b[0m         \u001b[0;32mreturn\u001b[0m \u001b[0mself\u001b[0m\u001b[0;34m.\u001b[0m\u001b[0m_from_temp_dataset\u001b[0m\u001b[0;34m(\u001b[0m\u001b[0mds\u001b[0m\u001b[0;34m)\u001b[0m\u001b[0;34m\u001b[0m\u001b[0;34m\u001b[0m\u001b[0m\n",
      "\u001b[0;32m~/miniconda3/envs/pyPIPS/lib/python3.7/site-packages/xarray/core/dataset.py\u001b[0m in \u001b[0;36msel\u001b[0;34m(self, indexers, method, tolerance, drop, **indexers_kwargs)\u001b[0m\n\u001b[1;32m   2012\u001b[0m         \u001b[0mindexers\u001b[0m \u001b[0;34m=\u001b[0m \u001b[0meither_dict_or_kwargs\u001b[0m\u001b[0;34m(\u001b[0m\u001b[0mindexers\u001b[0m\u001b[0;34m,\u001b[0m \u001b[0mindexers_kwargs\u001b[0m\u001b[0;34m,\u001b[0m \u001b[0;34m\"sel\"\u001b[0m\u001b[0;34m)\u001b[0m\u001b[0;34m\u001b[0m\u001b[0;34m\u001b[0m\u001b[0m\n\u001b[1;32m   2013\u001b[0m         pos_indexers, new_indexes = remap_label_indexers(\n\u001b[0;32m-> 2014\u001b[0;31m             \u001b[0mself\u001b[0m\u001b[0;34m,\u001b[0m \u001b[0mindexers\u001b[0m\u001b[0;34m=\u001b[0m\u001b[0mindexers\u001b[0m\u001b[0;34m,\u001b[0m \u001b[0mmethod\u001b[0m\u001b[0;34m=\u001b[0m\u001b[0mmethod\u001b[0m\u001b[0;34m,\u001b[0m \u001b[0mtolerance\u001b[0m\u001b[0;34m=\u001b[0m\u001b[0mtolerance\u001b[0m\u001b[0;34m\u001b[0m\u001b[0;34m\u001b[0m\u001b[0m\n\u001b[0m\u001b[1;32m   2015\u001b[0m         )\n\u001b[1;32m   2016\u001b[0m         \u001b[0mresult\u001b[0m \u001b[0;34m=\u001b[0m \u001b[0mself\u001b[0m\u001b[0;34m.\u001b[0m\u001b[0misel\u001b[0m\u001b[0;34m(\u001b[0m\u001b[0mindexers\u001b[0m\u001b[0;34m=\u001b[0m\u001b[0mpos_indexers\u001b[0m\u001b[0;34m,\u001b[0m \u001b[0mdrop\u001b[0m\u001b[0;34m=\u001b[0m\u001b[0mdrop\u001b[0m\u001b[0;34m)\u001b[0m\u001b[0;34m\u001b[0m\u001b[0;34m\u001b[0m\u001b[0m\n",
      "\u001b[0;32m~/miniconda3/envs/pyPIPS/lib/python3.7/site-packages/xarray/core/coordinates.py\u001b[0m in \u001b[0;36mremap_label_indexers\u001b[0;34m(obj, indexers, method, tolerance, **indexers_kwargs)\u001b[0m\n\u001b[1;32m    390\u001b[0m \u001b[0;34m\u001b[0m\u001b[0m\n\u001b[1;32m    391\u001b[0m     pos_indexers, new_indexes = indexing.remap_label_indexers(\n\u001b[0;32m--> 392\u001b[0;31m         \u001b[0mobj\u001b[0m\u001b[0;34m,\u001b[0m \u001b[0mv_indexers\u001b[0m\u001b[0;34m,\u001b[0m \u001b[0mmethod\u001b[0m\u001b[0;34m=\u001b[0m\u001b[0mmethod\u001b[0m\u001b[0;34m,\u001b[0m \u001b[0mtolerance\u001b[0m\u001b[0;34m=\u001b[0m\u001b[0mtolerance\u001b[0m\u001b[0;34m\u001b[0m\u001b[0;34m\u001b[0m\u001b[0m\n\u001b[0m\u001b[1;32m    393\u001b[0m     )\n\u001b[1;32m    394\u001b[0m     \u001b[0;31m# attach indexer's coordinate to pos_indexers\u001b[0m\u001b[0;34m\u001b[0m\u001b[0;34m\u001b[0m\u001b[0;34m\u001b[0m\u001b[0m\n",
      "\u001b[0;32m~/miniconda3/envs/pyPIPS/lib/python3.7/site-packages/xarray/core/indexing.py\u001b[0m in \u001b[0;36mremap_label_indexers\u001b[0;34m(data_obj, indexers, method, tolerance)\u001b[0m\n\u001b[1;32m    258\u001b[0m             \u001b[0mcoords_dtype\u001b[0m \u001b[0;34m=\u001b[0m \u001b[0mdata_obj\u001b[0m\u001b[0;34m.\u001b[0m\u001b[0mcoords\u001b[0m\u001b[0;34m[\u001b[0m\u001b[0mdim\u001b[0m\u001b[0;34m]\u001b[0m\u001b[0;34m.\u001b[0m\u001b[0mdtype\u001b[0m\u001b[0;34m\u001b[0m\u001b[0;34m\u001b[0m\u001b[0m\n\u001b[1;32m    259\u001b[0m             \u001b[0mlabel\u001b[0m \u001b[0;34m=\u001b[0m \u001b[0mmaybe_cast_to_coords_dtype\u001b[0m\u001b[0;34m(\u001b[0m\u001b[0mlabel\u001b[0m\u001b[0;34m,\u001b[0m \u001b[0mcoords_dtype\u001b[0m\u001b[0;34m)\u001b[0m\u001b[0;34m\u001b[0m\u001b[0;34m\u001b[0m\u001b[0m\n\u001b[0;32m--> 260\u001b[0;31m             \u001b[0midxr\u001b[0m\u001b[0;34m,\u001b[0m \u001b[0mnew_idx\u001b[0m \u001b[0;34m=\u001b[0m \u001b[0mconvert_label_indexer\u001b[0m\u001b[0;34m(\u001b[0m\u001b[0mindex\u001b[0m\u001b[0;34m,\u001b[0m \u001b[0mlabel\u001b[0m\u001b[0;34m,\u001b[0m \u001b[0mdim\u001b[0m\u001b[0;34m,\u001b[0m \u001b[0mmethod\u001b[0m\u001b[0;34m,\u001b[0m \u001b[0mtolerance\u001b[0m\u001b[0;34m)\u001b[0m\u001b[0;34m\u001b[0m\u001b[0;34m\u001b[0m\u001b[0m\n\u001b[0m\u001b[1;32m    261\u001b[0m             \u001b[0mpos_indexers\u001b[0m\u001b[0;34m[\u001b[0m\u001b[0mdim\u001b[0m\u001b[0;34m]\u001b[0m \u001b[0;34m=\u001b[0m \u001b[0midxr\u001b[0m\u001b[0;34m\u001b[0m\u001b[0;34m\u001b[0m\u001b[0m\n\u001b[1;32m    262\u001b[0m             \u001b[0;32mif\u001b[0m \u001b[0mnew_idx\u001b[0m \u001b[0;32mis\u001b[0m \u001b[0;32mnot\u001b[0m \u001b[0;32mNone\u001b[0m\u001b[0;34m:\u001b[0m\u001b[0;34m\u001b[0m\u001b[0;34m\u001b[0m\u001b[0m\n",
      "\u001b[0;32m~/miniconda3/envs/pyPIPS/lib/python3.7/site-packages/xarray/core/indexing.py\u001b[0m in \u001b[0;36mconvert_label_indexer\u001b[0;34m(index, label, index_name, method, tolerance)\u001b[0m\n\u001b[1;32m    178\u001b[0m             \u001b[0;32melse\u001b[0m\u001b[0;34m:\u001b[0m\u001b[0;34m\u001b[0m\u001b[0;34m\u001b[0m\u001b[0m\n\u001b[1;32m    179\u001b[0m                 indexer = index.get_loc(\n\u001b[0;32m--> 180\u001b[0;31m                     \u001b[0mlabel\u001b[0m\u001b[0;34m.\u001b[0m\u001b[0mitem\u001b[0m\u001b[0;34m(\u001b[0m\u001b[0;34m)\u001b[0m\u001b[0;34m,\u001b[0m \u001b[0mmethod\u001b[0m\u001b[0;34m=\u001b[0m\u001b[0mmethod\u001b[0m\u001b[0;34m,\u001b[0m \u001b[0mtolerance\u001b[0m\u001b[0;34m=\u001b[0m\u001b[0mtolerance\u001b[0m\u001b[0;34m\u001b[0m\u001b[0;34m\u001b[0m\u001b[0m\n\u001b[0m\u001b[1;32m    181\u001b[0m                 )\n\u001b[1;32m    182\u001b[0m         \u001b[0;32melif\u001b[0m \u001b[0mlabel\u001b[0m\u001b[0;34m.\u001b[0m\u001b[0mdtype\u001b[0m\u001b[0;34m.\u001b[0m\u001b[0mkind\u001b[0m \u001b[0;34m==\u001b[0m \u001b[0;34m\"b\"\u001b[0m\u001b[0;34m:\u001b[0m\u001b[0;34m\u001b[0m\u001b[0;34m\u001b[0m\u001b[0m\n",
      "\u001b[0;32m~/miniconda3/envs/pyPIPS/lib/python3.7/site-packages/pandas/core/indexes/datetimes.py\u001b[0m in \u001b[0;36mget_loc\u001b[0;34m(self, key, method, tolerance)\u001b[0m\n\u001b[1;32m   1022\u001b[0m                 \u001b[0;32mreturn\u001b[0m \u001b[0mIndex\u001b[0m\u001b[0;34m.\u001b[0m\u001b[0mget_loc\u001b[0m\u001b[0;34m(\u001b[0m\u001b[0mself\u001b[0m\u001b[0;34m,\u001b[0m \u001b[0mstamp\u001b[0m\u001b[0;34m,\u001b[0m \u001b[0mmethod\u001b[0m\u001b[0;34m,\u001b[0m \u001b[0mtolerance\u001b[0m\u001b[0;34m)\u001b[0m\u001b[0;34m\u001b[0m\u001b[0;34m\u001b[0m\u001b[0m\n\u001b[1;32m   1023\u001b[0m             \u001b[0;32mexcept\u001b[0m \u001b[0mKeyError\u001b[0m\u001b[0;34m:\u001b[0m\u001b[0;34m\u001b[0m\u001b[0;34m\u001b[0m\u001b[0m\n\u001b[0;32m-> 1024\u001b[0;31m                 \u001b[0;32mraise\u001b[0m \u001b[0mKeyError\u001b[0m\u001b[0;34m(\u001b[0m\u001b[0mkey\u001b[0m\u001b[0;34m)\u001b[0m\u001b[0;34m\u001b[0m\u001b[0;34m\u001b[0m\u001b[0m\n\u001b[0m\u001b[1;32m   1025\u001b[0m             \u001b[0;32mexcept\u001b[0m \u001b[0mValueError\u001b[0m \u001b[0;32mas\u001b[0m \u001b[0me\u001b[0m\u001b[0;34m:\u001b[0m\u001b[0;34m\u001b[0m\u001b[0;34m\u001b[0m\u001b[0m\n\u001b[1;32m   1026\u001b[0m                 \u001b[0;31m# list-like tolerance size must match target index size\u001b[0m\u001b[0;34m\u001b[0m\u001b[0;34m\u001b[0m\u001b[0;34m\u001b[0m\u001b[0m\n",
      "\u001b[0;31mKeyError\u001b[0m: '2016-03-31T22:30:00'"
     ]
    }
   ],
   "source": [
    "Dm = ND1['diameter'] / 1000.\n",
    "M3, M3_binned = dsd.calc_moment_bin(ND1, moment=3)\n",
    "\n",
    "M3_binned = M3_binned.where(M3_binned != 0.)\n",
    "print(M3_binned.loc[dict(time_10s='2016-03-31T22:30:00')])\n",
    "M3_arr = M3_binned.loc[dict(time_10s='2016-03-31T22:30:00')].values\n",
    "print(M3_arr)\n",
    "print()\n",
    "M3_med = M3_binned.quantile(0.5, dim='diameter_bin', interpolation='linear')\n",
    "print(M3_med.loc[dict(time_10s='2016-03-31T22:30:00')])\n",
    "# D0 is the cube root of this median volume\n",
    "D0 = M3_med**(1./3.) * 1000.\n",
    "print(D0.loc[dict(time_10s='2016-03-31T22:30:00')])\n",
    "D0.plot()"
   ]
  },
  {
   "cell_type": "code",
   "execution_count": 49,
   "metadata": {
    "ExecuteTime": {
     "end_time": "2020-01-24T19:05:45.601954Z",
     "start_time": "2020-01-24T19:05:45.320128Z"
    }
   },
   "outputs": [
    {
     "data": {
      "text/plain": [
       "[<matplotlib.lines.Line2D at 0x7fd1a2decd30>]"
      ]
     },
     "execution_count": 49,
     "metadata": {},
     "output_type": "execute_result"
    },
    {
     "data": {
      "image/png": "[encoded data removed]",
      "text/plain": [
       "<Figure size 432x288 with 1 Axes>"
      ]
     },
     "metadata": {
      "needs_background": "light"
     },
     "output_type": "display_data"
    }
   ],
   "source": [
    "D0 = dsd.calc_D0_bin(ND1) * 1000.\n",
    "D0.plot()"
   ]
  },
  {
   "cell_type": "code",
   "execution_count": 50,
   "metadata": {
    "ExecuteTime": {
     "end_time": "2020-01-24T19:06:03.751913Z",
     "start_time": "2020-01-24T19:06:03.689028Z"
    },
    "scrolled": false
   },
   "outputs": [],
   "source": [
    "# Test interpolating from one index to another\n",
    "\n",
    "da = xr.DataArray(np.sin(0.3 * np.arange(12).reshape(4, 3)),\n",
    "                  [('time', np.arange(4)),\n",
    "                   ('space', [0.1, 0.2, 0.3])])\n",
    "\n",
    "other = xr.DataArray(np.sin(0.4 * np.arange(9).reshape(3, 3)),\n",
    "                     [('time', [0.9, 1.9, 2.9]),\n",
    "                      ('space', [0.1, 0.2, 0.3])])"
   ]
  },
  {
   "cell_type": "code",
   "execution_count": 51,
   "metadata": {
    "ExecuteTime": {
     "end_time": "2020-01-24T19:06:06.722290Z",
     "start_time": "2020-01-24T19:06:06.658103Z"
    },
    "scrolled": false
   },
   "outputs": [
    {
     "name": "stdout",
     "output_type": "stream",
     "text": [
      "<xarray.DataArray (time: 4, space: 3)>\n",
      "array([[ 0.        ,  0.29552021,  0.56464247],\n",
      "       [ 0.78332691,  0.93203909,  0.99749499],\n",
      "       [ 0.97384763,  0.86320937,  0.67546318],\n",
      "       [ 0.42737988,  0.14112001, -0.15774569]])\n",
      "Coordinates:\n",
      "  * time     (time) int64 0 1 2 3\n",
      "  * space    (space) float64 0.1 0.2 0.3\n",
      "<xarray.DataArray (time: 3, space: 3)>\n",
      "array([[ 0.        ,  0.38941834,  0.71735609],\n",
      "       [ 0.93203909,  0.9995736 ,  0.90929743],\n",
      "       [ 0.67546318,  0.33498815, -0.05837414]])\n",
      "Coordinates:\n",
      "  * time     (time) float64 0.9 1.9 2.9\n",
      "  * space    (space) float64 0.1 0.2 0.3\n"
     ]
    }
   ],
   "source": [
    "print(da)\n",
    "print(other)"
   ]
  },
  {
   "cell_type": "code",
   "execution_count": 52,
   "metadata": {
    "ExecuteTime": {
     "end_time": "2020-01-24T19:06:18.951833Z",
     "start_time": "2020-01-24T19:06:18.872417Z"
    },
    "scrolled": false
   },
   "outputs": [
    {
     "data": {
      "text/html": [
       "<pre>&lt;xarray.DataArray (time: 3, space: 3)&gt;\n",
       "array([[ 0.70499422,  0.8683872 ,  0.95420974],\n",
       "       [ 0.95479556,  0.87009234,  0.70766636],\n",
       "       [ 0.48202666,  0.21332894, -0.07442481]])\n",
       "Coordinates:\n",
       "  * time     (time) float64 0.9 1.9 2.9\n",
       "  * space    (space) float64 0.1 0.2 0.3</pre>"
      ],
      "text/plain": [
       "<xarray.DataArray (time: 3, space: 3)>\n",
       "array([[ 0.70499422,  0.8683872 ,  0.95420974],\n",
       "       [ 0.95479556,  0.87009234,  0.70766636],\n",
       "       [ 0.48202666,  0.21332894, -0.07442481]])\n",
       "Coordinates:\n",
       "  * time     (time) float64 0.9 1.9 2.9\n",
       "  * space    (space) float64 0.1 0.2 0.3"
      ]
     },
     "execution_count": 52,
     "metadata": {},
     "output_type": "execute_result"
    }
   ],
   "source": [
    "interpolated = da.interp_like(other)\n",
    "interpolated\n"
   ]
  },
  {
   "cell_type": "code",
   "execution_count": 53,
   "metadata": {
    "ExecuteTime": {
     "end_time": "2020-01-24T19:06:25.101596Z",
     "start_time": "2020-01-24T19:06:25.039895Z"
    },
    "scrolled": false
   },
   "outputs": [
    {
     "name": "stdout",
     "output_type": "stream",
     "text": [
      "0.7049943\n"
     ]
    }
   ],
   "source": [
    "x0 = 0\n",
    "y0 = 0\n",
    "x1 = 1\n",
    "y1 = 0.783327\n",
    "\n",
    "x = 0.9\n",
    "\n",
    "y = y0 + (x - x0) * (y1 - y0) / (x1 - x0)\n",
    "print(y)\n"
   ]
  },
  {
   "cell_type": "code",
   "execution_count": 213,
   "metadata": {
    "ExecuteTime": {
     "end_time": "2020-01-24T22:54:06.493622Z",
     "start_time": "2020-01-24T22:54:00.425939Z"
    },
    "scrolled": true
   },
   "outputs": [
    {
     "name": "stdout",
     "output_type": "stream",
     "text": [
      "<xarray.DataArray 'diameter' (time_10s: 65)>\n",
      "array([0.0245   , 0.0245   , 0.0003125, 0.0245   , 0.0245   , 0.0245   ,\n",
      "       0.0245   , 0.0245   , 0.0245   , 0.0245   , 0.0245   , 0.0245   ,\n",
      "       0.0245   , 0.0245   , 0.0245   , 0.0245   , 0.001625 , 0.0055   ,\n",
      "       0.00475  , 0.00425  , 0.0055   , 0.0055   , 0.0075   , 0.0065   ,\n",
      "       0.00425  , 0.0055   , 0.00425  , 0.0065   , 0.0065   , 0.0055   ,\n",
      "       0.00475  , 0.0055   , 0.0065   , 0.0065   , 0.0065   , 0.0245   ,\n",
      "       0.0245   , 0.0065   , 0.0055   , 0.00325  , 0.00425  , 0.00475  ,\n",
      "       0.00425  , 0.00325  , 0.00275  , 0.001875 , 0.001375 , 0.0011875,\n",
      "       0.001875 , 0.001625 , 0.001375 , 0.001375 , 0.0011875, 0.0011875,\n",
      "       0.0009375, 0.001625 , 0.0006875, 0.0005625, 0.0006875, 0.0245   ,\n",
      "       0.0005625, 0.0245   , 0.0245   , 0.0245   , 0.0245   ])\n",
      "Coordinates:\n",
      "    diameter      (time_10s) float64 24.5 24.5 0.3125 24.5 ... 24.5 24.5 24.5\n",
      "    min_diameter  (time_10s) float64 23.0 23.0 0.25 23.0 ... 23.0 23.0 23.0 23.0\n",
      "    max_diameter  (time_10s) float64 26.0 26.0 0.375 26.0 ... 26.0 26.0 26.0\n",
      "Dimensions without coordinates: time_10s\n"
     ]
    },
    {
     "name": "stderr",
     "output_type": "stream",
     "text": [
      "/Users/dawson29/Projects/pyPIPS/pyPIPS/DSDlib.py:985: NumbaWarning: \u001b[1m\n",
      "Compilation is falling back to object mode WITH looplifting enabled because Function \"fit_DSD_TMM\" failed type inference due to: \u001b[1mUntyped global name 'fit_DSD_MM246':\u001b[0m \u001b[1m\u001b[1mcannot determine Numba type of <class 'function'>\u001b[0m\n",
      "\u001b[1m\n",
      "File \"../pyPIPS/DSDlib.py\", line 1013:\u001b[0m\n",
      "\u001b[1mdef fit_DSD_TMM(M2, M4, M6, D_min, D_max):\n",
      "    <source elided>\n",
      "        #lamda_tmf.append(lam_tmf)\n",
      "\u001b[1m        print(\"Working on time {:d}\".format(t))\n",
      "\u001b[0m        \u001b[1m^\u001b[0m\u001b[0m\n",
      "\u001b[0m\u001b[0m\n",
      "  ----------\n",
      "/Users/dawson29/Projects/pyPIPS/pyPIPS/DSDlib.py:985: NumbaWarning: \u001b[1m\n",
      "Compilation is falling back to object mode WITHOUT looplifting enabled because Function \"fit_DSD_TMM\" failed type inference due to: \u001b[1mUntyped global name 'fit_DSD_MM246':\u001b[0m \u001b[1m\u001b[1mcannot determine Numba type of <class 'function'>\u001b[0m\n",
      "\u001b[1m\n",
      "File \"../pyPIPS/DSDlib.py\", line 1013:\u001b[0m\n",
      "\u001b[1mdef fit_DSD_TMM(M2, M4, M6, D_min, D_max):\n",
      "    <source elided>\n",
      "        #lamda_tmf.append(lam_tmf)\n",
      "\u001b[1m        print(\"Working on time {:d}\".format(t))\n",
      "\u001b[0m        \u001b[1m^\u001b[0m\u001b[0m\n",
      "\u001b[0m\u001b[0m\n",
      "  ----------\n",
      "/Users/dawson29/miniconda3/envs/pyPIPS/lib/python3.7/site-packages/numba/object_mode_passes.py:178: NumbaWarning: \u001b[1mFunction \"fit_DSD_TMM\" was compiled in object mode without forceobj=True, but has lifted loops.\n",
      "\u001b[1m\n",
      "File \"../pyPIPS/DSDlib.py\", line 1009:\u001b[0m\n",
      "\u001b[1mdef fit_DSD_TMM(M2, M4, M6, D_min, D_max):\n",
      "    <source elided>\n",
      "            LDmx = lam_tmf * D_max[t]\n",
      "\u001b[1m        mu_tmf[t] = mu\n",
      "\u001b[0m        \u001b[1m^\u001b[0m\u001b[0m\n",
      "\u001b[0m\n",
      "  state.func_ir.loc))\n",
      "/Users/dawson29/miniconda3/envs/pyPIPS/lib/python3.7/site-packages/numba/object_mode_passes.py:188: NumbaDeprecationWarning: \u001b[1m\n",
      "Fall-back from the nopython compilation path to the object mode compilation path has been detected, this is deprecated behaviour.\n",
      "\n",
      "For more information visit http://numba.pydata.org/numba-doc/latest/reference/deprecation.html#deprecation-of-object-mode-fall-back-behaviour-when-using-jit\n",
      "\u001b[1m\n",
      "File \"../pyPIPS/DSDlib.py\", line 1009:\u001b[0m\n",
      "\u001b[1mdef fit_DSD_TMM(M2, M4, M6, D_min, D_max):\n",
      "    <source elided>\n",
      "            LDmx = lam_tmf * D_max[t]\n",
      "\u001b[1m        mu_tmf[t] = mu\n",
      "\u001b[0m        \u001b[1m^\u001b[0m\u001b[0m\n",
      "\u001b[0m\n",
      "  state.func_ir.loc))\n",
      "/Users/dawson29/Projects/pyPIPS/pyPIPS/DSDlib.py:976: RuntimeWarning: invalid value encountered in true_divide\n",
      "  return N0, lamda, alpha\n",
      "/Users/dawson29/Projects/pyPIPS/pyPIPS/DSDlib.py:874: RuntimeWarning: invalid value encountered in true_divide\n",
      "  G = (M4**2.) / (M2 * M6)\n",
      "/Users/dawson29/Projects/pyPIPS/pyPIPS/DSDlib.py:887: RuntimeWarning: overflow encountered in power\n",
      "  N0 = (M4 * lamda**(mu + 5.)) / (gamma_(mu + 5.))\n",
      "/Users/dawson29/Projects/pyPIPS/pyPIPS/DSDlib.py:887: RuntimeWarning: invalid value encountered in true_divide\n",
      "  N0 = (M4 * lamda**(mu + 5.)) / (gamma_(mu + 5.))\n",
      "/Users/dawson29/Projects/pyPIPS/pyPIPS/DSDlib.py:985: NumbaWarning: \u001b[1m\n",
      "Compilation is falling back to object mode WITHOUT looplifting enabled because Function \"fit_DSD_TMM\" failed type inference due to: \u001b[1mUntyped global name 'gammap':\u001b[0m \u001b[1m\u001b[1mcannot determine Numba type of <class 'numpy.ufunc'>\u001b[0m\n",
      "\u001b[1m\n",
      "File \"../pyPIPS/DSDlib.py\", line 1033:\u001b[0m\n",
      "\u001b[1mdef calc_binned_DSD_from_params(N0, lamda, alpha, D):\n",
      "    <source elided>\n",
      "    lamda : array_like\n",
      "\u001b[1m        Slope parameter\n",
      "\u001b[0m        \u001b[1m^\u001b[0m\u001b[0m\n",
      "\u001b[0m\u001b[0m\n",
      "  ----------\n",
      "/Users/dawson29/miniconda3/envs/pyPIPS/lib/python3.7/site-packages/numba/object_mode_passes.py:178: NumbaWarning: \u001b[1mFunction \"fit_DSD_TMM\" was compiled in object mode without forceobj=True.\n",
      "\u001b[1m\n",
      "File \"../pyPIPS/DSDlib.py\", line 1027:\u001b[0m\n",
      "\u001b[1mdef calc_binned_DSD_from_params(N0, lamda, alpha, D):\n",
      "    <source elided>\n",
      "    the array of diameters D\n",
      "\u001b[1m\n",
      "\u001b[0m \u001b[1m^\u001b[0m\u001b[0m\n",
      "\u001b[0m\n",
      "  state.func_ir.loc))\n",
      "/Users/dawson29/miniconda3/envs/pyPIPS/lib/python3.7/site-packages/numba/object_mode_passes.py:188: NumbaDeprecationWarning: \u001b[1m\n",
      "Fall-back from the nopython compilation path to the object mode compilation path has been detected, this is deprecated behaviour.\n",
      "\n",
      "For more information visit http://numba.pydata.org/numba-doc/latest/reference/deprecation.html#deprecation-of-object-mode-fall-back-behaviour-when-using-jit\n",
      "\u001b[1m\n",
      "File \"../pyPIPS/DSDlib.py\", line 1027:\u001b[0m\n",
      "\u001b[1mdef calc_binned_DSD_from_params(N0, lamda, alpha, D):\n",
      "    <source elided>\n",
      "    the array of diameters D\n",
      "\u001b[1m\n",
      "\u001b[0m \u001b[1m^\u001b[0m\u001b[0m\n",
      "\u001b[0m\n",
      "  state.func_ir.loc))\n"
     ]
    },
    {
     "name": "stdout",
     "output_type": "stream",
     "text": [
      "Working on time 0\n",
      "Working on time 1\n",
      "Working on time 2\n",
      "Working on time 3\n",
      "Working on time 4\n",
      "Working on time 5\n",
      "Working on time 6\n",
      "Working on time 7\n",
      "Working on time 8\n",
      "Working on time 9\n",
      "Working on time 10\n",
      "Working on time 11\n",
      "Working on time 12\n",
      "Working on time 13\n",
      "Working on time 14\n",
      "Working on time 15\n",
      "Working on time 16\n",
      "Working on time 17\n",
      "Working on time 18\n",
      "Working on time 19\n",
      "Working on time 20\n",
      "Working on time 21\n",
      "Working on time 22\n",
      "Working on time 23\n",
      "Working on time 24\n",
      "Working on time 25\n"
     ]
    },
    {
     "name": "stderr",
     "output_type": "stream",
     "text": [
      "/Users/dawson29/Projects/pyPIPS/pyPIPS/DSDlib.py:976: RuntimeWarning: overflow encountered in exp\n",
      "  return N0, lamda, alpha\n",
      "/Users/dawson29/Projects/pyPIPS/pyPIPS/DSDlib.py:976: RuntimeWarning: invalid value encountered in double_scalars\n",
      "  return N0, lamda, alpha\n"
     ]
    },
    {
     "name": "stdout",
     "output_type": "stream",
     "text": [
      "Working on time 26\n",
      "Working on time 27\n",
      "Working on time 28\n",
      "Working on time 29\n",
      "Working on time 30\n",
      "Working on time 31\n",
      "Working on time 32\n",
      "Working on time 33\n",
      "Working on time 34\n",
      "Working on time 35\n",
      "Working on time 36\n",
      "Working on time 37\n",
      "Working on time 38\n",
      "Working on time 39\n",
      "Working on time 40\n",
      "Working on time 41\n",
      "Working on time 42\n",
      "Working on time 43\n",
      "Working on time 44\n",
      "Working on time 45\n",
      "Working on time 46\n",
      "Working on time 47\n",
      "Working on time 48\n",
      "Working on time 49\n",
      "Working on time 50\n",
      "Working on time 51\n",
      "Working on time 52\n",
      "Working on time 53\n",
      "Working on time 54\n",
      "Working on time 55\n",
      "Working on time 56\n",
      "Working on time 57\n",
      "Working on time 58\n",
      "Working on time 59\n",
      "Working on time 60\n",
      "Working on time 61\n",
      "Working on time 62\n",
      "Working on time 63\n",
      "Working on time 64\n"
     ]
    }
   ],
   "source": [
    "M2, _ = dsd.calc_moment_bin(ND_resampled, moment=2)\n",
    "M3, _ = dsd.calc_moment_bin(ND_resampled, moment=3)\n",
    "M4, _ = dsd.calc_moment_bin(ND_resampled, moment=4)\n",
    "M6, _ = dsd.calc_moment_bin(ND_resampled, moment=6)\n",
    "\n",
    "DSD_MM24 = dsd.fit_DSD_MM24(M2, M4)\n",
    "DSD_MM36 = dsd.fit_DSD_MM36(M3, M6)\n",
    "DSD_MM346 = dsd.fit_DSD_MM346(M3, M4, M6)\n",
    "DSD_MM246 = dsd.fit_DSD_MM246(M2, M4, M6)\n",
    "DSD_MM234 = dsd.fit_DSD_MM234(M2, M3, M4)\n",
    "\n",
    "D_min, D_max = dsd.get_max_min_diameters(ND_resampled)\n",
    "print(D_max)\n",
    "\n",
    "DSD_TMM246 = dsd.fit_DSD_TMM_xr(M2, M4, M6, D_min, D_max)"
   ]
  },
  {
   "cell_type": "code",
   "execution_count": 214,
   "metadata": {
    "ExecuteTime": {
     "end_time": "2020-01-24T22:54:09.086095Z",
     "start_time": "2020-01-24T22:54:09.009100Z"
    },
    "scrolled": true
   },
   "outputs": [
    {
     "name": "stdout",
     "output_type": "stream",
     "text": [
      "<xarray.DataArray 'diameter' (diameter_bin: 32)>\n",
      "array([6.2500e-05, 1.8750e-04, 3.1250e-04, 4.3750e-04, 5.6250e-04,\n",
      "       6.8750e-04, 8.1250e-04, 9.3750e-04, 1.0625e-03, 1.1875e-03,\n",
      "       1.3750e-03, 1.6250e-03, 1.8750e-03, 2.1250e-03, 2.3750e-03,\n",
      "       2.7500e-03, 3.2500e-03, 3.7500e-03, 4.2500e-03, 4.7500e-03,\n",
      "       5.5000e-03, 6.5000e-03, 7.5000e-03, 8.5000e-03, 9.5000e-03,\n",
      "       1.1000e-02, 1.3000e-02, 1.5000e-02, 1.7000e-02, 1.9000e-02,\n",
      "       2.1500e-02, 2.4500e-02])\n",
      "Coordinates:\n",
      "    diameter      (diameter_bin) float64 0.0625 0.1875 0.3125 ... 19.0 21.5 24.5\n",
      "    min_diameter  (diameter_bin) float64 0.0 0.125 0.25 0.375 ... 18.0 20.0 23.0\n",
      "    max_diameter  (diameter_bin) float64 0.125 0.25 0.375 0.5 ... 20.0 23.0 26.0\n",
      "Dimensions without coordinates: diameter_bin\n",
      "<xarray.DataArray (time_10s: 65)>\n",
      "array([            nan,             nan,             nan,             nan,\n",
      "                   nan,             nan,             nan,             nan,\n",
      "                   nan,             nan,             nan,             nan,\n",
      "                   nan,             nan,             nan,             nan,\n",
      "       5.22955048e+043, 1.12097293e+004, 3.95928573e+006, 6.83706612e+010,\n",
      "       3.05254377e+008, 1.30556237e+009, 2.86546810e+005, 1.81946479e+006,\n",
      "       1.06003822e+007, 3.23011321e+005, 1.78105437e+010, 1.18738639e+007,\n",
      "       8.69527785e+007, 4.83190285e+008, 4.36846902e+011, 4.56295498e+011,\n",
      "       9.41159678e+008, 7.67714287e+008, 1.42670668e+006,             nan,\n",
      "                   nan, 2.47046830e+008, 2.67033103e+012, 7.54061498e+016,\n",
      "       6.00278318e+006, 5.72164362e+006, 8.14259743e+009, 1.91578442e+021,\n",
      "       4.77637275e+016, 1.77396235e+030, 5.80884821e+048, 1.45678480e+055,\n",
      "       2.07982433e+010, 2.10048870e+017, 3.06939300e+032, 1.44530816e+028,\n",
      "       3.18878781e+040, 5.63562003e+040, 6.14309281e+080, 1.07756892e+009,\n",
      "       4.20723147e+152,             inf, 2.71755040e+171,             nan,\n",
      "       0.00000000e+000,             nan,             nan,             nan,\n",
      "                   nan])\n",
      "Coordinates:\n",
      "  * time_10s  (time_10s) datetime64[ns] 2016-03-31T22:11:53 ... 2016-03-31T23:15:53\n",
      "<xarray.DataArray (time_10s: 65)>\n",
      "array([            nan,             nan,  1.20095990e+16,             nan,\n",
      "                   nan,             nan,             nan,             nan,\n",
      "                   nan,             nan,             nan,             nan,\n",
      "                   nan,             nan,             nan,             nan,\n",
      "        1.06326152e+01, -8.88516359e-01, -1.37046132e-01,  1.09795778e+00,\n",
      "        4.73140353e-01,  6.47260541e-01, -4.91050431e-01, -2.28918755e-01,\n",
      "       -5.38540925e-02, -4.00972982e-01,  1.07351026e+00,  1.25201419e-01,\n",
      "        3.56700893e-01,  5.20738590e-01,  1.42243720e+00,  1.46771992e+00,\n",
      "        6.13801776e-01,  5.98785552e-01, -2.53962893e-01,             nan,\n",
      "                   nan,  4.68525149e-01,  1.65629259e+00,  2.83857079e+00,\n",
      "       -9.09879051e-02, -3.05711334e-02,  9.08108069e-01,  4.22454576e+00,\n",
      "        2.89450302e+00,  6.81706549e+00,  1.18147314e+01,  1.34724785e+01,\n",
      "        1.06137403e+00,  3.12209690e+00,  7.47426623e+00,  6.18179596e+00,\n",
      "        9.65038785e+00,  1.01112877e+01,  2.06737425e+01,  9.96264710e-01,\n",
      "        3.97442923e+01,  5.97530056e+01,  4.50756045e+01,             nan,\n",
      "       -1.80143985e+16,             nan,             nan,             nan,\n",
      "                   nan])\n",
      "Coordinates:\n",
      "  * time_10s  (time_10s) datetime64[ns] 2016-03-31T22:11:53 ... 2016-03-31T23:15:53\n",
      "<xarray.DataArray (time_10s: 65)>\n",
      "array([           nan,            nan, 3.84307168e+19,            nan,\n",
      "                  nan,            nan,            nan,            nan,\n",
      "                  nan,            nan,            nan,            nan,\n",
      "                  nan,            nan,            nan,            nan,\n",
      "       1.50841901e+04, 1.64440151e+03, 1.75636728e+03, 2.85238890e+03,\n",
      "       1.86287495e+03, 1.89061348e+03, 1.29104075e+03, 1.73290079e+03,\n",
      "       2.53126208e+03, 1.72798541e+03, 2.54064732e+03, 1.60118756e+03,\n",
      "       1.70152147e+03, 1.91688408e+03, 2.45059360e+03, 2.24520850e+03,\n",
      "       1.93688054e+03, 1.63642188e+03, 1.31923201e+03,            nan,\n",
      "                  nan, 1.65673143e+03, 2.50582191e+03, 4.55989915e+03,\n",
      "       2.19150906e+03, 1.87101591e+03, 2.65993729e+03, 5.94787359e+03,\n",
      "       5.01474284e+03, 9.44505333e+03, 1.85357736e+04, 2.27022889e+04,\n",
      "       5.23872714e+03, 7.06549844e+03, 1.15851633e+04, 1.18247817e+04,\n",
      "       1.68142496e+04, 1.50079374e+04, 3.52524943e+04, 4.71535499e+03,\n",
      "       7.69495617e+04, 1.28498062e+05, 8.39328251e+04,            nan,\n",
      "       3.20255974e+19,            nan,            nan,            nan,\n",
      "                  nan])\n",
      "Coordinates:\n",
      "  * time_10s  (time_10s) datetime64[ns] 2016-03-31T22:11:53 ... 2016-03-31T23:15:53\n"
     ]
    }
   ],
   "source": [
    "# ND_MM24 = dsd.calc_binned_DSD_from_params(*DSD_MM24, ND_resampled['diameter'])\n",
    "# ND_MM36 = dsd.calc_binned_DSD_from_params(*DSD_MM36, ND_resampled['diameter'])\n",
    "# ND_MM234 = dsd.calc_binned_DSD_from_params(*DSD_MM234, ND_resampled['diameter'])\n",
    "ND_MM246 = dsd.calc_binned_DSD_from_params(*DSD_MM246, ND_resampled['diameter'])\n",
    "# ND_MM346 = dsd.calc_binned_DSD_from_params(*DSD_MM346, ND_resampled['diameter'])\n",
    "# ND_TMM246 = dsd.calc_binned_DSD_from_params(*DSD_TMM246, ND_resampled['diameter'])"
   ]
  },
  {
   "cell_type": "code",
   "execution_count": 215,
   "metadata": {
    "ExecuteTime": {
     "end_time": "2020-01-24T22:54:12.015294Z",
     "start_time": "2020-01-24T22:54:11.937109Z"
    },
    "scrolled": true
   },
   "outputs": [
    {
     "name": "stdout",
     "output_type": "stream",
     "text": [
      "<xarray.DataArray 'diameter' (diameter_bin: 32)>\n",
      "array([6.2500e-05, 1.8750e-04, 3.1250e-04, 4.3750e-04, 5.6250e-04,\n",
      "       6.8750e-04, 8.1250e-04, 9.3750e-04, 1.0625e-03, 1.1875e-03,\n",
      "       1.3750e-03, 1.6250e-03, 1.8750e-03, 2.1250e-03, 2.3750e-03,\n",
      "       2.7500e-03, 3.2500e-03, 3.7500e-03, 4.2500e-03, 4.7500e-03,\n",
      "       5.5000e-03, 6.5000e-03, 7.5000e-03, 8.5000e-03, 9.5000e-03,\n",
      "       1.1000e-02, 1.3000e-02, 1.5000e-02, 1.7000e-02, 1.9000e-02,\n",
      "       2.1500e-02, 2.4500e-02])\n",
      "Coordinates:\n",
      "    diameter      (diameter_bin) float64 0.0625 0.1875 0.3125 ... 19.0 21.5 24.5\n",
      "    min_diameter  (diameter_bin) float64 0.0 0.125 0.25 0.375 ... 18.0 20.0 23.0\n",
      "    max_diameter  (diameter_bin) float64 0.125 0.25 0.375 0.5 ... 20.0 23.0 26.0\n",
      "Dimensions without coordinates: diameter_bin\n",
      "<xarray.DataArray (time_10s: 65)>\n",
      "array([            nan,             nan,             nan,             nan,\n",
      "                   nan,             nan,             nan,             nan,\n",
      "                   nan,             nan,             nan,             nan,\n",
      "                   nan,             nan,             nan,             nan,\n",
      "       4.50452769e+036, 7.69129777e+002, 3.62560863e+002, 8.59257455e+008,\n",
      "       5.36505796e+005, 1.30180573e+006, 1.57816536e+004, 3.43359027e+005,\n",
      "       6.14676861e+005, 7.43575053e+003, 3.28153378e+006, 2.34301546e+005,\n",
      "       2.51990714e+006, 1.65427890e+006, 2.30457897e+008, 2.12723112e+009,\n",
      "       1.27628885e+008, 2.60837564e+006, 1.14569918e+003,             nan,\n",
      "                   nan, 2.43943374e+006, 1.28822792e+011, 3.28251418e+014,\n",
      "       1.43838469e+004, 2.09533641e+003, 2.77974399e+007, 2.96092333e+020,\n",
      "       2.96885781e+012, 2.21125302e+019, 2.37763852e+039, 2.37146777e+042,\n",
      "       9.70886301e+003, 1.51649294e+005, 1.08289437e+010, 8.44607397e+014,\n",
      "       2.35347468e+020, 1.15436082e+009, 1.78111778e+047, 3.57860951e-002,\n",
      "       4.73871143e+081, 1.70700619e+108, 4.87392166e+084,             nan,\n",
      "                   nan,             nan,             nan,             nan,\n",
      "                   nan])\n",
      "Coordinates:\n",
      "  * time_10s  (time_10s) datetime64[ns] 2016-03-31T22:11:53 ... 2016-03-31T23:15:53\n",
      "<xarray.DataArray (time_10s: 65)>\n",
      "array([            nan,             nan,  1.20095990e+16,             nan,\n",
      "                   nan,             nan,             nan,             nan,\n",
      "                   nan,             nan,             nan,             nan,\n",
      "                   nan,             nan,             nan,             nan,\n",
      "        8.62261516e+00, -1.22851636e+00, -1.34704613e+00,  5.27957784e-01,\n",
      "       -3.76859647e-01, -2.82739459e-01, -8.81050431e-01, -4.48918755e-01,\n",
      "       -4.13854093e-01, -8.90972982e-01, -5.64897435e-02, -4.04798581e-01,\n",
      "       -1.23299107e-01, -2.39261410e-01,  4.12437205e-01,  7.37719919e-01,\n",
      "        3.43801776e-01, -1.81214448e-01, -1.21396289e+00,             nan,\n",
      "                   nan, -1.61474851e-01,  1.24629259e+00,  2.13857079e+00,\n",
      "       -8.60987905e-01, -1.06057113e+00,  1.68108069e-01,  3.98454576e+00,\n",
      "        1.66450302e+00,  3.67706549e+00,  9.18473141e+00,  9.93247853e+00,\n",
      "       -6.78625973e-01, -2.67903096e-01,  1.14426623e+00,  2.51179596e+00,\n",
      "        4.08038785e+00,  1.20128775e+00,  1.14837425e+01, -1.90373529e+00,\n",
      "        2.06942923e+01,  2.75730056e+01,  2.16956045e+01,             nan,\n",
      "       -1.80143985e+16,             nan,             nan,             nan,\n",
      "                   nan])\n",
      "Coordinates:\n",
      "  * time_10s  (time_10s) datetime64[ns] 2016-03-31T22:11:53 ... 2016-03-31T23:15:53\n",
      "<xarray.DataArray (time_10s: 65)>\n",
      "array([           nan,            nan,            nan,            nan,\n",
      "                  nan,            nan,            nan,            nan,\n",
      "                  nan,            nan,            nan,            nan,\n",
      "                  nan,            nan,            nan,            nan,\n",
      "       12749.6004425 ,  1392.78700717,   971.64420212,  2454.43515326,\n",
      "        1398.67147722,  1395.54300396,  1097.21364144,  1602.76765721,\n",
      "        2231.7843859 ,  1409.27707194,  1808.12315906,  1332.16261645,\n",
      "        1461.3664042 ,  1497.88090134,  1872.48411   ,  1872.75397418,\n",
      "        1796.57638931,  1276.48173041,   842.96190234,            nan,\n",
      "                  nan,  1354.98718884,  2286.46429901,  4003.03811891,\n",
      "        1603.7306283 ,  1197.26024218,  2149.42368644,  5750.80736038,\n",
      "        3925.60311898,  6184.12690651, 15060.47097686, 17519.00256206,\n",
      "        2814.21795284,  2657.48596361,  3635.36091716,  6657.55387108,\n",
      "        8670.88392679,  3330.20984938, 20430.20770541,   665.88315268,\n",
      "       40051.204303  , 57897.48799574, 39987.93109978,            nan,\n",
      "                  nan,            nan,            nan,            nan,\n",
      "                  nan])\n",
      "Coordinates:\n",
      "  * time_10s  (time_10s) datetime64[ns] 2016-03-31T22:11:53 ... 2016-03-31T23:15:53\n"
     ]
    }
   ],
   "source": [
    "ND_TMM246 = dsd.calc_binned_DSD_from_params(*DSD_TMM246, ND_resampled['diameter'])"
   ]
  },
  {
   "cell_type": "code",
   "execution_count": 216,
   "metadata": {
    "ExecuteTime": {
     "end_time": "2020-01-24T22:54:25.995454Z",
     "start_time": "2020-01-24T22:54:25.922452Z"
    },
    "code_folding": []
   },
   "outputs": [
    {
     "name": "stdout",
     "output_type": "stream",
     "text": [
      "<xarray.DataArray ()>\n",
      "array(536505.79616624)\n",
      "Coordinates:\n",
      "    time_10s  datetime64[ns] 2016-03-31T22:31:53\n"
     ]
    }
   ],
   "source": [
    "# Test plotting of individual DSD\n",
    "time_to_plot = '2016-03-31T22:31:53'\n",
    "\n",
    "axdict = {\n",
    "    'xbin_left': ND_resampled['min_diameter'],\n",
    "    'xbin_mid': ND_resampled['diameter'], \n",
    "    'xbin_right': ND_resampled['max_diameter'],\n",
    "    'xlim': (0.0, 9.0), \n",
    "    'ylim': (10.**2., 10.**8.5), \n",
    "    'interval': int(resample_interval),\n",
    "    'dis_name': 'PIPS_1A'\n",
    "}\n",
    "\n",
    "#print(ND_resampled['time_10s'])\n",
    "\n",
    "PSDdict = {\n",
    "    'ND': ND_resampled.loc[time_to_plot]\n",
    "}\n",
    "\n",
    "PSDfitdict = {\n",
    "    #'Exponential_24': (ND_MM24.loc[time_to_plot], 'Exp fit (MM24)'),\n",
    "    #'Exponential_36': (ND_MM36.loc[time_to_plot], 'Exp fit (MM36)'),\n",
    "    #'Gamma_234': (ND_MM234.loc[time_to_plot], 'Gamma fit (MM234)'),\n",
    "    'Gamma_246': (ND_MM246.loc[time_to_plot], 'Gamma fit (MM246)'),\n",
    "    #'Gamma_346': (ND_MM346.loc[time_to_plot], 'Gamma fit (MM346)')\n",
    "    'TruncGamma_246': (ND_TMM246.loc[time_to_plot], 'Truncated Gamma fit (TMM246)'),\n",
    "}\n",
    "\n",
    "time_to_plot_datetime = pd.to_datetime(time_to_plot).to_pydatetime()\n",
    "\n",
    "print(DSD_TMM246[0].loc[time_to_plot])"
   ]
  },
  {
   "cell_type": "code",
   "execution_count": 217,
   "metadata": {
    "ExecuteTime": {
     "end_time": "2020-01-24T22:54:29.829009Z",
     "start_time": "2020-01-24T22:54:28.762700Z"
    }
   },
   "outputs": [
    {
     "data": {
      "text/plain": [
       "Text(0, 0.5, 'N(D) $(m^{-4})$')"
      ]
     },
     "execution_count": 217,
     "metadata": {},
     "output_type": "execute_result"
    },
    {
     "data": {
      "image/png": "[encoded data removed]",
      "text/plain": [
       "<Figure size 576x432 with 1 Axes>"
      ]
     },
     "metadata": {
      "needs_background": "light"
     },
     "output_type": "display_data"
    }
   ],
   "source": [
    "import pyPIPS.timemodule as tm\n",
    "xbin_left = axdict.get('xbin_left', np.empty((0)))\n",
    "xbin_right = axdict.get('xbin_right', np.empty((0)))\n",
    "xbin_mid = axdict.get('xbin_mid', np.empty((0)))\n",
    "ND = PSDdict.get('ND', np.empty((0)))\n",
    "# ND_onedrop = PSDdict.get('ND_onedrop', N.empty((0)))\n",
    "interval = axdict.get('interval', 10)\n",
    "dis_name = axdict.get('dis_name', None)\n",
    "\n",
    "fig1 = plt.figure(figsize=(8, 6))\n",
    "ax1 = fig1.add_subplot(111)\n",
    "plt.title('{0:d}-s DSD fits for time {1} EST'.format(interval, time_to_plot_datetime.strftime(tm.timefmt2)))\n",
    "ax1.bar(xbin_left, ND * 1000.0, xbin_right - xbin_left, 10.**2., align='edge', log=True, color='tan', \n",
    "        edgecolor='k')\n",
    "\n",
    "for fitname, ND_tuple in PSDfitdict.items():\n",
    "    if ((fitname == 'Dis Retr') | (fitname == 'Rad Retr')):\n",
    "        ND_fit = ND_tuple[0] * 1000.\n",
    "    else:\n",
    "        ND_fit = ND_tuple[0]\n",
    "#         print ND_fit\n",
    "    label = ND_tuple[1]\n",
    "    if(ND_fit.size):\n",
    "        ax1.plot(xbin_mid, ND_fit, lw=2, label=label)\n",
    "\n",
    "plt.legend(loc='upper left', numpoints=1, ncol=1, fontsize=8)\n",
    "        \n",
    "ax1.set_yscale('log')\n",
    "ax1.set_ylim(10.**2.0, 10.**8.5)\n",
    "ax1.set_xlim(0.0, 9.0)\n",
    "ax1.set_xlabel('D (mm)')\n",
    "ax1.set_ylabel(r'N(D) $(m^{-4})$')\n"
   ]
  },
  {
   "cell_type": "code",
   "execution_count": 237,
   "metadata": {
    "ExecuteTime": {
     "end_time": "2020-01-24T23:37:53.152209Z",
     "start_time": "2020-01-24T23:37:53.074211Z"
    },
    "scrolled": false
   },
   "outputs": [
    {
     "name": "stdout",
     "output_type": "stream",
     "text": [
      "<xarray.Dataset>\n",
      "Dimensions:    (parameter: 2, time_10s: 65)\n",
      "Coordinates:\n",
      "  * time_10s   (time_10s) datetime64[ns] 2016-03-31T22:11:53 ... 2016-03-31T23:15:53\n",
      "  * parameter  (parameter) object 'N0' 'lamda'\n",
      "Data variables:\n",
      "    DSD_MM24   (parameter, time_10s) float64 nan nan 1.876e+05 ... nan nan nan\n",
      "    DSD_MM36   (parameter, time_10s) float64 nan nan 8.904e+05 ... nan nan nan\n"
     ]
    }
   ],
   "source": [
    "# Test merging of fit DataArrays to a Dataset\n",
    "\n",
    "#print(DSD_MM24[0])\n",
    "\n",
    "DSD_MM24[0].name = 'N0'\n",
    "DSD_MM24[1].name = 'lamda'\n",
    "# DSD_MM24[2].name = 'alpha'\n",
    "\n",
    "DSD_MM24_da = xr.concat(DSD_MM24[:2], pd.Index(['N0', 'lamda'], name='parameter'))\n",
    "DSD_MM24_da.name = 'DSD_MM24'\n",
    "#print(DSD_MM24_da)\n",
    "\n",
    "# DSD_MM24_ds = xr.merge(DSD_MM24[:2])\n",
    "\n",
    "DSD_MM36[0].name = 'N0'\n",
    "DSD_MM36[1].name = 'lamda'\n",
    "DSD_MM36_da = xr.concat(DSD_MM36[:2], pd.Index(['N0', 'lamda'], name='parameter'))\n",
    "DSD_MM36_da.name = 'DSD_MM36'\n",
    "#print(DSD_MM36_da)\n",
    "\n",
    "# DSD_MM36_ds = xr.merge(DSD_MM36[:2])\n",
    "\n",
    "# fits_ds = xr.concat([DSD_MM24_da, DSD_MM36_da], dim='fit')\n",
    "\n",
    "names = ['DSD_MM24', 'DSD_MM36']\n",
    "data_arrays = [DSD_MM24_da, DSD_MM36_da]\n",
    "\n",
    "fits_ds = xr.Dataset({name: da for name, da in zip(names, data_arrays)})\n",
    "print(fits_ds)\n",
    "\n",
    "# fits_ds = xr.merge([DSD_MM24, DSD_MM36, DSD_MM234, DSD_MM246, DSD_MM346, DSD_TMM246])\n",
    "# print(fits_ds)\n"
   ]
  },
  {
   "cell_type": "code",
   "execution_count": null,
   "metadata": {
    "scrolled": false
   },
   "outputs": [],
   "source": [
    "\n"
   ]
  },
  {
   "cell_type": "code",
   "execution_count": null,
   "metadata": {
    "scrolled": false
   },
   "outputs": [],
   "source": [
    "\n"
   ]
  },
  {
   "cell_type": "code",
   "execution_count": null,
   "metadata": {
    "scrolled": false
   },
   "outputs": [],
   "source": [
    "\n"
   ]
  },
  {
   "cell_type": "code",
   "execution_count": null,
   "metadata": {},
   "outputs": [],
   "source": []
  }
 ],
 "metadata": {
  "anaconda-cloud": {},
  "hide_input": false,
  "kernelspec": {
   "display_name": "Python [conda env:pyPIPS]",
   "language": "python",
   "name": "conda-env-pyPIPS-py"
  },
  "language_info": {
   "codemirror_mode": {
    "name": "ipython",
    "version": 3
   },
   "file_extension": ".py",
   "mimetype": "text/x-python",
   "name": "python",
   "nbconvert_exporter": "python",
   "pygments_lexer": "ipython3",
   "version": "3.7.3"
  },
  "toc": {
   "base_numbering": 1,
   "nav_menu": {},
   "number_sections": true,
   "sideBar": true,
   "skip_h1_title": false,
   "title_cell": "Table of Contents",
   "title_sidebar": "Contents",
   "toc_cell": false,
   "toc_position": {},
   "toc_section_display": true,
   "toc_window_display": false
  },
  "varInspector": {
   "cols": {
    "lenName": 16,
    "lenType": 16,
    "lenVar": 40
   },
   "kernels_config": {
    "python": {
     "delete_cmd_postfix": "",
     "delete_cmd_prefix": "del ",
     "library": "var_list.py",
     "varRefreshCmd": "print(var_dic_list())"
    },
    "r": {
     "delete_cmd_postfix": ") ",
     "delete_cmd_prefix": "rm(",
     "library": "var_list.r",
     "varRefreshCmd": "cat(var_dic_list()) "
    }
   },
   "types_to_exclude": [
    "module",
    "function",
    "builtin_function_or_method",
    "instance",
    "_Feature"
   ],
   "window_display": false
  }
 },
 "nbformat": 4,
 "nbformat_minor": 2
}
