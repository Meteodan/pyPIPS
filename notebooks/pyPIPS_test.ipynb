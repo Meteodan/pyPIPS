{
 "cells": [
  {
   "cell_type": "markdown",
   "metadata": {},
   "source": [
    "# A testing ground for pyPIPS functionality"
   ]
  },
  {
   "cell_type": "code",
   "execution_count": 1,
   "metadata": {
    "ExecuteTime": {
     "end_time": "2020-02-14T15:28:07.516917Z",
     "start_time": "2020-02-14T15:28:04.260609Z"
    }
   },
   "outputs": [
    {
     "name": "stdout",
     "output_type": "stream",
     "text": [
      "\n",
      "## You are using the Python ARM Radar Toolkit (Py-ART), an open source\n",
      "## library for working with weather radar data. Py-ART is partly\n",
      "## supported by the U.S. Department of Energy as part of the Atmospheric\n",
      "## Radiation Measurement (ARM) Climate Research Facility, an Office of\n",
      "## Science user facility.\n",
      "##\n",
      "## If you use this software to prepare a publication, please cite:\n",
      "##\n",
      "##     JJ Helmus and SM Collis, JORS 2016, doi: 10.5334/jors.119\n",
      "\n"
     ]
    },
    {
     "name": "stderr",
     "output_type": "stream",
     "text": [
      "/Users/dawson29/miniconda3/envs/pyPIPS/lib/python3.7/site-packages/pyart/graph/cm.py:104: FutureWarning: elementwise comparison failed; returning scalar instead, but in the future will perform elementwise comparison\n",
      "  if 'red' in spec:\n",
      "/Users/dawson29/miniconda3/envs/pyPIPS/lib/python3.7/site-packages/pyart/graph/cm_colorblind.py:32: FutureWarning: elementwise comparison failed; returning scalar instead, but in the future will perform elementwise comparison\n",
      "  if 'red' in spec:\n"
     ]
    }
   ],
   "source": [
    "%load_ext autoreload\n",
    "%autoreload 2\n",
    "import numpy as np\n",
    "import numpy.ma as ma\n",
    "import matplotlib\n",
    "import matplotlib.pyplot as plt\n",
    "import matplotlib.cm as cm\n",
    "import matplotlib.ticker as ticker\n",
    "import matplotlib.dates as dates\n",
    "from mpl_toolkits.axes_grid1 import ImageGrid,make_axes_locatable,host_subplot\n",
    "from mpl_toolkits.basemap import Basemap\n",
    "from datetime import datetime, timedelta\n",
    "import sys\n",
    "import os\n",
    "import pyPIPS.utils as utils\n",
    "import pyPIPS.thermolib as thermo\n",
    "import pyPIPS.DSDlib as dsd\n",
    "#import pyPIPS.disdrometer_module as dis\n",
    "import pyPIPS.plotmodule as PIPSplot\n",
    "import pyPIPS.simulator as sim\n",
    "import pyPIPS.pips_io as pipsio\n",
    "import pyPIPS.PIPS as pips\n",
    "import pyPIPS.parsivel_params as pp\n",
    "import pyPIPS.parsivel_qc as pqc\n",
    "from pyCRMtools.modules import plotmodule as plotmod\n",
    "from pyCRMtools.modules import utils as CRMutils\n",
    "from pyCRMtools.pycaps import arps_read\n",
    "from pyCRMtools.pycaps import pycaps_fields\n",
    "from pyCRMtools.pycaps import calvars_radar as radar\n",
    "import pandas as pd\n",
    "import xarray as xr\n",
    "import glob\n",
    "import numpy.random as random\n",
    "from scipy.stats import gamma, uniform\n",
    "from scipy.special import gamma as gammafunc\n",
    "from scipy import ndimage\n",
    "from metpy.plots import StationPlot\n",
    "from metpy.calc import wind_components\n",
    "from metpy.cbook import get_test_data\n",
    "from metpy.plots import StationPlot\n",
    "from metpy.plots.wx_symbols import current_weather, sky_cover\n",
    "from metpy.units import units\n",
    "%matplotlib inline"
   ]
  },
  {
   "cell_type": "code",
   "execution_count": 2,
   "metadata": {
    "ExecuteTime": {
     "end_time": "2020-02-14T15:30:52.243986Z",
     "start_time": "2020-02-14T15:30:52.050431Z"
    }
   },
   "outputs": [
    {
     "name": "stdout",
     "output_type": "stream",
     "text": [
      "['/Users/dawson29/sshfs_mounts/depot/data/Projects/VORTEXSE/obsdata/2017/PIPS/PIPS2A_FMCW/PIPS2A_FMCW_040517.txt', '/Users/dawson29/sshfs_mounts/depot/data/Projects/VORTEXSE/obsdata/2017/PIPS/PIPS2A_FMCW/PIPS2A_FMCW_050117.txt', '/Users/dawson29/sshfs_mounts/depot/data/Projects/VORTEXSE/obsdata/2017/PIPS/PIPS2A_FMCW/PIPS2A_FMCW_040717.txt', '/Users/dawson29/sshfs_mounts/depot/data/Projects/VORTEXSE/obsdata/2017/PIPS/PIPS2A_FMCW/PIPS2A_FMCW_041317.txt', '/Users/dawson29/sshfs_mounts/depot/data/Projects/VORTEXSE/obsdata/2017/PIPS/PIPS2A_FMCW/PIPS2A_FMCW_043017.txt', '/Users/dawson29/sshfs_mounts/depot/data/Projects/VORTEXSE/obsdata/2017/PIPS/PIPS2A_FMCW/PIPS2A_FMCW_040817.txt', '/Users/dawson29/sshfs_mounts/depot/data/Projects/VORTEXSE/obsdata/2017/PIPS/PIPS2A_FMCW/PIPS2A_FMCW_041217.txt', '/Users/dawson29/sshfs_mounts/depot/data/Projects/VORTEXSE/obsdata/2017/PIPS/PIPS2A_FMCW/PIPS2A_FMCW_041717.txt', '/Users/dawson29/sshfs_mounts/depot/data/Projects/VORTEXSE/obsdata/2017/PIPS/PIPS2A_FMCW/PIPS2A_FMCW_032417.txt', '/Users/dawson29/sshfs_mounts/depot/data/Projects/VORTEXSE/obsdata/2017/PIPS/PIPS2A_FMCW/PIPS2A_FMCW_032617.txt', '/Users/dawson29/sshfs_mounts/depot/data/Projects/VORTEXSE/obsdata/2017/PIPS/PIPS2A_FMCW/PIPS2A_FMCW_041417.txt', '/Users/dawson29/sshfs_mounts/depot/data/Projects/VORTEXSE/obsdata/2017/PIPS/PIPS2A_FMCW/PIPS2A_FMCW_041117.txt', '/Users/dawson29/sshfs_mounts/depot/data/Projects/VORTEXSE/obsdata/2017/PIPS/PIPS2A_FMCW/PIPS2A_FMCW_032917.txt', '/Users/dawson29/sshfs_mounts/depot/data/Projects/VORTEXSE/obsdata/2017/PIPS/PIPS2A_FMCW/PIPS2A_FMCW_032517.txt', '/Users/dawson29/sshfs_mounts/depot/data/Projects/VORTEXSE/obsdata/2017/PIPS/PIPS2A_FMCW/PIPS2A_FMCW_042317.txt', '/Users/dawson29/sshfs_mounts/depot/data/Projects/VORTEXSE/obsdata/2017/PIPS/PIPS2A_FMCW/PIPS2A_FMCW_040617.txt', '/Users/dawson29/sshfs_mounts/depot/data/Projects/VORTEXSE/obsdata/2017/PIPS/PIPS2A_FMCW/PIPS2A_FMCW_040317.txt', '/Users/dawson29/sshfs_mounts/depot/data/Projects/VORTEXSE/obsdata/2017/PIPS/PIPS2A_FMCW/PIPS2A_FMCW_041917.txt', '/Users/dawson29/sshfs_mounts/depot/data/Projects/VORTEXSE/obsdata/2017/PIPS/PIPS2A_FMCW/PIPS2A_FMCW_042717.txt', '/Users/dawson29/sshfs_mounts/depot/data/Projects/VORTEXSE/obsdata/2017/PIPS/PIPS2A_FMCW/PIPS2A_FMCW_042117.txt', '/Users/dawson29/sshfs_mounts/depot/data/Projects/VORTEXSE/obsdata/2017/PIPS/PIPS2A_FMCW/PIPS2A_FMCW_040217.txt', '/Users/dawson29/sshfs_mounts/depot/data/Projects/VORTEXSE/obsdata/2017/PIPS/PIPS2A_FMCW/PIPS2A_FMCW_041617.txt', '/Users/dawson29/sshfs_mounts/depot/data/Projects/VORTEXSE/obsdata/2017/PIPS/PIPS2A_FMCW/PIPS2A_FMCW_042517.txt', '/Users/dawson29/sshfs_mounts/depot/data/Projects/VORTEXSE/obsdata/2017/PIPS/PIPS2A_FMCW/PIPS2A_FMCW_033017.txt', '/Users/dawson29/sshfs_mounts/depot/data/Projects/VORTEXSE/obsdata/2017/PIPS/PIPS2A_FMCW/PIPS2A_FMCW_042617.txt', '/Users/dawson29/sshfs_mounts/depot/data/Projects/VORTEXSE/obsdata/2017/PIPS/PIPS2A_FMCW/PIPS2A_FMCW_041017.txt', '/Users/dawson29/sshfs_mounts/depot/data/Projects/VORTEXSE/obsdata/2017/PIPS/PIPS2A_FMCW/PIPS2A_FMCW_032817.txt', '/Users/dawson29/sshfs_mounts/depot/data/Projects/VORTEXSE/obsdata/2017/PIPS/PIPS2A_FMCW/PIPS2A_FMCW_040417.txt', '/Users/dawson29/sshfs_mounts/depot/data/Projects/VORTEXSE/obsdata/2017/PIPS/PIPS2A_FMCW/PIPS2A_FMCW_033117.txt', '/Users/dawson29/sshfs_mounts/depot/data/Projects/VORTEXSE/obsdata/2017/PIPS/PIPS2A_FMCW/PIPS2A_FMCW_032717.txt', '/Users/dawson29/sshfs_mounts/depot/data/Projects/VORTEXSE/obsdata/2017/PIPS/PIPS2A_FMCW/PIPS2A_FMCW_042417.txt', '/Users/dawson29/sshfs_mounts/depot/data/Projects/VORTEXSE/obsdata/2017/PIPS/PIPS2A_FMCW/PIPS2A_FMCW_041517.txt', '/Users/dawson29/sshfs_mounts/depot/data/Projects/VORTEXSE/obsdata/2017/PIPS/PIPS2A_FMCW/PIPS2A_FMCW_040917.txt', '/Users/dawson29/sshfs_mounts/depot/data/Projects/VORTEXSE/obsdata/2017/PIPS/PIPS2A_FMCW/PIPS2A_FMCW_040117.txt', '/Users/dawson29/sshfs_mounts/depot/data/Projects/VORTEXSE/obsdata/2017/PIPS/PIPS2A_FMCW/PIPS2A_FMCW_042217.txt', '/Users/dawson29/sshfs_mounts/depot/data/Projects/VORTEXSE/obsdata/2017/PIPS/PIPS2A_FMCW/PIPS2A_FMCW_041817.txt', '/Users/dawson29/sshfs_mounts/depot/data/Projects/VORTEXSE/obsdata/2017/PIPS/PIPS2A_FMCW/PIPS2A_FMCW_042017.txt', '/Users/dawson29/sshfs_mounts/depot/data/Projects/VORTEXSE/obsdata/2017/PIPS/PIPS2A_FMCW/PIPS2A_FMCW_042817.txt', '/Users/dawson29/sshfs_mounts/depot/data/Projects/VORTEXSE/obsdata/2017/PIPS/PIPS2A_FMCW/PIPS2A_FMCW_042917.txt']\n",
      "39\n"
     ]
    }
   ],
   "source": [
    "PIPS_dir = '/Users/dawson29/sshfs_mounts/depot/data/Projects/VORTEXSE/obsdata/2017/PIPS/PIPS2A_FMCW'\n",
    "\n",
    "filelist = glob.glob(PIPS_dir + '/PIPS2A_FMCW_0*txt')\n",
    "print(filelist)\n",
    "print(len(filelist))"
   ]
  },
  {
   "cell_type": "code",
   "execution_count": 4,
   "metadata": {
    "ExecuteTime": {
     "end_time": "2020-02-14T15:49:42.717288Z",
     "start_time": "2020-02-14T15:38:55.134072Z"
    }
   },
   "outputs": [
    {
     "name": "stdout",
     "output_type": "stream",
     "text": [
      "Reading PIPS2A_FMCW_040517.txt\n",
      "GPS time: Wed Apr  5 00:00:03 2017, Logger time: Wed Apr  5 00:00:01 2017\n",
      "GPS Offset: 0:00:02\n",
      "Max reflectivity is 43.17\n",
      "PIPS2A_FMCW_040517.txt is a rainy day\n",
      "Reading PIPS2A_FMCW_050117.txt\n",
      "GPS time: Mon May  1 00:00:04 2017, Logger time: Mon May  1 00:00:01 2017\n",
      "GPS Offset: 0:00:03\n",
      "Max reflectivity is 53.25\n",
      "PIPS2A_FMCW_050117.txt is a rainy day\n",
      "Reading PIPS2A_FMCW_040717.txt\n",
      "GPS time: Fri Apr  7 00:00:03 2017, Logger time: Fri Apr  7 00:00:01 2017\n",
      "GPS Offset: 0:00:02\n",
      "Max reflectivity is -10.00\n",
      "SKIPPING NON-RAIN DAY\n",
      "Reading PIPS2A_FMCW_041317.txt\n",
      "GPS time: Thu Apr 13 00:00:03 2017, Logger time: Thu Apr 13 00:00:01 2017\n",
      "GPS Offset: 0:00:02\n",
      "Max reflectivity is -10.00\n",
      "SKIPPING NON-RAIN DAY\n",
      "Reading PIPS2A_FMCW_043017.txt\n",
      "GPS time: Sun Apr 30 00:00:04 2017, Logger time: Sun Apr 30 00:00:01 2017\n",
      "GPS Offset: 0:00:03\n",
      "Max reflectivity is 52.90\n",
      "PIPS2A_FMCW_043017.txt is a rainy day\n",
      "Reading PIPS2A_FMCW_040817.txt\n",
      "GPS time: Sat Apr  8 00:00:03 2017, Logger time: Sat Apr  8 00:00:01 2017\n",
      "GPS Offset: 0:00:02\n",
      "Max reflectivity is 7.00\n",
      "SKIPPING NON-RAIN DAY\n",
      "Reading PIPS2A_FMCW_041217.txt\n",
      "GPS time: Wed Apr 12 00:00:03 2017, Logger time: Wed Apr 12 00:00:01 2017\n",
      "GPS Offset: 0:00:02\n",
      "Max reflectivity is 52.58\n",
      "PIPS2A_FMCW_041217.txt is a rainy day\n",
      "Reading PIPS2A_FMCW_041717.txt\n",
      "GPS time: Mon Apr 17 00:00:03 2017, Logger time: Mon Apr 17 00:00:01 2017\n",
      "GPS Offset: 0:00:02\n",
      "Max reflectivity is 44.47\n",
      "PIPS2A_FMCW_041717.txt is a rainy day\n",
      "Reading PIPS2A_FMCW_032417.txt\n",
      "GPS time: Fri Mar 24 16:58:08 2017, Logger time: Fri Mar 24 16:58:08 2017\n",
      "GPS Offset: 0:00:00\n",
      "Max reflectivity is -10.00\n",
      "SKIPPING NON-RAIN DAY\n",
      "Reading PIPS2A_FMCW_032617.txt\n",
      "GPS time: Sun Mar 26 00:00:00 2017, Logger time: Sun Mar 26 00:00:00 2017\n",
      "GPS Offset: 0:00:00\n",
      "Max reflectivity is 49.75\n",
      "PIPS2A_FMCW_032617.txt is a rainy day\n",
      "Reading PIPS2A_FMCW_041417.txt\n",
      "GPS time: Fri Apr 14 00:00:03 2017, Logger time: Fri Apr 14 00:00:01 2017\n",
      "GPS Offset: 0:00:02\n",
      "Max reflectivity is 27.91\n",
      "PIPS2A_FMCW_041417.txt is a rainy day\n",
      "Reading PIPS2A_FMCW_041117.txt\n",
      "GPS time: Tue Apr 11 00:00:03 2017, Logger time: Tue Apr 11 00:00:01 2017\n",
      "GPS Offset: 0:00:02\n",
      "Max reflectivity is 25.78\n",
      "PIPS2A_FMCW_041117.txt is a rainy day\n",
      "Reading PIPS2A_FMCW_032917.txt\n",
      "GPS time: Wed Mar 29 00:00:00 2017, Logger time: Wed Mar 29 00:00:00 2017\n",
      "GPS Offset: 0:00:00\n",
      "Max reflectivity is 47.20\n",
      "PIPS2A_FMCW_032917.txt is a rainy day\n",
      "Reading PIPS2A_FMCW_032517.txt\n",
      "GPS time: Sat Mar 25 00:00:00 2017, Logger time: Sat Mar 25 00:00:00 2017\n",
      "GPS Offset: 0:00:00\n",
      "Max reflectivity is 47.22\n",
      "PIPS2A_FMCW_032517.txt is a rainy day\n",
      "Reading PIPS2A_FMCW_042317.txt\n",
      "GPS time: Sun Apr 23 23:20:50 2017, Logger time: Sun Apr 23 23:20:47 2017\n",
      "GPS Offset: 0:00:03\n",
      "Max reflectivity is 56.32\n",
      "PIPS2A_FMCW_042317.txt is a rainy day\n",
      "Reading PIPS2A_FMCW_040617.txt\n",
      "GPS time: Thu Apr  6 00:00:03 2017, Logger time: Thu Apr  6 00:00:01 2017\n",
      "GPS Offset: 0:00:02\n",
      "Max reflectivity is 35.50\n",
      "PIPS2A_FMCW_040617.txt is a rainy day\n",
      "Reading PIPS2A_FMCW_040317.txt\n",
      "GPS time: Mon Apr  3 00:00:03 2017, Logger time: Mon Apr  3 00:00:01 2017\n",
      "GPS Offset: 0:00:02\n",
      "Max reflectivity is 48.41\n",
      "PIPS2A_FMCW_040317.txt is a rainy day\n",
      "Reading PIPS2A_FMCW_041917.txt\n",
      "GPS time: Wed Apr 19 00:00:03 2017, Logger time: Wed Apr 19 00:00:01 2017\n",
      "GPS Offset: 0:00:02\n",
      "Max reflectivity is 18.68\n",
      "SKIPPING NON-RAIN DAY\n",
      "Reading PIPS2A_FMCW_042717.txt\n",
      "GPS time: Thu Apr 27 00:00:04 2017, Logger time: Thu Apr 27 00:00:01 2017\n",
      "GPS Offset: 0:00:03\n",
      "Max reflectivity is 65.38\n",
      "PIPS2A_FMCW_042717.txt is a rainy day\n",
      "Reading PIPS2A_FMCW_042117.txt\n",
      "GPS time: Fri Apr 21 00:00:03 2017, Logger time: Fri Apr 21 00:00:01 2017\n",
      "GPS Offset: 0:00:02\n",
      "Max reflectivity is 33.61\n",
      "PIPS2A_FMCW_042117.txt is a rainy day\n",
      "Reading PIPS2A_FMCW_040217.txt\n",
      "GPS time: Sun Apr  2 00:00:03 2017, Logger time: Sun Apr  2 00:00:01 2017\n",
      "GPS Offset: 0:00:02\n",
      "Max reflectivity is 5.39\n",
      "SKIPPING NON-RAIN DAY\n",
      "Reading PIPS2A_FMCW_041617.txt\n",
      "GPS time: Sun Apr 16 00:00:03 2017, Logger time: Sun Apr 16 00:00:01 2017\n",
      "GPS Offset: 0:00:02\n",
      "Max reflectivity is 26.90\n",
      "PIPS2A_FMCW_041617.txt is a rainy day\n",
      "Reading PIPS2A_FMCW_042517.txt\n",
      "GPS time: Tue Apr 25 00:00:04 2017, Logger time: Tue Apr 25 00:00:01 2017\n",
      "GPS Offset: 0:00:03\n",
      "Max reflectivity is -10.00\n",
      "SKIPPING NON-RAIN DAY\n",
      "Reading PIPS2A_FMCW_033017.txt\n",
      "GPS time: Thu Mar 30 00:00:00 2017, Logger time: Thu Mar 30 00:00:00 2017\n",
      "GPS Offset: 0:00:00\n",
      "Max reflectivity is 10.43\n",
      "SKIPPING NON-RAIN DAY\n",
      "Reading PIPS2A_FMCW_042617.txt\n",
      "GPS time: Wed Apr 26 00:00:04 2017, Logger time: Wed Apr 26 00:00:01 2017\n",
      "GPS Offset: 0:00:03\n",
      "Max reflectivity is -10.00\n",
      "SKIPPING NON-RAIN DAY\n",
      "Reading PIPS2A_FMCW_041017.txt\n",
      "GPS time: Mon Apr 10 00:00:03 2017, Logger time: Mon Apr 10 00:00:01 2017\n",
      "GPS Offset: 0:00:02\n",
      "Max reflectivity is 25.04\n",
      "PIPS2A_FMCW_041017.txt is a rainy day\n",
      "Reading PIPS2A_FMCW_032817.txt\n",
      "GPS time: Tue Mar 28 00:00:00 2017, Logger time: Tue Mar 28 00:00:00 2017\n",
      "GPS Offset: 0:00:00\n",
      "Max reflectivity is 76.70\n",
      "PIPS2A_FMCW_032817.txt is a rainy day\n",
      "Reading PIPS2A_FMCW_040417.txt\n",
      "GPS time: Tue Apr  4 00:00:03 2017, Logger time: Tue Apr  4 00:00:01 2017\n",
      "GPS Offset: 0:00:02\n",
      "Max reflectivity is 45.35\n",
      "PIPS2A_FMCW_040417.txt is a rainy day\n",
      "Reading PIPS2A_FMCW_033117.txt\n",
      "GPS time: Fri Mar 31 00:00:00 2017, Logger time: Fri Mar 31 00:00:00 2017\n",
      "GPS Offset: 0:00:00\n",
      "Max reflectivity is 58.73\n",
      "PIPS2A_FMCW_033117.txt is a rainy day\n",
      "Reading PIPS2A_FMCW_032717.txt\n",
      "GPS time: Mon Mar 27 00:00:00 2017, Logger time: Mon Mar 27 00:00:00 2017\n",
      "GPS Offset: 0:00:00\n",
      "Max reflectivity is 57.85\n",
      "PIPS2A_FMCW_032717.txt is a rainy day\n",
      "Reading PIPS2A_FMCW_042417.txt\n",
      "GPS time: Mon Apr 24 00:00:20 2017, Logger time: Mon Apr 24 00:00:17 2017\n",
      "GPS Offset: 0:00:03\n",
      "Max reflectivity is 23.71\n",
      "PIPS2A_FMCW_042417.txt is a rainy day\n",
      "Reading PIPS2A_FMCW_041517.txt\n",
      "GPS time: Sat Apr 15 00:00:03 2017, Logger time: Sat Apr 15 00:00:01 2017\n",
      "GPS Offset: 0:00:02\n",
      "Max reflectivity is 12.54\n",
      "SKIPPING NON-RAIN DAY\n",
      "Reading PIPS2A_FMCW_040917.txt\n",
      "GPS time: Sun Apr  9 00:00:03 2017, Logger time: Sun Apr  9 00:00:01 2017\n",
      "GPS Offset: 0:00:02\n",
      "Max reflectivity is -10.00\n",
      "SKIPPING NON-RAIN DAY\n",
      "Reading PIPS2A_FMCW_040117.txt\n",
      "GPS time: Sat Apr  1 00:00:02 2017, Logger time: Sat Apr  1 00:00:00 2017\n",
      "GPS Offset: 0:00:02\n",
      "Max reflectivity is -10.00\n",
      "SKIPPING NON-RAIN DAY\n",
      "Reading PIPS2A_FMCW_042217.txt\n",
      "GPS time: Sat Apr 22 00:00:05 2017, Logger time: Sat Apr 22 00:00:03 2017\n",
      "GPS Offset: 0:00:02\n",
      "Max reflectivity is 43.31\n",
      "PIPS2A_FMCW_042217.txt is a rainy day\n",
      "Reading PIPS2A_FMCW_041817.txt\n",
      "GPS time: Tue Apr 18 00:00:03 2017, Logger time: Tue Apr 18 00:00:01 2017\n",
      "GPS Offset: 0:00:02\n",
      "Max reflectivity is 47.81\n",
      "PIPS2A_FMCW_041817.txt is a rainy day\n",
      "Reading PIPS2A_FMCW_042017.txt\n",
      "GPS time: Thu Apr 20 00:00:03 2017, Logger time: Thu Apr 20 00:00:01 2017\n",
      "GPS Offset: 0:00:02\n",
      "Max reflectivity is 53.21\n",
      "PIPS2A_FMCW_042017.txt is a rainy day\n",
      "Reading PIPS2A_FMCW_042817.txt\n",
      "GPS time: Fri Apr 28 00:00:04 2017, Logger time: Fri Apr 28 00:00:01 2017\n",
      "GPS Offset: 0:00:03\n",
      "Max reflectivity is -10.00\n",
      "SKIPPING NON-RAIN DAY\n",
      "Reading PIPS2A_FMCW_042917.txt\n",
      "GPS time: Sat Apr 29 03:32:48 2017, Logger time: Sat Apr 29 03:32:45 2017\n",
      "GPS Offset: 0:00:03\n",
      "Max reflectivity is 51.80\n",
      "PIPS2A_FMCW_042917.txt is a rainy day\n"
     ]
    }
   ],
   "source": [
    "# Read in each file and find rainy days\n",
    "rainy_day_files = []\n",
    "for file in filelist:\n",
    "    print(\"Reading {}\".format(os.path.basename(file)))\n",
    "    conv_df, parsivel_df, vd_matrix_da = pipsio.read_PIPS(file)\n",
    "    max_ref = np.max(parsivel_df['parsivel_dBZ'].values)\n",
    "    print(\"Max reflectivity is {:.2f}\".format(max_ref))\n",
    "    #print(np.sum(parsivel_df['pcount2'].values))\n",
    "    if max_ref <= 20.:\n",
    "        print(\"SKIPPING NON-RAIN DAY\")\n",
    "    else:\n",
    "        print(\"{} is a rainy day\".format(os.path.basename(file)))\n",
    "        rainy_day_files.append(file)\n",
    "    "
   ]
  },
  {
   "cell_type": "code",
   "execution_count": 12,
   "metadata": {
    "ExecuteTime": {
     "end_time": "2020-02-14T15:58:12.002449Z",
     "start_time": "2020-02-14T15:58:11.925722Z"
    }
   },
   "outputs": [
    {
     "name": "stdout",
     "output_type": "stream",
     "text": [
      "['/Users/dawson29/sshfs_mounts/depot/data/Projects/VORTEXSE/obsdata/2017/PIPS/PIPS2A_FMCW/PIPS2A_FMCW_032517.txt', '/Users/dawson29/sshfs_mounts/depot/data/Projects/VORTEXSE/obsdata/2017/PIPS/PIPS2A_FMCW/PIPS2A_FMCW_032617.txt', '/Users/dawson29/sshfs_mounts/depot/data/Projects/VORTEXSE/obsdata/2017/PIPS/PIPS2A_FMCW/PIPS2A_FMCW_032717.txt', '/Users/dawson29/sshfs_mounts/depot/data/Projects/VORTEXSE/obsdata/2017/PIPS/PIPS2A_FMCW/PIPS2A_FMCW_032817.txt', '/Users/dawson29/sshfs_mounts/depot/data/Projects/VORTEXSE/obsdata/2017/PIPS/PIPS2A_FMCW/PIPS2A_FMCW_032917.txt', '/Users/dawson29/sshfs_mounts/depot/data/Projects/VORTEXSE/obsdata/2017/PIPS/PIPS2A_FMCW/PIPS2A_FMCW_033117.txt', '/Users/dawson29/sshfs_mounts/depot/data/Projects/VORTEXSE/obsdata/2017/PIPS/PIPS2A_FMCW/PIPS2A_FMCW_040317.txt', '/Users/dawson29/sshfs_mounts/depot/data/Projects/VORTEXSE/obsdata/2017/PIPS/PIPS2A_FMCW/PIPS2A_FMCW_040417.txt', '/Users/dawson29/sshfs_mounts/depot/data/Projects/VORTEXSE/obsdata/2017/PIPS/PIPS2A_FMCW/PIPS2A_FMCW_040517.txt', '/Users/dawson29/sshfs_mounts/depot/data/Projects/VORTEXSE/obsdata/2017/PIPS/PIPS2A_FMCW/PIPS2A_FMCW_040617.txt', '/Users/dawson29/sshfs_mounts/depot/data/Projects/VORTEXSE/obsdata/2017/PIPS/PIPS2A_FMCW/PIPS2A_FMCW_041017.txt', '/Users/dawson29/sshfs_mounts/depot/data/Projects/VORTEXSE/obsdata/2017/PIPS/PIPS2A_FMCW/PIPS2A_FMCW_041117.txt', '/Users/dawson29/sshfs_mounts/depot/data/Projects/VORTEXSE/obsdata/2017/PIPS/PIPS2A_FMCW/PIPS2A_FMCW_041217.txt', '/Users/dawson29/sshfs_mounts/depot/data/Projects/VORTEXSE/obsdata/2017/PIPS/PIPS2A_FMCW/PIPS2A_FMCW_041417.txt', '/Users/dawson29/sshfs_mounts/depot/data/Projects/VORTEXSE/obsdata/2017/PIPS/PIPS2A_FMCW/PIPS2A_FMCW_041617.txt', '/Users/dawson29/sshfs_mounts/depot/data/Projects/VORTEXSE/obsdata/2017/PIPS/PIPS2A_FMCW/PIPS2A_FMCW_041717.txt', '/Users/dawson29/sshfs_mounts/depot/data/Projects/VORTEXSE/obsdata/2017/PIPS/PIPS2A_FMCW/PIPS2A_FMCW_041817.txt', '/Users/dawson29/sshfs_mounts/depot/data/Projects/VORTEXSE/obsdata/2017/PIPS/PIPS2A_FMCW/PIPS2A_FMCW_042017.txt', '/Users/dawson29/sshfs_mounts/depot/data/Projects/VORTEXSE/obsdata/2017/PIPS/PIPS2A_FMCW/PIPS2A_FMCW_042117.txt', '/Users/dawson29/sshfs_mounts/depot/data/Projects/VORTEXSE/obsdata/2017/PIPS/PIPS2A_FMCW/PIPS2A_FMCW_042217.txt', '/Users/dawson29/sshfs_mounts/depot/data/Projects/VORTEXSE/obsdata/2017/PIPS/PIPS2A_FMCW/PIPS2A_FMCW_042317.txt', '/Users/dawson29/sshfs_mounts/depot/data/Projects/VORTEXSE/obsdata/2017/PIPS/PIPS2A_FMCW/PIPS2A_FMCW_042417.txt', '/Users/dawson29/sshfs_mounts/depot/data/Projects/VORTEXSE/obsdata/2017/PIPS/PIPS2A_FMCW/PIPS2A_FMCW_042717.txt', '/Users/dawson29/sshfs_mounts/depot/data/Projects/VORTEXSE/obsdata/2017/PIPS/PIPS2A_FMCW/PIPS2A_FMCW_042917.txt', '/Users/dawson29/sshfs_mounts/depot/data/Projects/VORTEXSE/obsdata/2017/PIPS/PIPS2A_FMCW/PIPS2A_FMCW_043017.txt', '/Users/dawson29/sshfs_mounts/depot/data/Projects/VORTEXSE/obsdata/2017/PIPS/PIPS2A_FMCW/PIPS2A_FMCW_050117.txt']\n",
      "26\n",
      "['PIPS2A_FMCW_032517.txt', 'PIPS2A_FMCW_032617.txt', 'PIPS2A_FMCW_032717.txt', 'PIPS2A_FMCW_032817.txt', 'PIPS2A_FMCW_032917.txt', 'PIPS2A_FMCW_033117.txt', 'PIPS2A_FMCW_040317.txt', 'PIPS2A_FMCW_040417.txt', 'PIPS2A_FMCW_040517.txt', 'PIPS2A_FMCW_040617.txt', 'PIPS2A_FMCW_041017.txt', 'PIPS2A_FMCW_041117.txt', 'PIPS2A_FMCW_041217.txt', 'PIPS2A_FMCW_041417.txt', 'PIPS2A_FMCW_041617.txt', 'PIPS2A_FMCW_041717.txt', 'PIPS2A_FMCW_041817.txt', 'PIPS2A_FMCW_042017.txt', 'PIPS2A_FMCW_042117.txt', 'PIPS2A_FMCW_042217.txt', 'PIPS2A_FMCW_042317.txt', 'PIPS2A_FMCW_042417.txt', 'PIPS2A_FMCW_042717.txt', 'PIPS2A_FMCW_042917.txt', 'PIPS2A_FMCW_043017.txt', 'PIPS2A_FMCW_050117.txt']\n",
      "['PIPS2A_FMCW_032517.txt',\n",
      " 'PIPS2A_FMCW_032617.txt',\n",
      " 'PIPS2A_FMCW_032717.txt',\n",
      " 'PIPS2A_FMCW_032817.txt',\n",
      " 'PIPS2A_FMCW_032917.txt',\n",
      " 'PIPS2A_FMCW_033117.txt',\n",
      " 'PIPS2A_FMCW_040317.txt',\n",
      " 'PIPS2A_FMCW_040417.txt',\n",
      " 'PIPS2A_FMCW_040517.txt',\n",
      " 'PIPS2A_FMCW_040617.txt',\n",
      " 'PIPS2A_FMCW_041017.txt',\n",
      " 'PIPS2A_FMCW_041117.txt',\n",
      " 'PIPS2A_FMCW_041217.txt',\n",
      " 'PIPS2A_FMCW_041417.txt',\n",
      " 'PIPS2A_FMCW_041617.txt',\n",
      " 'PIPS2A_FMCW_041717.txt',\n",
      " 'PIPS2A_FMCW_041817.txt',\n",
      " 'PIPS2A_FMCW_042017.txt',\n",
      " 'PIPS2A_FMCW_042117.txt',\n",
      " 'PIPS2A_FMCW_042217.txt',\n",
      " 'PIPS2A_FMCW_042317.txt',\n",
      " 'PIPS2A_FMCW_042417.txt',\n",
      " 'PIPS2A_FMCW_042717.txt',\n",
      " 'PIPS2A_FMCW_042917.txt',\n",
      " 'PIPS2A_FMCW_043017.txt',\n",
      " 'PIPS2A_FMCW_050117.txt']\n"
     ]
    }
   ],
   "source": [
    "import natsort\n",
    "import pprint\n",
    "\n",
    "rainy_day_files = natsort.natsorted(rainy_day_files)\n",
    "print(rainy_day_files)\n",
    "print(len(rainy_day_files))\n",
    "\n",
    "rainy_day_filebase = [os.path.basename(file) for file in rainy_day_files]\n",
    "print(rainy_day_filebase)\n",
    "pprint.pprint(rainy_day_filebase)"
   ]
  },
  {
   "cell_type": "code",
   "execution_count": 17,
   "metadata": {
    "ExecuteTime": {
     "end_time": "2020-02-14T16:07:30.332085Z",
     "start_time": "2020-02-14T16:07:30.253057Z"
    }
   },
   "outputs": [
    {
     "name": "stdout",
     "output_type": "stream",
     "text": [
      "['032517', '032617', '032717', '032817', '032917', '033117', '040317', '040417', '040517', '040617', '041017', '041117', '041217', '041417', '041617', '041717', '041817', '042017', '042117', '042217', '042317', '042417', '042717', '042917', '043017', '050117']\n",
      "['20170325000000',\n",
      " '20170326000000',\n",
      " '20170327000000',\n",
      " '20170328000000',\n",
      " '20170329000000',\n",
      " '20170331000000',\n",
      " '20170403000000',\n",
      " '20170404000000',\n",
      " '20170405000000',\n",
      " '20170406000000',\n",
      " '20170410000000',\n",
      " '20170411000000',\n",
      " '20170412000000',\n",
      " '20170414000000',\n",
      " '20170416000000',\n",
      " '20170417000000',\n",
      " '20170418000000',\n",
      " '20170420000000',\n",
      " '20170421000000',\n",
      " '20170422000000',\n",
      " '20170423000000',\n",
      " '20170424000000',\n",
      " '20170427000000',\n",
      " '20170429000000',\n",
      " '20170430000000',\n",
      " '20170501000000']\n",
      "['20170326235959',\n",
      " '20170327235959',\n",
      " '20170328235959',\n",
      " '20170329235959',\n",
      " '20170331235959',\n",
      " '20170403235959',\n",
      " '20170404235959',\n",
      " '20170405235959',\n",
      " '20170406235959',\n",
      " '20170410235959',\n",
      " '20170411235959',\n",
      " '20170412235959',\n",
      " '20170414235959',\n",
      " '20170416235959',\n",
      " '20170417235959',\n",
      " '20170418235959',\n",
      " '20170420235959',\n",
      " '20170421235959',\n",
      " '20170422235959',\n",
      " '20170423235959',\n",
      " '20170424235959',\n",
      " '20170427235959',\n",
      " '20170429235959',\n",
      " '20170430235959',\n",
      " '20170501235959']\n"
     ]
    }
   ],
   "source": [
    "starttimestamps = [file[12:18] for file in rainy_day_filebase]\n",
    "print(starttimestamps)\n",
    "\n",
    "startdatetimes = [datetime.strptime(timestamp, '%m%d%y') for timestamp in starttimestamps]\n",
    "stopdatetimes = startdatetimes[1:]\n",
    "new_starttimestamps = [datetimestamp.strftime('%Y%m%d000000') for datetimestamp in startdatetimes]\n",
    "new_stoptimestamps = [datetimestamp.strftime('%Y%m%d235959') for datetimestamp in stopdatetimes]\n",
    "pprint.pprint(new_starttimestamps)\n",
    "pprint.pprint(new_stoptimestamps)\n"
   ]
  },
  {
   "cell_type": "code",
   "execution_count": null,
   "metadata": {
    "ExecuteTime": {
     "end_time": "2020-02-13T20:01:04.745138Z",
     "start_time": "2020-02-13T20:01:04.683448Z"
    },
    "scrolled": true
   },
   "outputs": [],
   "source": [
    "# Define dictionaries, keyed by case date (i.e. '060509', '060709', '060909', '033116'), to store parameters related\n",
    "# to NEXRAD radar data, disdrometer data, and model output, respectively\n",
    "\n",
    "# Case we are looking at right now. Should only have to change this up here and then execute all the cells below\n",
    "# to generate the appropriate analysis\n",
    "casedate = '033116'\n",
    "\n",
    "# Import the file containing the dictionaries needed to gather the radar, disdrometer, and model data.\n",
    "sys.path.append('/Users/dawson29/Dropbox/Projects/VORTEXSE/vortexse_enkf_dsd_study/configs/2016_IOP3')\n",
    "\n",
    "from PIPSsim_1km_dicts import *"
   ]
  },
  {
   "cell_type": "code",
   "execution_count": null,
   "metadata": {
    "ExecuteTime": {
     "end_time": "2020-02-13T20:01:07.505362Z",
     "start_time": "2020-02-13T20:01:05.554721Z"
    }
   },
   "outputs": [],
   "source": [
    "# Read in the PIPS data for the first probe for testing\n",
    "dis_dict = init_dis_dict[casedate]\n",
    "dirname = dis_dict['dis_dir']\n",
    "\n",
    "conv_df_list = []\n",
    "parsivel_df_list = []\n",
    "vd_matrix_da_list = []\n",
    "\n",
    "for i, PIPS_name in enumerate(dis_dict['dis_names']):\n",
    "    print(PIPS_name)\n",
    "    filename = dis_dict['disfilenames'][i]\n",
    "    filepath = os.path.join(dirname, filename)\n",
    "    print(\"Reading file: {}\".format(filepath))\n",
    "    conv_df, parsivel_df, vd_matrix_da = pipsio.read_PIPS(filepath)\n",
    "    conv_df_list.append(conv_df)\n",
    "    parsivel_df_list.append(parsivel_df)\n",
    "    vd_matrix_da_list.append(vd_matrix_da)"
   ]
  },
  {
   "cell_type": "code",
   "execution_count": null,
   "metadata": {
    "ExecuteTime": {
     "end_time": "2020-02-13T20:01:09.692141Z",
     "start_time": "2020-02-13T20:01:09.627781Z"
    }
   },
   "outputs": [],
   "source": [
    "# print(vd_matrix_da)\n",
    "#print(spectrum_da.loc['2016-03-31T22:30'])\n",
    "diameter_bins = pp.parsivel_parameters['avg_diameter_bins_mm']\n",
    "# print(diameter_bins)\n",
    "fallspeed_bins = pp.parsivel_parameters['avg_fallspeed_bins_mps']\n",
    "# print(fallspeed_bins)\n",
    "\n",
    "empirical_fallspeed = pips.calc_empirical_fallspeed(diameter_bins)\n",
    "# print(empirical_fallspeed)\n",
    "\n",
    "fallspeed_spectrum = pips.calc_fallspeed_spectrum(diameter_bins, fallspeed_bins, use_measured_fallspeed=True)\n",
    "print(fallspeed_spectrum)"
   ]
  },
  {
   "cell_type": "code",
   "execution_count": null,
   "metadata": {
    "ExecuteTime": {
     "end_time": "2020-02-13T20:01:14.580596Z",
     "start_time": "2020-02-13T20:01:12.755597Z"
    }
   },
   "outputs": [],
   "source": [
    "# Do some QC\n",
    "vd_matrix_QC_da_list = []\n",
    "for vd_matrix_da in vd_matrix_da_list:\n",
    "    vd_matrix_QC = pqc.strongwindQC(vd_matrix_da)\n",
    "    vd_matrix_QC = pqc.rainonlyQC(vd_matrix_QC)\n",
    "    vd_matrix_QC_da_list.append(vd_matrix_QC)"
   ]
  },
  {
   "cell_type": "code",
   "execution_count": null,
   "metadata": {
    "ExecuteTime": {
     "end_time": "2020-02-13T20:01:33.106226Z",
     "start_time": "2020-02-13T20:01:32.931763Z"
    }
   },
   "outputs": [],
   "source": [
    "# Calculate ND\n",
    "ND_list = []\n",
    "\n",
    "for vd_matrix_QC in vd_matrix_QC_da_list:\n",
    "    ND = pips.calc_ND(vd_matrix_QC.where(vd_matrix_QC > 0.0), fallspeed_spectrum, 10.)\n",
    "    ND_list.append(ND)"
   ]
  },
  {
   "cell_type": "code",
   "execution_count": null,
   "metadata": {
    "ExecuteTime": {
     "end_time": "2020-02-13T22:18:53.912867Z",
     "start_time": "2020-02-13T22:18:53.849782Z"
    }
   },
   "outputs": [],
   "source": [
    "# Set up D0 and RR bins for SATP\n",
    "# Now set up D0 and RR bins for the SATP procedure\n",
    "D0_bins = np.arange(0.05, 7.05, 0.05)\n",
    "# Following is from\n",
    "# https://stackoverflow.com/questions/45234987/numpy-range-created-using-percentage-increment\n",
    "# TODO: make a function out of this and put in pyPIPS.utils\n",
    "RR_start = 0.1\n",
    "RR_stop = 250.\n",
    "RR_pct_incr = 10.\n",
    "RR_incr = (100. + RR_pct_incr) / 100.\n",
    "RR_bins = RR_start * np.full(int(np.log(RR_stop / RR_start) / np.log(RR_incr)),\n",
    "                             RR_incr).cumprod()\n",
    "print(RR_bins)"
   ]
  },
  {
   "cell_type": "code",
   "execution_count": null,
   "metadata": {
    "ExecuteTime": {
     "end_time": "2020-02-13T22:30:45.573779Z",
     "start_time": "2020-02-13T22:30:45.277844Z"
    }
   },
   "outputs": [],
   "source": [
    "DSD_interval = 10.\n",
    "bin_width = ND_list[-1]['max_diameter'] - ND_list[-1]['min_diameter']\n",
    "D0_list = []\n",
    "rainrate_list = []\n",
    "for conv_df, parsivel_df, vd_matrix_QC, ND in zip(conv_df_list, parsivel_df_list, vd_matrix_QC_da_list, ND_list):\n",
    "\n",
    "    conv_df = pips.calc_thermo(conv_df)\n",
    "    # Resample to PIPS intervals and times\n",
    "    \n",
    "    PSD_datetimes = pips.get_PSD_datetimes(vd_matrix_QC)\n",
    "    sec_offset = PSD_datetimes[0].second\n",
    "    conv_resampled_df = pips.resample_conv('PIPS', DSD_interval, sec_offset, conv_df)\n",
    "    conv_resampled_df_index = conv_resampled_df.index.intersection(parsivel_df.index)\n",
    "    conv_resampled_df = conv_resampled_df.loc[conv_resampled_df_index]\n",
    "\n",
    "    # Compute empirical fallspeed curves\n",
    "    fallspeeds = pips.calc_empirical_fallspeed(diameter_bins, correct_rho=True, rho=conv_resampled_df['rho'])\n",
    "    print(ND.shape, fallspeeds.shape)\n",
    "    rainrate_bin = (6. * 10.**-4.) * np.pi * fallspeeds * diameter_bins**3. * ND * bin_width\n",
    "    rainrate = rainrate_bin.sum(dim='diameter_bin')\n",
    "    # rainrate = rainrate.fillna(0.0)\n",
    "    rainrate = rainrate.where(rainrate <= RR_bins[-1])\n",
    "    rainrate = rainrate.where(rainrate > 0.)\n",
    "    \n",
    "    # Compute D0\n",
    "    D0 = dsd.calc_D0_bin(ND) * 1000.\n",
    "    # D0 = D0.fillna(0.0)\n",
    "    print(D0.max())\n",
    "    D0 = D0.where(D0 <= D0_bins[-1])\n",
    "    print(D0.max())\n",
    "    # print(rainrate)\n",
    "    \n",
    "    rainrate_list.append(rainrate)\n",
    "    D0_list.append(D0)\n",
    "    "
   ]
  },
  {
   "cell_type": "code",
   "execution_count": null,
   "metadata": {
    "ExecuteTime": {
     "end_time": "2020-02-13T22:39:55.817363Z",
     "start_time": "2020-02-13T22:39:55.699564Z"
    }
   },
   "outputs": [],
   "source": [
    "ND2_list = []\n",
    "\n",
    "for D0, rainrate, ND in zip(D0_list, rainrate_list, ND_list):\n",
    "    ND2 = ND.copy()\n",
    "    ND2 = ND2.where(ND2 > 0.)\n",
    "    #print(ND2)\n",
    "    # print(D0)\n",
    "    ND2.coords['D0'] = ('time', D0)\n",
    "    ND2.coords['RR'] = ('time', rainrate)\n",
    "    #print(ND2)\n",
    "    \n",
    "    D0_indices = np.digitize(D0, D0_bins)\n",
    "    RR_indices = np.digitize(rainrate, RR_bins)\n",
    "    ND2.coords['D0_RR'] = ('time', pd.MultiIndex.from_arrays([D0_indices, RR_indices], names=['D0_idx', 'RR_idx']))\n",
    "    ND2 = ND2.swap_dims({'time': 'D0_RR'})\n",
    "    #ND2 = ND2.set_index(D0_RR='D0_RR')\n",
    "    ND2_list.append(ND2)\n",
    "\n",
    "print(D0, D0_indices)\n",
    "print(rainrate, RR_indices)"
   ]
  },
  {
   "cell_type": "code",
   "execution_count": null,
   "metadata": {
    "ExecuteTime": {
     "end_time": "2020-02-13T22:39:58.958313Z",
     "start_time": "2020-02-13T22:39:58.352419Z"
    }
   },
   "outputs": [],
   "source": [
    "fig, ax = plt.subplots(figsize=(10,10))\n",
    "ax.hist(D0)\n",
    "fig2, ax2 = plt.subplots(figsize=(10,10))\n",
    "ax2.hist(rainrate)"
   ]
  },
  {
   "cell_type": "code",
   "execution_count": null,
   "metadata": {
    "ExecuteTime": {
     "end_time": "2020-02-13T22:40:03.759872Z",
     "start_time": "2020-02-13T22:40:03.690661Z"
    }
   },
   "outputs": [],
   "source": [
    "print(ND2_list[0])"
   ]
  },
  {
   "cell_type": "code",
   "execution_count": null,
   "metadata": {
    "ExecuteTime": {
     "end_time": "2020-02-13T22:40:17.946921Z",
     "start_time": "2020-02-13T22:40:15.484812Z"
    }
   },
   "outputs": [],
   "source": [
    "ND2_list_2 = []\n",
    "\n",
    "for ND2 in ND2_list:\n",
    "#     print(D0_indices)\n",
    "#     print([D0_bins[x[0]] for x,_ in list(ND2.groupby('D0_RR'))])\n",
    "#     print([RR_bins[x[1]] for x,_ in list(ND2.groupby('D0_RR'))])\n",
    "#     print([y.sizes['time'] for x,y in list(ND2.groupby('D0_RR'))])\n",
    "    #ND2 = ND2.reset_index('time')\n",
    "    ND2_list_2.append(ND2)\n",
    "    \n",
    "ND2_combined = xr.concat(ND2_list_2, dim='D0_RR')\n",
    "ND2_groups = ND2_combined.groupby('D0_RR')\n",
    "print(list(ND2.groupby('D0_RR')))"
   ]
  },
  {
   "cell_type": "code",
   "execution_count": null,
   "metadata": {
    "ExecuteTime": {
     "end_time": "2020-02-13T22:45:13.660615Z",
     "start_time": "2020-02-13T22:44:58.538117Z"
    }
   },
   "outputs": [],
   "source": [
    "print(D0_bins[0])\n",
    "print(RR_bins[0])\n",
    "for group, ND2_group in list(ND2_groups)[:-1]:\n",
    "    num_DSDs = ND2_group.sizes['D0_RR']\n",
    "    #print(group, num_DSDs)\n",
    "    if num_DSDs > 3.:\n",
    "        fig, ax = plt.subplots(figsize=(10,10))\n",
    "        ND_group_avg = ND2_group.mean('D0_RR')\n",
    "        for ND in ND2_group:\n",
    "            # print(ND)\n",
    "            print(D0_bins[group[0]], RR_bins[group[1]])\n",
    "            ax.plot(ND2_group['diameter'], ND, color='0.7', alpha=0.5)\n",
    "            ax.plot(ND2_group['diameter'], ND_group_avg, 'k')\n",
    "#             ax.plot(avg_diameter,\n",
    "#                     Nc_bin_avg[r,\n",
    "#                                d],\n",
    "#                     'k',\n",
    "#                     label='(R,D0) = (%2.2f' % midpoint_R + ',%2.2f' % midpoint_D0 + ')')\n",
    "            ax.set_yscale('log')\n",
    "            ax.set_ylim(10.**-1.0, 10.**5.0)\n",
    "            ax.set_ylabel('Number Concentration, # m^-3 mm^-1')\n",
    "            ax.set_xlim(0.0, 8.0)\n",
    "            ax.set_xlabel('Diameter, mm')\n",
    "            ax.tick_params(direction='in', length=6, top='on', right='on')\n",
    "#             ax.legend(\n",
    "#                 bbox_to_anchor=(\n",
    "#                     1.,\n",
    "#                     1.),\n",
    "#                 loc='upper right',\n",
    "#                 ncol=1,\n",
    "#                 fancybox=True,\n",
    "#                 shadow=False)"
   ]
  },
  {
   "cell_type": "code",
   "execution_count": null,
   "metadata": {
    "ExecuteTime": {
     "end_time": "2020-02-13T22:45:45.532828Z",
     "start_time": "2020-02-13T22:45:39.472855Z"
    }
   },
   "outputs": [],
   "source": [
    "fig, ax = plt.subplots(figsize=(10, 10))\n",
    "\n",
    "hist, xedges, yedges = np.histogram2d(ND2_combined['RR'], ND2_combined['D0'], bins=(RR_bins, D0_bins))\n",
    "hist = np.ma.masked_where(hist <= 0.0, hist)\n",
    "# add 2D color grid of bin sum\n",
    "ax.set_xscale('log')\n",
    "C = ax.pcolormesh(RR_bins, D0_bins, hist.T, vmin=0.0, vmax=4.0)\n",
    "ax.set_xlabel('Rainrate')\n",
    "ax.set_ylabel('D0')\n",
    "divider = make_axes_locatable(ax)\n",
    "cax = divider.append_axes(\"right\", size=\"5%\", pad=0.05)\n",
    "cb = plt.colorbar(C, orientation='vertical', cax=cax)"
   ]
  },
  {
   "cell_type": "code",
   "execution_count": null,
   "metadata": {
    "ExecuteTime": {
     "end_time": "2020-02-13T22:45:49.192757Z",
     "start_time": "2020-02-13T22:45:48.882178Z"
    }
   },
   "outputs": [],
   "source": [
    "print(ND2_combined)\n",
    "ND_avg = ND2_groups.mean(dim='D0_RR')\n",
    "print(ND_avg)"
   ]
  },
  {
   "cell_type": "code",
   "execution_count": null,
   "metadata": {
    "ExecuteTime": {
     "end_time": "2020-02-13T23:33:49.616424Z",
     "start_time": "2020-02-13T23:33:49.519709Z"
    }
   },
   "outputs": [],
   "source": [
    "print(ND2_combined)\n",
    "ND2_combined_2 = ND2_combined.reset_index('D0_RR')\n",
    "print(ND2_combined_2)\n",
    "print(ND2_combined_2['D0_idx'].dims[0])\n",
    "D0_idx = ND2_combined_2['D0_idx'].values\n",
    "RR_idx = ND2_combined_2['RR_idx'].values\n",
    "ND2_combined_2 = ND2_combined_2.reset_coords(names=['D0_idx', 'RR_idx'], drop=True)\n",
    "ND2_combined_2.coords['D0_RR'] = ('D0_RR', \n",
    "                                  pd.MultiIndex.from_arrays([D0_idx, RR_idx], names=['D0_idx', 'RR_idx']))\n",
    "# ND2_combined_2 = ND2_combined_2.rename({'D0_RR_level_0': 'D0_idx', 'D0_RR_level_1': 'RR_idx'})\n",
    "\n",
    "print(ND2_combined_2)"
   ]
  },
  {
   "cell_type": "code",
   "execution_count": null,
   "metadata": {
    "ExecuteTime": {
     "end_time": "2020-02-13T22:46:00.460531Z",
     "start_time": "2020-02-13T22:46:00.208912Z"
    }
   },
   "outputs": [],
   "source": [
    "# Testing unstacking of averaged ND dataarray\n",
    "\n",
    "ND_avg_unstacked = ND_avg.unstack(dim='D0_RR')\n",
    "print(ND_avg_unstacked)\n",
    "# Rename the new dimensions back to what they were before because for some reason doing averages on a groupby object\n",
    "# resets the names of the multiindex levels\n",
    "ND_avg_unstacked = ND_avg_unstacked.rename({'D0_RR_level_0': 'D0_idx', 'D0_RR_level_1': 'RR_idx'})\n",
    "ND_avg_unstacked = ND_avg_unstacked.reindex({'D0_idx': range(D0_bins.size), 'RR_idx': range(RR_bins.size)})\n",
    "ND_avg_unstacked.coords['D0'] = ('D0_idx', D0_bins)\n",
    "ND_avg_unstacked.coords['RR'] = ('RR_idx', RR_bins)\n",
    "print(ND_avg_unstacked)"
   ]
  },
  {
   "cell_type": "code",
   "execution_count": null,
   "metadata": {
    "ExecuteTime": {
     "end_time": "2020-02-13T22:46:20.507942Z",
     "start_time": "2020-02-13T22:46:20.448484Z"
    }
   },
   "outputs": [],
   "source": [
    "ND_avg_unstacked.name = 'SATP_ND'\n"
   ]
  },
  {
   "cell_type": "code",
   "execution_count": null,
   "metadata": {},
   "outputs": [],
   "source": [
    "# OLD CELLS BELOW"
   ]
  },
  {
   "cell_type": "code",
   "execution_count": null,
   "metadata": {
    "ExecuteTime": {
     "end_time": "2020-01-29T20:15:11.619621Z",
     "start_time": "2020-01-29T20:15:11.501610Z"
    }
   },
   "outputs": [],
   "source": [
    "# Compute sigma and Dm\n",
    "D = ND_list[0]['diameter']\n",
    "dD = ND_list[0]['max_diameter'] - ND_list[0]['min_diameter']\n",
    "\n",
    "Dm_list = []\n",
    "sigma_list = []\n",
    "\n",
    "for ND in ND_list:\n",
    "    Dm = dsd.calc_Dmpq_binned(4, 3, ND)\n",
    "    sigma = dsd.calc_sigma(D, dD, ND)\n",
    "    \n",
    "    Dm_list.append(Dm)\n",
    "    sigma_list.append(sigma)"
   ]
  },
  {
   "cell_type": "code",
   "execution_count": null,
   "metadata": {
    "ExecuteTime": {
     "end_time": "2020-01-29T20:17:04.450976Z",
     "start_time": "2020-01-29T20:17:04.094166Z"
    }
   },
   "outputs": [],
   "source": [
    "# Plot sigma vs Dm\n",
    "fig, ax = plt.subplots(figsize=(10, 10))\n",
    "sc_list = []\n",
    "\n",
    "for Dm, sigma in zip(Dm_list, sigma_list):\n",
    "    sc = ax.scatter(Dm * 1000., sigma * 1000.)\n",
    "    sc_list.append(sc)\n",
    "ax.set_xlim(0.0, 6.0)\n",
    "ax.set_ylim(0.0, 3.5)"
   ]
  },
  {
   "cell_type": "code",
   "execution_count": null,
   "metadata": {
    "ExecuteTime": {
     "end_time": "2020-01-30T20:02:35.659013Z",
     "start_time": "2020-01-30T20:02:35.572329Z"
    }
   },
   "outputs": [],
   "source": [
    "DSD_fit = xr.open_dataset('/Users/dawson29/Dropbox/Projects/VORTEXSE/obs_data/PIPS/2016/IOP3/DSD_fits_PIPS2B_60s_20160331220000_20160331234000.nc')"
   ]
  },
  {
   "cell_type": "code",
   "execution_count": null,
   "metadata": {
    "ExecuteTime": {
     "end_time": "2020-01-30T20:01:39.378669Z",
     "start_time": "2020-01-30T20:01:39.300650Z"
    }
   },
   "outputs": [],
   "source": []
  },
  {
   "cell_type": "code",
   "execution_count": null,
   "metadata": {
    "ExecuteTime": {
     "end_time": "2020-01-29T16:01:13.527158Z",
     "start_time": "2020-01-29T16:01:13.406790Z"
    }
   },
   "outputs": [],
   "source": [
    "conv_df = pips.calc_thermo(conv_df)\n",
    "\n",
    "DSD_interval = 10.\n",
    "PSD_datetimes = pips.get_PSD_datetimes(vd_matrix_da)\n",
    "PSD_datetimes_dict = pips.get_PSD_time_bins(PSD_datetimes)\n",
    "PSDstarttimes = PSD_datetimes_dict['PSD_datetimes_edges']\n",
    "PSDmidtimes = PSD_datetimes_dict['PSD_datetimes']\n",
    "\n",
    "sec_offset = PSD_datetimes[0].second\n",
    "conv_resampled_df = pips.resample_conv('PIPS', DSD_interval, sec_offset, conv_df)\n",
    "conv_resampled_df_index = conv_resampled_df.index.intersection(parsivel_df.index)\n",
    "conv_resampled_df = conv_resampled_df.loc[conv_resampled_df_index]\n",
    "\n",
    "print(parsivel_df.columns)\n",
    "#print(conv_resampled_df)\n",
    "\n",
    "#parsivel_resampled_df = pips.resample_parsivel(60., parsivel_df)\n",
    "resample_interval = 60.\n",
    "intervalstr = '{:d}S'.format(int(resample_interval))\n",
    "parsivel_resampler = parsivel_df.resample(intervalstr, label='right', closed='right',\n",
    "                                          base=sec_offset)\n",
    "\n",
    "parsivel_resampled_df = parsivel_resampler.agg({'precipintensity': np.mean, 'precipaccum': np.sum,\n",
    "                                   'parsivel_dBZ': np.mean, 'pcount': np.sum,\n",
    "                                   'signal_amplitude': np.mean, 'pvoltage': np.mean, 'sensor_temp': np.mean,\n",
    "                                   'sample_interval': np.mean})\n",
    "\n",
    "print(parsivel_resampled_df.columns)\n",
    "\n",
    "\n",
    "# for time in vd_matrix_da['time'].to_index():\n",
    "#     print(parsivel_df['pcount'].loc[time])\n",
    "#     # print(conv_resampled_df['rho'].loc[time])\n",
    "#     # print(vd_matrix_da.loc[time])"
   ]
  },
  {
   "cell_type": "code",
   "execution_count": null,
   "metadata": {
    "ExecuteTime": {
     "end_time": "2020-01-29T16:02:23.880891Z",
     "start_time": "2020-01-29T16:02:23.093431Z"
    }
   },
   "outputs": [],
   "source": [
    "# Do some QC\n",
    "vd_matrix_QC = pqc.strongwindQC(vd_matrix_da)\n",
    "vd_matrix_QC = pqc.rainonlyQC(vd_matrix_QC)\n",
    "vdQC = vd_matrix_QC.loc['2016-03-31T22:30:03']\n",
    "vdQC['diameter'] = ('diameter_bin', diameter_bins)\n",
    "vdQC['fallspeed'] = ('fallspeed_bin', fallspeed_bins)\n",
    "vdQC.where(vdQC > 0.0).plot(x='diameter', y='fallspeed', xlim=[0., 15], ylim=[0., 15.])\n",
    "plt.plot(diameter_bins, empirical_fallspeed, color='r')"
   ]
  },
  {
   "cell_type": "code",
   "execution_count": null,
   "metadata": {
    "ExecuteTime": {
     "end_time": "2020-01-29T16:02:54.698463Z",
     "start_time": "2020-01-29T16:02:54.621651Z"
    }
   },
   "outputs": [],
   "source": [
    "# Calculate ND\n",
    "ND = pips.calc_ND(vd_matrix_QC.where(vd_matrix_QC > 0.0), fallspeed_spectrum, 10.)"
   ]
  },
  {
   "cell_type": "code",
   "execution_count": null,
   "metadata": {
    "ExecuteTime": {
     "end_time": "2020-01-29T16:03:13.606403Z",
     "start_time": "2020-01-29T16:03:12.597112Z"
    }
   },
   "outputs": [],
   "source": [
    "timelimits = [PSDstarttimes[0], PSDstarttimes[-1]]\n",
    "diamlimits = [0.0, 9.0]\n",
    "diamytick = 1.0\n",
    "DSDtype = 'observed'\n",
    "locator = dates.MinuteLocator(byminute=[0, 15, 30, 45])\n",
    "minorlocator = dates.MinuteLocator(byminute=range(0, 60, 5))\n",
    "dateformat = '%H:%M'\n",
    "formatter = dates.DateFormatter(dateformat)\n",
    "\n",
    "axparams = {'majorxlocator': locator, 'majorxformatter': formatter,\n",
    "            'minorxlocator': minorlocator,\n",
    "            'axeslimits': [timelimits, diamlimits],\n",
    "            'majorylocator': ticker.MultipleLocator(base=diamytick),\n",
    "            'axeslabels': [None, 'D (mm)']}\n",
    "\n",
    "disvars = {\n",
    "    'min_diameter': ND['min_diameter'], \n",
    "    'PSDstarttimes': PSDstarttimes,\n",
    "    'PSDmidtimes': PSDmidtimes, \n",
    "    'logND': np.log10(ND).T\n",
    "}\n",
    "dis_plot_name = 'PIPS1A'\n",
    "PIPSplot.plotDSDmeteograms(dis_plot_name, './', axparams, disvars)"
   ]
  },
  {
   "cell_type": "code",
   "execution_count": null,
   "metadata": {
    "ExecuteTime": {
     "end_time": "2020-01-29T16:03:20.381484Z",
     "start_time": "2020-01-29T16:03:19.972744Z"
    }
   },
   "outputs": [],
   "source": [
    "np.log10(ND).T.plot(y='diameter', ylim=[0.0, 9.0], vmin=-1.0, vmax=3.0, aspect=5, size=3)"
   ]
  },
  {
   "cell_type": "code",
   "execution_count": null,
   "metadata": {
    "ExecuteTime": {
     "end_time": "2020-01-29T16:03:27.010516Z",
     "start_time": "2020-01-29T16:03:26.900768Z"
    }
   },
   "outputs": [],
   "source": [
    "# Now resample the vd matrix across time to go from 10-s to 60-s intervals\n",
    "resample_interval = pips.check_requested_resampling_interval(60., 10.)\n",
    "vd_matrix_rs = pips.resample_vd_matrix(resample_interval, vd_matrix_QC)\n",
    "print(vd_matrix_QC['time'][:10])\n",
    "print(vd_matrix_rs['time'][:10])"
   ]
  },
  {
   "cell_type": "code",
   "execution_count": null,
   "metadata": {
    "ExecuteTime": {
     "end_time": "2020-01-29T18:58:51.519476Z",
     "start_time": "2020-01-29T18:58:51.137447Z"
    }
   },
   "outputs": [],
   "source": [
    "ND_resampled = pips.calc_ND(vd_matrix_rs.where(vd_matrix_rs > 0.0), fallspeed_spectrum, 60.)\n",
    "np.log10(ND_resampled).T.plot(y='diameter', ylim=[0.0, 9.0], vmin=-1.0, vmax=3.0, aspect=5, size=3)\n",
    "\n"
   ]
  },
  {
   "cell_type": "code",
   "execution_count": null,
   "metadata": {
    "ExecuteTime": {
     "end_time": "2020-01-29T16:03:37.937999Z",
     "start_time": "2020-01-29T16:03:37.861866Z"
    },
    "scrolled": true
   },
   "outputs": [],
   "source": [
    "# Add additional thermodynamic variables to conv_df\n",
    "conv_df = pips.calc_thermo(conv_df)"
   ]
  },
  {
   "cell_type": "code",
   "execution_count": null,
   "metadata": {
    "ExecuteTime": {
     "end_time": "2020-01-29T16:04:11.623387Z",
     "start_time": "2020-01-29T16:04:11.526940Z"
    }
   },
   "outputs": [],
   "source": [
    "# Resample conventional data to 60-s\n",
    "datetime_range_onesec = conv_df.index.to_pydatetime()\n",
    "sec_offset = pips.get_offset_seconds(datetime_range_onesec)\n",
    "conv_rs_df = pips.resample_conv('PIPS', 60., sec_offset, conv_df)"
   ]
  },
  {
   "cell_type": "code",
   "execution_count": null,
   "metadata": {
    "ExecuteTime": {
     "end_time": "2020-01-29T18:59:02.937839Z",
     "start_time": "2020-01-29T18:59:02.873709Z"
    }
   },
   "outputs": [],
   "source": [
    "print(ND_resampled)"
   ]
  },
  {
   "cell_type": "code",
   "execution_count": null,
   "metadata": {
    "ExecuteTime": {
     "end_time": "2020-01-29T19:53:52.805769Z",
     "start_time": "2020-01-29T19:53:52.719724Z"
    }
   },
   "outputs": [],
   "source": [
    "# Compute sigma and Dm\n",
    "Dm = dsd.calc_Dmpq_binned(4, 3, ND_resampled)\n",
    "D = ND_resampled['diameter']\n",
    "dD = ND_resampled['max_diameter'] - ND_resampled['min_diameter']\n",
    "\n",
    "# D_m = D / 1000.\n",
    "# dD_m = dD / 1000.\n",
    "# Dm_m = Dm\n",
    "\n",
    "# # print(D_m * 1000.)\n",
    "# # print(dD_m * 1000.)\n",
    "# # print(Dm_m * 1000.)\n",
    "\n",
    "# ND_mneg4 = ND_resampled * 1000.\n",
    "\n",
    "# sigma_numerator_bin = (D_m - Dm_m)**2. * ND_mneg4 * D_m**3. * dD_m\n",
    "# #print(sigma_numerator_bin)\n",
    "# sigma_numerator = sigma_numerator_bin.sum(dim='diameter_bin') # np.sum(sigma_numerator_bin, axis=0)\n",
    "# #print(sigma_numerator)\n",
    "\n",
    "# M3, _ = dsd.calc_moment_bin(ND_resampled, moment=3)\n",
    "# #print(M3)\n",
    "\n",
    "\n",
    "# sigma = np.sqrt(sigma_numerator / M3)\n",
    "# print(sigma)\n",
    "\n",
    "sigma = dsd.calc_sigma(D, dD, ND_resampled)"
   ]
  },
  {
   "cell_type": "code",
   "execution_count": null,
   "metadata": {
    "ExecuteTime": {
     "end_time": "2020-01-29T19:53:54.655443Z",
     "start_time": "2020-01-29T19:53:54.336048Z"
    }
   },
   "outputs": [],
   "source": [
    "# Plot sigma vs Dm\n",
    "fig, ax = plt.subplots(figsize=(10, 10))\n",
    "sc = ax.scatter(Dm * 1000., sigma * 1000.)\n",
    "# ax.set_xlim(0.0, 3.5)\n",
    "# ax.set_ylim(0.0, 2.0)"
   ]
  },
  {
   "cell_type": "code",
   "execution_count": null,
   "metadata": {
    "ExecuteTime": {
     "end_time": "2020-01-29T16:35:55.957277Z",
     "start_time": "2020-01-29T16:35:49.964864Z"
    },
    "scrolled": true
   },
   "outputs": [],
   "source": [
    "M2, _ = dsd.calc_moment_bin(ND_resampled, moment=2)\n",
    "M3, _ = dsd.calc_moment_bin(ND_resampled, moment=3)\n",
    "M4, _ = dsd.calc_moment_bin(ND_resampled, moment=4)\n",
    "M6, _ = dsd.calc_moment_bin(ND_resampled, moment=6)\n",
    "\n",
    "DSD_MM24 = dsd.fit_DSD_MM24(M2, M4)\n",
    "DSD_MM36 = dsd.fit_DSD_MM36(M3, M6)\n",
    "DSD_MM346 = dsd.fit_DSD_MM346(M3, M4, M6)\n",
    "DSD_MM246 = dsd.fit_DSD_MM246(M2, M4, M6)\n",
    "DSD_MM234 = dsd.fit_DSD_MM234(M2, M3, M4)\n",
    "\n",
    "D_min, D_max = dsd.get_max_min_diameters(ND_resampled)\n",
    "print(D_max)\n",
    "\n",
    "DSD_TMM246 = dsd.fit_DSD_TMM_xr(M2, M4, M6, D_min, D_max)"
   ]
  },
  {
   "cell_type": "code",
   "execution_count": null,
   "metadata": {
    "ExecuteTime": {
     "end_time": "2020-01-29T16:35:58.204693Z",
     "start_time": "2020-01-29T16:35:58.124847Z"
    },
    "scrolled": true
   },
   "outputs": [],
   "source": [
    "ND_MM24 = dsd.calc_binned_DSD_from_params(*DSD_MM24, ND_resampled['diameter'])\n",
    "ND_MM36 = dsd.calc_binned_DSD_from_params(*DSD_MM36, ND_resampled['diameter'])\n",
    "ND_MM234 = dsd.calc_binned_DSD_from_params(*DSD_MM234, ND_resampled['diameter'])\n",
    "ND_MM246 = dsd.calc_binned_DSD_from_params(*DSD_MM246, ND_resampled['diameter'])\n",
    "ND_MM346 = dsd.calc_binned_DSD_from_params(*DSD_MM346, ND_resampled['diameter'])\n",
    "ND_TMM246 = dsd.calc_binned_DSD_from_params(*DSD_TMM246, ND_resampled['diameter'])"
   ]
  },
  {
   "cell_type": "code",
   "execution_count": null,
   "metadata": {
    "ExecuteTime": {
     "end_time": "2020-01-29T16:35:59.644397Z",
     "start_time": "2020-01-29T16:35:59.573265Z"
    },
    "code_folding": []
   },
   "outputs": [],
   "source": [
    "# Test plotting of individual DSD\n",
    "time_to_plot = '2016-03-31T22:31:53'\n",
    "\n",
    "axdict = {\n",
    "    'xbin_left': ND_resampled['min_diameter'],\n",
    "    'xbin_mid': ND_resampled['diameter'], \n",
    "    'xbin_right': ND_resampled['max_diameter'],\n",
    "    'xlim': (0.0, 9.0), \n",
    "    'ylim': (10.**2., 10.**8.5), \n",
    "    'interval': int(resample_interval),\n",
    "    'dis_name': 'PIPS_1A'\n",
    "}\n",
    "\n",
    "#print(ND_resampled['time'])\n",
    "\n",
    "PSDdict = {\n",
    "    'ND': ND_resampled.loc[time_to_plot]\n",
    "}\n",
    "\n",
    "PSDfitdict = {\n",
    "    #'Exponential_24': (ND_MM24.loc[time_to_plot], 'Exp fit (MM24)'),\n",
    "    #'Exponential_36': (ND_MM36.loc[time_to_plot], 'Exp fit (MM36)'),\n",
    "    #'Gamma_234': (ND_MM234.loc[time_to_plot], 'Gamma fit (MM234)'),\n",
    "    'Gamma_246': (ND_MM246.loc[time_to_plot], 'Gamma fit (MM246)'),\n",
    "    #'Gamma_346': (ND_MM346.loc[time_to_plot], 'Gamma fit (MM346)')\n",
    "    'TruncGamma_246': (ND_TMM246.loc[time_to_plot], 'Truncated Gamma fit (TMM246)'),\n",
    "}\n",
    "\n",
    "time_to_plot_datetime = pd.to_datetime(time_to_plot).to_pydatetime()\n",
    "\n",
    "print(DSD_TMM246[0].loc[time_to_plot])"
   ]
  },
  {
   "cell_type": "code",
   "execution_count": null,
   "metadata": {
    "ExecuteTime": {
     "end_time": "2020-01-29T16:36:06.972399Z",
     "start_time": "2020-01-29T16:36:05.925057Z"
    }
   },
   "outputs": [],
   "source": [
    "import pyPIPS.timemodule as tm\n",
    "xbin_left = axdict.get('xbin_left', np.empty((0)))\n",
    "xbin_right = axdict.get('xbin_right', np.empty((0)))\n",
    "xbin_mid = axdict.get('xbin_mid', np.empty((0)))\n",
    "ND = PSDdict.get('ND', np.empty((0)))\n",
    "# ND_onedrop = PSDdict.get('ND_onedrop', N.empty((0)))\n",
    "interval = axdict.get('interval', 10)\n",
    "dis_name = axdict.get('dis_name', None)\n",
    "\n",
    "fig1 = plt.figure(figsize=(8, 6))\n",
    "ax1 = fig1.add_subplot(111)\n",
    "plt.title('{0:d}-s DSD fits for time {1} EST'.format(interval, time_to_plot_datetime.strftime(tm.timefmt2)))\n",
    "ax1.bar(xbin_left, ND * 1000.0, xbin_right - xbin_left, 10.**2., align='edge', log=True, color='tan', \n",
    "        edgecolor='k')\n",
    "\n",
    "for fitname, ND_tuple in PSDfitdict.items():\n",
    "    if ((fitname == 'Dis Retr') | (fitname == 'Rad Retr')):\n",
    "        ND_fit = ND_tuple[0] * 1000.\n",
    "    else:\n",
    "        ND_fit = ND_tuple[0]\n",
    "#         print ND_fit\n",
    "    label = ND_tuple[1]\n",
    "    if(ND_fit.size):\n",
    "        ax1.plot(xbin_mid, ND_fit, lw=2, label=label)\n",
    "\n",
    "plt.legend(loc='upper left', numpoints=1, ncol=1, fontsize=8)\n",
    "        \n",
    "ax1.set_yscale('log')\n",
    "ax1.set_ylim(10.**2.0, 10.**8.5)\n",
    "ax1.set_xlim(0.0, 9.0)\n",
    "ax1.set_xlabel('D (mm)')\n",
    "ax1.set_ylabel(r'N(D) $(m^{-4})$')\n"
   ]
  },
  {
   "cell_type": "code",
   "execution_count": null,
   "metadata": {
    "ExecuteTime": {
     "end_time": "2020-01-27T17:15:58.646519Z",
     "start_time": "2020-01-27T17:15:58.568937Z"
    },
    "scrolled": false
   },
   "outputs": [],
   "source": [
    "# Test merging of fit DataArrays to a Dataset\n",
    "\n",
    "#print(DSD_MM24[0])\n",
    "\n",
    "DSD_MM24[0].name = 'N0'\n",
    "DSD_MM24[1].name = 'lamda'\n",
    "# DSD_MM24[2].name = 'alpha'\n",
    "\n",
    "DSD_MM24_da = xr.concat(DSD_MM24[:2], pd.Index(['N0', 'lamda'], name='parameter'))\n",
    "DSD_MM24_da.name = 'DSD_MM24'\n",
    "#print(DSD_MM24_da)\n",
    "\n",
    "# DSD_MM24_ds = xr.merge(DSD_MM24[:2])\n",
    "\n",
    "DSD_MM36[0].name = 'N0'\n",
    "DSD_MM36[1].name = 'lamda'\n",
    "DSD_MM36_da = xr.concat(DSD_MM36[:2], pd.Index(['N0', 'lamda'], name='parameter'))\n",
    "DSD_MM36_da.name = 'DSD_MM36'\n",
    "#print(DSD_MM36_da)\n",
    "\n",
    "# DSD_MM36_ds = xr.merge(DSD_MM36[:2])\n",
    "\n",
    "# fits_ds = xr.concat([DSD_MM24_da, DSD_MM36_da], dim='fit')\n",
    "\n",
    "names = ['DSD_MM24', 'DSD_MM36']\n",
    "data_arrays = [DSD_MM24_da, DSD_MM36_da]\n",
    "\n",
    "fits_ds = xr.Dataset({name: da for name, da in zip(names, data_arrays)})\n",
    "print(fits_ds)\n",
    "\n",
    "# fits_ds = xr.merge([DSD_MM24, DSD_MM36, DSD_MM234, DSD_MM246, DSD_MM346, DSD_TMM246])\n",
    "# print(fits_ds)\n"
   ]
  },
  {
   "cell_type": "code",
   "execution_count": null,
   "metadata": {
    "ExecuteTime": {
     "end_time": "2020-01-27T17:42:21.695621Z",
     "start_time": "2020-01-27T17:42:21.182589Z"
    }
   },
   "outputs": [],
   "source": [
    "conv_df, parsivel_df, _ = pipsio.read_PIPS(filepath)\n",
    "parsivel_ds = parsivel_df.to_xarray()"
   ]
  },
  {
   "cell_type": "code",
   "execution_count": null,
   "metadata": {},
   "outputs": [],
   "source": [
    "DSD_MM246 = fits_ds['DSD_MM']"
   ]
  },
  {
   "cell_type": "code",
   "execution_count": null,
   "metadata": {
    "ExecuteTime": {
     "end_time": "2020-01-27T17:42:36.488537Z",
     "start_time": "2020-01-27T17:42:36.343388Z"
    },
    "scrolled": false
   },
   "outputs": [],
   "source": [
    "# Test converting conventional data DataFrame to xarray\n",
    "\n",
    "print(conv_df)\n",
    "conv_ds = conv_df.to_xarray()\n",
    "conv_ds\n"
   ]
  },
  {
   "cell_type": "code",
   "execution_count": null,
   "metadata": {
    "ExecuteTime": {
     "end_time": "2020-01-27T17:46:53.501518Z",
     "start_time": "2020-01-27T17:46:53.397647Z"
    }
   },
   "outputs": [],
   "source": [
    "conv_ds = pipsio.conv_df_to_ds(conv_df)\n",
    "print(conv_ds)\n",
    "print(conv_ds['GPS_spd'])"
   ]
  },
  {
   "cell_type": "code",
   "execution_count": null,
   "metadata": {
    "ExecuteTime": {
     "end_time": "2020-01-27T19:50:32.653321Z",
     "start_time": "2020-01-27T19:50:32.537173Z"
    }
   },
   "outputs": [],
   "source": [
    "conv_nc_path = './conv_test.nc'\n",
    "pipsio.dump_conv_netcdf(conv_nc_path, conv_ds)\n",
    "conv_ds_from_netcdf.close()\n",
    "conv_ds_from_netcdf = xr.open_dataset(conv_nc_path)\n",
    "print(conv_ds_from_netcdf)\n",
    "print(conv_ds_from_netcdf['time'])"
   ]
  },
  {
   "cell_type": "code",
   "execution_count": null,
   "metadata": {
    "ExecuteTime": {
     "end_time": "2020-01-27T19:50:57.379320Z",
     "start_time": "2020-01-27T19:50:57.312800Z"
    }
   },
   "outputs": [],
   "source": [
    "print(conv_ds_from_netcdf['GPS_time'])"
   ]
  },
  {
   "cell_type": "code",
   "execution_count": null,
   "metadata": {
    "ExecuteTime": {
     "end_time": "2020-01-27T21:23:23.016554Z",
     "start_time": "2020-01-27T21:23:22.496551Z"
    },
    "scrolled": false
   },
   "outputs": [],
   "source": [
    "_, parsivel_df, vd_matrix_da = pipsio.read_PIPS(filepath)\n",
    "parsivel_ds = pipsio.parsivel_df_to_ds(parsivel_df)"
   ]
  },
  {
   "cell_type": "code",
   "execution_count": null,
   "metadata": {
    "ExecuteTime": {
     "end_time": "2020-01-27T21:29:19.662216Z",
     "start_time": "2020-01-27T21:29:19.558641Z"
    },
    "scrolled": false
   },
   "outputs": [],
   "source": [
    "parsivel_ds = pipsio.combine_parsivel_data(parsivel_ds, vd_matrix_da)\n",
    "parsivel_ds"
   ]
  },
  {
   "cell_type": "code",
   "execution_count": null,
   "metadata": {},
   "outputs": [],
   "source": []
  }
 ],
 "metadata": {
  "anaconda-cloud": {},
  "hide_input": false,
  "kernelspec": {
   "display_name": "Python [conda env:pyPIPS]",
   "language": "python",
   "name": "conda-env-pyPIPS-py"
  },
  "language_info": {
   "codemirror_mode": {
    "name": "ipython",
    "version": 3
   },
   "file_extension": ".py",
   "mimetype": "text/x-python",
   "name": "python",
   "nbconvert_exporter": "python",
   "pygments_lexer": "ipython3",
   "version": "3.7.3"
  },
  "toc": {
   "base_numbering": 1,
   "nav_menu": {},
   "number_sections": true,
   "sideBar": true,
   "skip_h1_title": false,
   "title_cell": "Table of Contents",
   "title_sidebar": "Contents",
   "toc_cell": false,
   "toc_position": {},
   "toc_section_display": true,
   "toc_window_display": false
  },
  "varInspector": {
   "cols": {
    "lenName": 16,
    "lenType": 16,
    "lenVar": 40
   },
   "kernels_config": {
    "python": {
     "delete_cmd_postfix": "",
     "delete_cmd_prefix": "del ",
     "library": "var_list.py",
     "varRefreshCmd": "print(var_dic_list())"
    },
    "r": {
     "delete_cmd_postfix": ") ",
     "delete_cmd_prefix": "rm(",
     "library": "var_list.r",
     "varRefreshCmd": "cat(var_dic_list()) "
    }
   },
   "types_to_exclude": [
    "module",
    "function",
    "builtin_function_or_method",
    "instance",
    "_Feature"
   ],
   "window_display": false
  }
 },
 "nbformat": 4,
 "nbformat_minor": 2
}
