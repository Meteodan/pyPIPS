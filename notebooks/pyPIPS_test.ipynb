{
 "cells": [
  {
   "cell_type": "markdown",
   "metadata": {},
   "source": [
    "# A testing ground for pyPIPS functionality"
   ]
  },
  {
   "cell_type": "code",
   "execution_count": null,
   "metadata": {
    "ExecuteTime": {
     "end_time": "2020-06-17T18:57:58.365145Z",
     "start_time": "2020-06-17T18:57:55.011973Z"
    }
   },
   "outputs": [],
   "source": [
    "%load_ext autoreload\n",
    "%autoreload 2\n",
    "import numpy as np\n",
    "import numpy.ma as ma\n",
    "import matplotlib\n",
    "import matplotlib.pyplot as plt\n",
    "import matplotlib.cm as cm\n",
    "import matplotlib.ticker as ticker\n",
    "import matplotlib.dates as dates\n",
    "from mpl_toolkits.axes_grid1 import ImageGrid,make_axes_locatable,host_subplot\n",
    "#from mpl_toolkits.basemap import Basemap\n",
    "from datetime import datetime, timedelta\n",
    "import sys\n",
    "import os\n",
    "import pyPIPS.utils as utils\n",
    "import pyPIPS.thermolib as thermo\n",
    "import pyPIPS.DSDlib as dsd\n",
    "#import pyPIPS.disdrometer_module as dis\n",
    "import pyPIPS.plotmodule as PIPSplot\n",
    "#import pyPIPS.simulator as sim\n",
    "import pyPIPS.pips_io as pipsio\n",
    "import pyPIPS.PIPS as pips\n",
    "import pyPIPS.parsivel_params as pp\n",
    "import pyPIPS.parsivel_qc as pqc\n",
    "import pyPIPS.polarimetric as dualpol\n",
    "#from pyCRMtools.modules import plotmodule as plotmod\n",
    "from pyCRMtools.modules import utils as CRMutils\n",
    "from pyCRMtools.pycaps import arps_read\n",
    "from pyCRMtools.pycaps import pycaps_fields\n",
    "from pyCRMtools.pycaps import calvars_radar as radar\n",
    "import pandas as pd\n",
    "import xarray as xr\n",
    "import glob\n",
    "import numpy.random as random\n",
    "from scipy.stats import gamma, uniform\n",
    "from scipy.special import gamma as gammafunc\n",
    "from scipy import ndimage\n",
    "from metpy.plots import StationPlot\n",
    "from metpy.calc import wind_components\n",
    "from metpy.cbook import get_test_data\n",
    "from metpy.plots import StationPlot\n",
    "from metpy.plots.wx_symbols import current_weather, sky_cover\n",
    "from metpy.units import units\n",
    "import warnings\n",
    "warnings.simplefilter('ignore')\n",
    "%matplotlib inline"
   ]
  },
  {
   "cell_type": "code",
   "execution_count": null,
   "metadata": {
    "ExecuteTime": {
     "end_time": "2020-05-21T17:50:11.152740Z",
     "start_time": "2020-05-21T17:50:11.071212Z"
    }
   },
   "outputs": [],
   "source": [
    "# Below is a snippet of code where I was trying to figure out how to retrieve just those times in a Dataset\n",
    "# that were duplicated.\n",
    "\n",
    "print(parsivel_ds_read.coords['time'])\n",
    "print(len(parsivel_ds_read.time))\n",
    "print(len(np.unique(parsivel_ds_read.time.data)))\n",
    "unique_times = np.unique(parsivel_ds_read['time'])\n",
    "print(unique_times)\n",
    "duplicated = parsivel_ds_read.indexes['time'].duplicated()\n",
    "print(duplicated)\n",
    "dup_indices = np.where(duplicated)[0]\n",
    "print(dup_indices)\n",
    "#duplicated = xr.DataArray(parsivel_ds_read.indexes['time'].duplicated())\n",
    "duplicated_times = parsivel_ds_read['time'].isel(time=dup_indices)\n",
    "print(duplicated_times)\n",
    "duplicated_times_only = parsivel_ds_read.isel(time=dup_indices)\n",
    "print(duplicated_times_only)"
   ]
  },
  {
   "cell_type": "code",
   "execution_count": null,
   "metadata": {
    "ExecuteTime": {
     "end_time": "2020-06-17T19:00:16.165029Z",
     "start_time": "2020-06-17T19:00:03.721644Z"
    },
    "code_folding": [],
    "scrolled": false
   },
   "outputs": [],
   "source": [
    "from natsort import natsorted\n",
    "from pprint import pprint\n",
    "\n",
    "def remove_unneeded(ds):\n",
    "    dim_names_to_remove = ['fields_KHTX', 'fields_KGWX', 'fields']\n",
    "    ds = ds.drop_dims(dim_names_to_remove, errors='ignore')\n",
    "    return ds\n",
    "#\n",
    "\n",
    "PIPS_dir = '/Volumes/scr_fast/Projects/VORTEXSE/obsdata/full_PIPS_dataset/'\n",
    "#parsivel_filename = os.path.join(PIPS_dir, 'parsivel_combined_FMCW_2017_043017_PIPS2A_60s.nc')\n",
    "#\n",
    "#parsivel_ds = xr.open_dataset(parsivel_filename) \n",
    "parsivel_filenames = glob.glob(PIPS_dir + '/parsivel_combined*60s*nc')\n",
    "parsivel_ds_read = xr.open_mfdataset(parsivel_filenames, combine='nested', concat_dim=\"time\", \n",
    "                                     data_vars='minimal', coords='minimal', compat='override', parallel=True)\n",
    "#parsivel_filenames = glob.glob(PIPS_dir + '/parsivel_combined*IOP4B_D1_2016*60s*nc')\n",
    "#parsivel_filenames = natsorted(parsivel_filenames)\n",
    "# total_DSDs = 0\n",
    "# for parsivel_filename in parsivel_filenames:\n",
    "#     parsivel_ds = xr.open_dataset(parsivel_filename)\n",
    "#     vd_matrix_qc = parsivel_ds['VD_matrix_qc']\n",
    "#     pcount2 = vd_matrix_qc.sum(dim=['fallspeed_bin', 'diameter_bin'])\n",
    "#     pcount = parsivel_ds['pcount']\n",
    "#     fig, ax = plt.subplots()\n",
    "#     pcount.plot(ax=ax)\n",
    "#     pcount2.plot(ax=ax)\n",
    "# #     ND = parsivel_ds['ND_qc']\n",
    "# #     ND = ND.where(ND > 0.)\n",
    "# #     ND = ND.dropna(dim='time', how='all')\n",
    "# #     num_DSDs = ND.sizes['time']\n",
    "# #     total_DSDs = total_DSDs + num_DSDs\n",
    "# #     print(\"Number of non-zero DSDs: {:d}\".format(num_DSDs))\n",
    "#     parsivel_ds.close()\n",
    "    \n",
    "# print(\"Total number of non-zero DSDs: {:d}\".format(total_DSDs))\n",
    "\n",
    "# parsivel_filename = os.path.join(PIPS_dir, 'ND_combined_full_dataset_60s.nc')\n",
    "# parsivel_ds = xr.open_dataset(parsivel_filename)\n",
    "\n",
    "#parsivel_ds = xr.open_dataset(parsivel_filenames[0])\n",
    "#print(len(parsivel_filenames))\n",
    "#pprint([os.path.basename(f) for f in parsivel_filenames])\n",
    "#parsivel_ds = xr.open_mfdataset(parsivel_filenames, combine='nested', concat_dim='time', preprocess=pipsio.remove_unneeded) #, combine='nested', concat_dim='time')\n",
    "# ND = parsivel_ds['ND_qc']\n",
    "# ND = ND.where(ND > 0.)\n",
    "# ND = ND.dropna(dim='time', how='all')\n",
    "# total_DSDs = ND.sizes['time']\n",
    "# print(\"Total number of non-zero DSDs: {:d}\".format(total_DSDs))\n",
    "#pprint(parsivel_filenames[34:])\n",
    "#parsivel_filename = 'parsivel_combined_FMCW_2017_043017_PIPS2A_60s.nc'\n",
    "#PIPS_dir = '/Users/dawson29/sshfs_mounts/depot/data/Projects/TriPIPS/2019'\n",
    "#parsivel_filename = 'parsivel_combined_TriPIPS_092719_TriPIPS_10s.nc'\n",
    "#parsivel_filepath = os.path.join(PIPS_dir, parsivel_filename)\n",
    "#parsivel_ds = xr.open_dataset(parsivel_filepath)"
   ]
  },
  {
   "cell_type": "code",
   "execution_count": null,
   "metadata": {},
   "outputs": [],
   "source": [
    "# Remove some attributes that are no longer needed\n",
    "# for parsivel_filename in parsivel_filenames:\n",
    "#     print(\"Removing unneeded attributes for {}\".format(parsivel_filename))\n",
    "#     parsivel_ds = xr.load_dataset(parsivel_filename)\n",
    "#     # del parsivel_ds.attrs['CG_coeff_SATP_new']\n",
    "#     # del parsivel_ds.attrs['CG_coeff_TMM_F_new']\n",
    "#     del parsivel_ds.attrs['CG_coeff']\n",
    "#     parsivel_ds.to_netcdf(parsivel_filename)"
   ]
  },
  {
   "cell_type": "code",
   "execution_count": null,
   "metadata": {
    "ExecuteTime": {
     "end_time": "2020-06-17T19:01:02.887663Z",
     "start_time": "2020-06-17T19:01:02.810215Z"
    }
   },
   "outputs": [],
   "source": [
    "print(parsivel_ds_read.attrs)\n",
    "print(parsivel_ds_read.attrs['CG_coeff_SATP'])"
   ]
  },
  {
   "cell_type": "code",
   "execution_count": null,
   "metadata": {
    "ExecuteTime": {
     "end_time": "2020-05-21T17:50:30.076660Z",
     "start_time": "2020-05-21T17:50:29.817003Z"
    }
   },
   "outputs": [],
   "source": [
    "parsivel_ds = parsivel_ds.where(parsivel_ds['rainrate_derived_qc'] > 0.1)"
   ]
  },
  {
   "cell_type": "code",
   "execution_count": null,
   "metadata": {
    "ExecuteTime": {
     "end_time": "2020-05-21T17:50:31.655841Z",
     "start_time": "2020-05-21T17:50:31.571121Z"
    }
   },
   "outputs": [],
   "source": [
    "print(pp.parsivel_parameters['avg_diameter_bins_mm'])"
   ]
  },
  {
   "cell_type": "code",
   "execution_count": null,
   "metadata": {
    "ExecuteTime": {
     "end_time": "2020-05-21T17:50:34.033094Z",
     "start_time": "2020-05-21T17:50:33.137415Z"
    }
   },
   "outputs": [],
   "source": [
    "ND = parsivel_ds['ND_qc']\n",
    "dD = pp.parsivel_parameters['max_diameter_bins_mm'] - pp.parsivel_parameters['min_diameter_bins_mm']\n",
    "dualpol_dict = dualpol.calpolrain(10.7, '/Users/dawson29/Projects/pyPIPS/tmatrix/S-Band/SCTT_RAIN_fw100.dat',\n",
    "                                  ND, dD)"
   ]
  },
  {
   "cell_type": "code",
   "execution_count": null,
   "metadata": {
    "ExecuteTime": {
     "end_time": "2020-05-21T17:50:35.959725Z",
     "start_time": "2020-05-21T17:50:35.694697Z"
    }
   },
   "outputs": [],
   "source": [
    "ZDR = dualpol_dict['ZDR']\n",
    "parsivel_ds = parsivel_ds.where(ZDR > 0.1)"
   ]
  },
  {
   "cell_type": "code",
   "execution_count": null,
   "metadata": {
    "ExecuteTime": {
     "end_time": "2020-05-21T17:50:37.755540Z",
     "start_time": "2020-05-21T17:50:37.638599Z"
    }
   },
   "outputs": [],
   "source": [
    "print(parsivel_ds)"
   ]
  },
  {
   "cell_type": "code",
   "execution_count": null,
   "metadata": {
    "ExecuteTime": {
     "end_time": "2020-05-21T17:50:54.405905Z",
     "start_time": "2020-05-21T17:50:54.223962Z"
    },
    "scrolled": true
   },
   "outputs": [],
   "source": [
    "ND = parsivel_ds['ND_qc']\n",
    "Dm_obs = parsivel_ds['Dm43'] * 1000.\n",
    "parsivel_ds['Dm43'] = parsivel_ds['Dm43'] * 1000.\n",
    "Dm_retr_SATP = parsivel_ds['Dm_retr_SATP_new']\n",
    "Dm_retr_TMM_F = parsivel_ds['Dm_retr_TMM_F_new']\n",
    "Dm_retr_C08 = parsivel_ds['Dm_retr_C08']\n",
    "Dm_retr_Z01 = parsivel_ds['Dm_retr_Z01']\n",
    "RR_obs = parsivel_ds['rainrate_derived_qc']"
   ]
  },
  {
   "cell_type": "code",
   "execution_count": null,
   "metadata": {
    "ExecuteTime": {
     "end_time": "2020-05-21T17:51:10.070543Z",
     "start_time": "2020-05-21T17:51:05.071134Z"
    },
    "scrolled": false
   },
   "outputs": [],
   "source": [
    "parsivel_ds.plot.scatter(x='Dm43', y='Dm_retr_SATP_new')\n",
    "parsivel_ds.plot.scatter(x='Dm43', y='Dm_retr_C08')\n",
    "parsivel_ds.plot.scatter(x='Dm43', y='Dm_retr_Z01')\n",
    "parsivel_ds.plot.scatter(x='Dm43', y='Dm_retr_TMM_F_new')"
   ]
  },
  {
   "cell_type": "code",
   "execution_count": null,
   "metadata": {
    "ExecuteTime": {
     "end_time": "2020-05-21T17:51:44.444813Z",
     "start_time": "2020-05-21T17:51:17.209532Z"
    },
    "scrolled": true
   },
   "outputs": [],
   "source": [
    "import matplotlib.colors as colors\n",
    "\n",
    "\n",
    "for title, Dm_retr in zip(['VSE relation', 'C08 relation', 'Z01 relation', 'TMM (filtered) relation'], \n",
    "                          [Dm_retr_SATP, Dm_retr_C08, Dm_retr_Z01, Dm_retr_TMM_F]):\n",
    "    overlap = (Dm_obs > 0.) & (Dm_retr > 0.)\n",
    "    Dm_obs_plt = Dm_obs.where(overlap)\n",
    "    Dm_retr_plt = Dm_retr.where(overlap)\n",
    "    Dm_ds = xr.Dataset({'Dm_obs': Dm_obs_plt, 'Dm_retr': Dm_retr_plt, 'RR_obs': RR_obs})\n",
    "    axparams = {\n",
    "        'var_lims': [[0.0, 4.5], [0.0, 4.5]],\n",
    "        'col_field': 'RR_obs',\n",
    "        'col_field_lims': [0.1, 200.],\n",
    "        'norm': colors.LogNorm(vmin=0.1, vmax=200.),\n",
    "        'alpha': 0.75,\n",
    "        'markersize': 5,\n",
    "        'label_x': r'$D_m$ (obs; mm)',\n",
    "        'label_y': r'$D_m$ (retrieved; mm)',\n",
    "        'label_cb': r'$RR$ (mm h$^{-1}$)'\n",
    "    }\n",
    "    fig, ax = PIPSplot.plot_one2one(Dm_ds, 'Dm_obs', 'Dm_retr', axparams)\n",
    "    ax.set_title(title)"
   ]
  },
  {
   "cell_type": "code",
   "execution_count": null,
   "metadata": {
    "ExecuteTime": {
     "end_time": "2020-05-21T17:59:05.503322Z",
     "start_time": "2020-05-21T17:58:15.582856Z"
    },
    "scrolled": true
   },
   "outputs": [],
   "source": [
    "Nt_obs = dsd.calc_NT_from_bins(parsivel_ds['ND_qc'])\n",
    "Nt_retr_SATP = parsivel_ds['Nt_retr_SATP_new']\n",
    "Nt_retr_C08 = parsivel_ds['Nt_retr_C08']\n",
    "Nt_retr_Z01 = parsivel_ds['Nt_retr_Z01']\n",
    "Nt_retr_TMM_F = parsivel_ds['Nt_retr_TMM_F_new']\n",
    "var_obs = Nt_obs\n",
    "for title, var_retr in zip(['VSE relation', 'C08 relation', 'Z01 relation', 'TMM (filtered) relation'], \n",
    "                           [Nt_retr_SATP, Nt_retr_C08, Nt_retr_Z01, Nt_retr_TMM_F]):\n",
    "    overlap = (var_obs > 0.) & (var_retr > 0.)\n",
    "    var_obs_plt = var_obs.where(overlap)\n",
    "    var_retr_plt = var_retr.where(overlap)\n",
    "    var_ds = xr.Dataset({'var_obs': var_obs_plt, 'var_retr': var_retr_plt, 'RR_obs': RR_obs})\n",
    "    axparams = {\n",
    "        'var_lims': [[0.0, 4.5], [0.0, 4.5]],\n",
    "        'plot_log': [True, True],\n",
    "        'col_field': 'RR_obs',\n",
    "        'col_field_lims': [0.1, 200.],\n",
    "        'norm': colors.LogNorm(vmin=0.1, vmax=200.),\n",
    "        'alpha': 0.75,\n",
    "        'markersize': 5,\n",
    "        'label_x': r'$N_T$ (obs; #/m3)',\n",
    "        'label_y': r'$N_T$ (retrieved; #/m3)',\n",
    "        'label_cb': r'$RR$ (mm h$^{-1}$)'\n",
    "    }\n",
    "    fig, ax = PIPSplot.plot_one2one(var_ds, 'var_obs', 'var_retr', axparams)\n",
    "    ax.set_title(title)"
   ]
  },
  {
   "cell_type": "code",
   "execution_count": null,
   "metadata": {
    "ExecuteTime": {
     "end_time": "2020-05-21T17:58:13.471752Z",
     "start_time": "2020-05-21T17:57:49.188608Z"
    },
    "scrolled": true
   },
   "outputs": [],
   "source": [
    "RR_retr_SATP = parsivel_ds['RR_retr_SATP_new']\n",
    "RR_retr_C08 = parsivel_ds['RR_retr_C08']\n",
    "RR_retr_Z01 = parsivel_ds['RR_retr_Z01']\n",
    "RR_retr_TMM_F = parsivel_ds['RR_retr_TMM_F_new']\n",
    "var_obs = RR_obs\n",
    "for title, var_retr in zip(['VSE relation', 'C08 relation', 'Z01 relation', 'TMM (filtered) relation'], \n",
    "                           [RR_retr_SATP, RR_retr_C08, RR_retr_Z01, RR_retr_TMM_F]):\n",
    "    overlap = (var_obs > 0.) & (var_retr > 0.)\n",
    "    var_obs_plt = var_obs.where(overlap)\n",
    "    var_retr_plt = var_retr.where(overlap)\n",
    "    var_ds = xr.Dataset({'var_obs': var_obs_plt, 'var_retr': var_retr_plt, 'RR_obs': RR_obs})\n",
    "    axparams = {\n",
    "        'var_lims': [[0.0, 250.], [0.0, 250.]],\n",
    "        'plot_log': [False, False],\n",
    "        'col_field': 'RR_obs',\n",
    "        'col_field_lims': [0.1, 200.],\n",
    "        'norm': colors.LogNorm(vmin=0.1, vmax=200.),\n",
    "        'alpha': 0.75,\n",
    "        'markersize': 5,\n",
    "        'label_x': r'$RR$ (obs; mm h$^{-1}$)',\n",
    "        'label_y': r'$RR$ (retrieved; mm h$^{-1}$)',\n",
    "        'label_cb': r'$RR$ (mm h$^{-1}$)'\n",
    "    }\n",
    "    fig, ax = PIPSplot.plot_one2one(var_ds, 'var_obs', 'var_retr', axparams)\n",
    "    ax.set_title(title)"
   ]
  },
  {
   "cell_type": "code",
   "execution_count": null,
   "metadata": {
    "ExecuteTime": {
     "end_time": "2020-04-08T16:37:09.405546Z",
     "start_time": "2020-04-08T16:37:08.169982Z"
    }
   },
   "outputs": [],
   "source": [
    "RR_retr_SATP = parsivel_ds['RR_retr_SATP_new']\n",
    "RR_retr_C08 = parsivel_ds['RR_retr_C08']\n",
    "RR_retr_Z01 = parsivel_ds['RR_retr_Z01']\n",
    "RR_retr_TMM_F = parsivel_ds['RR_retr_TMM_F_new']\n",
    "var_obs = RR_obs\n",
    "\n",
    "for title, var_retr in zip(['VSE relation', 'C08 relation', 'Z01 relation', 'TMM (filtered) relation'], \n",
    "                           [RR_retr_SATP, RR_retr_C08, RR_retr_Z01, RR_retr_TMM_F]):\n",
    "    overlap = (var_obs > 0.) & (var_retr > 0.)\n",
    "    var_obs_plt = var_obs.where(overlap)\n",
    "    var_retr_plt = var_retr.where(overlap)\n",
    "    var_ds = xr.Dataset({'var_obs': var_obs_plt, 'var_retr': var_retr_plt, 'RR_obs': RR_obs})\n",
    "    axparams = {\n",
    "        'var_lims': [[0.0, 250.], [0.0, 250.]],\n",
    "        'plot_log': [False, False],\n",
    "        'col_field': 'RR_obs',\n",
    "        'col_field_lims': [0.1, 200.],\n",
    "        'norm': colors.LogNorm(vmin=0.1, vmax=200.),\n",
    "        'alpha': 0.75,\n",
    "        'markersize': 5,\n",
    "        'label_x': r'$RR$ (obs; mm h$^{-1}$)',\n",
    "        'label_y': r'$RR$ (retrieved; mm h$^{-1}$)',\n",
    "        'label_cb': r'$RR$ (mm h$^{-1}$)'\n",
    "    }\n",
    "    fig, ax = PIPSplot.plot_one2one(var_ds, 'var_obs', 'var_retr', axparams)\n",
    "    ax.set_title(title)"
   ]
  },
  {
   "cell_type": "code",
   "execution_count": null,
   "metadata": {
    "ExecuteTime": {
     "end_time": "2020-05-28T13:29:36.330052Z",
     "start_time": "2020-05-28T13:29:35.027317Z"
    }
   },
   "outputs": [],
   "source": [
    "D0 = dsd.calc_D0_bin(ND.load()) * 1000.\n",
    "dualpol_dict = dualpol.calpolrain(10.7, '/Users/dawson29/Projects/pyPIPS/tmatrix/S-Band/SCTT_RAIN_fw100.dat',\n",
    "                                  ND, dD)\n",
    "ZDR = dualpol_dict['ZDR']\n",
    "overlap = (D0 > 0.) & (ZDR > 0.)\n",
    "D0 = D0.where(overlap)\n",
    "ZDR = ZDR.where(overlap)\n",
    "RR_obs = RR_obs.where(overlap)\n",
    "\n",
    "D0_ds = xr.Dataset({'D0': D0, 'ZDR': ZDR, 'RR_obs': RR_obs})\n",
    "\n",
    "D0_vals = D0.values\n",
    "ZDR_vals = ZDR.values\n",
    "\n",
    "goodindices = np.isfinite(D0_vals) & np.isfinite(ZDR_vals)\n",
    "D0_vals = D0_vals[goodindices]\n",
    "ZDR_vals = ZDR_vals[goodindices]"
   ]
  },
  {
   "cell_type": "code",
   "execution_count": null,
   "metadata": {
    "ExecuteTime": {
     "end_time": "2020-05-28T13:29:46.124536Z",
     "start_time": "2020-05-28T13:29:43.043793Z"
    }
   },
   "outputs": [],
   "source": [
    "\n",
    "axparams = {\n",
    "    'var_lims': [[0., 4.], [0., 5.]],\n",
    "    'plot_log': [False, False],\n",
    "    'col_field': 'RR_obs',\n",
    "    'col_field_lims': [0.1, 200.],\n",
    "    'norm': colors.LogNorm(vmin=0.1, vmax=200.),\n",
    "    'alpha': 0.75,\n",
    "    'markersize': 5,\n",
    "    'label_x': r'$Z_{DR}$ (dB)',\n",
    "    'label_y': r'$D_0 (mm)$', \n",
    "    'label_cb': r'$RR$ (mm h$^{-1}$)'\n",
    "}\n",
    "fig, ax = PIPSplot.plot_scatter(D0_ds, 'ZDR', 'D0', axparams)\n",
    "poly_coeff, poly = dsd.calc_empirical_polyfit(ZDR_vals, D0_vals, order=3)\n",
    "print(poly_coeff)\n",
    "\n",
    "xx = np.linspace(0., 4.)\n",
    "yy = poly(xx)\n",
    "ax.plot(xx, yy, 'k')\n",
    "\n",
    "D0_cao = 0.0436 * (xx**3.) - 0.216 * (xx**2.) + 1.076 * xx + 0.659\n",
    "ax.plot(xx, D0_cao, 'b')"
   ]
  },
  {
   "cell_type": "code",
   "execution_count": null,
   "metadata": {
    "ExecuteTime": {
     "end_time": "2020-05-28T13:33:34.542337Z",
     "start_time": "2020-05-28T13:33:26.830591Z"
    }
   },
   "outputs": [],
   "source": [
    "overlap = (RR_obs > 0.) & (RR_retr_SATP > 0.)\n",
    "RR_obs_plt = RR_obs.where(overlap)\n",
    "RR_retr_SATP_plt = RR_retr_SATP.where(overlap)\n",
    "dD = ND['max_diameter'] - ND['min_diameter']\n",
    "dualpol_dict = dualpol.calpolrain(10.7, '/Users/dawson29/Projects/pyPIPS/tmatrix/S-Band/SCTT_RAIN_fw100.dat',\n",
    "                                  ND, dD)\n",
    "ZH = dualpol_dict['ZH']\n",
    "ZH = ZH.where(ZH > 0.)\n",
    "RRdZH_obs = RR_obs_plt/ZH\n",
    "RRdZH_retr_SATP = RR_retr_SATP_plt/ZH\n",
    "\n",
    "RRdZH_ds = xr.Dataset({'RRdZH_obs': RRdZH_obs, 'RRdZH_retr_SATP': RRdZH_retr_SATP, 'RR_obs': RR_obs_plt})\n",
    "\n",
    "axparams = {\n",
    "    'var_lims': [[-4., -1.5], [-4., -1.5]],\n",
    "    'plot_log': [True, True],\n",
    "    'col_field': 'RR_obs',\n",
    "    'col_field_lims': [0.1, 200.],\n",
    "    'norm': colors.LogNorm(vmin=0.1, vmax=200.),\n",
    "    'alpha': 0.75,\n",
    "    'markersize': 5,\n",
    "    'label_x': r'$\\log{R/Z_H}$ (obs)',\n",
    "    'label_y': r'$\\log{R/Z_H}$ (retrieved)',\n",
    "    'label_cb': r'$RR$ (mm h$^{-1}$)'\n",
    "}\n",
    "PIPSplot.plot_one2one(RRdZH_ds, 'RRdZH_obs', 'RRdZH_retr_SATP', axparams)"
   ]
  },
  {
   "cell_type": "code",
   "execution_count": null,
   "metadata": {
    "ExecuteTime": {
     "end_time": "2020-04-08T16:37:15.071440Z",
     "start_time": "2020-04-08T16:37:14.963115Z"
    }
   },
   "outputs": [],
   "source": [
    "RR_obs = dsd.calc_rainrate_from_bins(ND)\n",
    "dD = ND['max_diameter'] - ND['min_diameter']\n",
    "dualpol_dict = dualpol.calpolrain(10.7, '/Users/dawson29/Projects/pyPIPS/tmatrix/S-Band/SCTT_RAIN_fw100.dat',\n",
    "                                  ND, dD)\n",
    "ZH = dualpol_dict['ZH']\n",
    "ZH = ZH.where(ZH > 0.)\n",
    "RRdZH_obs = RR_obs/ZH\n",
    "ZDR = dualpol_dict['ZDR']\n",
    "overlap = (RRdZH_obs > 0.) & (ZDR > 0.)\n",
    "RRdZH_obs = RRdZH_obs.where(overlap)\n",
    "ZDR = ZDR.where(overlap)\n",
    "\n",
    "RRdZH_ZDR_ds = xr.Dataset({'RRdZH': RRdZH_obs, 'ZDR': ZDR, 'RR_obs': RR_obs})\n",
    "\n",
    "RRdZH_vals = RRdZH_obs.values\n",
    "log_RRdZH_vals = np.log10(RRdZH_vals)\n",
    "ZDR_vals = ZDR.values\n",
    "\n",
    "goodindices = np.isfinite(log_RRdZH_vals) & np.isfinite(ZDR_vals)\n",
    "log_RRdZH_vals = log_RRdZH_vals[goodindices]\n",
    "ZDR_vals = ZDR_vals[goodindices]"
   ]
  },
  {
   "cell_type": "code",
   "execution_count": null,
   "metadata": {
    "ExecuteTime": {
     "end_time": "2020-04-08T16:37:16.160794Z",
     "start_time": "2020-04-08T16:37:16.083111Z"
    }
   },
   "outputs": [],
   "source": [
    "from scipy.optimize import curve_fit\n",
    "def func(x, a, b, c, d):\n",
    "    return a*x**3. + b*x**2. + c*x + d\n",
    "\n",
    "popt, pcov = curve_fit(func, ZDR_vals, log_RRdZH_vals)\n",
    "print(popt)\n",
    "\n",
    "# Gives almost the same results (reversed coefficient order...)"
   ]
  },
  {
   "cell_type": "code",
   "execution_count": null,
   "metadata": {
    "ExecuteTime": {
     "end_time": "2020-04-08T16:37:18.813837Z",
     "start_time": "2020-04-08T16:37:17.754654Z"
    }
   },
   "outputs": [],
   "source": [
    "\n",
    "axparams = {\n",
    "    'var_lims': [[0., 4.], [-4., -1.5]],\n",
    "    'plot_log': [False, True],\n",
    "    'col_field': 'RR_obs',\n",
    "    'col_field_lims': [0.1, 200.],\n",
    "    'norm': colors.LogNorm(vmin=0.1, vmax=200.),\n",
    "    'alpha': 0.75,\n",
    "    'markersize': 5,\n",
    "    'label_x': r'$Z_{DR}$ (dB)',\n",
    "    'label_y': r'$\\log{R/Z_H}$', \n",
    "    'label_cb': r'$RR$ (mm h$^{-1}$)'\n",
    "}\n",
    "fig, ax = PIPSplot.plot_scatter(RRdZH_ZDR_ds, 'ZDR', 'RRdZH', axparams)\n",
    "poly_coeff, poly = dsd.calc_empirical_polyfit(ZDR_vals, log_RRdZH_vals, order=3)\n",
    "print(poly_coeff)\n",
    "\n",
    "xx = np.linspace(0., 4.)\n",
    "yy = poly(xx)\n",
    "ax.plot(xx, 10.**yy, 'k')\n",
    "\n",
    "RdZH_cao = 10.**(-0.0363 * (xx**3.) + 0.316 * (xx**2.) - 1.178 * xx - 1.964)\n",
    "ax.plot(xx, RdZH_cao, 'b')"
   ]
  },
  {
   "cell_type": "code",
   "execution_count": null,
   "metadata": {
    "ExecuteTime": {
     "end_time": "2020-04-08T16:39:36.186727Z",
     "start_time": "2020-04-08T16:39:34.676186Z"
    }
   },
   "outputs": [],
   "source": [
    "W_obs, _ = dsd.calc_lwc_qr_from_bins(ND, parsivel_filtered_ds['rho'])\n",
    "W_obs = W_obs * 1000.\n",
    "W_retr, _ = dsd.calc_lwc_qr_from_bins(ND_retr, parsivel_filtered_ds['rho']) # parsivel_ds['W_retr']\n",
    "W_retr = W_retr * 1000.\n",
    "overlap = (W_obs > 0.) & (W_retr > 0.)\n",
    "W_obs = W_obs.where(overlap)\n",
    "W_retr = W_retr.where(overlap)\n",
    "dD = ND['max_diameter'] - ND['min_diameter']\n",
    "\n",
    "WdZH_obs = W_obs/ZH\n",
    "WdZH_retr = W_retr/ZH\n",
    "WdZH_ds = xr.Dataset({'WdZH_obs': WdZH_obs, 'WdZH_retr': WdZH_retr, 'RR_obs': RR_obs})\n",
    "\n",
    "axparams = {\n",
    "    'var_lims': [[-6., -2.], [-6, -2.]],\n",
    "    'plot_log': [True, True],\n",
    "    'col_field': 'RR_obs',\n",
    "    'col_field_lims': [0.1, 200.],\n",
    "    'norm': colors.LogNorm(vmin=0.1, vmax=200.),\n",
    "    'alpha': 0.75,\n",
    "    'markersize': 5,\n",
    "    'label_x': r'$\\log{W/Z_H}$ (obs)',\n",
    "    'label_y': r'$\\log{W/Z_H}$ (retrieved)',\n",
    "    'label_cb': r'$RR$ (mm h$^{-1}$)'\n",
    "}\n",
    "PIPSplot.plot_one2one(WdZH_ds, 'WdZH_obs', 'WdZH_retr', axparams)"
   ]
  },
  {
   "cell_type": "code",
   "execution_count": null,
   "metadata": {
    "ExecuteTime": {
     "end_time": "2020-04-08T16:43:19.004775Z",
     "start_time": "2020-04-08T16:43:18.892080Z"
    }
   },
   "outputs": [],
   "source": [
    "W_obs, _ = dsd.calc_lwc_qr_from_bins(ND, parsivel_filtered_ds['rho'])\n",
    "W_obs = W_obs * 1000.\n",
    "overlap = (W_obs > 0.)\n",
    "W_obs = W_obs.where(overlap)\n",
    "#W_obs = dsd.calc_rainrate_from_bins(ND)\n",
    "dD = ND['max_diameter'] - ND['min_diameter']\n",
    "dualpol_dict = dualpol.calpolrain(10.7, '/Users/dawson29/Projects/pyPIPS/tmatrix/S-Band/SCTT_RAIN_fw100.dat',\n",
    "                                  ND, dD)\n",
    "ZH = dualpol_dict['ZH']\n",
    "ZH = ZH.where(ZH > 0.)\n",
    "WdZH_obs = W_obs/ZH\n",
    "ZDR = dualpol_dict['ZDR']\n",
    "overlap = (WdZH_obs > 0.) & (ZDR > 0.)\n",
    "WdZH_obs = WdZH_obs.where(overlap)\n",
    "ZDR = ZDR.where(overlap)\n",
    "\n",
    "WdZH_ZDR_ds = xr.Dataset({'WdZH': WdZH_obs, 'ZDR': ZDR, 'RR_obs': RR_obs})\n",
    "\n",
    "WdZH_vals = WdZH_obs.values\n",
    "log_WdZH_vals = np.log10(WdZH_vals)\n",
    "ZDR_vals = ZDR.values\n",
    "\n",
    "goodindices = np.isfinite(log_WdZH_vals) & np.isfinite(ZDR_vals)\n",
    "log_WdZH_vals = log_WdZH_vals[goodindices]\n",
    "ZDR_vals = ZDR_vals[goodindices]"
   ]
  },
  {
   "cell_type": "code",
   "execution_count": null,
   "metadata": {
    "ExecuteTime": {
     "end_time": "2020-04-08T16:44:43.667011Z",
     "start_time": "2020-04-08T16:44:42.449067Z"
    }
   },
   "outputs": [],
   "source": [
    "\n",
    "axparams = {\n",
    "    'var_lims': [[0., 4.], [-6., -2.]],\n",
    "    'plot_log': [False, True],\n",
    "    'col_field': 'RR_obs',\n",
    "    'col_field_lims': [0.1, 200.],\n",
    "    'norm': colors.LogNorm(vmin=0.1, vmax=200.),\n",
    "    'alpha': 0.75,\n",
    "    'markersize': 5,\n",
    "    'label_x': r'$Z_{DR}$ (dB)',\n",
    "    'label_y': r'$\\log{W/Z_H}$', \n",
    "    'label_cb': r'$RR$ (mm h$^{-1}$)'\n",
    "}\n",
    "fig, ax = PIPSplot.plot_scatter(WdZH_ZDR_ds, 'ZDR', 'WdZH', axparams)\n",
    "poly_coeff, poly = dsd.calc_empirical_polyfit(ZDR_vals, log_WdZH_vals, order=3)\n",
    "print(poly_coeff)\n",
    "\n",
    "xx = np.linspace(0., 4.)\n",
    "yy = poly(xx)\n",
    "ax.plot(xx, 10.**yy, 'k')\n",
    "WdZH_cao = 10.**(-0.0493 * (xx**3.) + 0.430 * (xx**2.) - 1.542 * xx - 3.019)\n",
    "ax.plot(xx, WdZH_cao, 'b')"
   ]
  },
  {
   "cell_type": "code",
   "execution_count": null,
   "metadata": {
    "ExecuteTime": {
     "end_time": "2020-04-08T15:12:01.882940Z",
     "start_time": "2020-04-08T15:12:00.036007Z"
    }
   },
   "outputs": [],
   "source": [
    "Nt_obs = dsd.calc_NT_from_bins(ND)\n",
    "Nt_retr = dsd.calc_NT_from_bins(ND_retr) # parsivel_ds['Nt_retr']\n",
    "overlap = (Nt_obs > 0.) & (Nt_retr > 0.)\n",
    "Nt_obs = Nt_obs.where(overlap)\n",
    "Nt_retr = Nt_retr.where(overlap)\n",
    "dD = ND['max_diameter'] - ND['min_diameter']\n",
    "\n",
    "NtdZH_obs = Nt_obs/ZH\n",
    "NtdZH_retr = Nt_retr/ZH\n",
    "\n",
    "NtdZH_ds = xr.Dataset({'NtdZH_obs': NtdZH_obs, 'NtdZH_retr': NtdZH_retr, 'RR_obs': RR_obs})\n",
    "\n",
    "axparams = {\n",
    "    'var_lims': [[-3., 2.], [-3., 2.]],\n",
    "    'plot_log': [True, True],\n",
    "    'col_field': 'RR_obs',\n",
    "    'col_field_lims': [0.1, 200.],\n",
    "    'norm': colors.LogNorm(vmin=0.1, vmax=200.),\n",
    "    'alpha': 0.75,\n",
    "    'markersize': 5,\n",
    "    'label_x': r'$\\log{N_T/Z_H}$ (obs)',\n",
    "    'label_y': r'$\\log{N_T/Z_H}$ (retrieved)',\n",
    "    'label_cb': r'$RR$ (mm h$^{-1}$)'\n",
    "}\n",
    "PIPSplot.plot_one2one(NtdZH_ds, 'NtdZH_obs', 'NtdZH_retr', axparams)"
   ]
  },
  {
   "cell_type": "code",
   "execution_count": null,
   "metadata": {
    "ExecuteTime": {
     "end_time": "2020-04-08T16:24:42.110619Z",
     "start_time": "2020-04-08T16:24:41.618737Z"
    }
   },
   "outputs": [],
   "source": [
    "parsivel_ds.close()"
   ]
  },
  {
   "cell_type": "code",
   "execution_count": null,
   "metadata": {
    "ExecuteTime": {
     "end_time": "2020-03-10T14:13:42.280261Z",
     "start_time": "2020-03-10T14:13:41.880221Z"
    }
   },
   "outputs": [],
   "source": [
    "from pprint import pprint\n",
    "def roundPartial (value, resolution):\n",
    "    return round(value / resolution) * resolution\n",
    "\n",
    "\n",
    "# Test reading of lookup table\n",
    "D0_lookup = pd.read_csv('/Users/dawson29/Projects/pyPIPS/data/lookups/D0.csv', sep=',', header=0, \n",
    "                        index_col='dBZ')\n",
    "# print(D0_lookup)\n",
    "# print(D0_lookup.index[1]-D0_lookup.index[0])\n",
    "# print(float(D0_lookup.columns[1])-float(D0_lookup.columns[0]))\n",
    "\n",
    "D0_lookup.index = D0_lookup.index.to_series().apply(np.around, decimals=4)\n",
    "\n",
    "D0_lookup.columns = [np.float(col) for col in D0_lookup.columns]\n",
    "D0_lookup.columns = [np.around(col, decimals=4) for col in D0_lookup.columns]\n",
    "\n",
    "pprint(D0_lookup.index.tolist())\n",
    "pprint(D0_lookup.columns.tolist())\n",
    "\n",
    "dBZ = np.around(roundPartial(dBZval, 0.1), decimals=4)\n",
    "ZDR = roundPartial(ZDRval, 0.01)\n",
    "\n",
    "dBZ_vals = np.arange(10., 70., 10.).reshape(3, 2)\n",
    "dBZ_vals = np.ma.masked_where(dBZ_vals == 40., dBZ_vals)\n",
    "mask = dBZ_vals.mask\n",
    "print(dBZ_vals)\n",
    "print(mask)\n",
    "shape = dBZ_vals.shape\n",
    "ZDR_vals = np.arange(0.5, 3.5, 0.5).reshape(3, 2)\n",
    "#print(ZDR_vals.astype('str'))\n",
    "\n",
    "D0_retr_vals = D0_lookup.lookup(dBZ_vals.flatten(), ZDR_vals.flatten())\n",
    "D0_retr_vals = D0_retr_vals.reshape(shape)\n",
    "D0_retr_vals = np.ma.masked_where(mask, D0_retr_vals)\n",
    "\n",
    "print(dBZ_vals.flatten())\n",
    "print(D0_retr_vals)\n",
    "\n",
    "print(min(D0_lookup.index))\n",
    "print(D0_lookup.index[0])\n",
    "print(D0_lookup.columns[-1])"
   ]
  },
  {
   "cell_type": "code",
   "execution_count": null,
   "metadata": {
    "ExecuteTime": {
     "end_time": "2020-04-08T13:22:52.659328Z",
     "start_time": "2020-04-08T13:22:51.490947Z"
    }
   },
   "outputs": [],
   "source": [
    "Dm = parsivel_ds['Dm43'] * 1000.\n",
    "Dm_retr = parsivel_ds['Dm_retr']\n",
    "Dm.plot(ylim=[0., 4.5], color='b')\n",
    "Dm_retr.plot(ylim=[0., 4.5], color='g')"
   ]
  },
  {
   "cell_type": "code",
   "execution_count": null,
   "metadata": {
    "ExecuteTime": {
     "end_time": "2020-03-06T19:44:11.326056Z",
     "start_time": "2020-03-06T19:44:10.980498Z"
    }
   },
   "outputs": [],
   "source": [
    "dD = ND['max_diameter'] - ND['min_diameter']\n",
    "dualpol_dict = dualpol.calpolrain(10.7, '/Users/dawson29/Projects/pyPIPS/tmatrix/S-Band/SCTT_RAIN_fw100.dat',\n",
    "                                  ND, dD)\n",
    "dBZ = dualpol_dict['REF']\n",
    "dualpol_dict_retr = dualpol.calpolrain(10.7, '/Users/dawson29/Projects/pyPIPS/tmatrix/S-Band/SCTT_RAIN_fw100.dat',\n",
    "                                       ND_retr, dD)\n",
    "dBZ_retr = dualpol_dict_retr['REF']\n",
    "\n",
    "dBZ.plot(color='b', ylim=[0., 60.])\n",
    "dBZ_retr.plot(color='g')"
   ]
  },
  {
   "cell_type": "code",
   "execution_count": null,
   "metadata": {
    "ExecuteTime": {
     "end_time": "2020-03-06T19:44:14.669775Z",
     "start_time": "2020-03-06T19:44:14.402191Z"
    }
   },
   "outputs": [],
   "source": [
    "ZDR = dualpol_dict['ZDR']\n",
    "ZDR_retr = dualpol_dict_retr['ZDR']\n",
    "\n",
    "ZDR.plot(color='b')\n",
    "ZDR_retr.plot(color='g')"
   ]
  },
  {
   "cell_type": "code",
   "execution_count": null,
   "metadata": {
    "ExecuteTime": {
     "end_time": "2020-03-06T22:01:22.655470Z",
     "start_time": "2020-03-06T22:01:22.029872Z"
    }
   },
   "outputs": [],
   "source": [
    "RR = parsivel_ds['precipintensity']\n",
    "RR_retr = parsivel_ds['RR_retr']\n",
    "RR.plot(color='b')\n",
    "RR_retr.plot(color='g')"
   ]
  },
  {
   "cell_type": "code",
   "execution_count": null,
   "metadata": {
    "ExecuteTime": {
     "end_time": "2020-03-06T22:01:27.385109Z",
     "start_time": "2020-03-06T22:01:26.064688Z"
    }
   },
   "outputs": [],
   "source": [
    "fig, ax = plt.subplots(figsize=(10,10))\n",
    "ax.scatter(RR, RR_retr)\n",
    "ax.plot(np.linspace(0., 60., num=100), np.linspace(0., 60., num=100))\n",
    "ax.set_xlim(0., 60.)\n",
    "ax.set_ylim(0., 60.)"
   ]
  },
  {
   "cell_type": "code",
   "execution_count": null,
   "metadata": {
    "ExecuteTime": {
     "end_time": "2020-02-17T22:50:49.026471Z",
     "start_time": "2020-02-17T22:50:48.673015Z"
    }
   },
   "outputs": [],
   "source": [
    "# Fit a polynomial\n",
    "lamda = DSD_MM246.sel(parameter='lamda') / 1000. # Get to mm^-1\n",
    "mu = DSD_MM246.sel(parameter='alpha')\n",
    "\n",
    "CG_poly_coeff, CG_poly = dsd.calc_CG_polynomial(lamda, mu)\n",
    "\n",
    "print(CG_poly_coeff)"
   ]
  },
  {
   "cell_type": "code",
   "execution_count": null,
   "metadata": {
    "ExecuteTime": {
     "end_time": "2020-04-08T13:23:10.118268Z",
     "start_time": "2020-04-08T13:23:09.581063Z"
    }
   },
   "outputs": [],
   "source": [
    "op1 = '+' if np.sign(CG_poly_coeff[1]) == 1 else '-'\n",
    "op2 = '+' if np.sign(CG_poly_coeff[0]) == 1 else '-'\n",
    "\n",
    "xx = np.linspace(0.0, 30.0)\n",
    "yy = CG_poly(xx)\n",
    "y_Cao = -0.0201 * xx**2. + 0.902 * xx - 1.718\n",
    "y_Zhang = -0.016 * xx**2. + 1.213 * xx - 1.957\n",
    "fig, ax = plt.subplots(figsize=(10, 10))\n",
    "ax.scatter(lamda, mu, color='k', marker='.')\n",
    "\n",
    "ax.plot(xx, yy, label='Our Relation')\n",
    "ax.plot(xx, y_Cao, label='Cao Relation')\n",
    "ax.plot(xx, y_Zhang, label='Zhang Relation')\n",
    "ax.set_xlim(0.0, 20.0)\n",
    "ax.set_ylim(-5.0, 20.0)\n",
    "ax.set_xlabel(r'$\\lambda$ (mm$^{-1}$)')\n",
    "ax.set_ylabel(r'$\\mu$')\n",
    "ax.text(0.05, 0.90, '# of Points: {:d}'.format(len(lamda)), transform=ax.transAxes, fontsize=12.)\n",
    "polytext = r'$\\mu = {0:2.4f}\\lambda^{{2}} {1} {2:2.4f}\\lambda {3} {4:2.4f}$'.format(CG_poly_coeff[2], op1,\n",
    "                                                                              np.abs(CG_poly_coeff[1]), op2,\n",
    "                                                                              np.abs(CG_poly_coeff[0]))\n",
    "ax.text(0.05, 0.85, polytext, transform=ax.transAxes, fontsize=12.)\n",
    "plt.legend(loc='upper left', numpoints=1, ncol=3, fontsize=12.)"
   ]
  },
  {
   "cell_type": "code",
   "execution_count": null,
   "metadata": {
    "ExecuteTime": {
     "end_time": "2020-02-17T22:56:49.967944Z",
     "start_time": "2020-02-17T22:56:49.302896Z"
    }
   },
   "outputs": [],
   "source": []
  },
  {
   "cell_type": "code",
   "execution_count": null,
   "metadata": {
    "ExecuteTime": {
     "end_time": "2020-02-17T19:52:13.967990Z",
     "start_time": "2020-02-17T19:52:13.860362Z"
    }
   },
   "outputs": [],
   "source": []
  },
  {
   "cell_type": "code",
   "execution_count": null,
   "metadata": {
    "ExecuteTime": {
     "end_time": "2020-02-17T19:42:54.489270Z",
     "start_time": "2020-02-17T19:42:54.415185Z"
    }
   },
   "outputs": [],
   "source": [
    "ND_combined_ds.attrs = ND_combined.attrs\n",
    "print(ND_combined_ds)"
   ]
  },
  {
   "cell_type": "code",
   "execution_count": null,
   "metadata": {
    "ExecuteTime": {
     "end_time": "2020-02-13T20:01:04.745138Z",
     "start_time": "2020-02-13T20:01:04.683448Z"
    },
    "scrolled": true
   },
   "outputs": [],
   "source": [
    "# Define dictionaries, keyed by case date (i.e. '060509', '060709', '060909', '033116'), to store parameters related\n",
    "# to NEXRAD radar data, disdrometer data, and model output, respectively\n",
    "\n",
    "# Case we are looking at right now. Should only have to change this up here and then execute all the cells below\n",
    "# to generate the appropriate analysis\n",
    "casedate = '033116'\n",
    "\n",
    "# Import the file containing the dictionaries needed to gather the radar, disdrometer, and model data.\n",
    "sys.path.append('/Users/dawson29/Dropbox/Projects/VORTEXSE/vortexse_enkf_dsd_study/configs/2016_IOP3')\n",
    "\n",
    "from PIPSsim_1km_dicts import *"
   ]
  },
  {
   "cell_type": "code",
   "execution_count": null,
   "metadata": {
    "ExecuteTime": {
     "end_time": "2020-02-13T20:01:07.505362Z",
     "start_time": "2020-02-13T20:01:05.554721Z"
    }
   },
   "outputs": [],
   "source": [
    "# Read in the PIPS data for the first probe for testing\n",
    "dis_dict = init_dis_dict[casedate]\n",
    "dirname = dis_dict['dis_dir']\n",
    "\n",
    "conv_df_list = []\n",
    "parsivel_df_list = []\n",
    "vd_matrix_da_list = []\n",
    "\n",
    "for i, PIPS_name in enumerate(dis_dict['dis_names']):\n",
    "    print(PIPS_name)\n",
    "    filename = dis_dict['disfilenames'][i]\n",
    "    filepath = os.path.join(dirname, filename)\n",
    "    print(\"Reading file: {}\".format(filepath))\n",
    "    conv_df, parsivel_df, vd_matrix_da = pipsio.read_PIPS(filepath)\n",
    "    conv_df_list.append(conv_df)\n",
    "    parsivel_df_list.append(parsivel_df)\n",
    "    vd_matrix_da_list.append(vd_matrix_da)"
   ]
  },
  {
   "cell_type": "code",
   "execution_count": null,
   "metadata": {
    "ExecuteTime": {
     "end_time": "2020-02-13T20:01:09.692141Z",
     "start_time": "2020-02-13T20:01:09.627781Z"
    }
   },
   "outputs": [],
   "source": [
    "# print(vd_matrix_da)\n",
    "#print(spectrum_da.loc['2016-03-31T22:30'])\n",
    "diameter_bins = pp.parsivel_parameters['avg_diameter_bins_mm']\n",
    "# print(diameter_bins)\n",
    "fallspeed_bins = pp.parsivel_parameters['avg_fallspeed_bins_mps']\n",
    "# print(fallspeed_bins)\n",
    "\n",
    "empirical_fallspeed = pips.calc_empirical_fallspeed(diameter_bins)\n",
    "# print(empirical_fallspeed)\n",
    "\n",
    "fallspeed_spectrum = pips.calc_fallspeed_spectrum(diameter_bins, fallspeed_bins, use_measured_fallspeed=True)\n",
    "print(fallspeed_spectrum)"
   ]
  },
  {
   "cell_type": "code",
   "execution_count": null,
   "metadata": {
    "ExecuteTime": {
     "end_time": "2020-02-13T20:01:14.580596Z",
     "start_time": "2020-02-13T20:01:12.755597Z"
    }
   },
   "outputs": [],
   "source": [
    "# Do some QC\n",
    "vd_matrix_QC_da_list = []\n",
    "for vd_matrix_da in vd_matrix_da_list:\n",
    "    vd_matrix_QC = pqc.strongwindQC(vd_matrix_da)\n",
    "    vd_matrix_QC = pqc.rainonlyQC(vd_matrix_QC)\n",
    "    vd_matrix_QC_da_list.append(vd_matrix_QC)"
   ]
  },
  {
   "cell_type": "code",
   "execution_count": null,
   "metadata": {
    "ExecuteTime": {
     "end_time": "2020-02-13T20:01:33.106226Z",
     "start_time": "2020-02-13T20:01:32.931763Z"
    }
   },
   "outputs": [],
   "source": [
    "# Calculate ND\n",
    "ND_list = []\n",
    "\n",
    "for vd_matrix_QC in vd_matrix_QC_da_list:\n",
    "    ND = pips.calc_ND(vd_matrix_QC.where(vd_matrix_QC > 0.0), fallspeed_spectrum, 10.)\n",
    "    ND_list.append(ND)"
   ]
  },
  {
   "cell_type": "code",
   "execution_count": null,
   "metadata": {
    "ExecuteTime": {
     "end_time": "2020-02-13T22:18:53.912867Z",
     "start_time": "2020-02-13T22:18:53.849782Z"
    }
   },
   "outputs": [],
   "source": [
    "# Set up D0 and RR bins for SATP\n",
    "# Now set up D0 and RR bins for the SATP procedure\n",
    "D0_bins = np.arange(0.05, 7.05, 0.05)\n",
    "# Following is from\n",
    "# https://stackoverflow.com/questions/45234987/numpy-range-created-using-percentage-increment\n",
    "# TODO: make a function out of this and put in pyPIPS.utils\n",
    "RR_start = 0.1\n",
    "RR_stop = 250.\n",
    "RR_pct_incr = 10.\n",
    "RR_incr = (100. + RR_pct_incr) / 100.\n",
    "RR_bins = RR_start * np.full(int(np.log(RR_stop / RR_start) / np.log(RR_incr)),\n",
    "                             RR_incr).cumprod()\n",
    "print(RR_bins)"
   ]
  },
  {
   "cell_type": "code",
   "execution_count": null,
   "metadata": {
    "ExecuteTime": {
     "end_time": "2020-02-13T22:30:45.573779Z",
     "start_time": "2020-02-13T22:30:45.277844Z"
    }
   },
   "outputs": [],
   "source": [
    "DSD_interval = 10.\n",
    "bin_width = ND_list[-1]['max_diameter'] - ND_list[-1]['min_diameter']\n",
    "D0_list = []\n",
    "rainrate_list = []\n",
    "for conv_df, parsivel_df, vd_matrix_QC, ND in zip(conv_df_list, parsivel_df_list, vd_matrix_QC_da_list, ND_list):\n",
    "\n",
    "    conv_df = pips.calc_thermo(conv_df)\n",
    "    # Resample to PIPS intervals and times\n",
    "    \n",
    "    PSD_datetimes = pips.get_PSD_datetimes(vd_matrix_QC)\n",
    "    sec_offset = PSD_datetimes[0].second\n",
    "    conv_resampled_df = pips.resample_conv('PIPS', DSD_interval, sec_offset, conv_df)\n",
    "    conv_resampled_df_index = conv_resampled_df.index.intersection(parsivel_df.index)\n",
    "    conv_resampled_df = conv_resampled_df.loc[conv_resampled_df_index]\n",
    "\n",
    "    # Compute empirical fallspeed curves\n",
    "    fallspeeds = pips.calc_empirical_fallspeed(diameter_bins, correct_rho=True, rho=conv_resampled_df['rho'])\n",
    "    print(ND.shape, fallspeeds.shape)\n",
    "    rainrate_bin = (6. * 10.**-4.) * np.pi * fallspeeds * diameter_bins**3. * ND * bin_width\n",
    "    rainrate = rainrate_bin.sum(dim='diameter_bin')\n",
    "    # rainrate = rainrate.fillna(0.0)\n",
    "    rainrate = rainrate.where(rainrate <= RR_bins[-1])\n",
    "    rainrate = rainrate.where(rainrate > 0.)\n",
    "    \n",
    "    # Compute D0\n",
    "    D0 = dsd.calc_D0_bin(ND) * 1000.\n",
    "    # D0 = D0.fillna(0.0)\n",
    "    print(D0.max())\n",
    "    D0 = D0.where(D0 <= D0_bins[-1])\n",
    "    print(D0.max())\n",
    "    # print(rainrate)\n",
    "    \n",
    "    rainrate_list.append(rainrate)\n",
    "    D0_list.append(D0)\n",
    "    "
   ]
  },
  {
   "cell_type": "code",
   "execution_count": null,
   "metadata": {
    "ExecuteTime": {
     "end_time": "2020-02-13T22:39:55.817363Z",
     "start_time": "2020-02-13T22:39:55.699564Z"
    }
   },
   "outputs": [],
   "source": [
    "ND2_list = []\n",
    "\n",
    "for D0, rainrate, ND in zip(D0_list, rainrate_list, ND_list):\n",
    "    ND2 = ND.copy()\n",
    "    ND2 = ND2.where(ND2 > 0.)\n",
    "    #print(ND2)\n",
    "    # print(D0)\n",
    "    ND2.coords['D0'] = ('time', D0)\n",
    "    ND2.coords['RR'] = ('time', rainrate)\n",
    "    #print(ND2)\n",
    "    \n",
    "    D0_indices = np.digitize(D0, D0_bins)\n",
    "    RR_indices = np.digitize(rainrate, RR_bins)\n",
    "    ND2.coords['D0_RR'] = ('time', pd.MultiIndex.from_arrays([D0_indices, RR_indices], names=['D0_idx', 'RR_idx']))\n",
    "    ND2 = ND2.swap_dims({'time': 'D0_RR'})\n",
    "    #ND2 = ND2.set_index(D0_RR='D0_RR')\n",
    "    ND2_list.append(ND2)\n",
    "\n",
    "print(D0, D0_indices)\n",
    "print(rainrate, RR_indices)"
   ]
  },
  {
   "cell_type": "code",
   "execution_count": null,
   "metadata": {
    "ExecuteTime": {
     "end_time": "2020-02-13T22:39:58.958313Z",
     "start_time": "2020-02-13T22:39:58.352419Z"
    }
   },
   "outputs": [],
   "source": [
    "fig, ax = plt.subplots(figsize=(10,10))\n",
    "ax.hist(D0)\n",
    "fig2, ax2 = plt.subplots(figsize=(10,10))\n",
    "ax2.hist(rainrate)"
   ]
  },
  {
   "cell_type": "code",
   "execution_count": null,
   "metadata": {
    "ExecuteTime": {
     "end_time": "2020-02-13T22:40:03.759872Z",
     "start_time": "2020-02-13T22:40:03.690661Z"
    }
   },
   "outputs": [],
   "source": [
    "print(ND2_list[0])"
   ]
  },
  {
   "cell_type": "code",
   "execution_count": null,
   "metadata": {
    "ExecuteTime": {
     "end_time": "2020-02-13T22:40:17.946921Z",
     "start_time": "2020-02-13T22:40:15.484812Z"
    }
   },
   "outputs": [],
   "source": [
    "ND2_list_2 = []\n",
    "\n",
    "for ND2 in ND2_list:\n",
    "#     print(D0_indices)\n",
    "#     print([D0_bins[x[0]] for x,_ in list(ND2.groupby('D0_RR'))])\n",
    "#     print([RR_bins[x[1]] for x,_ in list(ND2.groupby('D0_RR'))])\n",
    "#     print([y.sizes['time'] for x,y in list(ND2.groupby('D0_RR'))])\n",
    "    #ND2 = ND2.reset_index('time')\n",
    "    ND2_list_2.append(ND2)\n",
    "    \n",
    "ND2_combined = xr.concat(ND2_list_2, dim='D0_RR')\n",
    "ND2_groups = ND2_combined.groupby('D0_RR')\n",
    "print(list(ND2.groupby('D0_RR')))"
   ]
  },
  {
   "cell_type": "code",
   "execution_count": null,
   "metadata": {
    "ExecuteTime": {
     "end_time": "2020-02-13T22:45:13.660615Z",
     "start_time": "2020-02-13T22:44:58.538117Z"
    }
   },
   "outputs": [],
   "source": [
    "print(D0_bins[0])\n",
    "print(RR_bins[0])\n",
    "for group, ND2_group in list(ND2_groups)[:-1]:\n",
    "    num_DSDs = ND2_group.sizes['D0_RR']\n",
    "    #print(group, num_DSDs)\n",
    "    if num_DSDs > 3.:\n",
    "        fig, ax = plt.subplots(figsize=(10,10))\n",
    "        ND_group_avg = ND2_group.mean('D0_RR')\n",
    "        for ND in ND2_group:\n",
    "            # print(ND)\n",
    "            print(D0_bins[group[0]], RR_bins[group[1]])\n",
    "            ax.plot(ND2_group['diameter'], ND, color='0.7', alpha=0.5)\n",
    "            ax.plot(ND2_group['diameter'], ND_group_avg, 'k')\n",
    "#             ax.plot(avg_diameter,\n",
    "#                     Nc_bin_avg[r,\n",
    "#                                d],\n",
    "#                     'k',\n",
    "#                     label='(R,D0) = (%2.2f' % midpoint_R + ',%2.2f' % midpoint_D0 + ')')\n",
    "            ax.set_yscale('log')\n",
    "            ax.set_ylim(10.**-1.0, 10.**5.0)\n",
    "            ax.set_ylabel('Number Concentration, # m^-3 mm^-1')\n",
    "            ax.set_xlim(0.0, 8.0)\n",
    "            ax.set_xlabel('Diameter, mm')\n",
    "            ax.tick_params(direction='in', length=6, top='on', right='on')\n",
    "#             ax.legend(\n",
    "#                 bbox_to_anchor=(\n",
    "#                     1.,\n",
    "#                     1.),\n",
    "#                 loc='upper right',\n",
    "#                 ncol=1,\n",
    "#                 fancybox=True,\n",
    "#                 shadow=False)"
   ]
  },
  {
   "cell_type": "code",
   "execution_count": null,
   "metadata": {
    "ExecuteTime": {
     "end_time": "2020-02-13T22:45:45.532828Z",
     "start_time": "2020-02-13T22:45:39.472855Z"
    }
   },
   "outputs": [],
   "source": [
    "fig, ax = plt.subplots(figsize=(10, 10))\n",
    "\n",
    "hist, xedges, yedges = np.histogram2d(ND2_combined['RR'], ND2_combined['D0'], bins=(RR_bins, D0_bins))\n",
    "hist = np.ma.masked_where(hist <= 0.0, hist)\n",
    "# add 2D color grid of bin sum\n",
    "ax.set_xscale('log')\n",
    "C = ax.pcolormesh(RR_bins, D0_bins, hist.T, vmin=0.0, vmax=4.0)\n",
    "ax.set_xlabel('Rainrate')\n",
    "ax.set_ylabel('D0')\n",
    "divider = make_axes_locatable(ax)\n",
    "cax = divider.append_axes(\"right\", size=\"5%\", pad=0.05)\n",
    "cb = plt.colorbar(C, orientation='vertical', cax=cax)"
   ]
  },
  {
   "cell_type": "code",
   "execution_count": null,
   "metadata": {
    "ExecuteTime": {
     "end_time": "2020-02-13T22:45:49.192757Z",
     "start_time": "2020-02-13T22:45:48.882178Z"
    }
   },
   "outputs": [],
   "source": [
    "print(ND2_combined)\n",
    "ND_avg = ND2_groups.mean(dim='D0_RR')\n",
    "print(ND_avg)"
   ]
  },
  {
   "cell_type": "code",
   "execution_count": null,
   "metadata": {
    "ExecuteTime": {
     "end_time": "2020-02-13T23:33:49.616424Z",
     "start_time": "2020-02-13T23:33:49.519709Z"
    }
   },
   "outputs": [],
   "source": [
    "print(ND2_combined)\n",
    "ND2_combined_2 = ND2_combined.reset_index('D0_RR')\n",
    "print(ND2_combined_2)\n",
    "print(ND2_combined_2['D0_idx'].dims[0])\n",
    "D0_idx = ND2_combined_2['D0_idx'].values\n",
    "RR_idx = ND2_combined_2['RR_idx'].values\n",
    "ND2_combined_2 = ND2_combined_2.reset_coords(names=['D0_idx', 'RR_idx'], drop=True)\n",
    "ND2_combined_2.coords['D0_RR'] = ('D0_RR', \n",
    "                                  pd.MultiIndex.from_arrays([D0_idx, RR_idx], names=['D0_idx', 'RR_idx']))\n",
    "# ND2_combined_2 = ND2_combined_2.rename({'D0_RR_level_0': 'D0_idx', 'D0_RR_level_1': 'RR_idx'})\n",
    "\n",
    "print(ND2_combined_2)"
   ]
  },
  {
   "cell_type": "code",
   "execution_count": null,
   "metadata": {
    "ExecuteTime": {
     "end_time": "2020-02-13T22:46:00.460531Z",
     "start_time": "2020-02-13T22:46:00.208912Z"
    }
   },
   "outputs": [],
   "source": [
    "# Testing unstacking of averaged ND dataarray\n",
    "\n",
    "ND_avg_unstacked = ND_avg.unstack(dim='D0_RR')\n",
    "print(ND_avg_unstacked)\n",
    "# Rename the new dimensions back to what they were before because for some reason doing averages on a groupby object\n",
    "# resets the names of the multiindex levels\n",
    "ND_avg_unstacked = ND_avg_unstacked.rename({'D0_RR_level_0': 'D0_idx', 'D0_RR_level_1': 'RR_idx'})\n",
    "ND_avg_unstacked = ND_avg_unstacked.reindex({'D0_idx': range(D0_bins.size), 'RR_idx': range(RR_bins.size)})\n",
    "ND_avg_unstacked.coords['D0'] = ('D0_idx', D0_bins)\n",
    "ND_avg_unstacked.coords['RR'] = ('RR_idx', RR_bins)\n",
    "print(ND_avg_unstacked)"
   ]
  },
  {
   "cell_type": "code",
   "execution_count": null,
   "metadata": {
    "ExecuteTime": {
     "end_time": "2020-02-13T22:46:20.507942Z",
     "start_time": "2020-02-13T22:46:20.448484Z"
    }
   },
   "outputs": [],
   "source": [
    "ND_avg_unstacked.name = 'SATP_ND'\n"
   ]
  },
  {
   "cell_type": "code",
   "execution_count": null,
   "metadata": {},
   "outputs": [],
   "source": [
    "# OLD CELLS BELOW"
   ]
  },
  {
   "cell_type": "code",
   "execution_count": null,
   "metadata": {
    "ExecuteTime": {
     "end_time": "2020-01-29T20:15:11.619621Z",
     "start_time": "2020-01-29T20:15:11.501610Z"
    }
   },
   "outputs": [],
   "source": [
    "# Compute sigma and Dm\n",
    "D = ND_list[0]['diameter']\n",
    "dD = ND_list[0]['max_diameter'] - ND_list[0]['min_diameter']\n",
    "\n",
    "Dm_list = []\n",
    "sigma_list = []\n",
    "\n",
    "for ND in ND_list:\n",
    "    Dm = dsd.calc_Dmpq_binned(4, 3, ND)\n",
    "    sigma = dsd.calc_sigma(D, dD, ND)\n",
    "    \n",
    "    Dm_list.append(Dm)\n",
    "    sigma_list.append(sigma)"
   ]
  },
  {
   "cell_type": "code",
   "execution_count": null,
   "metadata": {
    "ExecuteTime": {
     "end_time": "2020-01-29T20:17:04.450976Z",
     "start_time": "2020-01-29T20:17:04.094166Z"
    }
   },
   "outputs": [],
   "source": [
    "# Plot sigma vs Dm\n",
    "fig, ax = plt.subplots(figsize=(10, 10))\n",
    "sc_list = []\n",
    "\n",
    "for Dm, sigma in zip(Dm_list, sigma_list):\n",
    "    sc = ax.scatter(Dm * 1000., sigma * 1000.)\n",
    "    sc_list.append(sc)\n",
    "ax.set_xlim(0.0, 6.0)\n",
    "ax.set_ylim(0.0, 3.5)"
   ]
  },
  {
   "cell_type": "code",
   "execution_count": null,
   "metadata": {
    "ExecuteTime": {
     "end_time": "2020-01-30T20:02:35.659013Z",
     "start_time": "2020-01-30T20:02:35.572329Z"
    }
   },
   "outputs": [],
   "source": [
    "DSD_fit = xr.open_dataset('/Users/dawson29/Dropbox/Projects/VORTEXSE/obs_data/PIPS/2016/IOP3/DSD_fits_PIPS2B_60s_20160331220000_20160331234000.nc')"
   ]
  },
  {
   "cell_type": "code",
   "execution_count": null,
   "metadata": {
    "ExecuteTime": {
     "end_time": "2020-01-30T20:01:39.378669Z",
     "start_time": "2020-01-30T20:01:39.300650Z"
    }
   },
   "outputs": [],
   "source": []
  },
  {
   "cell_type": "code",
   "execution_count": null,
   "metadata": {
    "ExecuteTime": {
     "end_time": "2020-01-29T16:01:13.527158Z",
     "start_time": "2020-01-29T16:01:13.406790Z"
    }
   },
   "outputs": [],
   "source": [
    "conv_df = pips.calc_thermo(conv_df)\n",
    "\n",
    "DSD_interval = 10.\n",
    "PSD_datetimes = pips.get_PSD_datetimes(vd_matrix_da)\n",
    "PSD_datetimes_dict = pips.get_PSD_time_bins(PSD_datetimes)\n",
    "PSDstarttimes = PSD_datetimes_dict['PSD_datetimes_edges']\n",
    "PSDmidtimes = PSD_datetimes_dict['PSD_datetimes']\n",
    "\n",
    "sec_offset = PSD_datetimes[0].second\n",
    "conv_resampled_df = pips.resample_conv('PIPS', DSD_interval, sec_offset, conv_df)\n",
    "conv_resampled_df_index = conv_resampled_df.index.intersection(parsivel_df.index)\n",
    "conv_resampled_df = conv_resampled_df.loc[conv_resampled_df_index]\n",
    "\n",
    "print(parsivel_df.columns)\n",
    "#print(conv_resampled_df)\n",
    "\n",
    "#parsivel_resampled_df = pips.resample_parsivel(60., parsivel_df)\n",
    "resample_interval = 60.\n",
    "intervalstr = '{:d}S'.format(int(resample_interval))\n",
    "parsivel_resampler = parsivel_df.resample(intervalstr, label='right', closed='right',\n",
    "                                          base=sec_offset)\n",
    "\n",
    "parsivel_resampled_df = parsivel_resampler.agg({'precipintensity': np.mean, 'precipaccum': np.sum,\n",
    "                                   'parsivel_dBZ': np.mean, 'pcount': np.sum,\n",
    "                                   'signal_amplitude': np.mean, 'pvoltage': np.mean, 'sensor_temp': np.mean,\n",
    "                                   'sample_interval': np.mean})\n",
    "\n",
    "print(parsivel_resampled_df.columns)\n",
    "\n",
    "\n",
    "# for time in vd_matrix_da['time'].to_index():\n",
    "#     print(parsivel_df['pcount'].loc[time])\n",
    "#     # print(conv_resampled_df['rho'].loc[time])\n",
    "#     # print(vd_matrix_da.loc[time])"
   ]
  },
  {
   "cell_type": "code",
   "execution_count": null,
   "metadata": {
    "ExecuteTime": {
     "end_time": "2020-01-29T16:02:23.880891Z",
     "start_time": "2020-01-29T16:02:23.093431Z"
    }
   },
   "outputs": [],
   "source": [
    "# Do some QC\n",
    "vd_matrix_QC = pqc.strongwindQC(vd_matrix_da)\n",
    "vd_matrix_QC = pqc.rainonlyQC(vd_matrix_QC)\n",
    "vdQC = vd_matrix_QC.loc['2016-03-31T22:30:03']\n",
    "vdQC['diameter'] = ('diameter_bin', diameter_bins)\n",
    "vdQC['fallspeed'] = ('fallspeed_bin', fallspeed_bins)\n",
    "vdQC.where(vdQC > 0.0).plot(x='diameter', y='fallspeed', xlim=[0., 15], ylim=[0., 15.])\n",
    "plt.plot(diameter_bins, empirical_fallspeed, color='r')"
   ]
  },
  {
   "cell_type": "code",
   "execution_count": null,
   "metadata": {
    "ExecuteTime": {
     "end_time": "2020-01-29T16:02:54.698463Z",
     "start_time": "2020-01-29T16:02:54.621651Z"
    }
   },
   "outputs": [],
   "source": [
    "# Calculate ND\n",
    "ND = pips.calc_ND(vd_matrix_QC.where(vd_matrix_QC > 0.0), fallspeed_spectrum, 10.)"
   ]
  },
  {
   "cell_type": "code",
   "execution_count": null,
   "metadata": {
    "ExecuteTime": {
     "end_time": "2020-01-29T16:03:13.606403Z",
     "start_time": "2020-01-29T16:03:12.597112Z"
    }
   },
   "outputs": [],
   "source": [
    "timelimits = [PSDstarttimes[0], PSDstarttimes[-1]]\n",
    "diamlimits = [0.0, 9.0]\n",
    "diamytick = 1.0\n",
    "DSDtype = 'observed'\n",
    "locator = dates.MinuteLocator(byminute=[0, 15, 30, 45])\n",
    "minorlocator = dates.MinuteLocator(byminute=range(0, 60, 5))\n",
    "dateformat = '%H:%M'\n",
    "formatter = dates.DateFormatter(dateformat)\n",
    "\n",
    "axparams = {'majorxlocator': locator, 'majorxformatter': formatter,\n",
    "            'minorxlocator': minorlocator,\n",
    "            'axeslimits': [timelimits, diamlimits],\n",
    "            'majorylocator': ticker.MultipleLocator(base=diamytick),\n",
    "            'axeslabels': [None, 'D (mm)']}\n",
    "\n",
    "disvars = {\n",
    "    'min_diameter': ND['min_diameter'], \n",
    "    'PSDstarttimes': PSDstarttimes,\n",
    "    'PSDmidtimes': PSDmidtimes, \n",
    "    'logND': np.log10(ND).T\n",
    "}\n",
    "dis_plot_name = 'PIPS1A'\n",
    "PIPSplot.plotDSDmeteograms(dis_plot_name, './', axparams, disvars)"
   ]
  },
  {
   "cell_type": "code",
   "execution_count": null,
   "metadata": {
    "ExecuteTime": {
     "end_time": "2020-01-29T16:03:20.381484Z",
     "start_time": "2020-01-29T16:03:19.972744Z"
    }
   },
   "outputs": [],
   "source": [
    "np.log10(ND).T.plot(y='diameter', ylim=[0.0, 9.0], vmin=-1.0, vmax=3.0, aspect=5, size=3)"
   ]
  },
  {
   "cell_type": "code",
   "execution_count": null,
   "metadata": {
    "ExecuteTime": {
     "end_time": "2020-01-29T16:03:27.010516Z",
     "start_time": "2020-01-29T16:03:26.900768Z"
    }
   },
   "outputs": [],
   "source": [
    "# Now resample the vd matrix across time to go from 10-s to 60-s intervals\n",
    "resample_interval = pips.check_requested_resampling_interval(60., 10.)\n",
    "vd_matrix_rs = pips.resample_vd_matrix(resample_interval, vd_matrix_QC)\n",
    "print(vd_matrix_QC['time'][:10])\n",
    "print(vd_matrix_rs['time'][:10])"
   ]
  },
  {
   "cell_type": "code",
   "execution_count": null,
   "metadata": {
    "ExecuteTime": {
     "end_time": "2020-01-29T18:58:51.519476Z",
     "start_time": "2020-01-29T18:58:51.137447Z"
    }
   },
   "outputs": [],
   "source": [
    "ND_resampled = pips.calc_ND(vd_matrix_rs.where(vd_matrix_rs > 0.0), fallspeed_spectrum, 60.)\n",
    "np.log10(ND_resampled).T.plot(y='diameter', ylim=[0.0, 9.0], vmin=-1.0, vmax=3.0, aspect=5, size=3)\n",
    "\n"
   ]
  },
  {
   "cell_type": "code",
   "execution_count": null,
   "metadata": {
    "ExecuteTime": {
     "end_time": "2020-01-29T16:03:37.937999Z",
     "start_time": "2020-01-29T16:03:37.861866Z"
    },
    "scrolled": true
   },
   "outputs": [],
   "source": [
    "# Add additional thermodynamic variables to conv_df\n",
    "conv_df = pips.calc_thermo(conv_df)"
   ]
  },
  {
   "cell_type": "code",
   "execution_count": null,
   "metadata": {
    "ExecuteTime": {
     "end_time": "2020-01-29T16:04:11.623387Z",
     "start_time": "2020-01-29T16:04:11.526940Z"
    }
   },
   "outputs": [],
   "source": [
    "# Resample conventional data to 60-s\n",
    "datetime_range_onesec = conv_df.index.to_pydatetime()\n",
    "sec_offset = pips.get_offset_seconds(datetime_range_onesec)\n",
    "conv_rs_df = pips.resample_conv('PIPS', 60., sec_offset, conv_df)"
   ]
  },
  {
   "cell_type": "code",
   "execution_count": null,
   "metadata": {
    "ExecuteTime": {
     "end_time": "2020-01-29T18:59:02.937839Z",
     "start_time": "2020-01-29T18:59:02.873709Z"
    }
   },
   "outputs": [],
   "source": [
    "print(ND_resampled)"
   ]
  },
  {
   "cell_type": "code",
   "execution_count": null,
   "metadata": {
    "ExecuteTime": {
     "end_time": "2020-01-29T19:53:52.805769Z",
     "start_time": "2020-01-29T19:53:52.719724Z"
    }
   },
   "outputs": [],
   "source": [
    "# Compute sigma and Dm\n",
    "Dm = dsd.calc_Dmpq_binned(4, 3, ND_resampled)\n",
    "D = ND_resampled['diameter']\n",
    "dD = ND_resampled['max_diameter'] - ND_resampled['min_diameter']\n",
    "\n",
    "# D_m = D / 1000.\n",
    "# dD_m = dD / 1000.\n",
    "# Dm_m = Dm\n",
    "\n",
    "# # print(D_m * 1000.)\n",
    "# # print(dD_m * 1000.)\n",
    "# # print(Dm_m * 1000.)\n",
    "\n",
    "# ND_mneg4 = ND_resampled * 1000.\n",
    "\n",
    "# sigma_numerator_bin = (D_m - Dm_m)**2. * ND_mneg4 * D_m**3. * dD_m\n",
    "# #print(sigma_numerator_bin)\n",
    "# sigma_numerator = sigma_numerator_bin.sum(dim='diameter_bin') # np.sum(sigma_numerator_bin, axis=0)\n",
    "# #print(sigma_numerator)\n",
    "\n",
    "# M3, _ = dsd.calc_moment_bin(ND_resampled, moment=3)\n",
    "# #print(M3)\n",
    "\n",
    "\n",
    "# sigma = np.sqrt(sigma_numerator / M3)\n",
    "# print(sigma)\n",
    "\n",
    "sigma = dsd.calc_sigma(D, dD, ND_resampled)"
   ]
  },
  {
   "cell_type": "code",
   "execution_count": null,
   "metadata": {
    "ExecuteTime": {
     "end_time": "2020-01-29T19:53:54.655443Z",
     "start_time": "2020-01-29T19:53:54.336048Z"
    }
   },
   "outputs": [],
   "source": [
    "# Plot sigma vs Dm\n",
    "fig, ax = plt.subplots(figsize=(10, 10))\n",
    "sc = ax.scatter(Dm * 1000., sigma * 1000.)\n",
    "# ax.set_xlim(0.0, 3.5)\n",
    "# ax.set_ylim(0.0, 2.0)"
   ]
  },
  {
   "cell_type": "code",
   "execution_count": null,
   "metadata": {
    "ExecuteTime": {
     "end_time": "2020-01-29T16:35:55.957277Z",
     "start_time": "2020-01-29T16:35:49.964864Z"
    },
    "scrolled": true
   },
   "outputs": [],
   "source": [
    "M2, _ = dsd.calc_moment_bin(ND_resampled, moment=2)\n",
    "M3, _ = dsd.calc_moment_bin(ND_resampled, moment=3)\n",
    "M4, _ = dsd.calc_moment_bin(ND_resampled, moment=4)\n",
    "M6, _ = dsd.calc_moment_bin(ND_resampled, moment=6)\n",
    "\n",
    "DSD_MM24 = dsd.fit_DSD_MM24(M2, M4)\n",
    "DSD_MM36 = dsd.fit_DSD_MM36(M3, M6)\n",
    "DSD_MM346 = dsd.fit_DSD_MM346(M3, M4, M6)\n",
    "DSD_MM246 = dsd.fit_DSD_MM246(M2, M4, M6)\n",
    "DSD_MM234 = dsd.fit_DSD_MM234(M2, M3, M4)\n",
    "\n",
    "D_min, D_max = dsd.get_max_min_diameters(ND_resampled)\n",
    "print(D_max)\n",
    "\n",
    "DSD_TMM246 = dsd.fit_DSD_TMM_xr(M2, M4, M6, D_min, D_max)"
   ]
  },
  {
   "cell_type": "code",
   "execution_count": null,
   "metadata": {
    "ExecuteTime": {
     "end_time": "2020-01-29T16:35:58.204693Z",
     "start_time": "2020-01-29T16:35:58.124847Z"
    },
    "scrolled": true
   },
   "outputs": [],
   "source": [
    "ND_MM24 = dsd.calc_binned_DSD_from_params(*DSD_MM24, ND_resampled['diameter'])\n",
    "ND_MM36 = dsd.calc_binned_DSD_from_params(*DSD_MM36, ND_resampled['diameter'])\n",
    "ND_MM234 = dsd.calc_binned_DSD_from_params(*DSD_MM234, ND_resampled['diameter'])\n",
    "ND_MM246 = dsd.calc_binned_DSD_from_params(*DSD_MM246, ND_resampled['diameter'])\n",
    "ND_MM346 = dsd.calc_binned_DSD_from_params(*DSD_MM346, ND_resampled['diameter'])\n",
    "ND_TMM246 = dsd.calc_binned_DSD_from_params(*DSD_TMM246, ND_resampled['diameter'])"
   ]
  },
  {
   "cell_type": "code",
   "execution_count": null,
   "metadata": {
    "ExecuteTime": {
     "end_time": "2020-01-29T16:35:59.644397Z",
     "start_time": "2020-01-29T16:35:59.573265Z"
    },
    "code_folding": []
   },
   "outputs": [],
   "source": [
    "# Test plotting of individual DSD\n",
    "time_to_plot = '2016-03-31T22:31:53'\n",
    "\n",
    "axdict = {\n",
    "    'xbin_left': ND_resampled['min_diameter'],\n",
    "    'xbin_mid': ND_resampled['diameter'], \n",
    "    'xbin_right': ND_resampled['max_diameter'],\n",
    "    'xlim': (0.0, 9.0), \n",
    "    'ylim': (10.**2., 10.**8.5), \n",
    "    'interval': int(resample_interval),\n",
    "    'dis_name': 'PIPS_1A'\n",
    "}\n",
    "\n",
    "#print(ND_resampled['time'])\n",
    "\n",
    "PSDdict = {\n",
    "    'ND': ND_resampled.loc[time_to_plot]\n",
    "}\n",
    "\n",
    "PSDfitdict = {\n",
    "    #'Exponential_24': (ND_MM24.loc[time_to_plot], 'Exp fit (MM24)'),\n",
    "    #'Exponential_36': (ND_MM36.loc[time_to_plot], 'Exp fit (MM36)'),\n",
    "    #'Gamma_234': (ND_MM234.loc[time_to_plot], 'Gamma fit (MM234)'),\n",
    "    'Gamma_246': (ND_MM246.loc[time_to_plot], 'Gamma fit (MM246)'),\n",
    "    #'Gamma_346': (ND_MM346.loc[time_to_plot], 'Gamma fit (MM346)')\n",
    "    'TruncGamma_246': (ND_TMM246.loc[time_to_plot], 'Truncated Gamma fit (TMM246)'),\n",
    "}\n",
    "\n",
    "time_to_plot_datetime = pd.to_datetime(time_to_plot).to_pydatetime()\n",
    "\n",
    "print(DSD_TMM246[0].loc[time_to_plot])"
   ]
  },
  {
   "cell_type": "code",
   "execution_count": null,
   "metadata": {
    "ExecuteTime": {
     "end_time": "2020-01-29T16:36:06.972399Z",
     "start_time": "2020-01-29T16:36:05.925057Z"
    }
   },
   "outputs": [],
   "source": [
    "import pyPIPS.timemodule as tm\n",
    "xbin_left = axdict.get('xbin_left', np.empty((0)))\n",
    "xbin_right = axdict.get('xbin_right', np.empty((0)))\n",
    "xbin_mid = axdict.get('xbin_mid', np.empty((0)))\n",
    "ND = PSDdict.get('ND', np.empty((0)))\n",
    "# ND_onedrop = PSDdict.get('ND_onedrop', N.empty((0)))\n",
    "interval = axdict.get('interval', 10)\n",
    "dis_name = axdict.get('dis_name', None)\n",
    "\n",
    "fig1 = plt.figure(figsize=(8, 6))\n",
    "ax1 = fig1.add_subplot(111)\n",
    "plt.title('{0:d}-s DSD fits for time {1} EST'.format(interval, time_to_plot_datetime.strftime(tm.timefmt2)))\n",
    "ax1.bar(xbin_left, ND * 1000.0, xbin_right - xbin_left, 10.**2., align='edge', log=True, color='tan', \n",
    "        edgecolor='k')\n",
    "\n",
    "for fitname, ND_tuple in PSDfitdict.items():\n",
    "    if ((fitname == 'Dis Retr') | (fitname == 'Rad Retr')):\n",
    "        ND_fit = ND_tuple[0] * 1000.\n",
    "    else:\n",
    "        ND_fit = ND_tuple[0]\n",
    "#         print ND_fit\n",
    "    label = ND_tuple[1]\n",
    "    if(ND_fit.size):\n",
    "        ax1.plot(xbin_mid, ND_fit, lw=2, label=label)\n",
    "\n",
    "plt.legend(loc='upper left', numpoints=1, ncol=1, fontsize=8)\n",
    "        \n",
    "ax1.set_yscale('log')\n",
    "ax1.set_ylim(10.**2.0, 10.**8.5)\n",
    "ax1.set_xlim(0.0, 9.0)\n",
    "ax1.set_xlabel('D (mm)')\n",
    "ax1.set_ylabel(r'N(D) $(m^{-4})$')\n"
   ]
  },
  {
   "cell_type": "code",
   "execution_count": null,
   "metadata": {
    "ExecuteTime": {
     "end_time": "2020-01-27T17:15:58.646519Z",
     "start_time": "2020-01-27T17:15:58.568937Z"
    },
    "scrolled": false
   },
   "outputs": [],
   "source": [
    "# Test merging of fit DataArrays to a Dataset\n",
    "\n",
    "#print(DSD_MM24[0])\n",
    "\n",
    "DSD_MM24[0].name = 'N0'\n",
    "DSD_MM24[1].name = 'lamda'\n",
    "# DSD_MM24[2].name = 'alpha'\n",
    "\n",
    "DSD_MM24_da = xr.concat(DSD_MM24[:2], pd.Index(['N0', 'lamda'], name='parameter'))\n",
    "DSD_MM24_da.name = 'DSD_MM24'\n",
    "#print(DSD_MM24_da)\n",
    "\n",
    "# DSD_MM24_ds = xr.merge(DSD_MM24[:2])\n",
    "\n",
    "DSD_MM36[0].name = 'N0'\n",
    "DSD_MM36[1].name = 'lamda'\n",
    "DSD_MM36_da = xr.concat(DSD_MM36[:2], pd.Index(['N0', 'lamda'], name='parameter'))\n",
    "DSD_MM36_da.name = 'DSD_MM36'\n",
    "#print(DSD_MM36_da)\n",
    "\n",
    "# DSD_MM36_ds = xr.merge(DSD_MM36[:2])\n",
    "\n",
    "# fits_ds = xr.concat([DSD_MM24_da, DSD_MM36_da], dim='fit')\n",
    "\n",
    "names = ['DSD_MM24', 'DSD_MM36']\n",
    "data_arrays = [DSD_MM24_da, DSD_MM36_da]\n",
    "\n",
    "fits_ds = xr.Dataset({name: da for name, da in zip(names, data_arrays)})\n",
    "print(fits_ds)\n",
    "\n",
    "# fits_ds = xr.merge([DSD_MM24, DSD_MM36, DSD_MM234, DSD_MM246, DSD_MM346, DSD_TMM246])\n",
    "# print(fits_ds)\n"
   ]
  },
  {
   "cell_type": "code",
   "execution_count": null,
   "metadata": {
    "ExecuteTime": {
     "end_time": "2020-01-27T17:42:21.695621Z",
     "start_time": "2020-01-27T17:42:21.182589Z"
    }
   },
   "outputs": [],
   "source": [
    "conv_df, parsivel_df, _ = pipsio.read_PIPS(filepath)\n",
    "parsivel_ds = parsivel_df.to_xarray()"
   ]
  },
  {
   "cell_type": "code",
   "execution_count": null,
   "metadata": {},
   "outputs": [],
   "source": [
    "DSD_MM246 = fits_ds['DSD_MM']"
   ]
  },
  {
   "cell_type": "code",
   "execution_count": null,
   "metadata": {
    "ExecuteTime": {
     "end_time": "2020-01-27T17:42:36.488537Z",
     "start_time": "2020-01-27T17:42:36.343388Z"
    },
    "scrolled": false
   },
   "outputs": [],
   "source": [
    "# Test converting conventional data DataFrame to xarray\n",
    "\n",
    "print(conv_df)\n",
    "conv_ds = conv_df.to_xarray()\n",
    "conv_ds\n"
   ]
  },
  {
   "cell_type": "code",
   "execution_count": null,
   "metadata": {
    "ExecuteTime": {
     "end_time": "2020-01-27T17:46:53.501518Z",
     "start_time": "2020-01-27T17:46:53.397647Z"
    }
   },
   "outputs": [],
   "source": [
    "conv_ds = pipsio.conv_df_to_ds(conv_df)\n",
    "print(conv_ds)\n",
    "print(conv_ds['GPS_spd'])"
   ]
  },
  {
   "cell_type": "code",
   "execution_count": null,
   "metadata": {
    "ExecuteTime": {
     "end_time": "2020-01-27T19:50:32.653321Z",
     "start_time": "2020-01-27T19:50:32.537173Z"
    }
   },
   "outputs": [],
   "source": [
    "conv_nc_path = './conv_test.nc'\n",
    "pipsio.dump_conv_netcdf(conv_nc_path, conv_ds)\n",
    "conv_ds_from_netcdf.close()\n",
    "conv_ds_from_netcdf = xr.open_dataset(conv_nc_path)\n",
    "print(conv_ds_from_netcdf)\n",
    "print(conv_ds_from_netcdf['time'])"
   ]
  },
  {
   "cell_type": "code",
   "execution_count": null,
   "metadata": {
    "ExecuteTime": {
     "end_time": "2020-01-27T19:50:57.379320Z",
     "start_time": "2020-01-27T19:50:57.312800Z"
    }
   },
   "outputs": [],
   "source": [
    "print(conv_ds_from_netcdf['GPS_time'])"
   ]
  },
  {
   "cell_type": "code",
   "execution_count": null,
   "metadata": {
    "ExecuteTime": {
     "end_time": "2020-01-27T21:23:23.016554Z",
     "start_time": "2020-01-27T21:23:22.496551Z"
    },
    "scrolled": false
   },
   "outputs": [],
   "source": [
    "_, parsivel_df, vd_matrix_da = pipsio.read_PIPS(filepath)\n",
    "parsivel_ds = pipsio.parsivel_df_to_ds(parsivel_df)"
   ]
  },
  {
   "cell_type": "code",
   "execution_count": null,
   "metadata": {
    "ExecuteTime": {
     "end_time": "2020-01-27T21:29:19.662216Z",
     "start_time": "2020-01-27T21:29:19.558641Z"
    },
    "scrolled": false
   },
   "outputs": [],
   "source": [
    "parsivel_ds = pipsio.combine_parsivel_data(parsivel_ds, vd_matrix_da)\n",
    "parsivel_ds"
   ]
  },
  {
   "cell_type": "code",
   "execution_count": null,
   "metadata": {},
   "outputs": [],
   "source": []
  }
 ],
 "metadata": {
  "anaconda-cloud": {},
  "hide_input": false,
  "kernelspec": {
   "display_name": "Python 3.7.3 64-bit ('pyPIPS': conda)",
   "language": "python",
   "name": "python37364bitpypipscondaea8788f6419a4a34be329df7b3b7ce88"
  },
  "language_info": {
   "codemirror_mode": {
    "name": "ipython",
    "version": 3
   },
   "file_extension": ".py",
   "mimetype": "text/x-python",
   "name": "python",
   "nbconvert_exporter": "python",
   "pygments_lexer": "ipython3",
   "version": "3.7.6"
  },
  "toc": {
   "base_numbering": 1,
   "nav_menu": {},
   "number_sections": true,
   "sideBar": true,
   "skip_h1_title": false,
   "title_cell": "Table of Contents",
   "title_sidebar": "Contents",
   "toc_cell": false,
   "toc_position": {},
   "toc_section_display": true,
   "toc_window_display": false
  },
  "varInspector": {
   "cols": {
    "lenName": 16,
    "lenType": 16,
    "lenVar": 40
   },
   "kernels_config": {
    "python": {
     "delete_cmd_postfix": "",
     "delete_cmd_prefix": "del ",
     "library": "var_list.py",
     "varRefreshCmd": "print(var_dic_list())"
    },
    "r": {
     "delete_cmd_postfix": ") ",
     "delete_cmd_prefix": "rm(",
     "library": "var_list.r",
     "varRefreshCmd": "cat(var_dic_list()) "
    }
   },
   "types_to_exclude": [
    "module",
    "function",
    "builtin_function_or_method",
    "instance",
    "_Feature"
   ],
   "window_display": false
  }
 },
 "nbformat": 4,
 "nbformat_minor": 2
}
