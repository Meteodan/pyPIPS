{
 "cells": [
  {
   "cell_type": "code",
   "execution_count": 7,
   "metadata": {
    "ExecuteTime": {
     "end_time": "2019-09-05T21:53:14.605137Z",
     "start_time": "2019-09-05T21:53:10.604582Z"
    }
   },
   "outputs": [
    {
     "name": "stdout",
     "output_type": "stream",
     "text": [
      "The autoreload extension is already loaded. To reload it, use:\n",
      "  %reload_ext autoreload\n"
     ]
    }
   ],
   "source": [
    "%load_ext autoreload\n",
    "%autoreload 2\n",
    "import numpy as np\n",
    "import numpy.ma as ma\n",
    "import matplotlib\n",
    "import matplotlib.pyplot as plt\n",
    "import matplotlib.cm as cm\n",
    "import matplotlib.ticker as ticker\n",
    "import matplotlib.dates as dates\n",
    "from mpl_toolkits.axes_grid1 import ImageGrid,make_axes_locatable,host_subplot\n",
    "from mpl_toolkits.basemap import Basemap\n",
    "from datetime import datetime, timedelta\n",
    "import sys\n",
    "import os\n",
    "import pyPIPS.utils as utils\n",
    "import pyPIPS.thermolib as thermo\n",
    "import pyPIPS.DSDlib as dsd\n",
    "#import pyPIPS.disdrometer_module as dis\n",
    "import pyPIPS.plotmodule as PIPSplot\n",
    "import pyPIPS.simulator as sim\n",
    "import pyPIPS.pips_io as pipsio\n",
    "import pyPIPS.PIPS as pips\n",
    "import pyPIPS.parsivel_params as pp\n",
    "import pyPIPS.parsivel_qc as pqc\n",
    "from pyCRMtools.modules import plotmodule as plotmod\n",
    "from pyCRMtools.modules import utils as CRMutils\n",
    "from pyCRMtools.pycaps import arps_read\n",
    "from pyCRMtools.pycaps import pycaps_fields\n",
    "from pyCRMtools.pycaps import calvars_radar as radar\n",
    "import pandas as pd\n",
    "import xarray as xr\n",
    "import glob\n",
    "import numpy.random as random\n",
    "from scipy.stats import gamma, uniform\n",
    "from scipy.special import gamma as gammafunc\n",
    "from scipy import ndimage\n",
    "from metpy.plots import StationPlot\n",
    "from metpy.calc import wind_components\n",
    "from metpy.cbook import get_test_data\n",
    "from metpy.plots import StationPlot\n",
    "from metpy.plots.wx_symbols import current_weather, sky_cover\n",
    "from metpy.units import units\n",
    "%matplotlib inline"
   ]
  },
  {
   "cell_type": "code",
   "execution_count": 8,
   "metadata": {
    "ExecuteTime": {
     "end_time": "2019-09-05T21:53:20.607544Z",
     "start_time": "2019-09-05T21:53:20.544648Z"
    },
    "scrolled": true
   },
   "outputs": [],
   "source": [
    "# Define dictionaries, keyed by case date (i.e. '060509', '060709', '060909', '033116'), to store parameters related\n",
    "# to NEXRAD radar data, disdrometer data, and model output, respectively\n",
    "\n",
    "# Case we are looking at right now. Should only have to change this up here and then execute all the cells below\n",
    "# to generate the appropriate analysis\n",
    "casedate = '033116'\n",
    "\n",
    "# Import the file containing the dictionaries needed to gather the radar, disdrometer, and model data.\n",
    "sys.path.append('/Users/dawson29/Dropbox/Projects/VORTEXSE/vortexse_enkf_dsd_study/configs/2016_IOP3')\n",
    "\n",
    "from PIPSsim_1km_dicts import *"
   ]
  },
  {
   "cell_type": "code",
   "execution_count": 9,
   "metadata": {
    "ExecuteTime": {
     "end_time": "2019-09-05T21:53:22.697879Z",
     "start_time": "2019-09-05T21:53:21.695386Z"
    }
   },
   "outputs": [
    {
     "name": "stdout",
     "output_type": "stream",
     "text": [
      "Reading file: /Users/ddawson/Dropbox/Projects/VORTEXSE/obs_data/PIPS/2016/IOP3/PIPS_1A_IOP_3_D1.txt\n",
      "GPS time: Thu Mar 31 22:12:03 2016, Logger time: Thu Mar 31 22:12:00 2016\n",
      "GPS Offset: 0:00:03\n"
     ]
    }
   ],
   "source": [
    "# Read in the PIPS data for the first probe for testing\n",
    "dis_dict = init_dis_dict[casedate]\n",
    "dirname = dis_dict['dis_dir']\n",
    "filename = dis_dict['disfilenames'][0]\n",
    "filepath = os.path.join(dirname, filename)\n",
    "print(\"Reading file: {}\".format(filepath))\n",
    "conv_df, parsivel_df, vd_matrix_da = pipsio.read_PIPS(filepath)"
   ]
  },
  {
   "cell_type": "code",
   "execution_count": 10,
   "metadata": {
    "ExecuteTime": {
     "end_time": "2019-09-05T21:53:23.985374Z",
     "start_time": "2019-09-05T21:53:23.920107Z"
    }
   },
   "outputs": [
    {
     "name": "stdout",
     "output_type": "stream",
     "text": [
      "<xarray.DataArray (time_10s: 380, fallspeed_bin: 32, diameter_bin: 32)>\n",
      "array([[[0, 0, 0, ..., 0, 0, 0],\n",
      "        [0, 0, 0, ..., 0, 0, 0],\n",
      "        [0, 0, 0, ..., 0, 0, 0],\n",
      "        ...,\n",
      "        [0, 0, 0, ..., 0, 0, 0],\n",
      "        [0, 0, 0, ..., 0, 0, 0],\n",
      "        [0, 0, 0, ..., 0, 0, 0]],\n",
      "\n",
      "       [[0, 0, 0, ..., 0, 0, 0],\n",
      "        [0, 0, 0, ..., 0, 0, 0],\n",
      "        [0, 0, 0, ..., 0, 0, 0],\n",
      "        ...,\n",
      "        [0, 0, 0, ..., 0, 0, 0],\n",
      "        [0, 0, 0, ..., 0, 0, 0],\n",
      "        [0, 0, 0, ..., 0, 0, 0]],\n",
      "\n",
      "       [[0, 0, 0, ..., 0, 0, 0],\n",
      "        [0, 0, 0, ..., 0, 0, 0],\n",
      "        [0, 0, 0, ..., 0, 0, 0],\n",
      "        ...,\n",
      "        [0, 0, 0, ..., 0, 0, 0],\n",
      "        [0, 0, 0, ..., 0, 0, 0],\n",
      "        [0, 0, 0, ..., 0, 0, 0]],\n",
      "\n",
      "       ...,\n",
      "\n",
      "       [[0, 0, 0, ..., 0, 0, 0],\n",
      "        [0, 0, 0, ..., 0, 0, 0],\n",
      "        [0, 0, 0, ..., 0, 0, 0],\n",
      "        ...,\n",
      "        [0, 0, 0, ..., 0, 0, 0],\n",
      "        [0, 0, 0, ..., 0, 0, 0],\n",
      "        [0, 0, 0, ..., 0, 0, 0]],\n",
      "\n",
      "       [[0, 0, 0, ..., 0, 0, 0],\n",
      "        [0, 0, 0, ..., 0, 0, 0],\n",
      "        [0, 0, 0, ..., 0, 0, 0],\n",
      "        ...,\n",
      "        [0, 0, 0, ..., 0, 0, 0],\n",
      "        [0, 0, 0, ..., 0, 0, 0],\n",
      "        [0, 0, 0, ..., 0, 0, 0]],\n",
      "\n",
      "       [[0, 0, 0, ..., 0, 0, 0],\n",
      "        [0, 0, 0, ..., 0, 0, 0],\n",
      "        [0, 0, 0, ..., 0, 0, 0],\n",
      "        ...,\n",
      "        [0, 0, 0, ..., 0, 0, 0],\n",
      "        [0, 0, 0, ..., 0, 0, 0],\n",
      "        [0, 0, 0, ..., 0, 0, 0]]])\n",
      "Coordinates:\n",
      "  * time_10s        (time_10s) datetime64[ns] 2016-03-31T22:11:53 ... 2016-03-31T23:15:03\n",
      "    fallspeed       (fallspeed_bin) float64 0.05 0.15 0.25 ... 15.2 17.6 20.8\n",
      "    diameter        (diameter_bin) float64 0.0625 0.1875 0.3125 ... 21.5 24.5\n",
      "    min_diameter    (diameter_bin) float64 0.0 0.125 0.25 ... 18.0 20.0 23.0\n",
      "    max_diameter    (diameter_bin) float64 0.125 0.25 0.375 ... 20.0 23.0 26.0\n",
      "    min_fallspeeds  (fallspeed_bin) float64 0.0 0.1 0.2 0.3 ... 14.4 16.0 19.2\n",
      "    max_fallspeeds  (fallspeed_bin) float64 0.1 0.2 0.3 0.4 ... 16.0 19.2 22.4\n",
      "Dimensions without coordinates: fallspeed_bin, diameter_bin\n"
     ]
    }
   ],
   "source": [
    "print(vd_matrix_da)\n",
    "#print(spectrum_da.loc['2016-03-31T22:30'])\n",
    "diameter_bins = pp.parsivel_parameters['avg_diameter_bins_mm']\n",
    "# print(diameter_bins)\n",
    "fallspeed_bins = pp.parsivel_parameters['avg_fallspeed_bins_mps']\n",
    "# print(fallspeed_bins)\n",
    "\n",
    "empirical_fallspeed = pips.calc_empirical_fallspeed(diameter_bins)\n",
    "# print(empirical_fallspeed)\n",
    "\n",
    "fallspeed_spectrum1 = pips.calc_fallspeed_spectrum(diameter_bins, fallspeed_bins, use_measured_fallspeed=False)\n",
    "#print(fallspeed_spectrum1)\n",
    "fallspeed_spectrum2 = pips.calc_fallspeed_spectrum(diameter_bins, fallspeed_bins, use_measured_fallspeed=True)\n",
    "#print(fallspeed_spectrum2)"
   ]
  },
  {
   "cell_type": "code",
   "execution_count": 14,
   "metadata": {
    "ExecuteTime": {
     "end_time": "2019-09-05T21:53:27.364057Z",
     "start_time": "2019-09-05T21:53:26.927956Z"
    }
   },
   "outputs": [
    {
     "data": {
      "text/plain": [
       "<matplotlib.collections.QuadMesh at 0x125076b38>"
      ]
     },
     "execution_count": 14,
     "metadata": {},
     "output_type": "execute_result"
    },
    {
     "data": {
      "image/png": "[encoded data removed]",
      "text/plain": [
       "<Figure size 432x288 with 2 Axes>"
      ]
     },
     "metadata": {
      "needs_background": "light"
     },
     "output_type": "display_data"
    }
   ],
   "source": [
    "vd = vd_matrix_da.loc['2016-03-31T22:30:03']\n",
    "vd['diameter'] = ('diameter_bin', diameter_bins)\n",
    "vd['fallspeed'] = ('fallspeed_bin', fallspeed_bins)\n",
    "vd.where(vd > 0.0).plot(x='diameter', y='fallspeed', xlim=[0., 15], ylim=[0., 15.])"
   ]
  },
  {
   "cell_type": "code",
   "execution_count": 16,
   "metadata": {
    "ExecuteTime": {
     "end_time": "2019-09-05T21:53:29.118470Z",
     "start_time": "2019-09-05T21:53:28.288792Z"
    }
   },
   "outputs": [
    {
     "name": "stdout",
     "output_type": "stream",
     "text": [
      "380\n"
     ]
    },
    {
     "data": {
      "text/plain": [
       "[<matplotlib.lines.Line2D at 0x126eaae10>]"
      ]
     },
     "execution_count": 16,
     "metadata": {},
     "output_type": "execute_result"
    },
    {
     "data": {
      "image/png": "[encoded data removed]",
      "text/plain": [
       "<Figure size 432x288 with 2 Axes>"
      ]
     },
     "metadata": {
      "needs_background": "light"
     },
     "output_type": "display_data"
    }
   ],
   "source": [
    "# Do some QC\n",
    "vd_matrix_QC = pqc.strongwindQC(vd_matrix_da)\n",
    "vd_matrix_QC = pqc.rainonlyQC(vd_matrix_QC)\n",
    "vdQC = vd_matrix_QC.loc['2016-03-31T22:30:03']\n",
    "vdQC['diameter'] = ('diameter_bin', diameter_bins)\n",
    "vdQC['fallspeed'] = ('fallspeed_bin', fallspeed_bins)\n",
    "vdQC.where(vdQC > 0.0).plot(x='diameter', y='fallspeed', xlim=[0., 15], ylim=[0., 15.])\n",
    "plt.plot(diameter_bins, empirical_fallspeed, color='r')"
   ]
  },
  {
   "cell_type": "code",
   "execution_count": 17,
   "metadata": {
    "ExecuteTime": {
     "end_time": "2019-09-05T21:53:32.240975Z",
     "start_time": "2019-09-05T21:53:31.783458Z"
    }
   },
   "outputs": [
    {
     "name": "stderr",
     "output_type": "stream",
     "text": [
      "/Users/ddawson/miniconda3/envs/pyPIPS/lib/python3.6/site-packages/xarray/core/computation.py:601: RuntimeWarning: divide by zero encountered in log10\n",
      "  result_data = func(*input_data)\n"
     ]
    },
    {
     "name": "stdout",
     "output_type": "stream",
     "text": [
      "<xarray.DataArray (time_10s: 380, diameter_bin: 32)>\n",
      "array([[0., 0., 0., ..., 0., 0., 0.],\n",
      "       [0., 0., 0., ..., 0., 0., 0.],\n",
      "       [0., 0., 0., ..., 0., 0., 0.],\n",
      "       ...,\n",
      "       [0., 0., 0., ..., 0., 0., 0.],\n",
      "       [0., 0., 0., ..., 0., 0., 0.],\n",
      "       [0., 0., 0., ..., 0., 0., 0.]])\n",
      "Coordinates:\n",
      "  * time_10s       (time_10s) datetime64[ns] 2016-03-31T22:11:53 ... 2016-03-31T23:15:03\n",
      "    diameter       (diameter_bin) float64 0.0625 0.1875 0.3125 ... 21.5 24.5\n",
      "    min_diameter   (diameter_bin) float64 0.0 0.125 0.25 ... 18.0 20.0 23.0\n",
      "    max_diameter   (diameter_bin) float64 0.125 0.25 0.375 ... 20.0 23.0 26.0\n",
      "    flagged times  (time_10s) int64 0 0 0 0 0 0 0 0 0 0 ... 0 0 0 0 0 0 0 0 0 0\n",
      "Dimensions without coordinates: diameter_bin\n"
     ]
    },
    {
     "data": {
      "image/png": "[encoded data removed]",
      "text/plain": [
       "<Figure size 1080x216 with 2 Axes>"
      ]
     },
     "metadata": {
      "needs_background": "light"
     },
     "output_type": "display_data"
    }
   ],
   "source": [
    "# Calculate ND\n",
    "ND1 = pips.calc_ND(vd_matrix_QC.where(vd_matrix_QC > 0.0), fallspeed_spectrum1, 10.)\n",
    "ND2 = pips.calc_ND(vd_matrix_QC.where(vd_matrix_QC > 0.0), fallspeed_spectrum2, 10.)\n",
    "np.log10(ND1).T.plot(y='diameter', ylim=[0.0, 9.0], vmin=-1.0, vmax=3.0, aspect=5, size=3)\n",
    "print(ND1)"
   ]
  },
  {
   "cell_type": "code",
   "execution_count": 22,
   "metadata": {},
   "outputs": [],
   "source": [
    "PSD_datetimes = pips.get_PSD_datetimes(vd_matrix_QC)\n",
    "PSD_datetimes_dict = pips.get_PSD_time_bins(PSD_datetimes)\n",
    "PSDstarttimes = PSD_datetimes_dict['PSD_datetimes_edges']\n",
    "PSDmidtimes = PSD_datetimes_dict['PSD_datetimes']"
   ]
  },
  {
   "cell_type": "code",
   "execution_count": 25,
   "metadata": {},
   "outputs": [
    {
     "name": "stderr",
     "output_type": "stream",
     "text": [
      "No handles with labels found to put in legend.\n"
     ]
    }
   ],
   "source": [
    "timelimits = [PSDstarttimes[0], PSDstarttimes[-1]]\n",
    "diamlimits = [0.0, 9.0]\n",
    "diamytick = 1.0\n",
    "DSDtype = 'observed'\n",
    "locator = dates.MinuteLocator(byminute=[0, 15, 30, 45])\n",
    "minorlocator = dates.MinuteLocator(byminute=range(0, 60, 5))\n",
    "dateformat = '%H:%M'\n",
    "formatter = dates.DateFormatter(dateformat)\n",
    "\n",
    "axparams = {'majorxlocator': locator, 'majorxformatter': formatter,\n",
    "            'minorxlocator': minorlocator,\n",
    "            'axeslimits': [timelimits, diamlimits],\n",
    "            'majorylocator': ticker.MultipleLocator(base=diamytick),\n",
    "            'axeslabels': [None, 'D (mm)']}\n",
    "\n",
    "disvars = {\n",
    "    'min_diameter': ND2['min_diameter'], \n",
    "    'PSDstarttimes': PSDstarttimes,\n",
    "    'PSDmidtimes': PSDmidtimes, \n",
    "    'logND': np.log10(ND2).T\n",
    "}\n",
    "dis_plot_name = 'PIPS1A'\n",
    "PIPSplot.plotDSDmeteograms(dis_plot_name, './', axparams, disvars)"
   ]
  },
  {
   "cell_type": "code",
   "execution_count": null,
   "metadata": {
    "ExecuteTime": {
     "end_time": "2019-09-05T21:53:37.618281Z",
     "start_time": "2019-09-05T21:53:37.199051Z"
    }
   },
   "outputs": [],
   "source": [
    "np.log10(ND2).T.plot(y='diameter', ylim=[0.0, 9.0], vmin=-1.0, vmax=3.0, aspect=5, size=3)"
   ]
  },
  {
   "cell_type": "code",
   "execution_count": null,
   "metadata": {
    "ExecuteTime": {
     "end_time": "2019-09-05T21:53:39.783470Z",
     "start_time": "2019-09-05T21:53:39.686841Z"
    }
   },
   "outputs": [],
   "source": [
    "# Now resample the vd matrix across time to go from 10-s to 60-s intervals\n",
    "resample_interval = pips.check_requested_resampling_interval(60., 10.)\n",
    "vd_matrix_rs = pips.resample_vd_matrix(resample_interval, vd_matrix_QC)\n",
    "print(vd_matrix_QC['time_10s'][:10])\n",
    "print(vd_matrix_rs['time_10s'][:10])"
   ]
  },
  {
   "cell_type": "code",
   "execution_count": null,
   "metadata": {
    "ExecuteTime": {
     "end_time": "2019-09-05T21:53:42.154860Z",
     "start_time": "2019-09-05T21:53:41.766949Z"
    }
   },
   "outputs": [],
   "source": [
    "ND_resampled = pips.calc_ND(vd_matrix_rs.where(vd_matrix_rs > 0.0), fallspeed_spectrum1, 60.)\n",
    "np.log10(ND_resampled).T.plot(y='diameter', ylim=[0.0, 9.0], vmin=-1.0, vmax=3.0, aspect=5, size=3)\n",
    "\n"
   ]
  },
  {
   "cell_type": "code",
   "execution_count": null,
   "metadata": {
    "ExecuteTime": {
     "end_time": "2019-09-05T21:53:45.309375Z",
     "start_time": "2019-09-05T21:53:45.239354Z"
    },
    "scrolled": true
   },
   "outputs": [],
   "source": [
    "# Add additional thermodynamic variables to conv_df\n",
    "conv_df = pips.calc_thermo(conv_df)\n"
   ]
  },
  {
   "cell_type": "code",
   "execution_count": null,
   "metadata": {
    "ExecuteTime": {
     "end_time": "2019-09-05T21:53:46.506985Z",
     "start_time": "2019-09-05T21:53:46.174903Z"
    },
    "scrolled": true
   },
   "outputs": [],
   "source": [
    "print(conv_df.columns)\n",
    "conv_df['fasttemp'].plot()\n",
    "conv_df['dewpoint'].plot()"
   ]
  },
  {
   "cell_type": "code",
   "execution_count": null,
   "metadata": {
    "ExecuteTime": {
     "end_time": "2019-09-05T21:53:48.661990Z",
     "start_time": "2019-09-05T21:53:48.496790Z"
    }
   },
   "outputs": [],
   "source": [
    "# Resample conventional data to 60-s\n",
    "datetime_range_onesec = conv_df.index.to_pydatetime()\n",
    "sec_offset = pips.get_offset_seconds(datetime_range_onesec)\n",
    "conv_rs_df = pips.resample_conv('PIPS', 60., sec_offset, conv_df)"
   ]
  },
  {
   "cell_type": "code",
   "execution_count": null,
   "metadata": {
    "ExecuteTime": {
     "end_time": "2019-09-05T21:53:49.699534Z",
     "start_time": "2019-09-05T21:53:49.392478Z"
    }
   },
   "outputs": [],
   "source": [
    "conv_rs_df['fasttemp'].plot()\n",
    "conv_rs_df['dewpoint'].plot()"
   ]
  },
  {
   "cell_type": "code",
   "execution_count": null,
   "metadata": {
    "ExecuteTime": {
     "end_time": "2019-09-05T21:59:47.128629Z",
     "start_time": "2019-09-05T21:59:46.853732Z"
    }
   },
   "outputs": [],
   "source": [
    "# Test calculation of moments\n",
    "M0, M0_binned = dsd.calc_moment_bin(ND1, moment=0)\n",
    "M0.plot()"
   ]
  },
  {
   "cell_type": "code",
   "execution_count": null,
   "metadata": {
    "ExecuteTime": {
     "end_time": "2019-09-05T21:59:56.476331Z",
     "start_time": "2019-09-05T21:59:56.196734Z"
    }
   },
   "outputs": [],
   "source": [
    "M3, M3_binned = dsd.calc_moment_bin(ND1, moment=3)\n",
    "M3.plot()"
   ]
  },
  {
   "cell_type": "code",
   "execution_count": null,
   "metadata": {
    "ExecuteTime": {
     "end_time": "2019-09-06T14:41:48.701716Z",
     "start_time": "2019-09-06T14:41:48.414987Z"
    },
    "scrolled": false
   },
   "outputs": [],
   "source": [
    "# Testing calculation of D0\n",
    "\n",
    "D0 = dsd.calc_D0_bin(ND1) * 1000.\n",
    "D0.plot()"
   ]
  },
  {
   "cell_type": "code",
   "execution_count": null,
   "metadata": {
    "ExecuteTime": {
     "end_time": "2019-09-06T14:52:02.823305Z",
     "start_time": "2019-09-06T14:52:02.490637Z"
    }
   },
   "outputs": [],
   "source": [
    "Dm = ND1['diameter'] / 1000.\n",
    "M3, M3_binned = dsd.calc_moment_bin(ND1, moment=3)\n",
    "\n",
    "M3_binned = M3_binned.where(M3_binned != 0.)\n",
    "print(M3_binned.loc[dict(time_10s='2016-03-31T22:30:00')])\n",
    "M3_arr = M3_binned.loc[dict(time_10s='2016-03-31T22:30:00')].values\n",
    "print(M3_arr)\n",
    "print()\n",
    "M3_med = M3_binned.quantile(0.5, dim='diameter_bin', interpolation='linear')\n",
    "print(M3_med.loc[dict(time_10s='2016-03-31T22:30:00')])\n",
    "# D0 is the cube root of this median volume\n",
    "D0 = M3_med**(1./3.) * 1000.\n",
    "print(D0.loc[dict(time_10s='2016-03-31T22:30:00')])\n",
    "D0.plot()"
   ]
  },
  {
   "cell_type": "code",
   "execution_count": null,
   "metadata": {
    "ExecuteTime": {
     "end_time": "2019-09-06T14:42:04.677720Z",
     "start_time": "2019-09-06T14:42:04.382428Z"
    }
   },
   "outputs": [],
   "source": [
    "D0 = dsd.calc_D0_bin(ND1) * 1000.\n",
    "D0.plot()"
   ]
  },
  {
   "cell_type": "code",
   "execution_count": null,
   "metadata": {
    "ExecuteTime": {
     "end_time": "2019-09-08T17:51:02.308485Z",
     "start_time": "2019-09-08T17:51:02.248450Z"
    },
    "scrolled": false
   },
   "outputs": [],
   "source": [
    "# Test interpolating from one index to another\n",
    "\n",
    "da = xr.DataArray(np.sin(0.3 * np.arange(12).reshape(4, 3)),\n",
    "                  [('time', np.arange(4)),\n",
    "                   ('space', [0.1, 0.2, 0.3])])\n",
    "\n",
    "other = xr.DataArray(np.sin(0.4 * np.arange(9).reshape(3, 3)),\n",
    "                     [('time', [0.9, 1.9, 2.9]),\n",
    "                      ('space', [0.1, 0.2, 0.3])])"
   ]
  },
  {
   "cell_type": "code",
   "execution_count": null,
   "metadata": {
    "ExecuteTime": {
     "end_time": "2019-09-08T17:51:04.663480Z",
     "start_time": "2019-09-08T17:51:04.601312Z"
    },
    "scrolled": false
   },
   "outputs": [],
   "source": [
    "print(da)\n",
    "print(other)"
   ]
  },
  {
   "cell_type": "code",
   "execution_count": null,
   "metadata": {
    "ExecuteTime": {
     "end_time": "2019-09-08T17:51:08.645520Z",
     "start_time": "2019-09-08T17:51:08.576178Z"
    },
    "scrolled": false
   },
   "outputs": [],
   "source": [
    "interpolated = da.interp_like(other)\n",
    "interpolated\n"
   ]
  },
  {
   "cell_type": "code",
   "execution_count": null,
   "metadata": {
    "ExecuteTime": {
     "end_time": "2019-09-08T17:54:41.727234Z",
     "start_time": "2019-09-08T17:54:41.649586Z"
    },
    "scrolled": false
   },
   "outputs": [],
   "source": [
    "x0 = 0\n",
    "y0 = 0\n",
    "x1 = 1\n",
    "y1 = 0.783327\n",
    "\n",
    "x = 0.9\n",
    "\n",
    "y = y0 + (x - x0) * (y1 - y0) / (x1 - x0)\n",
    "print(y)\n"
   ]
  },
  {
   "cell_type": "code",
   "execution_count": null,
   "metadata": {},
   "outputs": [],
   "source": [
    "\n"
   ]
  },
  {
   "cell_type": "code",
   "execution_count": null,
   "metadata": {
    "scrolled": true
   },
   "outputs": [],
   "source": [
    "\n"
   ]
  },
  {
   "cell_type": "code",
   "execution_count": null,
   "metadata": {},
   "outputs": [],
   "source": [
    "\n"
   ]
  },
  {
   "cell_type": "code",
   "execution_count": null,
   "metadata": {},
   "outputs": [],
   "source": [
    "\n"
   ]
  },
  {
   "cell_type": "code",
   "execution_count": null,
   "metadata": {
    "scrolled": false
   },
   "outputs": [],
   "source": [
    "\n"
   ]
  },
  {
   "cell_type": "code",
   "execution_count": null,
   "metadata": {
    "scrolled": false
   },
   "outputs": [],
   "source": [
    "\n"
   ]
  },
  {
   "cell_type": "code",
   "execution_count": null,
   "metadata": {
    "scrolled": false
   },
   "outputs": [],
   "source": [
    "\n"
   ]
  },
  {
   "cell_type": "code",
   "execution_count": null,
   "metadata": {
    "scrolled": false
   },
   "outputs": [],
   "source": [
    "\n"
   ]
  },
  {
   "cell_type": "code",
   "execution_count": null,
   "metadata": {},
   "outputs": [],
   "source": []
  }
 ],
 "metadata": {
  "anaconda-cloud": {},
  "hide_input": false,
  "kernelspec": {
   "display_name": "Python [conda env:pyPIPS]",
   "language": "python",
   "name": "conda-env-pyPIPS-py"
  },
  "language_info": {
   "codemirror_mode": {
    "name": "ipython",
    "version": 3
   },
   "file_extension": ".py",
   "mimetype": "text/x-python",
   "name": "python",
   "nbconvert_exporter": "python",
   "pygments_lexer": "ipython3",
   "version": "3.7.3"
  },
  "toc": {
   "base_numbering": 1,
   "nav_menu": {},
   "number_sections": true,
   "sideBar": true,
   "skip_h1_title": false,
   "title_cell": "Table of Contents",
   "title_sidebar": "Contents",
   "toc_cell": false,
   "toc_position": {},
   "toc_section_display": true,
   "toc_window_display": false
  },
  "varInspector": {
   "cols": {
    "lenName": 16,
    "lenType": 16,
    "lenVar": 40
   },
   "kernels_config": {
    "python": {
     "delete_cmd_postfix": "",
     "delete_cmd_prefix": "del ",
     "library": "var_list.py",
     "varRefreshCmd": "print(var_dic_list())"
    },
    "r": {
     "delete_cmd_postfix": ") ",
     "delete_cmd_prefix": "rm(",
     "library": "var_list.r",
     "varRefreshCmd": "cat(var_dic_list()) "
    }
   },
   "types_to_exclude": [
    "module",
    "function",
    "builtin_function_or_method",
    "instance",
    "_Feature"
   ],
   "window_display": false
  }
 },
 "nbformat": 4,
 "nbformat_minor": 2
}
