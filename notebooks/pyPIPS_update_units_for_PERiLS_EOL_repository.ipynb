{
 "cells": [
  {
   "cell_type": "markdown",
   "metadata": {},
   "source": [
    "# A notebook to copy and clean up PIPS netCDF files for upload to the PERiLS EOL repository"
   ]
  },
  {
   "cell_type": "code",
   "execution_count": null,
   "metadata": {
    "ExecuteTime": {
     "end_time": "2020-06-23T14:33:57.347909Z",
     "start_time": "2020-06-23T14:33:52.438729Z"
    }
   },
   "outputs": [],
   "source": [
    "%load_ext autoreload\n",
    "%autoreload 2\n",
    "import numpy as np\n",
    "import numpy.ma as ma\n",
    "import matplotlib\n",
    "import matplotlib.pyplot as plt\n",
    "import matplotlib.cm as cm\n",
    "import matplotlib.ticker as ticker\n",
    "import matplotlib.dates as dates\n",
    "from mpl_toolkits.axes_grid1 import ImageGrid,make_axes_locatable,host_subplot\n",
    "#from mpl_toolkits.basemap import Basemap\n",
    "from datetime import datetime, timedelta\n",
    "import sys\n",
    "import os\n",
    "import pyPIPS.utils as utils\n",
    "import pyPIPS.thermolib as thermo\n",
    "import pyPIPS.DSDlib as dsd\n",
    "#import pyPIPS.disdrometer_module as dis\n",
    "import pyPIPS.plotmodule as PIPSplot\n",
    "#import pyPIPS.simulator as sim\n",
    "import pyPIPS.pips_io as pipsio\n",
    "import pyPIPS.PIPS as pips\n",
    "import pyPIPS.parsivel_params as pp\n",
    "import pyPIPS.parsivel_qc as pqc\n",
    "import pyPIPS.polarimetric as dualpol\n",
    "#from pyCRMtools.modules import plotmodule as plotmod\n",
    "from pyCRMtools.modules import utils as CRMutils\n",
    "# from pyCRMtools.pycaps import arps_read\n",
    "# from pyCRMtools.pycaps import pycaps_fields\n",
    "# from pyCRMtools.pycaps import calvars_radar as radar\n",
    "import pandas as pd\n",
    "import xarray as xr\n",
    "import glob\n",
    "import numpy.random as random\n",
    "from scipy.stats import gamma, uniform\n",
    "from scipy.special import gamma as gammafunc\n",
    "from scipy import ndimage\n",
    "from metpy.plots import StationPlot\n",
    "from metpy.calc import wind_components\n",
    "from metpy.cbook import get_test_data\n",
    "from metpy.plots import StationPlot\n",
    "from metpy.plots.wx_symbols import current_weather, sky_cover\n",
    "from metpy.units import units\n",
    "import warnings\n",
    "warnings.simplefilter('ignore')\n",
    "%matplotlib notebook"
   ]
  },
  {
   "cell_type": "code",
   "execution_count": null,
   "metadata": {},
   "outputs": [],
   "source": [
    "# Read in the original PIPS netcdf files\n",
    "\n",
    "PIPS_input_base_dir = '/Users/dawson29/Projects/PERiLS/obsdata/2022/PIPS_data_for_EOL/'\n",
    "PIPS_output_base_dir = '/Users/dawson29/Projects/PERiLS/obsdata/2022/PIPS_data_for_EOL/'\n",
    "deployment_name = 'IOP3_040522'\n",
    "PIPS_input_dir = os.path.join(PIPS_input_base_dir, deployment_name, 'netcdf')\n",
    "PIPS_output_dir = os.path.join(PIPS_output_base_dir, deployment_name, 'netcdf_temp')\n",
    "if not os.path.exists(PIPS_output_dir):\n",
    "    os.makedirs(PIPS_output_dir)\n",
    "\n",
    "# IOP1\n",
    "# PIPS_names = ['PIPS1A', 'PIPS1B', 'PIPS2A', 'PIPS2B']\n",
    "# IOP2\n",
    "# PIPS_names = ['PIPS1A', 'PIPS1B', 'PIPS2A', 'PIPS3B']\n",
    "# IOP3\n",
    "PIPS_names = ['PIPS1A', 'PIPS1B', 'PIPS2A', 'PIPS2B', 'PIPS3A', 'PIPS3B']\n",
    "parsivel_interval = 10\n",
    "parsivel_filenames = ['parsivel_combined_{}_{}_{:d}s.nc'.format(deployment_name, PIPS_name, parsivel_interval)\n",
    "                      for PIPS_name in PIPS_names]\n",
    "parsivel_filepaths = [os.path.join(PIPS_input_dir, parsivel_filename) for parsivel_filename in parsivel_filenames]\n",
    "output_parsivel_filepaths = [os.path.join(PIPS_output_dir, parsivel_filename) \n",
    "                             for parsivel_filename in parsivel_filenames]\n",
    "conv_filenames = ['conventional_raw_{}_{}.nc'.format(deployment_name, PIPS_name) for PIPS_name in PIPS_names]\n",
    "conv_filepaths = [os.path.join(PIPS_input_dir, conv_filename) for conv_filename in conv_filenames]\n",
    "output_conv_filepaths = [os.path.join(PIPS_output_dir, conv_filename) for conv_filename in conv_filenames]\n",
    "parsivel_ds_dict = {}\n",
    "conv_ds_dict = {}\n",
    "for PIPS_name, parsivel_filepath, conv_filepath in zip(PIPS_names, parsivel_filepaths, conv_filepaths):\n",
    "    parsivel_ds_dict[PIPS_name] = xr.load_dataset(parsivel_filepath)\n",
    "    conv_ds_dict[PIPS_name] = xr.load_dataset(conv_filepath)"
   ]
  },
  {
   "cell_type": "code",
   "execution_count": null,
   "metadata": {},
   "outputs": [],
   "source": [
    "PIPS_to_check = 'PIPS1A'"
   ]
  },
  {
   "cell_type": "code",
   "execution_count": null,
   "metadata": {},
   "outputs": [],
   "source": [
    "parsivel_ds = parsivel_ds_dict[PIPS_to_check]\n",
    "parsivel_ds"
   ]
  },
  {
   "cell_type": "code",
   "execution_count": null,
   "metadata": {},
   "outputs": [],
   "source": [
    "conv_ds = conv_ds_dict[PIPS_to_check]\n",
    "conv_ds"
   ]
  },
  {
   "cell_type": "code",
   "execution_count": null,
   "metadata": {},
   "outputs": [],
   "source": [
    "# Make a dictionary of the variable names and their units for those that don't already have them\n",
    "parsivel_var_units_dict = {\n",
    "    'windspdavgvec': 'meters per second',\n",
    "    'winddirunitavgvec': 'degrees',\n",
    "    'uavg': 'meters per second',\n",
    "    'vavg': 'meters per second',\n",
    "    'rho': 'kilograms per cubic meter',\n",
    "    'fallspeed': 'meters per second',\n",
    "    'diameter': 'millimeters',\n",
    "    'min_diameter': 'millimeters',\n",
    "    'max_diameter': 'millimeters',\n",
    "    'min_fallspeeds': 'meters per second',\n",
    "    'max_fallspeeds': 'meters per second',\n",
    "    'VD_matrix': 'count',\n",
    "    'ND': 'number per cubic meter per millimeter',\n",
    "    'VD_matrix_qc': 'count',\n",
    "    'ND_qc': 'number per cubic meter per millimeter',\n",
    "    'VD_matrix_roqc': 'count',\n",
    "    'ND_roqc': 'number per cubic meter per millimeter',\n",
    "    'pcount_derived': 'count',\n",
    "    'pcount_derived_qc': 'count',\n",
    "    'pcount_derived_roqc': 'count'\n",
    "}"
   ]
  },
  {
   "cell_type": "code",
   "execution_count": null,
   "metadata": {},
   "outputs": [],
   "source": [
    "# Now go through and update the units attribute for the needed variables using this dictionary\n",
    "\n",
    "for PIPS_name in PIPS_names:\n",
    "    for var_name in parsivel_ds_dict[PIPS_name].data_vars:\n",
    "        if var_name in parsivel_var_units_dict:\n",
    "            unit = parsivel_var_units_dict[var_name]\n",
    "            parsivel_ds_dict[PIPS_name][var_name].attrs['units'] = unit"
   ]
  },
  {
   "cell_type": "code",
   "execution_count": null,
   "metadata": {},
   "outputs": [],
   "source": [
    "# Now save to new output directory\n",
    "for PIPS_name, output_parsivel_filepath in zip(PIPS_names, output_parsivel_filepaths):\n",
    "    print(\"Saving {}\".format(output_parsivel_filepath))\n",
    "    parsivel_ds_dict[PIPS_name].to_netcdf(output_parsivel_filepath)"
   ]
  },
  {
   "cell_type": "code",
   "execution_count": null,
   "metadata": {},
   "outputs": [],
   "source": [
    "# Now do the same for the conventional dataset\n",
    "\n",
    "conv_var_units_dict = {\n",
    "    'pt': 'degrees Kelvin',\n",
    "    'qv': 'kg per kg (unitless)',\n",
    "    'rho': 'kg per cubic meter'\n",
    "}"
   ]
  },
  {
   "cell_type": "code",
   "execution_count": null,
   "metadata": {},
   "outputs": [],
   "source": [
    "# Now go through and update the units attribute for the needed variables using this dictionary\n",
    "\n",
    "for PIPS_name in PIPS_names:\n",
    "    for var_name in conv_ds_dict[PIPS_name].data_vars:\n",
    "        if var_name in conv_var_units_dict:\n",
    "            unit = conv_var_units_dict[var_name]\n",
    "            conv_ds_dict[PIPS_name][var_name].attrs['units'] = unit\n",
    "            "
   ]
  },
  {
   "cell_type": "code",
   "execution_count": null,
   "metadata": {},
   "outputs": [],
   "source": [
    "# Now save to new output directory\n",
    "for PIPS_name, output_conv_filepath in zip(PIPS_names, output_conv_filepaths):\n",
    "    print(\"Saving {}\".format(output_conv_filepath))\n",
    "    conv_ds_dict[PIPS_name].to_netcdf(output_conv_filepath)"
   ]
  },
  {
   "cell_type": "code",
   "execution_count": null,
   "metadata": {},
   "outputs": [],
   "source": []
  }
 ],
 "metadata": {
  "anaconda-cloud": {},
  "hide_input": false,
  "kernelspec": {
   "display_name": "Python [conda env:pyPIPS]",
   "language": "python",
   "name": "conda-env-pyPIPS-py"
  },
  "language_info": {
   "codemirror_mode": {
    "name": "ipython",
    "version": 3
   },
   "file_extension": ".py",
   "mimetype": "text/x-python",
   "name": "python",
   "nbconvert_exporter": "python",
   "pygments_lexer": "ipython3",
   "version": "3.10.13"
  },
  "toc": {
   "base_numbering": 1,
   "nav_menu": {},
   "number_sections": true,
   "sideBar": true,
   "skip_h1_title": false,
   "title_cell": "Table of Contents",
   "title_sidebar": "Contents",
   "toc_cell": false,
   "toc_position": {},
   "toc_section_display": true,
   "toc_window_display": false
  },
  "varInspector": {
   "cols": {
    "lenName": 16,
    "lenType": 16,
    "lenVar": 40
   },
   "kernels_config": {
    "python": {
     "delete_cmd_postfix": "",
     "delete_cmd_prefix": "del ",
     "library": "var_list.py",
     "varRefreshCmd": "print(var_dic_list())"
    },
    "r": {
     "delete_cmd_postfix": ") ",
     "delete_cmd_prefix": "rm(",
     "library": "var_list.r",
     "varRefreshCmd": "cat(var_dic_list()) "
    }
   },
   "types_to_exclude": [
    "module",
    "function",
    "builtin_function_or_method",
    "instance",
    "_Feature"
   ],
   "window_display": false
  }
 },
 "nbformat": 4,
 "nbformat_minor": 2
}
