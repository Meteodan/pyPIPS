{
 "cells": [
  {
   "cell_type": "markdown",
   "metadata": {
    "deletable": true,
    "editable": true
   },
   "source": [
    "# comparePIPS_DSD.ipynb\n",
    "## This notebook compares DSDs between collocated PIPS "
   ]
  },
  {
   "cell_type": "code",
   "execution_count": 4,
   "metadata": {
    "collapsed": false,
    "deletable": true,
    "editable": true
   },
   "outputs": [],
   "source": [
    "import numpy as N\n",
    "import matplotlib\n",
    "import matplotlib.pyplot as plt\n",
    "import matplotlib.cm as cm\n",
    "from datetime import datetime,timedelta\n",
    "import pytz as pytz\n",
    "import sys\n",
    "import os\n",
    "nb_dir = os.path.split(os.getcwd())[0]\n",
    "if nb_dir not in sys.path:\n",
    "    sys.path.append(nb_dir)\n",
    "import modules.thermolib as thermo\n",
    "import modules.DSDlib as dsd\n",
    "import modules.disdrometer_module as dis\n",
    "import pandas as pd\n",
    "import glob\n",
    "from scipy.stats import linregress\n",
    "import statsmodels.api as sm\n",
    "import xarray as xr\n",
    "%load_ext autoreload\n",
    "%matplotlib inline\n",
    "%autoreload 2"
   ]
  },
  {
   "cell_type": "markdown",
   "metadata": {
    "deletable": true,
    "editable": true
   },
   "source": [
    "### First, define some functions below: "
   ]
  },
  {
   "cell_type": "code",
   "execution_count": 5,
   "metadata": {
    "collapsed": true,
    "deletable": true,
    "editable": true
   },
   "outputs": [],
   "source": [
    "# Function definitions\n",
    "def interpnan1D(a):\n",
    "    \"\"\"Replaces NaN's in a 1D array by interpolating from good values on either side\"\"\"\n",
    "    ind = N.where(~N.isnan(a))[0] # indices of valid values\n",
    "    return N.interp(range(len(a)),ind,a[ind]) # Use valid values to interpolate to invalid values\n",
    "def interpcircnan1D(a):\n",
    "    \"\"\"Replaces NaN's in a 1D array by interpolating from good values on either side (circular version for wind directions)\"\"\"\n",
    "    ind = N.where(~N.isnan(a))[0] # indices of valid values\n",
    "    a[ind] = N.unwrap(a[ind])\n",
    "    a = N.mod(N.interp(range(len(a)),ind,a[ind]),360.)\n",
    "    return a # N.interp(range(len(a)),ind,a[ind])\n",
    "def computeuv(spd,wdir):\n",
    "    u = spd*N.cos(N.deg2rad(-wdir+270.))\n",
    "    v = spd*N.sin(N.deg2rad(-wdir+270.))\n",
    "    return u,v\n",
    "def computedir(u,v):\n",
    "    wdir = 270.-(180./N.pi)*N.arctan2(v,u)\n",
    "    return N.mod(wdir,360.)\n",
    "def anglediffdeg(a,b):\n",
    "    c = a - b\n",
    "    return (c+180)%360-180\n",
    "def computebias(df):\n",
    "    \"\"\"Computes the mean across the columns of the given dataframe df.\n",
    "       Then computes the difference of each column from the mean.\n",
    "       Then computes the mean difference (bias) for each column.\n",
    "       Returns a dataframe with the differences from the mean as well as a\n",
    "       Series with the mean bias.\"\"\"\n",
    "    df_mean = df.mean(axis=1)\n",
    "    df_diff = df.copy()\n",
    "    # Not sure I need to loop through the columns...\n",
    "    for col in list(df):\n",
    "        df_diff[col]=df[col]-df_mean\n",
    "    df_bias = df_diff.mean(axis=0)\n",
    "    df_bias.name='Bias'\n",
    "    return df_diff,df_bias\n",
    "def computewinddirbias(u_df,v_df):\n",
    "    \"\"\"Like computebias, but for wind speed and direction. Returns bias for\n",
    "       wind direction and the u and v wind components.\"\"\"\n",
    "    # Compute the wind direction from the u and v components\n",
    "    winddir_df = computedir(u_df,v_df)\n",
    "    # Next, compute the mean u and v components across the columns\n",
    "    u_df_mean = u_df.mean(axis=1)\n",
    "    v_df_mean = v_df.mean(axis=1)\n",
    "    # Next, compute the mean wind directions from the means of the u and v components\n",
    "    winddir_df_mean = computedir(u_df_mean,v_df_mean)\n",
    "    # Now, compute the wind direction differences from the means (shortest angular difference)\n",
    "    winddir_df_diff = winddir_df.copy()\n",
    "    for col in list(winddir_df):\n",
    "        winddir_df_diff[col]=anglediffdeg(winddir_df[col],winddir_df_mean)\n",
    "    winddir_df_bias = winddir_df_diff.mean(axis=0)\n",
    "    # Finally, compute the differences and bias for the u and v components separately\n",
    "    u_df_diff,u_df_bias = computebias(u_df)\n",
    "    v_df_diff,v_df_bias = computebias(v_df)\n",
    "    winddir_df_bias.name='Bias'\n",
    "    u_df_bias.name='Bias'\n",
    "    v_df_bias.name='Bias'\n",
    "    return winddir_df_diff,winddir_df_bias,u_df_diff,u_df_bias,v_df_diff,v_df_bias\n",
    "\n",
    "# The following two functions are from http://stackoverflow.com/questions/19379295/linear-regression-with-pandas-dataframe?rq=1\n",
    "def fit_line1(x, y):\n",
    "    \"\"\"Return slope, intercept of best fit line.\"\"\"\n",
    "    # Remove entries where either x or y is NaN.\n",
    "    clean_data = pd.concat([x, y], 1).dropna(0) # row-wise\n",
    "    (_, x), (_, y) = clean_data.iteritems()\n",
    "    slope, intercept, r, p, stderr = linregress(x, y)\n",
    "    return slope, intercept # could also return stderr\n",
    "\n",
    "def fit_line2(x, y):\n",
    "    \"\"\"Return slope, intercept of best fit line.\"\"\"\n",
    "    X = sm.add_constant(x)\n",
    "    model = sm.OLS(y, X, missing='drop') # ignores entires where x or y is NaN\n",
    "    fit = model.fit()\n",
    "    return fit.params[1], fit.params[0] # could also return stderr in each via fit.bse"
   ]
  },
  {
   "cell_type": "code",
   "execution_count": 6,
   "metadata": {
    "collapsed": false,
    "deletable": true,
    "editable": true
   },
   "outputs": [
    {
     "name": "stdout",
     "output_type": "stream",
     "text": [
      "['/Users/dawson29/Dropbox/PIPS_data/processed/061416_061616/PIPS_1A_061416_061616_D1.txt', '/Users/dawson29/Dropbox/PIPS_data/processed/061416_061616/PIPS_1B_061416_061616_D1.txt', '/Users/dawson29/Dropbox/PIPS_data/processed/061416_061616/PIPS_2A_061416_061616_D1.txt', '/Users/dawson29/Dropbox/PIPS_data/processed/061416_061616/PIPS_2B_061416_061616_D1.txt']\n"
     ]
    }
   ],
   "source": [
    "dis_dir = '/Users/dawson29/Dropbox/PIPS_data/processed/061416_061616/'\n",
    "dis_files = glob.glob(dis_dir+'*.txt')\n",
    "print dis_files"
   ]
  },
  {
   "cell_type": "markdown",
   "metadata": {
    "deletable": true,
    "editable": true
   },
   "source": [
    "### Read in the PIPS data "
   ]
  },
  {
   "cell_type": "code",
   "execution_count": 14,
   "metadata": {
    "collapsed": false,
    "deletable": true,
    "editable": true,
    "scrolled": false
   },
   "outputs": [
    {
     "name": "stdout",
     "output_type": "stream",
     "text": [
      "140616 133028\n",
      "2016-06-14 13:30:28\n",
      "2016 6 14 13 30 28\n",
      "2016-06-14 13:30:28 2016-06-14 13:30:28\n",
      "GPS Offset 0:00:00\n",
      "Requested DSD interval: 10.0. Actual DSD interval: 10.0\n",
      "140616 133628\n",
      "2016-06-14 13:36:28\n",
      "2016 6 14 13 36 28\n",
      "2016-06-14 13:36:28 2016-06-14 13:36:28\n",
      "GPS Offset 0:00:00\n",
      "Requested DSD interval: 10.0. Actual DSD interval: 10.0\n",
      "140616 134357\n",
      "2016-06-14 13:43:57\n",
      "2016 6 14 13 43 57\n",
      "2016-06-14 13:43:57 2016-06-14 13:43:57\n",
      "GPS Offset 0:00:00\n",
      "Requested DSD interval: 10.0. Actual DSD interval: 10.0\n",
      "140616 134834\n",
      "2016-06-14 13:48:34\n",
      "2016 6 14 13 48 34\n",
      "2016-06-14 13:48:34 2016-06-14 13:48:34\n",
      "GPS Offset 0:00:00\n",
      "Requested DSD interval: 10.0. Actual DSD interval: 10.0\n",
      "(<xarray.Dataset>\n",
      "Dimensions:                  (Time: 16038)\n",
      "Coordinates:\n",
      "  * Time                     (Time) datetime64[ns] 2016-06-14T13:48:30 ...\n",
      "Data variables:\n",
      "    Bad wind flagged times   (Time) bool False False False False False False ...\n",
      "    Derived particle counts  (Time) int64 2 3 0 2 4 2 2 2 2 3 0 4 0 1 2 5 6 ...\n",
      "    Particle counts          (Time) int64 2 3 0 2 4 2 2 2 2 3 0 4 0 1 2 5 6 ...\n",
      "    Precipitation intensity  (Time) float64 0.0 0.0 0.0 0.0 0.0 0.0 0.0 0.0 ...\n",
      "    Precipitation totals     (Time) float64 0.0 0.0 0.0 0.0 0.0 0.0 0.0 0.0 ...\n",
      "    Radar reflectivity       (Time) float64 -9.999 -9.999 -9.999 -9.999 ..., <xarray.Dataset>\n",
      "Dimensions:                  (Time: 16038)\n",
      "Coordinates:\n",
      "  * Time                     (Time) datetime64[ns] 2016-06-14T13:48:30 ...\n",
      "Data variables:\n",
      "    Bad wind flagged times   (Time) bool False False False False False False ...\n",
      "    Derived particle counts  (Time) int64 1 0 4 1 1 2 1 2 3 4 0 2 5 3 1 5 6 ...\n",
      "    Particle counts          (Time) int64 1 0 4 1 1 2 1 2 3 4 0 2 5 3 1 5 6 ...\n",
      "    Precipitation intensity  (Time) float64 0.0 0.0 0.0 0.0 0.0 0.0 0.0 0.0 ...\n",
      "    Precipitation totals     (Time) float64 0.03 0.03 0.03 0.03 0.03 0.03 ...\n",
      "    Radar reflectivity       (Time) float64 -9.999 -9.999 -9.999 -9.999 ..., <xarray.Dataset>\n",
      "Dimensions:                  (Time: 16038)\n",
      "Coordinates:\n",
      "  * Time                     (Time) datetime64[ns] 2016-06-14T13:48:30 ...\n",
      "Data variables:\n",
      "    Bad wind flagged times   (Time) bool False False False False False False ...\n",
      "    Derived particle counts  (Time) int64 4 1 2 2 3 1 3 4 5 3 1 2 1 3 4 5 6 ...\n",
      "    Particle counts          (Time) int64 4 1 2 2 3 1 3 4 5 3 1 2 1 3 4 5 6 ...\n",
      "    Precipitation intensity  (Time) float64 0.0 0.0 0.0 0.0 0.0 0.0 0.0 0.0 ...\n",
      "    Precipitation totals     (Time) float64 0.0 0.0 0.0 0.0 0.0 0.0 0.0 0.0 ...\n",
      "    Radar reflectivity       (Time) float64 -9.999 -9.999 -9.999 -9.999 ..., <xarray.Dataset>\n",
      "Dimensions:                  (Time: 16038)\n",
      "Coordinates:\n",
      "  * Time                     (Time) datetime64[ns] 2016-06-14T13:48:30 ...\n",
      "Data variables:\n",
      "    Bad wind flagged times   (Time) bool False False False False False False ...\n",
      "    Derived particle counts  (Time) int64 0 0 0 0 0 0 0 0 0 0 1 0 4 2 5 0 4 ...\n",
      "    Particle counts          (Time) int64 0 0 0 0 0 0 0 0 0 0 14 49 36 65 34 ...\n",
      "    Precipitation intensity  (Time) float64 0.0 0.0 0.0 0.0 0.0 0.0 0.0 0.0 ...\n",
      "    Precipitation totals     (Time) float64 0.0 0.0 0.0 0.0 0.0 0.0 0.0 0.0 ...\n",
      "    Radar reflectivity       (Time) float64 -9.999 -9.999 -9.999 -9.999 ...)\n"
     ]
    }
   ],
   "source": [
    "derived_DSD_ds_dict = {}\n",
    "PIPSnames=[]\n",
    "\n",
    "for dis_file in dis_files:\n",
    "    conv_data_df,concentrations_df,onedrop_concentrations_df,derived_DSD_df,DSD_interval,DSD_intervalstr = dis.readPIPSdf(dis_file,rainonlyqc=False,DSD_interval=10.0)\n",
    "\n",
    "    filename = os.path.split(dis_file)[1]\n",
    "    PIPSname = filename[:7]\n",
    "    PIPSnames.append(PIPSname)\n",
    "\n",
    "    # Create a Dataset from the DataFrame\n",
    "    derived_DSD_ds = xr.Dataset(derived_DSD_df)\n",
    "    derived_DSD_ds_dict[PIPSname] = derived_DSD_ds\n",
    "\n",
    "# Join the derived DSD Datasets into a single Dataset, using only the common times for each\n",
    "# First, align the Datasets along the time dimension, excluding those times that aren't common to all\n",
    "derived_DSD_ds_aligned = xr.align(*derived_DSD_ds_dict.values(),join='inner')\n",
    "print derived_DSD_ds_aligned\n",
    "#derived_DSD_ds_combined = xr.concat(*derived_DSD_ds_aligned,pd.Index(PIPSnames,name='PIPS_name'))"
   ]
  },
  {
   "cell_type": "code",
   "execution_count": 46,
   "metadata": {
    "collapsed": false
   },
   "outputs": [
    {
     "name": "stdout",
     "output_type": "stream",
     "text": [
      "<xarray.Dataset>\n",
      "Dimensions:                  (PIPS_name: 4, Time: 16038)\n",
      "Coordinates:\n",
      "  * Time                     (Time) datetime64[ns] 2016-06-14T13:48:30 ...\n",
      "  * PIPS_name                (PIPS_name) int64 1 2 3 4\n",
      "Data variables:\n",
      "    Bad wind flagged times   (PIPS_name, Time) bool False False False False ...\n",
      "    Derived particle counts  (PIPS_name, Time) int64 2 3 0 2 4 2 2 2 2 3 0 4 ...\n",
      "    Particle counts          (PIPS_name, Time) int64 2 3 0 2 4 2 2 2 2 3 0 4 ...\n",
      "    Precipitation intensity  (PIPS_name, Time) float64 0.0 0.0 0.0 0.0 0.0 ...\n",
      "    Precipitation totals     (PIPS_name, Time) float64 0.0 0.0 0.0 0.0 0.0 ...\n",
      "    Radar reflectivity       (PIPS_name, Time) float64 -9.999 -9.999 -9.999 ...\n"
     ]
    }
   ],
   "source": [
    "derived_DSD_ds_combined = xr.concat(derived_DSD_ds_aligned,pd.Index([1,2,3,4],name='PIPS_name'))\n",
    "print derived_DSD_ds_combined"
   ]
  },
  {
   "cell_type": "markdown",
   "metadata": {
    "deletable": true,
    "editable": true
   },
   "source": [
    "### Plot the derived DSD data"
   ]
  },
  {
   "cell_type": "code",
   "execution_count": 48,
   "metadata": {
    "collapsed": false,
    "deletable": true,
    "editable": true,
    "scrolled": false
   },
   "outputs": [
    {
     "data": {
      "text/plain": [
       "<matplotlib.collections.QuadMesh at 0x12bf216d0>"
      ]
     },
     "execution_count": 48,
     "metadata": {},
     "output_type": "execute_result"
    },
    {
     "data": {
      "image/png": "[encoded data removed]",
      "text/plain": [
       "<matplotlib.figure.Figure at 0x12d329d10>"
      ]
     },
     "metadata": {},
     "output_type": "display_data"
    }
   ],
   "source": [
    "temp = derived_DSD_ds_combined['Radar reflectivity']\n",
    "temp.plot()"
   ]
  },
  {
   "cell_type": "markdown",
   "metadata": {
    "deletable": true,
    "editable": true
   },
   "source": [
    "### Plot the resampled (time-averaged) data"
   ]
  },
  {
   "cell_type": "code",
   "execution_count": null,
   "metadata": {
    "collapsed": false,
    "deletable": true,
    "editable": true,
    "scrolled": false
   },
   "outputs": [],
   "source": [
    "windspdsavg_df.plot(figsize=(10,6),title=r'{0}-s mean scalar wind speed (m s$^{{-1}}$)'.format(avginterval))\n",
    "windspdsavgvec_df.plot(figsize=(10,6),title=r'{0}-s mean vector wind speed (m s$^{{-1}}$)'.format(avginterval))\n",
    "winddirsavgvec_df.plot(figsize=(10,6),title=r'{0}-s mean vector wind direction ($^{{\\circ}}$)'.format(avginterval))\n",
    "winddirsunitavgvec_df.plot(figsize=(10,6),title=r'{0}-s mean unit vector wind direction ($^{{\\circ}}$)'.format(avginterval))\n",
    "uavg_df.plot(figsize=(10,6),title=r'{0}-s mean u wind component (m s$^{{-1}}$)'.format(avginterval))\n",
    "vavg_df.plot(figsize=(10,6),title=r'{0}-s mean v wind component (m s$^{{-1}}$)'.format(avginterval))\n",
    "fasttempsavg_df.plot(figsize=(10,6),title=r'{0}-s mean fast temperature (K)'.format(avginterval))\n",
    "slowtempsavg_df.plot(figsize=(10,6),title=r'{0}-s mean slow temperature (K)'.format(avginterval))\n",
    "dewpointsavg_df.plot(figsize=(10,6),title=r'{0}-s mean dewpoint temperature (K)'.format(avginterval))\n",
    "RHsavg_df.plot(figsize=(10,6),title=r'{0}-s mean relative humidity (%)'.format(avginterval))\n",
    "pressuresavg_df.plot(figsize=(10,6),title=r'{0}-s mean pressure (hPa)'.format(avginterval))"
   ]
  },
  {
   "cell_type": "markdown",
   "metadata": {
    "deletable": true,
    "editable": true
   },
   "source": [
    "### Compute the differences from the mean for each PIPS, and the mean difference (bias) from the mean"
   ]
  },
  {
   "cell_type": "code",
   "execution_count": null,
   "metadata": {
    "collapsed": false,
    "deletable": true,
    "editable": true,
    "scrolled": false
   },
   "outputs": [],
   "source": [
    "from pandas.tools.plotting import table\n",
    "winddir_df_diff,winddir_df_bias,u_df_diff,u_df_bias,v_df_diff,v_df_bias = computewinddirbias(u_df,v_df)\n",
    "\n",
    "# Scalar wind speed\n",
    "windspds_diff,windspds_bias = computebias(windspds_df)\n",
    "fig,ax=plt.subplots(1,1)\n",
    "table(ax, N.round(windspds_bias, 4),loc='upper right',colWidths=[0.1])\n",
    "windspds_diff.plot(ax=ax,figsize=(10,6),title=r'Scalar wind speed difference from mean (m s$^{-1}$)')\n",
    "ax.legend(loc='upper left')\n",
    "\n",
    "# Wind direction\n",
    "fig,ax=plt.subplots(1,1)\n",
    "table(ax, N.round(winddir_df_bias, 4),loc='upper right',colWidths=[0.1])\n",
    "winddir_df_diff.plot(ax=ax,figsize=(10,6),title=r'Wind direction difference from mean ($^{\\circ}$)')\n",
    "ax.legend(loc='upper left')\n",
    "\n",
    "# U-wind component\n",
    "fig,ax=plt.subplots(1,1)\n",
    "table(ax, N.round(u_df_bias, 4),loc='upper right',colWidths=[0.1])\n",
    "u_df_diff.plot(ax=ax,figsize=(10,6),title=r'U wind component difference from mean (m s$^{-1}$)')\n",
    "ax.legend(loc='upper left')\n",
    "\n",
    "# V-wind component\n",
    "fig,ax=plt.subplots(1,1)\n",
    "table(ax, N.round(v_df_bias, 4),loc='upper right',colWidths=[0.1])\n",
    "v_df_diff.plot(ax=ax,figsize=(10,6),title=r'V wind component difference from mean (m s$^{-1}$)')\n",
    "ax.legend(loc='upper left')\n",
    "\n",
    "# Fast temperature\n",
    "fasttemps_diff,fasttemps_bias = computebias(fasttemps_df)\n",
    "fig,ax=plt.subplots(1,1)\n",
    "table(ax, N.round(fasttemps_bias, 4),loc='upper right',colWidths=[0.1])\n",
    "fasttemps_diff.plot(ax=ax,figsize=(10,6),title=r'Fast temperature difference from mean (K)')\n",
    "ax.legend(loc='upper left')\n",
    "\n",
    "# Slow temperature\n",
    "slowtemps_diff,slowtemps_bias = computebias(slowtemps_df)\n",
    "fig,ax=plt.subplots(1,1)\n",
    "table(ax, N.round(slowtemps_bias, 4),loc='upper right',colWidths=[0.1])\n",
    "slowtemps_diff.plot(ax=ax,figsize=(10,6),title=r'Slow temperature difference from mean (K)')\n",
    "ax.legend(loc='upper left')\n",
    "\n",
    "# Dewpoint temperature\n",
    "dewpoints_diff,dewpoints_bias = computebias(dewpoints_df)\n",
    "fig,ax=plt.subplots(1,1)\n",
    "table(ax, N.round(dewpoints_bias, 4),loc='upper right',colWidths=[0.1])\n",
    "dewpoints_diff.plot(ax=ax,figsize=(10,6),title=r'Dewpoint temperature difference from mean (K)')\n",
    "ax.legend(loc='upper left')\n",
    "\n",
    "# Relative humidity\n",
    "RHs_diff,RHs_bias = computebias(RHs_df)\n",
    "fig,ax=plt.subplots(1,1)\n",
    "table(ax, N.round(RHs_bias, 4),loc='upper right',colWidths=[0.1])\n",
    "RHs_diff.plot(ax=ax,figsize=(10,6),title=r'Relative humidity difference from mean (%)')\n",
    "ax.legend(loc='upper left')\n",
    "\n",
    "# Pressure\n",
    "pressures_diff,pressures_bias = computebias(pressures_df)\n",
    "fig,ax=plt.subplots(1,1)\n",
    "table(ax, N.round(pressures_bias, 4),loc='upper right',colWidths=[0.1])\n",
    "pressures_diff.plot(ax=ax,figsize=(10,6),title=r'Pressure difference from mean (hPa)')\n",
    "ax.legend(loc='upper left')\n"
   ]
  },
  {
   "cell_type": "markdown",
   "metadata": {
    "deletable": true,
    "editable": true
   },
   "source": [
    "### Make some scatter plots and linear regressions"
   ]
  },
  {
   "cell_type": "code",
   "execution_count": null,
   "metadata": {
    "collapsed": false,
    "deletable": true,
    "editable": true
   },
   "outputs": [],
   "source": [
    "fig,ax = plt.subplots(1,1)\n",
    "windspds_df.plot(ax=ax,x='PIPS_1A',y='PIPS_1B',kind='scatter')\n",
    "x = windspds_df['PIPS_1A']\n",
    "y = windspds_df['PIPS_1B']\n",
    "m,b = fit_line2(x,y)\n",
    "npoints = 100 # could be just 2 if you are only drawing a straight line...\n",
    "points = N.linspace(x.min(), x.max(), npoints)\n",
    "plt.plot(points, m*points + b,c='k')\n"
   ]
  },
  {
   "cell_type": "markdown",
   "metadata": {
    "deletable": true,
    "editable": true
   },
   "source": [
    "### Make a Bland–Altman plot"
   ]
  },
  {
   "cell_type": "code",
   "execution_count": null,
   "metadata": {
    "collapsed": false,
    "deletable": true,
    "editable": true
   },
   "outputs": [],
   "source": [
    "# PIPS 2A compared to mean for a variable\n",
    "fig,ax = plt.subplots(1,1)\n",
    "windspds_df_mean = windspds_df.mean(axis=1)\n",
    "x = (windspds_df['PIPS_1B']+windspds_df_mean)/2.\n",
    "y = (windspds_df['PIPS_1B']-windspds_df_mean)\n",
    "ax.scatter(x,y)\n",
    "ax.axhline(y=0,c='k',ls='--')"
   ]
  },
  {
   "cell_type": "code",
   "execution_count": null,
   "metadata": {
    "collapsed": false,
    "deletable": true,
    "editable": true
   },
   "outputs": [],
   "source": [
    "# Need to update this section!\n",
    "# Compute bias of the time-resampled PIPS observations as a function of time\n",
    "fasttempsavg_mean_df = fasttempsavg_df.mean(axis=1)\n",
    "fasttempsavg_bias_df = fasttempsavg_df.copy()\n",
    "fasttempsavg_bias_df['PIPS_1A']=fasttempsavg_df['PIPS_1A']-fasttempsavg_mean_df\n",
    "fasttempsavg_bias_df['PIPS_1B']=fasttempsavg_df['PIPS_1B']-fasttempsavg_mean_df\n",
    "fasttempsavg_bias_df['PIPS_2A']=fasttempsavg_df['PIPS_2A']-fasttempsavg_mean_df\n",
    "fasttempsavg_bias_df['PIPS_2B']=fasttempsavg_df['PIPS_2B']-fasttempsavg_mean_df\n",
    "fasttempsavg_bias = fasttempsavg_bias_df.mean(axis=0)\n",
    "print \"Resampled fast temps bias\"\n",
    "print fasttempsavg_bias\n",
    "\n",
    "RHsavg_mean_df = RHsavg_df.mean(axis=1)\n",
    "RHsavg_bias_df = RHsavg_df.copy()\n",
    "RHsavg_bias_df['PIPS_1A']=RHsavg_df['PIPS_1A']-RHsavg_mean_df\n",
    "RHsavg_bias_df['PIPS_1B']=RHsavg_df['PIPS_1B']-RHsavg_mean_df\n",
    "RHsavg_bias_df['PIPS_2A']=RHsavg_df['PIPS_2A']-RHsavg_mean_df\n",
    "RHsavg_bias_df['PIPS_2B']=RHsavg_df['PIPS_2B']-RHsavg_mean_df\n",
    "RHsavg_bias = RHsavg_bias_df.mean(axis=0)\n",
    "print \"Resampled RH bias\"\n",
    "print RHsavg_bias\n",
    "\n",
    "pressuresavg_mean_df = pressuresavg_df.mean(axis=1)\n",
    "pressuresavg_bias_df = pressuresavg_df.copy()\n",
    "pressuresavg_bias_df['PIPS_1A']=pressuresavg_df['PIPS_1A']-pressuresavg_mean_df\n",
    "pressuresavg_bias_df['PIPS_1B']=pressuresavg_df['PIPS_1B']-pressuresavg_mean_df\n",
    "pressuresavg_bias_df['PIPS_2A']=pressuresavg_df['PIPS_2A']-pressuresavg_mean_df\n",
    "pressuresavg_bias_df['PIPS_2B']=pressuresavg_df['PIPS_2B']-pressuresavg_mean_df\n",
    "pressuresavg_bias = pressuresavg_bias_df.mean(axis=0)\n",
    "print \"Resampled pressure bias\"\n",
    "print pressuresavg_bias\n",
    "\n",
    "uavg_mean_df = uavg_df.mean(axis=1) # *should* be the same as u_df.mean(axis=1)\n",
    "vavg_mean_df = vavg_df.mean(axis=1)\n",
    "uavg_bias_df = uavg_df.copy()\n",
    "uavg_bias_df['PIPS_1A']=uavg_df['PIPS_1A']-uavg_mean_df\n",
    "uavg_bias_df['PIPS_1B']=uavg_df['PIPS_1B']-uavg_mean_df\n",
    "uavg_bias_df['PIPS_2A']=uavg_df['PIPS_2A']-uavg_mean_df\n",
    "uavg_bias_df['PIPS_2B']=uavg_df['PIPS_2B']-uavg_mean_df\n",
    "uavg_bias = uavg_bias_df.mean(axis=0)\n",
    "print \"Resampled u-wind bias\"\n",
    "print uavg_bias\n",
    "\n",
    "vavg_bias_df = vavg_df.copy()\n",
    "vavg_bias_df['PIPS_1A']=vavg_df['PIPS_1A']-vavg_mean_df\n",
    "vavg_bias_df['PIPS_1B']=vavg_df['PIPS_1B']-vavg_mean_df\n",
    "vavg_bias_df['PIPS_2A']=vavg_df['PIPS_2A']-vavg_mean_df\n",
    "vavg_bias_df['PIPS_2B']=vavg_df['PIPS_2B']-vavg_mean_df\n",
    "vavg_bias = vavg_bias_df.mean(axis=0)\n",
    "print \"Resampled v-wind bias\"\n",
    "print vavg_bias\n",
    "\n",
    "winddiravgvec_mean_df = computedir(uavg_mean_df,vavg_mean_df)\n",
    "winddiravgvec_bias_df = winddirsavgvec_df.copy()\n",
    "# winddiravgvec_bias_df['PIPS_1A']=winddirsavgvec_df['PIPS_1A']-winddiravgvec_mean_df\n",
    "# winddiravgvec_bias_df['PIPS_1B']=winddirsavgvec_df['PIPS_1B']-winddiravgvec_mean_df\n",
    "# winddiravgvec_bias_df['PIPS_2A']=winddirsavgvec_df['PIPS_2A']-winddiravgvec_mean_df\n",
    "# winddiravgvec_bias_df['PIPS_2B']=winddirsavgvec_df['PIPS_2B']-winddiravgvec_mean_df\n",
    "winddiravgvec_bias_df['PIPS_1A']=anglediffdeg(winddirsavgvec_df['PIPS_1A'],winddiravgvec_mean_df)\n",
    "winddiravgvec_bias_df['PIPS_1B']=anglediffdeg(winddirsavgvec_df['PIPS_1B'],winddiravgvec_mean_df)\n",
    "winddiravgvec_bias_df['PIPS_2A']=anglediffdeg(winddirsavgvec_df['PIPS_2A'],winddiravgvec_mean_df)\n",
    "winddiravgvec_bias_df['PIPS_2B']=anglediffdeg(winddirsavgvec_df['PIPS_2B'],winddiravgvec_mean_df)\n",
    "winddiravgvec_bias = winddiravgvec_bias_df.mean(axis=0)\n",
    "print \"Resampled wind direction bias\"\n",
    "print winddiravgvec_bias\n",
    "\n",
    "unit_uavg_mean_df = unit_uavg_df.mean(axis=1)\n",
    "unit_vavg_mean_df = unit_vavg_df.mean(axis=1)\n",
    "winddirunitavgvec_mean_df = computedir(unit_uavg_mean_df,unit_vavg_mean_df)\n",
    "winddirunitavgvec_bias_df = winddirsunitavgvec_df.copy()\n",
    "# winddiravgvec_bias_df['PIPS_1A']=winddirsavgvec_df['PIPS_1A']-winddiravgvec_mean_df\n",
    "# winddiravgvec_bias_df['PIPS_1B']=winddirsavgvec_df['PIPS_1B']-winddiravgvec_mean_df\n",
    "# winddiravgvec_bias_df['PIPS_2A']=winddirsavgvec_df['PIPS_2A']-winddiravgvec_mean_df\n",
    "# winddiravgvec_bias_df['PIPS_2B']=winddirsavgvec_df['PIPS_2B']-winddiravgvec_mean_df\n",
    "winddirunitavgvec_bias_df['PIPS_1A']=anglediffdeg(winddirsunitavgvec_df['PIPS_1A'],winddirunitavgvec_mean_df)\n",
    "winddirunitavgvec_bias_df['PIPS_1B']=anglediffdeg(winddirsunitavgvec_df['PIPS_1B'],winddirunitavgvec_mean_df)\n",
    "winddirunitavgvec_bias_df['PIPS_2A']=anglediffdeg(winddirsunitavgvec_df['PIPS_2A'],winddirunitavgvec_mean_df)\n",
    "winddirunitavgvec_bias_df['PIPS_2B']=anglediffdeg(winddirsunitavgvec_df['PIPS_2B'],winddirunitavgvec_mean_df)\n",
    "winddirunitavgvec_bias = winddirunitavgvec_bias_df.mean(axis=0)\n",
    "print \"Resampled unit wind direction bias\"\n",
    "print winddirunitavgvec_bias\n",
    "\n",
    "windspdsavgvec_mean_df = windspdsavgvec_df.mean(axis=1)\n",
    "windspdsavgvec_bias_df = windspdsavgvec_df.copy()\n",
    "windspdsavgvec_bias_df['PIPS_1A']=windspdsavgvec_df['PIPS_1A']-windspdsavgvec_mean_df\n",
    "windspdsavgvec_bias_df['PIPS_1B']=windspdsavgvec_df['PIPS_1B']-windspdsavgvec_mean_df\n",
    "windspdsavgvec_bias_df['PIPS_2A']=windspdsavgvec_df['PIPS_2A']-windspdsavgvec_mean_df\n",
    "windspdsavgvec_bias_df['PIPS_2B']=windspdsavgvec_df['PIPS_2B']-windspdsavgvec_mean_df\n",
    "windspdsavgvec_bias = windspdsavgvec_bias_df.mean(axis=0)\n",
    "print \"Resampled windspeed bias\"\n",
    "print windspdsavgvec_bias"
   ]
  },
  {
   "cell_type": "code",
   "execution_count": null,
   "metadata": {
    "collapsed": false,
    "deletable": true,
    "editable": true
   },
   "outputs": [],
   "source": [
    "windspds_bias.columns\n",
    "windspds_bias.rename(columns={'None': 'Bias'}, inplace=True)\n",
    "windspds_df"
   ]
  },
  {
   "cell_type": "code",
   "execution_count": null,
   "metadata": {
    "collapsed": false,
    "deletable": true,
    "editable": true,
    "scrolled": false
   },
   "outputs": [],
   "source": [
    "fasttempsavg_bias_df.plot(figsize=(10,6))\n",
    "RHsavg_bias_df.plot(figsize=(10,6))\n",
    "pressuresavg_bias_df.plot(figsize=(10,6))\n",
    "uavg_bias_df.plot(figsize=(10,6))\n",
    "vavg_bias_df.plot(figsize=(10,6))\n",
    "winddiravgvec_bias_df.plot(figsize=(10,6))\n",
    "winddirunitavgvec_bias_df.plot(figsize=(10,6))\n",
    "windspdsavgvec_bias_df.plot(figsize=(10,6))"
   ]
  },
  {
   "cell_type": "code",
   "execution_count": null,
   "metadata": {
    "collapsed": false,
    "deletable": true,
    "editable": true
   },
   "outputs": [],
   "source": [
    "list(u_df)\n",
    "temp = computedir(u_df,v_df)\n",
    "list(temp)\n",
    "for col in list(temp):\n",
    "    print col\n",
    "    print temp[col]"
   ]
  },
  {
   "cell_type": "code",
   "execution_count": null,
   "metadata": {
    "collapsed": true,
    "deletable": true,
    "editable": true
   },
   "outputs": [],
   "source": [
    "# Scratch code below, don't execute!\n",
    "    \n",
    "    # Convert to numpy arrays\n",
    "    windspds = N.array(windspds)\n",
    "    winddirrels = N.array(winddirrels)\n",
    "    winddirabss = N.array(winddirabss)\n",
    "    fasttemps = N.array(fasttemps)\n",
    "    slowtemps = N.array(slowtemps)\n",
    "    dewpoints = N.array(dewpoints)\n",
    "    RHs_derived = N.array(RHs_derived)\n",
    "    RHs = N.array(RHs)\n",
    "    pressures = N.array(pressures)\n",
    "    pcounts = N.array(pcounts)\n",
    "    pcounts2 = N.array(pcounts2)\n",
    "    intensities = N.array(intensities)\n",
    "\n",
    "    Nc_bin = concentrations.T\n",
    "    dropperbin = onedrop_concentrations.T\n",
    "\n",
    "    logNc_bin = N.ma.log10(Nc_bin)\n",
    "    logNc_bin = N.ma.masked_where(Nc_bin < dropperbin, logNc_bin)\n",
    "\n",
    "    # Compute potential temperature, water vapor mixing ratio, and density\n",
    "    pt = thermo.caltheta(pressures*100.,slowtemps+273.15)\n",
    "    qv = thermo.calqv(RHs/100.,pressures*100.,slowtemps+273.15)\n",
    "    rho=thermo.calrho(pressures*100.,pt,qv)"
   ]
  },
  {
   "cell_type": "code",
   "execution_count": null,
   "metadata": {
    "collapsed": true,
    "deletable": true,
    "editable": true
   },
   "outputs": [],
   "source": []
  }
 ],
 "metadata": {
  "anaconda-cloud": {},
  "kernelspec": {
   "display_name": "Python [default]",
   "language": "python",
   "name": "python2"
  },
  "language_info": {
   "codemirror_mode": {
    "name": "ipython",
    "version": 2
   },
   "file_extension": ".py",
   "mimetype": "text/x-python",
   "name": "python",
   "nbconvert_exporter": "python",
   "pygments_lexer": "ipython2",
   "version": "2.7.12"
  }
 },
 "nbformat": 4,
 "nbformat_minor": 2
}
