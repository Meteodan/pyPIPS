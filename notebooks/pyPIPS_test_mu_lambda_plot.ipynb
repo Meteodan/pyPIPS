{
 "cells": [
  {
   "cell_type": "markdown",
   "metadata": {},
   "source": [
    "# Testing plots of mu-lambda scatter "
   ]
  },
  {
   "cell_type": "code",
   "execution_count": null,
   "metadata": {
    "ExecuteTime": {
     "end_time": "2021-09-16T15:43:35.868586Z",
     "start_time": "2021-09-16T15:43:32.195898Z"
    }
   },
   "outputs": [],
   "source": [
    "%load_ext autoreload\n",
    "%autoreload 2\n",
    "import numpy as np\n",
    "import numpy.ma as ma\n",
    "import matplotlib\n",
    "import matplotlib.pyplot as plt\n",
    "import matplotlib.cm as cm\n",
    "import matplotlib.ticker as ticker\n",
    "import matplotlib.dates as dates\n",
    "from mpl_toolkits.axes_grid1 import ImageGrid,make_axes_locatable,host_subplot\n",
    "# from mpl_toolkits.basemap import Basemap\n",
    "from datetime import datetime, timedelta\n",
    "import sys\n",
    "import os\n",
    "import pyPIPS.utils as utils\n",
    "import pyPIPS.thermolib as thermo\n",
    "import pyPIPS.DSDlib as dsd\n",
    "#import pyPIPS.disdrometer_module as dis\n",
    "import pyPIPS.plotmodule as PIPSplot\n",
    "# import pyPIPS.simulator as sim\n",
    "import pyPIPS.pips_io as pipsio\n",
    "import pyPIPS.PIPS as pips\n",
    "import pyPIPS.parsivel_params as pp\n",
    "import pyPIPS.parsivel_qc as pqc\n",
    "# from pyCRMtools.modules import plotmodule as plotmod\n",
    "from pyCRMtools.modules import utils as CRMutils\n",
    "# from pyCRMtools.pycaps import arps_read\n",
    "# from pyCRMtools.pycaps import pycaps_fields\n",
    "# from pyCRMtools.pycaps import calvars_radar as radar\n",
    "import pandas as pd\n",
    "import xarray as xr\n",
    "import glob\n",
    "import numpy.random as random\n",
    "from scipy.stats import gamma, uniform\n",
    "from scipy.special import gamma as gammafunc\n",
    "from scipy import ndimage\n",
    "from metpy.plots import StationPlot\n",
    "from metpy.calc import wind_components\n",
    "from metpy.cbook import get_test_data\n",
    "from metpy.plots import StationPlot\n",
    "from metpy.plots.wx_symbols import current_weather, sky_cover\n",
    "from metpy.units import units\n",
    "%matplotlib inline"
   ]
  },
  {
   "cell_type": "code",
   "execution_count": null,
   "metadata": {
    "ExecuteTime": {
     "end_time": "2021-09-16T15:43:40.160915Z",
     "start_time": "2021-09-16T15:43:39.708645Z"
    }
   },
   "outputs": [],
   "source": [
    "# Read in one of the PIPS datasets which has the CG coefficients as attributes\n",
    "PIPS_dir = '/Volumes/scr_fast/Projects/VORTEXSE/obsdata/full_PIPS_dataset_RB15/'\n",
    "# PIPS_dir = '/Users/dawson29/sshfs_mounts/depot/data/Projects/VORTEXSE/obsdata/full_PIPS_dataset_RB15/'\n",
    "# PIPS_filename = 'ND_avg_full_dataset_qc_60s.nc'\n",
    "PIPS_filename = 'parsivel_combined_FMCW_2017_043017_PIPS2A_60s.nc'\n",
    "PIPS_path = os.path.join(PIPS_dir, PIPS_filename)\n",
    "PIPS_ds_read = xr.load_dataset(PIPS_path)\n",
    "\n",
    "# Or read in full dataset for sigma-Dm plot\n",
    "# PIPS_filenames = glob.glob(PIPS_dir + '/parsivel_combined*60s*nc')\n",
    "# PIPS_ds_read = xr.open_mfdataset(PIPS_filenames, combine='nested', concat_dim=\"time\", \n",
    "#                                  data_vars='minimal', coords='minimal', compat='override', parallel=True)\n",
    "# Filter on RR > 0.1 mm/h\n",
    "# PIPS_ds = PIPS_ds_read.where(PIPS_ds_read['rainrate_derived_qc'] > 0.1, drop=True)\n",
    "PIPS_ds = PIPS_ds_read"
   ]
  },
  {
   "cell_type": "code",
   "execution_count": null,
   "metadata": {
    "ExecuteTime": {
     "end_time": "2021-09-16T15:43:57.218577Z",
     "start_time": "2021-09-16T15:43:56.428323Z"
    }
   },
   "outputs": [],
   "source": [
    "print(PIPS_ds)\n",
    "PIPS_ds = PIPS_ds.set_coords(['diameter', 'min_diameter', 'max_diameter'])\n",
    "print(PIPS_ds)\n",
    "ND = PIPS_ds['SATP_ND_full_dataset_qc']\n",
    "print(ND)\n",
    "# ND = ND.assign_coords(diameter=ND.diameter_bin)\n",
    "# print(ND)"
   ]
  },
  {
   "cell_type": "code",
   "execution_count": null,
   "metadata": {},
   "outputs": [],
   "source": [
    "PIPS_ds = PIPS_ds_read.where(PIPS_ds_read['rainrate_derived_qc'] > 0.1, drop=True)"
   ]
  },
  {
   "cell_type": "code",
   "execution_count": null,
   "metadata": {},
   "outputs": [],
   "source": [
    "DSD_MM_fit = PIPS_ds['DSD_MM234_qc']\n",
    "print(DSD_MM_fit)\n",
    "# Drop points where mu > 30 or lambda > 20000\n",
    "DSD_MM_fit = DSD_MM_fit.where(DSD_MM_fit.sel(parameter='lamda') < 20000.)\n",
    "DSD_MM_fit = DSD_MM_fit.where(DSD_MM_fit.sel(parameter='alpha') < 30.)\n",
    "DSD_MM_fit = DSD_MM_fit.dropna(dim='time', how='any')\n",
    "print(DSD_MM_fit)\n",
    "lamda = DSD_MM_fit.sel(parameter='lamda')\n",
    "mu = DSD_MM_fit.sel(parameter='alpha')\n",
    "\n",
    "\n",
    "\n",
    "fig, ax = plt.subplots(figsize=(10, 10))\n",
    "ax.scatter(lamda, mu)\n",
    "print(len(lamda))"
   ]
  },
  {
   "cell_type": "code",
   "execution_count": null,
   "metadata": {},
   "outputs": [],
   "source": [
    "# This is a handy way to deal with the problem of duplicate times that you still want to keep by\n",
    "# resetting the time index and making the corresponding time coordinate contain the integer position\n",
    "# of each time. Then, below, the .sel operation to extract a given time will work even if it is a duplicate\n",
    "lamda_reset = lamda.reset_index(\"time\")\n",
    "lamda_reset.coords[\"tindex\"] = lamda_reset.get_index(\"time\")\n",
    "lamda_good_vals = np.isfinite(lamda_reset)\n",
    "print(lamda_good_vals)\n",
    "#print(lamda_good_vals.get_index(\"time\"))\n",
    "bad_times = lamda_good_vals.where(~lamda_good_vals, drop=True)\n",
    "print(bad_times)\n",
    "bad_times = bad_times[\"tindex\"]\n",
    "print(bad_times)\n",
    "\n",
    "lamda_good_vals2 = lamda_reset.where(lamda_reset > 0.)\n",
    "lamda_bad_vals2 = lamda_reset.where(lamda_reset <= 0., drop=True)\n",
    "bad_times2 = lamda_bad_vals2[\"tindex\"]\n",
    "print(bad_times2)\n",
    "lamda_bad = lamda_reset.sel(time=bad_times).values\n",
    "print(lamda_bad)\n",
    "# print(lamda_good_vals.where(~lamda_good_vals, drop=True))\n",
    "mu_reset = mu.reset_index('time')\n",
    "mu_bad = mu_reset.sel(time=bad_times).values\n",
    "print(mu_bad)\n",
    "\n",
    "\n",
    "# MM_poly_coeff, MM_poly = dsd.calc_CG_polynomial(lamda, mu)"
   ]
  }
 ],
 "metadata": {
  "anaconda-cloud": {},
  "hide_input": false,
  "kernelspec": {
   "display_name": "Python 3.7.3 64-bit ('pyPIPS': conda)",
   "language": "python",
   "name": "python37364bitpypipscondaea8788f6419a4a34be329df7b3b7ce88"
  },
  "language_info": {
   "codemirror_mode": {
    "name": "ipython",
    "version": 3
   },
   "file_extension": ".py",
   "mimetype": "text/x-python",
   "name": "python",
   "nbconvert_exporter": "python",
   "pygments_lexer": "ipython3",
   "version": "3.7.10"
  },
  "toc": {
   "base_numbering": 1,
   "nav_menu": {},
   "number_sections": true,
   "sideBar": true,
   "skip_h1_title": false,
   "title_cell": "Table of Contents",
   "title_sidebar": "Contents",
   "toc_cell": false,
   "toc_position": {},
   "toc_section_display": true,
   "toc_window_display": false
  },
  "varInspector": {
   "cols": {
    "lenName": 16,
    "lenType": 16,
    "lenVar": 40
   },
   "kernels_config": {
    "python": {
     "delete_cmd_postfix": "",
     "delete_cmd_prefix": "del ",
     "library": "var_list.py",
     "varRefreshCmd": "print(var_dic_list())"
    },
    "r": {
     "delete_cmd_postfix": ") ",
     "delete_cmd_prefix": "rm(",
     "library": "var_list.r",
     "varRefreshCmd": "cat(var_dic_list()) "
    }
   },
   "types_to_exclude": [
    "module",
    "function",
    "builtin_function_or_method",
    "instance",
    "_Feature"
   ],
   "window_display": false
  }
 },
 "nbformat": 4,
 "nbformat_minor": 2
}
