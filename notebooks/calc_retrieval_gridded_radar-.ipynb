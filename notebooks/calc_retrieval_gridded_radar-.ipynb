{
 "cells": [
  {
   "cell_type": "code",
   "execution_count": null,
   "metadata": {
    "ExecuteTime": {
     "end_time": "2020-12-24T16:40:08.561487Z",
     "start_time": "2020-12-24T16:40:04.580522Z"
    }
   },
   "outputs": [],
   "source": [
    "%load_ext autoreload\n",
    "%autoreload 2\n",
    "import numpy as np\n",
    "import numpy.ma as ma\n",
    "import matplotlib\n",
    "import matplotlib.pyplot as plt\n",
    "import matplotlib.cm as cm\n",
    "import matplotlib.ticker as ticker\n",
    "import matplotlib.dates as dates\n",
    "from mpl_toolkits.axes_grid1 import ImageGrid,make_axes_locatable,host_subplot\n",
    "#from mpl_toolkits.basemap import Basemap\n",
    "from datetime import datetime, timedelta\n",
    "import sys\n",
    "import os\n",
    "import pyPIPS.utils as utils\n",
    "import pyPIPS.thermolib as thermo\n",
    "import pyPIPS.DSDlib as dsd\n",
    "#import pyPIPS.disdrometer_module as dis\n",
    "import pyPIPS.plotmodule as PIPSplot\n",
    "#import pyPIPS.simulator as sim\n",
    "import pyPIPS.pips_io as pipsio\n",
    "import pyPIPS.PIPS as pips\n",
    "import pyPIPS.parsivel_params as pp\n",
    "import pyPIPS.parsivel_qc as pqc\n",
    "import pyPIPS.radarmodule as radar\n",
    "import pyPIPS.polarimetric as dualpol\n",
    "#from pyCRMtools.modules import plotmodule as plotmod\n",
    "from pyCRMtools.modules import utils as CRMutils\n",
    "import pandas as pd\n",
    "import xarray as xr\n",
    "import glob\n",
    "import numpy.random as random\n",
    "from scipy.stats import gamma, uniform\n",
    "from scipy.special import gamma as gammafunc\n",
    "from scipy import ndimage\n",
    "from scipy import interpolate\n",
    "from metpy.plots import StationPlot\n",
    "import metpy.calc as mpcalc\n",
    "from metpy.calc import wind_components\n",
    "from metpy.cbook import get_test_data\n",
    "from metpy.plots import StationPlot\n",
    "from metpy.plots.wx_symbols import current_weather, sky_cover\n",
    "from metpy.units import units\n",
    "from scipy.signal import medfilt2d\n",
    "import pyart\n",
    "import cartopy.crs as ccrs\n",
    "%matplotlib inline\n",
    "import warnings;\n",
    "warnings.filterwarnings('ignore')"
   ]
  },
  {
   "cell_type": "code",
   "execution_count": null,
   "metadata": {
    "ExecuteTime": {
     "end_time": "2020-12-24T16:40:08.780318Z",
     "start_time": "2020-12-24T16:40:08.698463Z"
    }
   },
   "outputs": [],
   "source": [
    "# Function definitions\n",
    "def readESC(sounding_path, interpnan=True, handle=False):\n",
    "    \"\"\"\n",
    "    Reads in a sounding in ESC format from a provided file path or handle (can be a StringIO object or an open\n",
    "    file handle)\n",
    "    \"\"\"\n",
    "    col_names = ['pressure','temperature','dewpoint','u_wind','v_wind','speed','direction','height',\n",
    "                 'Qp_code','Qt_code','Qrh_code','Qu_code','Qv_code']\n",
    "    # First read the file and extract the field widths from the 14th header line\n",
    "    if not handle:\n",
    "        f = open(sounding_path, 'r')\n",
    "    else:\n",
    "        f = sounding_path\n",
    "\n",
    "    # Read in the header and extract some metadata from it\n",
    "    dummy = f.readline()\n",
    "    dummy = f.readline()\n",
    "    header2 = f.readline().strip().split(':')\n",
    "    # Read next header line and extract station id and wmo number from it (if it exists)\n",
    "    staid_wmo_str = header2[1]\n",
    "    if ' / ' in staid_wmo_str:\n",
    "        staid_wmo = staid_wmo_str.strip().split(' / ')\n",
    "        staid = staid_wmo[0][1:4]\n",
    "        wmo = int(staid_wmo[1])\n",
    "    else:\n",
    "        if '. ' in staid_wmo_str:\n",
    "            staid = staid_wmo_str.replace('. ', '').strip()[:4]\n",
    "        else:\n",
    "            staid = staid_wmo_str.strip()[:4]\n",
    "            staid = staid.replace(\" \", \"\")\n",
    "        wmo = 99999\n",
    "    print(staid)\n",
    "    # Read the next header line and extract the location information from it\n",
    "    header3 = f.readline().strip().split(':')\n",
    "    location = header3[1].strip().split(',')\n",
    "    print(location)\n",
    "    lon = np.float(location[2])\n",
    "    lat = np.float(location[3])\n",
    "    elev = np.float(location[4])\n",
    "    # Read the next header line and extract the time information from it\n",
    "    header4 = f.readline().strip()[31:].lstrip()   \n",
    "    sounding_datetime = datetime.strptime(header4, '%Y, %m, %d, %H:%M:%S')\n",
    "    \n",
    "    # Now read and dump the rest of the header\n",
    "    for i in range(9):\n",
    "        f.readline()\n",
    "    \n",
    "    # Except for the last header line, which is used to determine the widths of the fields\n",
    "    line = f.readline().strip().split()\n",
    "    fw = [len(field)+1 for field in line]\n",
    "\n",
    "    # Now read the file into the dataframe, using the extracted field widths\n",
    "    df = pd.read_fwf(f, usecols=[1, 2, 3, 5, 6, 7, 8, 14, 15, 16, 17, 18, 19],\n",
    "                     names=col_names, na_values=['99999.0', '9999.0', '999.0'], widths=fw)\n",
    "    \n",
    "    # For some reason, need to convert all the columns to floating point here, as some get interpreted as strings\n",
    "    # when they shouldn't be...\n",
    "    # print(df['pressure'], df['temperature'])\n",
    "    for column in df.columns:\n",
    "        df[column] = df[column].astype(np.float)\n",
    "    \n",
    "    # Drop rows where height or pressure is NaN. TODO: Can't remember why I have to use reset_index(drop=True). \n",
    "    # Figure this out.\n",
    "    df = df.dropna(subset=('height', 'pressure')).reset_index(drop=True)\n",
    "    # Set the height as the index so we can use it as weights to interpolate other columns across NaN\n",
    "    df = df.set_index('height')\n",
    "    df['height'] = df.index\n",
    "    \n",
    "    if interpnan:\n",
    "        # First convert direction and speed to u, v components\n",
    "        df['u'], df['v'] = mpcalc.wind_components(df['speed'].values*units('m/s'),\n",
    "                                                      df['direction'].values*units.degrees)\n",
    "        # Now interpolate\n",
    "        df = df.interpolate(method='values')\n",
    "        # Finally recompute direction and speed from u, v components\n",
    "        df['speed'] = mpcalc.wind_speed(df['u'].values*units('m/s'), df['v'].values*units('m/s'))\n",
    "        df['direction'] = mpcalc.wind_direction(df['u'].values*units('m/s'), df['v'].values*units('m/s'))\n",
    "    else:\n",
    "        # Drop any rows with all NaN values for T, Td, winds\n",
    "        df = df.dropna(subset=('temperature', 'dewpoint', 'direction', 'speed',\n",
    "                               'u_wind', 'v_wind'), how='all').reset_index(drop=True)\n",
    "    \n",
    "    df = df[(df.Qp_code == 1.0) & (df.Qt_code == 1.0) & (df.Qrh_code == 1.0) & (df.Qu_code == 1.0) & \n",
    "            (df.Qv_code == 1.0)]\n",
    "\n",
    "    nlines = df.count()['pressure']\n",
    "    \n",
    "    if not handle:\n",
    "        f.close()\n",
    "    \n",
    "    snd_metadata = {\n",
    "        'sounding_datetime': sounding_datetime,\n",
    "        'lat': lat,\n",
    "        'lon': lon,\n",
    "        'selev': elev,\n",
    "        'staid': staid,\n",
    "        'wmo': wmo,\n",
    "        'nlevs': nlines,\n",
    "        'staid_long': staid_wmo_str\n",
    "    }\n",
    "    \n",
    "    return snd_metadata, df\n",
    "\n",
    "\n",
    "def roundPartial(value, resolution, decimals=4):\n",
    "    return np.around(np.round(value / resolution) * resolution, decimals=decimals)\n",
    "\n",
    "\n",
    "def rain_Brandes(D):\n",
    "    \"\"\"Given a range of diameters D, compute rain fall speed curve, a quartic polynomial\n",
    "       fit after Brandes et al. (2002).\"\"\"\n",
    "    \n",
    "    D_mm=D*1000. # get it to (mm)\n",
    "    \n",
    "    Vtr = -0.1021 + 4.932*D_mm - 0.9551*D_mm**2. + 0.07934*D_mm**3. - 0.002362*D_mm**4.\n",
    "    \n",
    "    return Vtr\n",
    "\n",
    "\n",
    "def cal_xf(usm,vsm,vt,H):\n",
    "    \"\"\"Computes final horizontal position (relative to starting position) of a raindrop\n",
    "       falling through a layer H with terminal velocity vt and storm releative mean wind\n",
    "       given by (usm,vsm).\"\"\"\n",
    "    \n",
    "    xf = (H/vt)*usm\n",
    "    yf = (H/vt)*vsm\n",
    "    \n",
    "    return xf,yf\n",
    "\n",
    "\n",
    "def mtokm(val,pos):\n",
    "    \"\"\"Convert m to km for formatting axes tick labels\"\"\"\n",
    "    val=val/1000.0\n",
    "    return '%i' % val\n",
    "\n"
   ]
  },
  {
   "cell_type": "code",
   "execution_count": null,
   "metadata": {
    "ExecuteTime": {
     "end_time": "2020-12-24T16:46:58.974768Z",
     "start_time": "2020-12-24T16:46:55.552353Z"
    }
   },
   "outputs": [],
   "source": [
    "# Read in the gridded radar data\n",
    "radar_name = 'KHTX'\n",
    "input_tag = 'filt_retr'\n",
    "radar_type= 'NEXRAD'\n",
    "date = '0430'\n",
    "radar_start_timestamp = '20170430190000'\n",
    "radar_end_timestamp = '20170430235959'\n",
    "\n",
    "# Create datetime objects for start and end times\n",
    "datetime_start = datetime.strptime(radar_start_timestamp, '%Y%m%d%H%M%S')\n",
    "datetime_end = datetime.strptime(radar_end_timestamp, '%Y%m%d%H%M%S')\n",
    "\n",
    "el_req = 0.5\n",
    "radar_basedir = gridded_radar_dir = \\\n",
    "    '/Users/dawson29/sshfs_mounts/depot/data/Projects/VORTEXSE/obsdata/2017/NEXRAD/PIPS2A_FMCW/0430/HTX'\n",
    "gridded_radar_dir = os.path.join(radar_basedir, 'gridded_new')\n",
    "gridded_radar_paths = glob.glob(gridded_radar_dir + '/{}20170430_19*gridded*.nc'.format(radar_name))\n",
    "gridded_radar_paths = gridded_radar_paths + \\\n",
    "    glob.glob(gridded_radar_dir + '/{}20170430_2*gridded*.nc'.format(radar_name))\n",
    "gridded_radar_paths = sorted(gridded_radar_paths)\n",
    "# Choose the first one for testing (2000 UTC)\n",
    "gridded_radar = pyart.io.read_grid(gridded_radar_paths[0])\n",
    "# print(gridded_radar.metadata)\n",
    "# print(gridded_radar.projection)\n",
    "# print(gridded_radar.projection_proj)"
   ]
  },
  {
   "cell_type": "code",
   "execution_count": null,
   "metadata": {
    "ExecuteTime": {
     "end_time": "2020-12-24T17:15:59.294059Z",
     "start_time": "2020-12-24T16:47:03.369571Z"
    },
    "scrolled": true
   },
   "outputs": [],
   "source": [
    "# Loop through all the gridded radar files and perform masking and retrievals. Then dump updated grid files\n",
    "gridded_radar_output_dir = os.path.join(radar_basedir, 'gridded_retr')\n",
    "if not os.path.exists(gridded_radar_output_dir):\n",
    "    os.makedirs(gridded_radar_output_dir)\n",
    "\n",
    "# Set retrieval lookup table to use\n",
    "retrieval_tag = 'Z01'\n",
    "lookup_dir = os.path.join('/Users/dawson29/Projects/pyPIPS/data/lookups/', retrieval_tag)\n",
    "\n",
    "for gridded_radar_path in gridded_radar_paths:\n",
    "    gridded_radar_filename = os.path.basename(gridded_radar_path)\n",
    "    print(\"Reading {}: \".format(gridded_radar_filename))\n",
    "    gridded_radar = pyart.io.read_grid(gridded_radar_path)\n",
    "    # Mask radar data where ZH < 5 dBZ and ZDR < 0.1 dB\n",
    "    ZH_mask = np.where(gridded_radar.fields['reflectivity']['data'] < 5., True, False)\n",
    "    ZH_mask = np.where(np.isfinite(gridded_radar.fields['reflectivity']['data']), ZH_mask, False)\n",
    "    ZDR_mask = np.where(gridded_radar.fields['differential_reflectivity']['data'] < 0.1, True, False)\n",
    "    ZDR_mask = np.where(np.isfinite(gridded_radar.fields['reflectivity']['data']), ZDR_mask, False)\n",
    "    full_mask = np.ma.mask_or(ZH_mask, ZDR_mask)\n",
    "    # full_mask = np.ma.mask_or(ZH_mask, ZDR_mask)\n",
    "    for field_name in ['reflectivity', 'differential_reflectivity']:\n",
    "        field_name_masked = '{}_masked'.format(field_name)\n",
    "        dic = {}\n",
    "        for k, v in gridded_radar.fields[field_name].items():\n",
    "            if k != 'data':\n",
    "                dic[k] = v\n",
    "            dic['data'] = gridded_radar.fields[field_name]['data'].copy()\n",
    "        gridded_radar.add_field(field_name_masked, dic, replace_existing=True)\n",
    "        gridded_radar.fields[field_name_masked]['data'] = \\\n",
    "                np.ma.masked_array(gridded_radar.fields[field_name]['data'], mask=full_mask)\n",
    "    \n",
    "    # Retrieve gamma DSD parameters from ZH and ZDR\n",
    "    print(\"Getting ZH and ZDR fields\")\n",
    "    # Get the ZH and ZDR fields from the radar object\n",
    "    print(gridded_radar.fields.keys())\n",
    "    ZH_rad_field = gridded_radar.fields['reflectivity_masked']\n",
    "    ZDR_rad_field = gridded_radar.fields['differential_reflectivity_masked']\n",
    "    # print(ZH_rad_tuple)\n",
    "    # ZH_rad_tuple = radar.get_gridded_field_to_plot(gridded_radar, radar.REF_aliases)\n",
    "    # ZDR_rad_tuple = radar.get_gridded_field_to_plot(gridded_radar, radar.ZDR_aliases)\n",
    "    ZH_rad = ZH_rad_field['data']\n",
    "    ZDR_rad = ZDR_rad_field['data']\n",
    "    # Get the masks for both ZH_rad and ZDR_rad. These will be used later to mask the retrieved\n",
    "    # values\n",
    "    ZH_mask = ZH_rad.mask\n",
    "    ZDR_mask = ZDR_rad.mask\n",
    "    full_mask = np.ma.mask_or(ZH_mask, ZDR_mask)\n",
    "    # Read in first lookup table to get the interval between reflectivity and ZDR\n",
    "    lookup_path = os.path.join(lookup_dir, 'D0.csv')\n",
    "    retr_table = pd.read_csv(lookup_path, sep=',', header=0, index_col='dBZ')\n",
    "    # Massage the index and column labels to get rid of extraneous zeros\n",
    "    # Also convert column labels from strings to floats\n",
    "    retr_table.index = retr_table.index.to_series().apply(np.around, decimals=4)\n",
    "    retr_table.columns = [np.around(np.float(col), decimals=4) for col in retr_table.columns]\n",
    "\n",
    "    dBZ_lookup_min = retr_table.index[0]\n",
    "    dBZ_lookup_max = retr_table.index[-1]\n",
    "    ZDR_lookup_min = retr_table.columns[0]\n",
    "    ZDR_lookup_max = retr_table.columns[-1]\n",
    "    dBZ_intv = retr_table.index[1] - retr_table.index[0]\n",
    "    ZDR_intv = float(retr_table.columns[1]) - float(retr_table.columns[0])\n",
    "    # Replace masked entries in ZH_rad and ZDR_rad with the minimum value of the lookup table\n",
    "    ZH_rad = ZH_rad.filled(dBZ_lookup_min)\n",
    "    ZDR_rad = ZDR_rad.filled(ZDR_lookup_min)\n",
    "    # Now limit values to within lookup table limits\n",
    "    ZH_rad = np.where(ZH_rad < dBZ_lookup_min, dBZ_lookup_min, ZH_rad)\n",
    "    ZH_rad = np.where(ZH_rad > dBZ_lookup_max, dBZ_lookup_max, ZH_rad)\n",
    "    ZDR_rad = np.where(ZDR_rad < ZDR_lookup_min, ZDR_lookup_min, ZDR_rad)\n",
    "    ZDR_rad = np.where(ZDR_rad > ZDR_lookup_max, ZDR_lookup_max, ZDR_rad)\n",
    "    # Round ZH and ZDR fields from the radar object to the nearest interval\n",
    "    ZH_round = roundPartial(ZH_rad, dBZ_intv)\n",
    "    ZDR_round = roundPartial(ZDR_rad, ZDR_intv)\n",
    "    # Get the shape of the arrays for later, so we can reshape the flattened arrays of retrieved\n",
    "    # values\n",
    "    ZH_shape = ZH_round.shape\n",
    "    ZH_flat = ZH_round.flatten()\n",
    "    ZDR_flat = ZDR_round.flatten()\n",
    "    print(ZH_flat.max())\n",
    "    print(ZDR_flat.max())\n",
    "    for retr_varname in radar.retrieval_metadata.keys():\n",
    "        print(\"Retrieving {} using lookup tables\".format(retr_varname))\n",
    "        lookup_path = os.path.join(lookup_dir, '{}.csv'.format(retr_varname))\n",
    "        retr_table = pd.read_csv(lookup_path, sep=',', header=0, index_col='dBZ')\n",
    "        # Round the indices and columns of the DataFrame (i.e. the dBZ values) to some sane\n",
    "        # number of decimal places to facilitate using it as a lookup table. The floating point\n",
    "        # precision gets in the way sometimes here. For example 56.4 is dumped out as\n",
    "        # 56.4<some bunch of zeros>1\n",
    "        retr_table.index = retr_table.index.to_series().apply(np.around, decimals=4)\n",
    "        retr_table.columns = [np.around(np.float(col), decimals=4) for col in\n",
    "                              retr_table.columns]\n",
    "        # Gah, for some reason DataFrame.lookup sometimes barfs on perfectly good floating point\n",
    "        # values in columns, so convert them back to strings here. :rolleyes:\n",
    "        # EDIT 11/09/2020: Now this is happening for the rows as well. Not sure why... So change the row labels\n",
    "        # to strings as well.\n",
    "        retr_table.index = [str(row) for row in retr_table.index]\n",
    "        retr_table.columns = [str(col) for col in retr_table.columns]\n",
    "        # print(list(retr_table.index))\n",
    "        # print(list(retr_table.columns))\n",
    "        # Ok, now retrieve the desired retrieval variable\n",
    "        # for each ZH/ZDR pair in the flattened radar sweep\n",
    "    #     for ZH, ZDR in zip(ZH_flat, ZDR_flat):\n",
    "    #         print(ZH, ZDR)\n",
    "    #         retr_val = retr_table.lookup([ZH.astype('str')], [ZDR.astype('str')])\n",
    "        retr_vals = retr_table.lookup(ZH_flat.astype('str'), ZDR_flat.astype('str'))\n",
    "        # retr_vals = retr_table.lookup(ZH_flat, ZDR_flat)\n",
    "        # Reshape back to original shape\n",
    "        retr_vals_data = retr_vals.reshape(ZH_shape)\n",
    "        retr_vals_data = np.ma.masked_array(retr_vals_data, mask=full_mask)\n",
    "        # Construct the dictionary. NOTE: Gotcha! Apparently have to make a copy here,\n",
    "        # otherwise contents of 'data' don't get written when same dictionary is used later.\n",
    "        retr_val_dict = radar.retrieval_metadata[retr_varname].copy()\n",
    "        retr_val_dict['data'] = retr_vals_data  # If I don't make a copy on the previous line\n",
    "                                                        # The contents of retr_val_dict['data'] are\n",
    "                                                        # not updated after the first time. This is\n",
    "                                                        # very weird.\n",
    "        # Save the retrieved array as a new field in the radar sweep object\n",
    "        retr_varname_out = '{}_{}'.format(retr_varname, retrieval_tag)\n",
    "        gridded_radar.add_field(retr_varname_out, retr_val_dict, replace_existing=True)\n",
    "        # Now mask the retrieved values using the original combined mask of ZH and ZDR\n",
    "        gridded_radar.fields[retr_varname_out]['data'].mask = full_mask\n",
    "    \n",
    "    # Dump new gridded radar object to disk\n",
    "    gridded_radar_output_path = os.path.join(gridded_radar_output_dir, 'new_' + gridded_radar_filename)\n",
    "    gridded_radar.write(gridded_radar_output_path, arm_time_variables=True, arm_alt_lat_lon_variables=True)"
   ]
  },
  {
   "cell_type": "code",
   "execution_count": null,
   "metadata": {
    "ExecuteTime": {
     "end_time": "2020-12-24T21:11:34.479412Z",
     "start_time": "2020-12-24T21:11:33.903185Z"
    }
   },
   "outputs": [],
   "source": [
    "# Read in PIPS data\n",
    "PIPS_data_dir = '/Volumes/scr_fast/Projects/VORTEXSE/obsdata/full_PIPS_dataset_RB15/'\n",
    "PIPS_filename = 'parsivel_combined_FMCW_2017_{}17_PIPS2A_60s.nc'.format(date)\n",
    "PIPS_filepath = os.path.join(PIPS_data_dir, PIPS_filename)\n",
    "PIPS_ds = xr.load_dataset(PIPS_filepath)\n",
    "print(PIPS_ds)"
   ]
  },
  {
   "cell_type": "code",
   "execution_count": null,
   "metadata": {
    "ExecuteTime": {
     "end_time": "2020-12-24T21:11:35.712439Z",
     "start_time": "2020-12-24T21:11:35.650215Z"
    }
   },
   "outputs": [],
   "source": [
    "# Grab the location of the PIPS\n",
    "PIPS_loc = eval(PIPS_ds.location)\n",
    "PIPS_lat = PIPS_loc[0]\n",
    "PIPS_lon = PIPS_loc[1]\n",
    "print(PIPS_loc)\n",
    "print(PIPS_lat, PIPS_lon)"
   ]
  },
  {
   "cell_type": "code",
   "execution_count": null,
   "metadata": {
    "ExecuteTime": {
     "end_time": "2020-12-24T21:11:37.292497Z",
     "start_time": "2020-12-24T21:11:37.226698Z"
    }
   },
   "outputs": [],
   "source": [
    "# heights of Grid levels\n",
    "print(gridded_radar.metadata)\n",
    "print(gridded_radar.point_z['data'][:, 10, 10])\n",
    "print(gridded_radar.origin_altitude)"
   ]
  },
  {
   "cell_type": "code",
   "execution_count": null,
   "metadata": {
    "ExecuteTime": {
     "end_time": "2020-12-24T21:11:39.659324Z",
     "start_time": "2020-12-24T21:11:38.421864Z"
    }
   },
   "outputs": [],
   "source": [
    "# Plot lowest level of radar grid\n",
    "projection = ccrs.PlateCarree()\n",
    "fig = plt.figure(figsize=(10,10))\n",
    "ax = fig.add_subplot(111, projection=projection)\n",
    "display = pyart.graph.GridMapDisplay(gridded_radar)\n",
    "display.plot_grid('reflectivity_masked', 0, vmin=0, vmax=60, cmap='pyart_HomeyerRainbow', projection=projection)\n",
    "ax.plot([PIPS_lon], [PIPS_lat], 'r*', ms=20, transform=projection)"
   ]
  },
  {
   "cell_type": "code",
   "execution_count": null,
   "metadata": {
    "ExecuteTime": {
     "end_time": "2020-12-24T21:11:49.298037Z",
     "start_time": "2020-12-24T21:11:48.658582Z"
    }
   },
   "outputs": [],
   "source": [
    "projection = ccrs.PlateCarree()\n",
    "fig = plt.figure(figsize=(10,10))\n",
    "ax = fig.add_subplot(111, projection=projection)\n",
    "display = pyart.graph.GridMapDisplay(gridded_radar)\n",
    "display.plot_grid('differential_reflectivity_masked', 0, vmin=0, vmax=6, cmap='pyart_HomeyerRainbow', projection=projection)\n",
    "ax.plot([PIPS_lon], [PIPS_lat], 'r*', ms=20, transform=projection)"
   ]
  },
  {
   "cell_type": "code",
   "execution_count": null,
   "metadata": {
    "ExecuteTime": {
     "end_time": "2020-12-24T21:11:52.977663Z",
     "start_time": "2020-12-24T21:11:52.341028Z"
    }
   },
   "outputs": [],
   "source": [
    "projection = ccrs.PlateCarree()\n",
    "fig = plt.figure(figsize=(10,10))\n",
    "ax = fig.add_subplot(111, projection=projection)\n",
    "display = pyart.graph.GridMapDisplay(gridded_radar)\n",
    "display.plot_grid('mu_Z01', 0, vmin=0, vmax=30, cmap='pyart_HomeyerRainbow', projection=projection)\n",
    "ax.plot([PIPS_lon], [PIPS_lat], 'r*', ms=20, transform=projection)"
   ]
  },
  {
   "cell_type": "code",
   "execution_count": null,
   "metadata": {
    "ExecuteTime": {
     "end_time": "2020-12-24T21:11:59.476820Z",
     "start_time": "2020-12-24T21:11:58.819338Z"
    }
   },
   "outputs": [],
   "source": [
    "projection = ccrs.PlateCarree()\n",
    "fig = plt.figure(figsize=(10,10))\n",
    "ax = fig.add_subplot(111, projection=projection)\n",
    "display = pyart.graph.GridMapDisplay(gridded_radar)\n",
    "display.plot_grid('lamda_Z01', 0, vmin=0, vmax=30, cmap='pyart_HomeyerRainbow', projection=projection)\n",
    "ax.plot([PIPS_lon], [PIPS_lat], 'r*', ms=20, transform=projection)"
   ]
  },
  {
   "cell_type": "code",
   "execution_count": null,
   "metadata": {
    "ExecuteTime": {
     "end_time": "2020-12-24T21:12:02.874458Z",
     "start_time": "2020-12-24T21:12:02.226661Z"
    }
   },
   "outputs": [],
   "source": [
    "projection = ccrs.PlateCarree()\n",
    "fig = plt.figure(figsize=(10,10))\n",
    "ax = fig.add_subplot(111, projection=projection)\n",
    "display = pyart.graph.GridMapDisplay(gridded_radar)\n",
    "display.plot_grid('N0_Z01', 0, vmin=0, vmax=8.e3, cmap='pyart_HomeyerRainbow', projection=projection)\n",
    "ax.plot([PIPS_lon], [PIPS_lat], 'r*', ms=20, transform=projection)"
   ]
  },
  {
   "cell_type": "code",
   "execution_count": null,
   "metadata": {
    "ExecuteTime": {
     "end_time": "2020-12-24T21:12:10.558188Z",
     "start_time": "2020-12-24T21:12:10.329482Z"
    }
   },
   "outputs": [],
   "source": [
    "# Plot original reflectivity at the top of the grid for comparison and sanity check\n",
    "\n",
    "fig = plt.figure(figsize=(10,10))\n",
    "ax = fig.add_subplot(111)\n",
    "norm = matplotlib.colors.Normalize(vmin=0., vmax=50., clip=False)\n",
    "dBZ = ax.imshow(gridded_radar_subgrid['reflectivity_masked'], origin='lower', vmin=0., vmax=50., norm=norm)\n",
    "fig.colorbar(dBZ, ax=ax)"
   ]
  },
  {
   "cell_type": "code",
   "execution_count": null,
   "metadata": {},
   "outputs": [],
   "source": []
  }
 ],
 "metadata": {
  "hide_input": false,
  "kernelspec": {
   "display_name": "Python 3",
   "language": "python",
   "name": "python3"
  },
  "language_info": {
   "codemirror_mode": {
    "name": "ipython",
    "version": 3
   },
   "file_extension": ".py",
   "mimetype": "text/x-python",
   "name": "python",
   "nbconvert_exporter": "python",
   "pygments_lexer": "ipython3",
   "version": "3.8.8"
  },
  "toc": {
   "base_numbering": 1,
   "nav_menu": {},
   "number_sections": true,
   "sideBar": true,
   "skip_h1_title": false,
   "title_cell": "Table of Contents",
   "title_sidebar": "Contents",
   "toc_cell": false,
   "toc_position": {},
   "toc_section_display": true,
   "toc_window_display": false
  },
  "varInspector": {
   "cols": {
    "lenName": 16,
    "lenType": 16,
    "lenVar": 40
   },
   "kernels_config": {
    "python": {
     "delete_cmd_postfix": "",
     "delete_cmd_prefix": "del ",
     "library": "var_list.py",
     "varRefreshCmd": "print(var_dic_list())"
    },
    "r": {
     "delete_cmd_postfix": ") ",
     "delete_cmd_prefix": "rm(",
     "library": "var_list.r",
     "varRefreshCmd": "cat(var_dic_list()) "
    }
   },
   "types_to_exclude": [
    "module",
    "function",
    "builtin_function_or_method",
    "instance",
    "_Feature"
   ],
   "window_display": false
  }
 },
 "nbformat": 4,
 "nbformat_minor": 4
}
