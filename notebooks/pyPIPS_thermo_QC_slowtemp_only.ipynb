{
 "cells": [
  {
   "cell_type": "markdown",
   "metadata": {},
   "source": [
    "# A notebook to perform QC on the PIPS slow T observations"
   ]
  },
  {
   "cell_type": "code",
   "execution_count": null,
   "metadata": {
    "ExecuteTime": {
     "end_time": "2020-06-23T14:33:57.347909Z",
     "start_time": "2020-06-23T14:33:52.438729Z"
    }
   },
   "outputs": [],
   "source": [
    "%load_ext autoreload\n",
    "%autoreload 2\n",
    "import numpy as np\n",
    "import numpy.ma as ma\n",
    "import matplotlib\n",
    "import matplotlib.pyplot as plt\n",
    "import matplotlib.cm as cm\n",
    "import matplotlib.ticker as ticker\n",
    "import matplotlib.dates as dates\n",
    "from mpl_toolkits.axes_grid1 import ImageGrid,make_axes_locatable,host_subplot\n",
    "#from mpl_toolkits.basemap import Basemap\n",
    "from datetime import datetime, timedelta\n",
    "import sys\n",
    "import os\n",
    "import pyPIPS.utils as utils\n",
    "import pyPIPS.thermolib as thermo\n",
    "import pyPIPS.DSDlib as dsd\n",
    "#import pyPIPS.disdrometer_module as dis\n",
    "import pyPIPS.plotmodule as PIPSplot\n",
    "#import pyPIPS.simulator as sim\n",
    "import pyPIPS.pips_io as pipsio\n",
    "import pyPIPS.PIPS as pips\n",
    "import pyPIPS.parsivel_params as pp\n",
    "import pyPIPS.parsivel_qc as pqc\n",
    "import pyPIPS.polarimetric as dualpol\n",
    "#from pyCRMtools.modules import plotmodule as plotmod\n",
    "from pyCRMtools.modules import utils as CRMutils\n",
    "# from pyCRMtools.pycaps import arps_read\n",
    "# from pyCRMtools.pycaps import pycaps_fields\n",
    "# from pyCRMtools.pycaps import calvars_radar as radar\n",
    "import pandas as pd\n",
    "import xarray as xr\n",
    "import xskillscore as xs\n",
    "import glob\n",
    "import numpy.random as random\n",
    "from scipy.stats import gamma, uniform\n",
    "from scipy.stats.mstats import zscore\n",
    "from scipy.special import gamma as gammafunc\n",
    "from scipy import ndimage\n",
    "from metpy.plots import StationPlot\n",
    "from metpy.calc import wind_components\n",
    "from metpy.cbook import get_test_data\n",
    "from metpy.plots import StationPlot\n",
    "from metpy.plots.wx_symbols import current_weather, sky_cover\n",
    "from metpy.units import units\n",
    "from cycler import cycler\n",
    "import warnings\n",
    "warnings.simplefilter('ignore')\n",
    "%matplotlib notebook"
   ]
  },
  {
   "cell_type": "code",
   "execution_count": null,
   "metadata": {},
   "outputs": [],
   "source": [
    "# plt.style.use('seaborn-v0_8-bright')"
   ]
  },
  {
   "cell_type": "code",
   "execution_count": null,
   "metadata": {},
   "outputs": [],
   "source": [
    "# Read in the PIPS netcdf files for the case we want\n",
    "\n",
    "# PIPS_input_base_dir = '/Users/dawson29/Projects/PERiLS/obsdata/2022/PIPS_data/'\n",
    "# PIPS_output_base_dir = '/Users/dawson29/Projects/PERiLS/obsdata/2022/PIPS_data_for_EOL/'\n",
    "\n",
    "# PIPS_base_dir = '/Users/dawson29/Projects/PERiLS/obsdata/2023/PIPS_data/'\n",
    "PIPS_base_dir = '/Users/dawson29/Dropbox/Projects/PERiLS/obsdata/2023/'\n",
    "# PIPS_base_dir = '/Users/dawson29/Projects/PERiLS/obsdata/2023/PIPS_data/'\n",
    "# PIPS_base_dir = '/Users/dawson29/Projects/PERiLS/obsdata/2022/PIPS_data/'\n",
    "\n",
    "deployment_name = 'IOP2_030323' # '031623_mass_test' # 'IOP2_030323' # 'IOP5_040523' # 'IOP4_033123' # 'IOP3_032423' # 'IOP3_040522'\n",
    "PIPS_input_dir = os.path.join(PIPS_base_dir, deployment_name, 'netcdf')\n",
    "PIPS_output_dir = os.path.join(PIPS_base_dir, deployment_name, 'netcdf_thermoQC')\n",
    "\n",
    "# deployment_name = '031623_mass_test'\n",
    "# PIPS_input_dir = os.path.join(PIPS_base_dir, deployment_name, 'netcdf')\n",
    "# PIPS_output_dir = os.path.join(PIPS_base_dir, deployment_name, 'netcdf_T_Td_QC_v110923')\n",
    "\n",
    "# deployment_name = 'IOP2_033022' # '031623_mass_test' # 'IOP2_030323' # 'IOP5_040523' # 'IOP4_033123' # 'IOP3_032423' # 'IOP3_040522'\n",
    "# PIPS_input_dir = os.path.join(PIPS_base_dir, deployment_name, 'netcdf')\n",
    "# PIPS_output_dir = os.path.join(PIPS_base_dir, deployment_name, 'netcdf_T_Td_QC')\n",
    "\n",
    "if not os.path.exists(PIPS_output_dir):\n",
    "    os.makedirs(PIPS_output_dir)\n",
    "\n",
    "# IOP1 2022\n",
    "# PIPS_names = ['PIPS1A', 'PIPS1B', 'PIPS2A', 'PIPS2B']\n",
    "# IOP2 2022\n",
    "# PIPS_names = ['PIPS1A', 'PIPS1B', 'PIPS2A', 'PIPS3B']\n",
    "# IOP3 2022\n",
    "PIPS_names = ['PIPS1A', 'PIPS1B', 'PIPS2A', 'PIPS2B', 'PIPS3A', 'PIPS3B']\n",
    "# IOP3 2023\n",
    "# PIPS_names = ['PIPS2A', 'PIPS3A']\n",
    "# IOP2, IOP4 or IOP5 2023\n",
    "# PIPS_names = ['PIPS1A', 'PIPS1B', 'PIPS2A', 'PIPS2B', 'PIPS3A', 'PIPS3B']\n",
    "parsivel_interval = 10\n",
    "intervalstr = '10S'\n",
    "\n",
    "parsivel_filenames = ['parsivel_combined_{}_{}_{:d}s.nc'.format(deployment_name, PIPS_name, parsivel_interval)\n",
    "                      for PIPS_name in PIPS_names]\n",
    "parsivel_filepaths = [os.path.join(PIPS_input_dir, parsivel_filename) for parsivel_filename in parsivel_filenames]\n",
    "output_parsivel_filepaths = [os.path.join(PIPS_output_dir, parsivel_filename) \n",
    "                             for parsivel_filename in parsivel_filenames]\n",
    "conv_filenames = ['conventional_raw_{}_{}.nc'.format(deployment_name, PIPS_name) for PIPS_name in PIPS_names]\n",
    "conv_filepaths = [os.path.join(PIPS_input_dir, conv_filename) for conv_filename in conv_filenames]\n",
    "output_conv_filepaths = [os.path.join(PIPS_output_dir, conv_filename) for conv_filename in conv_filenames]\n",
    "parsivel_ds_dict = {}\n",
    "conv_ds_dict = {}\n",
    "for PIPS_name, parsivel_filepath, conv_filepath in zip(PIPS_names, parsivel_filepaths, conv_filepaths):\n",
    "    try:\n",
    "        parsivel_ds_dict[PIPS_name] = xr.load_dataset(parsivel_filepath)\n",
    "    except:\n",
    "        parsivel_ds_dict[PIPS_name] = None\n",
    "    conv_ds_dict[PIPS_name] = xr.load_dataset(conv_filepath)"
   ]
  },
  {
   "cell_type": "code",
   "execution_count": null,
   "metadata": {},
   "outputs": [],
   "source": [
    "# default_cycler = (cycler(color=['r', 'orange', 'y', 'g', 'b', 'purple']))\n",
    "\n",
    "# plt.rc('lines', linewidth=4)\n",
    "# plt.rc('axes', prop_cycle=default_cycler)"
   ]
  },
  {
   "cell_type": "code",
   "execution_count": null,
   "metadata": {},
   "outputs": [],
   "source": [
    "PIPS_to_comp = PIPS_names\n",
    "\n",
    "start_times = []\n",
    "stop_times = []\n",
    "for PIPS_name in PIPS_to_comp:\n",
    "    start_times.append(conv_ds_dict[PIPS_name]['time'][0])\n",
    "    stop_times.append(conv_ds_dict[PIPS_name]['time'][-1])\n",
    "    \n",
    "min_time = min(start_times)\n",
    "max_time = max(stop_times)\n",
    "\n",
    "print(min_time, max_time)"
   ]
  },
  {
   "cell_type": "code",
   "execution_count": null,
   "metadata": {},
   "outputs": [],
   "source": [
    "time_start = min_time # '2023-03-17T8:30:00'\n",
    "time_stop = max_time # '2023-03-17T9:30:00'"
   ]
  },
  {
   "cell_type": "code",
   "execution_count": null,
   "metadata": {},
   "outputs": [],
   "source": [
    "# Remove any \"corrected\" thermodynamic variables that are already in the datasets\n",
    "conv_ds_dict['PIPS1A']\n",
    "\n",
    "vars_to_remove = ['fasttemp_corrected', 'slowtemp_corrected', 'RH_corrected', 'pressure_corrected',\n",
    "                  'dewpoint_corrected', 'RH_derived_corrected', 'pt_corrected', 'qv_corrected', \n",
    "                  'rho_corrected']\n",
    "\n",
    "for PIPS_name in PIPS_to_comp:\n",
    "    try:\n",
    "        conv_ds_dict[PIPS_name] = conv_ds_dict[PIPS_name].drop_vars(vars_to_remove)\n",
    "    except ValueError:\n",
    "        print(\"Vars already removed\")\n",
    "    try:\n",
    "        parsivel_ds_dict[PIPS_name] = parsivel_ds_dict[PIPS_name].drop_vars(vars_to_remove)\n",
    "    except ValueError:\n",
    "        print(\"Vars already removed\")"
   ]
  },
  {
   "cell_type": "code",
   "execution_count": null,
   "metadata": {},
   "outputs": [],
   "source": [
    "# Create copies of the slowtemps for each PIPS which will be filled with corrected data\n",
    "\n",
    "for PIPS_name in PIPS_to_comp:\n",
    "    conv_ds_dict[PIPS_name]['slowtemp_corrected'] = conv_ds_dict[PIPS_name]['slowtemp'].copy()"
   ]
  },
  {
   "cell_type": "code",
   "execution_count": null,
   "metadata": {},
   "outputs": [],
   "source": [
    "def prune_slowtemps(slowtemp, diff_tol=0.17, num_iter=10):\n",
    "    \"\"\"Attempts to clean up wonky slowtemp data (that has rapid upward fluctuations) by removing those values\n",
    "       that deviate upward more than a threshold over a short period of time.\"\"\"\n",
    "    # difference fluctuating upward\n",
    "    slowtemp_diff1 = slowtemp.diff(\"time\", label='upper')\n",
    "    # difference fluctuating back downward from the high point\n",
    "    slowtemp_diff2 = slowtemp.diff(\"time\", label='lower')\n",
    "    \n",
    "    slowtemp_pruned = slowtemp.copy()\n",
    "    for i in range(num_iter):\n",
    "        # The following prunes those points that deviate upward and drops the resulting NaN's\n",
    "        slowtemp_pruned = slowtemp.where((slowtemp_diff1 < diff_tol) & (slowtemp_diff2 > -diff_tol), drop=True)\n",
    "        # Recompute the diffs from the newly pruned timeseries. This will, with each iteration of the loop,\n",
    "        # \"eat away\" at the erroneous upward deviations from either side.\n",
    "        slowtemp_diff1 = slowtemp_pruned.diff(\"time\", label='upper')\n",
    "        slowtemp_diff2 = slowtemp_pruned.diff(\"time\", label='lower')\n",
    "    \n",
    "    # Now go ahead and just take the \"pruned\" slowtemp data and fill in NaNs for all the dropped times.\n",
    "    # Do this using xarray's \"reindex_like\" function\n",
    "    # Unfortunately this leads to a *lot* of missing values\n",
    "    slowtemp_new = slowtemp_pruned.reindex_like(slowtemp)\n",
    "    \n",
    "    return slowtemp_new"
   ]
  },
  {
   "cell_type": "code",
   "execution_count": null,
   "metadata": {},
   "outputs": [],
   "source": [
    "# PIPS 3A and 3B both have some wonky issues with the slow temps where the temperature will periodically\n",
    "# fluctuate upward by about half a degree, leading to a \"ghost\" temperature timeseries that lies above \n",
    "# the \"true\" temperature. Let's try to remove that ghost here:\n",
    "\n",
    "for PIPS_name in ['PIPS3A', 'PIPS3B']:\n",
    "    conv_ds = conv_ds_dict[PIPS_name]\n",
    "    slowtemp = conv_ds['slowtemp']\n",
    "\n",
    "    slowtemp_new = prune_slowtemps(slowtemp)\n",
    "\n",
    "    fig, ax = plt.subplots()\n",
    "    slowtemp_new.plot(ax=ax, label=f'slowtemp_new', ls='None', marker='o', ms=1., alpha=0.5)\n",
    "    conv_ds_dict[PIPS_name]['slowtemp_corrected'] = slowtemp_new"
   ]
  },
  {
   "cell_type": "code",
   "execution_count": null,
   "metadata": {},
   "outputs": [],
   "source": [
    "# Compute the differences between the fast and slow temps for each PIPS and then take the time average. \n",
    "# Then subtract the time-averaged diffs from the original slow temps and store them in a new\n",
    "# \"corrected\" slow temp variable\n",
    "\n",
    "diff_T_dict = {}\n",
    "\n",
    "for PIPS_name in PIPS_to_comp:\n",
    "    diff_T = conv_ds_dict[PIPS_name]['slowtemp_corrected'] - conv_ds_dict[PIPS_name]['fasttemp']\n",
    "    diff_T_dict[PIPS_name] = diff_T"
   ]
  },
  {
   "cell_type": "code",
   "execution_count": null,
   "metadata": {},
   "outputs": [],
   "source": [
    "# Plot the time series of the slow-fast temp differences\n",
    "# Note there are a couple \"spikes\" in the difference that correspond to where there was a rapid drop in\n",
    "# temperature. This spike reflects the different time constants of the fast and slow-response temperature\n",
    "# sensors, but since the time period where this is happening is so short, we can still get by with a simple\n",
    "# time average of all the diffs. If we really wanted to get fancy, we could probably exclude any period in \n",
    "# the average\n",
    "# where the temperature is changing too much, but it probably wouldn't make much of a difference in this case.\n",
    "\n",
    "fig, ax = plt.subplots()\n",
    "\n",
    "for PIPS_name in PIPS_to_comp:\n",
    "    diff_T = diff_T_dict[PIPS_name]\n",
    "    diff_T.sel(time=slice(time_start, time_stop)).plot(ax=ax, label=f'{PIPS_name}_diff_T', \n",
    "                                                       ls='None', marker='o', ms=1., alpha=0.5)\n",
    "\n",
    "ax.legend()"
   ]
  },
  {
   "cell_type": "code",
   "execution_count": null,
   "metadata": {},
   "outputs": [],
   "source": [
    "# Compute the mean differences and then subtract from the original slowtemp, storing in a new corrected slowtemp\n",
    "\n",
    "for PIPS_name in PIPS_to_comp:\n",
    "    diff_T = diff_T_dict[PIPS_name]\n",
    "    mean_diff_T = diff_T.mean().values\n",
    "    print(PIPS_name, mean_diff_T)\n",
    "    conv_ds_dict[PIPS_name]['slowtemp_corrected'] = conv_ds_dict[PIPS_name]['slowtemp_corrected'] - mean_diff_T\n",
    "    # Add the value subtracted to the attributes so we know that we modified it\n",
    "    conv_ds_dict[PIPS_name]['slowtemp_corrected'].attrs['bias_subtracted'] = mean_diff_T\n",
    "    "
   ]
  },
  {
   "cell_type": "code",
   "execution_count": null,
   "metadata": {},
   "outputs": [],
   "source": [
    "# Ok, now plot the bias-corrected slowtemps alongside the fasttemps\n",
    "# Much better!\n",
    "\n",
    "\n",
    "fig, ax = plt.subplots()\n",
    "\n",
    "for PIPS_name in ['PIPS1B']:\n",
    "    conv_ds = conv_ds_dict[PIPS_name]\n",
    "    conv_ds['slowtemp_corrected'].sel(time=slice(time_start, time_stop)).plot(ax=ax, label=f'{PIPS_name}_slowT_corrected', \n",
    "                                                                              ls='None', marker='o', ms=1., alpha=0.5)    \n",
    "# plt.gca().set_prop_cycle(None)\n",
    "\n",
    "for PIPS_name in ['PIPS1B']:\n",
    "    conv_ds = conv_ds_dict[PIPS_name]\n",
    "    conv_ds['fasttemp'].sel(time=slice(time_start, time_stop)).plot(ax=ax, label=f'{PIPS_name}_fastT', \n",
    "                                                                    ls='None', marker='x', ms=5., alpha=0.75)\n",
    "    \n",
    "ax.legend()"
   ]
  },
  {
   "cell_type": "code",
   "execution_count": null,
   "metadata": {},
   "outputs": [],
   "source": []
  },
  {
   "cell_type": "code",
   "execution_count": null,
   "metadata": {},
   "outputs": [],
   "source": [
    "# Now, we need to recompute the dewpoint and RH_derived using the bias-corrected slowtemp from above\n",
    "\n",
    "for PIPS_name in PIPS_to_comp:\n",
    "    pressure = conv_ds_dict[PIPS_name]['pressure']\n",
    "    slowtemp = conv_ds_dict[PIPS_name]['slowtemp_corrected']\n",
    "    fasttemp = conv_ds_dict[PIPS_name]['fasttemp']\n",
    "    RH = conv_ds_dict[PIPS_name]['RH']\n",
    "    dewpoint = thermo.calTdfromRH(pressure * 100., slowtemp + 273.15, RH / 100.) - 273.15\n",
    "#     dewpoint.sel(time=slice(time_start, time_stop)).plot(ax=ax, label=f'{PIPS_name}_dewpoint', \n",
    "#                                                          ls='None', marker='o', ms=1., alpha=0.5)\n",
    "    RH_derived = thermo.calRH(pressure * 100., fasttemp + 273.15, dewpoint + 273.15) * 100.\n",
    "    \n",
    "    conv_ds_dict[PIPS_name]['dewpoint_corrected'] = conv_ds_dict[PIPS_name]['dewpoint'].copy()\n",
    "    conv_ds_dict[PIPS_name]['dewpoint_corrected'].data = dewpoint\n",
    "    \n",
    "    conv_ds_dict[PIPS_name]['RH_derived_corrected'] = conv_ds_dict[PIPS_name]['RH_derived'].copy()\n",
    "    conv_ds_dict[PIPS_name]['RH_derived_corrected'].data = RH_derived"
   ]
  },
  {
   "cell_type": "code",
   "execution_count": null,
   "metadata": {},
   "outputs": [],
   "source": [
    "# Plot the timeseries of RH_derived_corrected\n",
    "fig, ax = plt.subplots()\n",
    "\n",
    "for PIPS_name in PIPS_to_comp:\n",
    "    conv_ds = conv_ds_dict[PIPS_name]\n",
    "    conv_ds['RH_derived_corrected'].sel(time=slice(time_start, time_stop)).plot(ax=ax, label=f'{PIPS_name}_RH_derived_corrected', \n",
    "                                                              ls='None', marker='o', ms=1., alpha=0.5)    \n",
    "# plt.gca().set_prop_cycle(None)\n",
    "\n",
    "# for PIPS_name in PIPS_to_comp:\n",
    "#     conv_ds = conv_ds_dict[PIPS_name]\n",
    "#     conv_ds['RH_derived_corrected'].sel(time=slice(time_start, time_stop)).plot(ax=ax, label=f'{PIPS_name}_RH_derived_cor', \n",
    "#                                                                     ls='None', marker='x', ms=5., alpha=0.75)\n",
    "    \n",
    "ax.legend()"
   ]
  },
  {
   "cell_type": "code",
   "execution_count": null,
   "metadata": {},
   "outputs": [],
   "source": [
    "# Plot the timeseries of dewpoint_corrected\n",
    "fig, ax = plt.subplots()\n",
    "\n",
    "for PIPS_name in PIPS_to_comp:\n",
    "    conv_ds = conv_ds_dict[PIPS_name]\n",
    "    conv_ds['dewpoint_corrected'].sel(time=slice(time_start, time_stop)).plot(ax=ax, label=f'{PIPS_name}_dewpoint'), \n",
    "\n",
    "ax.legend()"
   ]
  },
  {
   "cell_type": "code",
   "execution_count": null,
   "metadata": {},
   "outputs": [],
   "source": [
    "# Recompute some of the derived thermodynamic parameters (pt, qv, rho) using the new corrected vars\n",
    "\n",
    "for PIPS_name in PIPS_to_comp:\n",
    "    conv_ds = conv_ds_dict[PIPS_name]\n",
    "    conv_ds = pips.calc_thermo(conv_ds, p_var='pressure', T_var='fasttemp', \n",
    "                               RH_var='RH_derived_corrected', suffix='_corrected')"
   ]
  },
  {
   "cell_type": "code",
   "execution_count": null,
   "metadata": {},
   "outputs": [],
   "source": [
    "# Plot the timeseries of pt_corrected to check\n",
    "fig, ax = plt.subplots()\n",
    "\n",
    "for PIPS_name in PIPS_to_comp:\n",
    "    conv_ds = conv_ds_dict[PIPS_name]\n",
    "    conv_ds['pt_corrected'].sel(time=slice(time_start, time_stop)).plot(ax=ax, label=f'{PIPS_name}_pt'), \n",
    "\n",
    "ax.legend()"
   ]
  },
  {
   "cell_type": "code",
   "execution_count": null,
   "metadata": {},
   "outputs": [],
   "source": [
    "# Now resample the corrected timeseries to the parsivel times\n",
    "\n",
    "corrected_varnames = ['slowtemp_corrected', 'dewpoint_corrected', 'RH_derived_corrected', 'pt_corrected', \n",
    "                      'qv_corrected', 'rho_corrected']\n",
    "\n",
    "for PIPS_name in PIPS_to_comp:\n",
    "    PSD_datetimes = pips.get_PSD_datetimes(parsivel_ds_dict[PIPS_name]['VD_matrix'])\n",
    "    sec_offset = PSD_datetimes[0].second\n",
    "    print(sec_offset)\n",
    "    offset_str = pips.get_interval_str(sec_offset)\n",
    "    \n",
    "    for corrected_varname in corrected_varnames:\n",
    "        corrected_var = conv_ds_dict[PIPS_name][corrected_varname]\n",
    "        new_var = corrected_var.resample(time=intervalstr, label='right', closed='right', \n",
    "                                         offset=offset_str).mean()\n",
    "        \n",
    "        parsivel_ds_dict[PIPS_name][corrected_varname] = new_var\n",
    "        parsivel_ds_dict[PIPS_name][corrected_varname].attrs = conv_ds_dict[PIPS_name][corrected_varname].attrs"
   ]
  },
  {
   "cell_type": "code",
   "execution_count": null,
   "metadata": {},
   "outputs": [],
   "source": [
    "fig, ax = plt.subplots()\n",
    "\n",
    "for PIPS_name in PIPS_to_comp:\n",
    "    parsivel_ds_dict[PIPS_name]['pt_corrected'].plot(ax=ax, label=f'{PIPS_name}_pt_corrected', \n",
    "                                                             ls='None', marker='o', ms=1., alpha=0.75)\n",
    "#     parsivel_ds_dict[PIPS_name]['RH_derived'].plot(ax=ax, label=f'{PIPS_name}_RH_derived', \n",
    "#                                                    ls='None', marker='x', ms=5., alpha=0.5)\n",
    "    \n",
    "ax.legend()"
   ]
  },
  {
   "cell_type": "code",
   "execution_count": null,
   "metadata": {},
   "outputs": [],
   "source": [
    "# Now save to new output directory\n",
    "for PIPS_name, output_parsivel_filepath, output_conv_filepath in zip(PIPS_names, \n",
    "                                                                     output_parsivel_filepaths, \n",
    "                                                                     output_conv_filepaths):\n",
    "    if PIPS_name in PIPS_to_comp:\n",
    "        print(PIPS_name)\n",
    "        \n",
    "        \n",
    "        print(\"Saving {}\".format(output_parsivel_filepath))\n",
    "        parsivel_ds_dict[PIPS_name].to_netcdf(output_parsivel_filepath)\n",
    "        print(\"Saving {}\".format(output_conv_filepath))\n",
    "        conv_ds_dict[PIPS_name].to_netcdf(output_conv_filepath)"
   ]
  },
  {
   "cell_type": "code",
   "execution_count": null,
   "metadata": {},
   "outputs": [],
   "source": []
  }
 ],
 "metadata": {
  "anaconda-cloud": {},
  "hide_input": false,
  "kernelspec": {
   "display_name": "Python [conda env:pyPIPS]",
   "language": "python",
   "name": "conda-env-pyPIPS-py"
  },
  "language_info": {
   "codemirror_mode": {
    "name": "ipython",
    "version": 3
   },
   "file_extension": ".py",
   "mimetype": "text/x-python",
   "name": "python",
   "nbconvert_exporter": "python",
   "pygments_lexer": "ipython3",
   "version": "3.10.13"
  },
  "toc": {
   "base_numbering": 1,
   "nav_menu": {},
   "number_sections": true,
   "sideBar": true,
   "skip_h1_title": false,
   "title_cell": "Table of Contents",
   "title_sidebar": "Contents",
   "toc_cell": false,
   "toc_position": {},
   "toc_section_display": true,
   "toc_window_display": false
  },
  "varInspector": {
   "cols": {
    "lenName": 16,
    "lenType": 16,
    "lenVar": 40
   },
   "kernels_config": {
    "python": {
     "delete_cmd_postfix": "",
     "delete_cmd_prefix": "del ",
     "library": "var_list.py",
     "varRefreshCmd": "print(var_dic_list())"
    },
    "r": {
     "delete_cmd_postfix": ") ",
     "delete_cmd_prefix": "rm(",
     "library": "var_list.r",
     "varRefreshCmd": "cat(var_dic_list()) "
    }
   },
   "types_to_exclude": [
    "module",
    "function",
    "builtin_function_or_method",
    "instance",
    "_Feature"
   ],
   "window_display": false
  }
 },
 "nbformat": 4,
 "nbformat_minor": 2
}
