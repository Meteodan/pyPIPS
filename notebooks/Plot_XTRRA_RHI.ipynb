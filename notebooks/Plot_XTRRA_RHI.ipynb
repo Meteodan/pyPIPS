{
 "cells": [
  {
   "cell_type": "markdown",
   "metadata": {},
   "source": [
    "# Plotting XTRRA RHI data in Py-ART\n",
    "\n",
    "Objectives:\n",
    "1. Load and plot data from the XTRRA for a recent rain event (RHI scans)\n",
    "\n",
    "Remember Py-ART? Let's use it now to plot some data from our own local radar, the X-band Teaching and Research Radar (XTRRA).\n",
    "\n",
    "Make sure the files, pyXTRRA.py, and xtrra_config.py live in the same directory as this notebook.\n",
    "\n",
    "## Import necessary libraries and the magic \"inline\" command. "
   ]
  },
  {
   "cell_type": "code",
   "execution_count": 3,
   "metadata": {
    "ExecuteTime": {
     "end_time": "2020-03-19T23:19:44.741072Z",
     "start_time": "2020-03-19T23:19:44.709521Z"
    }
   },
   "outputs": [
    {
     "data": {
      "text/plain": [
       "0"
      ]
     },
     "execution_count": 3,
     "metadata": {},
     "output_type": "execute_result"
    }
   ],
   "source": [
    "import pyart\n",
    "import os\n",
    "import sys\n",
    "import glob\n",
    "import copy\n",
    "import datetime\n",
    "import numpy as np\n",
    "from matplotlib import pyplot as plt\n",
    "#import cartopy.crs as ccrs\n",
    "#import cartopy.feature as cfeat\n",
    "#%matplotlib inline\n",
    "\n",
    "# Some colleagues and I wrote this module specifically for importing XTRRA data, which isn't CF-Radial compliant.\n",
    "from pyPIPS.pyXTRRA import *\n",
    "\n",
    "# These lines tell Python where a shapefile containing county boundaries is located.\n",
    "#shapefile_directory = '/class/rtanama/data/EAPS523-2020/shapefiles/'\n",
    "# Uncomment the following line if the line above doesn't work.\n",
    "# shapefile_directory = '/depot/eapsdept/data/52300/shapefiles/'\n",
    "#countyshapefile = os.path.join(shapefile_directory, 'countyl010g.shp')\n",
    "#counties = cfeat.ShapelyFeature(Reader(countyshapefile).geometries(), ccrs.PlateCarree(),\n",
    "#                                facecolor='none')\n",
    "                                \n",
    "# Finally, create some directories inside this folder for storing the graphical output.\n",
    "# os.system('mkdir -pv images/')\n",
    "#os.system('mkdir -pv images/ppi/')\n",
    "#os.system('mkdir -pv images/rhi/')"
   ]
  },
  {
   "cell_type": "markdown",
   "metadata": {},
   "source": [
    "# Now, let's load up the RHI scans.\n",
    "On this day, I briefly interrupted the VCP 215 scanning pattern to perform some true RHI (vertical) scans. Remember that in an RHI (range-height indicator) scan, the azimuth stays constant, while the elevation varies (from 0 to 60 degrees, in this case). You will notice that the times for the RHI scans are about 5 minutes after the PPI volume that we plotted. The syntax for reading in the files is similar to that for the PPI scans."
   ]
  },
  {
   "cell_type": "code",
   "execution_count": 6,
   "metadata": {
    "ExecuteTime": {
     "end_time": "2020-03-19T23:28:47.226534Z",
     "start_time": "2020-03-19T23:28:47.210970Z"
    }
   },
   "outputs": [
    {
     "data": {
      "text/plain": [
       "['/Users/dawson29/sshfs_mounts/depot/data/from_Robin/XTRRA_20190319_rhi_over_house/purdue.in-20200319-170016.netcdf',\n",
       " '/Users/dawson29/sshfs_mounts/depot/data/from_Robin/XTRRA_20190319_rhi_over_house/purdue.in-20200319-170037.netcdf',\n",
       " '/Users/dawson29/sshfs_mounts/depot/data/from_Robin/XTRRA_20190319_rhi_over_house/purdue.in-20200319-170057.netcdf',\n",
       " '/Users/dawson29/sshfs_mounts/depot/data/from_Robin/XTRRA_20190319_rhi_over_house/purdue.in-20200319-170117.netcdf',\n",
       " '/Users/dawson29/sshfs_mounts/depot/data/from_Robin/XTRRA_20190319_rhi_over_house/purdue.in-20200319-170138.netcdf',\n",
       " '/Users/dawson29/sshfs_mounts/depot/data/from_Robin/XTRRA_20190319_rhi_over_house/purdue.in-20200319-170158.netcdf',\n",
       " '/Users/dawson29/sshfs_mounts/depot/data/from_Robin/XTRRA_20190319_rhi_over_house/purdue.in-20200319-170218.netcdf',\n",
       " '/Users/dawson29/sshfs_mounts/depot/data/from_Robin/XTRRA_20190319_rhi_over_house/purdue.in-20200319-170238.netcdf',\n",
       " '/Users/dawson29/sshfs_mounts/depot/data/from_Robin/XTRRA_20190319_rhi_over_house/purdue.in-20200319-170259.netcdf',\n",
       " '/Users/dawson29/sshfs_mounts/depot/data/from_Robin/XTRRA_20190319_rhi_over_house/purdue.in-20200319-170319.netcdf',\n",
       " '/Users/dawson29/sshfs_mounts/depot/data/from_Robin/XTRRA_20190319_rhi_over_house/purdue.in-20200319-170339.netcdf',\n",
       " '/Users/dawson29/sshfs_mounts/depot/data/from_Robin/XTRRA_20190319_rhi_over_house/purdue.in-20200319-170400.netcdf',\n",
       " '/Users/dawson29/sshfs_mounts/depot/data/from_Robin/XTRRA_20190319_rhi_over_house/purdue.in-20200319-170420.netcdf',\n",
       " '/Users/dawson29/sshfs_mounts/depot/data/from_Robin/XTRRA_20190319_rhi_over_house/purdue.in-20200319-170440.netcdf',\n",
       " '/Users/dawson29/sshfs_mounts/depot/data/from_Robin/XTRRA_20190319_rhi_over_house/purdue.in-20200319-170501.netcdf',\n",
       " '/Users/dawson29/sshfs_mounts/depot/data/from_Robin/XTRRA_20190319_rhi_over_house/purdue.in-20200319-170521.netcdf',\n",
       " '/Users/dawson29/sshfs_mounts/depot/data/from_Robin/XTRRA_20190319_rhi_over_house/purdue.in-20200319-170541.netcdf',\n",
       " '/Users/dawson29/sshfs_mounts/depot/data/from_Robin/XTRRA_20190319_rhi_over_house/purdue.in-20200319-170602.netcdf',\n",
       " '/Users/dawson29/sshfs_mounts/depot/data/from_Robin/XTRRA_20190319_rhi_over_house/purdue.in-20200319-170622.netcdf',\n",
       " '/Users/dawson29/sshfs_mounts/depot/data/from_Robin/XTRRA_20190319_rhi_over_house/purdue.in-20200319-170642.netcdf',\n",
       " '/Users/dawson29/sshfs_mounts/depot/data/from_Robin/XTRRA_20190319_rhi_over_house/purdue.in-20200319-170703.netcdf',\n",
       " '/Users/dawson29/sshfs_mounts/depot/data/from_Robin/XTRRA_20190319_rhi_over_house/purdue.in-20200319-170723.netcdf',\n",
       " '/Users/dawson29/sshfs_mounts/depot/data/from_Robin/XTRRA_20190319_rhi_over_house/purdue.in-20200319-170743.netcdf',\n",
       " '/Users/dawson29/sshfs_mounts/depot/data/from_Robin/XTRRA_20190319_rhi_over_house/purdue.in-20200319-170804.netcdf',\n",
       " '/Users/dawson29/sshfs_mounts/depot/data/from_Robin/XTRRA_20190319_rhi_over_house/purdue.in-20200319-170824.netcdf',\n",
       " '/Users/dawson29/sshfs_mounts/depot/data/from_Robin/XTRRA_20190319_rhi_over_house/purdue.in-20200319-170844.netcdf',\n",
       " '/Users/dawson29/sshfs_mounts/depot/data/from_Robin/XTRRA_20190319_rhi_over_house/purdue.in-20200319-170905.netcdf',\n",
       " '/Users/dawson29/sshfs_mounts/depot/data/from_Robin/XTRRA_20190319_rhi_over_house/purdue.in-20200319-170925.netcdf',\n",
       " '/Users/dawson29/sshfs_mounts/depot/data/from_Robin/XTRRA_20190319_rhi_over_house/purdue.in-20200319-170945.netcdf',\n",
       " '/Users/dawson29/sshfs_mounts/depot/data/from_Robin/XTRRA_20190319_rhi_over_house/purdue.in-20200319-171006.netcdf',\n",
       " '/Users/dawson29/sshfs_mounts/depot/data/from_Robin/XTRRA_20190319_rhi_over_house/purdue.in-20200319-171026.netcdf',\n",
       " '/Users/dawson29/sshfs_mounts/depot/data/from_Robin/XTRRA_20190319_rhi_over_house/purdue.in-20200319-171046.netcdf',\n",
       " '/Users/dawson29/sshfs_mounts/depot/data/from_Robin/XTRRA_20190319_rhi_over_house/purdue.in-20200319-171107.netcdf',\n",
       " '/Users/dawson29/sshfs_mounts/depot/data/from_Robin/XTRRA_20190319_rhi_over_house/purdue.in-20200319-171127.netcdf',\n",
       " '/Users/dawson29/sshfs_mounts/depot/data/from_Robin/XTRRA_20190319_rhi_over_house/purdue.in-20200319-171147.netcdf',\n",
       " '/Users/dawson29/sshfs_mounts/depot/data/from_Robin/XTRRA_20190319_rhi_over_house/purdue.in-20200319-171208.netcdf',\n",
       " '/Users/dawson29/sshfs_mounts/depot/data/from_Robin/XTRRA_20190319_rhi_over_house/purdue.in-20200319-171228.netcdf',\n",
       " '/Users/dawson29/sshfs_mounts/depot/data/from_Robin/XTRRA_20190319_rhi_over_house/purdue.in-20200319-171248.netcdf',\n",
       " '/Users/dawson29/sshfs_mounts/depot/data/from_Robin/XTRRA_20190319_rhi_over_house/purdue.in-20200319-171309.netcdf',\n",
       " '/Users/dawson29/sshfs_mounts/depot/data/from_Robin/XTRRA_20190319_rhi_over_house/purdue.in-20200319-171329.netcdf',\n",
       " '/Users/dawson29/sshfs_mounts/depot/data/from_Robin/XTRRA_20190319_rhi_over_house/purdue.in-20200319-171349.netcdf',\n",
       " '/Users/dawson29/sshfs_mounts/depot/data/from_Robin/XTRRA_20190319_rhi_over_house/purdue.in-20200319-171409.netcdf',\n",
       " '/Users/dawson29/sshfs_mounts/depot/data/from_Robin/XTRRA_20190319_rhi_over_house/purdue.in-20200319-171430.netcdf',\n",
       " '/Users/dawson29/sshfs_mounts/depot/data/from_Robin/XTRRA_20190319_rhi_over_house/purdue.in-20200319-171450.netcdf',\n",
       " '/Users/dawson29/sshfs_mounts/depot/data/from_Robin/XTRRA_20190319_rhi_over_house/purdue.in-20200319-171510.netcdf',\n",
       " '/Users/dawson29/sshfs_mounts/depot/data/from_Robin/XTRRA_20190319_rhi_over_house/purdue.in-20200319-171531.netcdf',\n",
       " '/Users/dawson29/sshfs_mounts/depot/data/from_Robin/XTRRA_20190319_rhi_over_house/purdue.in-20200319-171551.netcdf',\n",
       " '/Users/dawson29/sshfs_mounts/depot/data/from_Robin/XTRRA_20190319_rhi_over_house/purdue.in-20200319-171611.netcdf',\n",
       " '/Users/dawson29/sshfs_mounts/depot/data/from_Robin/XTRRA_20190319_rhi_over_house/purdue.in-20200319-171632.netcdf',\n",
       " '/Users/dawson29/sshfs_mounts/depot/data/from_Robin/XTRRA_20190319_rhi_over_house/purdue.in-20200319-171652.netcdf',\n",
       " '/Users/dawson29/sshfs_mounts/depot/data/from_Robin/XTRRA_20190319_rhi_over_house/purdue.in-20200319-171712.netcdf',\n",
       " '/Users/dawson29/sshfs_mounts/depot/data/from_Robin/XTRRA_20190319_rhi_over_house/purdue.in-20200319-171733.netcdf',\n",
       " '/Users/dawson29/sshfs_mounts/depot/data/from_Robin/XTRRA_20190319_rhi_over_house/purdue.in-20200319-171753.netcdf',\n",
       " '/Users/dawson29/sshfs_mounts/depot/data/from_Robin/XTRRA_20190319_rhi_over_house/purdue.in-20200319-171813.netcdf',\n",
       " '/Users/dawson29/sshfs_mounts/depot/data/from_Robin/XTRRA_20190319_rhi_over_house/purdue.in-20200319-171834.netcdf',\n",
       " '/Users/dawson29/sshfs_mounts/depot/data/from_Robin/XTRRA_20190319_rhi_over_house/purdue.in-20200319-171854.netcdf',\n",
       " '/Users/dawson29/sshfs_mounts/depot/data/from_Robin/XTRRA_20190319_rhi_over_house/purdue.in-20200319-171914.netcdf',\n",
       " '/Users/dawson29/sshfs_mounts/depot/data/from_Robin/XTRRA_20190319_rhi_over_house/purdue.in-20200319-171935.netcdf',\n",
       " '/Users/dawson29/sshfs_mounts/depot/data/from_Robin/XTRRA_20190319_rhi_over_house/purdue.in-20200319-171955.netcdf',\n",
       " '/Users/dawson29/sshfs_mounts/depot/data/from_Robin/XTRRA_20190319_rhi_over_house/purdue.in-20200319-172015.netcdf',\n",
       " '/Users/dawson29/sshfs_mounts/depot/data/from_Robin/XTRRA_20190319_rhi_over_house/purdue.in-20200319-172036.netcdf',\n",
       " '/Users/dawson29/sshfs_mounts/depot/data/from_Robin/XTRRA_20190319_rhi_over_house/purdue.in-20200319-172056.netcdf',\n",
       " '/Users/dawson29/sshfs_mounts/depot/data/from_Robin/XTRRA_20190319_rhi_over_house/purdue.in-20200319-172116.netcdf',\n",
       " '/Users/dawson29/sshfs_mounts/depot/data/from_Robin/XTRRA_20190319_rhi_over_house/purdue.in-20200319-172137.netcdf',\n",
       " '/Users/dawson29/sshfs_mounts/depot/data/from_Robin/XTRRA_20190319_rhi_over_house/purdue.in-20200319-172157.netcdf',\n",
       " '/Users/dawson29/sshfs_mounts/depot/data/from_Robin/XTRRA_20190319_rhi_over_house/purdue.in-20200319-172217.netcdf',\n",
       " '/Users/dawson29/sshfs_mounts/depot/data/from_Robin/XTRRA_20190319_rhi_over_house/purdue.in-20200319-172238.netcdf',\n",
       " '/Users/dawson29/sshfs_mounts/depot/data/from_Robin/XTRRA_20190319_rhi_over_house/purdue.in-20200319-172258.netcdf',\n",
       " '/Users/dawson29/sshfs_mounts/depot/data/from_Robin/XTRRA_20190319_rhi_over_house/purdue.in-20200319-172318.netcdf',\n",
       " '/Users/dawson29/sshfs_mounts/depot/data/from_Robin/XTRRA_20190319_rhi_over_house/purdue.in-20200319-172339.netcdf',\n",
       " '/Users/dawson29/sshfs_mounts/depot/data/from_Robin/XTRRA_20190319_rhi_over_house/purdue.in-20200319-172359.netcdf',\n",
       " '/Users/dawson29/sshfs_mounts/depot/data/from_Robin/XTRRA_20190319_rhi_over_house/purdue.in-20200319-172419.netcdf',\n",
       " '/Users/dawson29/sshfs_mounts/depot/data/from_Robin/XTRRA_20190319_rhi_over_house/purdue.in-20200319-172439.netcdf',\n",
       " '/Users/dawson29/sshfs_mounts/depot/data/from_Robin/XTRRA_20190319_rhi_over_house/purdue.in-20200319-172500.netcdf',\n",
       " '/Users/dawson29/sshfs_mounts/depot/data/from_Robin/XTRRA_20190319_rhi_over_house/purdue.in-20200319-172520.netcdf',\n",
       " '/Users/dawson29/sshfs_mounts/depot/data/from_Robin/XTRRA_20190319_rhi_over_house/purdue.in-20200319-172540.netcdf',\n",
       " '/Users/dawson29/sshfs_mounts/depot/data/from_Robin/XTRRA_20190319_rhi_over_house/purdue.in-20200319-172601.netcdf',\n",
       " '/Users/dawson29/sshfs_mounts/depot/data/from_Robin/XTRRA_20190319_rhi_over_house/purdue.in-20200319-172621.netcdf',\n",
       " '/Users/dawson29/sshfs_mounts/depot/data/from_Robin/XTRRA_20190319_rhi_over_house/purdue.in-20200319-172641.netcdf',\n",
       " '/Users/dawson29/sshfs_mounts/depot/data/from_Robin/XTRRA_20190319_rhi_over_house/purdue.in-20200319-172702.netcdf',\n",
       " '/Users/dawson29/sshfs_mounts/depot/data/from_Robin/XTRRA_20190319_rhi_over_house/purdue.in-20200319-172722.netcdf',\n",
       " '/Users/dawson29/sshfs_mounts/depot/data/from_Robin/XTRRA_20190319_rhi_over_house/purdue.in-20200319-172742.netcdf',\n",
       " '/Users/dawson29/sshfs_mounts/depot/data/from_Robin/XTRRA_20190319_rhi_over_house/purdue.in-20200319-172803.netcdf',\n",
       " '/Users/dawson29/sshfs_mounts/depot/data/from_Robin/XTRRA_20190319_rhi_over_house/purdue.in-20200319-172823.netcdf',\n",
       " '/Users/dawson29/sshfs_mounts/depot/data/from_Robin/XTRRA_20190319_rhi_over_house/purdue.in-20200319-172843.netcdf',\n",
       " '/Users/dawson29/sshfs_mounts/depot/data/from_Robin/XTRRA_20190319_rhi_over_house/purdue.in-20200319-172904.netcdf',\n",
       " '/Users/dawson29/sshfs_mounts/depot/data/from_Robin/XTRRA_20190319_rhi_over_house/purdue.in-20200319-172924.netcdf']"
      ]
     },
     "execution_count": 6,
     "metadata": {},
     "output_type": "execute_result"
    }
   ],
   "source": [
    "rhiDir = '/Users/dawson29/sshfs_mounts/depot/data/from_Robin/XTRRA_20190319_rhi_over_house/'\n",
    "image_subdir = 'images/rhi'\n",
    "image_fulldir = os.path.join(rhiDir, image_subdir)\n",
    "if not os.path.exists(image_fulldir):\n",
    "    os.makedirs(image_fulldir)\n",
    "rhiFiles = glob.glob(rhiDir + '*.netcdf') # Puts the names of files at the specified path into a list\n",
    "# Uncomment the following line if the line above doesn't work.\n",
    "#rhiFiles = glob.glob('/depot/eapsdept/data/52300/rhivol/*.netcdf')\n",
    "rhiFiles.sort()  # Puts the files in order by name/time\n",
    "rhiFiles   # List the file names to the display. There should be 16 of them."
   ]
  },
  {
   "cell_type": "markdown",
   "metadata": {},
   "source": [
    "Let's create a list of Radar class objects, one per slice."
   ]
  },
  {
   "cell_type": "code",
   "execution_count": 7,
   "metadata": {
    "ExecuteTime": {
     "end_time": "2020-03-19T23:34:29.901365Z",
     "start_time": "2020-03-19T23:28:55.409228Z"
    }
   },
   "outputs": [
    {
     "data": {
      "text/plain": [
       "[<pyart.core.radar.Radar at 0x7fba60f8d750>,\n",
       " <pyart.core.radar.Radar at 0x7fba40672950>,\n",
       " <pyart.core.radar.Radar at 0x7fba31f82750>,\n",
       " <pyart.core.radar.Radar at 0x7fba406af610>,\n",
       " <pyart.core.radar.Radar at 0x7fba31f81410>,\n",
       " <pyart.core.radar.Radar at 0x7fba31f85190>,\n",
       " <pyart.core.radar.Radar at 0x7fba31f85e50>,\n",
       " <pyart.core.radar.Radar at 0x7fba31f82e50>,\n",
       " <pyart.core.radar.Radar at 0x7fba31f857d0>,\n",
       " <pyart.core.radar.Radar at 0x7fba31f86d90>,\n",
       " <pyart.core.radar.Radar at 0x7fba31f889d0>,\n",
       " <pyart.core.radar.Radar at 0x7fba31f817d0>,\n",
       " <pyart.core.radar.Radar at 0x7fba31f82dd0>,\n",
       " <pyart.core.radar.Radar at 0x7fba31f8bc90>,\n",
       " <pyart.core.radar.Radar at 0x7fba31f8d8d0>,\n",
       " <pyart.core.radar.Radar at 0x7fba31f82f50>,\n",
       " <pyart.core.radar.Radar at 0x7fba31f86c50>,\n",
       " <pyart.core.radar.Radar at 0x7fba31e84cd0>,\n",
       " <pyart.core.radar.Radar at 0x7fba50b35ad0>,\n",
       " <pyart.core.radar.Radar at 0x7fba31f86a50>,\n",
       " <pyart.core.radar.Radar at 0x7fba50b353d0>,\n",
       " <pyart.core.radar.Radar at 0x7fba31f8ecd0>,\n",
       " <pyart.core.radar.Radar at 0x7fba50b3a950>,\n",
       " <pyart.core.radar.Radar at 0x7fba31f8b590>,\n",
       " <pyart.core.radar.Radar at 0x7fba50b3a210>,\n",
       " <pyart.core.radar.Radar at 0x7fba31f21a10>,\n",
       " <pyart.core.radar.Radar at 0x7fba31f3b690>,\n",
       " <pyart.core.radar.Radar at 0x7fba31e84850>,\n",
       " <pyart.core.radar.Radar at 0x7fba31f3bad0>,\n",
       " <pyart.core.radar.Radar at 0x7fba31f42750>,\n",
       " <pyart.core.radar.Radar at 0x7fba31f42550>,\n",
       " <pyart.core.radar.Radar at 0x7fba31e84750>,\n",
       " <pyart.core.radar.Radar at 0x7fba31f21fd0>,\n",
       " <pyart.core.radar.Radar at 0x7fba46965490>,\n",
       " <pyart.core.radar.Radar at 0x7fba31e84710>,\n",
       " <pyart.core.radar.Radar at 0x7fba46965f90>,\n",
       " <pyart.core.radar.Radar at 0x7fba46951c10>,\n",
       " <pyart.core.radar.Radar at 0x7fba64925890>,\n",
       " <pyart.core.radar.Radar at 0x7fba46965e90>,\n",
       " <pyart.core.radar.Radar at 0x7fba4694ae10>,\n",
       " <pyart.core.radar.Radar at 0x7fba64930950>,\n",
       " <pyart.core.radar.Radar at 0x7fba6495a5d0>,\n",
       " <pyart.core.radar.Radar at 0x7fba46951690>,\n",
       " <pyart.core.radar.Radar at 0x7fba46965450>,\n",
       " <pyart.core.radar.Radar at 0x7fba4694a210>,\n",
       " <pyart.core.radar.Radar at 0x7fba31f3b150>,\n",
       " <pyart.core.radar.Radar at 0x7fba469659d0>,\n",
       " <pyart.core.radar.Radar at 0x7fba64930910>,\n",
       " <pyart.core.radar.Radar at 0x7fba31f8d890>,\n",
       " <pyart.core.radar.Radar at 0x7fba31f88390>,\n",
       " <pyart.core.radar.Radar at 0x7fba4694ae90>,\n",
       " <pyart.core.radar.Radar at 0x7fba50b35a10>,\n",
       " <pyart.core.radar.Radar at 0x7fba6495ac50>,\n",
       " <pyart.core.radar.Radar at 0x7fb9c1b838d0>,\n",
       " <pyart.core.radar.Radar at 0x7fba50b35650>,\n",
       " <pyart.core.radar.Radar at 0x7fb9c1b83d10>,\n",
       " <pyart.core.radar.Radar at 0x7fb9c1b9e390>,\n",
       " <pyart.core.radar.Radar at 0x7fb9c1bb3610>,\n",
       " <pyart.core.radar.Radar at 0x7fba64930390>,\n",
       " <pyart.core.radar.Radar at 0x7fb9c1bb3a50>,\n",
       " <pyart.core.radar.Radar at 0x7fba63f156d0>,\n",
       " <pyart.core.radar.Radar at 0x7fba63f15390>,\n",
       " <pyart.core.radar.Radar at 0x7fba64930610>,\n",
       " <pyart.core.radar.Radar at 0x7fba63f27790>,\n",
       " <pyart.core.radar.Radar at 0x7fba63f27dd0>,\n",
       " <pyart.core.radar.Radar at 0x7fba64930550>,\n",
       " <pyart.core.radar.Radar at 0x7fba63f43f10>,\n",
       " <pyart.core.radar.Radar at 0x7fba63f4bb90>,\n",
       " <pyart.core.radar.Radar at 0x7fb9d30d4210>,\n",
       " <pyart.core.radar.Radar at 0x7fba63f27c90>,\n",
       " <pyart.core.radar.Radar at 0x7fba63f4b550>,\n",
       " <pyart.core.radar.Radar at 0x7fb9d30f08d0>,\n",
       " <pyart.core.radar.Radar at 0x7fb9d3106550>,\n",
       " <pyart.core.radar.Radar at 0x7fb9c1bb3790>,\n",
       " <pyart.core.radar.Radar at 0x7fb9d30f0250>,\n",
       " <pyart.core.radar.Radar at 0x7fb9a3bdd610>,\n",
       " <pyart.core.radar.Radar at 0x7fb9a3be4290>,\n",
       " <pyart.core.radar.Radar at 0x7fb9d30f0310>,\n",
       " <pyart.core.radar.Radar at 0x7fba63f4b590>,\n",
       " <pyart.core.radar.Radar at 0x7fb9a3bff350>,\n",
       " <pyart.core.radar.Radar at 0x7fb9a3bfff90>,\n",
       " <pyart.core.radar.Radar at 0x7fba63f4ba50>,\n",
       " <pyart.core.radar.Radar at 0x7fb9dd05a410>,\n",
       " <pyart.core.radar.Radar at 0x7fb9dd077090>,\n",
       " <pyart.core.radar.Radar at 0x7fb9dd05af10>,\n",
       " <pyart.core.radar.Radar at 0x7fba63f4b910>,\n",
       " <pyart.core.radar.Radar at 0x7fb9dd07f150>]"
      ]
     },
     "execution_count": 7,
     "metadata": {},
     "output_type": "execute_result"
    }
   ],
   "source": [
    "RHI = []  # Initialize an empty list of Radar objects.\n",
    "for file in rhiFiles:\n",
    "    RHI.append(CreateRadarFromRXM25netCDF(file, instrument_name = 'XTRRA'))\n",
    "RHI # List the radar objects, one per sweep."
   ]
  },
  {
   "cell_type": "markdown",
   "metadata": {},
   "source": [
    "List the contents of each RHI file."
   ]
  },
  {
   "cell_type": "code",
   "execution_count": 8,
   "metadata": {
    "ExecuteTime": {
     "end_time": "2020-03-19T23:35:37.703218Z",
     "start_time": "2020-03-19T23:35:37.698365Z"
    }
   },
   "outputs": [
    {
     "data": {
      "text/plain": [
       "dict_keys(['reflectivity', 'normalized_coherent_power', 'spectral_width', 'velocity', 'corrected_reflectivity', 'differential_reflectivity', 'differential_phase', 'specific_differential_phase', 'corrected_differential_reflectivity', 'signal_to_noise_ratio', 'rain_rate', 'cross_correlation_ratio'])"
      ]
     },
     "execution_count": 8,
     "metadata": {},
     "output_type": "execute_result"
    }
   ],
   "source": [
    "RHI[0].fields.keys()"
   ]
  },
  {
   "cell_type": "markdown",
   "metadata": {},
   "source": [
    "The code to plot the RHI scans looks a little bit different, however."
   ]
  },
  {
   "cell_type": "code",
   "execution_count": 9,
   "metadata": {
    "ExecuteTime": {
     "end_time": "2020-03-19T23:35:40.697849Z",
     "start_time": "2020-03-19T23:35:40.626986Z"
    }
   },
   "outputs": [],
   "source": [
    "RHIDisplay = [] # Initialize an empty list\n",
    "for rhi in RHI:\n",
    "    RHIDisplay.append(pyart.graph.RadarMapDisplay(rhi))"
   ]
  },
  {
   "cell_type": "code",
   "execution_count": 26,
   "metadata": {
    "ExecuteTime": {
     "end_time": "2020-03-20T00:35:25.871756Z",
     "start_time": "2020-03-20T00:34:40.517084Z"
    }
   },
   "outputs": [
    {
     "name": "stderr",
     "output_type": "stream",
     "text": [
      "/Users/dawson29/miniconda3/envs/pyPIPS/lib/python3.7/site-packages/ipykernel_launcher.py:3: RuntimeWarning: More than 20 figures have been opened. Figures created through the pyplot interface (`matplotlib.pyplot.figure`) are retained until explicitly closed and may consume too much memory. (To control this warning, see the rcParam `figure.max_open_warning`).\n",
      "  This is separate from the ipykernel package so we can avoid doing imports until\n",
      "/Users/dawson29/miniconda3/envs/pyPIPS/lib/python3.7/site-packages/ipykernel_launcher.py:7: MatplotlibDeprecationWarning: Adding an axes using the same arguments as a previous axes currently reuses the earlier instance.  In a future version, a new instance will always be created and returned.  Meanwhile, this warning can be suppressed, and the future behavior ensured, by passing a unique label to each axes instance.\n",
      "  import sys\n"
     ]
    }
   ],
   "source": [
    "variable = 'reflectivity' # The variable to plot\n",
    "for index in range(len(RHIDisplay)): # Iterate over the number of sweeps\n",
    "    plt.figure()  # Make a new figure for each sweep.\n",
    "    RHIDisplay[index].plot_rhi(variable, cmap = 'pyart_HomeyerRainbow',title = 'RHI')\n",
    "    plt.xlim([0, 20])\n",
    "    plt.ylim([0, 8]) # Restricts the vertical axis to 0-8 km AGL.\n",
    "    plt.axes().set_aspect('equal')\n",
    "    # The following line saves a PNG of the image, using the same file name prefix.\n",
    "    plt.savefig(image_fulldir + '/' + rhiFiles[index][-32:-7] + '.' + variable + '.png') # Save the plots\n",
    "    plt.close() # You may wish to uncomment this line if the notebook becomes too large."
   ]
  },
  {
   "cell_type": "code",
   "execution_count": 23,
   "metadata": {
    "ExecuteTime": {
     "end_time": "2020-03-20T00:33:01.600638Z",
     "start_time": "2020-03-20T00:32:14.839153Z"
    }
   },
   "outputs": [
    {
     "name": "stderr",
     "output_type": "stream",
     "text": [
      "/Users/dawson29/miniconda3/envs/pyPIPS/lib/python3.7/site-packages/ipykernel_launcher.py:3: RuntimeWarning: More than 20 figures have been opened. Figures created through the pyplot interface (`matplotlib.pyplot.figure`) are retained until explicitly closed and may consume too much memory. (To control this warning, see the rcParam `figure.max_open_warning`).\n",
      "  This is separate from the ipykernel package so we can avoid doing imports until\n",
      "/Users/dawson29/miniconda3/envs/pyPIPS/lib/python3.7/site-packages/ipykernel_launcher.py:7: MatplotlibDeprecationWarning: Adding an axes using the same arguments as a previous axes currently reuses the earlier instance.  In a future version, a new instance will always be created and returned.  Meanwhile, this warning can be suppressed, and the future behavior ensured, by passing a unique label to each axes instance.\n",
      "  import sys\n"
     ]
    }
   ],
   "source": [
    "variable = 'velocity' # The variable to plot\n",
    "for index in range(len(RHIDisplay)): # Iterate over the number of sweeps\n",
    "    plt.figure()  # Make a new figure for each sweep.\n",
    "    RHIDisplay[index].plot_rhi(variable, cmap = 'seismic',title = 'RHI')\n",
    "    plt.xlim([0, 20])\n",
    "    plt.ylim([0, 8]) # Restricts the vertical axis to 0-8 km AGL.\n",
    "    plt.axes().set_aspect('equal')\n",
    "    # The following line saves a PNG of the image, using the same file name prefix.\n",
    "    plt.savefig(image_fulldir + '/' + rhiFiles[index][-32:-7] + '.' + variable + '.png') # Save the plots\n",
    "    plt.close() # You may wish to uncomment this line if the notebook becomes too large."
   ]
  },
  {
   "cell_type": "code",
   "execution_count": 27,
   "metadata": {
    "ExecuteTime": {
     "end_time": "2020-03-20T00:39:06.079808Z",
     "start_time": "2020-03-20T00:38:18.674371Z"
    }
   },
   "outputs": [
    {
     "name": "stderr",
     "output_type": "stream",
     "text": [
      "/Users/dawson29/miniconda3/envs/pyPIPS/lib/python3.7/site-packages/ipykernel_launcher.py:3: RuntimeWarning: More than 20 figures have been opened. Figures created through the pyplot interface (`matplotlib.pyplot.figure`) are retained until explicitly closed and may consume too much memory. (To control this warning, see the rcParam `figure.max_open_warning`).\n",
      "  This is separate from the ipykernel package so we can avoid doing imports until\n",
      "/Users/dawson29/miniconda3/envs/pyPIPS/lib/python3.7/site-packages/ipykernel_launcher.py:7: MatplotlibDeprecationWarning: Adding an axes using the same arguments as a previous axes currently reuses the earlier instance.  In a future version, a new instance will always be created and returned.  Meanwhile, this warning can be suppressed, and the future behavior ensured, by passing a unique label to each axes instance.\n",
      "  import sys\n"
     ]
    }
   ],
   "source": [
    "variable = 'corrected_differential_reflectivity' # The variable to plot\n",
    "for index in range(len(RHIDisplay)): # Iterate over the number of sweeps\n",
    "    plt.figure()  # Make a new figure for each sweep.\n",
    "    RHIDisplay[index].plot_rhi(variable, cmap = 'pyart_HomeyerRainbow',title = 'RHI')\n",
    "    plt.xlim([0, 20])\n",
    "    plt.ylim([0, 8]) # Restricts the vertical axis to 0-8 km AGL.\n",
    "    plt.axes().set_aspect('equal')\n",
    "    # The following line saves a PNG of the image, using the same file name prefix.\n",
    "    plt.savefig(image_fulldir + '/' \n",
    "                + rhiFiles[index][-32:-7] + '.' + variable + '.png') # Save the plots\n",
    "    plt.close() # You may wish to uncomment this line if the notebook becomes too large."
   ]
  },
  {
   "cell_type": "code",
   "execution_count": 25,
   "metadata": {
    "ExecuteTime": {
     "end_time": "2020-03-20T00:34:40.490072Z",
     "start_time": "2020-03-20T00:33:51.052594Z"
    }
   },
   "outputs": [
    {
     "name": "stderr",
     "output_type": "stream",
     "text": [
      "/Users/dawson29/miniconda3/envs/pyPIPS/lib/python3.7/site-packages/ipykernel_launcher.py:3: RuntimeWarning: More than 20 figures have been opened. Figures created through the pyplot interface (`matplotlib.pyplot.figure`) are retained until explicitly closed and may consume too much memory. (To control this warning, see the rcParam `figure.max_open_warning`).\n",
      "  This is separate from the ipykernel package so we can avoid doing imports until\n",
      "/Users/dawson29/miniconda3/envs/pyPIPS/lib/python3.7/site-packages/ipykernel_launcher.py:7: MatplotlibDeprecationWarning: Adding an axes using the same arguments as a previous axes currently reuses the earlier instance.  In a future version, a new instance will always be created and returned.  Meanwhile, this warning can be suppressed, and the future behavior ensured, by passing a unique label to each axes instance.\n",
      "  import sys\n"
     ]
    }
   ],
   "source": [
    "variable = 'cross_correlation_ratio' # The variable to plot\n",
    "for index in range(len(RHIDisplay)): # Iterate over the number of sweeps\n",
    "    plt.figure()  # Make a new figure for each sweep.\n",
    "    RHIDisplay[index].plot_rhi(variable, cmap = 'pyart_HomeyerRainbow',title = 'RHI', vmin = 0.5, vmax = 1.0)\n",
    "    plt.xlim([0, 20])\n",
    "    plt.ylim([0, 8]) # Restricts the vertical axis to 0-8 km AGL.\n",
    "    plt.axes().set_aspect('equal')\n",
    "    # The following line saves a PNG of the image, using the same file name prefix.\n",
    "    plt.savefig(image_fulldir + '/' + rhiFiles[index][-32:-7] + '.' + variable + '.png') # Save the plots\n",
    "    plt.close() # You may wish to uncomment this line if the notebook becomes too large."
   ]
  },
  {
   "cell_type": "code",
   "execution_count": null,
   "metadata": {
    "ExecuteTime": {
     "end_time": "2020-03-19T23:43:50.510240Z",
     "start_time": "2020-03-19T23:42:13.217Z"
    }
   },
   "outputs": [],
   "source": [
    "# Print the azimuth of the RHI\n",
    "for index in range(len(RHI)):\n",
    "    print(rhiFiles[index][-32:-7] + \" azimuth: \" + str(np.mean(RHI[index].azimuth['data'])) + \" deg\")"
   ]
  },
  {
   "cell_type": "code",
   "execution_count": null,
   "metadata": {},
   "outputs": [],
   "source": []
  }
 ],
 "metadata": {
  "hide_input": false,
  "kernelspec": {
   "display_name": "Python [conda env:pyPIPS]",
   "language": "python",
   "name": "conda-env-pyPIPS-py"
  },
  "language_info": {
   "codemirror_mode": {
    "name": "ipython",
    "version": 3
   },
   "file_extension": ".py",
   "mimetype": "text/x-python",
   "name": "python",
   "nbconvert_exporter": "python",
   "pygments_lexer": "ipython3",
   "version": "3.7.6"
  },
  "toc": {
   "base_numbering": 1,
   "nav_menu": {},
   "number_sections": true,
   "sideBar": true,
   "skip_h1_title": false,
   "title_cell": "Table of Contents",
   "title_sidebar": "Contents",
   "toc_cell": false,
   "toc_position": {},
   "toc_section_display": true,
   "toc_window_display": false
  },
  "varInspector": {
   "cols": {
    "lenName": 16,
    "lenType": 16,
    "lenVar": 40
   },
   "kernels_config": {
    "python": {
     "delete_cmd_postfix": "",
     "delete_cmd_prefix": "del ",
     "library": "var_list.py",
     "varRefreshCmd": "print(var_dic_list())"
    },
    "r": {
     "delete_cmd_postfix": ") ",
     "delete_cmd_prefix": "rm(",
     "library": "var_list.r",
     "varRefreshCmd": "cat(var_dic_list()) "
    }
   },
   "types_to_exclude": [
    "module",
    "function",
    "builtin_function_or_method",
    "instance",
    "_Feature"
   ],
   "window_display": false
  }
 },
 "nbformat": 4,
 "nbformat_minor": 2
}
