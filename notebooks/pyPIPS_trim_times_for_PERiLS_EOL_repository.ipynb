{
 "cells": [
  {
   "cell_type": "markdown",
   "metadata": {},
   "source": [
    "# A notebook to copy and clean up PIPS netCDF files for upload to the PERiLS EOL repository"
   ]
  },
  {
   "cell_type": "code",
   "execution_count": null,
   "metadata": {
    "ExecuteTime": {
     "end_time": "2020-06-23T14:33:57.347909Z",
     "start_time": "2020-06-23T14:33:52.438729Z"
    }
   },
   "outputs": [],
   "source": [
    "%load_ext autoreload\n",
    "%autoreload 2\n",
    "import numpy as np\n",
    "import numpy.ma as ma\n",
    "import matplotlib\n",
    "import matplotlib.pyplot as plt\n",
    "import matplotlib.cm as cm\n",
    "import matplotlib.ticker as ticker\n",
    "import matplotlib.dates as dates\n",
    "from mpl_toolkits.axes_grid1 import ImageGrid,make_axes_locatable,host_subplot\n",
    "#from mpl_toolkits.basemap import Basemap\n",
    "from datetime import datetime, timedelta\n",
    "import sys\n",
    "import os\n",
    "import pyPIPS.utils as utils\n",
    "import pyPIPS.thermolib as thermo\n",
    "import pyPIPS.DSDlib as dsd\n",
    "#import pyPIPS.disdrometer_module as dis\n",
    "import pyPIPS.plotmodule as PIPSplot\n",
    "#import pyPIPS.simulator as sim\n",
    "import pyPIPS.pips_io as pipsio\n",
    "import pyPIPS.PIPS as pips\n",
    "import pyPIPS.parsivel_params as pp\n",
    "import pyPIPS.parsivel_qc as pqc\n",
    "import pyPIPS.polarimetric as dualpol\n",
    "#from pyCRMtools.modules import plotmodule as plotmod\n",
    "from pyCRMtools.modules import utils as CRMutils\n",
    "# from pyCRMtools.pycaps import arps_read\n",
    "# from pyCRMtools.pycaps import pycaps_fields\n",
    "# from pyCRMtools.pycaps import calvars_radar as radar\n",
    "import pandas as pd\n",
    "import xarray as xr\n",
    "import glob\n",
    "import numpy.random as random\n",
    "from scipy.stats import gamma, uniform\n",
    "from scipy.special import gamma as gammafunc\n",
    "from scipy import ndimage\n",
    "from metpy.plots import StationPlot\n",
    "from metpy.calc import wind_components\n",
    "from metpy.cbook import get_test_data\n",
    "from metpy.plots import StationPlot\n",
    "from metpy.plots.wx_symbols import current_weather, sky_cover\n",
    "from metpy.units import units\n",
    "import warnings\n",
    "warnings.simplefilter('ignore')\n",
    "%matplotlib notebook"
   ]
  },
  {
   "cell_type": "code",
   "execution_count": null,
   "metadata": {},
   "outputs": [],
   "source": [
    "# Read in the original PIPS netcdf files\n",
    "\n",
    "PIPS_input_base_dir = '/Users/dawson29/Projects/PERiLS/obsdata/2022/PIPS_data/'\n",
    "PIPS_output_base_dir = '/Users/dawson29/Projects/PERiLS/obsdata/2022/PIPS_data_for_EOL/'\n",
    "\n",
    "PIPS_input_base_dir = '/Users/dawson29/PIPS_data/2023/'\n",
    "PIPS_output_base_dir = '/Users/dawson29/PIPS_data/2023_trimmed/'\n",
    "\n",
    "deployment_name = 'IOP3_032423' # 'IOP3_040522'\n",
    "PIPS_input_dir = os.path.join(PIPS_input_base_dir, deployment_name, 'netcdf')\n",
    "PIPS_output_dir = os.path.join(PIPS_output_base_dir, deployment_name, 'netcdf')\n",
    "if not os.path.exists(PIPS_output_dir):\n",
    "    os.makedirs(PIPS_output_dir)\n",
    "\n",
    "# IOP1 2022\n",
    "# PIPS_names = ['PIPS1A', 'PIPS1B', 'PIPS2A', 'PIPS2B']\n",
    "# IOP2 2022\n",
    "# PIPS_names = ['PIPS1A', 'PIPS1B', 'PIPS2A', 'PIPS3B']\n",
    "# IOP3 2022\n",
    "# PIPS_names = ['PIPS1A', 'PIPS1B', 'PIPS2A', 'PIPS2B', 'PIPS3A', 'PIPS3B']\n",
    "# IOP3 2023\n",
    "PIPS_names = ['PIPS2A', 'PIPS3A']\n",
    "parsivel_interval = 10\n",
    "parsivel_filenames = ['parsivel_combined_{}_{}_{:d}s.nc'.format(deployment_name, PIPS_name, parsivel_interval)\n",
    "                      for PIPS_name in PIPS_names]\n",
    "parsivel_filepaths = [os.path.join(PIPS_input_dir, parsivel_filename) for parsivel_filename in parsivel_filenames]\n",
    "output_parsivel_filepaths = [os.path.join(PIPS_output_dir, parsivel_filename) \n",
    "                             for parsivel_filename in parsivel_filenames]\n",
    "conv_filenames = ['conventional_raw_{}_{}.nc'.format(deployment_name, PIPS_name) for PIPS_name in PIPS_names]\n",
    "conv_filepaths = [os.path.join(PIPS_input_dir, conv_filename) for conv_filename in conv_filenames]\n",
    "output_conv_filepaths = [os.path.join(PIPS_output_dir, conv_filename) for conv_filename in conv_filenames]\n",
    "parsivel_ds_dict = {}\n",
    "conv_ds_dict = {}\n",
    "for PIPS_name, parsivel_filepath, conv_filepath in zip(PIPS_names, parsivel_filepaths, conv_filepaths):\n",
    "    parsivel_ds_dict[PIPS_name] = xr.load_dataset(parsivel_filepath)\n",
    "    conv_ds_dict[PIPS_name] = xr.load_dataset(conv_filepath)"
   ]
  },
  {
   "cell_type": "code",
   "execution_count": null,
   "metadata": {},
   "outputs": [],
   "source": [
    "PIPS_to_check = 'PIPS3A'"
   ]
  },
  {
   "cell_type": "code",
   "execution_count": null,
   "metadata": {},
   "outputs": [],
   "source": [
    "parsivel_ds = parsivel_ds_dict[PIPS_to_check]\n",
    "parsivel_ds"
   ]
  },
  {
   "cell_type": "code",
   "execution_count": null,
   "metadata": {},
   "outputs": [],
   "source": [
    "conv_ds = conv_ds_dict[PIPS_to_check]\n",
    "conv_ds"
   ]
  },
  {
   "cell_type": "code",
   "execution_count": null,
   "metadata": {},
   "outputs": [],
   "source": [
    "conv_ds.plot.scatter(x='GPS_lon', y='GPS_lat')"
   ]
  },
  {
   "cell_type": "code",
   "execution_count": null,
   "metadata": {},
   "outputs": [],
   "source": [
    "# Plot the timeseries of compass headings\n",
    "conv_ds['compass_dir'].plot()\n",
    "parsivel_ds['compass_dir'].plot()"
   ]
  },
  {
   "cell_type": "code",
   "execution_count": null,
   "metadata": {},
   "outputs": [],
   "source": [
    "# Make initial cut of times based on manual inspection of above plot\n",
    "start_time = '2023-03-24T23:00'\n",
    "end_time = '2023-03-25T03:00'\n",
    "\n",
    "conv_ds = conv_ds.sel(time=slice(start_time, end_time))\n",
    "parsivel_ds = parsivel_ds.sel(time=slice(start_time, end_time))\n"
   ]
  },
  {
   "cell_type": "code",
   "execution_count": null,
   "metadata": {},
   "outputs": [],
   "source": [
    "# Plot the timeseries of compass headings again after first cut\n",
    "conv_ds['compass_dir'].plot()\n",
    "parsivel_ds['compass_dir'].plot()"
   ]
  },
  {
   "cell_type": "code",
   "execution_count": null,
   "metadata": {},
   "outputs": [],
   "source": [
    "# These next few cells are primarily for PIPS3A or 3B to remove erroneous large compass direction fluctuations\n",
    "threshold_low = conv_ds['compass_dir'].quantile(0.054)\n",
    "threshold_high = conv_ds['compass_dir'].quantile(0.999)\n",
    "mean = conv_ds['compass_dir'].mean()\n",
    "median = conv_ds['compass_dir'].median()\n",
    "print(mean, median)"
   ]
  },
  {
   "cell_type": "code",
   "execution_count": null,
   "metadata": {},
   "outputs": [],
   "source": [
    "threshold_low"
   ]
  },
  {
   "cell_type": "code",
   "execution_count": null,
   "metadata": {},
   "outputs": [],
   "source": [
    "threshold_high"
   ]
  },
  {
   "cell_type": "code",
   "execution_count": null,
   "metadata": {},
   "outputs": [],
   "source": [
    "mask = conv_ds['compass_dir'].where((abs(conv_ds['compass_dir']) >= threshold_low) \n",
    "                                    & (abs(conv_ds['compass_dir']) <= threshold_high))\n",
    "print(mask)\n",
    "mean_value = mask.mean().values\n",
    "print(mean_value)\n",
    "# .where replace outliers with nan\n",
    "mask = mask.fillna(mean_value)\n",
    "print(mask)\n",
    "mask.plot()"
   ]
  },
  {
   "cell_type": "code",
   "execution_count": null,
   "metadata": {},
   "outputs": [],
   "source": []
  },
  {
   "cell_type": "code",
   "execution_count": null,
   "metadata": {},
   "outputs": [],
   "source": [
    "# Take a closer look at the beginning of the interval if needed\n",
    "start_time = conv_ds['time'][0].values\n",
    "end_time = conv_ds['time'][300].values\n",
    "print(start_time, end_time)\n",
    "conv_ds['compass_dir'].sel(time=slice(start_time, end_time)).plot()\n",
    "parsivel_ds['compass_dir'].sel(time=slice(start_time, end_time)).plot(marker='o')"
   ]
  },
  {
   "cell_type": "code",
   "execution_count": null,
   "metadata": {},
   "outputs": [],
   "source": [
    "# Take a closer look at the end of the interval if needed\n",
    "start_time = conv_ds['time'][-300].values\n",
    "end_time = conv_ds['time'][-1].values\n",
    "print(start_time, end_time)\n",
    "conv_ds['compass_dir'].sel(time=slice(start_time, end_time)).plot()\n",
    "parsivel_ds['compass_dir'].sel(time=slice(start_time, end_time)).plot(marker='o')"
   ]
  },
  {
   "cell_type": "code",
   "execution_count": null,
   "metadata": {},
   "outputs": [],
   "source": [
    "print(parsivel_ds['time'][0])\n",
    "print(parsivel_ds['time'][-1])"
   ]
  },
  {
   "cell_type": "code",
   "execution_count": null,
   "metadata": {},
   "outputs": [],
   "source": [
    "# New start and end times for deployments (determined manually by looking at compass heading variability)\n",
    "# IOP#1 03/22/22\n",
    "# new_start_times = ['2022-03-22T19:43:12.000000000', '2022-03-22T19:57:12.000000000', \n",
    "#                    '2022-03-22T19:24:32.000000000', '2022-03-22T19:34:43.000000000']\n",
    "# new_end_times = ['2022-03-22T21:36:52.000000000', '2022-03-22T21:41:52.000000000',\n",
    "#                  '2022-03-22T21:24:42.000000000', '2022-03-22T21:30:43.000000000']\n",
    "# IOP#2 03/30/22\n",
    "# new_start_times = ['2022-03-30T23:49:53.000000000', '2022-03-30T23:49:53.000000000', \n",
    "#                    '2022-03-30T23:59:03.000000000', '2022-03-31T00:00:29.000000000']\n",
    "# new_end_times = ['2022-03-31T01:25:23.000000000', '2022-03-31T01:25:23.000000000',\n",
    "#                  '2022-03-31T01:11:43.000000000', '2022-03-31T01:14:09.000000000']\n",
    "# IOP#3 04/05/22\n",
    "# new_start_times = ['2022-04-05T14:46:13.000000000', '2022-04-05T14:38:00.000000000', \n",
    "#                    '2022-04-05T15:07:13.000000000', '2022-04-05T14:57:44.000000000',\n",
    "#                    '2022-04-05T16:00:29.000000000', '2022-04-05T15:21:39.000000000']\n",
    "# new_end_times = ['2022-04-05T16:51:23.000000000', '2022-04-05T16:45:40.000000000',\n",
    "#                  '2022-04-05T17:02:13.000000000', '2022-04-05T16:58:24.000000000',\n",
    "#                  '2022-04-05T17:15:29.000000000', '2022-04-05T17:14:49.000000000']\n",
    "\n",
    "# IOP#3 03/24/23\n",
    "new_start_times = ['2023-03-24T23:40:49.000000000', '2023-03-24T23:35:19.000000000']\n",
    "new_end_times = ['2023-03-25T02:50:59.000000000', '2023-03-25T02:41:59.000000000']"
   ]
  },
  {
   "cell_type": "code",
   "execution_count": null,
   "metadata": {},
   "outputs": [],
   "source": [
    "# Now go through and trim the times accordingly\n",
    "output_parsivel_ds_dict = {}\n",
    "output_conv_ds_dict = {}\n",
    "\n",
    "for PIPS_name, new_start_time, new_end_time in zip(PIPS_names, new_start_times, new_end_times):\n",
    "    output_parsivel_ds_dict[PIPS_name] = parsivel_ds_dict[PIPS_name].sel(time=slice(new_start_time, new_end_time))\n",
    "    output_conv_ds_dict[PIPS_name] = conv_ds_dict[PIPS_name].sel(time=slice(new_start_time, new_end_time))\n",
    "    "
   ]
  },
  {
   "cell_type": "code",
   "execution_count": null,
   "metadata": {},
   "outputs": [],
   "source": [
    "# Now go through and update CF encoding string for start time as well as the global attributes\n",
    "output_parsivel_ds_dict = parsivel_ds_dict\n",
    "output_conv_ds_dict = conv_ds_dict\n",
    "\n",
    "for PIPS_name in PIPS_names:\n",
    "    start_datetime = output_parsivel_ds_dict[PIPS_name].time[0].values\n",
    "    end_datetime = output_parsivel_ds_dict[PIPS_name].time[-1].values\n",
    "    start_datetime = pd.to_datetime(start_datetime)\n",
    "    end_datetime = pd.to_datetime(end_datetime)\n",
    "    start_time_str = start_datetime.strftime('%Y-%m-%d %H:%M:%S')\n",
    "    output_parsivel_ds_dict[PIPS_name].time.encoding['units'] = \"Seconds since {}\".format(start_time_str)\n",
    "    output_conv_ds_dict[PIPS_name].time.encoding['units'] = \"Seconds since {}\".format(start_time_str)\n",
    "    # Also update the global attributes for start and end times accordingly\n",
    "    output_parsivel_ds_dict[PIPS_name].attrs['starting_time'] = start_datetime.strftime('%Y%m%d%H%M%S')\n",
    "    output_parsivel_ds_dict[PIPS_name].attrs['ending_time'] = end_datetime.strftime('%Y%m%d%H%M%S')\n",
    "    output_conv_ds_dict[PIPS_name].attrs['starting_time'] = start_datetime.strftime('%Y%m%d%H%M%S')\n",
    "    output_conv_ds_dict[PIPS_name].attrs['ending_time'] = end_datetime.strftime('%Y%m%d%H%M%S')\n",
    "    "
   ]
  },
  {
   "cell_type": "code",
   "execution_count": null,
   "metadata": {},
   "outputs": [],
   "source": [
    "# Now save to new output directory\n",
    "for PIPS_name, output_parsivel_filepath, output_conv_filepath in zip(PIPS_names, \n",
    "                                                                     output_parsivel_filepaths, \n",
    "                                                                     output_conv_filepaths):\n",
    "    \n",
    "    print(\"Saving {}\".format(output_parsivel_filepath))\n",
    "    output_parsivel_ds_dict[PIPS_name].to_netcdf(output_parsivel_filepath)\n",
    "    print(\"Saving {}\".format(output_conv_filepath))\n",
    "    output_conv_ds_dict[PIPS_name].to_netcdf(output_conv_filepath)"
   ]
  },
  {
   "cell_type": "code",
   "execution_count": null,
   "metadata": {},
   "outputs": [],
   "source": [
    "# Remove some attributes that are no longer needed\n",
    "# for parsivel_filename in parsivel_filenames:\n",
    "#     print(\"Removing unneeded attributes for {}\".format(parsivel_filename))\n",
    "#     parsivel_ds = xr.load_dataset(parsivel_filename)\n",
    "#     # del parsivel_ds.attrs['CG_coeff_SATP_new']\n",
    "#     # del parsivel_ds.attrs['CG_coeff_TMM_F_new']\n",
    "#     del parsivel_ds.attrs['CG_coeff']\n",
    "#     parsivel_ds.to_netcdf(parsivel_filename)"
   ]
  },
  {
   "cell_type": "code",
   "execution_count": null,
   "metadata": {},
   "outputs": [],
   "source": []
  }
 ],
 "metadata": {
  "anaconda-cloud": {},
  "hide_input": false,
  "kernelspec": {
   "display_name": "Python [conda env:pyPIPS]",
   "language": "python",
   "name": "conda-env-pyPIPS-py"
  },
  "language_info": {
   "codemirror_mode": {
    "name": "ipython",
    "version": 3
   },
   "file_extension": ".py",
   "mimetype": "text/x-python",
   "name": "python",
   "nbconvert_exporter": "python",
   "pygments_lexer": "ipython3",
   "version": "3.10.6"
  },
  "toc": {
   "base_numbering": 1,
   "nav_menu": {},
   "number_sections": true,
   "sideBar": true,
   "skip_h1_title": false,
   "title_cell": "Table of Contents",
   "title_sidebar": "Contents",
   "toc_cell": false,
   "toc_position": {},
   "toc_section_display": true,
   "toc_window_display": false
  },
  "varInspector": {
   "cols": {
    "lenName": 16,
    "lenType": 16,
    "lenVar": 40
   },
   "kernels_config": {
    "python": {
     "delete_cmd_postfix": "",
     "delete_cmd_prefix": "del ",
     "library": "var_list.py",
     "varRefreshCmd": "print(var_dic_list())"
    },
    "r": {
     "delete_cmd_postfix": ") ",
     "delete_cmd_prefix": "rm(",
     "library": "var_list.r",
     "varRefreshCmd": "cat(var_dic_list()) "
    }
   },
   "types_to_exclude": [
    "module",
    "function",
    "builtin_function_or_method",
    "instance",
    "_Feature"
   ],
   "window_display": false
  }
 },
 "nbformat": 4,
 "nbformat_minor": 2
}
