{
 "cells": [
  {
   "cell_type": "markdown",
   "metadata": {},
   "source": [
    "# A testing ground for pyPIPS functionality"
   ]
  },
  {
   "cell_type": "code",
   "execution_count": 1,
   "metadata": {
    "ExecuteTime": {
     "end_time": "2020-05-18T19:04:43.145815Z",
     "start_time": "2020-05-18T19:04:40.010599Z"
    }
   },
   "outputs": [
    {
     "name": "stdout",
     "output_type": "stream",
     "text": [
      "\n",
      "## You are using the Python ARM Radar Toolkit (Py-ART), an open source\n",
      "## library for working with weather radar data. Py-ART is partly\n",
      "## supported by the U.S. Department of Energy as part of the Atmospheric\n",
      "## Radiation Measurement (ARM) Climate Research Facility, an Office of\n",
      "## Science user facility.\n",
      "##\n",
      "## If you use this software to prepare a publication, please cite:\n",
      "##\n",
      "##     JJ Helmus and SM Collis, JORS 2016, doi: 10.5334/jors.119\n",
      "\n"
     ]
    }
   ],
   "source": [
    "%load_ext autoreload\n",
    "%autoreload 2\n",
    "import numpy as np\n",
    "import numpy.ma as ma\n",
    "import matplotlib\n",
    "import matplotlib.pyplot as plt\n",
    "import matplotlib.cm as cm\n",
    "import matplotlib.ticker as ticker\n",
    "import matplotlib.dates as dates\n",
    "from mpl_toolkits.axes_grid1 import ImageGrid,make_axes_locatable,host_subplot\n",
    "from mpl_toolkits.basemap import Basemap\n",
    "from datetime import datetime, timedelta\n",
    "import sys\n",
    "import os\n",
    "import pyPIPS.utils as utils\n",
    "import pyPIPS.thermolib as thermo\n",
    "import pyPIPS.DSDlib as dsd\n",
    "#import pyPIPS.disdrometer_module as dis\n",
    "import pyPIPS.plotmodule as PIPSplot\n",
    "import pyPIPS.simulator as sim\n",
    "import pyPIPS.pips_io as pipsio\n",
    "import pyPIPS.PIPS as pips\n",
    "import pyPIPS.parsivel_params as pp\n",
    "import pyPIPS.parsivel_qc as pqc\n",
    "from pyCRMtools.modules import plotmodule as plotmod\n",
    "from pyCRMtools.modules import utils as CRMutils\n",
    "from pyCRMtools.pycaps import arps_read\n",
    "from pyCRMtools.pycaps import pycaps_fields\n",
    "from pyCRMtools.pycaps import calvars_radar as radar\n",
    "import pandas as pd\n",
    "import xarray as xr\n",
    "import glob\n",
    "import numpy.random as random\n",
    "from scipy.stats import gamma, uniform\n",
    "from scipy.special import gamma as gammafunc\n",
    "from scipy import ndimage\n",
    "from metpy.plots import StationPlot\n",
    "from metpy.calc import wind_components\n",
    "from metpy.cbook import get_test_data\n",
    "from metpy.plots import StationPlot\n",
    "from metpy.plots.wx_symbols import current_weather, sky_cover\n",
    "from metpy.units import units\n",
    "%matplotlib inline"
   ]
  },
  {
   "cell_type": "code",
   "execution_count": null,
   "metadata": {
    "ExecuteTime": {
     "end_time": "2020-05-18T19:04:43.912089Z",
     "start_time": "2020-05-18T19:04:43.800197Z"
    }
   },
   "outputs": [],
   "source": [
    "# Read in the SATP DataArrays\n",
    "PIPS_dir = '/Volumes/scr_fast/Projects/VORTEXSE/obsdata/full_PIPS_dataset_RB15/'\n",
    "ND_combined_filename = 'ND_combined_full_dataset_60s.nc'\n",
    "ND_combined_path = os.path.join(PIPS_dir, ND_combined_filename)\n",
    "ND_avg_filename = 'ND_avg_full_dataset_60s.nc'\n",
    "ND_avg_path = os.path.join(PIPS_dir, ND_avg_filename)\n",
    "\n",
    "ND_combined = xr.load_dataset(ND_combined_path)\n",
    "# ND_avg = xr.open_dataarray(ND_avg_path)\n",
    "ND_avg = xr.load_dataset(ND_avg_path)"
   ]
  },
  {
   "cell_type": "code",
   "execution_count": null,
   "metadata": {
    "ExecuteTime": {
     "end_time": "2020-05-18T19:04:45.337305Z",
     "start_time": "2020-05-18T19:04:45.240757Z"
    }
   },
   "outputs": [],
   "source": [
    "print(ND_avg)\n",
    "print(ND_combined)\n",
    "D0_bins = ND_combined.coords['D0_bins']\n",
    "RR_bins = ND_combined.coords['RR_bins']"
   ]
  },
  {
   "cell_type": "code",
   "execution_count": null,
   "metadata": {
    "ExecuteTime": {
     "end_time": "2020-05-18T19:04:49.562599Z",
     "start_time": "2020-05-18T19:04:49.471961Z"
    }
   },
   "outputs": [],
   "source": [
    "ND_combined = pipsio.reconstruct_MultiIndex(ND_combined, ['D0_idx', 'RR_idx'], 'D0_RR')\n",
    "print(ND_combined)"
   ]
  },
  {
   "cell_type": "code",
   "execution_count": null,
   "metadata": {
    "ExecuteTime": {
     "end_time": "2020-05-18T19:13:03.192385Z",
     "start_time": "2020-05-18T19:13:03.090641Z"
    }
   },
   "outputs": [],
   "source": [
    "ND_combined_da = ND_combined['ND_combined_full_dataset']\n",
    "ND_groups = ND_combined_da.groupby('D0_RR')"
   ]
  },
  {
   "cell_type": "code",
   "execution_count": null,
   "metadata": {
    "ExecuteTime": {
     "end_time": "2020-05-18T19:13:07.759896Z",
     "start_time": "2020-05-18T19:13:05.779585Z"
    }
   },
   "outputs": [],
   "source": [
    "for group, ND_group in list(ND_groups)[:-1]:\n",
    "    num_DSDs = ND_group.sizes['D0_RR']\n",
    "    print(group, num_DSDs)"
   ]
  },
  {
   "cell_type": "code",
   "execution_count": null,
   "metadata": {
    "ExecuteTime": {
     "end_time": "2020-05-18T19:14:24.449166Z",
     "start_time": "2020-05-18T19:13:26.519991Z"
    }
   },
   "outputs": [],
   "source": [
    "D0_bins = ND_combined.coords['D0_bins']\n",
    "RR_bins = ND_combined.coords['RR_bins']\n",
    "#print(D0_bins[0])\n",
    "#print(RR_bins[0])\n",
    "for group, ND_group in list(ND_groups)[:-1]:\n",
    "    num_DSDs = ND_group.sizes['D0_RR']\n",
    "    # print(group, num_DSDs)\n",
    "    if num_DSDs > 10 and group[1] > 0 and group[1] < 82:\n",
    "        #print(ND_group['diameter'])\n",
    "        fig, ax = plt.subplots(figsize=(10,10))\n",
    "        ND_group_avg = ND_group.mean('D0_RR')\n",
    "        print(D0_bins[group[0]], RR_bins[group[1]])\n",
    "        for ND in ND_group:\n",
    "            #print(ND)\n",
    "            ax.plot(ND_group['diameter'], ND, color='0.7', alpha=0.5)\n",
    "            ax.plot(ND_group['diameter'], ND_group_avg, 'k')\n",
    "#             ax.plot(avg_diameter,\n",
    "#                     Nc_bin_avg[r,\n",
    "#                                d],\n",
    "#                     'k',\n",
    "#                     label='(R,D0) = (%2.2f' % midpoint_R + ',%2.2f' % midpoint_D0 + ')')\n",
    "            ax.set_yscale('log')\n",
    "            ax.set_ylim(10.**-1.0, 10.**5.0)\n",
    "            ax.set_ylabel('Number Concentration, # m^-3 mm^-1')\n",
    "            ax.set_xlim(0.0, 8.0)\n",
    "            ax.set_xlabel('Diameter, mm')\n",
    "            ax.tick_params(direction='in', length=6, top='on', right='on')\n",
    "#             ax.legend(\n",
    "#                 bbox_to_anchor=(\n",
    "#                     1.,\n",
    "#                     1.),\n",
    "#                 loc='upper right',\n",
    "#                 ncol=1,\n",
    "#                 fancybox=True,\n",
    "#                 shadow=False)"
   ]
  },
  {
   "cell_type": "code",
   "execution_count": null,
   "metadata": {
    "ExecuteTime": {
     "end_time": "2020-05-18T19:23:28.100943Z",
     "start_time": "2020-05-18T19:22:46.918339Z"
    }
   },
   "outputs": [],
   "source": [
    "\n",
    "hist, xedges, yedges = np.histogram2d(ND_combined['RR'], ND_combined['D0'], bins=(RR_bins, D0_bins))\n",
    "hist = np.ma.masked_where(hist <= 0.0, hist)\n",
    "# add 2D color grid of bin sum\n"
   ]
  },
  {
   "cell_type": "code",
   "execution_count": null,
   "metadata": {
    "ExecuteTime": {
     "end_time": "2020-05-18T19:30:44.674884Z",
     "start_time": "2020-05-18T19:30:40.667039Z"
    }
   },
   "outputs": [],
   "source": [
    "fig, ax = plt.subplots(figsize=(10, 10))\n",
    "ax.set_xscale('log')\n",
    "C = ax.pcolormesh(RR_bins, D0_bins, hist.T, vmin=0.0, vmax=20.0)\n",
    "ax.set_xlabel(r'$R$ (mm h$^{-1}$)')\n",
    "ax.set_ylabel(r'$D_0$ (mm)')\n",
    "ax.set_xlim(0.1, 250.)\n",
    "divider = make_axes_locatable(ax)\n",
    "cax = divider.append_axes(\"right\", size=\"5%\", pad=0.05)\n",
    "cb = plt.colorbar(C, orientation='vertical', cax=cax, format = '%d')\n",
    "image_dir = os.path.join(PIPS_dir, 'plots')\n",
    "image_name = 'SATP_histogram.eps'\n",
    "image_path = os.path.join(image_dir, image_name)\n",
    "plt.savefig(image_path, dpi=200, bbox_inches='tight')"
   ]
  },
  {
   "cell_type": "code",
   "execution_count": null,
   "metadata": {
    "ExecuteTime": {
     "end_time": "2020-02-16T22:53:28.220013Z",
     "start_time": "2020-02-16T22:53:28.129491Z"
    }
   },
   "outputs": [],
   "source": [
    "import natsort\n",
    "natsort.natsorted(PIPS_filenames)"
   ]
  },
  {
   "cell_type": "code",
   "execution_count": null,
   "metadata": {
    "ExecuteTime": {
     "end_time": "2020-02-16T23:20:19.614406Z",
     "start_time": "2020-02-16T23:20:19.544237Z"
    }
   },
   "outputs": [],
   "source": []
  },
  {
   "cell_type": "code",
   "execution_count": null,
   "metadata": {},
   "outputs": [],
   "source": []
  }
 ],
 "metadata": {
  "anaconda-cloud": {},
  "hide_input": false,
  "kernelspec": {
   "display_name": "Python 3.7.3 64-bit ('pyPIPS': conda)",
   "language": "python",
   "name": "python37364bitpypipscondaea8788f6419a4a34be329df7b3b7ce88"
  },
  "language_info": {
   "codemirror_mode": {
    "name": "ipython",
    "version": 3
   },
   "file_extension": ".py",
   "mimetype": "text/x-python",
   "name": "python",
   "nbconvert_exporter": "python",
   "pygments_lexer": "ipython3",
   "version": "3.7.6"
  },
  "toc": {
   "base_numbering": 1,
   "nav_menu": {},
   "number_sections": true,
   "sideBar": true,
   "skip_h1_title": false,
   "title_cell": "Table of Contents",
   "title_sidebar": "Contents",
   "toc_cell": false,
   "toc_position": {},
   "toc_section_display": true,
   "toc_window_display": false
  },
  "varInspector": {
   "cols": {
    "lenName": 16,
    "lenType": 16,
    "lenVar": 40
   },
   "kernels_config": {
    "python": {
     "delete_cmd_postfix": "",
     "delete_cmd_prefix": "del ",
     "library": "var_list.py",
     "varRefreshCmd": "print(var_dic_list())"
    },
    "r": {
     "delete_cmd_postfix": ") ",
     "delete_cmd_prefix": "rm(",
     "library": "var_list.r",
     "varRefreshCmd": "cat(var_dic_list()) "
    }
   },
   "types_to_exclude": [
    "module",
    "function",
    "builtin_function_or_method",
    "instance",
    "_Feature"
   ],
   "window_display": false
  }
 },
 "nbformat": 4,
 "nbformat_minor": 2
}
