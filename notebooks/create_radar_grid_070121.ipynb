{
 "cells": [
  {
   "cell_type": "code",
   "execution_count": null,
   "metadata": {
    "ExecuteTime": {
     "end_time": "2021-04-07T17:58:25.272015Z",
     "start_time": "2021-04-07T17:58:22.183598Z"
    }
   },
   "outputs": [],
   "source": [
    "from glob import glob\n",
    "import os\n",
    "import itertools\n",
    "import numpy as np\n",
    "import matplotlib\n",
    "import matplotlib.pyplot as plt\n",
    "import matplotlib.cm as cm\n",
    "from mpl_toolkits.axes_grid1 import ImageGrid, make_axes_locatable, host_subplot\n",
    "import matplotlib.ticker as ticker\n",
    "from matplotlib.collections import Collection, LineCollection\n",
    "from matplotlib.artist import allow_rasterization\n",
    "from matplotlib.font_manager import FontProperties\n",
    "from matplotlib.colors import LinearSegmentedColormap\n",
    "import matplotlib.dates as md\n",
    "import matplotlib.ticker as ticker\n",
    "from metpy.plots import ctables\n",
    "#from pyPIPS import disdrometer_module as dis\n",
    "from pyPIPS import pips_io as pipsio\n",
    "from pyPIPS import timemodule as tm\n",
    "from pyPIPS.utils import mtokm, getTimeWindow, interp_along_1D\n",
    "from pyPIPS import plotmodule as pm\n",
    "from pyPIPS import PIPS as pips\n",
    "# from pyPIPS import fmcw\n",
    "from itertools import cycle\n",
    "import netCDF4 as netcdf\n",
    "from datetime import datetime, timedelta\n",
    "import pandas as pd\n",
    "import xarray as xr\n",
    "#from skimage.restoration import unwrap_phase\n",
    "#import skimage.feature as SF\n",
    "import numpy.ma as ma\n",
    "from scipy import ndimage, interpolate\n",
    "import pyart\n",
    "import cartopy.crs as ccrs\n",
    "%load_ext autoreload\n",
    "%autoreload 2\n",
    "%matplotlib inline"
   ]
  },
  {
   "cell_type": "code",
   "execution_count": null,
   "metadata": {
    "ExecuteTime": {
     "end_time": "2021-04-07T17:58:43.505816Z",
     "start_time": "2021-04-07T17:58:42.975139Z"
    },
    "scrolled": true
   },
   "outputs": [],
   "source": [
    "# Read in PIPS data\n",
    "PIPS_data_dir = '/Users/terrell8/sshfs_mounts/depot/data/Projects/VORTEXSE/obsdata/full_PIPS_dataset/'\n",
    "PIPS_filename = 'parsivel_combined_FMCW_2017_032717_PIPS2A_60s.nc'\n",
    "PIPS_filepath = os.path.join(PIPS_data_dir, PIPS_filename)\n",
    "PIPS_ds = xr.open_dataset(PIPS_filepath)\n",
    "print(PIPS_ds)"
   ]
  },
  {
   "cell_type": "code",
   "execution_count": null,
   "metadata": {
    "ExecuteTime": {
     "end_time": "2021-04-07T18:01:50.890778Z",
     "start_time": "2021-04-07T18:01:50.766055Z"
    }
   },
   "outputs": [],
   "source": [
    "# 03/25 case\n",
    "radar_name = 'KGWX'\n",
    "radar_type= 'NEXRAD'\n",
    "date = '0325'\n",
    "radar_start_datetimestamp = '20170325170500'\n",
    "radar_end_datetimestamp = '20170325183559'\n",
    "height = 2000.\n",
    "\n",
    "# Create datetime objects for start and end times\n",
    "datetime_start = datetime.strptime(radar_start_datetimestamp, '%Y%m%d%H%M%S')\n",
    "datetime_end = datetime.strptime(radar_end_datetimestamp, '%Y%m%d%H%M%S')\n",
    "\n",
    "radar_basedir = \\\n",
    "    '/Volumes/scr_fast/Projects/VORTEXSE/obsdata/2017/NEXRAD/IOP_1A/'\n",
    "gridded_output_dir = os.path.join(radar_basedir, 'gridded_070121')\n",
    "if not os.path.exists(gridded_output_dir):\n",
    "    os.makedirs(gridded_output_dir)\n",
    "plot_dir = '/Users/dawson29/Dropbox/Students/Marcus_Terrell/plots/'\n",
    "if not os.path.exists(plot_dir):\n",
    "    os.makedirs(plot_dir)\n",
    "\n",
    "radar_start_timestamp = datetime_start.strftime('%Y%m%d%H%M')\n",
    "radar_end_timestamp = datetime_end.strftime('%Y%m%d%H%M')\n",
    "\n",
    "level2_dir = os.path.join(radar_basedir, 'level2')\n",
    "level2_files = sorted(glob(level2_dir + '/*.ar2v'))\n",
    "\n",
    "level2_files_to_read = []\n",
    "for level2_file in level2_files:\n",
    "    radar_file_timestamp = os.path.basename(level2_file)[4:19]\n",
    "    radar_file_datetime = datetime.strptime(radar_file_timestamp, '%Y%m%d_%H%M%S')\n",
    "    if radar_file_datetime >= datetime_start and radar_file_datetime <= datetime_end:\n",
    "        level2_files_to_read.append(level2_file)\n",
    "        print(os.path.basename(level2_file))"
   ]
  },
  {
   "cell_type": "code",
   "execution_count": null,
   "metadata": {
    "ExecuteTime": {
     "end_time": "2021-04-07T18:01:59.810011Z",
     "start_time": "2021-04-07T18:01:59.733888Z"
    }
   },
   "outputs": [],
   "source": [
    "# Set up grid limits and spacing\n",
    "\n",
    "xmin = -123000.\n",
    "xmax = 123000.\n",
    "dx = 1000.\n",
    "nx = int((xmax - xmin) / dx) + 1\n",
    "\n",
    "ymin = -123000.\n",
    "ymax = 123000.\n",
    "dy = 1000.\n",
    "ny = int((ymax - ymin) / dy) + 1\n",
    "\n",
    "zmin = 500.\n",
    "zmax = 4500.\n",
    "dz = 100.\n",
    "nz = int((zmax - zmin) / dz) + 1\n",
    "print(nz)"
   ]
  },
  {
   "cell_type": "code",
   "execution_count": null,
   "metadata": {
    "ExecuteTime": {
     "end_time": "2021-04-07T18:03:01.887636Z",
     "start_time": "2021-04-07T18:02:08.989500Z"
    }
   },
   "outputs": [],
   "source": [
    "# Test first radar file\n",
    "\n",
    "print(level2_files_to_read[0])\n",
    "\n",
    "radar = pyart.io.read_nexrad_archive(level2_files_to_read[0])\n",
    "\n",
    "grid = pyart.map.grid_from_radars(\n",
    "    (radar,),\n",
    "    grid_shape=(nz, ny, nx),\n",
    "    grid_limits=((zmin, zmax), (ymin, ymax), (xmin, xmax)),\n",
    "    fields=['differential_reflectivity', 'reflectivity', 'cross_correlation_ratio'],\n",
    "    weighting_function='Barnes2')\n",
    "\n",
    "grid_xr = grid.to_xarray()\n",
    "# DTD: note that for some reason the conversion to xarray does not preserve the altitude of the grid origin,\n",
    "# so add it back here as an attribute. Also, create a new coordinate \"alt\" that is the height of the grid points\n",
    "# above sea level\n",
    "origin_altitude = grid.origin_altitude['data'].item()\n",
    "grid_xr.attrs['origin_altitude'] = origin_altitude\n",
    "grid_xr = grid_xr.assign_coords(alt=grid_xr.coords['z'] + origin_altitude)\n",
    "print(grid_xr)"
   ]
  },
  {
   "cell_type": "code",
   "execution_count": null,
   "metadata": {
    "ExecuteTime": {
     "end_time": "2021-04-07T18:03:03.175583Z",
     "start_time": "2021-04-07T18:03:02.171361Z"
    }
   },
   "outputs": [],
   "source": [
    "# This seems to broken owing to a possible bug in cartopy with the call to pcolormesh... not sure how to fix it\n",
    "# right now\n",
    "\n",
    "display = pyart.graph.GridMapDisplay(grid)\n",
    "\n",
    "# create the plot\n",
    "projection = ccrs.PlateCarree()\n",
    "fig = plt.figure(figsize=(10,10))\n",
    "ax = plt.axes(projection=projection)\n",
    "x, y = np.meshgrid(grid_xr['lon'], grid_xr['lat'])\n",
    "dBZ = grid_xr['reflectivity'][0, 0]\n",
    "print(x.shape, y.shape, dBZ.shape)\n",
    "pm = ax.pcolormesh(x, y, grid_xr['reflectivity'][0, 0], vmin=0, vmax=55)\n",
    "# ax.imshow(grid.fields['reflectivity']['data'][0], origin='lower')\n",
    "# display.plot_grid('reflectivity', 0, vmin=0, vmax=55, projection=projection, cmap=\"pyart_HomeyerRainbow\", ax=ax)\n",
    "#plt.xlim(-86.7, -85.3)\n",
    "#plt.ylim(34.0, 36.0)\n",
    "#start_time = '2017-04-30T20:45'\n",
    "#end_time = '2017-04-30T20:45'\n",
    "#plt.title('HTX Time {}'.format(start_time))\n",
    "\n",
    "# Read in the file, create a RadarMapDisplay object\n",
    "# fmcw_data_dir = '/Users/terrell8/sshfs_mounts/depot/data/Projects/VORTEXSE/obsdata/2017/FMCW/0430'\n",
    "\n",
    "# Indicate the radar location with a point\n",
    "FMCW_lat = 34.3352\n",
    "FMCW_lon = -87.2024\n",
    "ax.plot([FMCW_lon], [FMCW_lat], color='black', marker='o', transform=ccrs.PlateCarree())\n"
   ]
  },
  {
   "cell_type": "code",
   "execution_count": null,
   "metadata": {
    "ExecuteTime": {
     "end_time": "2021-02-15T22:02:40.566682Z",
     "start_time": "2021-02-15T21:35:53.956400Z"
    },
    "scrolled": true
   },
   "outputs": [],
   "source": [
    "# Create gridded radar objects and dump to disk\n",
    "for i, f in enumerate(level2_files_to_read[:1]):\n",
    "    print(\"On file {:d} of {:d} ({:.2f}%)\".format(i+1, len(level2_files), (i+1)/len(level2_files)*100.))\n",
    "    print(\"Reading {}\".format(os.path.basename(f)))\n",
    "    radar = pyart.io.read_nexrad_archive(f)\n",
    "    output_file = os.path.basename(f)[:-5]+\"_gridded.nc\"\n",
    "    output_path = os.path.join(gridded_output_dir, output_file)\n",
    "    \n",
    "    print(\"Mapping to grid!\")\n",
    "    grid = pyart.map.grid_from_radars(\n",
    "        (radar,),\n",
    "        grid_shape=(nz, ny, nx),\n",
    "        grid_limits=((zmin, zmax), (ymin, ymax), (xmin, xmax)),\n",
    "        fields=['differential_reflectivity', 'reflectivity', 'cross_correlation_ratio'],\n",
    "        weighting_function='Barnes2')\n",
    "    print(\"Writing {}\".format(output_file))\n",
    "    pyart.io.write_grid(output_path, grid, arm_time_variables=True, arm_alt_lat_lon_variables=True, \n",
    "                        write_point_x_y_z=True, write_point_lon_lat_alt=True)\n"
   ]
  },
  {
   "cell_type": "code",
   "execution_count": null,
   "metadata": {},
   "outputs": [],
   "source": []
  },
  {
   "cell_type": "code",
   "execution_count": null,
   "metadata": {},
   "outputs": [],
   "source": []
  },
  {
   "cell_type": "code",
   "execution_count": null,
   "metadata": {},
   "outputs": [],
   "source": [
    "\n"
   ]
  }
 ],
 "metadata": {
  "hide_input": false,
  "kernelspec": {
   "display_name": "Python 3.7.3 64-bit ('pyPIPS': conda)",
   "language": "python",
   "name": "python37364bitpypipscondaea8788f6419a4a34be329df7b3b7ce88"
  },
  "language_info": {
   "codemirror_mode": {
    "name": "ipython",
    "version": 3
   },
   "file_extension": ".py",
   "mimetype": "text/x-python",
   "name": "python",
   "nbconvert_exporter": "python",
   "pygments_lexer": "ipython3",
   "version": "3.7.10"
  },
  "toc": {
   "base_numbering": 1,
   "nav_menu": {},
   "number_sections": true,
   "sideBar": true,
   "skip_h1_title": false,
   "title_cell": "Table of Contents",
   "title_sidebar": "Contents",
   "toc_cell": false,
   "toc_position": {},
   "toc_section_display": true,
   "toc_window_display": false
  },
  "varInspector": {
   "cols": {
    "lenName": 16,
    "lenType": 16,
    "lenVar": 40
   },
   "kernels_config": {
    "python": {
     "delete_cmd_postfix": "",
     "delete_cmd_prefix": "del ",
     "library": "var_list.py",
     "varRefreshCmd": "print(var_dic_list())"
    },
    "r": {
     "delete_cmd_postfix": ") ",
     "delete_cmd_prefix": "rm(",
     "library": "var_list.r",
     "varRefreshCmd": "cat(var_dic_list()) "
    }
   },
   "types_to_exclude": [
    "module",
    "function",
    "builtin_function_or_method",
    "instance",
    "_Feature"
   ],
   "window_display": false
  }
 },
 "nbformat": 4,
 "nbformat_minor": 2
}
