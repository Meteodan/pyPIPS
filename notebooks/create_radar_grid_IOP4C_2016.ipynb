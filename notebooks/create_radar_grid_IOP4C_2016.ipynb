{
 "cells": [
  {
   "cell_type": "code",
   "execution_count": null,
   "metadata": {
    "ExecuteTime": {
     "end_time": "2021-09-21T15:32:05.758101Z",
     "start_time": "2021-09-21T15:32:02.179138Z"
    }
   },
   "outputs": [],
   "source": [
    "from glob import glob\n",
    "import os\n",
    "import itertools\n",
    "import numpy as np\n",
    "import matplotlib\n",
    "import matplotlib.pyplot as plt\n",
    "import matplotlib.cm as cm\n",
    "from mpl_toolkits.axes_grid1 import ImageGrid, make_axes_locatable, host_subplot\n",
    "import matplotlib.ticker as ticker\n",
    "from matplotlib.collections import Collection, LineCollection\n",
    "from matplotlib.artist import allow_rasterization\n",
    "from matplotlib.font_manager import FontProperties\n",
    "from matplotlib.colors import LinearSegmentedColormap\n",
    "import matplotlib.dates as md\n",
    "import matplotlib.ticker as ticker\n",
    "from metpy.plots import ctables\n",
    "#from pyPIPS import disdrometer_module as dis\n",
    "from pyPIPS import pips_io as pipsio\n",
    "from pyPIPS import timemodule as tm\n",
    "from pyPIPS.utils import mtokm, getTimeWindow, interp_along_1D\n",
    "from pyPIPS import plotmodule as pm\n",
    "from pyPIPS import PIPS as pips\n",
    "from pyPIPS import radarmodule as radar\n",
    "# from pyPIPS import fmcw\n",
    "from itertools import cycle\n",
    "import netCDF4 as netcdf\n",
    "from datetime import datetime, timedelta\n",
    "import pandas as pd\n",
    "import xarray as xr\n",
    "#from skimage.restoration import unwrap_phase\n",
    "#import skimage.feature as SF\n",
    "import numpy.ma as ma\n",
    "from scipy import ndimage, interpolate\n",
    "import pyart\n",
    "import cartopy.crs as ccrs\n",
    "%load_ext autoreload\n",
    "%autoreload 2\n",
    "%matplotlib inline"
   ]
  },
  {
   "cell_type": "code",
   "execution_count": null,
   "metadata": {
    "ExecuteTime": {
     "end_time": "2021-09-21T15:36:30.091417Z",
     "start_time": "2021-09-21T15:36:29.972124Z"
    }
   },
   "outputs": [],
   "source": [
    "# 04/30/16 (IOP4C) case\n",
    "radar_name = 'KGWX'\n",
    "radar_lat = 33.896915435791\n",
    "radar_lon = -88.3291931152344\n",
    "radar_alt = 179.\n",
    "radar_type= 'NEXRAD'\n",
    "date = '0430'\n",
    "radar_start_datetimestamp = '20160430193000'\n",
    "radar_end_datetimestamp = '20160430214500'\n",
    "height = 2000.\n",
    "\n",
    "# Create datetime objects for start and end times\n",
    "datetime_start = datetime.strptime(radar_start_datetimestamp, '%Y%m%d%H%M%S')\n",
    "datetime_end = datetime.strptime(radar_end_datetimestamp, '%Y%m%d%H%M%S')\n",
    "\n",
    "radar_basedir = \\\n",
    "    '/Volumes/scr_fast/Projects/VORTEXSE/obsdata/2016/NEXRAD/IOP_4C/GWX/'\n",
    "gridded_output_dir = os.path.join(radar_basedir, 'gridded')\n",
    "if not os.path.exists(gridded_output_dir):\n",
    "    os.makedirs(gridded_output_dir)\n",
    "plot_dir = os.path.join(gridded_output_dir, 'plots')\n",
    "if not os.path.exists(plot_dir):\n",
    "    os.makedirs(plot_dir)\n",
    "\n",
    "radar_start_timestamp = datetime_start.strftime('%Y%m%d%H%M')\n",
    "radar_end_timestamp = datetime_end.strftime('%Y%m%d%H%M')\n",
    "\n",
    "level2_dir = os.path.join(radar_basedir, 'level2')\n",
    "level2_files = sorted(glob(level2_dir + '/*.ar2v'))\n",
    "if len(level2_files) == 0:\n",
    "    level2_files = sorted(glob(level2_dir + '/*V06'))\n",
    "\n",
    "level2_files_to_read = []\n",
    "for level2_file in level2_files:\n",
    "    radar_file_timestamp = os.path.basename(level2_file)[4:19]\n",
    "    radar_file_datetime = datetime.strptime(radar_file_timestamp, '%Y%m%d_%H%M%S')\n",
    "    if radar_file_datetime >= datetime_start and radar_file_datetime <= datetime_end:\n",
    "        level2_files_to_read.append(level2_file)\n",
    "        print(os.path.basename(level2_file))"
   ]
  },
  {
   "cell_type": "code",
   "execution_count": null,
   "metadata": {
    "ExecuteTime": {
     "end_time": "2021-09-21T15:36:32.063645Z",
     "start_time": "2021-09-21T15:36:31.395880Z"
    }
   },
   "outputs": [],
   "source": [
    "# Read PIPS locations from file to generate appropriate bounding box for grid\n",
    "deployment = 'IOP4C_D1_2016'\n",
    "PIPS_list = ['PIPS1B', 'PIPS2A', 'PIPS2B']\n",
    "PIPS_data_dir = '/Volumes/scr_fast/Projects/VORTEXSE/obsdata/full_PIPS_dataset_RB15'\n",
    "\n",
    "PIPS_ds_list = []\n",
    "PIPS_locs = []\n",
    "\n",
    "for PIPS in PIPS_list:\n",
    "    PIPS_filename = 'parsivel_combined_{}_{}_60s.nc'.format(deployment, PIPS)\n",
    "    PIPS_filepath = os.path.join(PIPS_data_dir, PIPS_filename)\n",
    "    PIPS_ds = xr.load_dataset(PIPS_filepath)\n",
    "    PIPS_ds_list.append(PIPS_ds)\n",
    "    PIPS_loc = eval(PIPS_ds.location)\n",
    "    PIPS_locs.append(PIPS_loc)"
   ]
  },
  {
   "cell_type": "code",
   "execution_count": null,
   "metadata": {
    "ExecuteTime": {
     "end_time": "2021-09-21T15:36:32.718376Z",
     "start_time": "2021-09-21T15:36:32.611024Z"
    }
   },
   "outputs": [],
   "source": [
    "for PIPS_ds in PIPS_ds_list:\n",
    "    print(PIPS_ds['KGWX_beam_height_at_PIPS'].mean())"
   ]
  },
  {
   "cell_type": "code",
   "execution_count": null,
   "metadata": {
    "ExecuteTime": {
     "end_time": "2021-09-21T16:05:25.759020Z",
     "start_time": "2021-09-21T16:05:25.645087Z"
    }
   },
   "outputs": [],
   "source": [
    "# Set up grid limits and spacing\n",
    "\n",
    "# Find PIPS locations in radar coordinates\n",
    "# PIPS_rad_locs = []\n",
    "# for PIPS_loc in PIPS_locs:\n",
    "#     rad_loc = radar.get_PIPS_loc_relative_to_radar(PIPS_loc, radar_lat, radar_lon, radar_alt)\n",
    "#     PIPS_rad_locs.append(rad_loc)\n",
    "\n",
    "# PIPS_x = [PIPS_rad_loc[0] for PIPS_rad_loc in PIPS_rad_locs]\n",
    "# PIPS_y = [PIPS_rad_loc[1] for PIPS_rad_loc in PIPS_rad_locs]\n",
    "# min_PIPS_x = round(min(PIPS_x))\n",
    "# max_PIPS_x = round(max(PIPS_x))\n",
    "# min_PIPS_y = round(min(PIPS_y))\n",
    "# max_PIPS_y = round(max(PIPS_y))\n",
    "\n",
    "# xmargin = 75000.\n",
    "# ymargin = 75000.\n",
    "\n",
    "# xmin = min_PIPS_x - xmargin\n",
    "# xmax = max_PIPS_x + xmargin\n",
    "# ymin = min_PIPS_y - ymargin\n",
    "# ymax = min_PIPS_y + ymargin\n",
    "\n",
    "xmin = -123000.\n",
    "xmax = 123000.\n",
    "dx = 500.\n",
    "nx = int((xmax - xmin) / dx) + 1\n",
    "\n",
    "ymin = -123000.\n",
    "ymax = 123000.\n",
    "dy = 500.\n",
    "ny = int((ymax - ymin) / dy) + 1\n",
    "\n",
    "zmin = height\n",
    "zmax = height\n",
    "dz = 100.\n",
    "nz = int((zmax - zmin) / dz) + 1\n",
    "print(nx, ny, nz)"
   ]
  },
  {
   "cell_type": "code",
   "execution_count": null,
   "metadata": {
    "ExecuteTime": {
     "end_time": "2021-09-21T16:05:53.847387Z",
     "start_time": "2021-09-21T16:05:41.363426Z"
    }
   },
   "outputs": [],
   "source": [
    "# Test first radar file\n",
    "\n",
    "print(level2_files_to_read[0])\n",
    "\n",
    "radar = pyart.io.read_nexrad_archive(level2_files_to_read[0])\n",
    "\n",
    "grid = pyart.map.grid_from_radars(\n",
    "    (radar,),\n",
    "    grid_shape=(nz, ny, nx),\n",
    "    grid_limits=((zmin, zmax), (ymin, ymax), (xmin, xmax)),\n",
    "    fields=['differential_reflectivity', 'reflectivity', 'cross_correlation_ratio'],\n",
    "    weighting_function='Barnes2')\n",
    "\n",
    "grid_xr = grid.to_xarray()\n",
    "# DTD: note that for some reason the conversion to xarray does not preserve the altitude of the grid origin,\n",
    "# so add it back here as an attribute. Also, create a new coordinate \"alt\" that is the height of the grid points\n",
    "# above sea level\n",
    "origin_altitude = grid.origin_altitude['data'].item()\n",
    "grid_xr.attrs['origin_altitude'] = origin_altitude\n",
    "grid_xr = grid_xr.assign_coords(alt=grid_xr.coords['z'] + origin_altitude)\n",
    "print(grid_xr)"
   ]
  },
  {
   "cell_type": "code",
   "execution_count": null,
   "metadata": {
    "ExecuteTime": {
     "end_time": "2021-09-21T16:05:55.227670Z",
     "start_time": "2021-09-21T16:05:54.434909Z"
    }
   },
   "outputs": [],
   "source": [
    "# This seems to broken owing to a possible bug in cartopy with the call to pcolormesh... not sure how to fix it\n",
    "# right now\n",
    "\n",
    "display = pyart.graph.GridMapDisplay(grid)\n",
    "\n",
    "# create the plot\n",
    "projection = ccrs.PlateCarree()\n",
    "fig = plt.figure(figsize=(10,10))\n",
    "ax = plt.axes(projection=projection)\n",
    "x, y = np.meshgrid(grid_xr['lon'], grid_xr['lat'])\n",
    "dBZ = grid_xr['reflectivity'][0, 0]\n",
    "print(x.shape, y.shape, dBZ.shape)\n",
    "\n",
    "pm = ax.pcolormesh(x, y, grid_xr['reflectivity'][0, 0], vmin=0, vmax=55)\n",
    "# ax.imshow(grid.fields['reflectivity']['data'][0], origin='lower')\n",
    "# display.plot_grid('reflectivity', 0, vmin=0, vmax=55, projection=projection, cmap=\"pyart_HomeyerRainbow\", ax=ax)\n",
    "#plt.xlim(-86.7, -85.3)\n",
    "#plt.ylim(34.0, 36.0)\n",
    "#start_time = '2017-04-30T20:45'\n",
    "#end_time = '2017-04-30T20:45'\n",
    "#plt.title('HTX Time {}'.format(start_time))\n",
    "\n",
    "# Read in the file, create a RadarMapDisplay object\n",
    "# fmcw_data_dir = '/Users/terrell8/sshfs_mounts/depot/data/Projects/VORTEXSE/obsdata/2017/FMCW/0430'\n",
    "\n",
    "# Indicate the radar location with a point\n",
    "# FMCW_lat = 34.3352\n",
    "# FMCW_lon = -87.2024\n",
    "# ax.plot([FMCW_lon], [FMCW_lat], color='black', marker='o', transform=ccrs.PlateCarree())\n"
   ]
  },
  {
   "cell_type": "code",
   "execution_count": null,
   "metadata": {
    "ExecuteTime": {
     "end_time": "2021-09-21T16:11:24.918591Z",
     "start_time": "2021-09-21T16:05:55.798722Z"
    },
    "scrolled": true
   },
   "outputs": [],
   "source": [
    "# Create gridded radar objects and dump to disk\n",
    "for i, f in enumerate(level2_files_to_read):\n",
    "    print(\"On file {:d} of {:d} ({:.2f}%)\".format(i+1, len(level2_files), (i+1)/len(level2_files)*100.))\n",
    "    print(\"Reading {}\".format(os.path.basename(f)))\n",
    "    radar = pyart.io.read_nexrad_archive(f)\n",
    "    output_file = os.path.basename(f)[:-5]+\"_gridded.nc\"\n",
    "    output_path = os.path.join(gridded_output_dir, output_file)\n",
    "    \n",
    "    print(\"Mapping to grid!\")\n",
    "    grid = pyart.map.grid_from_radars(\n",
    "        (radar,),\n",
    "        grid_shape=(nz, ny, nx),\n",
    "        grid_limits=((zmin, zmax), (ymin, ymax), (xmin, xmax)),\n",
    "        fields=['differential_reflectivity', 'reflectivity', 'cross_correlation_ratio'],\n",
    "        weighting_function='Barnes2')\n",
    "    print(\"Writing {}\".format(output_file))\n",
    "    pyart.io.write_grid(output_path, grid, arm_time_variables=True, arm_alt_lat_lon_variables=True, \n",
    "                        write_point_x_y_z=True, write_point_lon_lat_alt=True)\n"
   ]
  },
  {
   "cell_type": "code",
   "execution_count": null,
   "metadata": {},
   "outputs": [],
   "source": []
  },
  {
   "cell_type": "code",
   "execution_count": null,
   "metadata": {},
   "outputs": [],
   "source": []
  },
  {
   "cell_type": "code",
   "execution_count": null,
   "metadata": {},
   "outputs": [],
   "source": [
    "\n"
   ]
  }
 ],
 "metadata": {
  "hide_input": false,
  "kernelspec": {
   "display_name": "Python [conda env:pyPIPS]",
   "language": "python",
   "name": "conda-env-pyPIPS-py"
  },
  "language_info": {
   "codemirror_mode": {
    "name": "ipython",
    "version": 3
   },
   "file_extension": ".py",
   "mimetype": "text/x-python",
   "name": "python",
   "nbconvert_exporter": "python",
   "pygments_lexer": "ipython3",
   "version": "3.10.11"
  },
  "toc": {
   "base_numbering": 1,
   "nav_menu": {},
   "number_sections": true,
   "sideBar": true,
   "skip_h1_title": false,
   "title_cell": "Table of Contents",
   "title_sidebar": "Contents",
   "toc_cell": false,
   "toc_position": {},
   "toc_section_display": true,
   "toc_window_display": false
  },
  "varInspector": {
   "cols": {
    "lenName": 16,
    "lenType": 16,
    "lenVar": 40
   },
   "kernels_config": {
    "python": {
     "delete_cmd_postfix": "",
     "delete_cmd_prefix": "del ",
     "library": "var_list.py",
     "varRefreshCmd": "print(var_dic_list())"
    },
    "r": {
     "delete_cmd_postfix": ") ",
     "delete_cmd_prefix": "rm(",
     "library": "var_list.r",
     "varRefreshCmd": "cat(var_dic_list()) "
    }
   },
   "types_to_exclude": [
    "module",
    "function",
    "builtin_function_or_method",
    "instance",
    "_Feature"
   ],
   "window_display": false
  }
 },
 "nbformat": 4,
 "nbformat_minor": 2
}
