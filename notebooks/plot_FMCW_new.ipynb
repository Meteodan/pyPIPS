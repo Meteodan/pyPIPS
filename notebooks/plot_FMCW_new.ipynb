{
 "cells": [
  {
   "cell_type": "code",
   "execution_count": null,
   "metadata": {
    "ExecuteTime": {
     "end_time": "2020-10-04T19:23:01.233267Z",
     "start_time": "2020-10-04T19:23:00.757842Z"
    }
   },
   "outputs": [],
   "source": [
    "from glob import glob\n",
    "import os\n",
    "import itertools\n",
    "import numpy as np\n",
    "import matplotlib\n",
    "import matplotlib.pyplot as plt\n",
    "import matplotlib.cm as cm\n",
    "from mpl_toolkits.axes_grid1 import ImageGrid, make_axes_locatable, host_subplot\n",
    "import matplotlib.ticker as ticker\n",
    "from matplotlib.collections import Collection, LineCollection\n",
    "from matplotlib.artist import allow_rasterization\n",
    "from matplotlib.font_manager import FontProperties\n",
    "from matplotlib.colors import LinearSegmentedColormap\n",
    "import matplotlib.dates as md\n",
    "import matplotlib.ticker as ticker\n",
    "from metpy.plots import ctables\n",
    "#from pyPIPS import disdrometer_module as dis\n",
    "from pyPIPS import pips_io as pipsio\n",
    "from pyPIPS import timemodule as tm\n",
    "from pyPIPS.utils import mtokm, getTimeWindow, interp_along_1D\n",
    "from pyPIPS import plotmodule as pm\n",
    "from pyPIPS import PIPS as pips\n",
    "from pyPIPS import fmcw\n",
    "from pyPIPS import DSDlib as dsd\n",
    "from itertools import cycle\n",
    "import netCDF4 as netcdf\n",
    "from datetime import datetime, timedelta\n",
    "import pandas as pd\n",
    "import xarray as xr\n",
    "from skimage.restoration import unwrap_phase\n",
    "import skimage.feature as SF\n",
    "import numpy.ma as ma\n",
    "from scipy import ndimage, interpolate\n",
    "%load_ext autoreload\n",
    "%autoreload 2\n",
    "%matplotlib inline\n",
    "# plt.rcParams[\"figure.figsize\"] = (20,10)\n",
    "# fmcw.plot_fmcw_4panel_xarray(fmcw_merged_dataset)"
   ]
  },
  {
   "cell_type": "code",
   "execution_count": null,
   "metadata": {
    "ExecuteTime": {
     "end_time": "2020-10-03T19:49:23.496520Z",
     "start_time": "2020-10-03T19:49:23.255165Z"
    },
    "scrolled": false
   },
   "outputs": [],
   "source": [
    "fmcw_data_base_dir = '/Volumes/scr_fast/Projects/VORTEXSE/obsdata/2017/FMCW'\n",
    "\n",
    "# Uncomment below for March 27th, 2017 case\n",
    "date = '0327'\n",
    "starttimestring = '201703271900'\n",
    "endtimestring = '201703272200'\n",
    "\n",
    "# Uncomment below for April 30th, 2017 case\n",
    "# date = '0430'\n",
    "# starttimestring = '201704302000'\n",
    "# endtimestring = '201704302359\n",
    "\n",
    "# Create datetime objects for start and end times\n",
    "datetime_start = datetime.strptime(starttimestring, '%Y%m%d%H%M%S')\n",
    "datetime_end = datetime.strptime(endtimestring, '%Y%m%d%H%M%S')\n",
    "\n",
    "# Create strings for start and end times formatted differently\n",
    "starttimestring2 = datetime_start.strftime('%Y-%m-%dT%H:%M')\n",
    "endtimestring2 = datetime_end.strftime('%Y-%m-%dT%H:%M')\n",
    "\n",
    "fmcw_data_dir = os.path.join(fmcw_data_base_dir, date)\n",
    "\n",
    "# Read in previously merged, dealiased, and corrected (for reflectivity bias) FMCW dataset\n",
    "fmcw_filename = 'fmcw_merged_corrected_resampled_{}_{}.nc'.format(starttimestring, endtimestring)\n",
    "fmcw_filepath = os.path.join(fmcw_data_dir, fmcw_filename)\n",
    "fmcw_dataset = xr.open_dataset(fmcw_filepath)\n",
    "\n",
    "print(fmcw_dataset)"
   ]
  },
  {
   "cell_type": "code",
   "execution_count": null,
   "metadata": {
    "ExecuteTime": {
     "end_time": "2020-10-03T19:49:50.625455Z",
     "start_time": "2020-10-03T19:49:50.137370Z"
    },
    "scrolled": true
   },
   "outputs": [],
   "source": [
    "# Read in previously subsetted (to between start and end times) PIPS data\n",
    "PIPS_data_dir = '/Volumes/scr_fast/Projects/VORTEXSE/obsdata/full_PIPS_dataset_RB15/subsets'\n",
    "hour_min_start_string = datetime_start.strftime('%H%M')\n",
    "hour_min_end_string = datetime_end.strftime('%H%M')\n",
    "PIPS_filename = 'parsivel_combined_FMCW_2017_{}17_PIPS2A_60s_{}-{}.nc'.format(date, hour_min_start_string,\n",
    "                                                                              hour_min_end_string)\n",
    "PIPS_filepath = os.path.join(PIPS_data_dir, PIPS_filename)\n",
    "PIPS_ds = xr.load_dataset(PIPS_filepath)\n",
    "print(PIPS_ds)"
   ]
  },
  {
   "cell_type": "code",
   "execution_count": null,
   "metadata": {
    "ExecuteTime": {
     "end_time": "2020-10-03T19:49:51.758098Z",
     "start_time": "2020-10-03T19:49:51.679152Z"
    },
    "scrolled": false
   },
   "outputs": [],
   "source": [
    "# # Resample FMCW dataset to PIPS times\n",
    "# fmcw_resampled_ds = fmcw_dataset.resample(time='10S').interpolate()\n",
    "# print(fmcw_resampled_ds)\n",
    "# fmcw_ds_rolling = fmcw_resampled_ds.rolling(time=6)\n",
    "# fmcw_resampled_ds = fmcw_ds_rolling.mean()\n",
    "# print(fmcw_resampled_ds)"
   ]
  },
  {
   "cell_type": "code",
   "execution_count": null,
   "metadata": {
    "ExecuteTime": {
     "end_time": "2020-10-03T19:49:52.356489Z",
     "start_time": "2020-10-03T19:49:52.280579Z"
    }
   },
   "outputs": [],
   "source": [
    "# fmcw_resampled_at_PIPS_ds = fmcw_resampled_ds.interp_like(PIPS_ds)"
   ]
  },
  {
   "cell_type": "code",
   "execution_count": null,
   "metadata": {
    "ExecuteTime": {
     "end_time": "2020-10-03T19:49:52.966258Z",
     "start_time": "2020-10-03T19:49:52.886548Z"
    },
    "scrolled": false
   },
   "outputs": [],
   "source": [
    "# fmcw_resampled_at_PIPS_ds.attrs = fmcw_dataset.attrs\n",
    "# print(fmcw_resampled_at_PIPS_ds)\n",
    "# fmcw.plot_fmcw_4panel_xarray(fmcw_resampled_at_PIPS_ds)"
   ]
  },
  {
   "cell_type": "code",
   "execution_count": null,
   "metadata": {
    "ExecuteTime": {
     "end_time": "2020-10-03T19:49:54.121496Z",
     "start_time": "2020-10-03T19:49:54.045395Z"
    }
   },
   "outputs": [],
   "source": [
    "# fmcw_out_filename = 'fmcw_merged_corrected_resampled_{}_{}.nc'.format(starttimestring, endtimestring)\n",
    "# fmcw_filepath = os.path.join(fmcw_data_dir, fmcw_out_filename)\n",
    "# fmcw_resampled_at_PIPS_ds.to_netcdf(fmcw_filepath)"
   ]
  },
  {
   "cell_type": "code",
   "execution_count": null,
   "metadata": {
    "ExecuteTime": {
     "end_time": "2020-10-03T19:49:57.863817Z",
     "start_time": "2020-10-03T19:49:55.252009Z"
    },
    "scrolled": false
   },
   "outputs": [],
   "source": [
    "import pyPIPS.parsivel_params as pp\n",
    "import pyPIPS.polarimetric as dp\n",
    "min_diameter = pp.parsivel_parameters['min_diameter_bins_mm']\n",
    "max_diameter = pp.parsivel_parameters['max_diameter_bins_mm']\n",
    "bin_width = max_diameter - min_diameter\n",
    "avg_diameter = pp.parsivel_parameters['avg_diameter_bins_mm']\n",
    "min_fall_bins = pp.parsivel_parameters['min_fallspeed_bins_mps']\n",
    "max_fall_bins = pp.parsivel_parameters['max_fallspeed_bins_mps']\n",
    "avg_fall_bins = pp.parsivel_parameters['avg_fallspeed_bins_mps']\n",
    "\n",
    "vd_matrix_da = PIPS_ds['VD_matrix_qc']\n",
    "ND = PIPS_ds['ND_qc']\n",
    "logND = np.log10(ND)\n",
    "\n",
    "# conv_df = pips.calc_thermo(conv_df)\n",
    "# # empirical_fallspeed = pips.calc_empirical_fallspeed(avg_diameter)\n",
    "# fallspeed_spectrum = pips.calc_fallspeed_spectrum(avg_diameter, avg_fall_bins, correct_rho=True,\n",
    "#                                                   rho=conv_df['rho'])\n",
    "# vd_matrix_da = vd_matrix_da.where(vd_matrix_da > 0.0)\n",
    "# ND = pips.calc_ND(vd_matrix_da, fallspeed_spectrum, 10.)\n",
    "# ND = ND.T\n",
    "# logND = np.log10(ND)\n",
    "# logND = \n",
    "\n",
    "PSD_datetimes = pips.get_PSD_datetimes(vd_matrix_da)\n",
    "PSD_datetimes_dict = pips.get_PSD_time_bins(PSD_datetimes)\n",
    "\n",
    "PSD_edgetimes = md.date2num(PSD_datetimes_dict['PSD_datetimes_edges'])\n",
    "PSD_centertimes = md.date2num(PSD_datetimes_dict['PSD_datetimes_centers'])\n",
    "\n",
    "# ND = PIPS_dict['ND'].T\n",
    "# logND = ma.log10(ND)\n",
    "# DSD_index = PIPS_dict['DSD_index']\n",
    "# DSD_interval = PIPS_dict['DSD_interval']\n",
    "# DSD_interval_td = timedelta(seconds=DSD_interval)\n",
    "# DSD_halfinterval_td = timedelta(seconds=DSD_interval / 2.)\n",
    "\n",
    "# Determine start and end times/indices for analysis\n",
    "# PSDtimestamps = PIPS_dict['PSDtimestamps']\n",
    "# PSDtimestampsnums = md.date2num(PSDtimestamps)\n",
    "\n",
    "#     plotstarttime = starttime\n",
    "#     plotstoptime = stoptime\n",
    "\n",
    "# pstartindex, pstopindex = getTimeWindow(starttimestring, endtimestring, PSDtimestampsnums)\n",
    "\n",
    "# pstarttime = PSDtimestampsnums[pstartindex]\n",
    "# pstoptime = PSDtimestampsnums[pstopindex]\n",
    "\n",
    "# plotstarttime = pstarttime\n",
    "# plotstoptime = pstoptime\n",
    "\n",
    "# PSDtimestamps_edge = [x - DSD_interval_td for x in PSDtimestamps]\n",
    "# # Add an extra 10 sec for the last time bin boundary\n",
    "# PSDtimestamps_edge.append(PSDtimestamps_edge[-1] + DSD_interval_td)\n",
    "# PSDtimestamps_avg = [x - DSD_halfinterval_td for x in PSDtimestamps]\n",
    "# PSDstarttimes = md.date2num(PSDtimestamps_edge[pstartindex:pstopindex + 1])\n",
    "# PSDmidtimes = md.date2num(PSDtimestamps_avg[pstartindex:pstopindex + 1])\n",
    "\n",
    "scattfile = '/Users/dawson29/Projects/pyPIPS/tmatrix/FMCW/SCTT_RAIN_fw100.dat'\n",
    "# Observed DSD: TODO, need to make ND, ND_expDSD, and ND_gamDSD have consistent units!\n",
    "dualpol_dis = dp.calpolrain(15.0, scattfile, ND, bin_width)\n",
    "#print(dualpol_dis)\n",
    "dis_ref = dualpol_dis.get('REF', np.empty((0)))\n",
    "logND_plot = logND.T\n",
    "disvars = {'min_diameter': min_diameter, 'PSDstarttimes': PSD_edgetimes,\n",
    "           'PSDmidtimes': PSD_centertimes, 'logND': logND_plot}\n",
    "disvars['REF'] = dis_ref\n",
    "\n",
    "# Quick and dirty rayleigh scattering approximation\n",
    "\n",
    "M6 = []\n",
    "print(ND.shape)\n",
    "for t in range(ND.shape[0]):\n",
    "    temp_M6 = ((avg_diameter[:] / 1000.)**6.) * (1000. * ND[t, :]) * bin_width[:] / 1000.\n",
    "    temp_M6 = np.nansum(temp_M6)\n",
    "    M6.append(temp_M6)\n",
    "\n",
    "M6 = np.array(M6, dtype=np.float64)\n",
    "refl_disd = 10.0 * np.log10(1e18 * M6)\n",
    "#disvars['dBZ'] = refl_disd\n",
    "\n",
    "# fig, ax = plt.subplots(figsize=(8, 3))\n",
    "\n",
    "# ax.plot(PSD_centertimes, disvars['dBZ'])\n",
    "\n",
    "radz = 500. # (m) Height of FMCW gate to plot\n",
    "radzindex = int(radz/5.)\n",
    "\n",
    "plotx_rad = fmcw_dataset['time'].values\n",
    "#dBZ_D_plt = fmcw_merged_dataset['Ze'].values[:, radzindex] + 10.**(2.*7.3/10.)\n",
    "dBZ_D_plt = fmcw_dataset['Ze_corr'].values[:, radzindex]\n",
    "\n",
    "\n",
    "# print(fmcw_merged_dataset['height'][radzindex])\n",
    "# print(fmcw_merged_dataset['Ze_corr'][:, radzindex])\n",
    "\n",
    "# fmcw_merged_dataset['Ze'][:, radzindex].plot()\n",
    "\n",
    "# print(dBZ_D_plt)\n",
    "\n",
    "radvars = {'radmidtimes': plotx_rad, 'REF': dBZ_D_plt}\n",
    "\n",
    "# Prepare axis parameters\n",
    "# timelimits = [md.date2num(datetime.strptime(starttimestring, tm.timefmt3)),\n",
    "#               md.date2num(datetime.strptime(endtimestring, tm.timefmt3))]\n",
    "# timelimits = [md.date2num(datetime.strptime('20170430203000', tm.timefmt3)),\n",
    "#               md.date2num(datetime.strptime('20170430210000', tm.timefmt3))]\n",
    "# Set up axis parameters\n",
    "start_time = '20170327200000'\n",
    "end_time = '20170327204500'\n",
    "try:\n",
    "    start_datetime = datetime.strptime(start_time, tm.timefmt3)\n",
    "    print('start_datetime', start_datetime)\n",
    "except (ValueError, TypeError):\n",
    "    start_datetime = PSD_edgetimes[0]\n",
    "try:\n",
    "    end_datetime = datetime.strptime(end_time, tm.timefmt3)\n",
    "    print('end_datetime', end_datetime)\n",
    "except (ValueError, TypeError):\n",
    "    end_datetime = PSD_edgetimes[-1]\n",
    "timelimits = [start_datetime, end_datetime]\n",
    "diamlimits = [0.0, 9.0]\n",
    "diamytick = 1.0\n",
    "\n",
    "locator = md.MinuteLocator(byminute=np.arange(0., 65., 5.))# md.HourLocator(interval=1)\n",
    "minorlocator = md.MinuteLocator(byminute=np.arange(0., 61., 1.))\n",
    "# minorlocator = md.HourLocator(interval=1)\n",
    "#dateformat = '%d/%H'\n",
    "dateformat = '%H:%M'\n",
    "formatter = md.DateFormatter(dateformat)\n",
    "axparams = {'majorxlocator': locator, 'majorxformatter': formatter,\n",
    "            'minorxlocator': minorlocator,\n",
    "            'axeslimits': [timelimits, diamlimits],\n",
    "            'majorylocator': ticker.MultipleLocator(base=diamytick),\n",
    "            'axeslabels': [None, 'D (mm)']}\n",
    "\n",
    "            # Ok, now we should have everything ready to go to plot the meteograms.\n",
    "            # Let'er rip!\n",
    "meteogram_image_dir = './'\n",
    "dis_plot_name = 'PIPS2A_observed'\n",
    "pm.plotDSDmeteograms(dis_plot_name, meteogram_image_dir,\n",
    "                     axparams, disvars, radvars.copy(), close_fig=False)"
   ]
  },
  {
   "cell_type": "code",
   "execution_count": null,
   "metadata": {
    "ExecuteTime": {
     "end_time": "2020-10-03T19:50:02.792968Z",
     "start_time": "2020-10-03T19:50:02.407146Z"
    },
    "scrolled": false
   },
   "outputs": [],
   "source": [
    "dBZ_D_plt = fmcw_dataset['Ze_corr'].sel(time=slice('2017-03-27T20:00', '2017-03-27T20:45'))\n",
    "dBZ_D_plt.sel(height=[500., 750., 1000., 1250., 1500.]).plot.line(x='time')"
   ]
  },
  {
   "cell_type": "code",
   "execution_count": null,
   "metadata": {
    "ExecuteTime": {
     "end_time": "2020-10-03T19:52:53.728831Z",
     "start_time": "2020-10-03T19:52:53.208395Z"
    }
   },
   "outputs": [],
   "source": [
    "fmcw_dataset_2000_2045 = fmcw_dataset.sel(\n",
    "    time=slice('2017-03-27T20:00', '2017-03-27T20:45'))\n",
    "\n",
    "print(fmcw_dataset_2000_2045)\n",
    "\n",
    "fig, ax = plt.subplots(figsize=(10, 10))\n",
    "\n",
    "# Reflectivity (Ze)\n",
    "#     m1 = ax[0, 0].pcolormesh(UTCtime, height/1000., Ze.T,cmap=plasma_white, \\\n",
    "#                              vmin=-30., vmax=30.)\n",
    "\n",
    "m1 = fmcw_dataset_2000_2045['Ze_corr'].plot(x='time', y='height', ax=ax, \n",
    "                                            cmap=fmcw.plasma_white, vmin=-20., vmax=60.)\n",
    "\n",
    "ax.set_title(\"(a) \" + fmcw_dataset_2000_2045['Zef_corr'].name + \" (dBZ)\")\n",
    "ax.set_ylim(fmcw_dataset_2000_2045['height'].min(), \n",
    "            fmcw_dataset_2000_2045['height'].max())\n",
    "# ax[0, 0].xaxis.set_major_locator(md.MinuteLocator(byminute=range(0, 60, 10)))\n",
    "# ax[0, 0].xaxis.set_major_formatter(md.DateFormatter('%H:%M'))\n",
    "ax.yaxis.set_major_formatter(ticker.FuncFormatter(mtokm))\n",
    "#plt.xticks(rotation=30)\n",
    "#ax[0, 0].set_xlabel(\"Time (UTC)\")\n",
    "ax.set_ylabel(\"Height (km AGL)\")\n",
    "# plt.colorbar(m1,ax=ax[0, 0])\n",
    "\n",
    "#     # Dealiased Doppler (vertical) velocity (vel_da)\n",
    "\n",
    "#     m2 = dataset['vel_da'].plot(x='time', y='height', ax=ax[0, 1], cmap=cm.RdBu_r,\n",
    "#                                 vmin=-2.*np.ceil(dataset.Vmax), vmax=2.*np.ceil(dataset.Vmax))\n",
    "\n",
    "# #     m2 = ax[0, 1].pcolormesh(UTCtime,height/1000., vel.T, cmap=cm.RdBu_r, \\\n",
    "# #                              vmin=-1.*np.ceil(Vmax), vmax=np.ceil(Vmax))\n",
    "\n",
    "#     ax[0, 1].set_title(\"(b) \" + dataset['vel_da'].name + r\" (m s$^{-1}$)\")\n",
    "#     ax[0, 1].set_ylim(dataset['height'].min(), dataset['height'].max())\n",
    "#     # ax[0, 1].xaxis.set_major_locator(md.MinuteLocator(byminute=range(0, 60, 10)))\n",
    "#     # ax[0, 1].xaxis.set_major_formatter(md.DateFormatter('%H:%M'))\n",
    "#     ax[0, 1].yaxis.set_major_formatter(ticker.FuncFormatter(mtokm))\n",
    "#     #plt.xticks(rotation=30)\n",
    "#     #ax[0, 1].set_xlabel(\"Time (UTC)\")\n",
    "#     #ax[0, 1].set_ylabel(\"Height (km AGL)\")\n",
    "#     # plt.colorbar(m2,ax=ax[0, 1])"
   ]
  },
  {
   "cell_type": "code",
   "execution_count": null,
   "metadata": {
    "ExecuteTime": {
     "end_time": "2020-10-03T21:03:39.073592Z",
     "start_time": "2020-10-03T21:03:37.608710Z"
    }
   },
   "outputs": [],
   "source": [
    "fig, ax = plt.subplots(figsize=(10, 10))\n",
    "\n",
    "m1 = fmcw_dataset_2000_2045['Ze_corr'].plot(x='time', y='height', ax=ax, \n",
    "                                       cmap=fmcw.plasma_white, vmin=-20., vmax=60.)\n",
    "\n",
    "ax.set_title(\"(a) \" + fmcw_dataset_2000_2045['Ze_corr'].name + \" (dBZ)\")\n",
    "ax.set_ylim(fmcw_dataset_2000_2045['height'].min(), \n",
    "            fmcw_dataset_2000_2045['height'].max())\n",
    "# ax[0, 0].xaxis.set_major_locator(md.MinuteLocator(byminute=range(0, 60, 10)))\n",
    "# ax[0, 0].xaxis.set_major_formatter(md.DateFormatter('%H:%M'))\n",
    "ax.yaxis.set_major_formatter(ticker.FuncFormatter(mtokm))\n",
    "#plt.xticks(rotation=30)\n",
    "#ax[0, 0].set_xlabel(\"Time (UTC)\")\n",
    "ax.set_ylabel(\"Height (km AGL)\")\n",
    "\n",
    "\n",
    "fig, ax = plt.subplots(figsize=(10, 10))\n",
    "\n",
    "Zef = fmcw_dataset_2000_2045['Zef_corr']\n",
    "Zef_lin = 10.**(Zef / 10.)\n",
    "Ze_lin = Zef_lin.sum(dim='vels') # * 2. * fmcw_dataset.Vmax\n",
    "Ze2 = 10. * np.log10(Ze_lin)\n",
    "\n",
    "m1 = Ze2.plot(x='time', y='height', ax=ax, cmap=fmcw.plasma_white, vmin=-20., vmax=60.)\n",
    "\n",
    "ax.set_title(\"(a) \" + fmcw_dataset_2000_2045['Ze_corr'].name + \" (derived, dBZ)\")\n",
    "ax.set_ylim(fmcw_dataset_2000_2045['height'].min(), \n",
    "            fmcw_dataset_2000_2045['height'].max())\n",
    "# ax[0, 0].xaxis.set_major_locator(md.MinuteLocator(byminute=range(0, 60, 10)))\n",
    "# ax[0, 0].xaxis.set_major_formatter(md.DateFormatter('%H:%M'))\n",
    "ax.yaxis.set_major_formatter(ticker.FuncFormatter(mtokm))\n",
    "#plt.xticks(rotation=30)\n",
    "#ax[0, 0].set_xlabel(\"Time (UTC)\")\n",
    "ax.set_ylabel(\"Height (km AGL)\")\n",
    "\n"
   ]
  },
  {
   "cell_type": "code",
   "execution_count": null,
   "metadata": {
    "ExecuteTime": {
     "end_time": "2020-10-03T21:27:59.658696Z",
     "start_time": "2020-10-03T21:27:58.698065Z"
    }
   },
   "outputs": [],
   "source": [
    "vbins = fmcw_dataset['vels']\n",
    "vbins_dealias = vbins - vbins[-1]\n",
    "fmcw_dataset.coords['vels_dealiased'] = ('vels', vbins_dealias)\n",
    "#print(fmcw_merged_resampled_at_PIPS_ds)\n",
    "Zef_corr = fmcw_dataset['Zef_corr']\n",
    "Zef = fmcw_dataset['Zef']\n",
    "time_to_plot = '2017-03-27T20:19'\n",
    "#print(Zef_corr)\n",
    "#print(Zef_corr.loc['2017-04-30T22:30':'2017-04-30T22:31'])\n",
    "Zef_corr_onetime = Zef_corr.sel(time=time_to_plot)\n",
    "Zef_onetime = Zef.sel(time=time_to_plot)\n",
    "# print(Zef_corr_2230)\n",
    "Zef_corr_onetime = Zef_corr_onetime.roll(vels=128, roll_coords=False)\n",
    "Zef_onetime = Zef_onetime.roll(vels=128, roll_coords=False)\n",
    "#delta_v = Zef_corr_onetime.vels[1] - Zef_corr_onetime.vels[0]\n",
    "#print(2. / delta_v)\n",
    "#shift = int(2. / delta_v)\n",
    "#print(shift)\n",
    "#Zef_corr_onetime = Zef_corr_onetime.roll(vels=shift, roll_coords=False)\n",
    "height_to_plot = 500.\n",
    "Zef_corr_onetime_oneheight = Zef_corr_onetime.sel(height=height_to_plot)\n",
    "Zef_onetime_oneheight = Zef_onetime.sel(height=height_to_plot)\n",
    "fig, ax = plt.subplots(figsize=(10, 10))\n",
    "Zef_corr_onetime.plot(x='vels_dealiased', y='height', vmin=-20, vmax=40, ax=ax)\n",
    "ax.set_ylim(0., 2500.)\n",
    "#fig2, ax2 = plt.subplots()\n",
    "#Zef_corr_2230_shifted.plot(ax=ax2, vmin=-30, vmax=30)\n",
    "fig, ax = plt.subplots()\n",
    "Zef_corr_onetime_oneheight.plot(ax=ax, x='vels_dealiased')\n",
    "\n",
    "#Zef_corr_2230.plot(vmin=0., vmax=40.)"
   ]
  },
  {
   "cell_type": "code",
   "execution_count": null,
   "metadata": {
    "ExecuteTime": {
     "end_time": "2020-10-03T21:28:00.910566Z",
     "start_time": "2020-10-03T21:28:00.602037Z"
    }
   },
   "outputs": [],
   "source": [
    "#print(Zef_corr_onetime_oneheight)\n",
    "# Convert to linear units\n",
    "# Zef_onetime_oneheight = Zef_onetime_oneheight.where(Zef_onetime_oneheight > -99.)\n",
    "Zef_corr_onetime_oneheight.plot(x='vels_dealiased')\n",
    "Zef_lin = 10.**(Zef_corr_onetime_oneheight / 10.)\n",
    "Ze_lin = Zef_lin.sum(dim='vels')\n",
    "Ze = 10. * np.log10(Ze_lin)\n",
    "print(Ze)\n",
    "print(fmcw_dataset['Ze_corr'].sel(time=time_to_plot, height=height))\n",
    "\n"
   ]
  },
  {
   "cell_type": "code",
   "execution_count": null,
   "metadata": {
    "ExecuteTime": {
     "end_time": "2020-10-04T19:26:08.909520Z",
     "start_time": "2020-10-04T19:26:08.278236Z"
    },
    "scrolled": false
   },
   "outputs": [],
   "source": [
    "# Working on forward operator here.\n",
    "\n",
    "print(ND.sel(time=time_to_plot))\n",
    "D = ND['diameter'] / 1000.\n",
    "M6, ZD = dsd.calc_moment_bin(ND, moment=6)\n",
    "dBZ = 10. * np.log10(1.e18 * M6.sel(time=time_to_plot))\n",
    "print(\"dBZ = \", dBZ)\n",
    "dBZD = 10. * np.log10(1.e18 * ZD)\n",
    "ZD_onetime = ZD.sel(time=time_to_plot)\n",
    "dBZD_onetime = dBZD.sel(time=time_to_plot)\n",
    "fig, ax = plt.subplots(figsize=(10, 10))\n",
    "dBZD_onetime.plot(x='diameter', ax=ax)\n",
    "ax.set_xlim(0., 9.)\n",
    "\n",
    "# Calculate terminal fall speeds per diameter bin\n",
    "Vt = -pips.calc_empirical_fallspeed(ND['diameter'])\n",
    "\n",
    "# TODO: rebin N(D), Z(D), etc. into regularly spaced velocity bins. Then can resample to FMCW velocity bins\n",
    "dBZD_onetime.coords['terminal_velocity'] = ('diameter_bin', Vt)\n",
    "fig2, ax2 = plt.subplots(figsize=(10,10))\n",
    "dBZD_onetime.plot(x='terminal_velocity', ax=ax2)"
   ]
  },
  {
   "cell_type": "code",
   "execution_count": null,
   "metadata": {
    "ExecuteTime": {
     "end_time": "2020-10-04T20:24:52.231293Z",
     "start_time": "2020-10-04T20:24:51.872688Z"
    },
    "scrolled": false
   },
   "outputs": [],
   "source": [
    "fmcw_vels = Zef_corr_onetime_oneheight['vels_dealiased'].values\n",
    "fmcw_vel_bin_interval = fmcw_vels[1] - fmcw_vels[0]\n",
    "# Scale ZD by velocity bin widths from parsivel terminal velocities\n",
    "Vt_min = -pips.calc_empirical_fallspeed(ND['min_diameter'])\n",
    "Vt_max = -pips.calc_empirical_fallspeed(ND['max_diameter'])\n",
    "\n",
    "ZD.coords['vels'] = ('diameter_bin', Vt)\n",
    "ZD.coords['min_vels'] = ('diameter_bin', Vt_min)\n",
    "ZD.coords['max_vels'] = ('diameter_bin', Vt_max)\n",
    "\n",
    "Vt = ZD['vels']\n",
    "Vt_min = ZD['min_vels']\n",
    "Vt_max = ZD['max_vels']\n",
    "# print(Vt_min)\n",
    "# print(Vt)\n",
    "# print(Vt_max)\n",
    "p_vel_bin_width = np.abs(Vt_max - Vt_min)\n",
    "# print(p_vel_bin_width)\n",
    "\n",
    "ZD_scaled = ZD / p_vel_bin_width\n",
    "ZD_scaled = ZD_scaled.swap_dims({'diameter_bin': 'vel_bin'})\n",
    "ZD_scaled = ZD_scaled.set_index(vel_bin='min_vels')\n",
    "ZD_scaled_rebinned = ZD_scaled.reindex({'vel_bin': fmcw_vels}, method='pad')\n",
    "ZD_rebinned = ZD_scaled_rebinned * fmcw_vel_bin_interval\n",
    "# ZD_rebinned = ZD_rebinned.swap_dims({'diameter_bin': 'vel_bin'})\n",
    "dBZD = 10. * np.log10(1.e18 * ZD_rebinned)\n",
    "dBZD = dBZD.where(np.isfinite(dBZD))\n",
    "dBZD_onetime = dBZD.sel(time=time_to_plot)\n",
    "fig, ax = plt.subplots(figsize=(10, 10))\n",
    "dBZD_onetime.plot(x='vel_bin', ax=ax)\n",
    "Zef_corr_onetime_oneheight.plot(x='vels_dealiased', ax=ax)\n",
    "ax.set_xlim(-14., 0.)\n",
    "#print(dBZD_onetime)\n",
    "ZD_sum = ZD_rebinned.sum(dim='vel_bin')\n",
    "dBZ_sum = 10. * np.log10(1.e18 * ZD_sum)\n",
    "#print(dBZ_sum.sel(time=time_to_plot))"
   ]
  },
  {
   "cell_type": "code",
   "execution_count": null,
   "metadata": {
    "ExecuteTime": {
     "end_time": "2020-10-05T00:32:07.206049Z",
     "start_time": "2020-10-05T00:32:05.903834Z"
    }
   },
   "outputs": [],
   "source": [
    "time_to_plot = '2017-03-27T20:11'\n",
    "height_to_plot = 500.\n",
    "sn = fmcw_dataset_2000_2045['sn'] / 10.\n",
    "sn_onetime = sn.sel(time=time_to_plot)\n",
    "snr = fmcw_dataset_2000_2045['snr']\n",
    "sff = fmcw_dataset_2000_2045['sff'] / 10.\n",
    "sff_onetime = sff.sel(time=time_to_plot)\n",
    "sf = fmcw_dataset_2000_2045['sf'] / 10.\n",
    "sf_onetime = sf.sel(time=time_to_plot)\n",
    "Zef_onetime = fmcw_dataset_2000_2045['Zef'].sel(time=time_to_plot)\n",
    "\n",
    "fig1, ax1 = plt.subplots(figsize=(10, 10))\n",
    "Zef_onetime.plot(x='vels', ax=ax1, vmin=-20, vmax=50)\n",
    "\n",
    "fig2, ax2 = plt.subplots(figsize=(10, 10))\n",
    "Zef_onetime_oneheight = Zef_onetime.sel(height=height_to_plot)\n",
    "Zef_onetime_oneheight = Zef_onetime_oneheight.where(Zef_onetime_oneheight > -99.)\n",
    "# Zef_onetime_oneheight.plot(x='vels', ax=ax2)\n",
    "# sff_onetime.plot(ax=ax2, vmin=-20, vmax=50)\n",
    "snr.plot(ax=ax2, x='time')"
   ]
  },
  {
   "cell_type": "code",
   "execution_count": null,
   "metadata": {
    "ExecuteTime": {
     "end_time": "2020-10-01T15:24:58.787431Z",
     "start_time": "2020-10-01T15:24:53.339298Z"
    },
    "scrolled": false
   },
   "outputs": [],
   "source": [
    "# Let's make a ridge plot\n",
    "import numpy as np\n",
    "import pandas as pd\n",
    "import seaborn as sns\n",
    "import matplotlib.pyplot as plt\n",
    "sns.set(style=\"white\", rc={\"axes.facecolor\": (0, 0, 0, 0)})\n",
    "\n",
    "# Create the data\n",
    "rs = np.random.RandomState(1979)\n",
    "x = rs.randn(500)\n",
    "g = np.tile(list(\"ABCDEFGHIJ\"), 50)\n",
    "df = pd.DataFrame(dict(x=x, g=g))\n",
    "m = df.g.map(ord)\n",
    "df[\"x\"] += m\n",
    "\n",
    "print(df)\n",
    "\n",
    "\n",
    "Zef_corr_onetime = Zef_corr_onetime.thin({'height': 100})\n",
    "\n",
    "Zef_corr_onetime_df = Zef_corr_onetime.to_dataframe().reset_index()\n",
    "print(Zef_corr_onetime_df)\n",
    "# Initialize the FacetGrid object\n",
    "pal = sns.cubehelix_palette(10, rot=-.25, light=.7)\n",
    "g = sns.FacetGrid(Zef_corr_onetime_df, row=\"height\", hue='height', aspect=2, height=1., palette=pal)\n",
    "\n",
    "# Draw the densities in a few steps\n",
    "#g.map(sns.kdeplot, \"vels_dealiased\", clip_on=False, shade=True, alpha=1, lw=1.5, bw=.2)\n",
    "#g.map(sns.kdeplot, \"vels_dealiased\", clip_on=False, color=\"w\", lw=2, bw=.2)\n",
    "g.map(sns.lineplot, \"vels_dealiased\", \"Zef_corr\", clip_on=False, alpha=1, lw=1.5)\n",
    "#g.map(sns.lineplot, \"vels_dealiased\", \"Zef_corr\", clip_on=False, color=\"w\", lw=2, bw=.2)\n",
    "#g.map(plt.axhline, y=0, lw=2, clip_on=False)\n",
    "\n",
    "\n",
    "# Define and use a simple function to label the plot in axes coordinates\n",
    "def label(x, color, label):\n",
    "    ax = plt.gca()\n",
    "    ax.text(0, .2, label, fontweight=\"bold\", color=color,\n",
    "            ha=\"left\", va=\"center\", transform=ax.transAxes)\n",
    "\n",
    "\n",
    "g.map(label, \"vels_dealiased\")\n",
    "\n",
    "# Set the subplots to overlap\n",
    "# g.fig.subplots_adjust(hspace=-.25)\n",
    "\n",
    "# Remove axes details that don't play well with overlap\n",
    "g.set_titles(\"\")\n",
    "#g.set(yticks=[])\n",
    "#g.despine(bottom=True, left=True)"
   ]
  },
  {
   "cell_type": "code",
   "execution_count": null,
   "metadata": {},
   "outputs": [],
   "source": [
    "import numpy as np\n",
    "import pandas as pd\n",
    "import seaborn as sns\n",
    "import matplotlib.pyplot as plt\n",
    "sns.set(style=\"white\", rc={\"axes.facecolor\": (0, 0, 0, 0)})\n",
    "\n",
    "# Create the data\n",
    "rs = np.random.RandomState(1979)\n",
    "x = rs.randn(500)\n",
    "g = np.tile(list(\"ABCDEFGHIJ\"), 50)\n",
    "df = pd.DataFrame(dict(x=x, g=g))\n",
    "m = df.g.map(ord)\n",
    "df[\"x\"] += m\n",
    "print(df)\n",
    "\n",
    "# Initialize the FacetGrid object\n",
    "pal = sns.cubehelix_palette(10, rot=-.25, light=.7)\n",
    "g = sns.FacetGrid(df, row=\"g\", hue=\"g\", aspect=15, height=.5, palette=pal)\n",
    "\n",
    "# Draw the densities in a few steps\n",
    "g.map(sns.kdeplot, \"x\", clip_on=False, shade=True, alpha=1, lw=1.5, bw=.2)\n",
    "g.map(sns.kdeplot, \"x\", clip_on=False, color=\"w\", lw=2, bw=.2)\n",
    "g.map(plt.axhline, y=0, lw=2, clip_on=False)\n",
    "\n",
    "\n",
    "# Define and use a simple function to label the plot in axes coordinates\n",
    "def label(x, color, label):\n",
    "    ax = plt.gca()\n",
    "    ax.text(0, .2, label, fontweight=\"bold\", color=color,\n",
    "            ha=\"left\", va=\"center\", transform=ax.transAxes)\n",
    "\n",
    "\n",
    "g.map(label, \"x\")\n",
    "\n",
    "# Set the subplots to overlap\n",
    "g.fig.subplots_adjust(hspace=-.25)\n",
    "\n",
    "# Remove axes details that don't play well with overlap\n",
    "g.set_titles(\"\")\n",
    "g.set(yticks=[])\n",
    "g.despine(bottom=True, left=True)"
   ]
  },
  {
   "cell_type": "code",
   "execution_count": null,
   "metadata": {},
   "outputs": [],
   "source": []
  }
 ],
 "metadata": {
  "hide_input": false,
  "kernelspec": {
   "display_name": "Python 3.7.3 64-bit ('pyPIPS': conda)",
   "language": "python",
   "name": "python37364bitpypipscondaea8788f6419a4a34be329df7b3b7ce88"
  },
  "language_info": {
   "codemirror_mode": {
    "name": "ipython",
    "version": 3
   },
   "file_extension": ".py",
   "mimetype": "text/x-python",
   "name": "python",
   "nbconvert_exporter": "python",
   "pygments_lexer": "ipython3",
   "version": "3.7.6"
  },
  "toc": {
   "base_numbering": 1,
   "nav_menu": {},
   "number_sections": true,
   "sideBar": true,
   "skip_h1_title": false,
   "title_cell": "Table of Contents",
   "title_sidebar": "Contents",
   "toc_cell": false,
   "toc_position": {},
   "toc_section_display": true,
   "toc_window_display": false
  },
  "varInspector": {
   "cols": {
    "lenName": 16,
    "lenType": 16,
    "lenVar": 40
   },
   "kernels_config": {
    "python": {
     "delete_cmd_postfix": "",
     "delete_cmd_prefix": "del ",
     "library": "var_list.py",
     "varRefreshCmd": "print(var_dic_list())"
    },
    "r": {
     "delete_cmd_postfix": ") ",
     "delete_cmd_prefix": "rm(",
     "library": "var_list.r",
     "varRefreshCmd": "cat(var_dic_list()) "
    }
   },
   "types_to_exclude": [
    "module",
    "function",
    "builtin_function_or_method",
    "instance",
    "_Feature"
   ],
   "window_display": false
  }
 },
 "nbformat": 4,
 "nbformat_minor": 2
}
