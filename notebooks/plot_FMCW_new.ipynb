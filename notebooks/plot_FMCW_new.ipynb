{
 "cells": [
  {
   "cell_type": "code",
   "execution_count": null,
   "metadata": {
    "ExecuteTime": {
     "end_time": "2020-09-10T14:39:43.809743Z",
     "start_time": "2020-09-10T14:39:39.065631Z"
    }
   },
   "outputs": [],
   "source": [
    "from glob import glob\n",
    "import os\n",
    "import itertools\n",
    "import numpy as np\n",
    "import matplotlib\n",
    "import matplotlib.pyplot as plt\n",
    "import matplotlib.cm as cm\n",
    "from mpl_toolkits.axes_grid1 import ImageGrid, make_axes_locatable, host_subplot\n",
    "import matplotlib.ticker as ticker\n",
    "from matplotlib.collections import Collection, LineCollection\n",
    "from matplotlib.artist import allow_rasterization\n",
    "from matplotlib.font_manager import FontProperties\n",
    "from matplotlib.colors import LinearSegmentedColormap\n",
    "import matplotlib.dates as md\n",
    "import matplotlib.ticker as ticker\n",
    "from metpy.plots import ctables\n",
    "#from pyPIPS import disdrometer_module as dis\n",
    "from pyPIPS import pips_io as pipsio\n",
    "from pyPIPS import timemodule as tm\n",
    "from pyPIPS.utils import mtokm, getTimeWindow, interp_along_1D\n",
    "from pyPIPS import plotmodule as pm\n",
    "from pyPIPS import PIPS as pips\n",
    "from pyPIPS import fmcw\n",
    "from itertools import cycle\n",
    "import netCDF4 as netcdf\n",
    "from datetime import datetime, timedelta\n",
    "import pandas as pd\n",
    "import xarray as xr\n",
    "from skimage.restoration import unwrap_phase\n",
    "import skimage.feature as SF\n",
    "import numpy.ma as ma\n",
    "from scipy import ndimage, interpolate\n",
    "%load_ext autoreload\n",
    "%autoreload 2"
   ]
  },
  {
   "cell_type": "code",
   "execution_count": null,
   "metadata": {
    "ExecuteTime": {
     "end_time": "2020-09-10T14:45:53.210764Z",
     "start_time": "2020-09-10T14:45:53.047479Z"
    },
    "scrolled": false
   },
   "outputs": [],
   "source": [
    "already_merged=True\n",
    "\n",
    "# fmcw_data_base_dir = '/Volumes/scr_fast/Projects/VORTEXSE/obsdata/2017/FMCW'\n",
    "# fmcw_data_base_dir = '/Users/dawson29/sshfs_mounts/depot_robin/share/VORTEX-SE/2017/data/radar/umassfmcw/nc'\n",
    "fmcw_data_base_dir = '/Users/dawson29/sshfs_mounts/depot/data/Projects/VORTEXSE/obsdata/2017/FMCW'\n",
    "\n",
    "# Uncomment below for March 27th, 2017 case\n",
    "date = '0327'\n",
    "starttimestring = '201703271900'\n",
    "endtimestring = '201703272200'\n",
    "\n",
    "datetime_start = datetime.strptime(starttimestring, '%Y%m%d%H%M%S')\n",
    "datetime_end = datetime.strptime(endtimestring, '%Y%m%d%H%M%S')\n",
    "\n",
    "starttimestring2 = datetime_start.strftime('%Y-%m-%dT%H:%M')\n",
    "endtimestring2 = datetime_end.strftime('%Y-%m-%dT%H:%M')\n",
    "\n",
    "# Uncomment below for April 30th, 2017 case\n",
    "# date = '0430'\n",
    "# starttimestring = '201704302000'\n",
    "# endtimestring = '201704302359\n",
    "\n",
    "# fmcw_data_dir = os.path.join(fmcw_data_base_dir, date)\n",
    "fmcw_data_dir = os.path.join(fmcw_data_base_dir, date)\n",
    "fmcw_output_dir = os.path.join(fmcw_output_base_dir, date)\n",
    "if not os.path.exists(fmcw_output_dir):\n",
    "        os.makedirs(fmcw_output_dir)\n",
    "\n",
    "if not already_merged:\n",
    "    filepaths = fmcw.get_fmcw_filepaths(fmcw_data_dir, starttimestring, endtimestring, subdirs=False)\n",
    "    print(filepaths)\n",
    "\n",
    "    # Read in multifile FMCW dataset\n",
    "    fmcw_merged_dataset = fmcw.read_fmcw_multifile_xarray(filepaths)\n",
    "    # Clip to chosen times\n",
    "    fmcw_merged_dataset = fmcw_merged_dataset.sel(time=slice(starttimestring2, endtimestring2))\n",
    "    # Dealias\n",
    "    fmcw_merged_dataset = fmcw.dealias(fmcw_merged_dataset)\n",
    "    fmcw_merged_dataset.load()\n",
    "    \n",
    "else:    \n",
    "    fmcw_filename = 'fmcw_merged_corrected_{}_{}.nc'.format(starttimestring, endtimestring)\n",
    "    fmcw_filepath = os.path.join(fmcw_data_dir, fmcw_filename)\n",
    "    fmcw_merged_dataset = xr.open_dataset(fmcw_filepath)\n",
    "\n",
    "print(fmcw_merged_dataset)"
   ]
  },
  {
   "cell_type": "code",
   "execution_count": null,
   "metadata": {
    "ExecuteTime": {
     "end_time": "2020-09-10T14:46:22.832181Z",
     "start_time": "2020-09-10T14:46:21.456609Z"
    },
    "scrolled": true
   },
   "outputs": [],
   "source": [
    "# Read in PIPS data\n",
    "PIPS_data_dir = '/Users/dawson29/sshfs_mounts/depot/data/Projects/VORTEXSE/obsdata/full_PIPS_dataset_RB15/'\n",
    "PIPS_filename = 'parsivel_combined_FMCW_2017_{}17_PIPS2A_60s.nc'.format(date)\n",
    "PIPS_filepath = os.path.join(PIPS_data_dir, PIPS_filename)\n",
    "PIPS_ds = xr.open_dataset(PIPS_filepath)\n",
    "print(PIPS_ds)"
   ]
  },
  {
   "cell_type": "code",
   "execution_count": null,
   "metadata": {
    "ExecuteTime": {
     "end_time": "2020-09-08T14:42:16.763854Z",
     "start_time": "2020-09-08T14:42:15.995982Z"
    }
   },
   "outputs": [],
   "source": [
    "PIPS_ds.load()\n",
    "PIPS_ds_1900_2200 = PIPS_ds.sel(time=slice(starttimestring2, endtimestring2))\n",
    "hour_min_start_string = datetime_start.strftime('%H%M')\n",
    "hour_min_end_string = datetime_end.strftime('%H%M')\n",
    "PIPS_new_file = 'parsivel_combined_FMCW_2017_{}17_PIPS2A_60s_{}-{}.nc'.format(date, hour_min_start_string,\n",
    "                                                                              hour_min_end_string)\n",
    "PIPS_new_filepath = os.path.join(PIPS_data_dir, PIPS_new_file)\n",
    "PIPS_ds.to_netcdf(PIPS_new_filepath)"
   ]
  },
  {
   "cell_type": "code",
   "execution_count": null,
   "metadata": {
    "ExecuteTime": {
     "end_time": "2020-09-08T14:43:28.713708Z",
     "start_time": "2020-09-08T14:43:28.630949Z"
    }
   },
   "outputs": [],
   "source": [
    "print(PIPS_ds['KHTX_beam_height_at_PIPS'])"
   ]
  },
  {
   "cell_type": "code",
   "execution_count": null,
   "metadata": {
    "ExecuteTime": {
     "end_time": "2020-09-08T14:45:07.521712Z",
     "start_time": "2020-09-08T14:44:39.123220Z"
    },
    "scrolled": false
   },
   "outputs": [],
   "source": [
    "if not already_merged:\n",
    "    fmcw_merged_dataset = fmcw.correct_fmcw_with_nexrad(fmcw_merged_dataset, PIPS_ds_1900_2200, radar_name='KHTX', \n",
    "                                                        dBZ_field='REF', plot=True)\n",
    "    print(fmcw_merged_dataset['Ze'])\n",
    "    print(fmcw_merged_dataset['Ze_corr'])\n",
    "    fmcw.plot_fmcw_4panel_xarray(fmcw_merged_dataset, dBZ_var='Ze_corr')\n",
    "    print(fmcw_merged_dataset)\n",
    "    fmcw_filename = 'fmcw_merged_corrected_{}_{}.nc'.format(starttimestring, endtimestring)\n",
    "    fmcw_filepath = os.path.join(fmcw_output_dir, fmcw_filename)\n",
    "    fmcw_merged_dataset.to_netcdf(fmcw_filepath)"
   ]
  },
  {
   "cell_type": "code",
   "execution_count": null,
   "metadata": {
    "ExecuteTime": {
     "end_time": "2020-09-08T14:50:36.271543Z",
     "start_time": "2020-09-08T14:48:42.335850Z"
    },
    "scrolled": false
   },
   "outputs": [],
   "source": [
    "%matplotlib inline\n",
    "# plt.rcParams[\"figure.figsize\"] = (20,10)\n",
    "# fmcw.plot_fmcw_4panel_xarray(fmcw_merged_dataset)\n",
    "fmcw_merged_resampled_ds = fmcw_merged_dataset.resample(time='10S').interpolate()\n",
    "print(fmcw_merged_resampled_ds)\n",
    "fmcw_merged_ds_rolling = fmcw_merged_resampled_ds.rolling(time=6)\n",
    "fmcw_merged_resampled_ds = fmcw_merged_ds_rolling.mean()\n",
    "print(fmcw_merged_resampled_ds)"
   ]
  },
  {
   "cell_type": "code",
   "execution_count": null,
   "metadata": {
    "ExecuteTime": {
     "end_time": "2020-09-08T14:52:11.228916Z",
     "start_time": "2020-09-08T14:51:35.864486Z"
    }
   },
   "outputs": [],
   "source": [
    "fmcw_merged_resampled_at_PIPS_ds = fmcw_merged_resampled_ds.interp_like(PIPS_ds_1900_2200)"
   ]
  },
  {
   "cell_type": "code",
   "execution_count": null,
   "metadata": {
    "ExecuteTime": {
     "end_time": "2020-09-08T14:52:21.827955Z",
     "start_time": "2020-09-08T14:52:17.628381Z"
    },
    "scrolled": false
   },
   "outputs": [],
   "source": [
    "fmcw_merged_resampled_at_PIPS_ds.attrs = fmcw_merged_dataset.attrs\n",
    "print(fmcw_merged_resampled_at_PIPS_ds)\n",
    "fmcw.plot_fmcw_4panel_xarray(fmcw_merged_resampled_at_PIPS_ds)"
   ]
  },
  {
   "cell_type": "code",
   "execution_count": null,
   "metadata": {
    "ExecuteTime": {
     "end_time": "2020-09-08T14:56:41.652033Z",
     "start_time": "2020-09-08T14:56:39.216004Z"
    },
    "scrolled": false
   },
   "outputs": [],
   "source": [
    "import pyPIPS.parsivel_params as pp\n",
    "import pyPIPS.polarimetric as dp\n",
    "min_diameter = pp.parsivel_parameters['min_diameter_bins_mm']\n",
    "max_diameter = pp.parsivel_parameters['max_diameter_bins_mm']\n",
    "bin_width = max_diameter - min_diameter\n",
    "avg_diameter = pp.parsivel_parameters['avg_diameter_bins_mm']\n",
    "min_fall_bins = pp.parsivel_parameters['min_fallspeed_bins_mps']\n",
    "max_fall_bins = pp.parsivel_parameters['max_fallspeed_bins_mps']\n",
    "avg_fall_bins = pp.parsivel_parameters['avg_fallspeed_bins_mps']\n",
    "\n",
    "vd_matrix_da = PIPS_ds_1900_2200['VD_matrix_qc']\n",
    "ND = PIPS_ds_1900_2200['ND_qc']\n",
    "logND = np.log10(ND)\n",
    "\n",
    "# conv_df = pips.calc_thermo(conv_df)\n",
    "# # empirical_fallspeed = pips.calc_empirical_fallspeed(avg_diameter)\n",
    "# fallspeed_spectrum = pips.calc_fallspeed_spectrum(avg_diameter, avg_fall_bins, correct_rho=True,\n",
    "#                                                   rho=conv_df['rho'])\n",
    "# vd_matrix_da = vd_matrix_da.where(vd_matrix_da > 0.0)\n",
    "# ND = pips.calc_ND(vd_matrix_da, fallspeed_spectrum, 10.)\n",
    "# ND = ND.T\n",
    "# logND = np.log10(ND)\n",
    "# logND = \n",
    "\n",
    "PSD_datetimes = pips.get_PSD_datetimes(vd_matrix_da)\n",
    "PSD_datetimes_dict = pips.get_PSD_time_bins(PSD_datetimes)\n",
    "\n",
    "PSD_edgetimes = md.date2num(PSD_datetimes_dict['PSD_datetimes_edges'])\n",
    "PSD_centertimes = md.date2num(PSD_datetimes_dict['PSD_datetimes_centers'])\n",
    "\n",
    "# ND = PIPS_dict['ND'].T\n",
    "# logND = ma.log10(ND)\n",
    "# DSD_index = PIPS_dict['DSD_index']\n",
    "# DSD_interval = PIPS_dict['DSD_interval']\n",
    "# DSD_interval_td = timedelta(seconds=DSD_interval)\n",
    "# DSD_halfinterval_td = timedelta(seconds=DSD_interval / 2.)\n",
    "\n",
    "# Determine start and end times/indices for analysis\n",
    "# PSDtimestamps = PIPS_dict['PSDtimestamps']\n",
    "# PSDtimestampsnums = md.date2num(PSDtimestamps)\n",
    "\n",
    "#     plotstarttime = starttime\n",
    "#     plotstoptime = stoptime\n",
    "\n",
    "# pstartindex, pstopindex = getTimeWindow(starttimestring, endtimestring, PSDtimestampsnums)\n",
    "\n",
    "# pstarttime = PSDtimestampsnums[pstartindex]\n",
    "# pstoptime = PSDtimestampsnums[pstopindex]\n",
    "\n",
    "# plotstarttime = pstarttime\n",
    "# plotstoptime = pstoptime\n",
    "\n",
    "# PSDtimestamps_edge = [x - DSD_interval_td for x in PSDtimestamps]\n",
    "# # Add an extra 10 sec for the last time bin boundary\n",
    "# PSDtimestamps_edge.append(PSDtimestamps_edge[-1] + DSD_interval_td)\n",
    "# PSDtimestamps_avg = [x - DSD_halfinterval_td for x in PSDtimestamps]\n",
    "# PSDstarttimes = md.date2num(PSDtimestamps_edge[pstartindex:pstopindex + 1])\n",
    "# PSDmidtimes = md.date2num(PSDtimestamps_avg[pstartindex:pstopindex + 1])\n",
    "\n",
    "scattfile = '/Users/dawson29/Projects/pyPIPS/tmatrix/FMCW/SCTT_RAIN_fw100.dat'\n",
    "# Observed DSD: TODO, need to make ND, ND_expDSD, and ND_gamDSD have consistent units!\n",
    "dualpol_dis = dp.calpolrain(15.0, scattfile, ND, bin_width)\n",
    "#print(dualpol_dis)\n",
    "dis_ref = dualpol_dis.get('REF', np.empty((0)))\n",
    "logND_plot = logND.T\n",
    "disvars = {'min_diameter': min_diameter, 'PSDstarttimes': PSD_edgetimes,\n",
    "           'PSDmidtimes': PSD_centertimes, 'logND': logND_plot}\n",
    "disvars['REF'] = dis_ref\n",
    "\n",
    "# Quick and dirty rayleigh scattering approximation\n",
    "\n",
    "M6 = []\n",
    "print(ND.shape)\n",
    "for t in range(ND.shape[0]):\n",
    "    temp_M6 = ((avg_diameter[:] / 1000.)**6.) * (1000. * ND[t, :]) * bin_width[:] / 1000.\n",
    "    temp_M6 = np.nansum(temp_M6)\n",
    "    M6.append(temp_M6)\n",
    "\n",
    "M6 = np.array(M6, dtype=np.float64)\n",
    "refl_disd = 10.0 * np.log10(1e18 * M6)\n",
    "#disvars['dBZ'] = refl_disd\n",
    "\n",
    "# fig, ax = plt.subplots(figsize=(8, 3))\n",
    "\n",
    "# ax.plot(PSD_centertimes, disvars['dBZ'])\n",
    "\n",
    "radz = 500. # (m) Height of FMCW gate to plot\n",
    "radzindex = int(radz/5.)\n",
    "\n",
    "plotx_rad = fmcw_merged_dataset['time'].values\n",
    "#dBZ_D_plt = fmcw_merged_dataset['Ze'].values[:, radzindex] + 10.**(2.*7.3/10.)\n",
    "dBZ_D_plt = fmcw_merged_dataset['Ze_corr'].values[:, radzindex]\n",
    "\n",
    "\n",
    "# print(fmcw_merged_dataset['height'][radzindex])\n",
    "# print(fmcw_merged_dataset['Ze_corr'][:, radzindex])\n",
    "\n",
    "# fmcw_merged_dataset['Ze'][:, radzindex].plot()\n",
    "\n",
    "# print(dBZ_D_plt)\n",
    "\n",
    "radvars = {'radmidtimes': plotx_rad, 'REF': dBZ_D_plt}\n",
    "\n",
    "# Prepare axis parameters\n",
    "# timelimits = [md.date2num(datetime.strptime(starttimestring, tm.timefmt3)),\n",
    "#               md.date2num(datetime.strptime(endtimestring, tm.timefmt3))]\n",
    "# timelimits = [md.date2num(datetime.strptime('20170430203000', tm.timefmt3)),\n",
    "#               md.date2num(datetime.strptime('20170430210000', tm.timefmt3))]\n",
    "# Set up axis parameters\n",
    "start_time = '20170327200000'\n",
    "end_time = '20170327204500'\n",
    "try:\n",
    "    start_datetime = datetime.strptime(start_time, tm.timefmt3)\n",
    "    print('start_datetime', start_datetime)\n",
    "except (ValueError, TypeError):\n",
    "    start_datetime = PSD_edgetimes[0]\n",
    "try:\n",
    "    end_datetime = datetime.strptime(end_time, tm.timefmt3)\n",
    "    print('end_datetime', end_datetime)\n",
    "except (ValueError, TypeError):\n",
    "    end_datetime = PSD_edgetimes[-1]\n",
    "timelimits = [start_datetime, end_datetime]\n",
    "diamlimits = [0.0, 9.0]\n",
    "diamytick = 1.0\n",
    "\n",
    "locator = md.MinuteLocator(byminute=np.arange(0., 65., 5.))# md.HourLocator(interval=1)\n",
    "minorlocator = md.MinuteLocator(byminute=np.arange(0., 61., 1.))\n",
    "# minorlocator = md.HourLocator(interval=1)\n",
    "#dateformat = '%d/%H'\n",
    "dateformat = '%H:%M'\n",
    "formatter = md.DateFormatter(dateformat)\n",
    "axparams = {'majorxlocator': locator, 'majorxformatter': formatter,\n",
    "            'minorxlocator': minorlocator,\n",
    "            'axeslimits': [timelimits, diamlimits],\n",
    "            'majorylocator': ticker.MultipleLocator(base=diamytick),\n",
    "            'axeslabels': [None, 'D (mm)']}\n",
    "\n",
    "            # Ok, now we should have everything ready to go to plot the meteograms.\n",
    "            # Let'er rip!\n",
    "meteogram_image_dir = './'\n",
    "dis_plot_name = 'PIPS2A_observed'\n",
    "pm.plotDSDmeteograms(dis_plot_name, meteogram_image_dir,\n",
    "                     axparams, disvars, radvars.copy(), close_fig=False)"
   ]
  },
  {
   "cell_type": "code",
   "execution_count": null,
   "metadata": {
    "ExecuteTime": {
     "end_time": "2020-09-08T15:08:43.579791Z",
     "start_time": "2020-09-08T15:08:43.127239Z"
    },
    "scrolled": true
   },
   "outputs": [],
   "source": [
    "dBZ_D_plt = fmcw_merged_resampled_ds['Ze_corr']\n",
    "dBZ_D_plt.sel(height=[500., 750., 1000., 1250., 1500.]).plot.line(x='time')"
   ]
  },
  {
   "cell_type": "code",
   "execution_count": null,
   "metadata": {
    "ExecuteTime": {
     "end_time": "2020-09-08T15:09:00.989803Z",
     "start_time": "2020-09-08T15:09:00.435739Z"
    }
   },
   "outputs": [],
   "source": [
    "fmcw_merged_resampled_at_PIPS_ds_2000_2045 = fmcw_merged_resampled_at_PIPS_ds.sel(\n",
    "    time=slice('2017-03-27T20:00', '2017-03-27T20:45'))\n",
    "\n",
    "print(fmcw_merged_resampled_at_PIPS_ds_2000_2045)\n",
    "\n",
    "fig, ax = plt.subplots(figsize=(10, 10))\n",
    "\n",
    "# Reflectivity (Ze)\n",
    "#     m1 = ax[0, 0].pcolormesh(UTCtime, height/1000., Ze.T,cmap=plasma_white, \\\n",
    "#                              vmin=-30., vmax=30.)\n",
    "\n",
    "m1 = fmcw_merged_resampled_at_PIPS_ds_2000_2045['Ze_corr'].plot(x='time', y='height', ax=ax, \n",
    "                                                                cmap=fmcw.plasma_white, vmin=-20., vmax=60.)\n",
    "\n",
    "ax.set_title(\"(a) \" + fmcw_merged_resampled_at_PIPS_ds_2000_2045['Zef_corr'].name + \" (dBZ)\")\n",
    "ax.set_ylim(fmcw_merged_resampled_at_PIPS_ds_2000_2045['height'].min(), \n",
    "            fmcw_merged_resampled_at_PIPS_ds_2000_2045['height'].max())\n",
    "# ax[0, 0].xaxis.set_major_locator(md.MinuteLocator(byminute=range(0, 60, 10)))\n",
    "# ax[0, 0].xaxis.set_major_formatter(md.DateFormatter('%H:%M'))\n",
    "ax.yaxis.set_major_formatter(ticker.FuncFormatter(mtokm))\n",
    "#plt.xticks(rotation=30)\n",
    "#ax[0, 0].set_xlabel(\"Time (UTC)\")\n",
    "ax.set_ylabel(\"Height (km AGL)\")\n",
    "# plt.colorbar(m1,ax=ax[0, 0])\n",
    "\n",
    "#     # Dealiased Doppler (vertical) velocity (vel_da)\n",
    "\n",
    "#     m2 = dataset['vel_da'].plot(x='time', y='height', ax=ax[0, 1], cmap=cm.RdBu_r,\n",
    "#                                 vmin=-2.*np.ceil(dataset.Vmax), vmax=2.*np.ceil(dataset.Vmax))\n",
    "\n",
    "# #     m2 = ax[0, 1].pcolormesh(UTCtime,height/1000., vel.T, cmap=cm.RdBu_r, \\\n",
    "# #                              vmin=-1.*np.ceil(Vmax), vmax=np.ceil(Vmax))\n",
    "\n",
    "#     ax[0, 1].set_title(\"(b) \" + dataset['vel_da'].name + r\" (m s$^{-1}$)\")\n",
    "#     ax[0, 1].set_ylim(dataset['height'].min(), dataset['height'].max())\n",
    "#     # ax[0, 1].xaxis.set_major_locator(md.MinuteLocator(byminute=range(0, 60, 10)))\n",
    "#     # ax[0, 1].xaxis.set_major_formatter(md.DateFormatter('%H:%M'))\n",
    "#     ax[0, 1].yaxis.set_major_formatter(ticker.FuncFormatter(mtokm))\n",
    "#     #plt.xticks(rotation=30)\n",
    "#     #ax[0, 1].set_xlabel(\"Time (UTC)\")\n",
    "#     #ax[0, 1].set_ylabel(\"Height (km AGL)\")\n",
    "#     # plt.colorbar(m2,ax=ax[0, 1])"
   ]
  },
  {
   "cell_type": "code",
   "execution_count": null,
   "metadata": {
    "ExecuteTime": {
     "end_time": "2020-09-08T15:22:12.522981Z",
     "start_time": "2020-09-08T15:22:11.550260Z"
    }
   },
   "outputs": [],
   "source": [
    "vbins = fmcw_merged_resampled_at_PIPS_ds['vels']\n",
    "vbins_dealias = vbins - vbins[-1]\n",
    "fmcw_merged_resampled_at_PIPS_ds.coords['vels_dealiased'] = ('vels', vbins_dealias)\n",
    "#print(fmcw_merged_resampled_at_PIPS_ds)\n",
    "Zef_corr = fmcw_merged_resampled_at_PIPS_ds['Zef_corr']\n",
    "#print(Zef_corr)\n",
    "#print(Zef_corr.loc['2017-04-30T22:30':'2017-04-30T22:31'])\n",
    "Zef_corr_onetime = Zef_corr.sel(time='2017-03-27T20:12')\n",
    "# print(Zef_corr_2230)\n",
    "Zef_corr_onetime = Zef_corr_onetime.roll(vels=128, roll_coords=False)\n",
    "#delta_v = Zef_corr_2230.vels[1] - Zef_corr_2230.vels[0]\n",
    "#print(2. / delta_v)\n",
    "#shift = int(2. / delta_v)\n",
    "#Zef_corr_2230_shifted = Zef_corr_2230.roll(vels=shift, roll_coords=False)\n",
    "Zef_corr_onetime_z2000 = Zef_corr_onetime.sel(height=500.)\n",
    "Zef_corr_onetime.plot(x='vels_dealiased', y='height', vmin=-20, vmax=60)\n",
    "#fig2, ax2 = plt.subplots()\n",
    "#Zef_corr_2230_shifted.plot(ax=ax2, vmin=-30, vmax=30)\n",
    "fig, ax = plt.subplots()\n",
    "Zef_corr_onetime_z2000.plot(ax=ax, x='vels_dealiased')\n",
    "\n",
    "#Zef_corr_2230.plot(vmin=0., vmax=40.)"
   ]
  },
  {
   "cell_type": "code",
   "execution_count": null,
   "metadata": {
    "scrolled": false
   },
   "outputs": [],
   "source": [
    "# Let's make a ridge plot\n",
    "import numpy as np\n",
    "import pandas as pd\n",
    "import seaborn as sns\n",
    "import matplotlib.pyplot as plt\n",
    "sns.set(style=\"white\", rc={\"axes.facecolor\": (0, 0, 0, 0)})\n",
    "\n",
    "# Create the data\n",
    "rs = np.random.RandomState(1979)\n",
    "x = rs.randn(500)\n",
    "g = np.tile(list(\"ABCDEFGHIJ\"), 50)\n",
    "df = pd.DataFrame(dict(x=x, g=g))\n",
    "m = df.g.map(ord)\n",
    "df[\"x\"] += m\n",
    "\n",
    "print(df)\n",
    "\n",
    "\n",
    "Zef_corr_2230_thinned = Zef_corr_2230.thin({'height': 100})\n",
    "\n",
    "Zef_corr_2230_df = Zef_corr_2230_thinned.to_dataframe().reset_index()\n",
    "print(Zef_corr_2230_df)\n",
    "# Initialize the FacetGrid object\n",
    "pal = sns.cubehelix_palette(10, rot=-.25, light=.7)\n",
    "g = sns.FacetGrid(Zef_corr_2230_df, row=\"height\", hue='height', aspect=2, height=1., palette=pal)\n",
    "\n",
    "# Draw the densities in a few steps\n",
    "#g.map(sns.kdeplot, \"vels_dealiased\", clip_on=False, shade=True, alpha=1, lw=1.5, bw=.2)\n",
    "#g.map(sns.kdeplot, \"vels_dealiased\", clip_on=False, color=\"w\", lw=2, bw=.2)\n",
    "g.map(sns.lineplot, \"vels_dealiased\", \"Zef_corr\", clip_on=False, alpha=1, lw=1.5)\n",
    "#g.map(sns.lineplot, \"vels_dealiased\", \"Zef_corr\", clip_on=False, color=\"w\", lw=2, bw=.2)\n",
    "#g.map(plt.axhline, y=0, lw=2, clip_on=False)\n",
    "\n",
    "\n",
    "# Define and use a simple function to label the plot in axes coordinates\n",
    "def label(x, color, label):\n",
    "    ax = plt.gca()\n",
    "    ax.text(0, .2, label, fontweight=\"bold\", color=color,\n",
    "            ha=\"left\", va=\"center\", transform=ax.transAxes)\n",
    "\n",
    "\n",
    "g.map(label, \"vels_dealiased\")\n",
    "\n",
    "# Set the subplots to overlap\n",
    "# g.fig.subplots_adjust(hspace=-.25)\n",
    "\n",
    "# Remove axes details that don't play well with overlap\n",
    "g.set_titles(\"\")\n",
    "#g.set(yticks=[])\n",
    "#g.despine(bottom=True, left=True)"
   ]
  },
  {
   "cell_type": "code",
   "execution_count": null,
   "metadata": {},
   "outputs": [],
   "source": [
    "import numpy as np\n",
    "import pandas as pd\n",
    "import seaborn as sns\n",
    "import matplotlib.pyplot as plt\n",
    "sns.set(style=\"white\", rc={\"axes.facecolor\": (0, 0, 0, 0)})\n",
    "\n",
    "# Create the data\n",
    "rs = np.random.RandomState(1979)\n",
    "x = rs.randn(500)\n",
    "g = np.tile(list(\"ABCDEFGHIJ\"), 50)\n",
    "df = pd.DataFrame(dict(x=x, g=g))\n",
    "m = df.g.map(ord)\n",
    "df[\"x\"] += m\n",
    "print(df)\n",
    "\n",
    "# Initialize the FacetGrid object\n",
    "pal = sns.cubehelix_palette(10, rot=-.25, light=.7)\n",
    "g = sns.FacetGrid(df, row=\"g\", hue=\"g\", aspect=15, height=.5, palette=pal)\n",
    "\n",
    "# Draw the densities in a few steps\n",
    "g.map(sns.kdeplot, \"x\", clip_on=False, shade=True, alpha=1, lw=1.5, bw=.2)\n",
    "g.map(sns.kdeplot, \"x\", clip_on=False, color=\"w\", lw=2, bw=.2)\n",
    "g.map(plt.axhline, y=0, lw=2, clip_on=False)\n",
    "\n",
    "\n",
    "# Define and use a simple function to label the plot in axes coordinates\n",
    "def label(x, color, label):\n",
    "    ax = plt.gca()\n",
    "    ax.text(0, .2, label, fontweight=\"bold\", color=color,\n",
    "            ha=\"left\", va=\"center\", transform=ax.transAxes)\n",
    "\n",
    "\n",
    "g.map(label, \"x\")\n",
    "\n",
    "# Set the subplots to overlap\n",
    "g.fig.subplots_adjust(hspace=-.25)\n",
    "\n",
    "# Remove axes details that don't play well with overlap\n",
    "g.set_titles(\"\")\n",
    "g.set(yticks=[])\n",
    "g.despine(bottom=True, left=True)"
   ]
  },
  {
   "cell_type": "code",
   "execution_count": null,
   "metadata": {},
   "outputs": [],
   "source": []
  }
 ],
 "metadata": {
  "hide_input": false,
  "kernelspec": {
   "display_name": "Python 3.7.3 64-bit ('pyPIPS': conda)",
   "language": "python",
   "name": "python37364bitpypipscondaea8788f6419a4a34be329df7b3b7ce88"
  },
  "language_info": {
   "codemirror_mode": {
    "name": "ipython",
    "version": 3
   },
   "file_extension": ".py",
   "mimetype": "text/x-python",
   "name": "python",
   "nbconvert_exporter": "python",
   "pygments_lexer": "ipython3",
   "version": "3.7.6"
  },
  "toc": {
   "base_numbering": 1,
   "nav_menu": {},
   "number_sections": true,
   "sideBar": true,
   "skip_h1_title": false,
   "title_cell": "Table of Contents",
   "title_sidebar": "Contents",
   "toc_cell": false,
   "toc_position": {},
   "toc_section_display": true,
   "toc_window_display": false
  },
  "varInspector": {
   "cols": {
    "lenName": 16,
    "lenType": 16,
    "lenVar": 40
   },
   "kernels_config": {
    "python": {
     "delete_cmd_postfix": "",
     "delete_cmd_prefix": "del ",
     "library": "var_list.py",
     "varRefreshCmd": "print(var_dic_list())"
    },
    "r": {
     "delete_cmd_postfix": ") ",
     "delete_cmd_prefix": "rm(",
     "library": "var_list.r",
     "varRefreshCmd": "cat(var_dic_list()) "
    }
   },
   "types_to_exclude": [
    "module",
    "function",
    "builtin_function_or_method",
    "instance",
    "_Feature"
   ],
   "window_display": false
  }
 },
 "nbformat": 4,
 "nbformat_minor": 2
}
