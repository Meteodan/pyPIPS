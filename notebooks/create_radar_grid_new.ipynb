{
 "cells": [
  {
   "cell_type": "code",
   "execution_count": 1,
   "metadata": {
    "ExecuteTime": {
     "end_time": "2020-12-30T19:18:56.888552Z",
     "start_time": "2020-12-30T19:18:49.923807Z"
    }
   },
   "outputs": [
    {
     "name": "stdout",
     "output_type": "stream",
     "text": [
      "\n",
      "## You are using the Python ARM Radar Toolkit (Py-ART), an open source\n",
      "## library for working with weather radar data. Py-ART is partly\n",
      "## supported by the U.S. Department of Energy as part of the Atmospheric\n",
      "## Radiation Measurement (ARM) Climate Research Facility, an Office of\n",
      "## Science user facility.\n",
      "##\n",
      "## If you use this software to prepare a publication, please cite:\n",
      "##\n",
      "##     JJ Helmus and SM Collis, JORS 2016, doi: 10.5334/jors.119\n",
      "\n"
     ]
    }
   ],
   "source": [
    "from glob import glob\n",
    "import os\n",
    "import itertools\n",
    "import numpy as np\n",
    "import matplotlib\n",
    "import matplotlib.pyplot as plt\n",
    "import matplotlib.cm as cm\n",
    "from mpl_toolkits.axes_grid1 import ImageGrid, make_axes_locatable, host_subplot\n",
    "import matplotlib.ticker as ticker\n",
    "from matplotlib.collections import Collection, LineCollection\n",
    "from matplotlib.artist import allow_rasterization\n",
    "from matplotlib.font_manager import FontProperties\n",
    "from matplotlib.colors import LinearSegmentedColormap\n",
    "import matplotlib.dates as md\n",
    "import matplotlib.ticker as ticker\n",
    "from metpy.plots import ctables\n",
    "#from pyPIPS import disdrometer_module as dis\n",
    "from pyPIPS import pips_io as pipsio\n",
    "from pyPIPS import timemodule as tm\n",
    "from pyPIPS.utils import mtokm, getTimeWindow, interp_along_1D\n",
    "from pyPIPS import plotmodule as pm\n",
    "from pyPIPS import PIPS as pips\n",
    "from pyPIPS import fmcw\n",
    "from itertools import cycle\n",
    "import netCDF4 as netcdf\n",
    "from datetime import datetime, timedelta\n",
    "import pandas as pd\n",
    "import xarray as xr\n",
    "from skimage.restoration import unwrap_phase\n",
    "import skimage.feature as SF\n",
    "import numpy.ma as ma\n",
    "from scipy import ndimage, interpolate\n",
    "import pyart\n",
    "import cartopy.crs as ccrs\n",
    "%load_ext autoreload\n",
    "%autoreload 2\n",
    "%matplotlib inline"
   ]
  },
  {
   "cell_type": "code",
   "execution_count": 2,
   "metadata": {
    "ExecuteTime": {
     "end_time": "2020-12-30T19:19:48.875860Z",
     "start_time": "2020-12-30T19:19:48.387653Z"
    },
    "scrolled": true
   },
   "outputs": [
    {
     "name": "stdout",
     "output_type": "stream",
     "text": [
      "<xarray.Dataset>\n",
      "Dimensions:                  (diameter_bin: 32, fallspeed_bin: 32, parameter: 3, time: 1441)\n",
      "Coordinates:\n",
      "  * time                     (time) datetime64[ns] 2017-03-27 ... 2017-03-28\n",
      "    fallspeed                (fallspeed_bin) float64 ...\n",
      "    diameter                 (diameter_bin) float64 ...\n",
      "    min_diameter             (diameter_bin) float64 ...\n",
      "    max_diameter             (diameter_bin) float64 ...\n",
      "    min_fallspeeds           (fallspeed_bin) float64 ...\n",
      "    max_fallspeeds           (fallspeed_bin) float64 ...\n",
      "  * parameter                (parameter) object 'N0' 'lamda' 'alpha'\n",
      "Dimensions without coordinates: diameter_bin, fallspeed_bin\n",
      "Data variables:\n",
      "    precipintensity          (time) float64 ...\n",
      "    precipaccum              (time) float64 ...\n",
      "    parsivel_dBZ             (time) float64 ...\n",
      "    pcount                   (time) int64 ...\n",
      "    signal_amplitude         (time) float64 ...\n",
      "    pvoltage                 (time) float64 ...\n",
      "    sensor_temp              (time) float64 ...\n",
      "    sample_interval          (time) timedelta64[ns] ...\n",
      "    windspd                  (time) float64 ...\n",
      "    windspdavgvec            (time) float64 ...\n",
      "    winddirabs               (time) float64 ...\n",
      "    winddirunitavgvec        (time) float64 ...\n",
      "    windgust                 (time) float64 ...\n",
      "    uavg                     (time) float64 ...\n",
      "    vavg                     (time) float64 ...\n",
      "    unit_uavg                (time) float64 ...\n",
      "    unit_vavg                (time) float64 ...\n",
      "    compass_dir              (time) float64 ...\n",
      "    winddiag                 (time) float64 ...\n",
      "    fasttemp                 (time) float64 ...\n",
      "    slowtemp                 (time) float64 ...\n",
      "    RH                       (time) float64 ...\n",
      "    RH_derived               (time) float64 ...\n",
      "    pressure                 (time) float64 ...\n",
      "    GPS_lat                  (time) float64 ...\n",
      "    GPS_lon                  (time) float64 ...\n",
      "    GPS_alt                  (time) float64 ...\n",
      "    voltage                  (time) float64 ...\n",
      "    dewpoint                 (time) float64 ...\n",
      "    rho                      (time) float64 ...\n",
      "    VD_matrix                (time, fallspeed_bin, diameter_bin) float64 ...\n",
      "    VD_matrix_qc             (time, fallspeed_bin, diameter_bin) float64 ...\n",
      "    ND_qc                    (time, diameter_bin) float64 ...\n",
      "    rainrate_derived_qc      (time) float64 ...\n",
      "    pcount_derived_qc        (time) float64 ...\n",
      "    reflectivity_derived_qc  (time) float64 ...\n",
      "    DSD_MM24                 (parameter, time) float64 ...\n",
      "    DSD_MM36                 (parameter, time) float64 ...\n",
      "    DSD_MM346                (parameter, time) float64 ...\n",
      "    DSD_MM246                (parameter, time) float64 ...\n",
      "    DSD_MM234                (parameter, time) float64 ...\n",
      "    DSD_TMM246               (parameter, time) float64 ...\n",
      "    Dm43                     (time) float64 ...\n",
      "    sigma                    (time) float64 ...\n",
      "Attributes:\n",
      "    probe_name:                      PIPS2A\n",
      "    parsivel_angle:                  -45.0\n",
      "    deployment_name:                 FMCW_2017_032717\n",
      "    location:                        (34.687122998603364, -86.00486622375519,...\n",
      "    starting_time:                   20170327000000\n",
      "    ending_time:                     20170328000000\n",
      "    DSD_interval:                    60.0\n",
      "    strongwindQC:                    1\n",
      "    splashingQC:                     1\n",
      "    marginQC:                        1\n",
      "    rainfallQC:                      1\n",
      "    rainonlyQC:                      1\n",
      "    hailonlyQC:                      0\n",
      "    graupelonlyQC:                   0\n",
      "    basicQC:                         0\n",
      "    CG_coeff_Z01:                    [-1.957  1.213 -0.016]\n",
      "    CG_coeff_C08:                    [-1.718   0.902  -0.0201]\n",
      "    CG_coeff_SATP_TMM:               [-2.25678432  1.11231431 -0.02114548]\n",
      "    CG_coeff_SATP_MM:                [-1.31554481  0.93118812 -0.00912097]\n",
      "    CG_coeff_SATP:                   [-2.25678432  1.11231431 -0.02114548]\n",
      "    CG_coeff_TMM:                    [-2.29235944  1.06708171 -0.01557723]\n",
      "    CG_coeff_MM:                     [-1.44688755  0.94004475 -0.00961485]\n",
      "    CG_coeff_TMM_F:                  [-2.30542388  1.15085961 -0.01662427]\n",
      "    CG_coeff_MM_F:                   [-1.75041249  1.07590895 -0.01361414]\n",
      "    Filter_for_MM_F_and_TMM_F_fits:  ['RR_filter_5mm', 'counts_filter_1000']\n"
     ]
    },
    {
     "name": "stderr",
     "output_type": "stream",
     "text": [
      "/Users/terrell8/miniconda2/envs/pyPIPS/lib/python3.8/site-packages/ipykernel/ipkernel.py:283: DeprecationWarning: `should_run_async` will not call `transform_cell` automatically in the future. Please pass the result to `transformed_cell` argument and any exception that happen during thetransform in `preprocessing_exc_tuple` in IPython 7.17 and above.\n",
      "  and should_run_async(code)\n",
      "/Users/terrell8/miniconda2/envs/pyPIPS/lib/python3.8/site-packages/xarray/backends/netCDF4_.py:378: DeprecationWarning: tostring() is deprecated. Use tobytes() instead.\n",
      "  attributes = {k: var.getncattr(k) for k in var.ncattrs()}\n",
      "/Users/terrell8/miniconda2/envs/pyPIPS/lib/python3.8/site-packages/xarray/backends/netCDF4_.py:378: DeprecationWarning: tostring() is deprecated. Use tobytes() instead.\n",
      "  attributes = {k: var.getncattr(k) for k in var.ncattrs()}\n",
      "/Users/terrell8/miniconda2/envs/pyPIPS/lib/python3.8/site-packages/xarray/backends/netCDF4_.py:378: DeprecationWarning: tostring() is deprecated. Use tobytes() instead.\n",
      "  attributes = {k: var.getncattr(k) for k in var.ncattrs()}\n",
      "/Users/terrell8/miniconda2/envs/pyPIPS/lib/python3.8/site-packages/xarray/backends/netCDF4_.py:378: DeprecationWarning: tostring() is deprecated. Use tobytes() instead.\n",
      "  attributes = {k: var.getncattr(k) for k in var.ncattrs()}\n",
      "/Users/terrell8/miniconda2/envs/pyPIPS/lib/python3.8/site-packages/xarray/backends/netCDF4_.py:378: DeprecationWarning: tostring() is deprecated. Use tobytes() instead.\n",
      "  attributes = {k: var.getncattr(k) for k in var.ncattrs()}\n",
      "/Users/terrell8/miniconda2/envs/pyPIPS/lib/python3.8/site-packages/xarray/backends/netCDF4_.py:378: DeprecationWarning: tostring() is deprecated. Use tobytes() instead.\n",
      "  attributes = {k: var.getncattr(k) for k in var.ncattrs()}\n",
      "/Users/terrell8/miniconda2/envs/pyPIPS/lib/python3.8/site-packages/xarray/backends/netCDF4_.py:378: DeprecationWarning: tostring() is deprecated. Use tobytes() instead.\n",
      "  attributes = {k: var.getncattr(k) for k in var.ncattrs()}\n",
      "/Users/terrell8/miniconda2/envs/pyPIPS/lib/python3.8/site-packages/xarray/backends/netCDF4_.py:378: DeprecationWarning: tostring() is deprecated. Use tobytes() instead.\n",
      "  attributes = {k: var.getncattr(k) for k in var.ncattrs()}\n",
      "/Users/terrell8/miniconda2/envs/pyPIPS/lib/python3.8/site-packages/xarray/backends/netCDF4_.py:378: DeprecationWarning: tostring() is deprecated. Use tobytes() instead.\n",
      "  attributes = {k: var.getncattr(k) for k in var.ncattrs()}\n",
      "/Users/terrell8/miniconda2/envs/pyPIPS/lib/python3.8/site-packages/xarray/backends/netCDF4_.py:378: DeprecationWarning: tostring() is deprecated. Use tobytes() instead.\n",
      "  attributes = {k: var.getncattr(k) for k in var.ncattrs()}\n",
      "/Users/terrell8/miniconda2/envs/pyPIPS/lib/python3.8/site-packages/xarray/backends/netCDF4_.py:378: DeprecationWarning: tostring() is deprecated. Use tobytes() instead.\n",
      "  attributes = {k: var.getncattr(k) for k in var.ncattrs()}\n",
      "/Users/terrell8/miniconda2/envs/pyPIPS/lib/python3.8/site-packages/xarray/backends/netCDF4_.py:378: DeprecationWarning: tostring() is deprecated. Use tobytes() instead.\n",
      "  attributes = {k: var.getncattr(k) for k in var.ncattrs()}\n",
      "/Users/terrell8/miniconda2/envs/pyPIPS/lib/python3.8/site-packages/xarray/backends/netCDF4_.py:378: DeprecationWarning: tostring() is deprecated. Use tobytes() instead.\n",
      "  attributes = {k: var.getncattr(k) for k in var.ncattrs()}\n",
      "/Users/terrell8/miniconda2/envs/pyPIPS/lib/python3.8/site-packages/xarray/backends/netCDF4_.py:378: DeprecationWarning: tostring() is deprecated. Use tobytes() instead.\n",
      "  attributes = {k: var.getncattr(k) for k in var.ncattrs()}\n",
      "/Users/terrell8/miniconda2/envs/pyPIPS/lib/python3.8/site-packages/xarray/backends/netCDF4_.py:378: DeprecationWarning: tostring() is deprecated. Use tobytes() instead.\n",
      "  attributes = {k: var.getncattr(k) for k in var.ncattrs()}\n",
      "/Users/terrell8/miniconda2/envs/pyPIPS/lib/python3.8/site-packages/xarray/backends/netCDF4_.py:378: DeprecationWarning: tostring() is deprecated. Use tobytes() instead.\n",
      "  attributes = {k: var.getncattr(k) for k in var.ncattrs()}\n",
      "/Users/terrell8/miniconda2/envs/pyPIPS/lib/python3.8/site-packages/xarray/backends/netCDF4_.py:378: DeprecationWarning: tostring() is deprecated. Use tobytes() instead.\n",
      "  attributes = {k: var.getncattr(k) for k in var.ncattrs()}\n",
      "/Users/terrell8/miniconda2/envs/pyPIPS/lib/python3.8/site-packages/xarray/backends/netCDF4_.py:378: DeprecationWarning: tostring() is deprecated. Use tobytes() instead.\n",
      "  attributes = {k: var.getncattr(k) for k in var.ncattrs()}\n",
      "/Users/terrell8/miniconda2/envs/pyPIPS/lib/python3.8/site-packages/xarray/backends/netCDF4_.py:378: DeprecationWarning: tostring() is deprecated. Use tobytes() instead.\n",
      "  attributes = {k: var.getncattr(k) for k in var.ncattrs()}\n",
      "/Users/terrell8/miniconda2/envs/pyPIPS/lib/python3.8/site-packages/xarray/backends/netCDF4_.py:378: DeprecationWarning: tostring() is deprecated. Use tobytes() instead.\n",
      "  attributes = {k: var.getncattr(k) for k in var.ncattrs()}\n",
      "/Users/terrell8/miniconda2/envs/pyPIPS/lib/python3.8/site-packages/xarray/backends/netCDF4_.py:378: DeprecationWarning: tostring() is deprecated. Use tobytes() instead.\n",
      "  attributes = {k: var.getncattr(k) for k in var.ncattrs()}\n",
      "/Users/terrell8/miniconda2/envs/pyPIPS/lib/python3.8/site-packages/xarray/backends/netCDF4_.py:378: DeprecationWarning: tostring() is deprecated. Use tobytes() instead.\n",
      "  attributes = {k: var.getncattr(k) for k in var.ncattrs()}\n",
      "/Users/terrell8/miniconda2/envs/pyPIPS/lib/python3.8/site-packages/xarray/backends/netCDF4_.py:378: DeprecationWarning: tostring() is deprecated. Use tobytes() instead.\n",
      "  attributes = {k: var.getncattr(k) for k in var.ncattrs()}\n",
      "/Users/terrell8/miniconda2/envs/pyPIPS/lib/python3.8/site-packages/xarray/backends/netCDF4_.py:378: DeprecationWarning: tostring() is deprecated. Use tobytes() instead.\n",
      "  attributes = {k: var.getncattr(k) for k in var.ncattrs()}\n",
      "/Users/terrell8/miniconda2/envs/pyPIPS/lib/python3.8/site-packages/xarray/backends/netCDF4_.py:378: DeprecationWarning: tostring() is deprecated. Use tobytes() instead.\n",
      "  attributes = {k: var.getncattr(k) for k in var.ncattrs()}\n",
      "/Users/terrell8/miniconda2/envs/pyPIPS/lib/python3.8/site-packages/xarray/backends/netCDF4_.py:378: DeprecationWarning: tostring() is deprecated. Use tobytes() instead.\n",
      "  attributes = {k: var.getncattr(k) for k in var.ncattrs()}\n",
      "/Users/terrell8/miniconda2/envs/pyPIPS/lib/python3.8/site-packages/xarray/backends/netCDF4_.py:378: DeprecationWarning: tostring() is deprecated. Use tobytes() instead.\n",
      "  attributes = {k: var.getncattr(k) for k in var.ncattrs()}\n",
      "/Users/terrell8/miniconda2/envs/pyPIPS/lib/python3.8/site-packages/xarray/backends/netCDF4_.py:378: DeprecationWarning: tostring() is deprecated. Use tobytes() instead.\n",
      "  attributes = {k: var.getncattr(k) for k in var.ncattrs()}\n",
      "/Users/terrell8/miniconda2/envs/pyPIPS/lib/python3.8/site-packages/xarray/backends/netCDF4_.py:378: DeprecationWarning: tostring() is deprecated. Use tobytes() instead.\n",
      "  attributes = {k: var.getncattr(k) for k in var.ncattrs()}\n",
      "/Users/terrell8/miniconda2/envs/pyPIPS/lib/python3.8/site-packages/xarray/backends/netCDF4_.py:411: DeprecationWarning: tostring() is deprecated. Use tobytes() instead.\n",
      "  attrs = FrozenDict((k, self.ds.getncattr(k)) for k in self.ds.ncattrs())\n",
      "/Users/terrell8/miniconda2/envs/pyPIPS/lib/python3.8/site-packages/xarray/backends/netCDF4_.py:411: DeprecationWarning: tostring() is deprecated. Use tobytes() instead.\n",
      "  attrs = FrozenDict((k, self.ds.getncattr(k)) for k in self.ds.ncattrs())\n",
      "/Users/terrell8/miniconda2/envs/pyPIPS/lib/python3.8/site-packages/xarray/backends/netCDF4_.py:411: DeprecationWarning: tostring() is deprecated. Use tobytes() instead.\n",
      "  attrs = FrozenDict((k, self.ds.getncattr(k)) for k in self.ds.ncattrs())\n",
      "/Users/terrell8/miniconda2/envs/pyPIPS/lib/python3.8/site-packages/xarray/backends/netCDF4_.py:411: DeprecationWarning: tostring() is deprecated. Use tobytes() instead.\n",
      "  attrs = FrozenDict((k, self.ds.getncattr(k)) for k in self.ds.ncattrs())\n",
      "/Users/terrell8/miniconda2/envs/pyPIPS/lib/python3.8/site-packages/xarray/backends/netCDF4_.py:411: DeprecationWarning: tostring() is deprecated. Use tobytes() instead.\n",
      "  attrs = FrozenDict((k, self.ds.getncattr(k)) for k in self.ds.ncattrs())\n"
     ]
    }
   ],
   "source": [
    "# Read in PIPS data\n",
    "PIPS_data_dir = '/Users/terrell8/sshfs_mounts/depot/data/Projects/VORTEXSE/obsdata/full_PIPS_dataset/'\n",
    "PIPS_filename = 'parsivel_combined_FMCW_2017_032717_PIPS2A_60s.nc'\n",
    "PIPS_filepath = os.path.join(PIPS_data_dir, PIPS_filename)\n",
    "PIPS_ds = xr.open_dataset(PIPS_filepath)\n",
    "print(PIPS_ds)"
   ]
  },
  {
   "cell_type": "code",
   "execution_count": 3,
   "metadata": {
    "ExecuteTime": {
     "end_time": "2020-12-30T19:28:13.017290Z",
     "start_time": "2020-12-30T19:28:12.647702Z"
    }
   },
   "outputs": [
    {
     "name": "stdout",
     "output_type": "stream",
     "text": [
      "KGWX20170327_190247_V06.ar2v\n",
      "KGWX20170327_190808_V06.ar2v\n",
      "KGWX20170327_191330_V06.ar2v\n",
      "KGWX20170327_191858_V06.ar2v\n",
      "KGWX20170327_192426_V06.ar2v\n",
      "KGWX20170327_192941_V06.ar2v\n",
      "KGWX20170327_193508_V06.ar2v\n",
      "KGWX20170327_194032_V06.ar2v\n",
      "KGWX20170327_194540_V06.ar2v\n",
      "KGWX20170327_195101_V06.ar2v\n",
      "KGWX20170327_195623_V06.ar2v\n",
      "KGWX20170327_200151_V06.ar2v\n",
      "KGWX20170327_200719_V06.ar2v\n",
      "KGWX20170327_201248_V06.ar2v\n",
      "KGWX20170327_201816_V06.ar2v\n",
      "KGWX20170327_202330_V06.ar2v\n",
      "KGWX20170327_202845_V06.ar2v\n",
      "KGWX20170327_203405_V06.ar2v\n",
      "KGWX20170327_203927_V06.ar2v\n",
      "KGWX20170327_204441_V06.ar2v\n",
      "KGWX20170327_204955_V06.ar2v\n",
      "KGWX20170327_205524_V06.ar2v\n",
      "KGWX20170327_210052_V06.ar2v\n",
      "KGWX20170327_210619_V06.ar2v\n",
      "KGWX20170327_211148_V06.ar2v\n",
      "KGWX20170327_211656_V06.ar2v\n",
      "KGWX20170327_212210_V06.ar2v\n",
      "KGWX20170327_212732_V06.ar2v\n",
      "KGWX20170327_213253_V06.ar2v\n",
      "KGWX20170327_213813_V06.ar2v\n",
      "KGWX20170327_214335_V06.ar2v\n",
      "KGWX20170327_214856_V06.ar2v\n",
      "KGWX20170327_215426_V06.ar2v\n",
      "KGWX20170327_215954_V06.ar2v\n",
      "KGWX20170327_220508_V06.ar2v\n",
      "KGWX20170327_221036_V06.ar2v\n",
      "KGWX20170327_221550_V06.ar2v\n",
      "KGWX20170327_222117_V06.ar2v\n",
      "KGWX20170327_222631_V06.ar2v\n",
      "KGWX20170327_223125_V06.ar2v\n",
      "KGWX20170327_223618_V06.ar2v\n",
      "KGWX20170327_224118_V06.ar2v\n",
      "KGWX20170327_224612_V06.ar2v\n",
      "KGWX20170327_225112_V06.ar2v\n",
      "KGWX20170327_225552_V06.ar2v\n",
      "KGWX20170327_230033_V06.ar2v\n",
      "KGWX20170327_230513_V06.ar2v\n",
      "KGWX20170327_230940_V06.ar2v\n",
      "KGWX20170327_231407_V06.ar2v\n",
      "KGWX20170327_231833_V06.ar2v\n",
      "KGWX20170327_232246_V06.ar2v\n",
      "KGWX20170327_232658_V06.ar2v\n",
      "KGWX20170327_233111_V06.ar2v\n",
      "KGWX20170327_233529_V06.ar2v\n",
      "KGWX20170327_233941_V06.ar2v\n",
      "KGWX20170327_234354_V06.ar2v\n",
      "KGWX20170327_234753_V06.ar2v\n",
      "KGWX20170327_235152_V06.ar2v\n",
      "KGWX20170327_235552_V06.ar2v\n",
      "KGWX20170327_235952_V06.ar2v\n",
      "KGWX20170328_000351_V06.ar2v\n",
      "KGWX20170328_000750_V06.ar2v\n",
      "KGWX20170328_001148_V06.ar2v\n",
      "KGWX20170328_001757_V06.ar2v\n",
      "KGWX20170328_002156_V06.ar2v\n",
      "KGWX20170328_002555_V06.ar2v\n",
      "KGWX20170328_002954_V06.ar2v\n",
      "KGWX20170328_003353_V06.ar2v\n",
      "KGWX20170328_003753_V06.ar2v\n",
      "KGWX20170328_004158_V06.ar2v\n",
      "KGWX20170328_004631_V06.ar2v\n",
      "KGWX20170328_005050_V06.ar2v\n",
      "KGWX20170328_005455_V06.ar2v\n",
      "KGWX20170328_005915_V06.ar2v\n",
      "KGWX20170328_010327_V06.ar2v\n",
      "KGWX20170328_010726_V06.ar2v\n",
      "KGWX20170328_011138_V06.ar2v\n",
      "KGWX20170328_011550_V06.ar2v\n",
      "KGWX20170328_012002_V06.ar2v\n",
      "KGWX20170328_012433_V06.ar2v\n",
      "KGWX20170328_012906_V06.ar2v\n",
      "KGWX20170328_013338_V06.ar2v\n",
      "KGWX20170328_013810_V06.ar2v\n",
      "KGWX20170328_014256_V06.ar2v\n",
      "KGWX20170328_014755_V06.ar2v\n",
      "KGWX20170328_015241_V06.ar2v\n",
      "KGWX20170328_015740_V06.ar2v\n",
      "KGWX20170328_020253_V06.ar2v\n",
      "KGWX20170328_020746_V06.ar2v\n",
      "KGWX20170328_021103_V06.ar2v\n",
      "KGWX20170328_021602_V06.ar2v\n",
      "KGWX20170328_022101_V06.ar2v\n",
      "KGWX20170328_022602_V06.ar2v\n",
      "KGWX20170328_023102_V06.ar2v\n",
      "KGWX20170328_023630_V06.ar2v\n",
      "KGWX20170328_024137_V06.ar2v\n",
      "KGWX20170328_024645_V06.ar2v\n",
      "KGWX20170328_025154_V06.ar2v\n",
      "KGWX20170328_025701_V06.ar2v\n",
      "KGWX20170328_030209_V06.ar2v\n",
      "KGWX20170328_030718_V06.ar2v\n",
      "KGWX20170328_031246_V06.ar2v\n",
      "KGWX20170328_031814_V06.ar2v\n",
      "KGWX20170328_032341_V06.ar2v\n",
      "KGWX20170328_032909_V06.ar2v\n",
      "KGWX20170328_033438_V06.ar2v\n",
      "KGWX20170328_033952_V06.ar2v\n",
      "KGWX20170328_034519_V06.ar2v\n",
      "KGWX20170328_035048_V06.ar2v\n"
     ]
    },
    {
     "name": "stderr",
     "output_type": "stream",
     "text": [
      "/Users/terrell8/miniconda2/envs/pyPIPS/lib/python3.8/site-packages/ipykernel/ipkernel.py:283: DeprecationWarning: `should_run_async` will not call `transform_cell` automatically in the future. Please pass the result to `transformed_cell` argument and any exception that happen during thetransform in `preprocessing_exc_tuple` in IPython 7.17 and above.\n",
      "  and should_run_async(code)\n"
     ]
    }
   ],
   "source": [
    "radar_starttimestamp = '201703271900'\n",
    "radar_endtimestamp = '201703280356'\n",
    "\n",
    "radar_startdatetime = datetime.strptime(radar_starttimestamp, '%Y%m%d%H%M')\n",
    "radar_enddatetime = datetime.strptime(radar_endtimestamp, '%Y%m%d%H%M')\n",
    "\n",
    "radar_basedir = \\\n",
    "    '/Users/terrell8/sshfs_mounts/depot/data/Projects/VORTEXSE/obsdata/2017/NEXRAD/IOP_1B'\n",
    "level2_dir = os.path.join(radar_basedir, 'level2')\n",
    "level2_files = sorted(glob(level2_dir + '/*.ar2v'))\n",
    "\n",
    "level2_files_to_read = []\n",
    "for level2_file in level2_files:\n",
    "    radar_file_timestamp = os.path.basename(level2_file)[4:19]\n",
    "    radar_file_datetime = datetime.strptime(radar_file_timestamp, '%Y%m%d_%H%M%S')\n",
    "    if radar_file_datetime >= radar_startdatetime and radar_file_datetime <= radar_enddatetime:\n",
    "        level2_files_to_read.append(level2_file)\n",
    "        print(os.path.basename(level2_file))\n",
    "\n",
    "gridded_output_dir = os.path.join(radar_basedir, 'gridded_new')\n",
    "if not os.path.exists(gridded_output_dir):\n",
    "    os.makedirs(gridded_output_dir)"
   ]
  },
  {
   "cell_type": "code",
   "execution_count": 4,
   "metadata": {
    "ExecuteTime": {
     "end_time": "2020-12-30T19:20:17.754091Z",
     "start_time": "2020-12-30T19:20:17.686056Z"
    }
   },
   "outputs": [
    {
     "name": "stdout",
     "output_type": "stream",
     "text": [
      "41\n"
     ]
    },
    {
     "name": "stderr",
     "output_type": "stream",
     "text": [
      "/Users/terrell8/miniconda2/envs/pyPIPS/lib/python3.8/site-packages/ipykernel/ipkernel.py:283: DeprecationWarning: `should_run_async` will not call `transform_cell` automatically in the future. Please pass the result to `transformed_cell` argument and any exception that happen during thetransform in `preprocessing_exc_tuple` in IPython 7.17 and above.\n",
      "  and should_run_async(code)\n"
     ]
    }
   ],
   "source": [
    "# Set up grid limits and spacing\n",
    "\n",
    "xmin = -123000.\n",
    "xmax = 123000.\n",
    "dx = 1000.\n",
    "nx = int((xmax - xmin) / dx) + 1\n",
    "\n",
    "ymin = -123000.\n",
    "ymax = 123000.\n",
    "dy = 1000.\n",
    "ny = int((ymax - ymin) / dy) + 1\n",
    "\n",
    "zmin = 500.\n",
    "zmax = 4500.\n",
    "dz = 100.\n",
    "nz = int((zmax - zmin) / dz) + 1\n",
    "print(nz)"
   ]
  },
  {
   "cell_type": "code",
   "execution_count": 5,
   "metadata": {
    "ExecuteTime": {
     "end_time": "2020-12-30T19:29:35.028922Z",
     "start_time": "2020-12-30T19:28:45.270310Z"
    }
   },
   "outputs": [
    {
     "name": "stderr",
     "output_type": "stream",
     "text": [
      "/Users/terrell8/miniconda2/envs/pyPIPS/lib/python3.8/site-packages/ipykernel/ipkernel.py:283: DeprecationWarning: `should_run_async` will not call `transform_cell` automatically in the future. Please pass the result to `transformed_cell` argument and any exception that happen during thetransform in `preprocessing_exc_tuple` in IPython 7.17 and above.\n",
      "  and should_run_async(code)\n"
     ]
    },
    {
     "name": "stdout",
     "output_type": "stream",
     "text": [
      "/Users/terrell8/sshfs_mounts/depot/data/Projects/VORTEXSE/obsdata/2017/NEXRAD/IOP_1B/level2/KGWX20170327_190247_V06.ar2v\n"
     ]
    },
    {
     "name": "stderr",
     "output_type": "stream",
     "text": [
      "/Users/terrell8/miniconda2/envs/pyPIPS/lib/python3.8/site-packages/pyart/filters/gatefilter.py:460: DeprecationWarning: `np.bool` is a deprecated alias for the builtin `bool`. To silence this warning, use `bool` by itself. Doing this will not modify any behavior and is safe. If you specifically wanted the numpy scalar type, use `np.bool_` here.\n",
      "Deprecated in NumPy 1.20; for more details and guidance: https://numpy.org/devdocs/release/1.20.0-notes.html#deprecations\n",
      "  self._gate_excluded = np.zeros(shape, dtype=np.bool)\n"
     ]
    },
    {
     "name": "stdout",
     "output_type": "stream",
     "text": [
      "<xarray.Dataset>\n",
      "Dimensions:                    (time: 1, x: 247, y: 247, z: 41)\n",
      "Coordinates:\n",
      "  * time                       (time) object 2017-03-27 19:02:47.533000\n",
      "  * z                          (z) float64 500.0 600.0 700.0 ... 4.4e+03 4.5e+03\n",
      "    lat                        (y) float64 32.78 32.79 32.8 ... 34.98 34.99 35.0\n",
      "    lon                        (x) float64 -89.64 -89.63 ... -87.02 -87.01\n",
      "  * y                          (y) float64 -1.23e+05 -1.22e+05 ... 1.23e+05\n",
      "  * x                          (x) float64 -1.23e+05 -1.22e+05 ... 1.23e+05\n",
      "Data variables:\n",
      "    differential_reflectivity  (time, z, y, x) float32 1.61 1.648 ... nan nan\n",
      "    reflectivity               (time, z, y, x) float32 11.33 12.01 ... nan nan\n",
      "    cross_correlation_ratio    (time, z, y, x) float32 1.011 1.01 ... nan nan\n",
      "    ROI                        (time, z, y, x) float32 4.58e+03 ... 4.78e+03\n"
     ]
    }
   ],
   "source": [
    "# Test first radar file\n",
    "\n",
    "print(level2_files_to_read[0])\n",
    "\n",
    "radar = pyart.io.read_nexrad_archive(level2_files_to_read[0])\n",
    "\n",
    "grid = pyart.map.grid_from_radars(\n",
    "    (radar,),\n",
    "    grid_shape=(nz, ny, nx),\n",
    "    grid_limits=((zmin, zmax), (ymin, ymax), (xmin, xmax)),\n",
    "    fields=['differential_reflectivity', 'reflectivity', 'cross_correlation_ratio'],\n",
    "    weighting_function='Barnes2')\n",
    "\n",
    "grid_xr = grid.to_xarray()\n",
    "print(grid_xr)"
   ]
  },
  {
   "cell_type": "code",
   "execution_count": 6,
   "metadata": {
    "ExecuteTime": {
     "end_time": "2020-12-30T19:29:50.120423Z",
     "start_time": "2020-12-30T19:29:49.184055Z"
    }
   },
   "outputs": [
    {
     "name": "stderr",
     "output_type": "stream",
     "text": [
      "/Users/terrell8/miniconda2/envs/pyPIPS/lib/python3.8/site-packages/ipykernel/ipkernel.py:283: DeprecationWarning: `should_run_async` will not call `transform_cell` automatically in the future. Please pass the result to `transformed_cell` argument and any exception that happen during thetransform in `preprocessing_exc_tuple` in IPython 7.17 and above.\n",
      "  and should_run_async(code)\n"
     ]
    },
    {
     "data": {
      "text/plain": [
       "[<matplotlib.lines.Line2D at 0x153ec1640>]"
      ]
     },
     "execution_count": 6,
     "metadata": {},
     "output_type": "execute_result"
    },
    {
     "data": {
      "image/png": "[encoded data removed]",
      "text/plain": [
       "<Figure size 720x720 with 2 Axes>"
      ]
     },
     "metadata": {
      "needs_background": "light"
     },
     "output_type": "display_data"
    }
   ],
   "source": [
    "display = pyart.graph.GridMapDisplay(grid)\n",
    "\n",
    "# create the plot\n",
    "projection = ccrs.PlateCarree()\n",
    "fig = plt.figure(figsize=(10,10))\n",
    "ax = plt.axes(projection=projection)\n",
    "\n",
    "#ax.imshow(grid.fields['REF']['data'][0], origin='lower')\n",
    "display.plot_grid('reflectivity', 0, vmin=0, vmax=55, projection=projection, cmap=\"pyart_HomeyerRainbow\", ax=ax)\n",
    "#plt.xlim(-86.7, -85.3)\n",
    "#plt.ylim(34.0, 36.0)\n",
    "#start_time = '2017-04-30T20:45'\n",
    "#end_time = '2017-04-30T20:45'\n",
    "#plt.title('HTX Time {}'.format(start_time))\n",
    "\n",
    "# Read in the file, create a RadarMapDisplay object\n",
    "# fmcw_data_dir = '/Users/terrell8/sshfs_mounts/depot/data/Projects/VORTEXSE/obsdata/2017/FMCW/0430'\n",
    "\n",
    "# Indicate the radar location with a point\n",
    "FMCW_lat = 34.3352\n",
    "FMCW_lon = -87.2024\n",
    "ax.plot([FMCW_lon], [FMCW_lat], color='black', marker='o', transform=ccrs.PlateCarree())\n"
   ]
  },
  {
   "cell_type": "code",
   "execution_count": 7,
   "metadata": {
    "ExecuteTime": {
     "end_time": "2020-12-30T20:06:58.072730Z",
     "start_time": "2020-12-30T19:30:36.787683Z"
    },
    "scrolled": true
   },
   "outputs": [
    {
     "name": "stderr",
     "output_type": "stream",
     "text": [
      "/Users/terrell8/miniconda2/envs/pyPIPS/lib/python3.8/site-packages/ipykernel/ipkernel.py:283: DeprecationWarning: `should_run_async` will not call `transform_cell` automatically in the future. Please pass the result to `transformed_cell` argument and any exception that happen during thetransform in `preprocessing_exc_tuple` in IPython 7.17 and above.\n",
      "  and should_run_async(code)\n"
     ]
    },
    {
     "name": "stdout",
     "output_type": "stream",
     "text": [
      "On file 1 of 110 (0.91%)\n",
      "Reading KGWX20170327_190247_V06.ar2v\n",
      "Mapping to grid!\n"
     ]
    },
    {
     "name": "stderr",
     "output_type": "stream",
     "text": [
      "/Users/terrell8/miniconda2/envs/pyPIPS/lib/python3.8/site-packages/pyart/filters/gatefilter.py:460: DeprecationWarning: `np.bool` is a deprecated alias for the builtin `bool`. To silence this warning, use `bool` by itself. Doing this will not modify any behavior and is safe. If you specifically wanted the numpy scalar type, use `np.bool_` here.\n",
      "Deprecated in NumPy 1.20; for more details and guidance: https://numpy.org/devdocs/release/1.20.0-notes.html#deprecations\n",
      "  self._gate_excluded = np.zeros(shape, dtype=np.bool)\n"
     ]
    },
    {
     "name": "stdout",
     "output_type": "stream",
     "text": [
      "Writing KGWX20170327_190247_V06_gridded.nc\n"
     ]
    },
    {
     "name": "stderr",
     "output_type": "stream",
     "text": [
      "/Users/terrell8/miniconda2/envs/pyPIPS/lib/python3.8/site-packages/pyart/io/common.py:71: DeprecationWarning: tostring() is deprecated. Use tobytes() instead.\n",
      "  carr = netCDF4.stringtochar(arr)\n"
     ]
    },
    {
     "name": "stdout",
     "output_type": "stream",
     "text": [
      "On file 2 of 110 (1.82%)\n",
      "Reading KGWX20170327_190808_V06.ar2v\n",
      "Mapping to grid!\n"
     ]
    },
    {
     "name": "stderr",
     "output_type": "stream",
     "text": [
      "/Users/terrell8/miniconda2/envs/pyPIPS/lib/python3.8/site-packages/pyart/filters/gatefilter.py:460: DeprecationWarning: `np.bool` is a deprecated alias for the builtin `bool`. To silence this warning, use `bool` by itself. Doing this will not modify any behavior and is safe. If you specifically wanted the numpy scalar type, use `np.bool_` here.\n",
      "Deprecated in NumPy 1.20; for more details and guidance: https://numpy.org/devdocs/release/1.20.0-notes.html#deprecations\n",
      "  self._gate_excluded = np.zeros(shape, dtype=np.bool)\n"
     ]
    },
    {
     "name": "stdout",
     "output_type": "stream",
     "text": [
      "Writing KGWX20170327_190808_V06_gridded.nc\n"
     ]
    },
    {
     "name": "stderr",
     "output_type": "stream",
     "text": [
      "/Users/terrell8/miniconda2/envs/pyPIPS/lib/python3.8/site-packages/pyart/io/common.py:71: DeprecationWarning: tostring() is deprecated. Use tobytes() instead.\n",
      "  carr = netCDF4.stringtochar(arr)\n"
     ]
    },
    {
     "name": "stdout",
     "output_type": "stream",
     "text": [
      "On file 3 of 110 (2.73%)\n",
      "Reading KGWX20170327_191330_V06.ar2v\n",
      "Mapping to grid!\n"
     ]
    },
    {
     "name": "stderr",
     "output_type": "stream",
     "text": [
      "/Users/terrell8/miniconda2/envs/pyPIPS/lib/python3.8/site-packages/pyart/filters/gatefilter.py:460: DeprecationWarning: `np.bool` is a deprecated alias for the builtin `bool`. To silence this warning, use `bool` by itself. Doing this will not modify any behavior and is safe. If you specifically wanted the numpy scalar type, use `np.bool_` here.\n",
      "Deprecated in NumPy 1.20; for more details and guidance: https://numpy.org/devdocs/release/1.20.0-notes.html#deprecations\n",
      "  self._gate_excluded = np.zeros(shape, dtype=np.bool)\n"
     ]
    },
    {
     "name": "stdout",
     "output_type": "stream",
     "text": [
      "Writing KGWX20170327_191330_V06_gridded.nc\n"
     ]
    },
    {
     "name": "stderr",
     "output_type": "stream",
     "text": [
      "/Users/terrell8/miniconda2/envs/pyPIPS/lib/python3.8/site-packages/pyart/io/common.py:71: DeprecationWarning: tostring() is deprecated. Use tobytes() instead.\n",
      "  carr = netCDF4.stringtochar(arr)\n"
     ]
    },
    {
     "name": "stdout",
     "output_type": "stream",
     "text": [
      "On file 4 of 110 (3.64%)\n",
      "Reading KGWX20170327_191858_V06.ar2v\n",
      "Mapping to grid!\n"
     ]
    },
    {
     "name": "stderr",
     "output_type": "stream",
     "text": [
      "/Users/terrell8/miniconda2/envs/pyPIPS/lib/python3.8/site-packages/pyart/filters/gatefilter.py:460: DeprecationWarning: `np.bool` is a deprecated alias for the builtin `bool`. To silence this warning, use `bool` by itself. Doing this will not modify any behavior and is safe. If you specifically wanted the numpy scalar type, use `np.bool_` here.\n",
      "Deprecated in NumPy 1.20; for more details and guidance: https://numpy.org/devdocs/release/1.20.0-notes.html#deprecations\n",
      "  self._gate_excluded = np.zeros(shape, dtype=np.bool)\n"
     ]
    },
    {
     "name": "stdout",
     "output_type": "stream",
     "text": [
      "Writing KGWX20170327_191858_V06_gridded.nc\n"
     ]
    },
    {
     "name": "stderr",
     "output_type": "stream",
     "text": [
      "/Users/terrell8/miniconda2/envs/pyPIPS/lib/python3.8/site-packages/pyart/io/common.py:71: DeprecationWarning: tostring() is deprecated. Use tobytes() instead.\n",
      "  carr = netCDF4.stringtochar(arr)\n"
     ]
    },
    {
     "name": "stdout",
     "output_type": "stream",
     "text": [
      "On file 5 of 110 (4.55%)\n",
      "Reading KGWX20170327_192426_V06.ar2v\n",
      "Mapping to grid!\n"
     ]
    },
    {
     "name": "stderr",
     "output_type": "stream",
     "text": [
      "/Users/terrell8/miniconda2/envs/pyPIPS/lib/python3.8/site-packages/pyart/filters/gatefilter.py:460: DeprecationWarning: `np.bool` is a deprecated alias for the builtin `bool`. To silence this warning, use `bool` by itself. Doing this will not modify any behavior and is safe. If you specifically wanted the numpy scalar type, use `np.bool_` here.\n",
      "Deprecated in NumPy 1.20; for more details and guidance: https://numpy.org/devdocs/release/1.20.0-notes.html#deprecations\n",
      "  self._gate_excluded = np.zeros(shape, dtype=np.bool)\n"
     ]
    },
    {
     "name": "stdout",
     "output_type": "stream",
     "text": [
      "Writing KGWX20170327_192426_V06_gridded.nc\n"
     ]
    },
    {
     "name": "stderr",
     "output_type": "stream",
     "text": [
      "/Users/terrell8/miniconda2/envs/pyPIPS/lib/python3.8/site-packages/pyart/io/common.py:71: DeprecationWarning: tostring() is deprecated. Use tobytes() instead.\n",
      "  carr = netCDF4.stringtochar(arr)\n"
     ]
    },
    {
     "name": "stdout",
     "output_type": "stream",
     "text": [
      "On file 6 of 110 (5.45%)\n",
      "Reading KGWX20170327_192941_V06.ar2v\n",
      "Mapping to grid!\n"
     ]
    },
    {
     "name": "stderr",
     "output_type": "stream",
     "text": [
      "/Users/terrell8/miniconda2/envs/pyPIPS/lib/python3.8/site-packages/pyart/filters/gatefilter.py:460: DeprecationWarning: `np.bool` is a deprecated alias for the builtin `bool`. To silence this warning, use `bool` by itself. Doing this will not modify any behavior and is safe. If you specifically wanted the numpy scalar type, use `np.bool_` here.\n",
      "Deprecated in NumPy 1.20; for more details and guidance: https://numpy.org/devdocs/release/1.20.0-notes.html#deprecations\n",
      "  self._gate_excluded = np.zeros(shape, dtype=np.bool)\n"
     ]
    },
    {
     "name": "stdout",
     "output_type": "stream",
     "text": [
      "Writing KGWX20170327_192941_V06_gridded.nc\n"
     ]
    },
    {
     "name": "stderr",
     "output_type": "stream",
     "text": [
      "/Users/terrell8/miniconda2/envs/pyPIPS/lib/python3.8/site-packages/pyart/io/common.py:71: DeprecationWarning: tostring() is deprecated. Use tobytes() instead.\n",
      "  carr = netCDF4.stringtochar(arr)\n"
     ]
    },
    {
     "name": "stdout",
     "output_type": "stream",
     "text": [
      "On file 7 of 110 (6.36%)\n",
      "Reading KGWX20170327_193508_V06.ar2v\n",
      "Mapping to grid!\n"
     ]
    },
    {
     "name": "stderr",
     "output_type": "stream",
     "text": [
      "/Users/terrell8/miniconda2/envs/pyPIPS/lib/python3.8/site-packages/pyart/filters/gatefilter.py:460: DeprecationWarning: `np.bool` is a deprecated alias for the builtin `bool`. To silence this warning, use `bool` by itself. Doing this will not modify any behavior and is safe. If you specifically wanted the numpy scalar type, use `np.bool_` here.\n",
      "Deprecated in NumPy 1.20; for more details and guidance: https://numpy.org/devdocs/release/1.20.0-notes.html#deprecations\n",
      "  self._gate_excluded = np.zeros(shape, dtype=np.bool)\n"
     ]
    },
    {
     "name": "stdout",
     "output_type": "stream",
     "text": [
      "Writing KGWX20170327_193508_V06_gridded.nc\n"
     ]
    },
    {
     "name": "stderr",
     "output_type": "stream",
     "text": [
      "/Users/terrell8/miniconda2/envs/pyPIPS/lib/python3.8/site-packages/pyart/io/common.py:71: DeprecationWarning: tostring() is deprecated. Use tobytes() instead.\n",
      "  carr = netCDF4.stringtochar(arr)\n"
     ]
    },
    {
     "name": "stdout",
     "output_type": "stream",
     "text": [
      "On file 8 of 110 (7.27%)\n",
      "Reading KGWX20170327_194032_V06.ar2v\n",
      "Mapping to grid!\n"
     ]
    },
    {
     "name": "stderr",
     "output_type": "stream",
     "text": [
      "/Users/terrell8/miniconda2/envs/pyPIPS/lib/python3.8/site-packages/pyart/filters/gatefilter.py:460: DeprecationWarning: `np.bool` is a deprecated alias for the builtin `bool`. To silence this warning, use `bool` by itself. Doing this will not modify any behavior and is safe. If you specifically wanted the numpy scalar type, use `np.bool_` here.\n",
      "Deprecated in NumPy 1.20; for more details and guidance: https://numpy.org/devdocs/release/1.20.0-notes.html#deprecations\n",
      "  self._gate_excluded = np.zeros(shape, dtype=np.bool)\n"
     ]
    },
    {
     "name": "stdout",
     "output_type": "stream",
     "text": [
      "Writing KGWX20170327_194032_V06_gridded.nc\n"
     ]
    },
    {
     "name": "stderr",
     "output_type": "stream",
     "text": [
      "/Users/terrell8/miniconda2/envs/pyPIPS/lib/python3.8/site-packages/pyart/io/common.py:71: DeprecationWarning: tostring() is deprecated. Use tobytes() instead.\n",
      "  carr = netCDF4.stringtochar(arr)\n"
     ]
    },
    {
     "name": "stdout",
     "output_type": "stream",
     "text": [
      "On file 9 of 110 (8.18%)\n",
      "Reading KGWX20170327_194540_V06.ar2v\n",
      "Mapping to grid!\n"
     ]
    },
    {
     "name": "stderr",
     "output_type": "stream",
     "text": [
      "/Users/terrell8/miniconda2/envs/pyPIPS/lib/python3.8/site-packages/pyart/filters/gatefilter.py:460: DeprecationWarning: `np.bool` is a deprecated alias for the builtin `bool`. To silence this warning, use `bool` by itself. Doing this will not modify any behavior and is safe. If you specifically wanted the numpy scalar type, use `np.bool_` here.\n",
      "Deprecated in NumPy 1.20; for more details and guidance: https://numpy.org/devdocs/release/1.20.0-notes.html#deprecations\n",
      "  self._gate_excluded = np.zeros(shape, dtype=np.bool)\n"
     ]
    },
    {
     "name": "stdout",
     "output_type": "stream",
     "text": [
      "Writing KGWX20170327_194540_V06_gridded.nc\n"
     ]
    },
    {
     "name": "stderr",
     "output_type": "stream",
     "text": [
      "/Users/terrell8/miniconda2/envs/pyPIPS/lib/python3.8/site-packages/pyart/io/common.py:71: DeprecationWarning: tostring() is deprecated. Use tobytes() instead.\n",
      "  carr = netCDF4.stringtochar(arr)\n"
     ]
    },
    {
     "name": "stdout",
     "output_type": "stream",
     "text": [
      "On file 10 of 110 (9.09%)\n",
      "Reading KGWX20170327_195101_V06.ar2v\n",
      "Mapping to grid!\n"
     ]
    },
    {
     "name": "stderr",
     "output_type": "stream",
     "text": [
      "/Users/terrell8/miniconda2/envs/pyPIPS/lib/python3.8/site-packages/pyart/filters/gatefilter.py:460: DeprecationWarning: `np.bool` is a deprecated alias for the builtin `bool`. To silence this warning, use `bool` by itself. Doing this will not modify any behavior and is safe. If you specifically wanted the numpy scalar type, use `np.bool_` here.\n",
      "Deprecated in NumPy 1.20; for more details and guidance: https://numpy.org/devdocs/release/1.20.0-notes.html#deprecations\n",
      "  self._gate_excluded = np.zeros(shape, dtype=np.bool)\n"
     ]
    },
    {
     "name": "stdout",
     "output_type": "stream",
     "text": [
      "Writing KGWX20170327_195101_V06_gridded.nc\n"
     ]
    },
    {
     "name": "stderr",
     "output_type": "stream",
     "text": [
      "/Users/terrell8/miniconda2/envs/pyPIPS/lib/python3.8/site-packages/pyart/io/common.py:71: DeprecationWarning: tostring() is deprecated. Use tobytes() instead.\n",
      "  carr = netCDF4.stringtochar(arr)\n"
     ]
    },
    {
     "name": "stdout",
     "output_type": "stream",
     "text": [
      "On file 11 of 110 (10.00%)\n",
      "Reading KGWX20170327_195623_V06.ar2v\n",
      "Mapping to grid!\n"
     ]
    },
    {
     "name": "stderr",
     "output_type": "stream",
     "text": [
      "/Users/terrell8/miniconda2/envs/pyPIPS/lib/python3.8/site-packages/pyart/filters/gatefilter.py:460: DeprecationWarning: `np.bool` is a deprecated alias for the builtin `bool`. To silence this warning, use `bool` by itself. Doing this will not modify any behavior and is safe. If you specifically wanted the numpy scalar type, use `np.bool_` here.\n",
      "Deprecated in NumPy 1.20; for more details and guidance: https://numpy.org/devdocs/release/1.20.0-notes.html#deprecations\n",
      "  self._gate_excluded = np.zeros(shape, dtype=np.bool)\n"
     ]
    },
    {
     "name": "stdout",
     "output_type": "stream",
     "text": [
      "Writing KGWX20170327_195623_V06_gridded.nc\n"
     ]
    },
    {
     "name": "stderr",
     "output_type": "stream",
     "text": [
      "/Users/terrell8/miniconda2/envs/pyPIPS/lib/python3.8/site-packages/pyart/io/common.py:71: DeprecationWarning: tostring() is deprecated. Use tobytes() instead.\n",
      "  carr = netCDF4.stringtochar(arr)\n"
     ]
    },
    {
     "name": "stdout",
     "output_type": "stream",
     "text": [
      "On file 12 of 110 (10.91%)\n",
      "Reading KGWX20170327_200151_V06.ar2v\n",
      "Mapping to grid!\n"
     ]
    },
    {
     "name": "stderr",
     "output_type": "stream",
     "text": [
      "/Users/terrell8/miniconda2/envs/pyPIPS/lib/python3.8/site-packages/pyart/filters/gatefilter.py:460: DeprecationWarning: `np.bool` is a deprecated alias for the builtin `bool`. To silence this warning, use `bool` by itself. Doing this will not modify any behavior and is safe. If you specifically wanted the numpy scalar type, use `np.bool_` here.\n",
      "Deprecated in NumPy 1.20; for more details and guidance: https://numpy.org/devdocs/release/1.20.0-notes.html#deprecations\n",
      "  self._gate_excluded = np.zeros(shape, dtype=np.bool)\n"
     ]
    },
    {
     "name": "stdout",
     "output_type": "stream",
     "text": [
      "Writing KGWX20170327_200151_V06_gridded.nc\n"
     ]
    },
    {
     "name": "stderr",
     "output_type": "stream",
     "text": [
      "/Users/terrell8/miniconda2/envs/pyPIPS/lib/python3.8/site-packages/pyart/io/common.py:71: DeprecationWarning: tostring() is deprecated. Use tobytes() instead.\n",
      "  carr = netCDF4.stringtochar(arr)\n"
     ]
    },
    {
     "name": "stdout",
     "output_type": "stream",
     "text": [
      "On file 13 of 110 (11.82%)\n",
      "Reading KGWX20170327_200719_V06.ar2v\n",
      "Mapping to grid!\n"
     ]
    },
    {
     "name": "stderr",
     "output_type": "stream",
     "text": [
      "/Users/terrell8/miniconda2/envs/pyPIPS/lib/python3.8/site-packages/pyart/filters/gatefilter.py:460: DeprecationWarning: `np.bool` is a deprecated alias for the builtin `bool`. To silence this warning, use `bool` by itself. Doing this will not modify any behavior and is safe. If you specifically wanted the numpy scalar type, use `np.bool_` here.\n",
      "Deprecated in NumPy 1.20; for more details and guidance: https://numpy.org/devdocs/release/1.20.0-notes.html#deprecations\n",
      "  self._gate_excluded = np.zeros(shape, dtype=np.bool)\n"
     ]
    },
    {
     "name": "stdout",
     "output_type": "stream",
     "text": [
      "Writing KGWX20170327_200719_V06_gridded.nc\n"
     ]
    },
    {
     "name": "stderr",
     "output_type": "stream",
     "text": [
      "/Users/terrell8/miniconda2/envs/pyPIPS/lib/python3.8/site-packages/pyart/io/common.py:71: DeprecationWarning: tostring() is deprecated. Use tobytes() instead.\n",
      "  carr = netCDF4.stringtochar(arr)\n"
     ]
    },
    {
     "name": "stdout",
     "output_type": "stream",
     "text": [
      "On file 14 of 110 (12.73%)\n",
      "Reading KGWX20170327_201248_V06.ar2v\n",
      "Mapping to grid!\n"
     ]
    },
    {
     "name": "stderr",
     "output_type": "stream",
     "text": [
      "/Users/terrell8/miniconda2/envs/pyPIPS/lib/python3.8/site-packages/pyart/filters/gatefilter.py:460: DeprecationWarning: `np.bool` is a deprecated alias for the builtin `bool`. To silence this warning, use `bool` by itself. Doing this will not modify any behavior and is safe. If you specifically wanted the numpy scalar type, use `np.bool_` here.\n",
      "Deprecated in NumPy 1.20; for more details and guidance: https://numpy.org/devdocs/release/1.20.0-notes.html#deprecations\n",
      "  self._gate_excluded = np.zeros(shape, dtype=np.bool)\n"
     ]
    },
    {
     "name": "stdout",
     "output_type": "stream",
     "text": [
      "Writing KGWX20170327_201248_V06_gridded.nc\n"
     ]
    },
    {
     "name": "stderr",
     "output_type": "stream",
     "text": [
      "/Users/terrell8/miniconda2/envs/pyPIPS/lib/python3.8/site-packages/pyart/io/common.py:71: DeprecationWarning: tostring() is deprecated. Use tobytes() instead.\n",
      "  carr = netCDF4.stringtochar(arr)\n"
     ]
    },
    {
     "name": "stdout",
     "output_type": "stream",
     "text": [
      "On file 15 of 110 (13.64%)\n",
      "Reading KGWX20170327_201816_V06.ar2v\n",
      "Mapping to grid!\n"
     ]
    },
    {
     "name": "stderr",
     "output_type": "stream",
     "text": [
      "/Users/terrell8/miniconda2/envs/pyPIPS/lib/python3.8/site-packages/pyart/filters/gatefilter.py:460: DeprecationWarning: `np.bool` is a deprecated alias for the builtin `bool`. To silence this warning, use `bool` by itself. Doing this will not modify any behavior and is safe. If you specifically wanted the numpy scalar type, use `np.bool_` here.\n",
      "Deprecated in NumPy 1.20; for more details and guidance: https://numpy.org/devdocs/release/1.20.0-notes.html#deprecations\n",
      "  self._gate_excluded = np.zeros(shape, dtype=np.bool)\n"
     ]
    },
    {
     "name": "stdout",
     "output_type": "stream",
     "text": [
      "Writing KGWX20170327_201816_V06_gridded.nc\n"
     ]
    },
    {
     "name": "stderr",
     "output_type": "stream",
     "text": [
      "/Users/terrell8/miniconda2/envs/pyPIPS/lib/python3.8/site-packages/pyart/io/common.py:71: DeprecationWarning: tostring() is deprecated. Use tobytes() instead.\n",
      "  carr = netCDF4.stringtochar(arr)\n"
     ]
    },
    {
     "name": "stdout",
     "output_type": "stream",
     "text": [
      "On file 16 of 110 (14.55%)\n",
      "Reading KGWX20170327_202330_V06.ar2v\n",
      "Mapping to grid!\n"
     ]
    },
    {
     "name": "stderr",
     "output_type": "stream",
     "text": [
      "/Users/terrell8/miniconda2/envs/pyPIPS/lib/python3.8/site-packages/pyart/filters/gatefilter.py:460: DeprecationWarning: `np.bool` is a deprecated alias for the builtin `bool`. To silence this warning, use `bool` by itself. Doing this will not modify any behavior and is safe. If you specifically wanted the numpy scalar type, use `np.bool_` here.\n",
      "Deprecated in NumPy 1.20; for more details and guidance: https://numpy.org/devdocs/release/1.20.0-notes.html#deprecations\n",
      "  self._gate_excluded = np.zeros(shape, dtype=np.bool)\n"
     ]
    },
    {
     "name": "stdout",
     "output_type": "stream",
     "text": [
      "Writing KGWX20170327_202330_V06_gridded.nc\n"
     ]
    },
    {
     "name": "stderr",
     "output_type": "stream",
     "text": [
      "/Users/terrell8/miniconda2/envs/pyPIPS/lib/python3.8/site-packages/pyart/io/common.py:71: DeprecationWarning: tostring() is deprecated. Use tobytes() instead.\n",
      "  carr = netCDF4.stringtochar(arr)\n"
     ]
    },
    {
     "name": "stdout",
     "output_type": "stream",
     "text": [
      "On file 17 of 110 (15.45%)\n",
      "Reading KGWX20170327_202845_V06.ar2v\n",
      "Mapping to grid!\n"
     ]
    },
    {
     "name": "stderr",
     "output_type": "stream",
     "text": [
      "/Users/terrell8/miniconda2/envs/pyPIPS/lib/python3.8/site-packages/pyart/filters/gatefilter.py:460: DeprecationWarning: `np.bool` is a deprecated alias for the builtin `bool`. To silence this warning, use `bool` by itself. Doing this will not modify any behavior and is safe. If you specifically wanted the numpy scalar type, use `np.bool_` here.\n",
      "Deprecated in NumPy 1.20; for more details and guidance: https://numpy.org/devdocs/release/1.20.0-notes.html#deprecations\n",
      "  self._gate_excluded = np.zeros(shape, dtype=np.bool)\n"
     ]
    },
    {
     "name": "stdout",
     "output_type": "stream",
     "text": [
      "Writing KGWX20170327_202845_V06_gridded.nc\n"
     ]
    },
    {
     "name": "stderr",
     "output_type": "stream",
     "text": [
      "/Users/terrell8/miniconda2/envs/pyPIPS/lib/python3.8/site-packages/pyart/io/common.py:71: DeprecationWarning: tostring() is deprecated. Use tobytes() instead.\n",
      "  carr = netCDF4.stringtochar(arr)\n"
     ]
    },
    {
     "name": "stdout",
     "output_type": "stream",
     "text": [
      "On file 18 of 110 (16.36%)\n",
      "Reading KGWX20170327_203405_V06.ar2v\n",
      "Mapping to grid!\n"
     ]
    },
    {
     "name": "stderr",
     "output_type": "stream",
     "text": [
      "/Users/terrell8/miniconda2/envs/pyPIPS/lib/python3.8/site-packages/pyart/filters/gatefilter.py:460: DeprecationWarning: `np.bool` is a deprecated alias for the builtin `bool`. To silence this warning, use `bool` by itself. Doing this will not modify any behavior and is safe. If you specifically wanted the numpy scalar type, use `np.bool_` here.\n",
      "Deprecated in NumPy 1.20; for more details and guidance: https://numpy.org/devdocs/release/1.20.0-notes.html#deprecations\n",
      "  self._gate_excluded = np.zeros(shape, dtype=np.bool)\n"
     ]
    },
    {
     "name": "stdout",
     "output_type": "stream",
     "text": [
      "Writing KGWX20170327_203405_V06_gridded.nc\n"
     ]
    },
    {
     "name": "stderr",
     "output_type": "stream",
     "text": [
      "/Users/terrell8/miniconda2/envs/pyPIPS/lib/python3.8/site-packages/pyart/io/common.py:71: DeprecationWarning: tostring() is deprecated. Use tobytes() instead.\n",
      "  carr = netCDF4.stringtochar(arr)\n"
     ]
    },
    {
     "name": "stdout",
     "output_type": "stream",
     "text": [
      "On file 19 of 110 (17.27%)\n",
      "Reading KGWX20170327_203927_V06.ar2v\n",
      "Mapping to grid!\n"
     ]
    },
    {
     "name": "stderr",
     "output_type": "stream",
     "text": [
      "/Users/terrell8/miniconda2/envs/pyPIPS/lib/python3.8/site-packages/pyart/filters/gatefilter.py:460: DeprecationWarning: `np.bool` is a deprecated alias for the builtin `bool`. To silence this warning, use `bool` by itself. Doing this will not modify any behavior and is safe. If you specifically wanted the numpy scalar type, use `np.bool_` here.\n",
      "Deprecated in NumPy 1.20; for more details and guidance: https://numpy.org/devdocs/release/1.20.0-notes.html#deprecations\n",
      "  self._gate_excluded = np.zeros(shape, dtype=np.bool)\n"
     ]
    },
    {
     "name": "stdout",
     "output_type": "stream",
     "text": [
      "Writing KGWX20170327_203927_V06_gridded.nc\n"
     ]
    },
    {
     "name": "stderr",
     "output_type": "stream",
     "text": [
      "/Users/terrell8/miniconda2/envs/pyPIPS/lib/python3.8/site-packages/pyart/io/common.py:71: DeprecationWarning: tostring() is deprecated. Use tobytes() instead.\n",
      "  carr = netCDF4.stringtochar(arr)\n"
     ]
    },
    {
     "name": "stdout",
     "output_type": "stream",
     "text": [
      "On file 20 of 110 (18.18%)\n",
      "Reading KGWX20170327_204441_V06.ar2v\n",
      "Mapping to grid!\n"
     ]
    },
    {
     "name": "stderr",
     "output_type": "stream",
     "text": [
      "/Users/terrell8/miniconda2/envs/pyPIPS/lib/python3.8/site-packages/pyart/filters/gatefilter.py:460: DeprecationWarning: `np.bool` is a deprecated alias for the builtin `bool`. To silence this warning, use `bool` by itself. Doing this will not modify any behavior and is safe. If you specifically wanted the numpy scalar type, use `np.bool_` here.\n",
      "Deprecated in NumPy 1.20; for more details and guidance: https://numpy.org/devdocs/release/1.20.0-notes.html#deprecations\n",
      "  self._gate_excluded = np.zeros(shape, dtype=np.bool)\n"
     ]
    },
    {
     "name": "stdout",
     "output_type": "stream",
     "text": [
      "Writing KGWX20170327_204441_V06_gridded.nc\n"
     ]
    },
    {
     "name": "stderr",
     "output_type": "stream",
     "text": [
      "/Users/terrell8/miniconda2/envs/pyPIPS/lib/python3.8/site-packages/pyart/io/common.py:71: DeprecationWarning: tostring() is deprecated. Use tobytes() instead.\n",
      "  carr = netCDF4.stringtochar(arr)\n"
     ]
    },
    {
     "name": "stdout",
     "output_type": "stream",
     "text": [
      "On file 21 of 110 (19.09%)\n",
      "Reading KGWX20170327_204955_V06.ar2v\n",
      "Mapping to grid!\n"
     ]
    },
    {
     "name": "stderr",
     "output_type": "stream",
     "text": [
      "/Users/terrell8/miniconda2/envs/pyPIPS/lib/python3.8/site-packages/pyart/filters/gatefilter.py:460: DeprecationWarning: `np.bool` is a deprecated alias for the builtin `bool`. To silence this warning, use `bool` by itself. Doing this will not modify any behavior and is safe. If you specifically wanted the numpy scalar type, use `np.bool_` here.\n",
      "Deprecated in NumPy 1.20; for more details and guidance: https://numpy.org/devdocs/release/1.20.0-notes.html#deprecations\n",
      "  self._gate_excluded = np.zeros(shape, dtype=np.bool)\n"
     ]
    },
    {
     "name": "stdout",
     "output_type": "stream",
     "text": [
      "Writing KGWX20170327_204955_V06_gridded.nc\n"
     ]
    },
    {
     "name": "stderr",
     "output_type": "stream",
     "text": [
      "/Users/terrell8/miniconda2/envs/pyPIPS/lib/python3.8/site-packages/pyart/io/common.py:71: DeprecationWarning: tostring() is deprecated. Use tobytes() instead.\n",
      "  carr = netCDF4.stringtochar(arr)\n"
     ]
    },
    {
     "name": "stdout",
     "output_type": "stream",
     "text": [
      "On file 22 of 110 (20.00%)\n",
      "Reading KGWX20170327_205524_V06.ar2v\n",
      "Mapping to grid!\n"
     ]
    },
    {
     "name": "stderr",
     "output_type": "stream",
     "text": [
      "/Users/terrell8/miniconda2/envs/pyPIPS/lib/python3.8/site-packages/pyart/filters/gatefilter.py:460: DeprecationWarning: `np.bool` is a deprecated alias for the builtin `bool`. To silence this warning, use `bool` by itself. Doing this will not modify any behavior and is safe. If you specifically wanted the numpy scalar type, use `np.bool_` here.\n",
      "Deprecated in NumPy 1.20; for more details and guidance: https://numpy.org/devdocs/release/1.20.0-notes.html#deprecations\n",
      "  self._gate_excluded = np.zeros(shape, dtype=np.bool)\n"
     ]
    },
    {
     "name": "stdout",
     "output_type": "stream",
     "text": [
      "Writing KGWX20170327_205524_V06_gridded.nc\n"
     ]
    },
    {
     "name": "stderr",
     "output_type": "stream",
     "text": [
      "/Users/terrell8/miniconda2/envs/pyPIPS/lib/python3.8/site-packages/pyart/io/common.py:71: DeprecationWarning: tostring() is deprecated. Use tobytes() instead.\n",
      "  carr = netCDF4.stringtochar(arr)\n"
     ]
    },
    {
     "name": "stdout",
     "output_type": "stream",
     "text": [
      "On file 23 of 110 (20.91%)\n",
      "Reading KGWX20170327_210052_V06.ar2v\n",
      "Mapping to grid!\n"
     ]
    },
    {
     "name": "stderr",
     "output_type": "stream",
     "text": [
      "/Users/terrell8/miniconda2/envs/pyPIPS/lib/python3.8/site-packages/pyart/filters/gatefilter.py:460: DeprecationWarning: `np.bool` is a deprecated alias for the builtin `bool`. To silence this warning, use `bool` by itself. Doing this will not modify any behavior and is safe. If you specifically wanted the numpy scalar type, use `np.bool_` here.\n",
      "Deprecated in NumPy 1.20; for more details and guidance: https://numpy.org/devdocs/release/1.20.0-notes.html#deprecations\n",
      "  self._gate_excluded = np.zeros(shape, dtype=np.bool)\n"
     ]
    },
    {
     "name": "stdout",
     "output_type": "stream",
     "text": [
      "Writing KGWX20170327_210052_V06_gridded.nc\n"
     ]
    },
    {
     "name": "stderr",
     "output_type": "stream",
     "text": [
      "/Users/terrell8/miniconda2/envs/pyPIPS/lib/python3.8/site-packages/pyart/io/common.py:71: DeprecationWarning: tostring() is deprecated. Use tobytes() instead.\n",
      "  carr = netCDF4.stringtochar(arr)\n"
     ]
    },
    {
     "name": "stdout",
     "output_type": "stream",
     "text": [
      "On file 24 of 110 (21.82%)\n",
      "Reading KGWX20170327_210619_V06.ar2v\n",
      "Mapping to grid!\n"
     ]
    },
    {
     "name": "stderr",
     "output_type": "stream",
     "text": [
      "/Users/terrell8/miniconda2/envs/pyPIPS/lib/python3.8/site-packages/pyart/filters/gatefilter.py:460: DeprecationWarning: `np.bool` is a deprecated alias for the builtin `bool`. To silence this warning, use `bool` by itself. Doing this will not modify any behavior and is safe. If you specifically wanted the numpy scalar type, use `np.bool_` here.\n",
      "Deprecated in NumPy 1.20; for more details and guidance: https://numpy.org/devdocs/release/1.20.0-notes.html#deprecations\n",
      "  self._gate_excluded = np.zeros(shape, dtype=np.bool)\n"
     ]
    },
    {
     "name": "stdout",
     "output_type": "stream",
     "text": [
      "Writing KGWX20170327_210619_V06_gridded.nc\n"
     ]
    },
    {
     "name": "stderr",
     "output_type": "stream",
     "text": [
      "/Users/terrell8/miniconda2/envs/pyPIPS/lib/python3.8/site-packages/pyart/io/common.py:71: DeprecationWarning: tostring() is deprecated. Use tobytes() instead.\n",
      "  carr = netCDF4.stringtochar(arr)\n"
     ]
    },
    {
     "name": "stdout",
     "output_type": "stream",
     "text": [
      "On file 25 of 110 (22.73%)\n",
      "Reading KGWX20170327_211148_V06.ar2v\n",
      "Mapping to grid!\n"
     ]
    },
    {
     "name": "stderr",
     "output_type": "stream",
     "text": [
      "/Users/terrell8/miniconda2/envs/pyPIPS/lib/python3.8/site-packages/pyart/filters/gatefilter.py:460: DeprecationWarning: `np.bool` is a deprecated alias for the builtin `bool`. To silence this warning, use `bool` by itself. Doing this will not modify any behavior and is safe. If you specifically wanted the numpy scalar type, use `np.bool_` here.\n",
      "Deprecated in NumPy 1.20; for more details and guidance: https://numpy.org/devdocs/release/1.20.0-notes.html#deprecations\n",
      "  self._gate_excluded = np.zeros(shape, dtype=np.bool)\n"
     ]
    },
    {
     "name": "stdout",
     "output_type": "stream",
     "text": [
      "Writing KGWX20170327_211148_V06_gridded.nc\n"
     ]
    },
    {
     "name": "stderr",
     "output_type": "stream",
     "text": [
      "/Users/terrell8/miniconda2/envs/pyPIPS/lib/python3.8/site-packages/pyart/io/common.py:71: DeprecationWarning: tostring() is deprecated. Use tobytes() instead.\n",
      "  carr = netCDF4.stringtochar(arr)\n"
     ]
    },
    {
     "name": "stdout",
     "output_type": "stream",
     "text": [
      "On file 26 of 110 (23.64%)\n",
      "Reading KGWX20170327_211656_V06.ar2v\n",
      "Mapping to grid!\n"
     ]
    },
    {
     "name": "stderr",
     "output_type": "stream",
     "text": [
      "/Users/terrell8/miniconda2/envs/pyPIPS/lib/python3.8/site-packages/pyart/filters/gatefilter.py:460: DeprecationWarning: `np.bool` is a deprecated alias for the builtin `bool`. To silence this warning, use `bool` by itself. Doing this will not modify any behavior and is safe. If you specifically wanted the numpy scalar type, use `np.bool_` here.\n",
      "Deprecated in NumPy 1.20; for more details and guidance: https://numpy.org/devdocs/release/1.20.0-notes.html#deprecations\n",
      "  self._gate_excluded = np.zeros(shape, dtype=np.bool)\n"
     ]
    },
    {
     "name": "stdout",
     "output_type": "stream",
     "text": [
      "Writing KGWX20170327_211656_V06_gridded.nc\n"
     ]
    },
    {
     "name": "stderr",
     "output_type": "stream",
     "text": [
      "/Users/terrell8/miniconda2/envs/pyPIPS/lib/python3.8/site-packages/pyart/io/common.py:71: DeprecationWarning: tostring() is deprecated. Use tobytes() instead.\n",
      "  carr = netCDF4.stringtochar(arr)\n"
     ]
    },
    {
     "name": "stdout",
     "output_type": "stream",
     "text": [
      "On file 27 of 110 (24.55%)\n",
      "Reading KGWX20170327_212210_V06.ar2v\n",
      "Mapping to grid!\n"
     ]
    },
    {
     "name": "stderr",
     "output_type": "stream",
     "text": [
      "/Users/terrell8/miniconda2/envs/pyPIPS/lib/python3.8/site-packages/pyart/filters/gatefilter.py:460: DeprecationWarning: `np.bool` is a deprecated alias for the builtin `bool`. To silence this warning, use `bool` by itself. Doing this will not modify any behavior and is safe. If you specifically wanted the numpy scalar type, use `np.bool_` here.\n",
      "Deprecated in NumPy 1.20; for more details and guidance: https://numpy.org/devdocs/release/1.20.0-notes.html#deprecations\n",
      "  self._gate_excluded = np.zeros(shape, dtype=np.bool)\n"
     ]
    },
    {
     "name": "stdout",
     "output_type": "stream",
     "text": [
      "Writing KGWX20170327_212210_V06_gridded.nc\n"
     ]
    },
    {
     "name": "stderr",
     "output_type": "stream",
     "text": [
      "/Users/terrell8/miniconda2/envs/pyPIPS/lib/python3.8/site-packages/pyart/io/common.py:71: DeprecationWarning: tostring() is deprecated. Use tobytes() instead.\n",
      "  carr = netCDF4.stringtochar(arr)\n"
     ]
    },
    {
     "name": "stdout",
     "output_type": "stream",
     "text": [
      "On file 28 of 110 (25.45%)\n",
      "Reading KGWX20170327_212732_V06.ar2v\n",
      "Mapping to grid!\n"
     ]
    },
    {
     "name": "stderr",
     "output_type": "stream",
     "text": [
      "/Users/terrell8/miniconda2/envs/pyPIPS/lib/python3.8/site-packages/pyart/filters/gatefilter.py:460: DeprecationWarning: `np.bool` is a deprecated alias for the builtin `bool`. To silence this warning, use `bool` by itself. Doing this will not modify any behavior and is safe. If you specifically wanted the numpy scalar type, use `np.bool_` here.\n",
      "Deprecated in NumPy 1.20; for more details and guidance: https://numpy.org/devdocs/release/1.20.0-notes.html#deprecations\n",
      "  self._gate_excluded = np.zeros(shape, dtype=np.bool)\n"
     ]
    },
    {
     "name": "stdout",
     "output_type": "stream",
     "text": [
      "Writing KGWX20170327_212732_V06_gridded.nc\n"
     ]
    },
    {
     "name": "stderr",
     "output_type": "stream",
     "text": [
      "/Users/terrell8/miniconda2/envs/pyPIPS/lib/python3.8/site-packages/pyart/io/common.py:71: DeprecationWarning: tostring() is deprecated. Use tobytes() instead.\n",
      "  carr = netCDF4.stringtochar(arr)\n"
     ]
    },
    {
     "name": "stdout",
     "output_type": "stream",
     "text": [
      "On file 29 of 110 (26.36%)\n",
      "Reading KGWX20170327_213253_V06.ar2v\n",
      "Mapping to grid!\n"
     ]
    },
    {
     "name": "stderr",
     "output_type": "stream",
     "text": [
      "/Users/terrell8/miniconda2/envs/pyPIPS/lib/python3.8/site-packages/pyart/filters/gatefilter.py:460: DeprecationWarning: `np.bool` is a deprecated alias for the builtin `bool`. To silence this warning, use `bool` by itself. Doing this will not modify any behavior and is safe. If you specifically wanted the numpy scalar type, use `np.bool_` here.\n",
      "Deprecated in NumPy 1.20; for more details and guidance: https://numpy.org/devdocs/release/1.20.0-notes.html#deprecations\n",
      "  self._gate_excluded = np.zeros(shape, dtype=np.bool)\n"
     ]
    },
    {
     "name": "stdout",
     "output_type": "stream",
     "text": [
      "Writing KGWX20170327_213253_V06_gridded.nc\n"
     ]
    },
    {
     "name": "stderr",
     "output_type": "stream",
     "text": [
      "/Users/terrell8/miniconda2/envs/pyPIPS/lib/python3.8/site-packages/pyart/io/common.py:71: DeprecationWarning: tostring() is deprecated. Use tobytes() instead.\n",
      "  carr = netCDF4.stringtochar(arr)\n"
     ]
    },
    {
     "name": "stdout",
     "output_type": "stream",
     "text": [
      "On file 30 of 110 (27.27%)\n",
      "Reading KGWX20170327_213813_V06.ar2v\n",
      "Mapping to grid!\n"
     ]
    },
    {
     "name": "stderr",
     "output_type": "stream",
     "text": [
      "/Users/terrell8/miniconda2/envs/pyPIPS/lib/python3.8/site-packages/pyart/filters/gatefilter.py:460: DeprecationWarning: `np.bool` is a deprecated alias for the builtin `bool`. To silence this warning, use `bool` by itself. Doing this will not modify any behavior and is safe. If you specifically wanted the numpy scalar type, use `np.bool_` here.\n",
      "Deprecated in NumPy 1.20; for more details and guidance: https://numpy.org/devdocs/release/1.20.0-notes.html#deprecations\n",
      "  self._gate_excluded = np.zeros(shape, dtype=np.bool)\n"
     ]
    },
    {
     "name": "stdout",
     "output_type": "stream",
     "text": [
      "Writing KGWX20170327_213813_V06_gridded.nc\n"
     ]
    },
    {
     "name": "stderr",
     "output_type": "stream",
     "text": [
      "/Users/terrell8/miniconda2/envs/pyPIPS/lib/python3.8/site-packages/pyart/io/common.py:71: DeprecationWarning: tostring() is deprecated. Use tobytes() instead.\n",
      "  carr = netCDF4.stringtochar(arr)\n"
     ]
    },
    {
     "name": "stdout",
     "output_type": "stream",
     "text": [
      "On file 31 of 110 (28.18%)\n",
      "Reading KGWX20170327_214335_V06.ar2v\n",
      "Mapping to grid!\n"
     ]
    },
    {
     "name": "stderr",
     "output_type": "stream",
     "text": [
      "/Users/terrell8/miniconda2/envs/pyPIPS/lib/python3.8/site-packages/pyart/filters/gatefilter.py:460: DeprecationWarning: `np.bool` is a deprecated alias for the builtin `bool`. To silence this warning, use `bool` by itself. Doing this will not modify any behavior and is safe. If you specifically wanted the numpy scalar type, use `np.bool_` here.\n",
      "Deprecated in NumPy 1.20; for more details and guidance: https://numpy.org/devdocs/release/1.20.0-notes.html#deprecations\n",
      "  self._gate_excluded = np.zeros(shape, dtype=np.bool)\n"
     ]
    },
    {
     "name": "stdout",
     "output_type": "stream",
     "text": [
      "Writing KGWX20170327_214335_V06_gridded.nc\n"
     ]
    },
    {
     "name": "stderr",
     "output_type": "stream",
     "text": [
      "/Users/terrell8/miniconda2/envs/pyPIPS/lib/python3.8/site-packages/pyart/io/common.py:71: DeprecationWarning: tostring() is deprecated. Use tobytes() instead.\n",
      "  carr = netCDF4.stringtochar(arr)\n"
     ]
    },
    {
     "name": "stdout",
     "output_type": "stream",
     "text": [
      "On file 32 of 110 (29.09%)\n",
      "Reading KGWX20170327_214856_V06.ar2v\n",
      "Mapping to grid!\n"
     ]
    },
    {
     "name": "stderr",
     "output_type": "stream",
     "text": [
      "/Users/terrell8/miniconda2/envs/pyPIPS/lib/python3.8/site-packages/pyart/filters/gatefilter.py:460: DeprecationWarning: `np.bool` is a deprecated alias for the builtin `bool`. To silence this warning, use `bool` by itself. Doing this will not modify any behavior and is safe. If you specifically wanted the numpy scalar type, use `np.bool_` here.\n",
      "Deprecated in NumPy 1.20; for more details and guidance: https://numpy.org/devdocs/release/1.20.0-notes.html#deprecations\n",
      "  self._gate_excluded = np.zeros(shape, dtype=np.bool)\n"
     ]
    },
    {
     "name": "stdout",
     "output_type": "stream",
     "text": [
      "Writing KGWX20170327_214856_V06_gridded.nc\n"
     ]
    },
    {
     "name": "stderr",
     "output_type": "stream",
     "text": [
      "/Users/terrell8/miniconda2/envs/pyPIPS/lib/python3.8/site-packages/pyart/io/common.py:71: DeprecationWarning: tostring() is deprecated. Use tobytes() instead.\n",
      "  carr = netCDF4.stringtochar(arr)\n"
     ]
    },
    {
     "name": "stdout",
     "output_type": "stream",
     "text": [
      "On file 33 of 110 (30.00%)\n",
      "Reading KGWX20170327_215426_V06.ar2v\n",
      "Mapping to grid!\n"
     ]
    },
    {
     "name": "stderr",
     "output_type": "stream",
     "text": [
      "/Users/terrell8/miniconda2/envs/pyPIPS/lib/python3.8/site-packages/pyart/filters/gatefilter.py:460: DeprecationWarning: `np.bool` is a deprecated alias for the builtin `bool`. To silence this warning, use `bool` by itself. Doing this will not modify any behavior and is safe. If you specifically wanted the numpy scalar type, use `np.bool_` here.\n",
      "Deprecated in NumPy 1.20; for more details and guidance: https://numpy.org/devdocs/release/1.20.0-notes.html#deprecations\n",
      "  self._gate_excluded = np.zeros(shape, dtype=np.bool)\n"
     ]
    },
    {
     "name": "stdout",
     "output_type": "stream",
     "text": [
      "Writing KGWX20170327_215426_V06_gridded.nc\n"
     ]
    },
    {
     "name": "stderr",
     "output_type": "stream",
     "text": [
      "/Users/terrell8/miniconda2/envs/pyPIPS/lib/python3.8/site-packages/pyart/io/common.py:71: DeprecationWarning: tostring() is deprecated. Use tobytes() instead.\n",
      "  carr = netCDF4.stringtochar(arr)\n"
     ]
    },
    {
     "name": "stdout",
     "output_type": "stream",
     "text": [
      "On file 34 of 110 (30.91%)\n",
      "Reading KGWX20170327_215954_V06.ar2v\n",
      "Mapping to grid!\n"
     ]
    },
    {
     "name": "stderr",
     "output_type": "stream",
     "text": [
      "/Users/terrell8/miniconda2/envs/pyPIPS/lib/python3.8/site-packages/pyart/filters/gatefilter.py:460: DeprecationWarning: `np.bool` is a deprecated alias for the builtin `bool`. To silence this warning, use `bool` by itself. Doing this will not modify any behavior and is safe. If you specifically wanted the numpy scalar type, use `np.bool_` here.\n",
      "Deprecated in NumPy 1.20; for more details and guidance: https://numpy.org/devdocs/release/1.20.0-notes.html#deprecations\n",
      "  self._gate_excluded = np.zeros(shape, dtype=np.bool)\n"
     ]
    },
    {
     "name": "stdout",
     "output_type": "stream",
     "text": [
      "Writing KGWX20170327_215954_V06_gridded.nc\n"
     ]
    },
    {
     "name": "stderr",
     "output_type": "stream",
     "text": [
      "/Users/terrell8/miniconda2/envs/pyPIPS/lib/python3.8/site-packages/pyart/io/common.py:71: DeprecationWarning: tostring() is deprecated. Use tobytes() instead.\n",
      "  carr = netCDF4.stringtochar(arr)\n"
     ]
    },
    {
     "name": "stdout",
     "output_type": "stream",
     "text": [
      "On file 35 of 110 (31.82%)\n",
      "Reading KGWX20170327_220508_V06.ar2v\n",
      "Mapping to grid!\n"
     ]
    },
    {
     "name": "stderr",
     "output_type": "stream",
     "text": [
      "/Users/terrell8/miniconda2/envs/pyPIPS/lib/python3.8/site-packages/pyart/filters/gatefilter.py:460: DeprecationWarning: `np.bool` is a deprecated alias for the builtin `bool`. To silence this warning, use `bool` by itself. Doing this will not modify any behavior and is safe. If you specifically wanted the numpy scalar type, use `np.bool_` here.\n",
      "Deprecated in NumPy 1.20; for more details and guidance: https://numpy.org/devdocs/release/1.20.0-notes.html#deprecations\n",
      "  self._gate_excluded = np.zeros(shape, dtype=np.bool)\n"
     ]
    },
    {
     "name": "stdout",
     "output_type": "stream",
     "text": [
      "Writing KGWX20170327_220508_V06_gridded.nc\n"
     ]
    },
    {
     "name": "stderr",
     "output_type": "stream",
     "text": [
      "/Users/terrell8/miniconda2/envs/pyPIPS/lib/python3.8/site-packages/pyart/io/common.py:71: DeprecationWarning: tostring() is deprecated. Use tobytes() instead.\n",
      "  carr = netCDF4.stringtochar(arr)\n"
     ]
    },
    {
     "name": "stdout",
     "output_type": "stream",
     "text": [
      "On file 36 of 110 (32.73%)\n",
      "Reading KGWX20170327_221036_V06.ar2v\n",
      "Mapping to grid!\n"
     ]
    },
    {
     "name": "stderr",
     "output_type": "stream",
     "text": [
      "/Users/terrell8/miniconda2/envs/pyPIPS/lib/python3.8/site-packages/pyart/filters/gatefilter.py:460: DeprecationWarning: `np.bool` is a deprecated alias for the builtin `bool`. To silence this warning, use `bool` by itself. Doing this will not modify any behavior and is safe. If you specifically wanted the numpy scalar type, use `np.bool_` here.\n",
      "Deprecated in NumPy 1.20; for more details and guidance: https://numpy.org/devdocs/release/1.20.0-notes.html#deprecations\n",
      "  self._gate_excluded = np.zeros(shape, dtype=np.bool)\n"
     ]
    },
    {
     "name": "stdout",
     "output_type": "stream",
     "text": [
      "Writing KGWX20170327_221036_V06_gridded.nc\n"
     ]
    },
    {
     "name": "stderr",
     "output_type": "stream",
     "text": [
      "/Users/terrell8/miniconda2/envs/pyPIPS/lib/python3.8/site-packages/pyart/io/common.py:71: DeprecationWarning: tostring() is deprecated. Use tobytes() instead.\n",
      "  carr = netCDF4.stringtochar(arr)\n"
     ]
    },
    {
     "name": "stdout",
     "output_type": "stream",
     "text": [
      "On file 37 of 110 (33.64%)\n",
      "Reading KGWX20170327_221550_V06.ar2v\n",
      "Mapping to grid!\n"
     ]
    },
    {
     "name": "stderr",
     "output_type": "stream",
     "text": [
      "/Users/terrell8/miniconda2/envs/pyPIPS/lib/python3.8/site-packages/pyart/filters/gatefilter.py:460: DeprecationWarning: `np.bool` is a deprecated alias for the builtin `bool`. To silence this warning, use `bool` by itself. Doing this will not modify any behavior and is safe. If you specifically wanted the numpy scalar type, use `np.bool_` here.\n",
      "Deprecated in NumPy 1.20; for more details and guidance: https://numpy.org/devdocs/release/1.20.0-notes.html#deprecations\n",
      "  self._gate_excluded = np.zeros(shape, dtype=np.bool)\n"
     ]
    },
    {
     "name": "stdout",
     "output_type": "stream",
     "text": [
      "Writing KGWX20170327_221550_V06_gridded.nc\n"
     ]
    },
    {
     "name": "stderr",
     "output_type": "stream",
     "text": [
      "/Users/terrell8/miniconda2/envs/pyPIPS/lib/python3.8/site-packages/pyart/io/common.py:71: DeprecationWarning: tostring() is deprecated. Use tobytes() instead.\n",
      "  carr = netCDF4.stringtochar(arr)\n"
     ]
    },
    {
     "name": "stdout",
     "output_type": "stream",
     "text": [
      "On file 38 of 110 (34.55%)\n",
      "Reading KGWX20170327_222117_V06.ar2v\n",
      "Mapping to grid!\n"
     ]
    },
    {
     "name": "stderr",
     "output_type": "stream",
     "text": [
      "/Users/terrell8/miniconda2/envs/pyPIPS/lib/python3.8/site-packages/pyart/filters/gatefilter.py:460: DeprecationWarning: `np.bool` is a deprecated alias for the builtin `bool`. To silence this warning, use `bool` by itself. Doing this will not modify any behavior and is safe. If you specifically wanted the numpy scalar type, use `np.bool_` here.\n",
      "Deprecated in NumPy 1.20; for more details and guidance: https://numpy.org/devdocs/release/1.20.0-notes.html#deprecations\n",
      "  self._gate_excluded = np.zeros(shape, dtype=np.bool)\n"
     ]
    },
    {
     "name": "stdout",
     "output_type": "stream",
     "text": [
      "Writing KGWX20170327_222117_V06_gridded.nc\n"
     ]
    },
    {
     "name": "stderr",
     "output_type": "stream",
     "text": [
      "/Users/terrell8/miniconda2/envs/pyPIPS/lib/python3.8/site-packages/pyart/io/common.py:71: DeprecationWarning: tostring() is deprecated. Use tobytes() instead.\n",
      "  carr = netCDF4.stringtochar(arr)\n"
     ]
    },
    {
     "name": "stdout",
     "output_type": "stream",
     "text": [
      "On file 39 of 110 (35.45%)\n",
      "Reading KGWX20170327_222631_V06.ar2v\n",
      "Mapping to grid!\n"
     ]
    },
    {
     "name": "stderr",
     "output_type": "stream",
     "text": [
      "/Users/terrell8/miniconda2/envs/pyPIPS/lib/python3.8/site-packages/pyart/filters/gatefilter.py:460: DeprecationWarning: `np.bool` is a deprecated alias for the builtin `bool`. To silence this warning, use `bool` by itself. Doing this will not modify any behavior and is safe. If you specifically wanted the numpy scalar type, use `np.bool_` here.\n",
      "Deprecated in NumPy 1.20; for more details and guidance: https://numpy.org/devdocs/release/1.20.0-notes.html#deprecations\n",
      "  self._gate_excluded = np.zeros(shape, dtype=np.bool)\n"
     ]
    },
    {
     "name": "stdout",
     "output_type": "stream",
     "text": [
      "Writing KGWX20170327_222631_V06_gridded.nc\n"
     ]
    },
    {
     "name": "stderr",
     "output_type": "stream",
     "text": [
      "/Users/terrell8/miniconda2/envs/pyPIPS/lib/python3.8/site-packages/pyart/io/common.py:71: DeprecationWarning: tostring() is deprecated. Use tobytes() instead.\n",
      "  carr = netCDF4.stringtochar(arr)\n"
     ]
    },
    {
     "name": "stdout",
     "output_type": "stream",
     "text": [
      "On file 40 of 110 (36.36%)\n",
      "Reading KGWX20170327_223125_V06.ar2v\n",
      "Mapping to grid!\n"
     ]
    },
    {
     "name": "stderr",
     "output_type": "stream",
     "text": [
      "/Users/terrell8/miniconda2/envs/pyPIPS/lib/python3.8/site-packages/pyart/filters/gatefilter.py:460: DeprecationWarning: `np.bool` is a deprecated alias for the builtin `bool`. To silence this warning, use `bool` by itself. Doing this will not modify any behavior and is safe. If you specifically wanted the numpy scalar type, use `np.bool_` here.\n",
      "Deprecated in NumPy 1.20; for more details and guidance: https://numpy.org/devdocs/release/1.20.0-notes.html#deprecations\n",
      "  self._gate_excluded = np.zeros(shape, dtype=np.bool)\n"
     ]
    },
    {
     "name": "stdout",
     "output_type": "stream",
     "text": [
      "Writing KGWX20170327_223125_V06_gridded.nc\n"
     ]
    },
    {
     "name": "stderr",
     "output_type": "stream",
     "text": [
      "/Users/terrell8/miniconda2/envs/pyPIPS/lib/python3.8/site-packages/pyart/io/common.py:71: DeprecationWarning: tostring() is deprecated. Use tobytes() instead.\n",
      "  carr = netCDF4.stringtochar(arr)\n"
     ]
    },
    {
     "name": "stdout",
     "output_type": "stream",
     "text": [
      "On file 41 of 110 (37.27%)\n",
      "Reading KGWX20170327_223618_V06.ar2v\n",
      "Mapping to grid!\n"
     ]
    },
    {
     "name": "stderr",
     "output_type": "stream",
     "text": [
      "/Users/terrell8/miniconda2/envs/pyPIPS/lib/python3.8/site-packages/pyart/filters/gatefilter.py:460: DeprecationWarning: `np.bool` is a deprecated alias for the builtin `bool`. To silence this warning, use `bool` by itself. Doing this will not modify any behavior and is safe. If you specifically wanted the numpy scalar type, use `np.bool_` here.\n",
      "Deprecated in NumPy 1.20; for more details and guidance: https://numpy.org/devdocs/release/1.20.0-notes.html#deprecations\n",
      "  self._gate_excluded = np.zeros(shape, dtype=np.bool)\n"
     ]
    },
    {
     "name": "stdout",
     "output_type": "stream",
     "text": [
      "Writing KGWX20170327_223618_V06_gridded.nc\n"
     ]
    },
    {
     "name": "stderr",
     "output_type": "stream",
     "text": [
      "/Users/terrell8/miniconda2/envs/pyPIPS/lib/python3.8/site-packages/pyart/io/common.py:71: DeprecationWarning: tostring() is deprecated. Use tobytes() instead.\n",
      "  carr = netCDF4.stringtochar(arr)\n"
     ]
    },
    {
     "name": "stdout",
     "output_type": "stream",
     "text": [
      "On file 42 of 110 (38.18%)\n",
      "Reading KGWX20170327_224118_V06.ar2v\n",
      "Mapping to grid!\n"
     ]
    },
    {
     "name": "stderr",
     "output_type": "stream",
     "text": [
      "/Users/terrell8/miniconda2/envs/pyPIPS/lib/python3.8/site-packages/pyart/filters/gatefilter.py:460: DeprecationWarning: `np.bool` is a deprecated alias for the builtin `bool`. To silence this warning, use `bool` by itself. Doing this will not modify any behavior and is safe. If you specifically wanted the numpy scalar type, use `np.bool_` here.\n",
      "Deprecated in NumPy 1.20; for more details and guidance: https://numpy.org/devdocs/release/1.20.0-notes.html#deprecations\n",
      "  self._gate_excluded = np.zeros(shape, dtype=np.bool)\n"
     ]
    },
    {
     "name": "stdout",
     "output_type": "stream",
     "text": [
      "Writing KGWX20170327_224118_V06_gridded.nc\n"
     ]
    },
    {
     "name": "stderr",
     "output_type": "stream",
     "text": [
      "/Users/terrell8/miniconda2/envs/pyPIPS/lib/python3.8/site-packages/pyart/io/common.py:71: DeprecationWarning: tostring() is deprecated. Use tobytes() instead.\n",
      "  carr = netCDF4.stringtochar(arr)\n"
     ]
    },
    {
     "name": "stdout",
     "output_type": "stream",
     "text": [
      "On file 43 of 110 (39.09%)\n",
      "Reading KGWX20170327_224612_V06.ar2v\n",
      "Mapping to grid!\n"
     ]
    },
    {
     "name": "stderr",
     "output_type": "stream",
     "text": [
      "/Users/terrell8/miniconda2/envs/pyPIPS/lib/python3.8/site-packages/pyart/filters/gatefilter.py:460: DeprecationWarning: `np.bool` is a deprecated alias for the builtin `bool`. To silence this warning, use `bool` by itself. Doing this will not modify any behavior and is safe. If you specifically wanted the numpy scalar type, use `np.bool_` here.\n",
      "Deprecated in NumPy 1.20; for more details and guidance: https://numpy.org/devdocs/release/1.20.0-notes.html#deprecations\n",
      "  self._gate_excluded = np.zeros(shape, dtype=np.bool)\n"
     ]
    },
    {
     "name": "stdout",
     "output_type": "stream",
     "text": [
      "Writing KGWX20170327_224612_V06_gridded.nc\n"
     ]
    },
    {
     "name": "stderr",
     "output_type": "stream",
     "text": [
      "/Users/terrell8/miniconda2/envs/pyPIPS/lib/python3.8/site-packages/pyart/io/common.py:71: DeprecationWarning: tostring() is deprecated. Use tobytes() instead.\n",
      "  carr = netCDF4.stringtochar(arr)\n"
     ]
    },
    {
     "name": "stdout",
     "output_type": "stream",
     "text": [
      "On file 44 of 110 (40.00%)\n",
      "Reading KGWX20170327_225112_V06.ar2v\n",
      "Mapping to grid!\n"
     ]
    },
    {
     "name": "stderr",
     "output_type": "stream",
     "text": [
      "/Users/terrell8/miniconda2/envs/pyPIPS/lib/python3.8/site-packages/pyart/filters/gatefilter.py:460: DeprecationWarning: `np.bool` is a deprecated alias for the builtin `bool`. To silence this warning, use `bool` by itself. Doing this will not modify any behavior and is safe. If you specifically wanted the numpy scalar type, use `np.bool_` here.\n",
      "Deprecated in NumPy 1.20; for more details and guidance: https://numpy.org/devdocs/release/1.20.0-notes.html#deprecations\n",
      "  self._gate_excluded = np.zeros(shape, dtype=np.bool)\n"
     ]
    },
    {
     "name": "stdout",
     "output_type": "stream",
     "text": [
      "Writing KGWX20170327_225112_V06_gridded.nc\n"
     ]
    },
    {
     "name": "stderr",
     "output_type": "stream",
     "text": [
      "/Users/terrell8/miniconda2/envs/pyPIPS/lib/python3.8/site-packages/pyart/io/common.py:71: DeprecationWarning: tostring() is deprecated. Use tobytes() instead.\n",
      "  carr = netCDF4.stringtochar(arr)\n"
     ]
    },
    {
     "name": "stdout",
     "output_type": "stream",
     "text": [
      "On file 45 of 110 (40.91%)\n",
      "Reading KGWX20170327_225552_V06.ar2v\n",
      "Mapping to grid!\n"
     ]
    },
    {
     "name": "stderr",
     "output_type": "stream",
     "text": [
      "/Users/terrell8/miniconda2/envs/pyPIPS/lib/python3.8/site-packages/pyart/filters/gatefilter.py:460: DeprecationWarning: `np.bool` is a deprecated alias for the builtin `bool`. To silence this warning, use `bool` by itself. Doing this will not modify any behavior and is safe. If you specifically wanted the numpy scalar type, use `np.bool_` here.\n",
      "Deprecated in NumPy 1.20; for more details and guidance: https://numpy.org/devdocs/release/1.20.0-notes.html#deprecations\n",
      "  self._gate_excluded = np.zeros(shape, dtype=np.bool)\n"
     ]
    },
    {
     "name": "stdout",
     "output_type": "stream",
     "text": [
      "Writing KGWX20170327_225552_V06_gridded.nc\n"
     ]
    },
    {
     "name": "stderr",
     "output_type": "stream",
     "text": [
      "/Users/terrell8/miniconda2/envs/pyPIPS/lib/python3.8/site-packages/pyart/io/common.py:71: DeprecationWarning: tostring() is deprecated. Use tobytes() instead.\n",
      "  carr = netCDF4.stringtochar(arr)\n"
     ]
    },
    {
     "name": "stdout",
     "output_type": "stream",
     "text": [
      "On file 46 of 110 (41.82%)\n",
      "Reading KGWX20170327_230033_V06.ar2v\n",
      "Mapping to grid!\n"
     ]
    },
    {
     "name": "stderr",
     "output_type": "stream",
     "text": [
      "/Users/terrell8/miniconda2/envs/pyPIPS/lib/python3.8/site-packages/pyart/filters/gatefilter.py:460: DeprecationWarning: `np.bool` is a deprecated alias for the builtin `bool`. To silence this warning, use `bool` by itself. Doing this will not modify any behavior and is safe. If you specifically wanted the numpy scalar type, use `np.bool_` here.\n",
      "Deprecated in NumPy 1.20; for more details and guidance: https://numpy.org/devdocs/release/1.20.0-notes.html#deprecations\n",
      "  self._gate_excluded = np.zeros(shape, dtype=np.bool)\n"
     ]
    },
    {
     "name": "stdout",
     "output_type": "stream",
     "text": [
      "Writing KGWX20170327_230033_V06_gridded.nc\n"
     ]
    },
    {
     "name": "stderr",
     "output_type": "stream",
     "text": [
      "/Users/terrell8/miniconda2/envs/pyPIPS/lib/python3.8/site-packages/pyart/io/common.py:71: DeprecationWarning: tostring() is deprecated. Use tobytes() instead.\n",
      "  carr = netCDF4.stringtochar(arr)\n"
     ]
    },
    {
     "name": "stdout",
     "output_type": "stream",
     "text": [
      "On file 47 of 110 (42.73%)\n",
      "Reading KGWX20170327_230513_V06.ar2v\n",
      "Mapping to grid!\n"
     ]
    },
    {
     "name": "stderr",
     "output_type": "stream",
     "text": [
      "/Users/terrell8/miniconda2/envs/pyPIPS/lib/python3.8/site-packages/pyart/filters/gatefilter.py:460: DeprecationWarning: `np.bool` is a deprecated alias for the builtin `bool`. To silence this warning, use `bool` by itself. Doing this will not modify any behavior and is safe. If you specifically wanted the numpy scalar type, use `np.bool_` here.\n",
      "Deprecated in NumPy 1.20; for more details and guidance: https://numpy.org/devdocs/release/1.20.0-notes.html#deprecations\n",
      "  self._gate_excluded = np.zeros(shape, dtype=np.bool)\n"
     ]
    },
    {
     "name": "stdout",
     "output_type": "stream",
     "text": [
      "Writing KGWX20170327_230513_V06_gridded.nc\n"
     ]
    },
    {
     "name": "stderr",
     "output_type": "stream",
     "text": [
      "/Users/terrell8/miniconda2/envs/pyPIPS/lib/python3.8/site-packages/pyart/io/common.py:71: DeprecationWarning: tostring() is deprecated. Use tobytes() instead.\n",
      "  carr = netCDF4.stringtochar(arr)\n"
     ]
    },
    {
     "name": "stdout",
     "output_type": "stream",
     "text": [
      "On file 48 of 110 (43.64%)\n",
      "Reading KGWX20170327_230940_V06.ar2v\n",
      "Mapping to grid!\n"
     ]
    },
    {
     "name": "stderr",
     "output_type": "stream",
     "text": [
      "/Users/terrell8/miniconda2/envs/pyPIPS/lib/python3.8/site-packages/pyart/filters/gatefilter.py:460: DeprecationWarning: `np.bool` is a deprecated alias for the builtin `bool`. To silence this warning, use `bool` by itself. Doing this will not modify any behavior and is safe. If you specifically wanted the numpy scalar type, use `np.bool_` here.\n",
      "Deprecated in NumPy 1.20; for more details and guidance: https://numpy.org/devdocs/release/1.20.0-notes.html#deprecations\n",
      "  self._gate_excluded = np.zeros(shape, dtype=np.bool)\n"
     ]
    },
    {
     "name": "stdout",
     "output_type": "stream",
     "text": [
      "Writing KGWX20170327_230940_V06_gridded.nc\n"
     ]
    },
    {
     "name": "stderr",
     "output_type": "stream",
     "text": [
      "/Users/terrell8/miniconda2/envs/pyPIPS/lib/python3.8/site-packages/pyart/io/common.py:71: DeprecationWarning: tostring() is deprecated. Use tobytes() instead.\n",
      "  carr = netCDF4.stringtochar(arr)\n"
     ]
    },
    {
     "name": "stdout",
     "output_type": "stream",
     "text": [
      "On file 49 of 110 (44.55%)\n",
      "Reading KGWX20170327_231407_V06.ar2v\n",
      "Mapping to grid!\n"
     ]
    },
    {
     "name": "stderr",
     "output_type": "stream",
     "text": [
      "/Users/terrell8/miniconda2/envs/pyPIPS/lib/python3.8/site-packages/pyart/filters/gatefilter.py:460: DeprecationWarning: `np.bool` is a deprecated alias for the builtin `bool`. To silence this warning, use `bool` by itself. Doing this will not modify any behavior and is safe. If you specifically wanted the numpy scalar type, use `np.bool_` here.\n",
      "Deprecated in NumPy 1.20; for more details and guidance: https://numpy.org/devdocs/release/1.20.0-notes.html#deprecations\n",
      "  self._gate_excluded = np.zeros(shape, dtype=np.bool)\n"
     ]
    },
    {
     "name": "stdout",
     "output_type": "stream",
     "text": [
      "Writing KGWX20170327_231407_V06_gridded.nc\n"
     ]
    },
    {
     "name": "stderr",
     "output_type": "stream",
     "text": [
      "/Users/terrell8/miniconda2/envs/pyPIPS/lib/python3.8/site-packages/pyart/io/common.py:71: DeprecationWarning: tostring() is deprecated. Use tobytes() instead.\n",
      "  carr = netCDF4.stringtochar(arr)\n"
     ]
    },
    {
     "name": "stdout",
     "output_type": "stream",
     "text": [
      "On file 50 of 110 (45.45%)\n",
      "Reading KGWX20170327_231833_V06.ar2v\n",
      "Mapping to grid!\n"
     ]
    },
    {
     "name": "stderr",
     "output_type": "stream",
     "text": [
      "/Users/terrell8/miniconda2/envs/pyPIPS/lib/python3.8/site-packages/pyart/filters/gatefilter.py:460: DeprecationWarning: `np.bool` is a deprecated alias for the builtin `bool`. To silence this warning, use `bool` by itself. Doing this will not modify any behavior and is safe. If you specifically wanted the numpy scalar type, use `np.bool_` here.\n",
      "Deprecated in NumPy 1.20; for more details and guidance: https://numpy.org/devdocs/release/1.20.0-notes.html#deprecations\n",
      "  self._gate_excluded = np.zeros(shape, dtype=np.bool)\n"
     ]
    },
    {
     "name": "stdout",
     "output_type": "stream",
     "text": [
      "Writing KGWX20170327_231833_V06_gridded.nc\n"
     ]
    },
    {
     "name": "stderr",
     "output_type": "stream",
     "text": [
      "/Users/terrell8/miniconda2/envs/pyPIPS/lib/python3.8/site-packages/pyart/io/common.py:71: DeprecationWarning: tostring() is deprecated. Use tobytes() instead.\n",
      "  carr = netCDF4.stringtochar(arr)\n"
     ]
    },
    {
     "name": "stdout",
     "output_type": "stream",
     "text": [
      "On file 51 of 110 (46.36%)\n",
      "Reading KGWX20170327_232246_V06.ar2v\n",
      "Mapping to grid!\n"
     ]
    },
    {
     "name": "stderr",
     "output_type": "stream",
     "text": [
      "/Users/terrell8/miniconda2/envs/pyPIPS/lib/python3.8/site-packages/pyart/filters/gatefilter.py:460: DeprecationWarning: `np.bool` is a deprecated alias for the builtin `bool`. To silence this warning, use `bool` by itself. Doing this will not modify any behavior and is safe. If you specifically wanted the numpy scalar type, use `np.bool_` here.\n",
      "Deprecated in NumPy 1.20; for more details and guidance: https://numpy.org/devdocs/release/1.20.0-notes.html#deprecations\n",
      "  self._gate_excluded = np.zeros(shape, dtype=np.bool)\n"
     ]
    },
    {
     "name": "stdout",
     "output_type": "stream",
     "text": [
      "Writing KGWX20170327_232246_V06_gridded.nc\n"
     ]
    },
    {
     "name": "stderr",
     "output_type": "stream",
     "text": [
      "/Users/terrell8/miniconda2/envs/pyPIPS/lib/python3.8/site-packages/pyart/io/common.py:71: DeprecationWarning: tostring() is deprecated. Use tobytes() instead.\n",
      "  carr = netCDF4.stringtochar(arr)\n"
     ]
    },
    {
     "name": "stdout",
     "output_type": "stream",
     "text": [
      "On file 52 of 110 (47.27%)\n",
      "Reading KGWX20170327_232658_V06.ar2v\n",
      "Mapping to grid!\n"
     ]
    },
    {
     "name": "stderr",
     "output_type": "stream",
     "text": [
      "/Users/terrell8/miniconda2/envs/pyPIPS/lib/python3.8/site-packages/pyart/filters/gatefilter.py:460: DeprecationWarning: `np.bool` is a deprecated alias for the builtin `bool`. To silence this warning, use `bool` by itself. Doing this will not modify any behavior and is safe. If you specifically wanted the numpy scalar type, use `np.bool_` here.\n",
      "Deprecated in NumPy 1.20; for more details and guidance: https://numpy.org/devdocs/release/1.20.0-notes.html#deprecations\n",
      "  self._gate_excluded = np.zeros(shape, dtype=np.bool)\n"
     ]
    },
    {
     "name": "stdout",
     "output_type": "stream",
     "text": [
      "Writing KGWX20170327_232658_V06_gridded.nc\n"
     ]
    },
    {
     "name": "stderr",
     "output_type": "stream",
     "text": [
      "/Users/terrell8/miniconda2/envs/pyPIPS/lib/python3.8/site-packages/pyart/io/common.py:71: DeprecationWarning: tostring() is deprecated. Use tobytes() instead.\n",
      "  carr = netCDF4.stringtochar(arr)\n"
     ]
    },
    {
     "name": "stdout",
     "output_type": "stream",
     "text": [
      "On file 53 of 110 (48.18%)\n",
      "Reading KGWX20170327_233111_V06.ar2v\n",
      "Mapping to grid!\n"
     ]
    },
    {
     "name": "stderr",
     "output_type": "stream",
     "text": [
      "/Users/terrell8/miniconda2/envs/pyPIPS/lib/python3.8/site-packages/pyart/filters/gatefilter.py:460: DeprecationWarning: `np.bool` is a deprecated alias for the builtin `bool`. To silence this warning, use `bool` by itself. Doing this will not modify any behavior and is safe. If you specifically wanted the numpy scalar type, use `np.bool_` here.\n",
      "Deprecated in NumPy 1.20; for more details and guidance: https://numpy.org/devdocs/release/1.20.0-notes.html#deprecations\n",
      "  self._gate_excluded = np.zeros(shape, dtype=np.bool)\n"
     ]
    },
    {
     "name": "stdout",
     "output_type": "stream",
     "text": [
      "Writing KGWX20170327_233111_V06_gridded.nc\n"
     ]
    },
    {
     "name": "stderr",
     "output_type": "stream",
     "text": [
      "/Users/terrell8/miniconda2/envs/pyPIPS/lib/python3.8/site-packages/pyart/io/common.py:71: DeprecationWarning: tostring() is deprecated. Use tobytes() instead.\n",
      "  carr = netCDF4.stringtochar(arr)\n"
     ]
    },
    {
     "name": "stdout",
     "output_type": "stream",
     "text": [
      "On file 54 of 110 (49.09%)\n",
      "Reading KGWX20170327_233529_V06.ar2v\n",
      "Mapping to grid!\n"
     ]
    },
    {
     "name": "stderr",
     "output_type": "stream",
     "text": [
      "/Users/terrell8/miniconda2/envs/pyPIPS/lib/python3.8/site-packages/pyart/filters/gatefilter.py:460: DeprecationWarning: `np.bool` is a deprecated alias for the builtin `bool`. To silence this warning, use `bool` by itself. Doing this will not modify any behavior and is safe. If you specifically wanted the numpy scalar type, use `np.bool_` here.\n",
      "Deprecated in NumPy 1.20; for more details and guidance: https://numpy.org/devdocs/release/1.20.0-notes.html#deprecations\n",
      "  self._gate_excluded = np.zeros(shape, dtype=np.bool)\n"
     ]
    },
    {
     "name": "stdout",
     "output_type": "stream",
     "text": [
      "Writing KGWX20170327_233529_V06_gridded.nc\n"
     ]
    },
    {
     "name": "stderr",
     "output_type": "stream",
     "text": [
      "/Users/terrell8/miniconda2/envs/pyPIPS/lib/python3.8/site-packages/pyart/io/common.py:71: DeprecationWarning: tostring() is deprecated. Use tobytes() instead.\n",
      "  carr = netCDF4.stringtochar(arr)\n"
     ]
    },
    {
     "name": "stdout",
     "output_type": "stream",
     "text": [
      "On file 55 of 110 (50.00%)\n",
      "Reading KGWX20170327_233941_V06.ar2v\n",
      "Mapping to grid!\n"
     ]
    },
    {
     "name": "stderr",
     "output_type": "stream",
     "text": [
      "/Users/terrell8/miniconda2/envs/pyPIPS/lib/python3.8/site-packages/pyart/filters/gatefilter.py:460: DeprecationWarning: `np.bool` is a deprecated alias for the builtin `bool`. To silence this warning, use `bool` by itself. Doing this will not modify any behavior and is safe. If you specifically wanted the numpy scalar type, use `np.bool_` here.\n",
      "Deprecated in NumPy 1.20; for more details and guidance: https://numpy.org/devdocs/release/1.20.0-notes.html#deprecations\n",
      "  self._gate_excluded = np.zeros(shape, dtype=np.bool)\n"
     ]
    },
    {
     "name": "stdout",
     "output_type": "stream",
     "text": [
      "Writing KGWX20170327_233941_V06_gridded.nc\n"
     ]
    },
    {
     "name": "stderr",
     "output_type": "stream",
     "text": [
      "/Users/terrell8/miniconda2/envs/pyPIPS/lib/python3.8/site-packages/pyart/io/common.py:71: DeprecationWarning: tostring() is deprecated. Use tobytes() instead.\n",
      "  carr = netCDF4.stringtochar(arr)\n"
     ]
    },
    {
     "name": "stdout",
     "output_type": "stream",
     "text": [
      "On file 56 of 110 (50.91%)\n",
      "Reading KGWX20170327_234354_V06.ar2v\n",
      "Mapping to grid!\n"
     ]
    },
    {
     "name": "stderr",
     "output_type": "stream",
     "text": [
      "/Users/terrell8/miniconda2/envs/pyPIPS/lib/python3.8/site-packages/pyart/filters/gatefilter.py:460: DeprecationWarning: `np.bool` is a deprecated alias for the builtin `bool`. To silence this warning, use `bool` by itself. Doing this will not modify any behavior and is safe. If you specifically wanted the numpy scalar type, use `np.bool_` here.\n",
      "Deprecated in NumPy 1.20; for more details and guidance: https://numpy.org/devdocs/release/1.20.0-notes.html#deprecations\n",
      "  self._gate_excluded = np.zeros(shape, dtype=np.bool)\n"
     ]
    },
    {
     "name": "stdout",
     "output_type": "stream",
     "text": [
      "Writing KGWX20170327_234354_V06_gridded.nc\n"
     ]
    },
    {
     "name": "stderr",
     "output_type": "stream",
     "text": [
      "/Users/terrell8/miniconda2/envs/pyPIPS/lib/python3.8/site-packages/pyart/io/common.py:71: DeprecationWarning: tostring() is deprecated. Use tobytes() instead.\n",
      "  carr = netCDF4.stringtochar(arr)\n"
     ]
    },
    {
     "name": "stdout",
     "output_type": "stream",
     "text": [
      "On file 57 of 110 (51.82%)\n",
      "Reading KGWX20170327_234753_V06.ar2v\n",
      "Mapping to grid!\n"
     ]
    },
    {
     "name": "stderr",
     "output_type": "stream",
     "text": [
      "/Users/terrell8/miniconda2/envs/pyPIPS/lib/python3.8/site-packages/pyart/filters/gatefilter.py:460: DeprecationWarning: `np.bool` is a deprecated alias for the builtin `bool`. To silence this warning, use `bool` by itself. Doing this will not modify any behavior and is safe. If you specifically wanted the numpy scalar type, use `np.bool_` here.\n",
      "Deprecated in NumPy 1.20; for more details and guidance: https://numpy.org/devdocs/release/1.20.0-notes.html#deprecations\n",
      "  self._gate_excluded = np.zeros(shape, dtype=np.bool)\n"
     ]
    },
    {
     "name": "stdout",
     "output_type": "stream",
     "text": [
      "Writing KGWX20170327_234753_V06_gridded.nc\n"
     ]
    },
    {
     "name": "stderr",
     "output_type": "stream",
     "text": [
      "/Users/terrell8/miniconda2/envs/pyPIPS/lib/python3.8/site-packages/pyart/io/common.py:71: DeprecationWarning: tostring() is deprecated. Use tobytes() instead.\n",
      "  carr = netCDF4.stringtochar(arr)\n"
     ]
    },
    {
     "name": "stdout",
     "output_type": "stream",
     "text": [
      "On file 58 of 110 (52.73%)\n",
      "Reading KGWX20170327_235152_V06.ar2v\n",
      "Mapping to grid!\n"
     ]
    },
    {
     "name": "stderr",
     "output_type": "stream",
     "text": [
      "/Users/terrell8/miniconda2/envs/pyPIPS/lib/python3.8/site-packages/pyart/filters/gatefilter.py:460: DeprecationWarning: `np.bool` is a deprecated alias for the builtin `bool`. To silence this warning, use `bool` by itself. Doing this will not modify any behavior and is safe. If you specifically wanted the numpy scalar type, use `np.bool_` here.\n",
      "Deprecated in NumPy 1.20; for more details and guidance: https://numpy.org/devdocs/release/1.20.0-notes.html#deprecations\n",
      "  self._gate_excluded = np.zeros(shape, dtype=np.bool)\n"
     ]
    },
    {
     "name": "stdout",
     "output_type": "stream",
     "text": [
      "Writing KGWX20170327_235152_V06_gridded.nc\n"
     ]
    },
    {
     "name": "stderr",
     "output_type": "stream",
     "text": [
      "/Users/terrell8/miniconda2/envs/pyPIPS/lib/python3.8/site-packages/pyart/io/common.py:71: DeprecationWarning: tostring() is deprecated. Use tobytes() instead.\n",
      "  carr = netCDF4.stringtochar(arr)\n"
     ]
    },
    {
     "name": "stdout",
     "output_type": "stream",
     "text": [
      "On file 59 of 110 (53.64%)\n",
      "Reading KGWX20170327_235552_V06.ar2v\n",
      "Mapping to grid!\n"
     ]
    },
    {
     "name": "stderr",
     "output_type": "stream",
     "text": [
      "/Users/terrell8/miniconda2/envs/pyPIPS/lib/python3.8/site-packages/pyart/filters/gatefilter.py:460: DeprecationWarning: `np.bool` is a deprecated alias for the builtin `bool`. To silence this warning, use `bool` by itself. Doing this will not modify any behavior and is safe. If you specifically wanted the numpy scalar type, use `np.bool_` here.\n",
      "Deprecated in NumPy 1.20; for more details and guidance: https://numpy.org/devdocs/release/1.20.0-notes.html#deprecations\n",
      "  self._gate_excluded = np.zeros(shape, dtype=np.bool)\n"
     ]
    },
    {
     "name": "stdout",
     "output_type": "stream",
     "text": [
      "Writing KGWX20170327_235552_V06_gridded.nc\n"
     ]
    },
    {
     "name": "stderr",
     "output_type": "stream",
     "text": [
      "/Users/terrell8/miniconda2/envs/pyPIPS/lib/python3.8/site-packages/pyart/io/common.py:71: DeprecationWarning: tostring() is deprecated. Use tobytes() instead.\n",
      "  carr = netCDF4.stringtochar(arr)\n"
     ]
    },
    {
     "name": "stdout",
     "output_type": "stream",
     "text": [
      "On file 60 of 110 (54.55%)\n",
      "Reading KGWX20170327_235952_V06.ar2v\n",
      "Mapping to grid!\n"
     ]
    },
    {
     "name": "stderr",
     "output_type": "stream",
     "text": [
      "/Users/terrell8/miniconda2/envs/pyPIPS/lib/python3.8/site-packages/pyart/filters/gatefilter.py:460: DeprecationWarning: `np.bool` is a deprecated alias for the builtin `bool`. To silence this warning, use `bool` by itself. Doing this will not modify any behavior and is safe. If you specifically wanted the numpy scalar type, use `np.bool_` here.\n",
      "Deprecated in NumPy 1.20; for more details and guidance: https://numpy.org/devdocs/release/1.20.0-notes.html#deprecations\n",
      "  self._gate_excluded = np.zeros(shape, dtype=np.bool)\n"
     ]
    },
    {
     "name": "stdout",
     "output_type": "stream",
     "text": [
      "Writing KGWX20170327_235952_V06_gridded.nc\n"
     ]
    },
    {
     "name": "stderr",
     "output_type": "stream",
     "text": [
      "/Users/terrell8/miniconda2/envs/pyPIPS/lib/python3.8/site-packages/pyart/io/common.py:71: DeprecationWarning: tostring() is deprecated. Use tobytes() instead.\n",
      "  carr = netCDF4.stringtochar(arr)\n"
     ]
    },
    {
     "name": "stdout",
     "output_type": "stream",
     "text": [
      "On file 61 of 110 (55.45%)\n",
      "Reading KGWX20170328_000351_V06.ar2v\n",
      "Mapping to grid!\n"
     ]
    },
    {
     "name": "stderr",
     "output_type": "stream",
     "text": [
      "/Users/terrell8/miniconda2/envs/pyPIPS/lib/python3.8/site-packages/pyart/filters/gatefilter.py:460: DeprecationWarning: `np.bool` is a deprecated alias for the builtin `bool`. To silence this warning, use `bool` by itself. Doing this will not modify any behavior and is safe. If you specifically wanted the numpy scalar type, use `np.bool_` here.\n",
      "Deprecated in NumPy 1.20; for more details and guidance: https://numpy.org/devdocs/release/1.20.0-notes.html#deprecations\n",
      "  self._gate_excluded = np.zeros(shape, dtype=np.bool)\n"
     ]
    },
    {
     "name": "stdout",
     "output_type": "stream",
     "text": [
      "Writing KGWX20170328_000351_V06_gridded.nc\n"
     ]
    },
    {
     "name": "stderr",
     "output_type": "stream",
     "text": [
      "/Users/terrell8/miniconda2/envs/pyPIPS/lib/python3.8/site-packages/pyart/io/common.py:71: DeprecationWarning: tostring() is deprecated. Use tobytes() instead.\n",
      "  carr = netCDF4.stringtochar(arr)\n"
     ]
    },
    {
     "name": "stdout",
     "output_type": "stream",
     "text": [
      "On file 62 of 110 (56.36%)\n",
      "Reading KGWX20170328_000750_V06.ar2v\n",
      "Mapping to grid!\n"
     ]
    },
    {
     "name": "stderr",
     "output_type": "stream",
     "text": [
      "/Users/terrell8/miniconda2/envs/pyPIPS/lib/python3.8/site-packages/pyart/filters/gatefilter.py:460: DeprecationWarning: `np.bool` is a deprecated alias for the builtin `bool`. To silence this warning, use `bool` by itself. Doing this will not modify any behavior and is safe. If you specifically wanted the numpy scalar type, use `np.bool_` here.\n",
      "Deprecated in NumPy 1.20; for more details and guidance: https://numpy.org/devdocs/release/1.20.0-notes.html#deprecations\n",
      "  self._gate_excluded = np.zeros(shape, dtype=np.bool)\n"
     ]
    },
    {
     "name": "stdout",
     "output_type": "stream",
     "text": [
      "Writing KGWX20170328_000750_V06_gridded.nc\n"
     ]
    },
    {
     "name": "stderr",
     "output_type": "stream",
     "text": [
      "/Users/terrell8/miniconda2/envs/pyPIPS/lib/python3.8/site-packages/pyart/io/common.py:71: DeprecationWarning: tostring() is deprecated. Use tobytes() instead.\n",
      "  carr = netCDF4.stringtochar(arr)\n"
     ]
    },
    {
     "name": "stdout",
     "output_type": "stream",
     "text": [
      "On file 63 of 110 (57.27%)\n",
      "Reading KGWX20170328_001148_V06.ar2v\n",
      "Mapping to grid!\n"
     ]
    },
    {
     "name": "stderr",
     "output_type": "stream",
     "text": [
      "/Users/terrell8/miniconda2/envs/pyPIPS/lib/python3.8/site-packages/pyart/filters/gatefilter.py:460: DeprecationWarning: `np.bool` is a deprecated alias for the builtin `bool`. To silence this warning, use `bool` by itself. Doing this will not modify any behavior and is safe. If you specifically wanted the numpy scalar type, use `np.bool_` here.\n",
      "Deprecated in NumPy 1.20; for more details and guidance: https://numpy.org/devdocs/release/1.20.0-notes.html#deprecations\n",
      "  self._gate_excluded = np.zeros(shape, dtype=np.bool)\n"
     ]
    },
    {
     "name": "stdout",
     "output_type": "stream",
     "text": [
      "Writing KGWX20170328_001148_V06_gridded.nc\n"
     ]
    },
    {
     "name": "stderr",
     "output_type": "stream",
     "text": [
      "/Users/terrell8/miniconda2/envs/pyPIPS/lib/python3.8/site-packages/pyart/io/common.py:71: DeprecationWarning: tostring() is deprecated. Use tobytes() instead.\n",
      "  carr = netCDF4.stringtochar(arr)\n"
     ]
    },
    {
     "name": "stdout",
     "output_type": "stream",
     "text": [
      "On file 64 of 110 (58.18%)\n",
      "Reading KGWX20170328_001757_V06.ar2v\n",
      "Mapping to grid!\n"
     ]
    },
    {
     "name": "stderr",
     "output_type": "stream",
     "text": [
      "/Users/terrell8/miniconda2/envs/pyPIPS/lib/python3.8/site-packages/pyart/filters/gatefilter.py:460: DeprecationWarning: `np.bool` is a deprecated alias for the builtin `bool`. To silence this warning, use `bool` by itself. Doing this will not modify any behavior and is safe. If you specifically wanted the numpy scalar type, use `np.bool_` here.\n",
      "Deprecated in NumPy 1.20; for more details and guidance: https://numpy.org/devdocs/release/1.20.0-notes.html#deprecations\n",
      "  self._gate_excluded = np.zeros(shape, dtype=np.bool)\n"
     ]
    },
    {
     "name": "stdout",
     "output_type": "stream",
     "text": [
      "Writing KGWX20170328_001757_V06_gridded.nc\n"
     ]
    },
    {
     "name": "stderr",
     "output_type": "stream",
     "text": [
      "/Users/terrell8/miniconda2/envs/pyPIPS/lib/python3.8/site-packages/pyart/io/common.py:71: DeprecationWarning: tostring() is deprecated. Use tobytes() instead.\n",
      "  carr = netCDF4.stringtochar(arr)\n"
     ]
    },
    {
     "name": "stdout",
     "output_type": "stream",
     "text": [
      "On file 65 of 110 (59.09%)\n",
      "Reading KGWX20170328_002156_V06.ar2v\n",
      "Mapping to grid!\n"
     ]
    },
    {
     "name": "stderr",
     "output_type": "stream",
     "text": [
      "/Users/terrell8/miniconda2/envs/pyPIPS/lib/python3.8/site-packages/pyart/filters/gatefilter.py:460: DeprecationWarning: `np.bool` is a deprecated alias for the builtin `bool`. To silence this warning, use `bool` by itself. Doing this will not modify any behavior and is safe. If you specifically wanted the numpy scalar type, use `np.bool_` here.\n",
      "Deprecated in NumPy 1.20; for more details and guidance: https://numpy.org/devdocs/release/1.20.0-notes.html#deprecations\n",
      "  self._gate_excluded = np.zeros(shape, dtype=np.bool)\n"
     ]
    },
    {
     "name": "stdout",
     "output_type": "stream",
     "text": [
      "Writing KGWX20170328_002156_V06_gridded.nc\n"
     ]
    },
    {
     "name": "stderr",
     "output_type": "stream",
     "text": [
      "/Users/terrell8/miniconda2/envs/pyPIPS/lib/python3.8/site-packages/pyart/io/common.py:71: DeprecationWarning: tostring() is deprecated. Use tobytes() instead.\n",
      "  carr = netCDF4.stringtochar(arr)\n"
     ]
    },
    {
     "name": "stdout",
     "output_type": "stream",
     "text": [
      "On file 66 of 110 (60.00%)\n",
      "Reading KGWX20170328_002555_V06.ar2v\n",
      "Mapping to grid!\n"
     ]
    },
    {
     "name": "stderr",
     "output_type": "stream",
     "text": [
      "/Users/terrell8/miniconda2/envs/pyPIPS/lib/python3.8/site-packages/pyart/filters/gatefilter.py:460: DeprecationWarning: `np.bool` is a deprecated alias for the builtin `bool`. To silence this warning, use `bool` by itself. Doing this will not modify any behavior and is safe. If you specifically wanted the numpy scalar type, use `np.bool_` here.\n",
      "Deprecated in NumPy 1.20; for more details and guidance: https://numpy.org/devdocs/release/1.20.0-notes.html#deprecations\n",
      "  self._gate_excluded = np.zeros(shape, dtype=np.bool)\n"
     ]
    },
    {
     "name": "stdout",
     "output_type": "stream",
     "text": [
      "Writing KGWX20170328_002555_V06_gridded.nc\n"
     ]
    },
    {
     "name": "stderr",
     "output_type": "stream",
     "text": [
      "/Users/terrell8/miniconda2/envs/pyPIPS/lib/python3.8/site-packages/pyart/io/common.py:71: DeprecationWarning: tostring() is deprecated. Use tobytes() instead.\n",
      "  carr = netCDF4.stringtochar(arr)\n"
     ]
    },
    {
     "name": "stdout",
     "output_type": "stream",
     "text": [
      "On file 67 of 110 (60.91%)\n",
      "Reading KGWX20170328_002954_V06.ar2v\n",
      "Mapping to grid!\n"
     ]
    },
    {
     "name": "stderr",
     "output_type": "stream",
     "text": [
      "/Users/terrell8/miniconda2/envs/pyPIPS/lib/python3.8/site-packages/pyart/filters/gatefilter.py:460: DeprecationWarning: `np.bool` is a deprecated alias for the builtin `bool`. To silence this warning, use `bool` by itself. Doing this will not modify any behavior and is safe. If you specifically wanted the numpy scalar type, use `np.bool_` here.\n",
      "Deprecated in NumPy 1.20; for more details and guidance: https://numpy.org/devdocs/release/1.20.0-notes.html#deprecations\n",
      "  self._gate_excluded = np.zeros(shape, dtype=np.bool)\n"
     ]
    },
    {
     "name": "stdout",
     "output_type": "stream",
     "text": [
      "Writing KGWX20170328_002954_V06_gridded.nc\n"
     ]
    },
    {
     "name": "stderr",
     "output_type": "stream",
     "text": [
      "/Users/terrell8/miniconda2/envs/pyPIPS/lib/python3.8/site-packages/pyart/io/common.py:71: DeprecationWarning: tostring() is deprecated. Use tobytes() instead.\n",
      "  carr = netCDF4.stringtochar(arr)\n"
     ]
    },
    {
     "name": "stdout",
     "output_type": "stream",
     "text": [
      "On file 68 of 110 (61.82%)\n",
      "Reading KGWX20170328_003353_V06.ar2v\n",
      "Mapping to grid!\n"
     ]
    },
    {
     "name": "stderr",
     "output_type": "stream",
     "text": [
      "/Users/terrell8/miniconda2/envs/pyPIPS/lib/python3.8/site-packages/pyart/filters/gatefilter.py:460: DeprecationWarning: `np.bool` is a deprecated alias for the builtin `bool`. To silence this warning, use `bool` by itself. Doing this will not modify any behavior and is safe. If you specifically wanted the numpy scalar type, use `np.bool_` here.\n",
      "Deprecated in NumPy 1.20; for more details and guidance: https://numpy.org/devdocs/release/1.20.0-notes.html#deprecations\n",
      "  self._gate_excluded = np.zeros(shape, dtype=np.bool)\n"
     ]
    },
    {
     "name": "stdout",
     "output_type": "stream",
     "text": [
      "Writing KGWX20170328_003353_V06_gridded.nc\n"
     ]
    },
    {
     "name": "stderr",
     "output_type": "stream",
     "text": [
      "/Users/terrell8/miniconda2/envs/pyPIPS/lib/python3.8/site-packages/pyart/io/common.py:71: DeprecationWarning: tostring() is deprecated. Use tobytes() instead.\n",
      "  carr = netCDF4.stringtochar(arr)\n"
     ]
    },
    {
     "name": "stdout",
     "output_type": "stream",
     "text": [
      "On file 69 of 110 (62.73%)\n",
      "Reading KGWX20170328_003753_V06.ar2v\n",
      "Mapping to grid!\n"
     ]
    },
    {
     "name": "stderr",
     "output_type": "stream",
     "text": [
      "/Users/terrell8/miniconda2/envs/pyPIPS/lib/python3.8/site-packages/pyart/filters/gatefilter.py:460: DeprecationWarning: `np.bool` is a deprecated alias for the builtin `bool`. To silence this warning, use `bool` by itself. Doing this will not modify any behavior and is safe. If you specifically wanted the numpy scalar type, use `np.bool_` here.\n",
      "Deprecated in NumPy 1.20; for more details and guidance: https://numpy.org/devdocs/release/1.20.0-notes.html#deprecations\n",
      "  self._gate_excluded = np.zeros(shape, dtype=np.bool)\n"
     ]
    },
    {
     "name": "stdout",
     "output_type": "stream",
     "text": [
      "Writing KGWX20170328_003753_V06_gridded.nc\n"
     ]
    },
    {
     "name": "stderr",
     "output_type": "stream",
     "text": [
      "/Users/terrell8/miniconda2/envs/pyPIPS/lib/python3.8/site-packages/pyart/io/common.py:71: DeprecationWarning: tostring() is deprecated. Use tobytes() instead.\n",
      "  carr = netCDF4.stringtochar(arr)\n"
     ]
    },
    {
     "name": "stdout",
     "output_type": "stream",
     "text": [
      "On file 70 of 110 (63.64%)\n",
      "Reading KGWX20170328_004158_V06.ar2v\n",
      "Mapping to grid!\n"
     ]
    },
    {
     "name": "stderr",
     "output_type": "stream",
     "text": [
      "/Users/terrell8/miniconda2/envs/pyPIPS/lib/python3.8/site-packages/pyart/filters/gatefilter.py:460: DeprecationWarning: `np.bool` is a deprecated alias for the builtin `bool`. To silence this warning, use `bool` by itself. Doing this will not modify any behavior and is safe. If you specifically wanted the numpy scalar type, use `np.bool_` here.\n",
      "Deprecated in NumPy 1.20; for more details and guidance: https://numpy.org/devdocs/release/1.20.0-notes.html#deprecations\n",
      "  self._gate_excluded = np.zeros(shape, dtype=np.bool)\n"
     ]
    },
    {
     "name": "stdout",
     "output_type": "stream",
     "text": [
      "Writing KGWX20170328_004158_V06_gridded.nc\n"
     ]
    },
    {
     "name": "stderr",
     "output_type": "stream",
     "text": [
      "/Users/terrell8/miniconda2/envs/pyPIPS/lib/python3.8/site-packages/pyart/io/common.py:71: DeprecationWarning: tostring() is deprecated. Use tobytes() instead.\n",
      "  carr = netCDF4.stringtochar(arr)\n"
     ]
    },
    {
     "name": "stdout",
     "output_type": "stream",
     "text": [
      "On file 71 of 110 (64.55%)\n",
      "Reading KGWX20170328_004631_V06.ar2v\n",
      "Mapping to grid!\n"
     ]
    },
    {
     "name": "stderr",
     "output_type": "stream",
     "text": [
      "/Users/terrell8/miniconda2/envs/pyPIPS/lib/python3.8/site-packages/pyart/filters/gatefilter.py:460: DeprecationWarning: `np.bool` is a deprecated alias for the builtin `bool`. To silence this warning, use `bool` by itself. Doing this will not modify any behavior and is safe. If you specifically wanted the numpy scalar type, use `np.bool_` here.\n",
      "Deprecated in NumPy 1.20; for more details and guidance: https://numpy.org/devdocs/release/1.20.0-notes.html#deprecations\n",
      "  self._gate_excluded = np.zeros(shape, dtype=np.bool)\n"
     ]
    },
    {
     "name": "stdout",
     "output_type": "stream",
     "text": [
      "Writing KGWX20170328_004631_V06_gridded.nc\n"
     ]
    },
    {
     "name": "stderr",
     "output_type": "stream",
     "text": [
      "/Users/terrell8/miniconda2/envs/pyPIPS/lib/python3.8/site-packages/pyart/io/common.py:71: DeprecationWarning: tostring() is deprecated. Use tobytes() instead.\n",
      "  carr = netCDF4.stringtochar(arr)\n"
     ]
    },
    {
     "name": "stdout",
     "output_type": "stream",
     "text": [
      "On file 72 of 110 (65.45%)\n",
      "Reading KGWX20170328_005050_V06.ar2v\n",
      "Mapping to grid!\n"
     ]
    },
    {
     "name": "stderr",
     "output_type": "stream",
     "text": [
      "/Users/terrell8/miniconda2/envs/pyPIPS/lib/python3.8/site-packages/pyart/filters/gatefilter.py:460: DeprecationWarning: `np.bool` is a deprecated alias for the builtin `bool`. To silence this warning, use `bool` by itself. Doing this will not modify any behavior and is safe. If you specifically wanted the numpy scalar type, use `np.bool_` here.\n",
      "Deprecated in NumPy 1.20; for more details and guidance: https://numpy.org/devdocs/release/1.20.0-notes.html#deprecations\n",
      "  self._gate_excluded = np.zeros(shape, dtype=np.bool)\n"
     ]
    },
    {
     "name": "stdout",
     "output_type": "stream",
     "text": [
      "Writing KGWX20170328_005050_V06_gridded.nc\n"
     ]
    },
    {
     "name": "stderr",
     "output_type": "stream",
     "text": [
      "/Users/terrell8/miniconda2/envs/pyPIPS/lib/python3.8/site-packages/pyart/io/common.py:71: DeprecationWarning: tostring() is deprecated. Use tobytes() instead.\n",
      "  carr = netCDF4.stringtochar(arr)\n"
     ]
    },
    {
     "name": "stdout",
     "output_type": "stream",
     "text": [
      "On file 73 of 110 (66.36%)\n",
      "Reading KGWX20170328_005455_V06.ar2v\n",
      "Mapping to grid!\n"
     ]
    },
    {
     "name": "stderr",
     "output_type": "stream",
     "text": [
      "/Users/terrell8/miniconda2/envs/pyPIPS/lib/python3.8/site-packages/pyart/filters/gatefilter.py:460: DeprecationWarning: `np.bool` is a deprecated alias for the builtin `bool`. To silence this warning, use `bool` by itself. Doing this will not modify any behavior and is safe. If you specifically wanted the numpy scalar type, use `np.bool_` here.\n",
      "Deprecated in NumPy 1.20; for more details and guidance: https://numpy.org/devdocs/release/1.20.0-notes.html#deprecations\n",
      "  self._gate_excluded = np.zeros(shape, dtype=np.bool)\n"
     ]
    },
    {
     "name": "stdout",
     "output_type": "stream",
     "text": [
      "Writing KGWX20170328_005455_V06_gridded.nc\n"
     ]
    },
    {
     "name": "stderr",
     "output_type": "stream",
     "text": [
      "/Users/terrell8/miniconda2/envs/pyPIPS/lib/python3.8/site-packages/pyart/io/common.py:71: DeprecationWarning: tostring() is deprecated. Use tobytes() instead.\n",
      "  carr = netCDF4.stringtochar(arr)\n"
     ]
    },
    {
     "name": "stdout",
     "output_type": "stream",
     "text": [
      "On file 74 of 110 (67.27%)\n",
      "Reading KGWX20170328_005915_V06.ar2v\n",
      "Mapping to grid!\n"
     ]
    },
    {
     "name": "stderr",
     "output_type": "stream",
     "text": [
      "/Users/terrell8/miniconda2/envs/pyPIPS/lib/python3.8/site-packages/pyart/filters/gatefilter.py:460: DeprecationWarning: `np.bool` is a deprecated alias for the builtin `bool`. To silence this warning, use `bool` by itself. Doing this will not modify any behavior and is safe. If you specifically wanted the numpy scalar type, use `np.bool_` here.\n",
      "Deprecated in NumPy 1.20; for more details and guidance: https://numpy.org/devdocs/release/1.20.0-notes.html#deprecations\n",
      "  self._gate_excluded = np.zeros(shape, dtype=np.bool)\n"
     ]
    },
    {
     "name": "stdout",
     "output_type": "stream",
     "text": [
      "Writing KGWX20170328_005915_V06_gridded.nc\n"
     ]
    },
    {
     "name": "stderr",
     "output_type": "stream",
     "text": [
      "/Users/terrell8/miniconda2/envs/pyPIPS/lib/python3.8/site-packages/pyart/io/common.py:71: DeprecationWarning: tostring() is deprecated. Use tobytes() instead.\n",
      "  carr = netCDF4.stringtochar(arr)\n"
     ]
    },
    {
     "name": "stdout",
     "output_type": "stream",
     "text": [
      "On file 75 of 110 (68.18%)\n",
      "Reading KGWX20170328_010327_V06.ar2v\n",
      "Mapping to grid!\n"
     ]
    },
    {
     "name": "stderr",
     "output_type": "stream",
     "text": [
      "/Users/terrell8/miniconda2/envs/pyPIPS/lib/python3.8/site-packages/pyart/filters/gatefilter.py:460: DeprecationWarning: `np.bool` is a deprecated alias for the builtin `bool`. To silence this warning, use `bool` by itself. Doing this will not modify any behavior and is safe. If you specifically wanted the numpy scalar type, use `np.bool_` here.\n",
      "Deprecated in NumPy 1.20; for more details and guidance: https://numpy.org/devdocs/release/1.20.0-notes.html#deprecations\n",
      "  self._gate_excluded = np.zeros(shape, dtype=np.bool)\n"
     ]
    },
    {
     "name": "stdout",
     "output_type": "stream",
     "text": [
      "Writing KGWX20170328_010327_V06_gridded.nc\n"
     ]
    },
    {
     "name": "stderr",
     "output_type": "stream",
     "text": [
      "/Users/terrell8/miniconda2/envs/pyPIPS/lib/python3.8/site-packages/pyart/io/common.py:71: DeprecationWarning: tostring() is deprecated. Use tobytes() instead.\n",
      "  carr = netCDF4.stringtochar(arr)\n"
     ]
    },
    {
     "name": "stdout",
     "output_type": "stream",
     "text": [
      "On file 76 of 110 (69.09%)\n",
      "Reading KGWX20170328_010726_V06.ar2v\n",
      "Mapping to grid!\n"
     ]
    },
    {
     "name": "stderr",
     "output_type": "stream",
     "text": [
      "/Users/terrell8/miniconda2/envs/pyPIPS/lib/python3.8/site-packages/pyart/filters/gatefilter.py:460: DeprecationWarning: `np.bool` is a deprecated alias for the builtin `bool`. To silence this warning, use `bool` by itself. Doing this will not modify any behavior and is safe. If you specifically wanted the numpy scalar type, use `np.bool_` here.\n",
      "Deprecated in NumPy 1.20; for more details and guidance: https://numpy.org/devdocs/release/1.20.0-notes.html#deprecations\n",
      "  self._gate_excluded = np.zeros(shape, dtype=np.bool)\n"
     ]
    },
    {
     "name": "stdout",
     "output_type": "stream",
     "text": [
      "Writing KGWX20170328_010726_V06_gridded.nc\n"
     ]
    },
    {
     "name": "stderr",
     "output_type": "stream",
     "text": [
      "/Users/terrell8/miniconda2/envs/pyPIPS/lib/python3.8/site-packages/pyart/io/common.py:71: DeprecationWarning: tostring() is deprecated. Use tobytes() instead.\n",
      "  carr = netCDF4.stringtochar(arr)\n"
     ]
    },
    {
     "name": "stdout",
     "output_type": "stream",
     "text": [
      "On file 77 of 110 (70.00%)\n",
      "Reading KGWX20170328_011138_V06.ar2v\n",
      "Mapping to grid!\n"
     ]
    },
    {
     "name": "stderr",
     "output_type": "stream",
     "text": [
      "/Users/terrell8/miniconda2/envs/pyPIPS/lib/python3.8/site-packages/pyart/filters/gatefilter.py:460: DeprecationWarning: `np.bool` is a deprecated alias for the builtin `bool`. To silence this warning, use `bool` by itself. Doing this will not modify any behavior and is safe. If you specifically wanted the numpy scalar type, use `np.bool_` here.\n",
      "Deprecated in NumPy 1.20; for more details and guidance: https://numpy.org/devdocs/release/1.20.0-notes.html#deprecations\n",
      "  self._gate_excluded = np.zeros(shape, dtype=np.bool)\n"
     ]
    },
    {
     "name": "stdout",
     "output_type": "stream",
     "text": [
      "Writing KGWX20170328_011138_V06_gridded.nc\n"
     ]
    },
    {
     "name": "stderr",
     "output_type": "stream",
     "text": [
      "/Users/terrell8/miniconda2/envs/pyPIPS/lib/python3.8/site-packages/pyart/io/common.py:71: DeprecationWarning: tostring() is deprecated. Use tobytes() instead.\n",
      "  carr = netCDF4.stringtochar(arr)\n"
     ]
    },
    {
     "name": "stdout",
     "output_type": "stream",
     "text": [
      "On file 78 of 110 (70.91%)\n",
      "Reading KGWX20170328_011550_V06.ar2v\n",
      "Mapping to grid!\n"
     ]
    },
    {
     "name": "stderr",
     "output_type": "stream",
     "text": [
      "/Users/terrell8/miniconda2/envs/pyPIPS/lib/python3.8/site-packages/pyart/filters/gatefilter.py:460: DeprecationWarning: `np.bool` is a deprecated alias for the builtin `bool`. To silence this warning, use `bool` by itself. Doing this will not modify any behavior and is safe. If you specifically wanted the numpy scalar type, use `np.bool_` here.\n",
      "Deprecated in NumPy 1.20; for more details and guidance: https://numpy.org/devdocs/release/1.20.0-notes.html#deprecations\n",
      "  self._gate_excluded = np.zeros(shape, dtype=np.bool)\n"
     ]
    },
    {
     "name": "stdout",
     "output_type": "stream",
     "text": [
      "Writing KGWX20170328_011550_V06_gridded.nc\n"
     ]
    },
    {
     "name": "stderr",
     "output_type": "stream",
     "text": [
      "/Users/terrell8/miniconda2/envs/pyPIPS/lib/python3.8/site-packages/pyart/io/common.py:71: DeprecationWarning: tostring() is deprecated. Use tobytes() instead.\n",
      "  carr = netCDF4.stringtochar(arr)\n"
     ]
    },
    {
     "name": "stdout",
     "output_type": "stream",
     "text": [
      "On file 79 of 110 (71.82%)\n",
      "Reading KGWX20170328_012002_V06.ar2v\n",
      "Mapping to grid!\n"
     ]
    },
    {
     "name": "stderr",
     "output_type": "stream",
     "text": [
      "/Users/terrell8/miniconda2/envs/pyPIPS/lib/python3.8/site-packages/pyart/filters/gatefilter.py:460: DeprecationWarning: `np.bool` is a deprecated alias for the builtin `bool`. To silence this warning, use `bool` by itself. Doing this will not modify any behavior and is safe. If you specifically wanted the numpy scalar type, use `np.bool_` here.\n",
      "Deprecated in NumPy 1.20; for more details and guidance: https://numpy.org/devdocs/release/1.20.0-notes.html#deprecations\n",
      "  self._gate_excluded = np.zeros(shape, dtype=np.bool)\n"
     ]
    },
    {
     "name": "stdout",
     "output_type": "stream",
     "text": [
      "Writing KGWX20170328_012002_V06_gridded.nc\n"
     ]
    },
    {
     "name": "stderr",
     "output_type": "stream",
     "text": [
      "/Users/terrell8/miniconda2/envs/pyPIPS/lib/python3.8/site-packages/pyart/io/common.py:71: DeprecationWarning: tostring() is deprecated. Use tobytes() instead.\n",
      "  carr = netCDF4.stringtochar(arr)\n"
     ]
    },
    {
     "name": "stdout",
     "output_type": "stream",
     "text": [
      "On file 80 of 110 (72.73%)\n",
      "Reading KGWX20170328_012433_V06.ar2v\n",
      "Mapping to grid!\n"
     ]
    },
    {
     "name": "stderr",
     "output_type": "stream",
     "text": [
      "/Users/terrell8/miniconda2/envs/pyPIPS/lib/python3.8/site-packages/pyart/filters/gatefilter.py:460: DeprecationWarning: `np.bool` is a deprecated alias for the builtin `bool`. To silence this warning, use `bool` by itself. Doing this will not modify any behavior and is safe. If you specifically wanted the numpy scalar type, use `np.bool_` here.\n",
      "Deprecated in NumPy 1.20; for more details and guidance: https://numpy.org/devdocs/release/1.20.0-notes.html#deprecations\n",
      "  self._gate_excluded = np.zeros(shape, dtype=np.bool)\n"
     ]
    },
    {
     "name": "stdout",
     "output_type": "stream",
     "text": [
      "Writing KGWX20170328_012433_V06_gridded.nc\n"
     ]
    },
    {
     "name": "stderr",
     "output_type": "stream",
     "text": [
      "/Users/terrell8/miniconda2/envs/pyPIPS/lib/python3.8/site-packages/pyart/io/common.py:71: DeprecationWarning: tostring() is deprecated. Use tobytes() instead.\n",
      "  carr = netCDF4.stringtochar(arr)\n"
     ]
    },
    {
     "name": "stdout",
     "output_type": "stream",
     "text": [
      "On file 81 of 110 (73.64%)\n",
      "Reading KGWX20170328_012906_V06.ar2v\n",
      "Mapping to grid!\n"
     ]
    },
    {
     "name": "stderr",
     "output_type": "stream",
     "text": [
      "/Users/terrell8/miniconda2/envs/pyPIPS/lib/python3.8/site-packages/pyart/filters/gatefilter.py:460: DeprecationWarning: `np.bool` is a deprecated alias for the builtin `bool`. To silence this warning, use `bool` by itself. Doing this will not modify any behavior and is safe. If you specifically wanted the numpy scalar type, use `np.bool_` here.\n",
      "Deprecated in NumPy 1.20; for more details and guidance: https://numpy.org/devdocs/release/1.20.0-notes.html#deprecations\n",
      "  self._gate_excluded = np.zeros(shape, dtype=np.bool)\n"
     ]
    },
    {
     "name": "stdout",
     "output_type": "stream",
     "text": [
      "Writing KGWX20170328_012906_V06_gridded.nc\n"
     ]
    },
    {
     "name": "stderr",
     "output_type": "stream",
     "text": [
      "/Users/terrell8/miniconda2/envs/pyPIPS/lib/python3.8/site-packages/pyart/io/common.py:71: DeprecationWarning: tostring() is deprecated. Use tobytes() instead.\n",
      "  carr = netCDF4.stringtochar(arr)\n"
     ]
    },
    {
     "name": "stdout",
     "output_type": "stream",
     "text": [
      "On file 82 of 110 (74.55%)\n",
      "Reading KGWX20170328_013338_V06.ar2v\n",
      "Mapping to grid!\n"
     ]
    },
    {
     "name": "stderr",
     "output_type": "stream",
     "text": [
      "/Users/terrell8/miniconda2/envs/pyPIPS/lib/python3.8/site-packages/pyart/filters/gatefilter.py:460: DeprecationWarning: `np.bool` is a deprecated alias for the builtin `bool`. To silence this warning, use `bool` by itself. Doing this will not modify any behavior and is safe. If you specifically wanted the numpy scalar type, use `np.bool_` here.\n",
      "Deprecated in NumPy 1.20; for more details and guidance: https://numpy.org/devdocs/release/1.20.0-notes.html#deprecations\n",
      "  self._gate_excluded = np.zeros(shape, dtype=np.bool)\n"
     ]
    },
    {
     "name": "stdout",
     "output_type": "stream",
     "text": [
      "Writing KGWX20170328_013338_V06_gridded.nc\n"
     ]
    },
    {
     "name": "stderr",
     "output_type": "stream",
     "text": [
      "/Users/terrell8/miniconda2/envs/pyPIPS/lib/python3.8/site-packages/pyart/io/common.py:71: DeprecationWarning: tostring() is deprecated. Use tobytes() instead.\n",
      "  carr = netCDF4.stringtochar(arr)\n"
     ]
    },
    {
     "name": "stdout",
     "output_type": "stream",
     "text": [
      "On file 83 of 110 (75.45%)\n",
      "Reading KGWX20170328_013810_V06.ar2v\n",
      "Mapping to grid!\n"
     ]
    },
    {
     "name": "stderr",
     "output_type": "stream",
     "text": [
      "/Users/terrell8/miniconda2/envs/pyPIPS/lib/python3.8/site-packages/pyart/filters/gatefilter.py:460: DeprecationWarning: `np.bool` is a deprecated alias for the builtin `bool`. To silence this warning, use `bool` by itself. Doing this will not modify any behavior and is safe. If you specifically wanted the numpy scalar type, use `np.bool_` here.\n",
      "Deprecated in NumPy 1.20; for more details and guidance: https://numpy.org/devdocs/release/1.20.0-notes.html#deprecations\n",
      "  self._gate_excluded = np.zeros(shape, dtype=np.bool)\n"
     ]
    },
    {
     "name": "stdout",
     "output_type": "stream",
     "text": [
      "Writing KGWX20170328_013810_V06_gridded.nc\n"
     ]
    },
    {
     "name": "stderr",
     "output_type": "stream",
     "text": [
      "/Users/terrell8/miniconda2/envs/pyPIPS/lib/python3.8/site-packages/pyart/io/common.py:71: DeprecationWarning: tostring() is deprecated. Use tobytes() instead.\n",
      "  carr = netCDF4.stringtochar(arr)\n"
     ]
    },
    {
     "name": "stdout",
     "output_type": "stream",
     "text": [
      "On file 84 of 110 (76.36%)\n",
      "Reading KGWX20170328_014256_V06.ar2v\n",
      "Mapping to grid!\n"
     ]
    },
    {
     "name": "stderr",
     "output_type": "stream",
     "text": [
      "/Users/terrell8/miniconda2/envs/pyPIPS/lib/python3.8/site-packages/pyart/filters/gatefilter.py:460: DeprecationWarning: `np.bool` is a deprecated alias for the builtin `bool`. To silence this warning, use `bool` by itself. Doing this will not modify any behavior and is safe. If you specifically wanted the numpy scalar type, use `np.bool_` here.\n",
      "Deprecated in NumPy 1.20; for more details and guidance: https://numpy.org/devdocs/release/1.20.0-notes.html#deprecations\n",
      "  self._gate_excluded = np.zeros(shape, dtype=np.bool)\n"
     ]
    },
    {
     "name": "stdout",
     "output_type": "stream",
     "text": [
      "Writing KGWX20170328_014256_V06_gridded.nc\n"
     ]
    },
    {
     "name": "stderr",
     "output_type": "stream",
     "text": [
      "/Users/terrell8/miniconda2/envs/pyPIPS/lib/python3.8/site-packages/pyart/io/common.py:71: DeprecationWarning: tostring() is deprecated. Use tobytes() instead.\n",
      "  carr = netCDF4.stringtochar(arr)\n"
     ]
    },
    {
     "name": "stdout",
     "output_type": "stream",
     "text": [
      "On file 85 of 110 (77.27%)\n",
      "Reading KGWX20170328_014755_V06.ar2v\n",
      "Mapping to grid!\n"
     ]
    },
    {
     "name": "stderr",
     "output_type": "stream",
     "text": [
      "/Users/terrell8/miniconda2/envs/pyPIPS/lib/python3.8/site-packages/pyart/filters/gatefilter.py:460: DeprecationWarning: `np.bool` is a deprecated alias for the builtin `bool`. To silence this warning, use `bool` by itself. Doing this will not modify any behavior and is safe. If you specifically wanted the numpy scalar type, use `np.bool_` here.\n",
      "Deprecated in NumPy 1.20; for more details and guidance: https://numpy.org/devdocs/release/1.20.0-notes.html#deprecations\n",
      "  self._gate_excluded = np.zeros(shape, dtype=np.bool)\n"
     ]
    },
    {
     "name": "stdout",
     "output_type": "stream",
     "text": [
      "Writing KGWX20170328_014755_V06_gridded.nc\n"
     ]
    },
    {
     "name": "stderr",
     "output_type": "stream",
     "text": [
      "/Users/terrell8/miniconda2/envs/pyPIPS/lib/python3.8/site-packages/pyart/io/common.py:71: DeprecationWarning: tostring() is deprecated. Use tobytes() instead.\n",
      "  carr = netCDF4.stringtochar(arr)\n"
     ]
    },
    {
     "name": "stdout",
     "output_type": "stream",
     "text": [
      "On file 86 of 110 (78.18%)\n",
      "Reading KGWX20170328_015241_V06.ar2v\n",
      "Mapping to grid!\n"
     ]
    },
    {
     "name": "stderr",
     "output_type": "stream",
     "text": [
      "/Users/terrell8/miniconda2/envs/pyPIPS/lib/python3.8/site-packages/pyart/filters/gatefilter.py:460: DeprecationWarning: `np.bool` is a deprecated alias for the builtin `bool`. To silence this warning, use `bool` by itself. Doing this will not modify any behavior and is safe. If you specifically wanted the numpy scalar type, use `np.bool_` here.\n",
      "Deprecated in NumPy 1.20; for more details and guidance: https://numpy.org/devdocs/release/1.20.0-notes.html#deprecations\n",
      "  self._gate_excluded = np.zeros(shape, dtype=np.bool)\n"
     ]
    },
    {
     "name": "stdout",
     "output_type": "stream",
     "text": [
      "Writing KGWX20170328_015241_V06_gridded.nc\n"
     ]
    },
    {
     "name": "stderr",
     "output_type": "stream",
     "text": [
      "/Users/terrell8/miniconda2/envs/pyPIPS/lib/python3.8/site-packages/pyart/io/common.py:71: DeprecationWarning: tostring() is deprecated. Use tobytes() instead.\n",
      "  carr = netCDF4.stringtochar(arr)\n"
     ]
    },
    {
     "name": "stdout",
     "output_type": "stream",
     "text": [
      "On file 87 of 110 (79.09%)\n",
      "Reading KGWX20170328_015740_V06.ar2v\n",
      "Mapping to grid!\n"
     ]
    },
    {
     "name": "stderr",
     "output_type": "stream",
     "text": [
      "/Users/terrell8/miniconda2/envs/pyPIPS/lib/python3.8/site-packages/pyart/filters/gatefilter.py:460: DeprecationWarning: `np.bool` is a deprecated alias for the builtin `bool`. To silence this warning, use `bool` by itself. Doing this will not modify any behavior and is safe. If you specifically wanted the numpy scalar type, use `np.bool_` here.\n",
      "Deprecated in NumPy 1.20; for more details and guidance: https://numpy.org/devdocs/release/1.20.0-notes.html#deprecations\n",
      "  self._gate_excluded = np.zeros(shape, dtype=np.bool)\n"
     ]
    },
    {
     "name": "stdout",
     "output_type": "stream",
     "text": [
      "Writing KGWX20170328_015740_V06_gridded.nc\n"
     ]
    },
    {
     "name": "stderr",
     "output_type": "stream",
     "text": [
      "/Users/terrell8/miniconda2/envs/pyPIPS/lib/python3.8/site-packages/pyart/io/common.py:71: DeprecationWarning: tostring() is deprecated. Use tobytes() instead.\n",
      "  carr = netCDF4.stringtochar(arr)\n"
     ]
    },
    {
     "name": "stdout",
     "output_type": "stream",
     "text": [
      "On file 88 of 110 (80.00%)\n",
      "Reading KGWX20170328_020253_V06.ar2v\n",
      "Mapping to grid!\n"
     ]
    },
    {
     "name": "stderr",
     "output_type": "stream",
     "text": [
      "/Users/terrell8/miniconda2/envs/pyPIPS/lib/python3.8/site-packages/pyart/filters/gatefilter.py:460: DeprecationWarning: `np.bool` is a deprecated alias for the builtin `bool`. To silence this warning, use `bool` by itself. Doing this will not modify any behavior and is safe. If you specifically wanted the numpy scalar type, use `np.bool_` here.\n",
      "Deprecated in NumPy 1.20; for more details and guidance: https://numpy.org/devdocs/release/1.20.0-notes.html#deprecations\n",
      "  self._gate_excluded = np.zeros(shape, dtype=np.bool)\n"
     ]
    },
    {
     "name": "stdout",
     "output_type": "stream",
     "text": [
      "Writing KGWX20170328_020253_V06_gridded.nc\n"
     ]
    },
    {
     "name": "stderr",
     "output_type": "stream",
     "text": [
      "/Users/terrell8/miniconda2/envs/pyPIPS/lib/python3.8/site-packages/pyart/io/common.py:71: DeprecationWarning: tostring() is deprecated. Use tobytes() instead.\n",
      "  carr = netCDF4.stringtochar(arr)\n"
     ]
    },
    {
     "name": "stdout",
     "output_type": "stream",
     "text": [
      "On file 89 of 110 (80.91%)\n",
      "Reading KGWX20170328_020746_V06.ar2v\n",
      "Mapping to grid!\n"
     ]
    },
    {
     "name": "stderr",
     "output_type": "stream",
     "text": [
      "/Users/terrell8/miniconda2/envs/pyPIPS/lib/python3.8/site-packages/pyart/filters/gatefilter.py:460: DeprecationWarning: `np.bool` is a deprecated alias for the builtin `bool`. To silence this warning, use `bool` by itself. Doing this will not modify any behavior and is safe. If you specifically wanted the numpy scalar type, use `np.bool_` here.\n",
      "Deprecated in NumPy 1.20; for more details and guidance: https://numpy.org/devdocs/release/1.20.0-notes.html#deprecations\n",
      "  self._gate_excluded = np.zeros(shape, dtype=np.bool)\n"
     ]
    },
    {
     "name": "stdout",
     "output_type": "stream",
     "text": [
      "Writing KGWX20170328_020746_V06_gridded.nc\n"
     ]
    },
    {
     "name": "stderr",
     "output_type": "stream",
     "text": [
      "/Users/terrell8/miniconda2/envs/pyPIPS/lib/python3.8/site-packages/pyart/io/common.py:71: DeprecationWarning: tostring() is deprecated. Use tobytes() instead.\n",
      "  carr = netCDF4.stringtochar(arr)\n"
     ]
    },
    {
     "name": "stdout",
     "output_type": "stream",
     "text": [
      "On file 90 of 110 (81.82%)\n",
      "Reading KGWX20170328_021103_V06.ar2v\n",
      "Mapping to grid!\n"
     ]
    },
    {
     "name": "stderr",
     "output_type": "stream",
     "text": [
      "/Users/terrell8/miniconda2/envs/pyPIPS/lib/python3.8/site-packages/pyart/filters/gatefilter.py:460: DeprecationWarning: `np.bool` is a deprecated alias for the builtin `bool`. To silence this warning, use `bool` by itself. Doing this will not modify any behavior and is safe. If you specifically wanted the numpy scalar type, use `np.bool_` here.\n",
      "Deprecated in NumPy 1.20; for more details and guidance: https://numpy.org/devdocs/release/1.20.0-notes.html#deprecations\n",
      "  self._gate_excluded = np.zeros(shape, dtype=np.bool)\n"
     ]
    },
    {
     "name": "stdout",
     "output_type": "stream",
     "text": [
      "Writing KGWX20170328_021103_V06_gridded.nc\n"
     ]
    },
    {
     "name": "stderr",
     "output_type": "stream",
     "text": [
      "/Users/terrell8/miniconda2/envs/pyPIPS/lib/python3.8/site-packages/pyart/io/common.py:71: DeprecationWarning: tostring() is deprecated. Use tobytes() instead.\n",
      "  carr = netCDF4.stringtochar(arr)\n"
     ]
    },
    {
     "name": "stdout",
     "output_type": "stream",
     "text": [
      "On file 91 of 110 (82.73%)\n",
      "Reading KGWX20170328_021602_V06.ar2v\n",
      "Mapping to grid!\n"
     ]
    },
    {
     "name": "stderr",
     "output_type": "stream",
     "text": [
      "/Users/terrell8/miniconda2/envs/pyPIPS/lib/python3.8/site-packages/pyart/filters/gatefilter.py:460: DeprecationWarning: `np.bool` is a deprecated alias for the builtin `bool`. To silence this warning, use `bool` by itself. Doing this will not modify any behavior and is safe. If you specifically wanted the numpy scalar type, use `np.bool_` here.\n",
      "Deprecated in NumPy 1.20; for more details and guidance: https://numpy.org/devdocs/release/1.20.0-notes.html#deprecations\n",
      "  self._gate_excluded = np.zeros(shape, dtype=np.bool)\n"
     ]
    },
    {
     "name": "stdout",
     "output_type": "stream",
     "text": [
      "Writing KGWX20170328_021602_V06_gridded.nc\n"
     ]
    },
    {
     "name": "stderr",
     "output_type": "stream",
     "text": [
      "/Users/terrell8/miniconda2/envs/pyPIPS/lib/python3.8/site-packages/pyart/io/common.py:71: DeprecationWarning: tostring() is deprecated. Use tobytes() instead.\n",
      "  carr = netCDF4.stringtochar(arr)\n"
     ]
    },
    {
     "name": "stdout",
     "output_type": "stream",
     "text": [
      "On file 92 of 110 (83.64%)\n",
      "Reading KGWX20170328_022101_V06.ar2v\n",
      "Mapping to grid!\n"
     ]
    },
    {
     "name": "stderr",
     "output_type": "stream",
     "text": [
      "/Users/terrell8/miniconda2/envs/pyPIPS/lib/python3.8/site-packages/pyart/filters/gatefilter.py:460: DeprecationWarning: `np.bool` is a deprecated alias for the builtin `bool`. To silence this warning, use `bool` by itself. Doing this will not modify any behavior and is safe. If you specifically wanted the numpy scalar type, use `np.bool_` here.\n",
      "Deprecated in NumPy 1.20; for more details and guidance: https://numpy.org/devdocs/release/1.20.0-notes.html#deprecations\n",
      "  self._gate_excluded = np.zeros(shape, dtype=np.bool)\n"
     ]
    },
    {
     "name": "stdout",
     "output_type": "stream",
     "text": [
      "Writing KGWX20170328_022101_V06_gridded.nc\n"
     ]
    },
    {
     "name": "stderr",
     "output_type": "stream",
     "text": [
      "/Users/terrell8/miniconda2/envs/pyPIPS/lib/python3.8/site-packages/pyart/io/common.py:71: DeprecationWarning: tostring() is deprecated. Use tobytes() instead.\n",
      "  carr = netCDF4.stringtochar(arr)\n"
     ]
    },
    {
     "name": "stdout",
     "output_type": "stream",
     "text": [
      "On file 93 of 110 (84.55%)\n",
      "Reading KGWX20170328_022602_V06.ar2v\n",
      "Mapping to grid!\n"
     ]
    },
    {
     "name": "stderr",
     "output_type": "stream",
     "text": [
      "/Users/terrell8/miniconda2/envs/pyPIPS/lib/python3.8/site-packages/pyart/filters/gatefilter.py:460: DeprecationWarning: `np.bool` is a deprecated alias for the builtin `bool`. To silence this warning, use `bool` by itself. Doing this will not modify any behavior and is safe. If you specifically wanted the numpy scalar type, use `np.bool_` here.\n",
      "Deprecated in NumPy 1.20; for more details and guidance: https://numpy.org/devdocs/release/1.20.0-notes.html#deprecations\n",
      "  self._gate_excluded = np.zeros(shape, dtype=np.bool)\n"
     ]
    },
    {
     "name": "stdout",
     "output_type": "stream",
     "text": [
      "Writing KGWX20170328_022602_V06_gridded.nc\n"
     ]
    },
    {
     "name": "stderr",
     "output_type": "stream",
     "text": [
      "/Users/terrell8/miniconda2/envs/pyPIPS/lib/python3.8/site-packages/pyart/io/common.py:71: DeprecationWarning: tostring() is deprecated. Use tobytes() instead.\n",
      "  carr = netCDF4.stringtochar(arr)\n"
     ]
    },
    {
     "name": "stdout",
     "output_type": "stream",
     "text": [
      "On file 94 of 110 (85.45%)\n",
      "Reading KGWX20170328_023102_V06.ar2v\n",
      "Mapping to grid!\n"
     ]
    },
    {
     "name": "stderr",
     "output_type": "stream",
     "text": [
      "/Users/terrell8/miniconda2/envs/pyPIPS/lib/python3.8/site-packages/pyart/filters/gatefilter.py:460: DeprecationWarning: `np.bool` is a deprecated alias for the builtin `bool`. To silence this warning, use `bool` by itself. Doing this will not modify any behavior and is safe. If you specifically wanted the numpy scalar type, use `np.bool_` here.\n",
      "Deprecated in NumPy 1.20; for more details and guidance: https://numpy.org/devdocs/release/1.20.0-notes.html#deprecations\n",
      "  self._gate_excluded = np.zeros(shape, dtype=np.bool)\n"
     ]
    },
    {
     "name": "stdout",
     "output_type": "stream",
     "text": [
      "Writing KGWX20170328_023102_V06_gridded.nc\n"
     ]
    },
    {
     "name": "stderr",
     "output_type": "stream",
     "text": [
      "/Users/terrell8/miniconda2/envs/pyPIPS/lib/python3.8/site-packages/pyart/io/common.py:71: DeprecationWarning: tostring() is deprecated. Use tobytes() instead.\n",
      "  carr = netCDF4.stringtochar(arr)\n"
     ]
    },
    {
     "name": "stdout",
     "output_type": "stream",
     "text": [
      "On file 95 of 110 (86.36%)\n",
      "Reading KGWX20170328_023630_V06.ar2v\n",
      "Mapping to grid!\n"
     ]
    },
    {
     "name": "stderr",
     "output_type": "stream",
     "text": [
      "/Users/terrell8/miniconda2/envs/pyPIPS/lib/python3.8/site-packages/pyart/filters/gatefilter.py:460: DeprecationWarning: `np.bool` is a deprecated alias for the builtin `bool`. To silence this warning, use `bool` by itself. Doing this will not modify any behavior and is safe. If you specifically wanted the numpy scalar type, use `np.bool_` here.\n",
      "Deprecated in NumPy 1.20; for more details and guidance: https://numpy.org/devdocs/release/1.20.0-notes.html#deprecations\n",
      "  self._gate_excluded = np.zeros(shape, dtype=np.bool)\n"
     ]
    },
    {
     "name": "stdout",
     "output_type": "stream",
     "text": [
      "Writing KGWX20170328_023630_V06_gridded.nc\n"
     ]
    },
    {
     "name": "stderr",
     "output_type": "stream",
     "text": [
      "/Users/terrell8/miniconda2/envs/pyPIPS/lib/python3.8/site-packages/pyart/io/common.py:71: DeprecationWarning: tostring() is deprecated. Use tobytes() instead.\n",
      "  carr = netCDF4.stringtochar(arr)\n"
     ]
    },
    {
     "name": "stdout",
     "output_type": "stream",
     "text": [
      "On file 96 of 110 (87.27%)\n",
      "Reading KGWX20170328_024137_V06.ar2v\n",
      "Mapping to grid!\n"
     ]
    },
    {
     "name": "stderr",
     "output_type": "stream",
     "text": [
      "/Users/terrell8/miniconda2/envs/pyPIPS/lib/python3.8/site-packages/pyart/filters/gatefilter.py:460: DeprecationWarning: `np.bool` is a deprecated alias for the builtin `bool`. To silence this warning, use `bool` by itself. Doing this will not modify any behavior and is safe. If you specifically wanted the numpy scalar type, use `np.bool_` here.\n",
      "Deprecated in NumPy 1.20; for more details and guidance: https://numpy.org/devdocs/release/1.20.0-notes.html#deprecations\n",
      "  self._gate_excluded = np.zeros(shape, dtype=np.bool)\n"
     ]
    },
    {
     "name": "stdout",
     "output_type": "stream",
     "text": [
      "Writing KGWX20170328_024137_V06_gridded.nc\n"
     ]
    },
    {
     "name": "stderr",
     "output_type": "stream",
     "text": [
      "/Users/terrell8/miniconda2/envs/pyPIPS/lib/python3.8/site-packages/pyart/io/common.py:71: DeprecationWarning: tostring() is deprecated. Use tobytes() instead.\n",
      "  carr = netCDF4.stringtochar(arr)\n"
     ]
    },
    {
     "name": "stdout",
     "output_type": "stream",
     "text": [
      "On file 97 of 110 (88.18%)\n",
      "Reading KGWX20170328_024645_V06.ar2v\n",
      "Mapping to grid!\n"
     ]
    },
    {
     "name": "stderr",
     "output_type": "stream",
     "text": [
      "/Users/terrell8/miniconda2/envs/pyPIPS/lib/python3.8/site-packages/pyart/filters/gatefilter.py:460: DeprecationWarning: `np.bool` is a deprecated alias for the builtin `bool`. To silence this warning, use `bool` by itself. Doing this will not modify any behavior and is safe. If you specifically wanted the numpy scalar type, use `np.bool_` here.\n",
      "Deprecated in NumPy 1.20; for more details and guidance: https://numpy.org/devdocs/release/1.20.0-notes.html#deprecations\n",
      "  self._gate_excluded = np.zeros(shape, dtype=np.bool)\n"
     ]
    },
    {
     "name": "stdout",
     "output_type": "stream",
     "text": [
      "Writing KGWX20170328_024645_V06_gridded.nc\n"
     ]
    },
    {
     "name": "stderr",
     "output_type": "stream",
     "text": [
      "/Users/terrell8/miniconda2/envs/pyPIPS/lib/python3.8/site-packages/pyart/io/common.py:71: DeprecationWarning: tostring() is deprecated. Use tobytes() instead.\n",
      "  carr = netCDF4.stringtochar(arr)\n"
     ]
    },
    {
     "name": "stdout",
     "output_type": "stream",
     "text": [
      "On file 98 of 110 (89.09%)\n",
      "Reading KGWX20170328_025154_V06.ar2v\n",
      "Mapping to grid!\n"
     ]
    },
    {
     "name": "stderr",
     "output_type": "stream",
     "text": [
      "/Users/terrell8/miniconda2/envs/pyPIPS/lib/python3.8/site-packages/pyart/filters/gatefilter.py:460: DeprecationWarning: `np.bool` is a deprecated alias for the builtin `bool`. To silence this warning, use `bool` by itself. Doing this will not modify any behavior and is safe. If you specifically wanted the numpy scalar type, use `np.bool_` here.\n",
      "Deprecated in NumPy 1.20; for more details and guidance: https://numpy.org/devdocs/release/1.20.0-notes.html#deprecations\n",
      "  self._gate_excluded = np.zeros(shape, dtype=np.bool)\n"
     ]
    },
    {
     "name": "stdout",
     "output_type": "stream",
     "text": [
      "Writing KGWX20170328_025154_V06_gridded.nc\n"
     ]
    },
    {
     "name": "stderr",
     "output_type": "stream",
     "text": [
      "/Users/terrell8/miniconda2/envs/pyPIPS/lib/python3.8/site-packages/pyart/io/common.py:71: DeprecationWarning: tostring() is deprecated. Use tobytes() instead.\n",
      "  carr = netCDF4.stringtochar(arr)\n"
     ]
    },
    {
     "name": "stdout",
     "output_type": "stream",
     "text": [
      "On file 99 of 110 (90.00%)\n",
      "Reading KGWX20170328_025701_V06.ar2v\n",
      "Mapping to grid!\n"
     ]
    },
    {
     "name": "stderr",
     "output_type": "stream",
     "text": [
      "/Users/terrell8/miniconda2/envs/pyPIPS/lib/python3.8/site-packages/pyart/filters/gatefilter.py:460: DeprecationWarning: `np.bool` is a deprecated alias for the builtin `bool`. To silence this warning, use `bool` by itself. Doing this will not modify any behavior and is safe. If you specifically wanted the numpy scalar type, use `np.bool_` here.\n",
      "Deprecated in NumPy 1.20; for more details and guidance: https://numpy.org/devdocs/release/1.20.0-notes.html#deprecations\n",
      "  self._gate_excluded = np.zeros(shape, dtype=np.bool)\n"
     ]
    },
    {
     "name": "stdout",
     "output_type": "stream",
     "text": [
      "Writing KGWX20170328_025701_V06_gridded.nc\n"
     ]
    },
    {
     "name": "stderr",
     "output_type": "stream",
     "text": [
      "/Users/terrell8/miniconda2/envs/pyPIPS/lib/python3.8/site-packages/pyart/io/common.py:71: DeprecationWarning: tostring() is deprecated. Use tobytes() instead.\n",
      "  carr = netCDF4.stringtochar(arr)\n"
     ]
    },
    {
     "name": "stdout",
     "output_type": "stream",
     "text": [
      "On file 100 of 110 (90.91%)\n",
      "Reading KGWX20170328_030209_V06.ar2v\n",
      "Mapping to grid!\n"
     ]
    },
    {
     "name": "stderr",
     "output_type": "stream",
     "text": [
      "/Users/terrell8/miniconda2/envs/pyPIPS/lib/python3.8/site-packages/pyart/filters/gatefilter.py:460: DeprecationWarning: `np.bool` is a deprecated alias for the builtin `bool`. To silence this warning, use `bool` by itself. Doing this will not modify any behavior and is safe. If you specifically wanted the numpy scalar type, use `np.bool_` here.\n",
      "Deprecated in NumPy 1.20; for more details and guidance: https://numpy.org/devdocs/release/1.20.0-notes.html#deprecations\n",
      "  self._gate_excluded = np.zeros(shape, dtype=np.bool)\n"
     ]
    },
    {
     "name": "stdout",
     "output_type": "stream",
     "text": [
      "Writing KGWX20170328_030209_V06_gridded.nc\n"
     ]
    },
    {
     "name": "stderr",
     "output_type": "stream",
     "text": [
      "/Users/terrell8/miniconda2/envs/pyPIPS/lib/python3.8/site-packages/pyart/io/common.py:71: DeprecationWarning: tostring() is deprecated. Use tobytes() instead.\n",
      "  carr = netCDF4.stringtochar(arr)\n"
     ]
    },
    {
     "name": "stdout",
     "output_type": "stream",
     "text": [
      "On file 101 of 110 (91.82%)\n",
      "Reading KGWX20170328_030718_V06.ar2v\n",
      "Mapping to grid!\n"
     ]
    },
    {
     "name": "stderr",
     "output_type": "stream",
     "text": [
      "/Users/terrell8/miniconda2/envs/pyPIPS/lib/python3.8/site-packages/pyart/filters/gatefilter.py:460: DeprecationWarning: `np.bool` is a deprecated alias for the builtin `bool`. To silence this warning, use `bool` by itself. Doing this will not modify any behavior and is safe. If you specifically wanted the numpy scalar type, use `np.bool_` here.\n",
      "Deprecated in NumPy 1.20; for more details and guidance: https://numpy.org/devdocs/release/1.20.0-notes.html#deprecations\n",
      "  self._gate_excluded = np.zeros(shape, dtype=np.bool)\n"
     ]
    },
    {
     "name": "stdout",
     "output_type": "stream",
     "text": [
      "Writing KGWX20170328_030718_V06_gridded.nc\n"
     ]
    },
    {
     "name": "stderr",
     "output_type": "stream",
     "text": [
      "/Users/terrell8/miniconda2/envs/pyPIPS/lib/python3.8/site-packages/pyart/io/common.py:71: DeprecationWarning: tostring() is deprecated. Use tobytes() instead.\n",
      "  carr = netCDF4.stringtochar(arr)\n"
     ]
    },
    {
     "name": "stdout",
     "output_type": "stream",
     "text": [
      "On file 102 of 110 (92.73%)\n",
      "Reading KGWX20170328_031246_V06.ar2v\n",
      "Mapping to grid!\n"
     ]
    },
    {
     "name": "stderr",
     "output_type": "stream",
     "text": [
      "/Users/terrell8/miniconda2/envs/pyPIPS/lib/python3.8/site-packages/pyart/filters/gatefilter.py:460: DeprecationWarning: `np.bool` is a deprecated alias for the builtin `bool`. To silence this warning, use `bool` by itself. Doing this will not modify any behavior and is safe. If you specifically wanted the numpy scalar type, use `np.bool_` here.\n",
      "Deprecated in NumPy 1.20; for more details and guidance: https://numpy.org/devdocs/release/1.20.0-notes.html#deprecations\n",
      "  self._gate_excluded = np.zeros(shape, dtype=np.bool)\n"
     ]
    },
    {
     "name": "stdout",
     "output_type": "stream",
     "text": [
      "Writing KGWX20170328_031246_V06_gridded.nc\n"
     ]
    },
    {
     "name": "stderr",
     "output_type": "stream",
     "text": [
      "/Users/terrell8/miniconda2/envs/pyPIPS/lib/python3.8/site-packages/pyart/io/common.py:71: DeprecationWarning: tostring() is deprecated. Use tobytes() instead.\n",
      "  carr = netCDF4.stringtochar(arr)\n"
     ]
    },
    {
     "name": "stdout",
     "output_type": "stream",
     "text": [
      "On file 103 of 110 (93.64%)\n",
      "Reading KGWX20170328_031814_V06.ar2v\n",
      "Mapping to grid!\n"
     ]
    },
    {
     "name": "stderr",
     "output_type": "stream",
     "text": [
      "/Users/terrell8/miniconda2/envs/pyPIPS/lib/python3.8/site-packages/pyart/filters/gatefilter.py:460: DeprecationWarning: `np.bool` is a deprecated alias for the builtin `bool`. To silence this warning, use `bool` by itself. Doing this will not modify any behavior and is safe. If you specifically wanted the numpy scalar type, use `np.bool_` here.\n",
      "Deprecated in NumPy 1.20; for more details and guidance: https://numpy.org/devdocs/release/1.20.0-notes.html#deprecations\n",
      "  self._gate_excluded = np.zeros(shape, dtype=np.bool)\n"
     ]
    },
    {
     "name": "stdout",
     "output_type": "stream",
     "text": [
      "Writing KGWX20170328_031814_V06_gridded.nc\n"
     ]
    },
    {
     "name": "stderr",
     "output_type": "stream",
     "text": [
      "/Users/terrell8/miniconda2/envs/pyPIPS/lib/python3.8/site-packages/pyart/io/common.py:71: DeprecationWarning: tostring() is deprecated. Use tobytes() instead.\n",
      "  carr = netCDF4.stringtochar(arr)\n"
     ]
    },
    {
     "name": "stdout",
     "output_type": "stream",
     "text": [
      "On file 104 of 110 (94.55%)\n",
      "Reading KGWX20170328_032341_V06.ar2v\n",
      "Mapping to grid!\n"
     ]
    },
    {
     "name": "stderr",
     "output_type": "stream",
     "text": [
      "/Users/terrell8/miniconda2/envs/pyPIPS/lib/python3.8/site-packages/pyart/filters/gatefilter.py:460: DeprecationWarning: `np.bool` is a deprecated alias for the builtin `bool`. To silence this warning, use `bool` by itself. Doing this will not modify any behavior and is safe. If you specifically wanted the numpy scalar type, use `np.bool_` here.\n",
      "Deprecated in NumPy 1.20; for more details and guidance: https://numpy.org/devdocs/release/1.20.0-notes.html#deprecations\n",
      "  self._gate_excluded = np.zeros(shape, dtype=np.bool)\n"
     ]
    },
    {
     "name": "stdout",
     "output_type": "stream",
     "text": [
      "Writing KGWX20170328_032341_V06_gridded.nc\n"
     ]
    },
    {
     "name": "stderr",
     "output_type": "stream",
     "text": [
      "/Users/terrell8/miniconda2/envs/pyPIPS/lib/python3.8/site-packages/pyart/io/common.py:71: DeprecationWarning: tostring() is deprecated. Use tobytes() instead.\n",
      "  carr = netCDF4.stringtochar(arr)\n"
     ]
    },
    {
     "name": "stdout",
     "output_type": "stream",
     "text": [
      "On file 105 of 110 (95.45%)\n",
      "Reading KGWX20170328_032909_V06.ar2v\n",
      "Mapping to grid!\n"
     ]
    },
    {
     "name": "stderr",
     "output_type": "stream",
     "text": [
      "/Users/terrell8/miniconda2/envs/pyPIPS/lib/python3.8/site-packages/pyart/filters/gatefilter.py:460: DeprecationWarning: `np.bool` is a deprecated alias for the builtin `bool`. To silence this warning, use `bool` by itself. Doing this will not modify any behavior and is safe. If you specifically wanted the numpy scalar type, use `np.bool_` here.\n",
      "Deprecated in NumPy 1.20; for more details and guidance: https://numpy.org/devdocs/release/1.20.0-notes.html#deprecations\n",
      "  self._gate_excluded = np.zeros(shape, dtype=np.bool)\n"
     ]
    },
    {
     "name": "stdout",
     "output_type": "stream",
     "text": [
      "Writing KGWX20170328_032909_V06_gridded.nc\n"
     ]
    },
    {
     "name": "stderr",
     "output_type": "stream",
     "text": [
      "/Users/terrell8/miniconda2/envs/pyPIPS/lib/python3.8/site-packages/pyart/io/common.py:71: DeprecationWarning: tostring() is deprecated. Use tobytes() instead.\n",
      "  carr = netCDF4.stringtochar(arr)\n"
     ]
    },
    {
     "name": "stdout",
     "output_type": "stream",
     "text": [
      "On file 106 of 110 (96.36%)\n",
      "Reading KGWX20170328_033438_V06.ar2v\n",
      "Mapping to grid!\n"
     ]
    },
    {
     "name": "stderr",
     "output_type": "stream",
     "text": [
      "/Users/terrell8/miniconda2/envs/pyPIPS/lib/python3.8/site-packages/pyart/filters/gatefilter.py:460: DeprecationWarning: `np.bool` is a deprecated alias for the builtin `bool`. To silence this warning, use `bool` by itself. Doing this will not modify any behavior and is safe. If you specifically wanted the numpy scalar type, use `np.bool_` here.\n",
      "Deprecated in NumPy 1.20; for more details and guidance: https://numpy.org/devdocs/release/1.20.0-notes.html#deprecations\n",
      "  self._gate_excluded = np.zeros(shape, dtype=np.bool)\n"
     ]
    },
    {
     "name": "stdout",
     "output_type": "stream",
     "text": [
      "Writing KGWX20170328_033438_V06_gridded.nc\n"
     ]
    },
    {
     "name": "stderr",
     "output_type": "stream",
     "text": [
      "/Users/terrell8/miniconda2/envs/pyPIPS/lib/python3.8/site-packages/pyart/io/common.py:71: DeprecationWarning: tostring() is deprecated. Use tobytes() instead.\n",
      "  carr = netCDF4.stringtochar(arr)\n"
     ]
    },
    {
     "name": "stdout",
     "output_type": "stream",
     "text": [
      "On file 107 of 110 (97.27%)\n",
      "Reading KGWX20170328_033952_V06.ar2v\n",
      "Mapping to grid!\n"
     ]
    },
    {
     "name": "stderr",
     "output_type": "stream",
     "text": [
      "/Users/terrell8/miniconda2/envs/pyPIPS/lib/python3.8/site-packages/pyart/filters/gatefilter.py:460: DeprecationWarning: `np.bool` is a deprecated alias for the builtin `bool`. To silence this warning, use `bool` by itself. Doing this will not modify any behavior and is safe. If you specifically wanted the numpy scalar type, use `np.bool_` here.\n",
      "Deprecated in NumPy 1.20; for more details and guidance: https://numpy.org/devdocs/release/1.20.0-notes.html#deprecations\n",
      "  self._gate_excluded = np.zeros(shape, dtype=np.bool)\n"
     ]
    },
    {
     "name": "stdout",
     "output_type": "stream",
     "text": [
      "Writing KGWX20170328_033952_V06_gridded.nc\n"
     ]
    },
    {
     "name": "stderr",
     "output_type": "stream",
     "text": [
      "/Users/terrell8/miniconda2/envs/pyPIPS/lib/python3.8/site-packages/pyart/io/common.py:71: DeprecationWarning: tostring() is deprecated. Use tobytes() instead.\n",
      "  carr = netCDF4.stringtochar(arr)\n"
     ]
    },
    {
     "name": "stdout",
     "output_type": "stream",
     "text": [
      "On file 108 of 110 (98.18%)\n",
      "Reading KGWX20170328_034519_V06.ar2v\n",
      "Mapping to grid!\n"
     ]
    },
    {
     "name": "stderr",
     "output_type": "stream",
     "text": [
      "/Users/terrell8/miniconda2/envs/pyPIPS/lib/python3.8/site-packages/pyart/filters/gatefilter.py:460: DeprecationWarning: `np.bool` is a deprecated alias for the builtin `bool`. To silence this warning, use `bool` by itself. Doing this will not modify any behavior and is safe. If you specifically wanted the numpy scalar type, use `np.bool_` here.\n",
      "Deprecated in NumPy 1.20; for more details and guidance: https://numpy.org/devdocs/release/1.20.0-notes.html#deprecations\n",
      "  self._gate_excluded = np.zeros(shape, dtype=np.bool)\n"
     ]
    },
    {
     "name": "stdout",
     "output_type": "stream",
     "text": [
      "Writing KGWX20170328_034519_V06_gridded.nc\n"
     ]
    },
    {
     "name": "stderr",
     "output_type": "stream",
     "text": [
      "/Users/terrell8/miniconda2/envs/pyPIPS/lib/python3.8/site-packages/pyart/io/common.py:71: DeprecationWarning: tostring() is deprecated. Use tobytes() instead.\n",
      "  carr = netCDF4.stringtochar(arr)\n"
     ]
    },
    {
     "name": "stdout",
     "output_type": "stream",
     "text": [
      "On file 109 of 110 (99.09%)\n",
      "Reading KGWX20170328_035048_V06.ar2v\n",
      "Mapping to grid!\n"
     ]
    },
    {
     "name": "stderr",
     "output_type": "stream",
     "text": [
      "/Users/terrell8/miniconda2/envs/pyPIPS/lib/python3.8/site-packages/pyart/filters/gatefilter.py:460: DeprecationWarning: `np.bool` is a deprecated alias for the builtin `bool`. To silence this warning, use `bool` by itself. Doing this will not modify any behavior and is safe. If you specifically wanted the numpy scalar type, use `np.bool_` here.\n",
      "Deprecated in NumPy 1.20; for more details and guidance: https://numpy.org/devdocs/release/1.20.0-notes.html#deprecations\n",
      "  self._gate_excluded = np.zeros(shape, dtype=np.bool)\n"
     ]
    },
    {
     "name": "stdout",
     "output_type": "stream",
     "text": [
      "Writing KGWX20170328_035048_V06_gridded.nc\n"
     ]
    },
    {
     "name": "stderr",
     "output_type": "stream",
     "text": [
      "/Users/terrell8/miniconda2/envs/pyPIPS/lib/python3.8/site-packages/pyart/io/common.py:71: DeprecationWarning: tostring() is deprecated. Use tobytes() instead.\n",
      "  carr = netCDF4.stringtochar(arr)\n"
     ]
    }
   ],
   "source": [
    "# Create gridded radar objects and dump to disk\n",
    "for i, f in enumerate(level2_files_to_read):\n",
    "    print(\"On file {:d} of {:d} ({:.2f}%)\".format(i+1, len(level2_files), (i+1)/len(level2_files)*100.))\n",
    "    print(\"Reading {}\".format(os.path.basename(f)))\n",
    "    radar = pyart.io.read_nexrad_archive(f)\n",
    "    output_file = os.path.basename(f)[:-5]+\"_gridded.nc\"\n",
    "    output_path = os.path.join(gridded_output_dir, output_file)\n",
    "    \n",
    "    print(\"Mapping to grid!\")\n",
    "    grid = pyart.map.grid_from_radars(\n",
    "        (radar,),\n",
    "        grid_shape=(nz, ny, nx),\n",
    "        grid_limits=((zmin, zmax), (ymin, ymax), (xmin, xmax)),\n",
    "        fields=['differential_reflectivity', 'reflectivity', 'cross_correlation_ratio'],\n",
    "        weighting_function='Barnes2')\n",
    "    print(\"Writing {}\".format(output_file))\n",
    "    pyart.io.write_grid(output_path, grid, arm_time_variables=True, arm_alt_lat_lon_variables=True, \n",
    "                        write_point_x_y_z=True, write_point_lon_lat_alt=True)\n"
   ]
  },
  {
   "cell_type": "code",
   "execution_count": null,
   "metadata": {},
   "outputs": [],
   "source": []
  },
  {
   "cell_type": "code",
   "execution_count": null,
   "metadata": {},
   "outputs": [],
   "source": []
  },
  {
   "cell_type": "code",
   "execution_count": null,
   "metadata": {},
   "outputs": [],
   "source": [
    "\n"
   ]
  }
 ],
 "metadata": {
  "hide_input": false,
  "kernelspec": {
   "display_name": "Python 3",
   "language": "python",
   "name": "python3"
  },
  "language_info": {
   "codemirror_mode": {
    "name": "ipython",
    "version": 3
   },
   "file_extension": ".py",
   "mimetype": "text/x-python",
   "name": "python",
   "nbconvert_exporter": "python",
   "pygments_lexer": "ipython3",
   "version": "3.8.8"
  },
  "toc": {
   "base_numbering": 1,
   "nav_menu": {},
   "number_sections": true,
   "sideBar": true,
   "skip_h1_title": false,
   "title_cell": "Table of Contents",
   "title_sidebar": "Contents",
   "toc_cell": false,
   "toc_position": {},
   "toc_section_display": true,
   "toc_window_display": false
  },
  "varInspector": {
   "cols": {
    "lenName": 16,
    "lenType": 16,
    "lenVar": 40
   },
   "kernels_config": {
    "python": {
     "delete_cmd_postfix": "",
     "delete_cmd_prefix": "del ",
     "library": "var_list.py",
     "varRefreshCmd": "print(var_dic_list())"
    },
    "r": {
     "delete_cmd_postfix": ") ",
     "delete_cmd_prefix": "rm(",
     "library": "var_list.r",
     "varRefreshCmd": "cat(var_dic_list()) "
    }
   },
   "types_to_exclude": [
    "module",
    "function",
    "builtin_function_or_method",
    "instance",
    "_Feature"
   ],
   "window_display": false
  }
 },
 "nbformat": 4,
 "nbformat_minor": 2
}
