{
 "cells": [
  {
   "cell_type": "code",
   "execution_count": 1,
   "metadata": {
    "ExecuteTime": {
     "end_time": "2020-12-30T19:18:56.888552Z",
     "start_time": "2020-12-30T19:18:49.923807Z"
    }
   },
   "outputs": [
    {
     "name": "stdout",
     "output_type": "stream",
     "text": [
      "\n",
      "## You are using the Python ARM Radar Toolkit (Py-ART), an open source\n",
      "## library for working with weather radar data. Py-ART is partly\n",
      "## supported by the U.S. Department of Energy as part of the Atmospheric\n",
      "## Radiation Measurement (ARM) Climate Research Facility, an Office of\n",
      "## Science user facility.\n",
      "##\n",
      "## If you use this software to prepare a publication, please cite:\n",
      "##\n",
      "##     JJ Helmus and SM Collis, JORS 2016, doi: 10.5334/jors.119\n",
      "\n"
     ]
    }
   ],
   "source": [
    "from glob import glob\n",
    "import os\n",
    "import itertools\n",
    "import numpy as np\n",
    "import matplotlib\n",
    "import matplotlib.pyplot as plt\n",
    "import matplotlib.cm as cm\n",
    "from mpl_toolkits.axes_grid1 import ImageGrid, make_axes_locatable, host_subplot\n",
    "import matplotlib.ticker as ticker\n",
    "from matplotlib.collections import Collection, LineCollection\n",
    "from matplotlib.artist import allow_rasterization\n",
    "from matplotlib.font_manager import FontProperties\n",
    "from matplotlib.colors import LinearSegmentedColormap\n",
    "import matplotlib.dates as md\n",
    "import matplotlib.ticker as ticker\n",
    "from metpy.plots import ctables\n",
    "#from pyPIPS import disdrometer_module as dis\n",
    "from pyPIPS import pips_io as pipsio\n",
    "from pyPIPS import timemodule as tm\n",
    "from pyPIPS.utils import mtokm, getTimeWindow, interp_along_1D\n",
    "from pyPIPS import plotmodule as pm\n",
    "from pyPIPS import PIPS as pips\n",
    "from pyPIPS import fmcw\n",
    "from itertools import cycle\n",
    "import netCDF4 as netcdf\n",
    "from datetime import datetime, timedelta\n",
    "import pandas as pd\n",
    "import xarray as xr\n",
    "from skimage.restoration import unwrap_phase\n",
    "import skimage.feature as SF\n",
    "import numpy.ma as ma\n",
    "from scipy import ndimage, interpolate\n",
    "import pyart\n",
    "import cartopy.crs as ccrs\n",
    "%load_ext autoreload\n",
    "%autoreload 2\n",
    "%matplotlib inline"
   ]
  },
  {
   "cell_type": "code",
   "execution_count": 2,
   "metadata": {
    "ExecuteTime": {
     "end_time": "2020-12-30T19:19:48.875860Z",
     "start_time": "2020-12-30T19:19:48.387653Z"
    },
    "scrolled": true
   },
   "outputs": [
    {
     "name": "stderr",
     "output_type": "stream",
     "text": [
      "/Users/dawson29/miniconda3/envs/pyPIPS/lib/python3.8/site-packages/ipykernel/ipkernel.py:287: DeprecationWarning: `should_run_async` will not call `transform_cell` automatically in the future. Please pass the result to `transformed_cell` argument and any exception that happen during thetransform in `preprocessing_exc_tuple` in IPython 7.17 and above.\n",
      "  and should_run_async(code)\n"
     ]
    },
    {
     "name": "stdout",
     "output_type": "stream",
     "text": [
      "<xarray.Dataset>\n",
      "Dimensions:                  (diameter_bin: 32, fallspeed_bin: 32, parameter: 3, time: 1441)\n",
      "Coordinates:\n",
      "  * time                     (time) datetime64[ns] 2017-03-27 ... 2017-03-28\n",
      "    fallspeed                (fallspeed_bin) float64 ...\n",
      "    diameter                 (diameter_bin) float64 ...\n",
      "    min_diameter             (diameter_bin) float64 ...\n",
      "    max_diameter             (diameter_bin) float64 ...\n",
      "    min_fallspeeds           (fallspeed_bin) float64 ...\n",
      "    max_fallspeeds           (fallspeed_bin) float64 ...\n",
      "  * parameter                (parameter) object 'N0' 'lamda' 'alpha'\n",
      "Dimensions without coordinates: diameter_bin, fallspeed_bin\n",
      "Data variables:\n",
      "    precipintensity          (time) float64 ...\n",
      "    precipaccum              (time) float64 ...\n",
      "    parsivel_dBZ             (time) float64 ...\n",
      "    pcount                   (time) int64 ...\n",
      "    signal_amplitude         (time) float64 ...\n",
      "    pvoltage                 (time) float64 ...\n",
      "    sensor_temp              (time) float64 ...\n",
      "    sample_interval          (time) timedelta64[ns] ...\n",
      "    windspd                  (time) float64 ...\n",
      "    windspdavgvec            (time) float64 ...\n",
      "    winddirabs               (time) float64 ...\n",
      "    winddirunitavgvec        (time) float64 ...\n",
      "    windgust                 (time) float64 ...\n",
      "    uavg                     (time) float64 ...\n",
      "    vavg                     (time) float64 ...\n",
      "    unit_uavg                (time) float64 ...\n",
      "    unit_vavg                (time) float64 ...\n",
      "    compass_dir              (time) float64 ...\n",
      "    winddiag                 (time) float64 ...\n",
      "    fasttemp                 (time) float64 ...\n",
      "    slowtemp                 (time) float64 ...\n",
      "    RH                       (time) float64 ...\n",
      "    RH_derived               (time) float64 ...\n",
      "    pressure                 (time) float64 ...\n",
      "    GPS_lat                  (time) float64 ...\n",
      "    GPS_lon                  (time) float64 ...\n",
      "    GPS_alt                  (time) float64 ...\n",
      "    voltage                  (time) float64 ...\n",
      "    dewpoint                 (time) float64 ...\n",
      "    rho                      (time) float64 ...\n",
      "    VD_matrix                (time, fallspeed_bin, diameter_bin) float64 ...\n",
      "    VD_matrix_qc             (time, fallspeed_bin, diameter_bin) float64 ...\n",
      "    ND_qc                    (time, diameter_bin) float64 ...\n",
      "    rainrate_derived_qc      (time) float64 ...\n",
      "    pcount_derived_qc        (time) float64 ...\n",
      "    reflectivity_derived_qc  (time) float64 ...\n",
      "    DSD_MM24                 (parameter, time) float64 ...\n",
      "    DSD_MM36                 (parameter, time) float64 ...\n",
      "    DSD_MM346                (parameter, time) float64 ...\n",
      "    DSD_MM246                (parameter, time) float64 ...\n",
      "    DSD_MM234                (parameter, time) float64 ...\n",
      "    DSD_TMM246               (parameter, time) float64 ...\n",
      "    Dm43                     (time) float64 ...\n",
      "    sigma                    (time) float64 ...\n",
      "Attributes:\n",
      "    probe_name:                      PIPS2A\n",
      "    parsivel_angle:                  -45.0\n",
      "    deployment_name:                 FMCW_2017_032717\n",
      "    location:                        (34.687122998603364, -86.00486622375519,...\n",
      "    starting_time:                   20170327000000\n",
      "    ending_time:                     20170328000000\n",
      "    DSD_interval:                    60.0\n",
      "    strongwindQC:                    1\n",
      "    splashingQC:                     1\n",
      "    marginQC:                        1\n",
      "    rainfallQC:                      1\n",
      "    rainonlyQC:                      1\n",
      "    hailonlyQC:                      0\n",
      "    graupelonlyQC:                   0\n",
      "    basicQC:                         0\n",
      "    CG_coeff_Z01:                    [-1.957  1.213 -0.016]\n",
      "    CG_coeff_C08:                    [-1.718   0.902  -0.0201]\n",
      "    CG_coeff_SATP_TMM:               [-2.25678432  1.11231431 -0.02114548]\n",
      "    CG_coeff_SATP_MM:                [-1.31554481  0.93118812 -0.00912097]\n",
      "    CG_coeff_SATP:                   [-2.25678432  1.11231431 -0.02114548]\n",
      "    CG_coeff_TMM:                    [-2.29235944  1.06708171 -0.01557723]\n",
      "    CG_coeff_MM:                     [-1.44688755  0.94004475 -0.00961485]\n",
      "    CG_coeff_TMM_F:                  [-2.30542388  1.15085961 -0.01662427]\n",
      "    CG_coeff_MM_F:                   [-1.75041249  1.07590895 -0.01361414]\n",
      "    Filter_for_MM_F_and_TMM_F_fits:  ['RR_filter_5mm', 'counts_filter_1000']\n"
     ]
    },
    {
     "name": "stderr",
     "output_type": "stream",
     "text": [
      "/Users/dawson29/miniconda3/envs/pyPIPS/lib/python3.8/site-packages/xarray/backends/netCDF4_.py:372: DeprecationWarning: tostring() is deprecated. Use tobytes() instead.\n",
      "  attributes = {k: var.getncattr(k) for k in var.ncattrs()}\n",
      "/Users/dawson29/miniconda3/envs/pyPIPS/lib/python3.8/site-packages/xarray/backends/netCDF4_.py:372: DeprecationWarning: tostring() is deprecated. Use tobytes() instead.\n",
      "  attributes = {k: var.getncattr(k) for k in var.ncattrs()}\n",
      "/Users/dawson29/miniconda3/envs/pyPIPS/lib/python3.8/site-packages/xarray/backends/netCDF4_.py:372: DeprecationWarning: tostring() is deprecated. Use tobytes() instead.\n",
      "  attributes = {k: var.getncattr(k) for k in var.ncattrs()}\n",
      "/Users/dawson29/miniconda3/envs/pyPIPS/lib/python3.8/site-packages/xarray/backends/netCDF4_.py:372: DeprecationWarning: tostring() is deprecated. Use tobytes() instead.\n",
      "  attributes = {k: var.getncattr(k) for k in var.ncattrs()}\n",
      "/Users/dawson29/miniconda3/envs/pyPIPS/lib/python3.8/site-packages/xarray/backends/netCDF4_.py:372: DeprecationWarning: tostring() is deprecated. Use tobytes() instead.\n",
      "  attributes = {k: var.getncattr(k) for k in var.ncattrs()}\n",
      "/Users/dawson29/miniconda3/envs/pyPIPS/lib/python3.8/site-packages/xarray/backends/netCDF4_.py:372: DeprecationWarning: tostring() is deprecated. Use tobytes() instead.\n",
      "  attributes = {k: var.getncattr(k) for k in var.ncattrs()}\n",
      "/Users/dawson29/miniconda3/envs/pyPIPS/lib/python3.8/site-packages/xarray/backends/netCDF4_.py:372: DeprecationWarning: tostring() is deprecated. Use tobytes() instead.\n",
      "  attributes = {k: var.getncattr(k) for k in var.ncattrs()}\n",
      "/Users/dawson29/miniconda3/envs/pyPIPS/lib/python3.8/site-packages/xarray/backends/netCDF4_.py:372: DeprecationWarning: tostring() is deprecated. Use tobytes() instead.\n",
      "  attributes = {k: var.getncattr(k) for k in var.ncattrs()}\n",
      "/Users/dawson29/miniconda3/envs/pyPIPS/lib/python3.8/site-packages/xarray/backends/netCDF4_.py:372: DeprecationWarning: tostring() is deprecated. Use tobytes() instead.\n",
      "  attributes = {k: var.getncattr(k) for k in var.ncattrs()}\n",
      "/Users/dawson29/miniconda3/envs/pyPIPS/lib/python3.8/site-packages/xarray/backends/netCDF4_.py:372: DeprecationWarning: tostring() is deprecated. Use tobytes() instead.\n",
      "  attributes = {k: var.getncattr(k) for k in var.ncattrs()}\n",
      "/Users/dawson29/miniconda3/envs/pyPIPS/lib/python3.8/site-packages/xarray/backends/netCDF4_.py:372: DeprecationWarning: tostring() is deprecated. Use tobytes() instead.\n",
      "  attributes = {k: var.getncattr(k) for k in var.ncattrs()}\n",
      "/Users/dawson29/miniconda3/envs/pyPIPS/lib/python3.8/site-packages/xarray/backends/netCDF4_.py:372: DeprecationWarning: tostring() is deprecated. Use tobytes() instead.\n",
      "  attributes = {k: var.getncattr(k) for k in var.ncattrs()}\n",
      "/Users/dawson29/miniconda3/envs/pyPIPS/lib/python3.8/site-packages/xarray/backends/netCDF4_.py:372: DeprecationWarning: tostring() is deprecated. Use tobytes() instead.\n",
      "  attributes = {k: var.getncattr(k) for k in var.ncattrs()}\n",
      "/Users/dawson29/miniconda3/envs/pyPIPS/lib/python3.8/site-packages/xarray/backends/netCDF4_.py:372: DeprecationWarning: tostring() is deprecated. Use tobytes() instead.\n",
      "  attributes = {k: var.getncattr(k) for k in var.ncattrs()}\n",
      "/Users/dawson29/miniconda3/envs/pyPIPS/lib/python3.8/site-packages/xarray/backends/netCDF4_.py:372: DeprecationWarning: tostring() is deprecated. Use tobytes() instead.\n",
      "  attributes = {k: var.getncattr(k) for k in var.ncattrs()}\n",
      "/Users/dawson29/miniconda3/envs/pyPIPS/lib/python3.8/site-packages/xarray/backends/netCDF4_.py:372: DeprecationWarning: tostring() is deprecated. Use tobytes() instead.\n",
      "  attributes = {k: var.getncattr(k) for k in var.ncattrs()}\n",
      "/Users/dawson29/miniconda3/envs/pyPIPS/lib/python3.8/site-packages/xarray/backends/netCDF4_.py:372: DeprecationWarning: tostring() is deprecated. Use tobytes() instead.\n",
      "  attributes = {k: var.getncattr(k) for k in var.ncattrs()}\n",
      "/Users/dawson29/miniconda3/envs/pyPIPS/lib/python3.8/site-packages/xarray/backends/netCDF4_.py:372: DeprecationWarning: tostring() is deprecated. Use tobytes() instead.\n",
      "  attributes = {k: var.getncattr(k) for k in var.ncattrs()}\n",
      "/Users/dawson29/miniconda3/envs/pyPIPS/lib/python3.8/site-packages/xarray/backends/netCDF4_.py:372: DeprecationWarning: tostring() is deprecated. Use tobytes() instead.\n",
      "  attributes = {k: var.getncattr(k) for k in var.ncattrs()}\n",
      "/Users/dawson29/miniconda3/envs/pyPIPS/lib/python3.8/site-packages/xarray/backends/netCDF4_.py:372: DeprecationWarning: tostring() is deprecated. Use tobytes() instead.\n",
      "  attributes = {k: var.getncattr(k) for k in var.ncattrs()}\n",
      "/Users/dawson29/miniconda3/envs/pyPIPS/lib/python3.8/site-packages/xarray/backends/netCDF4_.py:372: DeprecationWarning: tostring() is deprecated. Use tobytes() instead.\n",
      "  attributes = {k: var.getncattr(k) for k in var.ncattrs()}\n",
      "/Users/dawson29/miniconda3/envs/pyPIPS/lib/python3.8/site-packages/xarray/backends/netCDF4_.py:372: DeprecationWarning: tostring() is deprecated. Use tobytes() instead.\n",
      "  attributes = {k: var.getncattr(k) for k in var.ncattrs()}\n",
      "/Users/dawson29/miniconda3/envs/pyPIPS/lib/python3.8/site-packages/xarray/backends/netCDF4_.py:372: DeprecationWarning: tostring() is deprecated. Use tobytes() instead.\n",
      "  attributes = {k: var.getncattr(k) for k in var.ncattrs()}\n",
      "/Users/dawson29/miniconda3/envs/pyPIPS/lib/python3.8/site-packages/xarray/backends/netCDF4_.py:372: DeprecationWarning: tostring() is deprecated. Use tobytes() instead.\n",
      "  attributes = {k: var.getncattr(k) for k in var.ncattrs()}\n",
      "/Users/dawson29/miniconda3/envs/pyPIPS/lib/python3.8/site-packages/xarray/backends/netCDF4_.py:372: DeprecationWarning: tostring() is deprecated. Use tobytes() instead.\n",
      "  attributes = {k: var.getncattr(k) for k in var.ncattrs()}\n",
      "/Users/dawson29/miniconda3/envs/pyPIPS/lib/python3.8/site-packages/xarray/backends/netCDF4_.py:372: DeprecationWarning: tostring() is deprecated. Use tobytes() instead.\n",
      "  attributes = {k: var.getncattr(k) for k in var.ncattrs()}\n",
      "/Users/dawson29/miniconda3/envs/pyPIPS/lib/python3.8/site-packages/xarray/backends/netCDF4_.py:372: DeprecationWarning: tostring() is deprecated. Use tobytes() instead.\n",
      "  attributes = {k: var.getncattr(k) for k in var.ncattrs()}\n",
      "/Users/dawson29/miniconda3/envs/pyPIPS/lib/python3.8/site-packages/xarray/backends/netCDF4_.py:372: DeprecationWarning: tostring() is deprecated. Use tobytes() instead.\n",
      "  attributes = {k: var.getncattr(k) for k in var.ncattrs()}\n",
      "/Users/dawson29/miniconda3/envs/pyPIPS/lib/python3.8/site-packages/xarray/backends/netCDF4_.py:372: DeprecationWarning: tostring() is deprecated. Use tobytes() instead.\n",
      "  attributes = {k: var.getncattr(k) for k in var.ncattrs()}\n",
      "/Users/dawson29/miniconda3/envs/pyPIPS/lib/python3.8/site-packages/xarray/backends/netCDF4_.py:405: DeprecationWarning: tostring() is deprecated. Use tobytes() instead.\n",
      "  attrs = FrozenDict((k, self.ds.getncattr(k)) for k in self.ds.ncattrs())\n",
      "/Users/dawson29/miniconda3/envs/pyPIPS/lib/python3.8/site-packages/xarray/backends/netCDF4_.py:405: DeprecationWarning: tostring() is deprecated. Use tobytes() instead.\n",
      "  attrs = FrozenDict((k, self.ds.getncattr(k)) for k in self.ds.ncattrs())\n",
      "/Users/dawson29/miniconda3/envs/pyPIPS/lib/python3.8/site-packages/xarray/backends/netCDF4_.py:405: DeprecationWarning: tostring() is deprecated. Use tobytes() instead.\n",
      "  attrs = FrozenDict((k, self.ds.getncattr(k)) for k in self.ds.ncattrs())\n",
      "/Users/dawson29/miniconda3/envs/pyPIPS/lib/python3.8/site-packages/xarray/backends/netCDF4_.py:405: DeprecationWarning: tostring() is deprecated. Use tobytes() instead.\n",
      "  attrs = FrozenDict((k, self.ds.getncattr(k)) for k in self.ds.ncattrs())\n",
      "/Users/dawson29/miniconda3/envs/pyPIPS/lib/python3.8/site-packages/xarray/backends/netCDF4_.py:405: DeprecationWarning: tostring() is deprecated. Use tobytes() instead.\n",
      "  attrs = FrozenDict((k, self.ds.getncattr(k)) for k in self.ds.ncattrs())\n"
     ]
    }
   ],
   "source": [
    "# Read in PIPS data\n",
    "PIPS_data_dir = '/Users/dawson29/sshfs_mounts/depot/data/Projects/VORTEXSE/obsdata/full_PIPS_dataset/'\n",
    "PIPS_filename = 'parsivel_combined_FMCW_2017_032717_PIPS2A_60s.nc'\n",
    "PIPS_filepath = os.path.join(PIPS_data_dir, PIPS_filename)\n",
    "PIPS_ds = xr.open_dataset(PIPS_filepath)\n",
    "print(PIPS_ds)"
   ]
  },
  {
   "cell_type": "code",
   "execution_count": 7,
   "metadata": {
    "ExecuteTime": {
     "end_time": "2020-12-30T19:28:13.017290Z",
     "start_time": "2020-12-30T19:28:12.647702Z"
    }
   },
   "outputs": [
    {
     "name": "stderr",
     "output_type": "stream",
     "text": [
      "/Users/dawson29/miniconda3/envs/pyPIPS/lib/python3.8/site-packages/ipykernel/ipkernel.py:287: DeprecationWarning: `should_run_async` will not call `transform_cell` automatically in the future. Please pass the result to `transformed_cell` argument and any exception that happen during thetransform in `preprocessing_exc_tuple` in IPython 7.17 and above.\n",
      "  and should_run_async(code)\n"
     ]
    },
    {
     "name": "stdout",
     "output_type": "stream",
     "text": [
      "KHTX20170327_190101_V06.ar2v\n",
      "KHTX20170327_190505_V06.ar2v\n",
      "KHTX20170327_190923_V06.ar2v\n",
      "KHTX20170327_191334_V06.ar2v\n",
      "KHTX20170327_191743_V06.ar2v\n",
      "KHTX20170327_192200_V06.ar2v\n",
      "KHTX20170327_192614_V06.ar2v\n",
      "KHTX20170327_193038_V06.ar2v\n",
      "KHTX20170327_193521_V06.ar2v\n",
      "KHTX20170327_193938_V06.ar2v\n",
      "KHTX20170327_194415_V06.ar2v\n",
      "KHTX20170327_194850_V06.ar2v\n",
      "KHTX20170327_195343_V06.ar2v\n",
      "KHTX20170327_195838_V06.ar2v\n",
      "KHTX20170327_200335_V06.ar2v\n",
      "KHTX20170327_200845_V06.ar2v\n",
      "KHTX20170327_201354_V06.ar2v\n",
      "KHTX20170327_201905_V06.ar2v\n",
      "KHTX20170327_202409_V06.ar2v\n",
      "KHTX20170327_202905_V06.ar2v\n",
      "KHTX20170327_203408_V06.ar2v\n",
      "KHTX20170327_204117_V06.ar2v\n",
      "KHTX20170327_204607_V06.ar2v\n",
      "KHTX20170327_205103_V06.ar2v\n",
      "KHTX20170327_205552_V06.ar2v\n",
      "KHTX20170327_210043_V06.ar2v\n",
      "KHTX20170327_210542_V06.ar2v\n",
      "KHTX20170327_211031_V06.ar2v\n",
      "KHTX20170327_211542_V06.ar2v\n",
      "KHTX20170327_212051_V06.ar2v\n",
      "KHTX20170327_212541_V06.ar2v\n",
      "KHTX20170327_213033_V06.ar2v\n",
      "KHTX20170327_213525_V06.ar2v\n",
      "KHTX20170327_214014_V06.ar2v\n",
      "KHTX20170327_214507_V06.ar2v\n",
      "KHTX20170327_214959_V06.ar2v\n",
      "KHTX20170327_215447_V06.ar2v\n",
      "KHTX20170327_215957_V06.ar2v\n"
     ]
    }
   ],
   "source": [
    "radar_starttimestamp = '201703271900'\n",
    "radar_endtimestamp = '201703272200'\n",
    "\n",
    "radar_startdatetime = datetime.strptime(radar_starttimestamp, '%Y%m%d%H%M')\n",
    "radar_enddatetime = datetime.strptime(radar_endtimestamp, '%Y%m%d%H%M')\n",
    "\n",
    "radar_basedir = \\\n",
    "    '/Users/dawson29/sshfs_mounts/depot/data/Projects/VORTEXSE/obsdata/2017/NEXRAD/PIPS2A_FMCW/0327/HTX'\n",
    "level2_dir = os.path.join(radar_basedir, 'level2')\n",
    "level2_files = sorted(glob(level2_dir + '/*.ar2v'))\n",
    "\n",
    "level2_files_to_read = []\n",
    "for level2_file in level2_files:\n",
    "    radar_file_timestamp = os.path.basename(level2_file)[4:19]\n",
    "    radar_file_datetime = datetime.strptime(radar_file_timestamp, '%Y%m%d_%H%M%S')\n",
    "    if radar_file_datetime >= radar_startdatetime and radar_file_datetime <= radar_enddatetime:\n",
    "        level2_files_to_read.append(level2_file)\n",
    "        print(os.path.basename(level2_file))\n",
    "\n",
    "gridded_output_dir = os.path.join(radar_basedir, 'gridded_new')\n",
    "if not os.path.exists(gridded_output_dir):\n",
    "    os.makedirs(gridded_output_dir)"
   ]
  },
  {
   "cell_type": "code",
   "execution_count": 4,
   "metadata": {
    "ExecuteTime": {
     "end_time": "2020-12-30T19:20:17.754091Z",
     "start_time": "2020-12-30T19:20:17.686056Z"
    }
   },
   "outputs": [
    {
     "name": "stdout",
     "output_type": "stream",
     "text": [
      "41\n"
     ]
    },
    {
     "name": "stderr",
     "output_type": "stream",
     "text": [
      "/Users/dawson29/miniconda3/envs/pyPIPS/lib/python3.8/site-packages/ipykernel/ipkernel.py:287: DeprecationWarning: `should_run_async` will not call `transform_cell` automatically in the future. Please pass the result to `transformed_cell` argument and any exception that happen during thetransform in `preprocessing_exc_tuple` in IPython 7.17 and above.\n",
      "  and should_run_async(code)\n"
     ]
    }
   ],
   "source": [
    "# Set up grid limits and spacing\n",
    "\n",
    "xmin = -123000.\n",
    "xmax = 123000.\n",
    "dx = 1000.\n",
    "nx = int((xmax - xmin) / dx) + 1\n",
    "\n",
    "ymin = -123000.\n",
    "ymax = 123000.\n",
    "dy = 1000.\n",
    "ny = int((ymax - ymin) / dy) + 1\n",
    "\n",
    "zmin = 500.\n",
    "zmax = 4500.\n",
    "dz = 100.\n",
    "nz = int((zmax - zmin) / dz) + 1\n",
    "print(nz)"
   ]
  },
  {
   "cell_type": "code",
   "execution_count": 8,
   "metadata": {
    "ExecuteTime": {
     "end_time": "2020-12-30T19:29:35.028922Z",
     "start_time": "2020-12-30T19:28:45.270310Z"
    }
   },
   "outputs": [
    {
     "name": "stderr",
     "output_type": "stream",
     "text": [
      "/Users/dawson29/miniconda3/envs/pyPIPS/lib/python3.8/site-packages/ipykernel/ipkernel.py:287: DeprecationWarning: `should_run_async` will not call `transform_cell` automatically in the future. Please pass the result to `transformed_cell` argument and any exception that happen during thetransform in `preprocessing_exc_tuple` in IPython 7.17 and above.\n",
      "  and should_run_async(code)\n"
     ]
    },
    {
     "name": "stdout",
     "output_type": "stream",
     "text": [
      "/Users/dawson29/sshfs_mounts/depot/data/Projects/VORTEXSE/obsdata/2017/NEXRAD/PIPS2A_FMCW/0327/HTX/level2/KHTX20170327_190101_V06.ar2v\n",
      "<xarray.Dataset>\n",
      "Dimensions:                    (time: 1, x: 247, y: 247, z: 41)\n",
      "Coordinates:\n",
      "  * time                       (time) object 2017-03-27 19:01:01.806000\n",
      "  * z                          (z) float64 500.0 600.0 700.0 ... 4.4e+03 4.5e+03\n",
      "    lat                        (y) float64 33.82 33.83 33.84 ... 36.02 36.03\n",
      "    lon                        (x) float64 -87.41 -87.4 -87.39 ... -84.76 -84.75\n",
      "  * y                          (y) float64 -1.23e+05 -1.22e+05 ... 1.23e+05\n",
      "  * x                          (x) float64 -1.23e+05 -1.22e+05 ... 1.23e+05\n",
      "Data variables:\n",
      "    differential_reflectivity  (time, z, y, x) float32 nan nan nan ... nan nan\n",
      "    reflectivity               (time, z, y, x) float32 nan nan nan ... nan nan\n",
      "    cross_correlation_ratio    (time, z, y, x) float32 nan nan nan ... nan nan\n",
      "    ROI                        (time, z, y, x) float32 4579.9956 ... 4779.9956\n"
     ]
    }
   ],
   "source": [
    "# Test first radar file\n",
    "\n",
    "print(level2_files_to_read[0])\n",
    "\n",
    "radar = pyart.io.read_nexrad_archive(level2_files_to_read[0])\n",
    "\n",
    "grid = pyart.map.grid_from_radars(\n",
    "    (radar,),\n",
    "    grid_shape=(nz, ny, nx),\n",
    "    grid_limits=((zmin, zmax), (ymin, ymax), (xmin, xmax)),\n",
    "    fields=['differential_reflectivity', 'reflectivity', 'cross_correlation_ratio'],\n",
    "    weighting_function='Barnes2')\n",
    "\n",
    "grid_xr = grid.to_xarray()\n",
    "print(grid_xr)"
   ]
  },
  {
   "cell_type": "code",
   "execution_count": 9,
   "metadata": {
    "ExecuteTime": {
     "end_time": "2020-12-30T19:29:50.120423Z",
     "start_time": "2020-12-30T19:29:49.184055Z"
    }
   },
   "outputs": [
    {
     "name": "stderr",
     "output_type": "stream",
     "text": [
      "/Users/dawson29/miniconda3/envs/pyPIPS/lib/python3.8/site-packages/ipykernel/ipkernel.py:287: DeprecationWarning: `should_run_async` will not call `transform_cell` automatically in the future. Please pass the result to `transformed_cell` argument and any exception that happen during thetransform in `preprocessing_exc_tuple` in IPython 7.17 and above.\n",
      "  and should_run_async(code)\n"
     ]
    },
    {
     "data": {
      "text/plain": [
       "[<matplotlib.lines.Line2D at 0x7ff97bfe0280>]"
      ]
     },
     "execution_count": 9,
     "metadata": {},
     "output_type": "execute_result"
    },
    {
     "data": {
      "image/png": "[encoded data removed]",
      "text/plain": [
       "<Figure size 720x720 with 2 Axes>"
      ]
     },
     "metadata": {
      "needs_background": "light"
     },
     "output_type": "display_data"
    }
   ],
   "source": [
    "display = pyart.graph.GridMapDisplay(grid)\n",
    "\n",
    "# create the plot\n",
    "projection = ccrs.PlateCarree()\n",
    "fig = plt.figure(figsize=(10,10))\n",
    "ax = plt.axes(projection=projection)\n",
    "\n",
    "#ax.imshow(grid.fields['REF']['data'][0], origin='lower')\n",
    "display.plot_grid('reflectivity', 0, vmin=0, vmax=55, projection=projection, cmap=\"pyart_HomeyerRainbow\", ax=ax)\n",
    "#plt.xlim(-86.7, -85.3)\n",
    "#plt.ylim(34.0, 36.0)\n",
    "#start_time = '2017-04-30T20:45'\n",
    "#end_time = '2017-04-30T20:45'\n",
    "#plt.title('HTX Time {}'.format(start_time))\n",
    "\n",
    "# Read in the file, create a RadarMapDisplay object\n",
    "# fmcw_data_dir = '/Users/terrell8/sshfs_mounts/depot/data/Projects/VORTEXSE/obsdata/2017/FMCW/0430'\n",
    "\n",
    "# Indicate the radar location with a point\n",
    "FMCW_lat = 34.6872\n",
    "FMCW_lon = -86.005\n",
    "ax.plot([FMCW_lon], [FMCW_lat], color='black', marker='o', transform=ccrs.PlateCarree())\n"
   ]
  },
  {
   "cell_type": "code",
   "execution_count": 10,
   "metadata": {
    "ExecuteTime": {
     "end_time": "2020-12-30T20:06:58.072730Z",
     "start_time": "2020-12-30T19:30:36.787683Z"
    },
    "scrolled": true
   },
   "outputs": [
    {
     "name": "stderr",
     "output_type": "stream",
     "text": [
      "/Users/dawson29/miniconda3/envs/pyPIPS/lib/python3.8/site-packages/ipykernel/ipkernel.py:287: DeprecationWarning: `should_run_async` will not call `transform_cell` automatically in the future. Please pass the result to `transformed_cell` argument and any exception that happen during thetransform in `preprocessing_exc_tuple` in IPython 7.17 and above.\n",
      "  and should_run_async(code)\n"
     ]
    },
    {
     "name": "stdout",
     "output_type": "stream",
     "text": [
      "On file 1 of 245 (0.41%)\n",
      "Reading KHTX20170327_190101_V06.ar2v\n",
      "Mapping to grid!\n",
      "Writing KHTX20170327_190101_V06_gridded.nc\n"
     ]
    },
    {
     "name": "stderr",
     "output_type": "stream",
     "text": [
      "/Users/dawson29/miniconda3/envs/pyPIPS/lib/python3.8/site-packages/pyart/io/common.py:71: DeprecationWarning: tostring() is deprecated. Use tobytes() instead.\n",
      "  carr = netCDF4.stringtochar(arr)\n"
     ]
    },
    {
     "name": "stdout",
     "output_type": "stream",
     "text": [
      "On file 2 of 245 (0.82%)\n",
      "Reading KHTX20170327_190505_V06.ar2v\n",
      "Mapping to grid!\n",
      "Writing KHTX20170327_190505_V06_gridded.nc\n"
     ]
    },
    {
     "name": "stderr",
     "output_type": "stream",
     "text": [
      "/Users/dawson29/miniconda3/envs/pyPIPS/lib/python3.8/site-packages/pyart/io/common.py:71: DeprecationWarning: tostring() is deprecated. Use tobytes() instead.\n",
      "  carr = netCDF4.stringtochar(arr)\n"
     ]
    },
    {
     "name": "stdout",
     "output_type": "stream",
     "text": [
      "On file 3 of 245 (1.22%)\n",
      "Reading KHTX20170327_190923_V06.ar2v\n",
      "Mapping to grid!\n",
      "Writing KHTX20170327_190923_V06_gridded.nc\n"
     ]
    },
    {
     "name": "stderr",
     "output_type": "stream",
     "text": [
      "/Users/dawson29/miniconda3/envs/pyPIPS/lib/python3.8/site-packages/pyart/io/common.py:71: DeprecationWarning: tostring() is deprecated. Use tobytes() instead.\n",
      "  carr = netCDF4.stringtochar(arr)\n"
     ]
    },
    {
     "name": "stdout",
     "output_type": "stream",
     "text": [
      "On file 4 of 245 (1.63%)\n",
      "Reading KHTX20170327_191334_V06.ar2v\n",
      "Mapping to grid!\n",
      "Writing KHTX20170327_191334_V06_gridded.nc\n"
     ]
    },
    {
     "name": "stderr",
     "output_type": "stream",
     "text": [
      "/Users/dawson29/miniconda3/envs/pyPIPS/lib/python3.8/site-packages/pyart/io/common.py:71: DeprecationWarning: tostring() is deprecated. Use tobytes() instead.\n",
      "  carr = netCDF4.stringtochar(arr)\n"
     ]
    },
    {
     "name": "stdout",
     "output_type": "stream",
     "text": [
      "On file 5 of 245 (2.04%)\n",
      "Reading KHTX20170327_191743_V06.ar2v\n",
      "Mapping to grid!\n",
      "Writing KHTX20170327_191743_V06_gridded.nc\n"
     ]
    },
    {
     "name": "stderr",
     "output_type": "stream",
     "text": [
      "/Users/dawson29/miniconda3/envs/pyPIPS/lib/python3.8/site-packages/pyart/io/common.py:71: DeprecationWarning: tostring() is deprecated. Use tobytes() instead.\n",
      "  carr = netCDF4.stringtochar(arr)\n"
     ]
    },
    {
     "name": "stdout",
     "output_type": "stream",
     "text": [
      "On file 6 of 245 (2.45%)\n",
      "Reading KHTX20170327_192200_V06.ar2v\n",
      "Mapping to grid!\n",
      "Writing KHTX20170327_192200_V06_gridded.nc\n"
     ]
    },
    {
     "name": "stderr",
     "output_type": "stream",
     "text": [
      "/Users/dawson29/miniconda3/envs/pyPIPS/lib/python3.8/site-packages/pyart/io/common.py:71: DeprecationWarning: tostring() is deprecated. Use tobytes() instead.\n",
      "  carr = netCDF4.stringtochar(arr)\n"
     ]
    },
    {
     "name": "stdout",
     "output_type": "stream",
     "text": [
      "On file 7 of 245 (2.86%)\n",
      "Reading KHTX20170327_192614_V06.ar2v\n",
      "Mapping to grid!\n",
      "Writing KHTX20170327_192614_V06_gridded.nc\n"
     ]
    },
    {
     "name": "stderr",
     "output_type": "stream",
     "text": [
      "/Users/dawson29/miniconda3/envs/pyPIPS/lib/python3.8/site-packages/pyart/io/common.py:71: DeprecationWarning: tostring() is deprecated. Use tobytes() instead.\n",
      "  carr = netCDF4.stringtochar(arr)\n"
     ]
    },
    {
     "name": "stdout",
     "output_type": "stream",
     "text": [
      "On file 8 of 245 (3.27%)\n",
      "Reading KHTX20170327_193038_V06.ar2v\n",
      "Mapping to grid!\n",
      "Writing KHTX20170327_193038_V06_gridded.nc\n"
     ]
    },
    {
     "name": "stderr",
     "output_type": "stream",
     "text": [
      "/Users/dawson29/miniconda3/envs/pyPIPS/lib/python3.8/site-packages/pyart/io/common.py:71: DeprecationWarning: tostring() is deprecated. Use tobytes() instead.\n",
      "  carr = netCDF4.stringtochar(arr)\n"
     ]
    },
    {
     "name": "stdout",
     "output_type": "stream",
     "text": [
      "On file 9 of 245 (3.67%)\n",
      "Reading KHTX20170327_193521_V06.ar2v\n",
      "Mapping to grid!\n",
      "Writing KHTX20170327_193521_V06_gridded.nc\n"
     ]
    },
    {
     "name": "stderr",
     "output_type": "stream",
     "text": [
      "/Users/dawson29/miniconda3/envs/pyPIPS/lib/python3.8/site-packages/pyart/io/common.py:71: DeprecationWarning: tostring() is deprecated. Use tobytes() instead.\n",
      "  carr = netCDF4.stringtochar(arr)\n"
     ]
    },
    {
     "name": "stdout",
     "output_type": "stream",
     "text": [
      "On file 10 of 245 (4.08%)\n",
      "Reading KHTX20170327_193938_V06.ar2v\n",
      "Mapping to grid!\n",
      "Writing KHTX20170327_193938_V06_gridded.nc\n"
     ]
    },
    {
     "name": "stderr",
     "output_type": "stream",
     "text": [
      "/Users/dawson29/miniconda3/envs/pyPIPS/lib/python3.8/site-packages/pyart/io/common.py:71: DeprecationWarning: tostring() is deprecated. Use tobytes() instead.\n",
      "  carr = netCDF4.stringtochar(arr)\n"
     ]
    },
    {
     "name": "stdout",
     "output_type": "stream",
     "text": [
      "On file 11 of 245 (4.49%)\n",
      "Reading KHTX20170327_194415_V06.ar2v\n",
      "Mapping to grid!\n",
      "Writing KHTX20170327_194415_V06_gridded.nc\n"
     ]
    },
    {
     "name": "stderr",
     "output_type": "stream",
     "text": [
      "/Users/dawson29/miniconda3/envs/pyPIPS/lib/python3.8/site-packages/pyart/io/common.py:71: DeprecationWarning: tostring() is deprecated. Use tobytes() instead.\n",
      "  carr = netCDF4.stringtochar(arr)\n"
     ]
    },
    {
     "name": "stdout",
     "output_type": "stream",
     "text": [
      "On file 12 of 245 (4.90%)\n",
      "Reading KHTX20170327_194850_V06.ar2v\n",
      "Mapping to grid!\n",
      "Writing KHTX20170327_194850_V06_gridded.nc\n"
     ]
    },
    {
     "name": "stderr",
     "output_type": "stream",
     "text": [
      "/Users/dawson29/miniconda3/envs/pyPIPS/lib/python3.8/site-packages/pyart/io/common.py:71: DeprecationWarning: tostring() is deprecated. Use tobytes() instead.\n",
      "  carr = netCDF4.stringtochar(arr)\n"
     ]
    },
    {
     "name": "stdout",
     "output_type": "stream",
     "text": [
      "On file 13 of 245 (5.31%)\n",
      "Reading KHTX20170327_195343_V06.ar2v\n",
      "Mapping to grid!\n",
      "Writing KHTX20170327_195343_V06_gridded.nc\n"
     ]
    },
    {
     "name": "stderr",
     "output_type": "stream",
     "text": [
      "/Users/dawson29/miniconda3/envs/pyPIPS/lib/python3.8/site-packages/pyart/io/common.py:71: DeprecationWarning: tostring() is deprecated. Use tobytes() instead.\n",
      "  carr = netCDF4.stringtochar(arr)\n"
     ]
    },
    {
     "name": "stdout",
     "output_type": "stream",
     "text": [
      "On file 14 of 245 (5.71%)\n",
      "Reading KHTX20170327_195838_V06.ar2v\n",
      "Mapping to grid!\n",
      "Writing KHTX20170327_195838_V06_gridded.nc\n"
     ]
    },
    {
     "name": "stderr",
     "output_type": "stream",
     "text": [
      "/Users/dawson29/miniconda3/envs/pyPIPS/lib/python3.8/site-packages/pyart/io/common.py:71: DeprecationWarning: tostring() is deprecated. Use tobytes() instead.\n",
      "  carr = netCDF4.stringtochar(arr)\n"
     ]
    },
    {
     "name": "stdout",
     "output_type": "stream",
     "text": [
      "On file 15 of 245 (6.12%)\n",
      "Reading KHTX20170327_200335_V06.ar2v\n",
      "Mapping to grid!\n",
      "Writing KHTX20170327_200335_V06_gridded.nc\n"
     ]
    },
    {
     "name": "stderr",
     "output_type": "stream",
     "text": [
      "/Users/dawson29/miniconda3/envs/pyPIPS/lib/python3.8/site-packages/pyart/io/common.py:71: DeprecationWarning: tostring() is deprecated. Use tobytes() instead.\n",
      "  carr = netCDF4.stringtochar(arr)\n"
     ]
    },
    {
     "name": "stdout",
     "output_type": "stream",
     "text": [
      "On file 16 of 245 (6.53%)\n",
      "Reading KHTX20170327_200845_V06.ar2v\n",
      "Mapping to grid!\n",
      "Writing KHTX20170327_200845_V06_gridded.nc\n"
     ]
    },
    {
     "name": "stderr",
     "output_type": "stream",
     "text": [
      "/Users/dawson29/miniconda3/envs/pyPIPS/lib/python3.8/site-packages/pyart/io/common.py:71: DeprecationWarning: tostring() is deprecated. Use tobytes() instead.\n",
      "  carr = netCDF4.stringtochar(arr)\n"
     ]
    },
    {
     "name": "stdout",
     "output_type": "stream",
     "text": [
      "On file 17 of 245 (6.94%)\n",
      "Reading KHTX20170327_201354_V06.ar2v\n",
      "Mapping to grid!\n",
      "Writing KHTX20170327_201354_V06_gridded.nc\n"
     ]
    },
    {
     "name": "stderr",
     "output_type": "stream",
     "text": [
      "/Users/dawson29/miniconda3/envs/pyPIPS/lib/python3.8/site-packages/pyart/io/common.py:71: DeprecationWarning: tostring() is deprecated. Use tobytes() instead.\n",
      "  carr = netCDF4.stringtochar(arr)\n"
     ]
    },
    {
     "name": "stdout",
     "output_type": "stream",
     "text": [
      "On file 18 of 245 (7.35%)\n",
      "Reading KHTX20170327_201905_V06.ar2v\n",
      "Mapping to grid!\n",
      "Writing KHTX20170327_201905_V06_gridded.nc\n"
     ]
    },
    {
     "name": "stderr",
     "output_type": "stream",
     "text": [
      "/Users/dawson29/miniconda3/envs/pyPIPS/lib/python3.8/site-packages/pyart/io/common.py:71: DeprecationWarning: tostring() is deprecated. Use tobytes() instead.\n",
      "  carr = netCDF4.stringtochar(arr)\n"
     ]
    },
    {
     "name": "stdout",
     "output_type": "stream",
     "text": [
      "On file 19 of 245 (7.76%)\n",
      "Reading KHTX20170327_202409_V06.ar2v\n",
      "Mapping to grid!\n",
      "Writing KHTX20170327_202409_V06_gridded.nc\n"
     ]
    },
    {
     "name": "stderr",
     "output_type": "stream",
     "text": [
      "/Users/dawson29/miniconda3/envs/pyPIPS/lib/python3.8/site-packages/pyart/io/common.py:71: DeprecationWarning: tostring() is deprecated. Use tobytes() instead.\n",
      "  carr = netCDF4.stringtochar(arr)\n"
     ]
    },
    {
     "name": "stdout",
     "output_type": "stream",
     "text": [
      "On file 20 of 245 (8.16%)\n",
      "Reading KHTX20170327_202905_V06.ar2v\n",
      "Mapping to grid!\n",
      "Writing KHTX20170327_202905_V06_gridded.nc\n"
     ]
    },
    {
     "name": "stderr",
     "output_type": "stream",
     "text": [
      "/Users/dawson29/miniconda3/envs/pyPIPS/lib/python3.8/site-packages/pyart/io/common.py:71: DeprecationWarning: tostring() is deprecated. Use tobytes() instead.\n",
      "  carr = netCDF4.stringtochar(arr)\n"
     ]
    },
    {
     "name": "stdout",
     "output_type": "stream",
     "text": [
      "On file 21 of 245 (8.57%)\n",
      "Reading KHTX20170327_203408_V06.ar2v\n",
      "Mapping to grid!\n",
      "Writing KHTX20170327_203408_V06_gridded.nc\n"
     ]
    },
    {
     "name": "stderr",
     "output_type": "stream",
     "text": [
      "/Users/dawson29/miniconda3/envs/pyPIPS/lib/python3.8/site-packages/pyart/io/common.py:71: DeprecationWarning: tostring() is deprecated. Use tobytes() instead.\n",
      "  carr = netCDF4.stringtochar(arr)\n"
     ]
    },
    {
     "name": "stdout",
     "output_type": "stream",
     "text": [
      "On file 22 of 245 (8.98%)\n",
      "Reading KHTX20170327_204117_V06.ar2v\n",
      "Mapping to grid!\n",
      "Writing KHTX20170327_204117_V06_gridded.nc\n"
     ]
    },
    {
     "name": "stderr",
     "output_type": "stream",
     "text": [
      "/Users/dawson29/miniconda3/envs/pyPIPS/lib/python3.8/site-packages/pyart/io/common.py:71: DeprecationWarning: tostring() is deprecated. Use tobytes() instead.\n",
      "  carr = netCDF4.stringtochar(arr)\n"
     ]
    },
    {
     "name": "stdout",
     "output_type": "stream",
     "text": [
      "On file 23 of 245 (9.39%)\n",
      "Reading KHTX20170327_204607_V06.ar2v\n",
      "Mapping to grid!\n",
      "Writing KHTX20170327_204607_V06_gridded.nc\n"
     ]
    },
    {
     "name": "stderr",
     "output_type": "stream",
     "text": [
      "/Users/dawson29/miniconda3/envs/pyPIPS/lib/python3.8/site-packages/pyart/io/common.py:71: DeprecationWarning: tostring() is deprecated. Use tobytes() instead.\n",
      "  carr = netCDF4.stringtochar(arr)\n"
     ]
    },
    {
     "name": "stdout",
     "output_type": "stream",
     "text": [
      "On file 24 of 245 (9.80%)\n",
      "Reading KHTX20170327_205103_V06.ar2v\n",
      "Mapping to grid!\n",
      "Writing KHTX20170327_205103_V06_gridded.nc\n"
     ]
    },
    {
     "name": "stderr",
     "output_type": "stream",
     "text": [
      "/Users/dawson29/miniconda3/envs/pyPIPS/lib/python3.8/site-packages/pyart/io/common.py:71: DeprecationWarning: tostring() is deprecated. Use tobytes() instead.\n",
      "  carr = netCDF4.stringtochar(arr)\n"
     ]
    },
    {
     "name": "stdout",
     "output_type": "stream",
     "text": [
      "On file 25 of 245 (10.20%)\n",
      "Reading KHTX20170327_205552_V06.ar2v\n",
      "Mapping to grid!\n",
      "Writing KHTX20170327_205552_V06_gridded.nc\n"
     ]
    },
    {
     "name": "stderr",
     "output_type": "stream",
     "text": [
      "/Users/dawson29/miniconda3/envs/pyPIPS/lib/python3.8/site-packages/pyart/io/common.py:71: DeprecationWarning: tostring() is deprecated. Use tobytes() instead.\n",
      "  carr = netCDF4.stringtochar(arr)\n"
     ]
    },
    {
     "name": "stdout",
     "output_type": "stream",
     "text": [
      "On file 26 of 245 (10.61%)\n",
      "Reading KHTX20170327_210043_V06.ar2v\n",
      "Mapping to grid!\n",
      "Writing KHTX20170327_210043_V06_gridded.nc\n"
     ]
    },
    {
     "name": "stderr",
     "output_type": "stream",
     "text": [
      "/Users/dawson29/miniconda3/envs/pyPIPS/lib/python3.8/site-packages/pyart/io/common.py:71: DeprecationWarning: tostring() is deprecated. Use tobytes() instead.\n",
      "  carr = netCDF4.stringtochar(arr)\n"
     ]
    },
    {
     "name": "stdout",
     "output_type": "stream",
     "text": [
      "On file 27 of 245 (11.02%)\n",
      "Reading KHTX20170327_210542_V06.ar2v\n",
      "Mapping to grid!\n",
      "Writing KHTX20170327_210542_V06_gridded.nc\n"
     ]
    },
    {
     "name": "stderr",
     "output_type": "stream",
     "text": [
      "/Users/dawson29/miniconda3/envs/pyPIPS/lib/python3.8/site-packages/pyart/io/common.py:71: DeprecationWarning: tostring() is deprecated. Use tobytes() instead.\n",
      "  carr = netCDF4.stringtochar(arr)\n"
     ]
    },
    {
     "name": "stdout",
     "output_type": "stream",
     "text": [
      "On file 28 of 245 (11.43%)\n",
      "Reading KHTX20170327_211031_V06.ar2v\n",
      "Mapping to grid!\n",
      "Writing KHTX20170327_211031_V06_gridded.nc\n"
     ]
    },
    {
     "name": "stderr",
     "output_type": "stream",
     "text": [
      "/Users/dawson29/miniconda3/envs/pyPIPS/lib/python3.8/site-packages/pyart/io/common.py:71: DeprecationWarning: tostring() is deprecated. Use tobytes() instead.\n",
      "  carr = netCDF4.stringtochar(arr)\n"
     ]
    },
    {
     "name": "stdout",
     "output_type": "stream",
     "text": [
      "On file 29 of 245 (11.84%)\n",
      "Reading KHTX20170327_211542_V06.ar2v\n",
      "Mapping to grid!\n",
      "Writing KHTX20170327_211542_V06_gridded.nc\n"
     ]
    },
    {
     "name": "stderr",
     "output_type": "stream",
     "text": [
      "/Users/dawson29/miniconda3/envs/pyPIPS/lib/python3.8/site-packages/pyart/io/common.py:71: DeprecationWarning: tostring() is deprecated. Use tobytes() instead.\n",
      "  carr = netCDF4.stringtochar(arr)\n"
     ]
    },
    {
     "name": "stdout",
     "output_type": "stream",
     "text": [
      "On file 30 of 245 (12.24%)\n",
      "Reading KHTX20170327_212051_V06.ar2v\n",
      "Mapping to grid!\n",
      "Writing KHTX20170327_212051_V06_gridded.nc\n"
     ]
    },
    {
     "name": "stderr",
     "output_type": "stream",
     "text": [
      "/Users/dawson29/miniconda3/envs/pyPIPS/lib/python3.8/site-packages/pyart/io/common.py:71: DeprecationWarning: tostring() is deprecated. Use tobytes() instead.\n",
      "  carr = netCDF4.stringtochar(arr)\n"
     ]
    },
    {
     "name": "stdout",
     "output_type": "stream",
     "text": [
      "On file 31 of 245 (12.65%)\n",
      "Reading KHTX20170327_212541_V06.ar2v\n",
      "Mapping to grid!\n",
      "Writing KHTX20170327_212541_V06_gridded.nc\n"
     ]
    },
    {
     "name": "stderr",
     "output_type": "stream",
     "text": [
      "/Users/dawson29/miniconda3/envs/pyPIPS/lib/python3.8/site-packages/pyart/io/common.py:71: DeprecationWarning: tostring() is deprecated. Use tobytes() instead.\n",
      "  carr = netCDF4.stringtochar(arr)\n"
     ]
    },
    {
     "name": "stdout",
     "output_type": "stream",
     "text": [
      "On file 32 of 245 (13.06%)\n",
      "Reading KHTX20170327_213033_V06.ar2v\n",
      "Mapping to grid!\n",
      "Writing KHTX20170327_213033_V06_gridded.nc\n"
     ]
    },
    {
     "name": "stderr",
     "output_type": "stream",
     "text": [
      "/Users/dawson29/miniconda3/envs/pyPIPS/lib/python3.8/site-packages/pyart/io/common.py:71: DeprecationWarning: tostring() is deprecated. Use tobytes() instead.\n",
      "  carr = netCDF4.stringtochar(arr)\n"
     ]
    },
    {
     "name": "stdout",
     "output_type": "stream",
     "text": [
      "On file 33 of 245 (13.47%)\n",
      "Reading KHTX20170327_213525_V06.ar2v\n",
      "Mapping to grid!\n",
      "Writing KHTX20170327_213525_V06_gridded.nc\n"
     ]
    },
    {
     "name": "stderr",
     "output_type": "stream",
     "text": [
      "/Users/dawson29/miniconda3/envs/pyPIPS/lib/python3.8/site-packages/pyart/io/common.py:71: DeprecationWarning: tostring() is deprecated. Use tobytes() instead.\n",
      "  carr = netCDF4.stringtochar(arr)\n"
     ]
    },
    {
     "name": "stdout",
     "output_type": "stream",
     "text": [
      "On file 34 of 245 (13.88%)\n",
      "Reading KHTX20170327_214014_V06.ar2v\n",
      "Mapping to grid!\n",
      "Writing KHTX20170327_214014_V06_gridded.nc\n"
     ]
    },
    {
     "name": "stderr",
     "output_type": "stream",
     "text": [
      "/Users/dawson29/miniconda3/envs/pyPIPS/lib/python3.8/site-packages/pyart/io/common.py:71: DeprecationWarning: tostring() is deprecated. Use tobytes() instead.\n",
      "  carr = netCDF4.stringtochar(arr)\n"
     ]
    },
    {
     "name": "stdout",
     "output_type": "stream",
     "text": [
      "On file 35 of 245 (14.29%)\n",
      "Reading KHTX20170327_214507_V06.ar2v\n",
      "Mapping to grid!\n",
      "Writing KHTX20170327_214507_V06_gridded.nc\n"
     ]
    },
    {
     "name": "stderr",
     "output_type": "stream",
     "text": [
      "/Users/dawson29/miniconda3/envs/pyPIPS/lib/python3.8/site-packages/pyart/io/common.py:71: DeprecationWarning: tostring() is deprecated. Use tobytes() instead.\n",
      "  carr = netCDF4.stringtochar(arr)\n"
     ]
    },
    {
     "name": "stdout",
     "output_type": "stream",
     "text": [
      "On file 36 of 245 (14.69%)\n",
      "Reading KHTX20170327_214959_V06.ar2v\n",
      "Mapping to grid!\n",
      "Writing KHTX20170327_214959_V06_gridded.nc\n"
     ]
    },
    {
     "name": "stderr",
     "output_type": "stream",
     "text": [
      "/Users/dawson29/miniconda3/envs/pyPIPS/lib/python3.8/site-packages/pyart/io/common.py:71: DeprecationWarning: tostring() is deprecated. Use tobytes() instead.\n",
      "  carr = netCDF4.stringtochar(arr)\n"
     ]
    },
    {
     "name": "stdout",
     "output_type": "stream",
     "text": [
      "On file 37 of 245 (15.10%)\n",
      "Reading KHTX20170327_215447_V06.ar2v\n",
      "Mapping to grid!\n",
      "Writing KHTX20170327_215447_V06_gridded.nc\n"
     ]
    },
    {
     "name": "stderr",
     "output_type": "stream",
     "text": [
      "/Users/dawson29/miniconda3/envs/pyPIPS/lib/python3.8/site-packages/pyart/io/common.py:71: DeprecationWarning: tostring() is deprecated. Use tobytes() instead.\n",
      "  carr = netCDF4.stringtochar(arr)\n"
     ]
    },
    {
     "name": "stdout",
     "output_type": "stream",
     "text": [
      "On file 38 of 245 (15.51%)\n",
      "Reading KHTX20170327_215957_V06.ar2v\n",
      "Mapping to grid!\n",
      "Writing KHTX20170327_215957_V06_gridded.nc\n"
     ]
    },
    {
     "name": "stderr",
     "output_type": "stream",
     "text": [
      "/Users/dawson29/miniconda3/envs/pyPIPS/lib/python3.8/site-packages/pyart/io/common.py:71: DeprecationWarning: tostring() is deprecated. Use tobytes() instead.\n",
      "  carr = netCDF4.stringtochar(arr)\n"
     ]
    }
   ],
   "source": [
    "# Create gridded radar objects and dump to disk\n",
    "for i, f in enumerate(level2_files_to_read):\n",
    "    print(\"On file {:d} of {:d} ({:.2f}%)\".format(i+1, len(level2_files), (i+1)/len(level2_files)*100.))\n",
    "    print(\"Reading {}\".format(os.path.basename(f)))\n",
    "    radar = pyart.io.read_nexrad_archive(f)\n",
    "    output_file = os.path.basename(f)[:-5]+\"_gridded.nc\"\n",
    "    output_path = os.path.join(gridded_output_dir, output_file)\n",
    "    \n",
    "    print(\"Mapping to grid!\")\n",
    "    grid = pyart.map.grid_from_radars(\n",
    "        (radar,),\n",
    "        grid_shape=(nz, ny, nx),\n",
    "        grid_limits=((zmin, zmax), (ymin, ymax), (xmin, xmax)),\n",
    "        fields=['differential_reflectivity', 'reflectivity', 'cross_correlation_ratio'],\n",
    "        weighting_function='Barnes2')\n",
    "    print(\"Writing {}\".format(output_file))\n",
    "    pyart.io.write_grid(output_path, grid, arm_time_variables=True, arm_alt_lat_lon_variables=True, \n",
    "                        write_point_x_y_z=True, write_point_lon_lat_alt=True)"
   ]
  },
  {
   "cell_type": "code",
   "execution_count": null,
   "metadata": {},
   "outputs": [],
   "source": []
  }
 ],
 "metadata": {
  "hide_input": false,
  "kernelspec": {
   "display_name": "Python [conda env:pyPIPS]",
   "language": "python",
   "name": "conda-env-pyPIPS-py"
  },
  "language_info": {
   "codemirror_mode": {
    "name": "ipython",
    "version": 3
   },
   "file_extension": ".py",
   "mimetype": "text/x-python",
   "name": "python",
   "nbconvert_exporter": "python",
   "pygments_lexer": "ipython3",
   "version": "3.8.5"
  },
  "toc": {
   "base_numbering": 1,
   "nav_menu": {},
   "number_sections": true,
   "sideBar": true,
   "skip_h1_title": false,
   "title_cell": "Table of Contents",
   "title_sidebar": "Contents",
   "toc_cell": false,
   "toc_position": {},
   "toc_section_display": true,
   "toc_window_display": false
  },
  "varInspector": {
   "cols": {
    "lenName": 16,
    "lenType": 16,
    "lenVar": 40
   },
   "kernels_config": {
    "python": {
     "delete_cmd_postfix": "",
     "delete_cmd_prefix": "del ",
     "library": "var_list.py",
     "varRefreshCmd": "print(var_dic_list())"
    },
    "r": {
     "delete_cmd_postfix": ") ",
     "delete_cmd_prefix": "rm(",
     "library": "var_list.r",
     "varRefreshCmd": "cat(var_dic_list()) "
    }
   },
   "types_to_exclude": [
    "module",
    "function",
    "builtin_function_or_method",
    "instance",
    "_Feature"
   ],
   "window_display": false
  }
 },
 "nbformat": 4,
 "nbformat_minor": 2
}
