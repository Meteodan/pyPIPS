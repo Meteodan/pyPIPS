{
 "cells": [
  {
   "cell_type": "code",
   "execution_count": null,
   "metadata": {
    "ExecuteTime": {
     "end_time": "2021-04-07T17:58:25.272015Z",
     "start_time": "2021-04-07T17:58:22.183598Z"
    }
   },
   "outputs": [],
   "source": [
    "from glob import glob\n",
    "import os\n",
    "import itertools\n",
    "import numpy as np\n",
    "import matplotlib\n",
    "import matplotlib.pyplot as plt\n",
    "import matplotlib.cm as cm\n",
    "from mpl_toolkits.axes_grid1 import ImageGrid, make_axes_locatable, host_subplot\n",
    "import matplotlib.ticker as ticker\n",
    "from matplotlib.collections import Collection, LineCollection\n",
    "from matplotlib.artist import allow_rasterization\n",
    "from matplotlib.font_manager import FontProperties\n",
    "from matplotlib.colors import LinearSegmentedColormap\n",
    "import matplotlib.dates as md\n",
    "import matplotlib.ticker as ticker\n",
    "from metpy.plots import ctables\n",
    "#from pyPIPS import disdrometer_module as dis\n",
    "from pyPIPS import pips_io as pipsio\n",
    "from pyPIPS import timemodule as tm\n",
    "from pyPIPS.utils import mtokm, getTimeWindow, interp_along_1D\n",
    "from pyPIPS import plotmodule as pm\n",
    "from pyPIPS import PIPS as pips\n",
    "from pyPIPS import fmcw\n",
    "from itertools import cycle\n",
    "import netCDF4 as netcdf\n",
    "from datetime import datetime, timedelta\n",
    "import pandas as pd\n",
    "import xarray as xr\n",
    "from skimage.restoration import unwrap_phase\n",
    "import skimage.feature as SF\n",
    "import numpy.ma as ma\n",
    "from scipy import ndimage, interpolate\n",
    "import pyart\n",
    "import cartopy.crs as ccrs\n",
    "%load_ext autoreload\n",
    "%autoreload 2\n",
    "%matplotlib inline"
   ]
  },
  {
   "cell_type": "code",
   "execution_count": null,
   "metadata": {
    "ExecuteTime": {
     "end_time": "2021-04-07T17:58:43.505816Z",
     "start_time": "2021-04-07T17:58:42.975139Z"
    },
    "scrolled": true
   },
   "outputs": [],
   "source": [
    "# Read in PIPS data\n",
    "PIPS_data_dir = '/Users/terrell8/sshfs_mounts/depot/data/Projects/VORTEXSE/obsdata/full_PIPS_dataset/'\n",
    "# PIPS_filename = 'parsivel_combined_FMCW_2017_032717_PIPS2A_60s.nc'\n",
    "PIPS_filename = 'parsivel_combined_FMCW_2017_032717_PIPS2A_60s.nc'\n",
    "PIPS_filepath = os.path.join(PIPS_data_dir, PIPS_filename)\n",
    "PIPS_ds = xr.open_dataset(PIPS_filepath)\n",
    "print(PIPS_ds)"
   ]
  },
  {
   "cell_type": "code",
   "execution_count": null,
   "metadata": {
    "ExecuteTime": {
     "end_time": "2021-04-07T18:01:50.890778Z",
     "start_time": "2021-04-07T18:01:50.766055Z"
    }
   },
   "outputs": [],
      "KGWX20170327_191330_V06.ar2v\n",
      "KGWX20170327_191858_V06.ar2v\n",
      "KGWX20170327_192426_V06.ar2v\n",
      "KGWX20170327_192941_V06.ar2v\n",
      "KGWX20170327_193508_V06.ar2v\n",
      "KGWX20170327_194032_V06.ar2v\n",
      "KGWX20170327_194540_V06.ar2v\n",
      "KGWX20170327_195101_V06.ar2v\n",
      "KGWX20170327_195623_V06.ar2v\n",
      "KGWX20170327_200151_V06.ar2v\n",
      "KGWX20170327_200719_V06.ar2v\n",
      "KGWX20170327_201248_V06.ar2v\n",
      "KGWX20170327_201816_V06.ar2v\n",
      "KGWX20170327_202330_V06.ar2v\n",
      "KGWX20170327_202845_V06.ar2v\n",
      "KGWX20170327_203405_V06.ar2v\n",
      "KGWX20170327_203927_V06.ar2v\n",
      "KGWX20170327_204441_V06.ar2v\n",
      "KGWX20170327_204955_V06.ar2v\n",
      "KGWX20170327_205524_V06.ar2v\n",
      "KGWX20170327_210052_V06.ar2v\n",
      "KGWX20170327_210619_V06.ar2v\n",
      "KGWX20170327_211148_V06.ar2v\n",
      "KGWX20170327_211656_V06.ar2v\n",
      "KGWX20170327_212210_V06.ar2v\n",
      "KGWX20170327_212732_V06.ar2v\n",
      "KGWX20170327_213253_V06.ar2v\n",
      "KGWX20170327_213813_V06.ar2v\n",
      "KGWX20170327_214335_V06.ar2v\n",
      "KGWX20170327_214856_V06.ar2v\n",
      "KGWX20170327_215426_V06.ar2v\n",
      "KGWX20170327_215954_V06.ar2v\n",
      "KGWX20170327_220508_V06.ar2v\n",
      "KGWX20170327_221036_V06.ar2v\n",
      "KGWX20170327_221550_V06.ar2v\n",
      "KGWX20170327_222117_V06.ar2v\n",
      "KGWX20170327_222631_V06.ar2v\n",
      "KGWX20170327_223125_V06.ar2v\n",
      "KGWX20170327_223618_V06.ar2v\n",
      "KGWX20170327_224118_V06.ar2v\n",
      "KGWX20170327_224612_V06.ar2v\n",
      "KGWX20170327_225112_V06.ar2v\n",
      "KGWX20170327_225552_V06.ar2v\n",
      "KGWX20170327_230033_V06.ar2v\n",
      "KGWX20170327_230513_V06.ar2v\n",
      "KGWX20170327_230940_V06.ar2v\n",
      "KGWX20170327_231407_V06.ar2v\n",
      "KGWX20170327_231833_V06.ar2v\n",
      "KGWX20170327_232246_V06.ar2v\n",
      "KGWX20170327_232658_V06.ar2v\n",
      "KGWX20170327_233111_V06.ar2v\n",
      "KGWX20170327_233529_V06.ar2v\n",
      "KGWX20170327_233941_V06.ar2v\n",
      "KGWX20170327_234354_V06.ar2v\n",
      "KGWX20170327_234753_V06.ar2v\n",
      "KGWX20170327_235152_V06.ar2v\n",
      "KGWX20170327_235552_V06.ar2v\n"
   "source": [
    "radar_starttimestamp = '201703280000'\n",
    "radar_endtimestamp = '201703280400'\n",
    "\n",
    "radar_startdatetime = datetime.strptime(radar_starttimestamp, '%Y%m%d%H%M')\n",
    "radar_enddatetime = datetime.strptime(radar_endtimestamp, '%Y%m%d%H%M')\n",
    "\n",
    "radar_basedir = \\\n",
    "    '/Users/dawson29/sshfs_mounts/depot/data/Projects/VORTEXSE/obsdata/2017/NEXRAD/IOP_1B/'\n",
    "level2_dir = os.path.join(radar_basedir, 'level2')\n",
    "level2_files = sorted(glob(level2_dir + '/*.ar2v'))\n",
    "\n",
    "level2_files_to_read = []\n",
    "for level2_file in level2_files:\n",
    "    radar_file_timestamp = os.path.basename(level2_file)[4:19]\n",
    "    radar_file_datetime = datetime.strptime(radar_file_timestamp, '%Y%m%d_%H%M%S')\n",
    "    if radar_file_datetime >= radar_startdatetime and radar_file_datetime <= radar_enddatetime:\n",
    "        level2_files_to_read.append(level2_file)\n",
    "        print(os.path.basename(level2_file))\n",
    "\n",
    "gridded_output_dir = os.path.join(radar_basedir, 'gridded_new')\n",
    "if not os.path.exists(gridded_output_dir):\n",
    "    os.makedirs(gridded_output_dir)"
   ]
  },
  {
   "cell_type": "code",
   "execution_count": null,
   "metadata": {
    "ExecuteTime": {
     "end_time": "2021-04-07T18:01:59.810011Z",
     "start_time": "2021-04-07T18:01:59.733888Z"
    }
   },
   "outputs": [],
   "source": [
    "# Set up grid limits and spacing\n",
    "\n",
    "xmin = -123000.\n",
    "xmax = 123000.\n",
    "dx = 1000.\n",
    "nx = int((xmax - xmin) / dx) + 1\n",
    "\n",
    "ymin = -123000.\n",
    "ymax = 123000.\n",
    "dy = 1000.\n",
    "ny = int((ymax - ymin) / dy) + 1\n",
    "\n",
    "zmin = 500.\n",
    "zmax = 4500.\n",
    "dz = 100.\n",
    "nz = int((zmax - zmin) / dz) + 1\n",
    "print(nz)"
   ]
  },
  {
   "cell_type": "code",
   "execution_count": null,
   "metadata": {
    "ExecuteTime": {
     "end_time": "2021-04-07T18:03:01.887636Z",
     "start_time": "2021-04-07T18:02:08.989500Z"
    }
   },
   "outputs": [],
     ]
    },
    {
     "name": "stderr",
     "output_type": "stream",
     "text": [
      "/Users/terrell8/miniconda2/envs/pyPIPS/lib/python3.8/site-packages/pyart/filters/gatefilter.py:460: DeprecationWarning: `np.bool` is a deprecated alias for the builtin `bool`. To silence this warning, use `bool` by itself. Doing this will not modify any behavior and is safe. If you specifically wanted the numpy scalar type, use `np.bool_` here.\n",
      "Deprecated in NumPy 1.20; for more details and guidance: https://numpy.org/devdocs/release/1.20.0-notes.html#deprecations\n",
      "  self._gate_excluded = np.zeros(shape, dtype=np.bool)\n"
     ]
    },
    {
     "name": "stdout",
     "output_type": "stream",
     "text": [
   "source": [
    "# Test first radar file\n",
    "\n",
    "print(level2_files_to_read[0])\n",
    "\n",
    "radar = pyart.io.read_nexrad_archive(level2_files_to_read[0])\n",
    "\n",
    "grid = pyart.map.grid_from_radars(\n",
    "    (radar,),\n",
    "    grid_shape=(nz, ny, nx),\n",
    "    grid_limits=((zmin, zmax), (ymin, ymax), (xmin, xmax)),\n",
    "    fields=['differential_reflectivity', 'reflectivity', 'cross_correlation_ratio'],\n",
    "    weighting_function='Barnes2')\n",
    "\n",
    "grid_xr = grid.to_xarray()\n",
    "print(grid_xr)"
   ]
  },
  {
   "cell_type": "code",
   "execution_count": null,
   "metadata": {
    "ExecuteTime": {
     "end_time": "2021-04-07T18:03:03.175583Z",
     "start_time": "2021-04-07T18:03:02.171361Z"
    }
   },
   "outputs": [],
   "source": [
    "display = pyart.graph.GridMapDisplay(grid)\n",
    "\n",
    "# create the plot\n",
    "projection = ccrs.PlateCarree()\n",
    "fig = plt.figure(figsize=(10,10))\n",
    "ax = plt.axes(projection=projection)\n",
    "\n",
    "#ax.imshow(grid.fields['REF']['data'][0], origin='lower')\n",
    "display.plot_grid('reflectivity', 0, vmin=0, vmax=55, projection=projection, cmap=\"pyart_HomeyerRainbow\", ax=ax)\n",
    "#plt.xlim(-86.7, -85.3)\n",
    "#plt.ylim(34.0, 36.0)\n",
    "#start_time = '2017-04-30T20:45'\n",
    "#end_time = '2017-04-30T20:45'\n",
    "#plt.title('HTX Time {}'.format(start_time))\n",
    "\n",
    "# Read in the file, create a RadarMapDisplay object\n",
    "# fmcw_data_dir = '/Users/terrell8/sshfs_mounts/depot/data/Projects/VORTEXSE/obsdata/2017/FMCW/0430'\n",
    "\n",
    "# Indicate the radar location with a point\n",
    "FMCW_lat = 34.6872\n",
    "FMCW_lon = -86.005\n",
    "ax.plot([FMCW_lon], [FMCW_lat], color='black', marker='o', transform=ccrs.PlateCarree())\n"
   ]
  },
  {
   "cell_type": "code",
   "execution_count": null,
   "metadata": {
    "ExecuteTime": {
     "end_time": "2021-02-15T22:02:40.566682Z",
     "start_time": "2021-02-15T21:35:53.956400Z"
    },
    "scrolled": true
   },
   "outputs": [],
   "source": [
    "# Create gridded radar objects and dump to disk\n",
    "for i, f in enumerate(level2_files_to_read):\n",
    "    print(\"On file {:d} of {:d} ({:.2f}%)\".format(i+1, len(level2_files), (i+1)/len(level2_files)*100.))\n",
    "    print(\"Reading {}\".format(os.path.basename(f)))\n",
    "    radar = pyart.io.read_nexrad_archive(f)\n",
    "    output_file = os.path.basename(f)[:-5]+\"_gridded.nc\"\n",
    "    output_path = os.path.join(gridded_output_dir, output_file)\n",
    "    \n",
    "    print(\"Mapping to grid!\")\n",
    "    grid = pyart.map.grid_from_radars(\n",
    "        (radar,),\n",
    "        grid_shape=(nz, ny, nx),\n",
    "        grid_limits=((zmin, zmax), (ymin, ymax), (xmin, xmax)),\n",
    "        fields=['differential_reflectivity', 'reflectivity', 'cross_correlation_ratio'],\n",
    "        weighting_function='Barnes2')\n",
    "    print(\"Writing {}\".format(output_file))\n",
    "    pyart.io.write_grid(output_path, grid, arm_time_variables=True, arm_alt_lat_lon_variables=True, \n",
    "                        write_point_x_y_z=True, write_point_lon_lat_alt=True)\n",
    "\n",
    "# plot_dir = os.path.join(gridded_radar_dir, 'plots')\n",
    "plot_dir = '/Users/terrell8/Dropbox/Presentations/IOP_1B'\n",
    "if not os.path.exists(plot_dir):\n",
    "    os.makedirs(plot_dir)\n",
    "\n",
    "plot_filename = 'Gridded_Radar_{}_{}.png'.format(radar_startdatetime, radar_enddatetime)\n",
    "plot_path = os.path.join(plot_dir, plot_filename)\n",
    "plt.savefig(plot_path, dpi=300, bbox_inches='tight')"
   ]
  },
  {
   "cell_type": "code",
   "execution_count": null,
   "metadata": {},
   "outputs": [],
   "source": []
  },
  {
   "cell_type": "code",
   "execution_count": null,
   "metadata": {},
   "outputs": [],
   "source": []
  },
  {
   "cell_type": "code",
   "execution_count": null,
   "metadata": {},
   "outputs": [],
   "source": [
    "\n"
   ]
  }
 ],
 "metadata": {
  "hide_input": false,
  "kernelspec": {
   "display_name": "Python 3",
   "language": "python",
   "name": "python3"
  },
  "language_info": {
   "codemirror_mode": {
    "name": "ipython",
    "version": 3
   },
   "file_extension": ".py",
   "mimetype": "text/x-python",
   "name": "python",
   "nbconvert_exporter": "python",
   "pygments_lexer": "ipython3",
   "version": "3.8.8"
  },
  "toc": {
   "base_numbering": 1,
   "nav_menu": {},
   "number_sections": true,
   "sideBar": true,
   "skip_h1_title": false,
   "title_cell": "Table of Contents",
   "title_sidebar": "Contents",
   "toc_cell": false,
   "toc_position": {},
   "toc_section_display": true,
   "toc_window_display": false
  },
  "varInspector": {
   "cols": {
    "lenName": 16,
    "lenType": 16,
    "lenVar": 40
   },
   "kernels_config": {
    "python": {
     "delete_cmd_postfix": "",
     "delete_cmd_prefix": "del ",
     "library": "var_list.py",
     "varRefreshCmd": "print(var_dic_list())"
    },
    "r": {
     "delete_cmd_postfix": ") ",
     "delete_cmd_prefix": "rm(",
     "library": "var_list.r",
     "varRefreshCmd": "cat(var_dic_list()) "
    }
   },
   "types_to_exclude": [
    "module",
    "function",
    "builtin_function_or_method",
    "instance",
    "_Feature"
   ],
   "window_display": false
  }
 },
 "nbformat": 4,
 "nbformat_minor": 2
}
