{
 "cells": [
  {
   "cell_type": "markdown",
   "metadata": {},
   "source": [
    "# A notebook to perform QC on the PIPS T and RH/Td observations"
   ]
  },
  {
   "cell_type": "code",
   "execution_count": null,
   "metadata": {
    "ExecuteTime": {
     "end_time": "2020-06-23T14:33:57.347909Z",
     "start_time": "2020-06-23T14:33:52.438729Z"
    }
   },
   "outputs": [],
   "source": [
    "%load_ext autoreload\n",
    "%autoreload 2\n",
    "import numpy as np\n",
    "import numpy.ma as ma\n",
    "import matplotlib\n",
    "import matplotlib.pyplot as plt\n",
    "import matplotlib.cm as cm\n",
    "import matplotlib.ticker as ticker\n",
    "import matplotlib.dates as dates\n",
    "from mpl_toolkits.axes_grid1 import ImageGrid,make_axes_locatable,host_subplot\n",
    "#from mpl_toolkits.basemap import Basemap\n",
    "from datetime import datetime, timedelta\n",
    "import sys\n",
    "import os\n",
    "import pyPIPS.utils as utils\n",
    "import pyPIPS.thermolib as thermo\n",
    "import pyPIPS.DSDlib as dsd\n",
    "#import pyPIPS.disdrometer_module as dis\n",
    "import pyPIPS.plotmodule as PIPSplot\n",
    "#import pyPIPS.simulator as sim\n",
    "import pyPIPS.pips_io as pipsio\n",
    "import pyPIPS.PIPS as pips\n",
    "import pyPIPS.parsivel_params as pp\n",
    "import pyPIPS.parsivel_qc as pqc\n",
    "import pyPIPS.polarimetric as dualpol\n",
    "#from pyCRMtools.modules import plotmodule as plotmod\n",
    "from pyCRMtools.modules import utils as CRMutils\n",
    "# from pyCRMtools.pycaps import arps_read\n",
    "# from pyCRMtools.pycaps import pycaps_fields\n",
    "# from pyCRMtools.pycaps import calvars_radar as radar\n",
    "import pandas as pd\n",
    "import xarray as xr\n",
    "import xskillscore as xs\n",
    "import glob\n",
    "import numpy.random as random\n",
    "from scipy.stats import gamma, uniform\n",
    "from scipy.stats.mstats import zscore\n",
    "from scipy.special import gamma as gammafunc\n",
    "from scipy import ndimage\n",
    "from metpy.plots import StationPlot\n",
    "from metpy.calc import wind_components\n",
    "from metpy.cbook import get_test_data\n",
    "from metpy.plots import StationPlot\n",
    "from metpy.plots.wx_symbols import current_weather, sky_cover\n",
    "from metpy.units import units\n",
    "from cycler import cycler\n",
    "import warnings\n",
    "warnings.simplefilter('ignore')\n",
    "%matplotlib notebook"
   ]
  },
  {
   "cell_type": "code",
   "execution_count": null,
   "metadata": {},
   "outputs": [],
   "source": [
    "# plt.style.use('seaborn-v0_8-bright')"
   ]
  },
  {
   "cell_type": "code",
   "execution_count": null,
   "metadata": {},
   "outputs": [],
   "source": [
    "# This cell sets up a dictionary with pre-computed biases from a given mass test.\n",
    "\n",
    "# PIPS_bias_base_dir = '/Users/dawson29/Projects/PERiLS/obsdata/2023/PIPS_data/'\n",
    "PIPS_bias_base_dir = '/Users/dawson29/Dropbox/Projects/PERiLS/obsdata/2023/'\n",
    "mass_test_name = '022723_mass_test'\n",
    "PIPS_bias_input_dir = os.path.join(PIPS_bias_base_dir, mass_test_name, 'netcdf_thermoQC')\n",
    "\n",
    "PIPS_bias_names = ['PIPS1A', 'PIPS1B', 'PIPS2A', 'PIPS2B', 'PIPS3A', 'PIPS3B']\n",
    "corrected_vars = ['fasttemp_corrected', 'slowtemp_corrected', 'RH_corrected', 'pressure_corrected']\n",
    "\n",
    "\n",
    "bias_conv_filenames = ['conventional_raw_{}_{}.nc'.format(mass_test_name, PIPS_name) for PIPS_name in \n",
    "                       PIPS_bias_names]\n",
    "bias_conv_filepaths = [os.path.join(PIPS_bias_input_dir, conv_filename) for conv_filename in bias_conv_filenames]\n",
    "\n",
    "\n",
    "\n",
    "PIPS_bias_dict = {}\n",
    "for PIPS_name, conv_filepath in zip(PIPS_bias_names, bias_conv_filepaths):\n",
    "    conv_ds = xr.load_dataset(conv_filepath)\n",
    "    \n",
    "    bias_dict = {}\n",
    "    for corrected_var in corrected_vars:\n",
    "        bias = conv_ds[corrected_var].bias_subtracted\n",
    "        bias_dict[corrected_var] = bias\n",
    "    \n",
    "    PIPS_bias_dict[PIPS_name] = bias_dict"
   ]
  },
  {
   "cell_type": "code",
   "execution_count": null,
   "metadata": {},
   "outputs": [],
   "source": [
    "PIPS_bias_dict"
   ]
  },
  {
   "cell_type": "code",
   "execution_count": null,
   "metadata": {},
   "outputs": [],
   "source": [
    "# Read in the PIPS netcdf files for the case we want\n",
    "\n",
    "# PIPS_input_base_dir = '/Users/dawson29/Projects/PERiLS/obsdata/2022/PIPS_data/'\n",
    "# PIPS_output_base_dir = '/Users/dawson29/Projects/PERiLS/obsdata/2022/PIPS_data_for_EOL/'\n",
    "\n",
    "# PIPS_base_dir = '/Users/dawson29/Projects/PERiLS/obsdata/2023/PIPS_data/'\n",
    "PIPS_base_dir = '/Users/dawson29/Dropbox/Projects/PERiLS/obsdata/2023/'\n",
    "# PIPS_base_dir = '/Users/dawson29/Projects/PERiLS/obsdata/2023/PIPS_data/'\n",
    "# PIPS_base_dir = '/Users/dawson29/Projects/PERiLS/obsdata/2022/PIPS_data/'\n",
    "\n",
    "deployment_name = 'IOP2_030323' # '031623_mass_test' # 'IOP2_030323' # 'IOP5_040523' # 'IOP4_033123' # 'IOP3_032423' # 'IOP3_040522'\n",
    "PIPS_input_dir = os.path.join(PIPS_base_dir, deployment_name, 'netcdf')\n",
    "PIPS_output_dir = os.path.join(PIPS_base_dir, deployment_name, 'netcdf_thermoQC')\n",
    "\n",
    "# deployment_name = '031623_mass_test'\n",
    "# PIPS_input_dir = os.path.join(PIPS_base_dir, deployment_name, 'netcdf')\n",
    "# PIPS_output_dir = os.path.join(PIPS_base_dir, deployment_name, 'netcdf_T_Td_QC_v110923')\n",
    "\n",
    "# deployment_name = 'IOP2_033022' # '031623_mass_test' # 'IOP2_030323' # 'IOP5_040523' # 'IOP4_033123' # 'IOP3_032423' # 'IOP3_040522'\n",
    "# PIPS_input_dir = os.path.join(PIPS_base_dir, deployment_name, 'netcdf')\n",
    "# PIPS_output_dir = os.path.join(PIPS_base_dir, deployment_name, 'netcdf_T_Td_QC')\n",
    "\n",
    "if not os.path.exists(PIPS_output_dir):\n",
    "    os.makedirs(PIPS_output_dir)\n",
    "\n",
    "# IOP1 2022\n",
    "# PIPS_names = ['PIPS1A', 'PIPS1B', 'PIPS2A', 'PIPS2B']\n",
    "# IOP2 2022\n",
    "# PIPS_names = ['PIPS1A', 'PIPS1B', 'PIPS2A', 'PIPS3B']\n",
    "# IOP3 2022\n",
    "PIPS_names = ['PIPS1A', 'PIPS1B', 'PIPS2A', 'PIPS2B', 'PIPS3A', 'PIPS3B']\n",
    "# IOP3 2023\n",
    "# PIPS_names = ['PIPS2A', 'PIPS3A']\n",
    "# IOP2, IOP4 or IOP5 2023\n",
    "# PIPS_names = ['PIPS1A', 'PIPS1B', 'PIPS2A', 'PIPS2B', 'PIPS3A', 'PIPS3B']\n",
    "parsivel_interval = 10\n",
    "intervalstr = '10S'\n",
    "\n",
    "parsivel_filenames = ['parsivel_combined_{}_{}_{:d}s.nc'.format(deployment_name, PIPS_name, parsivel_interval)\n",
    "                      for PIPS_name in PIPS_names]\n",
    "parsivel_filepaths = [os.path.join(PIPS_input_dir, parsivel_filename) for parsivel_filename in parsivel_filenames]\n",
    "output_parsivel_filepaths = [os.path.join(PIPS_output_dir, parsivel_filename) \n",
    "                             for parsivel_filename in parsivel_filenames]\n",
    "conv_filenames = ['conventional_raw_{}_{}.nc'.format(deployment_name, PIPS_name) for PIPS_name in PIPS_names]\n",
    "conv_filepaths = [os.path.join(PIPS_input_dir, conv_filename) for conv_filename in conv_filenames]\n",
    "output_conv_filepaths = [os.path.join(PIPS_output_dir, conv_filename) for conv_filename in conv_filenames]\n",
    "parsivel_ds_dict = {}\n",
    "conv_ds_dict = {}\n",
    "for PIPS_name, parsivel_filepath, conv_filepath in zip(PIPS_names, parsivel_filepaths, conv_filepaths):\n",
    "    try:\n",
    "        parsivel_ds_dict[PIPS_name] = xr.load_dataset(parsivel_filepath)\n",
    "    except:\n",
    "        parsivel_ds_dict[PIPS_name] = None\n",
    "    conv_ds_dict[PIPS_name] = xr.load_dataset(conv_filepath)"
   ]
  },
  {
   "cell_type": "code",
   "execution_count": null,
   "metadata": {},
   "outputs": [],
   "source": [
    "# default_cycler = (cycler(color=['r', 'orange', 'y', 'g', 'b', 'purple']))\n",
    "\n",
    "# plt.rc('lines', linewidth=4)\n",
    "# plt.rc('axes', prop_cycle=default_cycler)"
   ]
  },
  {
   "cell_type": "code",
   "execution_count": null,
   "metadata": {},
   "outputs": [],
   "source": [
    "PIPS_to_comp = ['PIPS3A', 'PIPS3B']\n",
    "\n",
    "start_times = []\n",
    "stop_times = []\n",
    "for PIPS_name in PIPS_to_comp:\n",
    "    start_times.append(conv_ds_dict[PIPS_name]['time'][0])\n",
    "    stop_times.append(conv_ds_dict[PIPS_name]['time'][-1])\n",
    "    \n",
    "min_time = min(start_times)\n",
    "max_time = max(stop_times)\n",
    "\n",
    "print(min_time, max_time)"
   ]
  },
  {
   "cell_type": "code",
   "execution_count": null,
   "metadata": {},
   "outputs": [],
   "source": [
    "time_start = min_time # '2023-03-17T8:30:00'\n",
    "time_stop = max_time # '2023-03-17T9:30:00'"
   ]
  },
  {
   "cell_type": "code",
   "execution_count": null,
   "metadata": {},
   "outputs": [],
   "source": [
    "time_common_start = max(start_times)\n",
    "time_common_stop = min(stop_times)"
   ]
  },
  {
   "cell_type": "code",
   "execution_count": null,
   "metadata": {},
   "outputs": [],
   "source": [
    "# Let's look at a comparison of the fast and slow temps for this case\n",
    "\n",
    "fig, ax = plt.subplots()\n",
    "\n",
    "for PIPS_name in PIPS_to_comp:\n",
    "    conv_ds = conv_ds_dict[PIPS_name]\n",
    "    conv_ds['fasttemp'].sel(time=slice(time_start, time_stop)).plot(ax=ax, label=f'{PIPS_name}_fastT', \n",
    "                                                                    ls='None', marker='o', ms=1., alpha=0.5) \n",
    "    \n",
    "    ax.legend(loc='best')"
   ]
  },
  {
   "cell_type": "code",
   "execution_count": null,
   "metadata": {
    "scrolled": false
   },
   "outputs": [],
   "source": [
    "\n",
    "PIPS_da1 = conv_ds_dict[PIPS_to_comp[0]].sel(time=slice(time_common_start, time_common_stop))['fasttemp']\n",
    "PIPS_da2 = conv_ds_dict[PIPS_to_comp[1]].sel(time=slice(time_common_start, time_common_stop))['fasttemp']\n",
    "\n",
    "\n",
    "\n",
    "# same_times = (PIPS_da1['time'] == PIPS_da2['time'])\n",
    "\n",
    "# all(same_times == True)\n",
    "\n",
    "# xr.align(PIPS_da1, PIPS_da2, join='exact')\n",
    "\n",
    "# xr.corr(PIPS_da1, PIPS_da2, dim='time')\n",
    "# xs.rmse(PIPS_da1, PIPS_da2)"
   ]
  },
  {
   "cell_type": "code",
   "execution_count": null,
   "metadata": {
    "scrolled": false
   },
   "outputs": [],
   "source": [
    "same_time_index = (PIPS_da1.indexes['time'] == PIPS_da2.indexes['time'])"
   ]
  },
  {
   "cell_type": "code",
   "execution_count": null,
   "metadata": {},
   "outputs": [],
   "source": [
    "np.where(~same_time_index)"
   ]
  },
  {
   "cell_type": "code",
   "execution_count": null,
   "metadata": {},
   "outputs": [],
   "source": [
    "print(PIPS_da1[42:47].time, PIPS_da2[42:47].time)"
   ]
  },
  {
   "cell_type": "code",
   "execution_count": null,
   "metadata": {},
   "outputs": [],
   "source": [
    "print(PIPS_da1[333:338].time, PIPS_da2[333:338].time)"
   ]
  },
  {
   "cell_type": "code",
   "execution_count": null,
   "metadata": {},
   "outputs": [],
   "source": [
    "time_diffs1 = np.diff(PIPS_da1.time.values)\n",
    "time_diffs2 = np.diff(PIPS_da2.time.values)"
   ]
  },
  {
   "cell_type": "code",
   "execution_count": null,
   "metadata": {},
   "outputs": [],
   "source": [
    "all(time_diffs1 == time_diffs2)"
   ]
  },
  {
   "cell_type": "code",
   "execution_count": null,
   "metadata": {},
   "outputs": [],
   "source": [
    "fig, ax = plt.subplots()\n",
    "\n",
    "ax.plot(time_diffs1)\n",
    "ax.plot(time_diffs2)"
   ]
  },
  {
   "cell_type": "code",
   "execution_count": null,
   "metadata": {},
   "outputs": [],
   "source": []
  },
  {
   "cell_type": "code",
   "execution_count": null,
   "metadata": {},
   "outputs": [],
   "source": [
    "# Now, use the chosen mass test biases to correct the fasttemps\n",
    "\n",
    "for PIPS_name in PIPS_to_comp:\n",
    "    bias = PIPS_bias_dict[PIPS_name]['fasttemp_corrected']\n",
    "    print(PIPS_name, bias)\n",
    "    conv_ds_dict[PIPS_name]['fasttemp_corrected'] = conv_ds_dict[PIPS_name]['fasttemp'].copy() - bias\n",
    "    # Add the value subtracted to the attributes so we know that we modified it\n",
    "    conv_ds_dict[PIPS_name]['fasttemp_corrected'].attrs['bias_subtracted'] = bias"
   ]
  },
  {
   "cell_type": "code",
   "execution_count": null,
   "metadata": {},
   "outputs": [],
   "source": [
    "# Ok, now plot the bias-corrected fasttemps\n",
    "\n",
    "fig, ax = plt.subplots()\n",
    "\n",
    "for PIPS_name in PIPS_to_comp:\n",
    "    conv_ds = conv_ds_dict[PIPS_name]\n",
    "    conv_ds['fasttemp_corrected'].sel(time=slice(time_start, time_stop)).plot(ax=ax, \n",
    "                                                                              label=f'{PIPS_name}_fastT_corrected', \n",
    "                                                                              ls='None', marker='o', ms=1., \n",
    "                                                                              alpha=0.5)    \n",
    "# plt.gca().set_prop_cycle(None)\n",
    "\n",
    "# for PIPS_name in PIPS_to_comp[:1]:\n",
    "#     conv_ds = conv_ds_dict[PIPS_name]\n",
    "#     conv_ds['fasttemp'].sel(time=slice(time_start, time_stop)).plot(ax=ax, label=f'{PIPS_name}_fastT', \n",
    "#                                                                     ls='None', marker='x', ms=5., alpha=0.75)\n",
    "    \n",
    "ax.legend(loc='best')"
   ]
  },
  {
   "cell_type": "code",
   "execution_count": null,
   "metadata": {},
   "outputs": [],
   "source": [
    "# Ok, now that we've handled the fasttemps, lets move on to the slowtemps\n",
    "fig, ax = plt.subplots()\n",
    "\n",
    "for PIPS_name in PIPS_to_comp:\n",
    "    conv_ds = conv_ds_dict[PIPS_name]\n",
    "    conv_ds['slowtemp'].sel(time=slice(time_start, time_stop)).plot(ax=ax, label=f'{PIPS_name}_slowT', \n",
    "                                                                    ls='None', marker='o', ms=1., alpha=0.5) \n",
    "    \n",
    "    ax.legend(loc='best')"
   ]
  },
  {
   "cell_type": "code",
   "execution_count": null,
   "metadata": {},
   "outputs": [],
   "source": [
    "# Now, use the chosen mass test biases to correct the slowtemps\n",
    "\n",
    "for PIPS_name in PIPS_to_comp:\n",
    "    bias = PIPS_bias_dict[PIPS_name]['slowtemp_corrected']\n",
    "    print(PIPS_name, bias)\n",
    "    conv_ds_dict[PIPS_name]['slowtemp_corrected'] = conv_ds_dict[PIPS_name]['slowtemp'].copy() - bias\n",
    "    # Add the value subtracted to the attributes so we know that we modified it\n",
    "    conv_ds_dict[PIPS_name]['slowtemp_corrected'].attrs['bias_subtracted'] = bias"
   ]
  },
  {
   "cell_type": "code",
   "execution_count": null,
   "metadata": {},
   "outputs": [],
   "source": [
    "# Ok, now plot the bias-corrected slowtemps\n",
    "\n",
    "\n",
    "fig, ax = plt.subplots()\n",
    "\n",
    "for PIPS_name in PIPS_to_comp:\n",
    "    conv_ds = conv_ds_dict[PIPS_name]\n",
    "    conv_ds['slowtemp_corrected'].sel(time=slice(time_start, time_stop)).plot(ax=ax, label=f'{PIPS_name}_slowT_corrected', \n",
    "                                                                              ls='None', marker='o', ms=1., alpha=0.5)    \n",
    "# plt.gca().set_prop_cycle(None)\n",
    "\n",
    "# for PIPS_name in PIPS_to_comp[:1]:\n",
    "#     conv_ds = conv_ds_dict[PIPS_name]\n",
    "#     conv_ds['fasttemp'].sel(time=slice(time_start, time_stop)).plot(ax=ax, label=f'{PIPS_name}_fastT', \n",
    "#                                                                     ls='None', marker='x', ms=5., alpha=0.75)\n",
    "    \n",
    "# ax.legend()"
   ]
  },
  {
   "cell_type": "code",
   "execution_count": null,
   "metadata": {},
   "outputs": [],
   "source": [
    "# Now lets do the same for the RH\n",
    "fig, ax = plt.subplots()\n",
    "\n",
    "for PIPS_name in PIPS_to_comp:\n",
    "    conv_ds = conv_ds_dict[PIPS_name]\n",
    "    conv_ds['RH'].sel(time=slice(time_start, time_stop)).plot(ax=ax, label=f'{PIPS_name}_RH', \n",
    "                                                              ls='None', marker='o', ms=1., alpha=0.5) \n",
    "    \n",
    "    ax.legend(loc='best')"
   ]
  },
  {
   "cell_type": "code",
   "execution_count": null,
   "metadata": {},
   "outputs": [],
   "source": [
    "# Now, use the chosen mass test biases to correct the RH\n",
    "\n",
    "var_name = 'RH'\n",
    "bias_name = 'RH_corrected'\n",
    "\n",
    "for PIPS_name in PIPS_to_comp:\n",
    "    bias = PIPS_bias_dict[PIPS_name][bias_name]\n",
    "    print(PIPS_name, bias)\n",
    "    conv_ds_dict[PIPS_name][bias_name] = conv_ds_dict[PIPS_name][var_name].copy() - bias\n",
    "    # Add the value subtracted to the attributes so we know that we modified it\n",
    "    conv_ds_dict[PIPS_name][bias_name].attrs['bias_subtracted'] = bias"
   ]
  },
  {
   "cell_type": "code",
   "execution_count": null,
   "metadata": {},
   "outputs": [],
   "source": [
    "# Ok, now plot the bias-corrected RH\n",
    "\n",
    "fig, ax = plt.subplots()\n",
    "\n",
    "for PIPS_name in PIPS_to_comp:\n",
    "    conv_ds = conv_ds_dict[PIPS_name]\n",
    "    conv_ds['RH_corrected'].sel(time=slice(time_start, time_stop)).plot(ax=ax, \n",
    "                                                                        label=f'{PIPS_name}_RH_corrected', \n",
    "                                                                        ls='None', marker='o', ms=1., \n",
    "                                                                        alpha=0.5)\n",
    "ax.legend(loc='best')"
   ]
  },
  {
   "cell_type": "code",
   "execution_count": null,
   "metadata": {},
   "outputs": [],
   "source": [
    "# Do the same for pressure.\n",
    "\n",
    "fig, ax = plt.subplots()\n",
    "\n",
    "for PIPS_name in PIPS_to_comp:\n",
    "    conv_ds = conv_ds_dict[PIPS_name]\n",
    "    conv_ds['pressure'].sel(time=slice(time_start, time_stop)).plot(ax=ax, label=f'{PIPS_name}_pressure', \n",
    "                                                                    ls='None', marker='o', ms=1., alpha=0.5) \n",
    "    \n",
    "    ax.legend(loc='best')"
   ]
  },
  {
   "cell_type": "code",
   "execution_count": null,
   "metadata": {},
   "outputs": [],
   "source": [
    "# Now, use the chosen mass test biases to correct the RH\n",
    "\n",
    "var_name = 'pressure'\n",
    "bias_name = 'pressure_corrected'\n",
    "\n",
    "for PIPS_name in PIPS_to_comp:\n",
    "    bias = PIPS_bias_dict[PIPS_name][bias_name]\n",
    "    print(PIPS_name, bias)\n",
    "    conv_ds_dict[PIPS_name][bias_name] = conv_ds_dict[PIPS_name][var_name].copy() - bias\n",
    "    # Add the value subtracted to the attributes so we know that we modified it\n",
    "    conv_ds_dict[PIPS_name][bias_name].attrs['bias_subtracted'] = bias"
   ]
  },
  {
   "cell_type": "code",
   "execution_count": null,
   "metadata": {},
   "outputs": [],
   "source": [
    "# Ok, now plot the bias-corrected pressure\n",
    "\n",
    "\n",
    "fig, ax = plt.subplots()\n",
    "\n",
    "for PIPS_name in PIPS_to_comp:\n",
    "    conv_ds = conv_ds_dict[PIPS_name]\n",
    "    conv_ds['pressure_corrected'].sel(time=slice(time_start, time_stop)).plot(ax=ax, \n",
    "                                                                              label=f'{PIPS_name}_pressure_corrected', \n",
    "                                                                              ls='None', marker='o', ms=1., \n",
    "                                                                              alpha=0.5)    \n",
    "\n",
    "ax.legend(loc='best')"
   ]
  },
  {
   "cell_type": "code",
   "execution_count": null,
   "metadata": {},
   "outputs": [],
   "source": [
    "# Now, we need to recompute the dewpoint and RH_derived using the bias-corrected values from above\n",
    "\n",
    "for PIPS_name in PIPS_to_comp:\n",
    "    pressure = conv_ds_dict[PIPS_name]['pressure_corrected']\n",
    "    slowtemp = conv_ds_dict[PIPS_name]['slowtemp_corrected']\n",
    "    fasttemp = conv_ds_dict[PIPS_name]['fasttemp_corrected']\n",
    "    RH = conv_ds_dict[PIPS_name]['RH_corrected']\n",
    "    dewpoint = thermo.calTdfromRH(pressure * 100., slowtemp + 273.15, RH / 100.) - 273.15\n",
    "#     dewpoint.sel(time=slice(time_start, time_stop)).plot(ax=ax, label=f'{PIPS_name}_dewpoint', \n",
    "#                                                          ls='None', marker='o', ms=1., alpha=0.5)\n",
    "    RH_derived = thermo.calRH(pressure * 100., fasttemp + 273.15, dewpoint + 273.15) * 100.\n",
    "    \n",
    "    conv_ds_dict[PIPS_name]['dewpoint_corrected'] = conv_ds_dict[PIPS_name]['dewpoint'].copy()\n",
    "    conv_ds_dict[PIPS_name]['dewpoint_corrected'].data = dewpoint\n",
    "    \n",
    "    conv_ds_dict[PIPS_name]['RH_derived_corrected'] = conv_ds_dict[PIPS_name]['RH_derived'].copy()\n",
    "    conv_ds_dict[PIPS_name]['RH_derived_corrected'].data = RH_derived"
   ]
  },
  {
   "cell_type": "code",
   "execution_count": null,
   "metadata": {},
   "outputs": [],
   "source": [
    "# Plot the timeseries of RH_derived\n",
    "fig, ax = plt.subplots()\n",
    "\n",
    "for PIPS_name in PIPS_to_comp:\n",
    "    conv_ds = conv_ds_dict[PIPS_name]\n",
    "    conv_ds['RH_derived'].sel(time=slice(time_start, time_stop)).plot(ax=ax, label=f'{PIPS_name}_RH_derived', \n",
    "                                                              ls='None', marker='o', ms=1., alpha=0.5)    \n",
    "# plt.gca().set_prop_cycle(None)\n",
    "\n",
    "# for PIPS_name in PIPS_to_comp:\n",
    "#     conv_ds = conv_ds_dict[PIPS_name]\n",
    "#     conv_ds['RH_derived_corrected'].sel(time=slice(time_start, time_stop)).plot(ax=ax, label=f'{PIPS_name}_RH_derived_cor', \n",
    "#                                                                     ls='None', marker='x', ms=5., alpha=0.75)\n",
    "    \n",
    "ax.legend()"
   ]
  },
  {
   "cell_type": "code",
   "execution_count": null,
   "metadata": {},
   "outputs": [],
   "source": [
    "# Plot the timeseries of RH_derived_corrected\n",
    "# This may have actually made things a bit worse in this case\n",
    "fig, ax = plt.subplots()\n",
    "\n",
    "for PIPS_name in PIPS_to_comp:\n",
    "    conv_ds = conv_ds_dict[PIPS_name]\n",
    "    conv_ds['RH_derived_corrected'].sel(time=slice(time_start, time_stop)).plot(ax=ax, label=f'{PIPS_name}_RH_derived_corrected', \n",
    "                                                              ls='None', marker='o', ms=1., alpha=0.5)    \n",
    "# plt.gca().set_prop_cycle(None)\n",
    "\n",
    "# for PIPS_name in PIPS_to_comp:\n",
    "#     conv_ds = conv_ds_dict[PIPS_name]\n",
    "#     conv_ds['RH_derived_corrected'].sel(time=slice(time_start, time_stop)).plot(ax=ax, label=f'{PIPS_name}_RH_derived_cor', \n",
    "#                                                                     ls='None', marker='x', ms=5., alpha=0.75)\n",
    "    \n",
    "ax.legend()"
   ]
  },
  {
   "cell_type": "code",
   "execution_count": null,
   "metadata": {},
   "outputs": [],
   "source": [
    "# Plot the timeseries of dewpoint\n",
    "fig, ax = plt.subplots()\n",
    "\n",
    "for PIPS_name in PIPS_to_comp:\n",
    "    conv_ds = conv_ds_dict[PIPS_name]\n",
    "    conv_ds['dewpoint'].sel(time=slice(time_start, time_stop)).plot(ax=ax, label=f'{PIPS_name}_dewpoint'), \n",
    "\n",
    "ax.legend()"
   ]
  },
  {
   "cell_type": "code",
   "execution_count": null,
   "metadata": {},
   "outputs": [],
   "source": [
    "# Plot the timeseries of dewpoint_corrected\n",
    "fig, ax = plt.subplots()\n",
    "\n",
    "for PIPS_name in PIPS_to_comp:\n",
    "    conv_ds = conv_ds_dict[PIPS_name]\n",
    "    conv_ds['dewpoint_corrected'].sel(time=slice(time_start, time_stop)).plot(ax=ax, label=f'{PIPS_name}_dewpoint'), \n",
    "\n",
    "ax.legend()"
   ]
  },
  {
   "cell_type": "code",
   "execution_count": null,
   "metadata": {},
   "outputs": [],
   "source": [
    "# Recompute some of the derived thermodynamic parameters (pt, qv, rho) using the new corrected vars\n",
    "\n",
    "for PIPS_name in PIPS_to_comp:\n",
    "    conv_ds = conv_ds_dict[PIPS_name]\n",
    "    conv_ds = pips.calc_thermo(conv_ds, p_var='pressure_corrected', T_var='fasttemp_corrected', \n",
    "                               RH_var='RH_derived_corrected')"
   ]
  },
  {
   "cell_type": "code",
   "execution_count": null,
   "metadata": {},
   "outputs": [],
   "source": [
    "# Plot the timeseries of pt_corrected to check\n",
    "fig, ax = plt.subplots()\n",
    "\n",
    "for PIPS_name in PIPS_to_comp:\n",
    "    conv_ds = conv_ds_dict[PIPS_name]\n",
    "    conv_ds['pt_corrected'].sel(time=slice(time_start, time_stop)).plot(ax=ax, label=f'{PIPS_name}_pt'), \n",
    "\n",
    "ax.legend()"
   ]
  },
  {
   "cell_type": "code",
   "execution_count": null,
   "metadata": {},
   "outputs": [],
   "source": []
  },
  {
   "cell_type": "code",
   "execution_count": null,
   "metadata": {},
   "outputs": [],
   "source": [
    "# Now resample the corrected timeseries to the parsivel times\n",
    "\n",
    "corrected_varnames = ['fasttemp_corrected', 'slowtemp_corrected', 'RH_corrected', 'pressure_corrected',\n",
    "                      'dewpoint_corrected', 'RH_derived_corrected', 'pt_corrected', 'qv_corrected',\n",
    "                      'rho_corrected']\n",
    "\n",
    "for PIPS_name in PIPS_to_comp:\n",
    "    PSD_datetimes = pips.get_PSD_datetimes(parsivel_ds_dict[PIPS_name]['VD_matrix'])\n",
    "    sec_offset = PSD_datetimes[0].second\n",
    "    print(sec_offset)\n",
    "    offset_str = pips.get_interval_str(sec_offset)\n",
    "    \n",
    "    for corrected_varname in corrected_varnames:\n",
    "        corrected_var = conv_ds_dict[PIPS_name][corrected_varname]\n",
    "        new_var = corrected_var.resample(time=intervalstr, label='right', closed='right', \n",
    "                                         offset=offset_str).mean()\n",
    "        \n",
    "        parsivel_ds_dict[PIPS_name][corrected_varname] = new_var\n",
    "        parsivel_ds_dict[PIPS_name][corrected_varname].attrs = conv_ds_dict[PIPS_name][corrected_varname].attrs"
   ]
  },
  {
   "cell_type": "code",
   "execution_count": null,
   "metadata": {},
   "outputs": [],
   "source": [
    "fig, ax = plt.subplots()\n",
    "\n",
    "for PIPS_name in PIPS_to_comp:\n",
    "    parsivel_ds_dict[PIPS_name]['pt_corrected'].plot(ax=ax, label=f'{PIPS_name}_pt_corrected', \n",
    "                                                             ls='None', marker='o', ms=1., alpha=0.75)\n",
    "#     parsivel_ds_dict[PIPS_name]['RH_derived'].plot(ax=ax, label=f'{PIPS_name}_RH_derived', \n",
    "#                                                    ls='None', marker='x', ms=5., alpha=0.5)\n",
    "    \n",
    "ax.legend()"
   ]
  },
  {
   "cell_type": "code",
   "execution_count": null,
   "metadata": {},
   "outputs": [],
   "source": [
    "# Now save to new output directory\n",
    "for PIPS_name, output_parsivel_filepath, output_conv_filepath in zip(PIPS_names, \n",
    "                                                                     output_parsivel_filepaths, \n",
    "                                                                     output_conv_filepaths):\n",
    "    if PIPS_name in PIPS_to_comp:\n",
    "        print(PIPS_name)\n",
    "        \n",
    "        \n",
    "        print(\"Saving {}\".format(output_parsivel_filepath))\n",
    "        parsivel_ds_dict[PIPS_name].to_netcdf(output_parsivel_filepath)\n",
    "        print(\"Saving {}\".format(output_conv_filepath))\n",
    "        conv_ds_dict[PIPS_name].to_netcdf(output_conv_filepath)"
   ]
  },
  {
   "cell_type": "code",
   "execution_count": null,
   "metadata": {},
   "outputs": [],
   "source": [
    "# Finally, print out the offsets for the original measured variables for use in another notebook to correct the data\n",
    "# for the IOPs\n",
    "\n",
    "corrected_vars = ['fasttemp_corrected', 'slowtemp_corrected', 'RH_corrected', 'pressure_corrected']\n",
    "\n",
    "print(\"Biases to subtract:\")\n",
    "\n",
    "for PIPS_name in PIPS_to_comp:\n",
    "    conv_ds = conv_ds_dict[PIPS_name]\n",
    "    print(PIPS_name)\n",
    "    for corrected_var in corrected_vars:\n",
    "        bias = conv_ds[corrected_var].bias_subtracted\n",
    "        print(f'{corrected_var}: {str(bias)}')"
   ]
  },
  {
   "cell_type": "code",
   "execution_count": null,
   "metadata": {},
   "outputs": [],
   "source": [
    "# OLD CELLS BELOW"
   ]
  },
  {
   "cell_type": "code",
   "execution_count": null,
   "metadata": {},
   "outputs": [],
   "source": [
    "# All the PIPS show high freq variations in slowT of roughly 0.5 deg C for some weird reason. \n",
    "# You can see that here\n",
    "fig, ax = plt.subplots()\n",
    "\n",
    "for PIPS_name in PIPS_to_comp:\n",
    "    conv_ds = conv_ds_dict[PIPS_name]\n",
    "    conv_ds['slowtemp'].sel(time=slice(time_start, time_stop)).plot(ax=ax, label=f'{PIPS_name}_slowT', \n",
    "                                                                    ls='None', marker='o', ms=1., alpha=0.5) \n",
    "    \n",
    "    ax.legend(loc='best')\n"
   ]
  },
  {
   "cell_type": "code",
   "execution_count": null,
   "metadata": {},
   "outputs": [],
   "source": [
    "# To clean it up, let's try this solution from ChatGPT that uses a butterworth low-pass filter\n",
    "\n",
    "from scipy.signal import butter, filtfilt\n",
    "\n",
    "# Load your dataset\n",
    "# ds = xr.open_dataset('path_to_your_dataset.nc')\n",
    "\n",
    "# For demonstration, let's create a sample DataArray\n",
    "# time = pd.date_range('2000-01-01', periods=200, freq='D')\n",
    "# data = np.random.rand(200)  # Random data for example\n",
    "# ds = xr.DataArray(data, coords=[time], dims=['time'])\n",
    "\n",
    "\n",
    "# Test on PIPS3A\n",
    "conv_ds = conv_ds_dict['PIPS3A']\n",
    "\n",
    "slow_temp = conv_ds['slowtemp']\n",
    "\n",
    "# Set your cutoff frequency (e.g., if your time unit is days, and you want to keep frequencies lower than 0.1/day)\n",
    "cutoff_frequency = 0.005  # Change as needed (units are in inverse seconds)\n",
    "\n",
    "# Design a Butterworth low-pass filter\n",
    "order = 6  # Filter order\n",
    "sampling_rate = 1  # Inverse of the sampling interval in units of your data\n",
    "nyquist_rate = 0.5 * sampling_rate\n",
    "normalized_cutoff = cutoff_frequency / nyquist_rate\n",
    "\n",
    "print(normalized_cutoff)\n",
    "b, a = butter(order, normalized_cutoff, btype='low', analog=False)\n",
    "\n",
    "# Apply the filter\n",
    "filtered_slow_temp = filtfilt(b, a, slow_temp.values)\n",
    "\n",
    "# Insert the filtered data back into an xarray DataArray\n",
    "slow_temp_filt = xr.DataArray(filtered_slow_temp, coords=slow_temp.coords, dims=slow_temp.dims)\n",
    "\n"
   ]
  },
  {
   "cell_type": "code",
   "execution_count": null,
   "metadata": {},
   "outputs": [],
   "source": [
    "# Now plot the filtered data to see what it looks like\n",
    "fig, ax = plt.subplots()\n",
    "slow_temp_filt.sel(time=slice(time_start, time_stop)).plot(ax=ax, label=f'{PIPS_name}_slowT_filt', \n",
    "                                                           ls='None', marker='o', ms=1., alpha=0.5)\n",
    "slow_temp.sel(time=slice(time_start, time_stop)).plot(ax=ax, label=f'{PIPS_name}_slowT_filt', \n",
    "                                                      ls='None', marker='o', ms=1., alpha=0.5)"
   ]
  },
  {
   "cell_type": "code",
   "execution_count": null,
   "metadata": {},
   "outputs": [],
   "source": [
    "# Hmmm... this is better but still doesn't quite do what I want. I have to set the cutoff frequency too low\n",
    "# Let's try a simple running mean\n",
    "\n",
    "# Apply a running mean with a window size of 60 s\n",
    "window_size = 60\n",
    "smoothed_slow_temp = slow_temp.rolling(time=window_size, center=True).mean()"
   ]
  },
  {
   "cell_type": "code",
   "execution_count": null,
   "metadata": {},
   "outputs": [],
   "source": [
    "fig, ax = plt.subplots()\n",
    "smoothed_slow_temp.sel(time=slice(time_start, time_stop)).plot(ax=ax, label=f'{PIPS_name}_slowT_filt', \n",
    "                                                               ls='None', marker='o', ms=1., alpha=0.5)\n",
    "slow_temp.sel(time=slice(time_start, time_stop)).plot(ax=ax, label=f'{PIPS_name}_slowT_filt', \n",
    "                                                      ls='None', marker='o', ms=1., alpha=0.5)"
   ]
  },
  {
   "cell_type": "code",
   "execution_count": null,
   "metadata": {},
   "outputs": [],
   "source": [
    "# Plot the timeseries of slowtemp and fasttemp\n",
    "fig, ax = plt.subplots()\n",
    "\n",
    "for PIPS_name in PIPS_to_comp:\n",
    "    conv_ds = conv_ds_dict[PIPS_name]\n",
    "    conv_ds['slowtemp'].sel(time=slice(time_start, time_stop)).plot(ax=ax, label=f'{PIPS_name}_slowT', \n",
    "                                                                    ls='None', marker='o', ms=1., alpha=0.5)    \n",
    "plt.gca().set_prop_cycle(None)\n",
    "\n",
    "for PIPS_name in PIPS_to_comp:\n",
    "    conv_ds = conv_ds_dict[PIPS_name]\n",
    "    conv_ds['fasttemp'].sel(time=slice(time_start, time_stop)).plot(ax=ax, label=f'{PIPS_name}_fastT', \n",
    "                                                                    ls='None', marker='x', ms=5., alpha=0.75)\n",
    "    \n",
    "ax.legend()"
   ]
  },
  {
   "cell_type": "code",
   "execution_count": null,
   "metadata": {},
   "outputs": [],
   "source": [
    "# It looks like 3A and 3B have wonky slow-temp sensors that read too high. Let's take the differences between the\n",
    "# fast temp and slow temp obs and find the average difference\n",
    "\n",
    "diff_T_dict = {}\n",
    "\n",
    "for PIPS_name in PIPS_to_comp:\n",
    "    diff_T = conv_ds_dict[PIPS_name]['slowtemp'] - conv_ds_dict[PIPS_name]['fasttemp']\n",
    "    diff_T_dict[PIPS_name] = diff_T\n"
   ]
  },
  {
   "cell_type": "code",
   "execution_count": null,
   "metadata": {},
   "outputs": [],
   "source": [
    "# Plot the time series of the slow-fast temp differences\n",
    "\n",
    "fig, ax = plt.subplots()\n",
    "\n",
    "for PIPS_name in PIPS_to_comp:\n",
    "    diff_T = diff_T_dict[PIPS_name]\n",
    "    diff_T.sel(time=slice(time_start, time_stop)).plot(ax=ax, label=f'{PIPS_name}_diff_T', \n",
    "                                                       ls='None', marker='o', ms=1., alpha=0.5)\n",
    "\n",
    "ax.legend()"
   ]
  },
  {
   "cell_type": "code",
   "execution_count": null,
   "metadata": {},
   "outputs": [],
   "source": [
    "# Compute the mean differences and then subtract from the original slowtemp, storing in a new corrected slowtemp\n",
    "\n",
    "for PIPS_name in PIPS_to_comp:\n",
    "    diff_T = diff_T_dict[PIPS_name]\n",
    "    mean_diff_T = diff_T.mean().values\n",
    "    print(mean_diff_T)\n",
    "    conv_ds_dict[PIPS_name]['slowtemp_corrected'] = conv_ds_dict[PIPS_name]['slowtemp'].copy() - mean_diff_T\n",
    "    # Add the value subtracted to the attributes so we know that we modified it\n",
    "    conv_ds_dict[PIPS_name]['slowtemp_corrected'].attrs['bias_subtracted'] = mean_diff_T\n",
    "    \n"
   ]
  },
  {
   "cell_type": "code",
   "execution_count": null,
   "metadata": {},
   "outputs": [],
   "source": [
    "# Ok, now plot the bias-corrected slowtemps along with the fasttemps\n",
    "\n",
    "\n",
    "fig, ax = plt.subplots()\n",
    "\n",
    "for PIPS_name in PIPS_to_comp[:1]:\n",
    "    conv_ds = conv_ds_dict[PIPS_name]\n",
    "    conv_ds['slowtemp_corrected'].sel(time=slice(time_start, time_stop)).plot(ax=ax, label=f'{PIPS_name}_slowT', \n",
    "                                                                              ls='None', marker='o', ms=1., alpha=0.5)    \n",
    "plt.gca().set_prop_cycle(None)\n",
    "\n",
    "for PIPS_name in PIPS_to_comp[:1]:\n",
    "    conv_ds = conv_ds_dict[PIPS_name]\n",
    "    conv_ds['fasttemp'].sel(time=slice(time_start, time_stop)).plot(ax=ax, label=f'{PIPS_name}_fastT', \n",
    "                                                                    ls='None', marker='x', ms=5., alpha=0.75)\n",
    "    \n",
    "ax.legend()"
   ]
  },
  {
   "cell_type": "code",
   "execution_count": null,
   "metadata": {},
   "outputs": [],
   "source": [
    "# Now, we need to recompute the dewpoint and RH_derived using the corrected slowtemps\n",
    "\n",
    "for PIPS_name in PIPS_to_comp:\n",
    "    pressure = conv_ds_dict[PIPS_name]['pressure']\n",
    "    slowtemp = conv_ds_dict[PIPS_name]['slowtemp_corrected']\n",
    "    fasttemp = conv_ds_dict[PIPS_name]['fasttemp']\n",
    "    RH = conv_ds_dict[PIPS_name]['RH']\n",
    "    dewpoint = thermo.calTdfromRH(pressure * 100., slowtemp + 273.15, RH / 100.) - 273.15\n",
    "    dewpoint.sel(time=slice(time_start, time_stop)).plot(ax=ax, label=f'{PIPS_name}_dewpoint', \n",
    "                                                         ls='None', marker='o', ms=1., alpha=0.5)\n",
    "    RH_derived = thermo.calRH(pressure * 100., fasttemp + 273.15, dewpoint + 273.15) * 100.\n",
    "    \n",
    "    conv_ds_dict[PIPS_name]['dewpoint_corrected'] = conv_ds_dict[PIPS_name]['dewpoint'].copy()\n",
    "    conv_ds_dict[PIPS_name]['dewpoint_corrected'].data = dewpoint\n",
    "    \n",
    "    conv_ds_dict[PIPS_name]['RH_derived_corrected'] = conv_ds_dict[PIPS_name]['RH_derived'].copy()\n",
    "    conv_ds_dict[PIPS_name]['RH_derived_corrected'].data = RH_derived\n"
   ]
  },
  {
   "cell_type": "code",
   "execution_count": null,
   "metadata": {},
   "outputs": [],
   "source": [
    "# Plot the timeseries of RH and RH_derived\n",
    "fig, ax = plt.subplots()\n",
    "\n",
    "for PIPS_name in PIPS_to_comp:\n",
    "    conv_ds = conv_ds_dict[PIPS_name]\n",
    "    conv_ds['RH_derived'].sel(time=slice(time_start, time_stop)).plot(ax=ax, label=f'{PIPS_name}_RH_derived', \n",
    "                                                              ls='None', marker='o', ms=1., alpha=0.5)    \n",
    "plt.gca().set_prop_cycle(None)\n",
    "\n",
    "for PIPS_name in PIPS_to_comp:\n",
    "    conv_ds = conv_ds_dict[PIPS_name]\n",
    "    conv_ds['RH_derived_corrected'].sel(time=slice(time_start, time_stop)).plot(ax=ax, label=f'{PIPS_name}_RH_derived_cor', \n",
    "                                                                    ls='None', marker='x', ms=5., alpha=0.75)\n",
    "    \n",
    "ax.legend()"
   ]
  },
  {
   "cell_type": "code",
   "execution_count": null,
   "metadata": {},
   "outputs": [],
   "source": [
    "# Plot the timeseries of dewpoint\n",
    "fig, ax = plt.subplots()\n",
    "\n",
    "for PIPS_name in PIPS_to_comp:\n",
    "    conv_ds = conv_ds_dict[PIPS_name]\n",
    "    conv_ds['dewpoint_corrected'].sel(time=slice(time_start, time_stop)).plot(ax=ax, label=f'{PIPS_name}_dewpoint'), \n",
    "\n",
    "ax.legend()"
   ]
  },
  {
   "cell_type": "code",
   "execution_count": null,
   "metadata": {},
   "outputs": [],
   "source": [
    "# Now resample the corrected slowtemp, dewpoint, and RH_derived to the parsivel times\n",
    "\n",
    "\n",
    "\n",
    "for PIPS_name in PIPS_to_comp:\n",
    "    PSD_datetimes = pips.get_PSD_datetimes(parsivel_ds_dict[PIPS_name]['VD_matrix'])\n",
    "    sec_offset = PSD_datetimes[0].second\n",
    "    print(sec_offset)\n",
    "    offset_str = pips.get_interval_str(sec_offset)\n",
    "    \n",
    "    slowtemp_corrected = conv_ds_dict[PIPS_name]['slowtemp_corrected']\n",
    "    new_slowtemp = slowtemp_corrected.resample(time=intervalstr, label='right', closed='right', \n",
    "                                               offset=offset_str).mean()\n",
    "    dewpoint_corrected = conv_ds_dict[PIPS_name]['dewpoint_corrected']\n",
    "    new_dewpoint = dewpoint_corrected.resample(time=intervalstr, label='right', closed='right', \n",
    "                                               offset=offset_str).mean()\n",
    "    RH_derived_corrected = conv_ds_dict[PIPS_name]['RH_derived_corrected']\n",
    "    new_RH_derived = RH_derived_corrected.resample(time=intervalstr, label='right', closed='right', \n",
    "                                                   offset=offset_str).mean()\n",
    "    \n",
    "    parsivel_ds_dict[PIPS_name]['slowtemp_corrected'] = new_slowtemp\n",
    "    parsivel_ds_dict[PIPS_name]['dewpoint_corrected'] = new_dewpoint\n",
    "    parsivel_ds_dict[PIPS_name]['RH_derived_corrected'] = new_RH_derived\n"
   ]
  },
  {
   "cell_type": "code",
   "execution_count": null,
   "metadata": {},
   "outputs": [],
   "source": [
    "fig, ax = plt.subplots()\n",
    "\n",
    "for PIPS_name in PIPS_to_comp:\n",
    "    parsivel_ds_dict[PIPS_name]['RH_derived_corrected'].plot(ax=ax, label=f'{PIPS_name}_RH_derived_corrected', \n",
    "                                                             ls='None', marker='o', ms=1., alpha=0.75)\n",
    "    parsivel_ds_dict[PIPS_name]['RH_derived'].plot(ax=ax, label=f'{PIPS_name}_RH_derived', \n",
    "                                                   ls='None', marker='x', ms=5., alpha=0.5)\n",
    "    \n",
    "ax.legend()"
   ]
  },
  {
   "cell_type": "code",
   "execution_count": null,
   "metadata": {},
   "outputs": [],
   "source": [
    "# Now save to new output directory\n",
    "for PIPS_name, output_parsivel_filepath, output_conv_filepath in zip(PIPS_names, \n",
    "                                                                     output_parsivel_filepaths, \n",
    "                                                                     output_conv_filepaths):\n",
    "    if PIPS_name in PIPS_to_comp:\n",
    "        print(PIPS_name)\n",
    "        \n",
    "        \n",
    "        print(\"Saving {}\".format(output_parsivel_filepath))\n",
    "        parsivel_ds_dict[PIPS_name].to_netcdf(output_parsivel_filepath)\n",
    "        print(\"Saving {}\".format(output_conv_filepath))\n",
    "        conv_ds_dict[PIPS_name].to_netcdf(output_conv_filepath)"
   ]
  },
  {
   "cell_type": "code",
   "execution_count": null,
   "metadata": {},
   "outputs": [],
   "source": []
  }
 ],
 "metadata": {
  "anaconda-cloud": {},
  "hide_input": false,
  "kernelspec": {
   "display_name": "Python [conda env:pyPIPS]",
   "language": "python",
   "name": "conda-env-pyPIPS-py"
  },
  "language_info": {
   "codemirror_mode": {
    "name": "ipython",
    "version": 3
   },
   "file_extension": ".py",
   "mimetype": "text/x-python",
   "name": "python",
   "nbconvert_exporter": "python",
   "pygments_lexer": "ipython3",
   "version": "3.10.13"
  },
  "toc": {
   "base_numbering": 1,
   "nav_menu": {},
   "number_sections": true,
   "sideBar": true,
   "skip_h1_title": false,
   "title_cell": "Table of Contents",
   "title_sidebar": "Contents",
   "toc_cell": false,
   "toc_position": {},
   "toc_section_display": true,
   "toc_window_display": false
  },
  "varInspector": {
   "cols": {
    "lenName": 16,
    "lenType": 16,
    "lenVar": 40
   },
   "kernels_config": {
    "python": {
     "delete_cmd_postfix": "",
     "delete_cmd_prefix": "del ",
     "library": "var_list.py",
     "varRefreshCmd": "print(var_dic_list())"
    },
    "r": {
     "delete_cmd_postfix": ") ",
     "delete_cmd_prefix": "rm(",
     "library": "var_list.r",
     "varRefreshCmd": "cat(var_dic_list()) "
    }
   },
   "types_to_exclude": [
    "module",
    "function",
    "builtin_function_or_method",
    "instance",
    "_Feature"
   ],
   "window_display": false
  }
 },
 "nbformat": 4,
 "nbformat_minor": 2
}
