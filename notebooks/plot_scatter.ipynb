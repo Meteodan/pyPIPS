{
 "cells": [
  {
   "cell_type": "markdown",
   "metadata": {},
   "source": [
    "# A notebook to make some scatter plots from PIPS data"
   ]
  },
  {
   "cell_type": "code",
   "execution_count": 1,
   "metadata": {
    "ExecuteTime": {
     "end_time": "2020-11-02T22:38:37.888564Z",
     "start_time": "2020-11-02T22:38:35.209362Z"
    }
   },
   "outputs": [
    {
     "name": "stdout",
     "output_type": "stream",
     "text": [
      "\n",
      "## You are using the Python ARM Radar Toolkit (Py-ART), an open source\n",
      "## library for working with weather radar data. Py-ART is partly\n",
      "## supported by the U.S. Department of Energy as part of the Atmospheric\n",
      "## Radiation Measurement (ARM) Climate Research Facility, an Office of\n",
      "## Science user facility.\n",
      "##\n",
      "## If you use this software to prepare a publication, please cite:\n",
      "##\n",
      "##     JJ Helmus and SM Collis, JORS 2016, doi: 10.5334/jors.119\n",
      "\n"
     ]
    }
   ],
   "source": [
    "%load_ext autoreload\n",
    "%autoreload 2\n",
    "import numpy as np\n",
    "import numpy.ma as ma\n",
    "import matplotlib\n",
    "import matplotlib.pyplot as plt\n",
    "import matplotlib.cm as cm\n",
    "import matplotlib.ticker as ticker\n",
    "import matplotlib.dates as dates\n",
    "import matplotlib.colors as colors\n",
    "from mpl_toolkits.axes_grid1 import ImageGrid,make_axes_locatable,host_subplot\n",
    "#from mpl_toolkits.basemap import Basemap\n",
    "from datetime import datetime, timedelta\n",
    "import sys\n",
    "import os\n",
    "import pyPIPS.utils as utils\n",
    "import pyPIPS.thermolib as thermo\n",
    "import pyPIPS.DSDlib as dsd\n",
    "#import pyPIPS.disdrometer_module as dis\n",
    "import pyPIPS.plotmodule as PIPSplot\n",
    "#import pyPIPS.simulator as sim\n",
    "import pyPIPS.pips_io as pipsio\n",
    "import pyPIPS.PIPS as pips\n",
    "import pyPIPS.parsivel_params as pp\n",
    "import pyPIPS.parsivel_qc as pqc\n",
    "import pyPIPS.polarimetric as dualpol\n",
    "#from pyCRMtools.modules import plotmodule as plotmod\n",
    "from pyCRMtools.modules import utils as CRMutils\n",
    "#from pyCRMtools.pycaps import arps_read\n",
    "#from pyCRMtools.pycaps import pycaps_fields\n",
    "#from pyCRMtools.pycaps import calvars_radar as radar\n",
    "import pandas as pd\n",
    "import xarray as xr\n",
    "import glob\n",
    "import numpy.random as random\n",
    "from scipy.stats import gamma, uniform\n",
    "from scipy.special import gamma as gammafunc\n",
    "from scipy import ndimage\n",
    "from metpy.plots import StationPlot\n",
    "from metpy.calc import wind_components\n",
    "from metpy.cbook import get_test_data\n",
    "from metpy.plots import StationPlot\n",
    "import matplotlib.colors as colors\n",
    "from metpy.plots.wx_symbols import current_weather, sky_cover\n",
    "from metpy.units import units\n",
    "import matplotlib.colors as colors\n",
    "import warnings\n",
    "warnings.simplefilter('ignore')\n",
    "%matplotlib inline"
   ]
  },
  {
   "cell_type": "code",
   "execution_count": 2,
   "metadata": {
    "ExecuteTime": {
     "end_time": "2020-11-02T22:38:56.070805Z",
     "start_time": "2020-11-02T22:38:38.095530Z"
    },
    "code_folding": [],
    "scrolled": true
   },
   "outputs": [],
   "source": [
    "#from natsort import natsorted\n",
    "from pprint import pprint\n",
    "\n",
    "def remove_unneeded(ds):\n",
    "    dim_names_to_remove = ['fields_KHTX', 'fields_KGWX', 'fields']\n",
    "    ds = ds.drop_dims(dim_names_to_remove, errors='ignore')\n",
    "    return ds\n",
    "#\n",
    "\n",
    "# ND_tag = '_qc'\n",
    "# rename_dict = {\n",
    "#     'Dm43': 'Dm43_qc',\n",
    "#     'sigma': 'sigma_qc',\n",
    "#     'DSD_MM24': 'DSD_MM24_qc',\n",
    "#     'DSD_MM36': 'DSD_MM36_qc',\n",
    "#     'DSD_MM346': 'DSD_MM346_qc',\n",
    "#     'DSD_MM246': 'DSD_MM246_qc',\n",
    "#     'DSD_MM234': 'DSD_MM234_qc',\n",
    "#     'DSD_TMM246': 'DSD_TMM246_qc',\n",
    "# }\n",
    "\n",
    "# rename_dict = {\n",
    "#     ''\n",
    "# }\n",
    "\n",
    "PIPS_dir = '/Volumes/scr_fast/Projects/VORTEXSE/obsdata/full_PIPS_dataset_RB15/'\n",
    "parsivel_filenames = glob.glob(PIPS_dir + '/parsivel_combined*60s*nc')\n",
    "# for parsivel_filename in parsivel_filenames[:1]:\n",
    "#     parsivel_ds = xr.load_dataset(parsivel_filename)\n",
    "# # #     varlist = [k for k, v in parsivel_ds.items()]\n",
    "# # #     vars_to_rename = [var for var in varlist if any(x in var for x in ['_retr_SATP_RB15_qc'])]\n",
    "# # #     new_varnames = [var.replace('SATP_RB15', 'SATP_TMM_RB15') for var in vars_to_rename]\n",
    "# # #     rename_dict = {varname: newvarname for varname, newvarname in zip(vars_to_rename, new_varnames)}\n",
    "# # #     # Rename some variables (one-time-only)\n",
    "# # #     parsivel_ds = parsivel_ds.rename(rename_dict)\n",
    "#     for retr_name in ['SATP_TMM', 'C08', 'Z01', 'TMM_F']:\n",
    "#         varname_old = 'Dm_retr_{}{}'.format(retr_name, ND_tag)\n",
    "#         varname_new = 'Dm43_retr_{}{}'.format(retr_name, ND_tag)\n",
    "#         parsivel_ds = parsivel_ds.rename({varname_old: varname_new})\n",
    "# # # #     # Next, remove all CG_coeff attributes\n",
    "# # # #     attr_names = parsivel_ds.attrs.copy()\n",
    "# # # #     for attr_name in attr_names:\n",
    "# # # #         if 'CG_coeff' in attr_name:\n",
    "# # # #             del parsivel_ds.attrs[attr_name]\n",
    "# # # #     # Save back to file\n",
    "#     parsivel_ds.to_netcdf(parsivel_filename)\n",
    "    \n",
    "    \n",
    "#     print(parsivel_filename)\n",
    "#     print(parsivel_ds['RR_retr_Z01_RB15_qc'])\n",
    "    # print(\"Number of times in {} = {:d}\".format(os.path.basename(parsivel_filename), parsivel_ds.sizes['time']))\n",
    "parsivel_ds_read = xr.open_mfdataset(parsivel_filenames, combine='nested', concat_dim=\"time\", \n",
    "                                     data_vars='minimal', coords='minimal', compat='override', parallel=True)\n",
    "# parsivel_ds_read = xr.open_mfdataset(parsivel_filenames, combine='nested', concat_dim='time',\n",
    "#                                      preprocess=pipsio.remove_unneeded) #, combine='nested', concat_dim='time')\n",
    "# # parsivel_ds_read = xr.open_mfdataset(parsivel_filenames, combine='by_coords', concat_dim='time',\n",
    "# #                                      preprocess=pipsio.remove_unneeded)\n",
    "\n",
    "# print(parsivel_ds_read)"
   ]
  },
  {
   "cell_type": "code",
   "execution_count": 3,
   "metadata": {
    "ExecuteTime": {
     "end_time": "2020-11-02T22:38:56.498113Z",
     "start_time": "2020-11-02T22:38:56.433250Z"
    }
   },
   "outputs": [],
   "source": [
    "ND_tag = '_RB15_qc'"
   ]
  },
  {
   "cell_type": "code",
   "execution_count": 4,
   "metadata": {
    "ExecuteTime": {
     "end_time": "2020-11-02T22:38:57.405791Z",
     "start_time": "2020-11-02T22:38:56.851525Z"
    }
   },
   "outputs": [],
   "source": [
    "# Filter on RR > 0.1 mm/h\n",
    "parsivel_ds = parsivel_ds_read.where(parsivel_ds_read['rainrate_derived{}'.format(ND_tag)] > 0.1, drop=True)\n",
    "filter_tag = ''\n",
    "# Filter on RR > 5 and counts > 1000\n",
    "# parsivel_ds = parsivel_ds_read.where((parsivel_ds_read['rainrate_derived{}'.format(ND_tag)] > 5.0) &\n",
    "#                                       (parsivel_ds_read['pcount_derived{}'.format(ND_tag)] > 1000), drop=True)\n",
    "# filter_tag = 'RR5pcount1000'\n",
    "# print(parsivel_ds)\n",
    "# Drop all times with DSD particle counts < 50\n",
    "# parsivel_ds = parsivel_ds_read.where(parsivel_ds_read['pcount_derived_qc'] >= 50, drop=True)\n",
    "# print(parsivel_ds)"
   ]
  },
  {
   "cell_type": "code",
   "execution_count": 5,
   "metadata": {
    "ExecuteTime": {
     "end_time": "2020-11-02T22:38:59.383326Z",
     "start_time": "2020-11-02T22:38:58.342142Z"
    },
    "scrolled": true
   },
   "outputs": [],
   "source": [
    "# Filter on ZDR > 0.1 for now (Guifu's retrieval code uses their own empirical fits for ZDR < 0.1, so we need\n",
    "# to compute our own since we get weird artifacts using theirs)\n",
    "ND = parsivel_ds['ND{}'.format(ND_tag)]\n",
    "dD = pp.parsivel_parameters['max_diameter_bins_mm'] - pp.parsivel_parameters['min_diameter_bins_mm']\n",
    "dualpol_dict = dualpol.calpolrain(10.7, '/Users/dawson29/Projects/pyPIPS/tmatrix/S-Band/SCTT_RAIN_fw100.dat',\n",
    "                                  ND, dD)\n",
    "ZH = dualpol_dict['ZH']\n",
    "ZDR = dualpol_dict['ZDR']\n",
    "parsivel_ds = parsivel_ds.where(ZDR > 0.1)"
   ]
  },
  {
   "cell_type": "code",
   "execution_count": 6,
   "metadata": {
    "ExecuteTime": {
     "end_time": "2020-11-02T22:39:05.791881Z",
     "start_time": "2020-11-02T22:39:02.811410Z"
    }
   },
   "outputs": [
    {
     "name": "stdout",
     "output_type": "stream",
     "text": [
      "<xarray.Dataset>\n",
      "Dimensions:                              (diameter_bin: 32, fallspeed_bin: 32, fields_KGWX: 84, fields_KHTX: 67, parameter: 3, time: 5724)\n",
      "Coordinates:\n",
      "  * fields_KHTX                          (fields_KHTX) object 'D0_C08' ... 's...\n",
      "  * fields_KGWX                          (fields_KGWX) object 'D0_C08' ... 's...\n",
      "  * time                                 (time) datetime64[ns] 2017-03-25T08:...\n",
      "    fallspeed                            (fallspeed_bin) float64 dask.array<chunksize=(32,), meta=np.ndarray>\n",
      "    diameter                             (diameter_bin) float64 0.0625 ... 24.5\n",
      "    min_diameter                         (diameter_bin) float64 0.0 ... 23.0\n",
      "    max_diameter                         (diameter_bin) float64 0.125 ... 26.0\n",
      "    min_fallspeeds                       (fallspeed_bin) float64 dask.array<chunksize=(32,), meta=np.ndarray>\n",
      "    max_fallspeeds                       (fallspeed_bin) float64 dask.array<chunksize=(32,), meta=np.ndarray>\n",
      "  * parameter                            (parameter) object 'N0' 'lamda' 'alpha'\n",
      "  * fallspeed_bin                        (fallspeed_bin) float64 0.05 ... 20.8\n",
      "  * diameter_bin                         (diameter_bin) float64 0.0625 ... 24.5\n",
      "    flagged_times                        (time) int64 0 0 0 0 0 0 ... 0 0 0 0 0\n",
      "Data variables:\n",
      "    precipintensity                      (time) float64 dask.array<chunksize=(75,), meta=np.ndarray>\n",
      "    precipaccum                          (time) float64 dask.array<chunksize=(75,), meta=np.ndarray>\n",
      "    parsivel_dBZ                         (time) float64 dask.array<chunksize=(75,), meta=np.ndarray>\n",
      "    pcount                               (time) float64 dask.array<chunksize=(75,), meta=np.ndarray>\n",
      "    signal_amplitude                     (time) float64 dask.array<chunksize=(75,), meta=np.ndarray>\n",
      "    pvoltage                             (time) float64 dask.array<chunksize=(75,), meta=np.ndarray>\n",
      "    sensor_temp                          (time) float64 dask.array<chunksize=(75,), meta=np.ndarray>\n",
      "    sample_interval                      (time) timedelta64[ns] dask.array<chunksize=(75,), meta=np.ndarray>\n",
      "    windspd                              (time) float64 dask.array<chunksize=(75,), meta=np.ndarray>\n",
      "    windspdavgvec                        (time) float64 dask.array<chunksize=(75,), meta=np.ndarray>\n",
      "    winddirabs                           (time) float64 dask.array<chunksize=(75,), meta=np.ndarray>\n",
      "    winddirunitavgvec                    (time) float64 dask.array<chunksize=(75,), meta=np.ndarray>\n",
      "    windgust                             (time) float64 dask.array<chunksize=(75,), meta=np.ndarray>\n",
      "    uavg                                 (time) float64 dask.array<chunksize=(75,), meta=np.ndarray>\n",
      "    vavg                                 (time) float64 dask.array<chunksize=(75,), meta=np.ndarray>\n",
      "    unit_uavg                            (time) float64 dask.array<chunksize=(75,), meta=np.ndarray>\n",
      "    unit_vavg                            (time) float64 dask.array<chunksize=(75,), meta=np.ndarray>\n",
      "    compass_dir                          (time) float64 dask.array<chunksize=(75,), meta=np.ndarray>\n",
      "    winddiag                             (time) float64 dask.array<chunksize=(75,), meta=np.ndarray>\n",
      "    fasttemp                             (time) float64 dask.array<chunksize=(75,), meta=np.ndarray>\n",
      "    slowtemp                             (time) float64 dask.array<chunksize=(75,), meta=np.ndarray>\n",
      "    RH                                   (time) float64 dask.array<chunksize=(75,), meta=np.ndarray>\n",
      "    RH_derived                           (time) float64 dask.array<chunksize=(75,), meta=np.ndarray>\n",
      "    pressure                             (time) float64 dask.array<chunksize=(75,), meta=np.ndarray>\n",
      "    GPS_lat                              (time) float64 dask.array<chunksize=(75,), meta=np.ndarray>\n",
      "    GPS_lon                              (time) float64 dask.array<chunksize=(75,), meta=np.ndarray>\n",
      "    GPS_alt                              (time) float64 dask.array<chunksize=(75,), meta=np.ndarray>\n",
      "    voltage                              (time) float64 dask.array<chunksize=(75,), meta=np.ndarray>\n",
      "    dewpoint                             (time) float64 dask.array<chunksize=(75,), meta=np.ndarray>\n",
      "    rho                                  (time) float64 dask.array<chunksize=(75,), meta=np.ndarray>\n",
      "    VD_matrix                            (time, fallspeed_bin, diameter_bin) float64 dask.array<chunksize=(75, 32, 32), meta=np.ndarray>\n",
      "    VD_matrix_qc                         (time, fallspeed_bin, diameter_bin) float64 dask.array<chunksize=(75, 32, 32), meta=np.ndarray>\n",
      "    ND_qc                                (time, diameter_bin) float64 dask.array<chunksize=(75, 32), meta=np.ndarray>\n",
      "    rainrate_derived_qc                  (time) float64 dask.array<chunksize=(75,), meta=np.ndarray>\n",
      "    pcount_derived_qc                    (time) float64 dask.array<chunksize=(75,), meta=np.ndarray>\n",
      "    reflectivity_derived_qc              (time) float64 dask.array<chunksize=(75,), meta=np.ndarray>\n",
      "    DSD_MM24_qc                          (parameter, time) float64 dask.array<chunksize=(3, 75), meta=np.ndarray>\n",
      "    DSD_MM36_qc                          (parameter, time) float64 dask.array<chunksize=(3, 75), meta=np.ndarray>\n",
      "    DSD_MM346_qc                         (parameter, time) float64 dask.array<chunksize=(3, 75), meta=np.ndarray>\n",
      "    DSD_MM246_qc                         (parameter, time) float64 dask.array<chunksize=(3, 75), meta=np.ndarray>\n",
      "    DSD_MM234_qc                         (parameter, time) float64 dask.array<chunksize=(3, 75), meta=np.ndarray>\n",
      "    DSD_TMM246_qc                        (parameter, time) float64 dask.array<chunksize=(3, 75), meta=np.ndarray>\n",
      "    Dm43_qc                              (time) float64 dask.array<chunksize=(75,), meta=np.ndarray>\n",
      "    sigma_qc                             (time) float64 dask.array<chunksize=(75,), meta=np.ndarray>\n",
      "    VD_matrix_RB15_vshift                (time, fallspeed_bin, diameter_bin) float64 dask.array<chunksize=(75, 32, 32), meta=np.ndarray>\n",
      "    VD_matrix_RB15_vshift_qc             (time, fallspeed_bin, diameter_bin) float64 dask.array<chunksize=(75, 32, 32), meta=np.ndarray>\n",
      "    ND_RB15_vshift_qc                    (time, diameter_bin) float64 dask.array<chunksize=(75, 32), meta=np.ndarray>\n",
      "    ND_RB15_qc                           (time, diameter_bin) float64 0.0 ......\n",
      "    rainrate_derived_RB15_qc             (time) float64 dask.array<chunksize=(75,), meta=np.ndarray>\n",
      "    pcount_derived_RB15_qc               (time) float64 dask.array<chunksize=(75,), meta=np.ndarray>\n",
      "    reflectivity_derived_RB15_qc         (time) float64 dask.array<chunksize=(75,), meta=np.ndarray>\n",
      "    rainrate_derived_RB15_vshift_qc      (time) float64 dask.array<chunksize=(75,), meta=np.ndarray>\n",
      "    pcount_derived_RB15_vshift_qc        (time) float64 dask.array<chunksize=(75,), meta=np.ndarray>\n",
      "    reflectivity_derived_RB15_vshift_qc  (time) float64 dask.array<chunksize=(75,), meta=np.ndarray>\n",
      "    DSD_MM24_RB15_qc                     (parameter, time) float64 dask.array<chunksize=(3, 75), meta=np.ndarray>\n",
      "    DSD_MM36_RB15_qc                     (parameter, time) float64 dask.array<chunksize=(3, 75), meta=np.ndarray>\n",
      "    DSD_MM346_RB15_qc                    (parameter, time) float64 dask.array<chunksize=(3, 75), meta=np.ndarray>\n",
      "    DSD_MM246_RB15_qc                    (parameter, time) float64 dask.array<chunksize=(3, 75), meta=np.ndarray>\n",
      "    DSD_MM234_RB15_qc                    (parameter, time) float64 dask.array<chunksize=(3, 75), meta=np.ndarray>\n",
      "    DSD_TMM246_RB15_qc                   (parameter, time) float64 dask.array<chunksize=(3, 75), meta=np.ndarray>\n",
      "    Dm43_RB15_qc                         (time) float64 dask.array<chunksize=(75,), meta=np.ndarray>\n",
      "    sigma_RB15_qc                        (time) float64 dask.array<chunksize=(75,), meta=np.ndarray>\n",
      "    DSD_MM24_RB15_vshift_qc              (parameter, time) float64 dask.array<chunksize=(3, 75), meta=np.ndarray>\n",
      "    DSD_MM36_RB15_vshift_qc              (parameter, time) float64 dask.array<chunksize=(3, 75), meta=np.ndarray>\n",
      "    DSD_MM346_RB15_vshift_qc             (parameter, time) float64 dask.array<chunksize=(3, 75), meta=np.ndarray>\n",
      "    DSD_MM246_RB15_vshift_qc             (parameter, time) float64 dask.array<chunksize=(3, 75), meta=np.ndarray>\n",
      "    DSD_MM234_RB15_vshift_qc             (parameter, time) float64 dask.array<chunksize=(3, 75), meta=np.ndarray>\n",
      "    DSD_TMM246_RB15_vshift_qc            (parameter, time) float64 dask.array<chunksize=(3, 75), meta=np.ndarray>\n",
      "    Dm43_RB15_vshift_qc                  (time) float64 dask.array<chunksize=(75,), meta=np.ndarray>\n",
      "    sigma_RB15_vshift_qc                 (time) float64 dask.array<chunksize=(75,), meta=np.ndarray>\n",
      "    RR_retr_Z01_RB15_qc                  (time) float64 dask.array<chunksize=(75,), meta=np.ndarray>\n",
      "    D0_retr_Z01_RB15_qc                  (time) float64 1.95 1.7 ... 1.168 1.106\n",
      "    mu_retr_Z01_RB15_qc                  (time) float64 dask.array<chunksize=(75,), meta=np.ndarray>\n",
      "    lamda_retr_Z01_RB15_qc               (time) float64 dask.array<chunksize=(75,), meta=np.ndarray>\n",
      "    N0_retr_Z01_RB15_qc                  (time) float64 dask.array<chunksize=(75,), meta=np.ndarray>\n",
      "    Nt_retr_Z01_RB15_qc                  (time) float64 dask.array<chunksize=(75,), meta=np.ndarray>\n",
      "    W_retr_Z01_RB15_qc                   (time) float64 dask.array<chunksize=(75,), meta=np.ndarray>\n",
      "    sigma_retr_Z01_RB15_qc               (time) float64 dask.array<chunksize=(75,), meta=np.ndarray>\n",
      "    Dm43_retr_Z01_RB15_qc                (time) float64 dask.array<chunksize=(75,), meta=np.ndarray>\n",
      "    ND_retr_Z01_RB15_qc                  (time, diameter_bin) float64 0.0 ......\n",
      "    RR_retr_C08_RB15_qc                  (time) float64 dask.array<chunksize=(75,), meta=np.ndarray>\n",
      "    D0_retr_C08_RB15_qc                  (time) float64 1.825 1.547 ... 0.9494\n",
      "    mu_retr_C08_RB15_qc                  (time) float64 dask.array<chunksize=(75,), meta=np.ndarray>\n",
      "    lamda_retr_C08_RB15_qc               (time) float64 dask.array<chunksize=(75,), meta=np.ndarray>\n",
      "    N0_retr_C08_RB15_qc                  (time) float64 dask.array<chunksize=(75,), meta=np.ndarray>\n",
      "    Nt_retr_C08_RB15_qc                  (time) float64 dask.array<chunksize=(75,), meta=np.ndarray>\n",
      "    W_retr_C08_RB15_qc                   (time) float64 dask.array<chunksize=(75,), meta=np.ndarray>\n",
      "    sigma_retr_C08_RB15_qc               (time) float64 dask.array<chunksize=(75,), meta=np.ndarray>\n",
      "    Dm43_retr_C08_RB15_qc                (time) float64 dask.array<chunksize=(75,), meta=np.ndarray>\n",
      "    ND_retr_C08_RB15_qc                  (time, diameter_bin) float64 0.0 ......\n",
      "    RR_retr_TMM_F_RB15_qc                (time) float64 dask.array<chunksize=(75,), meta=np.ndarray>\n",
      "    D0_retr_TMM_F_RB15_qc                (time) float64 1.99 1.775 ... 1.138\n",
      "    mu_retr_TMM_F_RB15_qc                (time) float64 dask.array<chunksize=(75,), meta=np.ndarray>\n",
      "    lamda_retr_TMM_F_RB15_qc             (time) float64 dask.array<chunksize=(75,), meta=np.ndarray>\n",
      "    N0_retr_TMM_F_RB15_qc                (time) float64 dask.array<chunksize=(75,), meta=np.ndarray>\n",
      "    Nt_retr_TMM_F_RB15_qc                (time) float64 dask.array<chunksize=(75,), meta=np.ndarray>\n",
      "    W_retr_TMM_F_RB15_qc                 (time) float64 dask.array<chunksize=(75,), meta=np.ndarray>\n",
      "    sigma_retr_TMM_F_RB15_qc             (time) float64 dask.array<chunksize=(75,), meta=np.ndarray>\n",
      "    Dm43_retr_TMM_F_RB15_qc              (time) float64 dask.array<chunksize=(75,), meta=np.ndarray>\n",
      "    ND_retr_TMM_F_RB15_qc                (time, diameter_bin) float64 0.0 ......\n",
      "    RR_retr_SATP_TMM_RB15_qc             (time) float64 dask.array<chunksize=(75,), meta=np.ndarray>\n",
      "    D0_retr_SATP_TMM_RB15_qc             (time) float64 1.969 1.763 ... 1.102\n",
      "    mu_retr_SATP_TMM_RB15_qc             (time) float64 dask.array<chunksize=(75,), meta=np.ndarray>\n",
      "    lamda_retr_SATP_TMM_RB15_qc          (time) float64 dask.array<chunksize=(75,), meta=np.ndarray>\n",
      "    N0_retr_SATP_TMM_RB15_qc             (time) float64 dask.array<chunksize=(75,), meta=np.ndarray>\n",
      "    Nt_retr_SATP_TMM_RB15_qc             (time) float64 dask.array<chunksize=(75,), meta=np.ndarray>\n",
      "    W_retr_SATP_TMM_RB15_qc              (time) float64 dask.array<chunksize=(75,), meta=np.ndarray>\n",
      "    sigma_retr_SATP_TMM_RB15_qc          (time) float64 dask.array<chunksize=(75,), meta=np.ndarray>\n",
      "    Dm43_retr_SATP_TMM_RB15_qc           (time) float64 dask.array<chunksize=(75,), meta=np.ndarray>\n",
      "    ND_retr_SATP_TMM_RB15_qc             (time, diameter_bin) float64 0.0 ......\n",
      "    RR_retr_SATP_TMM_qc                  (time) float64 dask.array<chunksize=(75,), meta=np.ndarray>\n",
      "    D0_retr_SATP_TMM_qc                  (time) float64 dask.array<chunksize=(75,), meta=np.ndarray>\n",
      "    mu_retr_SATP_TMM_qc                  (time) float64 dask.array<chunksize=(75,), meta=np.ndarray>\n",
      "    lamda_retr_SATP_TMM_qc               (time) float64 dask.array<chunksize=(75,), meta=np.ndarray>\n",
      "    N0_retr_SATP_TMM_qc                  (time) float64 dask.array<chunksize=(75,), meta=np.ndarray>\n",
      "    Nt_retr_SATP_TMM_qc                  (time) float64 dask.array<chunksize=(75,), meta=np.ndarray>\n",
      "    W_retr_SATP_TMM_qc                   (time) float64 dask.array<chunksize=(75,), meta=np.ndarray>\n",
      "    sigma_retr_SATP_TMM_qc               (time) float64 dask.array<chunksize=(75,), meta=np.ndarray>\n",
      "    Dm43_retr_SATP_TMM_qc                (time) float64 dask.array<chunksize=(75,), meta=np.ndarray>\n",
      "    ND_retr_SATP_TMM_qc                  (time, diameter_bin) float64 dask.array<chunksize=(75, 32), meta=np.ndarray>\n",
      "    RR_retr_TMM_F_qc                     (time) float64 dask.array<chunksize=(75,), meta=np.ndarray>\n",
      "    D0_retr_TMM_F_qc                     (time) float64 dask.array<chunksize=(75,), meta=np.ndarray>\n",
      "    mu_retr_TMM_F_qc                     (time) float64 dask.array<chunksize=(75,), meta=np.ndarray>\n",
      "    lamda_retr_TMM_F_qc                  (time) float64 dask.array<chunksize=(75,), meta=np.ndarray>\n",
      "    N0_retr_TMM_F_qc                     (time) float64 dask.array<chunksize=(75,), meta=np.ndarray>\n",
      "    Nt_retr_TMM_F_qc                     (time) float64 dask.array<chunksize=(75,), meta=np.ndarray>\n",
      "    W_retr_TMM_F_qc                      (time) float64 dask.array<chunksize=(75,), meta=np.ndarray>\n",
      "    sigma_retr_TMM_F_qc                  (time) float64 dask.array<chunksize=(75,), meta=np.ndarray>\n",
      "    Dm43_retr_TMM_F_qc                   (time) float64 dask.array<chunksize=(75,), meta=np.ndarray>\n",
      "    ND_retr_TMM_F_qc                     (time, diameter_bin) float64 dask.array<chunksize=(75, 32), meta=np.ndarray>\n",
      "    RR_retr_C08_qc                       (time) float64 dask.array<chunksize=(75,), meta=np.ndarray>\n",
      "    D0_retr_C08_qc                       (time) float64 dask.array<chunksize=(75,), meta=np.ndarray>\n",
      "    mu_retr_C08_qc                       (time) float64 dask.array<chunksize=(75,), meta=np.ndarray>\n",
      "    lamda_retr_C08_qc                    (time) float64 dask.array<chunksize=(75,), meta=np.ndarray>\n",
      "    N0_retr_C08_qc                       (time) float64 dask.array<chunksize=(75,), meta=np.ndarray>\n",
      "    Nt_retr_C08_qc                       (time) float64 dask.array<chunksize=(75,), meta=np.ndarray>\n",
      "    W_retr_C08_qc                        (time) float64 dask.array<chunksize=(75,), meta=np.ndarray>\n",
      "    sigma_retr_C08_qc                    (time) float64 dask.array<chunksize=(75,), meta=np.ndarray>\n",
      "    Dm43_retr_C08_qc                     (time) float64 dask.array<chunksize=(75,), meta=np.ndarray>\n",
      "    ND_retr_C08_qc                       (time, diameter_bin) float64 dask.array<chunksize=(75, 32), meta=np.ndarray>\n",
      "    RR_retr_Z01_qc                       (time) float64 dask.array<chunksize=(75,), meta=np.ndarray>\n",
      "    D0_retr_Z01_qc                       (time) float64 dask.array<chunksize=(75,), meta=np.ndarray>\n",
      "    mu_retr_Z01_qc                       (time) float64 dask.array<chunksize=(75,), meta=np.ndarray>\n",
      "    lamda_retr_Z01_qc                    (time) float64 dask.array<chunksize=(75,), meta=np.ndarray>\n",
      "    N0_retr_Z01_qc                       (time) float64 dask.array<chunksize=(75,), meta=np.ndarray>\n",
      "    Nt_retr_Z01_qc                       (time) float64 dask.array<chunksize=(75,), meta=np.ndarray>\n",
      "    W_retr_Z01_qc                        (time) float64 dask.array<chunksize=(75,), meta=np.ndarray>\n",
      "    sigma_retr_Z01_qc                    (time) float64 dask.array<chunksize=(75,), meta=np.ndarray>\n",
      "    Dm43_retr_Z01_qc                     (time) float64 dask.array<chunksize=(75,), meta=np.ndarray>\n",
      "    ND_retr_Z01_qc                       (time, diameter_bin) float64 dask.array<chunksize=(75, 32), meta=np.ndarray>\n",
      "Attributes:\n",
      "    probe_name:                        PIPS2A\n",
      "    parsivel_angle:                    -45.0\n",
      "    deployment_name:                   FMCW_2017_032417\n",
      "    location:                          (34.68713246511995, -86.0048678510731,...\n",
      "    starting_time:                     20170324165820\n",
      "    ending_time:                       20170325000020\n",
      "    DSD_interval:                      60.0\n",
      "    strongwindQC:                      1\n",
      "    splashingQC:                       1\n",
      "    marginQC:                          1\n",
      "    rainfallQC:                        1\n",
      "    rainonlyQC:                        1\n",
      "    hailonlyQC:                        0\n",
      "    graupelonlyQC:                     0\n",
      "    basicQC:                           0\n",
      "    Filter_for_MM_F_and_TMM_F_fits:    ['RR_filter_5mm', 'counts_filter_1000']\n",
      "    retrieval_wavelength:              10.7\n",
      "    CG_coeff_Z01:                      [-1.957  1.213 -0.016]\n",
      "    CG_coeff_C08:                      [-1.718   0.902  -0.0201]\n",
      "    CG_coeff_TMM_qc:                   [-2.29235944  1.06708171 -0.01557723]\n",
      "    CG_coeff_MM_qc:                    [-1.44688755  0.94004475 -0.00961485]\n",
      "    CG_coeff_TMM_F_qc:                 [-2.30542388  1.15085961 -0.01662427]\n",
      "    CG_coeff_MM_F_qc:                  [-1.75041249  1.07590895 -0.01361414]\n",
      "    CG_coeff_SATP_TMM_qc:              [-2.25678432  1.11231431 -0.02114548]\n",
      "    CG_coeff_SATP_MM_qc:               [-1.31554481  0.93118812 -0.00912097]\n",
      "    CG_coeff_SATP_qc:                  [-2.25678432  1.11231431 -0.02114548]\n",
      "    CG_coeff_SATP_TMM_RB15_vshift_qc:  [-2.28607314  1.18711994 -0.02463724]\n",
      "    CG_coeff_SATP_MM_RB15_vshift_qc:   [-1.59383862  1.11356039 -0.02025325]\n",
      "    CG_coeff_SATP_RB15_vshift_qc:      [-2.28607314  1.18711994 -0.02463724]\n",
      "    CG_coeff_TMM_RB15_vshift_qc:       [-2.16078606  1.077409   -0.01694545]\n",
      "    CG_coeff_MM_RB15_vshift_qc:        [-1.44407252  1.00793833 -0.01312715]\n",
      "    CG_coeff_TMM_F_RB15_vshift_qc:     [-2.3173905   1.19912158 -0.0201105 ]\n",
      "    CG_coeff_MM_F_RB15_vshift_qc:      [-1.80490137  1.13450871 -0.01731199]\n",
      "    CG_coeff_SATP_TMM_RB15_qc:         [-1.94265736  1.3393424  -0.02542722]\n",
      "    CG_coeff_SATP_MM_RB15_qc:          [-1.75663654  1.43456629 -0.02417906]\n",
      "    CG_coeff_SATP_RB15_qc:             [-1.94265736  1.3393424  -0.02542722]\n",
      "    CG_coeff_TMM_RB15_qc:              [-1.93940742  1.26500635 -0.01777674]\n",
      "    CG_coeff_MM_RB15_qc:               [-1.33884133  1.21221289 -0.01131213]\n",
      "    CG_coeff_TMM_F_RB15_qc:            [-1.98468428  1.30437968 -0.01648218]\n",
      "    CG_coeff_MM_F_RB15_qc:             [-1.55769065  1.25036902 -0.01366168]\n"
     ]
    }
   ],
   "source": [
    "# Rename some variables to make things easier. NOTE: Done! \n",
    "\n",
    "# for retr_name in ['SATP', 'C08', 'Z01', 'TMM_F']:\n",
    "#     varname_old = 'Dm_retr_{}{}'.format(retr_name, ND_tag)\n",
    "#     varname_new = 'Dm43_retr_{}{}'.format(retr_name, ND_tag)\n",
    "#     parsivel_ds = parsivel_ds.rename({varname_old: varname_new})\n",
    "\n",
    "ND = parsivel_ds['ND{}'.format(ND_tag)]\n",
    "dD = pp.parsivel_parameters['max_diameter_bins_mm'] - pp.parsivel_parameters['min_diameter_bins_mm']\n",
    "dualpol_dict = dualpol.calpolrain(10.7, '/Users/dawson29/Projects/pyPIPS/tmatrix/S-Band/SCTT_RAIN_fw100.dat',\n",
    "                                  ND, dD)\n",
    "ZH = dualpol_dict['ZH']\n",
    "ZDR = dualpol_dict['ZDR']\n",
    "rho = parsivel_ds['rho']\n",
    "W_obs, _ = dsd.calc_lwc_qr_from_bins(ND, rho)\n",
    "W_obs = W_obs * 1000.\n",
    "Dm_obs = parsivel_ds['Dm43{}'.format(ND_tag)] * 1000.\n",
    "sigma_obs = parsivel_ds['sigma{}'.format(ND_tag)] * 1000.\n",
    "D0_obs = dsd.calc_D0_bin(ND.load()) * 1000.\n",
    "for retr_name in ['SATP_TMM', 'C08', 'Z01', 'TMM_F']:\n",
    "    ND_retr = parsivel_ds['ND_retr_{}{}'.format(retr_name, ND_tag)]\n",
    "    parsivel_ds['D0_retr_{}{}'.format(retr_name, ND_tag)] = dsd.calc_D0_bin(ND_retr.load()) * 1000.\n",
    "RR_obs = parsivel_ds['rainrate_derived{}'.format(ND_tag)]\n",
    "Nt_obs = dsd.calc_NT_from_bins(parsivel_ds['ND{}'.format(ND_tag)])\n",
    "\n",
    "print(parsivel_ds)\n",
    "\n",
    "# parsivel_ds['W_obs'] = W_obs\n",
    "# W_retr_SATP = parsivel_ds['W_retr_SATP{}'.format(ND_tag)]\n",
    "# W_retr_TMM_F = parsivel_ds['W_retr_TMM_F{}'.format(ND_tag)]\n",
    "# W_retr_C08 = parsivel_ds['W_retr_C08{}'.format(ND_tag)]\n",
    "# W_retr_Z01 = parsivel_ds['W_retr_Z01{}'.format(ND_tag)]\n",
    "\n",
    "\n",
    "# Dm_retr_SATP = parsivel_ds['Dm_retr_SATP{}'.format(ND_tag)]\n",
    "# Dm_retr_TMM_F = parsivel_ds['Dm_retr_TMM_F{}'.format(ND_tag)]\n",
    "# Dm_retr_C08 = parsivel_ds['Dm_retr_C08{}'.format(ND_tag)]\n",
    "# Dm_retr_Z01 = parsivel_ds['Dm_retr_Z01{}'.format(ND_tag)]\n",
    "\n",
    "# Nt_retr_SATP = parsivel_ds['Nt_retr_SATP{}'.format(ND_tag)]\n",
    "# Nt_retr_C08 = parsivel_ds['Nt_retr_C08{}'.format(ND_tag)]\n",
    "# Nt_retr_Z01 = parsivel_ds['Nt_retr_Z01{}'.format(ND_tag)]\n",
    "# Nt_retr_TMM_F = parsivel_ds['Nt_retr_TMM_F{}'.format(ND_tag)]\n",
    "# RR_retr_SATP = parsivel_ds['RR_retr_SATP{}'.format(ND_tag)]\n",
    "# RR_retr_C08 = parsivel_ds['RR_retr_C08{}'.format(ND_tag)]\n",
    "# RR_retr_Z01 = parsivel_ds['RR_retr_Z01{}'.format(ND_tag)]\n",
    "# RR_retr_TMM_F = parsivel_ds['RR_retr_TMM_F{}'.format(ND_tag)]"
   ]
  },
  {
   "cell_type": "code",
   "execution_count": 7,
   "metadata": {
    "ExecuteTime": {
     "end_time": "2020-11-02T22:39:28.459817Z",
     "start_time": "2020-11-02T22:39:28.375808Z"
    }
   },
   "outputs": [],
   "source": [
    "\n",
    "\n",
    "plot_dir = os.path.join(PIPS_dir, 'plots/scatter/PIPS_retrieval')\n",
    "if not os.path.exists(plot_dir):\n",
    "    os.makedirs(plot_dir)\n",
    "figfmt = 'png'\n",
    "retr_names = ['Z01', 'C08', 'TMM_F', 'SATP_TMM']\n",
    "row_labels = ['Z01', 'C08', 'TMM-F', 'SATP-TMM']\n",
    "titles = ['Z01', 'C08', 'TMM (filtered)', 'SATP']\n",
    "\n",
    "\n",
    "def plot_PIPS_retrieval_one2one(ds, varname, var_obs, titles, retr_names, ND_tag, col_field, filter_tag=''):\n",
    "    for title, retr_name in zip(titles, retr_names):\n",
    "        var_retr = parsivel_ds['{}_retr_{}{}'.format(varname, retr_name, ND_tag)]\n",
    "        axparams_var = axparams[varname]\n",
    "        overlap = (var_obs > 0.) & (var_retr > 0.)\n",
    "        var_obs_plt = var_obs.where(overlap)\n",
    "        var_retr_plt = var_retr.where(overlap)\n",
    "        var_ds = xr.Dataset({'var_obs': var_obs_plt, 'var_retr': var_retr_plt, 'col_field': col_field})\n",
    "        axparams_var = axparams[varname]\n",
    "        fig, ax = PIPSplot.plot_one2one(var_ds, 'var_obs', 'var_retr', axparams_var)\n",
    "        ax.set_title(title)\n",
    "        plot_filename = '{}_one2one_PIPS_{}{}{}.{}'.format(varname, retr_name, ND_tag, filter_tag, figfmt)\n",
    "        plot_path = os.path.join(plot_dir, plot_filename)\n",
    "        plt.savefig(plot_path, dpi=300, bbox_inches='tight')   \n",
    "\n",
    "axparams = {\n",
    "    'Dm43': {\n",
    "        'var_lims': [[0.5, 4.5], [0.5, 4.5]],\n",
    "        'col_field': 'col_field',\n",
    "        'col_field_lims': [0.1, 200.],\n",
    "        'norm': colors.LogNorm(vmin=0.1, vmax=200.),\n",
    "        'alpha': 0.75,\n",
    "        'markersize': 5,\n",
    "        'label_x': r'$D_m$ (obs; mm)',\n",
    "        'label_y': r'$D_m$ (retrieved; mm)',\n",
    "        'label_cb': r'$RR$ (mm h$^{-1}$)'\n",
    "    },\n",
    "    'sigma': {\n",
    "        'var_lims': [[0.5, 3.5], [0.5, 3.5]],\n",
    "        'col_field': 'col_field',\n",
    "        'col_field_lims': [0.1, 200.],\n",
    "        'norm': colors.LogNorm(vmin=0.1, vmax=200.),\n",
    "        'alpha': 0.75,\n",
    "        'markersize': 15,\n",
    "        'label_x': r'$D_m$ (obs; mm)',\n",
    "        'label_y': r'$D_m$ (retrieved; mm)',\n",
    "        'label_cb': r'$RR$ (mm h$^{-1}$)'\n",
    "    },\n",
    "    'Nt': {\n",
    "        'var_lims': [[0.0, 4.5], [0.0, 4.5]],\n",
    "        'plot_log': [True, True],\n",
    "        'col_field': 'col_field',\n",
    "        'col_field_lims': [0.1, 200.],\n",
    "        'norm': colors.LogNorm(vmin=0.1, vmax=200.),\n",
    "        'alpha': 0.75,\n",
    "        'markersize': 5,\n",
    "        'label_x': r'$N_T$ (obs; #/m$^3$)',\n",
    "        'label_y': r'$N_T$ (retrieved; #/m$^3$)',\n",
    "        'label_cb': r'$RR$ (mm h$^{-1}$)'\n",
    "    },\n",
    "    'RR': {\n",
    "        'var_lims': [[0.0, 250.], [0.0, 250.]],\n",
    "        'plot_log': [False, False],\n",
    "        'col_field': 'col_field',\n",
    "        'col_field_lims': [0.1, 200.],\n",
    "        'norm': colors.LogNorm(vmin=0.1, vmax=200.),\n",
    "        'alpha': 0.75,\n",
    "        'markersize': 5,\n",
    "        'label_x': r'$RR$ (obs; mm h$^{-1}$)',\n",
    "        'label_y': r'$RR$ (retrieved; mm h$^{-1}$)',\n",
    "        'label_cb': r'$RR$ (mm h$^{-1}$)'\n",
    "    },\n",
    "    'D0': {\n",
    "        'var_lims': [[0.5, 4.5], [0.5, 4.5]],\n",
    "        'col_field': 'col_field',\n",
    "        'col_field_lims': [0.1, 200.],\n",
    "        'norm': colors.LogNorm(vmin=0.1, vmax=200.),\n",
    "        'alpha': 0.75,\n",
    "        'markersize': 5,\n",
    "        'label_x': r'$D_0$ (obs; mm)',\n",
    "        'label_y': r'$D_0$ (retrieved; mm)',\n",
    "        'label_cb': r'$RR$ (mm h$^{-1}$)'\n",
    "    },\n",
    "}"
   ]
  },
  {
   "cell_type": "code",
   "execution_count": 9,
   "metadata": {
    "ExecuteTime": {
     "end_time": "2020-11-02T22:40:12.841407Z",
     "start_time": "2020-11-02T22:39:40.764229Z"
    }
   },
   "outputs": [
    {
     "name": "stdout",
     "output_type": "stream",
     "text": [
      "Z01-RB15 (RB15) & 0.91 (-5.93) & 0.93 (5.54) & 0.99 (4.85) & 0.85 (-7.53) & 0.89 (47.90)\n",
      "C08-RB15 (RB15) & 0.91 (-14.18) & 0.93 (12.36) & 0.99 (11.70) & 0.85 (-17.01) & 0.90 (190.54)\n",
      "TMM-F-RB15 (RB15) & 0.91 (-3.57) & 0.93 (3.12) & 0.99 (3.01) & 0.84 (-4.81) & 0.90 (21.39)\n",
      "SATP-TMM-RB15 (RB15) & 0.91 (-4.00) & 0.93 (3.98) & 0.99 (2.46) & 0.84 (-5.30) & 0.91 (21.15)\n"
     ]
    }
   ],
   "source": [
    "# Compute statistics and generate latex table row strings for paper\n",
    "var_PIPS_list = [Dm_obs, sigma_obs, RR_obs, D0_obs, Nt_obs]\n",
    "varname_list = ['Dm43', 'sigma', 'RR', 'D0', 'Nt']\n",
    "\n",
    "stats_dict = {}\n",
    "for retr_name, row_label in zip(retr_names, row_labels):\n",
    "    cc_list = []\n",
    "    bias_list = []\n",
    "    for var_obs, varname in zip(var_PIPS_list, varname_list):\n",
    "        var_retr = parsivel_ds['{}_retr_{}{}'.format(varname, retr_name, ND_tag)]\n",
    "        overlap = (var_obs > 0.) & (var_retr > 0.)\n",
    "        var_obs_overlap = var_obs.where(overlap)\n",
    "        var_retr_overlap = var_retr.where(overlap)\n",
    "        var_ds = xr.Dataset({'var_obs': var_obs_overlap, 'var_retr': var_retr_overlap, 'col_field': RR_obs})\n",
    "        cc, bias = pips.calc_stats(var_ds, 'var_obs', 'var_retr')\n",
    "        cc = cc.iloc[0, 1]\n",
    "        bias = np.asscalar(bias)\n",
    "        cc_list.append(cc)\n",
    "        bias_list.append(bias)\n",
    "        \n",
    "#         print(\"CC, bias for {} and {}:\".format(rad_var_name, rad_retr_name))\n",
    "#         print(\"{:.2f}, {:.2f}\".format(cc, bias))\n",
    "    tuple_list = [(cc, bias) for cc, bias in zip(cc_list, bias_list)]\n",
    "    stats_dict[retr_name] = [x for y in tuple_list for x in y]\n",
    "    if 'RB15' in ND_tag:\n",
    "        retr_row_label = '{}-RB15 (RB15)'.format(row_label)\n",
    "    else:\n",
    "        retr_row_label = row_label\n",
    "    table_row = \"{}\".format(retr_row_label) + (5 * \" & {:.2f} ({:.2f})\").format(*stats_dict[retr_name]) \n",
    "    print(table_row)"
   ]
  },
  {
   "cell_type": "code",
   "execution_count": null,
   "metadata": {
    "ExecuteTime": {
     "end_time": "2020-11-02T22:28:34.783363Z",
     "start_time": "2020-11-02T22:28:13.107815Z"
    },
    "scrolled": false
   },
   "outputs": [],
   "source": [
    "# Dm\n",
    "varname = 'Dm43'\n",
    "var_obs = Dm_obs\n",
    "col_field = RR_obs\n",
    "\n",
    "plot_PIPS_retrieval_one2one(parsivel_ds, varname, var_obs, titles, retr_names, ND_tag, col_field, filter_tag)"
   ]
  },
  {
   "cell_type": "code",
   "execution_count": null,
   "metadata": {
    "ExecuteTime": {
     "end_time": "2020-07-07T15:52:55.009860Z",
     "start_time": "2020-07-07T15:52:25.650354Z"
    },
    "scrolled": true
   },
   "outputs": [],
   "source": [
    "# Nt\n",
    "varname = 'Nt'\n",
    "var_obs = Nt_obs\n",
    "col_field = RR_obs\n",
    "\n",
    "plot_PIPS_retrieval_one2one(parsivel_ds, varname, var_obs, titles, retr_names, ND_tag, col_field, filter_tag)"
   ]
  },
  {
   "cell_type": "code",
   "execution_count": null,
   "metadata": {
    "ExecuteTime": {
     "end_time": "2020-07-07T15:53:21.965776Z",
     "start_time": "2020-07-07T15:52:58.371907Z"
    },
    "scrolled": true
   },
   "outputs": [],
   "source": [
    "# RR\n",
    "varname = 'RR'\n",
    "var_obs = RR_obs\n",
    "col_field = RR_obs\n",
    "\n",
    "plot_PIPS_retrieval_one2one(parsivel_ds, varname, var_obs, titles, retr_names, ND_tag, col_field, filter_tag)"
   ]
  },
  {
   "cell_type": "code",
   "execution_count": null,
   "metadata": {
    "ExecuteTime": {
     "end_time": "2020-07-07T15:53:40.482496Z",
     "start_time": "2020-07-07T15:53:25.376765Z"
    },
    "scrolled": true
   },
   "outputs": [],
   "source": [
    "# D0\n",
    "varname = 'D0'\n",
    "var_obs = D0_obs\n",
    "col_field = RR_obs\n",
    "\n",
    "plot_PIPS_retrieval_one2one(parsivel_ds, varname, var_obs, titles, retr_names, ND_tag, col_field, filter_tag)"
   ]
  },
  {
   "cell_type": "code",
   "execution_count": null,
   "metadata": {
    "ExecuteTime": {
     "end_time": "2020-07-02T18:18:14.414408Z",
     "start_time": "2020-07-02T18:18:13.413136Z"
    }
   },
   "outputs": [],
   "source": [
    "# Plot D0 vs ZDR and compute polynomial fit\n",
    "\n",
    "overlap = (D0_obs > 0.) & (ZDR > 0.)\n",
    "D0_plt = D0_obs.where(overlap)\n",
    "ZDR_plt = ZDR.where(overlap)\n",
    "RR_plt = RR_obs.where(overlap)\n",
    "\n",
    "D0_ds = xr.Dataset({'D0': D0_plt, 'ZDR': ZDR_plt, 'RR_obs': RR_plt})\n",
    "\n",
    "D0_plt_vals = D0_plt.values\n",
    "ZDR_plt_vals = ZDR_plt.values\n",
    "\n",
    "goodindices = np.isfinite(D0_plt_vals) & np.isfinite(ZDR_plt_vals)\n",
    "D0_plt_vals = D0_plt_vals[goodindices]\n",
    "ZDR_plt_vals = ZDR_plt_vals[goodindices]"
   ]
  },
  {
   "cell_type": "code",
   "execution_count": null,
   "metadata": {
    "ExecuteTime": {
     "end_time": "2020-07-02T18:18:19.646827Z",
     "start_time": "2020-07-02T18:18:16.633561Z"
    },
    "scrolled": false
   },
   "outputs": [],
   "source": [
    "\n",
    "axparams = {\n",
    "    'var_lims': [[0., 4.], [0., 5.]],\n",
    "    'plot_log': [False, False],\n",
    "    'col_field': 'RR_obs',\n",
    "    'col_field_lims': [0.1, 200.],\n",
    "    'norm': colors.LogNorm(vmin=0.1, vmax=200.),\n",
    "    'alpha': 0.75,\n",
    "    'markersize': 5,\n",
    "    'label_x': r'$Z_{DR}$ (dB)',\n",
    "    'label_y': r'$D_0 (mm)$', \n",
    "    'label_cb': r'$RR$ (mm h$^{-1}$)'\n",
    "}\n",
    "fig, ax = PIPSplot.plot_scatter(D0_ds, 'ZDR', 'D0', axparams)\n",
    "poly_coeff, poly = dsd.calc_empirical_polyfit(ZDR_plt_vals, D0_plt_vals, order=3)\n",
    "print(poly_coeff)\n",
    "\n",
    "xx = np.linspace(0., 4.)\n",
    "yy = poly(xx)\n",
    "ax.plot(xx, yy, 'k')\n",
    "\n",
    "D0_cao = 0.0436 * (xx**3.) - 0.216 * (xx**2.) + 1.076 * xx + 0.659\n",
    "ax.plot(xx, D0_cao, 'b')"
   ]
  },
  {
   "cell_type": "code",
   "execution_count": null,
   "metadata": {
    "ExecuteTime": {
     "end_time": "2020-07-02T18:18:46.284298Z",
     "start_time": "2020-07-02T18:18:40.089817Z"
    }
   },
   "outputs": [],
   "source": [
    "# TODO: Update cells from here down\n",
    "\n",
    "# Plot log(R/Zh) one-to-one plot\n",
    "overlap = (RR_obs > 0.) & (RR_retr_SATP > 0.)\n",
    "RR_obs_plt = RR_obs.where(overlap)\n",
    "RR_retr_SATP_plt = RR_retr_SATP.where(overlap)\n",
    "\n",
    "ZH_plt = ZH.where(ZH > 0.)\n",
    "RRdZH_obs = RR_obs_plt/ZH_plt\n",
    "RRdZH_retr_SATP = RR_retr_SATP_plt/ZH_plt\n",
    "\n",
    "RRdZH_ds = xr.Dataset({'RRdZH_obs': RRdZH_obs, 'RRdZH_retr_SATP': RRdZH_retr_SATP, 'RR_obs': RR_obs_plt})\n",
    "\n",
    "axparams = {\n",
    "    'var_lims': [[-4., -1.5], [-4., -1.5]],\n",
    "    'plot_log': [True, True],\n",
    "    'col_field': 'RR_obs',\n",
    "    'col_field_lims': [0.1, 200.],\n",
    "    'norm': colors.LogNorm(vmin=0.1, vmax=200.),\n",
    "    'alpha': 0.75,\n",
    "    'markersize': 5,\n",
    "    'label_x': r'$\\log{R/Z_H}$ (obs)',\n",
    "    'label_y': r'$\\log{R/Z_H}$ (retrieved)',\n",
    "    'label_cb': r'$RR$ (mm h$^{-1}$)'\n",
    "}\n",
    "PIPSplot.plot_one2one(RRdZH_ds, 'RRdZH_obs', 'RRdZH_retr_SATP', axparams)"
   ]
  },
  {
   "cell_type": "code",
   "execution_count": null,
   "metadata": {
    "ExecuteTime": {
     "end_time": "2020-07-02T18:18:56.455588Z",
     "start_time": "2020-07-02T18:18:55.051338Z"
    }
   },
   "outputs": [],
   "source": [
    "# Plot R/Zh vs. ZDR and compute polynomial fit\n",
    "overlap = (RRdZH_obs > 0.) & (ZDR > 0.)\n",
    "RRdZH_obs_plt = RRdZH_obs.where(overlap)\n",
    "ZDR_plt = ZDR.where(overlap)\n",
    "RR_obs_plt = RR_obs.where(overlap)\n",
    "\n",
    "RRdZH_ZDR_ds = xr.Dataset({'RRdZH': RRdZH_obs_plt, 'ZDR': ZDR_plt, 'RR_obs': RR_obs_plt})\n",
    "\n",
    "RRdZH_vals = RRdZH_obs_plt.values\n",
    "log_RRdZH_vals = np.log10(RRdZH_vals)\n",
    "ZDR_vals = ZDR_plt.values\n",
    "\n",
    "goodindices = np.isfinite(log_RRdZH_vals) & np.isfinite(ZDR_vals)\n",
    "log_RRdZH_vals = log_RRdZH_vals[goodindices]\n",
    "ZDR_vals = ZDR_vals[goodindices]"
   ]
  },
  {
   "cell_type": "code",
   "execution_count": null,
   "metadata": {
    "ExecuteTime": {
     "end_time": "2020-07-02T18:18:58.919495Z",
     "start_time": "2020-07-02T18:18:58.833238Z"
    }
   },
   "outputs": [],
   "source": [
    "from scipy.optimize import curve_fit\n",
    "def func(x, a, b, c, d):\n",
    "    return a*x**3. + b*x**2. + c*x + d\n",
    "\n",
    "popt, pcov = curve_fit(func, ZDR_vals, log_RRdZH_vals)\n",
    "print(popt)\n",
    "\n",
    "# Gives almost the same results (reversed coefficient order...)"
   ]
  },
  {
   "cell_type": "code",
   "execution_count": null,
   "metadata": {
    "ExecuteTime": {
     "end_time": "2020-07-02T18:19:04.675145Z",
     "start_time": "2020-07-02T18:19:01.184265Z"
    }
   },
   "outputs": [],
   "source": [
    "\n",
    "axparams = {\n",
    "    'var_lims': [[0., 4.], [-4., -1.5]],\n",
    "    'plot_log': [False, True],\n",
    "    'col_field': 'RR_obs',\n",
    "    'col_field_lims': [0.1, 200.],\n",
    "    'norm': colors.LogNorm(vmin=0.1, vmax=200.),\n",
    "    'alpha': 0.75,\n",
    "    'markersize': 5,\n",
    "    'label_x': r'$Z_{DR}$ (dB)',\n",
    "    'label_y': r'$\\log{R/Z_H}$', \n",
    "    'label_cb': r'$RR$ (mm h$^{-1}$)'\n",
    "}\n",
    "fig, ax = PIPSplot.plot_scatter(RRdZH_ZDR_ds, 'ZDR', 'RRdZH', axparams)\n",
    "poly_coeff, poly = dsd.calc_empirical_polyfit(ZDR_vals, log_RRdZH_vals, order=3)\n",
    "print(poly_coeff)\n",
    "\n",
    "xx = np.linspace(0., 4.)\n",
    "yy = poly(xx)\n",
    "ax.plot(xx, 10.**yy, 'k')\n",
    "\n",
    "RdZH_cao = 10.**(-0.0363 * (xx**3.) + 0.316 * (xx**2.) - 1.178 * xx - 1.964)\n",
    "ax.plot(xx, RdZH_cao, 'b')"
   ]
  },
  {
   "cell_type": "code",
   "execution_count": null,
   "metadata": {
    "ExecuteTime": {
     "end_time": "2020-07-02T18:19:27.510040Z",
     "start_time": "2020-07-02T18:19:21.264755Z"
    }
   },
   "outputs": [],
   "source": [
    "# Plot W/ZH one-to-one\n",
    "overlap = (W_obs > 0.) & (W_retr_SATP > 0.)\n",
    "W_obs_plt = W_obs.where(overlap)\n",
    "W_retr_SATP_plt = W_retr_SATP.where(overlap)\n",
    "RR_obs_plt = RR_obs.where(overlap)\n",
    "\n",
    "WdZH_obs = W_obs_plt/ZH_plt\n",
    "WdZH_retr_SATP = W_retr_SATP_plt/ZH_plt\n",
    "WdZH_ds = xr.Dataset({'WdZH_obs': WdZH_obs, 'WdZH_retr': WdZH_retr_SATP, 'RR_obs': RR_obs_plt})\n",
    "\n",
    "axparams = {\n",
    "    'var_lims': [[-6., -2.], [-6, -2.]],\n",
    "    'plot_log': [True, True],\n",
    "    'col_field': 'RR_obs',\n",
    "    'col_field_lims': [0.1, 200.],\n",
    "    'norm': colors.LogNorm(vmin=0.1, vmax=200.),\n",
    "    'alpha': 0.75,\n",
    "    'markersize': 5,\n",
    "    'label_x': r'$\\log{W/Z_H}$ (obs)',\n",
    "    'label_y': r'$\\log{W/Z_H}$ (retrieved)',\n",
    "    'label_cb': r'$RR$ (mm h$^{-1}$)'\n",
    "}\n",
    "PIPSplot.plot_one2one(WdZH_ds, 'WdZH_obs', 'WdZH_retr', axparams)"
   ]
  },
  {
   "cell_type": "code",
   "execution_count": null,
   "metadata": {
    "ExecuteTime": {
     "end_time": "2020-07-02T18:19:34.234759Z",
     "start_time": "2020-07-02T18:19:33.071046Z"
    }
   },
   "outputs": [],
   "source": [
    "# Compute empirical fit for W/ZH vs ZDR and plot\n",
    "\n",
    "overlap = (W_obs > 0.)\n",
    "W_obs_plt = W_obs.where(overlap)\n",
    "WdZH_obs = W_obs_plt/ZH_plt\n",
    "overlap = (WdZH_obs > 0.) & (ZDR > 0.)\n",
    "WdZH_obs = WdZH_obs.where(overlap)\n",
    "ZDR_plt = ZDR.where(overlap)\n",
    "RR_obs_plt = RR_obs.where(overlap)\n",
    "\n",
    "WdZH_ZDR_ds = xr.Dataset({'WdZH': WdZH_obs, 'ZDR': ZDR_plt, 'RR_obs': RR_obs_plt})\n",
    "\n",
    "WdZH_vals = WdZH_obs.values\n",
    "log_WdZH_vals = np.log10(WdZH_vals)\n",
    "ZDR_vals = ZDR_plt.values\n",
    "\n",
    "goodindices = np.isfinite(log_WdZH_vals) & np.isfinite(ZDR_vals)\n",
    "log_WdZH_vals = log_WdZH_vals[goodindices]\n",
    "ZDR_vals = ZDR_vals[goodindices]"
   ]
  },
  {
   "cell_type": "code",
   "execution_count": null,
   "metadata": {
    "ExecuteTime": {
     "end_time": "2020-07-02T18:19:40.258767Z",
     "start_time": "2020-07-02T18:19:36.623974Z"
    }
   },
   "outputs": [],
   "source": [
    "\n",
    "axparams = {\n",
    "    'var_lims': [[0., 4.], [-6., -2.]],\n",
    "    'plot_log': [False, True],\n",
    "    'col_field': 'RR_obs',\n",
    "    'col_field_lims': [0.1, 200.],\n",
    "    'norm': colors.LogNorm(vmin=0.1, vmax=200.),\n",
    "    'alpha': 0.75,\n",
    "    'markersize': 5,\n",
    "    'label_x': r'$Z_{DR}$ (dB)',\n",
    "    'label_y': r'$\\log{W/Z_H}$', \n",
    "    'label_cb': r'$RR$ (mm h$^{-1}$)'\n",
    "}\n",
    "fig, ax = PIPSplot.plot_scatter(WdZH_ZDR_ds, 'ZDR', 'WdZH', axparams)\n",
    "poly_coeff, poly = dsd.calc_empirical_polyfit(ZDR_vals, log_WdZH_vals, order=3)\n",
    "print(poly_coeff)\n",
    "\n",
    "xx = np.linspace(0., 4.)\n",
    "yy = poly(xx)\n",
    "ax.plot(xx, 10.**yy, 'k')\n",
    "WdZH_cao = 10.**(-0.0493 * (xx**3.) + 0.430 * (xx**2.) - 1.542 * xx - 3.019)\n",
    "ax.plot(xx, WdZH_cao, 'b')"
   ]
  },
  {
   "cell_type": "code",
   "execution_count": null,
   "metadata": {
    "ExecuteTime": {
     "end_time": "2020-07-02T18:20:19.796132Z",
     "start_time": "2020-07-02T18:20:13.871059Z"
    }
   },
   "outputs": [],
   "source": [
    "# Plot Nt/ZH one-to-one\n",
    "overlap = (Nt_obs > 0.) & (Nt_retr_SATP > 0.)\n",
    "Nt_obs_plt = Nt_obs.where(overlap)\n",
    "Nt_retr_SATP_plt = Nt_retr_SATP.where(overlap)\n",
    "NtdZH_obs = Nt_obs_plt/ZH_plt\n",
    "NtdZH_retr_SATP = Nt_retr_SATP_plt/ZH_plt\n",
    "RR_obs_plt = RR_obs.where(overlap)\n",
    "\n",
    "NtdZH_ds = xr.Dataset({'NtdZH_obs': NtdZH_obs, 'NtdZH_retr': NtdZH_retr_SATP, 'RR_obs': RR_obs_plt})\n",
    "\n",
    "axparams = {\n",
    "    'var_lims': [[-3., 2.], [-3., 2.]],\n",
    "    'plot_log': [True, True],\n",
    "    'col_field': 'RR_obs',\n",
    "    'col_field_lims': [0.1, 200.],\n",
    "    'norm': colors.LogNorm(vmin=0.1, vmax=200.),\n",
    "    'alpha': 0.75,\n",
    "    'markersize': 5,\n",
    "    'label_x': r'$\\log{N_T/Z_H}$ (obs)',\n",
    "    'label_y': r'$\\log{N_T/Z_H}$ (retrieved)',\n",
    "    'label_cb': r'$RR$ (mm h$^{-1}$)'\n",
    "}\n",
    "PIPSplot.plot_one2one(NtdZH_ds, 'NtdZH_obs', 'NtdZH_retr', axparams)"
   ]
  },
  {
   "cell_type": "code",
   "execution_count": null,
   "metadata": {
    "ExecuteTime": {
     "end_time": "2020-07-02T18:20:29.918914Z",
     "start_time": "2020-07-02T18:20:26.789230Z"
    }
   },
   "outputs": [],
   "source": [
    "# Plot Z vs. ZDR\n",
    "dBZ = dualpol_dict['REF']\n",
    "dBZ_vals = dBZ.values\n",
    "ZDR_vals = ZDR.values\n",
    "\n",
    "goodindices = np.isfinite(dBZ_vals) & np.isfinite(ZDR_vals)\n",
    "dBZ_vals = dBZ_vals[goodindices]\n",
    "ZDR_vals = ZDR_vals[goodindices]\n",
    "\n",
    "ZH_ZDR_ds = xr.Dataset({'ZH': dBZ, 'ZDR': ZDR, 'RR_obs': RR_obs})\n",
    "\n",
    "axparams = {\n",
    "    'var_lims': [[0., 60.], [0., 6.]],\n",
    "    'plot_log': [False, False],\n",
    "    'col_field': 'RR_obs',\n",
    "    'col_field_lims': [0.1, 200.],\n",
    "    'norm': colors.LogNorm(vmin=0.1, vmax=200.),\n",
    "    'alpha': 0.75,\n",
    "    'markersize': 5,\n",
    "    'label_x': r'$Z_{H}$ (dBZ)',\n",
    "    'label_y': r'$Z_{DR}$ (dB)', \n",
    "    'label_cb': r'$RR$ (mm h$^{-1}$)'\n",
    "}\n",
    "fig, ax = PIPSplot.plot_scatter(ZH_ZDR_ds, 'ZH', 'ZDR', axparams)\n",
    "ax.set_aspect('auto')\n",
    "poly_coeff, poly = dsd.calc_empirical_polyfit(dBZ_vals, ZDR_vals, order=2)\n",
    "print(poly_coeff)\n",
    "\n",
    "# xx = np.linspace(0., 4.)\n",
    "# yy = poly(xx)\n",
    "# ax.plot(xx, 10.**yy, 'k')\n",
    "# WdZH_cao = 10.**(-0.0493 * (xx**3.) + 0.430 * (xx**2.) - 1.542 * xx - 3.019)\n",
    "# ax.plot(xx, WdZH_cao, 'b')"
   ]
  },
  {
   "cell_type": "code",
   "execution_count": null,
   "metadata": {},
   "outputs": [],
   "source": []
  }
 ],
 "metadata": {
  "anaconda-cloud": {},
  "hide_input": false,
  "kernelspec": {
   "display_name": "Python 3.7.3 64-bit ('pyPIPS': conda)",
   "language": "python",
   "name": "python37364bitpypipscondaea8788f6419a4a34be329df7b3b7ce88"
  },
  "language_info": {
   "codemirror_mode": {
    "name": "ipython",
    "version": 3
   },
   "file_extension": ".py",
   "mimetype": "text/x-python",
   "name": "python",
   "nbconvert_exporter": "python",
   "pygments_lexer": "ipython3",
   "version": "3.8.5"
  },
  "toc": {
   "base_numbering": 1,
   "nav_menu": {},
   "number_sections": true,
   "sideBar": true,
   "skip_h1_title": false,
   "title_cell": "Table of Contents",
   "title_sidebar": "Contents",
   "toc_cell": false,
   "toc_position": {},
   "toc_section_display": true,
   "toc_window_display": false
  },
  "varInspector": {
   "cols": {
    "lenName": 16,
    "lenType": 16,
    "lenVar": 40
   },
   "kernels_config": {
    "python": {
     "delete_cmd_postfix": "",
     "delete_cmd_prefix": "del ",
     "library": "var_list.py",
     "varRefreshCmd": "print(var_dic_list())"
    },
    "r": {
     "delete_cmd_postfix": ") ",
     "delete_cmd_prefix": "rm(",
     "library": "var_list.r",
     "varRefreshCmd": "cat(var_dic_list()) "
    }
   },
   "types_to_exclude": [
    "module",
    "function",
    "builtin_function_or_method",
    "instance",
    "_Feature"
   ],
   "window_display": false
  }
 },
 "nbformat": 4,
 "nbformat_minor": 2
}
