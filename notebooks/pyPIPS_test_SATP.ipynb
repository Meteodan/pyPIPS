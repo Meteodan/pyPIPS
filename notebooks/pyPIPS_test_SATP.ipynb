{
 "cells": [
  {
   "cell_type": "markdown",
   "metadata": {},
   "source": [
    "# A testing ground for pyPIPS functionality"
   ]
  },
  {
   "cell_type": "code",
   "execution_count": 1,
   "metadata": {
    "ExecuteTime": {
     "end_time": "2020-02-21T23:16:28.595343Z",
     "start_time": "2020-02-21T23:16:26.393534Z"
    }
   },
   "outputs": [
    {
     "name": "stdout",
     "output_type": "stream",
     "text": [
      "\n",
      "## You are using the Python ARM Radar Toolkit (Py-ART), an open source\n",
      "## library for working with weather radar data. Py-ART is partly\n",
      "## supported by the U.S. Department of Energy as part of the Atmospheric\n",
      "## Radiation Measurement (ARM) Climate Research Facility, an Office of\n",
      "## Science user facility.\n",
      "##\n",
      "## If you use this software to prepare a publication, please cite:\n",
      "##\n",
      "##     JJ Helmus and SM Collis, JORS 2016, doi: 10.5334/jors.119\n",
      "\n"
     ]
    },
    {
     "name": "stderr",
     "output_type": "stream",
     "text": [
      "/Users/dawson29/miniconda3/envs/pyPIPS/lib/python3.7/site-packages/pyart/graph/cm.py:104: FutureWarning: elementwise comparison failed; returning scalar instead, but in the future will perform elementwise comparison\n",
      "  if 'red' in spec:\n",
      "/Users/dawson29/miniconda3/envs/pyPIPS/lib/python3.7/site-packages/pyart/graph/cm_colorblind.py:32: FutureWarning: elementwise comparison failed; returning scalar instead, but in the future will perform elementwise comparison\n",
      "  if 'red' in spec:\n"
     ]
    }
   ],
   "source": [
    "%load_ext autoreload\n",
    "%autoreload 2\n",
    "import numpy as np\n",
    "import numpy.ma as ma\n",
    "import matplotlib\n",
    "import matplotlib.pyplot as plt\n",
    "import matplotlib.cm as cm\n",
    "import matplotlib.ticker as ticker\n",
    "import matplotlib.dates as dates\n",
    "from mpl_toolkits.axes_grid1 import ImageGrid,make_axes_locatable,host_subplot\n",
    "from mpl_toolkits.basemap import Basemap\n",
    "from datetime import datetime, timedelta\n",
    "import sys\n",
    "import os\n",
    "import pyPIPS.utils as utils\n",
    "import pyPIPS.thermolib as thermo\n",
    "import pyPIPS.DSDlib as dsd\n",
    "#import pyPIPS.disdrometer_module as dis\n",
    "import pyPIPS.plotmodule as PIPSplot\n",
    "import pyPIPS.simulator as sim\n",
    "import pyPIPS.pips_io as pipsio\n",
    "import pyPIPS.PIPS as pips\n",
    "import pyPIPS.parsivel_params as pp\n",
    "import pyPIPS.parsivel_qc as pqc\n",
    "from pyCRMtools.modules import plotmodule as plotmod\n",
    "from pyCRMtools.modules import utils as CRMutils\n",
    "from pyCRMtools.pycaps import arps_read\n",
    "from pyCRMtools.pycaps import pycaps_fields\n",
    "from pyCRMtools.pycaps import calvars_radar as radar\n",
    "import pandas as pd\n",
    "import xarray as xr\n",
    "import glob\n",
    "import numpy.random as random\n",
    "from scipy.stats import gamma, uniform\n",
    "from scipy.special import gamma as gammafunc\n",
    "from scipy import ndimage\n",
    "from metpy.plots import StationPlot\n",
    "from metpy.calc import wind_components\n",
    "from metpy.cbook import get_test_data\n",
    "from metpy.plots import StationPlot\n",
    "from metpy.plots.wx_symbols import current_weather, sky_cover\n",
    "from metpy.units import units\n",
    "%matplotlib inline"
   ]
  },
  {
   "cell_type": "code",
   "execution_count": 2,
   "metadata": {
    "ExecuteTime": {
     "end_time": "2020-02-21T23:16:33.732790Z",
     "start_time": "2020-02-21T23:16:33.600857Z"
    }
   },
   "outputs": [],
   "source": [
    "# Read in the SATP DataArrays\n",
    "PIPS_dir = '/Users/dawson29/sshfs_mounts/depot/data/Projects/VORTEXSE/obsdata/full_PIPS_dataset/'\n",
    "# ND_combined_filename = 'ND_combined_full_dataset_60s.nc'\n",
    "# ND_combined_path = os.path.join(PIPS_dir, ND_combined_filename)\n",
    "# ND_avg_filename = 'ND_avg_full_dataset_60s.nc'\n",
    "# ND_avg_path = os.path.join(PIPS_dir, ND_avg_filename)\n",
    "\n",
    "# ND_combined = xr.open_dataarray(ND_combined_path)\n",
    "# ND_avg = xr.open_dataarray(ND_avg_path)\n",
    "# ND_avg = xr.load_dataset(ND_avg_path)\n",
    "parsivel_combined_filename = 'parsivel_combined_IOP_4A_4D_D1_2016_PIPS1A_60s.nc'\n",
    "parsivel_combined_path = os.path.join(PIPS_dir, parsivel_combined_filename)\n",
    "parsivel_combined_ds = xr.open_dataset(parsivel_combined_path)"
   ]
  },
  {
   "cell_type": "code",
   "execution_count": 3,
   "metadata": {
    "ExecuteTime": {
     "end_time": "2020-02-21T23:16:36.075374Z",
     "start_time": "2020-02-21T23:16:36.009975Z"
    }
   },
   "outputs": [
    {
     "name": "stdout",
     "output_type": "stream",
     "text": [
      "<xarray.Dataset>\n",
      "Dimensions:            (diameter_bin: 32, fallspeed_bin: 32, parameter: 3, time: 5325)\n",
      "Coordinates:\n",
      "  * time               (time) datetime64[ns] 2016-04-27T22:51:13 ... 2016-05-01T15:35:13\n",
      "    fallspeed          (fallspeed_bin) float64 ...\n",
      "    diameter           (diameter_bin) float64 ...\n",
      "    min_diameter       (diameter_bin) float64 ...\n",
      "    max_diameter       (diameter_bin) float64 ...\n",
      "    min_fallspeeds     (fallspeed_bin) float64 ...\n",
      "    max_fallspeeds     (fallspeed_bin) float64 ...\n",
      "  * parameter          (parameter) object 'N0' 'lamda' 'alpha'\n",
      "Dimensions without coordinates: diameter_bin, fallspeed_bin\n",
      "Data variables:\n",
      "    precipintensity    (time) float64 ...\n",
      "    precipaccum        (time) float64 ...\n",
      "    parsivel_dBZ       (time) float64 ...\n",
      "    pcount             (time) int64 ...\n",
      "    signal_amplitude   (time) float64 ...\n",
      "    pvoltage           (time) float64 ...\n",
      "    sensor_temp        (time) float64 ...\n",
      "    sample_interval    (time) timedelta64[ns] ...\n",
      "    windspd            (time) float64 ...\n",
      "    windspdavgvec      (time) float64 ...\n",
      "    winddirabs         (time) float64 ...\n",
      "    winddirunitavgvec  (time) float64 ...\n",
      "    windgust           (time) float64 ...\n",
      "    uavg               (time) float64 ...\n",
      "    vavg               (time) float64 ...\n",
      "    unit_uavg          (time) float64 ...\n",
      "    unit_vavg          (time) float64 ...\n",
      "    winddiag           (time) float64 ...\n",
      "    fasttemp           (time) float64 ...\n",
      "    slowtemp           (time) float64 ...\n",
      "    RH                 (time) float64 ...\n",
      "    RH_derived         (time) float64 ...\n",
      "    pressure           (time) float64 ...\n",
      "    GPS_lat            (time) float64 ...\n",
      "    GPS_lon            (time) float64 ...\n",
      "    GPS_alt            (time) float64 ...\n",
      "    voltage            (time) float64 ...\n",
      "    dewpoint           (time) float64 ...\n",
      "    rho                (time) float64 ...\n",
      "    VD_matrix          (time, fallspeed_bin, diameter_bin) float64 ...\n",
      "    VD_matrix_qc       (time, fallspeed_bin, diameter_bin) float64 ...\n",
      "    ND_qc              (time, diameter_bin) float64 ...\n",
      "    DSD_MM24           (parameter, time) float64 ...\n",
      "    DSD_MM36           (parameter, time) float64 ...\n",
      "    DSD_MM346          (parameter, time) float64 ...\n",
      "    DSD_MM246          (parameter, time) float64 ...\n",
      "    DSD_MM234          (parameter, time) float64 ...\n",
      "    DSD_TMM246         (parameter, time) float64 ...\n",
      "    Dm43               (time) float64 ...\n",
      "    sigma              (time) float64 ...\n",
      "Attributes:\n",
      "    probe_name:       PIPS1A\n",
      "    deployment_name:  IOP_4A_4D_D1_2016\n",
      "    location:         (34.69033661842877, -86.88138349604473, 186.20679652184...\n",
      "    starting_time:    20160427225113\n",
      "    ending_time:      20160501153513\n",
      "    DSD_interval:     60.0\n",
      "    strongwindQC:     1\n",
      "    splashingQC:      1\n",
      "    marginQC:         1\n",
      "    rainfallQC:       1\n",
      "    rainonlyQC:       1\n",
      "    hailonlyQC:       0\n",
      "    graupelonlyQC:    0\n",
      "    basicQC:          0\n"
     ]
    }
   ],
   "source": [
    "print(parsivel_combined_ds)\n"
   ]
  },
  {
   "cell_type": "code",
   "execution_count": 45,
   "metadata": {
    "ExecuteTime": {
     "end_time": "2020-02-22T00:04:35.901942Z",
     "start_time": "2020-02-22T00:04:35.784051Z"
    }
   },
   "outputs": [],
   "source": [
    "def mu_lamda(lamda, coeff1, coeff2, coeff3):\n",
    "    mu = coeff1*lamda**2. + coeff2*lamda + coeff3\n",
    "    return mu\n",
    "\n",
    "coeff1 = -0.0184\n",
    "coeff2 = 0.9685\n",
    "coeff3 = -1.9453\n",
    "\n",
    "pcount = parsivel_combined_ds['pcount']\n",
    "Dm43 = parsivel_combined_ds['Dm43'] * 1000.\n",
    "sigma = parsivel_combined_ds['sigma'] * 1000.\n",
    "DSD_TMM246 = parsivel_combined_ds['DSD_TMM246']\n",
    "DSD_TMM246 = DSD_TMM246.where(DSD_TMM246.sel(parameter='lamda') < 20000.)\n",
    "DSD_TMM246 = DSD_TMM246.where(DSD_TMM246.sel(parameter='alpha') < 30.)\n",
    "\n",
    "lamda = DSD_TMM246.sel(parameter='lamda') / 1000.\n",
    "mu = mu_lamda(lamda, coeff1, coeff2, coeff3)\n",
    "\n",
    "sigma_retr = np.sqrt((mu + 4)/lamda**2.)\n",
    "Dm43_retr = (4 + mu)/lamda\n",
    "\n",
    "    "
   ]
  },
  {
   "cell_type": "code",
   "execution_count": 51,
   "metadata": {
    "ExecuteTime": {
     "end_time": "2020-02-22T00:08:30.391429Z",
     "start_time": "2020-02-22T00:08:30.110947Z"
    }
   },
   "outputs": [
    {
     "data": {
      "text/plain": [
       "[<matplotlib.lines.Line2D at 0x7fb2590fa7b8>]"
      ]
     },
     "execution_count": 51,
     "metadata": {},
     "output_type": "execute_result"
    },
    {
     "data": {
      "image/png": "[encoded data removed]",
      "text/plain": [
       "<Figure size 432x288 with 1 Axes>"
      ]
     },
     "metadata": {
      "needs_background": "light"
     },
     "output_type": "display_data"
    }
   ],
   "source": [
    "Dm43_retr.plot()\n",
    "Dm43.plot()"
   ]
  },
  {
   "cell_type": "code",
   "execution_count": 52,
   "metadata": {
    "ExecuteTime": {
     "end_time": "2020-02-22T00:11:51.355373Z",
     "start_time": "2020-02-22T00:11:51.022366Z"
    }
   },
   "outputs": [
    {
     "data": {
      "text/plain": [
       "(0.0, 2.5)"
      ]
     },
     "execution_count": 52,
     "metadata": {},
     "output_type": "execute_result"
    },
    {
     "data": {
      "image/png": "[encoded data removed]",
      "text/plain": [
       "<Figure size 720x720 with 1 Axes>"
      ]
     },
     "metadata": {
      "needs_background": "light"
     },
     "output_type": "display_data"
    }
   ],
   "source": [
    "fig, ax = plt.subplots(figsize=(10, 10))\n",
    "Dm43_plt = Dm43.where(pcount > 0, drop=True)\n",
    "sigma_plt = sigma.where(pcount > 0, drop=True)\n",
    "sigma_retr_plt = sigma_retr.where(pcount > 0, drop=True)\n",
    "Dm43_retr_plt = Dm43_retr.where(pcount > 0, drop=True)\n",
    "ax.scatter(Dm43_plt, sigma_plt)\n",
    "ax.scatter(Dm43_retr_plt, sigma_retr_plt, color='k')\n",
    "\n",
    "ax.set_xlim(0.0, 5.0)\n",
    "ax.set_ylim(0.0, 2.5)"
   ]
  },
  {
   "cell_type": "code",
   "execution_count": null,
   "metadata": {
    "ExecuteTime": {
     "end_time": "2020-02-21T21:59:37.353823Z",
     "start_time": "2020-02-21T21:59:37.228963Z"
    }
   },
   "outputs": [],
   "source": [
    "ND_combined = pipsio.reconstruct_MultiIndex(ND_combined, ['D0_idx', 'RR_idx'], 'D0_RR')\n",
    "print(ND_combined)\n",
    "ND_combined.close()"
   ]
  },
  {
   "cell_type": "code",
   "execution_count": null,
   "metadata": {
    "ExecuteTime": {
     "end_time": "2020-02-21T22:05:14.174962Z",
     "start_time": "2020-02-21T22:05:09.211391Z"
    }
   },
   "outputs": [],
   "source": [
    "ND_groups = ND_combined.groupby('D0_RR')\n",
    "# Now average in each RR-D0 bin\n",
    "ND_avg = ND_groups.mean(dim='D0_RR')\n",
    "ND_avg.name = 'SATP_ND_full_dataset'\n",
    "ND_avg.attrs = ND_combined.attrs\n",
    "ND_avg = ND_avg.reset_index('D0_RR')\n",
    "ND_avg_ncfile_name = 'ND_avg_full_dataset_60s.nc'\n",
    "ND_avg_ncfile_path = os.path.join(PIPS_dir, ND_avg_ncfile_name)\n",
    "print(\"Dumping {}\".format(ND_avg_ncfile_path))\n",
    "ND_avg.to_netcdf(ND_avg_ncfile_path)"
   ]
  },
  {
   "cell_type": "code",
   "execution_count": null,
   "metadata": {},
   "outputs": [],
   "source": []
  },
  {
   "cell_type": "code",
   "execution_count": null,
   "metadata": {
    "ExecuteTime": {
     "end_time": "2020-02-14T23:20:41.597623Z",
     "start_time": "2020-02-14T23:20:41.521644Z"
    }
   },
   "outputs": [],
   "source": [
    "D0_bins = ND_avg['D0']\n",
    "RR_bins = ND_avg['RR']\n",
    "\n",
    "print(RR_bins)"
   ]
  },
  {
   "cell_type": "code",
   "execution_count": null,
   "metadata": {
    "ExecuteTime": {
     "end_time": "2020-02-14T23:20:44.926303Z",
     "start_time": "2020-02-14T23:20:44.257707Z"
    }
   },
   "outputs": [],
   "source": [
    "fig, ax = plt.subplots(figsize=(10,10))\n",
    "ax.hist(ND_combined['D0'])\n",
    "fig2, ax2 = plt.subplots(figsize=(10,10))\n",
    "ax2.hist(ND_combined['RR'])"
   ]
  },
  {
   "cell_type": "code",
   "execution_count": null,
   "metadata": {
    "ExecuteTime": {
     "end_time": "2020-02-14T23:20:51.930818Z",
     "start_time": "2020-02-14T23:20:51.770304Z"
    }
   },
   "outputs": [],
   "source": [
    "ND_groups = ND_combined.groupby('D0_RR')"
   ]
  },
  {
   "cell_type": "code",
   "execution_count": null,
   "metadata": {
    "ExecuteTime": {
     "end_time": "2020-02-14T23:20:59.148387Z",
     "start_time": "2020-02-14T23:20:56.305605Z"
    }
   },
   "outputs": [],
   "source": [
    "for group, ND_group in list(ND_groups)[:-1]:\n",
    "    num_DSDs = ND_group.sizes['D0_RR']\n",
    "    print(group, num_DSDs)"
   ]
  },
  {
   "cell_type": "code",
   "execution_count": null,
   "metadata": {
    "ExecuteTime": {
     "end_time": "2020-02-14T23:22:47.881848Z",
     "start_time": "2020-02-14T23:21:59.089321Z"
    }
   },
   "outputs": [],
   "source": [
    "print(D0_bins[0])\n",
    "print(RR_bins[0])\n",
    "for group, ND_group in list(ND_groups)[:-1]:\n",
    "    num_DSDs = ND_group.sizes['D0_RR']\n",
    "    # print(group, num_DSDs)\n",
    "    if num_DSDs > 10 and group[1] > 0:\n",
    "        fig, ax = plt.subplots(figsize=(10,10))\n",
    "        ND_group_avg = ND_group.mean('D0_RR')\n",
    "        print(D0_bins[group[0]], RR_bins[group[1]])\n",
    "        for ND in ND_group:\n",
    "            # print(ND)\n",
    "            ax.plot(ND_group['diameter'], ND, color='0.7', alpha=0.5)\n",
    "            ax.plot(ND_group['diameter'], ND_group_avg, 'k')\n",
    "#             ax.plot(avg_diameter,\n",
    "#                     Nc_bin_avg[r,\n",
    "#                                d],\n",
    "#                     'k',\n",
    "#                     label='(R,D0) = (%2.2f' % midpoint_R + ',%2.2f' % midpoint_D0 + ')')\n",
    "            ax.set_yscale('log')\n",
    "            ax.set_ylim(10.**-1.0, 10.**5.0)\n",
    "            ax.set_ylabel('Number Concentration, # m^-3 mm^-1')\n",
    "            ax.set_xlim(0.0, 8.0)\n",
    "            ax.set_xlabel('Diameter, mm')\n",
    "            ax.tick_params(direction='in', length=6, top='on', right='on')\n",
    "#             ax.legend(\n",
    "#                 bbox_to_anchor=(\n",
    "#                     1.,\n",
    "#                     1.),\n",
    "#                 loc='upper right',\n",
    "#                 ncol=1,\n",
    "#                 fancybox=True,\n",
    "#                 shadow=False)"
   ]
  },
  {
   "cell_type": "code",
   "execution_count": null,
   "metadata": {
    "ExecuteTime": {
     "end_time": "2020-02-14T23:23:57.117145Z",
     "start_time": "2020-02-14T23:22:47.980941Z"
    }
   },
   "outputs": [],
   "source": [
    "fig, ax = plt.subplots(figsize=(10, 10))\n",
    "\n",
    "hist, xedges, yedges = np.histogram2d(ND_combined['RR'], ND_combined['D0'], bins=(RR_bins, D0_bins))\n",
    "hist = np.ma.masked_where(hist <= 0.0, hist)\n",
    "# add 2D color grid of bin sum\n",
    "ax.set_xscale('log')\n",
    "C = ax.pcolormesh(RR_bins, D0_bins, hist.T, vmin=0.0, vmax=20.0)\n",
    "ax.set_xlabel('Rainrate')\n",
    "ax.set_ylabel('D0')\n",
    "divider = make_axes_locatable(ax)\n",
    "cax = divider.append_axes(\"right\", size=\"5%\", pad=0.05)\n",
    "cb = plt.colorbar(C, orientation='vertical', cax=cax)"
   ]
  },
  {
   "cell_type": "code",
   "execution_count": null,
   "metadata": {
    "ExecuteTime": {
     "end_time": "2020-02-16T22:51:32.511249Z",
     "start_time": "2020-02-16T22:51:32.377623Z"
    }
   },
   "outputs": [],
   "source": [
    "PIPS_IO_dict = {\n",
    "    'dataset_name': 'full_dataset',\n",
    "    'deployment_name': 'full_dataset',\n",
    "    'PIPS_dir': '/Users/dawson29/sshfs_mounts/depot/data/Projects/VORTEXSE/obsdata/full_PIPS_dataset_links',\n",
    "    'plot_dir': '/Users/dawson29/sshfs_mounts/depot/data/Projects/VORTEXSE/obsdata/full_PIPS_dataset_links',\n",
    "    'requested_interval': 60.\n",
    "}\n",
    "\n",
    "PIPS_file_path_list = glob.glob(PIPS_IO_dict['PIPS_dir'] + '/PIPS*txt')\n",
    "numfiles = len(PIPS_file_path_list)\n",
    "PIPS_filenames = [os.path.basename(PIPS_file_path) for PIPS_file_path in PIPS_file_path_list]\n",
    "PIPS_names = [PIPS_filename[:6] for PIPS_filename in PIPS_filenames]\n",
    "\n",
    "print(PIPS_filenames)"
   ]
  },
  {
   "cell_type": "code",
   "execution_count": null,
   "metadata": {
    "ExecuteTime": {
     "end_time": "2020-02-16T23:04:56.959206Z",
     "start_time": "2020-02-16T23:04:56.845070Z"
    }
   },
   "outputs": [],
   "source": [
    "deployment_names = []\n",
    "for PIPS_filename in PIPS_filenames:\n",
    "    if 'FMCW' in PIPS_filename:\n",
    "        deployment_name = 'FMCW_2017'\n",
    "    elif 'IOP' in PIPS_filename:\n",
    "        IOP_name = PIPS_filename[PIPS_filename.index('IOP'):PIPS_filename.index('.txt')]\n",
    "        if '2016' in PIPS_filename:\n",
    "            IOP_year = '2016'\n",
    "        elif '2017' in PIPS_filename:\n",
    "            IOP_year = '2017'\n",
    "        else:\n",
    "            IOP_year = 'unknown'\n",
    "        deployment_name = IOP_name + '_' + IOP_year\n",
    "    else:\n",
    "        deployment_name = 'unknown'\n",
    "    deployment_names.append(deployment_name)\n",
    "\n",
    "print(deployment_names)"
   ]
  },
  {
   "cell_type": "code",
   "execution_count": null,
   "metadata": {
    "ExecuteTime": {
     "end_time": "2020-02-16T22:53:28.220013Z",
     "start_time": "2020-02-16T22:53:28.129491Z"
    }
   },
   "outputs": [],
   "source": [
    "import natsort\n",
    "natsort.natsorted(PIPS_filenames)"
   ]
  },
  {
   "cell_type": "code",
   "execution_count": null,
   "metadata": {
    "ExecuteTime": {
     "end_time": "2020-02-16T23:20:19.614406Z",
     "start_time": "2020-02-16T23:20:19.544237Z"
    }
   },
   "outputs": [],
   "source": []
  },
  {
   "cell_type": "code",
   "execution_count": null,
   "metadata": {},
   "outputs": [],
   "source": []
  }
 ],
 "metadata": {
  "anaconda-cloud": {},
  "hide_input": false,
  "kernelspec": {
   "display_name": "Python [conda env:pyPIPS]",
   "language": "python",
   "name": "conda-env-pyPIPS-py"
  },
  "language_info": {
   "codemirror_mode": {
    "name": "ipython",
    "version": 3
   },
   "file_extension": ".py",
   "mimetype": "text/x-python",
   "name": "python",
   "nbconvert_exporter": "python",
   "pygments_lexer": "ipython3",
   "version": "3.7.3"
  },
  "toc": {
   "base_numbering": 1,
   "nav_menu": {},
   "number_sections": true,
   "sideBar": true,
   "skip_h1_title": false,
   "title_cell": "Table of Contents",
   "title_sidebar": "Contents",
   "toc_cell": false,
   "toc_position": {},
   "toc_section_display": true,
   "toc_window_display": false
  },
  "varInspector": {
   "cols": {
    "lenName": 16,
    "lenType": 16,
    "lenVar": 40
   },
   "kernels_config": {
    "python": {
     "delete_cmd_postfix": "",
     "delete_cmd_prefix": "del ",
     "library": "var_list.py",
     "varRefreshCmd": "print(var_dic_list())"
    },
    "r": {
     "delete_cmd_postfix": ") ",
     "delete_cmd_prefix": "rm(",
     "library": "var_list.r",
     "varRefreshCmd": "cat(var_dic_list()) "
    }
   },
   "types_to_exclude": [
    "module",
    "function",
    "builtin_function_or_method",
    "instance",
    "_Feature"
   ],
   "window_display": false
  }
 },
 "nbformat": 4,
 "nbformat_minor": 2
}
