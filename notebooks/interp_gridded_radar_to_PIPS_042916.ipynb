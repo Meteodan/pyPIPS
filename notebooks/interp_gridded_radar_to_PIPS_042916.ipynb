{
 "cells": [
  {
   "cell_type": "code",
   "execution_count": null,
   "metadata": {
    "ExecuteTime": {
     "end_time": "2021-09-21T13:40:46.392769Z",
     "start_time": "2021-09-21T13:40:42.178222Z"
    }
   },
   "outputs": [],
   "source": [
    "%load_ext autoreload\n",
    "%autoreload 2\n",
    "import numpy as np\n",
    "import numpy.ma as ma\n",
    "import matplotlib\n",
    "import matplotlib.pyplot as plt\n",
    "%matplotlib notebook\n",
    "import matplotlib.cm as cm\n",
    "import matplotlib.ticker as ticker\n",
    "import matplotlib.dates as dates\n",
    "import matplotlib.animation as animation\n",
    "from mpl_toolkits.axes_grid1 import ImageGrid, make_axes_locatable, host_subplot\n",
    "#from mpl_toolkits.basemap import Basemap\n",
    "from datetime import datetime, timedelta\n",
    "import sys\n",
    "import os\n",
    "import pyPIPS.utils as utils\n",
    "import pyPIPS.thermolib as thermo\n",
    "import pyPIPS.DSDlib as dsd\n",
    "#import pyPIPS.disdrometer_module as dis\n",
    "import pyPIPS.plotmodule as PIPSplot\n",
    "#import pyPIPS.simulator as sim\n",
    "import pyPIPS.pips_io as pipsio\n",
    "import pyPIPS.PIPS as pips\n",
    "import pyPIPS.parsivel_params as pp\n",
    "import pyPIPS.parsivel_qc as pqc\n",
    "import pyPIPS.radarmodule as radar\n",
    "import pyPIPS.polarimetric as dualpol\n",
    "#from pyCRMtools.modules import plotmodule as plotmod\n",
    "from pyCRMtools.modules import utils as CRMutils\n",
    "import pandas as pd\n",
    "import xarray as xr\n",
    "import glob\n",
    "import numpy.random as random\n",
    "from scipy.stats import gamma, uniform\n",
    "from scipy.special import gamma as gammafunc\n",
    "from scipy import ndimage\n",
    "from scipy import interpolate\n",
    "from metpy.plots import StationPlot\n",
    "import metpy.calc as mpcalc\n",
    "from metpy.calc import wind_components\n",
    "from metpy.cbook import get_test_data\n",
    "from metpy.plots import StationPlot\n",
    "from metpy.plots.wx_symbols import current_weather, sky_cover\n",
    "from metpy.units import units\n",
    "from scipy.signal import medfilt2d\n",
    "import pyart\n",
    "import cartopy.crs as ccrs\n",
    "from IPython.display import HTML\n",
    "from io import StringIO\n",
    "%matplotlib inline\n",
    "# %matplotlib notebook\n",
    "import warnings;\n",
    "warnings.filterwarnings('ignore')"
   ]
  },
  {
   "cell_type": "code",
   "execution_count": null,
   "metadata": {
    "ExecuteTime": {
     "end_time": "2021-09-21T13:40:47.293487Z",
     "start_time": "2021-09-21T13:40:47.183187Z"
    }
   },
   "outputs": [],
   "source": [
    "# Function definitions\n",
    "def roundPartial(value, resolution, decimals=4):\n",
    "    return np.around(np.round(value / resolution) * resolution, decimals=decimals)\n",
    "\n",
    "\n",
    "def mtokm(val,pos):\n",
    "    \"\"\"Convert m to km for formatting axes tick labels\"\"\"\n",
    "    val=val/1000.0\n",
    "    return '%i' % val\n",
    "\n"
   ]
  },
  {
   "cell_type": "code",
   "execution_count": null,
   "metadata": {
    "ExecuteTime": {
     "end_time": "2021-09-21T13:40:48.388362Z",
     "start_time": "2021-09-21T13:40:48.086750Z"
    }
   },
   "outputs": [],
   "source": [
    "# Read in the gridded radar data\n",
    "radar_name = 'KGWX'\n",
    "radar_type= 'NEXRAD'\n",
    "# For 04/29/16 case (IOP4B)\n",
    "date = '0429'\n",
    "radar_start_datetimestamp = '20160429212000'\n",
    "radar_end_datetimestamp = '20160430000000'\n",
    "height = 1000.\n",
    "\n",
    "# Create datetime objects for start and end times\n",
    "datetime_start = datetime.strptime(radar_start_datetimestamp, '%Y%m%d%H%M%S')\n",
    "datetime_end = datetime.strptime(radar_end_datetimestamp, '%Y%m%d%H%M%S')\n",
    "\n",
    "radar_basedir = \\\n",
    "    '/Volumes/scr_fast/Projects/VORTEXSE/obsdata/2016/NEXRAD/IOP_4B/GWX/'\n",
    "# FIXME: need to standardize naming of radar data directories\n",
    "# radar_basedir = os.path.join(radar_basedir, '{}/{}'.format(date, radar_name[1:]))\n",
    "gridded_radar_dir = os.path.join(radar_basedir, 'gridded')\n",
    "\n",
    "radar_start_timestamp = datetime_start.strftime('%Y%m%d%H%M')\n",
    "radar_end_timestamp = datetime_end.strftime('%Y%m%d%H%M')\n",
    "gridded_radar_filename = '{}_{}_{}_z{:d}_gridded_interp_retr.nc'.format(radar_name, radar_start_timestamp,\n",
    "                                                                        radar_end_timestamp, int(height))\n",
    "gridded_radar_filepath = os.path.join(gridded_radar_dir, gridded_radar_filename)\n",
    "\n",
    "gridded_radar_ds = xr.open_dataset(gridded_radar_filepath)"
   ]
  },
  {
   "cell_type": "code",
   "execution_count": null,
   "metadata": {
    "ExecuteTime": {
     "end_time": "2021-09-21T13:40:50.976769Z",
     "start_time": "2021-09-21T13:40:50.869343Z"
    }
   },
   "outputs": [],
   "source": [
    "plot_dir = os.path.join(gridded_radar_dir, 'plots')\n",
    "if not os.path.exists(plot_dir):\n",
    "    os.makedirs(plot_dir)"
   ]
  },
  {
   "cell_type": "code",
   "execution_count": null,
   "metadata": {
    "ExecuteTime": {
     "end_time": "2021-09-21T13:40:54.425102Z",
     "start_time": "2021-09-21T13:40:53.396525Z"
    }
   },
   "outputs": [],
   "source": [
    "# Read in PIPS data\n",
    "deployment = 'IOP4B_D1_2016'\n",
    "PIPS_list = ['PIPS1B', 'PIPS2A', 'PIPS2B']\n",
    "PIPS_data_dir = '/Volumes/scr_fast/Projects/VORTEXSE/obsdata/full_PIPS_dataset_RB15'\n",
    "\n",
    "PIPS_ds_list = []\n",
    "PIPS_locs = []\n",
    "\n",
    "for PIPS in PIPS_list:\n",
    "    PIPS_filename = 'parsivel_combined_{}_{}_60s.nc'.format(deployment, PIPS)\n",
    "    PIPS_filepath = os.path.join(PIPS_data_dir, PIPS_filename)\n",
    "    PIPS_ds = xr.load_dataset(PIPS_filepath)\n",
    "    PIPS_ds_list.append(PIPS_ds)\n",
    "    PIPS_loc = eval(PIPS_ds.location)\n",
    "    PIPS_locs.append(PIPS_loc)"
   ]
  },
  {
   "cell_type": "code",
   "execution_count": null,
   "metadata": {
    "ExecuteTime": {
     "end_time": "2021-09-21T13:40:57.208711Z",
     "start_time": "2021-09-21T13:40:57.091765Z"
    }
   },
   "outputs": [],
   "source": [
    "for PIPS_ds in PIPS_ds_list:\n",
    "    print(PIPS_ds[\"KGWX_beam_height_at_PIPS\"].mean())"
   ]
  },
  {
   "cell_type": "code",
   "execution_count": null,
   "metadata": {
    "ExecuteTime": {
     "end_time": "2021-09-21T13:41:11.581350Z",
     "start_time": "2021-09-21T13:41:01.891712Z"
    }
   },
   "outputs": [],
   "source": [
    "# Find PIPS x, y location by interpolating to its lat/lon point\n",
    "gridded_radar_latlon_ds = gridded_radar_ds.swap_dims({'x': 'lon', 'y': 'lat'})\n",
    "print(gridded_radar_latlon_ds)\n",
    "\n",
    "radar_at_PIPS_list = []\n",
    "PIPS_xy_list = []\n",
    "\n",
    "for PIPS_loc in PIPS_locs:\n",
    "    PIPS_lat = PIPS_loc[0]\n",
    "    PIPS_lon = PIPS_loc[1]\n",
    "    radar_at_PIPS_da = gridded_radar_latlon_ds.interp(lat=PIPS_lat, lon=PIPS_lon)\n",
    "    print(PIPS_lat, PIPS_lon)\n",
    "    PIPS_x = radar_at_PIPS_da['x'].values.item()\n",
    "    PIPS_y = radar_at_PIPS_da['y'].values.item()\n",
    "    PIPS_xy = (PIPS_x, PIPS_y)\n",
    "    PIPS_xy_list.append(PIPS_xy)\n",
    "    print(PIPS_x, PIPS_y)\n",
    "    radar_at_PIPS_list.append(radar_at_PIPS_da)"
   ]
  },
  {
   "cell_type": "code",
   "execution_count": null,
   "metadata": {
    "ExecuteTime": {
     "end_time": "2021-09-21T13:41:15.024539Z",
     "start_time": "2021-09-21T13:41:14.917925Z"
    }
   },
   "outputs": [],
   "source": [
    "# Choose a subset of times to keep animation size down\n",
    "anim_start = '2016-04-29T21:20'\n",
    "anim_end = '2016-04-29T22:30'"
   ]
  },
  {
   "cell_type": "code",
   "execution_count": null,
   "metadata": {
    "ExecuteTime": {
     "end_time": "2021-09-21T13:42:11.424918Z",
     "start_time": "2021-09-21T13:41:18.318790Z"
    }
   },
   "outputs": [],
   "source": [
    "# Plot reflectivity for time-interpolated grid\n",
    "var_da = gridded_radar_ds['reflectivity_masked'].sel(time=slice(anim_start, anim_end))\n",
    "xplt = var_da.coords['x']\n",
    "yplt = var_da.coords['y']\n",
    "\n",
    "clevels =np.arange(0., 61., 1.)\n",
    "norm = cm.colors.Normalize(vmin=0., vmax=60.)\n",
    "\n",
    "import matplotlib.animation as animation\n",
    "fig, ax = plt.subplots(figsize=(8, 8))\n",
    "\n",
    "ims = []\n",
    "for i, var in enumerate(var_da):\n",
    "    time = var.coords['time_seconds'].values.item()\n",
    "    ci = ax.contourf(xplt, yplt, var.squeeze(), levels=clevels, \n",
    "                     cmap='pyart_HomeyerRainbow', norm=norm)\n",
    "    # Plot PIPS location\n",
    "    for PIPS, PIPS_xy in zip(PIPS_list, PIPS_xy_list):\n",
    "        PIPS_x = PIPS_xy[0]\n",
    "        PIPS_y = PIPS_xy[1]\n",
    "        ax.plot([PIPS_x], [PIPS_y], 'k*')\n",
    "        #ax.text([PIPS_x], [PIPS_y], str(PIPS_list['val'])\n",
    "    if i == 0.:\n",
    "        fig.colorbar(ci, ax=ax)\n",
    "        ax.set_xlim(25000., 100000.)\n",
    "        ax.set_ylim(-50000., 25000.)\n",
    "        ax.set_aspect('equal')\n",
    "    ims.append(ci.collections)\n",
    "    \n",
    "ani = animation.ArtistAnimation(fig, ims, interval=50, blit=True,\n",
    "                                repeat_delay=1000)\n",
    "\n",
    "plt.close()\n",
    "HTML(ani.to_jshtml())\n",
    "# ani.save('test.mp4')"
   ]
  },
  {
   "cell_type": "code",
   "execution_count": null,
   "metadata": {
    "ExecuteTime": {
     "end_time": "2021-09-21T13:44:41.422432Z",
     "start_time": "2021-09-21T13:44:08.928856Z"
    }
   },
   "outputs": [],
   "source": [
    "# Save above animation to disk\n",
    "ani_filename = 'interp_masked_ref_{}_{}_z{:d}.mp4'.format(anim_start, anim_end, int(height))\n",
    "ani_filepath = os.path.join(plot_dir, ani_filename)\n",
    "\n",
    "ani.save(ani_filepath)"
   ]
  },
  {
   "cell_type": "code",
   "execution_count": null,
   "metadata": {
    "ExecuteTime": {
     "end_time": "2021-04-20T16:16:24.476214Z",
     "start_time": "2021-04-20T16:15:52.060401Z"
    }
   },
   "outputs": [],
   "source": [
    "var_da = gridded_radar_ds['D0'].sel(time=slice(anim_start, anim_end))\n",
    "\n",
    "clevels =np.arange(0., 6., 0.1)\n",
    "norm = cm.colors.Normalize(vmin=0., vmax=6.)\n",
    "\n",
    "import matplotlib.animation as animation\n",
    "fig, ax = plt.subplots(figsize=(8, 8))\n",
    "\n",
    "ims = []\n",
    "for i, var in enumerate(var_da):\n",
    "    time = var.coords['time_seconds'].values.item()\n",
    "    ci = ax.contourf(xplt, yplt, var.squeeze(), \n",
    "                     levels=clevels, \n",
    "                     cmap='pyart_HomeyerRainbow', norm=norm)\n",
    "    # Plot PIPS location\n",
    "    for PIPS, PIPS_xy in zip(PIPS_list, PIPS_xy_list):\n",
    "        PIPS_x = PIPS_xy[0]\n",
    "        PIPS_y = PIPS_xy[1]\n",
    "        ax.plot([PIPS_x], [PIPS_y], 'k*')\n",
    "    if i == 0.:\n",
    "        fig.colorbar(ci, ax=ax)\n",
    "        ax.set_xlim(50000., 120000.)\n",
    "        ax.set_ylim(50000., 120000.)\n",
    "        ax.set_aspect('equal')\n",
    "    ims.append(ci.collections)\n",
    "    \n",
    "ani = animation.ArtistAnimation(fig, ims, interval=50, blit=True,\n",
    "                                repeat_delay=1000)\n",
    "\n",
    "plt.close()\n",
    "HTML(ani.to_jshtml())\n",
    "# plt.show()"
   ]
  },
  {
   "cell_type": "code",
   "execution_count": null,
   "metadata": {},
   "outputs": [],
   "source": [
    "# Save above animation to disk\n",
    "ani_filename = 'D0_{}_{}_z{:d}.mp4'.format(anim_start, anim_end, int(height))\n",
    "ani_filepath = os.path.join(plot_dir, ani_filename)\n",
    "\n",
    "ani.save(ani_filepath)"
   ]
  },
  {
   "cell_type": "code",
   "execution_count": null,
   "metadata": {
    "ExecuteTime": {
     "end_time": "2021-09-21T13:45:39.495089Z",
     "start_time": "2021-09-21T13:44:44.894994Z"
    }
   },
   "outputs": [],
   "source": [
    "# Plot differential reflectivity for time-interpolated grid\n",
    "var_da = gridded_radar_ds['differential_reflectivity_masked'].sel(time=slice(anim_start, anim_end))\n",
    "xplt = var_da.coords['x']\n",
    "yplt = var_da.coords['y']\n",
    "\n",
    "clevels =np.arange(0., 6., 0.1)\n",
    "norm = cm.colors.Normalize(vmin=0., vmax=6.)\n",
    "\n",
    "import matplotlib.animation as animation\n",
    "fig, ax = plt.subplots(figsize=(8, 8))\n",
    "\n",
    "ims = []\n",
    "for i, var in enumerate(var_da):\n",
    "    time = var.coords['time_seconds'].values.item()\n",
    "    ci = ax.contourf(xplt, yplt, var.squeeze(), levels=clevels, \n",
    "                     cmap='pyart_HomeyerRainbow', norm=norm)\n",
    "    # Plot PIPS location\n",
    "    for PIPS, PIPS_xy in zip(PIPS_list, PIPS_xy_list):\n",
    "        PIPS_x = PIPS_xy[0]\n",
    "        PIPS_y = PIPS_xy[1]\n",
    "        ax.plot([PIPS_x], [PIPS_y], 'k*')\n",
    "        #ax.text([PIPS_x], [PIPS_y], str(PIPS_list['val'])\n",
    "    if i == 0.:\n",
    "        fig.colorbar(ci, ax=ax)\n",
    "        ax.set_xlim(25000., 100000.)\n",
    "        ax.set_ylim(-50000., 25000.)\n",
    "        ax.set_aspect('equal')\n",
    "    ims.append(ci.collections)\n",
    "    \n",
    "ani = animation.ArtistAnimation(fig, ims, interval=50, blit=True,\n",
    "                                repeat_delay=1000)\n",
    "\n",
    "plt.close()\n",
    "HTML(ani.to_jshtml())"
   ]
  },
  {
   "cell_type": "code",
   "execution_count": null,
   "metadata": {
    "ExecuteTime": {
     "end_time": "2021-09-21T13:50:03.231514Z",
     "start_time": "2021-09-21T13:49:31.302262Z"
    }
   },
   "outputs": [],
   "source": [
    "# Save above animation to disk\n",
    "ani_filename = '1km_AGL_ZDR_{}_{}_z{:d}.mp4'.format(anim_start, anim_end, int(height))\n",
    "ani_filepath = os.path.join(plot_dir, ani_filename)\n",
    "\n",
    "ani.save(ani_filepath)"
   ]
  },
  {
   "cell_type": "code",
   "execution_count": null,
   "metadata": {
    "ExecuteTime": {
     "end_time": "2021-09-21T13:56:51.639753Z",
     "start_time": "2021-09-21T13:56:48.828842Z"
    }
   },
   "outputs": [],
   "source": [
    "tmatrix_path = '/Users/dawson29/Projects/pyPIPS/tmatrix/S-Band/SCTT_RAIN_fw100.dat'\n",
    "PIPS_ds_new_list = []\n",
    "dualpol_dict_PIPS_list = []\n",
    "for PIPS, PIPS_ds, radar_at_PIPS_da in zip(PIPS_list, PIPS_ds_list, radar_at_PIPS_list):\n",
    "    dD = PIPS_ds['max_diameter'] - PIPS_ds['min_diameter']\n",
    "    dualpol_dict_PIPS = dualpol.calpolrain_bulk_xr(10.7, tmatrix_path, PIPS_ds['ND_qc'], dD, \n",
    "                                                   diameter_bin_name='diameter_bin')\n",
    "    dualpol_dict_PIPS_list.append(dualpol_dict_PIPS)\n",
    "    gridded_varnames = list(radar_at_PIPS_da.keys())\n",
    "    PIPS_ds_new = PIPS_ds.copy()\n",
    "    PIPS_ds_new = PIPS_ds_new.drop_dims('gridded_fields_KGWX')\n",
    "    PIPS_ds_new.coords['gridded_fields_KGWX'] = gridded_varnames\n",
    "    new_radar_at_PIPS_da = radar_at_PIPS_da.to_array(dim='gridded_fields_{}'.format(radar_name), \n",
    "                                                     name='gridded_{}_at_PIPS'.format(radar_name))\n",
    "    # Interpolate to PIPS times\n",
    "    new_radar_at_PIPS_da = new_radar_at_PIPS_da.interp_like(PIPS_ds_new)\n",
    "    PIPS_ds_new['gridded_{}_at_PIPS'.format(radar_name)] = new_radar_at_PIPS_da\n",
    "    \n",
    "    PIPS_ds_new_list.append(PIPS_ds_new)\n",
    "    PIPS_filename = 'parsivel_combined_{}_{}_60s.nc'.format(deployment, PIPS)\n",
    "    PIPS_filepath = os.path.join(PIPS_data_dir, PIPS_filename)\n",
    "    PIPS_ds_new.to_netcdf(PIPS_filepath)"
   ]
  },
  {
   "cell_type": "code",
   "execution_count": null,
   "metadata": {
    "ExecuteTime": {
     "end_time": "2021-09-21T13:57:05.618799Z",
     "start_time": "2021-09-21T13:57:05.500724Z"
    }
   },
   "outputs": [],
   "source": [
    "# Made this a bit easier to deal with and less error-prone. \n",
    "# Now elect by PIPS name instead of trying to remember the index\n",
    "PIPS_to_plot = 'PIPS1B' # Pick the particular PIPS you prefer to plot, and pick a peck of pickled peppers while\n",
    "# you're at it ;)\n",
    "PIPS_index = PIPS_list.index(PIPS_to_plot)\n",
    "print(\"Index of {} in the list is {:d}\".format(PIPS_to_plot, PIPS_index))\n",
    "\n",
    "retrieval_tag = 'Z01'\n",
    "\n",
    "PIPS_xy = PIPS_xy_list[PIPS_index]\n",
    "PIPS_x = PIPS_xy[0]\n",
    "PIPS_y = PIPS_xy[1]\n",
    "\n",
    "PIPS_ds_new = PIPS_ds_new_list[PIPS_index]\n",
    "# radar_at_PIPS_da contains the gridded radar at the top of the sorting layer interpolated to the PIPS \n",
    "# horizontal location\n",
    "radar_at_PIPS_da = radar_at_PIPS_list[PIPS_index]\n",
    "\n",
    "dD = PIPS_ds['max_diameter'] - PIPS_ds['min_diameter']\n",
    "dualpol_dict_PIPS = dualpol_dict_PIPS_list[PIPS_index]\n"
   ]
  },
  {
   "cell_type": "code",
   "execution_count": null,
   "metadata": {
    "ExecuteTime": {
     "end_time": "2021-09-21T13:57:12.382086Z",
     "start_time": "2021-09-21T13:57:12.274075Z"
    }
   },
   "outputs": [],
   "source": [
    "plot_start = '2016-04-29T21:20'\n",
    "plot_end = '2016-04-30T00:00'"
   ]
  },
  {
   "cell_type": "code",
   "execution_count": null,
   "metadata": {
    "ExecuteTime": {
     "end_time": "2021-09-21T13:57:19.727853Z",
     "start_time": "2021-09-21T13:57:19.021792Z"
    }
   },
   "outputs": [],
   "source": [
    "ZH_PIPS = dualpol_dict_PIPS['REF']\n",
    "ZH_PIPS.plot(xlim=(plot_start, plot_end), color='k')\n",
    "gridded_ZH = PIPS_ds_new['gridded_KGWX_at_PIPS'].sel(gridded_fields_KGWX='reflectivity_masked')\n",
    "gridded_ZH.plot(xlim=(plot_start, plot_end), color='g')\n",
    "PIPS_ds['KGWX_at_PIPS'].sel(fields_KGWX='REF').plot(xlim=(plot_start, plot_end), color='purple')\n",
    "\n",
    "figname_2 = 'KGWX_REF_{}_{}.png'.format(date, PIPS_to_plot)\n",
    "figpath = os.path.join(plot_dir, figname_2)\n",
    "plt.savefig(figpath, dpi=300, bbox_inches='tight')"
   ]
  },
  {
   "cell_type": "code",
   "execution_count": null,
   "metadata": {
    "ExecuteTime": {
     "end_time": "2021-09-21T13:58:13.879270Z",
     "start_time": "2021-09-21T13:58:13.219458Z"
    }
   },
   "outputs": [],
   "source": [
    "Dm_PIPS = PIPS_ds_new['Dm43_qc'] * 1000.\n",
    "Dm_PIPS.plot(xlim=(plot_start, plot_end), color='k')\n",
    "gridded_Dm = PIPS_ds_new['gridded_KGWX_at_PIPS'].sel(gridded_fields_KGWX='Dm_{}'.format(retrieval_tag))\n",
    "gridded_Dm.plot(xlim=(plot_start, plot_end), color='g')\n",
    "PIPS_ds_new['KGWX_at_PIPS'].sel(fields_KGWX='Dm_{}'.format(retrieval_tag)).plot(xlim=(plot_start, plot_end), \n",
    "                                                                                color='purple')\n",
    "\n",
    "figname_2 = 'KGWX_Dm_{}_{}.png'.format(date, PIPS_to_plot)\n",
    "figpath = os.path.join(plot_dir, figname_2)\n",
    "plt.savefig(figpath, dpi=300, bbox_inches='tight')"
   ]
  },
  {
   "cell_type": "code",
   "execution_count": null,
   "metadata": {
    "ExecuteTime": {
     "end_time": "2021-09-21T13:58:21.403397Z",
     "start_time": "2021-09-21T13:58:20.731676Z"
    }
   },
   "outputs": [],
   "source": [
    "ZDR_PIPS = dualpol_dict_PIPS['ZDR']\n",
    "ZDR_PIPS.plot(xlim=(plot_start, plot_end), color='k')\n",
    "gridded_ZDR = PIPS_ds_new['gridded_KGWX_at_PIPS'].sel(gridded_fields_KGWX='differential_reflectivity_masked')\n",
    "gridded_ZDR.plot(xlim=(plot_start, plot_end), color='g')\n",
    "PIPS_ds_new['KGWX_at_PIPS'].sel(fields_KGWX='ZDR').plot(xlim=(plot_start, plot_end),\n",
    "                                                        color='purple')\n",
    "\n",
    "figname_3 = 'KGWX_ZDR_{}_{}.png'.format(date, PIPS_to_plot)\n",
    "figpath = os.path.join(plot_dir, figname_3)\n",
    "plt.savefig(figpath, dpi=300, bbox_inches='tight')"
   ]
  },
  {
   "cell_type": "code",
   "execution_count": null,
   "metadata": {},
   "outputs": [],
   "source": []
  }
 ],
 "metadata": {
  "hide_input": false,
  "kernelspec": {
   "display_name": "Python [conda env:pyPIPS]",
   "language": "python",
   "name": "conda-env-pyPIPS-py"
  },
  "language_info": {
   "codemirror_mode": {
    "name": "ipython",
    "version": 3
   },
   "file_extension": ".py",
   "mimetype": "text/x-python",
   "name": "python",
   "nbconvert_exporter": "python",
   "pygments_lexer": "ipython3",
   "version": "3.7.10"
  },
  "toc": {
   "base_numbering": 1,
   "nav_menu": {},
   "number_sections": true,
   "sideBar": true,
   "skip_h1_title": false,
   "title_cell": "Table of Contents",
   "title_sidebar": "Contents",
   "toc_cell": false,
   "toc_position": {},
   "toc_section_display": true,
   "toc_window_display": false
  },
  "varInspector": {
   "cols": {
    "lenName": 16,
    "lenType": 16,
    "lenVar": 40
   },
   "kernels_config": {
    "python": {
     "delete_cmd_postfix": "",
     "delete_cmd_prefix": "del ",
     "library": "var_list.py",
     "varRefreshCmd": "print(var_dic_list())"
    },
    "r": {
     "delete_cmd_postfix": ") ",
     "delete_cmd_prefix": "rm(",
     "library": "var_list.r",
     "varRefreshCmd": "cat(var_dic_list()) "
    }
   },
   "types_to_exclude": [
    "module",
    "function",
    "builtin_function_or_method",
    "instance",
    "_Feature"
   ],
   "window_display": false
  }
 },
 "nbformat": 4,
 "nbformat_minor": 4
}
