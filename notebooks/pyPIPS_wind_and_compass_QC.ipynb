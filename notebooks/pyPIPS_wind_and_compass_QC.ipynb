{
 "cells": [
  {
   "cell_type": "markdown",
   "metadata": {},
   "source": [
    "# A notebook to perform QC on the PIPS compass and wind observations"
   ]
  },
  {
   "cell_type": "code",
   "execution_count": null,
   "metadata": {
    "ExecuteTime": {
     "end_time": "2020-06-23T14:33:57.347909Z",
     "start_time": "2020-06-23T14:33:52.438729Z"
    }
   },
   "outputs": [],
   "source": [
    "%load_ext autoreload\n",
    "%autoreload 2\n",
    "import numpy as np\n",
    "import numpy.ma as ma\n",
    "import matplotlib\n",
    "import matplotlib.pyplot as plt\n",
    "import matplotlib.cm as cm\n",
    "import matplotlib.ticker as ticker\n",
    "import matplotlib.dates as dates\n",
    "from mpl_toolkits.axes_grid1 import ImageGrid,make_axes_locatable,host_subplot\n",
    "#from mpl_toolkits.basemap import Basemap\n",
    "from datetime import datetime, timedelta\n",
    "import sys\n",
    "import os\n",
    "import pyPIPS.utils as utils\n",
    "import pyPIPS.thermolib as thermo\n",
    "import pyPIPS.DSDlib as dsd\n",
    "#import pyPIPS.disdrometer_module as dis\n",
    "import pyPIPS.plotmodule as PIPSplot\n",
    "#import pyPIPS.simulator as sim\n",
    "import pyPIPS.pips_io as pipsio\n",
    "import pyPIPS.PIPS as pips\n",
    "import pyPIPS.parsivel_params as pp\n",
    "import pyPIPS.parsivel_qc as pqc\n",
    "import pyPIPS.polarimetric as dualpol\n",
    "#from pyCRMtools.modules import plotmodule as plotmod\n",
    "from pyCRMtools.modules import utils as CRMutils\n",
    "# from pyCRMtools.pycaps import arps_read\n",
    "# from pyCRMtools.pycaps import pycaps_fields\n",
    "# from pyCRMtools.pycaps import calvars_radar as radar\n",
    "import pandas as pd\n",
    "import xarray as xr\n",
    "import glob\n",
    "import numpy.random as random\n",
    "from scipy.stats import gamma, uniform\n",
    "from scipy.stats.mstats import zscore\n",
    "from scipy.special import gamma as gammafunc\n",
    "from scipy import ndimage\n",
    "from metpy.plots import StationPlot\n",
    "from metpy.calc import wind_components\n",
    "from metpy.cbook import get_test_data\n",
    "from metpy.plots import StationPlot\n",
    "from metpy.plots.wx_symbols import current_weather, sky_cover\n",
    "from metpy.units import units\n",
    "import warnings\n",
    "warnings.simplefilter('ignore')\n",
    "%matplotlib widget"
   ]
  },
  {
   "cell_type": "code",
   "execution_count": null,
   "metadata": {},
   "outputs": [],
   "source": [
    "# Read in the original PIPS netcdf files\n",
    "\n",
    "# PIPS_input_base_dir = '/Users/dawson29/Projects/PERiLS/obsdata/2022/PIPS_data/'\n",
    "# PIPS_output_base_dir = '/Users/dawson29/Projects/PERiLS/obsdata/2022/PIPS_data_for_EOL/'\n",
    "\n",
    "PIPS_base_dir = '/Users/dawson29/Projects/PERiLS/obsdata/2022/PIPS_data/'\n",
    "# PIPS_base_dir = '/Users/dawson29/Dropbox/Projects/PERiLS/obsdata/2023/'\n",
    "\n",
    "deployment_name = 'IOP2_033022' # 'IOP5_040523' # 'IOP2_030323' # 'IOP5_040523' # 'IOP4_033123' # 'IOP3_032423' # 'IOP3_040522'\n",
    "PIPS_input_dir = os.path.join(PIPS_base_dir, deployment_name, 'netcdf')\n",
    "PIPS_output_dir = os.path.join(PIPS_base_dir, deployment_name, 'netcdf_wind_compass_QC_10s')\n",
    "if not os.path.exists(PIPS_output_dir):\n",
    "    os.makedirs(PIPS_output_dir)\n",
    "\n",
    "# IOP1 2022\n",
    "# PIPS_names = ['PIPS1A', 'PIPS1B', 'PIPS2A', 'PIPS2B']\n",
    "# IOP2 2022\n",
    "PIPS_names = ['PIPS1A', 'PIPS1B', 'PIPS2A', 'PIPS3B']\n",
    "# IOP3 2022\n",
    "# PIPS_names = ['PIPS1A', 'PIPS1B', 'PIPS2A', 'PIPS2B', 'PIPS3A', 'PIPS3B']\n",
    "# IOP3 2023\n",
    "# PIPS_names = ['PIPS2A', 'PIPS3A']\n",
    "# IOP2, IOP4 or IOP5 2023\n",
    "# PIPS_names = ['PIPS1A', 'PIPS1B', 'PIPS2A', 'PIPS2B', 'PIPS3A', 'PIPS3B']\n",
    "parsivel_interval = 10\n",
    "interval_str = '10S'\n",
    "parsivel_filenames = ['parsivel_combined_{}_{}_{:d}s.nc'.format(deployment_name, PIPS_name, parsivel_interval)\n",
    "                      for PIPS_name in PIPS_names]\n",
    "parsivel_filepaths = [os.path.join(PIPS_input_dir, parsivel_filename) for parsivel_filename in parsivel_filenames]\n",
    "output_parsivel_filepaths = [os.path.join(PIPS_output_dir, parsivel_filename) \n",
    "                             for parsivel_filename in parsivel_filenames]\n",
    "conv_filenames = ['conventional_raw_{}_{}.nc'.format(deployment_name, PIPS_name) for PIPS_name in PIPS_names]\n",
    "conv_filepaths = [os.path.join(PIPS_input_dir, conv_filename) for conv_filename in conv_filenames]\n",
    "output_conv_filepaths = [os.path.join(PIPS_output_dir, conv_filename) for conv_filename in conv_filenames]\n",
    "parsivel_ds_dict = {}\n",
    "conv_ds_dict = {}\n",
    "for PIPS_name, parsivel_filepath, conv_filepath in zip(PIPS_names, parsivel_filepaths, conv_filepaths):\n",
    "    try:\n",
    "        parsivel_ds_dict[PIPS_name] = xr.load_dataset(parsivel_filepath)\n",
    "    except:\n",
    "        parsivel_ds_dict[PIPS_name] = None\n",
    "    conv_ds_dict[PIPS_name] = xr.load_dataset(conv_filepath)"
   ]
  },
  {
   "cell_type": "code",
   "execution_count": null,
   "metadata": {},
   "outputs": [],
   "source": [
    "PIPS_to_check = 'PIPS3B'"
   ]
  },
  {
   "cell_type": "code",
   "execution_count": null,
   "metadata": {},
   "outputs": [],
   "source": [
    "parsivel_ds = parsivel_ds_dict[PIPS_to_check]\n",
    "parsivel_ds"
   ]
  },
  {
   "cell_type": "code",
   "execution_count": null,
   "metadata": {},
   "outputs": [],
   "source": [
    "conv_ds = conv_ds_dict[PIPS_to_check]\n",
    "conv_ds"
   ]
  },
  {
   "cell_type": "code",
   "execution_count": null,
   "metadata": {},
   "outputs": [],
   "source": [
    "fig, ax = plt.subplots()\n",
    "conv_ds.plot.scatter(x='GPS_lon', y='GPS_lat', ax=ax)"
   ]
  },
  {
   "cell_type": "code",
   "execution_count": null,
   "metadata": {},
   "outputs": [],
   "source": [
    "print(conv_ds['GPS_status'][:100])"
   ]
  },
  {
   "cell_type": "code",
   "execution_count": null,
   "metadata": {},
   "outputs": [],
   "source": [
    "# Plot the timeseries of compass headings\n",
    "fig, ax = plt.subplots()\n",
    "conv_ds['compass_dir'].plot(ax=ax)\n",
    "try:\n",
    "    parsivel_ds['compass_dir'].plot(ax=ax)\n",
    "except:\n",
    "    print(f\"No Parsivel data for {PIPS_to_check}\")"
   ]
  },
  {
   "cell_type": "code",
   "execution_count": null,
   "metadata": {},
   "outputs": [],
   "source": [
    "compass_zscores = zscore(conv_ds['compass_dir'], nan_policy='omit')\n",
    "print(compass_zscores)\n",
    "fig, ax = plt.subplots()\n",
    "compass_zscores.plot(ax=ax, ls='None', marker='o', ms=1.)"
   ]
  },
  {
   "cell_type": "code",
   "execution_count": null,
   "metadata": {},
   "outputs": [],
   "source": [
    "# Set to nan any compass headings more than x standard deviation from the mean based on above plot\n",
    "cleaned_compass_dir = conv_ds['compass_dir'].where(np.abs(compass_zscores) < 0.5)\n",
    "fig, ax = plt.subplots()\n",
    "cleaned_compass_dir.plot(ax=ax, ls='None', marker='o', ms=1.)"
   ]
  },
  {
   "cell_type": "code",
   "execution_count": null,
   "metadata": {},
   "outputs": [],
   "source": [
    "# Interpolate across NaN's\n",
    "# TODO: the following doesn't take into account if the compass direction crosses 360 deg. Fix this. For now it is\n",
    "# ok because in the cases I'm looking at this doesn't happen.\n",
    "# cleaned_compass_dir = cleaned_compass_dir.interpolate_na(dim='time', use_coordinate=True)\n",
    "# fig, ax = plt.subplots()\n",
    "# cleaned_compass_dir.plot(ax=ax, ls='None', marker='o', ms=1.)"
   ]
  },
  {
   "cell_type": "code",
   "execution_count": null,
   "metadata": {},
   "outputs": [],
   "source": [
    "# Take the average of the cleaned compass directions. We'll use that to recompute the wind directions\n",
    "avg_compass_dir = cleaned_compass_dir.mean(dim='time', skipna=True).item()\n",
    "print(avg_compass_dir)"
   ]
  },
  {
   "cell_type": "code",
   "execution_count": null,
   "metadata": {},
   "outputs": [],
   "source": [
    "# Plot the original wind directions\n",
    "fig, ax = plt.subplots()\n",
    "conv_ds['winddirabs'].plot(ax=ax, ls='None', marker='o', ms=1.)\n",
    "ax.set_ylim(0., 360.)"
   ]
  },
  {
   "cell_type": "code",
   "execution_count": null,
   "metadata": {},
   "outputs": [],
   "source": [
    "# Recompute wind directions using average of cleaned compass directions\n",
    "winddirabs = np.mod(avg_compass_dir + conv_ds['winddirrel'], 360.)\n",
    "fig, ax = plt.subplots()\n",
    "winddirabs.plot(ax=ax, ls='None', marker='o', ms=1.)\n",
    "ax.set_ylim(0., 360.)"
   ]
  },
  {
   "cell_type": "code",
   "execution_count": null,
   "metadata": {},
   "outputs": [],
   "source": [
    "conv_ds['compass_dir'] = cleaned_compass_dir\n",
    "conv_ds['compass_dir'].attrs['average'] = avg_compass_dir\n",
    "conv_ds['winddirabs'] = winddirabs"
   ]
  },
  {
   "cell_type": "code",
   "execution_count": null,
   "metadata": {},
   "outputs": [],
   "source": [
    "conv_ds"
   ]
  },
  {
   "cell_type": "code",
   "execution_count": null,
   "metadata": {},
   "outputs": [],
   "source": [
    "parsivel_ds"
   ]
  },
  {
   "cell_type": "code",
   "execution_count": null,
   "metadata": {},
   "outputs": [],
   "source": [
    "# Resample the winds to the parsivel times and replace the old ones\n",
    "try:\n",
    "    PSD_datetimes = pips.get_PSD_datetimes(parsivel_ds['VD_matrix'])\n",
    "    sec_offset = PSD_datetimes[0].second\n",
    "    new_wind_dict = pips.resample_wind_da(conv_ds['winddirabs'], conv_ds['windspd'], interval_str, \n",
    "                                          sec_offset, gusts=True, gustintvstr='3S')\n",
    "except:\n",
    "    sec_offset = None\n",
    "    new_wind_dict = None\n",
    "    print(f\"No Parsivel data for {PIPS_to_check}\")"
   ]
  },
  {
   "cell_type": "code",
   "execution_count": null,
   "metadata": {},
   "outputs": [],
   "source": [
    "# Plot original resampled wind directions\n",
    "try:\n",
    "    fig, ax = plt.subplots()\n",
    "    parsivel_ds['winddirabs'].plot(ax=ax, ls='None', marker='o', ms=1.)\n",
    "    ax.set_ylim(0., 360.)\n",
    "except:\n",
    "    print(f\"No Parsivel data for {PIPS_to_check}\")"
   ]
  },
  {
   "cell_type": "code",
   "execution_count": null,
   "metadata": {},
   "outputs": [],
   "source": [
    "# Plot fixed resampled wind directions\n",
    "try:\n",
    "    fig, ax = plt.subplots()\n",
    "    new_wind_dict['winddirabs'].plot(ax=ax, ls='None', marker='o', ms=1.)\n",
    "    ax.set_ylim(0., 360.)\n",
    "except:\n",
    "    print(f\"No Parsivel data for {PIPS_to_check}\")"
   ]
  },
  {
   "cell_type": "code",
   "execution_count": null,
   "metadata": {},
   "outputs": [],
   "source": [
    "# Plot original resampled compass directions\n",
    "try:\n",
    "    fig, ax = plt.subplots()\n",
    "    parsivel_ds['compass_dir'].plot(ax=ax, ls='None', marker='o', ms=1.)\n",
    "except:\n",
    "    print(f\"No Parsivel data for {PIPS_to_check}\")"
   ]
  },
  {
   "cell_type": "code",
   "execution_count": null,
   "metadata": {},
   "outputs": [],
   "source": [
    "def resample_compass_da(compass_dir, offset, intervalstr):\n",
    "    offset_str = pips.get_interval_str(offset)\n",
    "    # Compute x- and y-components of compass direction\n",
    "    x = np.cos(np.deg2rad(-compass_dir + 270.))\n",
    "    y = np.sin(np.deg2rad(-compass_dir + 270.))\n",
    "    \n",
    "    x_avg = x.resample(time=intervalstr, label='right', closed='right', offset=offset_str).mean()\n",
    "    y_avg = y.resample(time=intervalstr, label='right', closed='right', offset=offset_str).mean()\n",
    "    \n",
    "    # Need to use %360 to keep direction between 0 and 360 degrees\n",
    "    compass_dir_avg = (270.0 - (180. / np.pi) * np.arctan2(y_avg, x_avg)) % 360.\n",
    "    return compass_dir_avg\n",
    "\n"
   ]
  },
  {
   "cell_type": "code",
   "execution_count": null,
   "metadata": {},
   "outputs": [],
   "source": [
    "# Resample compass directions using corrected values\n",
    "try:\n",
    "    cleaned_compass_dir_avg = resample_compass_da(cleaned_compass_dir, sec_offset, interval_str)\n",
    "    fig, ax = plt.subplots()\n",
    "    cleaned_compass_dir_avg.plot(ax=ax, ls='None', marker='o', ms=1.)\n",
    "except:\n",
    "    print(f\"No Parsivel data for {PIPS_to_check}\")"
   ]
  },
  {
   "cell_type": "code",
   "execution_count": null,
   "metadata": {},
   "outputs": [],
   "source": [
    "# Replace existing resampled wind and compass variables in the parsivel_ds. The times should automatically\n",
    "# already match up\n",
    "try:\n",
    "    for key, val in new_wind_dict.items():\n",
    "        # print(key+'_corrected')\n",
    "        # parsivel_ds[key+'_corrected'] = val\n",
    "        parsivel_ds[key] = val\n",
    "        \n",
    "    parsivel_ds['compass_dir'] = cleaned_compass_dir_avg\n",
    "    avg_compass_dir = cleaned_compass_dir_avg.mean(dim='time', skipna=True).item()\n",
    "    parsivel_ds['compass_dir'].attrs['average'] = avg_compass_dir\n",
    "    print(avg_compass_dir)\n",
    "    all(cleaned_compass_dir_avg['time'] == parsivel_ds['time'])\n",
    "except:\n",
    "    print(f\"No Parsivel data for {PIPS_to_check}\")"
   ]
  },
  {
   "cell_type": "code",
   "execution_count": null,
   "metadata": {},
   "outputs": [],
   "source": [
    "# Now save to new output directory\n",
    "for PIPS_name, output_parsivel_filepath, output_conv_filepath in zip(PIPS_names, \n",
    "                                                                     output_parsivel_filepaths, \n",
    "                                                                     output_conv_filepaths):\n",
    "    if PIPS_name == PIPS_to_check:\n",
    "        try:\n",
    "            print(\"Saving {}\".format(output_parsivel_filepath))\n",
    "            parsivel_ds.to_netcdf(output_parsivel_filepath)\n",
    "        except:\n",
    "            print(f\"No Parsivel data for {PIPS_to_check}\")\n",
    "        print(\"Saving {}\".format(output_conv_filepath))\n",
    "        conv_ds.to_netcdf(output_conv_filepath)"
   ]
  },
  {
   "cell_type": "code",
   "execution_count": null,
   "metadata": {},
   "outputs": [],
   "source": []
  },
  {
   "cell_type": "code",
   "execution_count": null,
   "metadata": {},
   "outputs": [],
   "source": []
  }
 ],
 "metadata": {
  "anaconda-cloud": {},
  "hide_input": false,
  "kernelspec": {
   "display_name": "Python [conda env:pyPIPS]",
   "language": "python",
   "name": "conda-env-pyPIPS-py"
  },
  "language_info": {
   "codemirror_mode": {
    "name": "ipython",
    "version": 3
   },
   "file_extension": ".py",
   "mimetype": "text/x-python",
   "name": "python",
   "nbconvert_exporter": "python",
   "pygments_lexer": "ipython3",
   "version": "3.10.14"
  },
  "toc": {
   "base_numbering": 1,
   "nav_menu": {},
   "number_sections": true,
   "sideBar": true,
   "skip_h1_title": false,
   "title_cell": "Table of Contents",
   "title_sidebar": "Contents",
   "toc_cell": false,
   "toc_position": {},
   "toc_section_display": true,
   "toc_window_display": false
  },
  "varInspector": {
   "cols": {
    "lenName": 16,
    "lenType": 16,
    "lenVar": 40
   },
   "kernels_config": {
    "python": {
     "delete_cmd_postfix": "",
     "delete_cmd_prefix": "del ",
     "library": "var_list.py",
     "varRefreshCmd": "print(var_dic_list())"
    },
    "r": {
     "delete_cmd_postfix": ") ",
     "delete_cmd_prefix": "rm(",
     "library": "var_list.r",
     "varRefreshCmd": "cat(var_dic_list()) "
    }
   },
   "types_to_exclude": [
    "module",
    "function",
    "builtin_function_or_method",
    "instance",
    "_Feature"
   ],
   "window_display": false
  }
 },
 "nbformat": 4,
 "nbformat_minor": 4
}
