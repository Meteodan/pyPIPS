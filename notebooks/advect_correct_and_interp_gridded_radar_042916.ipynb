{
 "cells": [
  {
   "cell_type": "code",
   "execution_count": null,
   "metadata": {
    "ExecuteTime": {
     "end_time": "2021-09-21T01:37:16.885476Z",
     "start_time": "2021-09-21T01:37:13.010204Z"
    }
   },
   "outputs": [],
   "source": [
    "%load_ext autoreload\n",
    "%autoreload 2\n",
    "import numpy as np\n",
    "import numpy.ma as ma\n",
    "import matplotlib\n",
    "import matplotlib.pyplot as plt\n",
    "%matplotlib notebook\n",
    "import matplotlib.cm as cm\n",
    "import matplotlib.ticker as ticker\n",
    "import matplotlib.dates as dates\n",
    "from matplotlib import dates\n",
    "from mpl_toolkits.axes_grid1 import ImageGrid, make_axes_locatable, host_subplot\n",
    "#from mpl_toolkits.basemap import Basemap\n",
    "from datetime import datetime, timedelta\n",
    "import sys\n",
    "import os\n",
    "import pyPIPS.utils as utils\n",
    "import pyPIPS.thermolib as thermo\n",
    "import pyPIPS.DSDlib as dsd\n",
    "#import pyPIPS.disdrometer_module as dis\n",
    "import pyPIPS.plotmodule as PIPSplot\n",
    "#import pyPIPS.simulator as sim\n",
    "import pyPIPS.pips_io as pipsio\n",
    "import pyPIPS.PIPS as pips\n",
    "import pyPIPS.parsivel_params as pp\n",
    "import pyPIPS.parsivel_qc as pqc\n",
    "import pyPIPS.radarmodule as radar\n",
    "import pyPIPS.polarimetric as dualpol\n",
    "#from pyCRMtools.modules import plotmodule as plotmod\n",
    "from pyCRMtools.modules import utils as CRMutils\n",
    "import pandas as pd\n",
    "import xarray as xr\n",
    "import glob\n",
    "import numpy.random as random\n",
    "from scipy.stats import gamma, uniform\n",
    "from scipy.special import gamma as gammafunc\n",
    "from scipy import ndimage\n",
    "from scipy import interpolate\n",
    "from metpy.plots import StationPlot\n",
    "import metpy.calc as mpcalc\n",
    "from metpy.calc import wind_components\n",
    "from metpy.cbook import get_test_data\n",
    "from metpy.plots import StationPlot\n",
    "from metpy.plots.wx_symbols import current_weather, sky_cover\n",
    "from metpy.units import units\n",
    "from scipy.signal import medfilt2d\n",
    "import pyart\n",
    "import cartopy.crs as ccrs\n",
    "from IPython.display import HTML\n",
    "%matplotlib inline\n",
    "# %matplotlib notebook\n",
    "import warnings;\n",
    "warnings.filterwarnings('ignore')"
   ]
  },
  {
   "cell_type": "code",
   "execution_count": null,
   "metadata": {
    "ExecuteTime": {
     "end_time": "2021-09-21T01:37:17.926729Z",
     "start_time": "2021-09-21T01:37:17.791837Z"
    }
   },
   "outputs": [],
   "source": [
    "# Function definitions\n",
    "def roundPartial(value, resolution, decimals=4):\n",
    "    return np.around(np.round(value / resolution) * resolution, decimals=decimals)\n",
    "\n",
    "def mtokm(val,pos):\n",
    "    \"\"\"Convert m to km for formatting axes tick labels\"\"\"\n",
    "    val=val/1000.0\n",
    "    return '%i' % val\n",
    "\n",
    "def interpolate_all(gridded_radar, tinterp_intv, base_field_name='reflectivity_masked', use_base_field=False):\n",
    "    # Get list of intervals in seconds between subsequent radar times\n",
    "    tdiffs = gridded_radar['time_seconds'].diff(dim='time')\n",
    "    \n",
    "    # This list will hold all the time-interpolated grids (xarray Datasets). \n",
    "    # Can later be concatenated into a new xarray Dataset containing all times\n",
    "    gridded_radar_interp_list = []\n",
    "    \n",
    "    # Grab first time from full dataset and restore singular time dimension\n",
    "    first_time_ds = gridded_radar.isel(time=0)\n",
    "    first_time_ds = first_time_ds.expand_dims(dim='time')\n",
    "\n",
    "    gridded_radar_interp_list.append(first_time_ds)\n",
    "    \n",
    "#     tbgn = first_time_ds.coords['time_seconds'].values.item()  # Need to get scalar value, not 0-d\n",
    "#                                                                # numpy array\n",
    "    \n",
    "    # Loop through the gridded_radar times, perform advection correction/interpolation between successive times\n",
    "    # and add each to the list, making sure the time coordinate is consistent\n",
    "    # new_time = tbgn\n",
    "    for i, tdiff in enumerate(tdiffs.values):\n",
    "        gridded_radar_interp_sublist = advection_correction_ds(gridded_radar.isel(time=slice(i, i+2)), \n",
    "                                                               tdiff, tinterp_intv, \n",
    "                                                               base_field_name=base_field_name,\n",
    "                                                               use_base_field=use_base_field)\n",
    "        for t, gridded_radar_interp in enumerate(gridded_radar_interp_sublist):\n",
    "#             new_time = new_time + tinterp_intv\n",
    "#             new_ds = first_time_ds.copy()\n",
    "#             new_ds[:] = gridded_radar_interp\n",
    "#             new_ds.coords['time'] = new_ds['time'] + np.timedelta64(int(new_time), 's')\n",
    "#             new_ds.coords['time_seconds'] = new_time\n",
    "            gridded_radar_interp_list.append(gridded_radar_interp)\n",
    "    \n",
    "    return gridded_radar_interp_list\n",
    "\n",
    "\n",
    "def advection_correction_ds(radar_ds, tintv_obs, tintv, base_field_name='reflectivity_masked', \n",
    "                            use_base_field=False, method=\"LK\"):\n",
    "    # Evaluate advection\n",
    "    oflow_method = motion.get_method(method)\n",
    "    fd_kwargs = {\"buffer_mask\": 10}  # avoid edge effects\n",
    "\n",
    "    base_field = radar_ds[base_field_name]\n",
    "    if use_base_field:\n",
    "        oflow_field = oflow_method(base_field, fd_kwargs=fd_kwargs)\n",
    "    \n",
    "    # Perform temporal interpolation on all variables in Dataset using the flow field derived from either \n",
    "    # the \"base\" field (by default, reflectivity), or each field individually\n",
    "    \n",
    "    tbgn = base_field[0].coords['time_seconds'].values.item()   # Need to get scalar value, not 0-d\n",
    "                                                                # numpy array\n",
    "    print(tbgn)\n",
    "    print(tintv)\n",
    "    radar_ds_list = []\n",
    "    x, y = np.meshgrid(\n",
    "        np.arange(base_field[0].shape[1], dtype=float), np.arange(base_field[0].shape[0], dtype=float),\n",
    "    )\n",
    "    \n",
    "    new_time = tbgn\n",
    "    for i in np.arange(tintv, tintv_obs + tintv, tintv):\n",
    "        new_time = new_time + tintv\n",
    "        if use_base_field:\n",
    "            pos1 = (y - i / tintv_obs * oflow_field[1], \n",
    "                    x - i / tintv_obs * oflow_field[0])\n",
    "            pos2 = (y + (tintv_obs - i) / tintv_obs * oflow_field[1], \n",
    "                    x + (tintv_obs - i) / tintv_obs * oflow_field[0])\n",
    "        \n",
    "        field_interp_list = []\n",
    "        for field_name, field_da in radar_ds.items():\n",
    "            if not use_base_field:\n",
    "                oflow_field = oflow_method(field_da, fd_kwargs=fd_kwargs)\n",
    "                pos1 = (y - i / tintv_obs * oflow_field[1], \n",
    "                        x - i / tintv_obs * oflow_field[0])\n",
    "                pos2 = (y + (tintv_obs - i) / tintv_obs * oflow_field[1], \n",
    "                        x + (tintv_obs - i) / tintv_obs * oflow_field[0])\n",
    "                \n",
    "            fieldt1 = map_coordinates(field_da[0], pos1, order=1)\n",
    "            fieldt2 = map_coordinates(field_da[1], pos2, order=1)\n",
    "       \n",
    "            field_interp = field_da.isel(time=[0]).copy()\n",
    "            field_interp[:] = ((tintv_obs - i) * fieldt1 + i * fieldt2) / tintv_obs\n",
    "            try:\n",
    "                field_interp.coords['time'] = field_interp['time'] + np.timedelta64(int(new_time - tbgn), 's')\n",
    "            except TypeError:\n",
    "                field_interp.coords['time'] = field_interp['time'] + timedelta(seconds=int(new_time - tbgn))\n",
    "            field_interp.coords['time_seconds'] = new_time\n",
    "            field_interp_list.append(field_interp)\n",
    "        \n",
    "        radar_ds_interp = xr.merge(field_interp_list)\n",
    "        radar_ds_list.append(radar_ds_interp)\n",
    "        \n",
    "    return radar_ds_list\n",
    "\n",
    "\n",
    "def advection_correction(arr, tintv_obs, tintv):\n",
    "    \"\"\"\n",
    "    R = np.array([qpe_previous, qpe_current])\n",
    "    T = time between two observations (5 min)\n",
    "    t = interpolation timestep (1 min)\n",
    "    \"\"\"\n",
    "\n",
    "    # Evaluate advection\n",
    "    oflow_method = motion.get_method(\"LK\")\n",
    "    fd_kwargs = {\"buffer_mask\": 10}  # avoid edge effects\n",
    "    V = oflow_method(arr, fd_kwargs=fd_kwargs)\n",
    "\n",
    "    # Perform temporal interpolation\n",
    "    # arr_d = np.zeros((arr[0].shape))\n",
    "    arr_list = []\n",
    "    x, y = np.meshgrid(\n",
    "        np.arange(arr[0].shape[1], dtype=float), np.arange(arr[0].shape[0], dtype=float),\n",
    "    )\n",
    "    for i in np.arange(tintv, tintv_obs + tintv, tintv):\n",
    "\n",
    "        pos1 = (y - i / tintv_obs * V[1], x - i / tintv_obs * V[0])\n",
    "        R1 = map_coordinates(arr[0], pos1, order=1)\n",
    "        \n",
    "        pos2 = (y + (tintv_obs - i) / tintv_obs * V[1], x + (tintv_obs - i) / tintv_obs * V[0])\n",
    "        R2 = map_coordinates(arr[1], pos2, order=1)\n",
    "\n",
    "        arr_interp = ((tintv_obs - i) * R1 + i * R2) / tintv_obs\n",
    "        arr_list.append(arr_interp)\n",
    "\n",
    "    return arr_list"
   ]
  },
  {
   "cell_type": "code",
   "execution_count": null,
   "metadata": {
    "ExecuteTime": {
     "end_time": "2021-09-21T01:37:22.433732Z",
     "start_time": "2021-09-21T01:37:18.832424Z"
    },
    "scrolled": true
   },
   "outputs": [],
   "source": [
    "# Read in the gridded radar data\n",
    "read_combined = False\n",
    "radar_name = 'KGWX'\n",
    "radar_type= 'NEXRAD'\n",
    "\n",
    "# For 04/29/16 case (IOP4B)\n",
    "date = '0429'\n",
    "radar_start_datetimestamp = '20160429212000'\n",
    "radar_end_datetimestamp = '20160430000000'\n",
    "height = 1000.\n",
    "\n",
    "# Create datetime objects for start and end times\n",
    "datetime_start = datetime.strptime(radar_start_datetimestamp, '%Y%m%d%H%M%S')\n",
    "datetime_end = datetime.strptime(radar_end_datetimestamp, '%Y%m%d%H%M%S')\n",
    "\n",
    "radar_basedir = \\\n",
    "    '/Volumes/scr_fast/Projects/VORTEXSE/obsdata/2016/NEXRAD/IOP_4B/GWX/'\n",
    "#radar_basedir = os.path.join(radar_basedir, '{}/{}'.format(date, radar_name[1:]))\n",
    "gridded_radar_input_dir = os.path.join(radar_basedir, 'gridded')\n",
    "gridded_radar_output_dir = os.path.join(radar_basedir, 'gridded')\n",
    "if not os.path.exists(gridded_radar_output_dir):\n",
    "    os.makedirs(gridded_radar_output_dir)\n",
    "\n",
    "radar_start_timestamp = datetime_start.strftime('%H%M%S')\n",
    "radar_end_timestamp = datetime_end.strftime('%H%M%S')\n",
    "gridded_radar_combined_filename = '{}_{}_{}_gridded.nc'.format(radar_name, radar_start_timestamp,\n",
    "                                                               radar_end_timestamp)\n",
    "\n",
    "gridded_radar_combined_filepath = os.path.join(gridded_radar_output_dir, gridded_radar_combined_filename)\n",
    "if os.path.exists(gridded_radar_combined_filepath) and read_combined:\n",
    "    # Read in file since we already dumped it out in a previous run of the notebook\n",
    "    gridded_radar_xr = xr.open_dataset(gridded_radar_combined_filepath)\n",
    "else:\n",
    "    # Read in individual gridded radar volumes, stack them into a combined Dataset and dump to disk\n",
    "    gridded_radar_paths = glob.glob(gridded_radar_input_dir + '/{}2016{}*_gridded.nc'.format(radar_name, date))\n",
    "    print(gridded_radar_paths)\n",
    "    print(gridded_radar_input_dir + '/{}2016{}*_gridded.nc'.format(radar_name, date))\n",
    "    gridded_radar_paths = sorted(gridded_radar_paths)\n",
    "    gridded_radar_input_list = []\n",
    "    #print(gridded_radar_paths)\n",
    "    for path in gridded_radar_paths:\n",
    "        filename = os.path.basename(path)\n",
    "        file_timestamp = filename[4:18] # filename[4:19]\n",
    "        file_datetime = datetime.strptime(file_timestamp, '%Y%m%d_%H%M%S')\n",
    "        if file_datetime >= datetime_start and file_datetime <= datetime_end:\n",
    "            gridded_radar_input_list.append(path)\n",
    "    #print(gridded_radar_input_list)        \n",
    "    gridded_radar_list = []\n",
    "    gridded_radar_xr_list = []\n",
    "    for gridded_radar_path in gridded_radar_input_list:\n",
    "        print(\"Reading {}\".format(os.path.basename(gridded_radar_path)))\n",
    "        gridded_radar = pyart.io.read_grid(gridded_radar_path)\n",
    "        gridded_radar_xr = gridded_radar.to_xarray()\n",
    "        # For some reason the conversion to xarray does not preserve the altitude of the grid origin,\n",
    "        # so add it back here as an attribute. Also, create a new coordinate \"alt\" that is the height of the \n",
    "        # grid points above sea level\n",
    "        origin_altitude = gridded_radar.origin_altitude['data'].item()\n",
    "        gridded_radar_xr.attrs['origin_altitude'] = origin_altitude\n",
    "        gridded_radar_xr = gridded_radar_xr.assign_coords(alt=gridded_radar_xr.coords['z'] + origin_altitude)\n",
    "        # print(gridded_radar_xr)\n",
    "        \n",
    "        gridded_radar_xr_list.append(gridded_radar_xr)\n",
    "    gridded_radar_xr = xr.concat(gridded_radar_xr_list, dim='time')\n",
    "    print(\"Writing {}\".format(gridded_radar_combined_filename))\n",
    "    gridded_radar_xr.to_netcdf(gridded_radar_combined_filepath)\n",
    "\n",
    "print(gridded_radar_xr)"
   ]
  },
  {
   "cell_type": "code",
   "execution_count": null,
   "metadata": {
    "ExecuteTime": {
     "end_time": "2021-09-21T01:37:26.263521Z",
     "start_time": "2021-09-21T01:37:26.155161Z"
    }
   },
   "outputs": [],
   "source": [
    "plot_dir = os.path.join(gridded_radar_output_dir, 'plots')\n",
    "if not os.path.exists(plot_dir):\n",
    "    os.makedirs(plot_dir)"
   ]
  },
  {
   "cell_type": "code",
   "execution_count": null,
   "metadata": {
    "ExecuteTime": {
     "end_time": "2021-09-21T01:37:29.411441Z",
     "start_time": "2021-09-21T01:37:29.265149Z"
    },
    "scrolled": true
   },
   "outputs": [],
   "source": [
    "datetime_substart = datetime_start\n",
    "datetime_subend = datetime_end\n",
    "timestamp_substart = datetime_substart.strftime('%Y-%m-%dT%H:%M')\n",
    "timestamp_subend = datetime_subend.strftime('%Y-%m-%dT%H:%M')\n",
    "\n",
    "gridded_radar_xr_subset = gridded_radar_xr.sel(time=slice(timestamp_substart, timestamp_subend))\n",
    "print(gridded_radar_xr_subset['time'])\n",
    "\n",
    "# Round times to nearest minute\n",
    "rounded_times = gridded_radar_xr_subset['time'].dt.round('60S')\n",
    "print(rounded_times)\n",
    "gridded_radar_xr_subset['time'] = rounded_times\n",
    "\n",
    "time_seconds = (gridded_radar_xr_subset['time'] - gridded_radar_xr_subset['time'][0]) / np.timedelta64(1, 's')\n",
    "print(time_seconds)\n",
    "gridded_radar_xr_subset.coords['time_seconds'] = ('time', time_seconds)\n",
    "print(gridded_radar_xr_subset)\n",
    "# total_seconds = (gridded_radar_xr_subset['time'] - gridded_radar_xr_subset['time'][0]).total_seconds()"
   ]
  },
  {
   "cell_type": "code",
   "execution_count": null,
   "metadata": {
    "ExecuteTime": {
     "end_time": "2021-09-21T01:37:32.054221Z",
     "start_time": "2021-09-21T01:37:31.942847Z"
    }
   },
   "outputs": [],
   "source": [
    "# Extract one level from the gridded radar Dataset\n",
    "height = 1000.\n",
    "gridded_radar_xr_subset_onelevel = gridded_radar_xr_subset.sel(z=height).squeeze()\n",
    "gridded_radar_xr_subset_onelevel = gridded_radar_xr_subset_onelevel.transpose(\"time\", \"y\", \"x\")"
   ]
  },
  {
   "cell_type": "code",
   "execution_count": null,
   "metadata": {
    "ExecuteTime": {
     "end_time": "2021-09-21T01:38:49.561598Z",
     "start_time": "2021-09-21T01:37:42.795492Z"
    },
    "scrolled": true
   },
   "outputs": [],
   "source": [
    "# Use pysteps for advection correction and temporal interpolation\n",
    "from pysteps import io, motion, rcparams\n",
    "from scipy.ndimage import map_coordinates\n",
    "\n",
    "oflow_method = motion.get_method(\"LK\")\n",
    "fd_kwargs = {\"buffer_mask\": 10} # avoid edge effects\n",
    "\n",
    "# Plot optical flow field as a function of time\n",
    "dBZ = gridded_radar_xr_subset_onelevel['reflectivity']\n",
    "times = dBZ['time'][1:-1]\n",
    "print(times)\n",
    "for t, curtime in enumerate(times):\n",
    "    print(t, t+2)\n",
    "    print(curtime)\n",
    "    # curtime_datetime = pd.to_datetime(curtime).to_pydatetime()\n",
    "    # TODO: the following works (and the above no longer does). Need to find out what is really\n",
    "    # going on with all these different datetime classes\n",
    "    curtime_datetime = curtime.values.item()\n",
    "    curtime_stamp = curtime_datetime.strftime('%Y%m%d%H%M%S')\n",
    "    velocity_field = oflow_method(dBZ[t:t+2], fd_kwargs=fd_kwargs)\n",
    "    qintv = 10\n",
    "    xplt = gridded_radar_xr_subset_onelevel['x']\n",
    "    yplt = gridded_radar_xr_subset_onelevel['y']\n",
    "    uplt = velocity_field[0]\n",
    "    vplt = velocity_field[1]\n",
    "    print(velocity_field.shape)\n",
    "    fig, ax = plt.subplots(figsize=(8, 8))\n",
    "    clevels = np.arange(0., 61., 1.)\n",
    "    dBZ_plt = ax.contourf(xplt, yplt, dBZ[t+1], clevels=clevels, cmap='pyart_HomeyerRainbow')\n",
    "    ax.quiver(xplt[::qintv], yplt[::qintv], uplt[::qintv,::qintv], vplt[::qintv,::qintv])\n",
    "    cbarintv = 5.\n",
    "    cbarlevels = ticker.MultipleLocator(base=cbarintv)\n",
    "    divider = make_axes_locatable(ax)\n",
    "    cax = divider.append_axes(\"right\", size=\"5%\", pad=0.05)\n",
    "    fig.colorbar(dBZ_plt, orientation='vertical', ticks=cbarlevels, cax=cax)\n",
    "    cax.set_ylabel('dBZ')\n",
    "    formatter = ticker.FuncFormatter(mtokm)\n",
    "    ax.xaxis.set_major_formatter(formatter)\n",
    "    ax.yaxis.set_major_formatter(formatter)\n",
    "    # ax.xaxis.set_major_locator(ticker.MultipleLocator(base=axestickintv))\n",
    "    # ax.yaxis.set_major_locator(ticker.MultipleLocator(base=axestickintv))\n",
    "    ax.set_xlabel('km')\n",
    "    ax.set_ylabel('km')\n",
    "    ax.set_aspect('equal')\n",
    "\n",
    "    plot_filename='pysteps_adv_correction_{}.png'.format(curtime_stamp)\n",
    "    plot_filepath = os.path.join(plot_dir, plot_filename)\n",
    "    fig.savefig(plot_filepath, dpi=300, bbox_inches='tight')\n",
    "\n",
    "    print(uplt.mean(), vplt.mean())\n",
    "\n",
    "# velocity_field = oflow_method(dBZ[5:7], fd_kwargs=fd_kwargs)\n",
    "\n",
    "# qintv = 10\n",
    "# xplt = gridded_radar_xr_subset_onelevel['x']\n",
    "# yplt = gridded_radar_xr_subset_onelevel['y']\n",
    "# uplt = velocity_field[0]\n",
    "# vplt = velocity_field[1]\n",
    "# print(velocity_field.shape)\n",
    "# fig, ax = plt.subplots(figsize=(8, 8))\n",
    "# clevels = np.arange(0., 61., 1.)\n",
    "# dBZ = ax.contourf(xplt, yplt, dBZ[5], clevels=clevels, cmap='pyart_HomeyerRainbow')\n",
    "# ax.quiver(xplt[::qintv], yplt[::qintv], uplt[::qintv,::qintv], vplt[::qintv,::qintv])\n",
    "# cbarintv = 5.\n",
    "# cbarlevels = ticker.MultipleLocator(base=cbarintv)\n",
    "# divider = make_axes_locatable(ax)\n",
    "# cax = divider.append_axes(\"right\", size=\"5%\", pad=0.05)\n",
    "# fig.colorbar(dBZ, orientation='vertical', ticks=cbarlevels, cax=cax)\n",
    "# cax.set_ylabel('dBZ')\n",
    "# formatter = ticker.FuncFormatter(mtokm)\n",
    "# ax.xaxis.set_major_formatter(formatter)\n",
    "# ax.yaxis.set_major_formatter(formatter)\n",
    "# # ax.xaxis.set_major_locator(ticker.MultipleLocator(base=axestickintv))\n",
    "# # ax.yaxis.set_major_locator(ticker.MultipleLocator(base=axestickintv))\n",
    "# ax.set_xlabel('km')\n",
    "# ax.set_ylabel('km')\n",
    "# ax.set_aspect('equal')\n",
    "\n",
    "# plot_filename='pysteps_adv_correction.png'\n",
    "# plot_filepath = os.path.join(plot_dir, plot_filename)\n",
    "# fig.savefig(plot_filepath, dpi=300, bbox_inches='tight')\n",
    "\n",
    "# print(uplt.mean(), vplt.mean())"
   ]
  },
  {
   "cell_type": "code",
   "execution_count": null,
   "metadata": {
    "ExecuteTime": {
     "end_time": "2021-09-21T01:41:55.779873Z",
     "start_time": "2021-09-21T01:40:50.429941Z"
    },
    "scrolled": true
   },
   "outputs": [],
   "source": [
    "# Perform advection correction and interpolate gridded radar sequence to 1-min intervals\n",
    "# Just do Z, ZDR, and RHV\n",
    "\n",
    "gridded_Z_ZDR_RHV = gridded_radar_xr_subset_onelevel[['reflectivity', \n",
    "                                                      'differential_reflectivity',\n",
    "                                                      'cross_correlation_ratio']]\n",
    "tinterp_intv = 60.\n",
    "\n",
    "print(gridded_Z_ZDR_RHV)\n",
    "\n",
    "# print(gridded_Z_ZDR.isel(time=[0]))\n",
    "\n",
    "# for varname, var in gridded_Z_ZDR.items():\n",
    "#     print(varname)\n",
    "#     print(var[1])\n",
    "\n",
    "gridded_Z_ZDR_RHV_interp_list = interpolate_all(gridded_Z_ZDR_RHV, tinterp_intv, \n",
    "                                                base_field_name='reflectivity', use_base_field=True)\n"
   ]
  },
  {
   "cell_type": "code",
   "execution_count": null,
   "metadata": {
    "ExecuteTime": {
     "end_time": "2021-09-21T01:42:26.331754Z",
     "start_time": "2021-09-21T01:42:25.550275Z"
    }
   },
   "outputs": [],
   "source": [
    "gridded_Z_ZDR_RHV_interp_ds = xr.concat(gridded_Z_ZDR_RHV_interp_list, 'time')\n",
    "print(gridded_Z_ZDR_RHV_interp_ds)"
   ]
  },
  {
   "cell_type": "code",
   "execution_count": null,
   "metadata": {
    "ExecuteTime": {
     "end_time": "2021-09-21T01:42:34.900423Z",
     "start_time": "2021-09-21T01:42:33.830227Z"
    }
   },
   "outputs": [],
   "source": [
    "# Check to see if masked versions of ZH, ZDR, and RHV exist in the file. \n",
    "# If not, create them here.\n",
    "\n",
    "mask_anyway = True\n",
    "ZH_thresh = 5.\n",
    "ZDR_thresh = 0.1\n",
    "RHV_thresh = 0.95\n",
    "\n",
    "print(\"Z, ZDR, RHV thresholds are {:f}, {:f}, {:f}\".format(ZH_thresh, ZDR_thresh, RHV_thresh))\n",
    "\n",
    "if 'reflectivity_masked' not in gridded_Z_ZDR_RHV_interp_ds or mask_anyway:\n",
    "    print(\"Masking Z, ZDR, and RHV on thresholds of {:f}, {:f}, {:f}\".format(ZH_thresh, ZDR_thresh, RHV_thresh))\n",
    "    ZH_mask = np.where(gridded_Z_ZDR_RHV_interp_ds['reflectivity'] < ZH_thresh, True, False)\n",
    "    ZH_mask = np.where(np.isfinite(gridded_Z_ZDR_RHV_interp_ds['reflectivity']), ZH_mask, False)\n",
    "    ZDR_mask = np.where(gridded_Z_ZDR_RHV_interp_ds['differential_reflectivity'] < ZDR_thresh, True, False)\n",
    "    ZDR_mask = np.where(np.isfinite(gridded_Z_ZDR_RHV_interp_ds['differential_reflectivity']), ZDR_mask, False)\n",
    "    RHV_mask = np.where(gridded_Z_ZDR_RHV_interp_ds['cross_correlation_ratio'] < RHV_thresh, True, False)\n",
    "    RHV_mask = np.where(np.isfinite(gridded_Z_ZDR_RHV_interp_ds['cross_correlation_ratio']), RHV_mask, False)\n",
    "    full_mask = np.ma.mask_or(ZH_mask, ZDR_mask)\n",
    "    full_mask = np.ma.mask_or(full_mask, RHV_mask)\n",
    "\n",
    "    gridded_Z_ZDR_RHV_interp_ds['reflectivity_masked'] = \\\n",
    "        gridded_Z_ZDR_RHV_interp_ds['reflectivity'].where(~full_mask)\n",
    "    gridded_Z_ZDR_RHV_interp_ds['differential_reflectivity_masked'] = \\\n",
    "        gridded_Z_ZDR_RHV_interp_ds['differential_reflectivity'].where(~full_mask)\n",
    "    gridded_Z_ZDR_RHV_interp_ds['cross_correlation_ratio_masked'] = \\\n",
    "        gridded_Z_ZDR_RHV_interp_ds['cross_correlation_ratio'].where(~full_mask)\n",
    "    print(\"Writing {}\".format(gridded_radar_combined_filename))\n",
    "    #gridded_radar_xr.to_netcdf(gridded_radar_combined_filepath)\n",
    "print(gridded_Z_ZDR_RHV_interp_ds)"
   ]
  },
  {
   "cell_type": "code",
   "execution_count": null,
   "metadata": {
    "ExecuteTime": {
     "end_time": "2021-09-21T01:42:44.378833Z",
     "start_time": "2021-09-21T01:42:42.734828Z"
    }
   },
   "outputs": [],
   "source": [
    "# Save interpolated grid to file\n",
    "out_start_timestamp = datetime_substart.strftime('%Y%m%d%H%M')\n",
    "out_end_timestamp = datetime_subend.strftime('%Y%m%d%H%M')\n",
    "gridded_radar_interp_filename = '{}_{}_{}_z{:d}_gridded_interp.nc'.format(radar_name, out_start_timestamp,\n",
    "                                                                          out_end_timestamp, int(height))\n",
    "gridded_radar_interp_filepath = os.path.join(gridded_radar_output_dir, gridded_radar_interp_filename)\n",
    "gridded_Z_ZDR_RHV_interp_ds.to_netcdf(gridded_radar_interp_filepath)"
   ]
  },
  {
   "cell_type": "code",
   "execution_count": null,
   "metadata": {
    "ExecuteTime": {
     "end_time": "2020-12-28T17:58:30.747079Z",
     "start_time": "2020-12-28T17:58:29.206688Z"
    }
   },
   "outputs": [],
   "source": [
    "# Find PIPS x, y location by interpolating to its lat/lon point\n",
    "gridded_radar_interp_latlon_ds = gridded_radar_interp_ds.swap_dims({'x': 'lon', 'y': 'lat'})\n",
    "radar_at_PIPS_da = gridded_radar_interp_latlon_ds.interp(lat=PIPS_lat, lon=PIPS_lon)\n",
    "PIPS_x = radar_at_PIPS_da['x'].values.item()\n",
    "PIPS_y = radar_at_PIPS_da['y'].values.item()\n",
    "print(radar_at_PIPS_da)\n"
   ]
  },
  {
   "cell_type": "code",
   "execution_count": null,
   "metadata": {
    "ExecuteTime": {
     "end_time": "2020-12-28T17:58:35.968034Z",
     "start_time": "2020-12-28T17:58:35.625096Z"
    }
   },
   "outputs": [],
   "source": [
    "radar_at_PIPS_da['reflectivity_masked'].plot()"
   ]
  },
  {
   "cell_type": "code",
   "execution_count": null,
   "metadata": {},
   "outputs": [],
   "source": [
    "plot_filename='reflectivity_masked_plot.png'\n",
    "plot_filepath = os.path.join(plot_dir, plot_filename)\n",
    "fig.savefig(plot_filepath, dpi=300, bbox_inches='tight')"
   ]
  },
  {
   "cell_type": "code",
   "execution_count": null,
   "metadata": {
    "ExecuteTime": {
     "end_time": "2021-09-21T01:46:14.076019Z",
     "start_time": "2021-09-21T01:43:34.848289Z"
    }
   },
   "outputs": [],
   "source": [
    "# Plot reflectivity for time-interpolated grid\n",
    "# Choose a subset of times to keep animation size down\n",
    "anim_start = '2016-04-29T21:20'\n",
    "anim_end = '2016-04-30T00:00'\n",
    "\n",
    "var_da = gridded_Z_ZDR_RHV_interp_ds['reflectivity_masked'].sel(time=slice(anim_start, anim_end))\n",
    "\n",
    "clevels =np.arange(0., 61., 1.)\n",
    "norm = cm.colors.Normalize(vmin=0., vmax=60.)\n",
    "\n",
    "import matplotlib.animation as animation\n",
    "fig, ax = plt.subplots(figsize=(8, 8))\n",
    "\n",
    "ims = []\n",
    "for i, var in enumerate(var_da):\n",
    "    time = var.coords['time_seconds'].values.item()\n",
    "    ci = ax.contourf(xplt, yplt, var.squeeze(), levels=clevels, \n",
    "                     cmap='pyart_HomeyerRainbow', norm=norm)\n",
    "    # Plot PIPS location\n",
    "    #ax.plot([PIPS_x], [PIPS_y], 'k*')\n",
    "    if i == 0.:\n",
    "        fig.colorbar(ci, ax=ax)\n",
    "        ax.set_aspect('equal')\n",
    "    ims.append(ci.collections)\n",
    "    \n",
    "ani = animation.ArtistAnimation(fig, ims, interval=50, blit=True,\n",
    "                                repeat_delay=1000)\n",
    "plt.close()\n",
    "HTML(ani.to_jshtml())"
   ]
  },
  {
   "cell_type": "code",
   "execution_count": null,
   "metadata": {
    "ExecuteTime": {
     "end_time": "2021-09-17T01:52:47.759867Z",
     "start_time": "2021-09-17T01:51:03.263193Z"
    }
   },
   "outputs": [],
   "source": [
    "# Save above animation to disk\n",
    "ani_filename = 'interp_masked_ref_{}_{}_z{:d}.mp4'.format(anim_start, anim_end, int(height))\n",
    "ani_filepath = os.path.join(plot_dir, ani_filename)\n",
    "\n",
    "ani.save(ani_filepath)"
   ]
  },
  {
   "cell_type": "code",
   "execution_count": null,
   "metadata": {
    "ExecuteTime": {
     "end_time": "2021-09-17T01:56:11.839060Z",
     "start_time": "2021-09-17T01:53:30.303961Z"
    }
   },
   "outputs": [],
   "source": [
    "print(retr_var_da_dict.keys())\n",
    "\n",
    "D0_da = retr_var_da_dict['D0']\n",
    "\n",
    "clevels =np.arange(0., 6., 0.1)\n",
    "norm = cm.colors.Normalize(vmin=0., vmax=6.)\n",
    "\n",
    "import matplotlib.animation as animation\n",
    "fig, ax = plt.subplots(figsize=(8, 8))\n",
    "\n",
    "ims = []\n",
    "for i, var in enumerate(D0_da):\n",
    "    time = var.coords['time_seconds'].values.item()\n",
    "    ci = ax.contourf(xplt, yplt, var.squeeze(), \n",
    "                     levels=clevels, \n",
    "                     cmap='pyart_HomeyerRainbow', norm=norm)\n",
    "    if i == 0.:\n",
    "        fig.colorbar(ci, ax=ax)\n",
    "        ax.set_aspect('equal')\n",
    "    ims.append(ci.collections)\n",
    "    \n",
    "ani = animation.ArtistAnimation(fig, ims, interval=50, blit=True,\n",
    "                                repeat_delay=1000)\n",
    "\n",
    "plt.close()\n",
    "HTML(ani.to_jshtml())\n",
    "# plt.show()"
   ]
  },
  {
   "cell_type": "code",
   "execution_count": null,
   "metadata": {
    "ExecuteTime": {
     "end_time": "2021-09-17T01:56:13.306007Z",
     "start_time": "2021-09-17T01:53:35.165Z"
    }
   },
   "outputs": [],
   "source": [
    "# Save above animation to disk\n",
    "ani_filename = 'D0_{}_{}_z{:d}.mp4'.format(anim_start, anim_end, int(height))\n",
    "ani_filepath = os.path.join(plot_dir, ani_filename)\n",
    "\n",
    "ani.save(ani_filepath)"
   ]
  },
  {
   "cell_type": "code",
   "execution_count": null,
   "metadata": {},
   "outputs": [],
   "source": []
  }
 ],
 "metadata": {
  "hide_input": false,
  "kernelspec": {
   "display_name": "Python 3.7.3 64-bit ('pyPIPS': conda)",
   "language": "python",
   "name": "python37364bitpypipscondaea8788f6419a4a34be329df7b3b7ce88"
  },
  "language_info": {
   "codemirror_mode": {
    "name": "ipython",
    "version": 3
   },
   "file_extension": ".py",
   "mimetype": "text/x-python",
   "name": "python",
   "nbconvert_exporter": "python",
   "pygments_lexer": "ipython3",
   "version": "3.7.10"
  },
  "toc": {
   "base_numbering": 1,
   "nav_menu": {},
   "number_sections": true,
   "sideBar": true,
   "skip_h1_title": false,
   "title_cell": "Table of Contents",
   "title_sidebar": "Contents",
   "toc_cell": false,
   "toc_position": {},
   "toc_section_display": true,
   "toc_window_display": false
  },
  "varInspector": {
   "cols": {
    "lenName": 16,
    "lenType": 16,
    "lenVar": 40
   },
   "kernels_config": {
    "python": {
     "delete_cmd_postfix": "",
     "delete_cmd_prefix": "del ",
     "library": "var_list.py",
     "varRefreshCmd": "print(var_dic_list())"
    },
    "r": {
     "delete_cmd_postfix": ") ",
     "delete_cmd_prefix": "rm(",
     "library": "var_list.r",
     "varRefreshCmd": "cat(var_dic_list()) "
    }
   },
   "types_to_exclude": [
    "module",
    "function",
    "builtin_function_or_method",
    "instance",
    "_Feature"
   ],
   "window_display": false
  }
 },
 "nbformat": 4,
 "nbformat_minor": 4
}
