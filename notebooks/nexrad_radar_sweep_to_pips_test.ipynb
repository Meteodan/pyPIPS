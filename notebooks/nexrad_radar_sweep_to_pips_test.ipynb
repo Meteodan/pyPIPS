{
 "cells": [
  {
   "cell_type": "code",
   "execution_count": null,
   "metadata": {
    "ExecuteTime": {
     "end_time": "2020-03-10T14:57:43.500944Z",
     "start_time": "2020-03-10T14:57:43.372724Z"
    }
   },
   "outputs": [],
   "source": [
    "%load_ext autoreload\n",
    "%autoreload 2\n",
    "import numpy as np\n",
    "import numpy.ma as ma\n",
    "import matplotlib\n",
    "import matplotlib.pyplot as plt\n",
    "import matplotlib.cm as cm\n",
    "import matplotlib.ticker as ticker\n",
    "import matplotlib.dates as dates\n",
    "from mpl_toolkits.axes_grid1 import ImageGrid,make_axes_locatable,host_subplot\n",
    "#from mpl_toolkits.basemap import Basemap\n",
    "from datetime import datetime, timedelta\n",
    "import sys\n",
    "import os\n",
    "import pyPIPS.utils as utils\n",
    "import pyPIPS.thermolib as thermo\n",
    "import pyPIPS.DSDlib as dsd\n",
    "#import pyPIPS.disdrometer_module as dis\n",
    "import pyPIPS.plotmodule as PIPSplot\n",
    "#import pyPIPS.simulator as sim\n",
    "import pyPIPS.pips_io as pipsio\n",
    "import pyPIPS.PIPS as pips\n",
    "import pyPIPS.parsivel_params as pp\n",
    "import pyPIPS.parsivel_qc as pqc\n",
    "import pyPIPS.radarmodule as radar\n",
    "#from pyCRMtools.modules import plotmodule as plotmod\n",
    "from pyCRMtools.modules import utils as CRMutils\n",
    "from pyCRMtools.pycaps import arps_read\n",
    "from pyCRMtools.pycaps import pycaps_fields\n",
    "from pyCRMtools.pycaps import calvars_radar as pycaps_radar\n",
    "import pandas as pd\n",
    "import xarray as xr\n",
    "import glob\n",
    "import numpy.random as random\n",
    "from scipy.stats import gamma, uniform\n",
    "from scipy.special import gamma as gammafunc\n",
    "from scipy import ndimage\n",
    "from metpy.plots import StationPlot\n",
    "from metpy.calc import wind_components\n",
    "from metpy.cbook import get_test_data\n",
    "from metpy.plots import StationPlot\n",
    "from metpy.plots.wx_symbols import current_weather, sky_cover\n",
    "from metpy.units import units\n",
    "%matplotlib inline"
   ]
  },
  {
   "cell_type": "code",
   "execution_count": null,
   "metadata": {
    "ExecuteTime": {
     "end_time": "2020-02-26T19:21:07.274378Z",
     "start_time": "2020-02-26T19:21:07.093910Z"
    },
    "scrolled": true
   },
   "outputs": [],
   "source": [
    "PIPS_dir = '/Users/dawson29/sshfs_mounts/depot/data/Projects/TriPIPS/2019'\n",
    "parsivel_combined_filename = 'parsivel_combined_TriPIPS_092719_TriPIPS_10s.nc'\n",
    "parsivel_combined_path = os.path.join(PIPS_dir, parsivel_combined_filename)\n",
    "parsivel_combined_ds = xr.open_dataset(parsivel_combined_path)"
   ]
  },
  {
   "cell_type": "code",
   "execution_count": null,
   "metadata": {
    "ExecuteTime": {
     "end_time": "2020-02-26T19:21:08.779570Z",
     "start_time": "2020-02-26T19:21:08.652742Z"
    }
   },
   "outputs": [],
   "source": [
    "from natsort import natsorted\n",
    "radar_name = 'KIND'\n",
    "radar_dir = '/Users/dawson29/sshfs_mounts/depot/data/Projects/TriPIPS/2019/NEXRAD/09/27/CFRadial/20190927'\n",
    "radar_paths = glob.glob(radar_dir + '/cfrad.*')\n",
    "radar_paths = natsorted(radar_paths)"
   ]
  },
  {
   "cell_type": "code",
   "execution_count": null,
   "metadata": {
    "ExecuteTime": {
     "end_time": "2020-02-26T19:21:09.885523Z",
     "start_time": "2020-02-26T19:21:09.357085Z"
    },
    "scrolled": true
   },
   "outputs": [],
   "source": [
    "sweeptime_start = radar._getsweeptime(radar_paths[0])\n",
    "sweeptime_stop = radar._getsweeptime(radar_paths[-1])\n",
    "print(sweeptime_start, sweeptime_stop)"
   ]
  },
  {
   "cell_type": "code",
   "execution_count": null,
   "metadata": {
    "ExecuteTime": {
     "end_time": "2020-02-26T19:23:22.030697Z",
     "start_time": "2020-02-26T19:22:22.493095Z"
    },
    "scrolled": true
   },
   "outputs": [],
   "source": [
    "starttime = '20190927190000'\n",
    "stoptime = '20190927204500'\n",
    "\n",
    "radar_dict = radar.read_sweeps(radar_paths, starttime, stoptime)\n",
    "print(radar_dict['radarsweeplist'])"
   ]
  },
  {
   "cell_type": "code",
   "execution_count": null,
   "metadata": {
    "ExecuteTime": {
     "end_time": "2020-02-26T19:24:11.728469Z",
     "start_time": "2020-02-26T19:24:11.659137Z"
    }
   },
   "outputs": [],
   "source": [
    "# GPS_stats = conv_df['GPS_status']\n",
    "# GPS_lats = conv_df['GPS_lat']\n",
    "# GPS_lons = conv_df['GPS_lon']\n",
    "# GPS_alts = conv_df['GPS_alt']\n",
    "# PIPS_lat, PIPS_lon, PIPS_alt = pipsio.get_PIPS_loc(GPS_stats, GPS_lats, GPS_lons, GPS_alts)\n",
    "PIPS_loc_str = parsivel_combined_ds.location\n",
    "PIPS_lat, PIPS_lon, PIPS_alt = list(map(np.float, PIPS_loc_str.strip('()').split(',')))\n",
    "PIPS_rad_loc = radar.get_PIPS_loc_relative_to_radar((PIPS_lat, PIPS_lon), radar_dict['radarsweeplist'][0])\n",
    "print(PIPS_rad_loc)"
   ]
  },
  {
   "cell_type": "code",
   "execution_count": null,
   "metadata": {
    "ExecuteTime": {
     "end_time": "2020-02-26T19:51:38.578608Z",
     "start_time": "2020-02-26T19:51:38.336456Z"
    },
    "scrolled": true
   },
   "outputs": [],
   "source": [
    "print(radar_dict['radarsweeplist'][0].info())"
   ]
  },
  {
   "cell_type": "code",
   "execution_count": null,
   "metadata": {
    "ExecuteTime": {
     "end_time": "2020-02-26T21:37:37.655228Z",
     "start_time": "2020-02-26T21:37:30.910707Z"
    },
    "scrolled": false
   },
   "outputs": [],
   "source": [
    "import pyart\n",
    "import cartopy.crs as ccrs\n",
    "\n",
    "for radar_obj in radar_dict['radarsweeplist'][:1]:\n",
    "    \n",
    "    xrad, yrad, zrad = radar_obj.get_gate_x_y_z(0)\n",
    "    distance = np.sqrt((PIPS_rad_loc[0] - xrad)**2. + (PIPS_rad_loc[1] - yrad)**2.)\n",
    "    theta_index, range_index = np.unravel_index(distance.argmin(), distance.shape)\n",
    "\n",
    "    print(theta_index, range_index)\n",
    "\n",
    "    display = pyart.graph.RadarMapDisplay(radar_obj)\n",
    "    fig = plt.figure(figsize=(10, 8))\n",
    "\n",
    "    projection = ccrs.LambertConformal(central_latitude=radar_obj.latitude['data'][0],\n",
    "                                       central_longitude=radar_obj.longitude['data'][0])\n",
    "    \n",
    "    # Get bounds relative to PIPS location\n",
    "    xmin = PIPS_rad_loc[0] - 10000.\n",
    "    xmax = PIPS_rad_loc[0] + 10000.\n",
    "    ymin = PIPS_rad_loc[1] - 10000.\n",
    "    ymax = PIPS_rad_loc[1] + 10000.\n",
    "    # Convert to lat/lon bounds\n",
    "    \n",
    "    print(xmin, xmax, ymin, ymax)\n",
    "    \n",
    "#     projection = ccrs.LambertConformal(central_latitude=PIPS_lat,\n",
    "#                                        central_longitude=PIPS_lon)\n",
    "    # plot reflectivity\n",
    "    ax = fig.add_subplot(111)\n",
    "    print(\"Time: \", radar_obj.metadata['start_time'])\n",
    "    print(\"Elevation: \", radar_obj.elevation['data'][-1])\n",
    "    display.plot_ppi_map('REF', 0, title='dBZ', cmap='pyart_HomeyerRainbow',\n",
    "                         vmin=0, vmax=60, colorbar_label='', ax=ax, resolution='10m', projection=projection,\n",
    "                         fig=fig)\n",
    "                         # min_lon=-88., max_lon=-86., min_lat=40., max_lat=41.)\n",
    "    # plot ZDR\n",
    "    \n",
    "#     display.plot('ZDR', 0, title='ZDR',\n",
    "#                  vmin=0, vmax=6, colorbar_label='', ax=ax)\n",
    "    display.plot_range_ring(radar_obj.range['data'][-1]/1000., ax=ax)\n",
    "    #display.set_limits(xlim=(-250, 250), ylim=(-250, 250))\n",
    "    #display.set_limits(xlim=(-75, -55), ylim=(75, 95), ax=ax)\n",
    "    display.plot_point(PIPS_lon, PIPS_lat, 'r*', ms=20)\n",
    "    display.ax.set_extent([xmin, xmax, ymin, ymax], crs=projection)\n",
    "    #ax.plot(PIPS_rad_loc[0]/1000., PIPS_rad_loc[1]/1000., 'r*', ms=20)\n",
    "    #ax.plot(xrad[theta_index, range_index]/1000., yrad[theta_index, range_index]/1000., 'rx')\n",
    "    #ax.contourf(xrad / 1000., yrad / 1000., distance)\n",
    "    #ax.text(PIPS_rad_loc[0] / 1000. - 5., PIPS_rad_loc[1] / 1000., 'PIPS1A', fontsize=10, bbox=dict(facecolor='white', alpha=0.5))\n",
    "    plt.show()"
   ]
  },
  {
   "cell_type": "code",
   "execution_count": null,
   "metadata": {
    "ExecuteTime": {
     "end_time": "2020-02-26T22:42:48.847939Z",
     "start_time": "2020-02-26T22:42:48.597881Z"
    },
    "scrolled": false
   },
   "outputs": [],
   "source": [
    "radar_obj = radar_dict['radarsweeplist'][0]\n",
    "print(radar_obj.info())"
   ]
  },
  {
   "cell_type": "code",
   "execution_count": null,
   "metadata": {},
   "outputs": [],
   "source": []
  }
 ],
 "metadata": {
  "anaconda-cloud": {},
  "hide_input": false,
  "kernelspec": {
   "display_name": "Python [conda env:pyPIPS]",
   "language": "python",
   "name": "conda-env-pyPIPS-py"
  },
  "language_info": {
   "codemirror_mode": {
    "name": "ipython",
    "version": 3
   },
   "file_extension": ".py",
   "mimetype": "text/x-python",
   "name": "python",
   "nbconvert_exporter": "python",
   "pygments_lexer": "ipython3",
   "version": "3.7.6"
  },
  "toc": {
   "base_numbering": 1,
   "nav_menu": {},
   "number_sections": true,
   "sideBar": true,
   "skip_h1_title": false,
   "title_cell": "Table of Contents",
   "title_sidebar": "Contents",
   "toc_cell": false,
   "toc_position": {},
   "toc_section_display": true,
   "toc_window_display": false
  },
  "varInspector": {
   "cols": {
    "lenName": 16,
    "lenType": 16,
    "lenVar": 40
   },
   "kernels_config": {
    "python": {
     "delete_cmd_postfix": "",
     "delete_cmd_prefix": "del ",
     "library": "var_list.py",
     "varRefreshCmd": "print(var_dic_list())"
    },
    "r": {
     "delete_cmd_postfix": ") ",
     "delete_cmd_prefix": "rm(",
     "library": "var_list.r",
     "varRefreshCmd": "cat(var_dic_list()) "
    }
   },
   "types_to_exclude": [
    "module",
    "function",
    "builtin_function_or_method",
    "instance",
    "_Feature"
   ],
   "window_display": false
  }
 },
 "nbformat": 4,
 "nbformat_minor": 2
}
