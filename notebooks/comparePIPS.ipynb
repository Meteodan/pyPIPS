{
 "cells": [
  {
   "cell_type": "code",
   "execution_count": 1,
   "metadata": {
    "collapsed": false
   },
   "outputs": [
    {
     "name": "stdout",
     "output_type": "stream",
     "text": [
      "\n",
      "## You are using the Python ARM Radar Toolkit (Py-ART), an open source\n",
      "## library for working with weather radar data.\n",
      "##\n",
      "## If you use this software to prepare a publication, please cite:\n",
      "##\n",
      "##     JJ Helmus and SM Collis, JORS 2016, doi: 10.5334/jors.119 \n"
     ]
    }
   ],
   "source": [
    "import numpy as N\n",
    "import matplotlib\n",
    "import matplotlib.pyplot as plt\n",
    "import matplotlib.cm as cm\n",
    "from datetime import datetime,timedelta\n",
    "import pytz as pytz\n",
    "import sys\n",
    "import os\n",
    "nb_dir = os.path.split(os.getcwd())[0]\n",
    "if nb_dir not in sys.path:\n",
    "    sys.path.append(nb_dir)\n",
    "import modules.thermolib as thermo\n",
    "import modules.DSDlib as dsd\n",
    "import modules.disdrometer_module as dis\n",
    "import pandas as pd\n",
    "import glob"
   ]
  },
  {
   "cell_type": "code",
   "execution_count": 2,
   "metadata": {
    "collapsed": false
   },
   "outputs": [
    {
     "name": "stdout",
     "output_type": "stream",
     "text": [
      "['/Users/ddawson/Dropbox/PIPS_data/processed/061416_061616/PIPS_1A_061416_061616_D1.txt', '/Users/ddawson/Dropbox/PIPS_data/processed/061416_061616/PIPS_1B_061416_061616_D1.txt', '/Users/ddawson/Dropbox/PIPS_data/processed/061416_061616/PIPS_2A_061416_061616_D1.txt', '/Users/ddawson/Dropbox/PIPS_data/processed/061416_061616/PIPS_2B_061416_061616_D1.txt']\n"
     ]
    }
   ],
   "source": [
    "dis_dir = '/Users/ddawson/Dropbox/PIPS_data/processed/061416_061616/'\n",
    "dis_files = glob.glob(dis_dir+'*.txt')\n",
    "print dis_files"
   ]
  },
  {
   "cell_type": "code",
   "execution_count": null,
   "metadata": {
    "collapsed": false
   },
   "outputs": [
    {
     "name": "stdout",
     "output_type": "stream",
     "text": [
      "140616 133028\n",
      "2016-06-14 13:30:28\n",
      "2016 6 14 13 30 28\n",
      "2016-06-14 13:30:28 2016-06-14 13:30:28\n",
      "GPS Offset 0:00:00\n",
      "Requested DSD interval: 10.0. Actual DSD interval: 10.0\n",
      "140616 133628\n",
      "2016-06-14 13:36:28\n",
      "2016 6 14 13 36 28\n",
      "2016-06-14 13:36:28 2016-06-14 13:36:28\n",
      "GPS Offset 0:00:00\n",
      "Requested DSD interval: 10.0. Actual DSD interval: 10.0\n",
      "140616 134357\n",
      "2016-06-14 13:43:57\n",
      "2016 6 14 13 43 57\n",
      "2016-06-14 13:43:57 2016-06-14 13:43:57\n",
      "GPS Offset 0:00:00\n",
      "Requested DSD interval: 10.0. Actual DSD interval: 10.0\n",
      "140616 134834\n",
      "2016-06-14 13:48:34\n",
      "2016 6 14 13 48 34\n",
      "2016-06-14 13:48:34 2016-06-14 13:48:34\n",
      "GPS Offset 0:00:00\n"
     ]
    }
   ],
   "source": [
    "fasttemps_series_list = []\n",
    "for dis_file in dis_files:\n",
    "    datetimesUTC,pdatetimesUTC,flaggedtimes,intensities,preciptots,reflectivities,pcounts,pcounts2, \\\n",
    "           sensortemps,concentrations,onedrop_concentrations,countsMatrix,windspds,winddirrels,winddirabss, \\\n",
    "        winddiags,fasttemps,slowtemps,dewpoints,RHs_derived,RHs,pressures,compass_dirs,    \\\n",
    "        GPS_lats,GPS_lons,GPS_stats,GPS_alts,voltages,DSD_interval,DSD_intervalstr,DSD_index = dis.readPIPS(dis_file,rainonlyqc=False,DSD_interval=10.0)\n",
    "\n",
    "    DSD_interval_td = timedelta(seconds=DSD_interval)\n",
    "    DSD_halfinterval_td = timedelta(seconds=DSD_interval/2.)\n",
    "\n",
    "    # Create a pandas series from the fasttemps\n",
    "    \n",
    "    fasttemps_series = pd.Series(fasttemps,index=datetimesUTC)\n",
    "    fasttemps_series_list.append(fasttemps_series)\n",
    "\n",
    "# Now, join the separate series into a single Dataframe, using only the common times for each.\n",
    "\n",
    "fasttemps_df = pd.concat(fasttemps_series_list,join='inner',axis=1)\n",
    "print fasttemps_df"
   ]
  },
  {
   "cell_type": "code",
   "execution_count": null,
   "metadata": {
    "collapsed": true
   },
   "outputs": [],
   "source": [
    "# Scratch code below, don't execute!\n",
    "    \n",
    "    # Convert to numpy arrays\n",
    "    windspds = N.array(windspds)\n",
    "    winddirrels = N.array(winddirrels)\n",
    "    winddirabss = N.array(winddirabss)\n",
    "    fasttemps = N.array(fasttemps)\n",
    "    slowtemps = N.array(slowtemps)\n",
    "    dewpoints = N.array(dewpoints)\n",
    "    RHs_derived = N.array(RHs_derived)\n",
    "    RHs = N.array(RHs)\n",
    "    pressures = N.array(pressures)\n",
    "    pcounts = N.array(pcounts)\n",
    "    pcounts2 = N.array(pcounts2)\n",
    "    intensities = N.array(intensities)\n",
    "\n",
    "    Nc_bin = concentrations.T\n",
    "    dropperbin = onedrop_concentrations.T\n",
    "\n",
    "    logNc_bin = N.ma.log10(Nc_bin)\n",
    "    logNc_bin = N.ma.masked_where(Nc_bin < dropperbin, logNc_bin)\n",
    "\n",
    "    # Compute potential temperature, water vapor mixing ratio, and density\n",
    "    pt = thermo.caltheta(pressures*100.,slowtemps+273.15)\n",
    "    qv = thermo.calqv(RHs/100.,pressures*100.,slowtemps+273.15)\n",
    "    rho=thermo.calrho(pressures*100.,pt,qv)"
   ]
  },
  {
   "cell_type": "code",
   "execution_count": null,
   "metadata": {
    "collapsed": true
   },
   "outputs": [],
   "source": []
  }
 ],
 "metadata": {
  "kernelspec": {
   "display_name": "Python 2",
   "language": "python",
   "name": "python2"
  },
  "language_info": {
   "codemirror_mode": {
    "name": "ipython",
    "version": 2
   },
   "file_extension": ".py",
   "mimetype": "text/x-python",
   "name": "python",
   "nbconvert_exporter": "python",
   "pygments_lexer": "ipython2",
   "version": "2.7.12"
  }
 },
 "nbformat": 4,
 "nbformat_minor": 2
}
